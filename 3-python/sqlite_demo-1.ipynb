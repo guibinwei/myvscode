{
 "cells": [
  {
   "cell_type": "code",
   "execution_count": 1,
   "metadata": {},
   "outputs": [],
   "source": [
    "import sqlite3\n",
    "conn = sqlite3.connect('test-2023-10-24-6.db')"
   ]
  },
  {
   "cell_type": "code",
   "execution_count": 2,
   "metadata": {},
   "outputs": [],
   "source": [
    "cur = conn.cursor()"
   ]
  },
  {
   "cell_type": "code",
   "execution_count": 3,
   "metadata": {},
   "outputs": [
    {
     "data": {
      "text/plain": [
       "<sqlite3.Cursor at 0x1c13849cac0>"
      ]
     },
     "execution_count": 3,
     "metadata": {},
     "output_type": "execute_result"
    }
   ],
   "source": [
    "sql_text_1 = '''CREATE TABLE scores \n",
    "           (姓名 TEXT, \n",
    "            班级 TEXT, \n",
    "            性别 TEXT, \n",
    "            语文 NUMBER, \n",
    "            数学 NUMBER, \n",
    "            英语 NUMBER);''' \n",
    "# 执行sql语句 \n",
    "cur.execute(sql_text_1)"
   ]
  },
  {
   "cell_type": "code",
   "execution_count": 4,
   "metadata": {},
   "outputs": [
    {
     "data": {
      "text/plain": [
       "<sqlite3.Cursor at 0x1c13849cac0>"
      ]
     },
     "execution_count": 4,
     "metadata": {},
     "output_type": "execute_result"
    }
   ],
   "source": [
    "# 插入单条数据 \n",
    "sql_text_2 = \"INSERT INTO scores VALUES('A', '一班', '男', 96, 94, 98)\" \n",
    "cur.execute(sql_text_2)"
   ]
  },
  {
   "cell_type": "code",
   "execution_count": 5,
   "metadata": {},
   "outputs": [
    {
     "data": {
      "text/plain": [
       "<sqlite3.Cursor at 0x1c13849cac0>"
      ]
     },
     "execution_count": 5,
     "metadata": {},
     "output_type": "execute_result"
    }
   ],
   "source": [
    "data = [('B', '一班', '女', 78, 87, 85), \n",
    "        ('C', '一班', '男', 98, 84, 90), \n",
    "        ] \n",
    "cur.executemany('INSERT INTO scores VALUES (?,?,?,?,?,?)', data) \n",
    "# 连接完数据库并不会自动提交，所以需要手动 commit 你的改动conn.commit()"
   ]
  },
  {
   "cell_type": "code",
   "execution_count": 6,
   "metadata": {},
   "outputs": [
    {
     "name": "stdout",
     "output_type": "stream",
     "text": [
      "<class 'list'>\n",
      "[('A', '一班', '男', 96, 94, 98)]\n"
     ]
    }
   ],
   "source": [
    "# 查询数学成绩大于90分的学生 \n",
    "sql_text_3 = \"SELECT * FROM scores WHERE 数学>90\" \n",
    "cur.execute(sql_text_3) \n",
    "# 获取查询结果 \n",
    "rs=cur.fetchall()\n",
    "print(type(rs))\n",
    "print (rs)"
   ]
  },
  {
   "cell_type": "code",
   "execution_count": 8,
   "metadata": {},
   "outputs": [
    {
     "name": "stdout",
     "output_type": "stream",
     "text": [
      "('A', '一班', '男', 96, 94, 98)\n"
     ]
    }
   ],
   "source": [
    "print(rs[0])"
   ]
  },
  {
   "cell_type": "code",
   "execution_count": 10,
   "metadata": {},
   "outputs": [
    {
     "name": "stdout",
     "output_type": "stream",
     "text": [
      "ouput: ('A', '一班', '男', 96, 94, 98) -- 一班\n"
     ]
    }
   ],
   "source": [
    "rsa=rs[0]\n",
    "rsb=rsa[1]\n",
    "print(\"ouput:\", rsa, \"--\",rsb)"
   ]
  },
  {
   "cell_type": "code",
   "execution_count": 11,
   "metadata": {},
   "outputs": [],
   "source": [
    "# 提交改动的方法 \n",
    "conn.commit()"
   ]
  },
  {
   "cell_type": "code",
   "execution_count": 12,
   "metadata": {},
   "outputs": [],
   "source": [
    "# 关闭游标 \n",
    "cur.close() \n",
    "# 关闭连接 \n",
    "conn.close()"
   ]
  }
 ],
 "metadata": {
  "kernelspec": {
   "display_name": "Python 3",
   "language": "python",
   "name": "python3"
  },
  "language_info": {
   "codemirror_mode": {
    "name": "ipython",
    "version": 3
   },
   "file_extension": ".py",
   "mimetype": "text/x-python",
   "name": "python",
   "nbconvert_exporter": "python",
   "pygments_lexer": "ipython3",
   "version": "3.10.9"
  }
 },
 "nbformat": 4,
 "nbformat_minor": 2
}
