{
 "cells": [
  {
   "cell_type": "code",
   "execution_count": 1,
   "metadata": {},
   "outputs": [
    {
     "name": "stdout",
     "output_type": "stream",
     "text": [
      "Hello 5\n",
      "Hello, 5\n"
     ]
    }
   ],
   "source": [
    "b=5\n",
    "print('Hello' , b )\n",
    "print(f'Hello, {b}')"
   ]
  },
  {
   "cell_type": "code",
   "execution_count": 4,
   "metadata": {},
   "outputs": [
    {
     "name": "stdout",
     "output_type": "stream",
     "text": [
      "1\n",
      "Hello range(0, 4)\n"
     ]
    }
   ],
   "source": [
    "a=range(0,4)\n",
    "print(a[1])\n",
    "print('Hello' , a )"
   ]
  },
  {
   "cell_type": "code",
   "execution_count": 5,
   "metadata": {},
   "outputs": [
    {
     "name": "stdout",
     "output_type": "stream",
     "text": [
      "{0: 0, 1: 0, 2: 0, 3: 0}\n"
     ]
    }
   ],
   "source": [
    "res = {0:0,1:0,2:0,3:0}\n",
    "print(res)"
   ]
  },
  {
   "cell_type": "code",
   "execution_count": 7,
   "metadata": {},
   "outputs": [
    {
     "name": "stdout",
     "output_type": "stream",
     "text": [
      "{0: 0, 1: 0, 2: 0, 3: 0, 4: 0, 5: 0, 6: 0, 7: 0, 8: 0, 9: 0, 10: 0, 11: 0, 12: 0, 13: 0, 14: 0, 15: 0}\n"
     ]
    }
   ],
   "source": [
    "stgs = {k:0 for k in range(0,16)}\n",
    "print(stgs)"
   ]
  },
  {
   "cell_type": "code",
   "execution_count": 1,
   "metadata": {},
   "outputs": [
    {
     "name": "stdout",
     "output_type": "stream",
     "text": [
      "california\n",
      "100000\n"
     ]
    }
   ],
   "source": [
    "class house():\n",
    "    pass\n",
    "\n",
    "house1 = house()\n",
    "house2 = house()\n",
    "\n",
    "house1.address = 1234;\n",
    "house1.state = \"california\"\n",
    "house1.Alarm = False;\n",
    "house1.price = 300000;\n",
    "\n",
    "house2.address = 5678;\n",
    "house2.state = \"texas\"\n",
    "house2.Alarm = True;\n",
    "house2.price = 100000;\n",
    "\n",
    "print(house1.state)\n",
    "print(house2.price)"
   ]
  },
  {
   "cell_type": "code",
   "execution_count": 2,
   "metadata": {},
   "outputs": [
    {
     "name": "stdout",
     "output_type": "stream",
     "text": [
      "October 24, 2023\n"
     ]
    }
   ],
   "source": [
    "import datetime\n",
    "today = datetime.datetime.today()\n",
    "print(f\"{today:%B %d, %Y}\")"
   ]
  }
 ],
 "metadata": {
  "kernelspec": {
   "display_name": "Python 3",
   "language": "python",
   "name": "python3"
  },
  "language_info": {
   "codemirror_mode": {
    "name": "ipython",
    "version": 3
   },
   "file_extension": ".py",
   "mimetype": "text/x-python",
   "name": "python",
   "nbconvert_exporter": "python",
   "pygments_lexer": "ipython3",
   "version": "3.10.9"
  }
 },
 "nbformat": 4,
 "nbformat_minor": 2
}
