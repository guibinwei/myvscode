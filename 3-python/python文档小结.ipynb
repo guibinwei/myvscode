{
 "cells": [
  {
   "cell_type": "code",
   "execution_count": null,
   "metadata": {},
   "outputs": [],
   "source": [
    "'''\n",
    "python爬虫演示\n",
    "暂时还没有开始。参见 python爬虫.doc 中的 Python中的网络爬虫 \n",
    "'''"
   ]
  }
 ],
 "metadata": {
  "language_info": {
   "name": "python"
  }
 },
 "nbformat": 4,
 "nbformat_minor": 2
}
