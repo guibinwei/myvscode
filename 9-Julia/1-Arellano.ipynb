{
 "cells": [
  {
   "cell_type": "code",
   "execution_count": 1,
   "metadata": {},
   "outputs": [],
   "source": [
    "#=\n",
    "2024-05-15\n",
    "演示 阿雷拉诺 第二章 的 几个公式。主要涉及 乔列斯基分解 以及 前向后向 离差\n",
    "创建于2024-05-15。修改于2024-06-11。中间有两个改进：1、在.ipynb文件中引入markdown，2、修改注释的字体。不要斜体，颜色不要太浅。\n",
    "2024-06-11重新发现在.ipynb中弃用markdown的原因。在.ipynb中markdown的编辑和显示是两种状态，需要切换，不如.ipynb代码块。是一种状态，可直接阅读和修改。\n",
    "=#"
   ]
  },
  {
   "cell_type": "code",
   "execution_count": 2,
   "metadata": {},
   "outputs": [
    {
     "data": {
      "text/plain": [
       "@myshow (macro with 1 method)"
      ]
     },
     "metadata": {},
     "output_type": "display_data"
    }
   ],
   "source": [
    "#=\n",
    "下面代码生成 myshow 宏体\n",
    "=#\n",
    "\n",
    "macro myshow(exs...)\n",
    "    blk = Expr(:block)  #此处使用 头部符号是 block的表达式\n",
    "    for ex in exs\n",
    "        push!(blk.args, :(println($(sprint(Base.show_unquoted,ex)*\" = \"))))\n",
    "        push!(blk.args, :(show(stdout, \"text/plain\", begin value=$(esc(ex)) end)))\n",
    "        push!(blk.args, :(println()))\n",
    "    end\n",
    "    isempty(exs) || push!(blk.args, :value)\n",
    "    return blk\n",
    "end\n"
   ]
  },
  {
   "cell_type": "code",
   "execution_count": 3,
   "metadata": {},
   "outputs": [
    {
     "name": "stdout",
     "output_type": "stream",
     "text": [
      "K2 = \n",
      "2×3 Matrix{Float64}:\n",
      " -1.0   0.0  0.0\n",
      "  0.0  -1.0  0.0\n",
      "I2 = \n",
      "2×3 Matrix{Float64}:\n",
      " 0.0  1.0  0.0\n",
      " 0.0  0.0  1.0\n",
      "D = \n",
      "2×3 Matrix{Float64}:\n",
      " -1.0   1.0  0.0\n",
      "  0.0  -1.0  1.0\n",
      "V = \n",
      "2×2 Matrix{Float64}:\n",
      "  2.0  -1.0\n",
      " -1.0   2.0\n"
     ]
    },
    {
     "data": {
      "text/plain": [
       "2×2 Matrix{Float64}:\n",
       "  2.0  -1.0\n",
       " -1.0   2.0"
      ]
     },
     "metadata": {},
     "output_type": "display_data"
    }
   ],
   "source": [
    "#=\n",
    "下面代码块生成D矩阵=K2+I2\n",
    "=#\n",
    "using LinearAlgebra  #引入包裹\n",
    "n=2  #T=3期\n",
    "#v = fill(-1, n)  #元素为 -1 的向量\n",
    "#K = Diagonal(v)   #此处其实是负的单位矩阵，所以代码优化为下面 K=-I\n",
    "w=ones(n)\n",
    "I = Diagonal(w)\n",
    "K=-I\n",
    "u=zeros(n)\n",
    "K2=hcat(K,u)\n",
    "I2=hcat(u,I)\n",
    "D=K2+I2  \n",
    "V=D*D'\n",
    "@myshow(K2, I2, D, V)"
   ]
  },
  {
   "cell_type": "code",
   "execution_count": 4,
   "metadata": {},
   "outputs": [
    {
     "name": "stdout",
     "output_type": "stream",
     "text": [
      "L1 = \n",
      "Cholesky{Float64, Matrix{Float64}}\n",
      "U factor:\n",
      "2×2 UpperTriangular{Float64, Matrix{Float64}}:\n",
      " 1.41421  -0.707107\n",
      "  ⋅        1.22474\n",
      "B1 = \n",
      "Cholesky{Float64, Matrix{Float64}}\n",
      "U factor:\n",
      "2×2 UpperTriangular{Float64, Matrix{Float64}}:\n",
      " 0.816497  0.408248\n",
      "  ⋅        0.707107\n"
     ]
    },
    {
     "data": {
      "text/plain": [
       "Cholesky{Float64, Matrix{Float64}}\n",
       "U factor:\n",
       "2×2 UpperTriangular{Float64, Matrix{Float64}}:\n",
       " 0.816497  0.408248\n",
       "  ⋅        0.707107"
      ]
     },
     "metadata": {},
     "output_type": "display_data"
    }
   ],
   "source": [
    "#=\n",
    "下面的代码块生成V和V-1的乔列斯基分解\n",
    "=#\n",
    "L1=cholesky(V)\n",
    "V1=inv(V)\n",
    "B1=cholesky(V1)\n",
    "\n",
    "@myshow(L1, B1)"
   ]
  },
  {
   "cell_type": "code",
   "execution_count": 5,
   "metadata": {},
   "outputs": [
    {
     "name": "stdout",
     "output_type": "stream",
     "text": [
      "V = \n",
      "2×2 Matrix{Float64}:\n",
      "  2.0  -1.0\n",
      " -1.0   2.0\n",
      "V1 = \n",
      "2×2 Matrix{Float64}:\n",
      " 0.666667  0.333333\n",
      " 0.333333  0.666667\n",
      "I0 = \n",
      "2×2 Matrix{Float64}:\n",
      "  1.0          1.11022e-16\n",
      " -1.11022e-16  1.0\n"
     ]
    },
    {
     "data": {
      "text/plain": [
       "2×2 Matrix{Float64}:\n",
       "  1.0          1.11022e-16\n",
       " -1.11022e-16  1.0"
      ]
     },
     "metadata": {},
     "output_type": "display_data"
    }
   ],
   "source": [
    "#=\n",
    "检验乔列斯基分解\n",
    "V1表示逆矩阵, L1表示L的转置  在 不至于引起混淆的情况下，用1表示转置或者逆矩阵\n",
    "V=LL', V-1=BB'\n",
    "=#\n",
    "\n",
    "L1 = [2^0.5  -1/2^0.5; 0  3/6^0.5]\n",
    "B1= [2/6^0.5  1/6^0.5; 0  1/2^0.5]\n",
    "L=L1'\n",
    "B=B1'\n",
    "V=L*L'\n",
    "V1=B*B'\n",
    "I0=V*V1\n",
    "@myshow(V, V1, I0)"
   ]
  },
  {
   "cell_type": "code",
   "execution_count": 6,
   "metadata": {},
   "outputs": [
    {
     "name": "stdout",
     "output_type": "stream",
     "text": [
      "A = \n",
      "2×3 Matrix{Float64}:\n",
      " -0.816497   0.408248  0.408248\n",
      "  0.0       -0.707107  0.707107\n",
      "Ap = \n",
      "2×3 Matrix{Float64}:\n",
      " 1.0  -0.5  -0.5\n",
      " 0.0   1.0  -1.0\n",
      "A2 = \n",
      "2×3 Matrix{Float64}:\n",
      " 0.816497  -0.408248  -0.408248\n",
      " 0.0        0.707107  -0.707107\n"
     ]
    },
    {
     "data": {
      "text/plain": [
       "2×3 Matrix{Float64}:\n",
       " 0.816497  -0.408248  -0.408248\n",
       " 0.0        0.707107  -0.707107"
      ]
     },
     "metadata": {},
     "output_type": "display_data"
    }
   ],
   "source": [
    "#=\n",
    "下面的代码生成A+矩阵 A=H2=(DD')^-0.5 * D =B' * D = R * A+ =A2\n",
    "=#\n",
    "\n",
    "A=B'*D\n",
    "r=[(2/3)^0.5;(1/2)^0.5]\n",
    "R=Diagonal(r)\n",
    "\n",
    "I20=hcat(I,u)\n",
    "A2=[-0.5   -0.5; 0  -1]\n",
    "A20=hcat(u,A2)\n",
    "Ap=I20 + A20\n",
    "A2=R*Ap\n",
    "@myshow(A, Ap, A2)"
   ]
  },
  {
   "cell_type": "code",
   "execution_count": 7,
   "metadata": {},
   "outputs": [
    {
     "name": "stdout",
     "output_type": "stream",
     "text": [
      "A = \n",
      "2×3 Matrix{Float64}:\n",
      " -0.816497   0.408248  0.408248\n",
      "  0.0       -0.707107  0.707107\n",
      "Am = \n",
      "2×3 Matrix{Float64}:\n",
      " -1.0   1.0  0.0\n",
      " -0.5  -0.5  1.0\n",
      "A3 = \n",
      "2×3 Matrix{Float64}:\n",
      " -0.707107   0.707107  0.0\n",
      " -0.408248  -0.408248  0.816497\n"
     ]
    },
    {
     "data": {
      "text/plain": [
       "2×3 Matrix{Float64}:\n",
       " -0.707107   0.707107  0.0\n",
       " -0.408248  -0.408248  0.816497"
      ]
     },
     "metadata": {},
     "output_type": "display_data"
    }
   ],
   "source": [
    "#=\n",
    "下面演示后向正交离差\n",
    "=#\n",
    "r2=[(1/2)^0.5; (2/3)^0.5]\n",
    "R2=Diagonal(r2)\n",
    "\n",
    "#I2=hcat(u,I)\n",
    "A3=[-1  0; -0.5   -0.5]\n",
    "A30=hcat(A3, u)\n",
    "Am=I2 + A30   #Ap, p=plus + , Am, m=minus -\n",
    "A3=R2*Am\n",
    "@myshow(A, Am, A3)"
   ]
  },
  {
   "cell_type": "code",
   "execution_count": 8,
   "metadata": {},
   "outputs": [
    {
     "name": "stdout",
     "output_type": "stream",
     "text": [
      "T1 = \n",
      "2×2 adjoint(::Matrix{Float64}) with eltype Float64:\n",
      " 0.707107  0.0\n",
      " 0.408248  0.816497\n",
      "A3 = \n",
      "2×3 Matrix{Float64}:\n",
      " -0.707107   0.707107  0.0\n",
      " -0.408248  -0.408248  0.816497\n",
      "A4 = \n",
      "2×3 Matrix{Float64}:\n",
      " -0.707107   0.707107  0.0\n",
      " -0.408248  -0.408248  0.816497\n"
     ]
    },
    {
     "data": {
      "text/plain": [
       "2×3 Matrix{Float64}:\n",
       " -0.707107   0.707107  0.0\n",
       " -0.408248  -0.408248  0.816497"
      ]
     },
     "metadata": {},
     "output_type": "display_data"
    }
   ],
   "source": [
    "#=\n",
    "根据交叉对应。V-1=TT', V=LL', T=(L-1)', T'=L-1\n",
    "=#\n",
    "T1=inv(L)\n",
    "A4=T1*D\n",
    "@myshow(T1, A3, A4)"
   ]
  },
  {
   "cell_type": "code",
   "execution_count": null,
   "metadata": {},
   "outputs": [],
   "source": [
    "#last"
   ]
  }
 ],
 "metadata": {
  "kernelspec": {
   "display_name": "Julia 1.11.0",
   "language": "julia",
   "name": "julia-1.11"
  },
  "language_info": {
   "file_extension": ".jl",
   "mimetype": "application/julia",
   "name": "julia",
   "version": "1.11.0"
  }
 },
 "nbformat": 4,
 "nbformat_minor": 2
}
