{
 "cells": [
  {
   "cell_type": "code",
   "execution_count": 5,
   "metadata": {},
   "outputs": [],
   "source": [
    "using LinearAlgebra\n",
    "using Random\n",
    "using BenchmarkTools\n",
    "using Statistics\n",
    "using StaticArrays"
   ]
  },
  {
   "cell_type": "code",
   "execution_count": 1,
   "metadata": {},
   "outputs": [],
   "source": [
    "using Polyester"
   ]
  },
  {
   "cell_type": "code",
   "execution_count": 2,
   "metadata": {},
   "outputs": [
    {
     "data": {
      "text/plain": [
       "4"
      ]
     },
     "metadata": {},
     "output_type": "display_data"
    }
   ],
   "source": [
    "Threads.nthreads()"
   ]
  },
  {
   "cell_type": "code",
   "execution_count": 2,
   "metadata": {},
   "outputs": [
    {
     "data": {
      "text/plain": [
       "myloop7 (generic function with 1 method)"
      ]
     },
     "metadata": {},
     "output_type": "display_data"
    }
   ],
   "source": [
    "function myloop7(;L = 100,theta = 10, alpha = 0.3, b = 1.2, K = 1, T = 10^3, H = 10)\n",
    "    #Random.seed!(0)\n",
    "    \n",
    "    M=@SMatrix [1 0; b  0]\n",
    "\n",
    "    strmtx = rand(0:1,L,L)\n",
    "    paymtx = zeros(L,L)\n",
    "    strselct = zeros(L,L)\n",
    "    payselct =zeros(L,L)\n",
    "\n",
    "    A_mtx =  zeros(L,L) #初始化压力矩阵A  \n",
    "    A_self =  zeros(L,L)  #内心-伦理\n",
    "    A_peer =  zeros(L,L)   #经济利润\n",
    "\n",
    "    Fc = zeros(T+1)  #合作比例。有两个参数T+1, 1，则为 T+1 * 1 的列向量\n",
    "    overstress = zeros(T+1)\n",
    "    Fc[1] = sum(strmtx)/L^2\n",
    "\n",
    "    for t = 1:T\n",
    "        #4个邻居的策略\n",
    "        strneigh = circshift(strmtx, 1) + circshift(strmtx, -1) + circshift(strmtx, (0, 1)) + circshift(strmtx, (0, -1))\n",
    "        A_self +=  (strneigh .< 2.5)\n",
    "\n",
    "        for i = 1:L\n",
    "            for j = 1:L\n",
    "                paymtx[i,j] =(@views [strmtx[i,j] 1-strmtx[i,j]] * M * [strneigh[i,j]; 4-strneigh[i,j]])[1]\n",
    "            end\n",
    "        end\n",
    "\n",
    "          \n",
    "        payave = (circshift(paymtx, 1)+circshift(paymtx, -1)+circshift(paymtx, (0, 1))+circshift(paymtx, (0, -1)))./4\n",
    "       \n",
    "        A_peer += (paymtx .< payave)\n",
    "\n",
    "        A_mtx = (1-alpha).*A_self + alpha.*A_peer\n",
    "        Agap = max.(theta .- A_mtx, 0)\n",
    "        P1=exp.(-Agap)\n",
    " \n",
    "        #randmtx = @SMatrix rand(1:4,L,L)   #每个个体选择一个邻居\n",
    "        x = ((1,0), (-1,0), (0,1), (0,-1))\n",
    "\n",
    "        for i =1:L\n",
    "            for j = 1:L\n",
    "                nei=rand(1:4,1)[1]\n",
    "                i0=mod(i+x[nei][1]-1, L) +1\n",
    "                j0=mod(j+x[nei][2]-1, L) +1\n",
    "                strselct[i,j] = @views strmtx[i0, j0]\n",
    "                payselct[i,j] = @views paymtx[i0, j0]\n",
    "            end\n",
    "        end\n",
    "        K_A = Agap * K./theta\n",
    "        P2 = 1 ./ (1 .+ exp.((paymtx .-payselct)./K_A))\n",
    "        P2[isnan.(P2)] .= 0.5\n",
    "\n",
    "        P1P2selectmtx = (P1.*P2 .> rand(L,L))\n",
    "\n",
    "        strmtx[P1P2selectmtx.==1] .= strselct[P1P2selectmtx.==1]\n",
    "\n",
    "        A_peer[P1P2selectmtx.==1] .= 0\n",
    "        A_self[P1P2selectmtx.==1] .= 0\n",
    "        Fc[t+1] =sum(strmtx)/L^2\n",
    "        overstress[t+1]= sum(A_mtx .>= (theta+H)) /L^2\n",
    "    end\n",
    "    return Fc, overstress\n",
    "end"
   ]
  },
  {
   "cell_type": "code",
   "execution_count": 3,
   "metadata": {},
   "outputs": [
    {
     "name": "stdout",
     "output_type": "stream",
     "text": [
      "  2.676 s (40086020 allocations: 4.47 GiB)\n"
     ]
    }
   ],
   "source": [
    "@btime myloop7();"
   ]
  },
  {
   "cell_type": "code",
   "execution_count": 4,
   "metadata": {},
   "outputs": [
    {
     "data": {
      "text/plain": [
       "myloop8 (generic function with 1 method)"
      ]
     },
     "metadata": {},
     "output_type": "display_data"
    }
   ],
   "source": [
    "function myloop8(;L = 100,theta = 10, alpha = 0.3, b = 1.2, K = 1, T = 10^3, H = 10)\n",
    "    #Random.seed!(0)\n",
    "    \n",
    "    M=zeros(L,L,4)\n",
    "    M[:,:,1] .=1\n",
    "    M[:,:,3] .= b\n",
    "\n",
    "    Strmtx = rand(0:1,L,L)\n",
    "\n",
    "    A_mtx = zeros(L,L) #初始化压力矩阵A  \n",
    "    A_peer = zeros(L,L)\n",
    "    A_self = zeros(L,L)\n",
    "\n",
    "    Fc = zeros(T+1,1)  #合作比例。有两个参数T+1, 1，则为 T+1 * 1 的列向量\n",
    "    Fc[1] = sum(Strmtx)/L^2\n",
    "    overstress = zeros(T+1,1)\n",
    "\n",
    "    str1=zeros(L,L,4)  #自己\n",
    "    str2=zeros(L,L,4)   #邻居\n",
    "\n",
    "    Strsample = zeros(L,L,4)   #注意此处本来有off，但是下面4个层都没有off，乃取消  #off其实是payoff\n",
    "    payoffsample = zeros(L,L,4)\n",
    "\n",
    "    payoffsampleselct =zeros(L,L)\n",
    "    Strsampleselct =zeros(L,L)\n",
    "\n",
    "    for t = 1:T\n",
    "        #4个邻居的策略\n",
    "        Strsample[:,:,1]= circshift(Strmtx, 1)\n",
    "        Strsample[:,:,2]= circshift(Strmtx, -1)  #下面的邻居\n",
    "        Strsample[:,:,3]= circshift(Strmtx, (0, 1))  #右移一列-左边的邻居\n",
    "        Strsample[:,:,4]= circshift(Strmtx, (0, -1))  #右边的邻居\n",
    "        Strneighbor = dropdims(sum(Strsample,dims=3), dims=3)\n",
    "\n",
    "        str1[:,:,1]=Strmtx\n",
    "        str1[:,:,2]=Strmtx\n",
    "        str1[:,:,3] = 1 .- Strmtx\n",
    "        str1[:,:,4] = 1 .- Strmtx\n",
    "\n",
    "        str2[:,:,1] = Strneighbor\n",
    "        str2[:,:,2] = 4 .- Strneighbor\n",
    "        str2[:,:,3] = Strneighbor\n",
    "        str2[:,:,4] = 4 .- Strneighbor    \n",
    "\n",
    "        payoffmtx = dropdims(sum(str1.*M.*str2,dims=3), dims=3)\n",
    "        \n",
    "        A_self +=  (Strneighbor .< 2.5)\n",
    "\n",
    "        payoffsample[:,:,1]= circshift(payoffmtx, 1)  #行的变动-上下的邻居，首先是下移一行，即上面的邻居\n",
    "        payoffsample[:,:,2]= circshift(payoffmtx, -1)  #下面的邻居\n",
    "        payoffsample[:,:,3]= circshift(payoffmtx, (0, 1))  #右移一列-左边的邻居\n",
    "        payoffsample[:,:,4]= circshift(payoffmtx, (0, -1))  #右边的邻居\n",
    "       \n",
    "        payoff_average = dropdims(sum(payoffsample,dims=3), dims=3)./4\n",
    "\n",
    "        A_peer += (payoffmtx .< payoff_average)\n",
    "\n",
    "        A_mtx = (1-alpha).*A_self + alpha.*A_peer\n",
    "        Agap = max.(theta .- A_mtx, 0)\n",
    "        P1=exp.(-Agap)\n",
    " \n",
    "        randten= zeros(L,L,4)   #每个个体选择一个邻居\n",
    "        randmtx = rand(1:4,L,L)\n",
    "        for i =1:4\n",
    "            randten[:,:,i] = (i.==randmtx)\n",
    "        end\n",
    "    \n",
    "        payoffsampleselct = dropdims(sum(randten .* payoffsample, dims=3), dims=3)\n",
    "        Strsampleselct = dropdims(sum(randten .* Strsample, dims=3), dims=3) \n",
    "\n",
    "        K_A = Agap * K./theta\n",
    "        P2 = 1 ./ (1 .+ exp.((payoffmtx .-payoffsampleselct)./K_A))\n",
    "        P2[isnan.(P2)] .= 0.5\n",
    "\n",
    "        P1P2selectmtx = (P1.*P2 .> rand(L,L))\n",
    "\n",
    "        Strmtx[P1P2selectmtx.==1] .= Strsampleselct[P1P2selectmtx.==1]\n",
    "\n",
    "        A_peer[P1P2selectmtx.==1] .= 0\n",
    "        A_self[P1P2selectmtx.==1] .= 0\n",
    "        Fc[t+1] =sum(Strmtx)/L^2\n",
    "        overstress[t+1]= sum(A_mtx .>= (theta+H)) /L^2\n",
    "    end\n",
    "    return Fc, overstress\n",
    "end"
   ]
  },
  {
   "cell_type": "code",
   "execution_count": 5,
   "metadata": {},
   "outputs": [
    {
     "name": "stdout",
     "output_type": "stream",
     "text": [
      "  1.458 s (162024 allocations: 3.60 GiB)\n"
     ]
    },
    {
     "data": {
      "text/plain": [
       "([0.5008; 0.5008; … ; 0.1969; 0.1981;;], [0.0; 0.0; … ; 0.0017; 0.0014;;])"
      ]
     },
     "metadata": {},
     "output_type": "display_data"
    }
   ],
   "source": [
    "@btime myloop8();"
   ]
  },
  {
   "cell_type": "code",
   "execution_count": 6,
   "metadata": {},
   "outputs": [
    {
     "data": {
      "text/plain": [
       "myloop6 (generic function with 1 method)"
      ]
     },
     "metadata": {},
     "output_type": "display_data"
    }
   ],
   "source": [
    "function myloop6(;L = 100,theta = 10, alpha = 0.3, b = 1.2, K = 1, T = 10^3, H = 10)\n",
    "    #Random.seed!(0)\n",
    "    \n",
    "    M=zeros(L,L,4)\n",
    "    M[:,:,1] .=1\n",
    "    M[:,:,3] .= b\n",
    "\n",
    "    Strmtx = rand(0:1,L,L)\n",
    "\n",
    "    A_mtx = zeros(L,L) #初始化压力矩阵A  \n",
    "    A_peer = zeros(L,L)\n",
    "    A_self = zeros(L,L)\n",
    "\n",
    "    Fc = zeros(T+1,1)  #合作比例。有两个参数T+1, 1，则为 T+1 * 1 的列向量\n",
    "    Fc[1] = sum(Strmtx)/L^2\n",
    "    overstress = zeros(T+1,1)\n",
    "\n",
    "    str1=zeros(L,L,4)  #自己\n",
    "    str2=zeros(L,L,4)   #邻居\n",
    "\n",
    "    Strsample = zeros(L,L,4)   #注意此处本来有off，但是下面4个层都没有off，乃取消\n",
    "    payoffsample = zeros(L,L,4)\n",
    "\n",
    "    payoffsampleselct =zeros(L,L)\n",
    "    Strsampleselct =zeros(L,L)\n",
    "\n",
    "    for t = 1:T\n",
    "        #4个邻居的策略\n",
    "        Strsample[:,:,1]= circshift(Strmtx, 1)\n",
    "        Strsample[:,:,2]= circshift(Strmtx, -1)  #下面的邻居\n",
    "        Strsample[:,:,3]= circshift(Strmtx, (0, 1))  #右移一列-左边的邻居\n",
    "        Strsample[:,:,4]= circshift(Strmtx, (0, -1))  #右边的邻居\n",
    "        Strneighbor = dropdims(sum(Strsample,dims=3), dims=3)\n",
    "\n",
    "        str1[:,:,1]=Strmtx\n",
    "        str1[:,:,2]=Strmtx\n",
    "        str1[:,:,3] = 1 .- Strmtx\n",
    "        str1[:,:,4] = 1 .- Strmtx\n",
    "\n",
    "        str2[:,:,1] = Strneighbor\n",
    "        str2[:,:,2] = 4 .- Strneighbor\n",
    "        str2[:,:,3] = Strneighbor\n",
    "        str2[:,:,4] = 4 .- Strneighbor    \n",
    "\n",
    "        payoffmtx = dropdims(sum(str1.*M.*str2,dims=3), dims=3)\n",
    "        \n",
    "        A_self +=  (Strneighbor .< 2.5)\n",
    "\n",
    "        payoffsample[:,:,1]= circshift(payoffmtx, 1)  #行的变动-上下的邻居，首先是下移一行，即上面的邻居\n",
    "        payoffsample[:,:,2]= circshift(payoffmtx, -1)  #下面的邻居\n",
    "        payoffsample[:,:,3]= circshift(payoffmtx, (0, 1))  #右移一列-左边的邻居\n",
    "        payoffsample[:,:,4]= circshift(payoffmtx, (0, -1))  #右边的邻居\n",
    "       \n",
    "        payoff_average = dropdims(sum(payoffsample,dims=3), dims=3)./4\n",
    "\n",
    "        A_peer += (payoffmtx .< payoff_average)\n",
    "\n",
    "        A_mtx = (1-alpha).*A_self + alpha.*A_peer\n",
    "        Agap = max.(theta .- A_mtx, 0)\n",
    "        P1=exp.(-Agap)\n",
    " \n",
    "        randmtx = rand(1:4,L,L)   #每个个体选择一个邻居\n",
    "\n",
    "        for i =1:L\n",
    "            for j = 1:L\n",
    "                payoffsampleselct[i,j] = payoffsample[i,j,randmtx[i,j]]\n",
    "                Strsampleselct[i,j] = Strsample[i,j,randmtx[i,j]]\n",
    "            end\n",
    "        end\n",
    "        K_A = Agap * K./theta\n",
    "        P2 = 1 ./ (1 .+ exp.((payoffmtx .-payoffsampleselct)./K_A))\n",
    "        P2[isnan.(P2)] .= 0.5\n",
    "\n",
    "        P1P2selectmtx = (P1.*P2 .> rand(L,L))\n",
    "\n",
    "        Strmtx[P1P2selectmtx.==1] .= Strsampleselct[P1P2selectmtx.==1]\n",
    "\n",
    "        A_peer[P1P2selectmtx.==1] .= 0\n",
    "        A_self[P1P2selectmtx.==1] .= 0\n",
    "        Fc[t+1] =sum(Strmtx)/L^2\n",
    "        overstress[t+1]= sum(A_mtx .>= (theta+H)) /L^2\n",
    "    end\n",
    "    return Fc, overstress\n",
    "end"
   ]
  },
  {
   "cell_type": "code",
   "execution_count": 7,
   "metadata": {},
   "outputs": [
    {
     "name": "stdout",
     "output_type": "stream",
     "text": [
      "  1.162 s (124024 allocations: 2.53 GiB)\n"
     ]
    }
   ],
   "source": [
    "@btime myloop6();"
   ]
  },
  {
   "cell_type": "code",
   "execution_count": 3,
   "metadata": {},
   "outputs": [
    {
     "data": {
      "text/plain": [
       "myloop9 (generic function with 1 method)"
      ]
     },
     "metadata": {},
     "output_type": "display_data"
    }
   ],
   "source": [
    "function myloop9(;L = 100,theta = 10, alpha = 0.3, b = 1.2, K = 1, T = 10^3, H = 10)\n",
    "    #Random.seed!(0)\n",
    "    \n",
    "    M=zeros(L,L,4)\n",
    "    M[:,:,1] .=1\n",
    "    M[:,:,3] .= b\n",
    "\n",
    "    Strmtx = rand(0:1,L,L)\n",
    "\n",
    "    A_mtx = zeros(L,L) #初始化压力矩阵A  \n",
    "    A_peer = zeros(L,L)\n",
    "    A_self = zeros(L,L)\n",
    "\n",
    "    Fc = zeros(T+1,1)  #合作比例。有两个参数T+1, 1，则为 T+1 * 1 的列向量\n",
    "    Fc[1] = sum(Strmtx)/L^2\n",
    "    overstress = zeros(T+1,1)\n",
    "\n",
    "    str1=zeros(L,L,4)  #自己\n",
    "    str2=zeros(L,L,4)   #邻居\n",
    "\n",
    "    Strsample = zeros(L,L,4)   #注意此处本来有off，但是下面4个层都没有off，乃取消\n",
    "    payoffsample = zeros(L,L,4)\n",
    "\n",
    "    payoffsampleselct =zeros(L,L)\n",
    "    Strsampleselct =zeros(L,L)\n",
    "\n",
    "    @batch for t = 1:T\n",
    "        #4个邻居的策略\n",
    "        Strsample[:,:,1]= circshift(Strmtx, 1)\n",
    "        Strsample[:,:,2]= circshift(Strmtx, -1)  #下面的邻居\n",
    "        Strsample[:,:,3]= circshift(Strmtx, (0, 1))  #右移一列-左边的邻居\n",
    "        Strsample[:,:,4]= circshift(Strmtx, (0, -1))  #右边的邻居\n",
    "        Strneighbor = dropdims(sum(Strsample,dims=3), dims=3)\n",
    "\n",
    "        str1[:,:,1]=Strmtx\n",
    "        str1[:,:,2]=Strmtx\n",
    "        str1[:,:,3] = 1 .- Strmtx\n",
    "        str1[:,:,4] = 1 .- Strmtx\n",
    "\n",
    "        str2[:,:,1] = Strneighbor\n",
    "        str2[:,:,2] = 4 .- Strneighbor\n",
    "        str2[:,:,3] = Strneighbor\n",
    "        str2[:,:,4] = 4 .- Strneighbor    \n",
    "\n",
    "        payoffmtx = dropdims(sum(str1.*M.*str2,dims=3), dims=3)\n",
    "        \n",
    "        A_self +=  (Strneighbor .< 2.5)\n",
    "\n",
    "        payoffsample[:,:,1]= circshift(payoffmtx, 1)  #行的变动-上下的邻居，首先是下移一行，即上面的邻居\n",
    "        payoffsample[:,:,2]= circshift(payoffmtx, -1)  #下面的邻居\n",
    "        payoffsample[:,:,3]= circshift(payoffmtx, (0, 1))  #右移一列-左边的邻居\n",
    "        payoffsample[:,:,4]= circshift(payoffmtx, (0, -1))  #右边的邻居\n",
    "       \n",
    "        payoff_average = dropdims(sum(payoffsample,dims=3), dims=3)./4\n",
    "\n",
    "        A_peer += (payoffmtx .< payoff_average)\n",
    "\n",
    "        A_mtx = (1-alpha).*A_self + alpha.*A_peer\n",
    "        Agap = max.(theta .- A_mtx, 0)\n",
    "        P1=exp.(-Agap)\n",
    " \n",
    "        randmtx = rand(1:4,L,L)   #每个个体选择一个邻居\n",
    "\n",
    "        for i =1:L\n",
    "            for j = 1:L\n",
    "                payoffsampleselct[i,j] = payoffsample[i,j,randmtx[i,j]]\n",
    "                Strsampleselct[i,j] = Strsample[i,j,randmtx[i,j]]\n",
    "            end\n",
    "        end\n",
    "        K_A = Agap * K./theta\n",
    "        P2 = 1 ./ (1 .+ exp.((payoffmtx .-payoffsampleselct)./K_A))\n",
    "        P2[isnan.(P2)] .= 0.5\n",
    "\n",
    "        P1P2selectmtx = (P1.*P2 .> rand(L,L))\n",
    "\n",
    "        Strmtx[P1P2selectmtx.==1] .= Strsampleselct[P1P2selectmtx.==1]\n",
    "\n",
    "        A_peer[P1P2selectmtx.==1] .= 0\n",
    "        A_self[P1P2selectmtx.==1] .= 0\n",
    "        Fc[t+1] =sum(Strmtx)/L^2\n",
    "        overstress[t+1]= sum(A_mtx .>= (theta+H)) /L^2\n",
    "    end\n",
    "    return Fc, overstress\n",
    "end"
   ]
  },
  {
   "cell_type": "code",
   "execution_count": 6,
   "metadata": {},
   "outputs": [
    {
     "name": "stdout",
     "output_type": "stream",
     "text": [
      "  695.422 ms (128024 allocations: 2.54 GiB)\n"
     ]
    }
   ],
   "source": [
    "@btime myloop9();"
   ]
  },
  {
   "cell_type": "code",
   "execution_count": 1,
   "metadata": {},
   "outputs": [
    {
     "name": "stdout",
     "output_type": "stream",
     "text": [
      "Our model has a R^2 of 0.94, rmse of 1.5, and mse of 1.1\n",
      "Our model has a R^2 of 0.94, rmse of 1.5, and mse of 1.1\n"
     ]
    }
   ],
   "source": [
    "rmse = 1.5; mse = 1.1; R2 = 0.94\n",
    "println(\"Our model has a R^2 of $(R2), rmse of $(rmse), and mse of $(mse)\")\n",
    "println(\"Our model has a R^2 of $R2, rmse of $rmse, and mse of $mse\")"
   ]
  },
  {
   "cell_type": "code",
   "execution_count": 3,
   "metadata": {},
   "outputs": [
    {
     "name": "stdout",
     "output_type": "stream",
     "text": [
      "Our model has a R^2 of 0.94\n"
     ]
    }
   ],
   "source": [
    "println(\"Our model has a R^2 of \", R2)"
   ]
  },
  {
   "cell_type": "code",
   "execution_count": null,
   "metadata": {},
   "outputs": [],
   "source": []
  }
 ],
 "metadata": {
  "kernelspec": {
   "display_name": "Julia 1.10.4",
   "language": "julia",
   "name": "julia-1.10"
  },
  "language_info": {
   "file_extension": ".jl",
   "mimetype": "application/julia",
   "name": "julia",
   "version": "1.10.4"
  }
 },
 "nbformat": 4,
 "nbformat_minor": 2
}
