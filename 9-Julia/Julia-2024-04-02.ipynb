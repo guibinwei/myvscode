{
 "cells": [
  {
   "cell_type": "code",
   "execution_count": 1,
   "metadata": {},
   "outputs": [],
   "source": [
    "using WinReg"
   ]
  },
  {
   "cell_type": "code",
   "execution_count": 2,
   "metadata": {},
   "outputs": [
    {
     "data": {
      "text/plain": [
       "\"SOFTWARE\\\\Foxit Software\\\\Foxit Reader 9.0\\\\Preferences\\\\History\\\\LastSession\""
      ]
     },
     "metadata": {},
     "output_type": "display_data"
    }
   ],
   "source": [
    "mkey=joinpath(\"SOFTWARE\", \"Foxit Software\", \"Foxit Reader 9.0\", \"Preferences\", \"History\", \"LastSession\")"
   ]
  },
  {
   "cell_type": "code",
   "execution_count": 3,
   "metadata": {},
   "outputs": [
    {
     "data": {
      "text/plain": [
       "\"SOFTWARE\\\\Foxit Software\\\\Foxit Reader 9.0\\\\Preferences\\\\History\\\\LastSession\""
      ]
     },
     "metadata": {},
     "output_type": "display_data"
    }
   ],
   "source": [
    "version1=\"9.0\"   #需要根据foxit版本修改\n",
    "version2=\"Foxit Reader \" * version1\n",
    "mkey=joinpath(\"SOFTWARE\", \"Foxit Software\", version2, \"Preferences\", \"History\", \"LastSession\")"
   ]
  },
  {
   "cell_type": "code",
   "execution_count": 6,
   "metadata": {},
   "outputs": [
    {
     "data": {
      "text/plain": [
       "WinReg.RegKey with 1 entry:\n",
       "  \"Active\" => \"D:\\\\IDM8\\\\TheEconomist.2024.03.30.pdf\""
      ]
     },
     "metadata": {},
     "output_type": "display_data"
    }
   ],
   "source": [
    "key = WinReg.openkey(WinReg.HKEY_CURRENT_USER, mkey)"
   ]
  },
  {
   "cell_type": "code",
   "execution_count": 7,
   "metadata": {},
   "outputs": [
    {
     "data": {
      "text/plain": [
       "WinReg.RegKey"
      ]
     },
     "metadata": {},
     "output_type": "display_data"
    }
   ],
   "source": [
    "typeof(key)"
   ]
  },
  {
   "cell_type": "code",
   "execution_count": 8,
   "metadata": {},
   "outputs": [
    {
     "data": {
      "text/plain": [
       "(:handle,)"
      ]
     },
     "metadata": {},
     "output_type": "display_data"
    }
   ],
   "source": [
    "fieldnames(typeof(key))"
   ]
  },
  {
   "cell_type": "code",
   "execution_count": 9,
   "metadata": {},
   "outputs": [
    {
     "ename": "MethodError",
     "evalue": "MethodError: no method matching fieldnames(::WinReg.RegKey)\n\nClosest candidates are:\n  fieldnames(!Matched::Core.TypeofBottom)\n   @ Base reflection.jl:170\n  fieldnames(!Matched::Type{<:Tuple})\n   @ Base reflection.jl:172\n  fieldnames(!Matched::UnionAll)\n   @ Base reflection.jl:169\n  ...\n",
     "output_type": "error",
     "traceback": [
      "MethodError: no method matching fieldnames(::WinReg.RegKey)\n",
      "\n",
      "Closest candidates are:\n",
      "  fieldnames(!Matched::Core.TypeofBottom)\n",
      "   @ Base reflection.jl:170\n",
      "  fieldnames(!Matched::Type{<:Tuple})\n",
      "   @ Base reflection.jl:172\n",
      "  fieldnames(!Matched::UnionAll)\n",
      "   @ Base reflection.jl:169\n",
      "  ...\n",
      "\n",
      "\n",
      "Stacktrace:\n",
      " [1] top-level scope\n",
      "   @ d:\\jianguo\\myvscode\\Julia\\Julia-2024-04-02.ipynb:1"
     ]
    }
   ],
   "source": [
    "fieldnames(key)"
   ]
  },
  {
   "cell_type": "code",
   "execution_count": 10,
   "metadata": {},
   "outputs": [
    {
     "name": "stdout",
     "output_type": "stream",
     "text": [
      "WinReg.RegKey\n",
      "  handle: UInt32 0x000002fc\n"
     ]
    }
   ],
   "source": [
    "dump(key)"
   ]
  },
  {
   "cell_type": "code",
   "execution_count": 12,
   "metadata": {},
   "outputs": [],
   "source": [
    "using Eyeball"
   ]
  },
  {
   "cell_type": "code",
   "execution_count": 14,
   "metadata": {},
   "outputs": [
    {
     "data": {
      "text/plain": [
       "(h = [0.8155468591476859, 0.7507587346194076, 0.7716127447767882, 0.745753588997288, 0.3666383339321392], e = :(5 * sin(pi * t)), f = sin, c = 0 + 33im, set = Set(Any[:a, 9, [3, 3, 5, 3, 1, 5, 4, 2]]), b = (c = 1, d = 9, e = (i = 9, f = 0)), x = 9 => 99:109, d = Dict(3 => 4, 1 => 2), ds = Dict(:s => 4, :t => 7), dm = Dict{Any, Int64}(\"x\" => 8, 1 => 9))"
      ]
     },
     "metadata": {},
     "output_type": "display_data"
    }
   ],
   "source": [
    "a = (h=rand(5), e=:(5sin(pi*t)), f=sin, c=33im, set=Set((:a, 9, rand(1:5, 8))), b=(c=1,d=9,e=(i=9,f=0)), x=9 => 99:109, d=Dict(1=>2, 3=>4), ds=Dict(:s=>4,:t=>7), dm=Dict(1=>9, \"x\"=>8))\n"
   ]
  },
  {
   "cell_type": "code",
   "execution_count": 15,
   "metadata": {},
   "outputs": [
    {
     "ename": "UndefVarError",
     "evalue": "UndefVarError: `active_repl` not defined",
     "output_type": "error",
     "traceback": [
      "UndefVarError: `active_repl` not defined\n",
      "\n",
      "Stacktrace:\n",
      " [1] default_terminal()\n",
      "   @ Eyeball C:\\Users\\xingfu_2\\.julia\\packages\\Eyeball\\AXXD8\\src\\Eyeball.jl:30\n",
      " [2] eye(x::@NamedTuple{h::Vector{Float64}, e::Expr, f::typeof(sin), c::Complex{Int64}, set::Set{Any}, b::@NamedTuple{c::Int64, d::Int64, e::@NamedTuple{i::Int64, f::Int64}}, x::Pair{Int64, UnitRange{Int64}}, d::Dict{Int64, Int64}, ds::Dict{Symbol, Int64}, dm::Dict{Any, Int64}}, depth::Int64; interactive::Bool, all::Bool)\n",
      "   @ Eyeball C:\\Users\\xingfu_2\\.julia\\packages\\Eyeball\\AXXD8\\src\\Eyeball.jl:224\n",
      " [3] eye(x::@NamedTuple{h::Vector{Float64}, e::Expr, f::typeof(sin), c::Complex{Int64}, set::Set{Any}, b::@NamedTuple{c::Int64, d::Int64, e::@NamedTuple{i::Int64, f::Int64}}, x::Pair{Int64, UnitRange{Int64}}, d::Dict{Int64, Int64}, ds::Dict{Symbol, Int64}, dm::Dict{Any, Int64}}, depth::Int64)\n",
      "   @ Eyeball C:\\Users\\xingfu_2\\.julia\\packages\\Eyeball\\AXXD8\\src\\Eyeball.jl:59\n",
      " [4] top-level scope\n",
      "   @ d:\\jianguo\\myvscode\\Julia\\Julia-2024-04-02.ipynb:1"
     ]
    }
   ],
   "source": [
    "eye(a)"
   ]
  },
  {
   "cell_type": "code",
   "execution_count": 13,
   "metadata": {},
   "outputs": [
    {
     "ename": "UndefVarError",
     "evalue": "UndefVarError: `active_repl` not defined",
     "output_type": "error",
     "traceback": [
      "UndefVarError: `active_repl` not defined\n",
      "\n",
      "Stacktrace:\n",
      " [1] default_terminal()\n",
      "   @ Eyeball C:\\Users\\xingfu_2\\.julia\\packages\\Eyeball\\AXXD8\\src\\Eyeball.jl:30\n",
      " [2] eye(x::WinReg.RegKey, depth::Int64; interactive::Bool, all::Bool)\n",
      "   @ Eyeball C:\\Users\\xingfu_2\\.julia\\packages\\Eyeball\\AXXD8\\src\\Eyeball.jl:224\n",
      " [3] eye(x::WinReg.RegKey, depth::Int64)\n",
      "   @ Eyeball C:\\Users\\xingfu_2\\.julia\\packages\\Eyeball\\AXXD8\\src\\Eyeball.jl:59\n",
      " [4] top-level scope\n",
      "   @ d:\\jianguo\\myvscode\\Julia\\Julia-2024-04-02.ipynb:1"
     ]
    }
   ],
   "source": [
    "eye(key)"
   ]
  }
 ],
 "metadata": {
  "kernelspec": {
   "display_name": "Julia 1.10.2",
   "language": "julia",
   "name": "julia-1.10"
  },
  "language_info": {
   "file_extension": ".jl",
   "mimetype": "application/julia",
   "name": "julia",
   "version": "1.10.2"
  }
 },
 "nbformat": 4,
 "nbformat_minor": 2
}
