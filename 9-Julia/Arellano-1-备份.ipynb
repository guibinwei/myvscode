{
 "cells": [
  {
   "cell_type": "markdown",
   "metadata": {},
   "source": [
    "2024-05-15\n",
    "演示 阿雷拉诺 第二章 的 几个公式。主要涉及 乔列斯基分解 以及 前向后向 离差\n",
    "下面代码块生成D矩阵=K2+I2 "
   ]
  },
  {
   "cell_type": "code",
   "execution_count": 1,
   "metadata": {},
   "outputs": [
    {
     "data": {
      "text/plain": [
       "2×2 Matrix{Float64}:\n",
       "  2.0  -1.0\n",
       " -1.0   2.0"
      ]
     },
     "metadata": {},
     "output_type": "display_data"
    }
   ],
   "source": [
    "using LinearAlgebra\n",
    "n=2\n",
    "v = fill(-1, n)\n",
    "K = Diagonal(v)\n",
    "w=ones(n)\n",
    "I = Diagonal(w)\n",
    "u=zeros(n)\n",
    "K2=hcat(K,u)\n",
    "I2=hcat(u,I)\n",
    "D=K2+I2  \n",
    "V=D*D'"
   ]
  },
  {
   "cell_type": "markdown",
   "metadata": {},
   "source": [
    "下面的代码块生成V和V-1的乔列斯基分解"
   ]
  },
  {
   "cell_type": "code",
   "execution_count": 2,
   "metadata": {},
   "outputs": [
    {
     "data": {
      "text/plain": [
       "Cholesky{Float64, Matrix{Float64}}\n",
       "U factor:\n",
       "2×2 UpperTriangular{Float64, Matrix{Float64}}:\n",
       " 0.816497  0.408248\n",
       "  ⋅        0.707107"
      ]
     },
     "metadata": {},
     "output_type": "display_data"
    }
   ],
   "source": [
    "cholesky(V)\n",
    "V1=inv(V)\n",
    "cholesky(V1)"
   ]
  },
  {
   "cell_type": "markdown",
   "metadata": {},
   "source": [
    "检验乔列斯基分解\n",
    "V1表示逆矩阵, L1表示L的转置  在 不至于引起混淆的情况下，用1表示转置或者逆矩阵\n",
    "V=LL', V-1=BB'"
   ]
  },
  {
   "cell_type": "code",
   "execution_count": 3,
   "metadata": {},
   "outputs": [
    {
     "data": {
      "text/plain": [
       "2×2 Matrix{Float64}:\n",
       "  1.0          0.0\n",
       " -1.11022e-16  1.0"
      ]
     },
     "metadata": {},
     "output_type": "display_data"
    }
   ],
   "source": [
    "L1 = [2^0.5  -2^0.5/2; 0  3/6^0.5]\n",
    "B1= [2/6^0.5  1/6^0.5; 0  1/2^0.5]\n",
    "L=L1'\n",
    "B=B1'\n",
    "V=L*L'\n",
    "V1=B*B'\n",
    "V*V1"
   ]
  },
  {
   "cell_type": "markdown",
   "metadata": {},
   "source": [
    "下面的代码生成A+矩阵 A=H2=(DD')^-0.5 * D = R * A+ =A2"
   ]
  },
  {
   "cell_type": "code",
   "execution_count": 6,
   "metadata": {},
   "outputs": [
    {
     "name": "stdout",
     "output_type": "stream",
     "text": [
      "[-0.8164965809277259 0.40824829046386296 0.40824829046386296; 0.0 -0.7071067811865475 0.7071067811865475]\n"
     ]
    },
    {
     "data": {
      "text/plain": [
       "2×3 Matrix{Float64}:\n",
       " 0.816497  -0.408248  -0.408248\n",
       " 0.0        0.707107  -0.707107"
      ]
     },
     "metadata": {},
     "output_type": "display_data"
    }
   ],
   "source": [
    "A=B'*D\n",
    "println(A)\n",
    "r=[2/6^0.5;1/2^0.5]\n",
    "R=Diagonal(r)\n",
    "\n",
    "I20=hcat(I,u)\n",
    "A2=[-0.5   -0.5; 0  -1]\n",
    "A20=hcat(u,A2)\n",
    "Ap=I20 + A20\n",
    "A2=R*Ap\n"
   ]
  }
 ],
 "metadata": {
  "kernelspec": {
   "display_name": "Julia 1.10.2",
   "language": "julia",
   "name": "julia-1.10"
  },
  "language_info": {
   "file_extension": ".jl",
   "mimetype": "application/julia",
   "name": "julia",
   "version": "1.10.2"
  }
 },
 "nbformat": 4,
 "nbformat_minor": 2
}
