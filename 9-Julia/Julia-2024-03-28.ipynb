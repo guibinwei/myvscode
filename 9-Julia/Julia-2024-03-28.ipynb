{
 "cells": [
  {
   "cell_type": "code",
   "execution_count": 1,
   "metadata": {},
   "outputs": [],
   "source": [
    "using ModelingToolkit"
   ]
  },
  {
   "cell_type": "code",
   "execution_count": 2,
   "metadata": {},
   "outputs": [
    {
     "data": {
      "text/plain": [
       "2"
      ]
     },
     "metadata": {},
     "output_type": "display_data"
    }
   ],
   "source": [
    "# Height of the game window\n",
    "HEIGHT = 400\n",
    "# Width of the game window\n",
    "WIDTH = 400\n",
    "# Background color of the game window\n",
    "BACKGROUND = \"moon.jpg\" #colorant\"purple\"\n",
    "\n",
    "# Globals to store the velocity of the actor\n",
    "dx = 2\n",
    "dy = 2\n"
   ]
  },
  {
   "cell_type": "code",
   "execution_count": 4,
   "metadata": {},
   "outputs": [],
   "source": [
    "using GameZero   #游戏包\n",
    "using Colors  #标准包\n",
    "using Random\n",
    "using FixedPointNumbers "
   ]
  },
  {
   "cell_type": "code",
   "execution_count": 6,
   "metadata": {},
   "outputs": [
    {
     "ename": "UndefRefError",
     "evalue": "UndefRefError: access to undefined reference",
     "output_type": "error",
     "traceback": [
      "UndefRefError: access to undefined reference\n",
      "\n",
      "Stacktrace:\n",
      " [1] getproperty\n",
      "   @ .\\Base.jl:37 [inlined]\n",
      " [2] getindex\n",
      "   @ .\\refvalue.jl:59 [inlined]\n",
      " [3] file_path(name::String, subdir::Symbol)\n",
      "   @ GameZero C:\\Users\\xingfu_2\\.julia\\packages\\GameZero\\q74y7\\src\\resources.jl:46\n",
      " [4] image_surface(image::String)\n",
      "   @ GameZero C:\\Users\\xingfu_2\\.julia\\packages\\GameZero\\q74y7\\src\\resources.jl:37\n",
      " [5] Actor(image::String; kv::@Kwargs{})\n",
      "   @ GameZero C:\\Users\\xingfu_2\\.julia\\packages\\GameZero\\q74y7\\src\\actor.jl:18\n",
      " [6] Actor(image::String)\n",
      "   @ GameZero C:\\Users\\xingfu_2\\.julia\\packages\\GameZero\\q74y7\\src\\actor.jl:17\n",
      " [7] top-level scope\n",
      "   @ d:\\jianguo\\myvscode\\Julia\\J-2024-03-28.ipynb:2"
     ]
    }
   ],
   "source": [
    "# Create an `Actor` object with an image\n",
    "a=Actor(\"alien.png\")\n"
   ]
  },
  {
   "cell_type": "code",
   "execution_count": 7,
   "metadata": {},
   "outputs": [
    {
     "ename": "UndefRefError",
     "evalue": "UndefRefError: access to undefined reference",
     "output_type": "error",
     "traceback": [
      "UndefRefError: access to undefined reference\n",
      "\n",
      "Stacktrace:\n",
      " [1] getproperty\n",
      "   @ .\\Base.jl:37 [inlined]\n",
      " [2] getindex\n",
      "   @ .\\refvalue.jl:59 [inlined]\n",
      " [3] file_path(name::String, subdir::Symbol)\n",
      "   @ GameZero C:\\Users\\xingfu_2\\.julia\\packages\\GameZero\\q74y7\\src\\resources.jl:46\n",
      " [4] TextActor(text::String, font_name::String; font_size::Int64, color::Vector{Int64}, kv::@Kwargs{})\n",
      "   @ GameZero C:\\Users\\xingfu_2\\.julia\\packages\\GameZero\\q74y7\\src\\actor.jl:34\n",
      " [5] TextActor(text::String, font_name::String)\n",
      "   @ GameZero C:\\Users\\xingfu_2\\.julia\\packages\\GameZero\\q74y7\\src\\actor.jl:33\n",
      " [6] top-level scope\n",
      "   @ d:\\jianguo\\myvscode\\Julia\\J-2024-03-28.ipynb:1"
     ]
    }
   ],
   "source": [
    "txt = TextActor(\"Hello World\", \"moonhouse\")\n",
    "txt.pos = (120,180)"
   ]
  }
 ],
 "metadata": {
  "kernelspec": {
   "display_name": "Julia 1.10.2",
   "language": "julia",
   "name": "julia-1.10"
  },
  "language_info": {
   "file_extension": ".jl",
   "mimetype": "application/julia",
   "name": "julia",
   "version": "1.10.2"
  }
 },
 "nbformat": 4,
 "nbformat_minor": 2
}
