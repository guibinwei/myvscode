{
 "cells": [
  {
   "cell_type": "code",
   "execution_count": null,
   "metadata": {},
   "outputs": [],
   "source": [
    "#=\n",
    "2024-06-11 创建 代码小结\n",
    "2024-05-15  1-Arellano.ipynb \n",
    "演示 阿雷拉诺 第二章 的 几个公式。主要涉及 乔列斯基分解 以及 前向后向 离差\n",
    "2024-06-11  2-projection.ipynb\n",
    "投影矩阵演示\n",
    "2024-06-22 3-EvoGame-1.ipynb\n",
    "2024-06-24 执行文件 为  tangrui_1.jl  #按照 matlab 构建第一个版本\n",
    "2024-06-25：tangrui_2.jl  #进行优化\n",
    "=#"
   ]
  },
  {
   "cell_type": "code",
   "execution_count": null,
   "metadata": {},
   "outputs": [],
   "source": [
    "#=\n",
    "下面代码生成 myshow 宏体\n",
    "\n",
    "\n",
    "macro myshow(exs...)\n",
    "    blk = Expr(:block)  #此处使用 头部符号是 block的表达式\n",
    "    for ex in exs\n",
    "        push!(blk.args, :(println($(sprint(Base.show_unquoted,ex)*\" = \"))))\n",
    "        push!(blk.args, :(show(stdout, \"text/plain\", begin value=$(esc(ex)) end)))\n",
    "        push!(blk.args, :(println()))\n",
    "    end\n",
    "    isempty(exs) || push!(blk.args, :value)\n",
    "    return blk\n",
    "end\n",
    "\n",
    "=#"
   ]
  }
 ],
 "metadata": {
  "kernelspec": {
   "display_name": "Julia 1.10.2",
   "language": "julia",
   "name": "julia-1.10"
  },
  "language_info": {
   "file_extension": ".jl",
   "mimetype": "application/julia",
   "name": "julia",
   "version": "1.10.2"
  }
 },
 "nbformat": 4,
 "nbformat_minor": 2
}
