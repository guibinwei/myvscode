{
 "cells": [
  {
   "cell_type": "code",
   "execution_count": 1,
   "metadata": {},
   "outputs": [
    {
     "data": {
      "text/plain": [
       "210"
      ]
     },
     "metadata": {},
     "output_type": "display_data"
    }
   ],
   "source": [
    "sum(1:20)"
   ]
  },
  {
   "cell_type": "code",
   "execution_count": 2,
   "metadata": {},
   "outputs": [
    {
     "data": {
      "text/plain": [
       "1.6349839001848923"
      ]
     },
     "metadata": {},
     "output_type": "display_data"
    }
   ],
   "source": [
    "sum_zeta(s,nterms) = sum(1/n^s for n=1:nterms)\n",
    "sum_zeta(2,100)"
   ]
  },
  {
   "cell_type": "code",
   "execution_count": 2,
   "metadata": {},
   "outputs": [
    {
     "data": {
      "text/plain": [
       "\"Our model has a R^2 of 0.94.\""
      ]
     },
     "metadata": {},
     "output_type": "display_data"
    }
   ],
   "source": [
    "R2 = 0.94\n",
    "\"Our model has a R^2 of $R2.\""
   ]
  },
  {
   "cell_type": "code",
   "execution_count": 6,
   "metadata": {},
   "outputs": [
    {
     "data": {
      "text/plain": [
       "Dict{Any, Any} with 3 entries:\n",
       "  \"b\" => 2\n",
       "  \"a\" => 1\n",
       "  1   => \"a\""
      ]
     },
     "metadata": {},
     "output_type": "display_data"
    }
   ],
   "source": [
    "D = Dict(\"a\" => 1, \"b\" => 2, 1 => \"a\")"
   ]
  },
  {
   "cell_type": "code",
   "execution_count": 7,
   "metadata": {},
   "outputs": [
    {
     "name": "stdout",
     "output_type": "stream",
     "text": [
      "Pair{Any, Any}(\"b\", 2)\n",
      "Pair{Any, Any}(\"a\", 1)\n",
      "Pair{Any, Any}(1, \"a\")\n"
     ]
    }
   ],
   "source": [
    "for e in D\n",
    "    println(e)\n",
    "end"
   ]
  },
  {
   "cell_type": "code",
   "execution_count": 3,
   "metadata": {},
   "outputs": [
    {
     "data": {
      "text/plain": [
       "Dict{String, String} with 3 entries:\n",
       "  \"coin\"        => \"https://themushroomkingdom.net/sounds/wav/smb/smb_coin.wav\"\n",
       "  \"stage_clear\" => \"https://themushroomkingdom.net/sounds/wav/smb/smb_stage_cle…\n",
       "  \"game_over\"   => \"https://themushroomkingdom.net/sounds/wav/smb/smb_gameover.…"
      ]
     },
     "metadata": {},
     "output_type": "display_data"
    }
   ],
   "source": [
    "sounds_source = Dict(\n",
    "    \"game_over\" => \"https://themushroomkingdom.net/sounds/wav/smb/smb_gameover.wav\",\n",
    "    \"stage_clear\" => \"https://themushroomkingdom.net/sounds/wav/smb/smb_stage_clear.wav\",\n",
    "    \"coin\" => \"https://themushroomkingdom.net/sounds/wav/smb/smb_coin.wav\"\n",
    ")\n"
   ]
  },
  {
   "cell_type": "code",
   "execution_count": null,
   "metadata": {},
   "outputs": [],
   "source": [
    "mkpath(\"data\")\n",
    "for (fname, link) in sounds_source\n",
    "    download(link, \"data/$fname.wav\")\n",
    "end"
   ]
  },
  {
   "cell_type": "code",
   "execution_count": 8,
   "metadata": {},
   "outputs": [
    {
     "data": {
      "text/plain": [
       "\"d:\\\\jianguo\\\\myvscode\\\\Julia\""
      ]
     },
     "metadata": {},
     "output_type": "display_data"
    }
   ],
   "source": [
    "pwd()"
   ]
  },
  {
   "cell_type": "code",
   "execution_count": 1,
   "metadata": {},
   "outputs": [],
   "source": [
    "using WAV"
   ]
  },
  {
   "cell_type": "code",
   "execution_count": 4,
   "metadata": {},
   "outputs": [
    {
     "data": {
      "text/plain": [
       "Dict{String, Tuple{Matrix{Float64}, Float32, UInt16, Vector{WAVChunk}}} with 3 entries:\n",
       "  \"coin\"        => ([-3.05185e-5; -3.05185e-5; … ; 0.0; 0.0;;], 22050.0, 0x0010…\n",
       "  \"stage_clear\" => ([-6.1037e-5; -3.05185e-5; … ; 0.0; 0.0;;], 22050.0, 0x0010,…\n",
       "  \"game_over\"   => ([3.05185e-5; 3.05185e-5; … ; 0.0; 6.1037e-5;;], 22050.0, 0x…"
      ]
     },
     "metadata": {},
     "output_type": "display_data"
    }
   ],
   "source": [
    "\n",
    "\n",
    "sounds = Dict(\n",
    "    (key, wavread(\"data/$key.wav\")) for key in keys(sounds_source)\n",
    ")"
   ]
  },
  {
   "cell_type": "code",
   "execution_count": 11,
   "metadata": {},
   "outputs": [
    {
     "data": {
      "text/plain": [
       "83225×1 Matrix{Float64}:\n",
       "  3.051850947599719e-5\n",
       "  3.051850947599719e-5\n",
       "  3.051850947599719e-5\n",
       "  0.0\n",
       "  0.0\n",
       "  3.051850947599719e-5\n",
       "  3.051850947599719e-5\n",
       "  0.0\n",
       "  0.0\n",
       "  0.0\n",
       "  ⋮\n",
       " -3.051850947599719e-5\n",
       "  3.051850947599719e-5\n",
       " -3.051850947599719e-5\n",
       " -3.051850947599719e-5\n",
       "  0.0\n",
       "  0.0\n",
       "  0.0\n",
       "  0.0\n",
       "  6.103701895199438e-5"
      ]
     },
     "metadata": {},
     "output_type": "display_data"
    }
   ],
   "source": [
    "sounds[\"game_over\"][1]"
   ]
  },
  {
   "cell_type": "code",
   "execution_count": 5,
   "metadata": {},
   "outputs": [],
   "source": [
    "wavplay(sounds[\"game_over\"][1], sounds[\"game_over\"][2])"
   ]
  },
  {
   "cell_type": "code",
   "execution_count": 13,
   "metadata": {},
   "outputs": [
    {
     "ename": "MethodError",
     "evalue": "MethodError: no method matching wavplay(::Matrix{Float64})\n\nClosest candidates are:\n  wavplay(::Any, !Matched::Any)\n   @ WAV C:\\Users\\xingfu_2\\.julia\\packages\\WAV\\TgTgX\\src\\wavplay-win32.jl:16\n  wavplay(!Matched::AbstractString)\n   @ WAV C:\\Users\\xingfu_2\\.julia\\packages\\WAV\\TgTgX\\src\\WAV.jl:1076\n",
     "output_type": "error",
     "traceback": [
      "MethodError: no method matching wavplay(::Matrix{Float64})\n",
      "\n",
      "Closest candidates are:\n",
      "  wavplay(::Any, !Matched::Any)\n",
      "   @ WAV C:\\Users\\xingfu_2\\.julia\\packages\\WAV\\TgTgX\\src\\wavplay-win32.jl:16\n",
      "  wavplay(!Matched::AbstractString)\n",
      "   @ WAV C:\\Users\\xingfu_2\\.julia\\packages\\WAV\\TgTgX\\src\\WAV.jl:1076\n",
      "\n",
      "\n",
      "Stacktrace:\n",
      " [1] top-level scope\n",
      "   @ d:\\jianguo\\myvscode\\Julia\\Julia-2024-03-21-2.ipynb:1"
     ]
    }
   ],
   "source": [
    "wavplay(sounds[\"game_over\"][1])"
   ]
  },
  {
   "cell_type": "code",
   "execution_count": 14,
   "metadata": {},
   "outputs": [
    {
     "data": {
      "text/plain": [
       "0x0010"
      ]
     },
     "metadata": {},
     "output_type": "display_data"
    }
   ],
   "source": [
    "sounds[\"game_over\"][3]"
   ]
  },
  {
   "cell_type": "code",
   "execution_count": 15,
   "metadata": {},
   "outputs": [
    {
     "data": {
      "text/plain": [
       "beep (generic function with 1 method)"
      ]
     },
     "metadata": {},
     "output_type": "display_data"
    }
   ],
   "source": [
    "function beep(sound)\n",
    "    wavplay(sounds[sound][1], sounds[sound][2])\n",
    "end"
   ]
  },
  {
   "cell_type": "code",
   "execution_count": 16,
   "metadata": {},
   "outputs": [],
   "source": [
    "beep(\"coin\")"
   ]
  },
  {
   "cell_type": "code",
   "execution_count": 17,
   "metadata": {},
   "outputs": [],
   "source": [
    "beep(\"stage_clear\")"
   ]
  },
  {
   "cell_type": "code",
   "execution_count": 18,
   "metadata": {},
   "outputs": [],
   "source": [
    "beep(\"game_over\")"
   ]
  },
  {
   "cell_type": "code",
   "execution_count": 20,
   "metadata": {},
   "outputs": [
    {
     "data": {
      "text/plain": [
       "@beep (macro with 1 method)"
      ]
     },
     "metadata": {},
     "output_type": "display_data"
    }
   ],
   "source": [
    "macro beep(expression, sound)\n",
    "    res = eval(expression)\n",
    "    beep(sound) \n",
    "    return res\n",
    "end"
   ]
  },
  {
   "cell_type": "code",
   "execution_count": 21,
   "metadata": {},
   "outputs": [
    {
     "name": "stdout",
     "output_type": "stream",
     "text": [
      "hello\n"
     ]
    }
   ],
   "source": [
    "@beep println(\"hello\") \"coin\""
   ]
  },
  {
   "cell_type": "code",
   "execution_count": 24,
   "metadata": {},
   "outputs": [
    {
     "data": {
      "text/plain": [
       "fib (generic function with 1 method)"
      ]
     },
     "metadata": {},
     "output_type": "display_data"
    }
   ],
   "source": [
    "fib(n) = n <= 2 ? 1 : fib(n-2) + fib(n-1)"
   ]
  },
  {
   "cell_type": "code",
   "execution_count": 25,
   "metadata": {},
   "outputs": [
    {
     "data": {
      "text/plain": [
       "1"
      ]
     },
     "metadata": {},
     "output_type": "display_data"
    }
   ],
   "source": [
    "fib(2)"
   ]
  },
  {
   "cell_type": "code",
   "execution_count": 26,
   "metadata": {},
   "outputs": [
    {
     "data": {
      "text/plain": [
       "102334155"
      ]
     },
     "metadata": {},
     "output_type": "display_data"
    }
   ],
   "source": [
    "y = @beep fib(40) \"game_over\""
   ]
  },
  {
   "cell_type": "code",
   "execution_count": 27,
   "metadata": {},
   "outputs": [
    {
     "data": {
      "text/plain": [
       "@beep (macro with 2 methods)"
      ]
     },
     "metadata": {},
     "output_type": "display_data"
    }
   ],
   "source": [
    "macro beep(expression)\n",
    "    return :( @beep $expression \"coin\")\n",
    "end"
   ]
  },
  {
   "cell_type": "code",
   "execution_count": 28,
   "metadata": {},
   "outputs": [
    {
     "data": {
      "text/plain": [
       "102334155"
      ]
     },
     "metadata": {},
     "output_type": "display_data"
    }
   ],
   "source": [
    "@beep fib(40)"
   ]
  },
  {
   "cell_type": "code",
   "execution_count": 2,
   "metadata": {},
   "outputs": [
    {
     "data": {
      "text/plain": [
       "450"
      ]
     },
     "metadata": {},
     "output_type": "display_data"
    }
   ],
   "source": [
    "30*15\n"
   ]
  },
  {
   "cell_type": "code",
   "execution_count": 3,
   "metadata": {},
   "outputs": [
    {
     "data": {
      "text/plain": [
       "434"
      ]
     },
     "metadata": {},
     "output_type": "display_data"
    }
   ],
   "source": [
    "31*14"
   ]
  },
  {
   "cell_type": "code",
   "execution_count": 1,
   "metadata": {},
   "outputs": [
    {
     "data": {
      "text/plain": [
       "336"
      ]
     },
     "metadata": {},
     "output_type": "display_data"
    }
   ],
   "source": [
    "14*24"
   ]
  },
  {
   "cell_type": "code",
   "execution_count": 2,
   "metadata": {},
   "outputs": [
    {
     "data": {
      "text/plain": [
       "432"
      ]
     },
     "metadata": {},
     "output_type": "display_data"
    }
   ],
   "source": [
    "18*24"
   ]
  },
  {
   "cell_type": "code",
   "execution_count": 3,
   "metadata": {},
   "outputs": [
    {
     "data": {
      "text/plain": [
       "768"
      ]
     },
     "metadata": {},
     "output_type": "display_data"
    }
   ],
   "source": [
    "336+432"
   ]
  },
  {
   "cell_type": "code",
   "execution_count": 4,
   "metadata": {},
   "outputs": [
    {
     "data": {
      "text/plain": [
       "480"
      ]
     },
     "metadata": {},
     "output_type": "display_data"
    }
   ],
   "source": [
    "15*32"
   ]
  },
  {
   "cell_type": "code",
   "execution_count": 5,
   "metadata": {},
   "outputs": [
    {
     "data": {
      "text/plain": [
       "420"
      ]
     },
     "metadata": {},
     "output_type": "display_data"
    }
   ],
   "source": [
    "14*30"
   ]
  },
  {
   "cell_type": "code",
   "execution_count": 6,
   "metadata": {},
   "outputs": [],
   "source": [
    "\n",
    "wavplay(\"data/game_over.wav\")\n"
   ]
  },
  {
   "cell_type": "code",
   "execution_count": 7,
   "metadata": {},
   "outputs": [
    {
     "ename": "ErrorException",
     "evalue": "Invalid WAV file: The RIFF header is invalid",
     "output_type": "error",
     "traceback": [
      "Invalid WAV file: The RIFF header is invalid\n",
      "\n",
      "Stacktrace:\n",
      "  [1] error(s::String)\n",
      "    @ Base .\\error.jl:35\n",
      "  [2] read_header(io::IOStream)\n",
      "    @ WAV C:\\Users\\xingfu_2\\.julia\\packages\\WAV\\TgTgX\\src\\WAV.jl:214\n",
      "  [3] wavread(io::IOStream; subrange::Function, format::String)\n",
      "    @ WAV C:\\Users\\xingfu_2\\.julia\\packages\\WAV\\TgTgX\\src\\WAV.jl:756\n",
      "  [4] wavread\n",
      "    @ C:\\Users\\xingfu_2\\.julia\\packages\\WAV\\TgTgX\\src\\WAV.jl:755 [inlined]\n",
      "  [5] #23\n",
      "    @ C:\\Users\\xingfu_2\\.julia\\packages\\WAV\\TgTgX\\src\\WAV.jl:809 [inlined]\n",
      "  [6] open(::WAV.var\"#23#24\"{Colon, String}, ::String, ::Vararg{String}; kwargs::@Kwargs{})\n",
      "    @ Base .\\io.jl:396\n",
      "  [7] open\n",
      "    @ .\\io.jl:393 [inlined]\n",
      "  [8] #wavread#22\n",
      "    @ C:\\Users\\xingfu_2\\.julia\\packages\\WAV\\TgTgX\\src\\WAV.jl:808 [inlined]\n",
      "  [9] wavread\n",
      "    @ C:\\Users\\xingfu_2\\.julia\\packages\\WAV\\TgTgX\\src\\WAV.jl:807 [inlined]\n",
      " [10] wavplay(fname::String)\n",
      "    @ WAV C:\\Users\\xingfu_2\\.julia\\packages\\WAV\\TgTgX\\src\\WAV.jl:1076\n",
      " [11] top-level scope\n",
      "    @ d:\\jianguo\\myvscode\\Julia\\Julia-2024-03-21-2.ipynb:1"
     ]
    }
   ],
   "source": [
    "wavplay(\"data/radetzky_ogg.ogg\")"
   ]
  },
  {
   "cell_type": "code",
   "execution_count": 9,
   "metadata": {},
   "outputs": [
    {
     "ename": "ArgumentError",
     "evalue": "ArgumentError: Package FileIO not found in current path.\n- Run `import Pkg; Pkg.add(\"FileIO\")` to install the FileIO package.",
     "output_type": "error",
     "traceback": [
      "ArgumentError: Package FileIO not found in current path.\n",
      "- Run `import Pkg; Pkg.add(\"FileIO\")` to install the FileIO package.\n",
      "\n",
      "Stacktrace:\n",
      "  [1] macro expansion\n",
      "    @ .\\loading.jl:1772 [inlined]\n",
      "  [2] macro expansion\n",
      "    @ .\\lock.jl:267 [inlined]\n",
      "  [3] __require(into::Module, mod::Symbol)\n",
      "    @ Base .\\loading.jl:1753\n",
      "  [4] #invoke_in_world#3\n",
      "    @ .\\essentials.jl:926 [inlined]\n",
      "  [5] invoke_in_world\n",
      "    @ .\\essentials.jl:923 [inlined]\n",
      "  [6] require(into::Module, mod::Symbol)\n",
      "    @ Base .\\loading.jl:1746\n",
      "  [7] eval\n",
      "    @ .\\boot.jl:385 [inlined]\n",
      "  [8] include_string(mapexpr::typeof(REPL.softscope), mod::Module, code::String, filename::String)\n",
      "    @ Base .\\loading.jl:2076\n",
      "  [9] #invokelatest#2\n",
      "    @ .\\essentials.jl:892 [inlined]\n",
      " [10] invokelatest\n",
      "    @ .\\essentials.jl:889 [inlined]\n",
      " [11] (::VSCodeServer.var\"#214#215\"{VSCodeServer.NotebookRunCellArguments, String})()\n",
      "    @ VSCodeServer c:\\Users\\xingfu_2\\.vscode\\extensions\\julialang.language-julia-1.75.2\\scripts\\packages\\VSCodeServer\\src\\serve_notebook.jl:19\n",
      " [12] withpath(f::VSCodeServer.var\"#214#215\"{VSCodeServer.NotebookRunCellArguments, String}, path::String)\n",
      "    @ VSCodeServer c:\\Users\\xingfu_2\\.vscode\\extensions\\julialang.language-julia-1.75.2\\scripts\\packages\\VSCodeServer\\src\\repl.jl:274\n",
      " [13] notebook_runcell_request(conn::VSCodeServer.JSONRPC.JSONRPCEndpoint{Base.PipeEndpoint, Base.PipeEndpoint}, params::VSCodeServer.NotebookRunCellArguments)\n",
      "    @ VSCodeServer c:\\Users\\xingfu_2\\.vscode\\extensions\\julialang.language-julia-1.75.2\\scripts\\packages\\VSCodeServer\\src\\serve_notebook.jl:13\n",
      " [14] dispatch_msg(x::VSCodeServer.JSONRPC.JSONRPCEndpoint{Base.PipeEndpoint, Base.PipeEndpoint}, dispatcher::VSCodeServer.JSONRPC.MsgDispatcher, msg::Dict{String, Any})\n",
      "    @ VSCodeServer.JSONRPC c:\\Users\\xingfu_2\\.vscode\\extensions\\julialang.language-julia-1.75.2\\scripts\\packages\\JSONRPC\\src\\typed.jl:67\n",
      " [15] serve_notebook(pipename::String, outputchannel_logger::Base.CoreLogging.SimpleLogger; crashreporting_pipename::String)\n",
      "    @ VSCodeServer c:\\Users\\xingfu_2\\.vscode\\extensions\\julialang.language-julia-1.75.2\\scripts\\packages\\VSCodeServer\\src\\serve_notebook.jl:139\n",
      " [16] top-level scope\n",
      "    @ c:\\Users\\xingfu_2\\.vscode\\extensions\\julialang.language-julia-1.75.2\\scripts\\notebook\\notebook.jl:35"
     ]
    }
   ],
   "source": [
    "using FileIO: load, save, loadstreaming, savestreaming"
   ]
  },
  {
   "cell_type": "code",
   "execution_count": 8,
   "metadata": {},
   "outputs": [],
   "source": [
    "using LibSndFile"
   ]
  },
  {
   "cell_type": "code",
   "execution_count": null,
   "metadata": {},
   "outputs": [],
   "source": []
  }
 ],
 "metadata": {
  "kernelspec": {
   "display_name": "Julia 1.10.4",
   "language": "julia",
   "name": "julia-1.10"
  },
  "language_info": {
   "file_extension": ".jl",
   "mimetype": "application/julia",
   "name": "julia",
   "version": "1.10.4"
  }
 },
 "nbformat": 4,
 "nbformat_minor": 2
}
