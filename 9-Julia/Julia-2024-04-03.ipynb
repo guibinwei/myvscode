{
 "cells": [
  {
   "cell_type": "code",
   "execution_count": 1,
   "metadata": {},
   "outputs": [],
   "source": [
    "using Dates"
   ]
  },
  {
   "cell_type": "code",
   "execution_count": 2,
   "metadata": {},
   "outputs": [
    {
     "data": {
      "text/plain": [
       "2024"
      ]
     },
     "metadata": {},
     "output_type": "display_data"
    }
   ],
   "source": [
    "y=2024"
   ]
  },
  {
   "cell_type": "code",
   "execution_count": 4,
   "metadata": {},
   "outputs": [],
   "source": [
    "while Dates.dayname(Date(y,12,25))!=\"Sunday\"\n",
    "    y +=1\n",
    "end"
   ]
  },
  {
   "cell_type": "code",
   "execution_count": 5,
   "metadata": {},
   "outputs": [
    {
     "data": {
      "text/plain": [
       "2033"
      ]
     },
     "metadata": {},
     "output_type": "display_data"
    }
   ],
   "source": [
    "y"
   ]
  },
  {
   "cell_type": "code",
   "execution_count": 8,
   "metadata": {},
   "outputs": [
    {
     "data": {
      "text/plain": [
       "1.1306552480877e6"
      ]
     },
     "metadata": {},
     "output_type": "display_data"
    }
   ],
   "source": [
    "t1 = time_ns()/10^9"
   ]
  },
  {
   "cell_type": "code",
   "execution_count": 9,
   "metadata": {},
   "outputs": [
    {
     "data": {
      "text/plain": [
       "1.71214867125"
      ]
     },
     "metadata": {},
     "output_type": "display_data"
    }
   ],
   "source": [
    "t2 = time()/10^9"
   ]
  },
  {
   "cell_type": "code",
   "execution_count": 1,
   "metadata": {},
   "outputs": [
    {
     "data": {
      "text/plain": [
       "0.0:0.01:10.23"
      ]
     },
     "metadata": {},
     "output_type": "display_data"
    }
   ],
   "source": [
    "range(0, step=0.01, length=2^10)"
   ]
  },
  {
   "cell_type": "code",
   "execution_count": 2,
   "metadata": {},
   "outputs": [
    {
     "data": {
      "text/plain": [
       "0.01"
      ]
     },
     "metadata": {},
     "output_type": "display_data"
    }
   ],
   "source": [
    "fs=0.01"
   ]
  },
  {
   "cell_type": "code",
   "execution_count": 3,
   "metadata": {},
   "outputs": [
    {
     "data": {
      "text/plain": [
       "0.0:0.01:10.23"
      ]
     },
     "metadata": {},
     "output_type": "display_data"
    }
   ],
   "source": [
    "range(start=0, step=fs, length=2^10)"
   ]
  },
  {
   "cell_type": "code",
   "execution_count": 4,
   "metadata": {},
   "outputs": [
    {
     "name": "stdout",
     "output_type": "stream",
     "text": [
      "1.0:11.0:100.0\n",
      "1:10:191\n"
     ]
    }
   ],
   "source": [
    "#range using length\n",
    "println(range(start = 1, length=10, stop=100))\n",
    "\n",
    "#range using step\n",
    "println(range(start = 1, stop=200, step=10))"
   ]
  },
  {
   "cell_type": "code",
   "execution_count": 5,
   "metadata": {},
   "outputs": [
    {
     "name": "stdout",
     "output_type": "stream",
     "text": [
      "[1.0, 12.0, 23.0, 34.0, 45.0, 56.0, 67.0, 78.0, 89.0, 100.0]\n",
      "[1, 11, 21, 31, 41, 51, 61, 71, 81, 91, 101, 111, 121, 131, 141, 151, 161, 171, 181, 191]\n"
     ]
    }
   ],
   "source": [
    "#range using length\n",
    "println(collect(range(start = 1, length=10, stop=100)))\n",
    "\n",
    "#range using step\n",
    "println(collect(range(start = 1, stop=200, step=10)))"
   ]
  },
  {
   "cell_type": "code",
   "execution_count": 1,
   "metadata": {},
   "outputs": [
    {
     "data": {
      "text/plain": [
       "0.1:0.1:0.9"
      ]
     },
     "metadata": {},
     "output_type": "display_data"
    }
   ],
   "source": [
    "k=0.1:0.1:0.9"
   ]
  },
  {
   "cell_type": "code",
   "execution_count": 2,
   "metadata": {},
   "outputs": [
    {
     "data": {
      "text/plain": [
       "9-element Vector{Float64}:\n",
       " 0.1\n",
       " 0.2\n",
       " 0.3\n",
       " 0.4\n",
       " 0.5\n",
       " 0.6\n",
       " 0.7\n",
       " 0.8\n",
       " 0.9"
      ]
     },
     "metadata": {},
     "output_type": "display_data"
    }
   ],
   "source": [
    "collect(k)"
   ]
  },
  {
   "cell_type": "code",
   "execution_count": 3,
   "metadata": {},
   "outputs": [
    {
     "data": {
      "text/plain": [
       "2-element Vector{Float64}:\n",
       " 0.5\n",
       " 0.5"
      ]
     },
     "metadata": {},
     "output_type": "display_data"
    }
   ],
   "source": [
    "p=[0.5,0.5]"
   ]
  },
  {
   "cell_type": "code",
   "execution_count": 3,
   "metadata": {},
   "outputs": [],
   "source": [
    "using StatsBase"
   ]
  },
  {
   "cell_type": "code",
   "execution_count": 5,
   "metadata": {},
   "outputs": [
    {
     "data": {
      "text/plain": [
       "0.6931471805599453"
      ]
     },
     "metadata": {},
     "output_type": "display_data"
    }
   ],
   "source": [
    "entropy(p)"
   ]
  },
  {
   "cell_type": "code",
   "execution_count": 6,
   "metadata": {},
   "outputs": [
    {
     "data": {
      "text/plain": [
       "1.0"
      ]
     },
     "metadata": {},
     "output_type": "display_data"
    }
   ],
   "source": [
    "entropy(p,2)"
   ]
  },
  {
   "cell_type": "code",
   "execution_count": 8,
   "metadata": {},
   "outputs": [
    {
     "data": {
      "text/plain": [
       "9-element Vector{Int64}:\n",
       " 1\n",
       " 2\n",
       " 3\n",
       " 4\n",
       " 5\n",
       " 6\n",
       " 7\n",
       " 8\n",
       " 9"
      ]
     },
     "metadata": {},
     "output_type": "display_data"
    }
   ],
   "source": [
    "v = [n for n=1:9]"
   ]
  },
  {
   "cell_type": "code",
   "execution_count": 9,
   "metadata": {},
   "outputs": [
    {
     "data": {
      "text/plain": [
       "1-element Vector{UnitRange{Int64}}:\n",
       " 1:9"
      ]
     },
     "metadata": {},
     "output_type": "display_data"
    }
   ],
   "source": [
    "v = [1:9]"
   ]
  },
  {
   "cell_type": "code",
   "execution_count": 1,
   "metadata": {},
   "outputs": [
    {
     "data": {
      "text/plain": [
       "11"
      ]
     },
     "metadata": {},
     "output_type": "display_data"
    }
   ],
   "source": [
    "n=11"
   ]
  },
  {
   "cell_type": "code",
   "execution_count": 2,
   "metadata": {},
   "outputs": [
    {
     "data": {
      "text/plain": [
       "11-element Vector{Float64}:\n",
       " 0.0\n",
       " 0.0\n",
       " 0.0\n",
       " 0.0\n",
       " 0.0\n",
       " 0.0\n",
       " 0.0\n",
       " 0.0\n",
       " 0.0\n",
       " 0.0\n",
       " 0.0"
      ]
     },
     "metadata": {},
     "output_type": "display_data"
    }
   ],
   "source": [
    "v = Vector{Float64}(undef,n)"
   ]
  },
  {
   "cell_type": "code",
   "execution_count": 7,
   "metadata": {},
   "outputs": [
    {
     "ename": "MethodError",
     "evalue": "MethodError: no method matching -(::Float64, ::StepRangeLen{Float64, Base.TwicePrecision{Float64}, Base.TwicePrecision{Float64}, Int64})\nFor element-wise subtraction, use broadcasting with dot syntax: scalar .- array\n\nClosest candidates are:\n  -(::Real, !Matched::Complex{Bool})\n   @ Base complex.jl:321\n  -(!Matched::StepRangeLen, ::StepRangeLen)\n   @ Base range.jl:1484\n  -(!Matched::Union{LinRange, OrdinalRange, StepRangeLen}, ::Union{LinRange, OrdinalRange, StepRangeLen})\n   @ Base range.jl:1470\n  ...\n",
     "output_type": "error",
     "traceback": [
      "MethodError: no method matching -(::Float64, ::StepRangeLen{Float64, Base.TwicePrecision{Float64}, Base.TwicePrecision{Float64}, Int64})\n",
      "For element-wise subtraction, use broadcasting with dot syntax: scalar .- array\n",
      "\n",
      "Closest candidates are:\n",
      "  -(::Real, !Matched::Complex{Bool})\n",
      "   @ Base complex.jl:321\n",
      "  -(!Matched::StepRangeLen, ::StepRangeLen)\n",
      "   @ Base range.jl:1484\n",
      "  -(!Matched::Union{LinRange, OrdinalRange, StepRangeLen}, ::Union{LinRange, OrdinalRange, StepRangeLen})\n",
      "   @ Base range.jl:1470\n",
      "  ...\n",
      "\n",
      "\n",
      "Stacktrace:\n",
      " [1] top-level scope\n",
      "   @ d:\\jianguo\\myvscode\\Julia\\Julia-2024-04-03.ipynb:1"
     ]
    }
   ],
   "source": [
    "p=[0.5-0.25*k,0.25*k,0.25*k,0.5-0.25*k]"
   ]
  },
  {
   "cell_type": "code",
   "execution_count": 4,
   "metadata": {},
   "outputs": [],
   "source": [
    "for i in 1:n\n",
    "    k=0.1*(i-1)\n",
    "    p=[0.5-0.25*k,0.25*k,0.25*k,0.5-0.25*k]\n",
    "    v[i]=entropy(p,2)\n",
    "end"
   ]
  },
  {
   "cell_type": "code",
   "execution_count": 5,
   "metadata": {},
   "outputs": [
    {
     "name": "stdout",
     "output_type": "stream",
     "text": [
      "[1.0, 1.2863969571159564, 1.4689955935892813, 1.6098403047164003, 1.7219280948873625, 1.8112781244591327, 1.8812908992306927, 1.934068055375491, 1.970950594454669, 1.9927744539878085, 2.0]\n"
     ]
    }
   ],
   "source": [
    "println(v)"
   ]
  },
  {
   "cell_type": "code",
   "execution_count": 6,
   "metadata": {},
   "outputs": [],
   "source": [
    "using Plots"
   ]
  },
  {
   "cell_type": "code",
   "execution_count": 7,
   "metadata": {},
   "outputs": [
    {
     "data": {
      "text/plain": [
       "0.0:0.1:1.0"
      ]
     },
     "metadata": {},
     "output_type": "display_data"
    }
   ],
   "source": [
    "x=0:0.1:1"
   ]
  },
  {
   "cell_type": "code",
   "execution_count": 8,
   "metadata": {},
   "outputs": [
    {
     "data": {
      "image/png": "[encoded data removed]",
      "image/svg+xml": [
       "<?xml version=\"1.0\" encoding=\"utf-8\"?>\n",
       "<svg xmlns=\"http://www.w3.org/2000/svg\" xmlns:xlink=\"http://www.w3.org/1999/xlink\" width=\"600\" height=\"400\" viewBox=\"0 0 2400 1600\">\n",
       "<defs>\n",
       "  <clipPath id=\"clip970\">\n",
       "    <rect x=\"0\" y=\"0\" width=\"2400\" height=\"1600\"/>\n",
       "  </clipPath>\n",
       "</defs>\n",
       "<path clip-path=\"url(#clip970)\" d=\"M0 1600 L2400 1600 L2400 0 L0 0  Z\" fill=\"#ffffff\" fill-rule=\"evenodd\" fill-opacity=\"1\"/>\n",
       "<defs>\n",
       "  <clipPath id=\"clip971\">\n",
       "    <rect x=\"480\" y=\"0\" width=\"1681\" height=\"1600\"/>\n",
       "  </clipPath>\n",
       "</defs>\n",
       "<path clip-path=\"url(#clip970)\" d=\"M185.927 1486.45 L2352.76 1486.45 L2352.76 47.2441 L185.927 47.2441  Z\" fill=\"#ffffff\" fill-rule=\"evenodd\" fill-opacity=\"1\"/>\n",
       "<defs>\n",
       "  <clipPath id=\"clip972\">\n",
       "    <rect x=\"185\" y=\"47\" width=\"2168\" height=\"1440\"/>\n",
       "  </clipPath>\n",
       "</defs>\n",
       "<polyline clip-path=\"url(#clip972)\" style=\"stroke:#000000; stroke-linecap:round; stroke-linejoin:round; stroke-width:2; stroke-opacity:0.1; fill:none\" points=\"247.252,1486.45 247.252,47.2441 \"/>\n",
       "<polyline clip-path=\"url(#clip972)\" style=\"stroke:#000000; stroke-linecap:round; stroke-linejoin:round; stroke-width:2; stroke-opacity:0.1; fill:none\" points=\"758.297,1486.45 758.297,47.2441 \"/>\n",
       "<polyline clip-path=\"url(#clip972)\" style=\"stroke:#000000; stroke-linecap:round; stroke-linejoin:round; stroke-width:2; stroke-opacity:0.1; fill:none\" points=\"1269.34,1486.45 1269.34,47.2441 \"/>\n",
       "<polyline clip-path=\"url(#clip972)\" style=\"stroke:#000000; stroke-linecap:round; stroke-linejoin:round; stroke-width:2; stroke-opacity:0.1; fill:none\" points=\"1780.39,1486.45 1780.39,47.2441 \"/>\n",
       "<polyline clip-path=\"url(#clip972)\" style=\"stroke:#000000; stroke-linecap:round; stroke-linejoin:round; stroke-width:2; stroke-opacity:0.1; fill:none\" points=\"2291.43,1486.45 2291.43,47.2441 \"/>\n",
       "<polyline clip-path=\"url(#clip970)\" style=\"stroke:#000000; stroke-linecap:round; stroke-linejoin:round; stroke-width:4; stroke-opacity:1; fill:none\" points=\"185.927,1486.45 2352.76,1486.45 \"/>\n",
       "<polyline clip-path=\"url(#clip970)\" style=\"stroke:#000000; stroke-linecap:round; stroke-linejoin:round; stroke-width:4; stroke-opacity:1; fill:none\" points=\"247.252,1486.45 247.252,1467.55 \"/>\n",
       "<polyline clip-path=\"url(#clip970)\" style=\"stroke:#000000; stroke-linecap:round; stroke-linejoin:round; stroke-width:4; stroke-opacity:1; fill:none\" points=\"758.297,1486.45 758.297,1467.55 \"/>\n",
       "<polyline clip-path=\"url(#clip970)\" style=\"stroke:#000000; stroke-linecap:round; stroke-linejoin:round; stroke-width:4; stroke-opacity:1; fill:none\" points=\"1269.34,1486.45 1269.34,1467.55 \"/>\n",
       "<polyline clip-path=\"url(#clip970)\" style=\"stroke:#000000; stroke-linecap:round; stroke-linejoin:round; stroke-width:4; stroke-opacity:1; fill:none\" points=\"1780.39,1486.45 1780.39,1467.55 \"/>\n",
       "<polyline clip-path=\"url(#clip970)\" style=\"stroke:#000000; stroke-linecap:round; stroke-linejoin:round; stroke-width:4; stroke-opacity:1; fill:none\" points=\"2291.43,1486.45 2291.43,1467.55 \"/>\n",
       "<path clip-path=\"url(#clip970)\" d=\"M209.556 1517.37 Q205.944 1517.37 204.116 1520.93 Q202.31 1524.47 202.31 1531.6 Q202.31 1538.71 204.116 1542.27 Q205.944 1545.82 209.556 1545.82 Q213.19 1545.82 214.995 1542.27 Q216.824 1538.71 216.824 1531.6 Q216.824 1524.47 214.995 1520.93 Q213.19 1517.37 209.556 1517.37 M209.556 1513.66 Q215.366 1513.66 218.421 1518.27 Q221.5 1522.85 221.5 1531.6 Q221.5 1540.33 218.421 1544.94 Q215.366 1549.52 209.556 1549.52 Q203.745 1549.52 200.667 1544.94 Q197.611 1540.33 197.611 1531.6 Q197.611 1522.85 200.667 1518.27 Q203.745 1513.66 209.556 1513.66 Z\" fill=\"#000000\" fill-rule=\"nonzero\" fill-opacity=\"1\" /><path clip-path=\"url(#clip970)\" d=\"M229.718 1542.97 L234.602 1542.97 L234.602 1548.85 L229.718 1548.85 L229.718 1542.97 Z\" fill=\"#000000\" fill-rule=\"nonzero\" fill-opacity=\"1\" /><path clip-path=\"url(#clip970)\" d=\"M254.787 1517.37 Q251.176 1517.37 249.347 1520.93 Q247.541 1524.47 247.541 1531.6 Q247.541 1538.71 249.347 1542.27 Q251.176 1545.82 254.787 1545.82 Q258.421 1545.82 260.227 1542.27 Q262.055 1538.71 262.055 1531.6 Q262.055 1524.47 260.227 1520.93 Q258.421 1517.37 254.787 1517.37 M254.787 1513.66 Q260.597 1513.66 263.653 1518.27 Q266.731 1522.85 266.731 1531.6 Q266.731 1540.33 263.653 1544.94 Q260.597 1549.52 254.787 1549.52 Q248.977 1549.52 245.898 1544.94 Q242.842 1540.33 242.842 1531.6 Q242.842 1522.85 245.898 1518.27 Q248.977 1513.66 254.787 1513.66 Z\" fill=\"#000000\" fill-rule=\"nonzero\" fill-opacity=\"1\" /><path clip-path=\"url(#clip970)\" d=\"M284.949 1517.37 Q281.338 1517.37 279.509 1520.93 Q277.703 1524.47 277.703 1531.6 Q277.703 1538.71 279.509 1542.27 Q281.338 1545.82 284.949 1545.82 Q288.583 1545.82 290.388 1542.27 Q292.217 1538.71 292.217 1531.6 Q292.217 1524.47 290.388 1520.93 Q288.583 1517.37 284.949 1517.37 M284.949 1513.66 Q290.759 1513.66 293.814 1518.27 Q296.893 1522.85 296.893 1531.6 Q296.893 1540.33 293.814 1544.94 Q290.759 1549.52 284.949 1549.52 Q279.139 1549.52 276.06 1544.94 Q273.004 1540.33 273.004 1531.6 Q273.004 1522.85 276.06 1518.27 Q279.139 1513.66 284.949 1513.66 Z\" fill=\"#000000\" fill-rule=\"nonzero\" fill-opacity=\"1\" /><path clip-path=\"url(#clip970)\" d=\"M721.098 1517.37 Q717.487 1517.37 715.658 1520.93 Q713.853 1524.47 713.853 1531.6 Q713.853 1538.71 715.658 1542.27 Q717.487 1545.82 721.098 1545.82 Q724.732 1545.82 726.538 1542.27 Q728.366 1538.71 728.366 1531.6 Q728.366 1524.47 726.538 1520.93 Q724.732 1517.37 721.098 1517.37 M721.098 1513.66 Q726.908 1513.66 729.964 1518.27 Q733.042 1522.85 733.042 1531.6 Q733.042 1540.33 729.964 1544.94 Q726.908 1549.52 721.098 1549.52 Q715.288 1549.52 712.209 1544.94 Q709.153 1540.33 709.153 1531.6 Q709.153 1522.85 712.209 1518.27 Q715.288 1513.66 721.098 1513.66 Z\" fill=\"#000000\" fill-rule=\"nonzero\" fill-opacity=\"1\" /><path clip-path=\"url(#clip970)\" d=\"M741.26 1542.97 L746.144 1542.97 L746.144 1548.85 L741.26 1548.85 L741.26 1542.97 Z\" fill=\"#000000\" fill-rule=\"nonzero\" fill-opacity=\"1\" /><path clip-path=\"url(#clip970)\" d=\"M760.357 1544.91 L776.676 1544.91 L776.676 1548.85 L754.732 1548.85 L754.732 1544.91 Q757.394 1542.16 761.977 1537.53 Q766.584 1532.88 767.764 1531.53 Q770.01 1529.01 770.889 1527.27 Q771.792 1525.51 771.792 1523.82 Q771.792 1521.07 769.848 1519.33 Q767.926 1517.6 764.824 1517.6 Q762.625 1517.6 760.172 1518.36 Q757.741 1519.13 754.963 1520.68 L754.963 1515.95 Q757.787 1514.82 760.241 1514.24 Q762.695 1513.66 764.732 1513.66 Q770.102 1513.66 773.297 1516.35 Q776.491 1519.03 776.491 1523.52 Q776.491 1525.65 775.681 1527.57 Q774.894 1529.47 772.787 1532.07 Q772.209 1532.74 769.107 1535.95 Q766.005 1539.15 760.357 1544.91 Z\" fill=\"#000000\" fill-rule=\"nonzero\" fill-opacity=\"1\" /><path clip-path=\"url(#clip970)\" d=\"M786.537 1514.29 L804.894 1514.29 L804.894 1518.22 L790.82 1518.22 L790.82 1526.7 Q791.838 1526.35 792.857 1526.19 Q793.875 1526 794.894 1526 Q800.681 1526 804.06 1529.17 Q807.44 1532.34 807.44 1537.76 Q807.44 1543.34 803.968 1546.44 Q800.496 1549.52 794.176 1549.52 Q792 1549.52 789.732 1549.15 Q787.486 1548.78 785.079 1548.04 L785.079 1543.34 Q787.162 1544.47 789.385 1545.03 Q791.607 1545.58 794.084 1545.58 Q798.088 1545.58 800.426 1543.48 Q802.764 1541.37 802.764 1537.76 Q802.764 1534.15 800.426 1532.04 Q798.088 1529.94 794.084 1529.94 Q792.209 1529.94 790.334 1530.35 Q788.482 1530.77 786.537 1531.65 L786.537 1514.29 Z\" fill=\"#000000\" fill-rule=\"nonzero\" fill-opacity=\"1\" /><path clip-path=\"url(#clip970)\" d=\"M1231.64 1517.37 Q1228.03 1517.37 1226.21 1520.93 Q1224.4 1524.47 1224.4 1531.6 Q1224.4 1538.71 1226.21 1542.27 Q1228.03 1545.82 1231.64 1545.82 Q1235.28 1545.82 1237.08 1542.27 Q1238.91 1538.71 1238.91 1531.6 Q1238.91 1524.47 1237.08 1520.93 Q1235.28 1517.37 1231.64 1517.37 M1231.64 1513.66 Q1237.45 1513.66 1240.51 1518.27 Q1243.59 1522.85 1243.59 1531.6 Q1243.59 1540.33 1240.51 1544.94 Q1237.45 1549.52 1231.64 1549.52 Q1225.83 1549.52 1222.76 1544.94 Q1219.7 1540.33 1219.7 1531.6 Q1219.7 1522.85 1222.76 1518.27 Q1225.83 1513.66 1231.64 1513.66 Z\" fill=\"#000000\" fill-rule=\"nonzero\" fill-opacity=\"1\" /><path clip-path=\"url(#clip970)\" d=\"M1251.81 1542.97 L1256.69 1542.97 L1256.69 1548.85 L1251.81 1548.85 L1251.81 1542.97 Z\" fill=\"#000000\" fill-rule=\"nonzero\" fill-opacity=\"1\" /><path clip-path=\"url(#clip970)\" d=\"M1266.92 1514.29 L1285.28 1514.29 L1285.28 1518.22 L1271.2 1518.22 L1271.2 1526.7 Q1272.22 1526.35 1273.24 1526.19 Q1274.26 1526 1275.28 1526 Q1281.07 1526 1284.45 1529.17 Q1287.83 1532.34 1287.83 1537.76 Q1287.83 1543.34 1284.35 1546.44 Q1280.88 1549.52 1274.56 1549.52 Q1272.39 1549.52 1270.12 1549.15 Q1267.87 1548.78 1265.46 1548.04 L1265.46 1543.34 Q1267.55 1544.47 1269.77 1545.03 Q1271.99 1545.58 1274.47 1545.58 Q1278.47 1545.58 1280.81 1543.48 Q1283.15 1541.37 1283.15 1537.76 Q1283.15 1534.15 1280.81 1532.04 Q1278.47 1529.94 1274.47 1529.94 Q1272.59 1529.94 1270.72 1530.35 Q1268.87 1530.77 1266.92 1531.65 L1266.92 1514.29 Z\" fill=\"#000000\" fill-rule=\"nonzero\" fill-opacity=\"1\" /><path clip-path=\"url(#clip970)\" d=\"M1307.04 1517.37 Q1303.43 1517.37 1301.6 1520.93 Q1299.79 1524.47 1299.79 1531.6 Q1299.79 1538.71 1301.6 1542.27 Q1303.43 1545.82 1307.04 1545.82 Q1310.67 1545.82 1312.48 1542.27 Q1314.31 1538.71 1314.31 1531.6 Q1314.31 1524.47 1312.48 1520.93 Q1310.67 1517.37 1307.04 1517.37 M1307.04 1513.66 Q1312.85 1513.66 1315.9 1518.27 Q1318.98 1522.85 1318.98 1531.6 Q1318.98 1540.33 1315.9 1544.94 Q1312.85 1549.52 1307.04 1549.52 Q1301.23 1549.52 1298.15 1544.94 Q1295.09 1540.33 1295.09 1531.6 Q1295.09 1522.85 1298.15 1518.27 Q1301.23 1513.66 1307.04 1513.66 Z\" fill=\"#000000\" fill-rule=\"nonzero\" fill-opacity=\"1\" /><path clip-path=\"url(#clip970)\" d=\"M1743.19 1517.37 Q1739.58 1517.37 1737.75 1520.93 Q1735.94 1524.47 1735.94 1531.6 Q1735.94 1538.71 1737.75 1542.27 Q1739.58 1545.82 1743.19 1545.82 Q1746.82 1545.82 1748.63 1542.27 Q1750.46 1538.71 1750.46 1531.6 Q1750.46 1524.47 1748.63 1520.93 Q1746.82 1517.37 1743.19 1517.37 M1743.19 1513.66 Q1749 1513.66 1752.05 1518.27 Q1755.13 1522.85 1755.13 1531.6 Q1755.13 1540.33 1752.05 1544.94 Q1749 1549.52 1743.19 1549.52 Q1737.38 1549.52 1734.3 1544.94 Q1731.24 1540.33 1731.24 1531.6 Q1731.24 1522.85 1734.3 1518.27 Q1737.38 1513.66 1743.19 1513.66 Z\" fill=\"#000000\" fill-rule=\"nonzero\" fill-opacity=\"1\" /><path clip-path=\"url(#clip970)\" d=\"M1763.35 1542.97 L1768.23 1542.97 L1768.23 1548.85 L1763.35 1548.85 L1763.35 1542.97 Z\" fill=\"#000000\" fill-rule=\"nonzero\" fill-opacity=\"1\" /><path clip-path=\"url(#clip970)\" d=\"M1777.24 1514.29 L1799.46 1514.29 L1799.46 1516.28 L1786.91 1548.85 L1782.03 1548.85 L1793.83 1518.22 L1777.24 1518.22 L1777.24 1514.29 Z\" fill=\"#000000\" fill-rule=\"nonzero\" fill-opacity=\"1\" /><path clip-path=\"url(#clip970)\" d=\"M1808.63 1514.29 L1826.98 1514.29 L1826.98 1518.22 L1812.91 1518.22 L1812.91 1526.7 Q1813.93 1526.35 1814.95 1526.19 Q1815.96 1526 1816.98 1526 Q1822.77 1526 1826.15 1529.17 Q1829.53 1532.34 1829.53 1537.76 Q1829.53 1543.34 1826.06 1546.44 Q1822.58 1549.52 1816.27 1549.52 Q1814.09 1549.52 1811.82 1549.15 Q1809.58 1548.78 1807.17 1548.04 L1807.17 1543.34 Q1809.25 1544.47 1811.47 1545.03 Q1813.7 1545.58 1816.17 1545.58 Q1820.18 1545.58 1822.52 1543.48 Q1824.85 1541.37 1824.85 1537.76 Q1824.85 1534.15 1822.52 1532.04 Q1820.18 1529.94 1816.17 1529.94 Q1814.3 1529.94 1812.42 1530.35 Q1810.57 1530.77 1808.63 1531.65 L1808.63 1514.29 Z\" fill=\"#000000\" fill-rule=\"nonzero\" fill-opacity=\"1\" /><path clip-path=\"url(#clip970)\" d=\"M2243.5 1544.91 L2251.14 1544.91 L2251.14 1518.55 L2242.83 1520.21 L2242.83 1515.95 L2251.1 1514.29 L2255.77 1514.29 L2255.77 1544.91 L2263.41 1544.91 L2263.41 1548.85 L2243.5 1548.85 L2243.5 1544.91 Z\" fill=\"#000000\" fill-rule=\"nonzero\" fill-opacity=\"1\" /><path clip-path=\"url(#clip970)\" d=\"M2272.85 1542.97 L2277.74 1542.97 L2277.74 1548.85 L2272.85 1548.85 L2272.85 1542.97 Z\" fill=\"#000000\" fill-rule=\"nonzero\" fill-opacity=\"1\" /><path clip-path=\"url(#clip970)\" d=\"M2297.92 1517.37 Q2294.31 1517.37 2292.48 1520.93 Q2290.68 1524.47 2290.68 1531.6 Q2290.68 1538.71 2292.48 1542.27 Q2294.31 1545.82 2297.92 1545.82 Q2301.56 1545.82 2303.36 1542.27 Q2305.19 1538.71 2305.19 1531.6 Q2305.19 1524.47 2303.36 1520.93 Q2301.56 1517.37 2297.92 1517.37 M2297.92 1513.66 Q2303.73 1513.66 2306.79 1518.27 Q2309.87 1522.85 2309.87 1531.6 Q2309.87 1540.33 2306.79 1544.94 Q2303.73 1549.52 2297.92 1549.52 Q2292.11 1549.52 2289.03 1544.94 Q2285.98 1540.33 2285.98 1531.6 Q2285.98 1522.85 2289.03 1518.27 Q2292.11 1513.66 2297.92 1513.66 Z\" fill=\"#000000\" fill-rule=\"nonzero\" fill-opacity=\"1\" /><path clip-path=\"url(#clip970)\" d=\"M2328.09 1517.37 Q2324.47 1517.37 2322.65 1520.93 Q2320.84 1524.47 2320.84 1531.6 Q2320.84 1538.71 2322.65 1542.27 Q2324.47 1545.82 2328.09 1545.82 Q2331.72 1545.82 2333.53 1542.27 Q2335.35 1538.71 2335.35 1531.6 Q2335.35 1524.47 2333.53 1520.93 Q2331.72 1517.37 2328.09 1517.37 M2328.09 1513.66 Q2333.9 1513.66 2336.95 1518.27 Q2340.03 1522.85 2340.03 1531.6 Q2340.03 1540.33 2336.95 1544.94 Q2333.9 1549.52 2328.09 1549.52 Q2322.28 1549.52 2319.2 1544.94 Q2316.14 1540.33 2316.14 1531.6 Q2316.14 1522.85 2319.2 1518.27 Q2322.28 1513.66 2328.09 1513.66 Z\" fill=\"#000000\" fill-rule=\"nonzero\" fill-opacity=\"1\" /><polyline clip-path=\"url(#clip972)\" style=\"stroke:#000000; stroke-linecap:round; stroke-linejoin:round; stroke-width:2; stroke-opacity:0.1; fill:none\" points=\"185.927,1445.72 2352.76,1445.72 \"/>\n",
       "<polyline clip-path=\"url(#clip972)\" style=\"stroke:#000000; stroke-linecap:round; stroke-linejoin:round; stroke-width:2; stroke-opacity:0.1; fill:none\" points=\"185.927,1106.28 2352.76,1106.28 \"/>\n",
       "<polyline clip-path=\"url(#clip972)\" style=\"stroke:#000000; stroke-linecap:round; stroke-linejoin:round; stroke-width:2; stroke-opacity:0.1; fill:none\" points=\"185.927,766.846 2352.76,766.846 \"/>\n",
       "<polyline clip-path=\"url(#clip972)\" style=\"stroke:#000000; stroke-linecap:round; stroke-linejoin:round; stroke-width:2; stroke-opacity:0.1; fill:none\" points=\"185.927,427.411 2352.76,427.411 \"/>\n",
       "<polyline clip-path=\"url(#clip972)\" style=\"stroke:#000000; stroke-linecap:round; stroke-linejoin:round; stroke-width:2; stroke-opacity:0.1; fill:none\" points=\"185.927,87.9763 2352.76,87.9763 \"/>\n",
       "<polyline clip-path=\"url(#clip970)\" style=\"stroke:#000000; stroke-linecap:round; stroke-linejoin:round; stroke-width:4; stroke-opacity:1; fill:none\" points=\"185.927,1486.45 185.927,47.2441 \"/>\n",
       "<polyline clip-path=\"url(#clip970)\" style=\"stroke:#000000; stroke-linecap:round; stroke-linejoin:round; stroke-width:4; stroke-opacity:1; fill:none\" points=\"185.927,1445.72 204.824,1445.72 \"/>\n",
       "<polyline clip-path=\"url(#clip970)\" style=\"stroke:#000000; stroke-linecap:round; stroke-linejoin:round; stroke-width:4; stroke-opacity:1; fill:none\" points=\"185.927,1106.28 204.824,1106.28 \"/>\n",
       "<polyline clip-path=\"url(#clip970)\" style=\"stroke:#000000; stroke-linecap:round; stroke-linejoin:round; stroke-width:4; stroke-opacity:1; fill:none\" points=\"185.927,766.846 204.824,766.846 \"/>\n",
       "<polyline clip-path=\"url(#clip970)\" style=\"stroke:#000000; stroke-linecap:round; stroke-linejoin:round; stroke-width:4; stroke-opacity:1; fill:none\" points=\"185.927,427.411 204.824,427.411 \"/>\n",
       "<polyline clip-path=\"url(#clip970)\" style=\"stroke:#000000; stroke-linecap:round; stroke-linejoin:round; stroke-width:4; stroke-opacity:1; fill:none\" points=\"185.927,87.9763 204.824,87.9763 \"/>\n",
       "<path clip-path=\"url(#clip970)\" d=\"M53.3995 1459.06 L61.0384 1459.06 L61.0384 1432.69 L52.7282 1434.36 L52.7282 1430.1 L60.9921 1428.44 L65.668 1428.44 L65.668 1459.06 L73.3068 1459.06 L73.3068 1463 L53.3995 1463 L53.3995 1459.06 Z\" fill=\"#000000\" fill-rule=\"nonzero\" fill-opacity=\"1\" /><path clip-path=\"url(#clip970)\" d=\"M82.7512 1457.12 L87.6354 1457.12 L87.6354 1463 L82.7512 1463 L82.7512 1457.12 Z\" fill=\"#000000\" fill-rule=\"nonzero\" fill-opacity=\"1\" /><path clip-path=\"url(#clip970)\" d=\"M107.821 1431.51 Q104.209 1431.51 102.381 1435.08 Q100.575 1438.62 100.575 1445.75 Q100.575 1452.86 102.381 1456.42 Q104.209 1459.96 107.821 1459.96 Q111.455 1459.96 113.26 1456.42 Q115.089 1452.86 115.089 1445.75 Q115.089 1438.62 113.26 1435.08 Q111.455 1431.51 107.821 1431.51 M107.821 1427.81 Q113.631 1427.81 116.686 1432.42 Q119.765 1437 119.765 1445.75 Q119.765 1454.48 116.686 1459.08 Q113.631 1463.67 107.821 1463.67 Q102.01 1463.67 98.9317 1459.08 Q95.8761 1454.48 95.8761 1445.75 Q95.8761 1437 98.9317 1432.42 Q102.01 1427.81 107.821 1427.81 Z\" fill=\"#000000\" fill-rule=\"nonzero\" fill-opacity=\"1\" /><path clip-path=\"url(#clip970)\" d=\"M137.982 1431.51 Q134.371 1431.51 132.543 1435.08 Q130.737 1438.62 130.737 1445.75 Q130.737 1452.86 132.543 1456.42 Q134.371 1459.96 137.982 1459.96 Q141.617 1459.96 143.422 1456.42 Q145.251 1452.86 145.251 1445.75 Q145.251 1438.62 143.422 1435.08 Q141.617 1431.51 137.982 1431.51 M137.982 1427.81 Q143.793 1427.81 146.848 1432.42 Q149.927 1437 149.927 1445.75 Q149.927 1454.48 146.848 1459.08 Q143.793 1463.67 137.982 1463.67 Q132.172 1463.67 129.094 1459.08 Q126.038 1454.48 126.038 1445.75 Q126.038 1437 129.094 1432.42 Q132.172 1427.81 137.982 1427.81 Z\" fill=\"#000000\" fill-rule=\"nonzero\" fill-opacity=\"1\" /><path clip-path=\"url(#clip970)\" d=\"M54.3949 1119.63 L62.0337 1119.63 L62.0337 1093.26 L53.7236 1094.93 L53.7236 1090.67 L61.9874 1089 L66.6633 1089 L66.6633 1119.63 L74.3022 1119.63 L74.3022 1123.56 L54.3949 1123.56 L54.3949 1119.63 Z\" fill=\"#000000\" fill-rule=\"nonzero\" fill-opacity=\"1\" /><path clip-path=\"url(#clip970)\" d=\"M83.7466 1117.68 L88.6308 1117.68 L88.6308 1123.56 L83.7466 1123.56 L83.7466 1117.68 Z\" fill=\"#000000\" fill-rule=\"nonzero\" fill-opacity=\"1\" /><path clip-path=\"url(#clip970)\" d=\"M102.844 1119.63 L119.163 1119.63 L119.163 1123.56 L97.2187 1123.56 L97.2187 1119.63 Q99.8808 1116.87 104.464 1112.24 Q109.071 1107.59 110.251 1106.25 Q112.496 1103.72 113.376 1101.99 Q114.279 1100.23 114.279 1098.54 Q114.279 1095.78 112.334 1094.05 Q110.413 1092.31 107.311 1092.31 Q105.112 1092.31 102.659 1093.07 Q100.228 1093.84 97.4502 1095.39 L97.4502 1090.67 Q100.274 1089.53 102.728 1088.95 Q105.182 1088.38 107.219 1088.38 Q112.589 1088.38 115.783 1091.06 Q118.978 1093.75 118.978 1098.24 Q118.978 1100.37 118.168 1102.29 Q117.381 1104.19 115.274 1106.78 Q114.695 1107.45 111.594 1110.67 Q108.492 1113.86 102.844 1119.63 Z\" fill=\"#000000\" fill-rule=\"nonzero\" fill-opacity=\"1\" /><path clip-path=\"url(#clip970)\" d=\"M129.024 1089 L147.38 1089 L147.38 1092.94 L133.306 1092.94 L133.306 1101.41 Q134.325 1101.06 135.344 1100.9 Q136.362 1100.71 137.381 1100.71 Q143.168 1100.71 146.547 1103.89 Q149.927 1107.06 149.927 1112.47 Q149.927 1118.05 146.455 1121.15 Q142.982 1124.23 136.663 1124.23 Q134.487 1124.23 132.219 1123.86 Q129.973 1123.49 127.566 1122.75 L127.566 1118.05 Q129.649 1119.19 131.871 1119.74 Q134.094 1120.3 136.57 1120.3 Q140.575 1120.3 142.913 1118.19 Q145.251 1116.08 145.251 1112.47 Q145.251 1108.86 142.913 1106.76 Q140.575 1104.65 136.57 1104.65 Q134.695 1104.65 132.82 1105.07 Q130.969 1105.48 129.024 1106.36 L129.024 1089 Z\" fill=\"#000000\" fill-rule=\"nonzero\" fill-opacity=\"1\" /><path clip-path=\"url(#clip970)\" d=\"M53.3995 780.191 L61.0384 780.191 L61.0384 753.825 L52.7282 755.492 L52.7282 751.233 L60.9921 749.566 L65.668 749.566 L65.668 780.191 L73.3068 780.191 L73.3068 784.126 L53.3995 784.126 L53.3995 780.191 Z\" fill=\"#000000\" fill-rule=\"nonzero\" fill-opacity=\"1\" /><path clip-path=\"url(#clip970)\" d=\"M82.7512 778.246 L87.6354 778.246 L87.6354 784.126 L82.7512 784.126 L82.7512 778.246 Z\" fill=\"#000000\" fill-rule=\"nonzero\" fill-opacity=\"1\" /><path clip-path=\"url(#clip970)\" d=\"M97.8669 749.566 L116.223 749.566 L116.223 753.501 L102.149 753.501 L102.149 761.973 Q103.168 761.626 104.186 761.464 Q105.205 761.279 106.223 761.279 Q112.01 761.279 115.39 764.45 Q118.77 767.621 118.77 773.038 Q118.77 778.617 115.297 781.719 Q111.825 784.797 105.506 784.797 Q103.33 784.797 101.061 784.427 Q98.8159 784.057 96.4085 783.316 L96.4085 778.617 Q98.4919 779.751 100.714 780.307 Q102.936 780.862 105.413 780.862 Q109.418 780.862 111.756 778.756 Q114.094 776.649 114.094 773.038 Q114.094 769.427 111.756 767.321 Q109.418 765.214 105.413 765.214 Q103.538 765.214 101.663 765.631 Q99.8113 766.047 97.8669 766.927 L97.8669 749.566 Z\" fill=\"#000000\" fill-rule=\"nonzero\" fill-opacity=\"1\" /><path clip-path=\"url(#clip970)\" d=\"M137.982 752.645 Q134.371 752.645 132.543 756.209 Q130.737 759.751 130.737 766.881 Q130.737 773.987 132.543 777.552 Q134.371 781.094 137.982 781.094 Q141.617 781.094 143.422 777.552 Q145.251 773.987 145.251 766.881 Q145.251 759.751 143.422 756.209 Q141.617 752.645 137.982 752.645 M137.982 748.941 Q143.793 748.941 146.848 753.547 Q149.927 758.131 149.927 766.881 Q149.927 775.608 146.848 780.214 Q143.793 784.797 137.982 784.797 Q132.172 784.797 129.094 780.214 Q126.038 775.608 126.038 766.881 Q126.038 758.131 129.094 753.547 Q132.172 748.941 137.982 748.941 Z\" fill=\"#000000\" fill-rule=\"nonzero\" fill-opacity=\"1\" /><path clip-path=\"url(#clip970)\" d=\"M54.3949 440.756 L62.0337 440.756 L62.0337 414.39 L53.7236 416.057 L53.7236 411.798 L61.9874 410.131 L66.6633 410.131 L66.6633 440.756 L74.3022 440.756 L74.3022 444.691 L54.3949 444.691 L54.3949 440.756 Z\" fill=\"#000000\" fill-rule=\"nonzero\" fill-opacity=\"1\" /><path clip-path=\"url(#clip970)\" d=\"M83.7466 438.812 L88.6308 438.812 L88.6308 444.691 L83.7466 444.691 L83.7466 438.812 Z\" fill=\"#000000\" fill-rule=\"nonzero\" fill-opacity=\"1\" /><path clip-path=\"url(#clip970)\" d=\"M97.6354 410.131 L119.857 410.131 L119.857 412.122 L107.311 444.691 L102.427 444.691 L114.233 414.066 L97.6354 414.066 L97.6354 410.131 Z\" fill=\"#000000\" fill-rule=\"nonzero\" fill-opacity=\"1\" /><path clip-path=\"url(#clip970)\" d=\"M129.024 410.131 L147.38 410.131 L147.38 414.066 L133.306 414.066 L133.306 422.538 Q134.325 422.191 135.344 422.029 Q136.362 421.844 137.381 421.844 Q143.168 421.844 146.547 425.015 Q149.927 428.187 149.927 433.603 Q149.927 439.182 146.455 442.284 Q142.982 445.362 136.663 445.362 Q134.487 445.362 132.219 444.992 Q129.973 444.622 127.566 443.881 L127.566 439.182 Q129.649 440.316 131.871 440.872 Q134.094 441.427 136.57 441.427 Q140.575 441.427 142.913 439.321 Q145.251 437.214 145.251 433.603 Q145.251 429.992 142.913 427.886 Q140.575 425.779 136.57 425.779 Q134.695 425.779 132.82 426.196 Q130.969 426.613 129.024 427.492 L129.024 410.131 Z\" fill=\"#000000\" fill-rule=\"nonzero\" fill-opacity=\"1\" /><path clip-path=\"url(#clip970)\" d=\"M56.6171 101.321 L72.9365 101.321 L72.9365 105.256 L50.9921 105.256 L50.9921 101.321 Q53.6541 98.5665 58.2375 93.9369 Q62.8439 89.2841 64.0245 87.9416 Q66.2698 85.4184 67.1494 83.6823 Q68.0522 81.9231 68.0522 80.2333 Q68.0522 77.4786 66.1078 75.7425 Q64.1865 74.0064 61.0847 74.0064 Q58.8856 74.0064 56.4319 74.7703 Q54.0014 75.5342 51.2236 77.0851 L51.2236 72.3629 Q54.0477 71.2287 56.5014 70.65 Q58.955 70.0713 60.9921 70.0713 Q66.3624 70.0713 69.5568 72.7565 Q72.7513 75.4416 72.7513 79.9323 Q72.7513 82.062 71.9411 83.9832 Q71.1541 85.8814 69.0476 88.474 Q68.4689 89.1453 65.367 92.3628 Q62.2652 95.5573 56.6171 101.321 Z\" fill=\"#000000\" fill-rule=\"nonzero\" fill-opacity=\"1\" /><path clip-path=\"url(#clip970)\" d=\"M82.7512 99.3767 L87.6354 99.3767 L87.6354 105.256 L82.7512 105.256 L82.7512 99.3767 Z\" fill=\"#000000\" fill-rule=\"nonzero\" fill-opacity=\"1\" /><path clip-path=\"url(#clip970)\" d=\"M107.821 73.775 Q104.209 73.775 102.381 77.3398 Q100.575 80.8814 100.575 88.011 Q100.575 95.1174 102.381 98.6822 Q104.209 102.224 107.821 102.224 Q111.455 102.224 113.26 98.6822 Q115.089 95.1174 115.089 88.011 Q115.089 80.8814 113.26 77.3398 Q111.455 73.775 107.821 73.775 M107.821 70.0713 Q113.631 70.0713 116.686 74.6777 Q119.765 79.261 119.765 88.011 Q119.765 96.7378 116.686 101.344 Q113.631 105.928 107.821 105.928 Q102.01 105.928 98.9317 101.344 Q95.8761 96.7378 95.8761 88.011 Q95.8761 79.261 98.9317 74.6777 Q102.01 70.0713 107.821 70.0713 Z\" fill=\"#000000\" fill-rule=\"nonzero\" fill-opacity=\"1\" /><path clip-path=\"url(#clip970)\" d=\"M137.982 73.775 Q134.371 73.775 132.543 77.3398 Q130.737 80.8814 130.737 88.011 Q130.737 95.1174 132.543 98.6822 Q134.371 102.224 137.982 102.224 Q141.617 102.224 143.422 98.6822 Q145.251 95.1174 145.251 88.011 Q145.251 80.8814 143.422 77.3398 Q141.617 73.775 137.982 73.775 M137.982 70.0713 Q143.793 70.0713 146.848 74.6777 Q149.927 79.261 149.927 88.011 Q149.927 96.7378 146.848 101.344 Q143.793 105.928 137.982 105.928 Q132.172 105.928 129.094 101.344 Q126.038 96.7378 126.038 88.011 Q126.038 79.261 129.094 74.6777 Q132.172 70.0713 137.982 70.0713 Z\" fill=\"#000000\" fill-rule=\"nonzero\" fill-opacity=\"1\" /><polyline clip-path=\"url(#clip972)\" style=\"stroke:#009af9; stroke-linecap:round; stroke-linejoin:round; stroke-width:4; stroke-opacity:1; fill:none\" points=\"247.252,1445.72 451.67,1056.86 656.088,808.942 860.506,617.711 1064.92,465.525 1269.34,344.211 1473.76,249.152 1678.18,177.495 1882.59,127.418 2087.01,97.7867 2291.43,87.9763 \"/>\n",
       "<path clip-path=\"url(#clip970)\" d=\"M258.154 198.898 L527.268 198.898 L527.268 95.2176 L258.154 95.2176  Z\" fill=\"#ffffff\" fill-rule=\"evenodd\" fill-opacity=\"1\"/>\n",
       "<polyline clip-path=\"url(#clip970)\" style=\"stroke:#000000; stroke-linecap:round; stroke-linejoin:round; stroke-width:4; stroke-opacity:1; fill:none\" points=\"258.154,198.898 527.268,198.898 527.268,95.2176 258.154,95.2176 258.154,198.898 \"/>\n",
       "<polyline clip-path=\"url(#clip970)\" style=\"stroke:#009af9; stroke-linecap:round; stroke-linejoin:round; stroke-width:4; stroke-opacity:1; fill:none\" points=\"282.23,147.058 426.686,147.058 \"/>\n",
       "<path clip-path=\"url(#clip970)\" d=\"M464.604 166.745 Q462.798 171.375 461.085 172.787 Q459.373 174.199 456.502 174.199 L453.099 174.199 L453.099 170.634 L455.599 170.634 Q457.359 170.634 458.331 169.8 Q459.303 168.967 460.484 165.865 L461.248 163.921 L450.761 138.412 L455.275 138.412 L463.377 158.689 L471.479 138.412 L475.993 138.412 L464.604 166.745 Z\" fill=\"#000000\" fill-rule=\"nonzero\" fill-opacity=\"1\" /><path clip-path=\"url(#clip970)\" d=\"M483.284 160.402 L490.923 160.402 L490.923 134.037 L482.613 135.703 L482.613 131.444 L490.877 129.778 L495.553 129.778 L495.553 160.402 L503.192 160.402 L503.192 164.338 L483.284 164.338 L483.284 160.402 Z\" fill=\"#000000\" fill-rule=\"nonzero\" fill-opacity=\"1\" /></svg>\n"
      ],
      "text/html": [
       "<?xml version=\"1.0\" encoding=\"utf-8\"?>\n",
       "<svg xmlns=\"http://www.w3.org/2000/svg\" xmlns:xlink=\"http://www.w3.org/1999/xlink\" width=\"600\" height=\"400\" viewBox=\"0 0 2400 1600\">\n",
       "<defs>\n",
       "  <clipPath id=\"clip020\">\n",
       "    <rect x=\"0\" y=\"0\" width=\"2400\" height=\"1600\"/>\n",
       "  </clipPath>\n",
       "</defs>\n",
       "<path clip-path=\"url(#clip020)\" d=\"M0 1600 L2400 1600 L2400 0 L0 0  Z\" fill=\"#ffffff\" fill-rule=\"evenodd\" fill-opacity=\"1\"/>\n",
       "<defs>\n",
       "  <clipPath id=\"clip021\">\n",
       "    <rect x=\"480\" y=\"0\" width=\"1681\" height=\"1600\"/>\n",
       "  </clipPath>\n",
       "</defs>\n",
       "<path clip-path=\"url(#clip020)\" d=\"M185.927 1486.45 L2352.76 1486.45 L2352.76 47.2441 L185.927 47.2441  Z\" fill=\"#ffffff\" fill-rule=\"evenodd\" fill-opacity=\"1\"/>\n",
       "<defs>\n",
       "  <clipPath id=\"clip022\">\n",
       "    <rect x=\"185\" y=\"47\" width=\"2168\" height=\"1440\"/>\n",
       "  </clipPath>\n",
       "</defs>\n",
       "<polyline clip-path=\"url(#clip022)\" style=\"stroke:#000000; stroke-linecap:round; stroke-linejoin:round; stroke-width:2; stroke-opacity:0.1; fill:none\" points=\"247.252,1486.45 247.252,47.2441 \"/>\n",
       "<polyline clip-path=\"url(#clip022)\" style=\"stroke:#000000; stroke-linecap:round; stroke-linejoin:round; stroke-width:2; stroke-opacity:0.1; fill:none\" points=\"758.297,1486.45 758.297,47.2441 \"/>\n",
       "<polyline clip-path=\"url(#clip022)\" style=\"stroke:#000000; stroke-linecap:round; stroke-linejoin:round; stroke-width:2; stroke-opacity:0.1; fill:none\" points=\"1269.34,1486.45 1269.34,47.2441 \"/>\n",
       "<polyline clip-path=\"url(#clip022)\" style=\"stroke:#000000; stroke-linecap:round; stroke-linejoin:round; stroke-width:2; stroke-opacity:0.1; fill:none\" points=\"1780.39,1486.45 1780.39,47.2441 \"/>\n",
       "<polyline clip-path=\"url(#clip022)\" style=\"stroke:#000000; stroke-linecap:round; stroke-linejoin:round; stroke-width:2; stroke-opacity:0.1; fill:none\" points=\"2291.43,1486.45 2291.43,47.2441 \"/>\n",
       "<polyline clip-path=\"url(#clip020)\" style=\"stroke:#000000; stroke-linecap:round; stroke-linejoin:round; stroke-width:4; stroke-opacity:1; fill:none\" points=\"185.927,1486.45 2352.76,1486.45 \"/>\n",
       "<polyline clip-path=\"url(#clip020)\" style=\"stroke:#000000; stroke-linecap:round; stroke-linejoin:round; stroke-width:4; stroke-opacity:1; fill:none\" points=\"247.252,1486.45 247.252,1467.55 \"/>\n",
       "<polyline clip-path=\"url(#clip020)\" style=\"stroke:#000000; stroke-linecap:round; stroke-linejoin:round; stroke-width:4; stroke-opacity:1; fill:none\" points=\"758.297,1486.45 758.297,1467.55 \"/>\n",
       "<polyline clip-path=\"url(#clip020)\" style=\"stroke:#000000; stroke-linecap:round; stroke-linejoin:round; stroke-width:4; stroke-opacity:1; fill:none\" points=\"1269.34,1486.45 1269.34,1467.55 \"/>\n",
       "<polyline clip-path=\"url(#clip020)\" style=\"stroke:#000000; stroke-linecap:round; stroke-linejoin:round; stroke-width:4; stroke-opacity:1; fill:none\" points=\"1780.39,1486.45 1780.39,1467.55 \"/>\n",
       "<polyline clip-path=\"url(#clip020)\" style=\"stroke:#000000; stroke-linecap:round; stroke-linejoin:round; stroke-width:4; stroke-opacity:1; fill:none\" points=\"2291.43,1486.45 2291.43,1467.55 \"/>\n",
       "<path clip-path=\"url(#clip020)\" d=\"M209.556 1517.37 Q205.944 1517.37 204.116 1520.93 Q202.31 1524.47 202.31 1531.6 Q202.31 1538.71 204.116 1542.27 Q205.944 1545.82 209.556 1545.82 Q213.19 1545.82 214.995 1542.27 Q216.824 1538.71 216.824 1531.6 Q216.824 1524.47 214.995 1520.93 Q213.19 1517.37 209.556 1517.37 M209.556 1513.66 Q215.366 1513.66 218.421 1518.27 Q221.5 1522.85 221.5 1531.6 Q221.5 1540.33 218.421 1544.94 Q215.366 1549.52 209.556 1549.52 Q203.745 1549.52 200.667 1544.94 Q197.611 1540.33 197.611 1531.6 Q197.611 1522.85 200.667 1518.27 Q203.745 1513.66 209.556 1513.66 Z\" fill=\"#000000\" fill-rule=\"nonzero\" fill-opacity=\"1\" /><path clip-path=\"url(#clip020)\" d=\"M229.718 1542.97 L234.602 1542.97 L234.602 1548.85 L229.718 1548.85 L229.718 1542.97 Z\" fill=\"#000000\" fill-rule=\"nonzero\" fill-opacity=\"1\" /><path clip-path=\"url(#clip020)\" d=\"M254.787 1517.37 Q251.176 1517.37 249.347 1520.93 Q247.541 1524.47 247.541 1531.6 Q247.541 1538.71 249.347 1542.27 Q251.176 1545.82 254.787 1545.82 Q258.421 1545.82 260.227 1542.27 Q262.055 1538.71 262.055 1531.6 Q262.055 1524.47 260.227 1520.93 Q258.421 1517.37 254.787 1517.37 M254.787 1513.66 Q260.597 1513.66 263.653 1518.27 Q266.731 1522.85 266.731 1531.6 Q266.731 1540.33 263.653 1544.94 Q260.597 1549.52 254.787 1549.52 Q248.977 1549.52 245.898 1544.94 Q242.842 1540.33 242.842 1531.6 Q242.842 1522.85 245.898 1518.27 Q248.977 1513.66 254.787 1513.66 Z\" fill=\"#000000\" fill-rule=\"nonzero\" fill-opacity=\"1\" /><path clip-path=\"url(#clip020)\" d=\"M284.949 1517.37 Q281.338 1517.37 279.509 1520.93 Q277.703 1524.47 277.703 1531.6 Q277.703 1538.71 279.509 1542.27 Q281.338 1545.82 284.949 1545.82 Q288.583 1545.82 290.388 1542.27 Q292.217 1538.71 292.217 1531.6 Q292.217 1524.47 290.388 1520.93 Q288.583 1517.37 284.949 1517.37 M284.949 1513.66 Q290.759 1513.66 293.814 1518.27 Q296.893 1522.85 296.893 1531.6 Q296.893 1540.33 293.814 1544.94 Q290.759 1549.52 284.949 1549.52 Q279.139 1549.52 276.06 1544.94 Q273.004 1540.33 273.004 1531.6 Q273.004 1522.85 276.06 1518.27 Q279.139 1513.66 284.949 1513.66 Z\" fill=\"#000000\" fill-rule=\"nonzero\" fill-opacity=\"1\" /><path clip-path=\"url(#clip020)\" d=\"M721.098 1517.37 Q717.487 1517.37 715.658 1520.93 Q713.853 1524.47 713.853 1531.6 Q713.853 1538.71 715.658 1542.27 Q717.487 1545.82 721.098 1545.82 Q724.732 1545.82 726.538 1542.27 Q728.366 1538.71 728.366 1531.6 Q728.366 1524.47 726.538 1520.93 Q724.732 1517.37 721.098 1517.37 M721.098 1513.66 Q726.908 1513.66 729.964 1518.27 Q733.042 1522.85 733.042 1531.6 Q733.042 1540.33 729.964 1544.94 Q726.908 1549.52 721.098 1549.52 Q715.288 1549.52 712.209 1544.94 Q709.153 1540.33 709.153 1531.6 Q709.153 1522.85 712.209 1518.27 Q715.288 1513.66 721.098 1513.66 Z\" fill=\"#000000\" fill-rule=\"nonzero\" fill-opacity=\"1\" /><path clip-path=\"url(#clip020)\" d=\"M741.26 1542.97 L746.144 1542.97 L746.144 1548.85 L741.26 1548.85 L741.26 1542.97 Z\" fill=\"#000000\" fill-rule=\"nonzero\" fill-opacity=\"1\" /><path clip-path=\"url(#clip020)\" d=\"M760.357 1544.91 L776.676 1544.91 L776.676 1548.85 L754.732 1548.85 L754.732 1544.91 Q757.394 1542.16 761.977 1537.53 Q766.584 1532.88 767.764 1531.53 Q770.01 1529.01 770.889 1527.27 Q771.792 1525.51 771.792 1523.82 Q771.792 1521.07 769.848 1519.33 Q767.926 1517.6 764.824 1517.6 Q762.625 1517.6 760.172 1518.36 Q757.741 1519.13 754.963 1520.68 L754.963 1515.95 Q757.787 1514.82 760.241 1514.24 Q762.695 1513.66 764.732 1513.66 Q770.102 1513.66 773.297 1516.35 Q776.491 1519.03 776.491 1523.52 Q776.491 1525.65 775.681 1527.57 Q774.894 1529.47 772.787 1532.07 Q772.209 1532.74 769.107 1535.95 Q766.005 1539.15 760.357 1544.91 Z\" fill=\"#000000\" fill-rule=\"nonzero\" fill-opacity=\"1\" /><path clip-path=\"url(#clip020)\" d=\"M786.537 1514.29 L804.894 1514.29 L804.894 1518.22 L790.82 1518.22 L790.82 1526.7 Q791.838 1526.35 792.857 1526.19 Q793.875 1526 794.894 1526 Q800.681 1526 804.06 1529.17 Q807.44 1532.34 807.44 1537.76 Q807.44 1543.34 803.968 1546.44 Q800.496 1549.52 794.176 1549.52 Q792 1549.52 789.732 1549.15 Q787.486 1548.78 785.079 1548.04 L785.079 1543.34 Q787.162 1544.47 789.385 1545.03 Q791.607 1545.58 794.084 1545.58 Q798.088 1545.58 800.426 1543.48 Q802.764 1541.37 802.764 1537.76 Q802.764 1534.15 800.426 1532.04 Q798.088 1529.94 794.084 1529.94 Q792.209 1529.94 790.334 1530.35 Q788.482 1530.77 786.537 1531.65 L786.537 1514.29 Z\" fill=\"#000000\" fill-rule=\"nonzero\" fill-opacity=\"1\" /><path clip-path=\"url(#clip020)\" d=\"M1231.64 1517.37 Q1228.03 1517.37 1226.21 1520.93 Q1224.4 1524.47 1224.4 1531.6 Q1224.4 1538.71 1226.21 1542.27 Q1228.03 1545.82 1231.64 1545.82 Q1235.28 1545.82 1237.08 1542.27 Q1238.91 1538.71 1238.91 1531.6 Q1238.91 1524.47 1237.08 1520.93 Q1235.28 1517.37 1231.64 1517.37 M1231.64 1513.66 Q1237.45 1513.66 1240.51 1518.27 Q1243.59 1522.85 1243.59 1531.6 Q1243.59 1540.33 1240.51 1544.94 Q1237.45 1549.52 1231.64 1549.52 Q1225.83 1549.52 1222.76 1544.94 Q1219.7 1540.33 1219.7 1531.6 Q1219.7 1522.85 1222.76 1518.27 Q1225.83 1513.66 1231.64 1513.66 Z\" fill=\"#000000\" fill-rule=\"nonzero\" fill-opacity=\"1\" /><path clip-path=\"url(#clip020)\" d=\"M1251.81 1542.97 L1256.69 1542.97 L1256.69 1548.85 L1251.81 1548.85 L1251.81 1542.97 Z\" fill=\"#000000\" fill-rule=\"nonzero\" fill-opacity=\"1\" /><path clip-path=\"url(#clip020)\" d=\"M1266.92 1514.29 L1285.28 1514.29 L1285.28 1518.22 L1271.2 1518.22 L1271.2 1526.7 Q1272.22 1526.35 1273.24 1526.19 Q1274.26 1526 1275.28 1526 Q1281.07 1526 1284.45 1529.17 Q1287.83 1532.34 1287.83 1537.76 Q1287.83 1543.34 1284.35 1546.44 Q1280.88 1549.52 1274.56 1549.52 Q1272.39 1549.52 1270.12 1549.15 Q1267.87 1548.78 1265.46 1548.04 L1265.46 1543.34 Q1267.55 1544.47 1269.77 1545.03 Q1271.99 1545.58 1274.47 1545.58 Q1278.47 1545.58 1280.81 1543.48 Q1283.15 1541.37 1283.15 1537.76 Q1283.15 1534.15 1280.81 1532.04 Q1278.47 1529.94 1274.47 1529.94 Q1272.59 1529.94 1270.72 1530.35 Q1268.87 1530.77 1266.92 1531.65 L1266.92 1514.29 Z\" fill=\"#000000\" fill-rule=\"nonzero\" fill-opacity=\"1\" /><path clip-path=\"url(#clip020)\" d=\"M1307.04 1517.37 Q1303.43 1517.37 1301.6 1520.93 Q1299.79 1524.47 1299.79 1531.6 Q1299.79 1538.71 1301.6 1542.27 Q1303.43 1545.82 1307.04 1545.82 Q1310.67 1545.82 1312.48 1542.27 Q1314.31 1538.71 1314.31 1531.6 Q1314.31 1524.47 1312.48 1520.93 Q1310.67 1517.37 1307.04 1517.37 M1307.04 1513.66 Q1312.85 1513.66 1315.9 1518.27 Q1318.98 1522.85 1318.98 1531.6 Q1318.98 1540.33 1315.9 1544.94 Q1312.85 1549.52 1307.04 1549.52 Q1301.23 1549.52 1298.15 1544.94 Q1295.09 1540.33 1295.09 1531.6 Q1295.09 1522.85 1298.15 1518.27 Q1301.23 1513.66 1307.04 1513.66 Z\" fill=\"#000000\" fill-rule=\"nonzero\" fill-opacity=\"1\" /><path clip-path=\"url(#clip020)\" d=\"M1743.19 1517.37 Q1739.58 1517.37 1737.75 1520.93 Q1735.94 1524.47 1735.94 1531.6 Q1735.94 1538.71 1737.75 1542.27 Q1739.58 1545.82 1743.19 1545.82 Q1746.82 1545.82 1748.63 1542.27 Q1750.46 1538.71 1750.46 1531.6 Q1750.46 1524.47 1748.63 1520.93 Q1746.82 1517.37 1743.19 1517.37 M1743.19 1513.66 Q1749 1513.66 1752.05 1518.27 Q1755.13 1522.85 1755.13 1531.6 Q1755.13 1540.33 1752.05 1544.94 Q1749 1549.52 1743.19 1549.52 Q1737.38 1549.52 1734.3 1544.94 Q1731.24 1540.33 1731.24 1531.6 Q1731.24 1522.85 1734.3 1518.27 Q1737.38 1513.66 1743.19 1513.66 Z\" fill=\"#000000\" fill-rule=\"nonzero\" fill-opacity=\"1\" /><path clip-path=\"url(#clip020)\" d=\"M1763.35 1542.97 L1768.23 1542.97 L1768.23 1548.85 L1763.35 1548.85 L1763.35 1542.97 Z\" fill=\"#000000\" fill-rule=\"nonzero\" fill-opacity=\"1\" /><path clip-path=\"url(#clip020)\" d=\"M1777.24 1514.29 L1799.46 1514.29 L1799.46 1516.28 L1786.91 1548.85 L1782.03 1548.85 L1793.83 1518.22 L1777.24 1518.22 L1777.24 1514.29 Z\" fill=\"#000000\" fill-rule=\"nonzero\" fill-opacity=\"1\" /><path clip-path=\"url(#clip020)\" d=\"M1808.63 1514.29 L1826.98 1514.29 L1826.98 1518.22 L1812.91 1518.22 L1812.91 1526.7 Q1813.93 1526.35 1814.95 1526.19 Q1815.96 1526 1816.98 1526 Q1822.77 1526 1826.15 1529.17 Q1829.53 1532.34 1829.53 1537.76 Q1829.53 1543.34 1826.06 1546.44 Q1822.58 1549.52 1816.27 1549.52 Q1814.09 1549.52 1811.82 1549.15 Q1809.58 1548.78 1807.17 1548.04 L1807.17 1543.34 Q1809.25 1544.47 1811.47 1545.03 Q1813.7 1545.58 1816.17 1545.58 Q1820.18 1545.58 1822.52 1543.48 Q1824.85 1541.37 1824.85 1537.76 Q1824.85 1534.15 1822.52 1532.04 Q1820.18 1529.94 1816.17 1529.94 Q1814.3 1529.94 1812.42 1530.35 Q1810.57 1530.77 1808.63 1531.65 L1808.63 1514.29 Z\" fill=\"#000000\" fill-rule=\"nonzero\" fill-opacity=\"1\" /><path clip-path=\"url(#clip020)\" d=\"M2243.5 1544.91 L2251.14 1544.91 L2251.14 1518.55 L2242.83 1520.21 L2242.83 1515.95 L2251.1 1514.29 L2255.77 1514.29 L2255.77 1544.91 L2263.41 1544.91 L2263.41 1548.85 L2243.5 1548.85 L2243.5 1544.91 Z\" fill=\"#000000\" fill-rule=\"nonzero\" fill-opacity=\"1\" /><path clip-path=\"url(#clip020)\" d=\"M2272.85 1542.97 L2277.74 1542.97 L2277.74 1548.85 L2272.85 1548.85 L2272.85 1542.97 Z\" fill=\"#000000\" fill-rule=\"nonzero\" fill-opacity=\"1\" /><path clip-path=\"url(#clip020)\" d=\"M2297.92 1517.37 Q2294.31 1517.37 2292.48 1520.93 Q2290.68 1524.47 2290.68 1531.6 Q2290.68 1538.71 2292.48 1542.27 Q2294.31 1545.82 2297.92 1545.82 Q2301.56 1545.82 2303.36 1542.27 Q2305.19 1538.71 2305.19 1531.6 Q2305.19 1524.47 2303.36 1520.93 Q2301.56 1517.37 2297.92 1517.37 M2297.92 1513.66 Q2303.73 1513.66 2306.79 1518.27 Q2309.87 1522.85 2309.87 1531.6 Q2309.87 1540.33 2306.79 1544.94 Q2303.73 1549.52 2297.92 1549.52 Q2292.11 1549.52 2289.03 1544.94 Q2285.98 1540.33 2285.98 1531.6 Q2285.98 1522.85 2289.03 1518.27 Q2292.11 1513.66 2297.92 1513.66 Z\" fill=\"#000000\" fill-rule=\"nonzero\" fill-opacity=\"1\" /><path clip-path=\"url(#clip020)\" d=\"M2328.09 1517.37 Q2324.47 1517.37 2322.65 1520.93 Q2320.84 1524.47 2320.84 1531.6 Q2320.84 1538.71 2322.65 1542.27 Q2324.47 1545.82 2328.09 1545.82 Q2331.72 1545.82 2333.53 1542.27 Q2335.35 1538.71 2335.35 1531.6 Q2335.35 1524.47 2333.53 1520.93 Q2331.72 1517.37 2328.09 1517.37 M2328.09 1513.66 Q2333.9 1513.66 2336.95 1518.27 Q2340.03 1522.85 2340.03 1531.6 Q2340.03 1540.33 2336.95 1544.94 Q2333.9 1549.52 2328.09 1549.52 Q2322.28 1549.52 2319.2 1544.94 Q2316.14 1540.33 2316.14 1531.6 Q2316.14 1522.85 2319.2 1518.27 Q2322.28 1513.66 2328.09 1513.66 Z\" fill=\"#000000\" fill-rule=\"nonzero\" fill-opacity=\"1\" /><polyline clip-path=\"url(#clip022)\" style=\"stroke:#000000; stroke-linecap:round; stroke-linejoin:round; stroke-width:2; stroke-opacity:0.1; fill:none\" points=\"185.927,1445.72 2352.76,1445.72 \"/>\n",
       "<polyline clip-path=\"url(#clip022)\" style=\"stroke:#000000; stroke-linecap:round; stroke-linejoin:round; stroke-width:2; stroke-opacity:0.1; fill:none\" points=\"185.927,1106.28 2352.76,1106.28 \"/>\n",
       "<polyline clip-path=\"url(#clip022)\" style=\"stroke:#000000; stroke-linecap:round; stroke-linejoin:round; stroke-width:2; stroke-opacity:0.1; fill:none\" points=\"185.927,766.846 2352.76,766.846 \"/>\n",
       "<polyline clip-path=\"url(#clip022)\" style=\"stroke:#000000; stroke-linecap:round; stroke-linejoin:round; stroke-width:2; stroke-opacity:0.1; fill:none\" points=\"185.927,427.411 2352.76,427.411 \"/>\n",
       "<polyline clip-path=\"url(#clip022)\" style=\"stroke:#000000; stroke-linecap:round; stroke-linejoin:round; stroke-width:2; stroke-opacity:0.1; fill:none\" points=\"185.927,87.9763 2352.76,87.9763 \"/>\n",
       "<polyline clip-path=\"url(#clip020)\" style=\"stroke:#000000; stroke-linecap:round; stroke-linejoin:round; stroke-width:4; stroke-opacity:1; fill:none\" points=\"185.927,1486.45 185.927,47.2441 \"/>\n",
       "<polyline clip-path=\"url(#clip020)\" style=\"stroke:#000000; stroke-linecap:round; stroke-linejoin:round; stroke-width:4; stroke-opacity:1; fill:none\" points=\"185.927,1445.72 204.824,1445.72 \"/>\n",
       "<polyline clip-path=\"url(#clip020)\" style=\"stroke:#000000; stroke-linecap:round; stroke-linejoin:round; stroke-width:4; stroke-opacity:1; fill:none\" points=\"185.927,1106.28 204.824,1106.28 \"/>\n",
       "<polyline clip-path=\"url(#clip020)\" style=\"stroke:#000000; stroke-linecap:round; stroke-linejoin:round; stroke-width:4; stroke-opacity:1; fill:none\" points=\"185.927,766.846 204.824,766.846 \"/>\n",
       "<polyline clip-path=\"url(#clip020)\" style=\"stroke:#000000; stroke-linecap:round; stroke-linejoin:round; stroke-width:4; stroke-opacity:1; fill:none\" points=\"185.927,427.411 204.824,427.411 \"/>\n",
       "<polyline clip-path=\"url(#clip020)\" style=\"stroke:#000000; stroke-linecap:round; stroke-linejoin:round; stroke-width:4; stroke-opacity:1; fill:none\" points=\"185.927,87.9763 204.824,87.9763 \"/>\n",
       "<path clip-path=\"url(#clip020)\" d=\"M53.3995 1459.06 L61.0384 1459.06 L61.0384 1432.69 L52.7282 1434.36 L52.7282 1430.1 L60.9921 1428.44 L65.668 1428.44 L65.668 1459.06 L73.3068 1459.06 L73.3068 1463 L53.3995 1463 L53.3995 1459.06 Z\" fill=\"#000000\" fill-rule=\"nonzero\" fill-opacity=\"1\" /><path clip-path=\"url(#clip020)\" d=\"M82.7512 1457.12 L87.6354 1457.12 L87.6354 1463 L82.7512 1463 L82.7512 1457.12 Z\" fill=\"#000000\" fill-rule=\"nonzero\" fill-opacity=\"1\" /><path clip-path=\"url(#clip020)\" d=\"M107.821 1431.51 Q104.209 1431.51 102.381 1435.08 Q100.575 1438.62 100.575 1445.75 Q100.575 1452.86 102.381 1456.42 Q104.209 1459.96 107.821 1459.96 Q111.455 1459.96 113.26 1456.42 Q115.089 1452.86 115.089 1445.75 Q115.089 1438.62 113.26 1435.08 Q111.455 1431.51 107.821 1431.51 M107.821 1427.81 Q113.631 1427.81 116.686 1432.42 Q119.765 1437 119.765 1445.75 Q119.765 1454.48 116.686 1459.08 Q113.631 1463.67 107.821 1463.67 Q102.01 1463.67 98.9317 1459.08 Q95.8761 1454.48 95.8761 1445.75 Q95.8761 1437 98.9317 1432.42 Q102.01 1427.81 107.821 1427.81 Z\" fill=\"#000000\" fill-rule=\"nonzero\" fill-opacity=\"1\" /><path clip-path=\"url(#clip020)\" d=\"M137.982 1431.51 Q134.371 1431.51 132.543 1435.08 Q130.737 1438.62 130.737 1445.75 Q130.737 1452.86 132.543 1456.42 Q134.371 1459.96 137.982 1459.96 Q141.617 1459.96 143.422 1456.42 Q145.251 1452.86 145.251 1445.75 Q145.251 1438.62 143.422 1435.08 Q141.617 1431.51 137.982 1431.51 M137.982 1427.81 Q143.793 1427.81 146.848 1432.42 Q149.927 1437 149.927 1445.75 Q149.927 1454.48 146.848 1459.08 Q143.793 1463.67 137.982 1463.67 Q132.172 1463.67 129.094 1459.08 Q126.038 1454.48 126.038 1445.75 Q126.038 1437 129.094 1432.42 Q132.172 1427.81 137.982 1427.81 Z\" fill=\"#000000\" fill-rule=\"nonzero\" fill-opacity=\"1\" /><path clip-path=\"url(#clip020)\" d=\"M54.3949 1119.63 L62.0337 1119.63 L62.0337 1093.26 L53.7236 1094.93 L53.7236 1090.67 L61.9874 1089 L66.6633 1089 L66.6633 1119.63 L74.3022 1119.63 L74.3022 1123.56 L54.3949 1123.56 L54.3949 1119.63 Z\" fill=\"#000000\" fill-rule=\"nonzero\" fill-opacity=\"1\" /><path clip-path=\"url(#clip020)\" d=\"M83.7466 1117.68 L88.6308 1117.68 L88.6308 1123.56 L83.7466 1123.56 L83.7466 1117.68 Z\" fill=\"#000000\" fill-rule=\"nonzero\" fill-opacity=\"1\" /><path clip-path=\"url(#clip020)\" d=\"M102.844 1119.63 L119.163 1119.63 L119.163 1123.56 L97.2187 1123.56 L97.2187 1119.63 Q99.8808 1116.87 104.464 1112.24 Q109.071 1107.59 110.251 1106.25 Q112.496 1103.72 113.376 1101.99 Q114.279 1100.23 114.279 1098.54 Q114.279 1095.78 112.334 1094.05 Q110.413 1092.31 107.311 1092.31 Q105.112 1092.31 102.659 1093.07 Q100.228 1093.84 97.4502 1095.39 L97.4502 1090.67 Q100.274 1089.53 102.728 1088.95 Q105.182 1088.38 107.219 1088.38 Q112.589 1088.38 115.783 1091.06 Q118.978 1093.75 118.978 1098.24 Q118.978 1100.37 118.168 1102.29 Q117.381 1104.19 115.274 1106.78 Q114.695 1107.45 111.594 1110.67 Q108.492 1113.86 102.844 1119.63 Z\" fill=\"#000000\" fill-rule=\"nonzero\" fill-opacity=\"1\" /><path clip-path=\"url(#clip020)\" d=\"M129.024 1089 L147.38 1089 L147.38 1092.94 L133.306 1092.94 L133.306 1101.41 Q134.325 1101.06 135.344 1100.9 Q136.362 1100.71 137.381 1100.71 Q143.168 1100.71 146.547 1103.89 Q149.927 1107.06 149.927 1112.47 Q149.927 1118.05 146.455 1121.15 Q142.982 1124.23 136.663 1124.23 Q134.487 1124.23 132.219 1123.86 Q129.973 1123.49 127.566 1122.75 L127.566 1118.05 Q129.649 1119.19 131.871 1119.74 Q134.094 1120.3 136.57 1120.3 Q140.575 1120.3 142.913 1118.19 Q145.251 1116.08 145.251 1112.47 Q145.251 1108.86 142.913 1106.76 Q140.575 1104.65 136.57 1104.65 Q134.695 1104.65 132.82 1105.07 Q130.969 1105.48 129.024 1106.36 L129.024 1089 Z\" fill=\"#000000\" fill-rule=\"nonzero\" fill-opacity=\"1\" /><path clip-path=\"url(#clip020)\" d=\"M53.3995 780.191 L61.0384 780.191 L61.0384 753.825 L52.7282 755.492 L52.7282 751.233 L60.9921 749.566 L65.668 749.566 L65.668 780.191 L73.3068 780.191 L73.3068 784.126 L53.3995 784.126 L53.3995 780.191 Z\" fill=\"#000000\" fill-rule=\"nonzero\" fill-opacity=\"1\" /><path clip-path=\"url(#clip020)\" d=\"M82.7512 778.246 L87.6354 778.246 L87.6354 784.126 L82.7512 784.126 L82.7512 778.246 Z\" fill=\"#000000\" fill-rule=\"nonzero\" fill-opacity=\"1\" /><path clip-path=\"url(#clip020)\" d=\"M97.8669 749.566 L116.223 749.566 L116.223 753.501 L102.149 753.501 L102.149 761.973 Q103.168 761.626 104.186 761.464 Q105.205 761.279 106.223 761.279 Q112.01 761.279 115.39 764.45 Q118.77 767.621 118.77 773.038 Q118.77 778.617 115.297 781.719 Q111.825 784.797 105.506 784.797 Q103.33 784.797 101.061 784.427 Q98.8159 784.057 96.4085 783.316 L96.4085 778.617 Q98.4919 779.751 100.714 780.307 Q102.936 780.862 105.413 780.862 Q109.418 780.862 111.756 778.756 Q114.094 776.649 114.094 773.038 Q114.094 769.427 111.756 767.321 Q109.418 765.214 105.413 765.214 Q103.538 765.214 101.663 765.631 Q99.8113 766.047 97.8669 766.927 L97.8669 749.566 Z\" fill=\"#000000\" fill-rule=\"nonzero\" fill-opacity=\"1\" /><path clip-path=\"url(#clip020)\" d=\"M137.982 752.645 Q134.371 752.645 132.543 756.209 Q130.737 759.751 130.737 766.881 Q130.737 773.987 132.543 777.552 Q134.371 781.094 137.982 781.094 Q141.617 781.094 143.422 777.552 Q145.251 773.987 145.251 766.881 Q145.251 759.751 143.422 756.209 Q141.617 752.645 137.982 752.645 M137.982 748.941 Q143.793 748.941 146.848 753.547 Q149.927 758.131 149.927 766.881 Q149.927 775.608 146.848 780.214 Q143.793 784.797 137.982 784.797 Q132.172 784.797 129.094 780.214 Q126.038 775.608 126.038 766.881 Q126.038 758.131 129.094 753.547 Q132.172 748.941 137.982 748.941 Z\" fill=\"#000000\" fill-rule=\"nonzero\" fill-opacity=\"1\" /><path clip-path=\"url(#clip020)\" d=\"M54.3949 440.756 L62.0337 440.756 L62.0337 414.39 L53.7236 416.057 L53.7236 411.798 L61.9874 410.131 L66.6633 410.131 L66.6633 440.756 L74.3022 440.756 L74.3022 444.691 L54.3949 444.691 L54.3949 440.756 Z\" fill=\"#000000\" fill-rule=\"nonzero\" fill-opacity=\"1\" /><path clip-path=\"url(#clip020)\" d=\"M83.7466 438.812 L88.6308 438.812 L88.6308 444.691 L83.7466 444.691 L83.7466 438.812 Z\" fill=\"#000000\" fill-rule=\"nonzero\" fill-opacity=\"1\" /><path clip-path=\"url(#clip020)\" d=\"M97.6354 410.131 L119.857 410.131 L119.857 412.122 L107.311 444.691 L102.427 444.691 L114.233 414.066 L97.6354 414.066 L97.6354 410.131 Z\" fill=\"#000000\" fill-rule=\"nonzero\" fill-opacity=\"1\" /><path clip-path=\"url(#clip020)\" d=\"M129.024 410.131 L147.38 410.131 L147.38 414.066 L133.306 414.066 L133.306 422.538 Q134.325 422.191 135.344 422.029 Q136.362 421.844 137.381 421.844 Q143.168 421.844 146.547 425.015 Q149.927 428.187 149.927 433.603 Q149.927 439.182 146.455 442.284 Q142.982 445.362 136.663 445.362 Q134.487 445.362 132.219 444.992 Q129.973 444.622 127.566 443.881 L127.566 439.182 Q129.649 440.316 131.871 440.872 Q134.094 441.427 136.57 441.427 Q140.575 441.427 142.913 439.321 Q145.251 437.214 145.251 433.603 Q145.251 429.992 142.913 427.886 Q140.575 425.779 136.57 425.779 Q134.695 425.779 132.82 426.196 Q130.969 426.613 129.024 427.492 L129.024 410.131 Z\" fill=\"#000000\" fill-rule=\"nonzero\" fill-opacity=\"1\" /><path clip-path=\"url(#clip020)\" d=\"M56.6171 101.321 L72.9365 101.321 L72.9365 105.256 L50.9921 105.256 L50.9921 101.321 Q53.6541 98.5665 58.2375 93.9369 Q62.8439 89.2841 64.0245 87.9416 Q66.2698 85.4184 67.1494 83.6823 Q68.0522 81.9231 68.0522 80.2333 Q68.0522 77.4786 66.1078 75.7425 Q64.1865 74.0064 61.0847 74.0064 Q58.8856 74.0064 56.4319 74.7703 Q54.0014 75.5342 51.2236 77.0851 L51.2236 72.3629 Q54.0477 71.2287 56.5014 70.65 Q58.955 70.0713 60.9921 70.0713 Q66.3624 70.0713 69.5568 72.7565 Q72.7513 75.4416 72.7513 79.9323 Q72.7513 82.062 71.9411 83.9832 Q71.1541 85.8814 69.0476 88.474 Q68.4689 89.1453 65.367 92.3628 Q62.2652 95.5573 56.6171 101.321 Z\" fill=\"#000000\" fill-rule=\"nonzero\" fill-opacity=\"1\" /><path clip-path=\"url(#clip020)\" d=\"M82.7512 99.3767 L87.6354 99.3767 L87.6354 105.256 L82.7512 105.256 L82.7512 99.3767 Z\" fill=\"#000000\" fill-rule=\"nonzero\" fill-opacity=\"1\" /><path clip-path=\"url(#clip020)\" d=\"M107.821 73.775 Q104.209 73.775 102.381 77.3398 Q100.575 80.8814 100.575 88.011 Q100.575 95.1174 102.381 98.6822 Q104.209 102.224 107.821 102.224 Q111.455 102.224 113.26 98.6822 Q115.089 95.1174 115.089 88.011 Q115.089 80.8814 113.26 77.3398 Q111.455 73.775 107.821 73.775 M107.821 70.0713 Q113.631 70.0713 116.686 74.6777 Q119.765 79.261 119.765 88.011 Q119.765 96.7378 116.686 101.344 Q113.631 105.928 107.821 105.928 Q102.01 105.928 98.9317 101.344 Q95.8761 96.7378 95.8761 88.011 Q95.8761 79.261 98.9317 74.6777 Q102.01 70.0713 107.821 70.0713 Z\" fill=\"#000000\" fill-rule=\"nonzero\" fill-opacity=\"1\" /><path clip-path=\"url(#clip020)\" d=\"M137.982 73.775 Q134.371 73.775 132.543 77.3398 Q130.737 80.8814 130.737 88.011 Q130.737 95.1174 132.543 98.6822 Q134.371 102.224 137.982 102.224 Q141.617 102.224 143.422 98.6822 Q145.251 95.1174 145.251 88.011 Q145.251 80.8814 143.422 77.3398 Q141.617 73.775 137.982 73.775 M137.982 70.0713 Q143.793 70.0713 146.848 74.6777 Q149.927 79.261 149.927 88.011 Q149.927 96.7378 146.848 101.344 Q143.793 105.928 137.982 105.928 Q132.172 105.928 129.094 101.344 Q126.038 96.7378 126.038 88.011 Q126.038 79.261 129.094 74.6777 Q132.172 70.0713 137.982 70.0713 Z\" fill=\"#000000\" fill-rule=\"nonzero\" fill-opacity=\"1\" /><polyline clip-path=\"url(#clip022)\" style=\"stroke:#009af9; stroke-linecap:round; stroke-linejoin:round; stroke-width:4; stroke-opacity:1; fill:none\" points=\"247.252,1445.72 451.67,1056.86 656.088,808.942 860.506,617.711 1064.92,465.525 1269.34,344.211 1473.76,249.152 1678.18,177.495 1882.59,127.418 2087.01,97.7867 2291.43,87.9763 \"/>\n",
       "<path clip-path=\"url(#clip020)\" d=\"M258.154 198.898 L527.268 198.898 L527.268 95.2176 L258.154 95.2176  Z\" fill=\"#ffffff\" fill-rule=\"evenodd\" fill-opacity=\"1\"/>\n",
       "<polyline clip-path=\"url(#clip020)\" style=\"stroke:#000000; stroke-linecap:round; stroke-linejoin:round; stroke-width:4; stroke-opacity:1; fill:none\" points=\"258.154,198.898 527.268,198.898 527.268,95.2176 258.154,95.2176 258.154,198.898 \"/>\n",
       "<polyline clip-path=\"url(#clip020)\" style=\"stroke:#009af9; stroke-linecap:round; stroke-linejoin:round; stroke-width:4; stroke-opacity:1; fill:none\" points=\"282.23,147.058 426.686,147.058 \"/>\n",
       "<path clip-path=\"url(#clip020)\" d=\"M464.604 166.745 Q462.798 171.375 461.085 172.787 Q459.373 174.199 456.502 174.199 L453.099 174.199 L453.099 170.634 L455.599 170.634 Q457.359 170.634 458.331 169.8 Q459.303 168.967 460.484 165.865 L461.248 163.921 L450.761 138.412 L455.275 138.412 L463.377 158.689 L471.479 138.412 L475.993 138.412 L464.604 166.745 Z\" fill=\"#000000\" fill-rule=\"nonzero\" fill-opacity=\"1\" /><path clip-path=\"url(#clip020)\" d=\"M483.284 160.402 L490.923 160.402 L490.923 134.037 L482.613 135.703 L482.613 131.444 L490.877 129.778 L495.553 129.778 L495.553 160.402 L503.192 160.402 L503.192 164.338 L483.284 164.338 L483.284 160.402 Z\" fill=\"#000000\" fill-rule=\"nonzero\" fill-opacity=\"1\" /></svg>\n"
      ]
     },
     "metadata": {},
     "output_type": "display_data"
    }
   ],
   "source": [
    "plot(x, v)"
   ]
  },
  {
   "cell_type": "code",
   "execution_count": 19,
   "metadata": {},
   "outputs": [
    {
     "data": {
      "text/plain": [
       "0.0:0.10101010101010101:10.0"
      ]
     },
     "metadata": {},
     "output_type": "display_data"
    }
   ],
   "source": [
    "x = range(0, 10, length=100)"
   ]
  },
  {
   "cell_type": "code",
   "execution_count": 20,
   "metadata": {},
   "outputs": [
    {
     "data": {
      "text/plain": [
       "100-element Vector{Float64}:\n",
       "  0.0\n",
       "  0.1008384202581046\n",
       "  0.2006488565226854\n",
       "  0.2984138044476411\n",
       "  0.3931366121483298\n",
       "  0.48385164043793466\n",
       "  0.5696341069089657\n",
       "  0.6496095135057065\n",
       "  0.7229625614794605\n",
       "  0.7889454628442574\n",
       "  ⋮\n",
       "  0.23076007532505177\n",
       "  0.13146698864295842\n",
       "  0.03083367906114098\n",
       " -0.07011396040064677\n",
       " -0.1703468323280965\n",
       " -0.26884312591038406\n",
       " -0.3645987336558887\n",
       " -0.45663748763377376\n",
       " -0.5440211108893698"
      ]
     },
     "metadata": {},
     "output_type": "display_data"
    }
   ],
   "source": [
    "y = sin.(x)"
   ]
  },
  {
   "cell_type": "code",
   "execution_count": 10,
   "metadata": {},
   "outputs": [],
   "source": [
    "u = Vector{Float64}(undef,n)   #条件熵\n",
    "for i in 1:n\n",
    "    k=0.1*(i-1)\n",
    "    p=[1-0.5*k,0.5*k]\n",
    "    u[i]=entropy(p,2)\n",
    "end"
   ]
  },
  {
   "cell_type": "code",
   "execution_count": 11,
   "metadata": {},
   "outputs": [
    {
     "data": {
      "image/png": "[encoded data removed]",
      "image/svg+xml": [
       "<?xml version=\"1.0\" encoding=\"utf-8\"?>\n",
       "<svg xmlns=\"http://www.w3.org/2000/svg\" xmlns:xlink=\"http://www.w3.org/1999/xlink\" width=\"600\" height=\"400\" viewBox=\"0 0 2400 1600\">\n",
       "<defs>\n",
       "  <clipPath id=\"clip060\">\n",
       "    <rect x=\"0\" y=\"0\" width=\"2400\" height=\"1600\"/>\n",
       "  </clipPath>\n",
       "</defs>\n",
       "<path clip-path=\"url(#clip060)\" d=\"M0 1600 L2400 1600 L2400 0 L0 0  Z\" fill=\"#ffffff\" fill-rule=\"evenodd\" fill-opacity=\"1\"/>\n",
       "<defs>\n",
       "  <clipPath id=\"clip061\">\n",
       "    <rect x=\"480\" y=\"0\" width=\"1681\" height=\"1600\"/>\n",
       "  </clipPath>\n",
       "</defs>\n",
       "<path clip-path=\"url(#clip060)\" d=\"M186.274 1486.45 L2352.76 1486.45 L2352.76 47.2441 L186.274 47.2441  Z\" fill=\"#ffffff\" fill-rule=\"evenodd\" fill-opacity=\"1\"/>\n",
       "<defs>\n",
       "  <clipPath id=\"clip062\">\n",
       "    <rect x=\"186\" y=\"47\" width=\"2167\" height=\"1440\"/>\n",
       "  </clipPath>\n",
       "</defs>\n",
       "<polyline clip-path=\"url(#clip062)\" style=\"stroke:#000000; stroke-linecap:round; stroke-linejoin:round; stroke-width:2; stroke-opacity:0.1; fill:none\" points=\"247.59,1486.45 247.59,47.2441 \"/>\n",
       "<polyline clip-path=\"url(#clip062)\" style=\"stroke:#000000; stroke-linecap:round; stroke-linejoin:round; stroke-width:2; stroke-opacity:0.1; fill:none\" points=\"758.552,1486.45 758.552,47.2441 \"/>\n",
       "<polyline clip-path=\"url(#clip062)\" style=\"stroke:#000000; stroke-linecap:round; stroke-linejoin:round; stroke-width:2; stroke-opacity:0.1; fill:none\" points=\"1269.51,1486.45 1269.51,47.2441 \"/>\n",
       "<polyline clip-path=\"url(#clip062)\" style=\"stroke:#000000; stroke-linecap:round; stroke-linejoin:round; stroke-width:2; stroke-opacity:0.1; fill:none\" points=\"1780.48,1486.45 1780.48,47.2441 \"/>\n",
       "<polyline clip-path=\"url(#clip062)\" style=\"stroke:#000000; stroke-linecap:round; stroke-linejoin:round; stroke-width:2; stroke-opacity:0.1; fill:none\" points=\"2291.44,1486.45 2291.44,47.2441 \"/>\n",
       "<polyline clip-path=\"url(#clip060)\" style=\"stroke:#000000; stroke-linecap:round; stroke-linejoin:round; stroke-width:4; stroke-opacity:1; fill:none\" points=\"186.274,1486.45 2352.76,1486.45 \"/>\n",
       "<polyline clip-path=\"url(#clip060)\" style=\"stroke:#000000; stroke-linecap:round; stroke-linejoin:round; stroke-width:4; stroke-opacity:1; fill:none\" points=\"247.59,1486.45 247.59,1467.55 \"/>\n",
       "<polyline clip-path=\"url(#clip060)\" style=\"stroke:#000000; stroke-linecap:round; stroke-linejoin:round; stroke-width:4; stroke-opacity:1; fill:none\" points=\"758.552,1486.45 758.552,1467.55 \"/>\n",
       "<polyline clip-path=\"url(#clip060)\" style=\"stroke:#000000; stroke-linecap:round; stroke-linejoin:round; stroke-width:4; stroke-opacity:1; fill:none\" points=\"1269.51,1486.45 1269.51,1467.55 \"/>\n",
       "<polyline clip-path=\"url(#clip060)\" style=\"stroke:#000000; stroke-linecap:round; stroke-linejoin:round; stroke-width:4; stroke-opacity:1; fill:none\" points=\"1780.48,1486.45 1780.48,1467.55 \"/>\n",
       "<polyline clip-path=\"url(#clip060)\" style=\"stroke:#000000; stroke-linecap:round; stroke-linejoin:round; stroke-width:4; stroke-opacity:1; fill:none\" points=\"2291.44,1486.45 2291.44,1467.55 \"/>\n",
       "<path clip-path=\"url(#clip060)\" d=\"M209.893 1517.37 Q206.282 1517.37 204.453 1520.93 Q202.648 1524.47 202.648 1531.6 Q202.648 1538.71 204.453 1542.27 Q206.282 1545.82 209.893 1545.82 Q213.527 1545.82 215.333 1542.27 Q217.161 1538.71 217.161 1531.6 Q217.161 1524.47 215.333 1520.93 Q213.527 1517.37 209.893 1517.37 M209.893 1513.66 Q215.703 1513.66 218.759 1518.27 Q221.837 1522.85 221.837 1531.6 Q221.837 1540.33 218.759 1544.94 Q215.703 1549.52 209.893 1549.52 Q204.083 1549.52 201.004 1544.94 Q197.949 1540.33 197.949 1531.6 Q197.949 1522.85 201.004 1518.27 Q204.083 1513.66 209.893 1513.66 Z\" fill=\"#000000\" fill-rule=\"nonzero\" fill-opacity=\"1\" /><path clip-path=\"url(#clip060)\" d=\"M230.055 1542.97 L234.939 1542.97 L234.939 1548.85 L230.055 1548.85 L230.055 1542.97 Z\" fill=\"#000000\" fill-rule=\"nonzero\" fill-opacity=\"1\" /><path clip-path=\"url(#clip060)\" d=\"M255.124 1517.37 Q251.513 1517.37 249.684 1520.93 Q247.879 1524.47 247.879 1531.6 Q247.879 1538.71 249.684 1542.27 Q251.513 1545.82 255.124 1545.82 Q258.758 1545.82 260.564 1542.27 Q262.393 1538.71 262.393 1531.6 Q262.393 1524.47 260.564 1520.93 Q258.758 1517.37 255.124 1517.37 M255.124 1513.66 Q260.934 1513.66 263.99 1518.27 Q267.069 1522.85 267.069 1531.6 Q267.069 1540.33 263.99 1544.94 Q260.934 1549.52 255.124 1549.52 Q249.314 1549.52 246.235 1544.94 Q243.18 1540.33 243.18 1531.6 Q243.18 1522.85 246.235 1518.27 Q249.314 1513.66 255.124 1513.66 Z\" fill=\"#000000\" fill-rule=\"nonzero\" fill-opacity=\"1\" /><path clip-path=\"url(#clip060)\" d=\"M285.286 1517.37 Q281.675 1517.37 279.846 1520.93 Q278.041 1524.47 278.041 1531.6 Q278.041 1538.71 279.846 1542.27 Q281.675 1545.82 285.286 1545.82 Q288.92 1545.82 290.726 1542.27 Q292.555 1538.71 292.555 1531.6 Q292.555 1524.47 290.726 1520.93 Q288.92 1517.37 285.286 1517.37 M285.286 1513.66 Q291.096 1513.66 294.152 1518.27 Q297.23 1522.85 297.23 1531.6 Q297.23 1540.33 294.152 1544.94 Q291.096 1549.52 285.286 1549.52 Q279.476 1549.52 276.397 1544.94 Q273.342 1540.33 273.342 1531.6 Q273.342 1522.85 276.397 1518.27 Q279.476 1513.66 285.286 1513.66 Z\" fill=\"#000000\" fill-rule=\"nonzero\" fill-opacity=\"1\" /><path clip-path=\"url(#clip060)\" d=\"M721.353 1517.37 Q717.742 1517.37 715.914 1520.93 Q714.108 1524.47 714.108 1531.6 Q714.108 1538.71 715.914 1542.27 Q717.742 1545.82 721.353 1545.82 Q724.988 1545.82 726.793 1542.27 Q728.622 1538.71 728.622 1531.6 Q728.622 1524.47 726.793 1520.93 Q724.988 1517.37 721.353 1517.37 M721.353 1513.66 Q727.164 1513.66 730.219 1518.27 Q733.298 1522.85 733.298 1531.6 Q733.298 1540.33 730.219 1544.94 Q727.164 1549.52 721.353 1549.52 Q715.543 1549.52 712.465 1544.94 Q709.409 1540.33 709.409 1531.6 Q709.409 1522.85 712.465 1518.27 Q715.543 1513.66 721.353 1513.66 Z\" fill=\"#000000\" fill-rule=\"nonzero\" fill-opacity=\"1\" /><path clip-path=\"url(#clip060)\" d=\"M741.515 1542.97 L746.4 1542.97 L746.4 1548.85 L741.515 1548.85 L741.515 1542.97 Z\" fill=\"#000000\" fill-rule=\"nonzero\" fill-opacity=\"1\" /><path clip-path=\"url(#clip060)\" d=\"M760.612 1544.91 L776.932 1544.91 L776.932 1548.85 L754.987 1548.85 L754.987 1544.91 Q757.649 1542.16 762.233 1537.53 Q766.839 1532.88 768.02 1531.53 Q770.265 1529.01 771.145 1527.27 Q772.048 1525.51 772.048 1523.82 Q772.048 1521.07 770.103 1519.33 Q768.182 1517.6 765.08 1517.6 Q762.881 1517.6 760.427 1518.36 Q757.997 1519.13 755.219 1520.68 L755.219 1515.95 Q758.043 1514.82 760.497 1514.24 Q762.95 1513.66 764.987 1513.66 Q770.358 1513.66 773.552 1516.35 Q776.747 1519.03 776.747 1523.52 Q776.747 1525.65 775.936 1527.57 Q775.149 1529.47 773.043 1532.07 Q772.464 1532.74 769.362 1535.95 Q766.261 1539.15 760.612 1544.91 Z\" fill=\"#000000\" fill-rule=\"nonzero\" fill-opacity=\"1\" /><path clip-path=\"url(#clip060)\" d=\"M786.793 1514.29 L805.149 1514.29 L805.149 1518.22 L791.075 1518.22 L791.075 1526.7 Q792.094 1526.35 793.112 1526.19 Q794.131 1526 795.149 1526 Q800.936 1526 804.316 1529.17 Q807.695 1532.34 807.695 1537.76 Q807.695 1543.34 804.223 1546.44 Q800.751 1549.52 794.432 1549.52 Q792.256 1549.52 789.987 1549.15 Q787.742 1548.78 785.335 1548.04 L785.335 1543.34 Q787.418 1544.47 789.64 1545.03 Q791.862 1545.58 794.339 1545.58 Q798.344 1545.58 800.682 1543.48 Q803.02 1541.37 803.02 1537.76 Q803.02 1534.15 800.682 1532.04 Q798.344 1529.94 794.339 1529.94 Q792.464 1529.94 790.589 1530.35 Q788.737 1530.77 786.793 1531.65 L786.793 1514.29 Z\" fill=\"#000000\" fill-rule=\"nonzero\" fill-opacity=\"1\" /><path clip-path=\"url(#clip060)\" d=\"M1231.82 1517.37 Q1228.21 1517.37 1226.38 1520.93 Q1224.57 1524.47 1224.57 1531.6 Q1224.57 1538.71 1226.38 1542.27 Q1228.21 1545.82 1231.82 1545.82 Q1235.45 1545.82 1237.26 1542.27 Q1239.09 1538.71 1239.09 1531.6 Q1239.09 1524.47 1237.26 1520.93 Q1235.45 1517.37 1231.82 1517.37 M1231.82 1513.66 Q1237.63 1513.66 1240.68 1518.27 Q1243.76 1522.85 1243.76 1531.6 Q1243.76 1540.33 1240.68 1544.94 Q1237.63 1549.52 1231.82 1549.52 Q1226.01 1549.52 1222.93 1544.94 Q1219.87 1540.33 1219.87 1531.6 Q1219.87 1522.85 1222.93 1518.27 Q1226.01 1513.66 1231.82 1513.66 Z\" fill=\"#000000\" fill-rule=\"nonzero\" fill-opacity=\"1\" /><path clip-path=\"url(#clip060)\" d=\"M1251.98 1542.97 L1256.86 1542.97 L1256.86 1548.85 L1251.98 1548.85 L1251.98 1542.97 Z\" fill=\"#000000\" fill-rule=\"nonzero\" fill-opacity=\"1\" /><path clip-path=\"url(#clip060)\" d=\"M1267.1 1514.29 L1285.45 1514.29 L1285.45 1518.22 L1271.38 1518.22 L1271.38 1526.7 Q1272.4 1526.35 1273.42 1526.19 Q1274.43 1526 1275.45 1526 Q1281.24 1526 1284.62 1529.17 Q1288 1532.34 1288 1537.76 Q1288 1543.34 1284.53 1546.44 Q1281.05 1549.52 1274.73 1549.52 Q1272.56 1549.52 1270.29 1549.15 Q1268.05 1548.78 1265.64 1548.04 L1265.64 1543.34 Q1267.72 1544.47 1269.94 1545.03 Q1272.17 1545.58 1274.64 1545.58 Q1278.65 1545.58 1280.98 1543.48 Q1283.32 1541.37 1283.32 1537.76 Q1283.32 1534.15 1280.98 1532.04 Q1278.65 1529.94 1274.64 1529.94 Q1272.77 1529.94 1270.89 1530.35 Q1269.04 1530.77 1267.1 1531.65 L1267.1 1514.29 Z\" fill=\"#000000\" fill-rule=\"nonzero\" fill-opacity=\"1\" /><path clip-path=\"url(#clip060)\" d=\"M1307.21 1517.37 Q1303.6 1517.37 1301.77 1520.93 Q1299.97 1524.47 1299.97 1531.6 Q1299.97 1538.71 1301.77 1542.27 Q1303.6 1545.82 1307.21 1545.82 Q1310.85 1545.82 1312.65 1542.27 Q1314.48 1538.71 1314.48 1531.6 Q1314.48 1524.47 1312.65 1520.93 Q1310.85 1517.37 1307.21 1517.37 M1307.21 1513.66 Q1313.02 1513.66 1316.08 1518.27 Q1319.16 1522.85 1319.16 1531.6 Q1319.16 1540.33 1316.08 1544.94 Q1313.02 1549.52 1307.21 1549.52 Q1301.4 1549.52 1298.32 1544.94 Q1295.27 1540.33 1295.27 1531.6 Q1295.27 1522.85 1298.32 1518.27 Q1301.4 1513.66 1307.21 1513.66 Z\" fill=\"#000000\" fill-rule=\"nonzero\" fill-opacity=\"1\" /><path clip-path=\"url(#clip060)\" d=\"M1743.28 1517.37 Q1739.67 1517.37 1737.84 1520.93 Q1736.03 1524.47 1736.03 1531.6 Q1736.03 1538.71 1737.84 1542.27 Q1739.67 1545.82 1743.28 1545.82 Q1746.91 1545.82 1748.72 1542.27 Q1750.55 1538.71 1750.55 1531.6 Q1750.55 1524.47 1748.72 1520.93 Q1746.91 1517.37 1743.28 1517.37 M1743.28 1513.66 Q1749.09 1513.66 1752.14 1518.27 Q1755.22 1522.85 1755.22 1531.6 Q1755.22 1540.33 1752.14 1544.94 Q1749.09 1549.52 1743.28 1549.52 Q1737.47 1549.52 1734.39 1544.94 Q1731.33 1540.33 1731.33 1531.6 Q1731.33 1522.85 1734.39 1518.27 Q1737.47 1513.66 1743.28 1513.66 Z\" fill=\"#000000\" fill-rule=\"nonzero\" fill-opacity=\"1\" /><path clip-path=\"url(#clip060)\" d=\"M1763.44 1542.97 L1768.32 1542.97 L1768.32 1548.85 L1763.44 1548.85 L1763.44 1542.97 Z\" fill=\"#000000\" fill-rule=\"nonzero\" fill-opacity=\"1\" /><path clip-path=\"url(#clip060)\" d=\"M1777.33 1514.29 L1799.55 1514.29 L1799.55 1516.28 L1787.01 1548.85 L1782.12 1548.85 L1793.93 1518.22 L1777.33 1518.22 L1777.33 1514.29 Z\" fill=\"#000000\" fill-rule=\"nonzero\" fill-opacity=\"1\" /><path clip-path=\"url(#clip060)\" d=\"M1808.72 1514.29 L1827.07 1514.29 L1827.07 1518.22 L1813 1518.22 L1813 1526.7 Q1814.02 1526.35 1815.04 1526.19 Q1816.06 1526 1817.07 1526 Q1822.86 1526 1826.24 1529.17 Q1829.62 1532.34 1829.62 1537.76 Q1829.62 1543.34 1826.15 1546.44 Q1822.68 1549.52 1816.36 1549.52 Q1814.18 1549.52 1811.91 1549.15 Q1809.67 1548.78 1807.26 1548.04 L1807.26 1543.34 Q1809.34 1544.47 1811.57 1545.03 Q1813.79 1545.58 1816.26 1545.58 Q1820.27 1545.58 1822.61 1543.48 Q1824.95 1541.37 1824.95 1537.76 Q1824.95 1534.15 1822.61 1532.04 Q1820.27 1529.94 1816.26 1529.94 Q1814.39 1529.94 1812.51 1530.35 Q1810.66 1530.77 1808.72 1531.65 L1808.72 1514.29 Z\" fill=\"#000000\" fill-rule=\"nonzero\" fill-opacity=\"1\" /><path clip-path=\"url(#clip060)\" d=\"M2243.51 1544.91 L2251.15 1544.91 L2251.15 1518.55 L2242.84 1520.21 L2242.84 1515.95 L2251.1 1514.29 L2255.78 1514.29 L2255.78 1544.91 L2263.42 1544.91 L2263.42 1548.85 L2243.51 1548.85 L2243.51 1544.91 Z\" fill=\"#000000\" fill-rule=\"nonzero\" fill-opacity=\"1\" /><path clip-path=\"url(#clip060)\" d=\"M2272.86 1542.97 L2277.75 1542.97 L2277.75 1548.85 L2272.86 1548.85 L2272.86 1542.97 Z\" fill=\"#000000\" fill-rule=\"nonzero\" fill-opacity=\"1\" /><path clip-path=\"url(#clip060)\" d=\"M2297.93 1517.37 Q2294.32 1517.37 2292.49 1520.93 Q2290.69 1524.47 2290.69 1531.6 Q2290.69 1538.71 2292.49 1542.27 Q2294.32 1545.82 2297.93 1545.82 Q2301.57 1545.82 2303.37 1542.27 Q2305.2 1538.71 2305.2 1531.6 Q2305.2 1524.47 2303.37 1520.93 Q2301.57 1517.37 2297.93 1517.37 M2297.93 1513.66 Q2303.74 1513.66 2306.8 1518.27 Q2309.88 1522.85 2309.88 1531.6 Q2309.88 1540.33 2306.8 1544.94 Q2303.74 1549.52 2297.93 1549.52 Q2292.12 1549.52 2289.04 1544.94 Q2285.99 1540.33 2285.99 1531.6 Q2285.99 1522.85 2289.04 1518.27 Q2292.12 1513.66 2297.93 1513.66 Z\" fill=\"#000000\" fill-rule=\"nonzero\" fill-opacity=\"1\" /><path clip-path=\"url(#clip060)\" d=\"M2328.1 1517.37 Q2324.48 1517.37 2322.66 1520.93 Q2320.85 1524.47 2320.85 1531.6 Q2320.85 1538.71 2322.66 1542.27 Q2324.48 1545.82 2328.1 1545.82 Q2331.73 1545.82 2333.54 1542.27 Q2335.36 1538.71 2335.36 1531.6 Q2335.36 1524.47 2333.54 1520.93 Q2331.73 1517.37 2328.1 1517.37 M2328.1 1513.66 Q2333.91 1513.66 2336.96 1518.27 Q2340.04 1522.85 2340.04 1531.6 Q2340.04 1540.33 2336.96 1544.94 Q2333.91 1549.52 2328.1 1549.52 Q2322.29 1549.52 2319.21 1544.94 Q2316.15 1540.33 2316.15 1531.6 Q2316.15 1522.85 2319.21 1518.27 Q2322.29 1513.66 2328.1 1513.66 Z\" fill=\"#000000\" fill-rule=\"nonzero\" fill-opacity=\"1\" /><polyline clip-path=\"url(#clip062)\" style=\"stroke:#000000; stroke-linecap:round; stroke-linejoin:round; stroke-width:2; stroke-opacity:0.1; fill:none\" points=\"186.274,1445.72 2352.76,1445.72 \"/>\n",
       "<polyline clip-path=\"url(#clip062)\" style=\"stroke:#000000; stroke-linecap:round; stroke-linejoin:round; stroke-width:2; stroke-opacity:0.1; fill:none\" points=\"186.274,1106.28 2352.76,1106.28 \"/>\n",
       "<polyline clip-path=\"url(#clip062)\" style=\"stroke:#000000; stroke-linecap:round; stroke-linejoin:round; stroke-width:2; stroke-opacity:0.1; fill:none\" points=\"186.274,766.846 2352.76,766.846 \"/>\n",
       "<polyline clip-path=\"url(#clip062)\" style=\"stroke:#000000; stroke-linecap:round; stroke-linejoin:round; stroke-width:2; stroke-opacity:0.1; fill:none\" points=\"186.274,427.411 2352.76,427.411 \"/>\n",
       "<polyline clip-path=\"url(#clip062)\" style=\"stroke:#000000; stroke-linecap:round; stroke-linejoin:round; stroke-width:2; stroke-opacity:0.1; fill:none\" points=\"186.274,87.9763 2352.76,87.9763 \"/>\n",
       "<polyline clip-path=\"url(#clip060)\" style=\"stroke:#000000; stroke-linecap:round; stroke-linejoin:round; stroke-width:4; stroke-opacity:1; fill:none\" points=\"186.274,1486.45 186.274,47.2441 \"/>\n",
       "<polyline clip-path=\"url(#clip060)\" style=\"stroke:#000000; stroke-linecap:round; stroke-linejoin:round; stroke-width:4; stroke-opacity:1; fill:none\" points=\"186.274,1445.72 205.172,1445.72 \"/>\n",
       "<polyline clip-path=\"url(#clip060)\" style=\"stroke:#000000; stroke-linecap:round; stroke-linejoin:round; stroke-width:4; stroke-opacity:1; fill:none\" points=\"186.274,1106.28 205.172,1106.28 \"/>\n",
       "<polyline clip-path=\"url(#clip060)\" style=\"stroke:#000000; stroke-linecap:round; stroke-linejoin:round; stroke-width:4; stroke-opacity:1; fill:none\" points=\"186.274,766.846 205.172,766.846 \"/>\n",
       "<polyline clip-path=\"url(#clip060)\" style=\"stroke:#000000; stroke-linecap:round; stroke-linejoin:round; stroke-width:4; stroke-opacity:1; fill:none\" points=\"186.274,427.411 205.172,427.411 \"/>\n",
       "<polyline clip-path=\"url(#clip060)\" style=\"stroke:#000000; stroke-linecap:round; stroke-linejoin:round; stroke-width:4; stroke-opacity:1; fill:none\" points=\"186.274,87.9763 205.172,87.9763 \"/>\n",
       "<path clip-path=\"url(#clip060)\" d=\"M62.9365 1431.51 Q59.3254 1431.51 57.4967 1435.08 Q55.6912 1438.62 55.6912 1445.75 Q55.6912 1452.86 57.4967 1456.42 Q59.3254 1459.96 62.9365 1459.96 Q66.5707 1459.96 68.3763 1456.42 Q70.205 1452.86 70.205 1445.75 Q70.205 1438.62 68.3763 1435.08 Q66.5707 1431.51 62.9365 1431.51 M62.9365 1427.81 Q68.7467 1427.81 71.8022 1432.42 Q74.8809 1437 74.8809 1445.75 Q74.8809 1454.48 71.8022 1459.08 Q68.7467 1463.67 62.9365 1463.67 Q57.1264 1463.67 54.0477 1459.08 Q50.9921 1454.48 50.9921 1445.75 Q50.9921 1437 54.0477 1432.42 Q57.1264 1427.81 62.9365 1427.81 Z\" fill=\"#000000\" fill-rule=\"nonzero\" fill-opacity=\"1\" /><path clip-path=\"url(#clip060)\" d=\"M83.0984 1457.12 L87.9827 1457.12 L87.9827 1463 L83.0984 1463 L83.0984 1457.12 Z\" fill=\"#000000\" fill-rule=\"nonzero\" fill-opacity=\"1\" /><path clip-path=\"url(#clip060)\" d=\"M108.168 1431.51 Q104.557 1431.51 102.728 1435.08 Q100.922 1438.62 100.922 1445.75 Q100.922 1452.86 102.728 1456.42 Q104.557 1459.96 108.168 1459.96 Q111.802 1459.96 113.608 1456.42 Q115.436 1452.86 115.436 1445.75 Q115.436 1438.62 113.608 1435.08 Q111.802 1431.51 108.168 1431.51 M108.168 1427.81 Q113.978 1427.81 117.033 1432.42 Q120.112 1437 120.112 1445.75 Q120.112 1454.48 117.033 1459.08 Q113.978 1463.67 108.168 1463.67 Q102.358 1463.67 99.2789 1459.08 Q96.2234 1454.48 96.2234 1445.75 Q96.2234 1437 99.2789 1432.42 Q102.358 1427.81 108.168 1427.81 Z\" fill=\"#000000\" fill-rule=\"nonzero\" fill-opacity=\"1\" /><path clip-path=\"url(#clip060)\" d=\"M138.33 1431.51 Q134.719 1431.51 132.89 1435.08 Q131.084 1438.62 131.084 1445.75 Q131.084 1452.86 132.89 1456.42 Q134.719 1459.96 138.33 1459.96 Q141.964 1459.96 143.769 1456.42 Q145.598 1452.86 145.598 1445.75 Q145.598 1438.62 143.769 1435.08 Q141.964 1431.51 138.33 1431.51 M138.33 1427.81 Q144.14 1427.81 147.195 1432.42 Q150.274 1437 150.274 1445.75 Q150.274 1454.48 147.195 1459.08 Q144.14 1463.67 138.33 1463.67 Q132.519 1463.67 129.441 1459.08 Q126.385 1454.48 126.385 1445.75 Q126.385 1437 129.441 1432.42 Q132.519 1427.81 138.33 1427.81 Z\" fill=\"#000000\" fill-rule=\"nonzero\" fill-opacity=\"1\" /><path clip-path=\"url(#clip060)\" d=\"M63.9319 1092.08 Q60.3208 1092.08 58.4921 1095.64 Q56.6865 1099.19 56.6865 1106.32 Q56.6865 1113.42 58.4921 1116.99 Q60.3208 1120.53 63.9319 1120.53 Q67.5661 1120.53 69.3717 1116.99 Q71.2004 1113.42 71.2004 1106.32 Q71.2004 1099.19 69.3717 1095.64 Q67.5661 1092.08 63.9319 1092.08 M63.9319 1088.38 Q69.742 1088.38 72.7976 1092.98 Q75.8763 1097.57 75.8763 1106.32 Q75.8763 1115.04 72.7976 1119.65 Q69.742 1124.23 63.9319 1124.23 Q58.1217 1124.23 55.043 1119.65 Q51.9875 1115.04 51.9875 1106.32 Q51.9875 1097.57 55.043 1092.98 Q58.1217 1088.38 63.9319 1088.38 Z\" fill=\"#000000\" fill-rule=\"nonzero\" fill-opacity=\"1\" /><path clip-path=\"url(#clip060)\" d=\"M84.0938 1117.68 L88.978 1117.68 L88.978 1123.56 L84.0938 1123.56 L84.0938 1117.68 Z\" fill=\"#000000\" fill-rule=\"nonzero\" fill-opacity=\"1\" /><path clip-path=\"url(#clip060)\" d=\"M103.191 1119.63 L119.51 1119.63 L119.51 1123.56 L97.566 1123.56 L97.566 1119.63 Q100.228 1116.87 104.811 1112.24 Q109.418 1107.59 110.598 1106.25 Q112.844 1103.72 113.723 1101.99 Q114.626 1100.23 114.626 1098.54 Q114.626 1095.78 112.682 1094.05 Q110.76 1092.31 107.658 1092.31 Q105.459 1092.31 103.006 1093.07 Q100.575 1093.84 97.7974 1095.39 L97.7974 1090.67 Q100.621 1089.53 103.075 1088.95 Q105.529 1088.38 107.566 1088.38 Q112.936 1088.38 116.131 1091.06 Q119.325 1093.75 119.325 1098.24 Q119.325 1100.37 118.515 1102.29 Q117.728 1104.19 115.621 1106.78 Q115.043 1107.45 111.941 1110.67 Q108.839 1113.86 103.191 1119.63 Z\" fill=\"#000000\" fill-rule=\"nonzero\" fill-opacity=\"1\" /><path clip-path=\"url(#clip060)\" d=\"M129.371 1089 L147.728 1089 L147.728 1092.94 L133.654 1092.94 L133.654 1101.41 Q134.672 1101.06 135.691 1100.9 Q136.709 1100.71 137.728 1100.71 Q143.515 1100.71 146.894 1103.89 Q150.274 1107.06 150.274 1112.47 Q150.274 1118.05 146.802 1121.15 Q143.33 1124.23 137.01 1124.23 Q134.834 1124.23 132.566 1123.86 Q130.32 1123.49 127.913 1122.75 L127.913 1118.05 Q129.996 1119.19 132.219 1119.74 Q134.441 1120.3 136.918 1120.3 Q140.922 1120.3 143.26 1118.19 Q145.598 1116.08 145.598 1112.47 Q145.598 1108.86 143.26 1106.76 Q140.922 1104.65 136.918 1104.65 Q135.043 1104.65 133.168 1105.07 Q131.316 1105.48 129.371 1106.36 L129.371 1089 Z\" fill=\"#000000\" fill-rule=\"nonzero\" fill-opacity=\"1\" /><path clip-path=\"url(#clip060)\" d=\"M62.9365 752.645 Q59.3254 752.645 57.4967 756.209 Q55.6912 759.751 55.6912 766.881 Q55.6912 773.987 57.4967 777.552 Q59.3254 781.094 62.9365 781.094 Q66.5707 781.094 68.3763 777.552 Q70.205 773.987 70.205 766.881 Q70.205 759.751 68.3763 756.209 Q66.5707 752.645 62.9365 752.645 M62.9365 748.941 Q68.7467 748.941 71.8022 753.547 Q74.8809 758.131 74.8809 766.881 Q74.8809 775.608 71.8022 780.214 Q68.7467 784.797 62.9365 784.797 Q57.1264 784.797 54.0477 780.214 Q50.9921 775.608 50.9921 766.881 Q50.9921 758.131 54.0477 753.547 Q57.1264 748.941 62.9365 748.941 Z\" fill=\"#000000\" fill-rule=\"nonzero\" fill-opacity=\"1\" /><path clip-path=\"url(#clip060)\" d=\"M83.0984 778.246 L87.9827 778.246 L87.9827 784.126 L83.0984 784.126 L83.0984 778.246 Z\" fill=\"#000000\" fill-rule=\"nonzero\" fill-opacity=\"1\" /><path clip-path=\"url(#clip060)\" d=\"M98.2141 749.566 L116.57 749.566 L116.57 753.501 L102.496 753.501 L102.496 761.973 Q103.515 761.626 104.534 761.464 Q105.552 761.279 106.571 761.279 Q112.358 761.279 115.737 764.45 Q119.117 767.621 119.117 773.038 Q119.117 778.617 115.645 781.719 Q112.172 784.797 105.853 784.797 Q103.677 784.797 101.409 784.427 Q99.1632 784.057 96.7558 783.316 L96.7558 778.617 Q98.8391 779.751 101.061 780.307 Q103.284 780.862 105.76 780.862 Q109.765 780.862 112.103 778.756 Q114.441 776.649 114.441 773.038 Q114.441 769.427 112.103 767.321 Q109.765 765.214 105.76 765.214 Q103.885 765.214 102.01 765.631 Q100.159 766.047 98.2141 766.927 L98.2141 749.566 Z\" fill=\"#000000\" fill-rule=\"nonzero\" fill-opacity=\"1\" /><path clip-path=\"url(#clip060)\" d=\"M138.33 752.645 Q134.719 752.645 132.89 756.209 Q131.084 759.751 131.084 766.881 Q131.084 773.987 132.89 777.552 Q134.719 781.094 138.33 781.094 Q141.964 781.094 143.769 777.552 Q145.598 773.987 145.598 766.881 Q145.598 759.751 143.769 756.209 Q141.964 752.645 138.33 752.645 M138.33 748.941 Q144.14 748.941 147.195 753.547 Q150.274 758.131 150.274 766.881 Q150.274 775.608 147.195 780.214 Q144.14 784.797 138.33 784.797 Q132.519 784.797 129.441 780.214 Q126.385 775.608 126.385 766.881 Q126.385 758.131 129.441 753.547 Q132.519 748.941 138.33 748.941 Z\" fill=\"#000000\" fill-rule=\"nonzero\" fill-opacity=\"1\" /><path clip-path=\"url(#clip060)\" d=\"M63.9319 413.21 Q60.3208 413.21 58.4921 416.775 Q56.6865 420.316 56.6865 427.446 Q56.6865 434.552 58.4921 438.117 Q60.3208 441.659 63.9319 441.659 Q67.5661 441.659 69.3717 438.117 Q71.2004 434.552 71.2004 427.446 Q71.2004 420.316 69.3717 416.775 Q67.5661 413.21 63.9319 413.21 M63.9319 409.506 Q69.742 409.506 72.7976 414.113 Q75.8763 418.696 75.8763 427.446 Q75.8763 436.173 72.7976 440.779 Q69.742 445.362 63.9319 445.362 Q58.1217 445.362 55.043 440.779 Q51.9875 436.173 51.9875 427.446 Q51.9875 418.696 55.043 414.113 Q58.1217 409.506 63.9319 409.506 Z\" fill=\"#000000\" fill-rule=\"nonzero\" fill-opacity=\"1\" /><path clip-path=\"url(#clip060)\" d=\"M84.0938 438.812 L88.978 438.812 L88.978 444.691 L84.0938 444.691 L84.0938 438.812 Z\" fill=\"#000000\" fill-rule=\"nonzero\" fill-opacity=\"1\" /><path clip-path=\"url(#clip060)\" d=\"M97.9826 410.131 L120.205 410.131 L120.205 412.122 L107.658 444.691 L102.774 444.691 L114.58 414.066 L97.9826 414.066 L97.9826 410.131 Z\" fill=\"#000000\" fill-rule=\"nonzero\" fill-opacity=\"1\" /><path clip-path=\"url(#clip060)\" d=\"M129.371 410.131 L147.728 410.131 L147.728 414.066 L133.654 414.066 L133.654 422.538 Q134.672 422.191 135.691 422.029 Q136.709 421.844 137.728 421.844 Q143.515 421.844 146.894 425.015 Q150.274 428.187 150.274 433.603 Q150.274 439.182 146.802 442.284 Q143.33 445.362 137.01 445.362 Q134.834 445.362 132.566 444.992 Q130.32 444.622 127.913 443.881 L127.913 439.182 Q129.996 440.316 132.219 440.872 Q134.441 441.427 136.918 441.427 Q140.922 441.427 143.26 439.321 Q145.598 437.214 145.598 433.603 Q145.598 429.992 143.26 427.886 Q140.922 425.779 136.918 425.779 Q135.043 425.779 133.168 426.196 Q131.316 426.613 129.371 427.492 L129.371 410.131 Z\" fill=\"#000000\" fill-rule=\"nonzero\" fill-opacity=\"1\" /><path clip-path=\"url(#clip060)\" d=\"M53.7467 101.321 L61.3856 101.321 L61.3856 74.9555 L53.0754 76.6222 L53.0754 72.3629 L61.3393 70.6963 L66.0152 70.6963 L66.0152 101.321 L73.654 101.321 L73.654 105.256 L53.7467 105.256 L53.7467 101.321 Z\" fill=\"#000000\" fill-rule=\"nonzero\" fill-opacity=\"1\" /><path clip-path=\"url(#clip060)\" d=\"M83.0984 99.3767 L87.9827 99.3767 L87.9827 105.256 L83.0984 105.256 L83.0984 99.3767 Z\" fill=\"#000000\" fill-rule=\"nonzero\" fill-opacity=\"1\" /><path clip-path=\"url(#clip060)\" d=\"M108.168 73.775 Q104.557 73.775 102.728 77.3398 Q100.922 80.8814 100.922 88.011 Q100.922 95.1174 102.728 98.6822 Q104.557 102.224 108.168 102.224 Q111.802 102.224 113.608 98.6822 Q115.436 95.1174 115.436 88.011 Q115.436 80.8814 113.608 77.3398 Q111.802 73.775 108.168 73.775 M108.168 70.0713 Q113.978 70.0713 117.033 74.6777 Q120.112 79.261 120.112 88.011 Q120.112 96.7378 117.033 101.344 Q113.978 105.928 108.168 105.928 Q102.358 105.928 99.2789 101.344 Q96.2234 96.7378 96.2234 88.011 Q96.2234 79.261 99.2789 74.6777 Q102.358 70.0713 108.168 70.0713 Z\" fill=\"#000000\" fill-rule=\"nonzero\" fill-opacity=\"1\" /><path clip-path=\"url(#clip060)\" d=\"M138.33 73.775 Q134.719 73.775 132.89 77.3398 Q131.084 80.8814 131.084 88.011 Q131.084 95.1174 132.89 98.6822 Q134.719 102.224 138.33 102.224 Q141.964 102.224 143.769 98.6822 Q145.598 95.1174 145.598 88.011 Q145.598 80.8814 143.769 77.3398 Q141.964 73.775 138.33 73.775 M138.33 70.0713 Q144.14 70.0713 147.195 74.6777 Q150.274 79.261 150.274 88.011 Q150.274 96.7378 147.195 101.344 Q144.14 105.928 138.33 105.928 Q132.519 105.928 129.441 101.344 Q126.385 96.7378 126.385 88.011 Q126.385 79.261 129.441 74.6777 Q132.519 70.0713 138.33 70.0713 Z\" fill=\"#000000\" fill-rule=\"nonzero\" fill-opacity=\"1\" /><polyline clip-path=\"url(#clip062)\" style=\"stroke:#009af9; stroke-linecap:round; stroke-linejoin:round; stroke-width:4; stroke-opacity:1; fill:none\" points=\"247.59,1445.72 451.975,1056.86 656.36,808.942 860.745,617.711 1065.13,465.525 1269.51,344.211 1473.9,249.152 1678.29,177.495 1882.67,127.418 2087.06,97.7867 2291.44,87.9763 \"/>\n",
       "<path clip-path=\"url(#clip060)\" d=\"M258.49 198.898 L527.569 198.898 L527.569 95.2176 L258.49 95.2176  Z\" fill=\"#ffffff\" fill-rule=\"evenodd\" fill-opacity=\"1\"/>\n",
       "<polyline clip-path=\"url(#clip060)\" style=\"stroke:#000000; stroke-linecap:round; stroke-linejoin:round; stroke-width:4; stroke-opacity:1; fill:none\" points=\"258.49,198.898 527.569,198.898 527.569,95.2176 258.49,95.2176 258.49,198.898 \"/>\n",
       "<polyline clip-path=\"url(#clip060)\" style=\"stroke:#009af9; stroke-linecap:round; stroke-linejoin:round; stroke-width:4; stroke-opacity:1; fill:none\" points=\"282.562,147.058 426.994,147.058 \"/>\n",
       "<path clip-path=\"url(#clip060)\" d=\"M464.909 166.745 Q463.103 171.375 461.39 172.787 Q459.677 174.199 456.807 174.199 L453.404 174.199 L453.404 170.634 L455.904 170.634 Q457.663 170.634 458.636 169.8 Q459.608 168.967 460.788 165.865 L461.552 163.921 L451.066 138.412 L455.58 138.412 L463.682 158.689 L471.784 138.412 L476.298 138.412 L464.909 166.745 Z\" fill=\"#000000\" fill-rule=\"nonzero\" fill-opacity=\"1\" /><path clip-path=\"url(#clip060)\" d=\"M483.589 160.402 L491.228 160.402 L491.228 134.037 L482.918 135.703 L482.918 131.444 L491.182 129.778 L495.858 129.778 L495.858 160.402 L503.497 160.402 L503.497 164.338 L483.589 164.338 L483.589 160.402 Z\" fill=\"#000000\" fill-rule=\"nonzero\" fill-opacity=\"1\" /></svg>\n"
      ],
      "text/html": [
       "<?xml version=\"1.0\" encoding=\"utf-8\"?>\n",
       "<svg xmlns=\"http://www.w3.org/2000/svg\" xmlns:xlink=\"http://www.w3.org/1999/xlink\" width=\"600\" height=\"400\" viewBox=\"0 0 2400 1600\">\n",
       "<defs>\n",
       "  <clipPath id=\"clip110\">\n",
       "    <rect x=\"0\" y=\"0\" width=\"2400\" height=\"1600\"/>\n",
       "  </clipPath>\n",
       "</defs>\n",
       "<path clip-path=\"url(#clip110)\" d=\"M0 1600 L2400 1600 L2400 0 L0 0  Z\" fill=\"#ffffff\" fill-rule=\"evenodd\" fill-opacity=\"1\"/>\n",
       "<defs>\n",
       "  <clipPath id=\"clip111\">\n",
       "    <rect x=\"480\" y=\"0\" width=\"1681\" height=\"1600\"/>\n",
       "  </clipPath>\n",
       "</defs>\n",
       "<path clip-path=\"url(#clip110)\" d=\"M186.274 1486.45 L2352.76 1486.45 L2352.76 47.2441 L186.274 47.2441  Z\" fill=\"#ffffff\" fill-rule=\"evenodd\" fill-opacity=\"1\"/>\n",
       "<defs>\n",
       "  <clipPath id=\"clip112\">\n",
       "    <rect x=\"186\" y=\"47\" width=\"2167\" height=\"1440\"/>\n",
       "  </clipPath>\n",
       "</defs>\n",
       "<polyline clip-path=\"url(#clip112)\" style=\"stroke:#000000; stroke-linecap:round; stroke-linejoin:round; stroke-width:2; stroke-opacity:0.1; fill:none\" points=\"247.59,1486.45 247.59,47.2441 \"/>\n",
       "<polyline clip-path=\"url(#clip112)\" style=\"stroke:#000000; stroke-linecap:round; stroke-linejoin:round; stroke-width:2; stroke-opacity:0.1; fill:none\" points=\"758.552,1486.45 758.552,47.2441 \"/>\n",
       "<polyline clip-path=\"url(#clip112)\" style=\"stroke:#000000; stroke-linecap:round; stroke-linejoin:round; stroke-width:2; stroke-opacity:0.1; fill:none\" points=\"1269.51,1486.45 1269.51,47.2441 \"/>\n",
       "<polyline clip-path=\"url(#clip112)\" style=\"stroke:#000000; stroke-linecap:round; stroke-linejoin:round; stroke-width:2; stroke-opacity:0.1; fill:none\" points=\"1780.48,1486.45 1780.48,47.2441 \"/>\n",
       "<polyline clip-path=\"url(#clip112)\" style=\"stroke:#000000; stroke-linecap:round; stroke-linejoin:round; stroke-width:2; stroke-opacity:0.1; fill:none\" points=\"2291.44,1486.45 2291.44,47.2441 \"/>\n",
       "<polyline clip-path=\"url(#clip110)\" style=\"stroke:#000000; stroke-linecap:round; stroke-linejoin:round; stroke-width:4; stroke-opacity:1; fill:none\" points=\"186.274,1486.45 2352.76,1486.45 \"/>\n",
       "<polyline clip-path=\"url(#clip110)\" style=\"stroke:#000000; stroke-linecap:round; stroke-linejoin:round; stroke-width:4; stroke-opacity:1; fill:none\" points=\"247.59,1486.45 247.59,1467.55 \"/>\n",
       "<polyline clip-path=\"url(#clip110)\" style=\"stroke:#000000; stroke-linecap:round; stroke-linejoin:round; stroke-width:4; stroke-opacity:1; fill:none\" points=\"758.552,1486.45 758.552,1467.55 \"/>\n",
       "<polyline clip-path=\"url(#clip110)\" style=\"stroke:#000000; stroke-linecap:round; stroke-linejoin:round; stroke-width:4; stroke-opacity:1; fill:none\" points=\"1269.51,1486.45 1269.51,1467.55 \"/>\n",
       "<polyline clip-path=\"url(#clip110)\" style=\"stroke:#000000; stroke-linecap:round; stroke-linejoin:round; stroke-width:4; stroke-opacity:1; fill:none\" points=\"1780.48,1486.45 1780.48,1467.55 \"/>\n",
       "<polyline clip-path=\"url(#clip110)\" style=\"stroke:#000000; stroke-linecap:round; stroke-linejoin:round; stroke-width:4; stroke-opacity:1; fill:none\" points=\"2291.44,1486.45 2291.44,1467.55 \"/>\n",
       "<path clip-path=\"url(#clip110)\" d=\"M209.893 1517.37 Q206.282 1517.37 204.453 1520.93 Q202.648 1524.47 202.648 1531.6 Q202.648 1538.71 204.453 1542.27 Q206.282 1545.82 209.893 1545.82 Q213.527 1545.82 215.333 1542.27 Q217.161 1538.71 217.161 1531.6 Q217.161 1524.47 215.333 1520.93 Q213.527 1517.37 209.893 1517.37 M209.893 1513.66 Q215.703 1513.66 218.759 1518.27 Q221.837 1522.85 221.837 1531.6 Q221.837 1540.33 218.759 1544.94 Q215.703 1549.52 209.893 1549.52 Q204.083 1549.52 201.004 1544.94 Q197.949 1540.33 197.949 1531.6 Q197.949 1522.85 201.004 1518.27 Q204.083 1513.66 209.893 1513.66 Z\" fill=\"#000000\" fill-rule=\"nonzero\" fill-opacity=\"1\" /><path clip-path=\"url(#clip110)\" d=\"M230.055 1542.97 L234.939 1542.97 L234.939 1548.85 L230.055 1548.85 L230.055 1542.97 Z\" fill=\"#000000\" fill-rule=\"nonzero\" fill-opacity=\"1\" /><path clip-path=\"url(#clip110)\" d=\"M255.124 1517.37 Q251.513 1517.37 249.684 1520.93 Q247.879 1524.47 247.879 1531.6 Q247.879 1538.71 249.684 1542.27 Q251.513 1545.82 255.124 1545.82 Q258.758 1545.82 260.564 1542.27 Q262.393 1538.71 262.393 1531.6 Q262.393 1524.47 260.564 1520.93 Q258.758 1517.37 255.124 1517.37 M255.124 1513.66 Q260.934 1513.66 263.99 1518.27 Q267.069 1522.85 267.069 1531.6 Q267.069 1540.33 263.99 1544.94 Q260.934 1549.52 255.124 1549.52 Q249.314 1549.52 246.235 1544.94 Q243.18 1540.33 243.18 1531.6 Q243.18 1522.85 246.235 1518.27 Q249.314 1513.66 255.124 1513.66 Z\" fill=\"#000000\" fill-rule=\"nonzero\" fill-opacity=\"1\" /><path clip-path=\"url(#clip110)\" d=\"M285.286 1517.37 Q281.675 1517.37 279.846 1520.93 Q278.041 1524.47 278.041 1531.6 Q278.041 1538.71 279.846 1542.27 Q281.675 1545.82 285.286 1545.82 Q288.92 1545.82 290.726 1542.27 Q292.555 1538.71 292.555 1531.6 Q292.555 1524.47 290.726 1520.93 Q288.92 1517.37 285.286 1517.37 M285.286 1513.66 Q291.096 1513.66 294.152 1518.27 Q297.23 1522.85 297.23 1531.6 Q297.23 1540.33 294.152 1544.94 Q291.096 1549.52 285.286 1549.52 Q279.476 1549.52 276.397 1544.94 Q273.342 1540.33 273.342 1531.6 Q273.342 1522.85 276.397 1518.27 Q279.476 1513.66 285.286 1513.66 Z\" fill=\"#000000\" fill-rule=\"nonzero\" fill-opacity=\"1\" /><path clip-path=\"url(#clip110)\" d=\"M721.353 1517.37 Q717.742 1517.37 715.914 1520.93 Q714.108 1524.47 714.108 1531.6 Q714.108 1538.71 715.914 1542.27 Q717.742 1545.82 721.353 1545.82 Q724.988 1545.82 726.793 1542.27 Q728.622 1538.71 728.622 1531.6 Q728.622 1524.47 726.793 1520.93 Q724.988 1517.37 721.353 1517.37 M721.353 1513.66 Q727.164 1513.66 730.219 1518.27 Q733.298 1522.85 733.298 1531.6 Q733.298 1540.33 730.219 1544.94 Q727.164 1549.52 721.353 1549.52 Q715.543 1549.52 712.465 1544.94 Q709.409 1540.33 709.409 1531.6 Q709.409 1522.85 712.465 1518.27 Q715.543 1513.66 721.353 1513.66 Z\" fill=\"#000000\" fill-rule=\"nonzero\" fill-opacity=\"1\" /><path clip-path=\"url(#clip110)\" d=\"M741.515 1542.97 L746.4 1542.97 L746.4 1548.85 L741.515 1548.85 L741.515 1542.97 Z\" fill=\"#000000\" fill-rule=\"nonzero\" fill-opacity=\"1\" /><path clip-path=\"url(#clip110)\" d=\"M760.612 1544.91 L776.932 1544.91 L776.932 1548.85 L754.987 1548.85 L754.987 1544.91 Q757.649 1542.16 762.233 1537.53 Q766.839 1532.88 768.02 1531.53 Q770.265 1529.01 771.145 1527.27 Q772.048 1525.51 772.048 1523.82 Q772.048 1521.07 770.103 1519.33 Q768.182 1517.6 765.08 1517.6 Q762.881 1517.6 760.427 1518.36 Q757.997 1519.13 755.219 1520.68 L755.219 1515.95 Q758.043 1514.82 760.497 1514.24 Q762.95 1513.66 764.987 1513.66 Q770.358 1513.66 773.552 1516.35 Q776.747 1519.03 776.747 1523.52 Q776.747 1525.65 775.936 1527.57 Q775.149 1529.47 773.043 1532.07 Q772.464 1532.74 769.362 1535.95 Q766.261 1539.15 760.612 1544.91 Z\" fill=\"#000000\" fill-rule=\"nonzero\" fill-opacity=\"1\" /><path clip-path=\"url(#clip110)\" d=\"M786.793 1514.29 L805.149 1514.29 L805.149 1518.22 L791.075 1518.22 L791.075 1526.7 Q792.094 1526.35 793.112 1526.19 Q794.131 1526 795.149 1526 Q800.936 1526 804.316 1529.17 Q807.695 1532.34 807.695 1537.76 Q807.695 1543.34 804.223 1546.44 Q800.751 1549.52 794.432 1549.52 Q792.256 1549.52 789.987 1549.15 Q787.742 1548.78 785.335 1548.04 L785.335 1543.34 Q787.418 1544.47 789.64 1545.03 Q791.862 1545.58 794.339 1545.58 Q798.344 1545.58 800.682 1543.48 Q803.02 1541.37 803.02 1537.76 Q803.02 1534.15 800.682 1532.04 Q798.344 1529.94 794.339 1529.94 Q792.464 1529.94 790.589 1530.35 Q788.737 1530.77 786.793 1531.65 L786.793 1514.29 Z\" fill=\"#000000\" fill-rule=\"nonzero\" fill-opacity=\"1\" /><path clip-path=\"url(#clip110)\" d=\"M1231.82 1517.37 Q1228.21 1517.37 1226.38 1520.93 Q1224.57 1524.47 1224.57 1531.6 Q1224.57 1538.71 1226.38 1542.27 Q1228.21 1545.82 1231.82 1545.82 Q1235.45 1545.82 1237.26 1542.27 Q1239.09 1538.71 1239.09 1531.6 Q1239.09 1524.47 1237.26 1520.93 Q1235.45 1517.37 1231.82 1517.37 M1231.82 1513.66 Q1237.63 1513.66 1240.68 1518.27 Q1243.76 1522.85 1243.76 1531.6 Q1243.76 1540.33 1240.68 1544.94 Q1237.63 1549.52 1231.82 1549.52 Q1226.01 1549.52 1222.93 1544.94 Q1219.87 1540.33 1219.87 1531.6 Q1219.87 1522.85 1222.93 1518.27 Q1226.01 1513.66 1231.82 1513.66 Z\" fill=\"#000000\" fill-rule=\"nonzero\" fill-opacity=\"1\" /><path clip-path=\"url(#clip110)\" d=\"M1251.98 1542.97 L1256.86 1542.97 L1256.86 1548.85 L1251.98 1548.85 L1251.98 1542.97 Z\" fill=\"#000000\" fill-rule=\"nonzero\" fill-opacity=\"1\" /><path clip-path=\"url(#clip110)\" d=\"M1267.1 1514.29 L1285.45 1514.29 L1285.45 1518.22 L1271.38 1518.22 L1271.38 1526.7 Q1272.4 1526.35 1273.42 1526.19 Q1274.43 1526 1275.45 1526 Q1281.24 1526 1284.62 1529.17 Q1288 1532.34 1288 1537.76 Q1288 1543.34 1284.53 1546.44 Q1281.05 1549.52 1274.73 1549.52 Q1272.56 1549.52 1270.29 1549.15 Q1268.05 1548.78 1265.64 1548.04 L1265.64 1543.34 Q1267.72 1544.47 1269.94 1545.03 Q1272.17 1545.58 1274.64 1545.58 Q1278.65 1545.58 1280.98 1543.48 Q1283.32 1541.37 1283.32 1537.76 Q1283.32 1534.15 1280.98 1532.04 Q1278.65 1529.94 1274.64 1529.94 Q1272.77 1529.94 1270.89 1530.35 Q1269.04 1530.77 1267.1 1531.65 L1267.1 1514.29 Z\" fill=\"#000000\" fill-rule=\"nonzero\" fill-opacity=\"1\" /><path clip-path=\"url(#clip110)\" d=\"M1307.21 1517.37 Q1303.6 1517.37 1301.77 1520.93 Q1299.97 1524.47 1299.97 1531.6 Q1299.97 1538.71 1301.77 1542.27 Q1303.6 1545.82 1307.21 1545.82 Q1310.85 1545.82 1312.65 1542.27 Q1314.48 1538.71 1314.48 1531.6 Q1314.48 1524.47 1312.65 1520.93 Q1310.85 1517.37 1307.21 1517.37 M1307.21 1513.66 Q1313.02 1513.66 1316.08 1518.27 Q1319.16 1522.85 1319.16 1531.6 Q1319.16 1540.33 1316.08 1544.94 Q1313.02 1549.52 1307.21 1549.52 Q1301.4 1549.52 1298.32 1544.94 Q1295.27 1540.33 1295.27 1531.6 Q1295.27 1522.85 1298.32 1518.27 Q1301.4 1513.66 1307.21 1513.66 Z\" fill=\"#000000\" fill-rule=\"nonzero\" fill-opacity=\"1\" /><path clip-path=\"url(#clip110)\" d=\"M1743.28 1517.37 Q1739.67 1517.37 1737.84 1520.93 Q1736.03 1524.47 1736.03 1531.6 Q1736.03 1538.71 1737.84 1542.27 Q1739.67 1545.82 1743.28 1545.82 Q1746.91 1545.82 1748.72 1542.27 Q1750.55 1538.71 1750.55 1531.6 Q1750.55 1524.47 1748.72 1520.93 Q1746.91 1517.37 1743.28 1517.37 M1743.28 1513.66 Q1749.09 1513.66 1752.14 1518.27 Q1755.22 1522.85 1755.22 1531.6 Q1755.22 1540.33 1752.14 1544.94 Q1749.09 1549.52 1743.28 1549.52 Q1737.47 1549.52 1734.39 1544.94 Q1731.33 1540.33 1731.33 1531.6 Q1731.33 1522.85 1734.39 1518.27 Q1737.47 1513.66 1743.28 1513.66 Z\" fill=\"#000000\" fill-rule=\"nonzero\" fill-opacity=\"1\" /><path clip-path=\"url(#clip110)\" d=\"M1763.44 1542.97 L1768.32 1542.97 L1768.32 1548.85 L1763.44 1548.85 L1763.44 1542.97 Z\" fill=\"#000000\" fill-rule=\"nonzero\" fill-opacity=\"1\" /><path clip-path=\"url(#clip110)\" d=\"M1777.33 1514.29 L1799.55 1514.29 L1799.55 1516.28 L1787.01 1548.85 L1782.12 1548.85 L1793.93 1518.22 L1777.33 1518.22 L1777.33 1514.29 Z\" fill=\"#000000\" fill-rule=\"nonzero\" fill-opacity=\"1\" /><path clip-path=\"url(#clip110)\" d=\"M1808.72 1514.29 L1827.07 1514.29 L1827.07 1518.22 L1813 1518.22 L1813 1526.7 Q1814.02 1526.35 1815.04 1526.19 Q1816.06 1526 1817.07 1526 Q1822.86 1526 1826.24 1529.17 Q1829.62 1532.34 1829.62 1537.76 Q1829.62 1543.34 1826.15 1546.44 Q1822.68 1549.52 1816.36 1549.52 Q1814.18 1549.52 1811.91 1549.15 Q1809.67 1548.78 1807.26 1548.04 L1807.26 1543.34 Q1809.34 1544.47 1811.57 1545.03 Q1813.79 1545.58 1816.26 1545.58 Q1820.27 1545.58 1822.61 1543.48 Q1824.95 1541.37 1824.95 1537.76 Q1824.95 1534.15 1822.61 1532.04 Q1820.27 1529.94 1816.26 1529.94 Q1814.39 1529.94 1812.51 1530.35 Q1810.66 1530.77 1808.72 1531.65 L1808.72 1514.29 Z\" fill=\"#000000\" fill-rule=\"nonzero\" fill-opacity=\"1\" /><path clip-path=\"url(#clip110)\" d=\"M2243.51 1544.91 L2251.15 1544.91 L2251.15 1518.55 L2242.84 1520.21 L2242.84 1515.95 L2251.1 1514.29 L2255.78 1514.29 L2255.78 1544.91 L2263.42 1544.91 L2263.42 1548.85 L2243.51 1548.85 L2243.51 1544.91 Z\" fill=\"#000000\" fill-rule=\"nonzero\" fill-opacity=\"1\" /><path clip-path=\"url(#clip110)\" d=\"M2272.86 1542.97 L2277.75 1542.97 L2277.75 1548.85 L2272.86 1548.85 L2272.86 1542.97 Z\" fill=\"#000000\" fill-rule=\"nonzero\" fill-opacity=\"1\" /><path clip-path=\"url(#clip110)\" d=\"M2297.93 1517.37 Q2294.32 1517.37 2292.49 1520.93 Q2290.69 1524.47 2290.69 1531.6 Q2290.69 1538.71 2292.49 1542.27 Q2294.32 1545.82 2297.93 1545.82 Q2301.57 1545.82 2303.37 1542.27 Q2305.2 1538.71 2305.2 1531.6 Q2305.2 1524.47 2303.37 1520.93 Q2301.57 1517.37 2297.93 1517.37 M2297.93 1513.66 Q2303.74 1513.66 2306.8 1518.27 Q2309.88 1522.85 2309.88 1531.6 Q2309.88 1540.33 2306.8 1544.94 Q2303.74 1549.52 2297.93 1549.52 Q2292.12 1549.52 2289.04 1544.94 Q2285.99 1540.33 2285.99 1531.6 Q2285.99 1522.85 2289.04 1518.27 Q2292.12 1513.66 2297.93 1513.66 Z\" fill=\"#000000\" fill-rule=\"nonzero\" fill-opacity=\"1\" /><path clip-path=\"url(#clip110)\" d=\"M2328.1 1517.37 Q2324.48 1517.37 2322.66 1520.93 Q2320.85 1524.47 2320.85 1531.6 Q2320.85 1538.71 2322.66 1542.27 Q2324.48 1545.82 2328.1 1545.82 Q2331.73 1545.82 2333.54 1542.27 Q2335.36 1538.71 2335.36 1531.6 Q2335.36 1524.47 2333.54 1520.93 Q2331.73 1517.37 2328.1 1517.37 M2328.1 1513.66 Q2333.91 1513.66 2336.96 1518.27 Q2340.04 1522.85 2340.04 1531.6 Q2340.04 1540.33 2336.96 1544.94 Q2333.91 1549.52 2328.1 1549.52 Q2322.29 1549.52 2319.21 1544.94 Q2316.15 1540.33 2316.15 1531.6 Q2316.15 1522.85 2319.21 1518.27 Q2322.29 1513.66 2328.1 1513.66 Z\" fill=\"#000000\" fill-rule=\"nonzero\" fill-opacity=\"1\" /><polyline clip-path=\"url(#clip112)\" style=\"stroke:#000000; stroke-linecap:round; stroke-linejoin:round; stroke-width:2; stroke-opacity:0.1; fill:none\" points=\"186.274,1445.72 2352.76,1445.72 \"/>\n",
       "<polyline clip-path=\"url(#clip112)\" style=\"stroke:#000000; stroke-linecap:round; stroke-linejoin:round; stroke-width:2; stroke-opacity:0.1; fill:none\" points=\"186.274,1106.28 2352.76,1106.28 \"/>\n",
       "<polyline clip-path=\"url(#clip112)\" style=\"stroke:#000000; stroke-linecap:round; stroke-linejoin:round; stroke-width:2; stroke-opacity:0.1; fill:none\" points=\"186.274,766.846 2352.76,766.846 \"/>\n",
       "<polyline clip-path=\"url(#clip112)\" style=\"stroke:#000000; stroke-linecap:round; stroke-linejoin:round; stroke-width:2; stroke-opacity:0.1; fill:none\" points=\"186.274,427.411 2352.76,427.411 \"/>\n",
       "<polyline clip-path=\"url(#clip112)\" style=\"stroke:#000000; stroke-linecap:round; stroke-linejoin:round; stroke-width:2; stroke-opacity:0.1; fill:none\" points=\"186.274,87.9763 2352.76,87.9763 \"/>\n",
       "<polyline clip-path=\"url(#clip110)\" style=\"stroke:#000000; stroke-linecap:round; stroke-linejoin:round; stroke-width:4; stroke-opacity:1; fill:none\" points=\"186.274,1486.45 186.274,47.2441 \"/>\n",
       "<polyline clip-path=\"url(#clip110)\" style=\"stroke:#000000; stroke-linecap:round; stroke-linejoin:round; stroke-width:4; stroke-opacity:1; fill:none\" points=\"186.274,1445.72 205.172,1445.72 \"/>\n",
       "<polyline clip-path=\"url(#clip110)\" style=\"stroke:#000000; stroke-linecap:round; stroke-linejoin:round; stroke-width:4; stroke-opacity:1; fill:none\" points=\"186.274,1106.28 205.172,1106.28 \"/>\n",
       "<polyline clip-path=\"url(#clip110)\" style=\"stroke:#000000; stroke-linecap:round; stroke-linejoin:round; stroke-width:4; stroke-opacity:1; fill:none\" points=\"186.274,766.846 205.172,766.846 \"/>\n",
       "<polyline clip-path=\"url(#clip110)\" style=\"stroke:#000000; stroke-linecap:round; stroke-linejoin:round; stroke-width:4; stroke-opacity:1; fill:none\" points=\"186.274,427.411 205.172,427.411 \"/>\n",
       "<polyline clip-path=\"url(#clip110)\" style=\"stroke:#000000; stroke-linecap:round; stroke-linejoin:round; stroke-width:4; stroke-opacity:1; fill:none\" points=\"186.274,87.9763 205.172,87.9763 \"/>\n",
       "<path clip-path=\"url(#clip110)\" d=\"M62.9365 1431.51 Q59.3254 1431.51 57.4967 1435.08 Q55.6912 1438.62 55.6912 1445.75 Q55.6912 1452.86 57.4967 1456.42 Q59.3254 1459.96 62.9365 1459.96 Q66.5707 1459.96 68.3763 1456.42 Q70.205 1452.86 70.205 1445.75 Q70.205 1438.62 68.3763 1435.08 Q66.5707 1431.51 62.9365 1431.51 M62.9365 1427.81 Q68.7467 1427.81 71.8022 1432.42 Q74.8809 1437 74.8809 1445.75 Q74.8809 1454.48 71.8022 1459.08 Q68.7467 1463.67 62.9365 1463.67 Q57.1264 1463.67 54.0477 1459.08 Q50.9921 1454.48 50.9921 1445.75 Q50.9921 1437 54.0477 1432.42 Q57.1264 1427.81 62.9365 1427.81 Z\" fill=\"#000000\" fill-rule=\"nonzero\" fill-opacity=\"1\" /><path clip-path=\"url(#clip110)\" d=\"M83.0984 1457.12 L87.9827 1457.12 L87.9827 1463 L83.0984 1463 L83.0984 1457.12 Z\" fill=\"#000000\" fill-rule=\"nonzero\" fill-opacity=\"1\" /><path clip-path=\"url(#clip110)\" d=\"M108.168 1431.51 Q104.557 1431.51 102.728 1435.08 Q100.922 1438.62 100.922 1445.75 Q100.922 1452.86 102.728 1456.42 Q104.557 1459.96 108.168 1459.96 Q111.802 1459.96 113.608 1456.42 Q115.436 1452.86 115.436 1445.75 Q115.436 1438.62 113.608 1435.08 Q111.802 1431.51 108.168 1431.51 M108.168 1427.81 Q113.978 1427.81 117.033 1432.42 Q120.112 1437 120.112 1445.75 Q120.112 1454.48 117.033 1459.08 Q113.978 1463.67 108.168 1463.67 Q102.358 1463.67 99.2789 1459.08 Q96.2234 1454.48 96.2234 1445.75 Q96.2234 1437 99.2789 1432.42 Q102.358 1427.81 108.168 1427.81 Z\" fill=\"#000000\" fill-rule=\"nonzero\" fill-opacity=\"1\" /><path clip-path=\"url(#clip110)\" d=\"M138.33 1431.51 Q134.719 1431.51 132.89 1435.08 Q131.084 1438.62 131.084 1445.75 Q131.084 1452.86 132.89 1456.42 Q134.719 1459.96 138.33 1459.96 Q141.964 1459.96 143.769 1456.42 Q145.598 1452.86 145.598 1445.75 Q145.598 1438.62 143.769 1435.08 Q141.964 1431.51 138.33 1431.51 M138.33 1427.81 Q144.14 1427.81 147.195 1432.42 Q150.274 1437 150.274 1445.75 Q150.274 1454.48 147.195 1459.08 Q144.14 1463.67 138.33 1463.67 Q132.519 1463.67 129.441 1459.08 Q126.385 1454.48 126.385 1445.75 Q126.385 1437 129.441 1432.42 Q132.519 1427.81 138.33 1427.81 Z\" fill=\"#000000\" fill-rule=\"nonzero\" fill-opacity=\"1\" /><path clip-path=\"url(#clip110)\" d=\"M63.9319 1092.08 Q60.3208 1092.08 58.4921 1095.64 Q56.6865 1099.19 56.6865 1106.32 Q56.6865 1113.42 58.4921 1116.99 Q60.3208 1120.53 63.9319 1120.53 Q67.5661 1120.53 69.3717 1116.99 Q71.2004 1113.42 71.2004 1106.32 Q71.2004 1099.19 69.3717 1095.64 Q67.5661 1092.08 63.9319 1092.08 M63.9319 1088.38 Q69.742 1088.38 72.7976 1092.98 Q75.8763 1097.57 75.8763 1106.32 Q75.8763 1115.04 72.7976 1119.65 Q69.742 1124.23 63.9319 1124.23 Q58.1217 1124.23 55.043 1119.65 Q51.9875 1115.04 51.9875 1106.32 Q51.9875 1097.57 55.043 1092.98 Q58.1217 1088.38 63.9319 1088.38 Z\" fill=\"#000000\" fill-rule=\"nonzero\" fill-opacity=\"1\" /><path clip-path=\"url(#clip110)\" d=\"M84.0938 1117.68 L88.978 1117.68 L88.978 1123.56 L84.0938 1123.56 L84.0938 1117.68 Z\" fill=\"#000000\" fill-rule=\"nonzero\" fill-opacity=\"1\" /><path clip-path=\"url(#clip110)\" d=\"M103.191 1119.63 L119.51 1119.63 L119.51 1123.56 L97.566 1123.56 L97.566 1119.63 Q100.228 1116.87 104.811 1112.24 Q109.418 1107.59 110.598 1106.25 Q112.844 1103.72 113.723 1101.99 Q114.626 1100.23 114.626 1098.54 Q114.626 1095.78 112.682 1094.05 Q110.76 1092.31 107.658 1092.31 Q105.459 1092.31 103.006 1093.07 Q100.575 1093.84 97.7974 1095.39 L97.7974 1090.67 Q100.621 1089.53 103.075 1088.95 Q105.529 1088.38 107.566 1088.38 Q112.936 1088.38 116.131 1091.06 Q119.325 1093.75 119.325 1098.24 Q119.325 1100.37 118.515 1102.29 Q117.728 1104.19 115.621 1106.78 Q115.043 1107.45 111.941 1110.67 Q108.839 1113.86 103.191 1119.63 Z\" fill=\"#000000\" fill-rule=\"nonzero\" fill-opacity=\"1\" /><path clip-path=\"url(#clip110)\" d=\"M129.371 1089 L147.728 1089 L147.728 1092.94 L133.654 1092.94 L133.654 1101.41 Q134.672 1101.06 135.691 1100.9 Q136.709 1100.71 137.728 1100.71 Q143.515 1100.71 146.894 1103.89 Q150.274 1107.06 150.274 1112.47 Q150.274 1118.05 146.802 1121.15 Q143.33 1124.23 137.01 1124.23 Q134.834 1124.23 132.566 1123.86 Q130.32 1123.49 127.913 1122.75 L127.913 1118.05 Q129.996 1119.19 132.219 1119.74 Q134.441 1120.3 136.918 1120.3 Q140.922 1120.3 143.26 1118.19 Q145.598 1116.08 145.598 1112.47 Q145.598 1108.86 143.26 1106.76 Q140.922 1104.65 136.918 1104.65 Q135.043 1104.65 133.168 1105.07 Q131.316 1105.48 129.371 1106.36 L129.371 1089 Z\" fill=\"#000000\" fill-rule=\"nonzero\" fill-opacity=\"1\" /><path clip-path=\"url(#clip110)\" d=\"M62.9365 752.645 Q59.3254 752.645 57.4967 756.209 Q55.6912 759.751 55.6912 766.881 Q55.6912 773.987 57.4967 777.552 Q59.3254 781.094 62.9365 781.094 Q66.5707 781.094 68.3763 777.552 Q70.205 773.987 70.205 766.881 Q70.205 759.751 68.3763 756.209 Q66.5707 752.645 62.9365 752.645 M62.9365 748.941 Q68.7467 748.941 71.8022 753.547 Q74.8809 758.131 74.8809 766.881 Q74.8809 775.608 71.8022 780.214 Q68.7467 784.797 62.9365 784.797 Q57.1264 784.797 54.0477 780.214 Q50.9921 775.608 50.9921 766.881 Q50.9921 758.131 54.0477 753.547 Q57.1264 748.941 62.9365 748.941 Z\" fill=\"#000000\" fill-rule=\"nonzero\" fill-opacity=\"1\" /><path clip-path=\"url(#clip110)\" d=\"M83.0984 778.246 L87.9827 778.246 L87.9827 784.126 L83.0984 784.126 L83.0984 778.246 Z\" fill=\"#000000\" fill-rule=\"nonzero\" fill-opacity=\"1\" /><path clip-path=\"url(#clip110)\" d=\"M98.2141 749.566 L116.57 749.566 L116.57 753.501 L102.496 753.501 L102.496 761.973 Q103.515 761.626 104.534 761.464 Q105.552 761.279 106.571 761.279 Q112.358 761.279 115.737 764.45 Q119.117 767.621 119.117 773.038 Q119.117 778.617 115.645 781.719 Q112.172 784.797 105.853 784.797 Q103.677 784.797 101.409 784.427 Q99.1632 784.057 96.7558 783.316 L96.7558 778.617 Q98.8391 779.751 101.061 780.307 Q103.284 780.862 105.76 780.862 Q109.765 780.862 112.103 778.756 Q114.441 776.649 114.441 773.038 Q114.441 769.427 112.103 767.321 Q109.765 765.214 105.76 765.214 Q103.885 765.214 102.01 765.631 Q100.159 766.047 98.2141 766.927 L98.2141 749.566 Z\" fill=\"#000000\" fill-rule=\"nonzero\" fill-opacity=\"1\" /><path clip-path=\"url(#clip110)\" d=\"M138.33 752.645 Q134.719 752.645 132.89 756.209 Q131.084 759.751 131.084 766.881 Q131.084 773.987 132.89 777.552 Q134.719 781.094 138.33 781.094 Q141.964 781.094 143.769 777.552 Q145.598 773.987 145.598 766.881 Q145.598 759.751 143.769 756.209 Q141.964 752.645 138.33 752.645 M138.33 748.941 Q144.14 748.941 147.195 753.547 Q150.274 758.131 150.274 766.881 Q150.274 775.608 147.195 780.214 Q144.14 784.797 138.33 784.797 Q132.519 784.797 129.441 780.214 Q126.385 775.608 126.385 766.881 Q126.385 758.131 129.441 753.547 Q132.519 748.941 138.33 748.941 Z\" fill=\"#000000\" fill-rule=\"nonzero\" fill-opacity=\"1\" /><path clip-path=\"url(#clip110)\" d=\"M63.9319 413.21 Q60.3208 413.21 58.4921 416.775 Q56.6865 420.316 56.6865 427.446 Q56.6865 434.552 58.4921 438.117 Q60.3208 441.659 63.9319 441.659 Q67.5661 441.659 69.3717 438.117 Q71.2004 434.552 71.2004 427.446 Q71.2004 420.316 69.3717 416.775 Q67.5661 413.21 63.9319 413.21 M63.9319 409.506 Q69.742 409.506 72.7976 414.113 Q75.8763 418.696 75.8763 427.446 Q75.8763 436.173 72.7976 440.779 Q69.742 445.362 63.9319 445.362 Q58.1217 445.362 55.043 440.779 Q51.9875 436.173 51.9875 427.446 Q51.9875 418.696 55.043 414.113 Q58.1217 409.506 63.9319 409.506 Z\" fill=\"#000000\" fill-rule=\"nonzero\" fill-opacity=\"1\" /><path clip-path=\"url(#clip110)\" d=\"M84.0938 438.812 L88.978 438.812 L88.978 444.691 L84.0938 444.691 L84.0938 438.812 Z\" fill=\"#000000\" fill-rule=\"nonzero\" fill-opacity=\"1\" /><path clip-path=\"url(#clip110)\" d=\"M97.9826 410.131 L120.205 410.131 L120.205 412.122 L107.658 444.691 L102.774 444.691 L114.58 414.066 L97.9826 414.066 L97.9826 410.131 Z\" fill=\"#000000\" fill-rule=\"nonzero\" fill-opacity=\"1\" /><path clip-path=\"url(#clip110)\" d=\"M129.371 410.131 L147.728 410.131 L147.728 414.066 L133.654 414.066 L133.654 422.538 Q134.672 422.191 135.691 422.029 Q136.709 421.844 137.728 421.844 Q143.515 421.844 146.894 425.015 Q150.274 428.187 150.274 433.603 Q150.274 439.182 146.802 442.284 Q143.33 445.362 137.01 445.362 Q134.834 445.362 132.566 444.992 Q130.32 444.622 127.913 443.881 L127.913 439.182 Q129.996 440.316 132.219 440.872 Q134.441 441.427 136.918 441.427 Q140.922 441.427 143.26 439.321 Q145.598 437.214 145.598 433.603 Q145.598 429.992 143.26 427.886 Q140.922 425.779 136.918 425.779 Q135.043 425.779 133.168 426.196 Q131.316 426.613 129.371 427.492 L129.371 410.131 Z\" fill=\"#000000\" fill-rule=\"nonzero\" fill-opacity=\"1\" /><path clip-path=\"url(#clip110)\" d=\"M53.7467 101.321 L61.3856 101.321 L61.3856 74.9555 L53.0754 76.6222 L53.0754 72.3629 L61.3393 70.6963 L66.0152 70.6963 L66.0152 101.321 L73.654 101.321 L73.654 105.256 L53.7467 105.256 L53.7467 101.321 Z\" fill=\"#000000\" fill-rule=\"nonzero\" fill-opacity=\"1\" /><path clip-path=\"url(#clip110)\" d=\"M83.0984 99.3767 L87.9827 99.3767 L87.9827 105.256 L83.0984 105.256 L83.0984 99.3767 Z\" fill=\"#000000\" fill-rule=\"nonzero\" fill-opacity=\"1\" /><path clip-path=\"url(#clip110)\" d=\"M108.168 73.775 Q104.557 73.775 102.728 77.3398 Q100.922 80.8814 100.922 88.011 Q100.922 95.1174 102.728 98.6822 Q104.557 102.224 108.168 102.224 Q111.802 102.224 113.608 98.6822 Q115.436 95.1174 115.436 88.011 Q115.436 80.8814 113.608 77.3398 Q111.802 73.775 108.168 73.775 M108.168 70.0713 Q113.978 70.0713 117.033 74.6777 Q120.112 79.261 120.112 88.011 Q120.112 96.7378 117.033 101.344 Q113.978 105.928 108.168 105.928 Q102.358 105.928 99.2789 101.344 Q96.2234 96.7378 96.2234 88.011 Q96.2234 79.261 99.2789 74.6777 Q102.358 70.0713 108.168 70.0713 Z\" fill=\"#000000\" fill-rule=\"nonzero\" fill-opacity=\"1\" /><path clip-path=\"url(#clip110)\" d=\"M138.33 73.775 Q134.719 73.775 132.89 77.3398 Q131.084 80.8814 131.084 88.011 Q131.084 95.1174 132.89 98.6822 Q134.719 102.224 138.33 102.224 Q141.964 102.224 143.769 98.6822 Q145.598 95.1174 145.598 88.011 Q145.598 80.8814 143.769 77.3398 Q141.964 73.775 138.33 73.775 M138.33 70.0713 Q144.14 70.0713 147.195 74.6777 Q150.274 79.261 150.274 88.011 Q150.274 96.7378 147.195 101.344 Q144.14 105.928 138.33 105.928 Q132.519 105.928 129.441 101.344 Q126.385 96.7378 126.385 88.011 Q126.385 79.261 129.441 74.6777 Q132.519 70.0713 138.33 70.0713 Z\" fill=\"#000000\" fill-rule=\"nonzero\" fill-opacity=\"1\" /><polyline clip-path=\"url(#clip112)\" style=\"stroke:#009af9; stroke-linecap:round; stroke-linejoin:round; stroke-width:4; stroke-opacity:1; fill:none\" points=\"247.59,1445.72 451.975,1056.86 656.36,808.942 860.745,617.711 1065.13,465.525 1269.51,344.211 1473.9,249.152 1678.29,177.495 1882.67,127.418 2087.06,97.7867 2291.44,87.9763 \"/>\n",
       "<path clip-path=\"url(#clip110)\" d=\"M258.49 198.898 L527.569 198.898 L527.569 95.2176 L258.49 95.2176  Z\" fill=\"#ffffff\" fill-rule=\"evenodd\" fill-opacity=\"1\"/>\n",
       "<polyline clip-path=\"url(#clip110)\" style=\"stroke:#000000; stroke-linecap:round; stroke-linejoin:round; stroke-width:4; stroke-opacity:1; fill:none\" points=\"258.49,198.898 527.569,198.898 527.569,95.2176 258.49,95.2176 258.49,198.898 \"/>\n",
       "<polyline clip-path=\"url(#clip110)\" style=\"stroke:#009af9; stroke-linecap:round; stroke-linejoin:round; stroke-width:4; stroke-opacity:1; fill:none\" points=\"282.562,147.058 426.994,147.058 \"/>\n",
       "<path clip-path=\"url(#clip110)\" d=\"M464.909 166.745 Q463.103 171.375 461.39 172.787 Q459.677 174.199 456.807 174.199 L453.404 174.199 L453.404 170.634 L455.904 170.634 Q457.663 170.634 458.636 169.8 Q459.608 168.967 460.788 165.865 L461.552 163.921 L451.066 138.412 L455.58 138.412 L463.682 158.689 L471.784 138.412 L476.298 138.412 L464.909 166.745 Z\" fill=\"#000000\" fill-rule=\"nonzero\" fill-opacity=\"1\" /><path clip-path=\"url(#clip110)\" d=\"M483.589 160.402 L491.228 160.402 L491.228 134.037 L482.918 135.703 L482.918 131.444 L491.182 129.778 L495.858 129.778 L495.858 160.402 L503.497 160.402 L503.497 164.338 L483.589 164.338 L483.589 160.402 Z\" fill=\"#000000\" fill-rule=\"nonzero\" fill-opacity=\"1\" /></svg>\n"
      ]
     },
     "metadata": {},
     "output_type": "display_data"
    }
   ],
   "source": [
    "plot(x, u)"
   ]
  },
  {
   "cell_type": "code",
   "execution_count": 13,
   "metadata": {},
   "outputs": [
    {
     "data": {
      "text/plain": [
       "11-element Vector{Float64}:\n",
       " 6.9524463616183e-310\n",
       " 6.9524499500993e-310\n",
       " 1.1399684987977e-311\n",
       " 6.952449893194e-310\n",
       " 0.0\n",
       " 0.0\n",
       " 7.10234771575e-313\n",
       " 1.6e-322\n",
       " 6.9524463616183e-310\n",
       " 6.9524499500993e-310\n",
       " 1.139968498861e-311"
      ]
     },
     "metadata": {},
     "output_type": "display_data"
    }
   ],
   "source": [
    "m = Vector{Float64}(undef,n)"
   ]
  },
  {
   "cell_type": "code",
   "execution_count": 15,
   "metadata": {},
   "outputs": [
    {
     "data": {
      "text/plain": [
       "11-element Vector{Float64}:\n",
       " 1.0\n",
       " 0.7136030428840436\n",
       " 0.5310044064107187\n",
       " 0.39015969528359973\n",
       " 0.27807190511263746\n",
       " 0.18872187554086728\n",
       " 0.1187091007693073\n",
       " 0.06593194462450902\n",
       " 0.029049405545330975\n",
       " 0.007225546012191497\n",
       " 0.0"
      ]
     },
     "metadata": {},
     "output_type": "display_data"
    }
   ],
   "source": [
    "m=2 .- v"
   ]
  },
  {
   "cell_type": "code",
   "execution_count": 16,
   "metadata": {},
   "outputs": [
    {
     "data": {
      "image/png": "[encoded data removed]",
      "image/svg+xml": [
       "<?xml version=\"1.0\" encoding=\"utf-8\"?>\n",
       "<svg xmlns=\"http://www.w3.org/2000/svg\" xmlns:xlink=\"http://www.w3.org/1999/xlink\" width=\"600\" height=\"400\" viewBox=\"0 0 2400 1600\">\n",
       "<defs>\n",
       "  <clipPath id=\"clip150\">\n",
       "    <rect x=\"0\" y=\"0\" width=\"2400\" height=\"1600\"/>\n",
       "  </clipPath>\n",
       "</defs>\n",
       "<path clip-path=\"url(#clip150)\" d=\"M0 1600 L2400 1600 L2400 0 L0 0  Z\" fill=\"#ffffff\" fill-rule=\"evenodd\" fill-opacity=\"1\"/>\n",
       "<defs>\n",
       "  <clipPath id=\"clip151\">\n",
       "    <rect x=\"480\" y=\"0\" width=\"1681\" height=\"1600\"/>\n",
       "  </clipPath>\n",
       "</defs>\n",
       "<path clip-path=\"url(#clip150)\" d=\"M186.274 1486.45 L2352.76 1486.45 L2352.76 47.2441 L186.274 47.2441  Z\" fill=\"#ffffff\" fill-rule=\"evenodd\" fill-opacity=\"1\"/>\n",
       "<defs>\n",
       "  <clipPath id=\"clip152\">\n",
       "    <rect x=\"186\" y=\"47\" width=\"2167\" height=\"1440\"/>\n",
       "  </clipPath>\n",
       "</defs>\n",
       "<polyline clip-path=\"url(#clip152)\" style=\"stroke:#000000; stroke-linecap:round; stroke-linejoin:round; stroke-width:2; stroke-opacity:0.1; fill:none\" points=\"247.59,1486.45 247.59,47.2441 \"/>\n",
       "<polyline clip-path=\"url(#clip152)\" style=\"stroke:#000000; stroke-linecap:round; stroke-linejoin:round; stroke-width:2; stroke-opacity:0.1; fill:none\" points=\"758.552,1486.45 758.552,47.2441 \"/>\n",
       "<polyline clip-path=\"url(#clip152)\" style=\"stroke:#000000; stroke-linecap:round; stroke-linejoin:round; stroke-width:2; stroke-opacity:0.1; fill:none\" points=\"1269.51,1486.45 1269.51,47.2441 \"/>\n",
       "<polyline clip-path=\"url(#clip152)\" style=\"stroke:#000000; stroke-linecap:round; stroke-linejoin:round; stroke-width:2; stroke-opacity:0.1; fill:none\" points=\"1780.48,1486.45 1780.48,47.2441 \"/>\n",
       "<polyline clip-path=\"url(#clip152)\" style=\"stroke:#000000; stroke-linecap:round; stroke-linejoin:round; stroke-width:2; stroke-opacity:0.1; fill:none\" points=\"2291.44,1486.45 2291.44,47.2441 \"/>\n",
       "<polyline clip-path=\"url(#clip150)\" style=\"stroke:#000000; stroke-linecap:round; stroke-linejoin:round; stroke-width:4; stroke-opacity:1; fill:none\" points=\"186.274,1486.45 2352.76,1486.45 \"/>\n",
       "<polyline clip-path=\"url(#clip150)\" style=\"stroke:#000000; stroke-linecap:round; stroke-linejoin:round; stroke-width:4; stroke-opacity:1; fill:none\" points=\"247.59,1486.45 247.59,1467.55 \"/>\n",
       "<polyline clip-path=\"url(#clip150)\" style=\"stroke:#000000; stroke-linecap:round; stroke-linejoin:round; stroke-width:4; stroke-opacity:1; fill:none\" points=\"758.552,1486.45 758.552,1467.55 \"/>\n",
       "<polyline clip-path=\"url(#clip150)\" style=\"stroke:#000000; stroke-linecap:round; stroke-linejoin:round; stroke-width:4; stroke-opacity:1; fill:none\" points=\"1269.51,1486.45 1269.51,1467.55 \"/>\n",
       "<polyline clip-path=\"url(#clip150)\" style=\"stroke:#000000; stroke-linecap:round; stroke-linejoin:round; stroke-width:4; stroke-opacity:1; fill:none\" points=\"1780.48,1486.45 1780.48,1467.55 \"/>\n",
       "<polyline clip-path=\"url(#clip150)\" style=\"stroke:#000000; stroke-linecap:round; stroke-linejoin:round; stroke-width:4; stroke-opacity:1; fill:none\" points=\"2291.44,1486.45 2291.44,1467.55 \"/>\n",
       "<path clip-path=\"url(#clip150)\" d=\"M209.893 1517.37 Q206.282 1517.37 204.453 1520.93 Q202.648 1524.47 202.648 1531.6 Q202.648 1538.71 204.453 1542.27 Q206.282 1545.82 209.893 1545.82 Q213.527 1545.82 215.333 1542.27 Q217.161 1538.71 217.161 1531.6 Q217.161 1524.47 215.333 1520.93 Q213.527 1517.37 209.893 1517.37 M209.893 1513.66 Q215.703 1513.66 218.759 1518.27 Q221.837 1522.85 221.837 1531.6 Q221.837 1540.33 218.759 1544.94 Q215.703 1549.52 209.893 1549.52 Q204.083 1549.52 201.004 1544.94 Q197.949 1540.33 197.949 1531.6 Q197.949 1522.85 201.004 1518.27 Q204.083 1513.66 209.893 1513.66 Z\" fill=\"#000000\" fill-rule=\"nonzero\" fill-opacity=\"1\" /><path clip-path=\"url(#clip150)\" d=\"M230.055 1542.97 L234.939 1542.97 L234.939 1548.85 L230.055 1548.85 L230.055 1542.97 Z\" fill=\"#000000\" fill-rule=\"nonzero\" fill-opacity=\"1\" /><path clip-path=\"url(#clip150)\" d=\"M255.124 1517.37 Q251.513 1517.37 249.684 1520.93 Q247.879 1524.47 247.879 1531.6 Q247.879 1538.71 249.684 1542.27 Q251.513 1545.82 255.124 1545.82 Q258.758 1545.82 260.564 1542.27 Q262.393 1538.71 262.393 1531.6 Q262.393 1524.47 260.564 1520.93 Q258.758 1517.37 255.124 1517.37 M255.124 1513.66 Q260.934 1513.66 263.99 1518.27 Q267.069 1522.85 267.069 1531.6 Q267.069 1540.33 263.99 1544.94 Q260.934 1549.52 255.124 1549.52 Q249.314 1549.52 246.235 1544.94 Q243.18 1540.33 243.18 1531.6 Q243.18 1522.85 246.235 1518.27 Q249.314 1513.66 255.124 1513.66 Z\" fill=\"#000000\" fill-rule=\"nonzero\" fill-opacity=\"1\" /><path clip-path=\"url(#clip150)\" d=\"M285.286 1517.37 Q281.675 1517.37 279.846 1520.93 Q278.041 1524.47 278.041 1531.6 Q278.041 1538.71 279.846 1542.27 Q281.675 1545.82 285.286 1545.82 Q288.92 1545.82 290.726 1542.27 Q292.555 1538.71 292.555 1531.6 Q292.555 1524.47 290.726 1520.93 Q288.92 1517.37 285.286 1517.37 M285.286 1513.66 Q291.096 1513.66 294.152 1518.27 Q297.23 1522.85 297.23 1531.6 Q297.23 1540.33 294.152 1544.94 Q291.096 1549.52 285.286 1549.52 Q279.476 1549.52 276.397 1544.94 Q273.342 1540.33 273.342 1531.6 Q273.342 1522.85 276.397 1518.27 Q279.476 1513.66 285.286 1513.66 Z\" fill=\"#000000\" fill-rule=\"nonzero\" fill-opacity=\"1\" /><path clip-path=\"url(#clip150)\" d=\"M721.353 1517.37 Q717.742 1517.37 715.914 1520.93 Q714.108 1524.47 714.108 1531.6 Q714.108 1538.71 715.914 1542.27 Q717.742 1545.82 721.353 1545.82 Q724.988 1545.82 726.793 1542.27 Q728.622 1538.71 728.622 1531.6 Q728.622 1524.47 726.793 1520.93 Q724.988 1517.37 721.353 1517.37 M721.353 1513.66 Q727.164 1513.66 730.219 1518.27 Q733.298 1522.85 733.298 1531.6 Q733.298 1540.33 730.219 1544.94 Q727.164 1549.52 721.353 1549.52 Q715.543 1549.52 712.465 1544.94 Q709.409 1540.33 709.409 1531.6 Q709.409 1522.85 712.465 1518.27 Q715.543 1513.66 721.353 1513.66 Z\" fill=\"#000000\" fill-rule=\"nonzero\" fill-opacity=\"1\" /><path clip-path=\"url(#clip150)\" d=\"M741.515 1542.97 L746.4 1542.97 L746.4 1548.85 L741.515 1548.85 L741.515 1542.97 Z\" fill=\"#000000\" fill-rule=\"nonzero\" fill-opacity=\"1\" /><path clip-path=\"url(#clip150)\" d=\"M760.612 1544.91 L776.932 1544.91 L776.932 1548.85 L754.987 1548.85 L754.987 1544.91 Q757.649 1542.16 762.233 1537.53 Q766.839 1532.88 768.02 1531.53 Q770.265 1529.01 771.145 1527.27 Q772.048 1525.51 772.048 1523.82 Q772.048 1521.07 770.103 1519.33 Q768.182 1517.6 765.08 1517.6 Q762.881 1517.6 760.427 1518.36 Q757.997 1519.13 755.219 1520.68 L755.219 1515.95 Q758.043 1514.82 760.497 1514.24 Q762.95 1513.66 764.987 1513.66 Q770.358 1513.66 773.552 1516.35 Q776.747 1519.03 776.747 1523.52 Q776.747 1525.65 775.936 1527.57 Q775.149 1529.47 773.043 1532.07 Q772.464 1532.74 769.362 1535.95 Q766.261 1539.15 760.612 1544.91 Z\" fill=\"#000000\" fill-rule=\"nonzero\" fill-opacity=\"1\" /><path clip-path=\"url(#clip150)\" d=\"M786.793 1514.29 L805.149 1514.29 L805.149 1518.22 L791.075 1518.22 L791.075 1526.7 Q792.094 1526.35 793.112 1526.19 Q794.131 1526 795.149 1526 Q800.936 1526 804.316 1529.17 Q807.695 1532.34 807.695 1537.76 Q807.695 1543.34 804.223 1546.44 Q800.751 1549.52 794.432 1549.52 Q792.256 1549.52 789.987 1549.15 Q787.742 1548.78 785.335 1548.04 L785.335 1543.34 Q787.418 1544.47 789.64 1545.03 Q791.862 1545.58 794.339 1545.58 Q798.344 1545.58 800.682 1543.48 Q803.02 1541.37 803.02 1537.76 Q803.02 1534.15 800.682 1532.04 Q798.344 1529.94 794.339 1529.94 Q792.464 1529.94 790.589 1530.35 Q788.737 1530.77 786.793 1531.65 L786.793 1514.29 Z\" fill=\"#000000\" fill-rule=\"nonzero\" fill-opacity=\"1\" /><path clip-path=\"url(#clip150)\" d=\"M1231.82 1517.37 Q1228.21 1517.37 1226.38 1520.93 Q1224.57 1524.47 1224.57 1531.6 Q1224.57 1538.71 1226.38 1542.27 Q1228.21 1545.82 1231.82 1545.82 Q1235.45 1545.82 1237.26 1542.27 Q1239.09 1538.71 1239.09 1531.6 Q1239.09 1524.47 1237.26 1520.93 Q1235.45 1517.37 1231.82 1517.37 M1231.82 1513.66 Q1237.63 1513.66 1240.68 1518.27 Q1243.76 1522.85 1243.76 1531.6 Q1243.76 1540.33 1240.68 1544.94 Q1237.63 1549.52 1231.82 1549.52 Q1226.01 1549.52 1222.93 1544.94 Q1219.87 1540.33 1219.87 1531.6 Q1219.87 1522.85 1222.93 1518.27 Q1226.01 1513.66 1231.82 1513.66 Z\" fill=\"#000000\" fill-rule=\"nonzero\" fill-opacity=\"1\" /><path clip-path=\"url(#clip150)\" d=\"M1251.98 1542.97 L1256.86 1542.97 L1256.86 1548.85 L1251.98 1548.85 L1251.98 1542.97 Z\" fill=\"#000000\" fill-rule=\"nonzero\" fill-opacity=\"1\" /><path clip-path=\"url(#clip150)\" d=\"M1267.1 1514.29 L1285.45 1514.29 L1285.45 1518.22 L1271.38 1518.22 L1271.38 1526.7 Q1272.4 1526.35 1273.42 1526.19 Q1274.43 1526 1275.45 1526 Q1281.24 1526 1284.62 1529.17 Q1288 1532.34 1288 1537.76 Q1288 1543.34 1284.53 1546.44 Q1281.05 1549.52 1274.73 1549.52 Q1272.56 1549.52 1270.29 1549.15 Q1268.05 1548.78 1265.64 1548.04 L1265.64 1543.34 Q1267.72 1544.47 1269.94 1545.03 Q1272.17 1545.58 1274.64 1545.58 Q1278.65 1545.58 1280.98 1543.48 Q1283.32 1541.37 1283.32 1537.76 Q1283.32 1534.15 1280.98 1532.04 Q1278.65 1529.94 1274.64 1529.94 Q1272.77 1529.94 1270.89 1530.35 Q1269.04 1530.77 1267.1 1531.65 L1267.1 1514.29 Z\" fill=\"#000000\" fill-rule=\"nonzero\" fill-opacity=\"1\" /><path clip-path=\"url(#clip150)\" d=\"M1307.21 1517.37 Q1303.6 1517.37 1301.77 1520.93 Q1299.97 1524.47 1299.97 1531.6 Q1299.97 1538.71 1301.77 1542.27 Q1303.6 1545.82 1307.21 1545.82 Q1310.85 1545.82 1312.65 1542.27 Q1314.48 1538.71 1314.48 1531.6 Q1314.48 1524.47 1312.65 1520.93 Q1310.85 1517.37 1307.21 1517.37 M1307.21 1513.66 Q1313.02 1513.66 1316.08 1518.27 Q1319.16 1522.85 1319.16 1531.6 Q1319.16 1540.33 1316.08 1544.94 Q1313.02 1549.52 1307.21 1549.52 Q1301.4 1549.52 1298.32 1544.94 Q1295.27 1540.33 1295.27 1531.6 Q1295.27 1522.85 1298.32 1518.27 Q1301.4 1513.66 1307.21 1513.66 Z\" fill=\"#000000\" fill-rule=\"nonzero\" fill-opacity=\"1\" /><path clip-path=\"url(#clip150)\" d=\"M1743.28 1517.37 Q1739.67 1517.37 1737.84 1520.93 Q1736.03 1524.47 1736.03 1531.6 Q1736.03 1538.71 1737.84 1542.27 Q1739.67 1545.82 1743.28 1545.82 Q1746.91 1545.82 1748.72 1542.27 Q1750.55 1538.71 1750.55 1531.6 Q1750.55 1524.47 1748.72 1520.93 Q1746.91 1517.37 1743.28 1517.37 M1743.28 1513.66 Q1749.09 1513.66 1752.14 1518.27 Q1755.22 1522.85 1755.22 1531.6 Q1755.22 1540.33 1752.14 1544.94 Q1749.09 1549.52 1743.28 1549.52 Q1737.47 1549.52 1734.39 1544.94 Q1731.33 1540.33 1731.33 1531.6 Q1731.33 1522.85 1734.39 1518.27 Q1737.47 1513.66 1743.28 1513.66 Z\" fill=\"#000000\" fill-rule=\"nonzero\" fill-opacity=\"1\" /><path clip-path=\"url(#clip150)\" d=\"M1763.44 1542.97 L1768.32 1542.97 L1768.32 1548.85 L1763.44 1548.85 L1763.44 1542.97 Z\" fill=\"#000000\" fill-rule=\"nonzero\" fill-opacity=\"1\" /><path clip-path=\"url(#clip150)\" d=\"M1777.33 1514.29 L1799.55 1514.29 L1799.55 1516.28 L1787.01 1548.85 L1782.12 1548.85 L1793.93 1518.22 L1777.33 1518.22 L1777.33 1514.29 Z\" fill=\"#000000\" fill-rule=\"nonzero\" fill-opacity=\"1\" /><path clip-path=\"url(#clip150)\" d=\"M1808.72 1514.29 L1827.07 1514.29 L1827.07 1518.22 L1813 1518.22 L1813 1526.7 Q1814.02 1526.35 1815.04 1526.19 Q1816.06 1526 1817.07 1526 Q1822.86 1526 1826.24 1529.17 Q1829.62 1532.34 1829.62 1537.76 Q1829.62 1543.34 1826.15 1546.44 Q1822.68 1549.52 1816.36 1549.52 Q1814.18 1549.52 1811.91 1549.15 Q1809.67 1548.78 1807.26 1548.04 L1807.26 1543.34 Q1809.34 1544.47 1811.57 1545.03 Q1813.79 1545.58 1816.26 1545.58 Q1820.27 1545.58 1822.61 1543.48 Q1824.95 1541.37 1824.95 1537.76 Q1824.95 1534.15 1822.61 1532.04 Q1820.27 1529.94 1816.26 1529.94 Q1814.39 1529.94 1812.51 1530.35 Q1810.66 1530.77 1808.72 1531.65 L1808.72 1514.29 Z\" fill=\"#000000\" fill-rule=\"nonzero\" fill-opacity=\"1\" /><path clip-path=\"url(#clip150)\" d=\"M2243.51 1544.91 L2251.15 1544.91 L2251.15 1518.55 L2242.84 1520.21 L2242.84 1515.95 L2251.1 1514.29 L2255.78 1514.29 L2255.78 1544.91 L2263.42 1544.91 L2263.42 1548.85 L2243.51 1548.85 L2243.51 1544.91 Z\" fill=\"#000000\" fill-rule=\"nonzero\" fill-opacity=\"1\" /><path clip-path=\"url(#clip150)\" d=\"M2272.86 1542.97 L2277.75 1542.97 L2277.75 1548.85 L2272.86 1548.85 L2272.86 1542.97 Z\" fill=\"#000000\" fill-rule=\"nonzero\" fill-opacity=\"1\" /><path clip-path=\"url(#clip150)\" d=\"M2297.93 1517.37 Q2294.32 1517.37 2292.49 1520.93 Q2290.69 1524.47 2290.69 1531.6 Q2290.69 1538.71 2292.49 1542.27 Q2294.32 1545.82 2297.93 1545.82 Q2301.57 1545.82 2303.37 1542.27 Q2305.2 1538.71 2305.2 1531.6 Q2305.2 1524.47 2303.37 1520.93 Q2301.57 1517.37 2297.93 1517.37 M2297.93 1513.66 Q2303.74 1513.66 2306.8 1518.27 Q2309.88 1522.85 2309.88 1531.6 Q2309.88 1540.33 2306.8 1544.94 Q2303.74 1549.52 2297.93 1549.52 Q2292.12 1549.52 2289.04 1544.94 Q2285.99 1540.33 2285.99 1531.6 Q2285.99 1522.85 2289.04 1518.27 Q2292.12 1513.66 2297.93 1513.66 Z\" fill=\"#000000\" fill-rule=\"nonzero\" fill-opacity=\"1\" /><path clip-path=\"url(#clip150)\" d=\"M2328.1 1517.37 Q2324.48 1517.37 2322.66 1520.93 Q2320.85 1524.47 2320.85 1531.6 Q2320.85 1538.71 2322.66 1542.27 Q2324.48 1545.82 2328.1 1545.82 Q2331.73 1545.82 2333.54 1542.27 Q2335.36 1538.71 2335.36 1531.6 Q2335.36 1524.47 2333.54 1520.93 Q2331.73 1517.37 2328.1 1517.37 M2328.1 1513.66 Q2333.91 1513.66 2336.96 1518.27 Q2340.04 1522.85 2340.04 1531.6 Q2340.04 1540.33 2336.96 1544.94 Q2333.91 1549.52 2328.1 1549.52 Q2322.29 1549.52 2319.21 1544.94 Q2316.15 1540.33 2316.15 1531.6 Q2316.15 1522.85 2319.21 1518.27 Q2322.29 1513.66 2328.1 1513.66 Z\" fill=\"#000000\" fill-rule=\"nonzero\" fill-opacity=\"1\" /><polyline clip-path=\"url(#clip152)\" style=\"stroke:#000000; stroke-linecap:round; stroke-linejoin:round; stroke-width:2; stroke-opacity:0.1; fill:none\" points=\"186.274,1445.72 2352.76,1445.72 \"/>\n",
       "<polyline clip-path=\"url(#clip152)\" style=\"stroke:#000000; stroke-linecap:round; stroke-linejoin:round; stroke-width:2; stroke-opacity:0.1; fill:none\" points=\"186.274,1106.28 2352.76,1106.28 \"/>\n",
       "<polyline clip-path=\"url(#clip152)\" style=\"stroke:#000000; stroke-linecap:round; stroke-linejoin:round; stroke-width:2; stroke-opacity:0.1; fill:none\" points=\"186.274,766.846 2352.76,766.846 \"/>\n",
       "<polyline clip-path=\"url(#clip152)\" style=\"stroke:#000000; stroke-linecap:round; stroke-linejoin:round; stroke-width:2; stroke-opacity:0.1; fill:none\" points=\"186.274,427.411 2352.76,427.411 \"/>\n",
       "<polyline clip-path=\"url(#clip152)\" style=\"stroke:#000000; stroke-linecap:round; stroke-linejoin:round; stroke-width:2; stroke-opacity:0.1; fill:none\" points=\"186.274,87.9763 2352.76,87.9763 \"/>\n",
       "<polyline clip-path=\"url(#clip150)\" style=\"stroke:#000000; stroke-linecap:round; stroke-linejoin:round; stroke-width:4; stroke-opacity:1; fill:none\" points=\"186.274,1486.45 186.274,47.2441 \"/>\n",
       "<polyline clip-path=\"url(#clip150)\" style=\"stroke:#000000; stroke-linecap:round; stroke-linejoin:round; stroke-width:4; stroke-opacity:1; fill:none\" points=\"186.274,1445.72 205.172,1445.72 \"/>\n",
       "<polyline clip-path=\"url(#clip150)\" style=\"stroke:#000000; stroke-linecap:round; stroke-linejoin:round; stroke-width:4; stroke-opacity:1; fill:none\" points=\"186.274,1106.28 205.172,1106.28 \"/>\n",
       "<polyline clip-path=\"url(#clip150)\" style=\"stroke:#000000; stroke-linecap:round; stroke-linejoin:round; stroke-width:4; stroke-opacity:1; fill:none\" points=\"186.274,766.846 205.172,766.846 \"/>\n",
       "<polyline clip-path=\"url(#clip150)\" style=\"stroke:#000000; stroke-linecap:round; stroke-linejoin:round; stroke-width:4; stroke-opacity:1; fill:none\" points=\"186.274,427.411 205.172,427.411 \"/>\n",
       "<polyline clip-path=\"url(#clip150)\" style=\"stroke:#000000; stroke-linecap:round; stroke-linejoin:round; stroke-width:4; stroke-opacity:1; fill:none\" points=\"186.274,87.9763 205.172,87.9763 \"/>\n",
       "<path clip-path=\"url(#clip150)\" d=\"M62.9365 1431.51 Q59.3254 1431.51 57.4967 1435.08 Q55.6912 1438.62 55.6912 1445.75 Q55.6912 1452.86 57.4967 1456.42 Q59.3254 1459.96 62.9365 1459.96 Q66.5707 1459.96 68.3763 1456.42 Q70.205 1452.86 70.205 1445.75 Q70.205 1438.62 68.3763 1435.08 Q66.5707 1431.51 62.9365 1431.51 M62.9365 1427.81 Q68.7467 1427.81 71.8022 1432.42 Q74.8809 1437 74.8809 1445.75 Q74.8809 1454.48 71.8022 1459.08 Q68.7467 1463.67 62.9365 1463.67 Q57.1264 1463.67 54.0477 1459.08 Q50.9921 1454.48 50.9921 1445.75 Q50.9921 1437 54.0477 1432.42 Q57.1264 1427.81 62.9365 1427.81 Z\" fill=\"#000000\" fill-rule=\"nonzero\" fill-opacity=\"1\" /><path clip-path=\"url(#clip150)\" d=\"M83.0984 1457.12 L87.9827 1457.12 L87.9827 1463 L83.0984 1463 L83.0984 1457.12 Z\" fill=\"#000000\" fill-rule=\"nonzero\" fill-opacity=\"1\" /><path clip-path=\"url(#clip150)\" d=\"M108.168 1431.51 Q104.557 1431.51 102.728 1435.08 Q100.922 1438.62 100.922 1445.75 Q100.922 1452.86 102.728 1456.42 Q104.557 1459.96 108.168 1459.96 Q111.802 1459.96 113.608 1456.42 Q115.436 1452.86 115.436 1445.75 Q115.436 1438.62 113.608 1435.08 Q111.802 1431.51 108.168 1431.51 M108.168 1427.81 Q113.978 1427.81 117.033 1432.42 Q120.112 1437 120.112 1445.75 Q120.112 1454.48 117.033 1459.08 Q113.978 1463.67 108.168 1463.67 Q102.358 1463.67 99.2789 1459.08 Q96.2234 1454.48 96.2234 1445.75 Q96.2234 1437 99.2789 1432.42 Q102.358 1427.81 108.168 1427.81 Z\" fill=\"#000000\" fill-rule=\"nonzero\" fill-opacity=\"1\" /><path clip-path=\"url(#clip150)\" d=\"M138.33 1431.51 Q134.719 1431.51 132.89 1435.08 Q131.084 1438.62 131.084 1445.75 Q131.084 1452.86 132.89 1456.42 Q134.719 1459.96 138.33 1459.96 Q141.964 1459.96 143.769 1456.42 Q145.598 1452.86 145.598 1445.75 Q145.598 1438.62 143.769 1435.08 Q141.964 1431.51 138.33 1431.51 M138.33 1427.81 Q144.14 1427.81 147.195 1432.42 Q150.274 1437 150.274 1445.75 Q150.274 1454.48 147.195 1459.08 Q144.14 1463.67 138.33 1463.67 Q132.519 1463.67 129.441 1459.08 Q126.385 1454.48 126.385 1445.75 Q126.385 1437 129.441 1432.42 Q132.519 1427.81 138.33 1427.81 Z\" fill=\"#000000\" fill-rule=\"nonzero\" fill-opacity=\"1\" /><path clip-path=\"url(#clip150)\" d=\"M63.9319 1092.08 Q60.3208 1092.08 58.4921 1095.64 Q56.6865 1099.19 56.6865 1106.32 Q56.6865 1113.42 58.4921 1116.99 Q60.3208 1120.53 63.9319 1120.53 Q67.5661 1120.53 69.3717 1116.99 Q71.2004 1113.42 71.2004 1106.32 Q71.2004 1099.19 69.3717 1095.64 Q67.5661 1092.08 63.9319 1092.08 M63.9319 1088.38 Q69.742 1088.38 72.7976 1092.98 Q75.8763 1097.57 75.8763 1106.32 Q75.8763 1115.04 72.7976 1119.65 Q69.742 1124.23 63.9319 1124.23 Q58.1217 1124.23 55.043 1119.65 Q51.9875 1115.04 51.9875 1106.32 Q51.9875 1097.57 55.043 1092.98 Q58.1217 1088.38 63.9319 1088.38 Z\" fill=\"#000000\" fill-rule=\"nonzero\" fill-opacity=\"1\" /><path clip-path=\"url(#clip150)\" d=\"M84.0938 1117.68 L88.978 1117.68 L88.978 1123.56 L84.0938 1123.56 L84.0938 1117.68 Z\" fill=\"#000000\" fill-rule=\"nonzero\" fill-opacity=\"1\" /><path clip-path=\"url(#clip150)\" d=\"M103.191 1119.63 L119.51 1119.63 L119.51 1123.56 L97.566 1123.56 L97.566 1119.63 Q100.228 1116.87 104.811 1112.24 Q109.418 1107.59 110.598 1106.25 Q112.844 1103.72 113.723 1101.99 Q114.626 1100.23 114.626 1098.54 Q114.626 1095.78 112.682 1094.05 Q110.76 1092.31 107.658 1092.31 Q105.459 1092.31 103.006 1093.07 Q100.575 1093.84 97.7974 1095.39 L97.7974 1090.67 Q100.621 1089.53 103.075 1088.95 Q105.529 1088.38 107.566 1088.38 Q112.936 1088.38 116.131 1091.06 Q119.325 1093.75 119.325 1098.24 Q119.325 1100.37 118.515 1102.29 Q117.728 1104.19 115.621 1106.78 Q115.043 1107.45 111.941 1110.67 Q108.839 1113.86 103.191 1119.63 Z\" fill=\"#000000\" fill-rule=\"nonzero\" fill-opacity=\"1\" /><path clip-path=\"url(#clip150)\" d=\"M129.371 1089 L147.728 1089 L147.728 1092.94 L133.654 1092.94 L133.654 1101.41 Q134.672 1101.06 135.691 1100.9 Q136.709 1100.71 137.728 1100.71 Q143.515 1100.71 146.894 1103.89 Q150.274 1107.06 150.274 1112.47 Q150.274 1118.05 146.802 1121.15 Q143.33 1124.23 137.01 1124.23 Q134.834 1124.23 132.566 1123.86 Q130.32 1123.49 127.913 1122.75 L127.913 1118.05 Q129.996 1119.19 132.219 1119.74 Q134.441 1120.3 136.918 1120.3 Q140.922 1120.3 143.26 1118.19 Q145.598 1116.08 145.598 1112.47 Q145.598 1108.86 143.26 1106.76 Q140.922 1104.65 136.918 1104.65 Q135.043 1104.65 133.168 1105.07 Q131.316 1105.48 129.371 1106.36 L129.371 1089 Z\" fill=\"#000000\" fill-rule=\"nonzero\" fill-opacity=\"1\" /><path clip-path=\"url(#clip150)\" d=\"M62.9365 752.645 Q59.3254 752.645 57.4967 756.209 Q55.6912 759.751 55.6912 766.881 Q55.6912 773.987 57.4967 777.552 Q59.3254 781.094 62.9365 781.094 Q66.5707 781.094 68.3763 777.552 Q70.205 773.987 70.205 766.881 Q70.205 759.751 68.3763 756.209 Q66.5707 752.645 62.9365 752.645 M62.9365 748.941 Q68.7467 748.941 71.8022 753.547 Q74.8809 758.131 74.8809 766.881 Q74.8809 775.608 71.8022 780.214 Q68.7467 784.797 62.9365 784.797 Q57.1264 784.797 54.0477 780.214 Q50.9921 775.608 50.9921 766.881 Q50.9921 758.131 54.0477 753.547 Q57.1264 748.941 62.9365 748.941 Z\" fill=\"#000000\" fill-rule=\"nonzero\" fill-opacity=\"1\" /><path clip-path=\"url(#clip150)\" d=\"M83.0984 778.246 L87.9827 778.246 L87.9827 784.126 L83.0984 784.126 L83.0984 778.246 Z\" fill=\"#000000\" fill-rule=\"nonzero\" fill-opacity=\"1\" /><path clip-path=\"url(#clip150)\" d=\"M98.2141 749.566 L116.57 749.566 L116.57 753.501 L102.496 753.501 L102.496 761.973 Q103.515 761.626 104.534 761.464 Q105.552 761.279 106.571 761.279 Q112.358 761.279 115.737 764.45 Q119.117 767.621 119.117 773.038 Q119.117 778.617 115.645 781.719 Q112.172 784.797 105.853 784.797 Q103.677 784.797 101.409 784.427 Q99.1632 784.057 96.7558 783.316 L96.7558 778.617 Q98.8391 779.751 101.061 780.307 Q103.284 780.862 105.76 780.862 Q109.765 780.862 112.103 778.756 Q114.441 776.649 114.441 773.038 Q114.441 769.427 112.103 767.321 Q109.765 765.214 105.76 765.214 Q103.885 765.214 102.01 765.631 Q100.159 766.047 98.2141 766.927 L98.2141 749.566 Z\" fill=\"#000000\" fill-rule=\"nonzero\" fill-opacity=\"1\" /><path clip-path=\"url(#clip150)\" d=\"M138.33 752.645 Q134.719 752.645 132.89 756.209 Q131.084 759.751 131.084 766.881 Q131.084 773.987 132.89 777.552 Q134.719 781.094 138.33 781.094 Q141.964 781.094 143.769 777.552 Q145.598 773.987 145.598 766.881 Q145.598 759.751 143.769 756.209 Q141.964 752.645 138.33 752.645 M138.33 748.941 Q144.14 748.941 147.195 753.547 Q150.274 758.131 150.274 766.881 Q150.274 775.608 147.195 780.214 Q144.14 784.797 138.33 784.797 Q132.519 784.797 129.441 780.214 Q126.385 775.608 126.385 766.881 Q126.385 758.131 129.441 753.547 Q132.519 748.941 138.33 748.941 Z\" fill=\"#000000\" fill-rule=\"nonzero\" fill-opacity=\"1\" /><path clip-path=\"url(#clip150)\" d=\"M63.9319 413.21 Q60.3208 413.21 58.4921 416.775 Q56.6865 420.316 56.6865 427.446 Q56.6865 434.552 58.4921 438.117 Q60.3208 441.659 63.9319 441.659 Q67.5661 441.659 69.3717 438.117 Q71.2004 434.552 71.2004 427.446 Q71.2004 420.316 69.3717 416.775 Q67.5661 413.21 63.9319 413.21 M63.9319 409.506 Q69.742 409.506 72.7976 414.113 Q75.8763 418.696 75.8763 427.446 Q75.8763 436.173 72.7976 440.779 Q69.742 445.362 63.9319 445.362 Q58.1217 445.362 55.043 440.779 Q51.9875 436.173 51.9875 427.446 Q51.9875 418.696 55.043 414.113 Q58.1217 409.506 63.9319 409.506 Z\" fill=\"#000000\" fill-rule=\"nonzero\" fill-opacity=\"1\" /><path clip-path=\"url(#clip150)\" d=\"M84.0938 438.812 L88.978 438.812 L88.978 444.691 L84.0938 444.691 L84.0938 438.812 Z\" fill=\"#000000\" fill-rule=\"nonzero\" fill-opacity=\"1\" /><path clip-path=\"url(#clip150)\" d=\"M97.9826 410.131 L120.205 410.131 L120.205 412.122 L107.658 444.691 L102.774 444.691 L114.58 414.066 L97.9826 414.066 L97.9826 410.131 Z\" fill=\"#000000\" fill-rule=\"nonzero\" fill-opacity=\"1\" /><path clip-path=\"url(#clip150)\" d=\"M129.371 410.131 L147.728 410.131 L147.728 414.066 L133.654 414.066 L133.654 422.538 Q134.672 422.191 135.691 422.029 Q136.709 421.844 137.728 421.844 Q143.515 421.844 146.894 425.015 Q150.274 428.187 150.274 433.603 Q150.274 439.182 146.802 442.284 Q143.33 445.362 137.01 445.362 Q134.834 445.362 132.566 444.992 Q130.32 444.622 127.913 443.881 L127.913 439.182 Q129.996 440.316 132.219 440.872 Q134.441 441.427 136.918 441.427 Q140.922 441.427 143.26 439.321 Q145.598 437.214 145.598 433.603 Q145.598 429.992 143.26 427.886 Q140.922 425.779 136.918 425.779 Q135.043 425.779 133.168 426.196 Q131.316 426.613 129.371 427.492 L129.371 410.131 Z\" fill=\"#000000\" fill-rule=\"nonzero\" fill-opacity=\"1\" /><path clip-path=\"url(#clip150)\" d=\"M53.7467 101.321 L61.3856 101.321 L61.3856 74.9555 L53.0754 76.6222 L53.0754 72.3629 L61.3393 70.6963 L66.0152 70.6963 L66.0152 101.321 L73.654 101.321 L73.654 105.256 L53.7467 105.256 L53.7467 101.321 Z\" fill=\"#000000\" fill-rule=\"nonzero\" fill-opacity=\"1\" /><path clip-path=\"url(#clip150)\" d=\"M83.0984 99.3767 L87.9827 99.3767 L87.9827 105.256 L83.0984 105.256 L83.0984 99.3767 Z\" fill=\"#000000\" fill-rule=\"nonzero\" fill-opacity=\"1\" /><path clip-path=\"url(#clip150)\" d=\"M108.168 73.775 Q104.557 73.775 102.728 77.3398 Q100.922 80.8814 100.922 88.011 Q100.922 95.1174 102.728 98.6822 Q104.557 102.224 108.168 102.224 Q111.802 102.224 113.608 98.6822 Q115.436 95.1174 115.436 88.011 Q115.436 80.8814 113.608 77.3398 Q111.802 73.775 108.168 73.775 M108.168 70.0713 Q113.978 70.0713 117.033 74.6777 Q120.112 79.261 120.112 88.011 Q120.112 96.7378 117.033 101.344 Q113.978 105.928 108.168 105.928 Q102.358 105.928 99.2789 101.344 Q96.2234 96.7378 96.2234 88.011 Q96.2234 79.261 99.2789 74.6777 Q102.358 70.0713 108.168 70.0713 Z\" fill=\"#000000\" fill-rule=\"nonzero\" fill-opacity=\"1\" /><path clip-path=\"url(#clip150)\" d=\"M138.33 73.775 Q134.719 73.775 132.89 77.3398 Q131.084 80.8814 131.084 88.011 Q131.084 95.1174 132.89 98.6822 Q134.719 102.224 138.33 102.224 Q141.964 102.224 143.769 98.6822 Q145.598 95.1174 145.598 88.011 Q145.598 80.8814 143.769 77.3398 Q141.964 73.775 138.33 73.775 M138.33 70.0713 Q144.14 70.0713 147.195 74.6777 Q150.274 79.261 150.274 88.011 Q150.274 96.7378 147.195 101.344 Q144.14 105.928 138.33 105.928 Q132.519 105.928 129.441 101.344 Q126.385 96.7378 126.385 88.011 Q126.385 79.261 129.441 74.6777 Q132.519 70.0713 138.33 70.0713 Z\" fill=\"#000000\" fill-rule=\"nonzero\" fill-opacity=\"1\" /><polyline clip-path=\"url(#clip152)\" style=\"stroke:#009af9; stroke-linecap:round; stroke-linejoin:round; stroke-width:4; stroke-opacity:1; fill:none\" points=\"247.59,87.9763 451.975,476.829 656.36,724.75 860.745,915.98 1065.13,1068.17 1269.51,1189.48 1473.9,1284.54 1678.29,1356.2 1882.67,1406.27 2087.06,1435.91 2291.44,1445.72 \"/>\n",
       "<path clip-path=\"url(#clip150)\" d=\"M2011.46 198.898 L2280.54 198.898 L2280.54 95.2176 L2011.46 95.2176  Z\" fill=\"#ffffff\" fill-rule=\"evenodd\" fill-opacity=\"1\"/>\n",
       "<polyline clip-path=\"url(#clip150)\" style=\"stroke:#000000; stroke-linecap:round; stroke-linejoin:round; stroke-width:4; stroke-opacity:1; fill:none\" points=\"2011.46,198.898 2280.54,198.898 2280.54,95.2176 2011.46,95.2176 2011.46,198.898 \"/>\n",
       "<polyline clip-path=\"url(#clip150)\" style=\"stroke:#009af9; stroke-linecap:round; stroke-linejoin:round; stroke-width:4; stroke-opacity:1; fill:none\" points=\"2035.53,147.058 2179.97,147.058 \"/>\n",
       "<path clip-path=\"url(#clip150)\" d=\"M2217.88 166.745 Q2216.07 171.375 2214.36 172.787 Q2212.65 174.199 2209.78 174.199 L2206.38 174.199 L2206.38 170.634 L2208.88 170.634 Q2210.63 170.634 2211.61 169.8 Q2212.58 168.967 2213.76 165.865 L2214.52 163.921 L2204.04 138.412 L2208.55 138.412 L2216.65 158.689 L2224.76 138.412 L2229.27 138.412 L2217.88 166.745 Z\" fill=\"#000000\" fill-rule=\"nonzero\" fill-opacity=\"1\" /><path clip-path=\"url(#clip150)\" d=\"M2236.56 160.402 L2244.2 160.402 L2244.2 134.037 L2235.89 135.703 L2235.89 131.444 L2244.15 129.778 L2248.83 129.778 L2248.83 160.402 L2256.47 160.402 L2256.47 164.338 L2236.56 164.338 L2236.56 160.402 Z\" fill=\"#000000\" fill-rule=\"nonzero\" fill-opacity=\"1\" /></svg>\n"
      ],
      "text/html": [
       "<?xml version=\"1.0\" encoding=\"utf-8\"?>\n",
       "<svg xmlns=\"http://www.w3.org/2000/svg\" xmlns:xlink=\"http://www.w3.org/1999/xlink\" width=\"600\" height=\"400\" viewBox=\"0 0 2400 1600\">\n",
       "<defs>\n",
       "  <clipPath id=\"clip200\">\n",
       "    <rect x=\"0\" y=\"0\" width=\"2400\" height=\"1600\"/>\n",
       "  </clipPath>\n",
       "</defs>\n",
       "<path clip-path=\"url(#clip200)\" d=\"M0 1600 L2400 1600 L2400 0 L0 0  Z\" fill=\"#ffffff\" fill-rule=\"evenodd\" fill-opacity=\"1\"/>\n",
       "<defs>\n",
       "  <clipPath id=\"clip201\">\n",
       "    <rect x=\"480\" y=\"0\" width=\"1681\" height=\"1600\"/>\n",
       "  </clipPath>\n",
       "</defs>\n",
       "<path clip-path=\"url(#clip200)\" d=\"M186.274 1486.45 L2352.76 1486.45 L2352.76 47.2441 L186.274 47.2441  Z\" fill=\"#ffffff\" fill-rule=\"evenodd\" fill-opacity=\"1\"/>\n",
       "<defs>\n",
       "  <clipPath id=\"clip202\">\n",
       "    <rect x=\"186\" y=\"47\" width=\"2167\" height=\"1440\"/>\n",
       "  </clipPath>\n",
       "</defs>\n",
       "<polyline clip-path=\"url(#clip202)\" style=\"stroke:#000000; stroke-linecap:round; stroke-linejoin:round; stroke-width:2; stroke-opacity:0.1; fill:none\" points=\"247.59,1486.45 247.59,47.2441 \"/>\n",
       "<polyline clip-path=\"url(#clip202)\" style=\"stroke:#000000; stroke-linecap:round; stroke-linejoin:round; stroke-width:2; stroke-opacity:0.1; fill:none\" points=\"758.552,1486.45 758.552,47.2441 \"/>\n",
       "<polyline clip-path=\"url(#clip202)\" style=\"stroke:#000000; stroke-linecap:round; stroke-linejoin:round; stroke-width:2; stroke-opacity:0.1; fill:none\" points=\"1269.51,1486.45 1269.51,47.2441 \"/>\n",
       "<polyline clip-path=\"url(#clip202)\" style=\"stroke:#000000; stroke-linecap:round; stroke-linejoin:round; stroke-width:2; stroke-opacity:0.1; fill:none\" points=\"1780.48,1486.45 1780.48,47.2441 \"/>\n",
       "<polyline clip-path=\"url(#clip202)\" style=\"stroke:#000000; stroke-linecap:round; stroke-linejoin:round; stroke-width:2; stroke-opacity:0.1; fill:none\" points=\"2291.44,1486.45 2291.44,47.2441 \"/>\n",
       "<polyline clip-path=\"url(#clip200)\" style=\"stroke:#000000; stroke-linecap:round; stroke-linejoin:round; stroke-width:4; stroke-opacity:1; fill:none\" points=\"186.274,1486.45 2352.76,1486.45 \"/>\n",
       "<polyline clip-path=\"url(#clip200)\" style=\"stroke:#000000; stroke-linecap:round; stroke-linejoin:round; stroke-width:4; stroke-opacity:1; fill:none\" points=\"247.59,1486.45 247.59,1467.55 \"/>\n",
       "<polyline clip-path=\"url(#clip200)\" style=\"stroke:#000000; stroke-linecap:round; stroke-linejoin:round; stroke-width:4; stroke-opacity:1; fill:none\" points=\"758.552,1486.45 758.552,1467.55 \"/>\n",
       "<polyline clip-path=\"url(#clip200)\" style=\"stroke:#000000; stroke-linecap:round; stroke-linejoin:round; stroke-width:4; stroke-opacity:1; fill:none\" points=\"1269.51,1486.45 1269.51,1467.55 \"/>\n",
       "<polyline clip-path=\"url(#clip200)\" style=\"stroke:#000000; stroke-linecap:round; stroke-linejoin:round; stroke-width:4; stroke-opacity:1; fill:none\" points=\"1780.48,1486.45 1780.48,1467.55 \"/>\n",
       "<polyline clip-path=\"url(#clip200)\" style=\"stroke:#000000; stroke-linecap:round; stroke-linejoin:round; stroke-width:4; stroke-opacity:1; fill:none\" points=\"2291.44,1486.45 2291.44,1467.55 \"/>\n",
       "<path clip-path=\"url(#clip200)\" d=\"M209.893 1517.37 Q206.282 1517.37 204.453 1520.93 Q202.648 1524.47 202.648 1531.6 Q202.648 1538.71 204.453 1542.27 Q206.282 1545.82 209.893 1545.82 Q213.527 1545.82 215.333 1542.27 Q217.161 1538.71 217.161 1531.6 Q217.161 1524.47 215.333 1520.93 Q213.527 1517.37 209.893 1517.37 M209.893 1513.66 Q215.703 1513.66 218.759 1518.27 Q221.837 1522.85 221.837 1531.6 Q221.837 1540.33 218.759 1544.94 Q215.703 1549.52 209.893 1549.52 Q204.083 1549.52 201.004 1544.94 Q197.949 1540.33 197.949 1531.6 Q197.949 1522.85 201.004 1518.27 Q204.083 1513.66 209.893 1513.66 Z\" fill=\"#000000\" fill-rule=\"nonzero\" fill-opacity=\"1\" /><path clip-path=\"url(#clip200)\" d=\"M230.055 1542.97 L234.939 1542.97 L234.939 1548.85 L230.055 1548.85 L230.055 1542.97 Z\" fill=\"#000000\" fill-rule=\"nonzero\" fill-opacity=\"1\" /><path clip-path=\"url(#clip200)\" d=\"M255.124 1517.37 Q251.513 1517.37 249.684 1520.93 Q247.879 1524.47 247.879 1531.6 Q247.879 1538.71 249.684 1542.27 Q251.513 1545.82 255.124 1545.82 Q258.758 1545.82 260.564 1542.27 Q262.393 1538.71 262.393 1531.6 Q262.393 1524.47 260.564 1520.93 Q258.758 1517.37 255.124 1517.37 M255.124 1513.66 Q260.934 1513.66 263.99 1518.27 Q267.069 1522.85 267.069 1531.6 Q267.069 1540.33 263.99 1544.94 Q260.934 1549.52 255.124 1549.52 Q249.314 1549.52 246.235 1544.94 Q243.18 1540.33 243.18 1531.6 Q243.18 1522.85 246.235 1518.27 Q249.314 1513.66 255.124 1513.66 Z\" fill=\"#000000\" fill-rule=\"nonzero\" fill-opacity=\"1\" /><path clip-path=\"url(#clip200)\" d=\"M285.286 1517.37 Q281.675 1517.37 279.846 1520.93 Q278.041 1524.47 278.041 1531.6 Q278.041 1538.71 279.846 1542.27 Q281.675 1545.82 285.286 1545.82 Q288.92 1545.82 290.726 1542.27 Q292.555 1538.71 292.555 1531.6 Q292.555 1524.47 290.726 1520.93 Q288.92 1517.37 285.286 1517.37 M285.286 1513.66 Q291.096 1513.66 294.152 1518.27 Q297.23 1522.85 297.23 1531.6 Q297.23 1540.33 294.152 1544.94 Q291.096 1549.52 285.286 1549.52 Q279.476 1549.52 276.397 1544.94 Q273.342 1540.33 273.342 1531.6 Q273.342 1522.85 276.397 1518.27 Q279.476 1513.66 285.286 1513.66 Z\" fill=\"#000000\" fill-rule=\"nonzero\" fill-opacity=\"1\" /><path clip-path=\"url(#clip200)\" d=\"M721.353 1517.37 Q717.742 1517.37 715.914 1520.93 Q714.108 1524.47 714.108 1531.6 Q714.108 1538.71 715.914 1542.27 Q717.742 1545.82 721.353 1545.82 Q724.988 1545.82 726.793 1542.27 Q728.622 1538.71 728.622 1531.6 Q728.622 1524.47 726.793 1520.93 Q724.988 1517.37 721.353 1517.37 M721.353 1513.66 Q727.164 1513.66 730.219 1518.27 Q733.298 1522.85 733.298 1531.6 Q733.298 1540.33 730.219 1544.94 Q727.164 1549.52 721.353 1549.52 Q715.543 1549.52 712.465 1544.94 Q709.409 1540.33 709.409 1531.6 Q709.409 1522.85 712.465 1518.27 Q715.543 1513.66 721.353 1513.66 Z\" fill=\"#000000\" fill-rule=\"nonzero\" fill-opacity=\"1\" /><path clip-path=\"url(#clip200)\" d=\"M741.515 1542.97 L746.4 1542.97 L746.4 1548.85 L741.515 1548.85 L741.515 1542.97 Z\" fill=\"#000000\" fill-rule=\"nonzero\" fill-opacity=\"1\" /><path clip-path=\"url(#clip200)\" d=\"M760.612 1544.91 L776.932 1544.91 L776.932 1548.85 L754.987 1548.85 L754.987 1544.91 Q757.649 1542.16 762.233 1537.53 Q766.839 1532.88 768.02 1531.53 Q770.265 1529.01 771.145 1527.27 Q772.048 1525.51 772.048 1523.82 Q772.048 1521.07 770.103 1519.33 Q768.182 1517.6 765.08 1517.6 Q762.881 1517.6 760.427 1518.36 Q757.997 1519.13 755.219 1520.68 L755.219 1515.95 Q758.043 1514.82 760.497 1514.24 Q762.95 1513.66 764.987 1513.66 Q770.358 1513.66 773.552 1516.35 Q776.747 1519.03 776.747 1523.52 Q776.747 1525.65 775.936 1527.57 Q775.149 1529.47 773.043 1532.07 Q772.464 1532.74 769.362 1535.95 Q766.261 1539.15 760.612 1544.91 Z\" fill=\"#000000\" fill-rule=\"nonzero\" fill-opacity=\"1\" /><path clip-path=\"url(#clip200)\" d=\"M786.793 1514.29 L805.149 1514.29 L805.149 1518.22 L791.075 1518.22 L791.075 1526.7 Q792.094 1526.35 793.112 1526.19 Q794.131 1526 795.149 1526 Q800.936 1526 804.316 1529.17 Q807.695 1532.34 807.695 1537.76 Q807.695 1543.34 804.223 1546.44 Q800.751 1549.52 794.432 1549.52 Q792.256 1549.52 789.987 1549.15 Q787.742 1548.78 785.335 1548.04 L785.335 1543.34 Q787.418 1544.47 789.64 1545.03 Q791.862 1545.58 794.339 1545.58 Q798.344 1545.58 800.682 1543.48 Q803.02 1541.37 803.02 1537.76 Q803.02 1534.15 800.682 1532.04 Q798.344 1529.94 794.339 1529.94 Q792.464 1529.94 790.589 1530.35 Q788.737 1530.77 786.793 1531.65 L786.793 1514.29 Z\" fill=\"#000000\" fill-rule=\"nonzero\" fill-opacity=\"1\" /><path clip-path=\"url(#clip200)\" d=\"M1231.82 1517.37 Q1228.21 1517.37 1226.38 1520.93 Q1224.57 1524.47 1224.57 1531.6 Q1224.57 1538.71 1226.38 1542.27 Q1228.21 1545.82 1231.82 1545.82 Q1235.45 1545.82 1237.26 1542.27 Q1239.09 1538.71 1239.09 1531.6 Q1239.09 1524.47 1237.26 1520.93 Q1235.45 1517.37 1231.82 1517.37 M1231.82 1513.66 Q1237.63 1513.66 1240.68 1518.27 Q1243.76 1522.85 1243.76 1531.6 Q1243.76 1540.33 1240.68 1544.94 Q1237.63 1549.52 1231.82 1549.52 Q1226.01 1549.52 1222.93 1544.94 Q1219.87 1540.33 1219.87 1531.6 Q1219.87 1522.85 1222.93 1518.27 Q1226.01 1513.66 1231.82 1513.66 Z\" fill=\"#000000\" fill-rule=\"nonzero\" fill-opacity=\"1\" /><path clip-path=\"url(#clip200)\" d=\"M1251.98 1542.97 L1256.86 1542.97 L1256.86 1548.85 L1251.98 1548.85 L1251.98 1542.97 Z\" fill=\"#000000\" fill-rule=\"nonzero\" fill-opacity=\"1\" /><path clip-path=\"url(#clip200)\" d=\"M1267.1 1514.29 L1285.45 1514.29 L1285.45 1518.22 L1271.38 1518.22 L1271.38 1526.7 Q1272.4 1526.35 1273.42 1526.19 Q1274.43 1526 1275.45 1526 Q1281.24 1526 1284.62 1529.17 Q1288 1532.34 1288 1537.76 Q1288 1543.34 1284.53 1546.44 Q1281.05 1549.52 1274.73 1549.52 Q1272.56 1549.52 1270.29 1549.15 Q1268.05 1548.78 1265.64 1548.04 L1265.64 1543.34 Q1267.72 1544.47 1269.94 1545.03 Q1272.17 1545.58 1274.64 1545.58 Q1278.65 1545.58 1280.98 1543.48 Q1283.32 1541.37 1283.32 1537.76 Q1283.32 1534.15 1280.98 1532.04 Q1278.65 1529.94 1274.64 1529.94 Q1272.77 1529.94 1270.89 1530.35 Q1269.04 1530.77 1267.1 1531.65 L1267.1 1514.29 Z\" fill=\"#000000\" fill-rule=\"nonzero\" fill-opacity=\"1\" /><path clip-path=\"url(#clip200)\" d=\"M1307.21 1517.37 Q1303.6 1517.37 1301.77 1520.93 Q1299.97 1524.47 1299.97 1531.6 Q1299.97 1538.71 1301.77 1542.27 Q1303.6 1545.82 1307.21 1545.82 Q1310.85 1545.82 1312.65 1542.27 Q1314.48 1538.71 1314.48 1531.6 Q1314.48 1524.47 1312.65 1520.93 Q1310.85 1517.37 1307.21 1517.37 M1307.21 1513.66 Q1313.02 1513.66 1316.08 1518.27 Q1319.16 1522.85 1319.16 1531.6 Q1319.16 1540.33 1316.08 1544.94 Q1313.02 1549.52 1307.21 1549.52 Q1301.4 1549.52 1298.32 1544.94 Q1295.27 1540.33 1295.27 1531.6 Q1295.27 1522.85 1298.32 1518.27 Q1301.4 1513.66 1307.21 1513.66 Z\" fill=\"#000000\" fill-rule=\"nonzero\" fill-opacity=\"1\" /><path clip-path=\"url(#clip200)\" d=\"M1743.28 1517.37 Q1739.67 1517.37 1737.84 1520.93 Q1736.03 1524.47 1736.03 1531.6 Q1736.03 1538.71 1737.84 1542.27 Q1739.67 1545.82 1743.28 1545.82 Q1746.91 1545.82 1748.72 1542.27 Q1750.55 1538.71 1750.55 1531.6 Q1750.55 1524.47 1748.72 1520.93 Q1746.91 1517.37 1743.28 1517.37 M1743.28 1513.66 Q1749.09 1513.66 1752.14 1518.27 Q1755.22 1522.85 1755.22 1531.6 Q1755.22 1540.33 1752.14 1544.94 Q1749.09 1549.52 1743.28 1549.52 Q1737.47 1549.52 1734.39 1544.94 Q1731.33 1540.33 1731.33 1531.6 Q1731.33 1522.85 1734.39 1518.27 Q1737.47 1513.66 1743.28 1513.66 Z\" fill=\"#000000\" fill-rule=\"nonzero\" fill-opacity=\"1\" /><path clip-path=\"url(#clip200)\" d=\"M1763.44 1542.97 L1768.32 1542.97 L1768.32 1548.85 L1763.44 1548.85 L1763.44 1542.97 Z\" fill=\"#000000\" fill-rule=\"nonzero\" fill-opacity=\"1\" /><path clip-path=\"url(#clip200)\" d=\"M1777.33 1514.29 L1799.55 1514.29 L1799.55 1516.28 L1787.01 1548.85 L1782.12 1548.85 L1793.93 1518.22 L1777.33 1518.22 L1777.33 1514.29 Z\" fill=\"#000000\" fill-rule=\"nonzero\" fill-opacity=\"1\" /><path clip-path=\"url(#clip200)\" d=\"M1808.72 1514.29 L1827.07 1514.29 L1827.07 1518.22 L1813 1518.22 L1813 1526.7 Q1814.02 1526.35 1815.04 1526.19 Q1816.06 1526 1817.07 1526 Q1822.86 1526 1826.24 1529.17 Q1829.62 1532.34 1829.62 1537.76 Q1829.62 1543.34 1826.15 1546.44 Q1822.68 1549.52 1816.36 1549.52 Q1814.18 1549.52 1811.91 1549.15 Q1809.67 1548.78 1807.26 1548.04 L1807.26 1543.34 Q1809.34 1544.47 1811.57 1545.03 Q1813.79 1545.58 1816.26 1545.58 Q1820.27 1545.58 1822.61 1543.48 Q1824.95 1541.37 1824.95 1537.76 Q1824.95 1534.15 1822.61 1532.04 Q1820.27 1529.94 1816.26 1529.94 Q1814.39 1529.94 1812.51 1530.35 Q1810.66 1530.77 1808.72 1531.65 L1808.72 1514.29 Z\" fill=\"#000000\" fill-rule=\"nonzero\" fill-opacity=\"1\" /><path clip-path=\"url(#clip200)\" d=\"M2243.51 1544.91 L2251.15 1544.91 L2251.15 1518.55 L2242.84 1520.21 L2242.84 1515.95 L2251.1 1514.29 L2255.78 1514.29 L2255.78 1544.91 L2263.42 1544.91 L2263.42 1548.85 L2243.51 1548.85 L2243.51 1544.91 Z\" fill=\"#000000\" fill-rule=\"nonzero\" fill-opacity=\"1\" /><path clip-path=\"url(#clip200)\" d=\"M2272.86 1542.97 L2277.75 1542.97 L2277.75 1548.85 L2272.86 1548.85 L2272.86 1542.97 Z\" fill=\"#000000\" fill-rule=\"nonzero\" fill-opacity=\"1\" /><path clip-path=\"url(#clip200)\" d=\"M2297.93 1517.37 Q2294.32 1517.37 2292.49 1520.93 Q2290.69 1524.47 2290.69 1531.6 Q2290.69 1538.71 2292.49 1542.27 Q2294.32 1545.82 2297.93 1545.82 Q2301.57 1545.82 2303.37 1542.27 Q2305.2 1538.71 2305.2 1531.6 Q2305.2 1524.47 2303.37 1520.93 Q2301.57 1517.37 2297.93 1517.37 M2297.93 1513.66 Q2303.74 1513.66 2306.8 1518.27 Q2309.88 1522.85 2309.88 1531.6 Q2309.88 1540.33 2306.8 1544.94 Q2303.74 1549.52 2297.93 1549.52 Q2292.12 1549.52 2289.04 1544.94 Q2285.99 1540.33 2285.99 1531.6 Q2285.99 1522.85 2289.04 1518.27 Q2292.12 1513.66 2297.93 1513.66 Z\" fill=\"#000000\" fill-rule=\"nonzero\" fill-opacity=\"1\" /><path clip-path=\"url(#clip200)\" d=\"M2328.1 1517.37 Q2324.48 1517.37 2322.66 1520.93 Q2320.85 1524.47 2320.85 1531.6 Q2320.85 1538.71 2322.66 1542.27 Q2324.48 1545.82 2328.1 1545.82 Q2331.73 1545.82 2333.54 1542.27 Q2335.36 1538.71 2335.36 1531.6 Q2335.36 1524.47 2333.54 1520.93 Q2331.73 1517.37 2328.1 1517.37 M2328.1 1513.66 Q2333.91 1513.66 2336.96 1518.27 Q2340.04 1522.85 2340.04 1531.6 Q2340.04 1540.33 2336.96 1544.94 Q2333.91 1549.52 2328.1 1549.52 Q2322.29 1549.52 2319.21 1544.94 Q2316.15 1540.33 2316.15 1531.6 Q2316.15 1522.85 2319.21 1518.27 Q2322.29 1513.66 2328.1 1513.66 Z\" fill=\"#000000\" fill-rule=\"nonzero\" fill-opacity=\"1\" /><polyline clip-path=\"url(#clip202)\" style=\"stroke:#000000; stroke-linecap:round; stroke-linejoin:round; stroke-width:2; stroke-opacity:0.1; fill:none\" points=\"186.274,1445.72 2352.76,1445.72 \"/>\n",
       "<polyline clip-path=\"url(#clip202)\" style=\"stroke:#000000; stroke-linecap:round; stroke-linejoin:round; stroke-width:2; stroke-opacity:0.1; fill:none\" points=\"186.274,1106.28 2352.76,1106.28 \"/>\n",
       "<polyline clip-path=\"url(#clip202)\" style=\"stroke:#000000; stroke-linecap:round; stroke-linejoin:round; stroke-width:2; stroke-opacity:0.1; fill:none\" points=\"186.274,766.846 2352.76,766.846 \"/>\n",
       "<polyline clip-path=\"url(#clip202)\" style=\"stroke:#000000; stroke-linecap:round; stroke-linejoin:round; stroke-width:2; stroke-opacity:0.1; fill:none\" points=\"186.274,427.411 2352.76,427.411 \"/>\n",
       "<polyline clip-path=\"url(#clip202)\" style=\"stroke:#000000; stroke-linecap:round; stroke-linejoin:round; stroke-width:2; stroke-opacity:0.1; fill:none\" points=\"186.274,87.9763 2352.76,87.9763 \"/>\n",
       "<polyline clip-path=\"url(#clip200)\" style=\"stroke:#000000; stroke-linecap:round; stroke-linejoin:round; stroke-width:4; stroke-opacity:1; fill:none\" points=\"186.274,1486.45 186.274,47.2441 \"/>\n",
       "<polyline clip-path=\"url(#clip200)\" style=\"stroke:#000000; stroke-linecap:round; stroke-linejoin:round; stroke-width:4; stroke-opacity:1; fill:none\" points=\"186.274,1445.72 205.172,1445.72 \"/>\n",
       "<polyline clip-path=\"url(#clip200)\" style=\"stroke:#000000; stroke-linecap:round; stroke-linejoin:round; stroke-width:4; stroke-opacity:1; fill:none\" points=\"186.274,1106.28 205.172,1106.28 \"/>\n",
       "<polyline clip-path=\"url(#clip200)\" style=\"stroke:#000000; stroke-linecap:round; stroke-linejoin:round; stroke-width:4; stroke-opacity:1; fill:none\" points=\"186.274,766.846 205.172,766.846 \"/>\n",
       "<polyline clip-path=\"url(#clip200)\" style=\"stroke:#000000; stroke-linecap:round; stroke-linejoin:round; stroke-width:4; stroke-opacity:1; fill:none\" points=\"186.274,427.411 205.172,427.411 \"/>\n",
       "<polyline clip-path=\"url(#clip200)\" style=\"stroke:#000000; stroke-linecap:round; stroke-linejoin:round; stroke-width:4; stroke-opacity:1; fill:none\" points=\"186.274,87.9763 205.172,87.9763 \"/>\n",
       "<path clip-path=\"url(#clip200)\" d=\"M62.9365 1431.51 Q59.3254 1431.51 57.4967 1435.08 Q55.6912 1438.62 55.6912 1445.75 Q55.6912 1452.86 57.4967 1456.42 Q59.3254 1459.96 62.9365 1459.96 Q66.5707 1459.96 68.3763 1456.42 Q70.205 1452.86 70.205 1445.75 Q70.205 1438.62 68.3763 1435.08 Q66.5707 1431.51 62.9365 1431.51 M62.9365 1427.81 Q68.7467 1427.81 71.8022 1432.42 Q74.8809 1437 74.8809 1445.75 Q74.8809 1454.48 71.8022 1459.08 Q68.7467 1463.67 62.9365 1463.67 Q57.1264 1463.67 54.0477 1459.08 Q50.9921 1454.48 50.9921 1445.75 Q50.9921 1437 54.0477 1432.42 Q57.1264 1427.81 62.9365 1427.81 Z\" fill=\"#000000\" fill-rule=\"nonzero\" fill-opacity=\"1\" /><path clip-path=\"url(#clip200)\" d=\"M83.0984 1457.12 L87.9827 1457.12 L87.9827 1463 L83.0984 1463 L83.0984 1457.12 Z\" fill=\"#000000\" fill-rule=\"nonzero\" fill-opacity=\"1\" /><path clip-path=\"url(#clip200)\" d=\"M108.168 1431.51 Q104.557 1431.51 102.728 1435.08 Q100.922 1438.62 100.922 1445.75 Q100.922 1452.86 102.728 1456.42 Q104.557 1459.96 108.168 1459.96 Q111.802 1459.96 113.608 1456.42 Q115.436 1452.86 115.436 1445.75 Q115.436 1438.62 113.608 1435.08 Q111.802 1431.51 108.168 1431.51 M108.168 1427.81 Q113.978 1427.81 117.033 1432.42 Q120.112 1437 120.112 1445.75 Q120.112 1454.48 117.033 1459.08 Q113.978 1463.67 108.168 1463.67 Q102.358 1463.67 99.2789 1459.08 Q96.2234 1454.48 96.2234 1445.75 Q96.2234 1437 99.2789 1432.42 Q102.358 1427.81 108.168 1427.81 Z\" fill=\"#000000\" fill-rule=\"nonzero\" fill-opacity=\"1\" /><path clip-path=\"url(#clip200)\" d=\"M138.33 1431.51 Q134.719 1431.51 132.89 1435.08 Q131.084 1438.62 131.084 1445.75 Q131.084 1452.86 132.89 1456.42 Q134.719 1459.96 138.33 1459.96 Q141.964 1459.96 143.769 1456.42 Q145.598 1452.86 145.598 1445.75 Q145.598 1438.62 143.769 1435.08 Q141.964 1431.51 138.33 1431.51 M138.33 1427.81 Q144.14 1427.81 147.195 1432.42 Q150.274 1437 150.274 1445.75 Q150.274 1454.48 147.195 1459.08 Q144.14 1463.67 138.33 1463.67 Q132.519 1463.67 129.441 1459.08 Q126.385 1454.48 126.385 1445.75 Q126.385 1437 129.441 1432.42 Q132.519 1427.81 138.33 1427.81 Z\" fill=\"#000000\" fill-rule=\"nonzero\" fill-opacity=\"1\" /><path clip-path=\"url(#clip200)\" d=\"M63.9319 1092.08 Q60.3208 1092.08 58.4921 1095.64 Q56.6865 1099.19 56.6865 1106.32 Q56.6865 1113.42 58.4921 1116.99 Q60.3208 1120.53 63.9319 1120.53 Q67.5661 1120.53 69.3717 1116.99 Q71.2004 1113.42 71.2004 1106.32 Q71.2004 1099.19 69.3717 1095.64 Q67.5661 1092.08 63.9319 1092.08 M63.9319 1088.38 Q69.742 1088.38 72.7976 1092.98 Q75.8763 1097.57 75.8763 1106.32 Q75.8763 1115.04 72.7976 1119.65 Q69.742 1124.23 63.9319 1124.23 Q58.1217 1124.23 55.043 1119.65 Q51.9875 1115.04 51.9875 1106.32 Q51.9875 1097.57 55.043 1092.98 Q58.1217 1088.38 63.9319 1088.38 Z\" fill=\"#000000\" fill-rule=\"nonzero\" fill-opacity=\"1\" /><path clip-path=\"url(#clip200)\" d=\"M84.0938 1117.68 L88.978 1117.68 L88.978 1123.56 L84.0938 1123.56 L84.0938 1117.68 Z\" fill=\"#000000\" fill-rule=\"nonzero\" fill-opacity=\"1\" /><path clip-path=\"url(#clip200)\" d=\"M103.191 1119.63 L119.51 1119.63 L119.51 1123.56 L97.566 1123.56 L97.566 1119.63 Q100.228 1116.87 104.811 1112.24 Q109.418 1107.59 110.598 1106.25 Q112.844 1103.72 113.723 1101.99 Q114.626 1100.23 114.626 1098.54 Q114.626 1095.78 112.682 1094.05 Q110.76 1092.31 107.658 1092.31 Q105.459 1092.31 103.006 1093.07 Q100.575 1093.84 97.7974 1095.39 L97.7974 1090.67 Q100.621 1089.53 103.075 1088.95 Q105.529 1088.38 107.566 1088.38 Q112.936 1088.38 116.131 1091.06 Q119.325 1093.75 119.325 1098.24 Q119.325 1100.37 118.515 1102.29 Q117.728 1104.19 115.621 1106.78 Q115.043 1107.45 111.941 1110.67 Q108.839 1113.86 103.191 1119.63 Z\" fill=\"#000000\" fill-rule=\"nonzero\" fill-opacity=\"1\" /><path clip-path=\"url(#clip200)\" d=\"M129.371 1089 L147.728 1089 L147.728 1092.94 L133.654 1092.94 L133.654 1101.41 Q134.672 1101.06 135.691 1100.9 Q136.709 1100.71 137.728 1100.71 Q143.515 1100.71 146.894 1103.89 Q150.274 1107.06 150.274 1112.47 Q150.274 1118.05 146.802 1121.15 Q143.33 1124.23 137.01 1124.23 Q134.834 1124.23 132.566 1123.86 Q130.32 1123.49 127.913 1122.75 L127.913 1118.05 Q129.996 1119.19 132.219 1119.74 Q134.441 1120.3 136.918 1120.3 Q140.922 1120.3 143.26 1118.19 Q145.598 1116.08 145.598 1112.47 Q145.598 1108.86 143.26 1106.76 Q140.922 1104.65 136.918 1104.65 Q135.043 1104.65 133.168 1105.07 Q131.316 1105.48 129.371 1106.36 L129.371 1089 Z\" fill=\"#000000\" fill-rule=\"nonzero\" fill-opacity=\"1\" /><path clip-path=\"url(#clip200)\" d=\"M62.9365 752.645 Q59.3254 752.645 57.4967 756.209 Q55.6912 759.751 55.6912 766.881 Q55.6912 773.987 57.4967 777.552 Q59.3254 781.094 62.9365 781.094 Q66.5707 781.094 68.3763 777.552 Q70.205 773.987 70.205 766.881 Q70.205 759.751 68.3763 756.209 Q66.5707 752.645 62.9365 752.645 M62.9365 748.941 Q68.7467 748.941 71.8022 753.547 Q74.8809 758.131 74.8809 766.881 Q74.8809 775.608 71.8022 780.214 Q68.7467 784.797 62.9365 784.797 Q57.1264 784.797 54.0477 780.214 Q50.9921 775.608 50.9921 766.881 Q50.9921 758.131 54.0477 753.547 Q57.1264 748.941 62.9365 748.941 Z\" fill=\"#000000\" fill-rule=\"nonzero\" fill-opacity=\"1\" /><path clip-path=\"url(#clip200)\" d=\"M83.0984 778.246 L87.9827 778.246 L87.9827 784.126 L83.0984 784.126 L83.0984 778.246 Z\" fill=\"#000000\" fill-rule=\"nonzero\" fill-opacity=\"1\" /><path clip-path=\"url(#clip200)\" d=\"M98.2141 749.566 L116.57 749.566 L116.57 753.501 L102.496 753.501 L102.496 761.973 Q103.515 761.626 104.534 761.464 Q105.552 761.279 106.571 761.279 Q112.358 761.279 115.737 764.45 Q119.117 767.621 119.117 773.038 Q119.117 778.617 115.645 781.719 Q112.172 784.797 105.853 784.797 Q103.677 784.797 101.409 784.427 Q99.1632 784.057 96.7558 783.316 L96.7558 778.617 Q98.8391 779.751 101.061 780.307 Q103.284 780.862 105.76 780.862 Q109.765 780.862 112.103 778.756 Q114.441 776.649 114.441 773.038 Q114.441 769.427 112.103 767.321 Q109.765 765.214 105.76 765.214 Q103.885 765.214 102.01 765.631 Q100.159 766.047 98.2141 766.927 L98.2141 749.566 Z\" fill=\"#000000\" fill-rule=\"nonzero\" fill-opacity=\"1\" /><path clip-path=\"url(#clip200)\" d=\"M138.33 752.645 Q134.719 752.645 132.89 756.209 Q131.084 759.751 131.084 766.881 Q131.084 773.987 132.89 777.552 Q134.719 781.094 138.33 781.094 Q141.964 781.094 143.769 777.552 Q145.598 773.987 145.598 766.881 Q145.598 759.751 143.769 756.209 Q141.964 752.645 138.33 752.645 M138.33 748.941 Q144.14 748.941 147.195 753.547 Q150.274 758.131 150.274 766.881 Q150.274 775.608 147.195 780.214 Q144.14 784.797 138.33 784.797 Q132.519 784.797 129.441 780.214 Q126.385 775.608 126.385 766.881 Q126.385 758.131 129.441 753.547 Q132.519 748.941 138.33 748.941 Z\" fill=\"#000000\" fill-rule=\"nonzero\" fill-opacity=\"1\" /><path clip-path=\"url(#clip200)\" d=\"M63.9319 413.21 Q60.3208 413.21 58.4921 416.775 Q56.6865 420.316 56.6865 427.446 Q56.6865 434.552 58.4921 438.117 Q60.3208 441.659 63.9319 441.659 Q67.5661 441.659 69.3717 438.117 Q71.2004 434.552 71.2004 427.446 Q71.2004 420.316 69.3717 416.775 Q67.5661 413.21 63.9319 413.21 M63.9319 409.506 Q69.742 409.506 72.7976 414.113 Q75.8763 418.696 75.8763 427.446 Q75.8763 436.173 72.7976 440.779 Q69.742 445.362 63.9319 445.362 Q58.1217 445.362 55.043 440.779 Q51.9875 436.173 51.9875 427.446 Q51.9875 418.696 55.043 414.113 Q58.1217 409.506 63.9319 409.506 Z\" fill=\"#000000\" fill-rule=\"nonzero\" fill-opacity=\"1\" /><path clip-path=\"url(#clip200)\" d=\"M84.0938 438.812 L88.978 438.812 L88.978 444.691 L84.0938 444.691 L84.0938 438.812 Z\" fill=\"#000000\" fill-rule=\"nonzero\" fill-opacity=\"1\" /><path clip-path=\"url(#clip200)\" d=\"M97.9826 410.131 L120.205 410.131 L120.205 412.122 L107.658 444.691 L102.774 444.691 L114.58 414.066 L97.9826 414.066 L97.9826 410.131 Z\" fill=\"#000000\" fill-rule=\"nonzero\" fill-opacity=\"1\" /><path clip-path=\"url(#clip200)\" d=\"M129.371 410.131 L147.728 410.131 L147.728 414.066 L133.654 414.066 L133.654 422.538 Q134.672 422.191 135.691 422.029 Q136.709 421.844 137.728 421.844 Q143.515 421.844 146.894 425.015 Q150.274 428.187 150.274 433.603 Q150.274 439.182 146.802 442.284 Q143.33 445.362 137.01 445.362 Q134.834 445.362 132.566 444.992 Q130.32 444.622 127.913 443.881 L127.913 439.182 Q129.996 440.316 132.219 440.872 Q134.441 441.427 136.918 441.427 Q140.922 441.427 143.26 439.321 Q145.598 437.214 145.598 433.603 Q145.598 429.992 143.26 427.886 Q140.922 425.779 136.918 425.779 Q135.043 425.779 133.168 426.196 Q131.316 426.613 129.371 427.492 L129.371 410.131 Z\" fill=\"#000000\" fill-rule=\"nonzero\" fill-opacity=\"1\" /><path clip-path=\"url(#clip200)\" d=\"M53.7467 101.321 L61.3856 101.321 L61.3856 74.9555 L53.0754 76.6222 L53.0754 72.3629 L61.3393 70.6963 L66.0152 70.6963 L66.0152 101.321 L73.654 101.321 L73.654 105.256 L53.7467 105.256 L53.7467 101.321 Z\" fill=\"#000000\" fill-rule=\"nonzero\" fill-opacity=\"1\" /><path clip-path=\"url(#clip200)\" d=\"M83.0984 99.3767 L87.9827 99.3767 L87.9827 105.256 L83.0984 105.256 L83.0984 99.3767 Z\" fill=\"#000000\" fill-rule=\"nonzero\" fill-opacity=\"1\" /><path clip-path=\"url(#clip200)\" d=\"M108.168 73.775 Q104.557 73.775 102.728 77.3398 Q100.922 80.8814 100.922 88.011 Q100.922 95.1174 102.728 98.6822 Q104.557 102.224 108.168 102.224 Q111.802 102.224 113.608 98.6822 Q115.436 95.1174 115.436 88.011 Q115.436 80.8814 113.608 77.3398 Q111.802 73.775 108.168 73.775 M108.168 70.0713 Q113.978 70.0713 117.033 74.6777 Q120.112 79.261 120.112 88.011 Q120.112 96.7378 117.033 101.344 Q113.978 105.928 108.168 105.928 Q102.358 105.928 99.2789 101.344 Q96.2234 96.7378 96.2234 88.011 Q96.2234 79.261 99.2789 74.6777 Q102.358 70.0713 108.168 70.0713 Z\" fill=\"#000000\" fill-rule=\"nonzero\" fill-opacity=\"1\" /><path clip-path=\"url(#clip200)\" d=\"M138.33 73.775 Q134.719 73.775 132.89 77.3398 Q131.084 80.8814 131.084 88.011 Q131.084 95.1174 132.89 98.6822 Q134.719 102.224 138.33 102.224 Q141.964 102.224 143.769 98.6822 Q145.598 95.1174 145.598 88.011 Q145.598 80.8814 143.769 77.3398 Q141.964 73.775 138.33 73.775 M138.33 70.0713 Q144.14 70.0713 147.195 74.6777 Q150.274 79.261 150.274 88.011 Q150.274 96.7378 147.195 101.344 Q144.14 105.928 138.33 105.928 Q132.519 105.928 129.441 101.344 Q126.385 96.7378 126.385 88.011 Q126.385 79.261 129.441 74.6777 Q132.519 70.0713 138.33 70.0713 Z\" fill=\"#000000\" fill-rule=\"nonzero\" fill-opacity=\"1\" /><polyline clip-path=\"url(#clip202)\" style=\"stroke:#009af9; stroke-linecap:round; stroke-linejoin:round; stroke-width:4; stroke-opacity:1; fill:none\" points=\"247.59,87.9763 451.975,476.829 656.36,724.75 860.745,915.98 1065.13,1068.17 1269.51,1189.48 1473.9,1284.54 1678.29,1356.2 1882.67,1406.27 2087.06,1435.91 2291.44,1445.72 \"/>\n",
       "<path clip-path=\"url(#clip200)\" d=\"M2011.46 198.898 L2280.54 198.898 L2280.54 95.2176 L2011.46 95.2176  Z\" fill=\"#ffffff\" fill-rule=\"evenodd\" fill-opacity=\"1\"/>\n",
       "<polyline clip-path=\"url(#clip200)\" style=\"stroke:#000000; stroke-linecap:round; stroke-linejoin:round; stroke-width:4; stroke-opacity:1; fill:none\" points=\"2011.46,198.898 2280.54,198.898 2280.54,95.2176 2011.46,95.2176 2011.46,198.898 \"/>\n",
       "<polyline clip-path=\"url(#clip200)\" style=\"stroke:#009af9; stroke-linecap:round; stroke-linejoin:round; stroke-width:4; stroke-opacity:1; fill:none\" points=\"2035.53,147.058 2179.97,147.058 \"/>\n",
       "<path clip-path=\"url(#clip200)\" d=\"M2217.88 166.745 Q2216.07 171.375 2214.36 172.787 Q2212.65 174.199 2209.78 174.199 L2206.38 174.199 L2206.38 170.634 L2208.88 170.634 Q2210.63 170.634 2211.61 169.8 Q2212.58 168.967 2213.76 165.865 L2214.52 163.921 L2204.04 138.412 L2208.55 138.412 L2216.65 158.689 L2224.76 138.412 L2229.27 138.412 L2217.88 166.745 Z\" fill=\"#000000\" fill-rule=\"nonzero\" fill-opacity=\"1\" /><path clip-path=\"url(#clip200)\" d=\"M2236.56 160.402 L2244.2 160.402 L2244.2 134.037 L2235.89 135.703 L2235.89 131.444 L2244.15 129.778 L2248.83 129.778 L2248.83 160.402 L2256.47 160.402 L2256.47 164.338 L2236.56 164.338 L2236.56 160.402 Z\" fill=\"#000000\" fill-rule=\"nonzero\" fill-opacity=\"1\" /></svg>\n"
      ]
     },
     "metadata": {},
     "output_type": "display_data"
    }
   ],
   "source": [
    "plot(x, m)"
   ]
  },
  {
   "cell_type": "code",
   "execution_count": 1,
   "metadata": {},
   "outputs": [
    {
     "data": {
      "text/plain": [
       "0"
      ]
     },
     "metadata": {},
     "output_type": "display_data"
    }
   ],
   "source": [
    "h=4"
   ]
  },
  {
   "cell_type": "code",
   "execution_count": null,
   "metadata": {},
   "outputs": [],
   "source": [
    "d=0"
   ]
  },
  {
   "cell_type": "code",
   "execution_count": 5,
   "metadata": {},
   "outputs": [],
   "source": [
    "for i in 1:(h-1)\n",
    "    d+= i==(h-1) ? 2*1/2^i*i  : 1/2^i*i\n",
    "end"
   ]
  },
  {
   "cell_type": "code",
   "execution_count": 3,
   "metadata": {},
   "outputs": [
    {
     "data": {
      "text/plain": [
       "1.75"
      ]
     },
     "metadata": {},
     "output_type": "display_data"
    }
   ],
   "source": [
    "d"
   ]
  },
  {
   "cell_type": "code",
   "execution_count": 4,
   "metadata": {},
   "outputs": [
    {
     "data": {
      "text/plain": [
       "0"
      ]
     },
     "metadata": {},
     "output_type": "display_data"
    }
   ],
   "source": [
    "d=0"
   ]
  },
  {
   "cell_type": "code",
   "execution_count": null,
   "metadata": {},
   "outputs": [],
   "source": [
    "h=8   #h个字母, h-1个概率等级"
   ]
  },
  {
   "cell_type": "code",
   "execution_count": null,
   "metadata": {},
   "outputs": [],
   "source": [
    "for i in 1:(h-1)\n",
    "    d+= i==(h-1) ? 2*1/2^i*i  : 1/2^i*i   #最后一个概率等级对应2个字母\n",
    "end"
   ]
  },
  {
   "cell_type": "code",
   "execution_count": 6,
   "metadata": {},
   "outputs": [
    {
     "data": {
      "text/plain": [
       "1.984375"
      ]
     },
     "metadata": {},
     "output_type": "display_data"
    }
   ],
   "source": [
    "d"
   ]
  },
  {
   "cell_type": "code",
   "execution_count": 26,
   "metadata": {},
   "outputs": [
    {
     "data": {
      "text/plain": [
       "0.5:0.1:0.9"
      ]
     },
     "metadata": {},
     "output_type": "display_data"
    }
   ],
   "source": [
    "ps=0.5:0.1:0.9  #入睡先验概率"
   ]
  },
  {
   "cell_type": "code",
   "execution_count": 42,
   "metadata": {},
   "outputs": [
    {
     "name": "stdout",
     "output_type": "stream",
     "text": [
      "[0.5, 0.6, 0.7, 0.8, 0.9]\n"
     ]
    }
   ],
   "source": [
    "println(collect(ps))"
   ]
  },
  {
   "cell_type": "code",
   "execution_count": 20,
   "metadata": {},
   "outputs": [
    {
     "data": {
      "text/plain": [
       "0.8"
      ]
     },
     "metadata": {},
     "output_type": "display_data"
    }
   ],
   "source": [
    "pls=0.01   #入睡亮灯概率  #light灯亮 dark 灯灭\n",
    "plw=0.8  #醒着亮灯概率"
   ]
  },
  {
   "cell_type": "code",
   "execution_count": 21,
   "metadata": {},
   "outputs": [
    {
     "data": {
      "text/plain": [
       "5"
      ]
     },
     "metadata": {},
     "output_type": "display_data"
    }
   ],
   "source": [
    "n=length(ps)"
   ]
  },
  {
   "cell_type": "code",
   "execution_count": 31,
   "metadata": {},
   "outputs": [
    {
     "data": {
      "text/plain": [
       "5-element Vector{Float64}:\n",
       " 6.9524801536587e-310\n",
       " 6.95248016182305e-310\n",
       " 1.0915279132064e-311\n",
       " 6.9524804281007e-310\n",
       " 0.0"
      ]
     },
     "metadata": {},
     "output_type": "display_data"
    }
   ],
   "source": [
    "u  = Vector{Float64}(undef,n)  #u-亮灯入睡, v-灭灯入睡\n",
    "v  = Vector{Float64}(undef,n)"
   ]
  },
  {
   "cell_type": "code",
   "execution_count": 32,
   "metadata": {},
   "outputs": [],
   "source": [
    "for i in 1:n\n",
    "    u[i]=pls*ps[i]/(pls*ps[i] + plw*(1-ps[i])) #灯亮入睡的后验概率\n",
    "    v[i]=(1-pls)*ps[i]/((1-pls)*ps[i] + (1-plw)*(1-ps[i]))   #灯灭入睡的后验概率\n",
    "end"
   ]
  },
  {
   "cell_type": "code",
   "execution_count": 33,
   "metadata": {},
   "outputs": [
    {
     "name": "stdout",
     "output_type": "stream",
     "text": [
      "[0.012345679012345678, 0.01840490797546012, 0.02834008097165991, 0.04761904761904762, 0.10112359550561799]\n"
     ]
    }
   ],
   "source": [
    "println(u)"
   ]
  },
  {
   "cell_type": "code",
   "execution_count": 37,
   "metadata": {},
   "outputs": [
    {
     "name": "stdout",
     "output_type": "stream",
     "text": [
      "[\"1.23\", \"1.84\", \"2.83\", \"4.76\", \"10.11\"]\n"
     ]
    }
   ],
   "source": [
    "println(string.(round.(100 .* u; digits=2)))"
   ]
  },
  {
   "cell_type": "code",
   "execution_count": 39,
   "metadata": {},
   "outputs": [
    {
     "name": "stdout",
     "output_type": "stream",
     "text": [
      "[1.23, 1.84, 2.83, 4.76, 10.11]\n"
     ]
    }
   ],
   "source": [
    "println(round.(100 .* u; digits=2))"
   ]
  },
  {
   "cell_type": "code",
   "execution_count": 34,
   "metadata": {},
   "outputs": [
    {
     "name": "stdout",
     "output_type": "stream",
     "text": [
      "[0.8319327731092437, 0.8813056379821959, 0.9203187250996017, 0.9519230769230769, 0.978046103183315]\n"
     ]
    }
   ],
   "source": [
    "println(v)"
   ]
  },
  {
   "cell_type": "code",
   "execution_count": 38,
   "metadata": {},
   "outputs": [
    {
     "name": "stdout",
     "output_type": "stream",
     "text": [
      "[\"83.19\", \"88.13\", \"92.03\", \"95.19\", \"97.8\"]\n"
     ]
    }
   ],
   "source": [
    "println(string.(round.(100 .* v; digits=2)))"
   ]
  },
  {
   "cell_type": "code",
   "execution_count": 40,
   "metadata": {},
   "outputs": [
    {
     "name": "stdout",
     "output_type": "stream",
     "text": [
      "[83.19, 88.13, 92.03, 95.19, 97.8]\n"
     ]
    }
   ],
   "source": [
    "println(round.(100 .* v; digits=2))"
   ]
  },
  {
   "cell_type": "code",
   "execution_count": 15,
   "metadata": {},
   "outputs": [
    {
     "data": {
      "text/plain": [
       "2×2 Matrix{Float64}:\n",
       " 0.011777   0.00258802\n",
       " 0.0211985  0.00465844"
      ]
     },
     "metadata": {},
     "output_type": "display_data"
    }
   ],
   "source": [
    "psl=pls .* ps/(pls .* ps + plw .* (1 .- ps))   #灯亮入睡的后验概率"
   ]
  },
  {
   "cell_type": "code",
   "execution_count": 3,
   "metadata": {},
   "outputs": [
    {
     "data": {
      "text/plain": [
       "0.9334022275806636"
      ]
     },
     "metadata": {},
     "output_type": "display_data"
    }
   ],
   "source": [
    "psd=(1-pls)*ps/((1-pls)*ps + (1-plw)*(1-ps))   #灯灭入睡的后验概率"
   ]
  },
  {
   "cell_type": "code",
   "execution_count": 4,
   "metadata": {},
   "outputs": [
    {
     "data": {
      "text/plain": [
       "0.9675851222566431"
      ]
     },
     "metadata": {},
     "output_type": "display_data"
    }
   ],
   "source": [
    "psl +psd"
   ]
  },
  {
   "cell_type": "code",
   "execution_count": null,
   "metadata": {},
   "outputs": [
    {
     "data": {
      "text/plain": [
       "0.8"
      ]
     },
     "metadata": {},
     "output_type": "display_data"
    }
   ],
   "source": [
    "ps=[0.7390, 0.9]  #入睡先验概率\n",
    "pls=0.01   #入睡亮灯概率  #light灯亮 dark 灯灭\n",
    "plw=0.8  #醒着亮灯概率\n"
   ]
  },
  {
   "cell_type": "code",
   "execution_count": null,
   "metadata": {},
   "outputs": [
    {
     "data": {
      "text/plain": [
       "0.03418289467597946"
      ]
     },
     "metadata": {},
     "output_type": "display_data"
    }
   ],
   "source": [
    "psl=pls*ps/(pls*ps + plw*(1-ps))   #灯亮入睡的后验概率"
   ]
  },
  {
   "cell_type": "code",
   "execution_count": null,
   "metadata": {},
   "outputs": [
    {
     "data": {
      "text/plain": [
       "0.9334022275806636"
      ]
     },
     "metadata": {},
     "output_type": "display_data"
    }
   ],
   "source": [
    "psd=(1-pls)*ps/((1-pls)*ps + (1-plw)*(1-ps))   #灯灭入睡的后验概率"
   ]
  },
  {
   "cell_type": "code",
   "execution_count": null,
   "metadata": {},
   "outputs": [
    {
     "data": {
      "text/plain": [
       "0.9675851222566431"
      ]
     },
     "metadata": {},
     "output_type": "display_data"
    }
   ],
   "source": [
    "psl +psd"
   ]
  },
  {
   "cell_type": "markdown",
   "metadata": {},
   "source": [
    "2024-04-08代码演示\n",
    "Sugarscape · Agents.jl 示例动物园 --- Sugarscape · Agents.jl Example Zoo\n",
    "https://juliadynamics.github.io/AgentsExampleZoo.jl/dev/examples/sugarscape/#Sugarscape"
   ]
  },
  {
   "cell_type": "code",
   "execution_count": 1,
   "metadata": {},
   "outputs": [],
   "source": [
    "using Agents, Random"
   ]
  },
  {
   "cell_type": "code",
   "execution_count": 7,
   "metadata": {},
   "outputs": [],
   "source": [
    "@agent struct SugarSeeker(GridAgent{2})\n",
    "    vision::Int\n",
    "    metabolic_rate::Int\n",
    "    age::Int\n",
    "    max_age::Int\n",
    "    wealth::Int\n",
    "end"
   ]
  },
  {
   "cell_type": "code",
   "execution_count": 3,
   "metadata": {},
   "outputs": [
    {
     "data": {
      "text/plain": [
       "((10, 40), (40, 10))"
      ]
     },
     "metadata": {},
     "output_type": "display_data"
    }
   ],
   "source": [
    "sugar_peaks = ((10, 40), (40, 10))"
   ]
  },
  {
   "cell_type": "code",
   "execution_count": 4,
   "metadata": {},
   "outputs": [
    {
     "data": {
      "text/plain": [
       "2"
      ]
     },
     "metadata": {},
     "output_type": "display_data"
    }
   ],
   "source": [
    "length(sugar_peaks)"
   ]
  },
  {
   "cell_type": "code",
   "execution_count": 5,
   "metadata": {},
   "outputs": [
    {
     "data": {
      "text/plain": [
       "2-element Vector{Int64}:\n",
       " 0\n",
       " 0"
      ]
     },
     "metadata": {},
     "output_type": "display_data"
    }
   ],
   "source": [
    "all_dists0 = zeros(Int, length(sugar_peaks))"
   ]
  },
  {
   "cell_type": "code",
   "execution_count": 2,
   "metadata": {},
   "outputs": [
    {
     "data": {
      "text/plain": [
       "ags! (generic function with 1 method)"
      ]
     },
     "metadata": {},
     "output_type": "display_data"
    }
   ],
   "source": [
    "function ags!(aw)\n",
    "    aw == 0 && return # do nothing\n",
    "    println(aw)\n",
    "end"
   ]
  },
  {
   "cell_type": "code",
   "execution_count": 4,
   "metadata": {},
   "outputs": [
    {
     "name": "stdout",
     "output_type": "stream",
     "text": [
      "1\n"
     ]
    }
   ],
   "source": [
    "ags!(1)"
   ]
  },
  {
   "cell_type": "code",
   "execution_count": 5,
   "metadata": {},
   "outputs": [],
   "source": [
    "ags!(0)"
   ]
  },
  {
   "cell_type": "code",
   "execution_count": 6,
   "metadata": {},
   "outputs": [],
   "source": [
    "@agent struct WealthInSpace(GridAgent{2})\n",
    "    wealth::Int\n",
    "end"
   ]
  },
  {
   "cell_type": "code",
   "execution_count": 7,
   "metadata": {},
   "outputs": [
    {
     "name": "stdout",
     "output_type": "stream",
     "text": [
      "1\n",
      "2\n",
      "3\n"
     ]
    }
   ],
   "source": [
    "for i = 1:3\n",
    "    println(i)\n",
    "end"
   ]
  },
  {
   "cell_type": "code",
   "execution_count": 9,
   "metadata": {},
   "outputs": [
    {
     "name": "stdout",
     "output_type": "stream",
     "text": [
      "hello\n",
      "hello\n",
      "hello\n"
     ]
    }
   ],
   "source": [
    "for _ = 1:3\n",
    "    println(\"hello\")\n",
    "end"
   ]
  },
  {
   "cell_type": "code",
   "execution_count": 10,
   "metadata": {},
   "outputs": [],
   "source": [
    "@agent struct WealthAgent(NoSpaceAgent)\n",
    "    wealth::Int\n",
    "end"
   ]
  },
  {
   "cell_type": "code",
   "execution_count": 11,
   "metadata": {},
   "outputs": [
    {
     "data": {
      "text/plain": [
       "wealth_model (generic function with 1 method)"
      ]
     },
     "metadata": {},
     "output_type": "display_data"
    }
   ],
   "source": [
    "function wealth_model(; numagents = 100, initwealth = 1, seed = 5)\n",
    "    model = ABM(WealthAgent; agent_step!, scheduler = Schedulers.Randomly(),\n",
    "                rng = Xoshiro(seed))\n",
    "    for _ in 1:numagents\n",
    "        add_agent!(model, initwealth)\n",
    "    end\n",
    "    return model\n",
    "end"
   ]
  },
  {
   "cell_type": "code",
   "execution_count": 12,
   "metadata": {},
   "outputs": [
    {
     "data": {
      "text/plain": [
       "StandardABM with 100 agents of type WealthAgent\n",
       " agents container: Dict\n",
       " space: nothing (no spatial structure)\n",
       " scheduler: Agents.Schedulers.Randomly"
      ]
     },
     "metadata": {},
     "output_type": "display_data"
    }
   ],
   "source": [
    "function agent_step!(agent, model)\n",
    "    agent.wealth == 0 && return # do nothing\n",
    "    ragent = random_agent(model)\n",
    "    agent.wealth -= 1\n",
    "    ragent.wealth += 1\n",
    "end\n",
    "\n",
    "model = wealth_model()"
   ]
  },
  {
   "cell_type": "code",
   "execution_count": 13,
   "metadata": {},
   "outputs": [
    {
     "data": {
      "text/html": [
       "<div><div style = \"float: left;\"><span>21×3 DataFrame</span></div><div style = \"clear: both;\"></div></div><div class = \"data-frame\" style = \"overflow-x: scroll;\"><table class = \"data-frame\" style = \"margin-bottom: 6px;\"><thead><tr class = \"header\"><th class = \"rowNumber\" style = \"font-weight: bold; text-align: right;\">Row</th><th style = \"text-align: left;\">time</th><th style = \"text-align: left;\">id</th><th style = \"text-align: left;\">wealth</th></tr><tr class = \"subheader headerLastRow\"><th class = \"rowNumber\" style = \"font-weight: bold; text-align: right;\"></th><th title = \"Int64\" style = \"text-align: left;\">Int64</th><th title = \"Int64\" style = \"text-align: left;\">Int64</th><th title = \"Int64\" style = \"text-align: left;\">Int64</th></tr></thead><tbody><tr><td class = \"rowNumber\" style = \"font-weight: bold; text-align: right;\">1</td><td style = \"text-align: right;\">5</td><td style = \"text-align: right;\">1980</td><td style = \"text-align: right;\">0</td></tr><tr><td class = \"rowNumber\" style = \"font-weight: bold; text-align: right;\">2</td><td style = \"text-align: right;\">5</td><td style = \"text-align: right;\">1981</td><td style = \"text-align: right;\">2</td></tr><tr><td class = \"rowNumber\" style = \"font-weight: bold; text-align: right;\">3</td><td style = \"text-align: right;\">5</td><td style = \"text-align: right;\">1982</td><td style = \"text-align: right;\">1</td></tr><tr><td class = \"rowNumber\" style = \"font-weight: bold; text-align: right;\">4</td><td style = \"text-align: right;\">5</td><td style = \"text-align: right;\">1983</td><td style = \"text-align: right;\">1</td></tr><tr><td class = \"rowNumber\" style = \"font-weight: bold; text-align: right;\">5</td><td style = \"text-align: right;\">5</td><td style = \"text-align: right;\">1984</td><td style = \"text-align: right;\">1</td></tr><tr><td class = \"rowNumber\" style = \"font-weight: bold; text-align: right;\">6</td><td style = \"text-align: right;\">5</td><td style = \"text-align: right;\">1985</td><td style = \"text-align: right;\">2</td></tr><tr><td class = \"rowNumber\" style = \"font-weight: bold; text-align: right;\">7</td><td style = \"text-align: right;\">5</td><td style = \"text-align: right;\">1986</td><td style = \"text-align: right;\">0</td></tr><tr><td class = \"rowNumber\" style = \"font-weight: bold; text-align: right;\">8</td><td style = \"text-align: right;\">5</td><td style = \"text-align: right;\">1987</td><td style = \"text-align: right;\">0</td></tr><tr><td class = \"rowNumber\" style = \"font-weight: bold; text-align: right;\">9</td><td style = \"text-align: right;\">5</td><td style = \"text-align: right;\">1988</td><td style = \"text-align: right;\">1</td></tr><tr><td class = \"rowNumber\" style = \"font-weight: bold; text-align: right;\">10</td><td style = \"text-align: right;\">5</td><td style = \"text-align: right;\">1989</td><td style = \"text-align: right;\">1</td></tr><tr><td class = \"rowNumber\" style = \"font-weight: bold; text-align: right;\">11</td><td style = \"text-align: right;\">5</td><td style = \"text-align: right;\">1990</td><td style = \"text-align: right;\">0</td></tr><tr><td class = \"rowNumber\" style = \"font-weight: bold; text-align: right;\">12</td><td style = \"text-align: right;\">5</td><td style = \"text-align: right;\">1991</td><td style = \"text-align: right;\">0</td></tr><tr><td class = \"rowNumber\" style = \"font-weight: bold; text-align: right;\">13</td><td style = \"text-align: right;\">5</td><td style = \"text-align: right;\">1992</td><td style = \"text-align: right;\">1</td></tr><tr><td class = \"rowNumber\" style = \"font-weight: bold; text-align: right;\">14</td><td style = \"text-align: right;\">5</td><td style = \"text-align: right;\">1993</td><td style = \"text-align: right;\">1</td></tr><tr><td class = \"rowNumber\" style = \"font-weight: bold; text-align: right;\">15</td><td style = \"text-align: right;\">5</td><td style = \"text-align: right;\">1994</td><td style = \"text-align: right;\">0</td></tr><tr><td class = \"rowNumber\" style = \"font-weight: bold; text-align: right;\">16</td><td style = \"text-align: right;\">5</td><td style = \"text-align: right;\">1995</td><td style = \"text-align: right;\">1</td></tr><tr><td class = \"rowNumber\" style = \"font-weight: bold; text-align: right;\">17</td><td style = \"text-align: right;\">5</td><td style = \"text-align: right;\">1996</td><td style = \"text-align: right;\">0</td></tr><tr><td class = \"rowNumber\" style = \"font-weight: bold; text-align: right;\">18</td><td style = \"text-align: right;\">5</td><td style = \"text-align: right;\">1997</td><td style = \"text-align: right;\">1</td></tr><tr><td class = \"rowNumber\" style = \"font-weight: bold; text-align: right;\">19</td><td style = \"text-align: right;\">5</td><td style = \"text-align: right;\">1998</td><td style = \"text-align: right;\">0</td></tr><tr><td class = \"rowNumber\" style = \"font-weight: bold; text-align: right;\">20</td><td style = \"text-align: right;\">5</td><td style = \"text-align: right;\">1999</td><td style = \"text-align: right;\">0</td></tr><tr><td class = \"rowNumber\" style = \"font-weight: bold; text-align: right;\">21</td><td style = \"text-align: right;\">5</td><td style = \"text-align: right;\">2000</td><td style = \"text-align: right;\">4</td></tr></tbody></table></div>"
      ],
      "text/latex": [
       "\\begin{tabular}{r|ccc}\n",
       "\t& time & id & wealth\\\\\n",
       "\t\\hline\n",
       "\t& Int64 & Int64 & Int64\\\\\n",
       "\t\\hline\n",
       "\t1 & 5 & 1980 & 0 \\\\\n",
       "\t2 & 5 & 1981 & 2 \\\\\n",
       "\t3 & 5 & 1982 & 1 \\\\\n",
       "\t4 & 5 & 1983 & 1 \\\\\n",
       "\t5 & 5 & 1984 & 1 \\\\\n",
       "\t6 & 5 & 1985 & 2 \\\\\n",
       "\t7 & 5 & 1986 & 0 \\\\\n",
       "\t8 & 5 & 1987 & 0 \\\\\n",
       "\t9 & 5 & 1988 & 1 \\\\\n",
       "\t10 & 5 & 1989 & 1 \\\\\n",
       "\t11 & 5 & 1990 & 0 \\\\\n",
       "\t12 & 5 & 1991 & 0 \\\\\n",
       "\t13 & 5 & 1992 & 1 \\\\\n",
       "\t14 & 5 & 1993 & 1 \\\\\n",
       "\t15 & 5 & 1994 & 0 \\\\\n",
       "\t16 & 5 & 1995 & 1 \\\\\n",
       "\t17 & 5 & 1996 & 0 \\\\\n",
       "\t18 & 5 & 1997 & 1 \\\\\n",
       "\t19 & 5 & 1998 & 0 \\\\\n",
       "\t20 & 5 & 1999 & 0 \\\\\n",
       "\t21 & 5 & 2000 & 4 \\\\\n",
       "\\end{tabular}\n"
      ],
      "text/plain": [
       "\u001b[1m21×3 DataFrame\u001b[0m\n",
       "\u001b[1m Row \u001b[0m│\u001b[1m time  \u001b[0m\u001b[1m id    \u001b[0m\u001b[1m wealth \u001b[0m\n",
       "     │\u001b[90m Int64 \u001b[0m\u001b[90m Int64 \u001b[0m\u001b[90m Int64  \u001b[0m\n",
       "─────┼──────────────────────\n",
       "   1 │     5   1980       0\n",
       "   2 │     5   1981       2\n",
       "   3 │     5   1982       1\n",
       "   4 │     5   1983       1\n",
       "   5 │     5   1984       1\n",
       "   6 │     5   1985       2\n",
       "   7 │     5   1986       0\n",
       "   8 │     5   1987       0\n",
       "  ⋮  │   ⋮      ⋮      ⋮\n",
       "  15 │     5   1994       0\n",
       "  16 │     5   1995       1\n",
       "  17 │     5   1996       0\n",
       "  18 │     5   1997       1\n",
       "  19 │     5   1998       0\n",
       "  20 │     5   1999       0\n",
       "  21 │     5   2000       4\n",
       "\u001b[36m              6 rows omitted\u001b[0m"
      ]
     },
     "metadata": {},
     "output_type": "display_data"
    }
   ],
   "source": [
    "N = 5\n",
    "M = 2000\n",
    "adata = [:wealth]\n",
    "model = wealth_model(numagents = M)\n",
    "data, _ = run!(model, N; adata)\n",
    "data[(end-20):end, :]"
   ]
  },
  {
   "cell_type": "code",
   "execution_count": 14,
   "metadata": {},
   "outputs": [
    {
     "data": {
      "text/plain": [
       "(\u001b[1m2000×3 DataFrame\u001b[0m\n",
       "\u001b[1m  Row \u001b[0m│\u001b[1m time  \u001b[0m\u001b[1m id    \u001b[0m\u001b[1m wealth \u001b[0m\n",
       "      │\u001b[90m Int64 \u001b[0m\u001b[90m Int64 \u001b[0m\u001b[90m Int64  \u001b[0m\n",
       "──────┼──────────────────────\n",
       "    1 │     5      1       1\n",
       "    2 │     5      2       0\n",
       "    3 │     5      3       0\n",
       "    4 │     5      4       0\n",
       "    5 │     5      5       0\n",
       "    6 │     5      6       0\n",
       "    7 │     5      7       0\n",
       "    8 │     5      8       0\n",
       "  ⋮   │   ⋮      ⋮      ⋮\n",
       " 1994 │     5   1994       0\n",
       " 1995 │     5   1995       1\n",
       " 1996 │     5   1996       0\n",
       " 1997 │     5   1997       1\n",
       " 1998 │     5   1998       0\n",
       " 1999 │     5   1999       0\n",
       " 2000 │     5   2000       4\n",
       "\u001b[36m            1985 rows omitted\u001b[0m, \u001b[1m0×0 DataFrame\u001b[0m)"
      ]
     },
     "metadata": {},
     "output_type": "display_data"
    }
   ],
   "source": [
    "data, _ = run!(model, N; adata, when=4:5)"
   ]
  },
  {
   "cell_type": "code",
   "execution_count": 15,
   "metadata": {},
   "outputs": [
    {
     "data": {
      "text/plain": [
       "(\u001b[1m12000×3 DataFrame\u001b[0m\n",
       "\u001b[1m   Row \u001b[0m│\u001b[1m time  \u001b[0m\u001b[1m id    \u001b[0m\u001b[1m wealth \u001b[0m\n",
       "       │\u001b[90m Int64 \u001b[0m\u001b[90m Int64 \u001b[0m\u001b[90m Int64  \u001b[0m\n",
       "───────┼──────────────────────\n",
       "     1 │    10      1       0\n",
       "     2 │    10      2       0\n",
       "     3 │    10      3       1\n",
       "     4 │    10      4       2\n",
       "     5 │    10      5       1\n",
       "     6 │    10      6       1\n",
       "     7 │    10      7       0\n",
       "     8 │    10      8       1\n",
       "   ⋮   │   ⋮      ⋮      ⋮\n",
       " 11994 │    15   1994       0\n",
       " 11995 │    15   1995       2\n",
       " 11996 │    15   1996       1\n",
       " 11997 │    15   1997       0\n",
       " 11998 │    15   1998       0\n",
       " 11999 │    15   1999       0\n",
       " 12000 │    15   2000       0\n",
       "\u001b[36m            11985 rows omitted\u001b[0m, \u001b[1m0×0 DataFrame\u001b[0m)"
      ]
     },
     "metadata": {},
     "output_type": "display_data"
    }
   ],
   "source": [
    "data, _ = run!(model, N; adata)"
   ]
  },
  {
   "cell_type": "code",
   "execution_count": 16,
   "metadata": {},
   "outputs": [
    {
     "data": {
      "text/plain": [
       "(\u001b[1m2000×3 DataFrame\u001b[0m\n",
       "\u001b[1m  Row \u001b[0m│\u001b[1m time  \u001b[0m\u001b[1m id    \u001b[0m\u001b[1m wealth \u001b[0m\n",
       "      │\u001b[90m Int64 \u001b[0m\u001b[90m Int64 \u001b[0m\u001b[90m Int64  \u001b[0m\n",
       "──────┼──────────────────────\n",
       "    1 │     5      1       1\n",
       "    2 │     5      2       0\n",
       "    3 │     5      3       0\n",
       "    4 │     5      4       0\n",
       "    5 │     5      5       0\n",
       "    6 │     5      6       0\n",
       "    7 │     5      7       0\n",
       "    8 │     5      8       0\n",
       "  ⋮   │   ⋮      ⋮      ⋮\n",
       " 1994 │     5   1994       0\n",
       " 1995 │     5   1995       1\n",
       " 1996 │     5   1996       0\n",
       " 1997 │     5   1997       1\n",
       " 1998 │     5   1998       0\n",
       " 1999 │     5   1999       0\n",
       " 2000 │     5   2000       4\n",
       "\u001b[36m            1985 rows omitted\u001b[0m, \u001b[1m0×0 DataFrame\u001b[0m)"
      ]
     },
     "metadata": {},
     "output_type": "display_data"
    }
   ],
   "source": [
    "N = 5\n",
    "M = 2000\n",
    "adata = [:wealth]\n",
    "model = wealth_model(numagents = M)\n",
    "data, _ = run!(model, N; adata)\n",
    "data2, _ = run!(model, N; adata, when=4:5)"
   ]
  },
  {
   "cell_type": "code",
   "execution_count": 17,
   "metadata": {},
   "outputs": [
    {
     "data": {
      "text/html": [
       "<div><div style = \"float: left;\"><span>5×3 DataFrame</span></div><div style = \"clear: both;\"></div></div><div class = \"data-frame\" style = \"overflow-x: scroll;\"><table class = \"data-frame\" style = \"margin-bottom: 6px;\"><thead><tr class = \"header\"><th class = \"rowNumber\" style = \"font-weight: bold; text-align: right;\">Row</th><th style = \"text-align: left;\">time</th><th style = \"text-align: left;\">id</th><th style = \"text-align: left;\">wealth</th></tr><tr class = \"subheader headerLastRow\"><th class = \"rowNumber\" style = \"font-weight: bold; text-align: right;\"></th><th title = \"Int64\" style = \"text-align: left;\">Int64</th><th title = \"Int64\" style = \"text-align: left;\">Int64</th><th title = \"Int64\" style = \"text-align: left;\">Int64</th></tr></thead><tbody><tr><td class = \"rowNumber\" style = \"font-weight: bold; text-align: right;\">1</td><td style = \"text-align: right;\">0</td><td style = \"text-align: right;\">1</td><td style = \"text-align: right;\">1</td></tr><tr><td class = \"rowNumber\" style = \"font-weight: bold; text-align: right;\">2</td><td style = \"text-align: right;\">0</td><td style = \"text-align: right;\">2</td><td style = \"text-align: right;\">1</td></tr><tr><td class = \"rowNumber\" style = \"font-weight: bold; text-align: right;\">3</td><td style = \"text-align: right;\">0</td><td style = \"text-align: right;\">3</td><td style = \"text-align: right;\">1</td></tr><tr><td class = \"rowNumber\" style = \"font-weight: bold; text-align: right;\">4</td><td style = \"text-align: right;\">0</td><td style = \"text-align: right;\">4</td><td style = \"text-align: right;\">1</td></tr><tr><td class = \"rowNumber\" style = \"font-weight: bold; text-align: right;\">5</td><td style = \"text-align: right;\">0</td><td style = \"text-align: right;\">5</td><td style = \"text-align: right;\">1</td></tr></tbody></table></div>"
      ],
      "text/latex": [
       "\\begin{tabular}{r|ccc}\n",
       "\t& time & id & wealth\\\\\n",
       "\t\\hline\n",
       "\t& Int64 & Int64 & Int64\\\\\n",
       "\t\\hline\n",
       "\t1 & 0 & 1 & 1 \\\\\n",
       "\t2 & 0 & 2 & 1 \\\\\n",
       "\t3 & 0 & 3 & 1 \\\\\n",
       "\t4 & 0 & 4 & 1 \\\\\n",
       "\t5 & 0 & 5 & 1 \\\\\n",
       "\\end{tabular}\n"
      ],
      "text/plain": [
       "\u001b[1m5×3 DataFrame\u001b[0m\n",
       "\u001b[1m Row \u001b[0m│\u001b[1m time  \u001b[0m\u001b[1m id    \u001b[0m\u001b[1m wealth \u001b[0m\n",
       "     │\u001b[90m Int64 \u001b[0m\u001b[90m Int64 \u001b[0m\u001b[90m Int64  \u001b[0m\n",
       "─────┼──────────────────────\n",
       "   1 │     0      1       1\n",
       "   2 │     0      2       1\n",
       "   3 │     0      3       1\n",
       "   4 │     0      4       1\n",
       "   5 │     0      5       1"
      ]
     },
     "metadata": {},
     "output_type": "display_data"
    }
   ],
   "source": [
    "data[1:5, :]"
   ]
  },
  {
   "cell_type": "code",
   "execution_count": 20,
   "metadata": {},
   "outputs": [
    {
     "data": {
      "text/plain": [
       "StandardABM with 2000 agents of type WealthAgent\n",
       " agents container: Dict\n",
       " space: nothing (no spatial structure)\n",
       " scheduler: Agents.Schedulers.Randomly"
      ]
     },
     "metadata": {},
     "output_type": "display_data"
    }
   ],
   "source": [
    "model = wealth_model(numagents = M)"
   ]
  },
  {
   "cell_type": "code",
   "execution_count": 21,
   "metadata": {},
   "outputs": [
    {
     "data": {
      "text/plain": [
       "(\u001b[1m8000×3 DataFrame\u001b[0m\n",
       "\u001b[1m  Row \u001b[0m│\u001b[1m time  \u001b[0m\u001b[1m id    \u001b[0m\u001b[1m wealth \u001b[0m\n",
       "      │\u001b[90m Int64 \u001b[0m\u001b[90m Int64 \u001b[0m\u001b[90m Int64  \u001b[0m\n",
       "──────┼──────────────────────\n",
       "    1 │     0      1       1\n",
       "    2 │     0      2       1\n",
       "    3 │     0      3       1\n",
       "    4 │     0      4       1\n",
       "    5 │     0      5       1\n",
       "    6 │     0      6       1\n",
       "    7 │     0      7       1\n",
       "    8 │     0      8       1\n",
       "  ⋮   │   ⋮      ⋮      ⋮\n",
       " 7994 │     5   1994       0\n",
       " 7995 │     5   1995       1\n",
       " 7996 │     5   1996       0\n",
       " 7997 │     5   1997       1\n",
       " 7998 │     5   1998       0\n",
       " 7999 │     5   1999       0\n",
       " 8000 │     5   2000       4\n",
       "\u001b[36m            7985 rows omitted\u001b[0m, \u001b[1m0×0 DataFrame\u001b[0m)"
      ]
     },
     "metadata": {},
     "output_type": "display_data"
    }
   ],
   "source": [
    "data3, _ = run!(model, N; adata, when=3:5)"
   ]
  },
  {
   "cell_type": "code",
   "execution_count": 22,
   "metadata": {},
   "outputs": [
    {
     "data": {
      "text/plain": [
       "(\u001b[1m10000×3 DataFrame\u001b[0m\n",
       "\u001b[1m   Row \u001b[0m│\u001b[1m time  \u001b[0m\u001b[1m id    \u001b[0m\u001b[1m wealth \u001b[0m\n",
       "       │\u001b[90m Int64 \u001b[0m\u001b[90m Int64 \u001b[0m\u001b[90m Int64  \u001b[0m\n",
       "───────┼──────────────────────\n",
       "     1 │     0      1       1\n",
       "     2 │     0      2       1\n",
       "     3 │     0      3       1\n",
       "     4 │     0      4       1\n",
       "     5 │     0      5       1\n",
       "     6 │     0      6       1\n",
       "     7 │     0      7       1\n",
       "     8 │     0      8       1\n",
       "   ⋮   │   ⋮      ⋮      ⋮\n",
       "  9994 │     5   1994       0\n",
       "  9995 │     5   1995       1\n",
       "  9996 │     5   1996       0\n",
       "  9997 │     5   1997       1\n",
       "  9998 │     5   1998       0\n",
       "  9999 │     5   1999       0\n",
       " 10000 │     5   2000       4\n",
       "\u001b[36m             9985 rows omitted\u001b[0m, \u001b[1m0×0 DataFrame\u001b[0m)"
      ]
     },
     "metadata": {},
     "output_type": "display_data"
    }
   ],
   "source": [
    "model = wealth_model(numagents = M)\n",
    "data4, _ = run!(model, N; adata, when=2:5)"
   ]
  },
  {
   "cell_type": "code",
   "execution_count": 23,
   "metadata": {},
   "outputs": [
    {
     "data": {
      "text/plain": [
       "(\u001b[1m6000×3 DataFrame\u001b[0m\n",
       "\u001b[1m  Row \u001b[0m│\u001b[1m time  \u001b[0m\u001b[1m id    \u001b[0m\u001b[1m wealth \u001b[0m\n",
       "      │\u001b[90m Int64 \u001b[0m\u001b[90m Int64 \u001b[0m\u001b[90m Int64  \u001b[0m\n",
       "──────┼──────────────────────\n",
       "    1 │     0      1       1\n",
       "    2 │     0      2       1\n",
       "    3 │     0      3       1\n",
       "    4 │     0      4       1\n",
       "    5 │     0      5       1\n",
       "    6 │     0      6       1\n",
       "    7 │     0      7       1\n",
       "    8 │     0      8       1\n",
       "  ⋮   │   ⋮      ⋮      ⋮\n",
       " 5994 │     4   1994       0\n",
       " 5995 │     4   1995       0\n",
       " 5996 │     4   1996       1\n",
       " 5997 │     4   1997       2\n",
       " 5998 │     4   1998       1\n",
       " 5999 │     4   1999       0\n",
       " 6000 │     4   2000       4\n",
       "\u001b[36m            5985 rows omitted\u001b[0m, \u001b[1m0×0 DataFrame\u001b[0m)"
      ]
     },
     "metadata": {},
     "output_type": "display_data"
    }
   ],
   "source": [
    "model = wealth_model(numagents = M)\n",
    "data5, _ = run!(model, N; adata, when=2)"
   ]
  },
  {
   "cell_type": "code",
   "execution_count": 27,
   "metadata": {},
   "outputs": [
    {
     "data": {
      "text/plain": [
       "(\u001b[1m8000×3 DataFrame\u001b[0m\n",
       "\u001b[1m  Row \u001b[0m│\u001b[1m time  \u001b[0m\u001b[1m id    \u001b[0m\u001b[1m wealth \u001b[0m\n",
       "      │\u001b[90m Int64 \u001b[0m\u001b[90m Int64 \u001b[0m\u001b[90m Int64  \u001b[0m\n",
       "──────┼──────────────────────\n",
       "    1 │     0      1       1\n",
       "    2 │     0      2       1\n",
       "    3 │     0      3       1\n",
       "    4 │     0      4       1\n",
       "    5 │     0      5       1\n",
       "    6 │     0      6       1\n",
       "    7 │     0      7       1\n",
       "    8 │     0      8       1\n",
       "  ⋮   │   ⋮      ⋮      ⋮\n",
       " 7994 │     5   1994       0\n",
       " 7995 │     5   1995       1\n",
       " 7996 │     5   1996       0\n",
       " 7997 │     5   1997       1\n",
       " 7998 │     5   1998       0\n",
       " 7999 │     5   1999       0\n",
       " 8000 │     5   2000       4\n",
       "\u001b[36m            7985 rows omitted\u001b[0m, \u001b[1m0×0 DataFrame\u001b[0m)"
      ]
     },
     "metadata": {},
     "output_type": "display_data"
    }
   ],
   "source": [
    "model = wealth_model(numagents = M)\n",
    "data6, _ = run!(model, N; adata, when = [3,4,5])"
   ]
  },
  {
   "cell_type": "code",
   "execution_count": 29,
   "metadata": {},
   "outputs": [
    {
     "ename": "ArgumentError",
     "evalue": "ArgumentError: invalid row index of type Bool",
     "output_type": "error",
     "traceback": [
      "ArgumentError: invalid row index of type Bool\n",
      "\n",
      "Stacktrace:\n",
      " [1] DataFrameRow\n",
      "   @ C:\\Users\\xingfu_2\\.julia\\packages\\DataFrames\\58MUJ\\src\\dataframerow\\dataframerow.jl:98 [inlined]\n",
      " [2] getindex(df::DataFrames.DataFrame, rowind::Bool, ::Colon)\n",
      "   @ DataFrames C:\\Users\\xingfu_2\\.julia\\packages\\DataFrames\\58MUJ\\src\\dataframerow\\dataframerow.jl:210\n",
      " [3] top-level scope\n",
      "   @ d:\\jianguo\\myvscode\\Julia\\Julia-2024-04-03.ipynb:1"
     ]
    }
   ],
   "source": [
    "data6[:id==1, :]"
   ]
  },
  {
   "cell_type": "code",
   "execution_count": 30,
   "metadata": {},
   "outputs": [
    {
     "ename": "UndefVarError",
     "evalue": "UndefVarError: `groupby` not defined",
     "output_type": "error",
     "traceback": [
      "UndefVarError: `groupby` not defined\n",
      "\n",
      "Stacktrace:\n",
      " [1] top-level scope\n",
      "   @ d:\\jianguo\\myvscode\\Julia\\Julia-2024-04-03.ipynb:1"
     ]
    }
   ],
   "source": [
    "combine(first, groupby(data6, :time))"
   ]
  },
  {
   "cell_type": "code",
   "execution_count": 31,
   "metadata": {},
   "outputs": [
    {
     "data": {
      "text/plain": [
       "DataFrames.DataFrame"
      ]
     },
     "metadata": {},
     "output_type": "display_data"
    }
   ],
   "source": [
    "typeof(data6)"
   ]
  },
  {
   "cell_type": "code",
   "execution_count": 32,
   "metadata": {},
   "outputs": [
    {
     "data": {
      "text/plain": [
       "3-element Vector{DataType}:\n",
       " Int64\n",
       " Int64\n",
       " Int64"
      ]
     },
     "metadata": {},
     "output_type": "display_data"
    }
   ],
   "source": [
    "eltype.(eachcol(data6))"
   ]
  },
  {
   "cell_type": "code",
   "execution_count": 33,
   "metadata": {},
   "outputs": [
    {
     "data": {
      "text/plain": [
       "3-element Vector{String}:\n",
       " \"time\"\n",
       " \"id\"\n",
       " \"wealth\""
      ]
     },
     "metadata": {},
     "output_type": "display_data"
    }
   ],
   "source": [
    "names(data6)"
   ]
  },
  {
   "cell_type": "code",
   "execution_count": 35,
   "metadata": {},
   "outputs": [
    {
     "name": "stdout",
     "output_type": "stream",
     "text": [
      "DataFrames.DataFrame\n",
      "  columns: Array{AbstractVector}((3,))\n",
      "    1: Array{Int64}((8000,)) [0, 0, 0, 0, 0, 0, 0, 0, 0, 0  …  5, 5, 5, 5, 5, 5, 5, 5, 5, 5]\n",
      "    2: Array{Int64}((8000,)) [1, 2, 3, 4, 5, 6, 7, 8, 9, 10  …  1991, 1992, 1993, 1994, 1995, 1996, 1997, 1998, 1999, 2000]\n",
      "    3: Array{Int64}((8000,)) [1, 1, 1, 1, 1, 1, 1, 1, 1, 1  …  0, 1, 1, 0, 1, 0, 1, 0, 0, 4]\n",
      "  colindex: DataFrames.Index\n",
      "    lookup: Dict{Symbol, Int64}\n",
      "      slots: Array{UInt8}((16,)) UInt8[0x00, 0x00, 0x00, 0x00, 0x00, 0xa2, 0x00, 0x00, 0xf7, 0x00, 0x00, 0x00, 0x00, 0x00, 0x00, 0xfd]\n",
      "      keys: Array{Symbol}((16,))\n",
      "        1: #undef\n",
      "        2: #undef\n",
      "        3: #undef\n",
      "        4: #undef\n",
      "        5: #undef\n",
      "        ...\n",
      "        12: #undef\n",
      "        13: #undef\n",
      "        14: #undef\n",
      "        15: #undef\n",
      "        16: Symbol time\n",
      "      vals: Array{Int64}((16,)) [1467152104112, 0, 1468700381520, 0, 140719781687664, 2, 140719756999808, 0, 3, 0, 1467151499744, 0, 140719781687664, 0, 140719781687600, 1]\n",
      "      ndel: Int64 0\n",
      "      count: Int64 3\n",
      "      age: UInt64 0x0000000000000003\n",
      "      idxfloor: Int64 6\n",
      "      maxprobe: Int64 0\n",
      "    names: Array{Symbol}((3,))\n",
      "      1: Symbol time\n",
      "      2: Symbol id\n",
      "      3: Symbol wealth\n",
      "  metadata: Nothing nothing\n",
      "  colmetadata: Nothing nothing\n",
      "  allnotemetadata: Bool true\n"
     ]
    }
   ],
   "source": [
    "dump(data6)"
   ]
  },
  {
   "cell_type": "code",
   "execution_count": 36,
   "metadata": {},
   "outputs": [
    {
     "data": {
      "text/plain": [
       "DataFrames.DataFrame"
      ]
     },
     "metadata": {},
     "output_type": "display_data"
    }
   ],
   "source": [
    "typeof(data6)"
   ]
  },
  {
   "cell_type": "code",
   "execution_count": 40,
   "metadata": {},
   "outputs": [],
   "source": [
    "using DataFrames"
   ]
  },
  {
   "cell_type": "code",
   "execution_count": 41,
   "metadata": {},
   "outputs": [
    {
     "data": {
      "text/html": [
       "<div><div style = \"float: left;\"><span>3×7 DataFrame</span></div><div style = \"clear: both;\"></div></div><div class = \"data-frame\" style = \"overflow-x: scroll;\"><table class = \"data-frame\" style = \"margin-bottom: 6px;\"><thead><tr class = \"header\"><th class = \"rowNumber\" style = \"font-weight: bold; text-align: right;\">Row</th><th style = \"text-align: left;\">variable</th><th style = \"text-align: left;\">mean</th><th style = \"text-align: left;\">min</th><th style = \"text-align: left;\">median</th><th style = \"text-align: left;\">max</th><th style = \"text-align: left;\">nmissing</th><th style = \"text-align: left;\">eltype</th></tr><tr class = \"subheader headerLastRow\"><th class = \"rowNumber\" style = \"font-weight: bold; text-align: right;\"></th><th title = \"Symbol\" style = \"text-align: left;\">Symbol</th><th title = \"Float64\" style = \"text-align: left;\">Float64</th><th title = \"Int64\" style = \"text-align: left;\">Int64</th><th title = \"Float64\" style = \"text-align: left;\">Float64</th><th title = \"Int64\" style = \"text-align: left;\">Int64</th><th title = \"Int64\" style = \"text-align: left;\">Int64</th><th title = \"DataType\" style = \"text-align: left;\">DataType</th></tr></thead><tbody><tr><td class = \"rowNumber\" style = \"font-weight: bold; text-align: right;\">1</td><td style = \"text-align: left;\">time</td><td style = \"text-align: right;\">3.0</td><td style = \"text-align: right;\">0</td><td style = \"text-align: right;\">3.5</td><td style = \"text-align: right;\">5</td><td style = \"text-align: right;\">0</td><td style = \"text-align: left;\">Int64</td></tr><tr><td class = \"rowNumber\" style = \"font-weight: bold; text-align: right;\">2</td><td style = \"text-align: left;\">id</td><td style = \"text-align: right;\">1000.5</td><td style = \"text-align: right;\">1</td><td style = \"text-align: right;\">1000.5</td><td style = \"text-align: right;\">2000</td><td style = \"text-align: right;\">0</td><td style = \"text-align: left;\">Int64</td></tr><tr><td class = \"rowNumber\" style = \"font-weight: bold; text-align: right;\">3</td><td style = \"text-align: left;\">wealth</td><td style = \"text-align: right;\">1.0</td><td style = \"text-align: right;\">0</td><td style = \"text-align: right;\">1.0</td><td style = \"text-align: right;\">9</td><td style = \"text-align: right;\">0</td><td style = \"text-align: left;\">Int64</td></tr></tbody></table></div>"
      ],
      "text/latex": [
       "\\begin{tabular}{r|ccccccc}\n",
       "\t& variable & mean & min & median & max & nmissing & eltype\\\\\n",
       "\t\\hline\n",
       "\t& Symbol & Float64 & Int64 & Float64 & Int64 & Int64 & DataType\\\\\n",
       "\t\\hline\n",
       "\t1 & time & 3.0 & 0 & 3.5 & 5 & 0 & Int64 \\\\\n",
       "\t2 & id & 1000.5 & 1 & 1000.5 & 2000 & 0 & Int64 \\\\\n",
       "\t3 & wealth & 1.0 & 0 & 1.0 & 9 & 0 & Int64 \\\\\n",
       "\\end{tabular}\n"
      ],
      "text/plain": [
       "\u001b[1m3×7 DataFrame\u001b[0m\n",
       "\u001b[1m Row \u001b[0m│\u001b[1m variable \u001b[0m\u001b[1m mean    \u001b[0m\u001b[1m min   \u001b[0m\u001b[1m median  \u001b[0m\u001b[1m max   \u001b[0m\u001b[1m nmissing \u001b[0m\u001b[1m eltype   \u001b[0m\n",
       "     │\u001b[90m Symbol   \u001b[0m\u001b[90m Float64 \u001b[0m\u001b[90m Int64 \u001b[0m\u001b[90m Float64 \u001b[0m\u001b[90m Int64 \u001b[0m\u001b[90m Int64    \u001b[0m\u001b[90m DataType \u001b[0m\n",
       "─────┼──────────────────────────────────────────────────────────────\n",
       "   1 │ time          3.0      0      3.5      5         0  Int64\n",
       "   2 │ id         1000.5      1   1000.5   2000         0  Int64\n",
       "   3 │ wealth        1.0      0      1.0      9         0  Int64"
      ]
     },
     "metadata": {},
     "output_type": "display_data"
    }
   ],
   "source": [
    "describe(data6)"
   ]
  },
  {
   "cell_type": "code",
   "execution_count": 42,
   "metadata": {},
   "outputs": [
    {
     "ename": "MethodError",
     "evalue": "MethodError: no method matching fieldnames(::DataFrame)\n\nClosest candidates are:\n  fieldnames(!Matched::Core.TypeofBottom)\n   @ Base reflection.jl:170\n  fieldnames(!Matched::Type{<:Tuple})\n   @ Base reflection.jl:172\n  fieldnames(!Matched::UnionAll)\n   @ Base reflection.jl:169\n  ...\n",
     "output_type": "error",
     "traceback": [
      "MethodError: no method matching fieldnames(::DataFrame)\n",
      "\n",
      "Closest candidates are:\n",
      "  fieldnames(!Matched::Core.TypeofBottom)\n",
      "   @ Base reflection.jl:170\n",
      "  fieldnames(!Matched::Type{<:Tuple})\n",
      "   @ Base reflection.jl:172\n",
      "  fieldnames(!Matched::UnionAll)\n",
      "   @ Base reflection.jl:169\n",
      "  ...\n",
      "\n",
      "\n",
      "Stacktrace:\n",
      " [1] top-level scope\n",
      "   @ d:\\jianguo\\myvscode\\Julia\\Julia-2024-04-03.ipynb:1"
     ]
    }
   ],
   "source": [
    "fieldnames(data6)"
   ]
  },
  {
   "cell_type": "code",
   "execution_count": 43,
   "metadata": {},
   "outputs": [
    {
     "data": {
      "text/html": [
       "<div><div style = \"float: left;\"><span>1×2 DataFrame</span></div><div style = \"clear: both;\"></div></div><div class = \"data-frame\" style = \"overflow-x: scroll;\"><table class = \"data-frame\" style = \"margin-bottom: 6px;\"><thead><tr class = \"header\"><th class = \"rowNumber\" style = \"font-weight: bold; text-align: right;\">Row</th><th style = \"text-align: left;\">col1</th><th style = \"text-align: left;\">col 2</th></tr><tr class = \"subheader headerLastRow\"><th class = \"rowNumber\" style = \"font-weight: bold; text-align: right;\"></th><th title = \"Int64\" style = \"text-align: left;\">Int64</th><th title = \"Int64\" style = \"text-align: left;\">Int64</th></tr></thead><tbody><tr><td class = \"rowNumber\" style = \"font-weight: bold; text-align: right;\">1</td><td style = \"text-align: right;\">1</td><td style = \"text-align: right;\">2</td></tr></tbody></table></div>"
      ],
      "text/latex": [
       "\\begin{tabular}{r|cc}\n",
       "\t& col1 & col 2\\\\\n",
       "\t\\hline\n",
       "\t& Int64 & Int64\\\\\n",
       "\t\\hline\n",
       "\t1 & 1 & 2 \\\\\n",
       "\\end{tabular}\n"
      ],
      "text/plain": [
       "\u001b[1m1×2 DataFrame\u001b[0m\n",
       "\u001b[1m Row \u001b[0m│\u001b[1m col1  \u001b[0m\u001b[1m col 2 \u001b[0m\n",
       "     │\u001b[90m Int64 \u001b[0m\u001b[90m Int64 \u001b[0m\n",
       "─────┼──────────────\n",
       "   1 │     1      2"
      ]
     },
     "metadata": {},
     "output_type": "display_data"
    }
   ],
   "source": [
    "df = DataFrame(:col1 => 1, Symbol(\"col 2\") => 2)"
   ]
  },
  {
   "cell_type": "code",
   "execution_count": 44,
   "metadata": {},
   "outputs": [
    {
     "data": {
      "text/plain": [
       "1-element Vector{UnitRange{Int64}}:\n",
       " 5:10"
      ]
     },
     "metadata": {},
     "output_type": "display_data"
    }
   ],
   "source": [
    "aa=[5:10]"
   ]
  },
  {
   "cell_type": "code",
   "execution_count": 45,
   "metadata": {},
   "outputs": [
    {
     "data": {
      "text/plain": [
       "5:10"
      ]
     },
     "metadata": {},
     "output_type": "display_data"
    }
   ],
   "source": [
    "aa2=5:10"
   ]
  },
  {
   "cell_type": "code",
   "execution_count": 46,
   "metadata": {},
   "outputs": [
    {
     "data": {
      "text/plain": [
       "6-element Vector{Int64}:\n",
       "  5\n",
       "  6\n",
       "  7\n",
       "  8\n",
       "  9\n",
       " 10"
      ]
     },
     "metadata": {},
     "output_type": "display_data"
    }
   ],
   "source": [
    "aa3=[5:10;]"
   ]
  },
  {
   "cell_type": "code",
   "execution_count": 48,
   "metadata": {},
   "outputs": [
    {
     "data": {
      "text/plain": [
       "3-element Vector{Int64}:\n",
       " 3\n",
       " 4\n",
       " 5"
      ]
     },
     "metadata": {},
     "output_type": "display_data"
    }
   ],
   "source": [
    "aa4=[3:5;]"
   ]
  },
  {
   "cell_type": "code",
   "execution_count": 49,
   "metadata": {},
   "outputs": [
    {
     "data": {
      "text/plain": [
       "(\u001b[1m8000×3 DataFrame\u001b[0m\n",
       "\u001b[1m  Row \u001b[0m│\u001b[1m time  \u001b[0m\u001b[1m id    \u001b[0m\u001b[1m wealth \u001b[0m\n",
       "      │\u001b[90m Int64 \u001b[0m\u001b[90m Int64 \u001b[0m\u001b[90m Int64  \u001b[0m\n",
       "──────┼──────────────────────\n",
       "    1 │     0      1       1\n",
       "    2 │     0      2       1\n",
       "    3 │     0      3       1\n",
       "    4 │     0      4       1\n",
       "    5 │     0      5       1\n",
       "    6 │     0      6       1\n",
       "    7 │     0      7       1\n",
       "    8 │     0      8       1\n",
       "  ⋮   │   ⋮      ⋮      ⋮\n",
       " 7994 │     5   1994       0\n",
       " 7995 │     5   1995       1\n",
       " 7996 │     5   1996       0\n",
       " 7997 │     5   1997       1\n",
       " 7998 │     5   1998       0\n",
       " 7999 │     5   1999       0\n",
       " 8000 │     5   2000       4\n",
       "\u001b[36m            7985 rows omitted\u001b[0m, \u001b[1m0×0 DataFrame\u001b[0m)"
      ]
     },
     "metadata": {},
     "output_type": "display_data"
    }
   ],
   "source": [
    "model = wealth_model(numagents = M)\n",
    "data7, _ = run!(model, N; adata, when=aa4)"
   ]
  },
  {
   "cell_type": "code",
   "execution_count": 50,
   "metadata": {},
   "outputs": [
    {
     "data": {
      "text/plain": [
       "3-element Vector{Symbol}:\n",
       " :time\n",
       " :id\n",
       " :wealth"
      ]
     },
     "metadata": {},
     "output_type": "display_data"
    }
   ],
   "source": [
    "propertynames(data7)"
   ]
  },
  {
   "cell_type": "code",
   "execution_count": 51,
   "metadata": {},
   "outputs": [
    {
     "data": {
      "text/html": [
       "<div><div style = \"float: left;\"><span>4×3 DataFrame</span></div><div style = \"clear: both;\"></div></div><div class = \"data-frame\" style = \"overflow-x: scroll;\"><table class = \"data-frame\" style = \"margin-bottom: 6px;\"><thead><tr class = \"header\"><th class = \"rowNumber\" style = \"font-weight: bold; text-align: right;\">Row</th><th style = \"text-align: left;\">time</th><th style = \"text-align: left;\">id</th><th style = \"text-align: left;\">wealth</th></tr><tr class = \"subheader headerLastRow\"><th class = \"rowNumber\" style = \"font-weight: bold; text-align: right;\"></th><th title = \"Int64\" style = \"text-align: left;\">Int64</th><th title = \"Int64\" style = \"text-align: left;\">Int64</th><th title = \"Int64\" style = \"text-align: left;\">Int64</th></tr></thead><tbody><tr><td class = \"rowNumber\" style = \"font-weight: bold; text-align: right;\">1</td><td style = \"text-align: right;\">0</td><td style = \"text-align: right;\">1</td><td style = \"text-align: right;\">1</td></tr><tr><td class = \"rowNumber\" style = \"font-weight: bold; text-align: right;\">2</td><td style = \"text-align: right;\">3</td><td style = \"text-align: right;\">1</td><td style = \"text-align: right;\">0</td></tr><tr><td class = \"rowNumber\" style = \"font-weight: bold; text-align: right;\">3</td><td style = \"text-align: right;\">4</td><td style = \"text-align: right;\">1</td><td style = \"text-align: right;\">0</td></tr><tr><td class = \"rowNumber\" style = \"font-weight: bold; text-align: right;\">4</td><td style = \"text-align: right;\">5</td><td style = \"text-align: right;\">1</td><td style = \"text-align: right;\">1</td></tr></tbody></table></div>"
      ],
      "text/latex": [
       "\\begin{tabular}{r|ccc}\n",
       "\t& time & id & wealth\\\\\n",
       "\t\\hline\n",
       "\t& Int64 & Int64 & Int64\\\\\n",
       "\t\\hline\n",
       "\t1 & 0 & 1 & 1 \\\\\n",
       "\t2 & 3 & 1 & 0 \\\\\n",
       "\t3 & 4 & 1 & 0 \\\\\n",
       "\t4 & 5 & 1 & 1 \\\\\n",
       "\\end{tabular}\n"
      ],
      "text/plain": [
       "\u001b[1m4×3 DataFrame\u001b[0m\n",
       "\u001b[1m Row \u001b[0m│\u001b[1m time  \u001b[0m\u001b[1m id    \u001b[0m\u001b[1m wealth \u001b[0m\n",
       "     │\u001b[90m Int64 \u001b[0m\u001b[90m Int64 \u001b[0m\u001b[90m Int64  \u001b[0m\n",
       "─────┼──────────────────────\n",
       "   1 │     0      1       1\n",
       "   2 │     3      1       0\n",
       "   3 │     4      1       0\n",
       "   4 │     5      1       1"
      ]
     },
     "metadata": {},
     "output_type": "display_data"
    }
   ],
   "source": [
    "combine(first, groupby(data7, :time))"
   ]
  },
  {
   "cell_type": "code",
   "execution_count": 52,
   "metadata": {},
   "outputs": [
    {
     "data": {
      "text/html": [
       "<div><div style = \"float: left;\"><span>5×2 DataFrame</span></div><div style = \"clear: both;\"></div></div><div class = \"data-frame\" style = \"overflow-x: scroll;\"><table class = \"data-frame\" style = \"margin-bottom: 6px;\"><thead><tr class = \"header\"><th class = \"rowNumber\" style = \"font-weight: bold; text-align: right;\">Row</th><th style = \"text-align: left;\">A</th><th style = \"text-align: left;\">B</th></tr><tr class = \"subheader headerLastRow\"><th class = \"rowNumber\" style = \"font-weight: bold; text-align: right;\"></th><th title = \"Int64\" style = \"text-align: left;\">Int64</th><th title = \"String\" style = \"text-align: left;\">String</th></tr></thead><tbody><tr><td class = \"rowNumber\" style = \"font-weight: bold; text-align: right;\">1</td><td style = \"text-align: right;\">1</td><td style = \"text-align: left;\">a</td></tr><tr><td class = \"rowNumber\" style = \"font-weight: bold; text-align: right;\">2</td><td style = \"text-align: right;\">3</td><td style = \"text-align: left;\">c</td></tr><tr><td class = \"rowNumber\" style = \"font-weight: bold; text-align: right;\">3</td><td style = \"text-align: right;\">4</td><td style = \"text-align: left;\">c</td></tr><tr><td class = \"rowNumber\" style = \"font-weight: bold; text-align: right;\">4</td><td style = \"text-align: right;\">7</td><td style = \"text-align: left;\">D</td></tr><tr><td class = \"rowNumber\" style = \"font-weight: bold; text-align: right;\">5</td><td style = \"text-align: right;\">9</td><td style = \"text-align: left;\">c</td></tr></tbody></table></div>"
      ],
      "text/latex": [
       "\\begin{tabular}{r|cc}\n",
       "\t& A & B\\\\\n",
       "\t\\hline\n",
       "\t& Int64 & String\\\\\n",
       "\t\\hline\n",
       "\t1 & 1 & a \\\\\n",
       "\t2 & 3 & c \\\\\n",
       "\t3 & 4 & c \\\\\n",
       "\t4 & 7 & D \\\\\n",
       "\t5 & 9 & c \\\\\n",
       "\\end{tabular}\n"
      ],
      "text/plain": [
       "\u001b[1m5×2 DataFrame\u001b[0m\n",
       "\u001b[1m Row \u001b[0m│\u001b[1m A     \u001b[0m\u001b[1m B      \u001b[0m\n",
       "     │\u001b[90m Int64 \u001b[0m\u001b[90m String \u001b[0m\n",
       "─────┼───────────────\n",
       "   1 │     1  a\n",
       "   2 │     3  c\n",
       "   3 │     4  c\n",
       "   4 │     7  D\n",
       "   5 │     9  c"
      ]
     },
     "metadata": {},
     "output_type": "display_data"
    }
   ],
   "source": [
    "d_f = DataFrame(A=[ 1, 3, 4, 7, 9], B=[\"a\", \"c\", \"c\", \"D\", \"c\"])"
   ]
  },
  {
   "cell_type": "code",
   "execution_count": 53,
   "metadata": {},
   "outputs": [
    {
     "data": {
      "text/plain": [
       "2-element Vector{Symbol}:\n",
       " :A\n",
       " :B"
      ]
     },
     "metadata": {},
     "output_type": "display_data"
    }
   ],
   "source": [
    "propertynames(d_f)"
   ]
  },
  {
   "cell_type": "code",
   "execution_count": 54,
   "metadata": {},
   "outputs": [
    {
     "ename": "ErrorException",
     "evalue": "syntax: invalid keyword argument name \":A\" around d:\\jianguo\\myvscode\\Julia\\Julia-2024-04-03.ipynb:1",
     "output_type": "error",
     "traceback": [
      "syntax: invalid keyword argument name \":A\" around d:\\jianguo\\myvscode\\Julia\\Julia-2024-04-03.ipynb:1\n",
      "\n",
      "Stacktrace:\n",
      " [1] top-level scope\n",
      "   @ d:\\jianguo\\myvscode\\Julia\\Julia-2024-04-03.ipynb:1"
     ]
    }
   ],
   "source": [
    "d_f2 = DataFrame(:A=[ 1, 3, 4, 7, 9], :B=[\"a\", \"c\", \"c\", \"D\", \"c\"])"
   ]
  },
  {
   "cell_type": "code",
   "execution_count": 55,
   "metadata": {},
   "outputs": [
    {
     "data": {
      "text/html": [
       "<div><div style = \"float: left;\"><span>3×3 DataFrame</span></div><div style = \"clear: both;\"></div></div><div class = \"data-frame\" style = \"overflow-x: scroll;\"><table class = \"data-frame\" style = \"margin-bottom: 6px;\"><thead><tr class = \"header\"><th class = \"rowNumber\" style = \"font-weight: bold; text-align: right;\">Row</th><th style = \"text-align: left;\">A</th><th style = \"text-align: left;\">B</th><th style = \"text-align: left;\">fixed</th></tr><tr class = \"subheader headerLastRow\"><th class = \"rowNumber\" style = \"font-weight: bold; text-align: right;\"></th><th title = \"Int64\" style = \"text-align: left;\">Int64</th><th title = \"Int64\" style = \"text-align: left;\">Int64</th><th title = \"Int64\" style = \"text-align: left;\">Int64</th></tr></thead><tbody><tr><td class = \"rowNumber\" style = \"font-weight: bold; text-align: right;\">1</td><td style = \"text-align: right;\">1</td><td style = \"text-align: right;\">5</td><td style = \"text-align: right;\">1</td></tr><tr><td class = \"rowNumber\" style = \"font-weight: bold; text-align: right;\">2</td><td style = \"text-align: right;\">2</td><td style = \"text-align: right;\">6</td><td style = \"text-align: right;\">1</td></tr><tr><td class = \"rowNumber\" style = \"font-weight: bold; text-align: right;\">3</td><td style = \"text-align: right;\">3</td><td style = \"text-align: right;\">7</td><td style = \"text-align: right;\">1</td></tr></tbody></table></div>"
      ],
      "text/latex": [
       "\\begin{tabular}{r|ccc}\n",
       "\t& A & B & fixed\\\\\n",
       "\t\\hline\n",
       "\t& Int64 & Int64 & Int64\\\\\n",
       "\t\\hline\n",
       "\t1 & 1 & 5 & 1 \\\\\n",
       "\t2 & 2 & 6 & 1 \\\\\n",
       "\t3 & 3 & 7 & 1 \\\\\n",
       "\\end{tabular}\n"
      ],
      "text/plain": [
       "\u001b[1m3×3 DataFrame\u001b[0m\n",
       "\u001b[1m Row \u001b[0m│\u001b[1m A     \u001b[0m\u001b[1m B     \u001b[0m\u001b[1m fixed \u001b[0m\n",
       "     │\u001b[90m Int64 \u001b[0m\u001b[90m Int64 \u001b[0m\u001b[90m Int64 \u001b[0m\n",
       "─────┼─────────────────────\n",
       "   1 │     1      5      1\n",
       "   2 │     2      6      1\n",
       "   3 │     3      7      1"
      ]
     },
     "metadata": {},
     "output_type": "display_data"
    }
   ],
   "source": [
    "d_f3=DataFrame(A=1:3, B=5:7, fixed=1)"
   ]
  },
  {
   "cell_type": "code",
   "execution_count": 56,
   "metadata": {},
   "outputs": [
    {
     "data": {
      "text/plain": [
       "3-element Vector{Symbol}:\n",
       " :A\n",
       " :B\n",
       " :fixed"
      ]
     },
     "metadata": {},
     "output_type": "display_data"
    }
   ],
   "source": [
    "propertynames(d_f3)"
   ]
  },
  {
   "cell_type": "code",
   "execution_count": 57,
   "metadata": {},
   "outputs": [
    {
     "data": {
      "text/plain": [
       "(\u001b[1m6000×3 DataFrame\u001b[0m\n",
       "\u001b[1m  Row \u001b[0m│\u001b[1m time  \u001b[0m\u001b[1m id    \u001b[0m\u001b[1m wealth \u001b[0m\n",
       "      │\u001b[90m Int64 \u001b[0m\u001b[90m Int64 \u001b[0m\u001b[90m Int64  \u001b[0m\n",
       "──────┼──────────────────────\n",
       "    1 │     0      1       1\n",
       "    2 │     0      2       1\n",
       "    3 │     0      3       1\n",
       "    4 │     0      4       1\n",
       "    5 │     0      5       1\n",
       "    6 │     0      6       1\n",
       "    7 │     0      7       1\n",
       "    8 │     0      8       1\n",
       "  ⋮   │   ⋮      ⋮      ⋮\n",
       " 5994 │     5   1994       0\n",
       " 5995 │     5   1995       1\n",
       " 5996 │     5   1996       0\n",
       " 5997 │     5   1997       1\n",
       " 5998 │     5   1998       0\n",
       " 5999 │     5   1999       0\n",
       " 6000 │     5   2000       4\n",
       "\u001b[36m            5985 rows omitted\u001b[0m, \u001b[1m0×0 DataFrame\u001b[0m)"
      ]
     },
     "metadata": {},
     "output_type": "display_data"
    }
   ],
   "source": [
    "model = wealth_model(numagents = M)\n",
    "data2, _ = run!(model, N; adata, when=4:5)"
   ]
  },
  {
   "cell_type": "code",
   "execution_count": 59,
   "metadata": {},
   "outputs": [
    {
     "data": {
      "text/html": [
       "<div><div style = \"float: left;\"><span>3×3 DataFrame</span></div><div style = \"clear: both;\"></div></div><div class = \"data-frame\" style = \"overflow-x: scroll;\"><table class = \"data-frame\" style = \"margin-bottom: 6px;\"><thead><tr class = \"header\"><th class = \"rowNumber\" style = \"font-weight: bold; text-align: right;\">Row</th><th style = \"text-align: left;\">time</th><th style = \"text-align: left;\">id</th><th style = \"text-align: left;\">wealth</th></tr><tr class = \"subheader headerLastRow\"><th class = \"rowNumber\" style = \"font-weight: bold; text-align: right;\"></th><th title = \"Int64\" style = \"text-align: left;\">Int64</th><th title = \"Int64\" style = \"text-align: left;\">Int64</th><th title = \"Int64\" style = \"text-align: left;\">Int64</th></tr></thead><tbody><tr><td class = \"rowNumber\" style = \"font-weight: bold; text-align: right;\">1</td><td style = \"text-align: right;\">0</td><td style = \"text-align: right;\">1</td><td style = \"text-align: right;\">1</td></tr><tr><td class = \"rowNumber\" style = \"font-weight: bold; text-align: right;\">2</td><td style = \"text-align: right;\">4</td><td style = \"text-align: right;\">1</td><td style = \"text-align: right;\">0</td></tr><tr><td class = \"rowNumber\" style = \"font-weight: bold; text-align: right;\">3</td><td style = \"text-align: right;\">5</td><td style = \"text-align: right;\">1</td><td style = \"text-align: right;\">1</td></tr></tbody></table></div>"
      ],
      "text/latex": [
       "\\begin{tabular}{r|ccc}\n",
       "\t& time & id & wealth\\\\\n",
       "\t\\hline\n",
       "\t& Int64 & Int64 & Int64\\\\\n",
       "\t\\hline\n",
       "\t1 & 0 & 1 & 1 \\\\\n",
       "\t2 & 4 & 1 & 0 \\\\\n",
       "\t3 & 5 & 1 & 1 \\\\\n",
       "\\end{tabular}\n"
      ],
      "text/plain": [
       "\u001b[1m3×3 DataFrame\u001b[0m\n",
       "\u001b[1m Row \u001b[0m│\u001b[1m time  \u001b[0m\u001b[1m id    \u001b[0m\u001b[1m wealth \u001b[0m\n",
       "     │\u001b[90m Int64 \u001b[0m\u001b[90m Int64 \u001b[0m\u001b[90m Int64  \u001b[0m\n",
       "─────┼──────────────────────\n",
       "   1 │     0      1       1\n",
       "   2 │     4      1       0\n",
       "   3 │     5      1       1"
      ]
     },
     "metadata": {},
     "output_type": "display_data"
    }
   ],
   "source": [
    "combine(first, groupby(data2, :time))"
   ]
  },
  {
   "cell_type": "code",
   "execution_count": 60,
   "metadata": {},
   "outputs": [
    {
     "data": {
      "text/plain": [
       "(\u001b[1m12000×3 DataFrame\u001b[0m\n",
       "\u001b[1m   Row \u001b[0m│\u001b[1m time  \u001b[0m\u001b[1m id    \u001b[0m\u001b[1m wealth \u001b[0m\n",
       "       │\u001b[90m Int64 \u001b[0m\u001b[90m Int64 \u001b[0m\u001b[90m Int64  \u001b[0m\n",
       "───────┼──────────────────────\n",
       "     1 │     0      1       1\n",
       "     2 │     0      2       1\n",
       "     3 │     0      3       1\n",
       "     4 │     0      4       1\n",
       "     5 │     0      5       1\n",
       "     6 │     0      6       1\n",
       "     7 │     0      7       1\n",
       "     8 │     0      8       1\n",
       "   ⋮   │   ⋮      ⋮      ⋮\n",
       " 11994 │     5   1994       0\n",
       " 11995 │     5   1995       1\n",
       " 11996 │     5   1996       0\n",
       " 11997 │     5   1997       1\n",
       " 11998 │     5   1998       0\n",
       " 11999 │     5   1999       0\n",
       " 12000 │     5   2000       4\n",
       "\u001b[36m            11985 rows omitted\u001b[0m, \u001b[1m0×0 DataFrame\u001b[0m)"
      ]
     },
     "metadata": {},
     "output_type": "display_data"
    }
   ],
   "source": [
    "model = wealth_model(numagents = M)\n",
    "data, _ = run!(model, N; adata)"
   ]
  },
  {
   "cell_type": "code",
   "execution_count": 1,
   "metadata": {},
   "outputs": [
    {
     "data": {
      "text/plain": [
       "10"
      ]
     },
     "metadata": {},
     "output_type": "display_data"
    }
   ],
   "source": [
    "maximum([5, 10])"
   ]
  },
  {
   "cell_type": "code",
   "execution_count": 2,
   "metadata": {},
   "outputs": [
    {
     "data": {
      "text/plain": [
       "2×2 Matrix{Float64}:\n",
       " 1.0  0.0\n",
       " 1.2  0.0"
      ]
     },
     "metadata": {},
     "output_type": "display_data"
    }
   ],
   "source": [
    "a=[1;0]\n",
    "b=[0;1]\n",
    "A=[1 0; 1.2 0]"
   ]
  },
  {
   "cell_type": "code",
   "execution_count": 3,
   "metadata": {},
   "outputs": [
    {
     "ename": "DimensionMismatch",
     "evalue": "DimensionMismatch: matrix A has dimensions (2,1), matrix B has dimensions (2,2)",
     "output_type": "error",
     "traceback": [
      "DimensionMismatch: matrix A has dimensions (2,1), matrix B has dimensions (2,2)\n",
      "\n",
      "Stacktrace:\n",
      " [1] _generic_matmatmul!(C::Matrix{Float64}, tA::Char, tB::Char, A::Matrix{Int64}, B::Matrix{Float64}, _add::LinearAlgebra.MulAddMul{true, true, Bool, Bool})\n",
      "   @ LinearAlgebra C:\\Users\\xingfu_2\\AppData\\Local\\Programs\\Julia-1.10.2\\share\\julia\\stdlib\\v1.10\\LinearAlgebra\\src\\matmul.jl:794\n",
      " [2] generic_matmatmul!(C::Matrix{Float64}, tA::Char, tB::Char, A::Matrix{Int64}, B::Matrix{Float64}, _add::LinearAlgebra.MulAddMul{true, true, Bool, Bool})\n",
      "   @ LinearAlgebra C:\\Users\\xingfu_2\\AppData\\Local\\Programs\\Julia-1.10.2\\share\\julia\\stdlib\\v1.10\\LinearAlgebra\\src\\matmul.jl:783\n",
      " [3] mul!\n",
      "   @ C:\\Users\\xingfu_2\\AppData\\Local\\Programs\\Julia-1.10.2\\share\\julia\\stdlib\\v1.10\\LinearAlgebra\\src\\matmul.jl:263 [inlined]\n",
      " [4] mul!\n",
      "   @ C:\\Users\\xingfu_2\\AppData\\Local\\Programs\\Julia-1.10.2\\share\\julia\\stdlib\\v1.10\\LinearAlgebra\\src\\matmul.jl:237 [inlined]\n",
      " [5] *\n",
      "   @ C:\\Users\\xingfu_2\\AppData\\Local\\Programs\\Julia-1.10.2\\share\\julia\\stdlib\\v1.10\\LinearAlgebra\\src\\matmul.jl:106 [inlined]\n",
      " [6] *(a::Vector{Int64}, B::Matrix{Float64})\n",
      "   @ LinearAlgebra C:\\Users\\xingfu_2\\AppData\\Local\\Programs\\Julia-1.10.2\\share\\julia\\stdlib\\v1.10\\LinearAlgebra\\src\\matmul.jl:63\n",
      " [7] *(::Vector{Int64}, ::Matrix{Float64}, ::Vector{Int64})\n",
      "   @ Base .\\operators.jl:587\n",
      " [8] top-level scope\n",
      "   @ d:\\jianguo\\myvscode\\Julia\\Julia-2024-04-03.ipynb:1"
     ]
    }
   ],
   "source": [
    "pay= a * A * b"
   ]
  },
  {
   "cell_type": "code",
   "execution_count": 4,
   "metadata": {},
   "outputs": [
    {
     "data": {
      "text/plain": [
       "3-element Vector{Int64}:\n",
       " 1\n",
       " 2\n",
       " 3"
      ]
     },
     "metadata": {},
     "output_type": "display_data"
    }
   ],
   "source": [
    "a=[1;2;3]"
   ]
  },
  {
   "cell_type": "code",
   "execution_count": 6,
   "metadata": {},
   "outputs": [
    {
     "data": {
      "text/plain": [
       "1×2 Matrix{Int64}:\n",
       " 10  20"
      ]
     },
     "metadata": {},
     "output_type": "display_data"
    }
   ],
   "source": [
    "b=[10 20]"
   ]
  },
  {
   "cell_type": "code",
   "execution_count": 8,
   "metadata": {},
   "outputs": [
    {
     "data": {
      "text/plain": [
       "3×2 Matrix{Float64}:\n",
       " 0.0  0.0\n",
       " 0.0  0.0\n",
       " 0.0  0.0"
      ]
     },
     "metadata": {},
     "output_type": "display_data"
    }
   ],
   "source": [
    "Z = zeros(3,2)"
   ]
  },
  {
   "cell_type": "code",
   "execution_count": 9,
   "metadata": {},
   "outputs": [
    {
     "ename": "DimensionMismatch",
     "evalue": "DimensionMismatch: array could not be broadcast to match destination",
     "output_type": "error",
     "traceback": [
      "DimensionMismatch: array could not be broadcast to match destination\n",
      "\n",
      "Stacktrace:\n",
      " [1] check_broadcast_shape\n",
      "   @ .\\broadcast.jl:579 [inlined]\n",
      " [2] check_broadcast_shape\n",
      "   @ .\\broadcast.jl:580 [inlined]\n",
      " [3] check_broadcast_axes\n",
      "   @ .\\broadcast.jl:582 [inlined]\n",
      " [4] check_broadcast_axes\n",
      "   @ .\\broadcast.jl:586 [inlined]\n",
      " [5] instantiate\n",
      "   @ .\\broadcast.jl:309 [inlined]\n",
      " [6] materialize!\n",
      "   @ .\\broadcast.jl:914 [inlined]\n",
      " [7] materialize!(dest::Matrix{Float64}, bc::Base.Broadcast.Broadcasted{Base.Broadcast.DefaultArrayStyle{2}, Nothing, typeof(+), Tuple{Matrix{Int64}, LinearAlgebra.Transpose{Int64, Vector{Int64}}}})\n",
      "   @ Base.Broadcast .\\broadcast.jl:911\n",
      " [8] top-level scope\n",
      "   @ d:\\jianguo\\myvscode\\Julia\\Julia-2024-04-03.ipynb:1"
     ]
    }
   ],
   "source": [
    "Z .= b .+ transpose(a)"
   ]
  },
  {
   "cell_type": "code",
   "execution_count": 10,
   "metadata": {},
   "outputs": [
    {
     "data": {
      "text/plain": [
       "1×3 transpose(::Vector{Int64}) with eltype Int64:\n",
       " 1  2  3"
      ]
     },
     "metadata": {},
     "output_type": "display_data"
    }
   ],
   "source": [
    "transpose(a)"
   ]
  },
  {
   "cell_type": "code",
   "execution_count": 3,
   "metadata": {},
   "outputs": [
    {
     "data": {
      "text/plain": [
       "0.0"
      ]
     },
     "metadata": {},
     "output_type": "display_data"
    }
   ],
   "source": [
    "a=[1;0]\n",
    "b=[0;1]\n",
    "A=[1 0; 1.2 0]\n",
    "pay= transpose(a) * A * b"
   ]
  },
  {
   "cell_type": "code",
   "execution_count": null,
   "metadata": {},
   "outputs": [],
   "source": [
    "PA=a * A * b"
   ]
  },
  {
   "cell_type": "code",
   "execution_count": 13,
   "metadata": {},
   "outputs": [
    {
     "data": {
      "text/plain": [
       "3-element Vector{Int64}:\n",
       " 4\n",
       " 5\n",
       " 6"
      ]
     },
     "metadata": {},
     "output_type": "display_data"
    }
   ],
   "source": [
    "d=[4,5,6]"
   ]
  },
  {
   "cell_type": "code",
   "execution_count": 14,
   "metadata": {},
   "outputs": [
    {
     "data": {
      "text/plain": [
       "true"
      ]
     },
     "metadata": {},
     "output_type": "display_data"
    }
   ],
   "source": [
    "b1 = [4, 5, 6]               \n",
    "b2 = [4; 5; 6]\n",
    "b1==b2"
   ]
  },
  {
   "cell_type": "code",
   "execution_count": 4,
   "metadata": {},
   "outputs": [
    {
     "data": {
      "text/plain": [
       "2"
      ]
     },
     "metadata": {},
     "output_type": "display_data"
    }
   ],
   "source": [
    "a=1\n",
    "b=2"
   ]
  },
  {
   "cell_type": "code",
   "execution_count": 7,
   "metadata": {},
   "outputs": [
    {
     "data": {
      "text/plain": [
       "3"
      ]
     },
     "metadata": {},
     "output_type": "display_data"
    }
   ],
   "source": [
    "a>=0 && (b=3)"
   ]
  },
  {
   "cell_type": "code",
   "execution_count": 9,
   "metadata": {},
   "outputs": [
    {
     "ename": "Base.Meta.ParseError",
     "evalue": "ParseError:\n# Error @ d:\\jianguo\\myvscode\\Julia\\Julia-2024-04-03.ipynb:1:4\nb=4 if (a > 0)\n#  └─────────┘ ── extra tokens after end of expression",
     "output_type": "error",
     "traceback": [
      "ParseError:\n",
      "# Error @ d:\\jianguo\\myvscode\\Julia\\Julia-2024-04-03.ipynb:1:4\n",
      "b=4 if (a > 0)\n",
      "#  └─────────┘ ── extra tokens after end of expression\n",
      "\n",
      "Stacktrace:\n",
      " [1] top-level scope\n",
      "   @ d:\\jianguo\\myvscode\\Julia\\Julia-2024-04-03.ipynb:1"
     ]
    }
   ],
   "source": [
    "b=4 if (a > 0)"
   ]
  },
  {
   "cell_type": "code",
   "execution_count": 10,
   "metadata": {},
   "outputs": [
    {
     "data": {
      "text/plain": [
       "3"
      ]
     },
     "metadata": {},
     "output_type": "display_data"
    }
   ],
   "source": [
    "x=3"
   ]
  },
  {
   "cell_type": "code",
   "execution_count": 11,
   "metadata": {},
   "outputs": [
    {
     "name": "stdout",
     "output_type": "stream",
     "text": [
      "positive\n"
     ]
    },
    {
     "ename": "Base.Meta.ParseError",
     "evalue": "ParseError:\n# Error @ d:\\jianguo\\myvscode\\Julia\\Julia-2024-04-03.ipynb:1:20\nprintln(\"positive\") if x > 0\n#                  └───────┘ ── extra tokens after end of expression",
     "output_type": "error",
     "traceback": [
      "ParseError:\n",
      "# Error @ d:\\jianguo\\myvscode\\Julia\\Julia-2024-04-03.ipynb:1:20\n",
      "println(\"positive\") if x > 0\n",
      "#                  └───────┘ ── extra tokens after end of expression\n",
      "\n",
      "Stacktrace:\n",
      " [1] top-level scope\n",
      "   @ d:\\jianguo\\myvscode\\Julia\\Julia-2024-04-03.ipynb:1"
     ]
    }
   ],
   "source": [
    "println(\"positive\") if x > 0"
   ]
  },
  {
   "cell_type": "code",
   "execution_count": 12,
   "metadata": {},
   "outputs": [
    {
     "data": {
      "text/plain": [
       "5"
      ]
     },
     "metadata": {},
     "output_type": "display_data"
    }
   ],
   "source": [
    "if a>=0 b=5 end"
   ]
  },
  {
   "cell_type": "code",
   "execution_count": 13,
   "metadata": {},
   "outputs": [
    {
     "data": {
      "text/plain": [
       "1:4"
      ]
     },
     "metadata": {},
     "output_type": "display_data"
    }
   ],
   "source": [
    "a=1:4"
   ]
  },
  {
   "cell_type": "code",
   "execution_count": 14,
   "metadata": {},
   "outputs": [
    {
     "data": {
      "text/plain": [
       "4-element Vector{Int64}:\n",
       " 1\n",
       " 2\n",
       " 3\n",
       " 4"
      ]
     },
     "metadata": {},
     "output_type": "display_data"
    }
   ],
   "source": [
    "b=[1:4;]"
   ]
  },
  {
   "cell_type": "code",
   "execution_count": 15,
   "metadata": {},
   "outputs": [
    {
     "data": {
      "text/plain": [
       "4"
      ]
     },
     "metadata": {},
     "output_type": "display_data"
    }
   ],
   "source": [
    "length(a)"
   ]
  },
  {
   "cell_type": "code",
   "execution_count": 16,
   "metadata": {},
   "outputs": [
    {
     "data": {
      "text/plain": [
       "4"
      ]
     },
     "metadata": {},
     "output_type": "display_data"
    }
   ],
   "source": [
    "length(b)"
   ]
  },
  {
   "cell_type": "code",
   "execution_count": 17,
   "metadata": {},
   "outputs": [
    {
     "data": {
      "text/plain": [
       "1"
      ]
     },
     "metadata": {},
     "output_type": "display_data"
    }
   ],
   "source": [
    "a=1"
   ]
  },
  {
   "cell_type": "code",
   "execution_count": 18,
   "metadata": {},
   "outputs": [
    {
     "data": {
      "text/plain": [
       "0.36787944117144233"
      ]
     },
     "metadata": {},
     "output_type": "display_data"
    }
   ],
   "source": [
    "b=exp(-a)"
   ]
  },
  {
   "cell_type": "code",
   "execution_count": 19,
   "metadata": {},
   "outputs": [
    {
     "data": {
      "text/plain": [
       "-1"
      ]
     },
     "metadata": {},
     "output_type": "display_data"
    }
   ],
   "source": [
    "b=-a"
   ]
  },
  {
   "cell_type": "code",
   "execution_count": 20,
   "metadata": {},
   "outputs": [
    {
     "data": {
      "text/plain": [
       "1"
      ]
     },
     "metadata": {},
     "output_type": "display_data"
    }
   ],
   "source": [
    "P2=1"
   ]
  },
  {
   "cell_type": "code",
   "execution_count": 24,
   "metadata": {},
   "outputs": [
    {
     "data": {
      "text/plain": [
       "0"
      ]
     },
     "metadata": {},
     "output_type": "display_data"
    }
   ],
   "source": [
    "isnan(P2) && (P2= 0)"
   ]
  },
  {
   "cell_type": "code",
   "execution_count": 22,
   "metadata": {},
   "outputs": [
    {
     "data": {
      "text/plain": [
       "1"
      ]
     },
     "metadata": {},
     "output_type": "display_data"
    }
   ],
   "source": [
    "P2"
   ]
  },
  {
   "cell_type": "code",
   "execution_count": 23,
   "metadata": {},
   "outputs": [
    {
     "data": {
      "text/plain": [
       "NaN"
      ]
     },
     "metadata": {},
     "output_type": "display_data"
    }
   ],
   "source": [
    "P2=0/0"
   ]
  },
  {
   "cell_type": "code",
   "execution_count": 25,
   "metadata": {},
   "outputs": [
    {
     "data": {
      "text/plain": [
       "false"
      ]
     },
     "metadata": {},
     "output_type": "display_data"
    }
   ],
   "source": [
    "isnan(P2) && (P2= 0)"
   ]
  },
  {
   "cell_type": "code",
   "execution_count": 26,
   "metadata": {},
   "outputs": [
    {
     "data": {
      "text/plain": [
       "0"
      ]
     },
     "metadata": {},
     "output_type": "display_data"
    }
   ],
   "source": [
    "P2"
   ]
  },
  {
   "cell_type": "code",
   "execution_count": 27,
   "metadata": {},
   "outputs": [
    {
     "data": {
      "text/plain": [
       "3"
      ]
     },
     "metadata": {},
     "output_type": "display_data"
    }
   ],
   "source": [
    "a>=0 && (b=3)"
   ]
  },
  {
   "cell_type": "code",
   "execution_count": 29,
   "metadata": {},
   "outputs": [
    {
     "name": "stdout",
     "output_type": "stream",
     "text": [
      "0\n"
     ]
    }
   ],
   "source": [
    "P2=0/0\n",
    "isnan(P2) && (P2= 0)\n",
    "println(P2)"
   ]
  },
  {
   "cell_type": "code",
   "execution_count": 30,
   "metadata": {},
   "outputs": [
    {
     "ename": "MethodError",
     "evalue": "MethodError: objects of type Int64 are not callable\nMaybe you forgot to use an operator such as *, ^, %, / etc. ?",
     "output_type": "error",
     "traceback": [
      "MethodError: objects of type Int64 are not callable\n",
      "Maybe you forgot to use an operator such as *, ^, %, / etc. ?\n",
      "\n",
      "Stacktrace:\n",
      " [1] mapreduce_first(f::Int64, op::Function, x::Int64)\n",
      "   @ Base .\\reduce.jl:424\n",
      " [2] mapreduce(f::Int64, op::Function, a::Int64)\n",
      "   @ Base .\\reduce.jl:451\n",
      " [3] maximum(f::Int64, a::Int64; kw::@Kwargs{})\n",
      "   @ Base .\\reduce.jl:705\n",
      " [4] top-level scope\n",
      "   @ d:\\jianguo\\myvscode\\Julia\\Julia-2024-04-03.ipynb:1"
     ]
    }
   ],
   "source": [
    "maximum(1,2)"
   ]
  },
  {
   "cell_type": "code",
   "execution_count": 31,
   "metadata": {},
   "outputs": [
    {
     "data": {
      "text/plain": [
       "2"
      ]
     },
     "metadata": {},
     "output_type": "display_data"
    }
   ],
   "source": [
    "maximum([1,2])"
   ]
  },
  {
   "cell_type": "code",
   "execution_count": 32,
   "metadata": {},
   "outputs": [
    {
     "data": {
      "text/plain": [
       "2"
      ]
     },
     "metadata": {},
     "output_type": "display_data"
    }
   ],
   "source": [
    "maximum([1 2])"
   ]
  },
  {
   "cell_type": "code",
   "execution_count": 1,
   "metadata": {},
   "outputs": [
    {
     "data": {
      "text/plain": [
       "2"
      ]
     },
     "metadata": {},
     "output_type": "display_data"
    }
   ],
   "source": [
    "maximum([1; 2])"
   ]
  },
  {
   "cell_type": "code",
   "execution_count": 2,
   "metadata": {},
   "outputs": [
    {
     "data": {
      "text/plain": [
       "2×2 Matrix{Int64}:\n",
       " 1  2\n",
       " 3  4"
      ]
     },
     "metadata": {},
     "output_type": "display_data"
    }
   ],
   "source": [
    "b1=1\n",
    "b2=1:5\n",
    "b3=[1 2;3 4]"
   ]
  },
  {
   "cell_type": "code",
   "execution_count": 3,
   "metadata": {},
   "outputs": [
    {
     "data": {
      "text/plain": [
       "Dict{Symbol, Any} with 3 entries:\n",
       "  :c3 => [1 2; 3 4]\n",
       "  :c1 => 1\n",
       "  :c2 => 1:5"
      ]
     },
     "metadata": {},
     "output_type": "display_data"
    }
   ],
   "source": [
    "a=Dict(:c1 =>b1, :c2 => b2, :c3=> b3)"
   ]
  },
  {
   "cell_type": "code",
   "execution_count": 4,
   "metadata": {},
   "outputs": [
    {
     "data": {
      "text/plain": [
       "2×2 Matrix{Int64}:\n",
       " 1  2\n",
       " 3  4"
      ]
     },
     "metadata": {},
     "output_type": "display_data"
    }
   ],
   "source": [
    "a[:c3]"
   ]
  },
  {
   "cell_type": "code",
   "execution_count": 6,
   "metadata": {},
   "outputs": [
    {
     "data": {
      "text/plain": [
       "10-element Vector{Int64}:\n",
       " 0\n",
       " 1\n",
       " 0\n",
       " 1\n",
       " 1\n",
       " 1\n",
       " 0\n",
       " 0\n",
       " 1\n",
       " 1"
      ]
     },
     "metadata": {},
     "output_type": "display_data"
    }
   ],
   "source": [
    "rand(0:1,10)"
   ]
  },
  {
   "cell_type": "code",
   "execution_count": 1,
   "metadata": {},
   "outputs": [
    {
     "data": {
      "text/plain": [
       "6"
      ]
     },
     "metadata": {},
     "output_type": "display_data"
    }
   ],
   "source": [
    "x=5\n",
    "y=6"
   ]
  },
  {
   "cell_type": "code",
   "execution_count": 2,
   "metadata": {},
   "outputs": [
    {
     "name": "stdout",
     "output_type": "stream",
     "text": [
      "x=5, y=6\n"
     ]
    }
   ],
   "source": [
    "println(\"x=$x, y=$y\")"
   ]
  },
  {
   "cell_type": "code",
   "execution_count": 1,
   "metadata": {},
   "outputs": [
    {
     "data": {
      "text/plain": [
       "nargs (generic function with 1 method)"
      ]
     },
     "metadata": {},
     "output_type": "display_data"
    }
   ],
   "source": [
    "nargs(x...) = println(\"Number of arguments: \", length(x))"
   ]
  },
  {
   "cell_type": "code",
   "execution_count": 11,
   "metadata": {},
   "outputs": [
    {
     "data": {
      "text/plain": [
       "nargs (generic function with 1 method)"
      ]
     },
     "metadata": {},
     "output_type": "display_data"
    }
   ],
   "source": [
    "nargs(z...) = println(\"Number of arguments: \", length(z))"
   ]
  },
  {
   "cell_type": "code",
   "execution_count": 2,
   "metadata": {},
   "outputs": [
    {
     "name": "stdout",
     "output_type": "stream",
     "text": [
      "Number of arguments: 0\n"
     ]
    }
   ],
   "source": [
    "nargs()"
   ]
  },
  {
   "cell_type": "code",
   "execution_count": 12,
   "metadata": {},
   "outputs": [
    {
     "name": "stdout",
     "output_type": "stream",
     "text": [
      "Number of arguments: 5\n"
     ]
    }
   ],
   "source": [
    "nargs(1, 2, \"a\", :b, [1,2,3])"
   ]
  },
  {
   "cell_type": "code",
   "execution_count": 4,
   "metadata": {},
   "outputs": [
    {
     "data": {
      "text/plain": [
       "(1, 2, 3)"
      ]
     },
     "metadata": {},
     "output_type": "display_data"
    }
   ],
   "source": [
    "args = (1, 2, 3)"
   ]
  },
  {
   "cell_type": "code",
   "execution_count": 5,
   "metadata": {},
   "outputs": [
    {
     "name": "stdout",
     "output_type": "stream",
     "text": [
      "Number of arguments: 3\n"
     ]
    }
   ],
   "source": [
    "nargs(args...)"
   ]
  },
  {
   "cell_type": "code",
   "execution_count": 6,
   "metadata": {},
   "outputs": [
    {
     "name": "stdout",
     "output_type": "stream",
     "text": [
      "Number of arguments: 1\n"
     ]
    }
   ],
   "source": [
    "nargs(args)"
   ]
  },
  {
   "cell_type": "code",
   "execution_count": 7,
   "metadata": {},
   "outputs": [
    {
     "data": {
      "text/plain": [
       "roundmod (generic function with 1 method)"
      ]
     },
     "metadata": {},
     "output_type": "display_data"
    }
   ],
   "source": [
    "roundmod(x, y; kwargs...) = round(mod(x, y); kwargs...)"
   ]
  },
  {
   "cell_type": "code",
   "execution_count": 13,
   "metadata": {},
   "outputs": [
    {
     "data": {
      "text/plain": [
       "3"
      ]
     },
     "metadata": {},
     "output_type": "display_data"
    }
   ],
   "source": [
    "digits=3"
   ]
  },
  {
   "cell_type": "code",
   "execution_count": 14,
   "metadata": {},
   "outputs": [
    {
     "data": {
      "text/plain": [
       "2.529"
      ]
     },
     "metadata": {},
     "output_type": "display_data"
    }
   ],
   "source": [
    "roundmod(12.529, 5; digits )"
   ]
  },
  {
   "cell_type": "code",
   "execution_count": 8,
   "metadata": {},
   "outputs": [
    {
     "data": {
      "text/plain": [
       "2.53"
      ]
     },
     "metadata": {},
     "output_type": "display_data"
    }
   ],
   "source": [
    "roundmod(12.529, 5; digits = 2)"
   ]
  },
  {
   "cell_type": "code",
   "execution_count": 22,
   "metadata": {},
   "outputs": [
    {
     "data": {
      "text/plain": [
       "wealth_model_2D (generic function with 1 method)"
      ]
     },
     "metadata": {},
     "output_type": "display_data"
    }
   ],
   "source": [
    "function wealth_model_2D(; kwargs...)  #1000个代理\n",
    "    #properties = Dict(:min_betray => betray, :temp => temp,\n",
    "    #:alpha => alpha, :theta => theta, :lamda => lamda, :Kmax => Kmax)\n",
    "    #println(\"a=\",properties[1])\n",
    "    y= betray +1\n",
    "    println(\"betray=$betray\")\n",
    "end"
   ]
  },
  {
   "cell_type": "code",
   "execution_count": 23,
   "metadata": {},
   "outputs": [
    {
     "ename": "UndefVarError",
     "evalue": "UndefVarError: `betray` not defined",
     "output_type": "error",
     "traceback": [
      "UndefVarError: `betray` not defined\n",
      "\n",
      "Stacktrace:\n",
      " [1] wealth_model_2D(; kwargs::@Kwargs{betray::Int64})\n",
      "   @ Main d:\\jianguo\\myvscode\\Julia\\Julia-2024-04-03.ipynb:5\n",
      " [2] top-level scope\n",
      "   @ d:\\jianguo\\myvscode\\Julia\\Julia-2024-04-03.ipynb:1"
     ]
    }
   ],
   "source": [
    "schelling = wealth_model_2D(; betray=2)"
   ]
  },
  {
   "cell_type": "code",
   "execution_count": 27,
   "metadata": {},
   "outputs": [
    {
     "data": {
      "text/plain": [
       "m (generic function with 1 method)"
      ]
     },
     "metadata": {},
     "output_type": "display_data"
    }
   ],
   "source": [
    "function m(; kwargs...)\n",
    "    println(kwargs)\n",
    "    #println(kwargs.a)\n",
    "    #println(a)\n",
    "end"
   ]
  },
  {
   "cell_type": "code",
   "execution_count": 28,
   "metadata": {},
   "outputs": [
    {
     "data": {
      "text/plain": [
       "Dict{Symbol, Int64} with 3 entries:\n",
       "  :a => 1\n",
       "  :b => 2\n",
       "  :c => 3"
      ]
     },
     "metadata": {},
     "output_type": "display_data"
    }
   ],
   "source": [
    "foo = Dict(:a=>1, :b=>2, :c=>3)"
   ]
  },
  {
   "cell_type": "code",
   "execution_count": 29,
   "metadata": {},
   "outputs": [
    {
     "name": "stdout",
     "output_type": "stream",
     "text": [
      "Base.Pairs(:a => 1, :b => 2, :c => 3)\n"
     ]
    }
   ],
   "source": [
    "m(;foo...)"
   ]
  },
  {
   "cell_type": "code",
   "execution_count": 19,
   "metadata": {},
   "outputs": [
    {
     "ename": "UndefVarError",
     "evalue": "UndefVarError: `betray` not defined",
     "output_type": "error",
     "traceback": [
      "UndefVarError: `betray` not defined\n",
      "\n",
      "Stacktrace:\n",
      " [1] wealth_model_2D(; kwargs::@Kwargs{betray::Int64, temp::Float64, alpha::Float64, theta::Int64, Kmax::Int64, lamda::Int64})\n",
      "   @ Main d:\\jianguo\\myvscode\\Julia\\Julia-2024-04-03.ipynb:5\n",
      " [2] top-level scope\n",
      "   @ d:\\jianguo\\myvscode\\Julia\\Julia-2024-04-03.ipynb:1"
     ]
    }
   ],
   "source": [
    "schelling = wealth_model_2D(; betray=2, temp = 1.2, alpha =  0.3, theta = 20, Kmax = 1, lamda = 10)"
   ]
  },
  {
   "cell_type": "code",
   "execution_count": 5,
   "metadata": {},
   "outputs": [
    {
     "data": {
      "text/plain": [
       "does_work (generic function with 1 method)"
      ]
     },
     "metadata": {},
     "output_type": "display_data"
    }
   ],
   "source": [
    "function does_work(x::Any...)\n",
    "    strings = filter(val -> typeof(val) == String, x)\n",
    "    ints = filter(val -> typeof(val) == Int64, x)\n",
    "    println(ints, \"\\n\", strings)\n",
    "end"
   ]
  },
  {
   "cell_type": "code",
   "execution_count": 6,
   "metadata": {},
   "outputs": [
    {
     "name": "stdout",
     "output_type": "stream",
     "text": [
      "(4, 5, 9)\n",
      "(\"emmy\", \"was\", \"here\")\n"
     ]
    }
   ],
   "source": [
    "does_work(4, \"emmy\", 5, \"was\", 09, \"here\")"
   ]
  },
  {
   "cell_type": "code",
   "execution_count": 3,
   "metadata": {},
   "outputs": [
    {
     "data": {
      "text/plain": [
       "does_work (generic function with 1 method)"
      ]
     },
     "metadata": {},
     "output_type": "display_data"
    }
   ],
   "source": [
    "function does_work(x...)\n",
    "    strings = filter(val -> typeof(val) == String, x)\n",
    "    ints = filter(val -> typeof(val) == Int64, x)\n",
    "    println(ints, \"\\n\", strings)\n",
    "end"
   ]
  },
  {
   "cell_type": "code",
   "execution_count": 4,
   "metadata": {},
   "outputs": [
    {
     "name": "stdout",
     "output_type": "stream",
     "text": [
      "(4, 5, 9)\n",
      "(\"emmy\", \"was\", \"here\")\n"
     ]
    }
   ],
   "source": [
    "does_work(4, \"emmy\", 5, \"was\", 09, \"here\")"
   ]
  },
  {
   "cell_type": "code",
   "execution_count": 7,
   "metadata": {},
   "outputs": [
    {
     "data": {
      "text/plain": [
       "tpofargs (generic function with 1 method)"
      ]
     },
     "metadata": {},
     "output_type": "display_data"
    }
   ],
   "source": [
    "function tpofargs(args ...; keyargs ...)\n",
    "    println(\"positional: \", typeof(args), \"\\n$args\", \"\\nkeyword: \", typeof(keyargs), \"\\n$keyargs\")\n",
    "end"
   ]
  },
  {
   "cell_type": "code",
   "execution_count": 8,
   "metadata": {},
   "outputs": [
    {
     "name": "stdout",
     "output_type": "stream",
     "text": [
      "positional: Tuple{Int64}\n",
      "(5,)\n",
      "keyword: Base.Pairs{Symbol, Int64, Tuple{Symbol}, @NamedTuple{x::Int64}}\n",
      "Base.Pairs(:x => 5)\n"
     ]
    }
   ],
   "source": [
    "tpofargs(5, x = 5)"
   ]
  },
  {
   "cell_type": "code",
   "execution_count": 9,
   "metadata": {},
   "outputs": [
    {
     "name": "stdout",
     "output_type": "stream",
     "text": [
      "positional: Tuple{Int64}\n",
      "(5,)\n",
      "keyword: Base.Pairs{Symbol, Int64, Tuple{Symbol}, @NamedTuple{x::Int64}}\n",
      "Base.Pairs(:x => 5)\n"
     ]
    }
   ],
   "source": [
    "tpofargs(5; x = 5)"
   ]
  },
  {
   "cell_type": "code",
   "execution_count": 10,
   "metadata": {},
   "outputs": [
    {
     "name": "stdout",
     "output_type": "stream",
     "text": [
      "positional: Tuple{Int64, String, Float64}\n",
      "(5, \"good\", 72.5)\n",
      "keyword: Base.Pairs{Symbol, Any, Tuple{Symbol, Symbol, Symbol}, @NamedTuple{x::Int64, y::Int64, z::String}}\n",
      "Base.Pairs{Symbol, Any, Tuple{Symbol, Symbol, Symbol}, @NamedTuple{x::Int64, y::Int64, z::String}}(:x => 6, :y => 7, :z => \"car\")\n"
     ]
    }
   ],
   "source": [
    "tpofargs(5,\"good\", 72.5; x = 6, y=7, z=\"car\")"
   ]
  },
  {
   "cell_type": "code",
   "execution_count": 11,
   "metadata": {},
   "outputs": [
    {
     "name": "stdout",
     "output_type": "stream",
     "text": [
      "positional: Tuple{Int64, String, Float64}\n",
      "(5, \"good\", 72.5)\n",
      "keyword: Base.Pairs{Symbol, Any, Tuple{Symbol, Symbol, Symbol}, @NamedTuple{x::Int64, y::Int64, z::String}}\n",
      "Base.Pairs{Symbol, Any, Tuple{Symbol, Symbol, Symbol}, @NamedTuple{x::Int64, y::Int64, z::String}}(:x => 6, :y => 7, :z => \"car\")\n"
     ]
    }
   ],
   "source": [
    "tpofargs(5,\"good\", 72.5, x = 6, y=7, z=\"car\")"
   ]
  },
  {
   "cell_type": "code",
   "execution_count": 12,
   "metadata": {},
   "outputs": [
    {
     "data": {
      "text/plain": [
       "keywords (generic function with 1 method)"
      ]
     },
     "metadata": {},
     "output_type": "display_data"
    }
   ],
   "source": [
    "function keywords(; kwargs ...)\n",
    "    println(kwargs[:x])\n",
    "end"
   ]
  },
  {
   "cell_type": "code",
   "execution_count": 13,
   "metadata": {},
   "outputs": [
    {
     "name": "stdout",
     "output_type": "stream",
     "text": [
      "6\n"
     ]
    }
   ],
   "source": [
    "keywords(x = 6, y = 7)"
   ]
  },
  {
   "cell_type": "code",
   "execution_count": 14,
   "metadata": {},
   "outputs": [
    {
     "data": {
      "text/plain": [
       "keywords (generic function with 1 method)"
      ]
     },
     "metadata": {},
     "output_type": "display_data"
    }
   ],
   "source": [
    "function keywords(; kwargs ...)\n",
    "    println(join([\"key: $(k[1])\\nvalue: $(k[2])\\n\" for k in kwargs]))\n",
    "end"
   ]
  },
  {
   "cell_type": "code",
   "execution_count": 15,
   "metadata": {},
   "outputs": [
    {
     "name": "stdout",
     "output_type": "stream",
     "text": [
      "key: x\n",
      "value: 6\n",
      "key: y\n",
      "value: 7\n",
      "\n"
     ]
    }
   ],
   "source": [
    "keywords(x = 6, y = 7)"
   ]
  },
  {
   "cell_type": "code",
   "execution_count": 1,
   "metadata": {},
   "outputs": [],
   "source": [
    "using Agents, Random"
   ]
  },
  {
   "cell_type": "code",
   "execution_count": 2,
   "metadata": {},
   "outputs": [],
   "source": [
    "@agent struct WealthInSpace(GridAgent{2})\n",
    "    wealth::Int\n",
    "end"
   ]
  },
  {
   "cell_type": "code",
   "execution_count": 3,
   "metadata": {},
   "outputs": [
    {
     "data": {
      "text/plain": [
       "wealth_model_2D (generic function with 1 method)"
      ]
     },
     "metadata": {},
     "output_type": "display_data"
    }
   ],
   "source": [
    "function wealth_model_2D(; dims = (25, 25), wealth = 1, M = 1000)\n",
    "    space = GridSpace(dims, periodic = true)\n",
    "    model = ABM(WealthInSpace, space; agent_step! = agent_step_2d!,\n",
    "                scheduler = Schedulers.Randomly())\n",
    "    for _ in 1:M # add agents in random positions\n",
    "        add_agent!(model, wealth)\n",
    "    end\n",
    "    return model\n",
    "end"
   ]
  },
  {
   "cell_type": "code",
   "execution_count": 2,
   "metadata": {},
   "outputs": [
    {
     "data": {
      "text/plain": [
       "agent_step_2d! (generic function with 1 method)"
      ]
     },
     "metadata": {},
     "output_type": "display_data"
    }
   ],
   "source": [
    "function agent_step_2d!(agent, model)\n",
    "    agent.wealth == 0 && return # do nothing\n",
    "    neighboring_positions = collect(nearby_positions(agent.pos, model))\n",
    "    push!(neighboring_positions, agent.pos) # also consider current position\n",
    "    rpos = rand(abmrng(model), neighboring_positions) # the position that we will exchange with\n",
    "    available_ids = ids_in_position(rpos, model)\n",
    "    if length(available_ids) > 0\n",
    "        random_neighbor_agent = model[rand(abmrng(model), available_ids)]\n",
    "        agent.wealth -= 1\n",
    "        random_neighbor_agent.wealth += 1\n",
    "    end\n",
    "end"
   ]
  },
  {
   "cell_type": "code",
   "execution_count": 5,
   "metadata": {},
   "outputs": [
    {
     "data": {
      "text/plain": [
       "StandardABM with 1000 agents of type WealthInSpace\n",
       " agents container: Dict\n",
       " space: GridSpace with size (25, 25), metric=chebyshev, periodic=true\n",
       " scheduler: Agents.Schedulers.Randomly"
      ]
     },
     "metadata": {},
     "output_type": "display_data"
    }
   ],
   "source": [
    "model2D = wealth_model_2D()"
   ]
  },
  {
   "cell_type": "code",
   "execution_count": 3,
   "metadata": {},
   "outputs": [],
   "source": [
    "@agent struct SchellingAgent(GridAgent{2}) \n",
    "    #mood::Bool # whether the agent is happy in its position\n",
    "    #group::Int # The group of the agent, determines mood as it interacts with neighbors\n",
    "    wealth::Int\n",
    "    A_self::Int   #伦理\n",
    "    A_peer::Int   #收益\n",
    "    #A_mtx::Float64  #压力\n",
    "    revenue::Float64  #收益\n",
    "    #revenue_nb_av::Float64  #邻居的平均收益\n",
    "    #P1::Float64   #第一层概率\n",
    "    #P2::Float64   #第二层概率\n",
    "    #Pmix::Float64  #概率相乘\n",
    "    strate::Int   #1-合作 0-背叛\n",
    "    overstress::Int  #过度压力\n",
    "end"
   ]
  },
  {
   "cell_type": "code",
   "execution_count": 4,
   "metadata": {},
   "outputs": [
    {
     "data": {
      "text/plain": [
       "wealth_model_3 (generic function with 1 method)"
      ]
     },
     "metadata": {},
     "output_type": "display_data"
    }
   ],
   "source": [
    "function wealth_model_3(; dims = (25, 25), wealth = 1, M=100, betray=2, temp = 1.2, alpha =  0.3, theta = 20, Kmax = 1, lamda = 10)\n",
    "    space = GridSpace(dims, periodic = true)\n",
    "    model = ABM(SchellingAgent, space; agent_step! = agent_step_2d!,\n",
    "                scheduler = Schedulers.Randomly())\n",
    "    for _ in 1:M # add agents in random positions\n",
    "        add_agent!(model, wealth)\n",
    "    end\n",
    "    return model\n",
    "end"
   ]
  },
  {
   "cell_type": "code",
   "execution_count": 5,
   "metadata": {},
   "outputs": [
    {
     "ename": "MethodError",
     "evalue": "MethodError: no method matching SchellingAgent(::Int64, ::Tuple{Int64, Int64}, ::Int64)\n\nClosest candidates are:\n  SchellingAgent(::Int64, ::Tuple{Int64, Int64}, ::Int64, !Matched::Int64, !Matched::Int64, !Matched::Float64, !Matched::Int64, !Matched::Int64)\n   @ Main C:\\Users\\xingfu_2\\.julia\\packages\\Agents\\EOn0z\\src\\core\\agents.jl:208\n  SchellingAgent(::Any, ::Any, ::Any, !Matched::Any, !Matched::Any, !Matched::Any, !Matched::Any, !Matched::Any)\n   @ Main C:\\Users\\xingfu_2\\.julia\\packages\\Agents\\EOn0z\\src\\core\\agents.jl:208\n  SchellingAgent(!Matched::AgentBasedModel, ::Any...)\n   @ Main C:\\Users\\xingfu_2\\.julia\\packages\\Agents\\EOn0z\\src\\core\\agents.jl:217\n",
     "output_type": "error",
     "traceback": [
      "MethodError: no method matching SchellingAgent(::Int64, ::Tuple{Int64, Int64}, ::Int64)\n",
      "\n",
      "Closest candidates are:\n",
      "  SchellingAgent(::Int64, ::Tuple{Int64, Int64}, ::Int64, !Matched::Int64, !Matched::Int64, !Matched::Float64, !Matched::Int64, !Matched::Int64)\n",
      "   @ Main C:\\Users\\xingfu_2\\.julia\\packages\\Agents\\EOn0z\\src\\core\\agents.jl:208\n",
      "  SchellingAgent(::Any, ::Any, ::Any, !Matched::Any, !Matched::Any, !Matched::Any, !Matched::Any, !Matched::Any)\n",
      "   @ Main C:\\Users\\xingfu_2\\.julia\\packages\\Agents\\EOn0z\\src\\core\\agents.jl:208\n",
      "  SchellingAgent(!Matched::AgentBasedModel, ::Any...)\n",
      "   @ Main C:\\Users\\xingfu_2\\.julia\\packages\\Agents\\EOn0z\\src\\core\\agents.jl:217\n",
      "\n",
      "\n",
      "Stacktrace:\n",
      " [1] add_agent!(pos::Tuple{Int64, Int64}, A::Type{SchellingAgent}, model::StandardABM{GridSpace{2, true}, SchellingAgent, Dict{Int64, SchellingAgent}, Tuple{DataType}, typeof(agent_step_2d!), typeof(dummystep), Agents.Schedulers.Randomly, Nothing, TaskLocalRNG}, args::Int64; kwargs::@Kwargs{})\n",
      "   @ Agents C:\\Users\\xingfu_2\\.julia\\packages\\Agents\\EOn0z\\src\\core\\space_interaction_API.jl:290\n",
      " [2] add_agent!(pos::Tuple{Int64, Int64}, A::Type, model::StandardABM{GridSpace{2, true}, SchellingAgent, Dict{Int64, SchellingAgent}, Tuple{DataType}, typeof(agent_step_2d!), typeof(dummystep), Agents.Schedulers.Randomly, Nothing, TaskLocalRNG}, args::Int64)\n",
      "   @ Agents C:\\Users\\xingfu_2\\.julia\\packages\\Agents\\EOn0z\\src\\core\\space_interaction_API.jl:281\n",
      " [3] #add_agent!#34\n",
      "   @ C:\\Users\\xingfu_2\\.julia\\packages\\Agents\\EOn0z\\src\\core\\space_interaction_API.jl:267 [inlined]\n",
      " [4] add_agent!(A::Type, model::StandardABM{GridSpace{2, true}, SchellingAgent, Dict{Int64, SchellingAgent}, Tuple{DataType}, typeof(agent_step_2d!), typeof(dummystep), Agents.Schedulers.Randomly, Nothing, TaskLocalRNG}, args::Int64)\n",
      "   @ Agents C:\\Users\\xingfu_2\\.julia\\packages\\Agents\\EOn0z\\src\\core\\space_interaction_API.jl:265\n",
      " [5] add_agent!(model::StandardABM{GridSpace{2, true}, SchellingAgent, Dict{Int64, SchellingAgent}, Tuple{DataType}, typeof(agent_step_2d!), typeof(dummystep), Agents.Schedulers.Randomly, Nothing, TaskLocalRNG}, args::Int64; kwargs::@Kwargs{})\n",
      "   @ Agents C:\\Users\\xingfu_2\\.julia\\packages\\Agents\\EOn0z\\src\\core\\space_interaction_API.jl:262\n",
      " [6] add_agent!(model::StandardABM{GridSpace{2, true}, SchellingAgent, Dict{Int64, SchellingAgent}, Tuple{DataType}, typeof(agent_step_2d!), typeof(dummystep), Agents.Schedulers.Randomly, Nothing, TaskLocalRNG}, args::Int64)\n",
      "   @ Agents C:\\Users\\xingfu_2\\.julia\\packages\\Agents\\EOn0z\\src\\core\\space_interaction_API.jl:260\n",
      " [7] wealth_model_3(; dims::Tuple{Int64, Int64}, wealth::Int64, M::Int64, betray::Int64, temp::Float64, alpha::Float64, theta::Int64, Kmax::Int64, lamda::Int64)\n",
      "   @ Main d:\\jianguo\\myvscode\\Julia\\Julia-2024-04-03.ipynb:6\n",
      " [8] wealth_model_3()\n",
      "   @ Main d:\\jianguo\\myvscode\\Julia\\Julia-2024-04-03.ipynb:1\n",
      " [9] top-level scope\n",
      "   @ d:\\jianguo\\myvscode\\Julia\\Julia-2024-04-03.ipynb:1"
     ]
    }
   ],
   "source": [
    "model3 = wealth_model_3()"
   ]
  },
  {
   "cell_type": "code",
   "execution_count": 1,
   "metadata": {},
   "outputs": [
    {
     "data": {
      "text/plain": [
       "513"
      ]
     },
     "metadata": {},
     "output_type": "display_data"
    }
   ],
   "source": [
    "27*19"
   ]
  },
  {
   "cell_type": "code",
   "execution_count": 2,
   "metadata": {},
   "outputs": [
    {
     "data": {
      "text/plain": [
       "92"
      ]
     },
     "metadata": {},
     "output_type": "display_data"
    }
   ],
   "source": [
    "(27+19)*2"
   ]
  },
  {
   "cell_type": "code",
   "execution_count": 3,
   "metadata": {},
   "outputs": [
    {
     "data": {
      "text/plain": [
       "1344"
      ]
     },
     "metadata": {},
     "output_type": "display_data"
    }
   ],
   "source": [
    "48*28"
   ]
  },
  {
   "cell_type": "code",
   "execution_count": 5,
   "metadata": {},
   "outputs": [
    {
     "data": {
      "text/plain": [
       "152"
      ]
     },
     "metadata": {},
     "output_type": "display_data"
    }
   ],
   "source": [
    "(48+28)*2"
   ]
  },
  {
   "cell_type": "code",
   "execution_count": null,
   "metadata": {},
   "outputs": [],
   "source": [
    "N = 2^4\n"
   ]
  },
  {
   "cell_type": "code",
   "execution_count": null,
   "metadata": {},
   "outputs": [],
   "source": [
    "x = fill(1.0f0, N)  # a vector filled with 1.0 (Float32)\n"
   ]
  },
  {
   "cell_type": "code",
   "execution_count": null,
   "metadata": {},
   "outputs": [],
   "source": [
    "y = fill(2.0f0, N)  # a vector filled with 2.0"
   ]
  },
  {
   "cell_type": "code",
   "execution_count": 6,
   "metadata": {},
   "outputs": [],
   "source": [
    "using WAV"
   ]
  },
  {
   "cell_type": "code",
   "execution_count": 7,
   "metadata": {},
   "outputs": [],
   "source": [
    "wavplay(\"data/stage_clear.wav\")"
   ]
  },
  {
   "cell_type": "code",
   "execution_count": 13,
   "metadata": {},
   "outputs": [
    {
     "name": "stdout",
     "output_type": "stream",
     "text": [
      "1713.149082161\n"
     ]
    }
   ],
   "source": [
    "t1 = time()/10^6\n",
    "println(t1)"
   ]
  },
  {
   "cell_type": "code",
   "execution_count": 2,
   "metadata": {},
   "outputs": [
    {
     "data": {
      "text/plain": [
       "1.9901399999999998"
      ]
     },
     "metadata": {},
     "output_type": "display_data"
    }
   ],
   "source": [
    "t1=1.24532\n",
    "t2=3.23546\n",
    "t2-t1\n"
   ]
  },
  {
   "cell_type": "code",
   "execution_count": 4,
   "metadata": {},
   "outputs": [
    {
     "name": "stdout",
     "output_type": "stream",
     "text": [
      "2.0\n"
     ]
    }
   ],
   "source": [
    "println(round(t2-t1; digits=1))"
   ]
  },
  {
   "cell_type": "code",
   "execution_count": 14,
   "metadata": {},
   "outputs": [
    {
     "name": "stdout",
     "output_type": "stream",
     "text": [
      "239566.7984288\n"
     ]
    }
   ],
   "source": [
    "t1 = time_ns()/10^9\n",
    "println(t1)"
   ]
  },
  {
   "cell_type": "code",
   "execution_count": 5,
   "metadata": {},
   "outputs": [
    {
     "data": {
      "text/plain": [
       "9.485000000000001"
      ]
     },
     "metadata": {},
     "output_type": "display_data"
    }
   ],
   "source": [
    "569.1/60"
   ]
  },
  {
   "cell_type": "code",
   "execution_count": 8,
   "metadata": {},
   "outputs": [],
   "source": [
    "using DataFrames"
   ]
  },
  {
   "cell_type": "code",
   "execution_count": 9,
   "metadata": {},
   "outputs": [
    {
     "data": {
      "text/html": [
       "<div><div style = \"float: left;\"><span>3×2 DataFrame</span></div><div style = \"clear: both;\"></div></div><div class = \"data-frame\" style = \"overflow-x: scroll;\"><table class = \"data-frame\" style = \"margin-bottom: 6px;\"><thead><tr class = \"header\"><th class = \"rowNumber\" style = \"font-weight: bold; text-align: right;\">Row</th><th style = \"text-align: left;\">a</th><th style = \"text-align: left;\">b</th></tr><tr class = \"subheader headerLastRow\"><th class = \"rowNumber\" style = \"font-weight: bold; text-align: right;\"></th><th title = \"Int64\" style = \"text-align: left;\">Int64</th><th title = \"Char\" style = \"text-align: left;\">Char</th></tr></thead><tbody><tr><td class = \"rowNumber\" style = \"font-weight: bold; text-align: right;\">1</td><td style = \"text-align: right;\">1</td><td style = \"text-align: left;\">a</td></tr><tr><td class = \"rowNumber\" style = \"font-weight: bold; text-align: right;\">2</td><td style = \"text-align: right;\">2</td><td style = \"text-align: left;\">b</td></tr><tr><td class = \"rowNumber\" style = \"font-weight: bold; text-align: right;\">3</td><td style = \"text-align: right;\">3</td><td style = \"text-align: left;\">c</td></tr></tbody></table></div>"
      ],
      "text/latex": [
       "\\begin{tabular}{r|cc}\n",
       "\t& a & b\\\\\n",
       "\t\\hline\n",
       "\t& Int64 & Char\\\\\n",
       "\t\\hline\n",
       "\t1 & 1 & a \\\\\n",
       "\t2 & 2 & b \\\\\n",
       "\t3 & 3 & c \\\\\n",
       "\\end{tabular}\n"
      ],
      "text/plain": [
       "\u001b[1m3×2 DataFrame\u001b[0m\n",
       "\u001b[1m Row \u001b[0m│\u001b[1m a     \u001b[0m\u001b[1m b    \u001b[0m\n",
       "     │\u001b[90m Int64 \u001b[0m\u001b[90m Char \u001b[0m\n",
       "─────┼─────────────\n",
       "   1 │     1  a\n",
       "   2 │     2  b\n",
       "   3 │     3  c"
      ]
     },
     "metadata": {},
     "output_type": "display_data"
    }
   ],
   "source": [
    "df = DataFrame(a=1:3, b='a':'c')"
   ]
  },
  {
   "cell_type": "code",
   "execution_count": 10,
   "metadata": {},
   "outputs": [
    {
     "data": {
      "text/html": [
       "<div><div style = \"float: left;\"><span>1×2 DataFrame</span></div><div style = \"clear: both;\"></div></div><div class = \"data-frame\" style = \"overflow-x: scroll;\"><table class = \"data-frame\" style = \"margin-bottom: 6px;\"><thead><tr class = \"header\"><th class = \"rowNumber\" style = \"font-weight: bold; text-align: right;\">Row</th><th style = \"text-align: left;\">a</th><th style = \"text-align: left;\">b</th></tr><tr class = \"subheader headerLastRow\"><th class = \"rowNumber\" style = \"font-weight: bold; text-align: right;\"></th><th title = \"Int64\" style = \"text-align: left;\">Int64</th><th title = \"Char\" style = \"text-align: left;\">Char</th></tr></thead><tbody><tr><td class = \"rowNumber\" style = \"font-weight: bold; text-align: right;\">1</td><td style = \"text-align: right;\">1</td><td style = \"text-align: left;\">a</td></tr></tbody></table></div>"
      ],
      "text/latex": [
       "\\begin{tabular}{r|cc}\n",
       "\t& a & b\\\\\n",
       "\t\\hline\n",
       "\t& Int64 & Char\\\\\n",
       "\t\\hline\n",
       "\t1 & 1 & a \\\\\n",
       "\\end{tabular}\n"
      ],
      "text/plain": [
       "\u001b[1m1×2 DataFrame\u001b[0m\n",
       "\u001b[1m Row \u001b[0m│\u001b[1m a     \u001b[0m\u001b[1m b    \u001b[0m\n",
       "     │\u001b[90m Int64 \u001b[0m\u001b[90m Char \u001b[0m\n",
       "─────┼─────────────\n",
       "   1 │     1  a"
      ]
     },
     "metadata": {},
     "output_type": "display_data"
    }
   ],
   "source": [
    "df1 = df[1:1, :] # this is a collection of rows - a data frame in this case"
   ]
  },
  {
   "cell_type": "code",
   "execution_count": 11,
   "metadata": {},
   "outputs": [
    {
     "data": {
      "text/html": [
       "<div><div style = \"float: left;\"><span>DataFrameRow (2 columns)</span></div><div style = \"clear: both;\"></div></div><div class = \"data-frame\" style = \"overflow-x: scroll;\"><table class = \"data-frame\" style = \"margin-bottom: 6px;\"><thead><tr class = \"header\"><th class = \"rowLabel\" style = \"font-weight: bold; text-align: right;\">Row</th><th style = \"text-align: left;\">a</th><th style = \"text-align: left;\">b</th></tr><tr class = \"subheader headerLastRow\"><th class = \"rowLabel\" style = \"font-weight: bold; text-align: right;\"></th><th title = \"Int64\" style = \"text-align: left;\">Int64</th><th title = \"Char\" style = \"text-align: left;\">Char</th></tr></thead><tbody><tr><td class = \"rowLabel\" style = \"font-weight: bold; text-align: right;\">1</td><td style = \"text-align: right;\">1</td><td style = \"text-align: left;\">a</td></tr></tbody></table></div>"
      ],
      "text/latex": [
       "\\begin{tabular}{r|cc}\n",
       "\t& a & b\\\\\n",
       "\t\\hline\n",
       "\t& Int64 & Char\\\\\n",
       "\t\\hline\n",
       "\t1 & 1 & a \\\\\n",
       "\\end{tabular}\n"
      ],
      "text/plain": [
       "\u001b[1mDataFrameRow\u001b[0m\n",
       "\u001b[1m Row \u001b[0m│\u001b[1m a     \u001b[0m\u001b[1m b    \u001b[0m\n",
       "     │\u001b[90m Int64 \u001b[0m\u001b[90m Char \u001b[0m\n",
       "─────┼─────────────\n",
       "   1 │     1  a"
      ]
     },
     "metadata": {},
     "output_type": "display_data"
    }
   ],
   "source": [
    "row1 = df[1, :] # this is an element, a single row"
   ]
  },
  {
   "cell_type": "code",
   "execution_count": 12,
   "metadata": {},
   "outputs": [
    {
     "data": {
      "text/html": [
       "<div><div style = \"float: left;\"><span>4×2 DataFrame</span></div><div style = \"clear: both;\"></div></div><div class = \"data-frame\" style = \"overflow-x: scroll;\"><table class = \"data-frame\" style = \"margin-bottom: 6px;\"><thead><tr class = \"header\"><th class = \"rowNumber\" style = \"font-weight: bold; text-align: right;\">Row</th><th style = \"text-align: left;\">a</th><th style = \"text-align: left;\">b</th></tr><tr class = \"subheader headerLastRow\"><th class = \"rowNumber\" style = \"font-weight: bold; text-align: right;\"></th><th title = \"Int64\" style = \"text-align: left;\">Int64</th><th title = \"Char\" style = \"text-align: left;\">Char</th></tr></thead><tbody><tr><td class = \"rowNumber\" style = \"font-weight: bold; text-align: right;\">1</td><td style = \"text-align: right;\">1</td><td style = \"text-align: left;\">a</td></tr><tr><td class = \"rowNumber\" style = \"font-weight: bold; text-align: right;\">2</td><td style = \"text-align: right;\">2</td><td style = \"text-align: left;\">b</td></tr><tr><td class = \"rowNumber\" style = \"font-weight: bold; text-align: right;\">3</td><td style = \"text-align: right;\">3</td><td style = \"text-align: left;\">c</td></tr><tr><td class = \"rowNumber\" style = \"font-weight: bold; text-align: right;\">4</td><td style = \"text-align: right;\">1</td><td style = \"text-align: left;\">a</td></tr></tbody></table></div>"
      ],
      "text/latex": [
       "\\begin{tabular}{r|cc}\n",
       "\t& a & b\\\\\n",
       "\t\\hline\n",
       "\t& Int64 & Char\\\\\n",
       "\t\\hline\n",
       "\t1 & 1 & a \\\\\n",
       "\t2 & 2 & b \\\\\n",
       "\t3 & 3 & c \\\\\n",
       "\t4 & 1 & a \\\\\n",
       "\\end{tabular}\n"
      ],
      "text/plain": [
       "\u001b[1m4×2 DataFrame\u001b[0m\n",
       "\u001b[1m Row \u001b[0m│\u001b[1m a     \u001b[0m\u001b[1m b    \u001b[0m\n",
       "     │\u001b[90m Int64 \u001b[0m\u001b[90m Char \u001b[0m\n",
       "─────┼─────────────\n",
       "   1 │     1  a\n",
       "   2 │     2  b\n",
       "   3 │     3  c\n",
       "   4 │     1  a"
      ]
     },
     "metadata": {},
     "output_type": "display_data"
    }
   ],
   "source": [
    "append!(df, df1) # use append! to add collections"
   ]
  },
  {
   "cell_type": "code",
   "execution_count": 13,
   "metadata": {},
   "outputs": [
    {
     "data": {
      "text/html": [
       "<div><div style = \"float: left;\"><span>5×2 DataFrame</span></div><div style = \"clear: both;\"></div></div><div class = \"data-frame\" style = \"overflow-x: scroll;\"><table class = \"data-frame\" style = \"margin-bottom: 6px;\"><thead><tr class = \"header\"><th class = \"rowNumber\" style = \"font-weight: bold; text-align: right;\">Row</th><th style = \"text-align: left;\">a</th><th style = \"text-align: left;\">b</th></tr><tr class = \"subheader headerLastRow\"><th class = \"rowNumber\" style = \"font-weight: bold; text-align: right;\"></th><th title = \"Int64\" style = \"text-align: left;\">Int64</th><th title = \"Char\" style = \"text-align: left;\">Char</th></tr></thead><tbody><tr><td class = \"rowNumber\" style = \"font-weight: bold; text-align: right;\">1</td><td style = \"text-align: right;\">1</td><td style = \"text-align: left;\">a</td></tr><tr><td class = \"rowNumber\" style = \"font-weight: bold; text-align: right;\">2</td><td style = \"text-align: right;\">2</td><td style = \"text-align: left;\">b</td></tr><tr><td class = \"rowNumber\" style = \"font-weight: bold; text-align: right;\">3</td><td style = \"text-align: right;\">3</td><td style = \"text-align: left;\">c</td></tr><tr><td class = \"rowNumber\" style = \"font-weight: bold; text-align: right;\">4</td><td style = \"text-align: right;\">1</td><td style = \"text-align: left;\">a</td></tr><tr><td class = \"rowNumber\" style = \"font-weight: bold; text-align: right;\">5</td><td style = \"text-align: right;\">1</td><td style = \"text-align: left;\">a</td></tr></tbody></table></div>"
      ],
      "text/latex": [
       "\\begin{tabular}{r|cc}\n",
       "\t& a & b\\\\\n",
       "\t\\hline\n",
       "\t& Int64 & Char\\\\\n",
       "\t\\hline\n",
       "\t1 & 1 & a \\\\\n",
       "\t2 & 2 & b \\\\\n",
       "\t3 & 3 & c \\\\\n",
       "\t4 & 1 & a \\\\\n",
       "\t5 & 1 & a \\\\\n",
       "\\end{tabular}\n"
      ],
      "text/plain": [
       "\u001b[1m5×2 DataFrame\u001b[0m\n",
       "\u001b[1m Row \u001b[0m│\u001b[1m a     \u001b[0m\u001b[1m b    \u001b[0m\n",
       "     │\u001b[90m Int64 \u001b[0m\u001b[90m Char \u001b[0m\n",
       "─────┼─────────────\n",
       "   1 │     1  a\n",
       "   2 │     2  b\n",
       "   3 │     3  c\n",
       "   4 │     1  a\n",
       "   5 │     1  a"
      ]
     },
     "metadata": {},
     "output_type": "display_data"
    }
   ],
   "source": [
    "push!(df, row1) # use push! to add elements"
   ]
  },
  {
   "cell_type": "code",
   "execution_count": 1,
   "metadata": {},
   "outputs": [
    {
     "data": {
      "text/plain": [
       "1.0f0"
      ]
     },
     "metadata": {},
     "output_type": "display_data"
    }
   ],
   "source": [
    "x=1.0f0"
   ]
  },
  {
   "cell_type": "code",
   "execution_count": 6,
   "metadata": {},
   "outputs": [],
   "source": [
    "using Printf\n"
   ]
  },
  {
   "cell_type": "code",
   "execution_count": 7,
   "metadata": {},
   "outputs": [
    {
     "name": "stdout",
     "output_type": "stream",
     "text": [
      "  1"
     ]
    }
   ],
   "source": [
    "for n in 15:-1:1\n",
    "    @printf(\"\\r%3i\",n)\n",
    "    sleep(0.2)\n",
    "end"
   ]
  },
  {
   "cell_type": "code",
   "execution_count": 7,
   "metadata": {},
   "outputs": [
    {
     "name": "stdout",
     "output_type": "stream",
     "text": [
      "001"
     ]
    }
   ],
   "source": [
    "for n in 15:-1:1\n",
    "    @printf(\"\\r%03i\",n)\n",
    "    sleep(0.2)\n",
    "end"
   ]
  },
  {
   "cell_type": "code",
   "execution_count": 1,
   "metadata": {},
   "outputs": [
    {
     "data": {
      "text/plain": [
       "\"cfc395e8-590f-11e8-1f13-43a2532b2fa8\""
      ]
     },
     "metadata": {},
     "output_type": "display_data"
    }
   ],
   "source": [
    "a=\"cfc395e8-590f-11e8-1f13-43a2532b2fa8\""
   ]
  },
  {
   "cell_type": "code",
   "execution_count": 2,
   "metadata": {},
   "outputs": [
    {
     "data": {
      "text/plain": [
       "36"
      ]
     },
     "metadata": {},
     "output_type": "display_data"
    }
   ],
   "source": [
    "length(a)"
   ]
  },
  {
   "cell_type": "code",
   "execution_count": 8,
   "metadata": {},
   "outputs": [
    {
     "name": "stdout",
     "output_type": "stream",
     "text": [
      "\\\\ $x\n"
     ]
    }
   ],
   "source": [
    "println(raw\"\\\\ $x\")"
   ]
  },
  {
   "cell_type": "code",
   "execution_count": 2,
   "metadata": {},
   "outputs": [
    {
     "name": "stdout",
     "output_type": "stream",
     "text": [
      "\"\n"
     ]
    }
   ],
   "source": [
    "println(raw\"\\\"\")"
   ]
  },
  {
   "cell_type": "code",
   "execution_count": 3,
   "metadata": {},
   "outputs": [
    {
     "ename": "Base.Meta.ParseError",
     "evalue": "ParseError:\n# Error @ d:\\jianguo\\myvscode\\Julia\\Julia-2024-04-03.ipynb:1:18\nprintln(raw\"\\\\\\\\\"\")\n#                └ ── cannot juxtapose string literal",
     "output_type": "error",
     "traceback": [
      "ParseError:\n",
      "# Error @ d:\\jianguo\\myvscode\\Julia\\Julia-2024-04-03.ipynb:1:18\n",
      "println(raw\"\\\\\\\\\"\")\n",
      "#                └ ── cannot juxtapose string literal\n",
      "\n",
      "Stacktrace:\n",
      " [1] top-level scope\n",
      "   @ d:\\jianguo\\myvscode\\Julia\\Julia-2024-04-03.ipynb:1"
     ]
    }
   ],
   "source": [
    "println(raw\"\\\\\\\\\"\")"
   ]
  },
  {
   "cell_type": "code",
   "execution_count": 4,
   "metadata": {},
   "outputs": [
    {
     "name": "stdout",
     "output_type": "stream",
     "text": [
      "Again...tttkkk"
     ]
    }
   ],
   "source": [
    "print(\"Overkkkkkkkkkk\"); print(\"\\rand overttt\"); print(\"\\rAgain...\")"
   ]
  },
  {
   "cell_type": "code",
   "execution_count": 2,
   "metadata": {},
   "outputs": [
    {
     "name": "stdout",
     "output_type": "stream",
     "text": [
      "Enter length of side: \n"
     ]
    }
   ],
   "source": [
    "println(\"Enter length of side: \")\n"
   ]
  },
  {
   "cell_type": "code",
   "execution_count": 3,
   "metadata": {},
   "outputs": [
    {
     "ename": "UndefVarError",
     "evalue": "UndefVarError: `execute_msg` not defined",
     "output_type": "error",
     "traceback": [
      "UndefVarError: `execute_msg` not defined\n",
      "\n",
      "Stacktrace:\n",
      " [1] readprompt(prompt::String; password::Bool)\n",
      "   @ VSCodeServer.IJuliaCore c:\\Users\\xingfu_2\\.vscode\\extensions\\julialang.language-julia-1.76.2\\scripts\\packages\\IJuliaCore\\src\\stdio.jl:190\n",
      " [2] readprompt\n",
      "   @ c:\\Users\\xingfu_2\\.vscode\\extensions\\julialang.language-julia-1.76.2\\scripts\\packages\\IJuliaCore\\src\\stdio.jl:188 [inlined]\n",
      " [3] readline(io::VSCodeServer.IJuliaCore.IJuliaStdio{Base.PipeEndpoint, typeof(VSCodeServer.io_send_callback)})\n",
      "   @ VSCodeServer.IJuliaCore c:\\Users\\xingfu_2\\.vscode\\extensions\\julialang.language-julia-1.76.2\\scripts\\packages\\IJuliaCore\\src\\stdio.jl:232\n",
      " [4] readline()\n",
      "   @ Base .\\io.jl:560\n",
      " [5] top-level scope\n",
      "   @ d:\\jianguo\\myvscode\\Julia\\Julia-2024-04-03.ipynb:1"
     ]
    }
   ],
   "source": [
    "s = readline() # fetch the length typed by the user"
   ]
  },
  {
   "cell_type": "code",
   "execution_count": null,
   "metadata": {},
   "outputs": [],
   "source": [
    "println(\"Area of square is $s\")"
   ]
  },
  {
   "cell_type": "code",
   "execution_count": 5,
   "metadata": {},
   "outputs": [
    {
     "name": "stderr",
     "output_type": "stream",
     "text": [
      "┌ Warning: CUDA runtime library nvrtc64_112_0.dll was loaded from a system path. This may cause errors.\n",
      "│ Ensure that you have not set the LD_LIBRARY_PATH environment variable, or that it does not contain paths to CUDA libraries.\n",
      "└ @ CUDA C:\\Users\\xingfu_2\\.julia\\packages\\CUDA\\fGE8R\\src\\initialization.jl:187\n"
     ]
    }
   ],
   "source": [
    "using CUDA"
   ]
  },
  {
   "cell_type": "code",
   "execution_count": 6,
   "metadata": {},
   "outputs": [
    {
     "name": "stdout",
     "output_type": "stream",
     "text": [
      "CUDA runtime 11.8, artifact installation\n",
      "CUDA driver 11.7\n",
      "Unknown NVIDIA driver\n",
      "\n",
      "CUDA libraries: \n",
      "- CUBLAS: 11.11.3\n",
      "- CURAND: 10.3.0\n",
      "- CUFFT: 10.9.0\n",
      "- CUSOLVER: 11.4.1\n",
      "- CUSPARSE: 11.7.5\n",
      "- CUPTI: 18.0.0\n",
      "- NVML: missing\n",
      "\n",
      "Julia packages: \n",
      "- CUDA: 5.3.0\n",
      "- CUDA_Driver_jll: 0.8.1+0\n",
      "- CUDA_Runtime_jll: 0.12.1+0\n",
      "\n",
      "Toolchain:\n",
      "- Julia: 1.10.2\n",
      "- LLVM: 15.0.7\n",
      "\n",
      "1 device:\n",
      "  0: NVIDIA GeForce GTX 960 (sm_52, 1.631 GiB / 2.000 GiB available)\n"
     ]
    }
   ],
   "source": [
    "CUDA.versioninfo()"
   ]
  },
  {
   "cell_type": "code",
   "execution_count": 2,
   "metadata": {},
   "outputs": [
    {
     "data": {
      "text/plain": [
       "1250.0f0"
      ]
     },
     "metadata": {},
     "output_type": "display_data"
    }
   ],
   "source": [
    "1.25f3"
   ]
  },
  {
   "cell_type": "code",
   "execution_count": 3,
   "metadata": {},
   "outputs": [
    {
     "data": {
      "text/plain": [
       "1250.0"
      ]
     },
     "metadata": {},
     "output_type": "display_data"
    }
   ],
   "source": [
    "1.25e3"
   ]
  },
  {
   "cell_type": "code",
   "execution_count": 7,
   "metadata": {},
   "outputs": [
    {
     "data": {
      "text/plain": [
       "1048576-element Vector{Float32}:\n",
       " 3.0\n",
       " 3.0\n",
       " 3.0\n",
       " 3.0\n",
       " 3.0\n",
       " 3.0\n",
       " 3.0\n",
       " 3.0\n",
       " 3.0\n",
       " 3.0\n",
       " ⋮\n",
       " 3.0\n",
       " 3.0\n",
       " 3.0\n",
       " 3.0\n",
       " 3.0\n",
       " 3.0\n",
       " 3.0\n",
       " 3.0\n",
       " 3.0"
      ]
     },
     "metadata": {},
     "output_type": "display_data"
    }
   ],
   "source": [
    "N = 2^20\n",
    "x = fill(1.0f0, N)  # a vector filled with 1.0 (Float32)\n",
    "y = fill(2.0f0, N)  # a vector filled with 2.0\n",
    "\n",
    "y .+= x             # increment each element of y with the corresponding element of x"
   ]
  },
  {
   "cell_type": "code",
   "execution_count": 8,
   "metadata": {},
   "outputs": [
    {
     "data": {
      "text/plain": [
       "\u001b[32m\u001b[1mTest Passed\u001b[22m\u001b[39m"
      ]
     },
     "metadata": {},
     "output_type": "display_data"
    }
   ],
   "source": [
    "using Test\n",
    "@test all(y .== 3.0f0)"
   ]
  },
  {
   "cell_type": "code",
   "execution_count": 9,
   "metadata": {},
   "outputs": [
    {
     "data": {
      "text/plain": [
       "sequential_add! (generic function with 1 method)"
      ]
     },
     "metadata": {},
     "output_type": "display_data"
    }
   ],
   "source": [
    "function sequential_add!(y, x)\n",
    "    for i in eachindex(y, x)\n",
    "        @inbounds y[i] += x[i]\n",
    "    end\n",
    "    return nothing\n",
    "end"
   ]
  },
  {
   "cell_type": "code",
   "execution_count": 10,
   "metadata": {},
   "outputs": [
    {
     "data": {
      "text/plain": [
       "1048576-element Vector{Float32}:\n",
       " 2.0\n",
       " 2.0\n",
       " 2.0\n",
       " 2.0\n",
       " 2.0\n",
       " 2.0\n",
       " 2.0\n",
       " 2.0\n",
       " 2.0\n",
       " 2.0\n",
       " ⋮\n",
       " 2.0\n",
       " 2.0\n",
       " 2.0\n",
       " 2.0\n",
       " 2.0\n",
       " 2.0\n",
       " 2.0\n",
       " 2.0\n",
       " 2.0"
      ]
     },
     "metadata": {},
     "output_type": "display_data"
    }
   ],
   "source": [
    "fill!(y, 2)"
   ]
  },
  {
   "cell_type": "code",
   "execution_count": 11,
   "metadata": {},
   "outputs": [
    {
     "data": {
      "text/plain": [
       "\u001b[32m\u001b[1mTest Passed\u001b[22m\u001b[39m"
      ]
     },
     "metadata": {},
     "output_type": "display_data"
    }
   ],
   "source": [
    "sequential_add!(y, x)\n",
    "@test all(y .== 3.0f0)"
   ]
  },
  {
   "cell_type": "code",
   "execution_count": 12,
   "metadata": {},
   "outputs": [
    {
     "data": {
      "text/plain": [
       "parallel_add! (generic function with 1 method)"
      ]
     },
     "metadata": {},
     "output_type": "display_data"
    }
   ],
   "source": [
    "function parallel_add!(y, x)\n",
    "    Threads.@threads for i in eachindex(y, x)\n",
    "        @inbounds y[i] += x[i]\n",
    "    end\n",
    "    return nothing\n",
    "end\n",
    "\n"
   ]
  },
  {
   "cell_type": "code",
   "execution_count": 13,
   "metadata": {},
   "outputs": [
    {
     "data": {
      "text/plain": [
       "\u001b[32m\u001b[1mTest Passed\u001b[22m\u001b[39m"
      ]
     },
     "metadata": {},
     "output_type": "display_data"
    }
   ],
   "source": [
    "fill!(y, 2)\n",
    "parallel_add!(y, x)\n",
    "@test all(y .== 3.0f0)"
   ]
  },
  {
   "cell_type": "code",
   "execution_count": 14,
   "metadata": {},
   "outputs": [
    {
     "name": "stdout",
     "output_type": "stream",
     "text": [
      "  216.900 μs (0 allocations: 0 bytes)\n"
     ]
    }
   ],
   "source": [
    "using BenchmarkTools\n",
    "@btime sequential_add!($y, $x)"
   ]
  },
  {
   "cell_type": "code",
   "execution_count": 15,
   "metadata": {},
   "outputs": [
    {
     "name": "stdout",
     "output_type": "stream",
     "text": [
      "  119.300 μs (21 allocations: 2.52 KiB)\n"
     ]
    }
   ],
   "source": [
    "@btime parallel_add!($y, $x)"
   ]
  },
  {
   "cell_type": "code",
   "execution_count": 16,
   "metadata": {},
   "outputs": [
    {
     "data": {
      "text/plain": [
       "1048576-element CuArray{Float32, 1, CUDA.Mem.DeviceBuffer}:\n",
       " 2.0\n",
       " 2.0\n",
       " 2.0\n",
       " 2.0\n",
       " 2.0\n",
       " 2.0\n",
       " 2.0\n",
       " 2.0\n",
       " 2.0\n",
       " 2.0\n",
       " ⋮\n",
       " 2.0\n",
       " 2.0\n",
       " 2.0\n",
       " 2.0\n",
       " 2.0\n",
       " 2.0\n",
       " 2.0\n",
       " 2.0\n",
       " 2.0"
      ]
     },
     "metadata": {},
     "output_type": "display_data"
    }
   ],
   "source": [
    "x_d = CUDA.fill(1.0f0, N)  # a vector stored on the GPU filled with 1.0 (Float32)\n",
    "y_d = CUDA.fill(2.0f0, N)  # a vector stored on the GPU filled with 2.0"
   ]
  },
  {
   "cell_type": "code",
   "execution_count": 17,
   "metadata": {},
   "outputs": [
    {
     "data": {
      "text/plain": [
       "\u001b[32m\u001b[1mTest Passed\u001b[22m\u001b[39m"
      ]
     },
     "metadata": {},
     "output_type": "display_data"
    }
   ],
   "source": [
    "y_d .+= x_d\n",
    "@test all(Array(y_d) .== 3.0f0)"
   ]
  },
  {
   "cell_type": "code",
   "execution_count": 18,
   "metadata": {},
   "outputs": [
    {
     "data": {
      "text/plain": [
       "add_broadcast! (generic function with 1 method)"
      ]
     },
     "metadata": {},
     "output_type": "display_data"
    }
   ],
   "source": [
    "function add_broadcast!(y, x)\n",
    "    CUDA.@sync y .+= x\n",
    "    return\n",
    "end"
   ]
  },
  {
   "cell_type": "code",
   "execution_count": 19,
   "metadata": {},
   "outputs": [
    {
     "name": "stdout",
     "output_type": "stream",
     "text": [
      "  182.600 μs (64 allocations: 1.48 KiB)\n"
     ]
    }
   ],
   "source": [
    "@btime add_broadcast!($y_d, $x_d)"
   ]
  },
  {
   "cell_type": "code",
   "execution_count": 20,
   "metadata": {},
   "outputs": [
    {
     "data": {
      "text/plain": [
       "\u001b[32m\u001b[1mTest Passed\u001b[22m\u001b[39m"
      ]
     },
     "metadata": {},
     "output_type": "display_data"
    }
   ],
   "source": [
    "function gpu_add1!(y, x)\n",
    "    for i = 1:length(y)\n",
    "        @inbounds y[i] += x[i]\n",
    "    end\n",
    "    return nothing\n",
    "end\n",
    "\n",
    "fill!(y_d, 2)\n",
    "@cuda gpu_add1!(y_d, x_d)\n",
    "@test all(Array(y_d) .== 3.0f0)"
   ]
  },
  {
   "cell_type": "code",
   "execution_count": 8,
   "metadata": {},
   "outputs": [
    {
     "data": {
      "text/plain": [
       "3-element Vector{Int64}:\n",
       " 1\n",
       " 1\n",
       " 1"
      ]
     },
     "metadata": {},
     "output_type": "display_data"
    }
   ],
   "source": [
    "a=fill(1,3)"
   ]
  },
  {
   "cell_type": "code",
   "execution_count": 9,
   "metadata": {},
   "outputs": [
    {
     "data": {
      "text/plain": [
       "3-element Vector{Int64}:\n",
       " 2\n",
       " 2\n",
       " 2"
      ]
     },
     "metadata": {},
     "output_type": "display_data"
    }
   ],
   "source": [
    "fill!(a, 2)"
   ]
  },
  {
   "cell_type": "code",
   "execution_count": 21,
   "metadata": {},
   "outputs": [],
   "source": [
    "using Distributed"
   ]
  },
  {
   "cell_type": "code",
   "execution_count": 22,
   "metadata": {},
   "outputs": [
    {
     "data": {
      "text/plain": [
       "4-element Vector{Int64}:\n",
       " 2\n",
       " 3\n",
       " 4\n",
       " 5"
      ]
     },
     "metadata": {},
     "output_type": "display_data"
    }
   ],
   "source": [
    "addprocs(4)"
   ]
  },
  {
   "cell_type": "code",
   "execution_count": 1,
   "metadata": {},
   "outputs": [
    {
     "data": {
      "text/plain": [
       "column (generic function with 1 method)"
      ]
     },
     "metadata": {},
     "output_type": "display_data"
    }
   ],
   "source": [
    "column(j) = [j, j, j]"
   ]
  },
  {
   "cell_type": "code",
   "execution_count": 2,
   "metadata": {},
   "outputs": [
    {
     "data": {
      "text/plain": [
       "3×4 Matrix{Float64}:\n",
       " 1.0  2.0  3.0  4.0\n",
       " 1.0  2.0  3.0  4.0\n",
       " 1.0  2.0  3.0  4.0"
      ]
     },
     "metadata": {},
     "output_type": "display_data"
    }
   ],
   "source": [
    "my_matrix = Float64[column(j)[i] for i in 1:3, j in 1:4]"
   ]
  },
  {
   "cell_type": "code",
   "execution_count": 6,
   "metadata": {},
   "outputs": [
    {
     "data": {
      "text/plain": [
       "b (generic function with 1 method)"
      ]
     },
     "metadata": {},
     "output_type": "display_data"
    }
   ],
   "source": [
    "b(j) = [j, j, j]"
   ]
  },
  {
   "cell_type": "code",
   "execution_count": 4,
   "metadata": {},
   "outputs": [
    {
     "data": {
      "text/plain": [
       "2×3 Matrix{Int64}:\n",
       " 1  2  3\n",
       " 4  5  6"
      ]
     },
     "metadata": {},
     "output_type": "display_data"
    }
   ],
   "source": [
    "A=[1 2 3; 4 5 6]"
   ]
  },
  {
   "cell_type": "code",
   "execution_count": 5,
   "metadata": {},
   "outputs": [
    {
     "data": {
      "text/plain": [
       "2×3 Matrix{Int64}:\n",
       " 1  2  3\n",
       " 4  5  6"
      ]
     },
     "metadata": {},
     "output_type": "display_data"
    }
   ],
   "source": [
    "hcat(A)"
   ]
  },
  {
   "cell_type": "code",
   "execution_count": 7,
   "metadata": {},
   "outputs": [
    {
     "data": {
      "text/plain": [
       "3×3 Matrix{Int64}:\n",
       " 1  2  3\n",
       " 4  5  6\n",
       " 7  8  9"
      ]
     },
     "metadata": {},
     "output_type": "display_data"
    }
   ],
   "source": [
    "a = [1 2 3; 4 5 6; 7 8 9]"
   ]
  },
  {
   "cell_type": "code",
   "execution_count": 8,
   "metadata": {},
   "outputs": [
    {
     "data": {
      "text/plain": [
       "3-element Vector{Vector{Int64}}:\n",
       " [1, 4, 7]\n",
       " [2, 5, 8]\n",
       " [3, 6, 9]"
      ]
     },
     "metadata": {},
     "output_type": "display_data"
    }
   ],
   "source": [
    "(v1, v2, v3) = [a[:,x] for x in 1:size(a,1)]"
   ]
  },
  {
   "cell_type": "code",
   "execution_count": 10,
   "metadata": {},
   "outputs": [
    {
     "data": {
      "text/plain": [
       "4×3 Matrix{Int64}:\n",
       "  1   2   3\n",
       "  4   5   6\n",
       "  7   8   9\n",
       " 10  11  12"
      ]
     },
     "metadata": {},
     "output_type": "display_data"
    }
   ],
   "source": [
    "a = [1 2 3; 4 5 6; 7 8 9; 10 11 12]"
   ]
  },
  {
   "cell_type": "code",
   "execution_count": 11,
   "metadata": {},
   "outputs": [
    {
     "data": {
      "text/plain": [
       "3"
      ]
     },
     "metadata": {},
     "output_type": "display_data"
    }
   ],
   "source": [
    "size(a, 2)"
   ]
  },
  {
   "cell_type": "code",
   "execution_count": 12,
   "metadata": {},
   "outputs": [
    {
     "ename": "MethodError",
     "evalue": "MethodError: no method matching (Array{Float64})(::UnitRange{Int64}, ::Int64, ::Int64, ::Int64)\n\nClosest candidates are:\n  (Array{T})(!Matched::Missing, ::Any...) where T\n   @ Base baseext.jl:46\n  (Array{T})(!Matched::UndefInitializer, ::Int64, ::Int64, ::Int64) where T\n   @ Core boot.jl:493\n  (Array{T})(!Matched::UndefInitializer, ::Integer, ::Integer, ::Integer) where T\n   @ Base baseext.jl:29\n  ...\n",
     "output_type": "error",
     "traceback": [
      "MethodError: no method matching (Array{Float64})(::UnitRange{Int64}, ::Int64, ::Int64, ::Int64)\n",
      "\n",
      "Closest candidates are:\n",
      "  (Array{T})(!Matched::Missing, ::Any...) where T\n",
      "   @ Base baseext.jl:46\n",
      "  (Array{T})(!Matched::UndefInitializer, ::Int64, ::Int64, ::Int64) where T\n",
      "   @ Core boot.jl:493\n",
      "  (Array{T})(!Matched::UndefInitializer, ::Integer, ::Integer, ::Integer) where T\n",
      "   @ Base baseext.jl:29\n",
      "  ...\n",
      "\n",
      "\n",
      "Stacktrace:\n",
      " [1] top-level scope\n",
      "   @ d:\\jianguo\\myvscode\\Julia\\Julia-2024-04-03.ipynb:1"
     ]
    }
   ],
   "source": [
    "A=Array{Float64}(1:24,4,3,2)"
   ]
  },
  {
   "cell_type": "code",
   "execution_count": 6,
   "metadata": {},
   "outputs": [
    {
     "data": {
      "text/plain": [
       "4×3×2 reshape(::UnitRange{Int64}, 4, 3, 2) with eltype Int64:\n",
       "[:, :, 1] =\n",
       " 1  5   9\n",
       " 2  6  10\n",
       " 3  7  11\n",
       " 4  8  12\n",
       "\n",
       "[:, :, 2] =\n",
       " 13  17  21\n",
       " 14  18  22\n",
       " 15  19  23\n",
       " 16  20  24"
      ]
     },
     "metadata": {},
     "output_type": "display_data"
    }
   ],
   "source": [
    "A = reshape(1:24, 4, 3, 2)"
   ]
  },
  {
   "cell_type": "code",
   "execution_count": 7,
   "metadata": {},
   "outputs": [
    {
     "data": {
      "text/plain": [
       "1×3×2 Array{Int64, 3}:\n",
       "[:, :, 1] =\n",
       " 10  26  42\n",
       "\n",
       "[:, :, 2] =\n",
       " 58  74  90"
      ]
     },
     "metadata": {},
     "output_type": "display_data"
    }
   ],
   "source": [
    "result=sum(A, dims=1)"
   ]
  },
  {
   "cell_type": "code",
   "execution_count": 3,
   "metadata": {},
   "outputs": [
    {
     "data": {
      "text/plain": [
       "4×1×1 Array{Int64, 3}:\n",
       "[:, :, 1] =\n",
       " 66\n",
       " 72\n",
       " 78\n",
       " 84"
      ]
     },
     "metadata": {},
     "output_type": "display_data"
    }
   ],
   "source": [
    "sum(A, dims=(2,3))"
   ]
  },
  {
   "cell_type": "code",
   "execution_count": 2,
   "metadata": {},
   "outputs": [
    {
     "data": {
      "text/plain": [
       "1×1×2 Array{Int64, 3}:\n",
       "[:, :, 1] =\n",
       " 78\n",
       "\n",
       "[:, :, 2] =\n",
       " 222"
      ]
     },
     "metadata": {},
     "output_type": "display_data"
    }
   ],
   "source": [
    "sum(A, dims=(1,2))"
   ]
  },
  {
   "cell_type": "code",
   "execution_count": 5,
   "metadata": {},
   "outputs": [
    {
     "data": {
      "text/plain": [
       "0"
      ]
     },
     "metadata": {},
     "output_type": "display_data"
    }
   ],
   "source": [
    "rand(0:1)"
   ]
  },
  {
   "cell_type": "code",
   "execution_count": 7,
   "metadata": {},
   "outputs": [
    {
     "ename": "MethodError",
     "evalue": "MethodError: no method matching rand(::UnitRange{Int64}; dims::Tuple{Int64, Int64})\n\nClosest candidates are:\n  rand(::Any, !Matched::Integer, !Matched::Integer...) got unsupported keyword argument \"dims\"\n   @ Random C:\\Users\\xingfu_2\\AppData\\Local\\Programs\\Julia-1.10.2\\share\\julia\\stdlib\\v1.10\\Random\\src\\Random.jl:285\n  rand(::Any, !Matched::Tuple{Vararg{Int64, N}} where N) got unsupported keyword argument \"dims\"\n   @ Random C:\\Users\\xingfu_2\\AppData\\Local\\Programs\\Julia-1.10.2\\share\\julia\\stdlib\\v1.10\\Random\\src\\Random.jl:282\n  rand(::Any) got unsupported keyword argument \"dims\"\n   @ Random C:\\Users\\xingfu_2\\AppData\\Local\\Programs\\Julia-1.10.2\\share\\julia\\stdlib\\v1.10\\Random\\src\\Random.jl:260\n  ...\n",
     "output_type": "error",
     "traceback": [
      "MethodError: no method matching rand(::UnitRange{Int64}; dims::Tuple{Int64, Int64})\n",
      "\n",
      "Closest candidates are:\n",
      "  rand(::Any, !Matched::Integer, !Matched::Integer...) got unsupported keyword argument \"dims\"\n",
      "   @ Random C:\\Users\\xingfu_2\\AppData\\Local\\Programs\\Julia-1.10.2\\share\\julia\\stdlib\\v1.10\\Random\\src\\Random.jl:285\n",
      "  rand(::Any, !Matched::Tuple{Vararg{Int64, N}} where N) got unsupported keyword argument \"dims\"\n",
      "   @ Random C:\\Users\\xingfu_2\\AppData\\Local\\Programs\\Julia-1.10.2\\share\\julia\\stdlib\\v1.10\\Random\\src\\Random.jl:282\n",
      "  rand(::Any) got unsupported keyword argument \"dims\"\n",
      "   @ Random C:\\Users\\xingfu_2\\AppData\\Local\\Programs\\Julia-1.10.2\\share\\julia\\stdlib\\v1.10\\Random\\src\\Random.jl:260\n",
      "  ...\n",
      "\n",
      "\n",
      "Stacktrace:\n",
      " [1] top-level scope\n",
      "   @ d:\\jianguo\\myvscode\\Julia\\Julia-2024-04-03.ipynb:1"
     ]
    }
   ],
   "source": [
    "A=rand(0:1, dims=(100, 100) )"
   ]
  },
  {
   "cell_type": "code",
   "execution_count": 8,
   "metadata": {},
   "outputs": [
    {
     "data": {
      "text/plain": [
       "100×100 Matrix{Int64}:\n",
       " 0  1  1  1  1  1  0  0  0  0  0  1  1  …  0  0  0  1  0  0  0  1  0  0  0  1\n",
       " 0  1  1  0  0  0  1  0  0  0  0  0  0     1  0  0  0  0  0  0  1  1  1  1  0\n",
       " 1  0  1  0  0  1  1  1  0  0  1  1  0     1  0  1  1  0  0  1  0  0  0  0  0\n",
       " 0  1  0  0  1  0  0  0  1  1  0  0  1     0  0  0  1  0  1  1  1  1  1  0  0\n",
       " 0  0  0  1  1  0  1  1  1  1  0  1  0     1  0  1  1  0  0  1  0  1  1  0  0\n",
       " 1  1  0  1  1  0  1  1  0  1  0  1  0  …  1  1  1  1  1  0  0  0  1  1  0  1\n",
       " 1  1  0  1  0  1  1  0  1  0  1  1  1     1  1  0  1  1  1  0  1  1  0  0  0\n",
       " 0  0  1  1  1  1  1  1  1  0  1  1  1     1  0  1  1  1  1  1  1  0  0  1  1\n",
       " 0  1  1  0  0  0  0  0  0  0  1  1  1     1  1  1  1  1  0  0  0  1  0  0  0\n",
       " 0  1  0  1  0  1  1  0  0  1  1  1  0     0  0  1  0  0  0  0  0  0  0  1  1\n",
       " ⋮              ⋮              ⋮        ⋱        ⋮              ⋮           \n",
       " 1  1  1  1  1  0  0  0  1  0  1  1  1     0  0  1  1  0  0  1  1  1  1  1  1\n",
       " 1  0  0  0  1  1  1  0  1  0  1  1  1     1  1  1  1  0  1  0  0  0  1  0  1\n",
       " 0  1  0  1  1  1  1  1  0  1  1  1  0     1  0  0  1  0  0  1  0  0  0  1  0\n",
       " 1  0  0  1  0  0  0  1  0  1  1  1  1     1  0  1  1  1  1  1  1  0  1  0  1\n",
       " 1  0  1  1  0  1  0  0  1  1  1  1  0  …  0  1  0  1  0  1  0  1  0  0  0  0\n",
       " 1  1  0  0  0  1  1  1  1  1  0  0  0     0  0  0  0  0  1  1  0  1  1  0  0\n",
       " 1  0  0  0  1  0  0  0  1  0  0  0  0     1  1  0  0  0  0  0  1  1  1  1  1\n",
       " 1  0  1  0  1  0  0  0  0  1  0  1  1     1  0  1  1  1  1  1  1  0  0  1  0\n",
       " 1  0  0  1  1  0  1  1  0  0  1  0  0     0  0  0  1  1  0  1  1  0  0  1  1"
      ]
     },
     "metadata": {},
     "output_type": "display_data"
    }
   ],
   "source": [
    "A=rand(0:1, 100, 100 )"
   ]
  },
  {
   "cell_type": "code",
   "execution_count": 9,
   "metadata": {},
   "outputs": [
    {
     "data": {
      "text/plain": [
       "2×3 Matrix{Float64}:\n",
       " 1.0  1.0  1.0\n",
       " 1.0  1.0  1.0"
      ]
     },
     "metadata": {},
     "output_type": "display_data"
    }
   ],
   "source": [
    "ones(2,3)"
   ]
  },
  {
   "cell_type": "code",
   "execution_count": 10,
   "metadata": {},
   "outputs": [
    {
     "data": {
      "text/plain": [
       "2×3 Matrix{Float64}:\n",
       " 0.0  0.0  0.0\n",
       " 0.0  0.0  0.0"
      ]
     },
     "metadata": {},
     "output_type": "display_data"
    }
   ],
   "source": [
    "zeros(2,3)"
   ]
  },
  {
   "cell_type": "code",
   "execution_count": 11,
   "metadata": {},
   "outputs": [
    {
     "data": {
      "text/plain": [
       "2×3 Matrix{Float64}:\n",
       " 0.635751  0.613479  0.0409001\n",
       " 0.916566  0.885217  0.377273"
      ]
     },
     "metadata": {},
     "output_type": "display_data"
    }
   ],
   "source": [
    "rand(2,3)"
   ]
  },
  {
   "cell_type": "code",
   "execution_count": 12,
   "metadata": {},
   "outputs": [
    {
     "data": {
      "text/plain": [
       "3-element Vector{Float64}:\n",
       " 0.5459380506516598\n",
       " 0.2133491043394643\n",
       " 0.017052998928948293"
      ]
     },
     "metadata": {},
     "output_type": "display_data"
    }
   ],
   "source": [
    "rand(3)"
   ]
  },
  {
   "cell_type": "code",
   "execution_count": 13,
   "metadata": {},
   "outputs": [
    {
     "data": {
      "text/plain": [
       "3-element Vector{Float64}:\n",
       " 1.0\n",
       " 1.0\n",
       " 1.0"
      ]
     },
     "metadata": {},
     "output_type": "display_data"
    }
   ],
   "source": [
    "ones(3)"
   ]
  },
  {
   "cell_type": "code",
   "execution_count": 17,
   "metadata": {},
   "outputs": [
    {
     "data": {
      "text/plain": [
       "3"
      ]
     },
     "metadata": {},
     "output_type": "display_data"
    }
   ],
   "source": [
    "n = 3"
   ]
  },
  {
   "cell_type": "code",
   "execution_count": 15,
   "metadata": {},
   "outputs": [
    {
     "ename": "UndefVarError",
     "evalue": "UndefVarError: `I` not defined",
     "output_type": "error",
     "traceback": [
      "UndefVarError: `I` not defined\n",
      "\n",
      "Stacktrace:\n",
      " [1] top-level scope\n",
      "   @ d:\\jianguo\\myvscode\\Julia\\Julia-2024-04-03.ipynb:3"
     ]
    }
   ],
   "source": [
    "identity_matrix = Matrix{Float64}(I, n, n)"
   ]
  },
  {
   "cell_type": "code",
   "execution_count": 16,
   "metadata": {},
   "outputs": [
    {
     "ename": "UndefVarError",
     "evalue": "UndefVarError: `I` not defined",
     "output_type": "error",
     "traceback": [
      "UndefVarError: `I` not defined\n",
      "\n",
      "Stacktrace:\n",
      " [1] top-level scope\n",
      "   @ d:\\jianguo\\myvscode\\Julia\\Julia-2024-04-03.ipynb:1"
     ]
    }
   ],
   "source": [
    "identity_matrix = I(n)"
   ]
  },
  {
   "cell_type": "code",
   "execution_count": 18,
   "metadata": {},
   "outputs": [
    {
     "ename": "UndefVarError",
     "evalue": "UndefVarError: `Diagonal` not defined",
     "output_type": "error",
     "traceback": [
      "UndefVarError: `Diagonal` not defined\n",
      "\n",
      "Stacktrace:\n",
      " [1] top-level scope\n",
      "   @ d:\\jianguo\\myvscode\\Julia\\Julia-2024-04-03.ipynb:1"
     ]
    }
   ],
   "source": [
    "identity_matrix = Diagonal(ones(n))"
   ]
  },
  {
   "cell_type": "code",
   "execution_count": 1,
   "metadata": {},
   "outputs": [
    {
     "data": {
      "text/plain": [
       "2×2 Matrix{Int64}:\n",
       " 1  2\n",
       " 3  4"
      ]
     },
     "metadata": {},
     "output_type": "display_data"
    }
   ],
   "source": [
    "A = [1 2; 3 4]"
   ]
  },
  {
   "cell_type": "code",
   "execution_count": 8,
   "metadata": {},
   "outputs": [
    {
     "data": {
      "text/plain": [
       "3×3 reshape(::UnitRange{Int64}, 3, 3) with eltype Int64:\n",
       " 1  4  7\n",
       " 2  5  8\n",
       " 3  6  9"
      ]
     },
     "metadata": {},
     "output_type": "display_data"
    }
   ],
   "source": [
    "A = reshape(1:9, 3, 3)"
   ]
  },
  {
   "cell_type": "code",
   "execution_count": 4,
   "metadata": {},
   "outputs": [
    {
     "data": {
      "text/plain": [
       "3×3 Matrix{Int64}:\n",
       " 7  4  1\n",
       " 8  5  2\n",
       " 9  6  3"
      ]
     },
     "metadata": {},
     "output_type": "display_data"
    }
   ],
   "source": [
    "reverse(A, dims = 2)"
   ]
  },
  {
   "cell_type": "code",
   "execution_count": 5,
   "metadata": {},
   "outputs": [
    {
     "data": {
      "text/plain": [
       "3×3 Matrix{Int64}:\n",
       " 3  6  9\n",
       " 2  5  8\n",
       " 1  4  7"
      ]
     },
     "metadata": {},
     "output_type": "display_data"
    }
   ],
   "source": [
    "reverse(A, dims = 1)"
   ]
  },
  {
   "cell_type": "code",
   "execution_count": 13,
   "metadata": {},
   "outputs": [
    {
     "data": {
      "text/plain": [
       "3×3 reshape(::UnitRange{Int64}, 3, 3) with eltype Int64:\n",
       " 1  4  7\n",
       " 2  5  8\n",
       " 3  6  9"
      ]
     },
     "metadata": {},
     "output_type": "display_data"
    }
   ],
   "source": [
    "A = reshape(1:9, 3, 3)"
   ]
  },
  {
   "cell_type": "code",
   "execution_count": 14,
   "metadata": {},
   "outputs": [
    {
     "data": {
      "text/plain": [
       "3×3 Matrix{Int64}:\n",
       " 2  5  8\n",
       " 3  6  9\n",
       " 1  4  7"
      ]
     },
     "metadata": {},
     "output_type": "display_data"
    }
   ],
   "source": [
    "B=circshift(A, -1)"
   ]
  },
  {
   "cell_type": "code",
   "execution_count": 10,
   "metadata": {},
   "outputs": [
    {
     "data": {
      "text/plain": [
       "3×3 Matrix{Int64}:\n",
       " 7  1  4\n",
       " 8  2  5\n",
       " 9  3  6"
      ]
     },
     "metadata": {},
     "output_type": "display_data"
    }
   ],
   "source": [
    "C=circshift(A, (0, 1))"
   ]
  },
  {
   "cell_type": "code",
   "execution_count": 12,
   "metadata": {},
   "outputs": [
    {
     "data": {
      "text/plain": [
       "4×4 reshape(::UnitRange{Int64}, 4, 4) with eltype Int64:\n",
       " 1  5   9  13\n",
       " 2  6  10  14\n",
       " 3  7  11  15\n",
       " 4  8  12  16"
      ]
     },
     "metadata": {},
     "output_type": "display_data"
    }
   ],
   "source": [
    "A= reshape(1:16, 4, 4)"
   ]
  },
  {
   "cell_type": "code",
   "execution_count": 15,
   "metadata": {},
   "outputs": [],
   "source": [
    "using LinearAlgebra"
   ]
  },
  {
   "cell_type": "code",
   "execution_count": 16,
   "metadata": {},
   "outputs": [
    {
     "data": {
      "text/plain": [
       "3"
      ]
     },
     "metadata": {},
     "output_type": "display_data"
    }
   ],
   "source": [
    "n=3"
   ]
  },
  {
   "cell_type": "code",
   "execution_count": 17,
   "metadata": {},
   "outputs": [
    {
     "data": {
      "text/plain": [
       "3×3 Diagonal{Bool, Vector{Bool}}:\n",
       " 1  ⋅  ⋅\n",
       " ⋅  1  ⋅\n",
       " ⋅  ⋅  1"
      ]
     },
     "metadata": {},
     "output_type": "display_data"
    }
   ],
   "source": [
    "D=I(n)"
   ]
  },
  {
   "cell_type": "code",
   "execution_count": 19,
   "metadata": {},
   "outputs": [
    {
     "data": {
      "text/plain": [
       "3×3 Matrix{Int64}:\n",
       " 1  0  0\n",
       " 0  1  0\n",
       " 0  0  1"
      ]
     },
     "metadata": {},
     "output_type": "display_data"
    }
   ],
   "source": [
    "D=Matrix{Int}(I, n, n)"
   ]
  },
  {
   "cell_type": "code",
   "execution_count": 20,
   "metadata": {},
   "outputs": [
    {
     "data": {
      "text/plain": [
       "3×3 Matrix{Int64}:\n",
       " 0  0  1\n",
       " 1  0  0\n",
       " 0  1  0"
      ]
     },
     "metadata": {},
     "output_type": "display_data"
    }
   ],
   "source": [
    "ftm= circshift(D, 1)"
   ]
  },
  {
   "cell_type": "code",
   "execution_count": 21,
   "metadata": {},
   "outputs": [
    {
     "data": {
      "text/plain": [
       "4"
      ]
     },
     "metadata": {},
     "output_type": "display_data"
    }
   ],
   "source": [
    "n=4"
   ]
  },
  {
   "cell_type": "code",
   "execution_count": 22,
   "metadata": {},
   "outputs": [
    {
     "data": {
      "text/plain": [
       "4×4 reshape(::UnitRange{Int64}, 4, 4) with eltype Int64:\n",
       " 1  5   9  13\n",
       " 2  6  10  14\n",
       " 3  7  11  15\n",
       " 4  8  12  16"
      ]
     },
     "metadata": {},
     "output_type": "display_data"
    }
   ],
   "source": [
    "A= reshape(1:16, n, n)"
   ]
  },
  {
   "cell_type": "code",
   "execution_count": 23,
   "metadata": {},
   "outputs": [
    {
     "data": {
      "text/plain": [
       "4×4 Matrix{Int64}:\n",
       " 0  0  0  1\n",
       " 1  0  0  0\n",
       " 0  1  0  0\n",
       " 0  0  1  0"
      ]
     },
     "metadata": {},
     "output_type": "display_data"
    }
   ],
   "source": [
    "D=Matrix{Int}(I, n, n)  \n",
    "ftm= circshift(D, 1)"
   ]
  },
  {
   "cell_type": "code",
   "execution_count": 24,
   "metadata": {},
   "outputs": [
    {
     "data": {
      "text/plain": [
       "4×4 Matrix{Int64}:\n",
       " 4  8  12  16\n",
       " 1  5   9  13\n",
       " 2  6  10  14\n",
       " 3  7  11  15"
      ]
     },
     "metadata": {},
     "output_type": "display_data"
    }
   ],
   "source": [
    "A2=ftm*A"
   ]
  },
  {
   "cell_type": "code",
   "execution_count": 25,
   "metadata": {},
   "outputs": [
    {
     "data": {
      "text/plain": [
       "4×4 Matrix{Int64}:\n",
       " 4  8  12  16\n",
       " 1  5   9  13\n",
       " 2  6  10  14\n",
       " 3  7  11  15"
      ]
     },
     "metadata": {},
     "output_type": "display_data"
    }
   ],
   "source": [
    "A3=circshift(A, 1)"
   ]
  },
  {
   "cell_type": "code",
   "execution_count": 26,
   "metadata": {},
   "outputs": [
    {
     "data": {
      "text/plain": [
       "true"
      ]
     },
     "metadata": {},
     "output_type": "display_data"
    }
   ],
   "source": [
    "1 === 1"
   ]
  },
  {
   "cell_type": "code",
   "execution_count": 27,
   "metadata": {},
   "outputs": [
    {
     "data": {
      "text/plain": [
       "true"
      ]
     },
     "metadata": {},
     "output_type": "display_data"
    }
   ],
   "source": [
    "1 == 1"
   ]
  },
  {
   "cell_type": "code",
   "execution_count": 28,
   "metadata": {},
   "outputs": [
    {
     "data": {
      "text/plain": [
       "true"
      ]
     },
     "metadata": {},
     "output_type": "display_data"
    }
   ],
   "source": [
    "A2 == A3"
   ]
  },
  {
   "cell_type": "code",
   "execution_count": 29,
   "metadata": {},
   "outputs": [
    {
     "data": {
      "text/plain": [
       "false"
      ]
     },
     "metadata": {},
     "output_type": "display_data"
    }
   ],
   "source": [
    "A2 === A3"
   ]
  },
  {
   "cell_type": "code",
   "execution_count": 30,
   "metadata": {},
   "outputs": [
    {
     "data": {
      "text/plain": [
       "4×4 Matrix{Int64}:\n",
       " 4  8  12  16\n",
       " 1  5   9  13\n",
       " 2  6  10  14\n",
       " 3  7  11  15"
      ]
     },
     "metadata": {},
     "output_type": "display_data"
    }
   ],
   "source": [
    "A4=A3"
   ]
  },
  {
   "cell_type": "code",
   "execution_count": 31,
   "metadata": {},
   "outputs": [
    {
     "data": {
      "text/plain": [
       "true"
      ]
     },
     "metadata": {},
     "output_type": "display_data"
    }
   ],
   "source": [
    "A4 == A3"
   ]
  },
  {
   "cell_type": "code",
   "execution_count": 33,
   "metadata": {},
   "outputs": [
    {
     "data": {
      "text/plain": [
       "true"
      ]
     },
     "metadata": {},
     "output_type": "display_data"
    }
   ],
   "source": [
    "A4 === A3"
   ]
  },
  {
   "cell_type": "code",
   "execution_count": 34,
   "metadata": {},
   "outputs": [],
   "source": [
    "using BenchmarkTools"
   ]
  },
  {
   "cell_type": "code",
   "execution_count": 35,
   "metadata": {},
   "outputs": [
    {
     "data": {
      "text/plain": [
       "100×100 Matrix{Int64}:\n",
       " 0  0  0  0  0  0  0  0  0  0  0  0  0  …  0  0  0  0  0  0  0  0  0  0  0  1\n",
       " 1  0  0  0  0  0  0  0  0  0  0  0  0     0  0  0  0  0  0  0  0  0  0  0  0\n",
       " 0  1  0  0  0  0  0  0  0  0  0  0  0     0  0  0  0  0  0  0  0  0  0  0  0\n",
       " 0  0  1  0  0  0  0  0  0  0  0  0  0     0  0  0  0  0  0  0  0  0  0  0  0\n",
       " 0  0  0  1  0  0  0  0  0  0  0  0  0     0  0  0  0  0  0  0  0  0  0  0  0\n",
       " 0  0  0  0  1  0  0  0  0  0  0  0  0  …  0  0  0  0  0  0  0  0  0  0  0  0\n",
       " 0  0  0  0  0  1  0  0  0  0  0  0  0     0  0  0  0  0  0  0  0  0  0  0  0\n",
       " 0  0  0  0  0  0  1  0  0  0  0  0  0     0  0  0  0  0  0  0  0  0  0  0  0\n",
       " 0  0  0  0  0  0  0  1  0  0  0  0  0     0  0  0  0  0  0  0  0  0  0  0  0\n",
       " 0  0  0  0  0  0  0  0  1  0  0  0  0     0  0  0  0  0  0  0  0  0  0  0  0\n",
       " ⋮              ⋮              ⋮        ⋱        ⋮              ⋮           \n",
       " 0  0  0  0  0  0  0  0  0  0  0  0  0     0  0  1  0  0  0  0  0  0  0  0  0\n",
       " 0  0  0  0  0  0  0  0  0  0  0  0  0     0  0  0  1  0  0  0  0  0  0  0  0\n",
       " 0  0  0  0  0  0  0  0  0  0  0  0  0     0  0  0  0  1  0  0  0  0  0  0  0\n",
       " 0  0  0  0  0  0  0  0  0  0  0  0  0     0  0  0  0  0  1  0  0  0  0  0  0\n",
       " 0  0  0  0  0  0  0  0  0  0  0  0  0  …  0  0  0  0  0  0  1  0  0  0  0  0\n",
       " 0  0  0  0  0  0  0  0  0  0  0  0  0     0  0  0  0  0  0  0  1  0  0  0  0\n",
       " 0  0  0  0  0  0  0  0  0  0  0  0  0     0  0  0  0  0  0  0  0  1  0  0  0\n",
       " 0  0  0  0  0  0  0  0  0  0  0  0  0     0  0  0  0  0  0  0  0  0  1  0  0\n",
       " 0  0  0  0  0  0  0  0  0  0  0  0  0     0  0  0  0  0  0  0  0  0  0  1  0"
      ]
     },
     "metadata": {},
     "output_type": "display_data"
    }
   ],
   "source": [
    "n=100\n",
    "A=rand(0:1, n, n )\n",
    "D=Matrix{Int}(I, n, n)  \n",
    "ftm= circshift(D, 1)"
   ]
  },
  {
   "cell_type": "code",
   "execution_count": 36,
   "metadata": {},
   "outputs": [
    {
     "name": "stdout",
     "output_type": "stream",
     "text": [
      "  362.900 μs (6 allocations: 108.94 KiB)\n"
     ]
    },
    {
     "data": {
      "text/plain": [
       "100×100 Matrix{Int64}:\n",
       " 1  0  0  1  1  0  0  1  1  1  1  1  1  …  0  0  0  0  1  1  1  0  1  1  1  0\n",
       " 0  1  1  1  1  0  0  0  1  1  1  0  0     1  1  1  0  1  1  1  1  1  1  0  0\n",
       " 0  0  1  0  0  1  0  0  0  1  1  1  1     1  0  0  1  0  1  1  0  1  1  0  0\n",
       " 0  0  1  0  0  0  0  1  1  0  1  1  1     1  1  1  1  0  1  0  1  1  0  1  0\n",
       " 1  1  0  1  0  0  1  1  1  1  1  1  1     0  0  1  0  0  0  0  1  0  0  1  0\n",
       " 0  1  1  0  1  0  1  0  0  0  1  1  0  …  1  1  1  1  0  1  1  0  0  1  0  0\n",
       " 0  1  0  1  0  1  0  0  1  1  1  1  0     1  1  0  0  1  0  0  0  1  1  1  0\n",
       " 1  1  0  0  1  1  1  1  0  0  0  0  1     1  1  0  0  0  0  0  0  1  1  0  1\n",
       " 1  0  1  0  0  0  1  1  0  1  0  0  0     1  1  1  0  0  1  1  0  1  0  0  1\n",
       " 0  1  1  1  0  1  0  1  1  0  0  0  1     0  0  0  0  1  0  0  0  1  1  0  1\n",
       " ⋮              ⋮              ⋮        ⋱        ⋮              ⋮           \n",
       " 1  0  0  0  0  0  1  1  1  0  1  1  1     0  1  0  0  0  1  0  0  0  1  1  0\n",
       " 0  0  1  0  0  1  1  1  0  0  1  1  1     0  1  0  1  0  1  0  0  0  0  1  1\n",
       " 0  1  0  0  1  1  1  0  1  1  0  0  0     0  0  1  1  0  1  1  1  0  1  0  0\n",
       " 1  1  1  1  0  1  0  1  1  1  1  1  1     0  0  1  0  1  1  0  0  1  1  1  1\n",
       " 1  1  0  0  1  1  1  0  0  1  0  0  1  …  1  0  0  0  1  1  0  0  1  1  1  0\n",
       " 0  1  0  0  0  0  0  0  1  1  1  0  1     1  1  0  0  0  0  1  0  1  1  1  0\n",
       " 1  1  0  0  1  1  1  0  0  0  1  0  1     1  1  0  1  1  0  1  0  0  0  0  0\n",
       " 0  0  0  1  1  0  1  1  1  0  1  1  1     1  1  0  1  1  0  1  1  1  1  0  0\n",
       " 1  0  1  1  0  1  1  0  1  1  1  0  0     0  0  1  1  0  0  1  0  0  1  0  0"
      ]
     },
     "metadata": {},
     "output_type": "display_data"
    }
   ],
   "source": [
    "@btime A2=ftm*A"
   ]
  },
  {
   "cell_type": "code",
   "execution_count": 37,
   "metadata": {},
   "outputs": [
    {
     "name": "stdout",
     "output_type": "stream",
     "text": [
      "  6.350 μs (2 allocations: 78.17 KiB)\n"
     ]
    },
    {
     "data": {
      "text/plain": [
       "100×100 Matrix{Int64}:\n",
       " 1  0  0  1  1  0  0  1  1  1  1  1  1  …  0  0  0  0  1  1  1  0  1  1  1  0\n",
       " 0  1  1  1  1  0  0  0  1  1  1  0  0     1  1  1  0  1  1  1  1  1  1  0  0\n",
       " 0  0  1  0  0  1  0  0  0  1  1  1  1     1  0  0  1  0  1  1  0  1  1  0  0\n",
       " 0  0  1  0  0  0  0  1  1  0  1  1  1     1  1  1  1  0  1  0  1  1  0  1  0\n",
       " 1  1  0  1  0  0  1  1  1  1  1  1  1     0  0  1  0  0  0  0  1  0  0  1  0\n",
       " 0  1  1  0  1  0  1  0  0  0  1  1  0  …  1  1  1  1  0  1  1  0  0  1  0  0\n",
       " 0  1  0  1  0  1  0  0  1  1  1  1  0     1  1  0  0  1  0  0  0  1  1  1  0\n",
       " 1  1  0  0  1  1  1  1  0  0  0  0  1     1  1  0  0  0  0  0  0  1  1  0  1\n",
       " 1  0  1  0  0  0  1  1  0  1  0  0  0     1  1  1  0  0  1  1  0  1  0  0  1\n",
       " 0  1  1  1  0  1  0  1  1  0  0  0  1     0  0  0  0  1  0  0  0  1  1  0  1\n",
       " ⋮              ⋮              ⋮        ⋱        ⋮              ⋮           \n",
       " 1  0  0  0  0  0  1  1  1  0  1  1  1     0  1  0  0  0  1  0  0  0  1  1  0\n",
       " 0  0  1  0  0  1  1  1  0  0  1  1  1     0  1  0  1  0  1  0  0  0  0  1  1\n",
       " 0  1  0  0  1  1  1  0  1  1  0  0  0     0  0  1  1  0  1  1  1  0  1  0  0\n",
       " 1  1  1  1  0  1  0  1  1  1  1  1  1     0  0  1  0  1  1  0  0  1  1  1  1\n",
       " 1  1  0  0  1  1  1  0  0  1  0  0  1  …  1  0  0  0  1  1  0  0  1  1  1  0\n",
       " 0  1  0  0  0  0  0  0  1  1  1  0  1     1  1  0  0  0  0  1  0  1  1  1  0\n",
       " 1  1  0  0  1  1  1  0  0  0  1  0  1     1  1  0  1  1  0  1  0  0  0  0  0\n",
       " 0  0  0  1  1  0  1  1  1  0  1  1  1     1  1  0  1  1  0  1  1  1  1  0  0\n",
       " 1  0  1  1  0  1  1  0  1  1  1  0  0     0  0  1  1  0  0  1  0  0  1  0  0"
      ]
     },
     "metadata": {},
     "output_type": "display_data"
    }
   ],
   "source": [
    "@btime A3=circshift(A, 1)"
   ]
  },
  {
   "cell_type": "code",
   "execution_count": 43,
   "metadata": {},
   "outputs": [
    {
     "name": "stdout",
     "output_type": "stream",
     "text": [
      "5503.9358\n"
     ]
    }
   ],
   "source": [
    "t1=time_ns()\n",
    "for i in 1:10^4\n",
    "A=rand(0:1, n, n )\n",
    "A2=ftm*A\n",
    "end\n",
    "t2=time_ns()\n",
    "println( (t2-t1)/10^6 )"
   ]
  },
  {
   "cell_type": "code",
   "execution_count": 44,
   "metadata": {},
   "outputs": [
    {
     "name": "stdout",
     "output_type": "stream",
     "text": [
      "1047.9631\n"
     ]
    }
   ],
   "source": [
    "t3=time_ns()\n",
    "for i in 1:10^4\n",
    "A=rand(0:1, n, n )\n",
    "A3=circshift(A, 1)\n",
    "end\n",
    "t4=time_ns()\n",
    "println( (t4-t3)/10^6 )"
   ]
  },
  {
   "cell_type": "code",
   "execution_count": 45,
   "metadata": {},
   "outputs": [
    {
     "data": {
      "text/plain": [
       "3"
      ]
     },
     "metadata": {},
     "output_type": "display_data"
    }
   ],
   "source": [
    "n=3"
   ]
  },
  {
   "cell_type": "code",
   "execution_count": 42,
   "metadata": {},
   "outputs": [
    {
     "data": {
      "text/plain": [
       "1:6"
      ]
     },
     "metadata": {},
     "output_type": "display_data"
    }
   ],
   "source": [
    "1:2*3"
   ]
  },
  {
   "cell_type": "code",
   "execution_count": 46,
   "metadata": {},
   "outputs": [
    {
     "data": {
      "text/plain": [
       "3×3 Matrix{Int64}:\n",
       " 0  0  1\n",
       " 0  0  0\n",
       " 1  1  0"
      ]
     },
     "metadata": {},
     "output_type": "display_data"
    }
   ],
   "source": [
    "rand(0:1, n, n )"
   ]
  },
  {
   "cell_type": "code",
   "execution_count": 47,
   "metadata": {},
   "outputs": [
    {
     "data": {
      "text/plain": [
       "3×3 Matrix{Int64}:\n",
       " 1  0  0\n",
       " 0  1  1\n",
       " 1  0  0"
      ]
     },
     "metadata": {},
     "output_type": "display_data"
    }
   ],
   "source": [
    "rand(0:1, n, n )"
   ]
  },
  {
   "cell_type": "code",
   "execution_count": 2,
   "metadata": {},
   "outputs": [
    {
     "data": {
      "text/plain": [
       "0:50"
      ]
     },
     "metadata": {},
     "output_type": "display_data"
    }
   ],
   "source": [
    "x=0:50"
   ]
  },
  {
   "cell_type": "code",
   "execution_count": 3,
   "metadata": {},
   "outputs": [
    {
     "data": {
      "text/plain": [
       "51-element Vector{Float64}:\n",
       "  1.0\n",
       " -0.8\n",
       "  0.6400000000000001\n",
       " -0.5120000000000001\n",
       "  0.4096000000000001\n",
       " -0.3276800000000001\n",
       "  0.2621440000000001\n",
       " -0.20971520000000007\n",
       "  0.1677721600000001\n",
       " -0.13421772800000006\n",
       "  ⋮\n",
       "  8.507059173023481e-5\n",
       " -6.805647338418786e-5\n",
       "  5.444517870735029e-5\n",
       " -4.355614296588023e-5\n",
       "  3.484491437270419e-5\n",
       " -2.7875931498163353e-5\n",
       "  2.2300745198530684e-5\n",
       " -1.7840596158824548e-5\n",
       "  1.4272476927059638e-5"
      ]
     },
     "metadata": {},
     "output_type": "display_data"
    }
   ],
   "source": [
    "y=(-0.8).^x"
   ]
  },
  {
   "cell_type": "code",
   "execution_count": 4,
   "metadata": {},
   "outputs": [
    {
     "data": {
      "text/plain": [
       "0:50"
      ]
     },
     "metadata": {},
     "output_type": "display_data"
    }
   ],
   "source": [
    "z=0:50"
   ]
  },
  {
   "cell_type": "code",
   "execution_count": 6,
   "metadata": {},
   "outputs": [
    {
     "data": {
      "text/plain": [
       "3"
      ]
     },
     "metadata": {},
     "output_type": "display_data"
    }
   ],
   "source": [
    "n=3"
   ]
  },
  {
   "cell_type": "code",
   "execution_count": 7,
   "metadata": {},
   "outputs": [
    {
     "data": {
      "text/plain": [
       "0:4"
      ]
     },
     "metadata": {},
     "output_type": "display_data"
    }
   ],
   "source": [
    "a=0:n+1"
   ]
  },
  {
   "cell_type": "code",
   "execution_count": 8,
   "metadata": {},
   "outputs": [
    {
     "ename": "CanonicalIndexError",
     "evalue": "CanonicalIndexError: setindex! not defined for UnitRange{Int64}",
     "output_type": "error",
     "traceback": [
      "CanonicalIndexError: setindex! not defined for UnitRange{Int64}\n",
      "\n",
      "Stacktrace:\n",
      " [1] error_if_canonical_setindex(::IndexLinear, A::UnitRange{Int64}, ::Int64)\n",
      "   @ Base .\\abstractarray.jl:1404\n",
      " [2] setindex!(A::UnitRange{Int64}, v::Vector{Float64}, I::Int64)\n",
      "   @ Base .\\abstractarray.jl:1395\n",
      " [3] top-level scope\n",
      "   @ d:\\jianguo\\myvscode\\Julia\\Julia-2024-04-03.ipynb:2"
     ]
    }
   ],
   "source": [
    "for i in 0:50 \n",
    "    z[i+1]=cumsum(y[1:i+1])\n",
    "end"
   ]
  },
  {
   "cell_type": "code",
   "execution_count": 9,
   "metadata": {},
   "outputs": [
    {
     "data": {
      "text/plain": [
       "5-element Vector{Float64}:\n",
       "  1.0\n",
       " -0.8\n",
       "  0.6400000000000001\n",
       " -0.5120000000000001\n",
       "  0.4096000000000001"
      ]
     },
     "metadata": {},
     "output_type": "display_data"
    }
   ],
   "source": [
    "y[1:5]"
   ]
  },
  {
   "cell_type": "code",
   "execution_count": 10,
   "metadata": {},
   "outputs": [
    {
     "data": {
      "text/plain": [
       "5-element Vector{Float64}:\n",
       " 1.0\n",
       " 0.19999999999999996\n",
       " 0.8400000000000001\n",
       " 0.32799999999999996\n",
       " 0.7376"
      ]
     },
     "metadata": {},
     "output_type": "display_data"
    }
   ],
   "source": [
    "cumsum(y[1:5])"
   ]
  },
  {
   "cell_type": "code",
   "execution_count": 11,
   "metadata": {},
   "outputs": [
    {
     "data": {
      "text/plain": [
       "51-element Vector{Float64}:\n",
       " 1.0\n",
       " 0.19999999999999996\n",
       " 0.8400000000000001\n",
       " 0.32799999999999996\n",
       " 0.7376\n",
       " 0.40991999999999995\n",
       " 0.672064\n",
       " 0.4623488\n",
       " 0.6301209600000001\n",
       " 0.49590323199999997\n",
       " ⋮\n",
       " 0.5555933647074356\n",
       " 0.5555253082340514\n",
       " 0.5555797534127588\n",
       " 0.555536197269793\n",
       " 0.5555710421841656\n",
       " 0.5555431662526675\n",
       " 0.555565466997866\n",
       " 0.5555476264017072\n",
       " 0.5555618988786342"
      ]
     },
     "metadata": {},
     "output_type": "display_data"
    }
   ],
   "source": [
    "z=cumsum(y)"
   ]
  },
  {
   "cell_type": "code",
   "execution_count": 12,
   "metadata": {},
   "outputs": [],
   "source": [
    "using Plots"
   ]
  },
  {
   "cell_type": "code",
   "execution_count": 13,
   "metadata": {},
   "outputs": [
    {
     "name": "stderr",
     "output_type": "stream",
     "text": [
      "┌ Warning: linestyle -- is unsupported with Plots.GRBackend(). Choose from: [:auto, :dash, :dashdot, :dashdotdot, :dot, :solid]\n",
      "└ @ Plots C:\\Users\\xingfu_2\\.julia\\packages\\Plots\\Pe7wF\\src\\args.jl:1573\n"
     ]
    },
    {
     "name": "stdout",
     "output_type": "stream",
     "text": []
    }
   ],
   "source": [
    "plot(x, z, color=\"red\", linewidth=2.0, linestyle=\"--\")"
   ]
  },
  {
   "cell_type": "code",
   "execution_count": 14,
   "metadata": {},
   "outputs": [
    {
     "data": {
      "image/png": "[encoded data removed]",
      "image/svg+xml": [
       "<?xml version=\"1.0\" encoding=\"utf-8\"?>\n",
       "<svg xmlns=\"http://www.w3.org/2000/svg\" xmlns:xlink=\"http://www.w3.org/1999/xlink\" width=\"600\" height=\"400\" viewBox=\"0 0 2400 1600\">\n",
       "<defs>\n",
       "  <clipPath id=\"clip690\">\n",
       "    <rect x=\"0\" y=\"0\" width=\"2400\" height=\"1600\"/>\n",
       "  </clipPath>\n",
       "</defs>\n",
       "<path clip-path=\"url(#clip690)\" d=\"M0 1600 L2400 1600 L2400 0 L0 0  Z\" fill=\"#ffffff\" fill-rule=\"evenodd\" fill-opacity=\"1\"/>\n",
       "<defs>\n",
       "  <clipPath id=\"clip691\">\n",
       "    <rect x=\"480\" y=\"0\" width=\"1681\" height=\"1600\"/>\n",
       "  </clipPath>\n",
       "</defs>\n",
       "<path clip-path=\"url(#clip690)\" d=\"M156.598 1486.45 L2352.76 1486.45 L2352.76 47.2441 L156.598 47.2441  Z\" fill=\"#ffffff\" fill-rule=\"evenodd\" fill-opacity=\"1\"/>\n",
       "<defs>\n",
       "  <clipPath id=\"clip692\">\n",
       "    <rect x=\"156\" y=\"47\" width=\"2197\" height=\"1440\"/>\n",
       "  </clipPath>\n",
       "</defs>\n",
       "<polyline clip-path=\"url(#clip692)\" style=\"stroke:#000000; stroke-linecap:round; stroke-linejoin:round; stroke-width:2; stroke-opacity:0.1; fill:none\" points=\"218.754,1486.45 218.754,47.2441 \"/>\n",
       "<polyline clip-path=\"url(#clip692)\" style=\"stroke:#000000; stroke-linecap:round; stroke-linejoin:round; stroke-width:2; stroke-opacity:0.1; fill:none\" points=\"633.123,1486.45 633.123,47.2441 \"/>\n",
       "<polyline clip-path=\"url(#clip692)\" style=\"stroke:#000000; stroke-linecap:round; stroke-linejoin:round; stroke-width:2; stroke-opacity:0.1; fill:none\" points=\"1047.49,1486.45 1047.49,47.2441 \"/>\n",
       "<polyline clip-path=\"url(#clip692)\" style=\"stroke:#000000; stroke-linecap:round; stroke-linejoin:round; stroke-width:2; stroke-opacity:0.1; fill:none\" points=\"1461.86,1486.45 1461.86,47.2441 \"/>\n",
       "<polyline clip-path=\"url(#clip692)\" style=\"stroke:#000000; stroke-linecap:round; stroke-linejoin:round; stroke-width:2; stroke-opacity:0.1; fill:none\" points=\"1876.23,1486.45 1876.23,47.2441 \"/>\n",
       "<polyline clip-path=\"url(#clip692)\" style=\"stroke:#000000; stroke-linecap:round; stroke-linejoin:round; stroke-width:2; stroke-opacity:0.1; fill:none\" points=\"2290.6,1486.45 2290.6,47.2441 \"/>\n",
       "<polyline clip-path=\"url(#clip690)\" style=\"stroke:#000000; stroke-linecap:round; stroke-linejoin:round; stroke-width:4; stroke-opacity:1; fill:none\" points=\"156.598,1486.45 2352.76,1486.45 \"/>\n",
       "<polyline clip-path=\"url(#clip690)\" style=\"stroke:#000000; stroke-linecap:round; stroke-linejoin:round; stroke-width:4; stroke-opacity:1; fill:none\" points=\"218.754,1486.45 218.754,1467.55 \"/>\n",
       "<polyline clip-path=\"url(#clip690)\" style=\"stroke:#000000; stroke-linecap:round; stroke-linejoin:round; stroke-width:4; stroke-opacity:1; fill:none\" points=\"633.123,1486.45 633.123,1467.55 \"/>\n",
       "<polyline clip-path=\"url(#clip690)\" style=\"stroke:#000000; stroke-linecap:round; stroke-linejoin:round; stroke-width:4; stroke-opacity:1; fill:none\" points=\"1047.49,1486.45 1047.49,1467.55 \"/>\n",
       "<polyline clip-path=\"url(#clip690)\" style=\"stroke:#000000; stroke-linecap:round; stroke-linejoin:round; stroke-width:4; stroke-opacity:1; fill:none\" points=\"1461.86,1486.45 1461.86,1467.55 \"/>\n",
       "<polyline clip-path=\"url(#clip690)\" style=\"stroke:#000000; stroke-linecap:round; stroke-linejoin:round; stroke-width:4; stroke-opacity:1; fill:none\" points=\"1876.23,1486.45 1876.23,1467.55 \"/>\n",
       "<polyline clip-path=\"url(#clip690)\" style=\"stroke:#000000; stroke-linecap:round; stroke-linejoin:round; stroke-width:4; stroke-opacity:1; fill:none\" points=\"2290.6,1486.45 2290.6,1467.55 \"/>\n",
       "<path clip-path=\"url(#clip690)\" d=\"M218.754 1517.37 Q215.143 1517.37 213.314 1520.93 Q211.508 1524.47 211.508 1531.6 Q211.508 1538.71 213.314 1542.27 Q215.143 1545.82 218.754 1545.82 Q222.388 1545.82 224.193 1542.27 Q226.022 1538.71 226.022 1531.6 Q226.022 1524.47 224.193 1520.93 Q222.388 1517.37 218.754 1517.37 M218.754 1513.66 Q224.564 1513.66 227.619 1518.27 Q230.698 1522.85 230.698 1531.6 Q230.698 1540.33 227.619 1544.94 Q224.564 1549.52 218.754 1549.52 Q212.943 1549.52 209.865 1544.94 Q206.809 1540.33 206.809 1531.6 Q206.809 1522.85 209.865 1518.27 Q212.943 1513.66 218.754 1513.66 Z\" fill=\"#000000\" fill-rule=\"nonzero\" fill-opacity=\"1\" /><path clip-path=\"url(#clip690)\" d=\"M607.811 1544.91 L615.449 1544.91 L615.449 1518.55 L607.139 1520.21 L607.139 1515.95 L615.403 1514.29 L620.079 1514.29 L620.079 1544.91 L627.718 1544.91 L627.718 1548.85 L607.811 1548.85 L607.811 1544.91 Z\" fill=\"#000000\" fill-rule=\"nonzero\" fill-opacity=\"1\" /><path clip-path=\"url(#clip690)\" d=\"M647.162 1517.37 Q643.551 1517.37 641.723 1520.93 Q639.917 1524.47 639.917 1531.6 Q639.917 1538.71 641.723 1542.27 Q643.551 1545.82 647.162 1545.82 Q650.797 1545.82 652.602 1542.27 Q654.431 1538.71 654.431 1531.6 Q654.431 1524.47 652.602 1520.93 Q650.797 1517.37 647.162 1517.37 M647.162 1513.66 Q652.972 1513.66 656.028 1518.27 Q659.107 1522.85 659.107 1531.6 Q659.107 1540.33 656.028 1544.94 Q652.972 1549.52 647.162 1549.52 Q641.352 1549.52 638.273 1544.94 Q635.218 1540.33 635.218 1531.6 Q635.218 1522.85 638.273 1518.27 Q641.352 1513.66 647.162 1513.66 Z\" fill=\"#000000\" fill-rule=\"nonzero\" fill-opacity=\"1\" /><path clip-path=\"url(#clip690)\" d=\"M1026.27 1544.91 L1042.59 1544.91 L1042.59 1548.85 L1020.64 1548.85 L1020.64 1544.91 Q1023.3 1542.16 1027.89 1537.53 Q1032.49 1532.88 1033.67 1531.53 Q1035.92 1529.01 1036.8 1527.27 Q1037.7 1525.51 1037.7 1523.82 Q1037.7 1521.07 1035.76 1519.33 Q1033.84 1517.6 1030.73 1517.6 Q1028.53 1517.6 1026.08 1518.36 Q1023.65 1519.13 1020.87 1520.68 L1020.87 1515.95 Q1023.7 1514.82 1026.15 1514.24 Q1028.6 1513.66 1030.64 1513.66 Q1036.01 1513.66 1039.21 1516.35 Q1042.4 1519.03 1042.4 1523.52 Q1042.4 1525.65 1041.59 1527.57 Q1040.8 1529.47 1038.7 1532.07 Q1038.12 1532.74 1035.02 1535.95 Q1031.91 1539.15 1026.27 1544.91 Z\" fill=\"#000000\" fill-rule=\"nonzero\" fill-opacity=\"1\" /><path clip-path=\"url(#clip690)\" d=\"M1062.4 1517.37 Q1058.79 1517.37 1056.96 1520.93 Q1055.15 1524.47 1055.15 1531.6 Q1055.15 1538.71 1056.96 1542.27 Q1058.79 1545.82 1062.4 1545.82 Q1066.03 1545.82 1067.84 1542.27 Q1069.67 1538.71 1069.67 1531.6 Q1069.67 1524.47 1067.84 1520.93 Q1066.03 1517.37 1062.4 1517.37 M1062.4 1513.66 Q1068.21 1513.66 1071.27 1518.27 Q1074.34 1522.85 1074.34 1531.6 Q1074.34 1540.33 1071.27 1544.94 Q1068.21 1549.52 1062.4 1549.52 Q1056.59 1549.52 1053.51 1544.94 Q1050.46 1540.33 1050.46 1531.6 Q1050.46 1522.85 1053.51 1518.27 Q1056.59 1513.66 1062.4 1513.66 Z\" fill=\"#000000\" fill-rule=\"nonzero\" fill-opacity=\"1\" /><path clip-path=\"url(#clip690)\" d=\"M1450.7 1530.21 Q1454.06 1530.93 1455.94 1533.2 Q1457.83 1535.47 1457.83 1538.8 Q1457.83 1543.92 1454.32 1546.72 Q1450.8 1549.52 1444.32 1549.52 Q1442.14 1549.52 1439.82 1549.08 Q1437.53 1548.66 1435.08 1547.81 L1435.08 1543.29 Q1437.02 1544.43 1439.34 1545.01 Q1441.65 1545.58 1444.18 1545.58 Q1448.57 1545.58 1450.87 1543.85 Q1453.18 1542.11 1453.18 1538.8 Q1453.18 1535.75 1451.03 1534.03 Q1448.9 1532.3 1445.08 1532.3 L1441.05 1532.3 L1441.05 1528.45 L1445.26 1528.45 Q1448.71 1528.45 1450.54 1527.09 Q1452.37 1525.7 1452.37 1523.11 Q1452.37 1520.45 1450.47 1519.03 Q1448.6 1517.6 1445.08 1517.6 Q1443.16 1517.6 1440.96 1518.01 Q1438.76 1518.43 1436.12 1519.31 L1436.12 1515.14 Q1438.78 1514.4 1441.1 1514.03 Q1443.44 1513.66 1445.5 1513.66 Q1450.82 1513.66 1453.92 1516.09 Q1457.02 1518.5 1457.02 1522.62 Q1457.02 1525.49 1455.38 1527.48 Q1453.74 1529.45 1450.7 1530.21 Z\" fill=\"#000000\" fill-rule=\"nonzero\" fill-opacity=\"1\" /><path clip-path=\"url(#clip690)\" d=\"M1476.7 1517.37 Q1473.09 1517.37 1471.26 1520.93 Q1469.45 1524.47 1469.45 1531.6 Q1469.45 1538.71 1471.26 1542.27 Q1473.09 1545.82 1476.7 1545.82 Q1480.33 1545.82 1482.14 1542.27 Q1483.97 1538.71 1483.97 1531.6 Q1483.97 1524.47 1482.14 1520.93 Q1480.33 1517.37 1476.7 1517.37 M1476.7 1513.66 Q1482.51 1513.66 1485.57 1518.27 Q1488.64 1522.85 1488.64 1531.6 Q1488.64 1540.33 1485.57 1544.94 Q1482.51 1549.52 1476.7 1549.52 Q1470.89 1549.52 1467.81 1544.94 Q1464.76 1540.33 1464.76 1531.6 Q1464.76 1522.85 1467.81 1518.27 Q1470.89 1513.66 1476.7 1513.66 Z\" fill=\"#000000\" fill-rule=\"nonzero\" fill-opacity=\"1\" /><path clip-path=\"url(#clip690)\" d=\"M1864.4 1518.36 L1852.6 1536.81 L1864.4 1536.81 L1864.4 1518.36 M1863.18 1514.29 L1869.06 1514.29 L1869.06 1536.81 L1873.99 1536.81 L1873.99 1540.7 L1869.06 1540.7 L1869.06 1548.85 L1864.4 1548.85 L1864.4 1540.7 L1848.8 1540.7 L1848.8 1536.19 L1863.18 1514.29 Z\" fill=\"#000000\" fill-rule=\"nonzero\" fill-opacity=\"1\" /><path clip-path=\"url(#clip690)\" d=\"M1891.72 1517.37 Q1888.11 1517.37 1886.28 1520.93 Q1884.47 1524.47 1884.47 1531.6 Q1884.47 1538.71 1886.28 1542.27 Q1888.11 1545.82 1891.72 1545.82 Q1895.35 1545.82 1897.16 1542.27 Q1898.99 1538.71 1898.99 1531.6 Q1898.99 1524.47 1897.16 1520.93 Q1895.35 1517.37 1891.72 1517.37 M1891.72 1513.66 Q1897.53 1513.66 1900.58 1518.27 Q1903.66 1522.85 1903.66 1531.6 Q1903.66 1540.33 1900.58 1544.94 Q1897.53 1549.52 1891.72 1549.52 Q1885.91 1549.52 1882.83 1544.94 Q1879.77 1540.33 1879.77 1531.6 Q1879.77 1522.85 1882.83 1518.27 Q1885.91 1513.66 1891.72 1513.66 Z\" fill=\"#000000\" fill-rule=\"nonzero\" fill-opacity=\"1\" /><path clip-path=\"url(#clip690)\" d=\"M2265.3 1514.29 L2283.66 1514.29 L2283.66 1518.22 L2269.58 1518.22 L2269.58 1526.7 Q2270.6 1526.35 2271.62 1526.19 Q2272.64 1526 2273.66 1526 Q2279.44 1526 2282.82 1529.17 Q2286.2 1532.34 2286.2 1537.76 Q2286.2 1543.34 2282.73 1546.44 Q2279.26 1549.52 2272.94 1549.52 Q2270.76 1549.52 2268.49 1549.15 Q2266.25 1548.78 2263.84 1548.04 L2263.84 1543.34 Q2265.92 1544.47 2268.15 1545.03 Q2270.37 1545.58 2272.85 1545.58 Q2276.85 1545.58 2279.19 1543.48 Q2281.53 1541.37 2281.53 1537.76 Q2281.53 1534.15 2279.19 1532.04 Q2276.85 1529.94 2272.85 1529.94 Q2270.97 1529.94 2269.1 1530.35 Q2267.24 1530.77 2265.3 1531.65 L2265.3 1514.29 Z\" fill=\"#000000\" fill-rule=\"nonzero\" fill-opacity=\"1\" /><path clip-path=\"url(#clip690)\" d=\"M2305.42 1517.37 Q2301.8 1517.37 2299.98 1520.93 Q2298.17 1524.47 2298.17 1531.6 Q2298.17 1538.71 2299.98 1542.27 Q2301.8 1545.82 2305.42 1545.82 Q2309.05 1545.82 2310.86 1542.27 Q2312.68 1538.71 2312.68 1531.6 Q2312.68 1524.47 2310.86 1520.93 Q2309.05 1517.37 2305.42 1517.37 M2305.42 1513.66 Q2311.23 1513.66 2314.28 1518.27 Q2317.36 1522.85 2317.36 1531.6 Q2317.36 1540.33 2314.28 1544.94 Q2311.23 1549.52 2305.42 1549.52 Q2299.61 1549.52 2296.53 1544.94 Q2293.47 1540.33 2293.47 1531.6 Q2293.47 1522.85 2296.53 1518.27 Q2299.61 1513.66 2305.42 1513.66 Z\" fill=\"#000000\" fill-rule=\"nonzero\" fill-opacity=\"1\" /><polyline clip-path=\"url(#clip692)\" style=\"stroke:#000000; stroke-linecap:round; stroke-linejoin:round; stroke-width:2; stroke-opacity:0.1; fill:none\" points=\"156.598,1445.72 2352.76,1445.72 \"/>\n",
       "<polyline clip-path=\"url(#clip692)\" style=\"stroke:#000000; stroke-linecap:round; stroke-linejoin:round; stroke-width:2; stroke-opacity:0.1; fill:none\" points=\"156.598,1106.28 2352.76,1106.28 \"/>\n",
       "<polyline clip-path=\"url(#clip692)\" style=\"stroke:#000000; stroke-linecap:round; stroke-linejoin:round; stroke-width:2; stroke-opacity:0.1; fill:none\" points=\"156.598,766.846 2352.76,766.846 \"/>\n",
       "<polyline clip-path=\"url(#clip692)\" style=\"stroke:#000000; stroke-linecap:round; stroke-linejoin:round; stroke-width:2; stroke-opacity:0.1; fill:none\" points=\"156.598,427.411 2352.76,427.411 \"/>\n",
       "<polyline clip-path=\"url(#clip692)\" style=\"stroke:#000000; stroke-linecap:round; stroke-linejoin:round; stroke-width:2; stroke-opacity:0.1; fill:none\" points=\"156.598,87.9763 2352.76,87.9763 \"/>\n",
       "<polyline clip-path=\"url(#clip690)\" style=\"stroke:#000000; stroke-linecap:round; stroke-linejoin:round; stroke-width:4; stroke-opacity:1; fill:none\" points=\"156.598,1486.45 156.598,47.2441 \"/>\n",
       "<polyline clip-path=\"url(#clip690)\" style=\"stroke:#000000; stroke-linecap:round; stroke-linejoin:round; stroke-width:4; stroke-opacity:1; fill:none\" points=\"156.598,1445.72 175.496,1445.72 \"/>\n",
       "<polyline clip-path=\"url(#clip690)\" style=\"stroke:#000000; stroke-linecap:round; stroke-linejoin:round; stroke-width:4; stroke-opacity:1; fill:none\" points=\"156.598,1106.28 175.496,1106.28 \"/>\n",
       "<polyline clip-path=\"url(#clip690)\" style=\"stroke:#000000; stroke-linecap:round; stroke-linejoin:round; stroke-width:4; stroke-opacity:1; fill:none\" points=\"156.598,766.846 175.496,766.846 \"/>\n",
       "<polyline clip-path=\"url(#clip690)\" style=\"stroke:#000000; stroke-linecap:round; stroke-linejoin:round; stroke-width:4; stroke-opacity:1; fill:none\" points=\"156.598,427.411 175.496,427.411 \"/>\n",
       "<polyline clip-path=\"url(#clip690)\" style=\"stroke:#000000; stroke-linecap:round; stroke-linejoin:round; stroke-width:4; stroke-opacity:1; fill:none\" points=\"156.598,87.9763 175.496,87.9763 \"/>\n",
       "<path clip-path=\"url(#clip690)\" d=\"M65.0198 1431.51 Q61.4087 1431.51 59.58 1435.08 Q57.7745 1438.62 57.7745 1445.75 Q57.7745 1452.86 59.58 1456.42 Q61.4087 1459.96 65.0198 1459.96 Q68.6541 1459.96 70.4596 1456.42 Q72.2883 1452.86 72.2883 1445.75 Q72.2883 1438.62 70.4596 1435.08 Q68.6541 1431.51 65.0198 1431.51 M65.0198 1427.81 Q70.83 1427.81 73.8855 1432.42 Q76.9642 1437 76.9642 1445.75 Q76.9642 1454.48 73.8855 1459.08 Q70.83 1463.67 65.0198 1463.67 Q59.2097 1463.67 56.131 1459.08 Q53.0754 1454.48 53.0754 1445.75 Q53.0754 1437 56.131 1432.42 Q59.2097 1427.81 65.0198 1427.81 Z\" fill=\"#000000\" fill-rule=\"nonzero\" fill-opacity=\"1\" /><path clip-path=\"url(#clip690)\" d=\"M85.1818 1457.12 L90.066 1457.12 L90.066 1463 L85.1818 1463 L85.1818 1457.12 Z\" fill=\"#000000\" fill-rule=\"nonzero\" fill-opacity=\"1\" /><path clip-path=\"url(#clip690)\" d=\"M104.279 1459.06 L120.598 1459.06 L120.598 1463 L98.6539 1463 L98.6539 1459.06 Q101.316 1456.31 105.899 1451.68 Q110.506 1447.02 111.686 1445.68 Q113.932 1443.16 114.811 1441.42 Q115.714 1439.66 115.714 1437.97 Q115.714 1435.22 113.77 1433.48 Q111.848 1431.75 108.746 1431.75 Q106.547 1431.75 104.094 1432.51 Q101.663 1433.27 98.8854 1434.82 L98.8854 1430.1 Q101.709 1428.97 104.163 1428.39 Q106.617 1427.81 108.654 1427.81 Q114.024 1427.81 117.219 1430.5 Q120.413 1433.18 120.413 1437.67 Q120.413 1439.8 119.603 1441.72 Q118.816 1443.62 116.709 1446.21 Q116.131 1446.88 113.029 1450.1 Q109.927 1453.3 104.279 1459.06 Z\" fill=\"#000000\" fill-rule=\"nonzero\" fill-opacity=\"1\" /><path clip-path=\"url(#clip690)\" d=\"M62.9365 1092.08 Q59.3254 1092.08 57.4967 1095.64 Q55.6912 1099.19 55.6912 1106.32 Q55.6912 1113.42 57.4967 1116.99 Q59.3254 1120.53 62.9365 1120.53 Q66.5707 1120.53 68.3763 1116.99 Q70.205 1113.42 70.205 1106.32 Q70.205 1099.19 68.3763 1095.64 Q66.5707 1092.08 62.9365 1092.08 M62.9365 1088.38 Q68.7467 1088.38 71.8022 1092.98 Q74.8809 1097.57 74.8809 1106.32 Q74.8809 1115.04 71.8022 1119.65 Q68.7467 1124.23 62.9365 1124.23 Q57.1264 1124.23 54.0477 1119.65 Q50.9921 1115.04 50.9921 1106.32 Q50.9921 1097.57 54.0477 1092.98 Q57.1264 1088.38 62.9365 1088.38 Z\" fill=\"#000000\" fill-rule=\"nonzero\" fill-opacity=\"1\" /><path clip-path=\"url(#clip690)\" d=\"M83.0984 1117.68 L87.9827 1117.68 L87.9827 1123.56 L83.0984 1123.56 L83.0984 1117.68 Z\" fill=\"#000000\" fill-rule=\"nonzero\" fill-opacity=\"1\" /><path clip-path=\"url(#clip690)\" d=\"M111.015 1093.07 L99.2095 1111.52 L111.015 1111.52 L111.015 1093.07 M109.788 1089 L115.668 1089 L115.668 1111.52 L120.598 1111.52 L120.598 1115.41 L115.668 1115.41 L115.668 1123.56 L111.015 1123.56 L111.015 1115.41 L95.4132 1115.41 L95.4132 1110.9 L109.788 1089 Z\" fill=\"#000000\" fill-rule=\"nonzero\" fill-opacity=\"1\" /><path clip-path=\"url(#clip690)\" d=\"M63.2606 752.645 Q59.6495 752.645 57.8208 756.209 Q56.0152 759.751 56.0152 766.881 Q56.0152 773.987 57.8208 777.552 Q59.6495 781.094 63.2606 781.094 Q66.8948 781.094 68.7004 777.552 Q70.5291 773.987 70.5291 766.881 Q70.5291 759.751 68.7004 756.209 Q66.8948 752.645 63.2606 752.645 M63.2606 748.941 Q69.0707 748.941 72.1263 753.547 Q75.205 758.131 75.205 766.881 Q75.205 775.608 72.1263 780.214 Q69.0707 784.797 63.2606 784.797 Q57.4504 784.797 54.3717 780.214 Q51.3162 775.608 51.3162 766.881 Q51.3162 758.131 54.3717 753.547 Q57.4504 748.941 63.2606 748.941 Z\" fill=\"#000000\" fill-rule=\"nonzero\" fill-opacity=\"1\" /><path clip-path=\"url(#clip690)\" d=\"M83.4225 778.246 L88.3067 778.246 L88.3067 784.126 L83.4225 784.126 L83.4225 778.246 Z\" fill=\"#000000\" fill-rule=\"nonzero\" fill-opacity=\"1\" /><path clip-path=\"url(#clip690)\" d=\"M109.071 764.983 Q105.922 764.983 104.071 767.135 Q102.242 769.288 102.242 773.038 Q102.242 776.765 104.071 778.941 Q105.922 781.094 109.071 781.094 Q112.219 781.094 114.047 778.941 Q115.899 776.765 115.899 773.038 Q115.899 769.288 114.047 767.135 Q112.219 764.983 109.071 764.983 M118.353 750.33 L118.353 754.589 Q116.594 753.756 114.788 753.316 Q113.006 752.876 111.246 752.876 Q106.617 752.876 104.163 756.001 Q101.733 759.126 101.385 765.446 Q102.751 763.432 104.811 762.367 Q106.871 761.279 109.348 761.279 Q114.557 761.279 117.566 764.45 Q120.598 767.598 120.598 773.038 Q120.598 778.362 117.45 781.58 Q114.302 784.797 109.071 784.797 Q103.075 784.797 99.9039 780.214 Q96.7326 775.608 96.7326 766.881 Q96.7326 758.686 100.621 753.825 Q104.51 748.941 111.061 748.941 Q112.82 748.941 114.603 749.288 Q116.408 749.635 118.353 750.33 Z\" fill=\"#000000\" fill-rule=\"nonzero\" fill-opacity=\"1\" /><path clip-path=\"url(#clip690)\" d=\"M63.5152 413.21 Q59.9041 413.21 58.0754 416.775 Q56.2699 420.316 56.2699 427.446 Q56.2699 434.552 58.0754 438.117 Q59.9041 441.659 63.5152 441.659 Q67.1494 441.659 68.955 438.117 Q70.7837 434.552 70.7837 427.446 Q70.7837 420.316 68.955 416.775 Q67.1494 413.21 63.5152 413.21 M63.5152 409.506 Q69.3254 409.506 72.3809 414.113 Q75.4596 418.696 75.4596 427.446 Q75.4596 436.173 72.3809 440.779 Q69.3254 445.362 63.5152 445.362 Q57.7051 445.362 54.6264 440.779 Q51.5708 436.173 51.5708 427.446 Q51.5708 418.696 54.6264 414.113 Q57.7051 409.506 63.5152 409.506 Z\" fill=\"#000000\" fill-rule=\"nonzero\" fill-opacity=\"1\" /><path clip-path=\"url(#clip690)\" d=\"M83.6771 438.812 L88.5614 438.812 L88.5614 444.691 L83.6771 444.691 L83.6771 438.812 Z\" fill=\"#000000\" fill-rule=\"nonzero\" fill-opacity=\"1\" /><path clip-path=\"url(#clip690)\" d=\"M108.746 428.279 Q105.413 428.279 103.492 430.062 Q101.594 431.844 101.594 434.969 Q101.594 438.094 103.492 439.876 Q105.413 441.659 108.746 441.659 Q112.08 441.659 114.001 439.876 Q115.922 438.071 115.922 434.969 Q115.922 431.844 114.001 430.062 Q112.103 428.279 108.746 428.279 M104.071 426.288 Q101.061 425.548 99.3715 423.488 Q97.7048 421.427 97.7048 418.464 Q97.7048 414.321 100.645 411.914 Q103.608 409.506 108.746 409.506 Q113.908 409.506 116.848 411.914 Q119.788 414.321 119.788 418.464 Q119.788 421.427 118.098 423.488 Q116.432 425.548 113.445 426.288 Q116.825 427.075 118.7 429.367 Q120.598 431.659 120.598 434.969 Q120.598 439.992 117.52 442.677 Q114.464 445.362 108.746 445.362 Q103.029 445.362 99.9502 442.677 Q96.8947 439.992 96.8947 434.969 Q96.8947 431.659 98.7928 429.367 Q100.691 427.075 104.071 426.288 M102.358 418.904 Q102.358 421.589 104.024 423.094 Q105.714 424.599 108.746 424.599 Q111.756 424.599 113.445 423.094 Q115.158 421.589 115.158 418.904 Q115.158 416.219 113.445 414.714 Q111.756 413.21 108.746 413.21 Q105.714 413.21 104.024 414.714 Q102.358 416.219 102.358 418.904 Z\" fill=\"#000000\" fill-rule=\"nonzero\" fill-opacity=\"1\" /><path clip-path=\"url(#clip690)\" d=\"M54.2328 101.321 L61.8717 101.321 L61.8717 74.9555 L53.5616 76.6222 L53.5616 72.3629 L61.8254 70.6963 L66.5013 70.6963 L66.5013 101.321 L74.1402 101.321 L74.1402 105.256 L54.2328 105.256 L54.2328 101.321 Z\" fill=\"#000000\" fill-rule=\"nonzero\" fill-opacity=\"1\" /><path clip-path=\"url(#clip690)\" d=\"M83.5845 99.3767 L88.4688 99.3767 L88.4688 105.256 L83.5845 105.256 L83.5845 99.3767 Z\" fill=\"#000000\" fill-rule=\"nonzero\" fill-opacity=\"1\" /><path clip-path=\"url(#clip690)\" d=\"M108.654 73.775 Q105.043 73.775 103.214 77.3398 Q101.409 80.8814 101.409 88.011 Q101.409 95.1174 103.214 98.6822 Q105.043 102.224 108.654 102.224 Q112.288 102.224 114.094 98.6822 Q115.922 95.1174 115.922 88.011 Q115.922 80.8814 114.094 77.3398 Q112.288 73.775 108.654 73.775 M108.654 70.0713 Q114.464 70.0713 117.52 74.6777 Q120.598 79.261 120.598 88.011 Q120.598 96.7378 117.52 101.344 Q114.464 105.928 108.654 105.928 Q102.844 105.928 99.765 101.344 Q96.7095 96.7378 96.7095 88.011 Q96.7095 79.261 99.765 74.6777 Q102.844 70.0713 108.654 70.0713 Z\" fill=\"#000000\" fill-rule=\"nonzero\" fill-opacity=\"1\" /><polyline clip-path=\"url(#clip692)\" style=\"stroke:#ff0000; stroke-linecap:round; stroke-linejoin:round; stroke-width:8; stroke-opacity:1; fill:none\" points=\"218.754,87.9763 260.191,1445.72 301.628,359.524 343.064,1228.48 384.501,533.315 425.938,1089.44 467.375,644.541 508.812,1000.46 550.249,715.725 591.686,943.516 633.123,761.284 674.56,907.07 715.997,790.441 757.434,883.744 798.871,809.102 840.308,868.816 881.745,821.044 923.182,859.261 964.619,828.688 1006.06,853.147 1047.49,833.579 1088.93,849.233 1130.37,836.71 1171.8,846.729 1213.24,838.714 1254.68,845.126 1296.11,839.996 1337.55,844.1 1378.99,840.817 1420.42,843.443 1461.86,841.342 1503.3,843.023 1544.74,841.678 1586.17,842.754 1627.61,841.893 1669.05,842.582 1710.48,842.031 1751.92,842.472 1793.36,842.119 1834.79,842.401 1876.23,842.176 1917.67,842.356 1959.11,842.212 2000.54,842.327 2041.98,842.235 2083.42,842.309 2124.85,842.25 2166.29,842.297 2207.73,842.259 2249.16,842.289 2290.6,842.265 \"/>\n",
       "<path clip-path=\"url(#clip690)\" d=\"M2007.5 198.898 L2279.55 198.898 L2279.55 95.2176 L2007.5 95.2176  Z\" fill=\"#ffffff\" fill-rule=\"evenodd\" fill-opacity=\"1\"/>\n",
       "<polyline clip-path=\"url(#clip690)\" style=\"stroke:#000000; stroke-linecap:round; stroke-linejoin:round; stroke-width:4; stroke-opacity:1; fill:none\" points=\"2007.5,198.898 2279.55,198.898 2279.55,95.2176 2007.5,95.2176 2007.5,198.898 \"/>\n",
       "<polyline clip-path=\"url(#clip690)\" style=\"stroke:#ff0000; stroke-linecap:round; stroke-linejoin:round; stroke-width:8; stroke-opacity:1; fill:none\" points=\"2031.91,147.058 2178.32,147.058 \"/>\n",
       "<path clip-path=\"url(#clip690)\" d=\"M2216.56 166.745 Q2214.76 171.375 2213.04 172.787 Q2211.33 174.199 2208.46 174.199 L2205.06 174.199 L2205.06 170.634 L2207.56 170.634 Q2209.32 170.634 2210.29 169.8 Q2211.26 168.967 2212.44 165.865 L2213.2 163.921 L2202.72 138.412 L2207.23 138.412 L2215.33 158.689 L2223.44 138.412 L2227.95 138.412 L2216.56 166.745 Z\" fill=\"#000000\" fill-rule=\"nonzero\" fill-opacity=\"1\" /><path clip-path=\"url(#clip690)\" d=\"M2235.24 160.402 L2242.88 160.402 L2242.88 134.037 L2234.57 135.703 L2234.57 131.444 L2242.83 129.778 L2247.51 129.778 L2247.51 160.402 L2255.15 160.402 L2255.15 164.338 L2235.24 164.338 L2235.24 160.402 Z\" fill=\"#000000\" fill-rule=\"nonzero\" fill-opacity=\"1\" /></svg>\n"
      ],
      "text/html": [
       "<?xml version=\"1.0\" encoding=\"utf-8\"?>\n",
       "<svg xmlns=\"http://www.w3.org/2000/svg\" xmlns:xlink=\"http://www.w3.org/1999/xlink\" width=\"600\" height=\"400\" viewBox=\"0 0 2400 1600\">\n",
       "<defs>\n",
       "  <clipPath id=\"clip740\">\n",
       "    <rect x=\"0\" y=\"0\" width=\"2400\" height=\"1600\"/>\n",
       "  </clipPath>\n",
       "</defs>\n",
       "<path clip-path=\"url(#clip740)\" d=\"M0 1600 L2400 1600 L2400 0 L0 0  Z\" fill=\"#ffffff\" fill-rule=\"evenodd\" fill-opacity=\"1\"/>\n",
       "<defs>\n",
       "  <clipPath id=\"clip741\">\n",
       "    <rect x=\"480\" y=\"0\" width=\"1681\" height=\"1600\"/>\n",
       "  </clipPath>\n",
       "</defs>\n",
       "<path clip-path=\"url(#clip740)\" d=\"M156.598 1486.45 L2352.76 1486.45 L2352.76 47.2441 L156.598 47.2441  Z\" fill=\"#ffffff\" fill-rule=\"evenodd\" fill-opacity=\"1\"/>\n",
       "<defs>\n",
       "  <clipPath id=\"clip742\">\n",
       "    <rect x=\"156\" y=\"47\" width=\"2197\" height=\"1440\"/>\n",
       "  </clipPath>\n",
       "</defs>\n",
       "<polyline clip-path=\"url(#clip742)\" style=\"stroke:#000000; stroke-linecap:round; stroke-linejoin:round; stroke-width:2; stroke-opacity:0.1; fill:none\" points=\"218.754,1486.45 218.754,47.2441 \"/>\n",
       "<polyline clip-path=\"url(#clip742)\" style=\"stroke:#000000; stroke-linecap:round; stroke-linejoin:round; stroke-width:2; stroke-opacity:0.1; fill:none\" points=\"633.123,1486.45 633.123,47.2441 \"/>\n",
       "<polyline clip-path=\"url(#clip742)\" style=\"stroke:#000000; stroke-linecap:round; stroke-linejoin:round; stroke-width:2; stroke-opacity:0.1; fill:none\" points=\"1047.49,1486.45 1047.49,47.2441 \"/>\n",
       "<polyline clip-path=\"url(#clip742)\" style=\"stroke:#000000; stroke-linecap:round; stroke-linejoin:round; stroke-width:2; stroke-opacity:0.1; fill:none\" points=\"1461.86,1486.45 1461.86,47.2441 \"/>\n",
       "<polyline clip-path=\"url(#clip742)\" style=\"stroke:#000000; stroke-linecap:round; stroke-linejoin:round; stroke-width:2; stroke-opacity:0.1; fill:none\" points=\"1876.23,1486.45 1876.23,47.2441 \"/>\n",
       "<polyline clip-path=\"url(#clip742)\" style=\"stroke:#000000; stroke-linecap:round; stroke-linejoin:round; stroke-width:2; stroke-opacity:0.1; fill:none\" points=\"2290.6,1486.45 2290.6,47.2441 \"/>\n",
       "<polyline clip-path=\"url(#clip740)\" style=\"stroke:#000000; stroke-linecap:round; stroke-linejoin:round; stroke-width:4; stroke-opacity:1; fill:none\" points=\"156.598,1486.45 2352.76,1486.45 \"/>\n",
       "<polyline clip-path=\"url(#clip740)\" style=\"stroke:#000000; stroke-linecap:round; stroke-linejoin:round; stroke-width:4; stroke-opacity:1; fill:none\" points=\"218.754,1486.45 218.754,1467.55 \"/>\n",
       "<polyline clip-path=\"url(#clip740)\" style=\"stroke:#000000; stroke-linecap:round; stroke-linejoin:round; stroke-width:4; stroke-opacity:1; fill:none\" points=\"633.123,1486.45 633.123,1467.55 \"/>\n",
       "<polyline clip-path=\"url(#clip740)\" style=\"stroke:#000000; stroke-linecap:round; stroke-linejoin:round; stroke-width:4; stroke-opacity:1; fill:none\" points=\"1047.49,1486.45 1047.49,1467.55 \"/>\n",
       "<polyline clip-path=\"url(#clip740)\" style=\"stroke:#000000; stroke-linecap:round; stroke-linejoin:round; stroke-width:4; stroke-opacity:1; fill:none\" points=\"1461.86,1486.45 1461.86,1467.55 \"/>\n",
       "<polyline clip-path=\"url(#clip740)\" style=\"stroke:#000000; stroke-linecap:round; stroke-linejoin:round; stroke-width:4; stroke-opacity:1; fill:none\" points=\"1876.23,1486.45 1876.23,1467.55 \"/>\n",
       "<polyline clip-path=\"url(#clip740)\" style=\"stroke:#000000; stroke-linecap:round; stroke-linejoin:round; stroke-width:4; stroke-opacity:1; fill:none\" points=\"2290.6,1486.45 2290.6,1467.55 \"/>\n",
       "<path clip-path=\"url(#clip740)\" d=\"M218.754 1517.37 Q215.143 1517.37 213.314 1520.93 Q211.508 1524.47 211.508 1531.6 Q211.508 1538.71 213.314 1542.27 Q215.143 1545.82 218.754 1545.82 Q222.388 1545.82 224.193 1542.27 Q226.022 1538.71 226.022 1531.6 Q226.022 1524.47 224.193 1520.93 Q222.388 1517.37 218.754 1517.37 M218.754 1513.66 Q224.564 1513.66 227.619 1518.27 Q230.698 1522.85 230.698 1531.6 Q230.698 1540.33 227.619 1544.94 Q224.564 1549.52 218.754 1549.52 Q212.943 1549.52 209.865 1544.94 Q206.809 1540.33 206.809 1531.6 Q206.809 1522.85 209.865 1518.27 Q212.943 1513.66 218.754 1513.66 Z\" fill=\"#000000\" fill-rule=\"nonzero\" fill-opacity=\"1\" /><path clip-path=\"url(#clip740)\" d=\"M607.811 1544.91 L615.449 1544.91 L615.449 1518.55 L607.139 1520.21 L607.139 1515.95 L615.403 1514.29 L620.079 1514.29 L620.079 1544.91 L627.718 1544.91 L627.718 1548.85 L607.811 1548.85 L607.811 1544.91 Z\" fill=\"#000000\" fill-rule=\"nonzero\" fill-opacity=\"1\" /><path clip-path=\"url(#clip740)\" d=\"M647.162 1517.37 Q643.551 1517.37 641.723 1520.93 Q639.917 1524.47 639.917 1531.6 Q639.917 1538.71 641.723 1542.27 Q643.551 1545.82 647.162 1545.82 Q650.797 1545.82 652.602 1542.27 Q654.431 1538.71 654.431 1531.6 Q654.431 1524.47 652.602 1520.93 Q650.797 1517.37 647.162 1517.37 M647.162 1513.66 Q652.972 1513.66 656.028 1518.27 Q659.107 1522.85 659.107 1531.6 Q659.107 1540.33 656.028 1544.94 Q652.972 1549.52 647.162 1549.52 Q641.352 1549.52 638.273 1544.94 Q635.218 1540.33 635.218 1531.6 Q635.218 1522.85 638.273 1518.27 Q641.352 1513.66 647.162 1513.66 Z\" fill=\"#000000\" fill-rule=\"nonzero\" fill-opacity=\"1\" /><path clip-path=\"url(#clip740)\" d=\"M1026.27 1544.91 L1042.59 1544.91 L1042.59 1548.85 L1020.64 1548.85 L1020.64 1544.91 Q1023.3 1542.16 1027.89 1537.53 Q1032.49 1532.88 1033.67 1531.53 Q1035.92 1529.01 1036.8 1527.27 Q1037.7 1525.51 1037.7 1523.82 Q1037.7 1521.07 1035.76 1519.33 Q1033.84 1517.6 1030.73 1517.6 Q1028.53 1517.6 1026.08 1518.36 Q1023.65 1519.13 1020.87 1520.68 L1020.87 1515.95 Q1023.7 1514.82 1026.15 1514.24 Q1028.6 1513.66 1030.64 1513.66 Q1036.01 1513.66 1039.21 1516.35 Q1042.4 1519.03 1042.4 1523.52 Q1042.4 1525.65 1041.59 1527.57 Q1040.8 1529.47 1038.7 1532.07 Q1038.12 1532.74 1035.02 1535.95 Q1031.91 1539.15 1026.27 1544.91 Z\" fill=\"#000000\" fill-rule=\"nonzero\" fill-opacity=\"1\" /><path clip-path=\"url(#clip740)\" d=\"M1062.4 1517.37 Q1058.79 1517.37 1056.96 1520.93 Q1055.15 1524.47 1055.15 1531.6 Q1055.15 1538.71 1056.96 1542.27 Q1058.79 1545.82 1062.4 1545.82 Q1066.03 1545.82 1067.84 1542.27 Q1069.67 1538.71 1069.67 1531.6 Q1069.67 1524.47 1067.84 1520.93 Q1066.03 1517.37 1062.4 1517.37 M1062.4 1513.66 Q1068.21 1513.66 1071.27 1518.27 Q1074.34 1522.85 1074.34 1531.6 Q1074.34 1540.33 1071.27 1544.94 Q1068.21 1549.52 1062.4 1549.52 Q1056.59 1549.52 1053.51 1544.94 Q1050.46 1540.33 1050.46 1531.6 Q1050.46 1522.85 1053.51 1518.27 Q1056.59 1513.66 1062.4 1513.66 Z\" fill=\"#000000\" fill-rule=\"nonzero\" fill-opacity=\"1\" /><path clip-path=\"url(#clip740)\" d=\"M1450.7 1530.21 Q1454.06 1530.93 1455.94 1533.2 Q1457.83 1535.47 1457.83 1538.8 Q1457.83 1543.92 1454.32 1546.72 Q1450.8 1549.52 1444.32 1549.52 Q1442.14 1549.52 1439.82 1549.08 Q1437.53 1548.66 1435.08 1547.81 L1435.08 1543.29 Q1437.02 1544.43 1439.34 1545.01 Q1441.65 1545.58 1444.18 1545.58 Q1448.57 1545.58 1450.87 1543.85 Q1453.18 1542.11 1453.18 1538.8 Q1453.18 1535.75 1451.03 1534.03 Q1448.9 1532.3 1445.08 1532.3 L1441.05 1532.3 L1441.05 1528.45 L1445.26 1528.45 Q1448.71 1528.45 1450.54 1527.09 Q1452.37 1525.7 1452.37 1523.11 Q1452.37 1520.45 1450.47 1519.03 Q1448.6 1517.6 1445.08 1517.6 Q1443.16 1517.6 1440.96 1518.01 Q1438.76 1518.43 1436.12 1519.31 L1436.12 1515.14 Q1438.78 1514.4 1441.1 1514.03 Q1443.44 1513.66 1445.5 1513.66 Q1450.82 1513.66 1453.92 1516.09 Q1457.02 1518.5 1457.02 1522.62 Q1457.02 1525.49 1455.38 1527.48 Q1453.74 1529.45 1450.7 1530.21 Z\" fill=\"#000000\" fill-rule=\"nonzero\" fill-opacity=\"1\" /><path clip-path=\"url(#clip740)\" d=\"M1476.7 1517.37 Q1473.09 1517.37 1471.26 1520.93 Q1469.45 1524.47 1469.45 1531.6 Q1469.45 1538.71 1471.26 1542.27 Q1473.09 1545.82 1476.7 1545.82 Q1480.33 1545.82 1482.14 1542.27 Q1483.97 1538.71 1483.97 1531.6 Q1483.97 1524.47 1482.14 1520.93 Q1480.33 1517.37 1476.7 1517.37 M1476.7 1513.66 Q1482.51 1513.66 1485.57 1518.27 Q1488.64 1522.85 1488.64 1531.6 Q1488.64 1540.33 1485.57 1544.94 Q1482.51 1549.52 1476.7 1549.52 Q1470.89 1549.52 1467.81 1544.94 Q1464.76 1540.33 1464.76 1531.6 Q1464.76 1522.85 1467.81 1518.27 Q1470.89 1513.66 1476.7 1513.66 Z\" fill=\"#000000\" fill-rule=\"nonzero\" fill-opacity=\"1\" /><path clip-path=\"url(#clip740)\" d=\"M1864.4 1518.36 L1852.6 1536.81 L1864.4 1536.81 L1864.4 1518.36 M1863.18 1514.29 L1869.06 1514.29 L1869.06 1536.81 L1873.99 1536.81 L1873.99 1540.7 L1869.06 1540.7 L1869.06 1548.85 L1864.4 1548.85 L1864.4 1540.7 L1848.8 1540.7 L1848.8 1536.19 L1863.18 1514.29 Z\" fill=\"#000000\" fill-rule=\"nonzero\" fill-opacity=\"1\" /><path clip-path=\"url(#clip740)\" d=\"M1891.72 1517.37 Q1888.11 1517.37 1886.28 1520.93 Q1884.47 1524.47 1884.47 1531.6 Q1884.47 1538.71 1886.28 1542.27 Q1888.11 1545.82 1891.72 1545.82 Q1895.35 1545.82 1897.16 1542.27 Q1898.99 1538.71 1898.99 1531.6 Q1898.99 1524.47 1897.16 1520.93 Q1895.35 1517.37 1891.72 1517.37 M1891.72 1513.66 Q1897.53 1513.66 1900.58 1518.27 Q1903.66 1522.85 1903.66 1531.6 Q1903.66 1540.33 1900.58 1544.94 Q1897.53 1549.52 1891.72 1549.52 Q1885.91 1549.52 1882.83 1544.94 Q1879.77 1540.33 1879.77 1531.6 Q1879.77 1522.85 1882.83 1518.27 Q1885.91 1513.66 1891.72 1513.66 Z\" fill=\"#000000\" fill-rule=\"nonzero\" fill-opacity=\"1\" /><path clip-path=\"url(#clip740)\" d=\"M2265.3 1514.29 L2283.66 1514.29 L2283.66 1518.22 L2269.58 1518.22 L2269.58 1526.7 Q2270.6 1526.35 2271.62 1526.19 Q2272.64 1526 2273.66 1526 Q2279.44 1526 2282.82 1529.17 Q2286.2 1532.34 2286.2 1537.76 Q2286.2 1543.34 2282.73 1546.44 Q2279.26 1549.52 2272.94 1549.52 Q2270.76 1549.52 2268.49 1549.15 Q2266.25 1548.78 2263.84 1548.04 L2263.84 1543.34 Q2265.92 1544.47 2268.15 1545.03 Q2270.37 1545.58 2272.85 1545.58 Q2276.85 1545.58 2279.19 1543.48 Q2281.53 1541.37 2281.53 1537.76 Q2281.53 1534.15 2279.19 1532.04 Q2276.85 1529.94 2272.85 1529.94 Q2270.97 1529.94 2269.1 1530.35 Q2267.24 1530.77 2265.3 1531.65 L2265.3 1514.29 Z\" fill=\"#000000\" fill-rule=\"nonzero\" fill-opacity=\"1\" /><path clip-path=\"url(#clip740)\" d=\"M2305.42 1517.37 Q2301.8 1517.37 2299.98 1520.93 Q2298.17 1524.47 2298.17 1531.6 Q2298.17 1538.71 2299.98 1542.27 Q2301.8 1545.82 2305.42 1545.82 Q2309.05 1545.82 2310.86 1542.27 Q2312.68 1538.71 2312.68 1531.6 Q2312.68 1524.47 2310.86 1520.93 Q2309.05 1517.37 2305.42 1517.37 M2305.42 1513.66 Q2311.23 1513.66 2314.28 1518.27 Q2317.36 1522.85 2317.36 1531.6 Q2317.36 1540.33 2314.28 1544.94 Q2311.23 1549.52 2305.42 1549.52 Q2299.61 1549.52 2296.53 1544.94 Q2293.47 1540.33 2293.47 1531.6 Q2293.47 1522.85 2296.53 1518.27 Q2299.61 1513.66 2305.42 1513.66 Z\" fill=\"#000000\" fill-rule=\"nonzero\" fill-opacity=\"1\" /><polyline clip-path=\"url(#clip742)\" style=\"stroke:#000000; stroke-linecap:round; stroke-linejoin:round; stroke-width:2; stroke-opacity:0.1; fill:none\" points=\"156.598,1445.72 2352.76,1445.72 \"/>\n",
       "<polyline clip-path=\"url(#clip742)\" style=\"stroke:#000000; stroke-linecap:round; stroke-linejoin:round; stroke-width:2; stroke-opacity:0.1; fill:none\" points=\"156.598,1106.28 2352.76,1106.28 \"/>\n",
       "<polyline clip-path=\"url(#clip742)\" style=\"stroke:#000000; stroke-linecap:round; stroke-linejoin:round; stroke-width:2; stroke-opacity:0.1; fill:none\" points=\"156.598,766.846 2352.76,766.846 \"/>\n",
       "<polyline clip-path=\"url(#clip742)\" style=\"stroke:#000000; stroke-linecap:round; stroke-linejoin:round; stroke-width:2; stroke-opacity:0.1; fill:none\" points=\"156.598,427.411 2352.76,427.411 \"/>\n",
       "<polyline clip-path=\"url(#clip742)\" style=\"stroke:#000000; stroke-linecap:round; stroke-linejoin:round; stroke-width:2; stroke-opacity:0.1; fill:none\" points=\"156.598,87.9763 2352.76,87.9763 \"/>\n",
       "<polyline clip-path=\"url(#clip740)\" style=\"stroke:#000000; stroke-linecap:round; stroke-linejoin:round; stroke-width:4; stroke-opacity:1; fill:none\" points=\"156.598,1486.45 156.598,47.2441 \"/>\n",
       "<polyline clip-path=\"url(#clip740)\" style=\"stroke:#000000; stroke-linecap:round; stroke-linejoin:round; stroke-width:4; stroke-opacity:1; fill:none\" points=\"156.598,1445.72 175.496,1445.72 \"/>\n",
       "<polyline clip-path=\"url(#clip740)\" style=\"stroke:#000000; stroke-linecap:round; stroke-linejoin:round; stroke-width:4; stroke-opacity:1; fill:none\" points=\"156.598,1106.28 175.496,1106.28 \"/>\n",
       "<polyline clip-path=\"url(#clip740)\" style=\"stroke:#000000; stroke-linecap:round; stroke-linejoin:round; stroke-width:4; stroke-opacity:1; fill:none\" points=\"156.598,766.846 175.496,766.846 \"/>\n",
       "<polyline clip-path=\"url(#clip740)\" style=\"stroke:#000000; stroke-linecap:round; stroke-linejoin:round; stroke-width:4; stroke-opacity:1; fill:none\" points=\"156.598,427.411 175.496,427.411 \"/>\n",
       "<polyline clip-path=\"url(#clip740)\" style=\"stroke:#000000; stroke-linecap:round; stroke-linejoin:round; stroke-width:4; stroke-opacity:1; fill:none\" points=\"156.598,87.9763 175.496,87.9763 \"/>\n",
       "<path clip-path=\"url(#clip740)\" d=\"M65.0198 1431.51 Q61.4087 1431.51 59.58 1435.08 Q57.7745 1438.62 57.7745 1445.75 Q57.7745 1452.86 59.58 1456.42 Q61.4087 1459.96 65.0198 1459.96 Q68.6541 1459.96 70.4596 1456.42 Q72.2883 1452.86 72.2883 1445.75 Q72.2883 1438.62 70.4596 1435.08 Q68.6541 1431.51 65.0198 1431.51 M65.0198 1427.81 Q70.83 1427.81 73.8855 1432.42 Q76.9642 1437 76.9642 1445.75 Q76.9642 1454.48 73.8855 1459.08 Q70.83 1463.67 65.0198 1463.67 Q59.2097 1463.67 56.131 1459.08 Q53.0754 1454.48 53.0754 1445.75 Q53.0754 1437 56.131 1432.42 Q59.2097 1427.81 65.0198 1427.81 Z\" fill=\"#000000\" fill-rule=\"nonzero\" fill-opacity=\"1\" /><path clip-path=\"url(#clip740)\" d=\"M85.1818 1457.12 L90.066 1457.12 L90.066 1463 L85.1818 1463 L85.1818 1457.12 Z\" fill=\"#000000\" fill-rule=\"nonzero\" fill-opacity=\"1\" /><path clip-path=\"url(#clip740)\" d=\"M104.279 1459.06 L120.598 1459.06 L120.598 1463 L98.6539 1463 L98.6539 1459.06 Q101.316 1456.31 105.899 1451.68 Q110.506 1447.02 111.686 1445.68 Q113.932 1443.16 114.811 1441.42 Q115.714 1439.66 115.714 1437.97 Q115.714 1435.22 113.77 1433.48 Q111.848 1431.75 108.746 1431.75 Q106.547 1431.75 104.094 1432.51 Q101.663 1433.27 98.8854 1434.82 L98.8854 1430.1 Q101.709 1428.97 104.163 1428.39 Q106.617 1427.81 108.654 1427.81 Q114.024 1427.81 117.219 1430.5 Q120.413 1433.18 120.413 1437.67 Q120.413 1439.8 119.603 1441.72 Q118.816 1443.62 116.709 1446.21 Q116.131 1446.88 113.029 1450.1 Q109.927 1453.3 104.279 1459.06 Z\" fill=\"#000000\" fill-rule=\"nonzero\" fill-opacity=\"1\" /><path clip-path=\"url(#clip740)\" d=\"M62.9365 1092.08 Q59.3254 1092.08 57.4967 1095.64 Q55.6912 1099.19 55.6912 1106.32 Q55.6912 1113.42 57.4967 1116.99 Q59.3254 1120.53 62.9365 1120.53 Q66.5707 1120.53 68.3763 1116.99 Q70.205 1113.42 70.205 1106.32 Q70.205 1099.19 68.3763 1095.64 Q66.5707 1092.08 62.9365 1092.08 M62.9365 1088.38 Q68.7467 1088.38 71.8022 1092.98 Q74.8809 1097.57 74.8809 1106.32 Q74.8809 1115.04 71.8022 1119.65 Q68.7467 1124.23 62.9365 1124.23 Q57.1264 1124.23 54.0477 1119.65 Q50.9921 1115.04 50.9921 1106.32 Q50.9921 1097.57 54.0477 1092.98 Q57.1264 1088.38 62.9365 1088.38 Z\" fill=\"#000000\" fill-rule=\"nonzero\" fill-opacity=\"1\" /><path clip-path=\"url(#clip740)\" d=\"M83.0984 1117.68 L87.9827 1117.68 L87.9827 1123.56 L83.0984 1123.56 L83.0984 1117.68 Z\" fill=\"#000000\" fill-rule=\"nonzero\" fill-opacity=\"1\" /><path clip-path=\"url(#clip740)\" d=\"M111.015 1093.07 L99.2095 1111.52 L111.015 1111.52 L111.015 1093.07 M109.788 1089 L115.668 1089 L115.668 1111.52 L120.598 1111.52 L120.598 1115.41 L115.668 1115.41 L115.668 1123.56 L111.015 1123.56 L111.015 1115.41 L95.4132 1115.41 L95.4132 1110.9 L109.788 1089 Z\" fill=\"#000000\" fill-rule=\"nonzero\" fill-opacity=\"1\" /><path clip-path=\"url(#clip740)\" d=\"M63.2606 752.645 Q59.6495 752.645 57.8208 756.209 Q56.0152 759.751 56.0152 766.881 Q56.0152 773.987 57.8208 777.552 Q59.6495 781.094 63.2606 781.094 Q66.8948 781.094 68.7004 777.552 Q70.5291 773.987 70.5291 766.881 Q70.5291 759.751 68.7004 756.209 Q66.8948 752.645 63.2606 752.645 M63.2606 748.941 Q69.0707 748.941 72.1263 753.547 Q75.205 758.131 75.205 766.881 Q75.205 775.608 72.1263 780.214 Q69.0707 784.797 63.2606 784.797 Q57.4504 784.797 54.3717 780.214 Q51.3162 775.608 51.3162 766.881 Q51.3162 758.131 54.3717 753.547 Q57.4504 748.941 63.2606 748.941 Z\" fill=\"#000000\" fill-rule=\"nonzero\" fill-opacity=\"1\" /><path clip-path=\"url(#clip740)\" d=\"M83.4225 778.246 L88.3067 778.246 L88.3067 784.126 L83.4225 784.126 L83.4225 778.246 Z\" fill=\"#000000\" fill-rule=\"nonzero\" fill-opacity=\"1\" /><path clip-path=\"url(#clip740)\" d=\"M109.071 764.983 Q105.922 764.983 104.071 767.135 Q102.242 769.288 102.242 773.038 Q102.242 776.765 104.071 778.941 Q105.922 781.094 109.071 781.094 Q112.219 781.094 114.047 778.941 Q115.899 776.765 115.899 773.038 Q115.899 769.288 114.047 767.135 Q112.219 764.983 109.071 764.983 M118.353 750.33 L118.353 754.589 Q116.594 753.756 114.788 753.316 Q113.006 752.876 111.246 752.876 Q106.617 752.876 104.163 756.001 Q101.733 759.126 101.385 765.446 Q102.751 763.432 104.811 762.367 Q106.871 761.279 109.348 761.279 Q114.557 761.279 117.566 764.45 Q120.598 767.598 120.598 773.038 Q120.598 778.362 117.45 781.58 Q114.302 784.797 109.071 784.797 Q103.075 784.797 99.9039 780.214 Q96.7326 775.608 96.7326 766.881 Q96.7326 758.686 100.621 753.825 Q104.51 748.941 111.061 748.941 Q112.82 748.941 114.603 749.288 Q116.408 749.635 118.353 750.33 Z\" fill=\"#000000\" fill-rule=\"nonzero\" fill-opacity=\"1\" /><path clip-path=\"url(#clip740)\" d=\"M63.5152 413.21 Q59.9041 413.21 58.0754 416.775 Q56.2699 420.316 56.2699 427.446 Q56.2699 434.552 58.0754 438.117 Q59.9041 441.659 63.5152 441.659 Q67.1494 441.659 68.955 438.117 Q70.7837 434.552 70.7837 427.446 Q70.7837 420.316 68.955 416.775 Q67.1494 413.21 63.5152 413.21 M63.5152 409.506 Q69.3254 409.506 72.3809 414.113 Q75.4596 418.696 75.4596 427.446 Q75.4596 436.173 72.3809 440.779 Q69.3254 445.362 63.5152 445.362 Q57.7051 445.362 54.6264 440.779 Q51.5708 436.173 51.5708 427.446 Q51.5708 418.696 54.6264 414.113 Q57.7051 409.506 63.5152 409.506 Z\" fill=\"#000000\" fill-rule=\"nonzero\" fill-opacity=\"1\" /><path clip-path=\"url(#clip740)\" d=\"M83.6771 438.812 L88.5614 438.812 L88.5614 444.691 L83.6771 444.691 L83.6771 438.812 Z\" fill=\"#000000\" fill-rule=\"nonzero\" fill-opacity=\"1\" /><path clip-path=\"url(#clip740)\" d=\"M108.746 428.279 Q105.413 428.279 103.492 430.062 Q101.594 431.844 101.594 434.969 Q101.594 438.094 103.492 439.876 Q105.413 441.659 108.746 441.659 Q112.08 441.659 114.001 439.876 Q115.922 438.071 115.922 434.969 Q115.922 431.844 114.001 430.062 Q112.103 428.279 108.746 428.279 M104.071 426.288 Q101.061 425.548 99.3715 423.488 Q97.7048 421.427 97.7048 418.464 Q97.7048 414.321 100.645 411.914 Q103.608 409.506 108.746 409.506 Q113.908 409.506 116.848 411.914 Q119.788 414.321 119.788 418.464 Q119.788 421.427 118.098 423.488 Q116.432 425.548 113.445 426.288 Q116.825 427.075 118.7 429.367 Q120.598 431.659 120.598 434.969 Q120.598 439.992 117.52 442.677 Q114.464 445.362 108.746 445.362 Q103.029 445.362 99.9502 442.677 Q96.8947 439.992 96.8947 434.969 Q96.8947 431.659 98.7928 429.367 Q100.691 427.075 104.071 426.288 M102.358 418.904 Q102.358 421.589 104.024 423.094 Q105.714 424.599 108.746 424.599 Q111.756 424.599 113.445 423.094 Q115.158 421.589 115.158 418.904 Q115.158 416.219 113.445 414.714 Q111.756 413.21 108.746 413.21 Q105.714 413.21 104.024 414.714 Q102.358 416.219 102.358 418.904 Z\" fill=\"#000000\" fill-rule=\"nonzero\" fill-opacity=\"1\" /><path clip-path=\"url(#clip740)\" d=\"M54.2328 101.321 L61.8717 101.321 L61.8717 74.9555 L53.5616 76.6222 L53.5616 72.3629 L61.8254 70.6963 L66.5013 70.6963 L66.5013 101.321 L74.1402 101.321 L74.1402 105.256 L54.2328 105.256 L54.2328 101.321 Z\" fill=\"#000000\" fill-rule=\"nonzero\" fill-opacity=\"1\" /><path clip-path=\"url(#clip740)\" d=\"M83.5845 99.3767 L88.4688 99.3767 L88.4688 105.256 L83.5845 105.256 L83.5845 99.3767 Z\" fill=\"#000000\" fill-rule=\"nonzero\" fill-opacity=\"1\" /><path clip-path=\"url(#clip740)\" d=\"M108.654 73.775 Q105.043 73.775 103.214 77.3398 Q101.409 80.8814 101.409 88.011 Q101.409 95.1174 103.214 98.6822 Q105.043 102.224 108.654 102.224 Q112.288 102.224 114.094 98.6822 Q115.922 95.1174 115.922 88.011 Q115.922 80.8814 114.094 77.3398 Q112.288 73.775 108.654 73.775 M108.654 70.0713 Q114.464 70.0713 117.52 74.6777 Q120.598 79.261 120.598 88.011 Q120.598 96.7378 117.52 101.344 Q114.464 105.928 108.654 105.928 Q102.844 105.928 99.765 101.344 Q96.7095 96.7378 96.7095 88.011 Q96.7095 79.261 99.765 74.6777 Q102.844 70.0713 108.654 70.0713 Z\" fill=\"#000000\" fill-rule=\"nonzero\" fill-opacity=\"1\" /><polyline clip-path=\"url(#clip742)\" style=\"stroke:#ff0000; stroke-linecap:round; stroke-linejoin:round; stroke-width:8; stroke-opacity:1; fill:none\" points=\"218.754,87.9763 260.191,1445.72 301.628,359.524 343.064,1228.48 384.501,533.315 425.938,1089.44 467.375,644.541 508.812,1000.46 550.249,715.725 591.686,943.516 633.123,761.284 674.56,907.07 715.997,790.441 757.434,883.744 798.871,809.102 840.308,868.816 881.745,821.044 923.182,859.261 964.619,828.688 1006.06,853.147 1047.49,833.579 1088.93,849.233 1130.37,836.71 1171.8,846.729 1213.24,838.714 1254.68,845.126 1296.11,839.996 1337.55,844.1 1378.99,840.817 1420.42,843.443 1461.86,841.342 1503.3,843.023 1544.74,841.678 1586.17,842.754 1627.61,841.893 1669.05,842.582 1710.48,842.031 1751.92,842.472 1793.36,842.119 1834.79,842.401 1876.23,842.176 1917.67,842.356 1959.11,842.212 2000.54,842.327 2041.98,842.235 2083.42,842.309 2124.85,842.25 2166.29,842.297 2207.73,842.259 2249.16,842.289 2290.6,842.265 \"/>\n",
       "<path clip-path=\"url(#clip740)\" d=\"M2007.5 198.898 L2279.55 198.898 L2279.55 95.2176 L2007.5 95.2176  Z\" fill=\"#ffffff\" fill-rule=\"evenodd\" fill-opacity=\"1\"/>\n",
       "<polyline clip-path=\"url(#clip740)\" style=\"stroke:#000000; stroke-linecap:round; stroke-linejoin:round; stroke-width:4; stroke-opacity:1; fill:none\" points=\"2007.5,198.898 2279.55,198.898 2279.55,95.2176 2007.5,95.2176 2007.5,198.898 \"/>\n",
       "<polyline clip-path=\"url(#clip740)\" style=\"stroke:#ff0000; stroke-linecap:round; stroke-linejoin:round; stroke-width:8; stroke-opacity:1; fill:none\" points=\"2031.91,147.058 2178.32,147.058 \"/>\n",
       "<path clip-path=\"url(#clip740)\" d=\"M2216.56 166.745 Q2214.76 171.375 2213.04 172.787 Q2211.33 174.199 2208.46 174.199 L2205.06 174.199 L2205.06 170.634 L2207.56 170.634 Q2209.32 170.634 2210.29 169.8 Q2211.26 168.967 2212.44 165.865 L2213.2 163.921 L2202.72 138.412 L2207.23 138.412 L2215.33 158.689 L2223.44 138.412 L2227.95 138.412 L2216.56 166.745 Z\" fill=\"#000000\" fill-rule=\"nonzero\" fill-opacity=\"1\" /><path clip-path=\"url(#clip740)\" d=\"M2235.24 160.402 L2242.88 160.402 L2242.88 134.037 L2234.57 135.703 L2234.57 131.444 L2242.83 129.778 L2247.51 129.778 L2247.51 160.402 L2255.15 160.402 L2255.15 164.338 L2235.24 164.338 L2235.24 160.402 Z\" fill=\"#000000\" fill-rule=\"nonzero\" fill-opacity=\"1\" /></svg>\n"
      ]
     },
     "metadata": {},
     "output_type": "display_data"
    }
   ],
   "source": [
    "plot(x, z, color=\"red\", linewidth=2.0)"
   ]
  },
  {
   "cell_type": "code",
   "execution_count": 15,
   "metadata": {},
   "outputs": [
    {
     "data": {
      "image/png": "[encoded data removed]",
      "image/svg+xml": [
       "<?xml version=\"1.0\" encoding=\"utf-8\"?>\n",
       "<svg xmlns=\"http://www.w3.org/2000/svg\" xmlns:xlink=\"http://www.w3.org/1999/xlink\" width=\"600\" height=\"400\" viewBox=\"0 0 2400 1600\">\n",
       "<defs>\n",
       "  <clipPath id=\"clip780\">\n",
       "    <rect x=\"0\" y=\"0\" width=\"2400\" height=\"1600\"/>\n",
       "  </clipPath>\n",
       "</defs>\n",
       "<path clip-path=\"url(#clip780)\" d=\"M0 1600 L2400 1600 L2400 0 L0 0  Z\" fill=\"#ffffff\" fill-rule=\"evenodd\" fill-opacity=\"1\"/>\n",
       "<defs>\n",
       "  <clipPath id=\"clip781\">\n",
       "    <rect x=\"480\" y=\"0\" width=\"1681\" height=\"1600\"/>\n",
       "  </clipPath>\n",
       "</defs>\n",
       "<path clip-path=\"url(#clip780)\" d=\"M156.598 1486.45 L2352.76 1486.45 L2352.76 47.2441 L156.598 47.2441  Z\" fill=\"#ffffff\" fill-rule=\"evenodd\" fill-opacity=\"1\"/>\n",
       "<defs>\n",
       "  <clipPath id=\"clip782\">\n",
       "    <rect x=\"156\" y=\"47\" width=\"2197\" height=\"1440\"/>\n",
       "  </clipPath>\n",
       "</defs>\n",
       "<polyline clip-path=\"url(#clip782)\" style=\"stroke:#000000; stroke-linecap:round; stroke-linejoin:round; stroke-width:2; stroke-opacity:0.1; fill:none\" points=\"218.754,1486.45 218.754,47.2441 \"/>\n",
       "<polyline clip-path=\"url(#clip782)\" style=\"stroke:#000000; stroke-linecap:round; stroke-linejoin:round; stroke-width:2; stroke-opacity:0.1; fill:none\" points=\"633.123,1486.45 633.123,47.2441 \"/>\n",
       "<polyline clip-path=\"url(#clip782)\" style=\"stroke:#000000; stroke-linecap:round; stroke-linejoin:round; stroke-width:2; stroke-opacity:0.1; fill:none\" points=\"1047.49,1486.45 1047.49,47.2441 \"/>\n",
       "<polyline clip-path=\"url(#clip782)\" style=\"stroke:#000000; stroke-linecap:round; stroke-linejoin:round; stroke-width:2; stroke-opacity:0.1; fill:none\" points=\"1461.86,1486.45 1461.86,47.2441 \"/>\n",
       "<polyline clip-path=\"url(#clip782)\" style=\"stroke:#000000; stroke-linecap:round; stroke-linejoin:round; stroke-width:2; stroke-opacity:0.1; fill:none\" points=\"1876.23,1486.45 1876.23,47.2441 \"/>\n",
       "<polyline clip-path=\"url(#clip782)\" style=\"stroke:#000000; stroke-linecap:round; stroke-linejoin:round; stroke-width:2; stroke-opacity:0.1; fill:none\" points=\"2290.6,1486.45 2290.6,47.2441 \"/>\n",
       "<polyline clip-path=\"url(#clip780)\" style=\"stroke:#000000; stroke-linecap:round; stroke-linejoin:round; stroke-width:4; stroke-opacity:1; fill:none\" points=\"156.598,1486.45 2352.76,1486.45 \"/>\n",
       "<polyline clip-path=\"url(#clip780)\" style=\"stroke:#000000; stroke-linecap:round; stroke-linejoin:round; stroke-width:4; stroke-opacity:1; fill:none\" points=\"218.754,1486.45 218.754,1467.55 \"/>\n",
       "<polyline clip-path=\"url(#clip780)\" style=\"stroke:#000000; stroke-linecap:round; stroke-linejoin:round; stroke-width:4; stroke-opacity:1; fill:none\" points=\"633.123,1486.45 633.123,1467.55 \"/>\n",
       "<polyline clip-path=\"url(#clip780)\" style=\"stroke:#000000; stroke-linecap:round; stroke-linejoin:round; stroke-width:4; stroke-opacity:1; fill:none\" points=\"1047.49,1486.45 1047.49,1467.55 \"/>\n",
       "<polyline clip-path=\"url(#clip780)\" style=\"stroke:#000000; stroke-linecap:round; stroke-linejoin:round; stroke-width:4; stroke-opacity:1; fill:none\" points=\"1461.86,1486.45 1461.86,1467.55 \"/>\n",
       "<polyline clip-path=\"url(#clip780)\" style=\"stroke:#000000; stroke-linecap:round; stroke-linejoin:round; stroke-width:4; stroke-opacity:1; fill:none\" points=\"1876.23,1486.45 1876.23,1467.55 \"/>\n",
       "<polyline clip-path=\"url(#clip780)\" style=\"stroke:#000000; stroke-linecap:round; stroke-linejoin:round; stroke-width:4; stroke-opacity:1; fill:none\" points=\"2290.6,1486.45 2290.6,1467.55 \"/>\n",
       "<path clip-path=\"url(#clip780)\" d=\"M218.754 1517.37 Q215.143 1517.37 213.314 1520.93 Q211.508 1524.47 211.508 1531.6 Q211.508 1538.71 213.314 1542.27 Q215.143 1545.82 218.754 1545.82 Q222.388 1545.82 224.193 1542.27 Q226.022 1538.71 226.022 1531.6 Q226.022 1524.47 224.193 1520.93 Q222.388 1517.37 218.754 1517.37 M218.754 1513.66 Q224.564 1513.66 227.619 1518.27 Q230.698 1522.85 230.698 1531.6 Q230.698 1540.33 227.619 1544.94 Q224.564 1549.52 218.754 1549.52 Q212.943 1549.52 209.865 1544.94 Q206.809 1540.33 206.809 1531.6 Q206.809 1522.85 209.865 1518.27 Q212.943 1513.66 218.754 1513.66 Z\" fill=\"#000000\" fill-rule=\"nonzero\" fill-opacity=\"1\" /><path clip-path=\"url(#clip780)\" d=\"M607.811 1544.91 L615.449 1544.91 L615.449 1518.55 L607.139 1520.21 L607.139 1515.95 L615.403 1514.29 L620.079 1514.29 L620.079 1544.91 L627.718 1544.91 L627.718 1548.85 L607.811 1548.85 L607.811 1544.91 Z\" fill=\"#000000\" fill-rule=\"nonzero\" fill-opacity=\"1\" /><path clip-path=\"url(#clip780)\" d=\"M647.162 1517.37 Q643.551 1517.37 641.723 1520.93 Q639.917 1524.47 639.917 1531.6 Q639.917 1538.71 641.723 1542.27 Q643.551 1545.82 647.162 1545.82 Q650.797 1545.82 652.602 1542.27 Q654.431 1538.71 654.431 1531.6 Q654.431 1524.47 652.602 1520.93 Q650.797 1517.37 647.162 1517.37 M647.162 1513.66 Q652.972 1513.66 656.028 1518.27 Q659.107 1522.85 659.107 1531.6 Q659.107 1540.33 656.028 1544.94 Q652.972 1549.52 647.162 1549.52 Q641.352 1549.52 638.273 1544.94 Q635.218 1540.33 635.218 1531.6 Q635.218 1522.85 638.273 1518.27 Q641.352 1513.66 647.162 1513.66 Z\" fill=\"#000000\" fill-rule=\"nonzero\" fill-opacity=\"1\" /><path clip-path=\"url(#clip780)\" d=\"M1026.27 1544.91 L1042.59 1544.91 L1042.59 1548.85 L1020.64 1548.85 L1020.64 1544.91 Q1023.3 1542.16 1027.89 1537.53 Q1032.49 1532.88 1033.67 1531.53 Q1035.92 1529.01 1036.8 1527.27 Q1037.7 1525.51 1037.7 1523.82 Q1037.7 1521.07 1035.76 1519.33 Q1033.84 1517.6 1030.73 1517.6 Q1028.53 1517.6 1026.08 1518.36 Q1023.65 1519.13 1020.87 1520.68 L1020.87 1515.95 Q1023.7 1514.82 1026.15 1514.24 Q1028.6 1513.66 1030.64 1513.66 Q1036.01 1513.66 1039.21 1516.35 Q1042.4 1519.03 1042.4 1523.52 Q1042.4 1525.65 1041.59 1527.57 Q1040.8 1529.47 1038.7 1532.07 Q1038.12 1532.74 1035.02 1535.95 Q1031.91 1539.15 1026.27 1544.91 Z\" fill=\"#000000\" fill-rule=\"nonzero\" fill-opacity=\"1\" /><path clip-path=\"url(#clip780)\" d=\"M1062.4 1517.37 Q1058.79 1517.37 1056.96 1520.93 Q1055.15 1524.47 1055.15 1531.6 Q1055.15 1538.71 1056.96 1542.27 Q1058.79 1545.82 1062.4 1545.82 Q1066.03 1545.82 1067.84 1542.27 Q1069.67 1538.71 1069.67 1531.6 Q1069.67 1524.47 1067.84 1520.93 Q1066.03 1517.37 1062.4 1517.37 M1062.4 1513.66 Q1068.21 1513.66 1071.27 1518.27 Q1074.34 1522.85 1074.34 1531.6 Q1074.34 1540.33 1071.27 1544.94 Q1068.21 1549.52 1062.4 1549.52 Q1056.59 1549.52 1053.51 1544.94 Q1050.46 1540.33 1050.46 1531.6 Q1050.46 1522.85 1053.51 1518.27 Q1056.59 1513.66 1062.4 1513.66 Z\" fill=\"#000000\" fill-rule=\"nonzero\" fill-opacity=\"1\" /><path clip-path=\"url(#clip780)\" d=\"M1450.7 1530.21 Q1454.06 1530.93 1455.94 1533.2 Q1457.83 1535.47 1457.83 1538.8 Q1457.83 1543.92 1454.32 1546.72 Q1450.8 1549.52 1444.32 1549.52 Q1442.14 1549.52 1439.82 1549.08 Q1437.53 1548.66 1435.08 1547.81 L1435.08 1543.29 Q1437.02 1544.43 1439.34 1545.01 Q1441.65 1545.58 1444.18 1545.58 Q1448.57 1545.58 1450.87 1543.85 Q1453.18 1542.11 1453.18 1538.8 Q1453.18 1535.75 1451.03 1534.03 Q1448.9 1532.3 1445.08 1532.3 L1441.05 1532.3 L1441.05 1528.45 L1445.26 1528.45 Q1448.71 1528.45 1450.54 1527.09 Q1452.37 1525.7 1452.37 1523.11 Q1452.37 1520.45 1450.47 1519.03 Q1448.6 1517.6 1445.08 1517.6 Q1443.16 1517.6 1440.96 1518.01 Q1438.76 1518.43 1436.12 1519.31 L1436.12 1515.14 Q1438.78 1514.4 1441.1 1514.03 Q1443.44 1513.66 1445.5 1513.66 Q1450.82 1513.66 1453.92 1516.09 Q1457.02 1518.5 1457.02 1522.62 Q1457.02 1525.49 1455.38 1527.48 Q1453.74 1529.45 1450.7 1530.21 Z\" fill=\"#000000\" fill-rule=\"nonzero\" fill-opacity=\"1\" /><path clip-path=\"url(#clip780)\" d=\"M1476.7 1517.37 Q1473.09 1517.37 1471.26 1520.93 Q1469.45 1524.47 1469.45 1531.6 Q1469.45 1538.71 1471.26 1542.27 Q1473.09 1545.82 1476.7 1545.82 Q1480.33 1545.82 1482.14 1542.27 Q1483.97 1538.71 1483.97 1531.6 Q1483.97 1524.47 1482.14 1520.93 Q1480.33 1517.37 1476.7 1517.37 M1476.7 1513.66 Q1482.51 1513.66 1485.57 1518.27 Q1488.64 1522.85 1488.64 1531.6 Q1488.64 1540.33 1485.57 1544.94 Q1482.51 1549.52 1476.7 1549.52 Q1470.89 1549.52 1467.81 1544.94 Q1464.76 1540.33 1464.76 1531.6 Q1464.76 1522.85 1467.81 1518.27 Q1470.89 1513.66 1476.7 1513.66 Z\" fill=\"#000000\" fill-rule=\"nonzero\" fill-opacity=\"1\" /><path clip-path=\"url(#clip780)\" d=\"M1864.4 1518.36 L1852.6 1536.81 L1864.4 1536.81 L1864.4 1518.36 M1863.18 1514.29 L1869.06 1514.29 L1869.06 1536.81 L1873.99 1536.81 L1873.99 1540.7 L1869.06 1540.7 L1869.06 1548.85 L1864.4 1548.85 L1864.4 1540.7 L1848.8 1540.7 L1848.8 1536.19 L1863.18 1514.29 Z\" fill=\"#000000\" fill-rule=\"nonzero\" fill-opacity=\"1\" /><path clip-path=\"url(#clip780)\" d=\"M1891.72 1517.37 Q1888.11 1517.37 1886.28 1520.93 Q1884.47 1524.47 1884.47 1531.6 Q1884.47 1538.71 1886.28 1542.27 Q1888.11 1545.82 1891.72 1545.82 Q1895.35 1545.82 1897.16 1542.27 Q1898.99 1538.71 1898.99 1531.6 Q1898.99 1524.47 1897.16 1520.93 Q1895.35 1517.37 1891.72 1517.37 M1891.72 1513.66 Q1897.53 1513.66 1900.58 1518.27 Q1903.66 1522.85 1903.66 1531.6 Q1903.66 1540.33 1900.58 1544.94 Q1897.53 1549.52 1891.72 1549.52 Q1885.91 1549.52 1882.83 1544.94 Q1879.77 1540.33 1879.77 1531.6 Q1879.77 1522.85 1882.83 1518.27 Q1885.91 1513.66 1891.72 1513.66 Z\" fill=\"#000000\" fill-rule=\"nonzero\" fill-opacity=\"1\" /><path clip-path=\"url(#clip780)\" d=\"M2265.3 1514.29 L2283.66 1514.29 L2283.66 1518.22 L2269.58 1518.22 L2269.58 1526.7 Q2270.6 1526.35 2271.62 1526.19 Q2272.64 1526 2273.66 1526 Q2279.44 1526 2282.82 1529.17 Q2286.2 1532.34 2286.2 1537.76 Q2286.2 1543.34 2282.73 1546.44 Q2279.26 1549.52 2272.94 1549.52 Q2270.76 1549.52 2268.49 1549.15 Q2266.25 1548.78 2263.84 1548.04 L2263.84 1543.34 Q2265.92 1544.47 2268.15 1545.03 Q2270.37 1545.58 2272.85 1545.58 Q2276.85 1545.58 2279.19 1543.48 Q2281.53 1541.37 2281.53 1537.76 Q2281.53 1534.15 2279.19 1532.04 Q2276.85 1529.94 2272.85 1529.94 Q2270.97 1529.94 2269.1 1530.35 Q2267.24 1530.77 2265.3 1531.65 L2265.3 1514.29 Z\" fill=\"#000000\" fill-rule=\"nonzero\" fill-opacity=\"1\" /><path clip-path=\"url(#clip780)\" d=\"M2305.42 1517.37 Q2301.8 1517.37 2299.98 1520.93 Q2298.17 1524.47 2298.17 1531.6 Q2298.17 1538.71 2299.98 1542.27 Q2301.8 1545.82 2305.42 1545.82 Q2309.05 1545.82 2310.86 1542.27 Q2312.68 1538.71 2312.68 1531.6 Q2312.68 1524.47 2310.86 1520.93 Q2309.05 1517.37 2305.42 1517.37 M2305.42 1513.66 Q2311.23 1513.66 2314.28 1518.27 Q2317.36 1522.85 2317.36 1531.6 Q2317.36 1540.33 2314.28 1544.94 Q2311.23 1549.52 2305.42 1549.52 Q2299.61 1549.52 2296.53 1544.94 Q2293.47 1540.33 2293.47 1531.6 Q2293.47 1522.85 2296.53 1518.27 Q2299.61 1513.66 2305.42 1513.66 Z\" fill=\"#000000\" fill-rule=\"nonzero\" fill-opacity=\"1\" /><polyline clip-path=\"url(#clip782)\" style=\"stroke:#000000; stroke-linecap:round; stroke-linejoin:round; stroke-width:2; stroke-opacity:0.1; fill:none\" points=\"156.598,1445.72 2352.76,1445.72 \"/>\n",
       "<polyline clip-path=\"url(#clip782)\" style=\"stroke:#000000; stroke-linecap:round; stroke-linejoin:round; stroke-width:2; stroke-opacity:0.1; fill:none\" points=\"156.598,1106.28 2352.76,1106.28 \"/>\n",
       "<polyline clip-path=\"url(#clip782)\" style=\"stroke:#000000; stroke-linecap:round; stroke-linejoin:round; stroke-width:2; stroke-opacity:0.1; fill:none\" points=\"156.598,766.846 2352.76,766.846 \"/>\n",
       "<polyline clip-path=\"url(#clip782)\" style=\"stroke:#000000; stroke-linecap:round; stroke-linejoin:round; stroke-width:2; stroke-opacity:0.1; fill:none\" points=\"156.598,427.411 2352.76,427.411 \"/>\n",
       "<polyline clip-path=\"url(#clip782)\" style=\"stroke:#000000; stroke-linecap:round; stroke-linejoin:round; stroke-width:2; stroke-opacity:0.1; fill:none\" points=\"156.598,87.9763 2352.76,87.9763 \"/>\n",
       "<polyline clip-path=\"url(#clip780)\" style=\"stroke:#000000; stroke-linecap:round; stroke-linejoin:round; stroke-width:4; stroke-opacity:1; fill:none\" points=\"156.598,1486.45 156.598,47.2441 \"/>\n",
       "<polyline clip-path=\"url(#clip780)\" style=\"stroke:#000000; stroke-linecap:round; stroke-linejoin:round; stroke-width:4; stroke-opacity:1; fill:none\" points=\"156.598,1445.72 175.496,1445.72 \"/>\n",
       "<polyline clip-path=\"url(#clip780)\" style=\"stroke:#000000; stroke-linecap:round; stroke-linejoin:round; stroke-width:4; stroke-opacity:1; fill:none\" points=\"156.598,1106.28 175.496,1106.28 \"/>\n",
       "<polyline clip-path=\"url(#clip780)\" style=\"stroke:#000000; stroke-linecap:round; stroke-linejoin:round; stroke-width:4; stroke-opacity:1; fill:none\" points=\"156.598,766.846 175.496,766.846 \"/>\n",
       "<polyline clip-path=\"url(#clip780)\" style=\"stroke:#000000; stroke-linecap:round; stroke-linejoin:round; stroke-width:4; stroke-opacity:1; fill:none\" points=\"156.598,427.411 175.496,427.411 \"/>\n",
       "<polyline clip-path=\"url(#clip780)\" style=\"stroke:#000000; stroke-linecap:round; stroke-linejoin:round; stroke-width:4; stroke-opacity:1; fill:none\" points=\"156.598,87.9763 175.496,87.9763 \"/>\n",
       "<path clip-path=\"url(#clip780)\" d=\"M65.0198 1431.51 Q61.4087 1431.51 59.58 1435.08 Q57.7745 1438.62 57.7745 1445.75 Q57.7745 1452.86 59.58 1456.42 Q61.4087 1459.96 65.0198 1459.96 Q68.6541 1459.96 70.4596 1456.42 Q72.2883 1452.86 72.2883 1445.75 Q72.2883 1438.62 70.4596 1435.08 Q68.6541 1431.51 65.0198 1431.51 M65.0198 1427.81 Q70.83 1427.81 73.8855 1432.42 Q76.9642 1437 76.9642 1445.75 Q76.9642 1454.48 73.8855 1459.08 Q70.83 1463.67 65.0198 1463.67 Q59.2097 1463.67 56.131 1459.08 Q53.0754 1454.48 53.0754 1445.75 Q53.0754 1437 56.131 1432.42 Q59.2097 1427.81 65.0198 1427.81 Z\" fill=\"#000000\" fill-rule=\"nonzero\" fill-opacity=\"1\" /><path clip-path=\"url(#clip780)\" d=\"M85.1818 1457.12 L90.066 1457.12 L90.066 1463 L85.1818 1463 L85.1818 1457.12 Z\" fill=\"#000000\" fill-rule=\"nonzero\" fill-opacity=\"1\" /><path clip-path=\"url(#clip780)\" d=\"M104.279 1459.06 L120.598 1459.06 L120.598 1463 L98.6539 1463 L98.6539 1459.06 Q101.316 1456.31 105.899 1451.68 Q110.506 1447.02 111.686 1445.68 Q113.932 1443.16 114.811 1441.42 Q115.714 1439.66 115.714 1437.97 Q115.714 1435.22 113.77 1433.48 Q111.848 1431.75 108.746 1431.75 Q106.547 1431.75 104.094 1432.51 Q101.663 1433.27 98.8854 1434.82 L98.8854 1430.1 Q101.709 1428.97 104.163 1428.39 Q106.617 1427.81 108.654 1427.81 Q114.024 1427.81 117.219 1430.5 Q120.413 1433.18 120.413 1437.67 Q120.413 1439.8 119.603 1441.72 Q118.816 1443.62 116.709 1446.21 Q116.131 1446.88 113.029 1450.1 Q109.927 1453.3 104.279 1459.06 Z\" fill=\"#000000\" fill-rule=\"nonzero\" fill-opacity=\"1\" /><path clip-path=\"url(#clip780)\" d=\"M62.9365 1092.08 Q59.3254 1092.08 57.4967 1095.64 Q55.6912 1099.19 55.6912 1106.32 Q55.6912 1113.42 57.4967 1116.99 Q59.3254 1120.53 62.9365 1120.53 Q66.5707 1120.53 68.3763 1116.99 Q70.205 1113.42 70.205 1106.32 Q70.205 1099.19 68.3763 1095.64 Q66.5707 1092.08 62.9365 1092.08 M62.9365 1088.38 Q68.7467 1088.38 71.8022 1092.98 Q74.8809 1097.57 74.8809 1106.32 Q74.8809 1115.04 71.8022 1119.65 Q68.7467 1124.23 62.9365 1124.23 Q57.1264 1124.23 54.0477 1119.65 Q50.9921 1115.04 50.9921 1106.32 Q50.9921 1097.57 54.0477 1092.98 Q57.1264 1088.38 62.9365 1088.38 Z\" fill=\"#000000\" fill-rule=\"nonzero\" fill-opacity=\"1\" /><path clip-path=\"url(#clip780)\" d=\"M83.0984 1117.68 L87.9827 1117.68 L87.9827 1123.56 L83.0984 1123.56 L83.0984 1117.68 Z\" fill=\"#000000\" fill-rule=\"nonzero\" fill-opacity=\"1\" /><path clip-path=\"url(#clip780)\" d=\"M111.015 1093.07 L99.2095 1111.52 L111.015 1111.52 L111.015 1093.07 M109.788 1089 L115.668 1089 L115.668 1111.52 L120.598 1111.52 L120.598 1115.41 L115.668 1115.41 L115.668 1123.56 L111.015 1123.56 L111.015 1115.41 L95.4132 1115.41 L95.4132 1110.9 L109.788 1089 Z\" fill=\"#000000\" fill-rule=\"nonzero\" fill-opacity=\"1\" /><path clip-path=\"url(#clip780)\" d=\"M63.2606 752.645 Q59.6495 752.645 57.8208 756.209 Q56.0152 759.751 56.0152 766.881 Q56.0152 773.987 57.8208 777.552 Q59.6495 781.094 63.2606 781.094 Q66.8948 781.094 68.7004 777.552 Q70.5291 773.987 70.5291 766.881 Q70.5291 759.751 68.7004 756.209 Q66.8948 752.645 63.2606 752.645 M63.2606 748.941 Q69.0707 748.941 72.1263 753.547 Q75.205 758.131 75.205 766.881 Q75.205 775.608 72.1263 780.214 Q69.0707 784.797 63.2606 784.797 Q57.4504 784.797 54.3717 780.214 Q51.3162 775.608 51.3162 766.881 Q51.3162 758.131 54.3717 753.547 Q57.4504 748.941 63.2606 748.941 Z\" fill=\"#000000\" fill-rule=\"nonzero\" fill-opacity=\"1\" /><path clip-path=\"url(#clip780)\" d=\"M83.4225 778.246 L88.3067 778.246 L88.3067 784.126 L83.4225 784.126 L83.4225 778.246 Z\" fill=\"#000000\" fill-rule=\"nonzero\" fill-opacity=\"1\" /><path clip-path=\"url(#clip780)\" d=\"M109.071 764.983 Q105.922 764.983 104.071 767.135 Q102.242 769.288 102.242 773.038 Q102.242 776.765 104.071 778.941 Q105.922 781.094 109.071 781.094 Q112.219 781.094 114.047 778.941 Q115.899 776.765 115.899 773.038 Q115.899 769.288 114.047 767.135 Q112.219 764.983 109.071 764.983 M118.353 750.33 L118.353 754.589 Q116.594 753.756 114.788 753.316 Q113.006 752.876 111.246 752.876 Q106.617 752.876 104.163 756.001 Q101.733 759.126 101.385 765.446 Q102.751 763.432 104.811 762.367 Q106.871 761.279 109.348 761.279 Q114.557 761.279 117.566 764.45 Q120.598 767.598 120.598 773.038 Q120.598 778.362 117.45 781.58 Q114.302 784.797 109.071 784.797 Q103.075 784.797 99.9039 780.214 Q96.7326 775.608 96.7326 766.881 Q96.7326 758.686 100.621 753.825 Q104.51 748.941 111.061 748.941 Q112.82 748.941 114.603 749.288 Q116.408 749.635 118.353 750.33 Z\" fill=\"#000000\" fill-rule=\"nonzero\" fill-opacity=\"1\" /><path clip-path=\"url(#clip780)\" d=\"M63.5152 413.21 Q59.9041 413.21 58.0754 416.775 Q56.2699 420.316 56.2699 427.446 Q56.2699 434.552 58.0754 438.117 Q59.9041 441.659 63.5152 441.659 Q67.1494 441.659 68.955 438.117 Q70.7837 434.552 70.7837 427.446 Q70.7837 420.316 68.955 416.775 Q67.1494 413.21 63.5152 413.21 M63.5152 409.506 Q69.3254 409.506 72.3809 414.113 Q75.4596 418.696 75.4596 427.446 Q75.4596 436.173 72.3809 440.779 Q69.3254 445.362 63.5152 445.362 Q57.7051 445.362 54.6264 440.779 Q51.5708 436.173 51.5708 427.446 Q51.5708 418.696 54.6264 414.113 Q57.7051 409.506 63.5152 409.506 Z\" fill=\"#000000\" fill-rule=\"nonzero\" fill-opacity=\"1\" /><path clip-path=\"url(#clip780)\" d=\"M83.6771 438.812 L88.5614 438.812 L88.5614 444.691 L83.6771 444.691 L83.6771 438.812 Z\" fill=\"#000000\" fill-rule=\"nonzero\" fill-opacity=\"1\" /><path clip-path=\"url(#clip780)\" d=\"M108.746 428.279 Q105.413 428.279 103.492 430.062 Q101.594 431.844 101.594 434.969 Q101.594 438.094 103.492 439.876 Q105.413 441.659 108.746 441.659 Q112.08 441.659 114.001 439.876 Q115.922 438.071 115.922 434.969 Q115.922 431.844 114.001 430.062 Q112.103 428.279 108.746 428.279 M104.071 426.288 Q101.061 425.548 99.3715 423.488 Q97.7048 421.427 97.7048 418.464 Q97.7048 414.321 100.645 411.914 Q103.608 409.506 108.746 409.506 Q113.908 409.506 116.848 411.914 Q119.788 414.321 119.788 418.464 Q119.788 421.427 118.098 423.488 Q116.432 425.548 113.445 426.288 Q116.825 427.075 118.7 429.367 Q120.598 431.659 120.598 434.969 Q120.598 439.992 117.52 442.677 Q114.464 445.362 108.746 445.362 Q103.029 445.362 99.9502 442.677 Q96.8947 439.992 96.8947 434.969 Q96.8947 431.659 98.7928 429.367 Q100.691 427.075 104.071 426.288 M102.358 418.904 Q102.358 421.589 104.024 423.094 Q105.714 424.599 108.746 424.599 Q111.756 424.599 113.445 423.094 Q115.158 421.589 115.158 418.904 Q115.158 416.219 113.445 414.714 Q111.756 413.21 108.746 413.21 Q105.714 413.21 104.024 414.714 Q102.358 416.219 102.358 418.904 Z\" fill=\"#000000\" fill-rule=\"nonzero\" fill-opacity=\"1\" /><path clip-path=\"url(#clip780)\" d=\"M54.2328 101.321 L61.8717 101.321 L61.8717 74.9555 L53.5616 76.6222 L53.5616 72.3629 L61.8254 70.6963 L66.5013 70.6963 L66.5013 101.321 L74.1402 101.321 L74.1402 105.256 L54.2328 105.256 L54.2328 101.321 Z\" fill=\"#000000\" fill-rule=\"nonzero\" fill-opacity=\"1\" /><path clip-path=\"url(#clip780)\" d=\"M83.5845 99.3767 L88.4688 99.3767 L88.4688 105.256 L83.5845 105.256 L83.5845 99.3767 Z\" fill=\"#000000\" fill-rule=\"nonzero\" fill-opacity=\"1\" /><path clip-path=\"url(#clip780)\" d=\"M108.654 73.775 Q105.043 73.775 103.214 77.3398 Q101.409 80.8814 101.409 88.011 Q101.409 95.1174 103.214 98.6822 Q105.043 102.224 108.654 102.224 Q112.288 102.224 114.094 98.6822 Q115.922 95.1174 115.922 88.011 Q115.922 80.8814 114.094 77.3398 Q112.288 73.775 108.654 73.775 M108.654 70.0713 Q114.464 70.0713 117.52 74.6777 Q120.598 79.261 120.598 88.011 Q120.598 96.7378 117.52 101.344 Q114.464 105.928 108.654 105.928 Q102.844 105.928 99.765 101.344 Q96.7095 96.7378 96.7095 88.011 Q96.7095 79.261 99.765 74.6777 Q102.844 70.0713 108.654 70.0713 Z\" fill=\"#000000\" fill-rule=\"nonzero\" fill-opacity=\"1\" /><polyline clip-path=\"url(#clip782)\" style=\"stroke:#009af9; stroke-linecap:round; stroke-linejoin:round; stroke-width:8; stroke-opacity:1; fill:none\" points=\"218.754,87.9763 260.191,1445.72 301.628,359.524 343.064,1228.48 384.501,533.315 425.938,1089.44 467.375,644.541 508.812,1000.46 550.249,715.725 591.686,943.516 633.123,761.284 674.56,907.07 715.997,790.441 757.434,883.744 798.871,809.102 840.308,868.816 881.745,821.044 923.182,859.261 964.619,828.688 1006.06,853.147 1047.49,833.579 1088.93,849.233 1130.37,836.71 1171.8,846.729 1213.24,838.714 1254.68,845.126 1296.11,839.996 1337.55,844.1 1378.99,840.817 1420.42,843.443 1461.86,841.342 1503.3,843.023 1544.74,841.678 1586.17,842.754 1627.61,841.893 1669.05,842.582 1710.48,842.031 1751.92,842.472 1793.36,842.119 1834.79,842.401 1876.23,842.176 1917.67,842.356 1959.11,842.212 2000.54,842.327 2041.98,842.235 2083.42,842.309 2124.85,842.25 2166.29,842.297 2207.73,842.259 2249.16,842.289 2290.6,842.265 \"/>\n",
       "<path clip-path=\"url(#clip780)\" d=\"M2007.5 198.898 L2279.55 198.898 L2279.55 95.2176 L2007.5 95.2176  Z\" fill=\"#ffffff\" fill-rule=\"evenodd\" fill-opacity=\"1\"/>\n",
       "<polyline clip-path=\"url(#clip780)\" style=\"stroke:#000000; stroke-linecap:round; stroke-linejoin:round; stroke-width:4; stroke-opacity:1; fill:none\" points=\"2007.5,198.898 2279.55,198.898 2279.55,95.2176 2007.5,95.2176 2007.5,198.898 \"/>\n",
       "<polyline clip-path=\"url(#clip780)\" style=\"stroke:#009af9; stroke-linecap:round; stroke-linejoin:round; stroke-width:8; stroke-opacity:1; fill:none\" points=\"2031.91,147.058 2178.32,147.058 \"/>\n",
       "<path clip-path=\"url(#clip780)\" d=\"M2216.56 166.745 Q2214.76 171.375 2213.04 172.787 Q2211.33 174.199 2208.46 174.199 L2205.06 174.199 L2205.06 170.634 L2207.56 170.634 Q2209.32 170.634 2210.29 169.8 Q2211.26 168.967 2212.44 165.865 L2213.2 163.921 L2202.72 138.412 L2207.23 138.412 L2215.33 158.689 L2223.44 138.412 L2227.95 138.412 L2216.56 166.745 Z\" fill=\"#000000\" fill-rule=\"nonzero\" fill-opacity=\"1\" /><path clip-path=\"url(#clip780)\" d=\"M2235.24 160.402 L2242.88 160.402 L2242.88 134.037 L2234.57 135.703 L2234.57 131.444 L2242.83 129.778 L2247.51 129.778 L2247.51 160.402 L2255.15 160.402 L2255.15 164.338 L2235.24 164.338 L2235.24 160.402 Z\" fill=\"#000000\" fill-rule=\"nonzero\" fill-opacity=\"1\" /></svg>\n"
      ],
      "text/html": [
       "<?xml version=\"1.0\" encoding=\"utf-8\"?>\n",
       "<svg xmlns=\"http://www.w3.org/2000/svg\" xmlns:xlink=\"http://www.w3.org/1999/xlink\" width=\"600\" height=\"400\" viewBox=\"0 0 2400 1600\">\n",
       "<defs>\n",
       "  <clipPath id=\"clip830\">\n",
       "    <rect x=\"0\" y=\"0\" width=\"2400\" height=\"1600\"/>\n",
       "  </clipPath>\n",
       "</defs>\n",
       "<path clip-path=\"url(#clip830)\" d=\"M0 1600 L2400 1600 L2400 0 L0 0  Z\" fill=\"#ffffff\" fill-rule=\"evenodd\" fill-opacity=\"1\"/>\n",
       "<defs>\n",
       "  <clipPath id=\"clip831\">\n",
       "    <rect x=\"480\" y=\"0\" width=\"1681\" height=\"1600\"/>\n",
       "  </clipPath>\n",
       "</defs>\n",
       "<path clip-path=\"url(#clip830)\" d=\"M156.598 1486.45 L2352.76 1486.45 L2352.76 47.2441 L156.598 47.2441  Z\" fill=\"#ffffff\" fill-rule=\"evenodd\" fill-opacity=\"1\"/>\n",
       "<defs>\n",
       "  <clipPath id=\"clip832\">\n",
       "    <rect x=\"156\" y=\"47\" width=\"2197\" height=\"1440\"/>\n",
       "  </clipPath>\n",
       "</defs>\n",
       "<polyline clip-path=\"url(#clip832)\" style=\"stroke:#000000; stroke-linecap:round; stroke-linejoin:round; stroke-width:2; stroke-opacity:0.1; fill:none\" points=\"218.754,1486.45 218.754,47.2441 \"/>\n",
       "<polyline clip-path=\"url(#clip832)\" style=\"stroke:#000000; stroke-linecap:round; stroke-linejoin:round; stroke-width:2; stroke-opacity:0.1; fill:none\" points=\"633.123,1486.45 633.123,47.2441 \"/>\n",
       "<polyline clip-path=\"url(#clip832)\" style=\"stroke:#000000; stroke-linecap:round; stroke-linejoin:round; stroke-width:2; stroke-opacity:0.1; fill:none\" points=\"1047.49,1486.45 1047.49,47.2441 \"/>\n",
       "<polyline clip-path=\"url(#clip832)\" style=\"stroke:#000000; stroke-linecap:round; stroke-linejoin:round; stroke-width:2; stroke-opacity:0.1; fill:none\" points=\"1461.86,1486.45 1461.86,47.2441 \"/>\n",
       "<polyline clip-path=\"url(#clip832)\" style=\"stroke:#000000; stroke-linecap:round; stroke-linejoin:round; stroke-width:2; stroke-opacity:0.1; fill:none\" points=\"1876.23,1486.45 1876.23,47.2441 \"/>\n",
       "<polyline clip-path=\"url(#clip832)\" style=\"stroke:#000000; stroke-linecap:round; stroke-linejoin:round; stroke-width:2; stroke-opacity:0.1; fill:none\" points=\"2290.6,1486.45 2290.6,47.2441 \"/>\n",
       "<polyline clip-path=\"url(#clip830)\" style=\"stroke:#000000; stroke-linecap:round; stroke-linejoin:round; stroke-width:4; stroke-opacity:1; fill:none\" points=\"156.598,1486.45 2352.76,1486.45 \"/>\n",
       "<polyline clip-path=\"url(#clip830)\" style=\"stroke:#000000; stroke-linecap:round; stroke-linejoin:round; stroke-width:4; stroke-opacity:1; fill:none\" points=\"218.754,1486.45 218.754,1467.55 \"/>\n",
       "<polyline clip-path=\"url(#clip830)\" style=\"stroke:#000000; stroke-linecap:round; stroke-linejoin:round; stroke-width:4; stroke-opacity:1; fill:none\" points=\"633.123,1486.45 633.123,1467.55 \"/>\n",
       "<polyline clip-path=\"url(#clip830)\" style=\"stroke:#000000; stroke-linecap:round; stroke-linejoin:round; stroke-width:4; stroke-opacity:1; fill:none\" points=\"1047.49,1486.45 1047.49,1467.55 \"/>\n",
       "<polyline clip-path=\"url(#clip830)\" style=\"stroke:#000000; stroke-linecap:round; stroke-linejoin:round; stroke-width:4; stroke-opacity:1; fill:none\" points=\"1461.86,1486.45 1461.86,1467.55 \"/>\n",
       "<polyline clip-path=\"url(#clip830)\" style=\"stroke:#000000; stroke-linecap:round; stroke-linejoin:round; stroke-width:4; stroke-opacity:1; fill:none\" points=\"1876.23,1486.45 1876.23,1467.55 \"/>\n",
       "<polyline clip-path=\"url(#clip830)\" style=\"stroke:#000000; stroke-linecap:round; stroke-linejoin:round; stroke-width:4; stroke-opacity:1; fill:none\" points=\"2290.6,1486.45 2290.6,1467.55 \"/>\n",
       "<path clip-path=\"url(#clip830)\" d=\"M218.754 1517.37 Q215.143 1517.37 213.314 1520.93 Q211.508 1524.47 211.508 1531.6 Q211.508 1538.71 213.314 1542.27 Q215.143 1545.82 218.754 1545.82 Q222.388 1545.82 224.193 1542.27 Q226.022 1538.71 226.022 1531.6 Q226.022 1524.47 224.193 1520.93 Q222.388 1517.37 218.754 1517.37 M218.754 1513.66 Q224.564 1513.66 227.619 1518.27 Q230.698 1522.85 230.698 1531.6 Q230.698 1540.33 227.619 1544.94 Q224.564 1549.52 218.754 1549.52 Q212.943 1549.52 209.865 1544.94 Q206.809 1540.33 206.809 1531.6 Q206.809 1522.85 209.865 1518.27 Q212.943 1513.66 218.754 1513.66 Z\" fill=\"#000000\" fill-rule=\"nonzero\" fill-opacity=\"1\" /><path clip-path=\"url(#clip830)\" d=\"M607.811 1544.91 L615.449 1544.91 L615.449 1518.55 L607.139 1520.21 L607.139 1515.95 L615.403 1514.29 L620.079 1514.29 L620.079 1544.91 L627.718 1544.91 L627.718 1548.85 L607.811 1548.85 L607.811 1544.91 Z\" fill=\"#000000\" fill-rule=\"nonzero\" fill-opacity=\"1\" /><path clip-path=\"url(#clip830)\" d=\"M647.162 1517.37 Q643.551 1517.37 641.723 1520.93 Q639.917 1524.47 639.917 1531.6 Q639.917 1538.71 641.723 1542.27 Q643.551 1545.82 647.162 1545.82 Q650.797 1545.82 652.602 1542.27 Q654.431 1538.71 654.431 1531.6 Q654.431 1524.47 652.602 1520.93 Q650.797 1517.37 647.162 1517.37 M647.162 1513.66 Q652.972 1513.66 656.028 1518.27 Q659.107 1522.85 659.107 1531.6 Q659.107 1540.33 656.028 1544.94 Q652.972 1549.52 647.162 1549.52 Q641.352 1549.52 638.273 1544.94 Q635.218 1540.33 635.218 1531.6 Q635.218 1522.85 638.273 1518.27 Q641.352 1513.66 647.162 1513.66 Z\" fill=\"#000000\" fill-rule=\"nonzero\" fill-opacity=\"1\" /><path clip-path=\"url(#clip830)\" d=\"M1026.27 1544.91 L1042.59 1544.91 L1042.59 1548.85 L1020.64 1548.85 L1020.64 1544.91 Q1023.3 1542.16 1027.89 1537.53 Q1032.49 1532.88 1033.67 1531.53 Q1035.92 1529.01 1036.8 1527.27 Q1037.7 1525.51 1037.7 1523.82 Q1037.7 1521.07 1035.76 1519.33 Q1033.84 1517.6 1030.73 1517.6 Q1028.53 1517.6 1026.08 1518.36 Q1023.65 1519.13 1020.87 1520.68 L1020.87 1515.95 Q1023.7 1514.82 1026.15 1514.24 Q1028.6 1513.66 1030.64 1513.66 Q1036.01 1513.66 1039.21 1516.35 Q1042.4 1519.03 1042.4 1523.52 Q1042.4 1525.65 1041.59 1527.57 Q1040.8 1529.47 1038.7 1532.07 Q1038.12 1532.74 1035.02 1535.95 Q1031.91 1539.15 1026.27 1544.91 Z\" fill=\"#000000\" fill-rule=\"nonzero\" fill-opacity=\"1\" /><path clip-path=\"url(#clip830)\" d=\"M1062.4 1517.37 Q1058.79 1517.37 1056.96 1520.93 Q1055.15 1524.47 1055.15 1531.6 Q1055.15 1538.71 1056.96 1542.27 Q1058.79 1545.82 1062.4 1545.82 Q1066.03 1545.82 1067.84 1542.27 Q1069.67 1538.71 1069.67 1531.6 Q1069.67 1524.47 1067.84 1520.93 Q1066.03 1517.37 1062.4 1517.37 M1062.4 1513.66 Q1068.21 1513.66 1071.27 1518.27 Q1074.34 1522.85 1074.34 1531.6 Q1074.34 1540.33 1071.27 1544.94 Q1068.21 1549.52 1062.4 1549.52 Q1056.59 1549.52 1053.51 1544.94 Q1050.46 1540.33 1050.46 1531.6 Q1050.46 1522.85 1053.51 1518.27 Q1056.59 1513.66 1062.4 1513.66 Z\" fill=\"#000000\" fill-rule=\"nonzero\" fill-opacity=\"1\" /><path clip-path=\"url(#clip830)\" d=\"M1450.7 1530.21 Q1454.06 1530.93 1455.94 1533.2 Q1457.83 1535.47 1457.83 1538.8 Q1457.83 1543.92 1454.32 1546.72 Q1450.8 1549.52 1444.32 1549.52 Q1442.14 1549.52 1439.82 1549.08 Q1437.53 1548.66 1435.08 1547.81 L1435.08 1543.29 Q1437.02 1544.43 1439.34 1545.01 Q1441.65 1545.58 1444.18 1545.58 Q1448.57 1545.58 1450.87 1543.85 Q1453.18 1542.11 1453.18 1538.8 Q1453.18 1535.75 1451.03 1534.03 Q1448.9 1532.3 1445.08 1532.3 L1441.05 1532.3 L1441.05 1528.45 L1445.26 1528.45 Q1448.71 1528.45 1450.54 1527.09 Q1452.37 1525.7 1452.37 1523.11 Q1452.37 1520.45 1450.47 1519.03 Q1448.6 1517.6 1445.08 1517.6 Q1443.16 1517.6 1440.96 1518.01 Q1438.76 1518.43 1436.12 1519.31 L1436.12 1515.14 Q1438.78 1514.4 1441.1 1514.03 Q1443.44 1513.66 1445.5 1513.66 Q1450.82 1513.66 1453.92 1516.09 Q1457.02 1518.5 1457.02 1522.62 Q1457.02 1525.49 1455.38 1527.48 Q1453.74 1529.45 1450.7 1530.21 Z\" fill=\"#000000\" fill-rule=\"nonzero\" fill-opacity=\"1\" /><path clip-path=\"url(#clip830)\" d=\"M1476.7 1517.37 Q1473.09 1517.37 1471.26 1520.93 Q1469.45 1524.47 1469.45 1531.6 Q1469.45 1538.71 1471.26 1542.27 Q1473.09 1545.82 1476.7 1545.82 Q1480.33 1545.82 1482.14 1542.27 Q1483.97 1538.71 1483.97 1531.6 Q1483.97 1524.47 1482.14 1520.93 Q1480.33 1517.37 1476.7 1517.37 M1476.7 1513.66 Q1482.51 1513.66 1485.57 1518.27 Q1488.64 1522.85 1488.64 1531.6 Q1488.64 1540.33 1485.57 1544.94 Q1482.51 1549.52 1476.7 1549.52 Q1470.89 1549.52 1467.81 1544.94 Q1464.76 1540.33 1464.76 1531.6 Q1464.76 1522.85 1467.81 1518.27 Q1470.89 1513.66 1476.7 1513.66 Z\" fill=\"#000000\" fill-rule=\"nonzero\" fill-opacity=\"1\" /><path clip-path=\"url(#clip830)\" d=\"M1864.4 1518.36 L1852.6 1536.81 L1864.4 1536.81 L1864.4 1518.36 M1863.18 1514.29 L1869.06 1514.29 L1869.06 1536.81 L1873.99 1536.81 L1873.99 1540.7 L1869.06 1540.7 L1869.06 1548.85 L1864.4 1548.85 L1864.4 1540.7 L1848.8 1540.7 L1848.8 1536.19 L1863.18 1514.29 Z\" fill=\"#000000\" fill-rule=\"nonzero\" fill-opacity=\"1\" /><path clip-path=\"url(#clip830)\" d=\"M1891.72 1517.37 Q1888.11 1517.37 1886.28 1520.93 Q1884.47 1524.47 1884.47 1531.6 Q1884.47 1538.71 1886.28 1542.27 Q1888.11 1545.82 1891.72 1545.82 Q1895.35 1545.82 1897.16 1542.27 Q1898.99 1538.71 1898.99 1531.6 Q1898.99 1524.47 1897.16 1520.93 Q1895.35 1517.37 1891.72 1517.37 M1891.72 1513.66 Q1897.53 1513.66 1900.58 1518.27 Q1903.66 1522.85 1903.66 1531.6 Q1903.66 1540.33 1900.58 1544.94 Q1897.53 1549.52 1891.72 1549.52 Q1885.91 1549.52 1882.83 1544.94 Q1879.77 1540.33 1879.77 1531.6 Q1879.77 1522.85 1882.83 1518.27 Q1885.91 1513.66 1891.72 1513.66 Z\" fill=\"#000000\" fill-rule=\"nonzero\" fill-opacity=\"1\" /><path clip-path=\"url(#clip830)\" d=\"M2265.3 1514.29 L2283.66 1514.29 L2283.66 1518.22 L2269.58 1518.22 L2269.58 1526.7 Q2270.6 1526.35 2271.62 1526.19 Q2272.64 1526 2273.66 1526 Q2279.44 1526 2282.82 1529.17 Q2286.2 1532.34 2286.2 1537.76 Q2286.2 1543.34 2282.73 1546.44 Q2279.26 1549.52 2272.94 1549.52 Q2270.76 1549.52 2268.49 1549.15 Q2266.25 1548.78 2263.84 1548.04 L2263.84 1543.34 Q2265.92 1544.47 2268.15 1545.03 Q2270.37 1545.58 2272.85 1545.58 Q2276.85 1545.58 2279.19 1543.48 Q2281.53 1541.37 2281.53 1537.76 Q2281.53 1534.15 2279.19 1532.04 Q2276.85 1529.94 2272.85 1529.94 Q2270.97 1529.94 2269.1 1530.35 Q2267.24 1530.77 2265.3 1531.65 L2265.3 1514.29 Z\" fill=\"#000000\" fill-rule=\"nonzero\" fill-opacity=\"1\" /><path clip-path=\"url(#clip830)\" d=\"M2305.42 1517.37 Q2301.8 1517.37 2299.98 1520.93 Q2298.17 1524.47 2298.17 1531.6 Q2298.17 1538.71 2299.98 1542.27 Q2301.8 1545.82 2305.42 1545.82 Q2309.05 1545.82 2310.86 1542.27 Q2312.68 1538.71 2312.68 1531.6 Q2312.68 1524.47 2310.86 1520.93 Q2309.05 1517.37 2305.42 1517.37 M2305.42 1513.66 Q2311.23 1513.66 2314.28 1518.27 Q2317.36 1522.85 2317.36 1531.6 Q2317.36 1540.33 2314.28 1544.94 Q2311.23 1549.52 2305.42 1549.52 Q2299.61 1549.52 2296.53 1544.94 Q2293.47 1540.33 2293.47 1531.6 Q2293.47 1522.85 2296.53 1518.27 Q2299.61 1513.66 2305.42 1513.66 Z\" fill=\"#000000\" fill-rule=\"nonzero\" fill-opacity=\"1\" /><polyline clip-path=\"url(#clip832)\" style=\"stroke:#000000; stroke-linecap:round; stroke-linejoin:round; stroke-width:2; stroke-opacity:0.1; fill:none\" points=\"156.598,1445.72 2352.76,1445.72 \"/>\n",
       "<polyline clip-path=\"url(#clip832)\" style=\"stroke:#000000; stroke-linecap:round; stroke-linejoin:round; stroke-width:2; stroke-opacity:0.1; fill:none\" points=\"156.598,1106.28 2352.76,1106.28 \"/>\n",
       "<polyline clip-path=\"url(#clip832)\" style=\"stroke:#000000; stroke-linecap:round; stroke-linejoin:round; stroke-width:2; stroke-opacity:0.1; fill:none\" points=\"156.598,766.846 2352.76,766.846 \"/>\n",
       "<polyline clip-path=\"url(#clip832)\" style=\"stroke:#000000; stroke-linecap:round; stroke-linejoin:round; stroke-width:2; stroke-opacity:0.1; fill:none\" points=\"156.598,427.411 2352.76,427.411 \"/>\n",
       "<polyline clip-path=\"url(#clip832)\" style=\"stroke:#000000; stroke-linecap:round; stroke-linejoin:round; stroke-width:2; stroke-opacity:0.1; fill:none\" points=\"156.598,87.9763 2352.76,87.9763 \"/>\n",
       "<polyline clip-path=\"url(#clip830)\" style=\"stroke:#000000; stroke-linecap:round; stroke-linejoin:round; stroke-width:4; stroke-opacity:1; fill:none\" points=\"156.598,1486.45 156.598,47.2441 \"/>\n",
       "<polyline clip-path=\"url(#clip830)\" style=\"stroke:#000000; stroke-linecap:round; stroke-linejoin:round; stroke-width:4; stroke-opacity:1; fill:none\" points=\"156.598,1445.72 175.496,1445.72 \"/>\n",
       "<polyline clip-path=\"url(#clip830)\" style=\"stroke:#000000; stroke-linecap:round; stroke-linejoin:round; stroke-width:4; stroke-opacity:1; fill:none\" points=\"156.598,1106.28 175.496,1106.28 \"/>\n",
       "<polyline clip-path=\"url(#clip830)\" style=\"stroke:#000000; stroke-linecap:round; stroke-linejoin:round; stroke-width:4; stroke-opacity:1; fill:none\" points=\"156.598,766.846 175.496,766.846 \"/>\n",
       "<polyline clip-path=\"url(#clip830)\" style=\"stroke:#000000; stroke-linecap:round; stroke-linejoin:round; stroke-width:4; stroke-opacity:1; fill:none\" points=\"156.598,427.411 175.496,427.411 \"/>\n",
       "<polyline clip-path=\"url(#clip830)\" style=\"stroke:#000000; stroke-linecap:round; stroke-linejoin:round; stroke-width:4; stroke-opacity:1; fill:none\" points=\"156.598,87.9763 175.496,87.9763 \"/>\n",
       "<path clip-path=\"url(#clip830)\" d=\"M65.0198 1431.51 Q61.4087 1431.51 59.58 1435.08 Q57.7745 1438.62 57.7745 1445.75 Q57.7745 1452.86 59.58 1456.42 Q61.4087 1459.96 65.0198 1459.96 Q68.6541 1459.96 70.4596 1456.42 Q72.2883 1452.86 72.2883 1445.75 Q72.2883 1438.62 70.4596 1435.08 Q68.6541 1431.51 65.0198 1431.51 M65.0198 1427.81 Q70.83 1427.81 73.8855 1432.42 Q76.9642 1437 76.9642 1445.75 Q76.9642 1454.48 73.8855 1459.08 Q70.83 1463.67 65.0198 1463.67 Q59.2097 1463.67 56.131 1459.08 Q53.0754 1454.48 53.0754 1445.75 Q53.0754 1437 56.131 1432.42 Q59.2097 1427.81 65.0198 1427.81 Z\" fill=\"#000000\" fill-rule=\"nonzero\" fill-opacity=\"1\" /><path clip-path=\"url(#clip830)\" d=\"M85.1818 1457.12 L90.066 1457.12 L90.066 1463 L85.1818 1463 L85.1818 1457.12 Z\" fill=\"#000000\" fill-rule=\"nonzero\" fill-opacity=\"1\" /><path clip-path=\"url(#clip830)\" d=\"M104.279 1459.06 L120.598 1459.06 L120.598 1463 L98.6539 1463 L98.6539 1459.06 Q101.316 1456.31 105.899 1451.68 Q110.506 1447.02 111.686 1445.68 Q113.932 1443.16 114.811 1441.42 Q115.714 1439.66 115.714 1437.97 Q115.714 1435.22 113.77 1433.48 Q111.848 1431.75 108.746 1431.75 Q106.547 1431.75 104.094 1432.51 Q101.663 1433.27 98.8854 1434.82 L98.8854 1430.1 Q101.709 1428.97 104.163 1428.39 Q106.617 1427.81 108.654 1427.81 Q114.024 1427.81 117.219 1430.5 Q120.413 1433.18 120.413 1437.67 Q120.413 1439.8 119.603 1441.72 Q118.816 1443.62 116.709 1446.21 Q116.131 1446.88 113.029 1450.1 Q109.927 1453.3 104.279 1459.06 Z\" fill=\"#000000\" fill-rule=\"nonzero\" fill-opacity=\"1\" /><path clip-path=\"url(#clip830)\" d=\"M62.9365 1092.08 Q59.3254 1092.08 57.4967 1095.64 Q55.6912 1099.19 55.6912 1106.32 Q55.6912 1113.42 57.4967 1116.99 Q59.3254 1120.53 62.9365 1120.53 Q66.5707 1120.53 68.3763 1116.99 Q70.205 1113.42 70.205 1106.32 Q70.205 1099.19 68.3763 1095.64 Q66.5707 1092.08 62.9365 1092.08 M62.9365 1088.38 Q68.7467 1088.38 71.8022 1092.98 Q74.8809 1097.57 74.8809 1106.32 Q74.8809 1115.04 71.8022 1119.65 Q68.7467 1124.23 62.9365 1124.23 Q57.1264 1124.23 54.0477 1119.65 Q50.9921 1115.04 50.9921 1106.32 Q50.9921 1097.57 54.0477 1092.98 Q57.1264 1088.38 62.9365 1088.38 Z\" fill=\"#000000\" fill-rule=\"nonzero\" fill-opacity=\"1\" /><path clip-path=\"url(#clip830)\" d=\"M83.0984 1117.68 L87.9827 1117.68 L87.9827 1123.56 L83.0984 1123.56 L83.0984 1117.68 Z\" fill=\"#000000\" fill-rule=\"nonzero\" fill-opacity=\"1\" /><path clip-path=\"url(#clip830)\" d=\"M111.015 1093.07 L99.2095 1111.52 L111.015 1111.52 L111.015 1093.07 M109.788 1089 L115.668 1089 L115.668 1111.52 L120.598 1111.52 L120.598 1115.41 L115.668 1115.41 L115.668 1123.56 L111.015 1123.56 L111.015 1115.41 L95.4132 1115.41 L95.4132 1110.9 L109.788 1089 Z\" fill=\"#000000\" fill-rule=\"nonzero\" fill-opacity=\"1\" /><path clip-path=\"url(#clip830)\" d=\"M63.2606 752.645 Q59.6495 752.645 57.8208 756.209 Q56.0152 759.751 56.0152 766.881 Q56.0152 773.987 57.8208 777.552 Q59.6495 781.094 63.2606 781.094 Q66.8948 781.094 68.7004 777.552 Q70.5291 773.987 70.5291 766.881 Q70.5291 759.751 68.7004 756.209 Q66.8948 752.645 63.2606 752.645 M63.2606 748.941 Q69.0707 748.941 72.1263 753.547 Q75.205 758.131 75.205 766.881 Q75.205 775.608 72.1263 780.214 Q69.0707 784.797 63.2606 784.797 Q57.4504 784.797 54.3717 780.214 Q51.3162 775.608 51.3162 766.881 Q51.3162 758.131 54.3717 753.547 Q57.4504 748.941 63.2606 748.941 Z\" fill=\"#000000\" fill-rule=\"nonzero\" fill-opacity=\"1\" /><path clip-path=\"url(#clip830)\" d=\"M83.4225 778.246 L88.3067 778.246 L88.3067 784.126 L83.4225 784.126 L83.4225 778.246 Z\" fill=\"#000000\" fill-rule=\"nonzero\" fill-opacity=\"1\" /><path clip-path=\"url(#clip830)\" d=\"M109.071 764.983 Q105.922 764.983 104.071 767.135 Q102.242 769.288 102.242 773.038 Q102.242 776.765 104.071 778.941 Q105.922 781.094 109.071 781.094 Q112.219 781.094 114.047 778.941 Q115.899 776.765 115.899 773.038 Q115.899 769.288 114.047 767.135 Q112.219 764.983 109.071 764.983 M118.353 750.33 L118.353 754.589 Q116.594 753.756 114.788 753.316 Q113.006 752.876 111.246 752.876 Q106.617 752.876 104.163 756.001 Q101.733 759.126 101.385 765.446 Q102.751 763.432 104.811 762.367 Q106.871 761.279 109.348 761.279 Q114.557 761.279 117.566 764.45 Q120.598 767.598 120.598 773.038 Q120.598 778.362 117.45 781.58 Q114.302 784.797 109.071 784.797 Q103.075 784.797 99.9039 780.214 Q96.7326 775.608 96.7326 766.881 Q96.7326 758.686 100.621 753.825 Q104.51 748.941 111.061 748.941 Q112.82 748.941 114.603 749.288 Q116.408 749.635 118.353 750.33 Z\" fill=\"#000000\" fill-rule=\"nonzero\" fill-opacity=\"1\" /><path clip-path=\"url(#clip830)\" d=\"M63.5152 413.21 Q59.9041 413.21 58.0754 416.775 Q56.2699 420.316 56.2699 427.446 Q56.2699 434.552 58.0754 438.117 Q59.9041 441.659 63.5152 441.659 Q67.1494 441.659 68.955 438.117 Q70.7837 434.552 70.7837 427.446 Q70.7837 420.316 68.955 416.775 Q67.1494 413.21 63.5152 413.21 M63.5152 409.506 Q69.3254 409.506 72.3809 414.113 Q75.4596 418.696 75.4596 427.446 Q75.4596 436.173 72.3809 440.779 Q69.3254 445.362 63.5152 445.362 Q57.7051 445.362 54.6264 440.779 Q51.5708 436.173 51.5708 427.446 Q51.5708 418.696 54.6264 414.113 Q57.7051 409.506 63.5152 409.506 Z\" fill=\"#000000\" fill-rule=\"nonzero\" fill-opacity=\"1\" /><path clip-path=\"url(#clip830)\" d=\"M83.6771 438.812 L88.5614 438.812 L88.5614 444.691 L83.6771 444.691 L83.6771 438.812 Z\" fill=\"#000000\" fill-rule=\"nonzero\" fill-opacity=\"1\" /><path clip-path=\"url(#clip830)\" d=\"M108.746 428.279 Q105.413 428.279 103.492 430.062 Q101.594 431.844 101.594 434.969 Q101.594 438.094 103.492 439.876 Q105.413 441.659 108.746 441.659 Q112.08 441.659 114.001 439.876 Q115.922 438.071 115.922 434.969 Q115.922 431.844 114.001 430.062 Q112.103 428.279 108.746 428.279 M104.071 426.288 Q101.061 425.548 99.3715 423.488 Q97.7048 421.427 97.7048 418.464 Q97.7048 414.321 100.645 411.914 Q103.608 409.506 108.746 409.506 Q113.908 409.506 116.848 411.914 Q119.788 414.321 119.788 418.464 Q119.788 421.427 118.098 423.488 Q116.432 425.548 113.445 426.288 Q116.825 427.075 118.7 429.367 Q120.598 431.659 120.598 434.969 Q120.598 439.992 117.52 442.677 Q114.464 445.362 108.746 445.362 Q103.029 445.362 99.9502 442.677 Q96.8947 439.992 96.8947 434.969 Q96.8947 431.659 98.7928 429.367 Q100.691 427.075 104.071 426.288 M102.358 418.904 Q102.358 421.589 104.024 423.094 Q105.714 424.599 108.746 424.599 Q111.756 424.599 113.445 423.094 Q115.158 421.589 115.158 418.904 Q115.158 416.219 113.445 414.714 Q111.756 413.21 108.746 413.21 Q105.714 413.21 104.024 414.714 Q102.358 416.219 102.358 418.904 Z\" fill=\"#000000\" fill-rule=\"nonzero\" fill-opacity=\"1\" /><path clip-path=\"url(#clip830)\" d=\"M54.2328 101.321 L61.8717 101.321 L61.8717 74.9555 L53.5616 76.6222 L53.5616 72.3629 L61.8254 70.6963 L66.5013 70.6963 L66.5013 101.321 L74.1402 101.321 L74.1402 105.256 L54.2328 105.256 L54.2328 101.321 Z\" fill=\"#000000\" fill-rule=\"nonzero\" fill-opacity=\"1\" /><path clip-path=\"url(#clip830)\" d=\"M83.5845 99.3767 L88.4688 99.3767 L88.4688 105.256 L83.5845 105.256 L83.5845 99.3767 Z\" fill=\"#000000\" fill-rule=\"nonzero\" fill-opacity=\"1\" /><path clip-path=\"url(#clip830)\" d=\"M108.654 73.775 Q105.043 73.775 103.214 77.3398 Q101.409 80.8814 101.409 88.011 Q101.409 95.1174 103.214 98.6822 Q105.043 102.224 108.654 102.224 Q112.288 102.224 114.094 98.6822 Q115.922 95.1174 115.922 88.011 Q115.922 80.8814 114.094 77.3398 Q112.288 73.775 108.654 73.775 M108.654 70.0713 Q114.464 70.0713 117.52 74.6777 Q120.598 79.261 120.598 88.011 Q120.598 96.7378 117.52 101.344 Q114.464 105.928 108.654 105.928 Q102.844 105.928 99.765 101.344 Q96.7095 96.7378 96.7095 88.011 Q96.7095 79.261 99.765 74.6777 Q102.844 70.0713 108.654 70.0713 Z\" fill=\"#000000\" fill-rule=\"nonzero\" fill-opacity=\"1\" /><polyline clip-path=\"url(#clip832)\" style=\"stroke:#009af9; stroke-linecap:round; stroke-linejoin:round; stroke-width:8; stroke-opacity:1; fill:none\" points=\"218.754,87.9763 260.191,1445.72 301.628,359.524 343.064,1228.48 384.501,533.315 425.938,1089.44 467.375,644.541 508.812,1000.46 550.249,715.725 591.686,943.516 633.123,761.284 674.56,907.07 715.997,790.441 757.434,883.744 798.871,809.102 840.308,868.816 881.745,821.044 923.182,859.261 964.619,828.688 1006.06,853.147 1047.49,833.579 1088.93,849.233 1130.37,836.71 1171.8,846.729 1213.24,838.714 1254.68,845.126 1296.11,839.996 1337.55,844.1 1378.99,840.817 1420.42,843.443 1461.86,841.342 1503.3,843.023 1544.74,841.678 1586.17,842.754 1627.61,841.893 1669.05,842.582 1710.48,842.031 1751.92,842.472 1793.36,842.119 1834.79,842.401 1876.23,842.176 1917.67,842.356 1959.11,842.212 2000.54,842.327 2041.98,842.235 2083.42,842.309 2124.85,842.25 2166.29,842.297 2207.73,842.259 2249.16,842.289 2290.6,842.265 \"/>\n",
       "<path clip-path=\"url(#clip830)\" d=\"M2007.5 198.898 L2279.55 198.898 L2279.55 95.2176 L2007.5 95.2176  Z\" fill=\"#ffffff\" fill-rule=\"evenodd\" fill-opacity=\"1\"/>\n",
       "<polyline clip-path=\"url(#clip830)\" style=\"stroke:#000000; stroke-linecap:round; stroke-linejoin:round; stroke-width:4; stroke-opacity:1; fill:none\" points=\"2007.5,198.898 2279.55,198.898 2279.55,95.2176 2007.5,95.2176 2007.5,198.898 \"/>\n",
       "<polyline clip-path=\"url(#clip830)\" style=\"stroke:#009af9; stroke-linecap:round; stroke-linejoin:round; stroke-width:8; stroke-opacity:1; fill:none\" points=\"2031.91,147.058 2178.32,147.058 \"/>\n",
       "<path clip-path=\"url(#clip830)\" d=\"M2216.56 166.745 Q2214.76 171.375 2213.04 172.787 Q2211.33 174.199 2208.46 174.199 L2205.06 174.199 L2205.06 170.634 L2207.56 170.634 Q2209.32 170.634 2210.29 169.8 Q2211.26 168.967 2212.44 165.865 L2213.2 163.921 L2202.72 138.412 L2207.23 138.412 L2215.33 158.689 L2223.44 138.412 L2227.95 138.412 L2216.56 166.745 Z\" fill=\"#000000\" fill-rule=\"nonzero\" fill-opacity=\"1\" /><path clip-path=\"url(#clip830)\" d=\"M2235.24 160.402 L2242.88 160.402 L2242.88 134.037 L2234.57 135.703 L2234.57 131.444 L2242.83 129.778 L2247.51 129.778 L2247.51 160.402 L2255.15 160.402 L2255.15 164.338 L2235.24 164.338 L2235.24 160.402 Z\" fill=\"#000000\" fill-rule=\"nonzero\" fill-opacity=\"1\" /></svg>\n"
      ]
     },
     "metadata": {},
     "output_type": "display_data"
    }
   ],
   "source": [
    "plot(x, z, linewidth=2.0)"
   ]
  },
  {
   "cell_type": "code",
   "execution_count": 16,
   "metadata": {},
   "outputs": [
    {
     "data": {
      "text/plain": [
       "0.5491504360855175"
      ]
     },
     "metadata": {},
     "output_type": "display_data"
    }
   ],
   "source": [
    "z[20]"
   ]
  },
  {
   "cell_type": "code",
   "execution_count": 19,
   "metadata": {},
   "outputs": [
    {
     "data": {
      "text/plain": [
       "0.556"
      ]
     },
     "metadata": {},
     "output_type": "display_data"
    }
   ],
   "source": [
    "round(1/1.8; digits=3)"
   ]
  },
  {
   "cell_type": "code",
   "execution_count": 21,
   "metadata": {},
   "outputs": [
    {
     "data": {
      "text/plain": [
       "0.549"
      ]
     },
     "metadata": {},
     "output_type": "display_data"
    }
   ],
   "source": [
    "round(z[20]; digits=3)"
   ]
  },
  {
   "cell_type": "code",
   "execution_count": 24,
   "metadata": {},
   "outputs": [],
   "source": [
    "using LinearAlgebra"
   ]
  },
  {
   "cell_type": "code",
   "execution_count": 22,
   "metadata": {},
   "outputs": [
    {
     "data": {
      "text/plain": [
       "5×3 reshape(::UnitRange{Int64}, 5, 3) with eltype Int64:\n",
       " 1   6  11\n",
       " 2   7  12\n",
       " 3   8  13\n",
       " 4   9  14\n",
       " 5  10  15"
      ]
     },
     "metadata": {},
     "output_type": "display_data"
    }
   ],
   "source": [
    "X=reshape(1:15, 5, 3)"
   ]
  },
  {
   "cell_type": "code",
   "execution_count": 25,
   "metadata": {},
   "outputs": [
    {
     "data": {
      "text/plain": [
       "LinearAlgebra.QRCompactWY{Float64, Matrix{Float64}, Matrix{Float64}}\n",
       "Q factor: 5×5 LinearAlgebra.QRCompactWYQ{Float64, Matrix{Float64}, Matrix{Float64}}\n",
       "R factor:\n",
       "3×3 Matrix{Float64}:\n",
       " -7.4162  -17.5292   -27.6422\n",
       "  0.0      -4.76731   -9.53463\n",
       "  0.0       0.0       -2.7398e-15"
      ]
     },
     "metadata": {},
     "output_type": "display_data"
    }
   ],
   "source": [
    "a=qr(X)"
   ]
  },
  {
   "cell_type": "code",
   "execution_count": 26,
   "metadata": {},
   "outputs": [
    {
     "data": {
      "text/plain": [
       "5×5 LinearAlgebra.QRCompactWYQ{Float64, Matrix{Float64}, Matrix{Float64}}"
      ]
     },
     "metadata": {},
     "output_type": "display_data"
    }
   ],
   "source": [
    "b=a.Q"
   ]
  },
  {
   "cell_type": "code",
   "execution_count": 27,
   "metadata": {},
   "outputs": [
    {
     "ename": "MethodError",
     "evalue": "MethodError: no method matching QR(::Base.ReshapedArray{Int64, 2, UnitRange{Int64}, Tuple{}})\n\nClosest candidates are:\n  QR(::AbstractMatrix{T}, !Matched::AbstractVector{T}) where T\n   @ LinearAlgebra C:\\Users\\xingfu_2\\AppData\\Local\\Programs\\Julia-1.10.2\\share\\julia\\stdlib\\v1.10\\LinearAlgebra\\src\\qr.jl:45\n",
     "output_type": "error",
     "traceback": [
      "MethodError: no method matching QR(::Base.ReshapedArray{Int64, 2, UnitRange{Int64}, Tuple{}})\n",
      "\n",
      "Closest candidates are:\n",
      "  QR(::AbstractMatrix{T}, !Matched::AbstractVector{T}) where T\n",
      "   @ LinearAlgebra C:\\Users\\xingfu_2\\AppData\\Local\\Programs\\Julia-1.10.2\\share\\julia\\stdlib\\v1.10\\LinearAlgebra\\src\\qr.jl:45\n",
      "\n",
      "\n",
      "Stacktrace:\n",
      " [1] top-level scope\n",
      "   @ d:\\jianguo\\myvscode\\Julia\\Julia-2024-04-03.ipynb:1"
     ]
    }
   ],
   "source": [
    "a=QR(X)"
   ]
  },
  {
   "cell_type": "code",
   "execution_count": 28,
   "metadata": {},
   "outputs": [
    {
     "data": {
      "text/plain": [
       "LinearAlgebra.QRCompactWY{Float64, Matrix{Float64}, Matrix{Float64}}\n",
       "Q factor: 5×5 LinearAlgebra.QRCompactWYQ{Float64, Matrix{Float64}, Matrix{Float64}}\n",
       "R factor:\n",
       "3×3 Matrix{Float64}:\n",
       " -7.4162  -17.5292   -27.6422\n",
       "  0.0      -4.76731   -9.53463\n",
       "  0.0       0.0       -2.7398e-15"
      ]
     },
     "metadata": {},
     "output_type": "display_data"
    }
   ],
   "source": [
    "Q,R = qr(X)"
   ]
  },
  {
   "cell_type": "code",
   "execution_count": 29,
   "metadata": {},
   "outputs": [
    {
     "data": {
      "text/plain": [
       "2×2 Matrix{Float64}:\n",
       " 0.834367  0.841459\n",
       " 0.146621  0.790288"
      ]
     },
     "metadata": {},
     "output_type": "display_data"
    }
   ],
   "source": [
    "X = rand(2,2)"
   ]
  },
  {
   "cell_type": "code",
   "execution_count": 30,
   "metadata": {},
   "outputs": [
    {
     "data": {
      "text/plain": [
       "LinearAlgebra.QRCompactWY{Float64, Matrix{Float64}, Matrix{Float64}}\n",
       "Q factor: 2×2 LinearAlgebra.QRCompactWYQ{Float64, Matrix{Float64}, Matrix{Float64}}\n",
       "R factor:\n",
       "2×2 Matrix{Float64}:\n",
       " -0.847152  -0.965539\n",
       "  0.0        0.632726"
      ]
     },
     "metadata": {},
     "output_type": "display_data"
    }
   ],
   "source": [
    "Q,R = qr(X)"
   ]
  },
  {
   "cell_type": "code",
   "execution_count": 31,
   "metadata": {},
   "outputs": [
    {
     "data": {
      "text/plain": [
       "6×4 Matrix{Float64}:\n",
       " 2.0  4.0  2.0  8.0\n",
       " 4.0  8.0  2.0  3.0\n",
       " 1.0  3.0  8.0  7.0\n",
       " 3.0  6.0  3.0  9.0\n",
       " 7.0  7.0  1.0  1.0\n",
       " 9.0  5.0  1.0  4.0"
      ]
     },
     "metadata": {},
     "output_type": "display_data"
    }
   ],
   "source": [
    "A = rand(1.:9.,6,4)"
   ]
  },
  {
   "cell_type": "code",
   "execution_count": 33,
   "metadata": {},
   "outputs": [
    {
     "data": {
      "text/plain": [
       "LinearAlgebra.QRCompactWY{Float64, Matrix{Float64}, Matrix{Float64}}\n",
       "Q factor: 6×6 LinearAlgebra.QRCompactWYQ{Float64, Matrix{Float64}, Matrix{Float64}}\n",
       "R factor:\n",
       "4×4 Matrix{Float64}:\n",
       " -12.6491  -12.2538   -3.55756  -8.30098\n",
       "   0.0      -6.98883  -4.92303  -8.05303\n",
       "   0.0       0.0      -6.79025  -6.01206\n",
       "   0.0       0.0       0.0      -7.07796"
      ]
     },
     "metadata": {},
     "output_type": "display_data"
    }
   ],
   "source": [
    "Q,R = qr(A)"
   ]
  },
  {
   "cell_type": "code",
   "execution_count": 34,
   "metadata": {},
   "outputs": [
    {
     "data": {
      "text/plain": [
       "6×6 LinearAlgebra.QRCompactWYQ{Float64, Matrix{Float64}, Matrix{Float64}}"
      ]
     },
     "metadata": {},
     "output_type": "display_data"
    }
   ],
   "source": [
    "Q"
   ]
  },
  {
   "cell_type": "code",
   "execution_count": 35,
   "metadata": {},
   "outputs": [
    {
     "data": {
      "text/plain": [
       "6×4 Matrix{Float64}:\n",
       " -0.158114   -0.295114    0.00226134  -0.610986\n",
       " -0.316228   -0.590228    0.299063     0.364531\n",
       " -0.0790569  -0.290642   -0.92602      0.220981\n",
       " -0.237171   -0.442671    0.00339202  -0.492628\n",
       " -0.553399   -0.0312999   0.165361     0.402891\n",
       " -0.711512    0.532099   -0.160273    -0.199943"
      ]
     },
     "metadata": {},
     "output_type": "display_data"
    }
   ],
   "source": [
    "Matrix(Q)"
   ]
  },
  {
   "cell_type": "code",
   "execution_count": 36,
   "metadata": {},
   "outputs": [
    {
     "data": {
      "text/plain": [
       "6×4 Matrix{Int64}:\n",
       " 5  8  2  5\n",
       " 6  6  2  5\n",
       " 2  2  5  6\n",
       " 3  4  5  3\n",
       " 7  9  8  4\n",
       " 9  4  9  9"
      ]
     },
     "metadata": {},
     "output_type": "display_data"
    }
   ],
   "source": [
    "A = rand(1:9,6,4)"
   ]
  },
  {
   "cell_type": "code",
   "execution_count": 38,
   "metadata": {},
   "outputs": [
    {
     "data": {
      "text/plain": [
       "(6, 4)"
      ]
     },
     "metadata": {},
     "output_type": "display_data"
    }
   ],
   "source": [
    "m,n = size(A)"
   ]
  },
  {
   "cell_type": "code",
   "execution_count": 39,
   "metadata": {},
   "outputs": [
    {
     "name": "stdout",
     "output_type": "stream",
     "text": [
      "(m, n) = size(A) = (6, 4)\n"
     ]
    },
    {
     "data": {
      "text/plain": [
       "(6, 4)"
      ]
     },
     "metadata": {},
     "output_type": "display_data"
    }
   ],
   "source": [
    "@show m,n = size(A)"
   ]
  },
  {
   "cell_type": "code",
   "execution_count": 40,
   "metadata": {},
   "outputs": [
    {
     "data": {
      "text/plain": [
       "6×6 Matrix{Float64}:\n",
       "  1.0          -5.55112e-17   5.68122e-17  …   5.55112e-17   0.0\n",
       " -5.55112e-17   1.0           0.0              5.55112e-17   0.0\n",
       " -1.38778e-17   5.55112e-17   1.0             -1.38778e-17  -1.38778e-17\n",
       "  5.55112e-17  -1.11022e-16   6.93889e-18      2.22045e-16   5.55112e-17\n",
       " -1.11022e-16   1.38778e-17  -2.77556e-17      1.0           0.0\n",
       " -1.11022e-16   0.0           2.77556e-17  …  -5.55112e-17   1.0"
      ]
     },
     "metadata": {},
     "output_type": "display_data"
    }
   ],
   "source": [
    "QTQ = Q'*Q"
   ]
  },
  {
   "cell_type": "code",
   "execution_count": 41,
   "metadata": {},
   "outputs": [
    {
     "data": {
      "text/plain": [
       "6×6 Matrix{Float64}:\n",
       "  1.0  -0.0   0.0  -0.0   0.0   0.0\n",
       " -0.0   1.0   0.0  -0.0   0.0   0.0\n",
       " -0.0   0.0   1.0   0.0  -0.0  -0.0\n",
       "  0.0  -0.0   0.0   1.0   0.0   0.0\n",
       " -0.0   0.0  -0.0   0.0   1.0   0.0\n",
       " -0.0   0.0   0.0   0.0  -0.0   1.0"
      ]
     },
     "metadata": {},
     "output_type": "display_data"
    }
   ],
   "source": [
    "round.(QTQ; digits=1)"
   ]
  },
  {
   "cell_type": "code",
   "execution_count": 1,
   "metadata": {},
   "outputs": [],
   "source": [
    "using Plots"
   ]
  },
  {
   "cell_type": "code",
   "execution_count": 2,
   "metadata": {},
   "outputs": [
    {
     "data": {
      "text/plain": [
       "(8.8, 9.1)"
      ]
     },
     "metadata": {},
     "output_type": "display_data"
    }
   ],
   "source": [
    "A = (0, 3) \n",
    "B = (4, 2)\n",
    "C = (8.8, 9.1)"
   ]
  },
  {
   "cell_type": "code",
   "execution_count": 3,
   "metadata": {},
   "outputs": [
    {
     "data": {
      "image/png": "[encoded data removed]",
      "image/svg+xml": [
       "<?xml version=\"1.0\" encoding=\"utf-8\"?>\n",
       "<svg xmlns=\"http://www.w3.org/2000/svg\" xmlns:xlink=\"http://www.w3.org/1999/xlink\" width=\"600\" height=\"400\" viewBox=\"0 0 2400 1600\">\n",
       "<defs>\n",
       "  <clipPath id=\"clip600\">\n",
       "    <rect x=\"0\" y=\"0\" width=\"2400\" height=\"1600\"/>\n",
       "  </clipPath>\n",
       "</defs>\n",
       "<path clip-path=\"url(#clip600)\" d=\"M0 1600 L2400 1600 L2400 0 L0 0  Z\" fill=\"#ffffff\" fill-rule=\"evenodd\" fill-opacity=\"1\"/>\n",
       "<defs>\n",
       "  <clipPath id=\"clip601\">\n",
       "    <rect x=\"480\" y=\"0\" width=\"1681\" height=\"1600\"/>\n",
       "  </clipPath>\n",
       "</defs>\n",
       "<path clip-path=\"url(#clip600)\" d=\"M112.177 1486.45 L2352.76 1486.45 L2352.76 47.2441 L112.177 47.2441  Z\" fill=\"#ffffff\" fill-rule=\"evenodd\" fill-opacity=\"1\"/>\n",
       "<defs>\n",
       "  <clipPath id=\"clip602\">\n",
       "    <rect x=\"112\" y=\"47\" width=\"2242\" height=\"1440\"/>\n",
       "  </clipPath>\n",
       "</defs>\n",
       "<polyline clip-path=\"url(#clip602)\" style=\"stroke:#000000; stroke-linecap:round; stroke-linejoin:round; stroke-width:2; stroke-opacity:0.1; fill:none\" points=\"175.59,1486.45 175.59,47.2441 \"/>\n",
       "<polyline clip-path=\"url(#clip602)\" style=\"stroke:#000000; stroke-linecap:round; stroke-linejoin:round; stroke-width:2; stroke-opacity:0.1; fill:none\" points=\"655.988,1486.45 655.988,47.2441 \"/>\n",
       "<polyline clip-path=\"url(#clip602)\" style=\"stroke:#000000; stroke-linecap:round; stroke-linejoin:round; stroke-width:2; stroke-opacity:0.1; fill:none\" points=\"1136.39,1486.45 1136.39,47.2441 \"/>\n",
       "<polyline clip-path=\"url(#clip602)\" style=\"stroke:#000000; stroke-linecap:round; stroke-linejoin:round; stroke-width:2; stroke-opacity:0.1; fill:none\" points=\"1616.79,1486.45 1616.79,47.2441 \"/>\n",
       "<polyline clip-path=\"url(#clip602)\" style=\"stroke:#000000; stroke-linecap:round; stroke-linejoin:round; stroke-width:2; stroke-opacity:0.1; fill:none\" points=\"2097.18,1486.45 2097.18,47.2441 \"/>\n",
       "<polyline clip-path=\"url(#clip600)\" style=\"stroke:#000000; stroke-linecap:round; stroke-linejoin:round; stroke-width:4; stroke-opacity:1; fill:none\" points=\"112.177,1486.45 2352.76,1486.45 \"/>\n",
       "<polyline clip-path=\"url(#clip600)\" style=\"stroke:#000000; stroke-linecap:round; stroke-linejoin:round; stroke-width:4; stroke-opacity:1; fill:none\" points=\"175.59,1486.45 175.59,1467.55 \"/>\n",
       "<polyline clip-path=\"url(#clip600)\" style=\"stroke:#000000; stroke-linecap:round; stroke-linejoin:round; stroke-width:4; stroke-opacity:1; fill:none\" points=\"655.988,1486.45 655.988,1467.55 \"/>\n",
       "<polyline clip-path=\"url(#clip600)\" style=\"stroke:#000000; stroke-linecap:round; stroke-linejoin:round; stroke-width:4; stroke-opacity:1; fill:none\" points=\"1136.39,1486.45 1136.39,1467.55 \"/>\n",
       "<polyline clip-path=\"url(#clip600)\" style=\"stroke:#000000; stroke-linecap:round; stroke-linejoin:round; stroke-width:4; stroke-opacity:1; fill:none\" points=\"1616.79,1486.45 1616.79,1467.55 \"/>\n",
       "<polyline clip-path=\"url(#clip600)\" style=\"stroke:#000000; stroke-linecap:round; stroke-linejoin:round; stroke-width:4; stroke-opacity:1; fill:none\" points=\"2097.18,1486.45 2097.18,1467.55 \"/>\n",
       "<path clip-path=\"url(#clip600)\" d=\"M175.59 1517.37 Q171.979 1517.37 170.15 1520.93 Q168.344 1524.47 168.344 1531.6 Q168.344 1538.71 170.15 1542.27 Q171.979 1545.82 175.59 1545.82 Q179.224 1545.82 181.03 1542.27 Q182.858 1538.71 182.858 1531.6 Q182.858 1524.47 181.03 1520.93 Q179.224 1517.37 175.59 1517.37 M175.59 1513.66 Q181.4 1513.66 184.455 1518.27 Q187.534 1522.85 187.534 1531.6 Q187.534 1540.33 184.455 1544.94 Q181.4 1549.52 175.59 1549.52 Q169.78 1549.52 166.701 1544.94 Q163.645 1540.33 163.645 1531.6 Q163.645 1522.85 166.701 1518.27 Q169.78 1513.66 175.59 1513.66 Z\" fill=\"#000000\" fill-rule=\"nonzero\" fill-opacity=\"1\" /><path clip-path=\"url(#clip600)\" d=\"M650.641 1544.91 L666.96 1544.91 L666.96 1548.85 L645.016 1548.85 L645.016 1544.91 Q647.678 1542.16 652.261 1537.53 Q656.868 1532.88 658.048 1531.53 Q660.294 1529.01 661.173 1527.27 Q662.076 1525.51 662.076 1523.82 Q662.076 1521.07 660.132 1519.33 Q658.211 1517.6 655.109 1517.6 Q652.91 1517.6 650.456 1518.36 Q648.025 1519.13 645.248 1520.68 L645.248 1515.95 Q648.072 1514.82 650.525 1514.24 Q652.979 1513.66 655.016 1513.66 Q660.386 1513.66 663.581 1516.35 Q666.775 1519.03 666.775 1523.52 Q666.775 1525.65 665.965 1527.57 Q665.178 1529.47 663.072 1532.07 Q662.493 1532.74 659.391 1535.95 Q656.289 1539.15 650.641 1544.91 Z\" fill=\"#000000\" fill-rule=\"nonzero\" fill-opacity=\"1\" /><path clip-path=\"url(#clip600)\" d=\"M1139.4 1518.36 L1127.59 1536.81 L1139.4 1536.81 L1139.4 1518.36 M1138.17 1514.29 L1144.05 1514.29 L1144.05 1536.81 L1148.98 1536.81 L1148.98 1540.7 L1144.05 1540.7 L1144.05 1548.85 L1139.4 1548.85 L1139.4 1540.7 L1123.79 1540.7 L1123.79 1536.19 L1138.17 1514.29 Z\" fill=\"#000000\" fill-rule=\"nonzero\" fill-opacity=\"1\" /><path clip-path=\"url(#clip600)\" d=\"M1617.19 1529.7 Q1614.04 1529.7 1612.19 1531.86 Q1610.36 1534.01 1610.36 1537.76 Q1610.36 1541.49 1612.19 1543.66 Q1614.04 1545.82 1617.19 1545.82 Q1620.34 1545.82 1622.17 1543.66 Q1624.02 1541.49 1624.02 1537.76 Q1624.02 1534.01 1622.17 1531.86 Q1620.34 1529.7 1617.19 1529.7 M1626.47 1515.05 L1626.47 1519.31 Q1624.71 1518.48 1622.91 1518.04 Q1621.13 1517.6 1619.37 1517.6 Q1614.74 1517.6 1612.28 1520.72 Q1609.85 1523.85 1609.51 1530.17 Q1610.87 1528.15 1612.93 1527.09 Q1614.99 1526 1617.47 1526 Q1622.68 1526 1625.69 1529.17 Q1628.72 1532.32 1628.72 1537.76 Q1628.72 1543.08 1625.57 1546.3 Q1622.42 1549.52 1617.19 1549.52 Q1611.2 1549.52 1608.02 1544.94 Q1604.85 1540.33 1604.85 1531.6 Q1604.85 1523.41 1608.74 1518.55 Q1612.63 1513.66 1619.18 1513.66 Q1620.94 1513.66 1622.72 1514.01 Q1624.53 1514.36 1626.47 1515.05 Z\" fill=\"#000000\" fill-rule=\"nonzero\" fill-opacity=\"1\" /><path clip-path=\"url(#clip600)\" d=\"M2097.18 1532.44 Q2093.85 1532.44 2091.93 1534.22 Q2090.03 1536 2090.03 1539.13 Q2090.03 1542.25 2091.93 1544.03 Q2093.85 1545.82 2097.18 1545.82 Q2100.52 1545.82 2102.44 1544.03 Q2104.36 1542.23 2104.36 1539.13 Q2104.36 1536 2102.44 1534.22 Q2100.54 1532.44 2097.18 1532.44 M2092.51 1530.45 Q2089.5 1529.7 2087.81 1527.64 Q2086.14 1525.58 2086.14 1522.62 Q2086.14 1518.48 2089.08 1516.07 Q2092.05 1513.66 2097.18 1513.66 Q2102.35 1513.66 2105.29 1516.07 Q2108.23 1518.48 2108.23 1522.62 Q2108.23 1525.58 2106.54 1527.64 Q2104.87 1529.7 2101.88 1530.45 Q2105.26 1531.23 2107.14 1533.52 Q2109.04 1535.82 2109.04 1539.13 Q2109.04 1544.15 2105.96 1546.83 Q2102.9 1549.52 2097.18 1549.52 Q2091.47 1549.52 2088.39 1546.83 Q2085.33 1544.15 2085.33 1539.13 Q2085.33 1535.82 2087.23 1533.52 Q2089.13 1531.23 2092.51 1530.45 M2090.8 1523.06 Q2090.8 1525.75 2092.46 1527.25 Q2094.15 1528.76 2097.18 1528.76 Q2100.19 1528.76 2101.88 1527.25 Q2103.6 1525.75 2103.6 1523.06 Q2103.6 1520.38 2101.88 1518.87 Q2100.19 1517.37 2097.18 1517.37 Q2094.15 1517.37 2092.46 1518.87 Q2090.8 1520.38 2090.8 1523.06 Z\" fill=\"#000000\" fill-rule=\"nonzero\" fill-opacity=\"1\" /><polyline clip-path=\"url(#clip602)\" style=\"stroke:#000000; stroke-linecap:round; stroke-linejoin:round; stroke-width:2; stroke-opacity:0.1; fill:none\" points=\"112.177,1445.72 2352.76,1445.72 \"/>\n",
       "<polyline clip-path=\"url(#clip602)\" style=\"stroke:#000000; stroke-linecap:round; stroke-linejoin:round; stroke-width:2; stroke-opacity:0.1; fill:none\" points=\"112.177,1063.25 2352.76,1063.25 \"/>\n",
       "<polyline clip-path=\"url(#clip602)\" style=\"stroke:#000000; stroke-linecap:round; stroke-linejoin:round; stroke-width:2; stroke-opacity:0.1; fill:none\" points=\"112.177,680.792 2352.76,680.792 \"/>\n",
       "<polyline clip-path=\"url(#clip602)\" style=\"stroke:#000000; stroke-linecap:round; stroke-linejoin:round; stroke-width:2; stroke-opacity:0.1; fill:none\" points=\"112.177,298.33 2352.76,298.33 \"/>\n",
       "<polyline clip-path=\"url(#clip600)\" style=\"stroke:#000000; stroke-linecap:round; stroke-linejoin:round; stroke-width:4; stroke-opacity:1; fill:none\" points=\"112.177,1486.45 112.177,47.2441 \"/>\n",
       "<polyline clip-path=\"url(#clip600)\" style=\"stroke:#000000; stroke-linecap:round; stroke-linejoin:round; stroke-width:4; stroke-opacity:1; fill:none\" points=\"112.177,1445.72 131.075,1445.72 \"/>\n",
       "<polyline clip-path=\"url(#clip600)\" style=\"stroke:#000000; stroke-linecap:round; stroke-linejoin:round; stroke-width:4; stroke-opacity:1; fill:none\" points=\"112.177,1063.25 131.075,1063.25 \"/>\n",
       "<polyline clip-path=\"url(#clip600)\" style=\"stroke:#000000; stroke-linecap:round; stroke-linejoin:round; stroke-width:4; stroke-opacity:1; fill:none\" points=\"112.177,680.792 131.075,680.792 \"/>\n",
       "<polyline clip-path=\"url(#clip600)\" style=\"stroke:#000000; stroke-linecap:round; stroke-linejoin:round; stroke-width:4; stroke-opacity:1; fill:none\" points=\"112.177,298.33 131.075,298.33 \"/>\n",
       "<path clip-path=\"url(#clip600)\" d=\"M59.8578 1459.06 L76.1772 1459.06 L76.1772 1463 L54.2328 1463 L54.2328 1459.06 Q56.8949 1456.31 61.4782 1451.68 Q66.0846 1447.02 67.2652 1445.68 Q69.5105 1443.16 70.3902 1441.42 Q71.2929 1439.66 71.2929 1437.97 Q71.2929 1435.22 69.3485 1433.48 Q67.4272 1431.75 64.3254 1431.75 Q62.1263 1431.75 59.6726 1432.51 Q57.2421 1433.27 54.4643 1434.82 L54.4643 1430.1 Q57.2884 1428.97 59.7421 1428.39 Q62.1958 1427.81 64.2328 1427.81 Q69.6031 1427.81 72.7976 1430.5 Q75.992 1433.18 75.992 1437.67 Q75.992 1439.8 75.1818 1441.72 Q74.3948 1443.62 72.2883 1446.21 Q71.7096 1446.88 68.6078 1450.1 Q65.5059 1453.3 59.8578 1459.06 Z\" fill=\"#000000\" fill-rule=\"nonzero\" fill-opacity=\"1\" /><path clip-path=\"url(#clip600)\" d=\"M66.5939 1050.05 L54.7884 1068.5 L66.5939 1068.5 L66.5939 1050.05 M65.367 1045.97 L71.2466 1045.97 L71.2466 1068.5 L76.1772 1068.5 L76.1772 1072.39 L71.2466 1072.39 L71.2466 1080.53 L66.5939 1080.53 L66.5939 1072.39 L50.9921 1072.39 L50.9921 1067.87 L65.367 1045.97 Z\" fill=\"#000000\" fill-rule=\"nonzero\" fill-opacity=\"1\" /><path clip-path=\"url(#clip600)\" d=\"M64.6495 678.929 Q61.5013 678.929 59.6495 681.081 Q57.8208 683.234 57.8208 686.984 Q57.8208 690.711 59.6495 692.887 Q61.5013 695.04 64.6495 695.04 Q67.7976 695.04 69.6263 692.887 Q71.4781 690.711 71.4781 686.984 Q71.4781 683.234 69.6263 681.081 Q67.7976 678.929 64.6495 678.929 M73.9318 664.276 L73.9318 668.535 Q72.1726 667.702 70.367 667.262 Q68.5846 666.822 66.8254 666.822 Q62.1958 666.822 59.7421 669.947 Q57.3115 673.072 56.9643 679.392 Q58.33 677.378 60.3902 676.313 Q62.4504 675.225 64.9272 675.225 Q70.1355 675.225 73.1448 678.396 Q76.1772 681.544 76.1772 686.984 Q76.1772 692.308 73.029 695.526 Q69.8809 698.743 64.6495 698.743 Q58.6541 698.743 55.4828 694.16 Q52.3116 689.554 52.3116 680.827 Q52.3116 672.632 56.2004 667.771 Q60.0893 662.887 66.6402 662.887 Q68.3994 662.887 70.1818 663.234 Q71.9874 663.582 73.9318 664.276 Z\" fill=\"#000000\" fill-rule=\"nonzero\" fill-opacity=\"1\" /><path clip-path=\"url(#clip600)\" d=\"M64.3254 299.198 Q60.9921 299.198 59.0708 300.981 Q57.1726 302.763 57.1726 305.888 Q57.1726 309.013 59.0708 310.795 Q60.9921 312.578 64.3254 312.578 Q67.6587 312.578 69.58 310.795 Q71.5013 308.99 71.5013 305.888 Q71.5013 302.763 69.58 300.981 Q67.6819 299.198 64.3254 299.198 M59.6495 297.208 Q56.6402 296.467 54.9504 294.407 Q53.2838 292.347 53.2838 289.384 Q53.2838 285.24 56.2236 282.833 Q59.1865 280.425 64.3254 280.425 Q69.4874 280.425 72.4272 282.833 Q75.367 285.24 75.367 289.384 Q75.367 292.347 73.6772 294.407 Q72.0105 296.467 69.0244 297.208 Q72.404 297.995 74.279 300.286 Q76.1772 302.578 76.1772 305.888 Q76.1772 310.911 73.0985 313.596 Q70.0429 316.282 64.3254 316.282 Q58.6078 316.282 55.5291 313.596 Q52.4736 310.911 52.4736 305.888 Q52.4736 302.578 54.3717 300.286 Q56.2699 297.995 59.6495 297.208 M57.9365 289.823 Q57.9365 292.509 59.6032 294.013 Q61.293 295.518 64.3254 295.518 Q67.3346 295.518 69.0244 294.013 Q70.7374 292.509 70.7374 289.823 Q70.7374 287.138 69.0244 285.634 Q67.3346 284.129 64.3254 284.129 Q61.293 284.129 59.6032 285.634 Q57.9365 287.138 57.9365 289.823 Z\" fill=\"#000000\" fill-rule=\"nonzero\" fill-opacity=\"1\" /><polyline clip-path=\"url(#clip602)\" style=\"stroke:#009af9; stroke-linecap:round; stroke-linejoin:round; stroke-width:4; stroke-opacity:1; fill:none\" points=\"175.59,1254.48 1136.39,1445.72 2289.34,87.9763 \"/>\n",
       "<path clip-path=\"url(#clip600)\" d=\"M186.863 198.898 L463.351 198.898 L463.351 95.2176 L186.863 95.2176  Z\" fill=\"#ffffff\" fill-rule=\"evenodd\" fill-opacity=\"1\"/>\n",
       "<polyline clip-path=\"url(#clip600)\" style=\"stroke:#000000; stroke-linecap:round; stroke-linejoin:round; stroke-width:4; stroke-opacity:1; fill:none\" points=\"186.863,198.898 463.351,198.898 463.351,95.2176 186.863,95.2176 186.863,198.898 \"/>\n",
       "<polyline clip-path=\"url(#clip600)\" style=\"stroke:#009af9; stroke-linecap:round; stroke-linejoin:round; stroke-width:4; stroke-opacity:1; fill:none\" points=\"211.758,147.058 361.13,147.058 \"/>\n",
       "<path clip-path=\"url(#clip600)\" d=\"M399.868 166.745 Q398.063 171.375 396.35 172.787 Q394.637 174.199 391.766 174.199 L388.364 174.199 L388.364 170.634 L390.864 170.634 Q392.623 170.634 393.595 169.8 Q394.567 168.967 395.748 165.865 L396.512 163.921 L386.026 138.412 L390.54 138.412 L398.641 158.689 L406.743 138.412 L411.257 138.412 L399.868 166.745 Z\" fill=\"#000000\" fill-rule=\"nonzero\" fill-opacity=\"1\" /><path clip-path=\"url(#clip600)\" d=\"M418.549 160.402 L426.188 160.402 L426.188 134.037 L417.877 135.703 L417.877 131.444 L426.141 129.778 L430.817 129.778 L430.817 160.402 L438.456 160.402 L438.456 164.338 L418.549 164.338 L418.549 160.402 Z\" fill=\"#000000\" fill-rule=\"nonzero\" fill-opacity=\"1\" /></svg>\n"
      ],
      "text/html": [
       "<?xml version=\"1.0\" encoding=\"utf-8\"?>\n",
       "<svg xmlns=\"http://www.w3.org/2000/svg\" xmlns:xlink=\"http://www.w3.org/1999/xlink\" width=\"600\" height=\"400\" viewBox=\"0 0 2400 1600\">\n",
       "<defs>\n",
       "  <clipPath id=\"clip650\">\n",
       "    <rect x=\"0\" y=\"0\" width=\"2400\" height=\"1600\"/>\n",
       "  </clipPath>\n",
       "</defs>\n",
       "<path clip-path=\"url(#clip650)\" d=\"M0 1600 L2400 1600 L2400 0 L0 0  Z\" fill=\"#ffffff\" fill-rule=\"evenodd\" fill-opacity=\"1\"/>\n",
       "<defs>\n",
       "  <clipPath id=\"clip651\">\n",
       "    <rect x=\"480\" y=\"0\" width=\"1681\" height=\"1600\"/>\n",
       "  </clipPath>\n",
       "</defs>\n",
       "<path clip-path=\"url(#clip650)\" d=\"M112.177 1486.45 L2352.76 1486.45 L2352.76 47.2441 L112.177 47.2441  Z\" fill=\"#ffffff\" fill-rule=\"evenodd\" fill-opacity=\"1\"/>\n",
       "<defs>\n",
       "  <clipPath id=\"clip652\">\n",
       "    <rect x=\"112\" y=\"47\" width=\"2242\" height=\"1440\"/>\n",
       "  </clipPath>\n",
       "</defs>\n",
       "<polyline clip-path=\"url(#clip652)\" style=\"stroke:#000000; stroke-linecap:round; stroke-linejoin:round; stroke-width:2; stroke-opacity:0.1; fill:none\" points=\"175.59,1486.45 175.59,47.2441 \"/>\n",
       "<polyline clip-path=\"url(#clip652)\" style=\"stroke:#000000; stroke-linecap:round; stroke-linejoin:round; stroke-width:2; stroke-opacity:0.1; fill:none\" points=\"655.988,1486.45 655.988,47.2441 \"/>\n",
       "<polyline clip-path=\"url(#clip652)\" style=\"stroke:#000000; stroke-linecap:round; stroke-linejoin:round; stroke-width:2; stroke-opacity:0.1; fill:none\" points=\"1136.39,1486.45 1136.39,47.2441 \"/>\n",
       "<polyline clip-path=\"url(#clip652)\" style=\"stroke:#000000; stroke-linecap:round; stroke-linejoin:round; stroke-width:2; stroke-opacity:0.1; fill:none\" points=\"1616.79,1486.45 1616.79,47.2441 \"/>\n",
       "<polyline clip-path=\"url(#clip652)\" style=\"stroke:#000000; stroke-linecap:round; stroke-linejoin:round; stroke-width:2; stroke-opacity:0.1; fill:none\" points=\"2097.18,1486.45 2097.18,47.2441 \"/>\n",
       "<polyline clip-path=\"url(#clip650)\" style=\"stroke:#000000; stroke-linecap:round; stroke-linejoin:round; stroke-width:4; stroke-opacity:1; fill:none\" points=\"112.177,1486.45 2352.76,1486.45 \"/>\n",
       "<polyline clip-path=\"url(#clip650)\" style=\"stroke:#000000; stroke-linecap:round; stroke-linejoin:round; stroke-width:4; stroke-opacity:1; fill:none\" points=\"175.59,1486.45 175.59,1467.55 \"/>\n",
       "<polyline clip-path=\"url(#clip650)\" style=\"stroke:#000000; stroke-linecap:round; stroke-linejoin:round; stroke-width:4; stroke-opacity:1; fill:none\" points=\"655.988,1486.45 655.988,1467.55 \"/>\n",
       "<polyline clip-path=\"url(#clip650)\" style=\"stroke:#000000; stroke-linecap:round; stroke-linejoin:round; stroke-width:4; stroke-opacity:1; fill:none\" points=\"1136.39,1486.45 1136.39,1467.55 \"/>\n",
       "<polyline clip-path=\"url(#clip650)\" style=\"stroke:#000000; stroke-linecap:round; stroke-linejoin:round; stroke-width:4; stroke-opacity:1; fill:none\" points=\"1616.79,1486.45 1616.79,1467.55 \"/>\n",
       "<polyline clip-path=\"url(#clip650)\" style=\"stroke:#000000; stroke-linecap:round; stroke-linejoin:round; stroke-width:4; stroke-opacity:1; fill:none\" points=\"2097.18,1486.45 2097.18,1467.55 \"/>\n",
       "<path clip-path=\"url(#clip650)\" d=\"M175.59 1517.37 Q171.979 1517.37 170.15 1520.93 Q168.344 1524.47 168.344 1531.6 Q168.344 1538.71 170.15 1542.27 Q171.979 1545.82 175.59 1545.82 Q179.224 1545.82 181.03 1542.27 Q182.858 1538.71 182.858 1531.6 Q182.858 1524.47 181.03 1520.93 Q179.224 1517.37 175.59 1517.37 M175.59 1513.66 Q181.4 1513.66 184.455 1518.27 Q187.534 1522.85 187.534 1531.6 Q187.534 1540.33 184.455 1544.94 Q181.4 1549.52 175.59 1549.52 Q169.78 1549.52 166.701 1544.94 Q163.645 1540.33 163.645 1531.6 Q163.645 1522.85 166.701 1518.27 Q169.78 1513.66 175.59 1513.66 Z\" fill=\"#000000\" fill-rule=\"nonzero\" fill-opacity=\"1\" /><path clip-path=\"url(#clip650)\" d=\"M650.641 1544.91 L666.96 1544.91 L666.96 1548.85 L645.016 1548.85 L645.016 1544.91 Q647.678 1542.16 652.261 1537.53 Q656.868 1532.88 658.048 1531.53 Q660.294 1529.01 661.173 1527.27 Q662.076 1525.51 662.076 1523.82 Q662.076 1521.07 660.132 1519.33 Q658.211 1517.6 655.109 1517.6 Q652.91 1517.6 650.456 1518.36 Q648.025 1519.13 645.248 1520.68 L645.248 1515.95 Q648.072 1514.82 650.525 1514.24 Q652.979 1513.66 655.016 1513.66 Q660.386 1513.66 663.581 1516.35 Q666.775 1519.03 666.775 1523.52 Q666.775 1525.65 665.965 1527.57 Q665.178 1529.47 663.072 1532.07 Q662.493 1532.74 659.391 1535.95 Q656.289 1539.15 650.641 1544.91 Z\" fill=\"#000000\" fill-rule=\"nonzero\" fill-opacity=\"1\" /><path clip-path=\"url(#clip650)\" d=\"M1139.4 1518.36 L1127.59 1536.81 L1139.4 1536.81 L1139.4 1518.36 M1138.17 1514.29 L1144.05 1514.29 L1144.05 1536.81 L1148.98 1536.81 L1148.98 1540.7 L1144.05 1540.7 L1144.05 1548.85 L1139.4 1548.85 L1139.4 1540.7 L1123.79 1540.7 L1123.79 1536.19 L1138.17 1514.29 Z\" fill=\"#000000\" fill-rule=\"nonzero\" fill-opacity=\"1\" /><path clip-path=\"url(#clip650)\" d=\"M1617.19 1529.7 Q1614.04 1529.7 1612.19 1531.86 Q1610.36 1534.01 1610.36 1537.76 Q1610.36 1541.49 1612.19 1543.66 Q1614.04 1545.82 1617.19 1545.82 Q1620.34 1545.82 1622.17 1543.66 Q1624.02 1541.49 1624.02 1537.76 Q1624.02 1534.01 1622.17 1531.86 Q1620.34 1529.7 1617.19 1529.7 M1626.47 1515.05 L1626.47 1519.31 Q1624.71 1518.48 1622.91 1518.04 Q1621.13 1517.6 1619.37 1517.6 Q1614.74 1517.6 1612.28 1520.72 Q1609.85 1523.85 1609.51 1530.17 Q1610.87 1528.15 1612.93 1527.09 Q1614.99 1526 1617.47 1526 Q1622.68 1526 1625.69 1529.17 Q1628.72 1532.32 1628.72 1537.76 Q1628.72 1543.08 1625.57 1546.3 Q1622.42 1549.52 1617.19 1549.52 Q1611.2 1549.52 1608.02 1544.94 Q1604.85 1540.33 1604.85 1531.6 Q1604.85 1523.41 1608.74 1518.55 Q1612.63 1513.66 1619.18 1513.66 Q1620.94 1513.66 1622.72 1514.01 Q1624.53 1514.36 1626.47 1515.05 Z\" fill=\"#000000\" fill-rule=\"nonzero\" fill-opacity=\"1\" /><path clip-path=\"url(#clip650)\" d=\"M2097.18 1532.44 Q2093.85 1532.44 2091.93 1534.22 Q2090.03 1536 2090.03 1539.13 Q2090.03 1542.25 2091.93 1544.03 Q2093.85 1545.82 2097.18 1545.82 Q2100.52 1545.82 2102.44 1544.03 Q2104.36 1542.23 2104.36 1539.13 Q2104.36 1536 2102.44 1534.22 Q2100.54 1532.44 2097.18 1532.44 M2092.51 1530.45 Q2089.5 1529.7 2087.81 1527.64 Q2086.14 1525.58 2086.14 1522.62 Q2086.14 1518.48 2089.08 1516.07 Q2092.05 1513.66 2097.18 1513.66 Q2102.35 1513.66 2105.29 1516.07 Q2108.23 1518.48 2108.23 1522.62 Q2108.23 1525.58 2106.54 1527.64 Q2104.87 1529.7 2101.88 1530.45 Q2105.26 1531.23 2107.14 1533.52 Q2109.04 1535.82 2109.04 1539.13 Q2109.04 1544.15 2105.96 1546.83 Q2102.9 1549.52 2097.18 1549.52 Q2091.47 1549.52 2088.39 1546.83 Q2085.33 1544.15 2085.33 1539.13 Q2085.33 1535.82 2087.23 1533.52 Q2089.13 1531.23 2092.51 1530.45 M2090.8 1523.06 Q2090.8 1525.75 2092.46 1527.25 Q2094.15 1528.76 2097.18 1528.76 Q2100.19 1528.76 2101.88 1527.25 Q2103.6 1525.75 2103.6 1523.06 Q2103.6 1520.38 2101.88 1518.87 Q2100.19 1517.37 2097.18 1517.37 Q2094.15 1517.37 2092.46 1518.87 Q2090.8 1520.38 2090.8 1523.06 Z\" fill=\"#000000\" fill-rule=\"nonzero\" fill-opacity=\"1\" /><polyline clip-path=\"url(#clip652)\" style=\"stroke:#000000; stroke-linecap:round; stroke-linejoin:round; stroke-width:2; stroke-opacity:0.1; fill:none\" points=\"112.177,1445.72 2352.76,1445.72 \"/>\n",
       "<polyline clip-path=\"url(#clip652)\" style=\"stroke:#000000; stroke-linecap:round; stroke-linejoin:round; stroke-width:2; stroke-opacity:0.1; fill:none\" points=\"112.177,1063.25 2352.76,1063.25 \"/>\n",
       "<polyline clip-path=\"url(#clip652)\" style=\"stroke:#000000; stroke-linecap:round; stroke-linejoin:round; stroke-width:2; stroke-opacity:0.1; fill:none\" points=\"112.177,680.792 2352.76,680.792 \"/>\n",
       "<polyline clip-path=\"url(#clip652)\" style=\"stroke:#000000; stroke-linecap:round; stroke-linejoin:round; stroke-width:2; stroke-opacity:0.1; fill:none\" points=\"112.177,298.33 2352.76,298.33 \"/>\n",
       "<polyline clip-path=\"url(#clip650)\" style=\"stroke:#000000; stroke-linecap:round; stroke-linejoin:round; stroke-width:4; stroke-opacity:1; fill:none\" points=\"112.177,1486.45 112.177,47.2441 \"/>\n",
       "<polyline clip-path=\"url(#clip650)\" style=\"stroke:#000000; stroke-linecap:round; stroke-linejoin:round; stroke-width:4; stroke-opacity:1; fill:none\" points=\"112.177,1445.72 131.075,1445.72 \"/>\n",
       "<polyline clip-path=\"url(#clip650)\" style=\"stroke:#000000; stroke-linecap:round; stroke-linejoin:round; stroke-width:4; stroke-opacity:1; fill:none\" points=\"112.177,1063.25 131.075,1063.25 \"/>\n",
       "<polyline clip-path=\"url(#clip650)\" style=\"stroke:#000000; stroke-linecap:round; stroke-linejoin:round; stroke-width:4; stroke-opacity:1; fill:none\" points=\"112.177,680.792 131.075,680.792 \"/>\n",
       "<polyline clip-path=\"url(#clip650)\" style=\"stroke:#000000; stroke-linecap:round; stroke-linejoin:round; stroke-width:4; stroke-opacity:1; fill:none\" points=\"112.177,298.33 131.075,298.33 \"/>\n",
       "<path clip-path=\"url(#clip650)\" d=\"M59.8578 1459.06 L76.1772 1459.06 L76.1772 1463 L54.2328 1463 L54.2328 1459.06 Q56.8949 1456.31 61.4782 1451.68 Q66.0846 1447.02 67.2652 1445.68 Q69.5105 1443.16 70.3902 1441.42 Q71.2929 1439.66 71.2929 1437.97 Q71.2929 1435.22 69.3485 1433.48 Q67.4272 1431.75 64.3254 1431.75 Q62.1263 1431.75 59.6726 1432.51 Q57.2421 1433.27 54.4643 1434.82 L54.4643 1430.1 Q57.2884 1428.97 59.7421 1428.39 Q62.1958 1427.81 64.2328 1427.81 Q69.6031 1427.81 72.7976 1430.5 Q75.992 1433.18 75.992 1437.67 Q75.992 1439.8 75.1818 1441.72 Q74.3948 1443.62 72.2883 1446.21 Q71.7096 1446.88 68.6078 1450.1 Q65.5059 1453.3 59.8578 1459.06 Z\" fill=\"#000000\" fill-rule=\"nonzero\" fill-opacity=\"1\" /><path clip-path=\"url(#clip650)\" d=\"M66.5939 1050.05 L54.7884 1068.5 L66.5939 1068.5 L66.5939 1050.05 M65.367 1045.97 L71.2466 1045.97 L71.2466 1068.5 L76.1772 1068.5 L76.1772 1072.39 L71.2466 1072.39 L71.2466 1080.53 L66.5939 1080.53 L66.5939 1072.39 L50.9921 1072.39 L50.9921 1067.87 L65.367 1045.97 Z\" fill=\"#000000\" fill-rule=\"nonzero\" fill-opacity=\"1\" /><path clip-path=\"url(#clip650)\" d=\"M64.6495 678.929 Q61.5013 678.929 59.6495 681.081 Q57.8208 683.234 57.8208 686.984 Q57.8208 690.711 59.6495 692.887 Q61.5013 695.04 64.6495 695.04 Q67.7976 695.04 69.6263 692.887 Q71.4781 690.711 71.4781 686.984 Q71.4781 683.234 69.6263 681.081 Q67.7976 678.929 64.6495 678.929 M73.9318 664.276 L73.9318 668.535 Q72.1726 667.702 70.367 667.262 Q68.5846 666.822 66.8254 666.822 Q62.1958 666.822 59.7421 669.947 Q57.3115 673.072 56.9643 679.392 Q58.33 677.378 60.3902 676.313 Q62.4504 675.225 64.9272 675.225 Q70.1355 675.225 73.1448 678.396 Q76.1772 681.544 76.1772 686.984 Q76.1772 692.308 73.029 695.526 Q69.8809 698.743 64.6495 698.743 Q58.6541 698.743 55.4828 694.16 Q52.3116 689.554 52.3116 680.827 Q52.3116 672.632 56.2004 667.771 Q60.0893 662.887 66.6402 662.887 Q68.3994 662.887 70.1818 663.234 Q71.9874 663.582 73.9318 664.276 Z\" fill=\"#000000\" fill-rule=\"nonzero\" fill-opacity=\"1\" /><path clip-path=\"url(#clip650)\" d=\"M64.3254 299.198 Q60.9921 299.198 59.0708 300.981 Q57.1726 302.763 57.1726 305.888 Q57.1726 309.013 59.0708 310.795 Q60.9921 312.578 64.3254 312.578 Q67.6587 312.578 69.58 310.795 Q71.5013 308.99 71.5013 305.888 Q71.5013 302.763 69.58 300.981 Q67.6819 299.198 64.3254 299.198 M59.6495 297.208 Q56.6402 296.467 54.9504 294.407 Q53.2838 292.347 53.2838 289.384 Q53.2838 285.24 56.2236 282.833 Q59.1865 280.425 64.3254 280.425 Q69.4874 280.425 72.4272 282.833 Q75.367 285.24 75.367 289.384 Q75.367 292.347 73.6772 294.407 Q72.0105 296.467 69.0244 297.208 Q72.404 297.995 74.279 300.286 Q76.1772 302.578 76.1772 305.888 Q76.1772 310.911 73.0985 313.596 Q70.0429 316.282 64.3254 316.282 Q58.6078 316.282 55.5291 313.596 Q52.4736 310.911 52.4736 305.888 Q52.4736 302.578 54.3717 300.286 Q56.2699 297.995 59.6495 297.208 M57.9365 289.823 Q57.9365 292.509 59.6032 294.013 Q61.293 295.518 64.3254 295.518 Q67.3346 295.518 69.0244 294.013 Q70.7374 292.509 70.7374 289.823 Q70.7374 287.138 69.0244 285.634 Q67.3346 284.129 64.3254 284.129 Q61.293 284.129 59.6032 285.634 Q57.9365 287.138 57.9365 289.823 Z\" fill=\"#000000\" fill-rule=\"nonzero\" fill-opacity=\"1\" /><polyline clip-path=\"url(#clip652)\" style=\"stroke:#009af9; stroke-linecap:round; stroke-linejoin:round; stroke-width:4; stroke-opacity:1; fill:none\" points=\"175.59,1254.48 1136.39,1445.72 2289.34,87.9763 \"/>\n",
       "<path clip-path=\"url(#clip650)\" d=\"M186.863 198.898 L463.351 198.898 L463.351 95.2176 L186.863 95.2176  Z\" fill=\"#ffffff\" fill-rule=\"evenodd\" fill-opacity=\"1\"/>\n",
       "<polyline clip-path=\"url(#clip650)\" style=\"stroke:#000000; stroke-linecap:round; stroke-linejoin:round; stroke-width:4; stroke-opacity:1; fill:none\" points=\"186.863,198.898 463.351,198.898 463.351,95.2176 186.863,95.2176 186.863,198.898 \"/>\n",
       "<polyline clip-path=\"url(#clip650)\" style=\"stroke:#009af9; stroke-linecap:round; stroke-linejoin:round; stroke-width:4; stroke-opacity:1; fill:none\" points=\"211.758,147.058 361.13,147.058 \"/>\n",
       "<path clip-path=\"url(#clip650)\" d=\"M399.868 166.745 Q398.063 171.375 396.35 172.787 Q394.637 174.199 391.766 174.199 L388.364 174.199 L388.364 170.634 L390.864 170.634 Q392.623 170.634 393.595 169.8 Q394.567 168.967 395.748 165.865 L396.512 163.921 L386.026 138.412 L390.54 138.412 L398.641 158.689 L406.743 138.412 L411.257 138.412 L399.868 166.745 Z\" fill=\"#000000\" fill-rule=\"nonzero\" fill-opacity=\"1\" /><path clip-path=\"url(#clip650)\" d=\"M418.549 160.402 L426.188 160.402 L426.188 134.037 L417.877 135.703 L417.877 131.444 L426.141 129.778 L430.817 129.778 L430.817 160.402 L438.456 160.402 L438.456 164.338 L418.549 164.338 L418.549 160.402 Z\" fill=\"#000000\" fill-rule=\"nonzero\" fill-opacity=\"1\" /></svg>\n"
      ]
     },
     "metadata": {},
     "output_type": "display_data"
    }
   ],
   "source": [
    "plot([A[1], B[1], C[1]], [A[2], B[2], C[2]] )"
   ]
  },
  {
   "cell_type": "code",
   "execution_count": 5,
   "metadata": {},
   "outputs": [
    {
     "data": {
      "image/png": "[encoded data removed]",
      "image/svg+xml": [
       "<?xml version=\"1.0\" encoding=\"utf-8\"?>\n",
       "<svg xmlns=\"http://www.w3.org/2000/svg\" xmlns:xlink=\"http://www.w3.org/1999/xlink\" width=\"600\" height=\"400\" viewBox=\"0 0 2400 1600\">\n",
       "<defs>\n",
       "  <clipPath id=\"clip780\">\n",
       "    <rect x=\"0\" y=\"0\" width=\"2400\" height=\"1600\"/>\n",
       "  </clipPath>\n",
       "</defs>\n",
       "<path clip-path=\"url(#clip780)\" d=\"M0 1600 L2400 1600 L2400 0 L0 0  Z\" fill=\"#ffffff\" fill-rule=\"evenodd\" fill-opacity=\"1\"/>\n",
       "<defs>\n",
       "  <clipPath id=\"clip781\">\n",
       "    <rect x=\"480\" y=\"0\" width=\"1681\" height=\"1600\"/>\n",
       "  </clipPath>\n",
       "</defs>\n",
       "<path clip-path=\"url(#clip780)\" d=\"M112.177 1486.45 L2352.76 1486.45 L2352.76 47.2441 L112.177 47.2441  Z\" fill=\"#ffffff\" fill-rule=\"evenodd\" fill-opacity=\"1\"/>\n",
       "<defs>\n",
       "  <clipPath id=\"clip782\">\n",
       "    <rect x=\"112\" y=\"47\" width=\"2242\" height=\"1440\"/>\n",
       "  </clipPath>\n",
       "</defs>\n",
       "<polyline clip-path=\"url(#clip782)\" style=\"stroke:#000000; stroke-linecap:round; stroke-linejoin:round; stroke-width:2; stroke-opacity:0.1; fill:none\" points=\"175.59,1486.45 175.59,47.2441 \"/>\n",
       "<polyline clip-path=\"url(#clip782)\" style=\"stroke:#000000; stroke-linecap:round; stroke-linejoin:round; stroke-width:2; stroke-opacity:0.1; fill:none\" points=\"655.988,1486.45 655.988,47.2441 \"/>\n",
       "<polyline clip-path=\"url(#clip782)\" style=\"stroke:#000000; stroke-linecap:round; stroke-linejoin:round; stroke-width:2; stroke-opacity:0.1; fill:none\" points=\"1136.39,1486.45 1136.39,47.2441 \"/>\n",
       "<polyline clip-path=\"url(#clip782)\" style=\"stroke:#000000; stroke-linecap:round; stroke-linejoin:round; stroke-width:2; stroke-opacity:0.1; fill:none\" points=\"1616.79,1486.45 1616.79,47.2441 \"/>\n",
       "<polyline clip-path=\"url(#clip782)\" style=\"stroke:#000000; stroke-linecap:round; stroke-linejoin:round; stroke-width:2; stroke-opacity:0.1; fill:none\" points=\"2097.18,1486.45 2097.18,47.2441 \"/>\n",
       "<polyline clip-path=\"url(#clip780)\" style=\"stroke:#000000; stroke-linecap:round; stroke-linejoin:round; stroke-width:4; stroke-opacity:1; fill:none\" points=\"112.177,1486.45 2352.76,1486.45 \"/>\n",
       "<polyline clip-path=\"url(#clip780)\" style=\"stroke:#000000; stroke-linecap:round; stroke-linejoin:round; stroke-width:4; stroke-opacity:1; fill:none\" points=\"175.59,1486.45 175.59,1467.55 \"/>\n",
       "<polyline clip-path=\"url(#clip780)\" style=\"stroke:#000000; stroke-linecap:round; stroke-linejoin:round; stroke-width:4; stroke-opacity:1; fill:none\" points=\"655.988,1486.45 655.988,1467.55 \"/>\n",
       "<polyline clip-path=\"url(#clip780)\" style=\"stroke:#000000; stroke-linecap:round; stroke-linejoin:round; stroke-width:4; stroke-opacity:1; fill:none\" points=\"1136.39,1486.45 1136.39,1467.55 \"/>\n",
       "<polyline clip-path=\"url(#clip780)\" style=\"stroke:#000000; stroke-linecap:round; stroke-linejoin:round; stroke-width:4; stroke-opacity:1; fill:none\" points=\"1616.79,1486.45 1616.79,1467.55 \"/>\n",
       "<polyline clip-path=\"url(#clip780)\" style=\"stroke:#000000; stroke-linecap:round; stroke-linejoin:round; stroke-width:4; stroke-opacity:1; fill:none\" points=\"2097.18,1486.45 2097.18,1467.55 \"/>\n",
       "<path clip-path=\"url(#clip780)\" d=\"M175.59 1517.37 Q171.979 1517.37 170.15 1520.93 Q168.344 1524.47 168.344 1531.6 Q168.344 1538.71 170.15 1542.27 Q171.979 1545.82 175.59 1545.82 Q179.224 1545.82 181.03 1542.27 Q182.858 1538.71 182.858 1531.6 Q182.858 1524.47 181.03 1520.93 Q179.224 1517.37 175.59 1517.37 M175.59 1513.66 Q181.4 1513.66 184.455 1518.27 Q187.534 1522.85 187.534 1531.6 Q187.534 1540.33 184.455 1544.94 Q181.4 1549.52 175.59 1549.52 Q169.78 1549.52 166.701 1544.94 Q163.645 1540.33 163.645 1531.6 Q163.645 1522.85 166.701 1518.27 Q169.78 1513.66 175.59 1513.66 Z\" fill=\"#000000\" fill-rule=\"nonzero\" fill-opacity=\"1\" /><path clip-path=\"url(#clip780)\" d=\"M650.641 1544.91 L666.96 1544.91 L666.96 1548.85 L645.016 1548.85 L645.016 1544.91 Q647.678 1542.16 652.261 1537.53 Q656.868 1532.88 658.048 1531.53 Q660.294 1529.01 661.173 1527.27 Q662.076 1525.51 662.076 1523.82 Q662.076 1521.07 660.132 1519.33 Q658.211 1517.6 655.109 1517.6 Q652.91 1517.6 650.456 1518.36 Q648.025 1519.13 645.248 1520.68 L645.248 1515.95 Q648.072 1514.82 650.525 1514.24 Q652.979 1513.66 655.016 1513.66 Q660.386 1513.66 663.581 1516.35 Q666.775 1519.03 666.775 1523.52 Q666.775 1525.65 665.965 1527.57 Q665.178 1529.47 663.072 1532.07 Q662.493 1532.74 659.391 1535.95 Q656.289 1539.15 650.641 1544.91 Z\" fill=\"#000000\" fill-rule=\"nonzero\" fill-opacity=\"1\" /><path clip-path=\"url(#clip780)\" d=\"M1139.4 1518.36 L1127.59 1536.81 L1139.4 1536.81 L1139.4 1518.36 M1138.17 1514.29 L1144.05 1514.29 L1144.05 1536.81 L1148.98 1536.81 L1148.98 1540.7 L1144.05 1540.7 L1144.05 1548.85 L1139.4 1548.85 L1139.4 1540.7 L1123.79 1540.7 L1123.79 1536.19 L1138.17 1514.29 Z\" fill=\"#000000\" fill-rule=\"nonzero\" fill-opacity=\"1\" /><path clip-path=\"url(#clip780)\" d=\"M1617.19 1529.7 Q1614.04 1529.7 1612.19 1531.86 Q1610.36 1534.01 1610.36 1537.76 Q1610.36 1541.49 1612.19 1543.66 Q1614.04 1545.82 1617.19 1545.82 Q1620.34 1545.82 1622.17 1543.66 Q1624.02 1541.49 1624.02 1537.76 Q1624.02 1534.01 1622.17 1531.86 Q1620.34 1529.7 1617.19 1529.7 M1626.47 1515.05 L1626.47 1519.31 Q1624.71 1518.48 1622.91 1518.04 Q1621.13 1517.6 1619.37 1517.6 Q1614.74 1517.6 1612.28 1520.72 Q1609.85 1523.85 1609.51 1530.17 Q1610.87 1528.15 1612.93 1527.09 Q1614.99 1526 1617.47 1526 Q1622.68 1526 1625.69 1529.17 Q1628.72 1532.32 1628.72 1537.76 Q1628.72 1543.08 1625.57 1546.3 Q1622.42 1549.52 1617.19 1549.52 Q1611.2 1549.52 1608.02 1544.94 Q1604.85 1540.33 1604.85 1531.6 Q1604.85 1523.41 1608.74 1518.55 Q1612.63 1513.66 1619.18 1513.66 Q1620.94 1513.66 1622.72 1514.01 Q1624.53 1514.36 1626.47 1515.05 Z\" fill=\"#000000\" fill-rule=\"nonzero\" fill-opacity=\"1\" /><path clip-path=\"url(#clip780)\" d=\"M2097.18 1532.44 Q2093.85 1532.44 2091.93 1534.22 Q2090.03 1536 2090.03 1539.13 Q2090.03 1542.25 2091.93 1544.03 Q2093.85 1545.82 2097.18 1545.82 Q2100.52 1545.82 2102.44 1544.03 Q2104.36 1542.23 2104.36 1539.13 Q2104.36 1536 2102.44 1534.22 Q2100.54 1532.44 2097.18 1532.44 M2092.51 1530.45 Q2089.5 1529.7 2087.81 1527.64 Q2086.14 1525.58 2086.14 1522.62 Q2086.14 1518.48 2089.08 1516.07 Q2092.05 1513.66 2097.18 1513.66 Q2102.35 1513.66 2105.29 1516.07 Q2108.23 1518.48 2108.23 1522.62 Q2108.23 1525.58 2106.54 1527.64 Q2104.87 1529.7 2101.88 1530.45 Q2105.26 1531.23 2107.14 1533.52 Q2109.04 1535.82 2109.04 1539.13 Q2109.04 1544.15 2105.96 1546.83 Q2102.9 1549.52 2097.18 1549.52 Q2091.47 1549.52 2088.39 1546.83 Q2085.33 1544.15 2085.33 1539.13 Q2085.33 1535.82 2087.23 1533.52 Q2089.13 1531.23 2092.51 1530.45 M2090.8 1523.06 Q2090.8 1525.75 2092.46 1527.25 Q2094.15 1528.76 2097.18 1528.76 Q2100.19 1528.76 2101.88 1527.25 Q2103.6 1525.75 2103.6 1523.06 Q2103.6 1520.38 2101.88 1518.87 Q2100.19 1517.37 2097.18 1517.37 Q2094.15 1517.37 2092.46 1518.87 Q2090.8 1520.38 2090.8 1523.06 Z\" fill=\"#000000\" fill-rule=\"nonzero\" fill-opacity=\"1\" /><polyline clip-path=\"url(#clip782)\" style=\"stroke:#000000; stroke-linecap:round; stroke-linejoin:round; stroke-width:2; stroke-opacity:0.1; fill:none\" points=\"112.177,1445.72 2352.76,1445.72 \"/>\n",
       "<polyline clip-path=\"url(#clip782)\" style=\"stroke:#000000; stroke-linecap:round; stroke-linejoin:round; stroke-width:2; stroke-opacity:0.1; fill:none\" points=\"112.177,1063.25 2352.76,1063.25 \"/>\n",
       "<polyline clip-path=\"url(#clip782)\" style=\"stroke:#000000; stroke-linecap:round; stroke-linejoin:round; stroke-width:2; stroke-opacity:0.1; fill:none\" points=\"112.177,680.792 2352.76,680.792 \"/>\n",
       "<polyline clip-path=\"url(#clip782)\" style=\"stroke:#000000; stroke-linecap:round; stroke-linejoin:round; stroke-width:2; stroke-opacity:0.1; fill:none\" points=\"112.177,298.33 2352.76,298.33 \"/>\n",
       "<polyline clip-path=\"url(#clip780)\" style=\"stroke:#000000; stroke-linecap:round; stroke-linejoin:round; stroke-width:4; stroke-opacity:1; fill:none\" points=\"112.177,1486.45 112.177,47.2441 \"/>\n",
       "<polyline clip-path=\"url(#clip780)\" style=\"stroke:#000000; stroke-linecap:round; stroke-linejoin:round; stroke-width:4; stroke-opacity:1; fill:none\" points=\"112.177,1445.72 131.075,1445.72 \"/>\n",
       "<polyline clip-path=\"url(#clip780)\" style=\"stroke:#000000; stroke-linecap:round; stroke-linejoin:round; stroke-width:4; stroke-opacity:1; fill:none\" points=\"112.177,1063.25 131.075,1063.25 \"/>\n",
       "<polyline clip-path=\"url(#clip780)\" style=\"stroke:#000000; stroke-linecap:round; stroke-linejoin:round; stroke-width:4; stroke-opacity:1; fill:none\" points=\"112.177,680.792 131.075,680.792 \"/>\n",
       "<polyline clip-path=\"url(#clip780)\" style=\"stroke:#000000; stroke-linecap:round; stroke-linejoin:round; stroke-width:4; stroke-opacity:1; fill:none\" points=\"112.177,298.33 131.075,298.33 \"/>\n",
       "<path clip-path=\"url(#clip780)\" d=\"M59.8578 1459.06 L76.1772 1459.06 L76.1772 1463 L54.2328 1463 L54.2328 1459.06 Q56.8949 1456.31 61.4782 1451.68 Q66.0846 1447.02 67.2652 1445.68 Q69.5105 1443.16 70.3902 1441.42 Q71.2929 1439.66 71.2929 1437.97 Q71.2929 1435.22 69.3485 1433.48 Q67.4272 1431.75 64.3254 1431.75 Q62.1263 1431.75 59.6726 1432.51 Q57.2421 1433.27 54.4643 1434.82 L54.4643 1430.1 Q57.2884 1428.97 59.7421 1428.39 Q62.1958 1427.81 64.2328 1427.81 Q69.6031 1427.81 72.7976 1430.5 Q75.992 1433.18 75.992 1437.67 Q75.992 1439.8 75.1818 1441.72 Q74.3948 1443.62 72.2883 1446.21 Q71.7096 1446.88 68.6078 1450.1 Q65.5059 1453.3 59.8578 1459.06 Z\" fill=\"#000000\" fill-rule=\"nonzero\" fill-opacity=\"1\" /><path clip-path=\"url(#clip780)\" d=\"M66.5939 1050.05 L54.7884 1068.5 L66.5939 1068.5 L66.5939 1050.05 M65.367 1045.97 L71.2466 1045.97 L71.2466 1068.5 L76.1772 1068.5 L76.1772 1072.39 L71.2466 1072.39 L71.2466 1080.53 L66.5939 1080.53 L66.5939 1072.39 L50.9921 1072.39 L50.9921 1067.87 L65.367 1045.97 Z\" fill=\"#000000\" fill-rule=\"nonzero\" fill-opacity=\"1\" /><path clip-path=\"url(#clip780)\" d=\"M64.6495 678.929 Q61.5013 678.929 59.6495 681.081 Q57.8208 683.234 57.8208 686.984 Q57.8208 690.711 59.6495 692.887 Q61.5013 695.04 64.6495 695.04 Q67.7976 695.04 69.6263 692.887 Q71.4781 690.711 71.4781 686.984 Q71.4781 683.234 69.6263 681.081 Q67.7976 678.929 64.6495 678.929 M73.9318 664.276 L73.9318 668.535 Q72.1726 667.702 70.367 667.262 Q68.5846 666.822 66.8254 666.822 Q62.1958 666.822 59.7421 669.947 Q57.3115 673.072 56.9643 679.392 Q58.33 677.378 60.3902 676.313 Q62.4504 675.225 64.9272 675.225 Q70.1355 675.225 73.1448 678.396 Q76.1772 681.544 76.1772 686.984 Q76.1772 692.308 73.029 695.526 Q69.8809 698.743 64.6495 698.743 Q58.6541 698.743 55.4828 694.16 Q52.3116 689.554 52.3116 680.827 Q52.3116 672.632 56.2004 667.771 Q60.0893 662.887 66.6402 662.887 Q68.3994 662.887 70.1818 663.234 Q71.9874 663.582 73.9318 664.276 Z\" fill=\"#000000\" fill-rule=\"nonzero\" fill-opacity=\"1\" /><path clip-path=\"url(#clip780)\" d=\"M64.3254 299.198 Q60.9921 299.198 59.0708 300.981 Q57.1726 302.763 57.1726 305.888 Q57.1726 309.013 59.0708 310.795 Q60.9921 312.578 64.3254 312.578 Q67.6587 312.578 69.58 310.795 Q71.5013 308.99 71.5013 305.888 Q71.5013 302.763 69.58 300.981 Q67.6819 299.198 64.3254 299.198 M59.6495 297.208 Q56.6402 296.467 54.9504 294.407 Q53.2838 292.347 53.2838 289.384 Q53.2838 285.24 56.2236 282.833 Q59.1865 280.425 64.3254 280.425 Q69.4874 280.425 72.4272 282.833 Q75.367 285.24 75.367 289.384 Q75.367 292.347 73.6772 294.407 Q72.0105 296.467 69.0244 297.208 Q72.404 297.995 74.279 300.286 Q76.1772 302.578 76.1772 305.888 Q76.1772 310.911 73.0985 313.596 Q70.0429 316.282 64.3254 316.282 Q58.6078 316.282 55.5291 313.596 Q52.4736 310.911 52.4736 305.888 Q52.4736 302.578 54.3717 300.286 Q56.2699 297.995 59.6495 297.208 M57.9365 289.823 Q57.9365 292.509 59.6032 294.013 Q61.293 295.518 64.3254 295.518 Q67.3346 295.518 69.0244 294.013 Q70.7374 292.509 70.7374 289.823 Q70.7374 287.138 69.0244 285.634 Q67.3346 284.129 64.3254 284.129 Q61.293 284.129 59.6032 285.634 Q57.9365 287.138 57.9365 289.823 Z\" fill=\"#000000\" fill-rule=\"nonzero\" fill-opacity=\"1\" /><polyline clip-path=\"url(#clip782)\" style=\"stroke:#009af9; stroke-linecap:round; stroke-linejoin:round; stroke-width:4; stroke-opacity:1; fill:none\" points=\"175.59,1254.48 1136.39,1445.72 2289.34,87.9763 175.59,1254.48 \"/>\n",
       "<path clip-path=\"url(#clip780)\" d=\"M186.863 198.898 L594.716 198.898 L594.716 95.2176 L186.863 95.2176  Z\" fill=\"#ffffff\" fill-rule=\"evenodd\" fill-opacity=\"1\"/>\n",
       "<polyline clip-path=\"url(#clip780)\" style=\"stroke:#000000; stroke-linecap:round; stroke-linejoin:round; stroke-width:4; stroke-opacity:1; fill:none\" points=\"186.863,198.898 594.716,198.898 594.716,95.2176 186.863,95.2176 186.863,198.898 \"/>\n",
       "<polyline clip-path=\"url(#clip780)\" style=\"stroke:#009af9; stroke-linecap:round; stroke-linejoin:round; stroke-width:4; stroke-opacity:1; fill:none\" points=\"211.758,147.058 361.13,147.058 \"/>\n",
       "<path clip-path=\"url(#clip780)\" d=\"M386.026 129.778 L415.262 129.778 L415.262 133.713 L402.993 133.713 L402.993 164.338 L398.294 164.338 L398.294 133.713 L386.026 133.713 L386.026 129.778 Z\" fill=\"#000000\" fill-rule=\"nonzero\" fill-opacity=\"1\" /><path clip-path=\"url(#clip780)\" d=\"M427.646 142.393 Q426.928 141.977 426.072 141.791 Q425.238 141.583 424.22 141.583 Q420.609 141.583 418.664 143.944 Q416.743 146.282 416.743 150.68 L416.743 164.338 L412.461 164.338 L412.461 138.412 L416.743 138.412 L416.743 142.44 Q418.086 140.078 420.238 138.944 Q422.391 137.787 425.47 137.787 Q425.91 137.787 426.442 137.856 Q426.975 137.903 427.623 138.018 L427.646 142.393 Z\" fill=\"#000000\" fill-rule=\"nonzero\" fill-opacity=\"1\" /><path clip-path=\"url(#clip780)\" d=\"M432.113 138.412 L436.373 138.412 L436.373 164.338 L432.113 164.338 L432.113 138.412 M432.113 128.319 L436.373 128.319 L436.373 133.713 L432.113 133.713 L432.113 128.319 Z\" fill=\"#000000\" fill-rule=\"nonzero\" fill-opacity=\"1\" /><path clip-path=\"url(#clip780)\" d=\"M457.067 151.305 Q451.905 151.305 449.914 152.486 Q447.924 153.666 447.924 156.514 Q447.924 158.782 449.405 160.125 Q450.91 161.444 453.479 161.444 Q457.021 161.444 459.15 158.944 Q461.303 156.421 461.303 152.254 L461.303 151.305 L457.067 151.305 M465.562 149.546 L465.562 164.338 L461.303 164.338 L461.303 160.402 Q459.845 162.763 457.669 163.898 Q455.493 165.009 452.345 165.009 Q448.363 165.009 446.002 162.787 Q443.664 160.541 443.664 156.791 Q443.664 152.416 446.581 150.194 Q449.521 147.972 455.331 147.972 L461.303 147.972 L461.303 147.555 Q461.303 144.615 459.359 143.018 Q457.437 141.398 453.942 141.398 Q451.72 141.398 449.613 141.93 Q447.507 142.463 445.562 143.527 L445.562 139.592 Q447.9 138.69 450.099 138.25 Q452.298 137.787 454.382 137.787 Q460.007 137.787 462.785 140.703 Q465.562 143.62 465.562 149.546 Z\" fill=\"#000000\" fill-rule=\"nonzero\" fill-opacity=\"1\" /><path clip-path=\"url(#clip780)\" d=\"M495.886 148.689 L495.886 164.338 L491.627 164.338 L491.627 148.828 Q491.627 145.148 490.192 143.319 Q488.757 141.49 485.886 141.49 Q482.437 141.49 480.446 143.69 Q478.456 145.889 478.456 149.685 L478.456 164.338 L474.173 164.338 L474.173 138.412 L478.456 138.412 L478.456 142.44 Q479.984 140.102 482.044 138.944 Q484.127 137.787 486.835 137.787 Q491.303 137.787 493.595 140.565 Q495.886 143.319 495.886 148.689 Z\" fill=\"#000000\" fill-rule=\"nonzero\" fill-opacity=\"1\" /><path clip-path=\"url(#clip780)\" d=\"M521.442 151.074 Q521.442 146.444 519.52 143.898 Q517.622 141.352 514.173 141.352 Q510.747 141.352 508.826 143.898 Q506.928 146.444 506.928 151.074 Q506.928 155.68 508.826 158.226 Q510.747 160.773 514.173 160.773 Q517.622 160.773 519.52 158.226 Q521.442 155.68 521.442 151.074 M525.701 161.12 Q525.701 167.74 522.761 170.958 Q519.821 174.199 513.756 174.199 Q511.511 174.199 509.52 173.851 Q507.53 173.527 505.655 172.833 L505.655 168.689 Q507.53 169.708 509.358 170.194 Q511.187 170.68 513.085 170.68 Q517.275 170.68 519.358 168.481 Q521.442 166.305 521.442 161.884 L521.442 159.777 Q520.122 162.069 518.062 163.203 Q516.002 164.338 513.131 164.338 Q508.363 164.338 505.446 160.703 Q502.53 157.069 502.53 151.074 Q502.53 145.055 505.446 141.421 Q508.363 137.787 513.131 137.787 Q516.002 137.787 518.062 138.921 Q520.122 140.055 521.442 142.347 L521.442 138.412 L525.701 138.412 L525.701 161.12 Z\" fill=\"#000000\" fill-rule=\"nonzero\" fill-opacity=\"1\" /><path clip-path=\"url(#clip780)\" d=\"M534.474 128.319 L538.733 128.319 L538.733 164.338 L534.474 164.338 L534.474 128.319 Z\" fill=\"#000000\" fill-rule=\"nonzero\" fill-opacity=\"1\" /><path clip-path=\"url(#clip780)\" d=\"M569.821 150.31 L569.821 152.393 L550.238 152.393 Q550.516 156.791 552.877 159.106 Q555.261 161.398 559.497 161.398 Q561.951 161.398 564.242 160.796 Q566.557 160.194 568.826 158.99 L568.826 163.018 Q566.534 163.99 564.127 164.5 Q561.719 165.009 559.242 165.009 Q553.039 165.009 549.404 161.398 Q545.793 157.787 545.793 151.629 Q545.793 145.264 549.219 141.537 Q552.668 137.787 558.502 137.787 Q563.733 137.787 566.765 141.166 Q569.821 144.523 569.821 150.31 M565.562 149.06 Q565.515 145.565 563.594 143.481 Q561.696 141.398 558.548 141.398 Q554.983 141.398 552.83 143.412 Q550.701 145.426 550.377 149.083 L565.562 149.06 Z\" fill=\"#000000\" fill-rule=\"nonzero\" fill-opacity=\"1\" /></svg>\n"
      ],
      "text/html": [
       "<?xml version=\"1.0\" encoding=\"utf-8\"?>\n",
       "<svg xmlns=\"http://www.w3.org/2000/svg\" xmlns:xlink=\"http://www.w3.org/1999/xlink\" width=\"600\" height=\"400\" viewBox=\"0 0 2400 1600\">\n",
       "<defs>\n",
       "  <clipPath id=\"clip830\">\n",
       "    <rect x=\"0\" y=\"0\" width=\"2400\" height=\"1600\"/>\n",
       "  </clipPath>\n",
       "</defs>\n",
       "<path clip-path=\"url(#clip830)\" d=\"M0 1600 L2400 1600 L2400 0 L0 0  Z\" fill=\"#ffffff\" fill-rule=\"evenodd\" fill-opacity=\"1\"/>\n",
       "<defs>\n",
       "  <clipPath id=\"clip831\">\n",
       "    <rect x=\"480\" y=\"0\" width=\"1681\" height=\"1600\"/>\n",
       "  </clipPath>\n",
       "</defs>\n",
       "<path clip-path=\"url(#clip830)\" d=\"M112.177 1486.45 L2352.76 1486.45 L2352.76 47.2441 L112.177 47.2441  Z\" fill=\"#ffffff\" fill-rule=\"evenodd\" fill-opacity=\"1\"/>\n",
       "<defs>\n",
       "  <clipPath id=\"clip832\">\n",
       "    <rect x=\"112\" y=\"47\" width=\"2242\" height=\"1440\"/>\n",
       "  </clipPath>\n",
       "</defs>\n",
       "<polyline clip-path=\"url(#clip832)\" style=\"stroke:#000000; stroke-linecap:round; stroke-linejoin:round; stroke-width:2; stroke-opacity:0.1; fill:none\" points=\"175.59,1486.45 175.59,47.2441 \"/>\n",
       "<polyline clip-path=\"url(#clip832)\" style=\"stroke:#000000; stroke-linecap:round; stroke-linejoin:round; stroke-width:2; stroke-opacity:0.1; fill:none\" points=\"655.988,1486.45 655.988,47.2441 \"/>\n",
       "<polyline clip-path=\"url(#clip832)\" style=\"stroke:#000000; stroke-linecap:round; stroke-linejoin:round; stroke-width:2; stroke-opacity:0.1; fill:none\" points=\"1136.39,1486.45 1136.39,47.2441 \"/>\n",
       "<polyline clip-path=\"url(#clip832)\" style=\"stroke:#000000; stroke-linecap:round; stroke-linejoin:round; stroke-width:2; stroke-opacity:0.1; fill:none\" points=\"1616.79,1486.45 1616.79,47.2441 \"/>\n",
       "<polyline clip-path=\"url(#clip832)\" style=\"stroke:#000000; stroke-linecap:round; stroke-linejoin:round; stroke-width:2; stroke-opacity:0.1; fill:none\" points=\"2097.18,1486.45 2097.18,47.2441 \"/>\n",
       "<polyline clip-path=\"url(#clip830)\" style=\"stroke:#000000; stroke-linecap:round; stroke-linejoin:round; stroke-width:4; stroke-opacity:1; fill:none\" points=\"112.177,1486.45 2352.76,1486.45 \"/>\n",
       "<polyline clip-path=\"url(#clip830)\" style=\"stroke:#000000; stroke-linecap:round; stroke-linejoin:round; stroke-width:4; stroke-opacity:1; fill:none\" points=\"175.59,1486.45 175.59,1467.55 \"/>\n",
       "<polyline clip-path=\"url(#clip830)\" style=\"stroke:#000000; stroke-linecap:round; stroke-linejoin:round; stroke-width:4; stroke-opacity:1; fill:none\" points=\"655.988,1486.45 655.988,1467.55 \"/>\n",
       "<polyline clip-path=\"url(#clip830)\" style=\"stroke:#000000; stroke-linecap:round; stroke-linejoin:round; stroke-width:4; stroke-opacity:1; fill:none\" points=\"1136.39,1486.45 1136.39,1467.55 \"/>\n",
       "<polyline clip-path=\"url(#clip830)\" style=\"stroke:#000000; stroke-linecap:round; stroke-linejoin:round; stroke-width:4; stroke-opacity:1; fill:none\" points=\"1616.79,1486.45 1616.79,1467.55 \"/>\n",
       "<polyline clip-path=\"url(#clip830)\" style=\"stroke:#000000; stroke-linecap:round; stroke-linejoin:round; stroke-width:4; stroke-opacity:1; fill:none\" points=\"2097.18,1486.45 2097.18,1467.55 \"/>\n",
       "<path clip-path=\"url(#clip830)\" d=\"M175.59 1517.37 Q171.979 1517.37 170.15 1520.93 Q168.344 1524.47 168.344 1531.6 Q168.344 1538.71 170.15 1542.27 Q171.979 1545.82 175.59 1545.82 Q179.224 1545.82 181.03 1542.27 Q182.858 1538.71 182.858 1531.6 Q182.858 1524.47 181.03 1520.93 Q179.224 1517.37 175.59 1517.37 M175.59 1513.66 Q181.4 1513.66 184.455 1518.27 Q187.534 1522.85 187.534 1531.6 Q187.534 1540.33 184.455 1544.94 Q181.4 1549.52 175.59 1549.52 Q169.78 1549.52 166.701 1544.94 Q163.645 1540.33 163.645 1531.6 Q163.645 1522.85 166.701 1518.27 Q169.78 1513.66 175.59 1513.66 Z\" fill=\"#000000\" fill-rule=\"nonzero\" fill-opacity=\"1\" /><path clip-path=\"url(#clip830)\" d=\"M650.641 1544.91 L666.96 1544.91 L666.96 1548.85 L645.016 1548.85 L645.016 1544.91 Q647.678 1542.16 652.261 1537.53 Q656.868 1532.88 658.048 1531.53 Q660.294 1529.01 661.173 1527.27 Q662.076 1525.51 662.076 1523.82 Q662.076 1521.07 660.132 1519.33 Q658.211 1517.6 655.109 1517.6 Q652.91 1517.6 650.456 1518.36 Q648.025 1519.13 645.248 1520.68 L645.248 1515.95 Q648.072 1514.82 650.525 1514.24 Q652.979 1513.66 655.016 1513.66 Q660.386 1513.66 663.581 1516.35 Q666.775 1519.03 666.775 1523.52 Q666.775 1525.65 665.965 1527.57 Q665.178 1529.47 663.072 1532.07 Q662.493 1532.74 659.391 1535.95 Q656.289 1539.15 650.641 1544.91 Z\" fill=\"#000000\" fill-rule=\"nonzero\" fill-opacity=\"1\" /><path clip-path=\"url(#clip830)\" d=\"M1139.4 1518.36 L1127.59 1536.81 L1139.4 1536.81 L1139.4 1518.36 M1138.17 1514.29 L1144.05 1514.29 L1144.05 1536.81 L1148.98 1536.81 L1148.98 1540.7 L1144.05 1540.7 L1144.05 1548.85 L1139.4 1548.85 L1139.4 1540.7 L1123.79 1540.7 L1123.79 1536.19 L1138.17 1514.29 Z\" fill=\"#000000\" fill-rule=\"nonzero\" fill-opacity=\"1\" /><path clip-path=\"url(#clip830)\" d=\"M1617.19 1529.7 Q1614.04 1529.7 1612.19 1531.86 Q1610.36 1534.01 1610.36 1537.76 Q1610.36 1541.49 1612.19 1543.66 Q1614.04 1545.82 1617.19 1545.82 Q1620.34 1545.82 1622.17 1543.66 Q1624.02 1541.49 1624.02 1537.76 Q1624.02 1534.01 1622.17 1531.86 Q1620.34 1529.7 1617.19 1529.7 M1626.47 1515.05 L1626.47 1519.31 Q1624.71 1518.48 1622.91 1518.04 Q1621.13 1517.6 1619.37 1517.6 Q1614.74 1517.6 1612.28 1520.72 Q1609.85 1523.85 1609.51 1530.17 Q1610.87 1528.15 1612.93 1527.09 Q1614.99 1526 1617.47 1526 Q1622.68 1526 1625.69 1529.17 Q1628.72 1532.32 1628.72 1537.76 Q1628.72 1543.08 1625.57 1546.3 Q1622.42 1549.52 1617.19 1549.52 Q1611.2 1549.52 1608.02 1544.94 Q1604.85 1540.33 1604.85 1531.6 Q1604.85 1523.41 1608.74 1518.55 Q1612.63 1513.66 1619.18 1513.66 Q1620.94 1513.66 1622.72 1514.01 Q1624.53 1514.36 1626.47 1515.05 Z\" fill=\"#000000\" fill-rule=\"nonzero\" fill-opacity=\"1\" /><path clip-path=\"url(#clip830)\" d=\"M2097.18 1532.44 Q2093.85 1532.44 2091.93 1534.22 Q2090.03 1536 2090.03 1539.13 Q2090.03 1542.25 2091.93 1544.03 Q2093.85 1545.82 2097.18 1545.82 Q2100.52 1545.82 2102.44 1544.03 Q2104.36 1542.23 2104.36 1539.13 Q2104.36 1536 2102.44 1534.22 Q2100.54 1532.44 2097.18 1532.44 M2092.51 1530.45 Q2089.5 1529.7 2087.81 1527.64 Q2086.14 1525.58 2086.14 1522.62 Q2086.14 1518.48 2089.08 1516.07 Q2092.05 1513.66 2097.18 1513.66 Q2102.35 1513.66 2105.29 1516.07 Q2108.23 1518.48 2108.23 1522.62 Q2108.23 1525.58 2106.54 1527.64 Q2104.87 1529.7 2101.88 1530.45 Q2105.26 1531.23 2107.14 1533.52 Q2109.04 1535.82 2109.04 1539.13 Q2109.04 1544.15 2105.96 1546.83 Q2102.9 1549.52 2097.18 1549.52 Q2091.47 1549.52 2088.39 1546.83 Q2085.33 1544.15 2085.33 1539.13 Q2085.33 1535.82 2087.23 1533.52 Q2089.13 1531.23 2092.51 1530.45 M2090.8 1523.06 Q2090.8 1525.75 2092.46 1527.25 Q2094.15 1528.76 2097.18 1528.76 Q2100.19 1528.76 2101.88 1527.25 Q2103.6 1525.75 2103.6 1523.06 Q2103.6 1520.38 2101.88 1518.87 Q2100.19 1517.37 2097.18 1517.37 Q2094.15 1517.37 2092.46 1518.87 Q2090.8 1520.38 2090.8 1523.06 Z\" fill=\"#000000\" fill-rule=\"nonzero\" fill-opacity=\"1\" /><polyline clip-path=\"url(#clip832)\" style=\"stroke:#000000; stroke-linecap:round; stroke-linejoin:round; stroke-width:2; stroke-opacity:0.1; fill:none\" points=\"112.177,1445.72 2352.76,1445.72 \"/>\n",
       "<polyline clip-path=\"url(#clip832)\" style=\"stroke:#000000; stroke-linecap:round; stroke-linejoin:round; stroke-width:2; stroke-opacity:0.1; fill:none\" points=\"112.177,1063.25 2352.76,1063.25 \"/>\n",
       "<polyline clip-path=\"url(#clip832)\" style=\"stroke:#000000; stroke-linecap:round; stroke-linejoin:round; stroke-width:2; stroke-opacity:0.1; fill:none\" points=\"112.177,680.792 2352.76,680.792 \"/>\n",
       "<polyline clip-path=\"url(#clip832)\" style=\"stroke:#000000; stroke-linecap:round; stroke-linejoin:round; stroke-width:2; stroke-opacity:0.1; fill:none\" points=\"112.177,298.33 2352.76,298.33 \"/>\n",
       "<polyline clip-path=\"url(#clip830)\" style=\"stroke:#000000; stroke-linecap:round; stroke-linejoin:round; stroke-width:4; stroke-opacity:1; fill:none\" points=\"112.177,1486.45 112.177,47.2441 \"/>\n",
       "<polyline clip-path=\"url(#clip830)\" style=\"stroke:#000000; stroke-linecap:round; stroke-linejoin:round; stroke-width:4; stroke-opacity:1; fill:none\" points=\"112.177,1445.72 131.075,1445.72 \"/>\n",
       "<polyline clip-path=\"url(#clip830)\" style=\"stroke:#000000; stroke-linecap:round; stroke-linejoin:round; stroke-width:4; stroke-opacity:1; fill:none\" points=\"112.177,1063.25 131.075,1063.25 \"/>\n",
       "<polyline clip-path=\"url(#clip830)\" style=\"stroke:#000000; stroke-linecap:round; stroke-linejoin:round; stroke-width:4; stroke-opacity:1; fill:none\" points=\"112.177,680.792 131.075,680.792 \"/>\n",
       "<polyline clip-path=\"url(#clip830)\" style=\"stroke:#000000; stroke-linecap:round; stroke-linejoin:round; stroke-width:4; stroke-opacity:1; fill:none\" points=\"112.177,298.33 131.075,298.33 \"/>\n",
       "<path clip-path=\"url(#clip830)\" d=\"M59.8578 1459.06 L76.1772 1459.06 L76.1772 1463 L54.2328 1463 L54.2328 1459.06 Q56.8949 1456.31 61.4782 1451.68 Q66.0846 1447.02 67.2652 1445.68 Q69.5105 1443.16 70.3902 1441.42 Q71.2929 1439.66 71.2929 1437.97 Q71.2929 1435.22 69.3485 1433.48 Q67.4272 1431.75 64.3254 1431.75 Q62.1263 1431.75 59.6726 1432.51 Q57.2421 1433.27 54.4643 1434.82 L54.4643 1430.1 Q57.2884 1428.97 59.7421 1428.39 Q62.1958 1427.81 64.2328 1427.81 Q69.6031 1427.81 72.7976 1430.5 Q75.992 1433.18 75.992 1437.67 Q75.992 1439.8 75.1818 1441.72 Q74.3948 1443.62 72.2883 1446.21 Q71.7096 1446.88 68.6078 1450.1 Q65.5059 1453.3 59.8578 1459.06 Z\" fill=\"#000000\" fill-rule=\"nonzero\" fill-opacity=\"1\" /><path clip-path=\"url(#clip830)\" d=\"M66.5939 1050.05 L54.7884 1068.5 L66.5939 1068.5 L66.5939 1050.05 M65.367 1045.97 L71.2466 1045.97 L71.2466 1068.5 L76.1772 1068.5 L76.1772 1072.39 L71.2466 1072.39 L71.2466 1080.53 L66.5939 1080.53 L66.5939 1072.39 L50.9921 1072.39 L50.9921 1067.87 L65.367 1045.97 Z\" fill=\"#000000\" fill-rule=\"nonzero\" fill-opacity=\"1\" /><path clip-path=\"url(#clip830)\" d=\"M64.6495 678.929 Q61.5013 678.929 59.6495 681.081 Q57.8208 683.234 57.8208 686.984 Q57.8208 690.711 59.6495 692.887 Q61.5013 695.04 64.6495 695.04 Q67.7976 695.04 69.6263 692.887 Q71.4781 690.711 71.4781 686.984 Q71.4781 683.234 69.6263 681.081 Q67.7976 678.929 64.6495 678.929 M73.9318 664.276 L73.9318 668.535 Q72.1726 667.702 70.367 667.262 Q68.5846 666.822 66.8254 666.822 Q62.1958 666.822 59.7421 669.947 Q57.3115 673.072 56.9643 679.392 Q58.33 677.378 60.3902 676.313 Q62.4504 675.225 64.9272 675.225 Q70.1355 675.225 73.1448 678.396 Q76.1772 681.544 76.1772 686.984 Q76.1772 692.308 73.029 695.526 Q69.8809 698.743 64.6495 698.743 Q58.6541 698.743 55.4828 694.16 Q52.3116 689.554 52.3116 680.827 Q52.3116 672.632 56.2004 667.771 Q60.0893 662.887 66.6402 662.887 Q68.3994 662.887 70.1818 663.234 Q71.9874 663.582 73.9318 664.276 Z\" fill=\"#000000\" fill-rule=\"nonzero\" fill-opacity=\"1\" /><path clip-path=\"url(#clip830)\" d=\"M64.3254 299.198 Q60.9921 299.198 59.0708 300.981 Q57.1726 302.763 57.1726 305.888 Q57.1726 309.013 59.0708 310.795 Q60.9921 312.578 64.3254 312.578 Q67.6587 312.578 69.58 310.795 Q71.5013 308.99 71.5013 305.888 Q71.5013 302.763 69.58 300.981 Q67.6819 299.198 64.3254 299.198 M59.6495 297.208 Q56.6402 296.467 54.9504 294.407 Q53.2838 292.347 53.2838 289.384 Q53.2838 285.24 56.2236 282.833 Q59.1865 280.425 64.3254 280.425 Q69.4874 280.425 72.4272 282.833 Q75.367 285.24 75.367 289.384 Q75.367 292.347 73.6772 294.407 Q72.0105 296.467 69.0244 297.208 Q72.404 297.995 74.279 300.286 Q76.1772 302.578 76.1772 305.888 Q76.1772 310.911 73.0985 313.596 Q70.0429 316.282 64.3254 316.282 Q58.6078 316.282 55.5291 313.596 Q52.4736 310.911 52.4736 305.888 Q52.4736 302.578 54.3717 300.286 Q56.2699 297.995 59.6495 297.208 M57.9365 289.823 Q57.9365 292.509 59.6032 294.013 Q61.293 295.518 64.3254 295.518 Q67.3346 295.518 69.0244 294.013 Q70.7374 292.509 70.7374 289.823 Q70.7374 287.138 69.0244 285.634 Q67.3346 284.129 64.3254 284.129 Q61.293 284.129 59.6032 285.634 Q57.9365 287.138 57.9365 289.823 Z\" fill=\"#000000\" fill-rule=\"nonzero\" fill-opacity=\"1\" /><polyline clip-path=\"url(#clip832)\" style=\"stroke:#009af9; stroke-linecap:round; stroke-linejoin:round; stroke-width:4; stroke-opacity:1; fill:none\" points=\"175.59,1254.48 1136.39,1445.72 2289.34,87.9763 175.59,1254.48 \"/>\n",
       "<path clip-path=\"url(#clip830)\" d=\"M186.863 198.898 L594.716 198.898 L594.716 95.2176 L186.863 95.2176  Z\" fill=\"#ffffff\" fill-rule=\"evenodd\" fill-opacity=\"1\"/>\n",
       "<polyline clip-path=\"url(#clip830)\" style=\"stroke:#000000; stroke-linecap:round; stroke-linejoin:round; stroke-width:4; stroke-opacity:1; fill:none\" points=\"186.863,198.898 594.716,198.898 594.716,95.2176 186.863,95.2176 186.863,198.898 \"/>\n",
       "<polyline clip-path=\"url(#clip830)\" style=\"stroke:#009af9; stroke-linecap:round; stroke-linejoin:round; stroke-width:4; stroke-opacity:1; fill:none\" points=\"211.758,147.058 361.13,147.058 \"/>\n",
       "<path clip-path=\"url(#clip830)\" d=\"M386.026 129.778 L415.262 129.778 L415.262 133.713 L402.993 133.713 L402.993 164.338 L398.294 164.338 L398.294 133.713 L386.026 133.713 L386.026 129.778 Z\" fill=\"#000000\" fill-rule=\"nonzero\" fill-opacity=\"1\" /><path clip-path=\"url(#clip830)\" d=\"M427.646 142.393 Q426.928 141.977 426.072 141.791 Q425.238 141.583 424.22 141.583 Q420.609 141.583 418.664 143.944 Q416.743 146.282 416.743 150.68 L416.743 164.338 L412.461 164.338 L412.461 138.412 L416.743 138.412 L416.743 142.44 Q418.086 140.078 420.238 138.944 Q422.391 137.787 425.47 137.787 Q425.91 137.787 426.442 137.856 Q426.975 137.903 427.623 138.018 L427.646 142.393 Z\" fill=\"#000000\" fill-rule=\"nonzero\" fill-opacity=\"1\" /><path clip-path=\"url(#clip830)\" d=\"M432.113 138.412 L436.373 138.412 L436.373 164.338 L432.113 164.338 L432.113 138.412 M432.113 128.319 L436.373 128.319 L436.373 133.713 L432.113 133.713 L432.113 128.319 Z\" fill=\"#000000\" fill-rule=\"nonzero\" fill-opacity=\"1\" /><path clip-path=\"url(#clip830)\" d=\"M457.067 151.305 Q451.905 151.305 449.914 152.486 Q447.924 153.666 447.924 156.514 Q447.924 158.782 449.405 160.125 Q450.91 161.444 453.479 161.444 Q457.021 161.444 459.15 158.944 Q461.303 156.421 461.303 152.254 L461.303 151.305 L457.067 151.305 M465.562 149.546 L465.562 164.338 L461.303 164.338 L461.303 160.402 Q459.845 162.763 457.669 163.898 Q455.493 165.009 452.345 165.009 Q448.363 165.009 446.002 162.787 Q443.664 160.541 443.664 156.791 Q443.664 152.416 446.581 150.194 Q449.521 147.972 455.331 147.972 L461.303 147.972 L461.303 147.555 Q461.303 144.615 459.359 143.018 Q457.437 141.398 453.942 141.398 Q451.72 141.398 449.613 141.93 Q447.507 142.463 445.562 143.527 L445.562 139.592 Q447.9 138.69 450.099 138.25 Q452.298 137.787 454.382 137.787 Q460.007 137.787 462.785 140.703 Q465.562 143.62 465.562 149.546 Z\" fill=\"#000000\" fill-rule=\"nonzero\" fill-opacity=\"1\" /><path clip-path=\"url(#clip830)\" d=\"M495.886 148.689 L495.886 164.338 L491.627 164.338 L491.627 148.828 Q491.627 145.148 490.192 143.319 Q488.757 141.49 485.886 141.49 Q482.437 141.49 480.446 143.69 Q478.456 145.889 478.456 149.685 L478.456 164.338 L474.173 164.338 L474.173 138.412 L478.456 138.412 L478.456 142.44 Q479.984 140.102 482.044 138.944 Q484.127 137.787 486.835 137.787 Q491.303 137.787 493.595 140.565 Q495.886 143.319 495.886 148.689 Z\" fill=\"#000000\" fill-rule=\"nonzero\" fill-opacity=\"1\" /><path clip-path=\"url(#clip830)\" d=\"M521.442 151.074 Q521.442 146.444 519.52 143.898 Q517.622 141.352 514.173 141.352 Q510.747 141.352 508.826 143.898 Q506.928 146.444 506.928 151.074 Q506.928 155.68 508.826 158.226 Q510.747 160.773 514.173 160.773 Q517.622 160.773 519.52 158.226 Q521.442 155.68 521.442 151.074 M525.701 161.12 Q525.701 167.74 522.761 170.958 Q519.821 174.199 513.756 174.199 Q511.511 174.199 509.52 173.851 Q507.53 173.527 505.655 172.833 L505.655 168.689 Q507.53 169.708 509.358 170.194 Q511.187 170.68 513.085 170.68 Q517.275 170.68 519.358 168.481 Q521.442 166.305 521.442 161.884 L521.442 159.777 Q520.122 162.069 518.062 163.203 Q516.002 164.338 513.131 164.338 Q508.363 164.338 505.446 160.703 Q502.53 157.069 502.53 151.074 Q502.53 145.055 505.446 141.421 Q508.363 137.787 513.131 137.787 Q516.002 137.787 518.062 138.921 Q520.122 140.055 521.442 142.347 L521.442 138.412 L525.701 138.412 L525.701 161.12 Z\" fill=\"#000000\" fill-rule=\"nonzero\" fill-opacity=\"1\" /><path clip-path=\"url(#clip830)\" d=\"M534.474 128.319 L538.733 128.319 L538.733 164.338 L534.474 164.338 L534.474 128.319 Z\" fill=\"#000000\" fill-rule=\"nonzero\" fill-opacity=\"1\" /><path clip-path=\"url(#clip830)\" d=\"M569.821 150.31 L569.821 152.393 L550.238 152.393 Q550.516 156.791 552.877 159.106 Q555.261 161.398 559.497 161.398 Q561.951 161.398 564.242 160.796 Q566.557 160.194 568.826 158.99 L568.826 163.018 Q566.534 163.99 564.127 164.5 Q561.719 165.009 559.242 165.009 Q553.039 165.009 549.404 161.398 Q545.793 157.787 545.793 151.629 Q545.793 145.264 549.219 141.537 Q552.668 137.787 558.502 137.787 Q563.733 137.787 566.765 141.166 Q569.821 144.523 569.821 150.31 M565.562 149.06 Q565.515 145.565 563.594 143.481 Q561.696 141.398 558.548 141.398 Q554.983 141.398 552.83 143.412 Q550.701 145.426 550.377 149.083 L565.562 149.06 Z\" fill=\"#000000\" fill-rule=\"nonzero\" fill-opacity=\"1\" /></svg>\n"
      ]
     },
     "metadata": {},
     "output_type": "display_data"
    }
   ],
   "source": [
    "plot([A[1], B[1], C[1], A[1]], [A[2], B[2], C[2], A[2]], label=\"Triangle\")"
   ]
  },
  {
   "cell_type": "code",
   "execution_count": 8,
   "metadata": {},
   "outputs": [
    {
     "data": {
      "image/png": "[encoded data removed]",
      "image/svg+xml": [
       "<?xml version=\"1.0\" encoding=\"utf-8\"?>\n",
       "<svg xmlns=\"http://www.w3.org/2000/svg\" xmlns:xlink=\"http://www.w3.org/1999/xlink\" width=\"600\" height=\"400\" viewBox=\"0 0 2400 1600\">\n",
       "<defs>\n",
       "  <clipPath id=\"clip050\">\n",
       "    <rect x=\"0\" y=\"0\" width=\"2400\" height=\"1600\"/>\n",
       "  </clipPath>\n",
       "</defs>\n",
       "<path clip-path=\"url(#clip050)\" d=\"M0 1600 L2400 1600 L2400 0 L0 0  Z\" fill=\"#ffffff\" fill-rule=\"evenodd\" fill-opacity=\"1\"/>\n",
       "<defs>\n",
       "  <clipPath id=\"clip051\">\n",
       "    <rect x=\"480\" y=\"0\" width=\"1681\" height=\"1600\"/>\n",
       "  </clipPath>\n",
       "</defs>\n",
       "<path clip-path=\"url(#clip050)\" d=\"M112.177 1486.45 L2352.76 1486.45 L2352.76 47.2441 L112.177 47.2441  Z\" fill=\"#ffffff\" fill-rule=\"evenodd\" fill-opacity=\"1\"/>\n",
       "<defs>\n",
       "  <clipPath id=\"clip052\">\n",
       "    <rect x=\"112\" y=\"47\" width=\"2242\" height=\"1440\"/>\n",
       "  </clipPath>\n",
       "</defs>\n",
       "<polyline clip-path=\"url(#clip052)\" style=\"stroke:#000000; stroke-linecap:round; stroke-linejoin:round; stroke-width:2; stroke-opacity:0.1; fill:none\" points=\"175.59,1486.45 175.59,47.2441 \"/>\n",
       "<polyline clip-path=\"url(#clip052)\" style=\"stroke:#000000; stroke-linecap:round; stroke-linejoin:round; stroke-width:2; stroke-opacity:0.1; fill:none\" points=\"655.988,1486.45 655.988,47.2441 \"/>\n",
       "<polyline clip-path=\"url(#clip052)\" style=\"stroke:#000000; stroke-linecap:round; stroke-linejoin:round; stroke-width:2; stroke-opacity:0.1; fill:none\" points=\"1136.39,1486.45 1136.39,47.2441 \"/>\n",
       "<polyline clip-path=\"url(#clip052)\" style=\"stroke:#000000; stroke-linecap:round; stroke-linejoin:round; stroke-width:2; stroke-opacity:0.1; fill:none\" points=\"1616.79,1486.45 1616.79,47.2441 \"/>\n",
       "<polyline clip-path=\"url(#clip052)\" style=\"stroke:#000000; stroke-linecap:round; stroke-linejoin:round; stroke-width:2; stroke-opacity:0.1; fill:none\" points=\"2097.18,1486.45 2097.18,47.2441 \"/>\n",
       "<polyline clip-path=\"url(#clip050)\" style=\"stroke:#000000; stroke-linecap:round; stroke-linejoin:round; stroke-width:4; stroke-opacity:1; fill:none\" points=\"112.177,1486.45 2352.76,1486.45 \"/>\n",
       "<polyline clip-path=\"url(#clip050)\" style=\"stroke:#000000; stroke-linecap:round; stroke-linejoin:round; stroke-width:4; stroke-opacity:1; fill:none\" points=\"175.59,1486.45 175.59,1467.55 \"/>\n",
       "<polyline clip-path=\"url(#clip050)\" style=\"stroke:#000000; stroke-linecap:round; stroke-linejoin:round; stroke-width:4; stroke-opacity:1; fill:none\" points=\"655.988,1486.45 655.988,1467.55 \"/>\n",
       "<polyline clip-path=\"url(#clip050)\" style=\"stroke:#000000; stroke-linecap:round; stroke-linejoin:round; stroke-width:4; stroke-opacity:1; fill:none\" points=\"1136.39,1486.45 1136.39,1467.55 \"/>\n",
       "<polyline clip-path=\"url(#clip050)\" style=\"stroke:#000000; stroke-linecap:round; stroke-linejoin:round; stroke-width:4; stroke-opacity:1; fill:none\" points=\"1616.79,1486.45 1616.79,1467.55 \"/>\n",
       "<polyline clip-path=\"url(#clip050)\" style=\"stroke:#000000; stroke-linecap:round; stroke-linejoin:round; stroke-width:4; stroke-opacity:1; fill:none\" points=\"2097.18,1486.45 2097.18,1467.55 \"/>\n",
       "<path clip-path=\"url(#clip050)\" d=\"M175.59 1517.37 Q171.979 1517.37 170.15 1520.93 Q168.344 1524.47 168.344 1531.6 Q168.344 1538.71 170.15 1542.27 Q171.979 1545.82 175.59 1545.82 Q179.224 1545.82 181.03 1542.27 Q182.858 1538.71 182.858 1531.6 Q182.858 1524.47 181.03 1520.93 Q179.224 1517.37 175.59 1517.37 M175.59 1513.66 Q181.4 1513.66 184.455 1518.27 Q187.534 1522.85 187.534 1531.6 Q187.534 1540.33 184.455 1544.94 Q181.4 1549.52 175.59 1549.52 Q169.78 1549.52 166.701 1544.94 Q163.645 1540.33 163.645 1531.6 Q163.645 1522.85 166.701 1518.27 Q169.78 1513.66 175.59 1513.66 Z\" fill=\"#000000\" fill-rule=\"nonzero\" fill-opacity=\"1\" /><path clip-path=\"url(#clip050)\" d=\"M650.641 1544.91 L666.96 1544.91 L666.96 1548.85 L645.016 1548.85 L645.016 1544.91 Q647.678 1542.16 652.261 1537.53 Q656.868 1532.88 658.048 1531.53 Q660.294 1529.01 661.173 1527.27 Q662.076 1525.51 662.076 1523.82 Q662.076 1521.07 660.132 1519.33 Q658.211 1517.6 655.109 1517.6 Q652.91 1517.6 650.456 1518.36 Q648.025 1519.13 645.248 1520.68 L645.248 1515.95 Q648.072 1514.82 650.525 1514.24 Q652.979 1513.66 655.016 1513.66 Q660.386 1513.66 663.581 1516.35 Q666.775 1519.03 666.775 1523.52 Q666.775 1525.65 665.965 1527.57 Q665.178 1529.47 663.072 1532.07 Q662.493 1532.74 659.391 1535.95 Q656.289 1539.15 650.641 1544.91 Z\" fill=\"#000000\" fill-rule=\"nonzero\" fill-opacity=\"1\" /><path clip-path=\"url(#clip050)\" d=\"M1139.4 1518.36 L1127.59 1536.81 L1139.4 1536.81 L1139.4 1518.36 M1138.17 1514.29 L1144.05 1514.29 L1144.05 1536.81 L1148.98 1536.81 L1148.98 1540.7 L1144.05 1540.7 L1144.05 1548.85 L1139.4 1548.85 L1139.4 1540.7 L1123.79 1540.7 L1123.79 1536.19 L1138.17 1514.29 Z\" fill=\"#000000\" fill-rule=\"nonzero\" fill-opacity=\"1\" /><path clip-path=\"url(#clip050)\" d=\"M1617.19 1529.7 Q1614.04 1529.7 1612.19 1531.86 Q1610.36 1534.01 1610.36 1537.76 Q1610.36 1541.49 1612.19 1543.66 Q1614.04 1545.82 1617.19 1545.82 Q1620.34 1545.82 1622.17 1543.66 Q1624.02 1541.49 1624.02 1537.76 Q1624.02 1534.01 1622.17 1531.86 Q1620.34 1529.7 1617.19 1529.7 M1626.47 1515.05 L1626.47 1519.31 Q1624.71 1518.48 1622.91 1518.04 Q1621.13 1517.6 1619.37 1517.6 Q1614.74 1517.6 1612.28 1520.72 Q1609.85 1523.85 1609.51 1530.17 Q1610.87 1528.15 1612.93 1527.09 Q1614.99 1526 1617.47 1526 Q1622.68 1526 1625.69 1529.17 Q1628.72 1532.32 1628.72 1537.76 Q1628.72 1543.08 1625.57 1546.3 Q1622.42 1549.52 1617.19 1549.52 Q1611.2 1549.52 1608.02 1544.94 Q1604.85 1540.33 1604.85 1531.6 Q1604.85 1523.41 1608.74 1518.55 Q1612.63 1513.66 1619.18 1513.66 Q1620.94 1513.66 1622.72 1514.01 Q1624.53 1514.36 1626.47 1515.05 Z\" fill=\"#000000\" fill-rule=\"nonzero\" fill-opacity=\"1\" /><path clip-path=\"url(#clip050)\" d=\"M2097.18 1532.44 Q2093.85 1532.44 2091.93 1534.22 Q2090.03 1536 2090.03 1539.13 Q2090.03 1542.25 2091.93 1544.03 Q2093.85 1545.82 2097.18 1545.82 Q2100.52 1545.82 2102.44 1544.03 Q2104.36 1542.23 2104.36 1539.13 Q2104.36 1536 2102.44 1534.22 Q2100.54 1532.44 2097.18 1532.44 M2092.51 1530.45 Q2089.5 1529.7 2087.81 1527.64 Q2086.14 1525.58 2086.14 1522.62 Q2086.14 1518.48 2089.08 1516.07 Q2092.05 1513.66 2097.18 1513.66 Q2102.35 1513.66 2105.29 1516.07 Q2108.23 1518.48 2108.23 1522.62 Q2108.23 1525.58 2106.54 1527.64 Q2104.87 1529.7 2101.88 1530.45 Q2105.26 1531.23 2107.14 1533.52 Q2109.04 1535.82 2109.04 1539.13 Q2109.04 1544.15 2105.96 1546.83 Q2102.9 1549.52 2097.18 1549.52 Q2091.47 1549.52 2088.39 1546.83 Q2085.33 1544.15 2085.33 1539.13 Q2085.33 1535.82 2087.23 1533.52 Q2089.13 1531.23 2092.51 1530.45 M2090.8 1523.06 Q2090.8 1525.75 2092.46 1527.25 Q2094.15 1528.76 2097.18 1528.76 Q2100.19 1528.76 2101.88 1527.25 Q2103.6 1525.75 2103.6 1523.06 Q2103.6 1520.38 2101.88 1518.87 Q2100.19 1517.37 2097.18 1517.37 Q2094.15 1517.37 2092.46 1518.87 Q2090.8 1520.38 2090.8 1523.06 Z\" fill=\"#000000\" fill-rule=\"nonzero\" fill-opacity=\"1\" /><polyline clip-path=\"url(#clip052)\" style=\"stroke:#000000; stroke-linecap:round; stroke-linejoin:round; stroke-width:2; stroke-opacity:0.1; fill:none\" points=\"112.177,1445.72 2352.76,1445.72 \"/>\n",
       "<polyline clip-path=\"url(#clip052)\" style=\"stroke:#000000; stroke-linecap:round; stroke-linejoin:round; stroke-width:2; stroke-opacity:0.1; fill:none\" points=\"112.177,1063.25 2352.76,1063.25 \"/>\n",
       "<polyline clip-path=\"url(#clip052)\" style=\"stroke:#000000; stroke-linecap:round; stroke-linejoin:round; stroke-width:2; stroke-opacity:0.1; fill:none\" points=\"112.177,680.792 2352.76,680.792 \"/>\n",
       "<polyline clip-path=\"url(#clip052)\" style=\"stroke:#000000; stroke-linecap:round; stroke-linejoin:round; stroke-width:2; stroke-opacity:0.1; fill:none\" points=\"112.177,298.33 2352.76,298.33 \"/>\n",
       "<polyline clip-path=\"url(#clip050)\" style=\"stroke:#000000; stroke-linecap:round; stroke-linejoin:round; stroke-width:4; stroke-opacity:1; fill:none\" points=\"112.177,1486.45 112.177,47.2441 \"/>\n",
       "<polyline clip-path=\"url(#clip050)\" style=\"stroke:#000000; stroke-linecap:round; stroke-linejoin:round; stroke-width:4; stroke-opacity:1; fill:none\" points=\"112.177,1445.72 131.075,1445.72 \"/>\n",
       "<polyline clip-path=\"url(#clip050)\" style=\"stroke:#000000; stroke-linecap:round; stroke-linejoin:round; stroke-width:4; stroke-opacity:1; fill:none\" points=\"112.177,1063.25 131.075,1063.25 \"/>\n",
       "<polyline clip-path=\"url(#clip050)\" style=\"stroke:#000000; stroke-linecap:round; stroke-linejoin:round; stroke-width:4; stroke-opacity:1; fill:none\" points=\"112.177,680.792 131.075,680.792 \"/>\n",
       "<polyline clip-path=\"url(#clip050)\" style=\"stroke:#000000; stroke-linecap:round; stroke-linejoin:round; stroke-width:4; stroke-opacity:1; fill:none\" points=\"112.177,298.33 131.075,298.33 \"/>\n",
       "<path clip-path=\"url(#clip050)\" d=\"M59.8578 1459.06 L76.1772 1459.06 L76.1772 1463 L54.2328 1463 L54.2328 1459.06 Q56.8949 1456.31 61.4782 1451.68 Q66.0846 1447.02 67.2652 1445.68 Q69.5105 1443.16 70.3902 1441.42 Q71.2929 1439.66 71.2929 1437.97 Q71.2929 1435.22 69.3485 1433.48 Q67.4272 1431.75 64.3254 1431.75 Q62.1263 1431.75 59.6726 1432.51 Q57.2421 1433.27 54.4643 1434.82 L54.4643 1430.1 Q57.2884 1428.97 59.7421 1428.39 Q62.1958 1427.81 64.2328 1427.81 Q69.6031 1427.81 72.7976 1430.5 Q75.992 1433.18 75.992 1437.67 Q75.992 1439.8 75.1818 1441.72 Q74.3948 1443.62 72.2883 1446.21 Q71.7096 1446.88 68.6078 1450.1 Q65.5059 1453.3 59.8578 1459.06 Z\" fill=\"#000000\" fill-rule=\"nonzero\" fill-opacity=\"1\" /><path clip-path=\"url(#clip050)\" d=\"M66.5939 1050.05 L54.7884 1068.5 L66.5939 1068.5 L66.5939 1050.05 M65.367 1045.97 L71.2466 1045.97 L71.2466 1068.5 L76.1772 1068.5 L76.1772 1072.39 L71.2466 1072.39 L71.2466 1080.53 L66.5939 1080.53 L66.5939 1072.39 L50.9921 1072.39 L50.9921 1067.87 L65.367 1045.97 Z\" fill=\"#000000\" fill-rule=\"nonzero\" fill-opacity=\"1\" /><path clip-path=\"url(#clip050)\" d=\"M64.6495 678.929 Q61.5013 678.929 59.6495 681.081 Q57.8208 683.234 57.8208 686.984 Q57.8208 690.711 59.6495 692.887 Q61.5013 695.04 64.6495 695.04 Q67.7976 695.04 69.6263 692.887 Q71.4781 690.711 71.4781 686.984 Q71.4781 683.234 69.6263 681.081 Q67.7976 678.929 64.6495 678.929 M73.9318 664.276 L73.9318 668.535 Q72.1726 667.702 70.367 667.262 Q68.5846 666.822 66.8254 666.822 Q62.1958 666.822 59.7421 669.947 Q57.3115 673.072 56.9643 679.392 Q58.33 677.378 60.3902 676.313 Q62.4504 675.225 64.9272 675.225 Q70.1355 675.225 73.1448 678.396 Q76.1772 681.544 76.1772 686.984 Q76.1772 692.308 73.029 695.526 Q69.8809 698.743 64.6495 698.743 Q58.6541 698.743 55.4828 694.16 Q52.3116 689.554 52.3116 680.827 Q52.3116 672.632 56.2004 667.771 Q60.0893 662.887 66.6402 662.887 Q68.3994 662.887 70.1818 663.234 Q71.9874 663.582 73.9318 664.276 Z\" fill=\"#000000\" fill-rule=\"nonzero\" fill-opacity=\"1\" /><path clip-path=\"url(#clip050)\" d=\"M64.3254 299.198 Q60.9921 299.198 59.0708 300.981 Q57.1726 302.763 57.1726 305.888 Q57.1726 309.013 59.0708 310.795 Q60.9921 312.578 64.3254 312.578 Q67.6587 312.578 69.58 310.795 Q71.5013 308.99 71.5013 305.888 Q71.5013 302.763 69.58 300.981 Q67.6819 299.198 64.3254 299.198 M59.6495 297.208 Q56.6402 296.467 54.9504 294.407 Q53.2838 292.347 53.2838 289.384 Q53.2838 285.24 56.2236 282.833 Q59.1865 280.425 64.3254 280.425 Q69.4874 280.425 72.4272 282.833 Q75.367 285.24 75.367 289.384 Q75.367 292.347 73.6772 294.407 Q72.0105 296.467 69.0244 297.208 Q72.404 297.995 74.279 300.286 Q76.1772 302.578 76.1772 305.888 Q76.1772 310.911 73.0985 313.596 Q70.0429 316.282 64.3254 316.282 Q58.6078 316.282 55.5291 313.596 Q52.4736 310.911 52.4736 305.888 Q52.4736 302.578 54.3717 300.286 Q56.2699 297.995 59.6495 297.208 M57.9365 289.823 Q57.9365 292.509 59.6032 294.013 Q61.293 295.518 64.3254 295.518 Q67.3346 295.518 69.0244 294.013 Q70.7374 292.509 70.7374 289.823 Q70.7374 287.138 69.0244 285.634 Q67.3346 284.129 64.3254 284.129 Q61.293 284.129 59.6032 285.634 Q57.9365 287.138 57.9365 289.823 Z\" fill=\"#000000\" fill-rule=\"nonzero\" fill-opacity=\"1\" /><polyline clip-path=\"url(#clip052)\" style=\"stroke:#009af9; stroke-linecap:round; stroke-linejoin:round; stroke-width:4; stroke-opacity:1; fill:none\" points=\"175.59,1254.48 1136.39,1445.72 2289.34,87.9763 175.59,1254.48 \"/>\n",
       "<path clip-path=\"url(#clip050)\" d=\"M186.863 198.898 L490.921 198.898 L490.921 95.2176 L186.863 95.2176  Z\" fill=\"#ffffff\" fill-rule=\"evenodd\" fill-opacity=\"1\"/>\n",
       "<polyline clip-path=\"url(#clip050)\" style=\"stroke:#000000; stroke-linecap:round; stroke-linejoin:round; stroke-width:4; stroke-opacity:1; fill:none\" points=\"186.863,198.898 490.921,198.898 490.921,95.2176 186.863,95.2176 186.863,198.898 \"/>\n",
       "<polyline clip-path=\"url(#clip050)\" style=\"stroke:#009af9; stroke-linecap:round; stroke-linejoin:round; stroke-width:4; stroke-opacity:1; fill:none\" points=\"211.758,147.058 361.13,147.058 \"/>\n",
       "<path clip-path=\"url(#clip050)\" d=\"M399.428 151.305 Q394.266 151.305 392.276 152.486 Q390.285 153.666 390.285 156.514 Q390.285 158.782 391.766 160.125 Q393.271 161.444 395.84 161.444 Q399.382 161.444 401.512 158.944 Q403.664 156.421 403.664 152.254 L403.664 151.305 L399.428 151.305 M407.924 149.546 L407.924 164.338 L403.664 164.338 L403.664 160.402 Q402.206 162.763 400.03 163.898 Q397.854 165.009 394.706 165.009 Q390.725 165.009 388.364 162.787 Q386.026 160.541 386.026 156.791 Q386.026 152.416 388.942 150.194 Q391.882 147.972 397.692 147.972 L403.664 147.972 L403.664 147.555 Q403.664 144.615 401.72 143.018 Q399.799 141.398 396.303 141.398 Q394.081 141.398 391.975 141.93 Q389.868 142.463 387.924 143.527 L387.924 139.592 Q390.262 138.69 392.461 138.25 Q394.66 137.787 396.743 137.787 Q402.368 137.787 405.146 140.703 Q407.924 143.62 407.924 149.546 Z\" fill=\"#000000\" fill-rule=\"nonzero\" fill-opacity=\"1\" /><path clip-path=\"url(#clip050)\" d=\"M428.479 151.305 Q423.317 151.305 421.326 152.486 Q419.336 153.666 419.336 156.514 Q419.336 158.782 420.817 160.125 Q422.322 161.444 424.891 161.444 Q428.433 161.444 430.562 158.944 Q432.715 156.421 432.715 152.254 L432.715 151.305 L428.479 151.305 M436.974 149.546 L436.974 164.338 L432.715 164.338 L432.715 160.402 Q431.257 162.763 429.081 163.898 Q426.905 165.009 423.757 165.009 Q419.776 165.009 417.414 162.787 Q415.076 160.541 415.076 156.791 Q415.076 152.416 417.993 150.194 Q420.933 147.972 426.743 147.972 L432.715 147.972 L432.715 147.555 Q432.715 144.615 430.771 143.018 Q428.85 141.398 425.354 141.398 Q423.132 141.398 421.026 141.93 Q418.919 142.463 416.975 143.527 L416.975 139.592 Q419.313 138.69 421.512 138.25 Q423.711 137.787 425.794 137.787 Q431.419 137.787 434.197 140.703 Q436.974 143.62 436.974 149.546 Z\" fill=\"#000000\" fill-rule=\"nonzero\" fill-opacity=\"1\" /><path clip-path=\"url(#clip050)\" d=\"M457.53 151.305 Q452.368 151.305 450.377 152.486 Q448.386 153.666 448.386 156.514 Q448.386 158.782 449.868 160.125 Q451.373 161.444 453.942 161.444 Q457.484 161.444 459.613 158.944 Q461.766 156.421 461.766 152.254 L461.766 151.305 L457.53 151.305 M466.025 149.546 L466.025 164.338 L461.766 164.338 L461.766 160.402 Q460.308 162.763 458.132 163.898 Q455.956 165.009 452.808 165.009 Q448.826 165.009 446.465 162.787 Q444.127 160.541 444.127 156.791 Q444.127 152.416 447.044 150.194 Q449.984 147.972 455.794 147.972 L461.766 147.972 L461.766 147.555 Q461.766 144.615 459.822 143.018 Q457.9 141.398 454.405 141.398 Q452.183 141.398 450.076 141.93 Q447.97 142.463 446.025 143.527 L446.025 139.592 Q448.363 138.69 450.562 138.25 Q452.761 137.787 454.845 137.787 Q460.47 137.787 463.247 140.703 Q466.025 143.62 466.025 149.546 Z\" fill=\"#000000\" fill-rule=\"nonzero\" fill-opacity=\"1\" /></svg>\n"
      ],
      "text/html": [
       "<?xml version=\"1.0\" encoding=\"utf-8\"?>\n",
       "<svg xmlns=\"http://www.w3.org/2000/svg\" xmlns:xlink=\"http://www.w3.org/1999/xlink\" width=\"600\" height=\"400\" viewBox=\"0 0 2400 1600\">\n",
       "<defs>\n",
       "  <clipPath id=\"clip100\">\n",
       "    <rect x=\"0\" y=\"0\" width=\"2400\" height=\"1600\"/>\n",
       "  </clipPath>\n",
       "</defs>\n",
       "<path clip-path=\"url(#clip100)\" d=\"M0 1600 L2400 1600 L2400 0 L0 0  Z\" fill=\"#ffffff\" fill-rule=\"evenodd\" fill-opacity=\"1\"/>\n",
       "<defs>\n",
       "  <clipPath id=\"clip101\">\n",
       "    <rect x=\"480\" y=\"0\" width=\"1681\" height=\"1600\"/>\n",
       "  </clipPath>\n",
       "</defs>\n",
       "<path clip-path=\"url(#clip100)\" d=\"M112.177 1486.45 L2352.76 1486.45 L2352.76 47.2441 L112.177 47.2441  Z\" fill=\"#ffffff\" fill-rule=\"evenodd\" fill-opacity=\"1\"/>\n",
       "<defs>\n",
       "  <clipPath id=\"clip102\">\n",
       "    <rect x=\"112\" y=\"47\" width=\"2242\" height=\"1440\"/>\n",
       "  </clipPath>\n",
       "</defs>\n",
       "<polyline clip-path=\"url(#clip102)\" style=\"stroke:#000000; stroke-linecap:round; stroke-linejoin:round; stroke-width:2; stroke-opacity:0.1; fill:none\" points=\"175.59,1486.45 175.59,47.2441 \"/>\n",
       "<polyline clip-path=\"url(#clip102)\" style=\"stroke:#000000; stroke-linecap:round; stroke-linejoin:round; stroke-width:2; stroke-opacity:0.1; fill:none\" points=\"655.988,1486.45 655.988,47.2441 \"/>\n",
       "<polyline clip-path=\"url(#clip102)\" style=\"stroke:#000000; stroke-linecap:round; stroke-linejoin:round; stroke-width:2; stroke-opacity:0.1; fill:none\" points=\"1136.39,1486.45 1136.39,47.2441 \"/>\n",
       "<polyline clip-path=\"url(#clip102)\" style=\"stroke:#000000; stroke-linecap:round; stroke-linejoin:round; stroke-width:2; stroke-opacity:0.1; fill:none\" points=\"1616.79,1486.45 1616.79,47.2441 \"/>\n",
       "<polyline clip-path=\"url(#clip102)\" style=\"stroke:#000000; stroke-linecap:round; stroke-linejoin:round; stroke-width:2; stroke-opacity:0.1; fill:none\" points=\"2097.18,1486.45 2097.18,47.2441 \"/>\n",
       "<polyline clip-path=\"url(#clip100)\" style=\"stroke:#000000; stroke-linecap:round; stroke-linejoin:round; stroke-width:4; stroke-opacity:1; fill:none\" points=\"112.177,1486.45 2352.76,1486.45 \"/>\n",
       "<polyline clip-path=\"url(#clip100)\" style=\"stroke:#000000; stroke-linecap:round; stroke-linejoin:round; stroke-width:4; stroke-opacity:1; fill:none\" points=\"175.59,1486.45 175.59,1467.55 \"/>\n",
       "<polyline clip-path=\"url(#clip100)\" style=\"stroke:#000000; stroke-linecap:round; stroke-linejoin:round; stroke-width:4; stroke-opacity:1; fill:none\" points=\"655.988,1486.45 655.988,1467.55 \"/>\n",
       "<polyline clip-path=\"url(#clip100)\" style=\"stroke:#000000; stroke-linecap:round; stroke-linejoin:round; stroke-width:4; stroke-opacity:1; fill:none\" points=\"1136.39,1486.45 1136.39,1467.55 \"/>\n",
       "<polyline clip-path=\"url(#clip100)\" style=\"stroke:#000000; stroke-linecap:round; stroke-linejoin:round; stroke-width:4; stroke-opacity:1; fill:none\" points=\"1616.79,1486.45 1616.79,1467.55 \"/>\n",
       "<polyline clip-path=\"url(#clip100)\" style=\"stroke:#000000; stroke-linecap:round; stroke-linejoin:round; stroke-width:4; stroke-opacity:1; fill:none\" points=\"2097.18,1486.45 2097.18,1467.55 \"/>\n",
       "<path clip-path=\"url(#clip100)\" d=\"M175.59 1517.37 Q171.979 1517.37 170.15 1520.93 Q168.344 1524.47 168.344 1531.6 Q168.344 1538.71 170.15 1542.27 Q171.979 1545.82 175.59 1545.82 Q179.224 1545.82 181.03 1542.27 Q182.858 1538.71 182.858 1531.6 Q182.858 1524.47 181.03 1520.93 Q179.224 1517.37 175.59 1517.37 M175.59 1513.66 Q181.4 1513.66 184.455 1518.27 Q187.534 1522.85 187.534 1531.6 Q187.534 1540.33 184.455 1544.94 Q181.4 1549.52 175.59 1549.52 Q169.78 1549.52 166.701 1544.94 Q163.645 1540.33 163.645 1531.6 Q163.645 1522.85 166.701 1518.27 Q169.78 1513.66 175.59 1513.66 Z\" fill=\"#000000\" fill-rule=\"nonzero\" fill-opacity=\"1\" /><path clip-path=\"url(#clip100)\" d=\"M650.641 1544.91 L666.96 1544.91 L666.96 1548.85 L645.016 1548.85 L645.016 1544.91 Q647.678 1542.16 652.261 1537.53 Q656.868 1532.88 658.048 1531.53 Q660.294 1529.01 661.173 1527.27 Q662.076 1525.51 662.076 1523.82 Q662.076 1521.07 660.132 1519.33 Q658.211 1517.6 655.109 1517.6 Q652.91 1517.6 650.456 1518.36 Q648.025 1519.13 645.248 1520.68 L645.248 1515.95 Q648.072 1514.82 650.525 1514.24 Q652.979 1513.66 655.016 1513.66 Q660.386 1513.66 663.581 1516.35 Q666.775 1519.03 666.775 1523.52 Q666.775 1525.65 665.965 1527.57 Q665.178 1529.47 663.072 1532.07 Q662.493 1532.74 659.391 1535.95 Q656.289 1539.15 650.641 1544.91 Z\" fill=\"#000000\" fill-rule=\"nonzero\" fill-opacity=\"1\" /><path clip-path=\"url(#clip100)\" d=\"M1139.4 1518.36 L1127.59 1536.81 L1139.4 1536.81 L1139.4 1518.36 M1138.17 1514.29 L1144.05 1514.29 L1144.05 1536.81 L1148.98 1536.81 L1148.98 1540.7 L1144.05 1540.7 L1144.05 1548.85 L1139.4 1548.85 L1139.4 1540.7 L1123.79 1540.7 L1123.79 1536.19 L1138.17 1514.29 Z\" fill=\"#000000\" fill-rule=\"nonzero\" fill-opacity=\"1\" /><path clip-path=\"url(#clip100)\" d=\"M1617.19 1529.7 Q1614.04 1529.7 1612.19 1531.86 Q1610.36 1534.01 1610.36 1537.76 Q1610.36 1541.49 1612.19 1543.66 Q1614.04 1545.82 1617.19 1545.82 Q1620.34 1545.82 1622.17 1543.66 Q1624.02 1541.49 1624.02 1537.76 Q1624.02 1534.01 1622.17 1531.86 Q1620.34 1529.7 1617.19 1529.7 M1626.47 1515.05 L1626.47 1519.31 Q1624.71 1518.48 1622.91 1518.04 Q1621.13 1517.6 1619.37 1517.6 Q1614.74 1517.6 1612.28 1520.72 Q1609.85 1523.85 1609.51 1530.17 Q1610.87 1528.15 1612.93 1527.09 Q1614.99 1526 1617.47 1526 Q1622.68 1526 1625.69 1529.17 Q1628.72 1532.32 1628.72 1537.76 Q1628.72 1543.08 1625.57 1546.3 Q1622.42 1549.52 1617.19 1549.52 Q1611.2 1549.52 1608.02 1544.94 Q1604.85 1540.33 1604.85 1531.6 Q1604.85 1523.41 1608.74 1518.55 Q1612.63 1513.66 1619.18 1513.66 Q1620.94 1513.66 1622.72 1514.01 Q1624.53 1514.36 1626.47 1515.05 Z\" fill=\"#000000\" fill-rule=\"nonzero\" fill-opacity=\"1\" /><path clip-path=\"url(#clip100)\" d=\"M2097.18 1532.44 Q2093.85 1532.44 2091.93 1534.22 Q2090.03 1536 2090.03 1539.13 Q2090.03 1542.25 2091.93 1544.03 Q2093.85 1545.82 2097.18 1545.82 Q2100.52 1545.82 2102.44 1544.03 Q2104.36 1542.23 2104.36 1539.13 Q2104.36 1536 2102.44 1534.22 Q2100.54 1532.44 2097.18 1532.44 M2092.51 1530.45 Q2089.5 1529.7 2087.81 1527.64 Q2086.14 1525.58 2086.14 1522.62 Q2086.14 1518.48 2089.08 1516.07 Q2092.05 1513.66 2097.18 1513.66 Q2102.35 1513.66 2105.29 1516.07 Q2108.23 1518.48 2108.23 1522.62 Q2108.23 1525.58 2106.54 1527.64 Q2104.87 1529.7 2101.88 1530.45 Q2105.26 1531.23 2107.14 1533.52 Q2109.04 1535.82 2109.04 1539.13 Q2109.04 1544.15 2105.96 1546.83 Q2102.9 1549.52 2097.18 1549.52 Q2091.47 1549.52 2088.39 1546.83 Q2085.33 1544.15 2085.33 1539.13 Q2085.33 1535.82 2087.23 1533.52 Q2089.13 1531.23 2092.51 1530.45 M2090.8 1523.06 Q2090.8 1525.75 2092.46 1527.25 Q2094.15 1528.76 2097.18 1528.76 Q2100.19 1528.76 2101.88 1527.25 Q2103.6 1525.75 2103.6 1523.06 Q2103.6 1520.38 2101.88 1518.87 Q2100.19 1517.37 2097.18 1517.37 Q2094.15 1517.37 2092.46 1518.87 Q2090.8 1520.38 2090.8 1523.06 Z\" fill=\"#000000\" fill-rule=\"nonzero\" fill-opacity=\"1\" /><polyline clip-path=\"url(#clip102)\" style=\"stroke:#000000; stroke-linecap:round; stroke-linejoin:round; stroke-width:2; stroke-opacity:0.1; fill:none\" points=\"112.177,1445.72 2352.76,1445.72 \"/>\n",
       "<polyline clip-path=\"url(#clip102)\" style=\"stroke:#000000; stroke-linecap:round; stroke-linejoin:round; stroke-width:2; stroke-opacity:0.1; fill:none\" points=\"112.177,1063.25 2352.76,1063.25 \"/>\n",
       "<polyline clip-path=\"url(#clip102)\" style=\"stroke:#000000; stroke-linecap:round; stroke-linejoin:round; stroke-width:2; stroke-opacity:0.1; fill:none\" points=\"112.177,680.792 2352.76,680.792 \"/>\n",
       "<polyline clip-path=\"url(#clip102)\" style=\"stroke:#000000; stroke-linecap:round; stroke-linejoin:round; stroke-width:2; stroke-opacity:0.1; fill:none\" points=\"112.177,298.33 2352.76,298.33 \"/>\n",
       "<polyline clip-path=\"url(#clip100)\" style=\"stroke:#000000; stroke-linecap:round; stroke-linejoin:round; stroke-width:4; stroke-opacity:1; fill:none\" points=\"112.177,1486.45 112.177,47.2441 \"/>\n",
       "<polyline clip-path=\"url(#clip100)\" style=\"stroke:#000000; stroke-linecap:round; stroke-linejoin:round; stroke-width:4; stroke-opacity:1; fill:none\" points=\"112.177,1445.72 131.075,1445.72 \"/>\n",
       "<polyline clip-path=\"url(#clip100)\" style=\"stroke:#000000; stroke-linecap:round; stroke-linejoin:round; stroke-width:4; stroke-opacity:1; fill:none\" points=\"112.177,1063.25 131.075,1063.25 \"/>\n",
       "<polyline clip-path=\"url(#clip100)\" style=\"stroke:#000000; stroke-linecap:round; stroke-linejoin:round; stroke-width:4; stroke-opacity:1; fill:none\" points=\"112.177,680.792 131.075,680.792 \"/>\n",
       "<polyline clip-path=\"url(#clip100)\" style=\"stroke:#000000; stroke-linecap:round; stroke-linejoin:round; stroke-width:4; stroke-opacity:1; fill:none\" points=\"112.177,298.33 131.075,298.33 \"/>\n",
       "<path clip-path=\"url(#clip100)\" d=\"M59.8578 1459.06 L76.1772 1459.06 L76.1772 1463 L54.2328 1463 L54.2328 1459.06 Q56.8949 1456.31 61.4782 1451.68 Q66.0846 1447.02 67.2652 1445.68 Q69.5105 1443.16 70.3902 1441.42 Q71.2929 1439.66 71.2929 1437.97 Q71.2929 1435.22 69.3485 1433.48 Q67.4272 1431.75 64.3254 1431.75 Q62.1263 1431.75 59.6726 1432.51 Q57.2421 1433.27 54.4643 1434.82 L54.4643 1430.1 Q57.2884 1428.97 59.7421 1428.39 Q62.1958 1427.81 64.2328 1427.81 Q69.6031 1427.81 72.7976 1430.5 Q75.992 1433.18 75.992 1437.67 Q75.992 1439.8 75.1818 1441.72 Q74.3948 1443.62 72.2883 1446.21 Q71.7096 1446.88 68.6078 1450.1 Q65.5059 1453.3 59.8578 1459.06 Z\" fill=\"#000000\" fill-rule=\"nonzero\" fill-opacity=\"1\" /><path clip-path=\"url(#clip100)\" d=\"M66.5939 1050.05 L54.7884 1068.5 L66.5939 1068.5 L66.5939 1050.05 M65.367 1045.97 L71.2466 1045.97 L71.2466 1068.5 L76.1772 1068.5 L76.1772 1072.39 L71.2466 1072.39 L71.2466 1080.53 L66.5939 1080.53 L66.5939 1072.39 L50.9921 1072.39 L50.9921 1067.87 L65.367 1045.97 Z\" fill=\"#000000\" fill-rule=\"nonzero\" fill-opacity=\"1\" /><path clip-path=\"url(#clip100)\" d=\"M64.6495 678.929 Q61.5013 678.929 59.6495 681.081 Q57.8208 683.234 57.8208 686.984 Q57.8208 690.711 59.6495 692.887 Q61.5013 695.04 64.6495 695.04 Q67.7976 695.04 69.6263 692.887 Q71.4781 690.711 71.4781 686.984 Q71.4781 683.234 69.6263 681.081 Q67.7976 678.929 64.6495 678.929 M73.9318 664.276 L73.9318 668.535 Q72.1726 667.702 70.367 667.262 Q68.5846 666.822 66.8254 666.822 Q62.1958 666.822 59.7421 669.947 Q57.3115 673.072 56.9643 679.392 Q58.33 677.378 60.3902 676.313 Q62.4504 675.225 64.9272 675.225 Q70.1355 675.225 73.1448 678.396 Q76.1772 681.544 76.1772 686.984 Q76.1772 692.308 73.029 695.526 Q69.8809 698.743 64.6495 698.743 Q58.6541 698.743 55.4828 694.16 Q52.3116 689.554 52.3116 680.827 Q52.3116 672.632 56.2004 667.771 Q60.0893 662.887 66.6402 662.887 Q68.3994 662.887 70.1818 663.234 Q71.9874 663.582 73.9318 664.276 Z\" fill=\"#000000\" fill-rule=\"nonzero\" fill-opacity=\"1\" /><path clip-path=\"url(#clip100)\" d=\"M64.3254 299.198 Q60.9921 299.198 59.0708 300.981 Q57.1726 302.763 57.1726 305.888 Q57.1726 309.013 59.0708 310.795 Q60.9921 312.578 64.3254 312.578 Q67.6587 312.578 69.58 310.795 Q71.5013 308.99 71.5013 305.888 Q71.5013 302.763 69.58 300.981 Q67.6819 299.198 64.3254 299.198 M59.6495 297.208 Q56.6402 296.467 54.9504 294.407 Q53.2838 292.347 53.2838 289.384 Q53.2838 285.24 56.2236 282.833 Q59.1865 280.425 64.3254 280.425 Q69.4874 280.425 72.4272 282.833 Q75.367 285.24 75.367 289.384 Q75.367 292.347 73.6772 294.407 Q72.0105 296.467 69.0244 297.208 Q72.404 297.995 74.279 300.286 Q76.1772 302.578 76.1772 305.888 Q76.1772 310.911 73.0985 313.596 Q70.0429 316.282 64.3254 316.282 Q58.6078 316.282 55.5291 313.596 Q52.4736 310.911 52.4736 305.888 Q52.4736 302.578 54.3717 300.286 Q56.2699 297.995 59.6495 297.208 M57.9365 289.823 Q57.9365 292.509 59.6032 294.013 Q61.293 295.518 64.3254 295.518 Q67.3346 295.518 69.0244 294.013 Q70.7374 292.509 70.7374 289.823 Q70.7374 287.138 69.0244 285.634 Q67.3346 284.129 64.3254 284.129 Q61.293 284.129 59.6032 285.634 Q57.9365 287.138 57.9365 289.823 Z\" fill=\"#000000\" fill-rule=\"nonzero\" fill-opacity=\"1\" /><polyline clip-path=\"url(#clip102)\" style=\"stroke:#009af9; stroke-linecap:round; stroke-linejoin:round; stroke-width:4; stroke-opacity:1; fill:none\" points=\"175.59,1254.48 1136.39,1445.72 2289.34,87.9763 175.59,1254.48 \"/>\n",
       "<path clip-path=\"url(#clip100)\" d=\"M186.863 198.898 L490.921 198.898 L490.921 95.2176 L186.863 95.2176  Z\" fill=\"#ffffff\" fill-rule=\"evenodd\" fill-opacity=\"1\"/>\n",
       "<polyline clip-path=\"url(#clip100)\" style=\"stroke:#000000; stroke-linecap:round; stroke-linejoin:round; stroke-width:4; stroke-opacity:1; fill:none\" points=\"186.863,198.898 490.921,198.898 490.921,95.2176 186.863,95.2176 186.863,198.898 \"/>\n",
       "<polyline clip-path=\"url(#clip100)\" style=\"stroke:#009af9; stroke-linecap:round; stroke-linejoin:round; stroke-width:4; stroke-opacity:1; fill:none\" points=\"211.758,147.058 361.13,147.058 \"/>\n",
       "<path clip-path=\"url(#clip100)\" d=\"M399.428 151.305 Q394.266 151.305 392.276 152.486 Q390.285 153.666 390.285 156.514 Q390.285 158.782 391.766 160.125 Q393.271 161.444 395.84 161.444 Q399.382 161.444 401.512 158.944 Q403.664 156.421 403.664 152.254 L403.664 151.305 L399.428 151.305 M407.924 149.546 L407.924 164.338 L403.664 164.338 L403.664 160.402 Q402.206 162.763 400.03 163.898 Q397.854 165.009 394.706 165.009 Q390.725 165.009 388.364 162.787 Q386.026 160.541 386.026 156.791 Q386.026 152.416 388.942 150.194 Q391.882 147.972 397.692 147.972 L403.664 147.972 L403.664 147.555 Q403.664 144.615 401.72 143.018 Q399.799 141.398 396.303 141.398 Q394.081 141.398 391.975 141.93 Q389.868 142.463 387.924 143.527 L387.924 139.592 Q390.262 138.69 392.461 138.25 Q394.66 137.787 396.743 137.787 Q402.368 137.787 405.146 140.703 Q407.924 143.62 407.924 149.546 Z\" fill=\"#000000\" fill-rule=\"nonzero\" fill-opacity=\"1\" /><path clip-path=\"url(#clip100)\" d=\"M428.479 151.305 Q423.317 151.305 421.326 152.486 Q419.336 153.666 419.336 156.514 Q419.336 158.782 420.817 160.125 Q422.322 161.444 424.891 161.444 Q428.433 161.444 430.562 158.944 Q432.715 156.421 432.715 152.254 L432.715 151.305 L428.479 151.305 M436.974 149.546 L436.974 164.338 L432.715 164.338 L432.715 160.402 Q431.257 162.763 429.081 163.898 Q426.905 165.009 423.757 165.009 Q419.776 165.009 417.414 162.787 Q415.076 160.541 415.076 156.791 Q415.076 152.416 417.993 150.194 Q420.933 147.972 426.743 147.972 L432.715 147.972 L432.715 147.555 Q432.715 144.615 430.771 143.018 Q428.85 141.398 425.354 141.398 Q423.132 141.398 421.026 141.93 Q418.919 142.463 416.975 143.527 L416.975 139.592 Q419.313 138.69 421.512 138.25 Q423.711 137.787 425.794 137.787 Q431.419 137.787 434.197 140.703 Q436.974 143.62 436.974 149.546 Z\" fill=\"#000000\" fill-rule=\"nonzero\" fill-opacity=\"1\" /><path clip-path=\"url(#clip100)\" d=\"M457.53 151.305 Q452.368 151.305 450.377 152.486 Q448.386 153.666 448.386 156.514 Q448.386 158.782 449.868 160.125 Q451.373 161.444 453.942 161.444 Q457.484 161.444 459.613 158.944 Q461.766 156.421 461.766 152.254 L461.766 151.305 L457.53 151.305 M466.025 149.546 L466.025 164.338 L461.766 164.338 L461.766 160.402 Q460.308 162.763 458.132 163.898 Q455.956 165.009 452.808 165.009 Q448.826 165.009 446.465 162.787 Q444.127 160.541 444.127 156.791 Q444.127 152.416 447.044 150.194 Q449.984 147.972 455.794 147.972 L461.766 147.972 L461.766 147.555 Q461.766 144.615 459.822 143.018 Q457.9 141.398 454.405 141.398 Q452.183 141.398 450.076 141.93 Q447.97 142.463 446.025 143.527 L446.025 139.592 Q448.363 138.69 450.562 138.25 Q452.761 137.787 454.845 137.787 Q460.47 137.787 463.247 140.703 Q466.025 143.62 466.025 149.546 Z\" fill=\"#000000\" fill-rule=\"nonzero\" fill-opacity=\"1\" /></svg>\n"
      ]
     },
     "metadata": {},
     "output_type": "display_data"
    }
   ],
   "source": [
    "plot([A[1], B[1], C[1], A[1]], [A[2], B[2], C[2], A[2]], label=\"aaa\")"
   ]
  },
  {
   "cell_type": "code",
   "execution_count": 9,
   "metadata": {},
   "outputs": [
    {
     "data": {
      "image/png": "[encoded data removed]",
      "image/svg+xml": [
       "<?xml version=\"1.0\" encoding=\"utf-8\"?>\n",
       "<svg xmlns=\"http://www.w3.org/2000/svg\" xmlns:xlink=\"http://www.w3.org/1999/xlink\" width=\"600\" height=\"400\" viewBox=\"0 0 2400 1600\">\n",
       "<defs>\n",
       "  <clipPath id=\"clip140\">\n",
       "    <rect x=\"0\" y=\"0\" width=\"2400\" height=\"1600\"/>\n",
       "  </clipPath>\n",
       "</defs>\n",
       "<path clip-path=\"url(#clip140)\" d=\"M0 1600 L2400 1600 L2400 0 L0 0  Z\" fill=\"#ffffff\" fill-rule=\"evenodd\" fill-opacity=\"1\"/>\n",
       "<defs>\n",
       "  <clipPath id=\"clip141\">\n",
       "    <rect x=\"480\" y=\"0\" width=\"1681\" height=\"1600\"/>\n",
       "  </clipPath>\n",
       "</defs>\n",
       "<path clip-path=\"url(#clip140)\" d=\"M112.177 1486.45 L2352.76 1486.45 L2352.76 47.2441 L112.177 47.2441  Z\" fill=\"#ffffff\" fill-rule=\"evenodd\" fill-opacity=\"1\"/>\n",
       "<defs>\n",
       "  <clipPath id=\"clip142\">\n",
       "    <rect x=\"112\" y=\"47\" width=\"2242\" height=\"1440\"/>\n",
       "  </clipPath>\n",
       "</defs>\n",
       "<polyline clip-path=\"url(#clip142)\" style=\"stroke:#000000; stroke-linecap:round; stroke-linejoin:round; stroke-width:2; stroke-opacity:0.1; fill:none\" points=\"175.59,1486.45 175.59,47.2441 \"/>\n",
       "<polyline clip-path=\"url(#clip142)\" style=\"stroke:#000000; stroke-linecap:round; stroke-linejoin:round; stroke-width:2; stroke-opacity:0.1; fill:none\" points=\"655.988,1486.45 655.988,47.2441 \"/>\n",
       "<polyline clip-path=\"url(#clip142)\" style=\"stroke:#000000; stroke-linecap:round; stroke-linejoin:round; stroke-width:2; stroke-opacity:0.1; fill:none\" points=\"1136.39,1486.45 1136.39,47.2441 \"/>\n",
       "<polyline clip-path=\"url(#clip142)\" style=\"stroke:#000000; stroke-linecap:round; stroke-linejoin:round; stroke-width:2; stroke-opacity:0.1; fill:none\" points=\"1616.79,1486.45 1616.79,47.2441 \"/>\n",
       "<polyline clip-path=\"url(#clip142)\" style=\"stroke:#000000; stroke-linecap:round; stroke-linejoin:round; stroke-width:2; stroke-opacity:0.1; fill:none\" points=\"2097.18,1486.45 2097.18,47.2441 \"/>\n",
       "<polyline clip-path=\"url(#clip140)\" style=\"stroke:#000000; stroke-linecap:round; stroke-linejoin:round; stroke-width:4; stroke-opacity:1; fill:none\" points=\"112.177,1486.45 2352.76,1486.45 \"/>\n",
       "<polyline clip-path=\"url(#clip140)\" style=\"stroke:#000000; stroke-linecap:round; stroke-linejoin:round; stroke-width:4; stroke-opacity:1; fill:none\" points=\"175.59,1486.45 175.59,1467.55 \"/>\n",
       "<polyline clip-path=\"url(#clip140)\" style=\"stroke:#000000; stroke-linecap:round; stroke-linejoin:round; stroke-width:4; stroke-opacity:1; fill:none\" points=\"655.988,1486.45 655.988,1467.55 \"/>\n",
       "<polyline clip-path=\"url(#clip140)\" style=\"stroke:#000000; stroke-linecap:round; stroke-linejoin:round; stroke-width:4; stroke-opacity:1; fill:none\" points=\"1136.39,1486.45 1136.39,1467.55 \"/>\n",
       "<polyline clip-path=\"url(#clip140)\" style=\"stroke:#000000; stroke-linecap:round; stroke-linejoin:round; stroke-width:4; stroke-opacity:1; fill:none\" points=\"1616.79,1486.45 1616.79,1467.55 \"/>\n",
       "<polyline clip-path=\"url(#clip140)\" style=\"stroke:#000000; stroke-linecap:round; stroke-linejoin:round; stroke-width:4; stroke-opacity:1; fill:none\" points=\"2097.18,1486.45 2097.18,1467.55 \"/>\n",
       "<path clip-path=\"url(#clip140)\" d=\"M175.59 1517.37 Q171.979 1517.37 170.15 1520.93 Q168.344 1524.47 168.344 1531.6 Q168.344 1538.71 170.15 1542.27 Q171.979 1545.82 175.59 1545.82 Q179.224 1545.82 181.03 1542.27 Q182.858 1538.71 182.858 1531.6 Q182.858 1524.47 181.03 1520.93 Q179.224 1517.37 175.59 1517.37 M175.59 1513.66 Q181.4 1513.66 184.455 1518.27 Q187.534 1522.85 187.534 1531.6 Q187.534 1540.33 184.455 1544.94 Q181.4 1549.52 175.59 1549.52 Q169.78 1549.52 166.701 1544.94 Q163.645 1540.33 163.645 1531.6 Q163.645 1522.85 166.701 1518.27 Q169.78 1513.66 175.59 1513.66 Z\" fill=\"#000000\" fill-rule=\"nonzero\" fill-opacity=\"1\" /><path clip-path=\"url(#clip140)\" d=\"M650.641 1544.91 L666.96 1544.91 L666.96 1548.85 L645.016 1548.85 L645.016 1544.91 Q647.678 1542.16 652.261 1537.53 Q656.868 1532.88 658.048 1531.53 Q660.294 1529.01 661.173 1527.27 Q662.076 1525.51 662.076 1523.82 Q662.076 1521.07 660.132 1519.33 Q658.211 1517.6 655.109 1517.6 Q652.91 1517.6 650.456 1518.36 Q648.025 1519.13 645.248 1520.68 L645.248 1515.95 Q648.072 1514.82 650.525 1514.24 Q652.979 1513.66 655.016 1513.66 Q660.386 1513.66 663.581 1516.35 Q666.775 1519.03 666.775 1523.52 Q666.775 1525.65 665.965 1527.57 Q665.178 1529.47 663.072 1532.07 Q662.493 1532.74 659.391 1535.95 Q656.289 1539.15 650.641 1544.91 Z\" fill=\"#000000\" fill-rule=\"nonzero\" fill-opacity=\"1\" /><path clip-path=\"url(#clip140)\" d=\"M1139.4 1518.36 L1127.59 1536.81 L1139.4 1536.81 L1139.4 1518.36 M1138.17 1514.29 L1144.05 1514.29 L1144.05 1536.81 L1148.98 1536.81 L1148.98 1540.7 L1144.05 1540.7 L1144.05 1548.85 L1139.4 1548.85 L1139.4 1540.7 L1123.79 1540.7 L1123.79 1536.19 L1138.17 1514.29 Z\" fill=\"#000000\" fill-rule=\"nonzero\" fill-opacity=\"1\" /><path clip-path=\"url(#clip140)\" d=\"M1617.19 1529.7 Q1614.04 1529.7 1612.19 1531.86 Q1610.36 1534.01 1610.36 1537.76 Q1610.36 1541.49 1612.19 1543.66 Q1614.04 1545.82 1617.19 1545.82 Q1620.34 1545.82 1622.17 1543.66 Q1624.02 1541.49 1624.02 1537.76 Q1624.02 1534.01 1622.17 1531.86 Q1620.34 1529.7 1617.19 1529.7 M1626.47 1515.05 L1626.47 1519.31 Q1624.71 1518.48 1622.91 1518.04 Q1621.13 1517.6 1619.37 1517.6 Q1614.74 1517.6 1612.28 1520.72 Q1609.85 1523.85 1609.51 1530.17 Q1610.87 1528.15 1612.93 1527.09 Q1614.99 1526 1617.47 1526 Q1622.68 1526 1625.69 1529.17 Q1628.72 1532.32 1628.72 1537.76 Q1628.72 1543.08 1625.57 1546.3 Q1622.42 1549.52 1617.19 1549.52 Q1611.2 1549.52 1608.02 1544.94 Q1604.85 1540.33 1604.85 1531.6 Q1604.85 1523.41 1608.74 1518.55 Q1612.63 1513.66 1619.18 1513.66 Q1620.94 1513.66 1622.72 1514.01 Q1624.53 1514.36 1626.47 1515.05 Z\" fill=\"#000000\" fill-rule=\"nonzero\" fill-opacity=\"1\" /><path clip-path=\"url(#clip140)\" d=\"M2097.18 1532.44 Q2093.85 1532.44 2091.93 1534.22 Q2090.03 1536 2090.03 1539.13 Q2090.03 1542.25 2091.93 1544.03 Q2093.85 1545.82 2097.18 1545.82 Q2100.52 1545.82 2102.44 1544.03 Q2104.36 1542.23 2104.36 1539.13 Q2104.36 1536 2102.44 1534.22 Q2100.54 1532.44 2097.18 1532.44 M2092.51 1530.45 Q2089.5 1529.7 2087.81 1527.64 Q2086.14 1525.58 2086.14 1522.62 Q2086.14 1518.48 2089.08 1516.07 Q2092.05 1513.66 2097.18 1513.66 Q2102.35 1513.66 2105.29 1516.07 Q2108.23 1518.48 2108.23 1522.62 Q2108.23 1525.58 2106.54 1527.64 Q2104.87 1529.7 2101.88 1530.45 Q2105.26 1531.23 2107.14 1533.52 Q2109.04 1535.82 2109.04 1539.13 Q2109.04 1544.15 2105.96 1546.83 Q2102.9 1549.52 2097.18 1549.52 Q2091.47 1549.52 2088.39 1546.83 Q2085.33 1544.15 2085.33 1539.13 Q2085.33 1535.82 2087.23 1533.52 Q2089.13 1531.23 2092.51 1530.45 M2090.8 1523.06 Q2090.8 1525.75 2092.46 1527.25 Q2094.15 1528.76 2097.18 1528.76 Q2100.19 1528.76 2101.88 1527.25 Q2103.6 1525.75 2103.6 1523.06 Q2103.6 1520.38 2101.88 1518.87 Q2100.19 1517.37 2097.18 1517.37 Q2094.15 1517.37 2092.46 1518.87 Q2090.8 1520.38 2090.8 1523.06 Z\" fill=\"#000000\" fill-rule=\"nonzero\" fill-opacity=\"1\" /><polyline clip-path=\"url(#clip142)\" style=\"stroke:#000000; stroke-linecap:round; stroke-linejoin:round; stroke-width:2; stroke-opacity:0.1; fill:none\" points=\"112.177,1445.72 2352.76,1445.72 \"/>\n",
       "<polyline clip-path=\"url(#clip142)\" style=\"stroke:#000000; stroke-linecap:round; stroke-linejoin:round; stroke-width:2; stroke-opacity:0.1; fill:none\" points=\"112.177,1063.25 2352.76,1063.25 \"/>\n",
       "<polyline clip-path=\"url(#clip142)\" style=\"stroke:#000000; stroke-linecap:round; stroke-linejoin:round; stroke-width:2; stroke-opacity:0.1; fill:none\" points=\"112.177,680.792 2352.76,680.792 \"/>\n",
       "<polyline clip-path=\"url(#clip142)\" style=\"stroke:#000000; stroke-linecap:round; stroke-linejoin:round; stroke-width:2; stroke-opacity:0.1; fill:none\" points=\"112.177,298.33 2352.76,298.33 \"/>\n",
       "<polyline clip-path=\"url(#clip140)\" style=\"stroke:#000000; stroke-linecap:round; stroke-linejoin:round; stroke-width:4; stroke-opacity:1; fill:none\" points=\"112.177,1486.45 112.177,47.2441 \"/>\n",
       "<polyline clip-path=\"url(#clip140)\" style=\"stroke:#000000; stroke-linecap:round; stroke-linejoin:round; stroke-width:4; stroke-opacity:1; fill:none\" points=\"112.177,1445.72 131.075,1445.72 \"/>\n",
       "<polyline clip-path=\"url(#clip140)\" style=\"stroke:#000000; stroke-linecap:round; stroke-linejoin:round; stroke-width:4; stroke-opacity:1; fill:none\" points=\"112.177,1063.25 131.075,1063.25 \"/>\n",
       "<polyline clip-path=\"url(#clip140)\" style=\"stroke:#000000; stroke-linecap:round; stroke-linejoin:round; stroke-width:4; stroke-opacity:1; fill:none\" points=\"112.177,680.792 131.075,680.792 \"/>\n",
       "<polyline clip-path=\"url(#clip140)\" style=\"stroke:#000000; stroke-linecap:round; stroke-linejoin:round; stroke-width:4; stroke-opacity:1; fill:none\" points=\"112.177,298.33 131.075,298.33 \"/>\n",
       "<path clip-path=\"url(#clip140)\" d=\"M59.8578 1459.06 L76.1772 1459.06 L76.1772 1463 L54.2328 1463 L54.2328 1459.06 Q56.8949 1456.31 61.4782 1451.68 Q66.0846 1447.02 67.2652 1445.68 Q69.5105 1443.16 70.3902 1441.42 Q71.2929 1439.66 71.2929 1437.97 Q71.2929 1435.22 69.3485 1433.48 Q67.4272 1431.75 64.3254 1431.75 Q62.1263 1431.75 59.6726 1432.51 Q57.2421 1433.27 54.4643 1434.82 L54.4643 1430.1 Q57.2884 1428.97 59.7421 1428.39 Q62.1958 1427.81 64.2328 1427.81 Q69.6031 1427.81 72.7976 1430.5 Q75.992 1433.18 75.992 1437.67 Q75.992 1439.8 75.1818 1441.72 Q74.3948 1443.62 72.2883 1446.21 Q71.7096 1446.88 68.6078 1450.1 Q65.5059 1453.3 59.8578 1459.06 Z\" fill=\"#000000\" fill-rule=\"nonzero\" fill-opacity=\"1\" /><path clip-path=\"url(#clip140)\" d=\"M66.5939 1050.05 L54.7884 1068.5 L66.5939 1068.5 L66.5939 1050.05 M65.367 1045.97 L71.2466 1045.97 L71.2466 1068.5 L76.1772 1068.5 L76.1772 1072.39 L71.2466 1072.39 L71.2466 1080.53 L66.5939 1080.53 L66.5939 1072.39 L50.9921 1072.39 L50.9921 1067.87 L65.367 1045.97 Z\" fill=\"#000000\" fill-rule=\"nonzero\" fill-opacity=\"1\" /><path clip-path=\"url(#clip140)\" d=\"M64.6495 678.929 Q61.5013 678.929 59.6495 681.081 Q57.8208 683.234 57.8208 686.984 Q57.8208 690.711 59.6495 692.887 Q61.5013 695.04 64.6495 695.04 Q67.7976 695.04 69.6263 692.887 Q71.4781 690.711 71.4781 686.984 Q71.4781 683.234 69.6263 681.081 Q67.7976 678.929 64.6495 678.929 M73.9318 664.276 L73.9318 668.535 Q72.1726 667.702 70.367 667.262 Q68.5846 666.822 66.8254 666.822 Q62.1958 666.822 59.7421 669.947 Q57.3115 673.072 56.9643 679.392 Q58.33 677.378 60.3902 676.313 Q62.4504 675.225 64.9272 675.225 Q70.1355 675.225 73.1448 678.396 Q76.1772 681.544 76.1772 686.984 Q76.1772 692.308 73.029 695.526 Q69.8809 698.743 64.6495 698.743 Q58.6541 698.743 55.4828 694.16 Q52.3116 689.554 52.3116 680.827 Q52.3116 672.632 56.2004 667.771 Q60.0893 662.887 66.6402 662.887 Q68.3994 662.887 70.1818 663.234 Q71.9874 663.582 73.9318 664.276 Z\" fill=\"#000000\" fill-rule=\"nonzero\" fill-opacity=\"1\" /><path clip-path=\"url(#clip140)\" d=\"M64.3254 299.198 Q60.9921 299.198 59.0708 300.981 Q57.1726 302.763 57.1726 305.888 Q57.1726 309.013 59.0708 310.795 Q60.9921 312.578 64.3254 312.578 Q67.6587 312.578 69.58 310.795 Q71.5013 308.99 71.5013 305.888 Q71.5013 302.763 69.58 300.981 Q67.6819 299.198 64.3254 299.198 M59.6495 297.208 Q56.6402 296.467 54.9504 294.407 Q53.2838 292.347 53.2838 289.384 Q53.2838 285.24 56.2236 282.833 Q59.1865 280.425 64.3254 280.425 Q69.4874 280.425 72.4272 282.833 Q75.367 285.24 75.367 289.384 Q75.367 292.347 73.6772 294.407 Q72.0105 296.467 69.0244 297.208 Q72.404 297.995 74.279 300.286 Q76.1772 302.578 76.1772 305.888 Q76.1772 310.911 73.0985 313.596 Q70.0429 316.282 64.3254 316.282 Q58.6078 316.282 55.5291 313.596 Q52.4736 310.911 52.4736 305.888 Q52.4736 302.578 54.3717 300.286 Q56.2699 297.995 59.6495 297.208 M57.9365 289.823 Q57.9365 292.509 59.6032 294.013 Q61.293 295.518 64.3254 295.518 Q67.3346 295.518 69.0244 294.013 Q70.7374 292.509 70.7374 289.823 Q70.7374 287.138 69.0244 285.634 Q67.3346 284.129 64.3254 284.129 Q61.293 284.129 59.6032 285.634 Q57.9365 287.138 57.9365 289.823 Z\" fill=\"#000000\" fill-rule=\"nonzero\" fill-opacity=\"1\" /><polyline clip-path=\"url(#clip142)\" style=\"stroke:#009af9; stroke-linecap:round; stroke-linejoin:round; stroke-width:4; stroke-opacity:1; fill:none\" points=\"175.59,1254.48 1136.39,1445.72 2289.34,87.9763 175.59,1254.48 \"/>\n",
       "<path clip-path=\"url(#clip140)\" d=\"M186.863 198.898 L589.902 198.898 L589.902 95.2176 L186.863 95.2176  Z\" fill=\"#ffffff\" fill-rule=\"evenodd\" fill-opacity=\"1\"/>\n",
       "<polyline clip-path=\"url(#clip140)\" style=\"stroke:#000000; stroke-linecap:round; stroke-linejoin:round; stroke-width:4; stroke-opacity:1; fill:none\" points=\"186.863,198.898 589.902,198.898 589.902,95.2176 186.863,95.2176 186.863,198.898 \"/>\n",
       "<polyline clip-path=\"url(#clip140)\" style=\"stroke:#009af9; stroke-linecap:round; stroke-linejoin:round; stroke-width:4; stroke-opacity:1; fill:none\" points=\"211.758,147.058 361.13,147.058 \"/>\n",
       "<path clip-path=\"url(#clip140)\" d=\"M393.433 131.051 L393.433 138.412 L402.206 138.412 L402.206 141.722 L393.433 141.722 L393.433 155.796 Q393.433 158.967 394.29 159.87 Q395.169 160.773 397.831 160.773 L402.206 160.773 L402.206 164.338 L397.831 164.338 Q392.901 164.338 391.026 162.509 Q389.151 160.657 389.151 155.796 L389.151 141.722 L386.026 141.722 L386.026 138.412 L389.151 138.412 L389.151 131.051 L393.433 131.051 Z\" fill=\"#000000\" fill-rule=\"nonzero\" fill-opacity=\"1\" /><path clip-path=\"url(#clip140)\" d=\"M422.831 142.393 Q422.113 141.977 421.257 141.791 Q420.424 141.583 419.405 141.583 Q415.794 141.583 413.85 143.944 Q411.928 146.282 411.928 150.68 L411.928 164.338 L407.646 164.338 L407.646 138.412 L411.928 138.412 L411.928 142.44 Q413.271 140.078 415.424 138.944 Q417.576 137.787 420.655 137.787 Q421.095 137.787 421.627 137.856 Q422.16 137.903 422.808 138.018 L422.831 142.393 Z\" fill=\"#000000\" fill-rule=\"nonzero\" fill-opacity=\"1\" /><path clip-path=\"url(#clip140)\" d=\"M427.299 138.412 L431.558 138.412 L431.558 164.338 L427.299 164.338 L427.299 138.412 M427.299 128.319 L431.558 128.319 L431.558 133.713 L427.299 133.713 L427.299 128.319 Z\" fill=\"#000000\" fill-rule=\"nonzero\" fill-opacity=\"1\" /><path clip-path=\"url(#clip140)\" d=\"M452.252 151.305 Q447.09 151.305 445.099 152.486 Q443.109 153.666 443.109 156.514 Q443.109 158.782 444.59 160.125 Q446.095 161.444 448.664 161.444 Q452.206 161.444 454.336 158.944 Q456.488 156.421 456.488 152.254 L456.488 151.305 L452.252 151.305 M460.748 149.546 L460.748 164.338 L456.488 164.338 L456.488 160.402 Q455.03 162.763 452.854 163.898 Q450.678 165.009 447.53 165.009 Q443.549 165.009 441.187 162.787 Q438.849 160.541 438.849 156.791 Q438.849 152.416 441.766 150.194 Q444.706 147.972 450.516 147.972 L456.488 147.972 L456.488 147.555 Q456.488 144.615 454.544 143.018 Q452.623 141.398 449.127 141.398 Q446.905 141.398 444.799 141.93 Q442.692 142.463 440.748 143.527 L440.748 139.592 Q443.086 138.69 445.285 138.25 Q447.484 137.787 449.567 137.787 Q455.192 137.787 457.97 140.703 Q460.748 143.62 460.748 149.546 Z\" fill=\"#000000\" fill-rule=\"nonzero\" fill-opacity=\"1\" /><path clip-path=\"url(#clip140)\" d=\"M491.071 148.689 L491.071 164.338 L486.812 164.338 L486.812 148.828 Q486.812 145.148 485.377 143.319 Q483.942 141.49 481.071 141.49 Q477.622 141.49 475.632 143.69 Q473.641 145.889 473.641 149.685 L473.641 164.338 L469.359 164.338 L469.359 138.412 L473.641 138.412 L473.641 142.44 Q475.169 140.102 477.229 138.944 Q479.312 137.787 482.021 137.787 Q486.488 137.787 488.78 140.565 Q491.071 143.319 491.071 148.689 Z\" fill=\"#000000\" fill-rule=\"nonzero\" fill-opacity=\"1\" /><path clip-path=\"url(#clip140)\" d=\"M516.627 151.074 Q516.627 146.444 514.706 143.898 Q512.807 141.352 509.358 141.352 Q505.932 141.352 504.011 143.898 Q502.113 146.444 502.113 151.074 Q502.113 155.68 504.011 158.226 Q505.932 160.773 509.358 160.773 Q512.807 160.773 514.706 158.226 Q516.627 155.68 516.627 151.074 M520.886 161.12 Q520.886 167.74 517.946 170.958 Q515.006 174.199 508.942 174.199 Q506.696 174.199 504.706 173.851 Q502.715 173.527 500.84 172.833 L500.84 168.689 Q502.715 169.708 504.544 170.194 Q506.372 170.68 508.27 170.68 Q512.46 170.68 514.544 168.481 Q516.627 166.305 516.627 161.884 L516.627 159.777 Q515.307 162.069 513.247 163.203 Q511.187 164.338 508.317 164.338 Q503.548 164.338 500.632 160.703 Q497.715 157.069 497.715 151.074 Q497.715 145.055 500.632 141.421 Q503.548 137.787 508.317 137.787 Q511.187 137.787 513.247 138.921 Q515.307 140.055 516.627 142.347 L516.627 138.412 L520.886 138.412 L520.886 161.12 Z\" fill=\"#000000\" fill-rule=\"nonzero\" fill-opacity=\"1\" /><path clip-path=\"url(#clip140)\" d=\"M529.659 128.319 L533.918 128.319 L533.918 164.338 L529.659 164.338 L529.659 128.319 Z\" fill=\"#000000\" fill-rule=\"nonzero\" fill-opacity=\"1\" /><path clip-path=\"url(#clip140)\" d=\"M565.006 150.31 L565.006 152.393 L545.423 152.393 Q545.701 156.791 548.062 159.106 Q550.446 161.398 554.682 161.398 Q557.136 161.398 559.428 160.796 Q561.742 160.194 564.011 158.99 L564.011 163.018 Q561.719 163.99 559.312 164.5 Q556.904 165.009 554.428 165.009 Q548.224 165.009 544.59 161.398 Q540.979 157.787 540.979 151.629 Q540.979 145.264 544.404 141.537 Q547.854 137.787 553.687 137.787 Q558.918 137.787 561.951 141.166 Q565.006 144.523 565.006 150.31 M560.747 149.06 Q560.701 145.565 558.779 143.481 Q556.881 141.398 553.733 141.398 Q550.168 141.398 548.016 143.412 Q545.886 145.426 545.562 149.083 L560.747 149.06 Z\" fill=\"#000000\" fill-rule=\"nonzero\" fill-opacity=\"1\" /></svg>\n"
      ],
      "text/html": [
       "<?xml version=\"1.0\" encoding=\"utf-8\"?>\n",
       "<svg xmlns=\"http://www.w3.org/2000/svg\" xmlns:xlink=\"http://www.w3.org/1999/xlink\" width=\"600\" height=\"400\" viewBox=\"0 0 2400 1600\">\n",
       "<defs>\n",
       "  <clipPath id=\"clip190\">\n",
       "    <rect x=\"0\" y=\"0\" width=\"2400\" height=\"1600\"/>\n",
       "  </clipPath>\n",
       "</defs>\n",
       "<path clip-path=\"url(#clip190)\" d=\"M0 1600 L2400 1600 L2400 0 L0 0  Z\" fill=\"#ffffff\" fill-rule=\"evenodd\" fill-opacity=\"1\"/>\n",
       "<defs>\n",
       "  <clipPath id=\"clip191\">\n",
       "    <rect x=\"480\" y=\"0\" width=\"1681\" height=\"1600\"/>\n",
       "  </clipPath>\n",
       "</defs>\n",
       "<path clip-path=\"url(#clip190)\" d=\"M112.177 1486.45 L2352.76 1486.45 L2352.76 47.2441 L112.177 47.2441  Z\" fill=\"#ffffff\" fill-rule=\"evenodd\" fill-opacity=\"1\"/>\n",
       "<defs>\n",
       "  <clipPath id=\"clip192\">\n",
       "    <rect x=\"112\" y=\"47\" width=\"2242\" height=\"1440\"/>\n",
       "  </clipPath>\n",
       "</defs>\n",
       "<polyline clip-path=\"url(#clip192)\" style=\"stroke:#000000; stroke-linecap:round; stroke-linejoin:round; stroke-width:2; stroke-opacity:0.1; fill:none\" points=\"175.59,1486.45 175.59,47.2441 \"/>\n",
       "<polyline clip-path=\"url(#clip192)\" style=\"stroke:#000000; stroke-linecap:round; stroke-linejoin:round; stroke-width:2; stroke-opacity:0.1; fill:none\" points=\"655.988,1486.45 655.988,47.2441 \"/>\n",
       "<polyline clip-path=\"url(#clip192)\" style=\"stroke:#000000; stroke-linecap:round; stroke-linejoin:round; stroke-width:2; stroke-opacity:0.1; fill:none\" points=\"1136.39,1486.45 1136.39,47.2441 \"/>\n",
       "<polyline clip-path=\"url(#clip192)\" style=\"stroke:#000000; stroke-linecap:round; stroke-linejoin:round; stroke-width:2; stroke-opacity:0.1; fill:none\" points=\"1616.79,1486.45 1616.79,47.2441 \"/>\n",
       "<polyline clip-path=\"url(#clip192)\" style=\"stroke:#000000; stroke-linecap:round; stroke-linejoin:round; stroke-width:2; stroke-opacity:0.1; fill:none\" points=\"2097.18,1486.45 2097.18,47.2441 \"/>\n",
       "<polyline clip-path=\"url(#clip190)\" style=\"stroke:#000000; stroke-linecap:round; stroke-linejoin:round; stroke-width:4; stroke-opacity:1; fill:none\" points=\"112.177,1486.45 2352.76,1486.45 \"/>\n",
       "<polyline clip-path=\"url(#clip190)\" style=\"stroke:#000000; stroke-linecap:round; stroke-linejoin:round; stroke-width:4; stroke-opacity:1; fill:none\" points=\"175.59,1486.45 175.59,1467.55 \"/>\n",
       "<polyline clip-path=\"url(#clip190)\" style=\"stroke:#000000; stroke-linecap:round; stroke-linejoin:round; stroke-width:4; stroke-opacity:1; fill:none\" points=\"655.988,1486.45 655.988,1467.55 \"/>\n",
       "<polyline clip-path=\"url(#clip190)\" style=\"stroke:#000000; stroke-linecap:round; stroke-linejoin:round; stroke-width:4; stroke-opacity:1; fill:none\" points=\"1136.39,1486.45 1136.39,1467.55 \"/>\n",
       "<polyline clip-path=\"url(#clip190)\" style=\"stroke:#000000; stroke-linecap:round; stroke-linejoin:round; stroke-width:4; stroke-opacity:1; fill:none\" points=\"1616.79,1486.45 1616.79,1467.55 \"/>\n",
       "<polyline clip-path=\"url(#clip190)\" style=\"stroke:#000000; stroke-linecap:round; stroke-linejoin:round; stroke-width:4; stroke-opacity:1; fill:none\" points=\"2097.18,1486.45 2097.18,1467.55 \"/>\n",
       "<path clip-path=\"url(#clip190)\" d=\"M175.59 1517.37 Q171.979 1517.37 170.15 1520.93 Q168.344 1524.47 168.344 1531.6 Q168.344 1538.71 170.15 1542.27 Q171.979 1545.82 175.59 1545.82 Q179.224 1545.82 181.03 1542.27 Q182.858 1538.71 182.858 1531.6 Q182.858 1524.47 181.03 1520.93 Q179.224 1517.37 175.59 1517.37 M175.59 1513.66 Q181.4 1513.66 184.455 1518.27 Q187.534 1522.85 187.534 1531.6 Q187.534 1540.33 184.455 1544.94 Q181.4 1549.52 175.59 1549.52 Q169.78 1549.52 166.701 1544.94 Q163.645 1540.33 163.645 1531.6 Q163.645 1522.85 166.701 1518.27 Q169.78 1513.66 175.59 1513.66 Z\" fill=\"#000000\" fill-rule=\"nonzero\" fill-opacity=\"1\" /><path clip-path=\"url(#clip190)\" d=\"M650.641 1544.91 L666.96 1544.91 L666.96 1548.85 L645.016 1548.85 L645.016 1544.91 Q647.678 1542.16 652.261 1537.53 Q656.868 1532.88 658.048 1531.53 Q660.294 1529.01 661.173 1527.27 Q662.076 1525.51 662.076 1523.82 Q662.076 1521.07 660.132 1519.33 Q658.211 1517.6 655.109 1517.6 Q652.91 1517.6 650.456 1518.36 Q648.025 1519.13 645.248 1520.68 L645.248 1515.95 Q648.072 1514.82 650.525 1514.24 Q652.979 1513.66 655.016 1513.66 Q660.386 1513.66 663.581 1516.35 Q666.775 1519.03 666.775 1523.52 Q666.775 1525.65 665.965 1527.57 Q665.178 1529.47 663.072 1532.07 Q662.493 1532.74 659.391 1535.95 Q656.289 1539.15 650.641 1544.91 Z\" fill=\"#000000\" fill-rule=\"nonzero\" fill-opacity=\"1\" /><path clip-path=\"url(#clip190)\" d=\"M1139.4 1518.36 L1127.59 1536.81 L1139.4 1536.81 L1139.4 1518.36 M1138.17 1514.29 L1144.05 1514.29 L1144.05 1536.81 L1148.98 1536.81 L1148.98 1540.7 L1144.05 1540.7 L1144.05 1548.85 L1139.4 1548.85 L1139.4 1540.7 L1123.79 1540.7 L1123.79 1536.19 L1138.17 1514.29 Z\" fill=\"#000000\" fill-rule=\"nonzero\" fill-opacity=\"1\" /><path clip-path=\"url(#clip190)\" d=\"M1617.19 1529.7 Q1614.04 1529.7 1612.19 1531.86 Q1610.36 1534.01 1610.36 1537.76 Q1610.36 1541.49 1612.19 1543.66 Q1614.04 1545.82 1617.19 1545.82 Q1620.34 1545.82 1622.17 1543.66 Q1624.02 1541.49 1624.02 1537.76 Q1624.02 1534.01 1622.17 1531.86 Q1620.34 1529.7 1617.19 1529.7 M1626.47 1515.05 L1626.47 1519.31 Q1624.71 1518.48 1622.91 1518.04 Q1621.13 1517.6 1619.37 1517.6 Q1614.74 1517.6 1612.28 1520.72 Q1609.85 1523.85 1609.51 1530.17 Q1610.87 1528.15 1612.93 1527.09 Q1614.99 1526 1617.47 1526 Q1622.68 1526 1625.69 1529.17 Q1628.72 1532.32 1628.72 1537.76 Q1628.72 1543.08 1625.57 1546.3 Q1622.42 1549.52 1617.19 1549.52 Q1611.2 1549.52 1608.02 1544.94 Q1604.85 1540.33 1604.85 1531.6 Q1604.85 1523.41 1608.74 1518.55 Q1612.63 1513.66 1619.18 1513.66 Q1620.94 1513.66 1622.72 1514.01 Q1624.53 1514.36 1626.47 1515.05 Z\" fill=\"#000000\" fill-rule=\"nonzero\" fill-opacity=\"1\" /><path clip-path=\"url(#clip190)\" d=\"M2097.18 1532.44 Q2093.85 1532.44 2091.93 1534.22 Q2090.03 1536 2090.03 1539.13 Q2090.03 1542.25 2091.93 1544.03 Q2093.85 1545.82 2097.18 1545.82 Q2100.52 1545.82 2102.44 1544.03 Q2104.36 1542.23 2104.36 1539.13 Q2104.36 1536 2102.44 1534.22 Q2100.54 1532.44 2097.18 1532.44 M2092.51 1530.45 Q2089.5 1529.7 2087.81 1527.64 Q2086.14 1525.58 2086.14 1522.62 Q2086.14 1518.48 2089.08 1516.07 Q2092.05 1513.66 2097.18 1513.66 Q2102.35 1513.66 2105.29 1516.07 Q2108.23 1518.48 2108.23 1522.62 Q2108.23 1525.58 2106.54 1527.64 Q2104.87 1529.7 2101.88 1530.45 Q2105.26 1531.23 2107.14 1533.52 Q2109.04 1535.82 2109.04 1539.13 Q2109.04 1544.15 2105.96 1546.83 Q2102.9 1549.52 2097.18 1549.52 Q2091.47 1549.52 2088.39 1546.83 Q2085.33 1544.15 2085.33 1539.13 Q2085.33 1535.82 2087.23 1533.52 Q2089.13 1531.23 2092.51 1530.45 M2090.8 1523.06 Q2090.8 1525.75 2092.46 1527.25 Q2094.15 1528.76 2097.18 1528.76 Q2100.19 1528.76 2101.88 1527.25 Q2103.6 1525.75 2103.6 1523.06 Q2103.6 1520.38 2101.88 1518.87 Q2100.19 1517.37 2097.18 1517.37 Q2094.15 1517.37 2092.46 1518.87 Q2090.8 1520.38 2090.8 1523.06 Z\" fill=\"#000000\" fill-rule=\"nonzero\" fill-opacity=\"1\" /><polyline clip-path=\"url(#clip192)\" style=\"stroke:#000000; stroke-linecap:round; stroke-linejoin:round; stroke-width:2; stroke-opacity:0.1; fill:none\" points=\"112.177,1445.72 2352.76,1445.72 \"/>\n",
       "<polyline clip-path=\"url(#clip192)\" style=\"stroke:#000000; stroke-linecap:round; stroke-linejoin:round; stroke-width:2; stroke-opacity:0.1; fill:none\" points=\"112.177,1063.25 2352.76,1063.25 \"/>\n",
       "<polyline clip-path=\"url(#clip192)\" style=\"stroke:#000000; stroke-linecap:round; stroke-linejoin:round; stroke-width:2; stroke-opacity:0.1; fill:none\" points=\"112.177,680.792 2352.76,680.792 \"/>\n",
       "<polyline clip-path=\"url(#clip192)\" style=\"stroke:#000000; stroke-linecap:round; stroke-linejoin:round; stroke-width:2; stroke-opacity:0.1; fill:none\" points=\"112.177,298.33 2352.76,298.33 \"/>\n",
       "<polyline clip-path=\"url(#clip190)\" style=\"stroke:#000000; stroke-linecap:round; stroke-linejoin:round; stroke-width:4; stroke-opacity:1; fill:none\" points=\"112.177,1486.45 112.177,47.2441 \"/>\n",
       "<polyline clip-path=\"url(#clip190)\" style=\"stroke:#000000; stroke-linecap:round; stroke-linejoin:round; stroke-width:4; stroke-opacity:1; fill:none\" points=\"112.177,1445.72 131.075,1445.72 \"/>\n",
       "<polyline clip-path=\"url(#clip190)\" style=\"stroke:#000000; stroke-linecap:round; stroke-linejoin:round; stroke-width:4; stroke-opacity:1; fill:none\" points=\"112.177,1063.25 131.075,1063.25 \"/>\n",
       "<polyline clip-path=\"url(#clip190)\" style=\"stroke:#000000; stroke-linecap:round; stroke-linejoin:round; stroke-width:4; stroke-opacity:1; fill:none\" points=\"112.177,680.792 131.075,680.792 \"/>\n",
       "<polyline clip-path=\"url(#clip190)\" style=\"stroke:#000000; stroke-linecap:round; stroke-linejoin:round; stroke-width:4; stroke-opacity:1; fill:none\" points=\"112.177,298.33 131.075,298.33 \"/>\n",
       "<path clip-path=\"url(#clip190)\" d=\"M59.8578 1459.06 L76.1772 1459.06 L76.1772 1463 L54.2328 1463 L54.2328 1459.06 Q56.8949 1456.31 61.4782 1451.68 Q66.0846 1447.02 67.2652 1445.68 Q69.5105 1443.16 70.3902 1441.42 Q71.2929 1439.66 71.2929 1437.97 Q71.2929 1435.22 69.3485 1433.48 Q67.4272 1431.75 64.3254 1431.75 Q62.1263 1431.75 59.6726 1432.51 Q57.2421 1433.27 54.4643 1434.82 L54.4643 1430.1 Q57.2884 1428.97 59.7421 1428.39 Q62.1958 1427.81 64.2328 1427.81 Q69.6031 1427.81 72.7976 1430.5 Q75.992 1433.18 75.992 1437.67 Q75.992 1439.8 75.1818 1441.72 Q74.3948 1443.62 72.2883 1446.21 Q71.7096 1446.88 68.6078 1450.1 Q65.5059 1453.3 59.8578 1459.06 Z\" fill=\"#000000\" fill-rule=\"nonzero\" fill-opacity=\"1\" /><path clip-path=\"url(#clip190)\" d=\"M66.5939 1050.05 L54.7884 1068.5 L66.5939 1068.5 L66.5939 1050.05 M65.367 1045.97 L71.2466 1045.97 L71.2466 1068.5 L76.1772 1068.5 L76.1772 1072.39 L71.2466 1072.39 L71.2466 1080.53 L66.5939 1080.53 L66.5939 1072.39 L50.9921 1072.39 L50.9921 1067.87 L65.367 1045.97 Z\" fill=\"#000000\" fill-rule=\"nonzero\" fill-opacity=\"1\" /><path clip-path=\"url(#clip190)\" d=\"M64.6495 678.929 Q61.5013 678.929 59.6495 681.081 Q57.8208 683.234 57.8208 686.984 Q57.8208 690.711 59.6495 692.887 Q61.5013 695.04 64.6495 695.04 Q67.7976 695.04 69.6263 692.887 Q71.4781 690.711 71.4781 686.984 Q71.4781 683.234 69.6263 681.081 Q67.7976 678.929 64.6495 678.929 M73.9318 664.276 L73.9318 668.535 Q72.1726 667.702 70.367 667.262 Q68.5846 666.822 66.8254 666.822 Q62.1958 666.822 59.7421 669.947 Q57.3115 673.072 56.9643 679.392 Q58.33 677.378 60.3902 676.313 Q62.4504 675.225 64.9272 675.225 Q70.1355 675.225 73.1448 678.396 Q76.1772 681.544 76.1772 686.984 Q76.1772 692.308 73.029 695.526 Q69.8809 698.743 64.6495 698.743 Q58.6541 698.743 55.4828 694.16 Q52.3116 689.554 52.3116 680.827 Q52.3116 672.632 56.2004 667.771 Q60.0893 662.887 66.6402 662.887 Q68.3994 662.887 70.1818 663.234 Q71.9874 663.582 73.9318 664.276 Z\" fill=\"#000000\" fill-rule=\"nonzero\" fill-opacity=\"1\" /><path clip-path=\"url(#clip190)\" d=\"M64.3254 299.198 Q60.9921 299.198 59.0708 300.981 Q57.1726 302.763 57.1726 305.888 Q57.1726 309.013 59.0708 310.795 Q60.9921 312.578 64.3254 312.578 Q67.6587 312.578 69.58 310.795 Q71.5013 308.99 71.5013 305.888 Q71.5013 302.763 69.58 300.981 Q67.6819 299.198 64.3254 299.198 M59.6495 297.208 Q56.6402 296.467 54.9504 294.407 Q53.2838 292.347 53.2838 289.384 Q53.2838 285.24 56.2236 282.833 Q59.1865 280.425 64.3254 280.425 Q69.4874 280.425 72.4272 282.833 Q75.367 285.24 75.367 289.384 Q75.367 292.347 73.6772 294.407 Q72.0105 296.467 69.0244 297.208 Q72.404 297.995 74.279 300.286 Q76.1772 302.578 76.1772 305.888 Q76.1772 310.911 73.0985 313.596 Q70.0429 316.282 64.3254 316.282 Q58.6078 316.282 55.5291 313.596 Q52.4736 310.911 52.4736 305.888 Q52.4736 302.578 54.3717 300.286 Q56.2699 297.995 59.6495 297.208 M57.9365 289.823 Q57.9365 292.509 59.6032 294.013 Q61.293 295.518 64.3254 295.518 Q67.3346 295.518 69.0244 294.013 Q70.7374 292.509 70.7374 289.823 Q70.7374 287.138 69.0244 285.634 Q67.3346 284.129 64.3254 284.129 Q61.293 284.129 59.6032 285.634 Q57.9365 287.138 57.9365 289.823 Z\" fill=\"#000000\" fill-rule=\"nonzero\" fill-opacity=\"1\" /><polyline clip-path=\"url(#clip192)\" style=\"stroke:#009af9; stroke-linecap:round; stroke-linejoin:round; stroke-width:4; stroke-opacity:1; fill:none\" points=\"175.59,1254.48 1136.39,1445.72 2289.34,87.9763 175.59,1254.48 \"/>\n",
       "<path clip-path=\"url(#clip190)\" d=\"M186.863 198.898 L589.902 198.898 L589.902 95.2176 L186.863 95.2176  Z\" fill=\"#ffffff\" fill-rule=\"evenodd\" fill-opacity=\"1\"/>\n",
       "<polyline clip-path=\"url(#clip190)\" style=\"stroke:#000000; stroke-linecap:round; stroke-linejoin:round; stroke-width:4; stroke-opacity:1; fill:none\" points=\"186.863,198.898 589.902,198.898 589.902,95.2176 186.863,95.2176 186.863,198.898 \"/>\n",
       "<polyline clip-path=\"url(#clip190)\" style=\"stroke:#009af9; stroke-linecap:round; stroke-linejoin:round; stroke-width:4; stroke-opacity:1; fill:none\" points=\"211.758,147.058 361.13,147.058 \"/>\n",
       "<path clip-path=\"url(#clip190)\" d=\"M393.433 131.051 L393.433 138.412 L402.206 138.412 L402.206 141.722 L393.433 141.722 L393.433 155.796 Q393.433 158.967 394.29 159.87 Q395.169 160.773 397.831 160.773 L402.206 160.773 L402.206 164.338 L397.831 164.338 Q392.901 164.338 391.026 162.509 Q389.151 160.657 389.151 155.796 L389.151 141.722 L386.026 141.722 L386.026 138.412 L389.151 138.412 L389.151 131.051 L393.433 131.051 Z\" fill=\"#000000\" fill-rule=\"nonzero\" fill-opacity=\"1\" /><path clip-path=\"url(#clip190)\" d=\"M422.831 142.393 Q422.113 141.977 421.257 141.791 Q420.424 141.583 419.405 141.583 Q415.794 141.583 413.85 143.944 Q411.928 146.282 411.928 150.68 L411.928 164.338 L407.646 164.338 L407.646 138.412 L411.928 138.412 L411.928 142.44 Q413.271 140.078 415.424 138.944 Q417.576 137.787 420.655 137.787 Q421.095 137.787 421.627 137.856 Q422.16 137.903 422.808 138.018 L422.831 142.393 Z\" fill=\"#000000\" fill-rule=\"nonzero\" fill-opacity=\"1\" /><path clip-path=\"url(#clip190)\" d=\"M427.299 138.412 L431.558 138.412 L431.558 164.338 L427.299 164.338 L427.299 138.412 M427.299 128.319 L431.558 128.319 L431.558 133.713 L427.299 133.713 L427.299 128.319 Z\" fill=\"#000000\" fill-rule=\"nonzero\" fill-opacity=\"1\" /><path clip-path=\"url(#clip190)\" d=\"M452.252 151.305 Q447.09 151.305 445.099 152.486 Q443.109 153.666 443.109 156.514 Q443.109 158.782 444.59 160.125 Q446.095 161.444 448.664 161.444 Q452.206 161.444 454.336 158.944 Q456.488 156.421 456.488 152.254 L456.488 151.305 L452.252 151.305 M460.748 149.546 L460.748 164.338 L456.488 164.338 L456.488 160.402 Q455.03 162.763 452.854 163.898 Q450.678 165.009 447.53 165.009 Q443.549 165.009 441.187 162.787 Q438.849 160.541 438.849 156.791 Q438.849 152.416 441.766 150.194 Q444.706 147.972 450.516 147.972 L456.488 147.972 L456.488 147.555 Q456.488 144.615 454.544 143.018 Q452.623 141.398 449.127 141.398 Q446.905 141.398 444.799 141.93 Q442.692 142.463 440.748 143.527 L440.748 139.592 Q443.086 138.69 445.285 138.25 Q447.484 137.787 449.567 137.787 Q455.192 137.787 457.97 140.703 Q460.748 143.62 460.748 149.546 Z\" fill=\"#000000\" fill-rule=\"nonzero\" fill-opacity=\"1\" /><path clip-path=\"url(#clip190)\" d=\"M491.071 148.689 L491.071 164.338 L486.812 164.338 L486.812 148.828 Q486.812 145.148 485.377 143.319 Q483.942 141.49 481.071 141.49 Q477.622 141.49 475.632 143.69 Q473.641 145.889 473.641 149.685 L473.641 164.338 L469.359 164.338 L469.359 138.412 L473.641 138.412 L473.641 142.44 Q475.169 140.102 477.229 138.944 Q479.312 137.787 482.021 137.787 Q486.488 137.787 488.78 140.565 Q491.071 143.319 491.071 148.689 Z\" fill=\"#000000\" fill-rule=\"nonzero\" fill-opacity=\"1\" /><path clip-path=\"url(#clip190)\" d=\"M516.627 151.074 Q516.627 146.444 514.706 143.898 Q512.807 141.352 509.358 141.352 Q505.932 141.352 504.011 143.898 Q502.113 146.444 502.113 151.074 Q502.113 155.68 504.011 158.226 Q505.932 160.773 509.358 160.773 Q512.807 160.773 514.706 158.226 Q516.627 155.68 516.627 151.074 M520.886 161.12 Q520.886 167.74 517.946 170.958 Q515.006 174.199 508.942 174.199 Q506.696 174.199 504.706 173.851 Q502.715 173.527 500.84 172.833 L500.84 168.689 Q502.715 169.708 504.544 170.194 Q506.372 170.68 508.27 170.68 Q512.46 170.68 514.544 168.481 Q516.627 166.305 516.627 161.884 L516.627 159.777 Q515.307 162.069 513.247 163.203 Q511.187 164.338 508.317 164.338 Q503.548 164.338 500.632 160.703 Q497.715 157.069 497.715 151.074 Q497.715 145.055 500.632 141.421 Q503.548 137.787 508.317 137.787 Q511.187 137.787 513.247 138.921 Q515.307 140.055 516.627 142.347 L516.627 138.412 L520.886 138.412 L520.886 161.12 Z\" fill=\"#000000\" fill-rule=\"nonzero\" fill-opacity=\"1\" /><path clip-path=\"url(#clip190)\" d=\"M529.659 128.319 L533.918 128.319 L533.918 164.338 L529.659 164.338 L529.659 128.319 Z\" fill=\"#000000\" fill-rule=\"nonzero\" fill-opacity=\"1\" /><path clip-path=\"url(#clip190)\" d=\"M565.006 150.31 L565.006 152.393 L545.423 152.393 Q545.701 156.791 548.062 159.106 Q550.446 161.398 554.682 161.398 Q557.136 161.398 559.428 160.796 Q561.742 160.194 564.011 158.99 L564.011 163.018 Q561.719 163.99 559.312 164.5 Q556.904 165.009 554.428 165.009 Q548.224 165.009 544.59 161.398 Q540.979 157.787 540.979 151.629 Q540.979 145.264 544.404 141.537 Q547.854 137.787 553.687 137.787 Q558.918 137.787 561.951 141.166 Q565.006 144.523 565.006 150.31 M560.747 149.06 Q560.701 145.565 558.779 143.481 Q556.881 141.398 553.733 141.398 Q550.168 141.398 548.016 143.412 Q545.886 145.426 545.562 149.083 L560.747 149.06 Z\" fill=\"#000000\" fill-rule=\"nonzero\" fill-opacity=\"1\" /></svg>\n"
      ]
     },
     "metadata": {},
     "output_type": "display_data"
    }
   ],
   "source": [
    "plot([A[1], B[1], C[1], A[1]], [A[2], B[2], C[2], A[2]], label=\"triangle\")"
   ]
  },
  {
   "cell_type": "code",
   "execution_count": 10,
   "metadata": {},
   "outputs": [
    {
     "data": {
      "image/png": "[encoded data removed]",
      "image/svg+xml": [
       "<?xml version=\"1.0\" encoding=\"utf-8\"?>\n",
       "<svg xmlns=\"http://www.w3.org/2000/svg\" xmlns:xlink=\"http://www.w3.org/1999/xlink\" width=\"600\" height=\"400\" viewBox=\"0 0 2400 1600\">\n",
       "<defs>\n",
       "  <clipPath id=\"clip230\">\n",
       "    <rect x=\"0\" y=\"0\" width=\"2400\" height=\"1600\"/>\n",
       "  </clipPath>\n",
       "</defs>\n",
       "<path clip-path=\"url(#clip230)\" d=\"M0 1600 L2400 1600 L2400 0 L0 0  Z\" fill=\"#ffffff\" fill-rule=\"evenodd\" fill-opacity=\"1\"/>\n",
       "<defs>\n",
       "  <clipPath id=\"clip231\">\n",
       "    <rect x=\"480\" y=\"0\" width=\"1681\" height=\"1600\"/>\n",
       "  </clipPath>\n",
       "</defs>\n",
       "<path clip-path=\"url(#clip230)\" d=\"M112.177 1486.45 L2352.76 1486.45 L2352.76 47.2441 L112.177 47.2441  Z\" fill=\"#ffffff\" fill-rule=\"evenodd\" fill-opacity=\"1\"/>\n",
       "<defs>\n",
       "  <clipPath id=\"clip232\">\n",
       "    <rect x=\"112\" y=\"47\" width=\"2242\" height=\"1440\"/>\n",
       "  </clipPath>\n",
       "</defs>\n",
       "<polyline clip-path=\"url(#clip232)\" style=\"stroke:#000000; stroke-linecap:round; stroke-linejoin:round; stroke-width:2; stroke-opacity:0.1; fill:none\" points=\"175.59,1486.45 175.59,47.2441 \"/>\n",
       "<polyline clip-path=\"url(#clip232)\" style=\"stroke:#000000; stroke-linecap:round; stroke-linejoin:round; stroke-width:2; stroke-opacity:0.1; fill:none\" points=\"655.988,1486.45 655.988,47.2441 \"/>\n",
       "<polyline clip-path=\"url(#clip232)\" style=\"stroke:#000000; stroke-linecap:round; stroke-linejoin:round; stroke-width:2; stroke-opacity:0.1; fill:none\" points=\"1136.39,1486.45 1136.39,47.2441 \"/>\n",
       "<polyline clip-path=\"url(#clip232)\" style=\"stroke:#000000; stroke-linecap:round; stroke-linejoin:round; stroke-width:2; stroke-opacity:0.1; fill:none\" points=\"1616.79,1486.45 1616.79,47.2441 \"/>\n",
       "<polyline clip-path=\"url(#clip232)\" style=\"stroke:#000000; stroke-linecap:round; stroke-linejoin:round; stroke-width:2; stroke-opacity:0.1; fill:none\" points=\"2097.18,1486.45 2097.18,47.2441 \"/>\n",
       "<polyline clip-path=\"url(#clip230)\" style=\"stroke:#000000; stroke-linecap:round; stroke-linejoin:round; stroke-width:4; stroke-opacity:1; fill:none\" points=\"112.177,1486.45 2352.76,1486.45 \"/>\n",
       "<polyline clip-path=\"url(#clip230)\" style=\"stroke:#000000; stroke-linecap:round; stroke-linejoin:round; stroke-width:4; stroke-opacity:1; fill:none\" points=\"175.59,1486.45 175.59,1467.55 \"/>\n",
       "<polyline clip-path=\"url(#clip230)\" style=\"stroke:#000000; stroke-linecap:round; stroke-linejoin:round; stroke-width:4; stroke-opacity:1; fill:none\" points=\"655.988,1486.45 655.988,1467.55 \"/>\n",
       "<polyline clip-path=\"url(#clip230)\" style=\"stroke:#000000; stroke-linecap:round; stroke-linejoin:round; stroke-width:4; stroke-opacity:1; fill:none\" points=\"1136.39,1486.45 1136.39,1467.55 \"/>\n",
       "<polyline clip-path=\"url(#clip230)\" style=\"stroke:#000000; stroke-linecap:round; stroke-linejoin:round; stroke-width:4; stroke-opacity:1; fill:none\" points=\"1616.79,1486.45 1616.79,1467.55 \"/>\n",
       "<polyline clip-path=\"url(#clip230)\" style=\"stroke:#000000; stroke-linecap:round; stroke-linejoin:round; stroke-width:4; stroke-opacity:1; fill:none\" points=\"2097.18,1486.45 2097.18,1467.55 \"/>\n",
       "<path clip-path=\"url(#clip230)\" d=\"M175.59 1517.37 Q171.979 1517.37 170.15 1520.93 Q168.344 1524.47 168.344 1531.6 Q168.344 1538.71 170.15 1542.27 Q171.979 1545.82 175.59 1545.82 Q179.224 1545.82 181.03 1542.27 Q182.858 1538.71 182.858 1531.6 Q182.858 1524.47 181.03 1520.93 Q179.224 1517.37 175.59 1517.37 M175.59 1513.66 Q181.4 1513.66 184.455 1518.27 Q187.534 1522.85 187.534 1531.6 Q187.534 1540.33 184.455 1544.94 Q181.4 1549.52 175.59 1549.52 Q169.78 1549.52 166.701 1544.94 Q163.645 1540.33 163.645 1531.6 Q163.645 1522.85 166.701 1518.27 Q169.78 1513.66 175.59 1513.66 Z\" fill=\"#000000\" fill-rule=\"nonzero\" fill-opacity=\"1\" /><path clip-path=\"url(#clip230)\" d=\"M650.641 1544.91 L666.96 1544.91 L666.96 1548.85 L645.016 1548.85 L645.016 1544.91 Q647.678 1542.16 652.261 1537.53 Q656.868 1532.88 658.048 1531.53 Q660.294 1529.01 661.173 1527.27 Q662.076 1525.51 662.076 1523.82 Q662.076 1521.07 660.132 1519.33 Q658.211 1517.6 655.109 1517.6 Q652.91 1517.6 650.456 1518.36 Q648.025 1519.13 645.248 1520.68 L645.248 1515.95 Q648.072 1514.82 650.525 1514.24 Q652.979 1513.66 655.016 1513.66 Q660.386 1513.66 663.581 1516.35 Q666.775 1519.03 666.775 1523.52 Q666.775 1525.65 665.965 1527.57 Q665.178 1529.47 663.072 1532.07 Q662.493 1532.74 659.391 1535.95 Q656.289 1539.15 650.641 1544.91 Z\" fill=\"#000000\" fill-rule=\"nonzero\" fill-opacity=\"1\" /><path clip-path=\"url(#clip230)\" d=\"M1139.4 1518.36 L1127.59 1536.81 L1139.4 1536.81 L1139.4 1518.36 M1138.17 1514.29 L1144.05 1514.29 L1144.05 1536.81 L1148.98 1536.81 L1148.98 1540.7 L1144.05 1540.7 L1144.05 1548.85 L1139.4 1548.85 L1139.4 1540.7 L1123.79 1540.7 L1123.79 1536.19 L1138.17 1514.29 Z\" fill=\"#000000\" fill-rule=\"nonzero\" fill-opacity=\"1\" /><path clip-path=\"url(#clip230)\" d=\"M1617.19 1529.7 Q1614.04 1529.7 1612.19 1531.86 Q1610.36 1534.01 1610.36 1537.76 Q1610.36 1541.49 1612.19 1543.66 Q1614.04 1545.82 1617.19 1545.82 Q1620.34 1545.82 1622.17 1543.66 Q1624.02 1541.49 1624.02 1537.76 Q1624.02 1534.01 1622.17 1531.86 Q1620.34 1529.7 1617.19 1529.7 M1626.47 1515.05 L1626.47 1519.31 Q1624.71 1518.48 1622.91 1518.04 Q1621.13 1517.6 1619.37 1517.6 Q1614.74 1517.6 1612.28 1520.72 Q1609.85 1523.85 1609.51 1530.17 Q1610.87 1528.15 1612.93 1527.09 Q1614.99 1526 1617.47 1526 Q1622.68 1526 1625.69 1529.17 Q1628.72 1532.32 1628.72 1537.76 Q1628.72 1543.08 1625.57 1546.3 Q1622.42 1549.52 1617.19 1549.52 Q1611.2 1549.52 1608.02 1544.94 Q1604.85 1540.33 1604.85 1531.6 Q1604.85 1523.41 1608.74 1518.55 Q1612.63 1513.66 1619.18 1513.66 Q1620.94 1513.66 1622.72 1514.01 Q1624.53 1514.36 1626.47 1515.05 Z\" fill=\"#000000\" fill-rule=\"nonzero\" fill-opacity=\"1\" /><path clip-path=\"url(#clip230)\" d=\"M2097.18 1532.44 Q2093.85 1532.44 2091.93 1534.22 Q2090.03 1536 2090.03 1539.13 Q2090.03 1542.25 2091.93 1544.03 Q2093.85 1545.82 2097.18 1545.82 Q2100.52 1545.82 2102.44 1544.03 Q2104.36 1542.23 2104.36 1539.13 Q2104.36 1536 2102.44 1534.22 Q2100.54 1532.44 2097.18 1532.44 M2092.51 1530.45 Q2089.5 1529.7 2087.81 1527.64 Q2086.14 1525.58 2086.14 1522.62 Q2086.14 1518.48 2089.08 1516.07 Q2092.05 1513.66 2097.18 1513.66 Q2102.35 1513.66 2105.29 1516.07 Q2108.23 1518.48 2108.23 1522.62 Q2108.23 1525.58 2106.54 1527.64 Q2104.87 1529.7 2101.88 1530.45 Q2105.26 1531.23 2107.14 1533.52 Q2109.04 1535.82 2109.04 1539.13 Q2109.04 1544.15 2105.96 1546.83 Q2102.9 1549.52 2097.18 1549.52 Q2091.47 1549.52 2088.39 1546.83 Q2085.33 1544.15 2085.33 1539.13 Q2085.33 1535.82 2087.23 1533.52 Q2089.13 1531.23 2092.51 1530.45 M2090.8 1523.06 Q2090.8 1525.75 2092.46 1527.25 Q2094.15 1528.76 2097.18 1528.76 Q2100.19 1528.76 2101.88 1527.25 Q2103.6 1525.75 2103.6 1523.06 Q2103.6 1520.38 2101.88 1518.87 Q2100.19 1517.37 2097.18 1517.37 Q2094.15 1517.37 2092.46 1518.87 Q2090.8 1520.38 2090.8 1523.06 Z\" fill=\"#000000\" fill-rule=\"nonzero\" fill-opacity=\"1\" /><polyline clip-path=\"url(#clip232)\" style=\"stroke:#000000; stroke-linecap:round; stroke-linejoin:round; stroke-width:2; stroke-opacity:0.1; fill:none\" points=\"112.177,1445.72 2352.76,1445.72 \"/>\n",
       "<polyline clip-path=\"url(#clip232)\" style=\"stroke:#000000; stroke-linecap:round; stroke-linejoin:round; stroke-width:2; stroke-opacity:0.1; fill:none\" points=\"112.177,1063.25 2352.76,1063.25 \"/>\n",
       "<polyline clip-path=\"url(#clip232)\" style=\"stroke:#000000; stroke-linecap:round; stroke-linejoin:round; stroke-width:2; stroke-opacity:0.1; fill:none\" points=\"112.177,680.792 2352.76,680.792 \"/>\n",
       "<polyline clip-path=\"url(#clip232)\" style=\"stroke:#000000; stroke-linecap:round; stroke-linejoin:round; stroke-width:2; stroke-opacity:0.1; fill:none\" points=\"112.177,298.33 2352.76,298.33 \"/>\n",
       "<polyline clip-path=\"url(#clip230)\" style=\"stroke:#000000; stroke-linecap:round; stroke-linejoin:round; stroke-width:4; stroke-opacity:1; fill:none\" points=\"112.177,1486.45 112.177,47.2441 \"/>\n",
       "<polyline clip-path=\"url(#clip230)\" style=\"stroke:#000000; stroke-linecap:round; stroke-linejoin:round; stroke-width:4; stroke-opacity:1; fill:none\" points=\"112.177,1445.72 131.075,1445.72 \"/>\n",
       "<polyline clip-path=\"url(#clip230)\" style=\"stroke:#000000; stroke-linecap:round; stroke-linejoin:round; stroke-width:4; stroke-opacity:1; fill:none\" points=\"112.177,1063.25 131.075,1063.25 \"/>\n",
       "<polyline clip-path=\"url(#clip230)\" style=\"stroke:#000000; stroke-linecap:round; stroke-linejoin:round; stroke-width:4; stroke-opacity:1; fill:none\" points=\"112.177,680.792 131.075,680.792 \"/>\n",
       "<polyline clip-path=\"url(#clip230)\" style=\"stroke:#000000; stroke-linecap:round; stroke-linejoin:round; stroke-width:4; stroke-opacity:1; fill:none\" points=\"112.177,298.33 131.075,298.33 \"/>\n",
       "<path clip-path=\"url(#clip230)\" d=\"M59.8578 1459.06 L76.1772 1459.06 L76.1772 1463 L54.2328 1463 L54.2328 1459.06 Q56.8949 1456.31 61.4782 1451.68 Q66.0846 1447.02 67.2652 1445.68 Q69.5105 1443.16 70.3902 1441.42 Q71.2929 1439.66 71.2929 1437.97 Q71.2929 1435.22 69.3485 1433.48 Q67.4272 1431.75 64.3254 1431.75 Q62.1263 1431.75 59.6726 1432.51 Q57.2421 1433.27 54.4643 1434.82 L54.4643 1430.1 Q57.2884 1428.97 59.7421 1428.39 Q62.1958 1427.81 64.2328 1427.81 Q69.6031 1427.81 72.7976 1430.5 Q75.992 1433.18 75.992 1437.67 Q75.992 1439.8 75.1818 1441.72 Q74.3948 1443.62 72.2883 1446.21 Q71.7096 1446.88 68.6078 1450.1 Q65.5059 1453.3 59.8578 1459.06 Z\" fill=\"#000000\" fill-rule=\"nonzero\" fill-opacity=\"1\" /><path clip-path=\"url(#clip230)\" d=\"M66.5939 1050.05 L54.7884 1068.5 L66.5939 1068.5 L66.5939 1050.05 M65.367 1045.97 L71.2466 1045.97 L71.2466 1068.5 L76.1772 1068.5 L76.1772 1072.39 L71.2466 1072.39 L71.2466 1080.53 L66.5939 1080.53 L66.5939 1072.39 L50.9921 1072.39 L50.9921 1067.87 L65.367 1045.97 Z\" fill=\"#000000\" fill-rule=\"nonzero\" fill-opacity=\"1\" /><path clip-path=\"url(#clip230)\" d=\"M64.6495 678.929 Q61.5013 678.929 59.6495 681.081 Q57.8208 683.234 57.8208 686.984 Q57.8208 690.711 59.6495 692.887 Q61.5013 695.04 64.6495 695.04 Q67.7976 695.04 69.6263 692.887 Q71.4781 690.711 71.4781 686.984 Q71.4781 683.234 69.6263 681.081 Q67.7976 678.929 64.6495 678.929 M73.9318 664.276 L73.9318 668.535 Q72.1726 667.702 70.367 667.262 Q68.5846 666.822 66.8254 666.822 Q62.1958 666.822 59.7421 669.947 Q57.3115 673.072 56.9643 679.392 Q58.33 677.378 60.3902 676.313 Q62.4504 675.225 64.9272 675.225 Q70.1355 675.225 73.1448 678.396 Q76.1772 681.544 76.1772 686.984 Q76.1772 692.308 73.029 695.526 Q69.8809 698.743 64.6495 698.743 Q58.6541 698.743 55.4828 694.16 Q52.3116 689.554 52.3116 680.827 Q52.3116 672.632 56.2004 667.771 Q60.0893 662.887 66.6402 662.887 Q68.3994 662.887 70.1818 663.234 Q71.9874 663.582 73.9318 664.276 Z\" fill=\"#000000\" fill-rule=\"nonzero\" fill-opacity=\"1\" /><path clip-path=\"url(#clip230)\" d=\"M64.3254 299.198 Q60.9921 299.198 59.0708 300.981 Q57.1726 302.763 57.1726 305.888 Q57.1726 309.013 59.0708 310.795 Q60.9921 312.578 64.3254 312.578 Q67.6587 312.578 69.58 310.795 Q71.5013 308.99 71.5013 305.888 Q71.5013 302.763 69.58 300.981 Q67.6819 299.198 64.3254 299.198 M59.6495 297.208 Q56.6402 296.467 54.9504 294.407 Q53.2838 292.347 53.2838 289.384 Q53.2838 285.24 56.2236 282.833 Q59.1865 280.425 64.3254 280.425 Q69.4874 280.425 72.4272 282.833 Q75.367 285.24 75.367 289.384 Q75.367 292.347 73.6772 294.407 Q72.0105 296.467 69.0244 297.208 Q72.404 297.995 74.279 300.286 Q76.1772 302.578 76.1772 305.888 Q76.1772 310.911 73.0985 313.596 Q70.0429 316.282 64.3254 316.282 Q58.6078 316.282 55.5291 313.596 Q52.4736 310.911 52.4736 305.888 Q52.4736 302.578 54.3717 300.286 Q56.2699 297.995 59.6495 297.208 M57.9365 289.823 Q57.9365 292.509 59.6032 294.013 Q61.293 295.518 64.3254 295.518 Q67.3346 295.518 69.0244 294.013 Q70.7374 292.509 70.7374 289.823 Q70.7374 287.138 69.0244 285.634 Q67.3346 284.129 64.3254 284.129 Q61.293 284.129 59.6032 285.634 Q57.9365 287.138 57.9365 289.823 Z\" fill=\"#000000\" fill-rule=\"nonzero\" fill-opacity=\"1\" /><polyline clip-path=\"url(#clip232)\" style=\"stroke:#009af9; stroke-linecap:round; stroke-linejoin:round; stroke-width:4; stroke-opacity:1; fill:none\" points=\"175.59,1254.48 1136.39,1445.72 2289.34,87.9763 175.59,1254.48 \"/>\n",
       "<path clip-path=\"url(#clip230)\" d=\"M186.863 198.898 L594.716 198.898 L594.716 95.2176 L186.863 95.2176  Z\" fill=\"#ffffff\" fill-rule=\"evenodd\" fill-opacity=\"1\"/>\n",
       "<polyline clip-path=\"url(#clip230)\" style=\"stroke:#000000; stroke-linecap:round; stroke-linejoin:round; stroke-width:4; stroke-opacity:1; fill:none\" points=\"186.863,198.898 594.716,198.898 594.716,95.2176 186.863,95.2176 186.863,198.898 \"/>\n",
       "<polyline clip-path=\"url(#clip230)\" style=\"stroke:#009af9; stroke-linecap:round; stroke-linejoin:round; stroke-width:4; stroke-opacity:1; fill:none\" points=\"211.758,147.058 361.13,147.058 \"/>\n",
       "<path clip-path=\"url(#clip230)\" d=\"M386.026 129.778 L415.262 129.778 L415.262 133.713 L402.993 133.713 L402.993 164.338 L398.294 164.338 L398.294 133.713 L386.026 133.713 L386.026 129.778 Z\" fill=\"#000000\" fill-rule=\"nonzero\" fill-opacity=\"1\" /><path clip-path=\"url(#clip230)\" d=\"M427.646 142.393 Q426.928 141.977 426.072 141.791 Q425.238 141.583 424.22 141.583 Q420.609 141.583 418.664 143.944 Q416.743 146.282 416.743 150.68 L416.743 164.338 L412.461 164.338 L412.461 138.412 L416.743 138.412 L416.743 142.44 Q418.086 140.078 420.238 138.944 Q422.391 137.787 425.47 137.787 Q425.91 137.787 426.442 137.856 Q426.975 137.903 427.623 138.018 L427.646 142.393 Z\" fill=\"#000000\" fill-rule=\"nonzero\" fill-opacity=\"1\" /><path clip-path=\"url(#clip230)\" d=\"M432.113 138.412 L436.373 138.412 L436.373 164.338 L432.113 164.338 L432.113 138.412 M432.113 128.319 L436.373 128.319 L436.373 133.713 L432.113 133.713 L432.113 128.319 Z\" fill=\"#000000\" fill-rule=\"nonzero\" fill-opacity=\"1\" /><path clip-path=\"url(#clip230)\" d=\"M457.067 151.305 Q451.905 151.305 449.914 152.486 Q447.924 153.666 447.924 156.514 Q447.924 158.782 449.405 160.125 Q450.91 161.444 453.479 161.444 Q457.021 161.444 459.15 158.944 Q461.303 156.421 461.303 152.254 L461.303 151.305 L457.067 151.305 M465.562 149.546 L465.562 164.338 L461.303 164.338 L461.303 160.402 Q459.845 162.763 457.669 163.898 Q455.493 165.009 452.345 165.009 Q448.363 165.009 446.002 162.787 Q443.664 160.541 443.664 156.791 Q443.664 152.416 446.581 150.194 Q449.521 147.972 455.331 147.972 L461.303 147.972 L461.303 147.555 Q461.303 144.615 459.359 143.018 Q457.437 141.398 453.942 141.398 Q451.72 141.398 449.613 141.93 Q447.507 142.463 445.562 143.527 L445.562 139.592 Q447.9 138.69 450.099 138.25 Q452.298 137.787 454.382 137.787 Q460.007 137.787 462.785 140.703 Q465.562 143.62 465.562 149.546 Z\" fill=\"#000000\" fill-rule=\"nonzero\" fill-opacity=\"1\" /><path clip-path=\"url(#clip230)\" d=\"M495.886 148.689 L495.886 164.338 L491.627 164.338 L491.627 148.828 Q491.627 145.148 490.192 143.319 Q488.757 141.49 485.886 141.49 Q482.437 141.49 480.446 143.69 Q478.456 145.889 478.456 149.685 L478.456 164.338 L474.173 164.338 L474.173 138.412 L478.456 138.412 L478.456 142.44 Q479.984 140.102 482.044 138.944 Q484.127 137.787 486.835 137.787 Q491.303 137.787 493.595 140.565 Q495.886 143.319 495.886 148.689 Z\" fill=\"#000000\" fill-rule=\"nonzero\" fill-opacity=\"1\" /><path clip-path=\"url(#clip230)\" d=\"M521.442 151.074 Q521.442 146.444 519.52 143.898 Q517.622 141.352 514.173 141.352 Q510.747 141.352 508.826 143.898 Q506.928 146.444 506.928 151.074 Q506.928 155.68 508.826 158.226 Q510.747 160.773 514.173 160.773 Q517.622 160.773 519.52 158.226 Q521.442 155.68 521.442 151.074 M525.701 161.12 Q525.701 167.74 522.761 170.958 Q519.821 174.199 513.756 174.199 Q511.511 174.199 509.52 173.851 Q507.53 173.527 505.655 172.833 L505.655 168.689 Q507.53 169.708 509.358 170.194 Q511.187 170.68 513.085 170.68 Q517.275 170.68 519.358 168.481 Q521.442 166.305 521.442 161.884 L521.442 159.777 Q520.122 162.069 518.062 163.203 Q516.002 164.338 513.131 164.338 Q508.363 164.338 505.446 160.703 Q502.53 157.069 502.53 151.074 Q502.53 145.055 505.446 141.421 Q508.363 137.787 513.131 137.787 Q516.002 137.787 518.062 138.921 Q520.122 140.055 521.442 142.347 L521.442 138.412 L525.701 138.412 L525.701 161.12 Z\" fill=\"#000000\" fill-rule=\"nonzero\" fill-opacity=\"1\" /><path clip-path=\"url(#clip230)\" d=\"M534.474 128.319 L538.733 128.319 L538.733 164.338 L534.474 164.338 L534.474 128.319 Z\" fill=\"#000000\" fill-rule=\"nonzero\" fill-opacity=\"1\" /><path clip-path=\"url(#clip230)\" d=\"M569.821 150.31 L569.821 152.393 L550.238 152.393 Q550.516 156.791 552.877 159.106 Q555.261 161.398 559.497 161.398 Q561.951 161.398 564.242 160.796 Q566.557 160.194 568.826 158.99 L568.826 163.018 Q566.534 163.99 564.127 164.5 Q561.719 165.009 559.242 165.009 Q553.039 165.009 549.404 161.398 Q545.793 157.787 545.793 151.629 Q545.793 145.264 549.219 141.537 Q552.668 137.787 558.502 137.787 Q563.733 137.787 566.765 141.166 Q569.821 144.523 569.821 150.31 M565.562 149.06 Q565.515 145.565 563.594 143.481 Q561.696 141.398 558.548 141.398 Q554.983 141.398 552.83 143.412 Q550.701 145.426 550.377 149.083 L565.562 149.06 Z\" fill=\"#000000\" fill-rule=\"nonzero\" fill-opacity=\"1\" /></svg>\n"
      ],
      "text/html": [
       "<?xml version=\"1.0\" encoding=\"utf-8\"?>\n",
       "<svg xmlns=\"http://www.w3.org/2000/svg\" xmlns:xlink=\"http://www.w3.org/1999/xlink\" width=\"600\" height=\"400\" viewBox=\"0 0 2400 1600\">\n",
       "<defs>\n",
       "  <clipPath id=\"clip280\">\n",
       "    <rect x=\"0\" y=\"0\" width=\"2400\" height=\"1600\"/>\n",
       "  </clipPath>\n",
       "</defs>\n",
       "<path clip-path=\"url(#clip280)\" d=\"M0 1600 L2400 1600 L2400 0 L0 0  Z\" fill=\"#ffffff\" fill-rule=\"evenodd\" fill-opacity=\"1\"/>\n",
       "<defs>\n",
       "  <clipPath id=\"clip281\">\n",
       "    <rect x=\"480\" y=\"0\" width=\"1681\" height=\"1600\"/>\n",
       "  </clipPath>\n",
       "</defs>\n",
       "<path clip-path=\"url(#clip280)\" d=\"M112.177 1486.45 L2352.76 1486.45 L2352.76 47.2441 L112.177 47.2441  Z\" fill=\"#ffffff\" fill-rule=\"evenodd\" fill-opacity=\"1\"/>\n",
       "<defs>\n",
       "  <clipPath id=\"clip282\">\n",
       "    <rect x=\"112\" y=\"47\" width=\"2242\" height=\"1440\"/>\n",
       "  </clipPath>\n",
       "</defs>\n",
       "<polyline clip-path=\"url(#clip282)\" style=\"stroke:#000000; stroke-linecap:round; stroke-linejoin:round; stroke-width:2; stroke-opacity:0.1; fill:none\" points=\"175.59,1486.45 175.59,47.2441 \"/>\n",
       "<polyline clip-path=\"url(#clip282)\" style=\"stroke:#000000; stroke-linecap:round; stroke-linejoin:round; stroke-width:2; stroke-opacity:0.1; fill:none\" points=\"655.988,1486.45 655.988,47.2441 \"/>\n",
       "<polyline clip-path=\"url(#clip282)\" style=\"stroke:#000000; stroke-linecap:round; stroke-linejoin:round; stroke-width:2; stroke-opacity:0.1; fill:none\" points=\"1136.39,1486.45 1136.39,47.2441 \"/>\n",
       "<polyline clip-path=\"url(#clip282)\" style=\"stroke:#000000; stroke-linecap:round; stroke-linejoin:round; stroke-width:2; stroke-opacity:0.1; fill:none\" points=\"1616.79,1486.45 1616.79,47.2441 \"/>\n",
       "<polyline clip-path=\"url(#clip282)\" style=\"stroke:#000000; stroke-linecap:round; stroke-linejoin:round; stroke-width:2; stroke-opacity:0.1; fill:none\" points=\"2097.18,1486.45 2097.18,47.2441 \"/>\n",
       "<polyline clip-path=\"url(#clip280)\" style=\"stroke:#000000; stroke-linecap:round; stroke-linejoin:round; stroke-width:4; stroke-opacity:1; fill:none\" points=\"112.177,1486.45 2352.76,1486.45 \"/>\n",
       "<polyline clip-path=\"url(#clip280)\" style=\"stroke:#000000; stroke-linecap:round; stroke-linejoin:round; stroke-width:4; stroke-opacity:1; fill:none\" points=\"175.59,1486.45 175.59,1467.55 \"/>\n",
       "<polyline clip-path=\"url(#clip280)\" style=\"stroke:#000000; stroke-linecap:round; stroke-linejoin:round; stroke-width:4; stroke-opacity:1; fill:none\" points=\"655.988,1486.45 655.988,1467.55 \"/>\n",
       "<polyline clip-path=\"url(#clip280)\" style=\"stroke:#000000; stroke-linecap:round; stroke-linejoin:round; stroke-width:4; stroke-opacity:1; fill:none\" points=\"1136.39,1486.45 1136.39,1467.55 \"/>\n",
       "<polyline clip-path=\"url(#clip280)\" style=\"stroke:#000000; stroke-linecap:round; stroke-linejoin:round; stroke-width:4; stroke-opacity:1; fill:none\" points=\"1616.79,1486.45 1616.79,1467.55 \"/>\n",
       "<polyline clip-path=\"url(#clip280)\" style=\"stroke:#000000; stroke-linecap:round; stroke-linejoin:round; stroke-width:4; stroke-opacity:1; fill:none\" points=\"2097.18,1486.45 2097.18,1467.55 \"/>\n",
       "<path clip-path=\"url(#clip280)\" d=\"M175.59 1517.37 Q171.979 1517.37 170.15 1520.93 Q168.344 1524.47 168.344 1531.6 Q168.344 1538.71 170.15 1542.27 Q171.979 1545.82 175.59 1545.82 Q179.224 1545.82 181.03 1542.27 Q182.858 1538.71 182.858 1531.6 Q182.858 1524.47 181.03 1520.93 Q179.224 1517.37 175.59 1517.37 M175.59 1513.66 Q181.4 1513.66 184.455 1518.27 Q187.534 1522.85 187.534 1531.6 Q187.534 1540.33 184.455 1544.94 Q181.4 1549.52 175.59 1549.52 Q169.78 1549.52 166.701 1544.94 Q163.645 1540.33 163.645 1531.6 Q163.645 1522.85 166.701 1518.27 Q169.78 1513.66 175.59 1513.66 Z\" fill=\"#000000\" fill-rule=\"nonzero\" fill-opacity=\"1\" /><path clip-path=\"url(#clip280)\" d=\"M650.641 1544.91 L666.96 1544.91 L666.96 1548.85 L645.016 1548.85 L645.016 1544.91 Q647.678 1542.16 652.261 1537.53 Q656.868 1532.88 658.048 1531.53 Q660.294 1529.01 661.173 1527.27 Q662.076 1525.51 662.076 1523.82 Q662.076 1521.07 660.132 1519.33 Q658.211 1517.6 655.109 1517.6 Q652.91 1517.6 650.456 1518.36 Q648.025 1519.13 645.248 1520.68 L645.248 1515.95 Q648.072 1514.82 650.525 1514.24 Q652.979 1513.66 655.016 1513.66 Q660.386 1513.66 663.581 1516.35 Q666.775 1519.03 666.775 1523.52 Q666.775 1525.65 665.965 1527.57 Q665.178 1529.47 663.072 1532.07 Q662.493 1532.74 659.391 1535.95 Q656.289 1539.15 650.641 1544.91 Z\" fill=\"#000000\" fill-rule=\"nonzero\" fill-opacity=\"1\" /><path clip-path=\"url(#clip280)\" d=\"M1139.4 1518.36 L1127.59 1536.81 L1139.4 1536.81 L1139.4 1518.36 M1138.17 1514.29 L1144.05 1514.29 L1144.05 1536.81 L1148.98 1536.81 L1148.98 1540.7 L1144.05 1540.7 L1144.05 1548.85 L1139.4 1548.85 L1139.4 1540.7 L1123.79 1540.7 L1123.79 1536.19 L1138.17 1514.29 Z\" fill=\"#000000\" fill-rule=\"nonzero\" fill-opacity=\"1\" /><path clip-path=\"url(#clip280)\" d=\"M1617.19 1529.7 Q1614.04 1529.7 1612.19 1531.86 Q1610.36 1534.01 1610.36 1537.76 Q1610.36 1541.49 1612.19 1543.66 Q1614.04 1545.82 1617.19 1545.82 Q1620.34 1545.82 1622.17 1543.66 Q1624.02 1541.49 1624.02 1537.76 Q1624.02 1534.01 1622.17 1531.86 Q1620.34 1529.7 1617.19 1529.7 M1626.47 1515.05 L1626.47 1519.31 Q1624.71 1518.48 1622.91 1518.04 Q1621.13 1517.6 1619.37 1517.6 Q1614.74 1517.6 1612.28 1520.72 Q1609.85 1523.85 1609.51 1530.17 Q1610.87 1528.15 1612.93 1527.09 Q1614.99 1526 1617.47 1526 Q1622.68 1526 1625.69 1529.17 Q1628.72 1532.32 1628.72 1537.76 Q1628.72 1543.08 1625.57 1546.3 Q1622.42 1549.52 1617.19 1549.52 Q1611.2 1549.52 1608.02 1544.94 Q1604.85 1540.33 1604.85 1531.6 Q1604.85 1523.41 1608.74 1518.55 Q1612.63 1513.66 1619.18 1513.66 Q1620.94 1513.66 1622.72 1514.01 Q1624.53 1514.36 1626.47 1515.05 Z\" fill=\"#000000\" fill-rule=\"nonzero\" fill-opacity=\"1\" /><path clip-path=\"url(#clip280)\" d=\"M2097.18 1532.44 Q2093.85 1532.44 2091.93 1534.22 Q2090.03 1536 2090.03 1539.13 Q2090.03 1542.25 2091.93 1544.03 Q2093.85 1545.82 2097.18 1545.82 Q2100.52 1545.82 2102.44 1544.03 Q2104.36 1542.23 2104.36 1539.13 Q2104.36 1536 2102.44 1534.22 Q2100.54 1532.44 2097.18 1532.44 M2092.51 1530.45 Q2089.5 1529.7 2087.81 1527.64 Q2086.14 1525.58 2086.14 1522.62 Q2086.14 1518.48 2089.08 1516.07 Q2092.05 1513.66 2097.18 1513.66 Q2102.35 1513.66 2105.29 1516.07 Q2108.23 1518.48 2108.23 1522.62 Q2108.23 1525.58 2106.54 1527.64 Q2104.87 1529.7 2101.88 1530.45 Q2105.26 1531.23 2107.14 1533.52 Q2109.04 1535.82 2109.04 1539.13 Q2109.04 1544.15 2105.96 1546.83 Q2102.9 1549.52 2097.18 1549.52 Q2091.47 1549.52 2088.39 1546.83 Q2085.33 1544.15 2085.33 1539.13 Q2085.33 1535.82 2087.23 1533.52 Q2089.13 1531.23 2092.51 1530.45 M2090.8 1523.06 Q2090.8 1525.75 2092.46 1527.25 Q2094.15 1528.76 2097.18 1528.76 Q2100.19 1528.76 2101.88 1527.25 Q2103.6 1525.75 2103.6 1523.06 Q2103.6 1520.38 2101.88 1518.87 Q2100.19 1517.37 2097.18 1517.37 Q2094.15 1517.37 2092.46 1518.87 Q2090.8 1520.38 2090.8 1523.06 Z\" fill=\"#000000\" fill-rule=\"nonzero\" fill-opacity=\"1\" /><polyline clip-path=\"url(#clip282)\" style=\"stroke:#000000; stroke-linecap:round; stroke-linejoin:round; stroke-width:2; stroke-opacity:0.1; fill:none\" points=\"112.177,1445.72 2352.76,1445.72 \"/>\n",
       "<polyline clip-path=\"url(#clip282)\" style=\"stroke:#000000; stroke-linecap:round; stroke-linejoin:round; stroke-width:2; stroke-opacity:0.1; fill:none\" points=\"112.177,1063.25 2352.76,1063.25 \"/>\n",
       "<polyline clip-path=\"url(#clip282)\" style=\"stroke:#000000; stroke-linecap:round; stroke-linejoin:round; stroke-width:2; stroke-opacity:0.1; fill:none\" points=\"112.177,680.792 2352.76,680.792 \"/>\n",
       "<polyline clip-path=\"url(#clip282)\" style=\"stroke:#000000; stroke-linecap:round; stroke-linejoin:round; stroke-width:2; stroke-opacity:0.1; fill:none\" points=\"112.177,298.33 2352.76,298.33 \"/>\n",
       "<polyline clip-path=\"url(#clip280)\" style=\"stroke:#000000; stroke-linecap:round; stroke-linejoin:round; stroke-width:4; stroke-opacity:1; fill:none\" points=\"112.177,1486.45 112.177,47.2441 \"/>\n",
       "<polyline clip-path=\"url(#clip280)\" style=\"stroke:#000000; stroke-linecap:round; stroke-linejoin:round; stroke-width:4; stroke-opacity:1; fill:none\" points=\"112.177,1445.72 131.075,1445.72 \"/>\n",
       "<polyline clip-path=\"url(#clip280)\" style=\"stroke:#000000; stroke-linecap:round; stroke-linejoin:round; stroke-width:4; stroke-opacity:1; fill:none\" points=\"112.177,1063.25 131.075,1063.25 \"/>\n",
       "<polyline clip-path=\"url(#clip280)\" style=\"stroke:#000000; stroke-linecap:round; stroke-linejoin:round; stroke-width:4; stroke-opacity:1; fill:none\" points=\"112.177,680.792 131.075,680.792 \"/>\n",
       "<polyline clip-path=\"url(#clip280)\" style=\"stroke:#000000; stroke-linecap:round; stroke-linejoin:round; stroke-width:4; stroke-opacity:1; fill:none\" points=\"112.177,298.33 131.075,298.33 \"/>\n",
       "<path clip-path=\"url(#clip280)\" d=\"M59.8578 1459.06 L76.1772 1459.06 L76.1772 1463 L54.2328 1463 L54.2328 1459.06 Q56.8949 1456.31 61.4782 1451.68 Q66.0846 1447.02 67.2652 1445.68 Q69.5105 1443.16 70.3902 1441.42 Q71.2929 1439.66 71.2929 1437.97 Q71.2929 1435.22 69.3485 1433.48 Q67.4272 1431.75 64.3254 1431.75 Q62.1263 1431.75 59.6726 1432.51 Q57.2421 1433.27 54.4643 1434.82 L54.4643 1430.1 Q57.2884 1428.97 59.7421 1428.39 Q62.1958 1427.81 64.2328 1427.81 Q69.6031 1427.81 72.7976 1430.5 Q75.992 1433.18 75.992 1437.67 Q75.992 1439.8 75.1818 1441.72 Q74.3948 1443.62 72.2883 1446.21 Q71.7096 1446.88 68.6078 1450.1 Q65.5059 1453.3 59.8578 1459.06 Z\" fill=\"#000000\" fill-rule=\"nonzero\" fill-opacity=\"1\" /><path clip-path=\"url(#clip280)\" d=\"M66.5939 1050.05 L54.7884 1068.5 L66.5939 1068.5 L66.5939 1050.05 M65.367 1045.97 L71.2466 1045.97 L71.2466 1068.5 L76.1772 1068.5 L76.1772 1072.39 L71.2466 1072.39 L71.2466 1080.53 L66.5939 1080.53 L66.5939 1072.39 L50.9921 1072.39 L50.9921 1067.87 L65.367 1045.97 Z\" fill=\"#000000\" fill-rule=\"nonzero\" fill-opacity=\"1\" /><path clip-path=\"url(#clip280)\" d=\"M64.6495 678.929 Q61.5013 678.929 59.6495 681.081 Q57.8208 683.234 57.8208 686.984 Q57.8208 690.711 59.6495 692.887 Q61.5013 695.04 64.6495 695.04 Q67.7976 695.04 69.6263 692.887 Q71.4781 690.711 71.4781 686.984 Q71.4781 683.234 69.6263 681.081 Q67.7976 678.929 64.6495 678.929 M73.9318 664.276 L73.9318 668.535 Q72.1726 667.702 70.367 667.262 Q68.5846 666.822 66.8254 666.822 Q62.1958 666.822 59.7421 669.947 Q57.3115 673.072 56.9643 679.392 Q58.33 677.378 60.3902 676.313 Q62.4504 675.225 64.9272 675.225 Q70.1355 675.225 73.1448 678.396 Q76.1772 681.544 76.1772 686.984 Q76.1772 692.308 73.029 695.526 Q69.8809 698.743 64.6495 698.743 Q58.6541 698.743 55.4828 694.16 Q52.3116 689.554 52.3116 680.827 Q52.3116 672.632 56.2004 667.771 Q60.0893 662.887 66.6402 662.887 Q68.3994 662.887 70.1818 663.234 Q71.9874 663.582 73.9318 664.276 Z\" fill=\"#000000\" fill-rule=\"nonzero\" fill-opacity=\"1\" /><path clip-path=\"url(#clip280)\" d=\"M64.3254 299.198 Q60.9921 299.198 59.0708 300.981 Q57.1726 302.763 57.1726 305.888 Q57.1726 309.013 59.0708 310.795 Q60.9921 312.578 64.3254 312.578 Q67.6587 312.578 69.58 310.795 Q71.5013 308.99 71.5013 305.888 Q71.5013 302.763 69.58 300.981 Q67.6819 299.198 64.3254 299.198 M59.6495 297.208 Q56.6402 296.467 54.9504 294.407 Q53.2838 292.347 53.2838 289.384 Q53.2838 285.24 56.2236 282.833 Q59.1865 280.425 64.3254 280.425 Q69.4874 280.425 72.4272 282.833 Q75.367 285.24 75.367 289.384 Q75.367 292.347 73.6772 294.407 Q72.0105 296.467 69.0244 297.208 Q72.404 297.995 74.279 300.286 Q76.1772 302.578 76.1772 305.888 Q76.1772 310.911 73.0985 313.596 Q70.0429 316.282 64.3254 316.282 Q58.6078 316.282 55.5291 313.596 Q52.4736 310.911 52.4736 305.888 Q52.4736 302.578 54.3717 300.286 Q56.2699 297.995 59.6495 297.208 M57.9365 289.823 Q57.9365 292.509 59.6032 294.013 Q61.293 295.518 64.3254 295.518 Q67.3346 295.518 69.0244 294.013 Q70.7374 292.509 70.7374 289.823 Q70.7374 287.138 69.0244 285.634 Q67.3346 284.129 64.3254 284.129 Q61.293 284.129 59.6032 285.634 Q57.9365 287.138 57.9365 289.823 Z\" fill=\"#000000\" fill-rule=\"nonzero\" fill-opacity=\"1\" /><polyline clip-path=\"url(#clip282)\" style=\"stroke:#009af9; stroke-linecap:round; stroke-linejoin:round; stroke-width:4; stroke-opacity:1; fill:none\" points=\"175.59,1254.48 1136.39,1445.72 2289.34,87.9763 175.59,1254.48 \"/>\n",
       "<path clip-path=\"url(#clip280)\" d=\"M186.863 198.898 L594.716 198.898 L594.716 95.2176 L186.863 95.2176  Z\" fill=\"#ffffff\" fill-rule=\"evenodd\" fill-opacity=\"1\"/>\n",
       "<polyline clip-path=\"url(#clip280)\" style=\"stroke:#000000; stroke-linecap:round; stroke-linejoin:round; stroke-width:4; stroke-opacity:1; fill:none\" points=\"186.863,198.898 594.716,198.898 594.716,95.2176 186.863,95.2176 186.863,198.898 \"/>\n",
       "<polyline clip-path=\"url(#clip280)\" style=\"stroke:#009af9; stroke-linecap:round; stroke-linejoin:round; stroke-width:4; stroke-opacity:1; fill:none\" points=\"211.758,147.058 361.13,147.058 \"/>\n",
       "<path clip-path=\"url(#clip280)\" d=\"M386.026 129.778 L415.262 129.778 L415.262 133.713 L402.993 133.713 L402.993 164.338 L398.294 164.338 L398.294 133.713 L386.026 133.713 L386.026 129.778 Z\" fill=\"#000000\" fill-rule=\"nonzero\" fill-opacity=\"1\" /><path clip-path=\"url(#clip280)\" d=\"M427.646 142.393 Q426.928 141.977 426.072 141.791 Q425.238 141.583 424.22 141.583 Q420.609 141.583 418.664 143.944 Q416.743 146.282 416.743 150.68 L416.743 164.338 L412.461 164.338 L412.461 138.412 L416.743 138.412 L416.743 142.44 Q418.086 140.078 420.238 138.944 Q422.391 137.787 425.47 137.787 Q425.91 137.787 426.442 137.856 Q426.975 137.903 427.623 138.018 L427.646 142.393 Z\" fill=\"#000000\" fill-rule=\"nonzero\" fill-opacity=\"1\" /><path clip-path=\"url(#clip280)\" d=\"M432.113 138.412 L436.373 138.412 L436.373 164.338 L432.113 164.338 L432.113 138.412 M432.113 128.319 L436.373 128.319 L436.373 133.713 L432.113 133.713 L432.113 128.319 Z\" fill=\"#000000\" fill-rule=\"nonzero\" fill-opacity=\"1\" /><path clip-path=\"url(#clip280)\" d=\"M457.067 151.305 Q451.905 151.305 449.914 152.486 Q447.924 153.666 447.924 156.514 Q447.924 158.782 449.405 160.125 Q450.91 161.444 453.479 161.444 Q457.021 161.444 459.15 158.944 Q461.303 156.421 461.303 152.254 L461.303 151.305 L457.067 151.305 M465.562 149.546 L465.562 164.338 L461.303 164.338 L461.303 160.402 Q459.845 162.763 457.669 163.898 Q455.493 165.009 452.345 165.009 Q448.363 165.009 446.002 162.787 Q443.664 160.541 443.664 156.791 Q443.664 152.416 446.581 150.194 Q449.521 147.972 455.331 147.972 L461.303 147.972 L461.303 147.555 Q461.303 144.615 459.359 143.018 Q457.437 141.398 453.942 141.398 Q451.72 141.398 449.613 141.93 Q447.507 142.463 445.562 143.527 L445.562 139.592 Q447.9 138.69 450.099 138.25 Q452.298 137.787 454.382 137.787 Q460.007 137.787 462.785 140.703 Q465.562 143.62 465.562 149.546 Z\" fill=\"#000000\" fill-rule=\"nonzero\" fill-opacity=\"1\" /><path clip-path=\"url(#clip280)\" d=\"M495.886 148.689 L495.886 164.338 L491.627 164.338 L491.627 148.828 Q491.627 145.148 490.192 143.319 Q488.757 141.49 485.886 141.49 Q482.437 141.49 480.446 143.69 Q478.456 145.889 478.456 149.685 L478.456 164.338 L474.173 164.338 L474.173 138.412 L478.456 138.412 L478.456 142.44 Q479.984 140.102 482.044 138.944 Q484.127 137.787 486.835 137.787 Q491.303 137.787 493.595 140.565 Q495.886 143.319 495.886 148.689 Z\" fill=\"#000000\" fill-rule=\"nonzero\" fill-opacity=\"1\" /><path clip-path=\"url(#clip280)\" d=\"M521.442 151.074 Q521.442 146.444 519.52 143.898 Q517.622 141.352 514.173 141.352 Q510.747 141.352 508.826 143.898 Q506.928 146.444 506.928 151.074 Q506.928 155.68 508.826 158.226 Q510.747 160.773 514.173 160.773 Q517.622 160.773 519.52 158.226 Q521.442 155.68 521.442 151.074 M525.701 161.12 Q525.701 167.74 522.761 170.958 Q519.821 174.199 513.756 174.199 Q511.511 174.199 509.52 173.851 Q507.53 173.527 505.655 172.833 L505.655 168.689 Q507.53 169.708 509.358 170.194 Q511.187 170.68 513.085 170.68 Q517.275 170.68 519.358 168.481 Q521.442 166.305 521.442 161.884 L521.442 159.777 Q520.122 162.069 518.062 163.203 Q516.002 164.338 513.131 164.338 Q508.363 164.338 505.446 160.703 Q502.53 157.069 502.53 151.074 Q502.53 145.055 505.446 141.421 Q508.363 137.787 513.131 137.787 Q516.002 137.787 518.062 138.921 Q520.122 140.055 521.442 142.347 L521.442 138.412 L525.701 138.412 L525.701 161.12 Z\" fill=\"#000000\" fill-rule=\"nonzero\" fill-opacity=\"1\" /><path clip-path=\"url(#clip280)\" d=\"M534.474 128.319 L538.733 128.319 L538.733 164.338 L534.474 164.338 L534.474 128.319 Z\" fill=\"#000000\" fill-rule=\"nonzero\" fill-opacity=\"1\" /><path clip-path=\"url(#clip280)\" d=\"M569.821 150.31 L569.821 152.393 L550.238 152.393 Q550.516 156.791 552.877 159.106 Q555.261 161.398 559.497 161.398 Q561.951 161.398 564.242 160.796 Q566.557 160.194 568.826 158.99 L568.826 163.018 Q566.534 163.99 564.127 164.5 Q561.719 165.009 559.242 165.009 Q553.039 165.009 549.404 161.398 Q545.793 157.787 545.793 151.629 Q545.793 145.264 549.219 141.537 Q552.668 137.787 558.502 137.787 Q563.733 137.787 566.765 141.166 Q569.821 144.523 569.821 150.31 M565.562 149.06 Q565.515 145.565 563.594 143.481 Q561.696 141.398 558.548 141.398 Q554.983 141.398 552.83 143.412 Q550.701 145.426 550.377 149.083 L565.562 149.06 Z\" fill=\"#000000\" fill-rule=\"nonzero\" fill-opacity=\"1\" /></svg>\n"
      ]
     },
     "metadata": {},
     "output_type": "display_data"
    }
   ],
   "source": [
    "plot([A[1], B[1], C[1], A[1]], [A[2], B[2], C[2], A[2]], label=\"Triangle\")"
   ]
  },
  {
   "cell_type": "code",
   "execution_count": 6,
   "metadata": {},
   "outputs": [
    {
     "data": {
      "image/png": "[encoded data removed]",
      "image/svg+xml": [
       "<?xml version=\"1.0\" encoding=\"utf-8\"?>\n",
       "<svg xmlns=\"http://www.w3.org/2000/svg\" xmlns:xlink=\"http://www.w3.org/1999/xlink\" width=\"600\" height=\"400\" viewBox=\"0 0 2400 1600\">\n",
       "<defs>\n",
       "  <clipPath id=\"clip870\">\n",
       "    <rect x=\"0\" y=\"0\" width=\"2400\" height=\"1600\"/>\n",
       "  </clipPath>\n",
       "</defs>\n",
       "<path clip-path=\"url(#clip870)\" d=\"M0 1600 L2400 1600 L2400 0 L0 0  Z\" fill=\"#ffffff\" fill-rule=\"evenodd\" fill-opacity=\"1\"/>\n",
       "<defs>\n",
       "  <clipPath id=\"clip871\">\n",
       "    <rect x=\"480\" y=\"0\" width=\"1681\" height=\"1600\"/>\n",
       "  </clipPath>\n",
       "</defs>\n",
       "<path clip-path=\"url(#clip870)\" d=\"M112.177 1486.45 L2352.76 1486.45 L2352.76 47.2441 L112.177 47.2441  Z\" fill=\"#ffffff\" fill-rule=\"evenodd\" fill-opacity=\"1\"/>\n",
       "<defs>\n",
       "  <clipPath id=\"clip872\">\n",
       "    <rect x=\"112\" y=\"47\" width=\"2242\" height=\"1440\"/>\n",
       "  </clipPath>\n",
       "</defs>\n",
       "<polyline clip-path=\"url(#clip872)\" style=\"stroke:#000000; stroke-linecap:round; stroke-linejoin:round; stroke-width:2; stroke-opacity:0.1; fill:none\" points=\"175.59,1486.45 175.59,47.2441 \"/>\n",
       "<polyline clip-path=\"url(#clip872)\" style=\"stroke:#000000; stroke-linecap:round; stroke-linejoin:round; stroke-width:2; stroke-opacity:0.1; fill:none\" points=\"655.988,1486.45 655.988,47.2441 \"/>\n",
       "<polyline clip-path=\"url(#clip872)\" style=\"stroke:#000000; stroke-linecap:round; stroke-linejoin:round; stroke-width:2; stroke-opacity:0.1; fill:none\" points=\"1136.39,1486.45 1136.39,47.2441 \"/>\n",
       "<polyline clip-path=\"url(#clip872)\" style=\"stroke:#000000; stroke-linecap:round; stroke-linejoin:round; stroke-width:2; stroke-opacity:0.1; fill:none\" points=\"1616.79,1486.45 1616.79,47.2441 \"/>\n",
       "<polyline clip-path=\"url(#clip872)\" style=\"stroke:#000000; stroke-linecap:round; stroke-linejoin:round; stroke-width:2; stroke-opacity:0.1; fill:none\" points=\"2097.18,1486.45 2097.18,47.2441 \"/>\n",
       "<polyline clip-path=\"url(#clip870)\" style=\"stroke:#000000; stroke-linecap:round; stroke-linejoin:round; stroke-width:4; stroke-opacity:1; fill:none\" points=\"112.177,1486.45 2352.76,1486.45 \"/>\n",
       "<polyline clip-path=\"url(#clip870)\" style=\"stroke:#000000; stroke-linecap:round; stroke-linejoin:round; stroke-width:4; stroke-opacity:1; fill:none\" points=\"175.59,1486.45 175.59,1467.55 \"/>\n",
       "<polyline clip-path=\"url(#clip870)\" style=\"stroke:#000000; stroke-linecap:round; stroke-linejoin:round; stroke-width:4; stroke-opacity:1; fill:none\" points=\"655.988,1486.45 655.988,1467.55 \"/>\n",
       "<polyline clip-path=\"url(#clip870)\" style=\"stroke:#000000; stroke-linecap:round; stroke-linejoin:round; stroke-width:4; stroke-opacity:1; fill:none\" points=\"1136.39,1486.45 1136.39,1467.55 \"/>\n",
       "<polyline clip-path=\"url(#clip870)\" style=\"stroke:#000000; stroke-linecap:round; stroke-linejoin:round; stroke-width:4; stroke-opacity:1; fill:none\" points=\"1616.79,1486.45 1616.79,1467.55 \"/>\n",
       "<polyline clip-path=\"url(#clip870)\" style=\"stroke:#000000; stroke-linecap:round; stroke-linejoin:round; stroke-width:4; stroke-opacity:1; fill:none\" points=\"2097.18,1486.45 2097.18,1467.55 \"/>\n",
       "<path clip-path=\"url(#clip870)\" d=\"M175.59 1517.37 Q171.979 1517.37 170.15 1520.93 Q168.344 1524.47 168.344 1531.6 Q168.344 1538.71 170.15 1542.27 Q171.979 1545.82 175.59 1545.82 Q179.224 1545.82 181.03 1542.27 Q182.858 1538.71 182.858 1531.6 Q182.858 1524.47 181.03 1520.93 Q179.224 1517.37 175.59 1517.37 M175.59 1513.66 Q181.4 1513.66 184.455 1518.27 Q187.534 1522.85 187.534 1531.6 Q187.534 1540.33 184.455 1544.94 Q181.4 1549.52 175.59 1549.52 Q169.78 1549.52 166.701 1544.94 Q163.645 1540.33 163.645 1531.6 Q163.645 1522.85 166.701 1518.27 Q169.78 1513.66 175.59 1513.66 Z\" fill=\"#000000\" fill-rule=\"nonzero\" fill-opacity=\"1\" /><path clip-path=\"url(#clip870)\" d=\"M650.641 1544.91 L666.96 1544.91 L666.96 1548.85 L645.016 1548.85 L645.016 1544.91 Q647.678 1542.16 652.261 1537.53 Q656.868 1532.88 658.048 1531.53 Q660.294 1529.01 661.173 1527.27 Q662.076 1525.51 662.076 1523.82 Q662.076 1521.07 660.132 1519.33 Q658.211 1517.6 655.109 1517.6 Q652.91 1517.6 650.456 1518.36 Q648.025 1519.13 645.248 1520.68 L645.248 1515.95 Q648.072 1514.82 650.525 1514.24 Q652.979 1513.66 655.016 1513.66 Q660.386 1513.66 663.581 1516.35 Q666.775 1519.03 666.775 1523.52 Q666.775 1525.65 665.965 1527.57 Q665.178 1529.47 663.072 1532.07 Q662.493 1532.74 659.391 1535.95 Q656.289 1539.15 650.641 1544.91 Z\" fill=\"#000000\" fill-rule=\"nonzero\" fill-opacity=\"1\" /><path clip-path=\"url(#clip870)\" d=\"M1139.4 1518.36 L1127.59 1536.81 L1139.4 1536.81 L1139.4 1518.36 M1138.17 1514.29 L1144.05 1514.29 L1144.05 1536.81 L1148.98 1536.81 L1148.98 1540.7 L1144.05 1540.7 L1144.05 1548.85 L1139.4 1548.85 L1139.4 1540.7 L1123.79 1540.7 L1123.79 1536.19 L1138.17 1514.29 Z\" fill=\"#000000\" fill-rule=\"nonzero\" fill-opacity=\"1\" /><path clip-path=\"url(#clip870)\" d=\"M1617.19 1529.7 Q1614.04 1529.7 1612.19 1531.86 Q1610.36 1534.01 1610.36 1537.76 Q1610.36 1541.49 1612.19 1543.66 Q1614.04 1545.82 1617.19 1545.82 Q1620.34 1545.82 1622.17 1543.66 Q1624.02 1541.49 1624.02 1537.76 Q1624.02 1534.01 1622.17 1531.86 Q1620.34 1529.7 1617.19 1529.7 M1626.47 1515.05 L1626.47 1519.31 Q1624.71 1518.48 1622.91 1518.04 Q1621.13 1517.6 1619.37 1517.6 Q1614.74 1517.6 1612.28 1520.72 Q1609.85 1523.85 1609.51 1530.17 Q1610.87 1528.15 1612.93 1527.09 Q1614.99 1526 1617.47 1526 Q1622.68 1526 1625.69 1529.17 Q1628.72 1532.32 1628.72 1537.76 Q1628.72 1543.08 1625.57 1546.3 Q1622.42 1549.52 1617.19 1549.52 Q1611.2 1549.52 1608.02 1544.94 Q1604.85 1540.33 1604.85 1531.6 Q1604.85 1523.41 1608.74 1518.55 Q1612.63 1513.66 1619.18 1513.66 Q1620.94 1513.66 1622.72 1514.01 Q1624.53 1514.36 1626.47 1515.05 Z\" fill=\"#000000\" fill-rule=\"nonzero\" fill-opacity=\"1\" /><path clip-path=\"url(#clip870)\" d=\"M2097.18 1532.44 Q2093.85 1532.44 2091.93 1534.22 Q2090.03 1536 2090.03 1539.13 Q2090.03 1542.25 2091.93 1544.03 Q2093.85 1545.82 2097.18 1545.82 Q2100.52 1545.82 2102.44 1544.03 Q2104.36 1542.23 2104.36 1539.13 Q2104.36 1536 2102.44 1534.22 Q2100.54 1532.44 2097.18 1532.44 M2092.51 1530.45 Q2089.5 1529.7 2087.81 1527.64 Q2086.14 1525.58 2086.14 1522.62 Q2086.14 1518.48 2089.08 1516.07 Q2092.05 1513.66 2097.18 1513.66 Q2102.35 1513.66 2105.29 1516.07 Q2108.23 1518.48 2108.23 1522.62 Q2108.23 1525.58 2106.54 1527.64 Q2104.87 1529.7 2101.88 1530.45 Q2105.26 1531.23 2107.14 1533.52 Q2109.04 1535.82 2109.04 1539.13 Q2109.04 1544.15 2105.96 1546.83 Q2102.9 1549.52 2097.18 1549.52 Q2091.47 1549.52 2088.39 1546.83 Q2085.33 1544.15 2085.33 1539.13 Q2085.33 1535.82 2087.23 1533.52 Q2089.13 1531.23 2092.51 1530.45 M2090.8 1523.06 Q2090.8 1525.75 2092.46 1527.25 Q2094.15 1528.76 2097.18 1528.76 Q2100.19 1528.76 2101.88 1527.25 Q2103.6 1525.75 2103.6 1523.06 Q2103.6 1520.38 2101.88 1518.87 Q2100.19 1517.37 2097.18 1517.37 Q2094.15 1517.37 2092.46 1518.87 Q2090.8 1520.38 2090.8 1523.06 Z\" fill=\"#000000\" fill-rule=\"nonzero\" fill-opacity=\"1\" /><polyline clip-path=\"url(#clip872)\" style=\"stroke:#000000; stroke-linecap:round; stroke-linejoin:round; stroke-width:2; stroke-opacity:0.1; fill:none\" points=\"112.177,1445.72 2352.76,1445.72 \"/>\n",
       "<polyline clip-path=\"url(#clip872)\" style=\"stroke:#000000; stroke-linecap:round; stroke-linejoin:round; stroke-width:2; stroke-opacity:0.1; fill:none\" points=\"112.177,1063.25 2352.76,1063.25 \"/>\n",
       "<polyline clip-path=\"url(#clip872)\" style=\"stroke:#000000; stroke-linecap:round; stroke-linejoin:round; stroke-width:2; stroke-opacity:0.1; fill:none\" points=\"112.177,680.792 2352.76,680.792 \"/>\n",
       "<polyline clip-path=\"url(#clip872)\" style=\"stroke:#000000; stroke-linecap:round; stroke-linejoin:round; stroke-width:2; stroke-opacity:0.1; fill:none\" points=\"112.177,298.33 2352.76,298.33 \"/>\n",
       "<polyline clip-path=\"url(#clip870)\" style=\"stroke:#000000; stroke-linecap:round; stroke-linejoin:round; stroke-width:4; stroke-opacity:1; fill:none\" points=\"112.177,1486.45 112.177,47.2441 \"/>\n",
       "<polyline clip-path=\"url(#clip870)\" style=\"stroke:#000000; stroke-linecap:round; stroke-linejoin:round; stroke-width:4; stroke-opacity:1; fill:none\" points=\"112.177,1445.72 131.075,1445.72 \"/>\n",
       "<polyline clip-path=\"url(#clip870)\" style=\"stroke:#000000; stroke-linecap:round; stroke-linejoin:round; stroke-width:4; stroke-opacity:1; fill:none\" points=\"112.177,1063.25 131.075,1063.25 \"/>\n",
       "<polyline clip-path=\"url(#clip870)\" style=\"stroke:#000000; stroke-linecap:round; stroke-linejoin:round; stroke-width:4; stroke-opacity:1; fill:none\" points=\"112.177,680.792 131.075,680.792 \"/>\n",
       "<polyline clip-path=\"url(#clip870)\" style=\"stroke:#000000; stroke-linecap:round; stroke-linejoin:round; stroke-width:4; stroke-opacity:1; fill:none\" points=\"112.177,298.33 131.075,298.33 \"/>\n",
       "<path clip-path=\"url(#clip870)\" d=\"M59.8578 1459.06 L76.1772 1459.06 L76.1772 1463 L54.2328 1463 L54.2328 1459.06 Q56.8949 1456.31 61.4782 1451.68 Q66.0846 1447.02 67.2652 1445.68 Q69.5105 1443.16 70.3902 1441.42 Q71.2929 1439.66 71.2929 1437.97 Q71.2929 1435.22 69.3485 1433.48 Q67.4272 1431.75 64.3254 1431.75 Q62.1263 1431.75 59.6726 1432.51 Q57.2421 1433.27 54.4643 1434.82 L54.4643 1430.1 Q57.2884 1428.97 59.7421 1428.39 Q62.1958 1427.81 64.2328 1427.81 Q69.6031 1427.81 72.7976 1430.5 Q75.992 1433.18 75.992 1437.67 Q75.992 1439.8 75.1818 1441.72 Q74.3948 1443.62 72.2883 1446.21 Q71.7096 1446.88 68.6078 1450.1 Q65.5059 1453.3 59.8578 1459.06 Z\" fill=\"#000000\" fill-rule=\"nonzero\" fill-opacity=\"1\" /><path clip-path=\"url(#clip870)\" d=\"M66.5939 1050.05 L54.7884 1068.5 L66.5939 1068.5 L66.5939 1050.05 M65.367 1045.97 L71.2466 1045.97 L71.2466 1068.5 L76.1772 1068.5 L76.1772 1072.39 L71.2466 1072.39 L71.2466 1080.53 L66.5939 1080.53 L66.5939 1072.39 L50.9921 1072.39 L50.9921 1067.87 L65.367 1045.97 Z\" fill=\"#000000\" fill-rule=\"nonzero\" fill-opacity=\"1\" /><path clip-path=\"url(#clip870)\" d=\"M64.6495 678.929 Q61.5013 678.929 59.6495 681.081 Q57.8208 683.234 57.8208 686.984 Q57.8208 690.711 59.6495 692.887 Q61.5013 695.04 64.6495 695.04 Q67.7976 695.04 69.6263 692.887 Q71.4781 690.711 71.4781 686.984 Q71.4781 683.234 69.6263 681.081 Q67.7976 678.929 64.6495 678.929 M73.9318 664.276 L73.9318 668.535 Q72.1726 667.702 70.367 667.262 Q68.5846 666.822 66.8254 666.822 Q62.1958 666.822 59.7421 669.947 Q57.3115 673.072 56.9643 679.392 Q58.33 677.378 60.3902 676.313 Q62.4504 675.225 64.9272 675.225 Q70.1355 675.225 73.1448 678.396 Q76.1772 681.544 76.1772 686.984 Q76.1772 692.308 73.029 695.526 Q69.8809 698.743 64.6495 698.743 Q58.6541 698.743 55.4828 694.16 Q52.3116 689.554 52.3116 680.827 Q52.3116 672.632 56.2004 667.771 Q60.0893 662.887 66.6402 662.887 Q68.3994 662.887 70.1818 663.234 Q71.9874 663.582 73.9318 664.276 Z\" fill=\"#000000\" fill-rule=\"nonzero\" fill-opacity=\"1\" /><path clip-path=\"url(#clip870)\" d=\"M64.3254 299.198 Q60.9921 299.198 59.0708 300.981 Q57.1726 302.763 57.1726 305.888 Q57.1726 309.013 59.0708 310.795 Q60.9921 312.578 64.3254 312.578 Q67.6587 312.578 69.58 310.795 Q71.5013 308.99 71.5013 305.888 Q71.5013 302.763 69.58 300.981 Q67.6819 299.198 64.3254 299.198 M59.6495 297.208 Q56.6402 296.467 54.9504 294.407 Q53.2838 292.347 53.2838 289.384 Q53.2838 285.24 56.2236 282.833 Q59.1865 280.425 64.3254 280.425 Q69.4874 280.425 72.4272 282.833 Q75.367 285.24 75.367 289.384 Q75.367 292.347 73.6772 294.407 Q72.0105 296.467 69.0244 297.208 Q72.404 297.995 74.279 300.286 Q76.1772 302.578 76.1772 305.888 Q76.1772 310.911 73.0985 313.596 Q70.0429 316.282 64.3254 316.282 Q58.6078 316.282 55.5291 313.596 Q52.4736 310.911 52.4736 305.888 Q52.4736 302.578 54.3717 300.286 Q56.2699 297.995 59.6495 297.208 M57.9365 289.823 Q57.9365 292.509 59.6032 294.013 Q61.293 295.518 64.3254 295.518 Q67.3346 295.518 69.0244 294.013 Q70.7374 292.509 70.7374 289.823 Q70.7374 287.138 69.0244 285.634 Q67.3346 284.129 64.3254 284.129 Q61.293 284.129 59.6032 285.634 Q57.9365 287.138 57.9365 289.823 Z\" fill=\"#000000\" fill-rule=\"nonzero\" fill-opacity=\"1\" /><polyline clip-path=\"url(#clip872)\" style=\"stroke:#009af9; stroke-linecap:round; stroke-linejoin:round; stroke-width:4; stroke-opacity:1; fill:none\" points=\"175.59,1254.48 1136.39,1445.72 2289.34,87.9763 175.59,1254.48 \"/>\n",
       "<path clip-path=\"url(#clip870)\" d=\"M186.863 198.898 L463.351 198.898 L463.351 95.2176 L186.863 95.2176  Z\" fill=\"#ffffff\" fill-rule=\"evenodd\" fill-opacity=\"1\"/>\n",
       "<polyline clip-path=\"url(#clip870)\" style=\"stroke:#000000; stroke-linecap:round; stroke-linejoin:round; stroke-width:4; stroke-opacity:1; fill:none\" points=\"186.863,198.898 463.351,198.898 463.351,95.2176 186.863,95.2176 186.863,198.898 \"/>\n",
       "<polyline clip-path=\"url(#clip870)\" style=\"stroke:#009af9; stroke-linecap:round; stroke-linejoin:round; stroke-width:4; stroke-opacity:1; fill:none\" points=\"211.758,147.058 361.13,147.058 \"/>\n",
       "<path clip-path=\"url(#clip870)\" d=\"M399.868 166.745 Q398.063 171.375 396.35 172.787 Q394.637 174.199 391.766 174.199 L388.364 174.199 L388.364 170.634 L390.864 170.634 Q392.623 170.634 393.595 169.8 Q394.567 168.967 395.748 165.865 L396.512 163.921 L386.026 138.412 L390.54 138.412 L398.641 158.689 L406.743 138.412 L411.257 138.412 L399.868 166.745 Z\" fill=\"#000000\" fill-rule=\"nonzero\" fill-opacity=\"1\" /><path clip-path=\"url(#clip870)\" d=\"M418.549 160.402 L426.188 160.402 L426.188 134.037 L417.877 135.703 L417.877 131.444 L426.141 129.778 L430.817 129.778 L430.817 160.402 L438.456 160.402 L438.456 164.338 L418.549 164.338 L418.549 160.402 Z\" fill=\"#000000\" fill-rule=\"nonzero\" fill-opacity=\"1\" /></svg>\n"
      ],
      "text/html": [
       "<?xml version=\"1.0\" encoding=\"utf-8\"?>\n",
       "<svg xmlns=\"http://www.w3.org/2000/svg\" xmlns:xlink=\"http://www.w3.org/1999/xlink\" width=\"600\" height=\"400\" viewBox=\"0 0 2400 1600\">\n",
       "<defs>\n",
       "  <clipPath id=\"clip920\">\n",
       "    <rect x=\"0\" y=\"0\" width=\"2400\" height=\"1600\"/>\n",
       "  </clipPath>\n",
       "</defs>\n",
       "<path clip-path=\"url(#clip920)\" d=\"M0 1600 L2400 1600 L2400 0 L0 0  Z\" fill=\"#ffffff\" fill-rule=\"evenodd\" fill-opacity=\"1\"/>\n",
       "<defs>\n",
       "  <clipPath id=\"clip921\">\n",
       "    <rect x=\"480\" y=\"0\" width=\"1681\" height=\"1600\"/>\n",
       "  </clipPath>\n",
       "</defs>\n",
       "<path clip-path=\"url(#clip920)\" d=\"M112.177 1486.45 L2352.76 1486.45 L2352.76 47.2441 L112.177 47.2441  Z\" fill=\"#ffffff\" fill-rule=\"evenodd\" fill-opacity=\"1\"/>\n",
       "<defs>\n",
       "  <clipPath id=\"clip922\">\n",
       "    <rect x=\"112\" y=\"47\" width=\"2242\" height=\"1440\"/>\n",
       "  </clipPath>\n",
       "</defs>\n",
       "<polyline clip-path=\"url(#clip922)\" style=\"stroke:#000000; stroke-linecap:round; stroke-linejoin:round; stroke-width:2; stroke-opacity:0.1; fill:none\" points=\"175.59,1486.45 175.59,47.2441 \"/>\n",
       "<polyline clip-path=\"url(#clip922)\" style=\"stroke:#000000; stroke-linecap:round; stroke-linejoin:round; stroke-width:2; stroke-opacity:0.1; fill:none\" points=\"655.988,1486.45 655.988,47.2441 \"/>\n",
       "<polyline clip-path=\"url(#clip922)\" style=\"stroke:#000000; stroke-linecap:round; stroke-linejoin:round; stroke-width:2; stroke-opacity:0.1; fill:none\" points=\"1136.39,1486.45 1136.39,47.2441 \"/>\n",
       "<polyline clip-path=\"url(#clip922)\" style=\"stroke:#000000; stroke-linecap:round; stroke-linejoin:round; stroke-width:2; stroke-opacity:0.1; fill:none\" points=\"1616.79,1486.45 1616.79,47.2441 \"/>\n",
       "<polyline clip-path=\"url(#clip922)\" style=\"stroke:#000000; stroke-linecap:round; stroke-linejoin:round; stroke-width:2; stroke-opacity:0.1; fill:none\" points=\"2097.18,1486.45 2097.18,47.2441 \"/>\n",
       "<polyline clip-path=\"url(#clip920)\" style=\"stroke:#000000; stroke-linecap:round; stroke-linejoin:round; stroke-width:4; stroke-opacity:1; fill:none\" points=\"112.177,1486.45 2352.76,1486.45 \"/>\n",
       "<polyline clip-path=\"url(#clip920)\" style=\"stroke:#000000; stroke-linecap:round; stroke-linejoin:round; stroke-width:4; stroke-opacity:1; fill:none\" points=\"175.59,1486.45 175.59,1467.55 \"/>\n",
       "<polyline clip-path=\"url(#clip920)\" style=\"stroke:#000000; stroke-linecap:round; stroke-linejoin:round; stroke-width:4; stroke-opacity:1; fill:none\" points=\"655.988,1486.45 655.988,1467.55 \"/>\n",
       "<polyline clip-path=\"url(#clip920)\" style=\"stroke:#000000; stroke-linecap:round; stroke-linejoin:round; stroke-width:4; stroke-opacity:1; fill:none\" points=\"1136.39,1486.45 1136.39,1467.55 \"/>\n",
       "<polyline clip-path=\"url(#clip920)\" style=\"stroke:#000000; stroke-linecap:round; stroke-linejoin:round; stroke-width:4; stroke-opacity:1; fill:none\" points=\"1616.79,1486.45 1616.79,1467.55 \"/>\n",
       "<polyline clip-path=\"url(#clip920)\" style=\"stroke:#000000; stroke-linecap:round; stroke-linejoin:round; stroke-width:4; stroke-opacity:1; fill:none\" points=\"2097.18,1486.45 2097.18,1467.55 \"/>\n",
       "<path clip-path=\"url(#clip920)\" d=\"M175.59 1517.37 Q171.979 1517.37 170.15 1520.93 Q168.344 1524.47 168.344 1531.6 Q168.344 1538.71 170.15 1542.27 Q171.979 1545.82 175.59 1545.82 Q179.224 1545.82 181.03 1542.27 Q182.858 1538.71 182.858 1531.6 Q182.858 1524.47 181.03 1520.93 Q179.224 1517.37 175.59 1517.37 M175.59 1513.66 Q181.4 1513.66 184.455 1518.27 Q187.534 1522.85 187.534 1531.6 Q187.534 1540.33 184.455 1544.94 Q181.4 1549.52 175.59 1549.52 Q169.78 1549.52 166.701 1544.94 Q163.645 1540.33 163.645 1531.6 Q163.645 1522.85 166.701 1518.27 Q169.78 1513.66 175.59 1513.66 Z\" fill=\"#000000\" fill-rule=\"nonzero\" fill-opacity=\"1\" /><path clip-path=\"url(#clip920)\" d=\"M650.641 1544.91 L666.96 1544.91 L666.96 1548.85 L645.016 1548.85 L645.016 1544.91 Q647.678 1542.16 652.261 1537.53 Q656.868 1532.88 658.048 1531.53 Q660.294 1529.01 661.173 1527.27 Q662.076 1525.51 662.076 1523.82 Q662.076 1521.07 660.132 1519.33 Q658.211 1517.6 655.109 1517.6 Q652.91 1517.6 650.456 1518.36 Q648.025 1519.13 645.248 1520.68 L645.248 1515.95 Q648.072 1514.82 650.525 1514.24 Q652.979 1513.66 655.016 1513.66 Q660.386 1513.66 663.581 1516.35 Q666.775 1519.03 666.775 1523.52 Q666.775 1525.65 665.965 1527.57 Q665.178 1529.47 663.072 1532.07 Q662.493 1532.74 659.391 1535.95 Q656.289 1539.15 650.641 1544.91 Z\" fill=\"#000000\" fill-rule=\"nonzero\" fill-opacity=\"1\" /><path clip-path=\"url(#clip920)\" d=\"M1139.4 1518.36 L1127.59 1536.81 L1139.4 1536.81 L1139.4 1518.36 M1138.17 1514.29 L1144.05 1514.29 L1144.05 1536.81 L1148.98 1536.81 L1148.98 1540.7 L1144.05 1540.7 L1144.05 1548.85 L1139.4 1548.85 L1139.4 1540.7 L1123.79 1540.7 L1123.79 1536.19 L1138.17 1514.29 Z\" fill=\"#000000\" fill-rule=\"nonzero\" fill-opacity=\"1\" /><path clip-path=\"url(#clip920)\" d=\"M1617.19 1529.7 Q1614.04 1529.7 1612.19 1531.86 Q1610.36 1534.01 1610.36 1537.76 Q1610.36 1541.49 1612.19 1543.66 Q1614.04 1545.82 1617.19 1545.82 Q1620.34 1545.82 1622.17 1543.66 Q1624.02 1541.49 1624.02 1537.76 Q1624.02 1534.01 1622.17 1531.86 Q1620.34 1529.7 1617.19 1529.7 M1626.47 1515.05 L1626.47 1519.31 Q1624.71 1518.48 1622.91 1518.04 Q1621.13 1517.6 1619.37 1517.6 Q1614.74 1517.6 1612.28 1520.72 Q1609.85 1523.85 1609.51 1530.17 Q1610.87 1528.15 1612.93 1527.09 Q1614.99 1526 1617.47 1526 Q1622.68 1526 1625.69 1529.17 Q1628.72 1532.32 1628.72 1537.76 Q1628.72 1543.08 1625.57 1546.3 Q1622.42 1549.52 1617.19 1549.52 Q1611.2 1549.52 1608.02 1544.94 Q1604.85 1540.33 1604.85 1531.6 Q1604.85 1523.41 1608.74 1518.55 Q1612.63 1513.66 1619.18 1513.66 Q1620.94 1513.66 1622.72 1514.01 Q1624.53 1514.36 1626.47 1515.05 Z\" fill=\"#000000\" fill-rule=\"nonzero\" fill-opacity=\"1\" /><path clip-path=\"url(#clip920)\" d=\"M2097.18 1532.44 Q2093.85 1532.44 2091.93 1534.22 Q2090.03 1536 2090.03 1539.13 Q2090.03 1542.25 2091.93 1544.03 Q2093.85 1545.82 2097.18 1545.82 Q2100.52 1545.82 2102.44 1544.03 Q2104.36 1542.23 2104.36 1539.13 Q2104.36 1536 2102.44 1534.22 Q2100.54 1532.44 2097.18 1532.44 M2092.51 1530.45 Q2089.5 1529.7 2087.81 1527.64 Q2086.14 1525.58 2086.14 1522.62 Q2086.14 1518.48 2089.08 1516.07 Q2092.05 1513.66 2097.18 1513.66 Q2102.35 1513.66 2105.29 1516.07 Q2108.23 1518.48 2108.23 1522.62 Q2108.23 1525.58 2106.54 1527.64 Q2104.87 1529.7 2101.88 1530.45 Q2105.26 1531.23 2107.14 1533.52 Q2109.04 1535.82 2109.04 1539.13 Q2109.04 1544.15 2105.96 1546.83 Q2102.9 1549.52 2097.18 1549.52 Q2091.47 1549.52 2088.39 1546.83 Q2085.33 1544.15 2085.33 1539.13 Q2085.33 1535.82 2087.23 1533.52 Q2089.13 1531.23 2092.51 1530.45 M2090.8 1523.06 Q2090.8 1525.75 2092.46 1527.25 Q2094.15 1528.76 2097.18 1528.76 Q2100.19 1528.76 2101.88 1527.25 Q2103.6 1525.75 2103.6 1523.06 Q2103.6 1520.38 2101.88 1518.87 Q2100.19 1517.37 2097.18 1517.37 Q2094.15 1517.37 2092.46 1518.87 Q2090.8 1520.38 2090.8 1523.06 Z\" fill=\"#000000\" fill-rule=\"nonzero\" fill-opacity=\"1\" /><polyline clip-path=\"url(#clip922)\" style=\"stroke:#000000; stroke-linecap:round; stroke-linejoin:round; stroke-width:2; stroke-opacity:0.1; fill:none\" points=\"112.177,1445.72 2352.76,1445.72 \"/>\n",
       "<polyline clip-path=\"url(#clip922)\" style=\"stroke:#000000; stroke-linecap:round; stroke-linejoin:round; stroke-width:2; stroke-opacity:0.1; fill:none\" points=\"112.177,1063.25 2352.76,1063.25 \"/>\n",
       "<polyline clip-path=\"url(#clip922)\" style=\"stroke:#000000; stroke-linecap:round; stroke-linejoin:round; stroke-width:2; stroke-opacity:0.1; fill:none\" points=\"112.177,680.792 2352.76,680.792 \"/>\n",
       "<polyline clip-path=\"url(#clip922)\" style=\"stroke:#000000; stroke-linecap:round; stroke-linejoin:round; stroke-width:2; stroke-opacity:0.1; fill:none\" points=\"112.177,298.33 2352.76,298.33 \"/>\n",
       "<polyline clip-path=\"url(#clip920)\" style=\"stroke:#000000; stroke-linecap:round; stroke-linejoin:round; stroke-width:4; stroke-opacity:1; fill:none\" points=\"112.177,1486.45 112.177,47.2441 \"/>\n",
       "<polyline clip-path=\"url(#clip920)\" style=\"stroke:#000000; stroke-linecap:round; stroke-linejoin:round; stroke-width:4; stroke-opacity:1; fill:none\" points=\"112.177,1445.72 131.075,1445.72 \"/>\n",
       "<polyline clip-path=\"url(#clip920)\" style=\"stroke:#000000; stroke-linecap:round; stroke-linejoin:round; stroke-width:4; stroke-opacity:1; fill:none\" points=\"112.177,1063.25 131.075,1063.25 \"/>\n",
       "<polyline clip-path=\"url(#clip920)\" style=\"stroke:#000000; stroke-linecap:round; stroke-linejoin:round; stroke-width:4; stroke-opacity:1; fill:none\" points=\"112.177,680.792 131.075,680.792 \"/>\n",
       "<polyline clip-path=\"url(#clip920)\" style=\"stroke:#000000; stroke-linecap:round; stroke-linejoin:round; stroke-width:4; stroke-opacity:1; fill:none\" points=\"112.177,298.33 131.075,298.33 \"/>\n",
       "<path clip-path=\"url(#clip920)\" d=\"M59.8578 1459.06 L76.1772 1459.06 L76.1772 1463 L54.2328 1463 L54.2328 1459.06 Q56.8949 1456.31 61.4782 1451.68 Q66.0846 1447.02 67.2652 1445.68 Q69.5105 1443.16 70.3902 1441.42 Q71.2929 1439.66 71.2929 1437.97 Q71.2929 1435.22 69.3485 1433.48 Q67.4272 1431.75 64.3254 1431.75 Q62.1263 1431.75 59.6726 1432.51 Q57.2421 1433.27 54.4643 1434.82 L54.4643 1430.1 Q57.2884 1428.97 59.7421 1428.39 Q62.1958 1427.81 64.2328 1427.81 Q69.6031 1427.81 72.7976 1430.5 Q75.992 1433.18 75.992 1437.67 Q75.992 1439.8 75.1818 1441.72 Q74.3948 1443.62 72.2883 1446.21 Q71.7096 1446.88 68.6078 1450.1 Q65.5059 1453.3 59.8578 1459.06 Z\" fill=\"#000000\" fill-rule=\"nonzero\" fill-opacity=\"1\" /><path clip-path=\"url(#clip920)\" d=\"M66.5939 1050.05 L54.7884 1068.5 L66.5939 1068.5 L66.5939 1050.05 M65.367 1045.97 L71.2466 1045.97 L71.2466 1068.5 L76.1772 1068.5 L76.1772 1072.39 L71.2466 1072.39 L71.2466 1080.53 L66.5939 1080.53 L66.5939 1072.39 L50.9921 1072.39 L50.9921 1067.87 L65.367 1045.97 Z\" fill=\"#000000\" fill-rule=\"nonzero\" fill-opacity=\"1\" /><path clip-path=\"url(#clip920)\" d=\"M64.6495 678.929 Q61.5013 678.929 59.6495 681.081 Q57.8208 683.234 57.8208 686.984 Q57.8208 690.711 59.6495 692.887 Q61.5013 695.04 64.6495 695.04 Q67.7976 695.04 69.6263 692.887 Q71.4781 690.711 71.4781 686.984 Q71.4781 683.234 69.6263 681.081 Q67.7976 678.929 64.6495 678.929 M73.9318 664.276 L73.9318 668.535 Q72.1726 667.702 70.367 667.262 Q68.5846 666.822 66.8254 666.822 Q62.1958 666.822 59.7421 669.947 Q57.3115 673.072 56.9643 679.392 Q58.33 677.378 60.3902 676.313 Q62.4504 675.225 64.9272 675.225 Q70.1355 675.225 73.1448 678.396 Q76.1772 681.544 76.1772 686.984 Q76.1772 692.308 73.029 695.526 Q69.8809 698.743 64.6495 698.743 Q58.6541 698.743 55.4828 694.16 Q52.3116 689.554 52.3116 680.827 Q52.3116 672.632 56.2004 667.771 Q60.0893 662.887 66.6402 662.887 Q68.3994 662.887 70.1818 663.234 Q71.9874 663.582 73.9318 664.276 Z\" fill=\"#000000\" fill-rule=\"nonzero\" fill-opacity=\"1\" /><path clip-path=\"url(#clip920)\" d=\"M64.3254 299.198 Q60.9921 299.198 59.0708 300.981 Q57.1726 302.763 57.1726 305.888 Q57.1726 309.013 59.0708 310.795 Q60.9921 312.578 64.3254 312.578 Q67.6587 312.578 69.58 310.795 Q71.5013 308.99 71.5013 305.888 Q71.5013 302.763 69.58 300.981 Q67.6819 299.198 64.3254 299.198 M59.6495 297.208 Q56.6402 296.467 54.9504 294.407 Q53.2838 292.347 53.2838 289.384 Q53.2838 285.24 56.2236 282.833 Q59.1865 280.425 64.3254 280.425 Q69.4874 280.425 72.4272 282.833 Q75.367 285.24 75.367 289.384 Q75.367 292.347 73.6772 294.407 Q72.0105 296.467 69.0244 297.208 Q72.404 297.995 74.279 300.286 Q76.1772 302.578 76.1772 305.888 Q76.1772 310.911 73.0985 313.596 Q70.0429 316.282 64.3254 316.282 Q58.6078 316.282 55.5291 313.596 Q52.4736 310.911 52.4736 305.888 Q52.4736 302.578 54.3717 300.286 Q56.2699 297.995 59.6495 297.208 M57.9365 289.823 Q57.9365 292.509 59.6032 294.013 Q61.293 295.518 64.3254 295.518 Q67.3346 295.518 69.0244 294.013 Q70.7374 292.509 70.7374 289.823 Q70.7374 287.138 69.0244 285.634 Q67.3346 284.129 64.3254 284.129 Q61.293 284.129 59.6032 285.634 Q57.9365 287.138 57.9365 289.823 Z\" fill=\"#000000\" fill-rule=\"nonzero\" fill-opacity=\"1\" /><polyline clip-path=\"url(#clip922)\" style=\"stroke:#009af9; stroke-linecap:round; stroke-linejoin:round; stroke-width:4; stroke-opacity:1; fill:none\" points=\"175.59,1254.48 1136.39,1445.72 2289.34,87.9763 175.59,1254.48 \"/>\n",
       "<path clip-path=\"url(#clip920)\" d=\"M186.863 198.898 L463.351 198.898 L463.351 95.2176 L186.863 95.2176  Z\" fill=\"#ffffff\" fill-rule=\"evenodd\" fill-opacity=\"1\"/>\n",
       "<polyline clip-path=\"url(#clip920)\" style=\"stroke:#000000; stroke-linecap:round; stroke-linejoin:round; stroke-width:4; stroke-opacity:1; fill:none\" points=\"186.863,198.898 463.351,198.898 463.351,95.2176 186.863,95.2176 186.863,198.898 \"/>\n",
       "<polyline clip-path=\"url(#clip920)\" style=\"stroke:#009af9; stroke-linecap:round; stroke-linejoin:round; stroke-width:4; stroke-opacity:1; fill:none\" points=\"211.758,147.058 361.13,147.058 \"/>\n",
       "<path clip-path=\"url(#clip920)\" d=\"M399.868 166.745 Q398.063 171.375 396.35 172.787 Q394.637 174.199 391.766 174.199 L388.364 174.199 L388.364 170.634 L390.864 170.634 Q392.623 170.634 393.595 169.8 Q394.567 168.967 395.748 165.865 L396.512 163.921 L386.026 138.412 L390.54 138.412 L398.641 158.689 L406.743 138.412 L411.257 138.412 L399.868 166.745 Z\" fill=\"#000000\" fill-rule=\"nonzero\" fill-opacity=\"1\" /><path clip-path=\"url(#clip920)\" d=\"M418.549 160.402 L426.188 160.402 L426.188 134.037 L417.877 135.703 L417.877 131.444 L426.141 129.778 L430.817 129.778 L430.817 160.402 L438.456 160.402 L438.456 164.338 L418.549 164.338 L418.549 160.402 Z\" fill=\"#000000\" fill-rule=\"nonzero\" fill-opacity=\"1\" /></svg>\n"
      ]
     },
     "metadata": {},
     "output_type": "display_data"
    }
   ],
   "source": [
    "plot([A[1], B[1], C[1], A[1]], [A[2], B[2], C[2], A[2]] )"
   ]
  },
  {
   "cell_type": "code",
   "execution_count": 11,
   "metadata": {},
   "outputs": [
    {
     "data": {
      "image/png": "[encoded data removed]",
      "image/svg+xml": [
       "<?xml version=\"1.0\" encoding=\"utf-8\"?>\n",
       "<svg xmlns=\"http://www.w3.org/2000/svg\" xmlns:xlink=\"http://www.w3.org/1999/xlink\" width=\"600\" height=\"400\" viewBox=\"0 0 2400 1600\">\n",
       "<defs>\n",
       "  <clipPath id=\"clip320\">\n",
       "    <rect x=\"0\" y=\"0\" width=\"2400\" height=\"1600\"/>\n",
       "  </clipPath>\n",
       "</defs>\n",
       "<path clip-path=\"url(#clip320)\" d=\"M0 1600 L2400 1600 L2400 0 L0 0  Z\" fill=\"#ffffff\" fill-rule=\"evenodd\" fill-opacity=\"1\"/>\n",
       "<defs>\n",
       "  <clipPath id=\"clip321\">\n",
       "    <rect x=\"480\" y=\"0\" width=\"1681\" height=\"1600\"/>\n",
       "  </clipPath>\n",
       "</defs>\n",
       "<path clip-path=\"url(#clip320)\" d=\"M112.177 1486.45 L2352.76 1486.45 L2352.76 47.2441 L112.177 47.2441  Z\" fill=\"#ffffff\" fill-rule=\"evenodd\" fill-opacity=\"1\"/>\n",
       "<defs>\n",
       "  <clipPath id=\"clip322\">\n",
       "    <rect x=\"112\" y=\"47\" width=\"2242\" height=\"1440\"/>\n",
       "  </clipPath>\n",
       "</defs>\n",
       "<polyline clip-path=\"url(#clip322)\" style=\"stroke:#000000; stroke-linecap:round; stroke-linejoin:round; stroke-width:2; stroke-opacity:0.1; fill:none\" points=\"391.051,1486.45 391.051,47.2441 \"/>\n",
       "<polyline clip-path=\"url(#clip322)\" style=\"stroke:#000000; stroke-linecap:round; stroke-linejoin:round; stroke-width:2; stroke-opacity:0.1; fill:none\" points=\"869.128,1486.45 869.128,47.2441 \"/>\n",
       "<polyline clip-path=\"url(#clip322)\" style=\"stroke:#000000; stroke-linecap:round; stroke-linejoin:round; stroke-width:2; stroke-opacity:0.1; fill:none\" points=\"1347.21,1486.45 1347.21,47.2441 \"/>\n",
       "<polyline clip-path=\"url(#clip322)\" style=\"stroke:#000000; stroke-linecap:round; stroke-linejoin:round; stroke-width:2; stroke-opacity:0.1; fill:none\" points=\"1825.28,1486.45 1825.28,47.2441 \"/>\n",
       "<polyline clip-path=\"url(#clip322)\" style=\"stroke:#000000; stroke-linecap:round; stroke-linejoin:round; stroke-width:2; stroke-opacity:0.1; fill:none\" points=\"2303.36,1486.45 2303.36,47.2441 \"/>\n",
       "<polyline clip-path=\"url(#clip320)\" style=\"stroke:#000000; stroke-linecap:round; stroke-linejoin:round; stroke-width:4; stroke-opacity:1; fill:none\" points=\"112.177,1486.45 2352.76,1486.45 \"/>\n",
       "<polyline clip-path=\"url(#clip320)\" style=\"stroke:#000000; stroke-linecap:round; stroke-linejoin:round; stroke-width:4; stroke-opacity:1; fill:none\" points=\"391.051,1486.45 391.051,1467.55 \"/>\n",
       "<polyline clip-path=\"url(#clip320)\" style=\"stroke:#000000; stroke-linecap:round; stroke-linejoin:round; stroke-width:4; stroke-opacity:1; fill:none\" points=\"869.128,1486.45 869.128,1467.55 \"/>\n",
       "<polyline clip-path=\"url(#clip320)\" style=\"stroke:#000000; stroke-linecap:round; stroke-linejoin:round; stroke-width:4; stroke-opacity:1; fill:none\" points=\"1347.21,1486.45 1347.21,1467.55 \"/>\n",
       "<polyline clip-path=\"url(#clip320)\" style=\"stroke:#000000; stroke-linecap:round; stroke-linejoin:round; stroke-width:4; stroke-opacity:1; fill:none\" points=\"1825.28,1486.45 1825.28,1467.55 \"/>\n",
       "<polyline clip-path=\"url(#clip320)\" style=\"stroke:#000000; stroke-linecap:round; stroke-linejoin:round; stroke-width:4; stroke-opacity:1; fill:none\" points=\"2303.36,1486.45 2303.36,1467.55 \"/>\n",
       "<path clip-path=\"url(#clip320)\" d=\"M368.435 1517.37 Q364.824 1517.37 362.995 1520.93 Q361.19 1524.47 361.19 1531.6 Q361.19 1538.71 362.995 1542.27 Q364.824 1545.82 368.435 1545.82 Q372.069 1545.82 373.875 1542.27 Q375.703 1538.71 375.703 1531.6 Q375.703 1524.47 373.875 1520.93 Q372.069 1517.37 368.435 1517.37 M368.435 1513.66 Q374.245 1513.66 377.301 1518.27 Q380.379 1522.85 380.379 1531.6 Q380.379 1540.33 377.301 1544.94 Q374.245 1549.52 368.435 1549.52 Q362.625 1549.52 359.546 1544.94 Q356.491 1540.33 356.491 1531.6 Q356.491 1522.85 359.546 1518.27 Q362.625 1513.66 368.435 1513.66 Z\" fill=\"#000000\" fill-rule=\"nonzero\" fill-opacity=\"1\" /><path clip-path=\"url(#clip320)\" d=\"M388.597 1542.97 L393.481 1542.97 L393.481 1548.85 L388.597 1548.85 L388.597 1542.97 Z\" fill=\"#000000\" fill-rule=\"nonzero\" fill-opacity=\"1\" /><path clip-path=\"url(#clip320)\" d=\"M413.666 1517.37 Q410.055 1517.37 408.226 1520.93 Q406.421 1524.47 406.421 1531.6 Q406.421 1538.71 408.226 1542.27 Q410.055 1545.82 413.666 1545.82 Q417.3 1545.82 419.106 1542.27 Q420.935 1538.71 420.935 1531.6 Q420.935 1524.47 419.106 1520.93 Q417.3 1517.37 413.666 1517.37 M413.666 1513.66 Q419.476 1513.66 422.532 1518.27 Q425.611 1522.85 425.611 1531.6 Q425.611 1540.33 422.532 1544.94 Q419.476 1549.52 413.666 1549.52 Q407.856 1549.52 404.777 1544.94 Q401.722 1540.33 401.722 1531.6 Q401.722 1522.85 404.777 1518.27 Q407.856 1513.66 413.666 1513.66 Z\" fill=\"#000000\" fill-rule=\"nonzero\" fill-opacity=\"1\" /><path clip-path=\"url(#clip320)\" d=\"M840.864 1544.91 L857.183 1544.91 L857.183 1548.85 L835.239 1548.85 L835.239 1544.91 Q837.901 1542.16 842.484 1537.53 Q847.091 1532.88 848.271 1531.53 Q850.517 1529.01 851.396 1527.27 Q852.299 1525.51 852.299 1523.82 Q852.299 1521.07 850.355 1519.33 Q848.433 1517.6 845.332 1517.6 Q843.133 1517.6 840.679 1518.36 Q838.248 1519.13 835.471 1520.68 L835.471 1515.95 Q838.295 1514.82 840.748 1514.24 Q843.202 1513.66 845.239 1513.66 Q850.609 1513.66 853.804 1516.35 Q856.998 1519.03 856.998 1523.52 Q856.998 1525.65 856.188 1527.57 Q855.401 1529.47 853.295 1532.07 Q852.716 1532.74 849.614 1535.95 Q846.512 1539.15 840.864 1544.91 Z\" fill=\"#000000\" fill-rule=\"nonzero\" fill-opacity=\"1\" /><path clip-path=\"url(#clip320)\" d=\"M866.998 1542.97 L871.882 1542.97 L871.882 1548.85 L866.998 1548.85 L866.998 1542.97 Z\" fill=\"#000000\" fill-rule=\"nonzero\" fill-opacity=\"1\" /><path clip-path=\"url(#clip320)\" d=\"M882.114 1514.29 L900.47 1514.29 L900.47 1518.22 L886.396 1518.22 L886.396 1526.7 Q887.415 1526.35 888.433 1526.19 Q889.452 1526 890.47 1526 Q896.257 1526 899.637 1529.17 Q903.017 1532.34 903.017 1537.76 Q903.017 1543.34 899.544 1546.44 Q896.072 1549.52 889.753 1549.52 Q887.577 1549.52 885.308 1549.15 Q883.063 1548.78 880.656 1548.04 L880.656 1543.34 Q882.739 1544.47 884.961 1545.03 Q887.183 1545.58 889.66 1545.58 Q893.665 1545.58 896.003 1543.48 Q898.341 1541.37 898.341 1537.76 Q898.341 1534.15 896.003 1532.04 Q893.665 1529.94 889.66 1529.94 Q887.785 1529.94 885.91 1530.35 Q884.058 1530.77 882.114 1531.65 L882.114 1514.29 Z\" fill=\"#000000\" fill-rule=\"nonzero\" fill-opacity=\"1\" /><path clip-path=\"url(#clip320)\" d=\"M1314.37 1514.29 L1332.73 1514.29 L1332.73 1518.22 L1318.65 1518.22 L1318.65 1526.7 Q1319.67 1526.35 1320.69 1526.19 Q1321.71 1526 1322.73 1526 Q1328.51 1526 1331.89 1529.17 Q1335.27 1532.34 1335.27 1537.76 Q1335.27 1543.34 1331.8 1546.44 Q1328.33 1549.52 1322.01 1549.52 Q1319.83 1549.52 1317.56 1549.15 Q1315.32 1548.78 1312.91 1548.04 L1312.91 1543.34 Q1314.99 1544.47 1317.22 1545.03 Q1319.44 1545.58 1321.92 1545.58 Q1325.92 1545.58 1328.26 1543.48 Q1330.6 1541.37 1330.6 1537.76 Q1330.6 1534.15 1328.26 1532.04 Q1325.92 1529.94 1321.92 1529.94 Q1320.04 1529.94 1318.17 1530.35 Q1316.31 1530.77 1314.37 1531.65 L1314.37 1514.29 Z\" fill=\"#000000\" fill-rule=\"nonzero\" fill-opacity=\"1\" /><path clip-path=\"url(#clip320)\" d=\"M1344.49 1542.97 L1349.37 1542.97 L1349.37 1548.85 L1344.49 1548.85 L1344.49 1542.97 Z\" fill=\"#000000\" fill-rule=\"nonzero\" fill-opacity=\"1\" /><path clip-path=\"url(#clip320)\" d=\"M1369.55 1517.37 Q1365.94 1517.37 1364.11 1520.93 Q1362.31 1524.47 1362.31 1531.6 Q1362.31 1538.71 1364.11 1542.27 Q1365.94 1545.82 1369.55 1545.82 Q1373.19 1545.82 1374.99 1542.27 Q1376.82 1538.71 1376.82 1531.6 Q1376.82 1524.47 1374.99 1520.93 Q1373.19 1517.37 1369.55 1517.37 M1369.55 1513.66 Q1375.36 1513.66 1378.42 1518.27 Q1381.5 1522.85 1381.5 1531.6 Q1381.5 1540.33 1378.42 1544.94 Q1375.36 1549.52 1369.55 1549.52 Q1363.74 1549.52 1360.67 1544.94 Q1357.61 1540.33 1357.61 1531.6 Q1357.61 1522.85 1360.67 1518.27 Q1363.74 1513.66 1369.55 1513.66 Z\" fill=\"#000000\" fill-rule=\"nonzero\" fill-opacity=\"1\" /><path clip-path=\"url(#clip320)\" d=\"M1791.6 1514.29 L1813.82 1514.29 L1813.82 1516.28 L1801.28 1548.85 L1796.39 1548.85 L1808.2 1518.22 L1791.6 1518.22 L1791.6 1514.29 Z\" fill=\"#000000\" fill-rule=\"nonzero\" fill-opacity=\"1\" /><path clip-path=\"url(#clip320)\" d=\"M1822.94 1542.97 L1827.83 1542.97 L1827.83 1548.85 L1822.94 1548.85 L1822.94 1542.97 Z\" fill=\"#000000\" fill-rule=\"nonzero\" fill-opacity=\"1\" /><path clip-path=\"url(#clip320)\" d=\"M1838.06 1514.29 L1856.42 1514.29 L1856.42 1518.22 L1842.34 1518.22 L1842.34 1526.7 Q1843.36 1526.35 1844.38 1526.19 Q1845.4 1526 1846.42 1526 Q1852.2 1526 1855.58 1529.17 Q1858.96 1532.34 1858.96 1537.76 Q1858.96 1543.34 1855.49 1546.44 Q1852.02 1549.52 1845.7 1549.52 Q1843.52 1549.52 1841.25 1549.15 Q1839.01 1548.78 1836.6 1548.04 L1836.6 1543.34 Q1838.69 1544.47 1840.91 1545.03 Q1843.13 1545.58 1845.61 1545.58 Q1849.61 1545.58 1851.95 1543.48 Q1854.29 1541.37 1854.29 1537.76 Q1854.29 1534.15 1851.95 1532.04 Q1849.61 1529.94 1845.61 1529.94 Q1843.73 1529.94 1841.86 1530.35 Q1840 1530.77 1838.06 1531.65 L1838.06 1514.29 Z\" fill=\"#000000\" fill-rule=\"nonzero\" fill-opacity=\"1\" /><path clip-path=\"url(#clip320)\" d=\"M2255.43 1544.91 L2263.07 1544.91 L2263.07 1518.55 L2254.76 1520.21 L2254.76 1515.95 L2263.02 1514.29 L2267.7 1514.29 L2267.7 1544.91 L2275.34 1544.91 L2275.34 1548.85 L2255.43 1548.85 L2255.43 1544.91 Z\" fill=\"#000000\" fill-rule=\"nonzero\" fill-opacity=\"1\" /><path clip-path=\"url(#clip320)\" d=\"M2294.78 1517.37 Q2291.17 1517.37 2289.34 1520.93 Q2287.54 1524.47 2287.54 1531.6 Q2287.54 1538.71 2289.34 1542.27 Q2291.17 1545.82 2294.78 1545.82 Q2298.42 1545.82 2300.22 1542.27 Q2302.05 1538.71 2302.05 1531.6 Q2302.05 1524.47 2300.22 1520.93 Q2298.42 1517.37 2294.78 1517.37 M2294.78 1513.66 Q2300.59 1513.66 2303.65 1518.27 Q2306.73 1522.85 2306.73 1531.6 Q2306.73 1540.33 2303.65 1544.94 Q2300.59 1549.52 2294.78 1549.52 Q2288.97 1549.52 2285.89 1544.94 Q2282.84 1540.33 2282.84 1531.6 Q2282.84 1522.85 2285.89 1518.27 Q2288.97 1513.66 2294.78 1513.66 Z\" fill=\"#000000\" fill-rule=\"nonzero\" fill-opacity=\"1\" /><path clip-path=\"url(#clip320)\" d=\"M2314.95 1542.97 L2319.83 1542.97 L2319.83 1548.85 L2314.95 1548.85 L2314.95 1542.97 Z\" fill=\"#000000\" fill-rule=\"nonzero\" fill-opacity=\"1\" /><path clip-path=\"url(#clip320)\" d=\"M2340.01 1517.37 Q2336.4 1517.37 2334.57 1520.93 Q2332.77 1524.47 2332.77 1531.6 Q2332.77 1538.71 2334.57 1542.27 Q2336.4 1545.82 2340.01 1545.82 Q2343.65 1545.82 2345.45 1542.27 Q2347.28 1538.71 2347.28 1531.6 Q2347.28 1524.47 2345.45 1520.93 Q2343.65 1517.37 2340.01 1517.37 M2340.01 1513.66 Q2345.82 1513.66 2348.88 1518.27 Q2351.96 1522.85 2351.96 1531.6 Q2351.96 1540.33 2348.88 1544.94 Q2345.82 1549.52 2340.01 1549.52 Q2334.2 1549.52 2331.13 1544.94 Q2328.07 1540.33 2328.07 1531.6 Q2328.07 1522.85 2331.13 1518.27 Q2334.2 1513.66 2340.01 1513.66 Z\" fill=\"#000000\" fill-rule=\"nonzero\" fill-opacity=\"1\" /><polyline clip-path=\"url(#clip322)\" style=\"stroke:#000000; stroke-linecap:round; stroke-linejoin:round; stroke-width:2; stroke-opacity:0.1; fill:none\" points=\"112.177,1445.72 2352.76,1445.72 \"/>\n",
       "<polyline clip-path=\"url(#clip322)\" style=\"stroke:#000000; stroke-linecap:round; stroke-linejoin:round; stroke-width:2; stroke-opacity:0.1; fill:none\" points=\"112.177,1063.25 2352.76,1063.25 \"/>\n",
       "<polyline clip-path=\"url(#clip322)\" style=\"stroke:#000000; stroke-linecap:round; stroke-linejoin:round; stroke-width:2; stroke-opacity:0.1; fill:none\" points=\"112.177,680.792 2352.76,680.792 \"/>\n",
       "<polyline clip-path=\"url(#clip322)\" style=\"stroke:#000000; stroke-linecap:round; stroke-linejoin:round; stroke-width:2; stroke-opacity:0.1; fill:none\" points=\"112.177,298.33 2352.76,298.33 \"/>\n",
       "<polyline clip-path=\"url(#clip320)\" style=\"stroke:#000000; stroke-linecap:round; stroke-linejoin:round; stroke-width:4; stroke-opacity:1; fill:none\" points=\"112.177,1486.45 112.177,47.2441 \"/>\n",
       "<polyline clip-path=\"url(#clip320)\" style=\"stroke:#000000; stroke-linecap:round; stroke-linejoin:round; stroke-width:4; stroke-opacity:1; fill:none\" points=\"112.177,1445.72 131.075,1445.72 \"/>\n",
       "<polyline clip-path=\"url(#clip320)\" style=\"stroke:#000000; stroke-linecap:round; stroke-linejoin:round; stroke-width:4; stroke-opacity:1; fill:none\" points=\"112.177,1063.25 131.075,1063.25 \"/>\n",
       "<polyline clip-path=\"url(#clip320)\" style=\"stroke:#000000; stroke-linecap:round; stroke-linejoin:round; stroke-width:4; stroke-opacity:1; fill:none\" points=\"112.177,680.792 131.075,680.792 \"/>\n",
       "<polyline clip-path=\"url(#clip320)\" style=\"stroke:#000000; stroke-linecap:round; stroke-linejoin:round; stroke-width:4; stroke-opacity:1; fill:none\" points=\"112.177,298.33 131.075,298.33 \"/>\n",
       "<path clip-path=\"url(#clip320)\" d=\"M59.8578 1459.06 L76.1772 1459.06 L76.1772 1463 L54.2328 1463 L54.2328 1459.06 Q56.8949 1456.31 61.4782 1451.68 Q66.0846 1447.02 67.2652 1445.68 Q69.5105 1443.16 70.3902 1441.42 Q71.2929 1439.66 71.2929 1437.97 Q71.2929 1435.22 69.3485 1433.48 Q67.4272 1431.75 64.3254 1431.75 Q62.1263 1431.75 59.6726 1432.51 Q57.2421 1433.27 54.4643 1434.82 L54.4643 1430.1 Q57.2884 1428.97 59.7421 1428.39 Q62.1958 1427.81 64.2328 1427.81 Q69.6031 1427.81 72.7976 1430.5 Q75.992 1433.18 75.992 1437.67 Q75.992 1439.8 75.1818 1441.72 Q74.3948 1443.62 72.2883 1446.21 Q71.7096 1446.88 68.6078 1450.1 Q65.5059 1453.3 59.8578 1459.06 Z\" fill=\"#000000\" fill-rule=\"nonzero\" fill-opacity=\"1\" /><path clip-path=\"url(#clip320)\" d=\"M66.5939 1050.05 L54.7884 1068.5 L66.5939 1068.5 L66.5939 1050.05 M65.367 1045.97 L71.2466 1045.97 L71.2466 1068.5 L76.1772 1068.5 L76.1772 1072.39 L71.2466 1072.39 L71.2466 1080.53 L66.5939 1080.53 L66.5939 1072.39 L50.9921 1072.39 L50.9921 1067.87 L65.367 1045.97 Z\" fill=\"#000000\" fill-rule=\"nonzero\" fill-opacity=\"1\" /><path clip-path=\"url(#clip320)\" d=\"M64.6495 678.929 Q61.5013 678.929 59.6495 681.081 Q57.8208 683.234 57.8208 686.984 Q57.8208 690.711 59.6495 692.887 Q61.5013 695.04 64.6495 695.04 Q67.7976 695.04 69.6263 692.887 Q71.4781 690.711 71.4781 686.984 Q71.4781 683.234 69.6263 681.081 Q67.7976 678.929 64.6495 678.929 M73.9318 664.276 L73.9318 668.535 Q72.1726 667.702 70.367 667.262 Q68.5846 666.822 66.8254 666.822 Q62.1958 666.822 59.7421 669.947 Q57.3115 673.072 56.9643 679.392 Q58.33 677.378 60.3902 676.313 Q62.4504 675.225 64.9272 675.225 Q70.1355 675.225 73.1448 678.396 Q76.1772 681.544 76.1772 686.984 Q76.1772 692.308 73.029 695.526 Q69.8809 698.743 64.6495 698.743 Q58.6541 698.743 55.4828 694.16 Q52.3116 689.554 52.3116 680.827 Q52.3116 672.632 56.2004 667.771 Q60.0893 662.887 66.6402 662.887 Q68.3994 662.887 70.1818 663.234 Q71.9874 663.582 73.9318 664.276 Z\" fill=\"#000000\" fill-rule=\"nonzero\" fill-opacity=\"1\" /><path clip-path=\"url(#clip320)\" d=\"M64.3254 299.198 Q60.9921 299.198 59.0708 300.981 Q57.1726 302.763 57.1726 305.888 Q57.1726 309.013 59.0708 310.795 Q60.9921 312.578 64.3254 312.578 Q67.6587 312.578 69.58 310.795 Q71.5013 308.99 71.5013 305.888 Q71.5013 302.763 69.58 300.981 Q67.6819 299.198 64.3254 299.198 M59.6495 297.208 Q56.6402 296.467 54.9504 294.407 Q53.2838 292.347 53.2838 289.384 Q53.2838 285.24 56.2236 282.833 Q59.1865 280.425 64.3254 280.425 Q69.4874 280.425 72.4272 282.833 Q75.367 285.24 75.367 289.384 Q75.367 292.347 73.6772 294.407 Q72.0105 296.467 69.0244 297.208 Q72.404 297.995 74.279 300.286 Q76.1772 302.578 76.1772 305.888 Q76.1772 310.911 73.0985 313.596 Q70.0429 316.282 64.3254 316.282 Q58.6078 316.282 55.5291 313.596 Q52.4736 310.911 52.4736 305.888 Q52.4736 302.578 54.3717 300.286 Q56.2699 297.995 59.6495 297.208 M57.9365 289.823 Q57.9365 292.509 59.6032 294.013 Q61.293 295.518 64.3254 295.518 Q67.3346 295.518 69.0244 294.013 Q70.7374 292.509 70.7374 289.823 Q70.7374 287.138 69.0244 285.634 Q67.3346 284.129 64.3254 284.129 Q61.293 284.129 59.6032 285.634 Q57.9365 287.138 57.9365 289.823 Z\" fill=\"#000000\" fill-rule=\"nonzero\" fill-opacity=\"1\" /><polyline clip-path=\"url(#clip322)\" style=\"stroke:#009af9; stroke-linecap:round; stroke-linejoin:round; stroke-width:4; stroke-opacity:1; fill:none\" points=\"391.051,1254.48 1155.97,1445.72 2073.88,87.9763 391.051,1254.48 \"/>\n",
       "<polyline clip-path=\"url(#clip322)\" style=\"stroke:#e26f46; stroke-linecap:round; stroke-linejoin:round; stroke-width:4; stroke-opacity:1; fill:none\" points=\"1308.87,1136.45 1308.32,1119.25 1306.69,1102.11 1303.97,1085.11 1300.17,1068.31 1295.32,1051.8 1289.43,1035.62 1282.53,1019.85 1274.64,1004.54 1265.8,989.773 1256.04,975.592 1245.39,962.059 1233.92,949.229 1221.65,937.152 1208.63,925.878 1194.93,915.452 1180.6,905.915 1165.69,897.307 1150.27,889.662 1134.39,883.011 1118.12,877.38 1101.52,872.792 1084.67,869.266 1067.63,866.816 1050.47,865.452 1033.26,865.179 1016.06,865.998 998.949,867.906 981.994,870.896 965.264,874.954 948.824,880.066 932.741,886.21 917.081,893.362 901.906,901.493 887.277,910.57 873.253,920.556 859.891,931.412 847.244,943.093 835.363,955.553 824.297,968.741 814.089,982.605 804.782,997.088 796.411,1012.13 789.012,1027.68 782.613,1043.66 777.241,1060.02 772.917,1076.68 769.659,1093.59 767.48,1110.66 766.388,1127.85 766.388,1145.06 767.48,1162.24 769.659,1179.32 772.917,1196.23 777.241,1212.89 782.613,1229.25 789.012,1245.23 796.411,1260.77 804.782,1275.82 814.089,1290.3 824.297,1304.17 835.363,1317.35 847.244,1329.81 859.891,1341.49 873.253,1352.35 887.277,1362.34 901.906,1371.41 917.081,1379.54 932.741,1386.7 948.824,1392.84 965.264,1397.95 981.994,1402.01 998.949,1405 1016.06,1406.91 1033.26,1407.73 1050.47,1407.45 1067.63,1406.09 1084.67,1403.64 1101.52,1400.11 1118.12,1395.53 1134.39,1389.9 1150.27,1383.24 1165.69,1375.6 1180.6,1366.99 1194.93,1357.46 1208.63,1347.03 1221.65,1335.75 1233.92,1323.68 1245.39,1310.85 1256.04,1297.31 1265.8,1283.13 1274.64,1268.36 1282.53,1253.06 1289.43,1237.29 1295.32,1221.11 1300.17,1204.59 1303.97,1187.8 1306.69,1170.8 1308.32,1153.66 1308.87,1136.45 \"/>\n",
       "<path clip-path=\"url(#clip320)\" d=\"M186.863 250.738 L594.716 250.738 L594.716 95.2176 L186.863 95.2176  Z\" fill=\"#ffffff\" fill-rule=\"evenodd\" fill-opacity=\"1\"/>\n",
       "<polyline clip-path=\"url(#clip320)\" style=\"stroke:#000000; stroke-linecap:round; stroke-linejoin:round; stroke-width:4; stroke-opacity:1; fill:none\" points=\"186.863,250.738 594.716,250.738 594.716,95.2176 186.863,95.2176 186.863,250.738 \"/>\n",
       "<polyline clip-path=\"url(#clip320)\" style=\"stroke:#009af9; stroke-linecap:round; stroke-linejoin:round; stroke-width:4; stroke-opacity:1; fill:none\" points=\"211.758,147.058 361.13,147.058 \"/>\n",
       "<path clip-path=\"url(#clip320)\" d=\"M386.026 129.778 L415.262 129.778 L415.262 133.713 L402.993 133.713 L402.993 164.338 L398.294 164.338 L398.294 133.713 L386.026 133.713 L386.026 129.778 Z\" fill=\"#000000\" fill-rule=\"nonzero\" fill-opacity=\"1\" /><path clip-path=\"url(#clip320)\" d=\"M427.646 142.393 Q426.928 141.977 426.072 141.791 Q425.238 141.583 424.22 141.583 Q420.609 141.583 418.664 143.944 Q416.743 146.282 416.743 150.68 L416.743 164.338 L412.461 164.338 L412.461 138.412 L416.743 138.412 L416.743 142.44 Q418.086 140.078 420.238 138.944 Q422.391 137.787 425.47 137.787 Q425.91 137.787 426.442 137.856 Q426.975 137.903 427.623 138.018 L427.646 142.393 Z\" fill=\"#000000\" fill-rule=\"nonzero\" fill-opacity=\"1\" /><path clip-path=\"url(#clip320)\" d=\"M432.113 138.412 L436.373 138.412 L436.373 164.338 L432.113 164.338 L432.113 138.412 M432.113 128.319 L436.373 128.319 L436.373 133.713 L432.113 133.713 L432.113 128.319 Z\" fill=\"#000000\" fill-rule=\"nonzero\" fill-opacity=\"1\" /><path clip-path=\"url(#clip320)\" d=\"M457.067 151.305 Q451.905 151.305 449.914 152.486 Q447.924 153.666 447.924 156.514 Q447.924 158.782 449.405 160.125 Q450.91 161.444 453.479 161.444 Q457.021 161.444 459.15 158.944 Q461.303 156.421 461.303 152.254 L461.303 151.305 L457.067 151.305 M465.562 149.546 L465.562 164.338 L461.303 164.338 L461.303 160.402 Q459.845 162.763 457.669 163.898 Q455.493 165.009 452.345 165.009 Q448.363 165.009 446.002 162.787 Q443.664 160.541 443.664 156.791 Q443.664 152.416 446.581 150.194 Q449.521 147.972 455.331 147.972 L461.303 147.972 L461.303 147.555 Q461.303 144.615 459.359 143.018 Q457.437 141.398 453.942 141.398 Q451.72 141.398 449.613 141.93 Q447.507 142.463 445.562 143.527 L445.562 139.592 Q447.9 138.69 450.099 138.25 Q452.298 137.787 454.382 137.787 Q460.007 137.787 462.785 140.703 Q465.562 143.62 465.562 149.546 Z\" fill=\"#000000\" fill-rule=\"nonzero\" fill-opacity=\"1\" /><path clip-path=\"url(#clip320)\" d=\"M495.886 148.689 L495.886 164.338 L491.627 164.338 L491.627 148.828 Q491.627 145.148 490.192 143.319 Q488.757 141.49 485.886 141.49 Q482.437 141.49 480.446 143.69 Q478.456 145.889 478.456 149.685 L478.456 164.338 L474.173 164.338 L474.173 138.412 L478.456 138.412 L478.456 142.44 Q479.984 140.102 482.044 138.944 Q484.127 137.787 486.835 137.787 Q491.303 137.787 493.595 140.565 Q495.886 143.319 495.886 148.689 Z\" fill=\"#000000\" fill-rule=\"nonzero\" fill-opacity=\"1\" /><path clip-path=\"url(#clip320)\" d=\"M521.442 151.074 Q521.442 146.444 519.52 143.898 Q517.622 141.352 514.173 141.352 Q510.747 141.352 508.826 143.898 Q506.928 146.444 506.928 151.074 Q506.928 155.68 508.826 158.226 Q510.747 160.773 514.173 160.773 Q517.622 160.773 519.52 158.226 Q521.442 155.68 521.442 151.074 M525.701 161.12 Q525.701 167.74 522.761 170.958 Q519.821 174.199 513.756 174.199 Q511.511 174.199 509.52 173.851 Q507.53 173.527 505.655 172.833 L505.655 168.689 Q507.53 169.708 509.358 170.194 Q511.187 170.68 513.085 170.68 Q517.275 170.68 519.358 168.481 Q521.442 166.305 521.442 161.884 L521.442 159.777 Q520.122 162.069 518.062 163.203 Q516.002 164.338 513.131 164.338 Q508.363 164.338 505.446 160.703 Q502.53 157.069 502.53 151.074 Q502.53 145.055 505.446 141.421 Q508.363 137.787 513.131 137.787 Q516.002 137.787 518.062 138.921 Q520.122 140.055 521.442 142.347 L521.442 138.412 L525.701 138.412 L525.701 161.12 Z\" fill=\"#000000\" fill-rule=\"nonzero\" fill-opacity=\"1\" /><path clip-path=\"url(#clip320)\" d=\"M534.474 128.319 L538.733 128.319 L538.733 164.338 L534.474 164.338 L534.474 128.319 Z\" fill=\"#000000\" fill-rule=\"nonzero\" fill-opacity=\"1\" /><path clip-path=\"url(#clip320)\" d=\"M569.821 150.31 L569.821 152.393 L550.238 152.393 Q550.516 156.791 552.877 159.106 Q555.261 161.398 559.497 161.398 Q561.951 161.398 564.242 160.796 Q566.557 160.194 568.826 158.99 L568.826 163.018 Q566.534 163.99 564.127 164.5 Q561.719 165.009 559.242 165.009 Q553.039 165.009 549.404 161.398 Q545.793 157.787 545.793 151.629 Q545.793 145.264 549.219 141.537 Q552.668 137.787 558.502 137.787 Q563.733 137.787 566.765 141.166 Q569.821 144.523 569.821 150.31 M565.562 149.06 Q565.515 145.565 563.594 143.481 Q561.696 141.398 558.548 141.398 Q554.983 141.398 552.83 143.412 Q550.701 145.426 550.377 149.083 L565.562 149.06 Z\" fill=\"#000000\" fill-rule=\"nonzero\" fill-opacity=\"1\" /><polyline clip-path=\"url(#clip320)\" style=\"stroke:#e26f46; stroke-linecap:round; stroke-linejoin:round; stroke-width:4; stroke-opacity:1; fill:none\" points=\"211.758,198.898 361.13,198.898 \"/>\n",
       "<path clip-path=\"url(#clip320)\" d=\"M386.026 181.618 L390.702 181.618 L390.702 216.178 L386.026 216.178 L386.026 181.618 Z\" fill=\"#000000\" fill-rule=\"nonzero\" fill-opacity=\"1\" /><path clip-path=\"url(#clip320)\" d=\"M421.373 200.529 L421.373 216.178 L417.113 216.178 L417.113 200.668 Q417.113 196.988 415.678 195.159 Q414.243 193.33 411.373 193.33 Q407.924 193.33 405.933 195.53 Q403.942 197.729 403.942 201.525 L403.942 216.178 L399.66 216.178 L399.66 190.252 L403.942 190.252 L403.942 194.28 Q405.47 191.942 407.53 190.784 Q409.614 189.627 412.322 189.627 Q416.789 189.627 419.081 192.405 Q421.373 195.159 421.373 200.529 Z\" fill=\"#000000\" fill-rule=\"nonzero\" fill-opacity=\"1\" /><path clip-path=\"url(#clip320)\" d=\"M448.525 191.247 L448.525 195.229 Q446.72 194.233 444.891 193.747 Q443.086 193.238 441.234 193.238 Q437.09 193.238 434.799 195.877 Q432.507 198.492 432.507 203.238 Q432.507 207.983 434.799 210.622 Q437.09 213.238 441.234 213.238 Q443.086 213.238 444.891 212.752 Q446.72 212.242 448.525 211.247 L448.525 215.182 Q446.743 216.016 444.822 216.432 Q442.924 216.849 440.771 216.849 Q434.914 216.849 431.465 213.168 Q428.016 209.488 428.016 203.238 Q428.016 196.895 431.488 193.261 Q434.984 189.627 441.049 189.627 Q443.016 189.627 444.891 190.043 Q446.766 190.437 448.525 191.247 Z\" fill=\"#000000\" fill-rule=\"nonzero\" fill-opacity=\"1\" /><path clip-path=\"url(#clip320)\" d=\"M455.933 190.252 L460.192 190.252 L460.192 216.178 L455.933 216.178 L455.933 190.252 M455.933 180.159 L460.192 180.159 L460.192 185.553 L455.933 185.553 L455.933 180.159 Z\" fill=\"#000000\" fill-rule=\"nonzero\" fill-opacity=\"1\" /><path clip-path=\"url(#clip320)\" d=\"M484.127 194.233 Q483.409 193.817 482.553 193.631 Q481.72 193.423 480.701 193.423 Q477.09 193.423 475.146 195.784 Q473.224 198.122 473.224 202.52 L473.224 216.178 L468.942 216.178 L468.942 190.252 L473.224 190.252 L473.224 194.28 Q474.567 191.918 476.72 190.784 Q478.872 189.627 481.951 189.627 Q482.391 189.627 482.923 189.696 Q483.456 189.743 484.104 189.858 L484.127 194.233 Z\" fill=\"#000000\" fill-rule=\"nonzero\" fill-opacity=\"1\" /><path clip-path=\"url(#clip320)\" d=\"M506.21 191.247 L506.21 195.229 Q504.405 194.233 502.576 193.747 Q500.77 193.238 498.919 193.238 Q494.775 193.238 492.483 195.877 Q490.192 198.492 490.192 203.238 Q490.192 207.983 492.483 210.622 Q494.775 213.238 498.919 213.238 Q500.77 213.238 502.576 212.752 Q504.405 212.242 506.21 211.247 L506.21 215.182 Q504.428 216.016 502.507 216.432 Q500.608 216.849 498.456 216.849 Q492.599 216.849 489.15 213.168 Q485.701 209.488 485.701 203.238 Q485.701 196.895 489.173 193.261 Q492.669 189.627 498.733 189.627 Q500.701 189.627 502.576 190.043 Q504.451 190.437 506.21 191.247 Z\" fill=\"#000000\" fill-rule=\"nonzero\" fill-opacity=\"1\" /><path clip-path=\"url(#clip320)\" d=\"M513.618 180.159 L517.877 180.159 L517.877 216.178 L513.618 216.178 L513.618 180.159 Z\" fill=\"#000000\" fill-rule=\"nonzero\" fill-opacity=\"1\" /><path clip-path=\"url(#clip320)\" d=\"M548.965 202.15 L548.965 204.233 L529.381 204.233 Q529.659 208.631 532.02 210.946 Q534.405 213.238 538.641 213.238 Q541.094 213.238 543.386 212.636 Q545.701 212.034 547.969 210.83 L547.969 214.858 Q545.678 215.83 543.27 216.34 Q540.863 216.849 538.386 216.849 Q532.182 216.849 528.548 213.238 Q524.937 209.627 524.937 203.469 Q524.937 197.104 528.363 193.377 Q531.812 189.627 537.645 189.627 Q542.877 189.627 545.909 193.006 Q548.965 196.363 548.965 202.15 M544.705 200.9 Q544.659 197.405 542.738 195.321 Q540.84 193.238 537.692 193.238 Q534.127 193.238 531.974 195.252 Q529.844 197.266 529.52 200.923 L544.705 200.9 Z\" fill=\"#000000\" fill-rule=\"nonzero\" fill-opacity=\"1\" /></svg>\n"
      ],
      "text/html": [
       "<?xml version=\"1.0\" encoding=\"utf-8\"?>\n",
       "<svg xmlns=\"http://www.w3.org/2000/svg\" xmlns:xlink=\"http://www.w3.org/1999/xlink\" width=\"600\" height=\"400\" viewBox=\"0 0 2400 1600\">\n",
       "<defs>\n",
       "  <clipPath id=\"clip370\">\n",
       "    <rect x=\"0\" y=\"0\" width=\"2400\" height=\"1600\"/>\n",
       "  </clipPath>\n",
       "</defs>\n",
       "<path clip-path=\"url(#clip370)\" d=\"M0 1600 L2400 1600 L2400 0 L0 0  Z\" fill=\"#ffffff\" fill-rule=\"evenodd\" fill-opacity=\"1\"/>\n",
       "<defs>\n",
       "  <clipPath id=\"clip371\">\n",
       "    <rect x=\"480\" y=\"0\" width=\"1681\" height=\"1600\"/>\n",
       "  </clipPath>\n",
       "</defs>\n",
       "<path clip-path=\"url(#clip370)\" d=\"M112.177 1486.45 L2352.76 1486.45 L2352.76 47.2441 L112.177 47.2441  Z\" fill=\"#ffffff\" fill-rule=\"evenodd\" fill-opacity=\"1\"/>\n",
       "<defs>\n",
       "  <clipPath id=\"clip372\">\n",
       "    <rect x=\"112\" y=\"47\" width=\"2242\" height=\"1440\"/>\n",
       "  </clipPath>\n",
       "</defs>\n",
       "<polyline clip-path=\"url(#clip372)\" style=\"stroke:#000000; stroke-linecap:round; stroke-linejoin:round; stroke-width:2; stroke-opacity:0.1; fill:none\" points=\"391.051,1486.45 391.051,47.2441 \"/>\n",
       "<polyline clip-path=\"url(#clip372)\" style=\"stroke:#000000; stroke-linecap:round; stroke-linejoin:round; stroke-width:2; stroke-opacity:0.1; fill:none\" points=\"869.128,1486.45 869.128,47.2441 \"/>\n",
       "<polyline clip-path=\"url(#clip372)\" style=\"stroke:#000000; stroke-linecap:round; stroke-linejoin:round; stroke-width:2; stroke-opacity:0.1; fill:none\" points=\"1347.21,1486.45 1347.21,47.2441 \"/>\n",
       "<polyline clip-path=\"url(#clip372)\" style=\"stroke:#000000; stroke-linecap:round; stroke-linejoin:round; stroke-width:2; stroke-opacity:0.1; fill:none\" points=\"1825.28,1486.45 1825.28,47.2441 \"/>\n",
       "<polyline clip-path=\"url(#clip372)\" style=\"stroke:#000000; stroke-linecap:round; stroke-linejoin:round; stroke-width:2; stroke-opacity:0.1; fill:none\" points=\"2303.36,1486.45 2303.36,47.2441 \"/>\n",
       "<polyline clip-path=\"url(#clip370)\" style=\"stroke:#000000; stroke-linecap:round; stroke-linejoin:round; stroke-width:4; stroke-opacity:1; fill:none\" points=\"112.177,1486.45 2352.76,1486.45 \"/>\n",
       "<polyline clip-path=\"url(#clip370)\" style=\"stroke:#000000; stroke-linecap:round; stroke-linejoin:round; stroke-width:4; stroke-opacity:1; fill:none\" points=\"391.051,1486.45 391.051,1467.55 \"/>\n",
       "<polyline clip-path=\"url(#clip370)\" style=\"stroke:#000000; stroke-linecap:round; stroke-linejoin:round; stroke-width:4; stroke-opacity:1; fill:none\" points=\"869.128,1486.45 869.128,1467.55 \"/>\n",
       "<polyline clip-path=\"url(#clip370)\" style=\"stroke:#000000; stroke-linecap:round; stroke-linejoin:round; stroke-width:4; stroke-opacity:1; fill:none\" points=\"1347.21,1486.45 1347.21,1467.55 \"/>\n",
       "<polyline clip-path=\"url(#clip370)\" style=\"stroke:#000000; stroke-linecap:round; stroke-linejoin:round; stroke-width:4; stroke-opacity:1; fill:none\" points=\"1825.28,1486.45 1825.28,1467.55 \"/>\n",
       "<polyline clip-path=\"url(#clip370)\" style=\"stroke:#000000; stroke-linecap:round; stroke-linejoin:round; stroke-width:4; stroke-opacity:1; fill:none\" points=\"2303.36,1486.45 2303.36,1467.55 \"/>\n",
       "<path clip-path=\"url(#clip370)\" d=\"M368.435 1517.37 Q364.824 1517.37 362.995 1520.93 Q361.19 1524.47 361.19 1531.6 Q361.19 1538.71 362.995 1542.27 Q364.824 1545.82 368.435 1545.82 Q372.069 1545.82 373.875 1542.27 Q375.703 1538.71 375.703 1531.6 Q375.703 1524.47 373.875 1520.93 Q372.069 1517.37 368.435 1517.37 M368.435 1513.66 Q374.245 1513.66 377.301 1518.27 Q380.379 1522.85 380.379 1531.6 Q380.379 1540.33 377.301 1544.94 Q374.245 1549.52 368.435 1549.52 Q362.625 1549.52 359.546 1544.94 Q356.491 1540.33 356.491 1531.6 Q356.491 1522.85 359.546 1518.27 Q362.625 1513.66 368.435 1513.66 Z\" fill=\"#000000\" fill-rule=\"nonzero\" fill-opacity=\"1\" /><path clip-path=\"url(#clip370)\" d=\"M388.597 1542.97 L393.481 1542.97 L393.481 1548.85 L388.597 1548.85 L388.597 1542.97 Z\" fill=\"#000000\" fill-rule=\"nonzero\" fill-opacity=\"1\" /><path clip-path=\"url(#clip370)\" d=\"M413.666 1517.37 Q410.055 1517.37 408.226 1520.93 Q406.421 1524.47 406.421 1531.6 Q406.421 1538.71 408.226 1542.27 Q410.055 1545.82 413.666 1545.82 Q417.3 1545.82 419.106 1542.27 Q420.935 1538.71 420.935 1531.6 Q420.935 1524.47 419.106 1520.93 Q417.3 1517.37 413.666 1517.37 M413.666 1513.66 Q419.476 1513.66 422.532 1518.27 Q425.611 1522.85 425.611 1531.6 Q425.611 1540.33 422.532 1544.94 Q419.476 1549.52 413.666 1549.52 Q407.856 1549.52 404.777 1544.94 Q401.722 1540.33 401.722 1531.6 Q401.722 1522.85 404.777 1518.27 Q407.856 1513.66 413.666 1513.66 Z\" fill=\"#000000\" fill-rule=\"nonzero\" fill-opacity=\"1\" /><path clip-path=\"url(#clip370)\" d=\"M840.864 1544.91 L857.183 1544.91 L857.183 1548.85 L835.239 1548.85 L835.239 1544.91 Q837.901 1542.16 842.484 1537.53 Q847.091 1532.88 848.271 1531.53 Q850.517 1529.01 851.396 1527.27 Q852.299 1525.51 852.299 1523.82 Q852.299 1521.07 850.355 1519.33 Q848.433 1517.6 845.332 1517.6 Q843.133 1517.6 840.679 1518.36 Q838.248 1519.13 835.471 1520.68 L835.471 1515.95 Q838.295 1514.82 840.748 1514.24 Q843.202 1513.66 845.239 1513.66 Q850.609 1513.66 853.804 1516.35 Q856.998 1519.03 856.998 1523.52 Q856.998 1525.65 856.188 1527.57 Q855.401 1529.47 853.295 1532.07 Q852.716 1532.74 849.614 1535.95 Q846.512 1539.15 840.864 1544.91 Z\" fill=\"#000000\" fill-rule=\"nonzero\" fill-opacity=\"1\" /><path clip-path=\"url(#clip370)\" d=\"M866.998 1542.97 L871.882 1542.97 L871.882 1548.85 L866.998 1548.85 L866.998 1542.97 Z\" fill=\"#000000\" fill-rule=\"nonzero\" fill-opacity=\"1\" /><path clip-path=\"url(#clip370)\" d=\"M882.114 1514.29 L900.47 1514.29 L900.47 1518.22 L886.396 1518.22 L886.396 1526.7 Q887.415 1526.35 888.433 1526.19 Q889.452 1526 890.47 1526 Q896.257 1526 899.637 1529.17 Q903.017 1532.34 903.017 1537.76 Q903.017 1543.34 899.544 1546.44 Q896.072 1549.52 889.753 1549.52 Q887.577 1549.52 885.308 1549.15 Q883.063 1548.78 880.656 1548.04 L880.656 1543.34 Q882.739 1544.47 884.961 1545.03 Q887.183 1545.58 889.66 1545.58 Q893.665 1545.58 896.003 1543.48 Q898.341 1541.37 898.341 1537.76 Q898.341 1534.15 896.003 1532.04 Q893.665 1529.94 889.66 1529.94 Q887.785 1529.94 885.91 1530.35 Q884.058 1530.77 882.114 1531.65 L882.114 1514.29 Z\" fill=\"#000000\" fill-rule=\"nonzero\" fill-opacity=\"1\" /><path clip-path=\"url(#clip370)\" d=\"M1314.37 1514.29 L1332.73 1514.29 L1332.73 1518.22 L1318.65 1518.22 L1318.65 1526.7 Q1319.67 1526.35 1320.69 1526.19 Q1321.71 1526 1322.73 1526 Q1328.51 1526 1331.89 1529.17 Q1335.27 1532.34 1335.27 1537.76 Q1335.27 1543.34 1331.8 1546.44 Q1328.33 1549.52 1322.01 1549.52 Q1319.83 1549.52 1317.56 1549.15 Q1315.32 1548.78 1312.91 1548.04 L1312.91 1543.34 Q1314.99 1544.47 1317.22 1545.03 Q1319.44 1545.58 1321.92 1545.58 Q1325.92 1545.58 1328.26 1543.48 Q1330.6 1541.37 1330.6 1537.76 Q1330.6 1534.15 1328.26 1532.04 Q1325.92 1529.94 1321.92 1529.94 Q1320.04 1529.94 1318.17 1530.35 Q1316.31 1530.77 1314.37 1531.65 L1314.37 1514.29 Z\" fill=\"#000000\" fill-rule=\"nonzero\" fill-opacity=\"1\" /><path clip-path=\"url(#clip370)\" d=\"M1344.49 1542.97 L1349.37 1542.97 L1349.37 1548.85 L1344.49 1548.85 L1344.49 1542.97 Z\" fill=\"#000000\" fill-rule=\"nonzero\" fill-opacity=\"1\" /><path clip-path=\"url(#clip370)\" d=\"M1369.55 1517.37 Q1365.94 1517.37 1364.11 1520.93 Q1362.31 1524.47 1362.31 1531.6 Q1362.31 1538.71 1364.11 1542.27 Q1365.94 1545.82 1369.55 1545.82 Q1373.19 1545.82 1374.99 1542.27 Q1376.82 1538.71 1376.82 1531.6 Q1376.82 1524.47 1374.99 1520.93 Q1373.19 1517.37 1369.55 1517.37 M1369.55 1513.66 Q1375.36 1513.66 1378.42 1518.27 Q1381.5 1522.85 1381.5 1531.6 Q1381.5 1540.33 1378.42 1544.94 Q1375.36 1549.52 1369.55 1549.52 Q1363.74 1549.52 1360.67 1544.94 Q1357.61 1540.33 1357.61 1531.6 Q1357.61 1522.85 1360.67 1518.27 Q1363.74 1513.66 1369.55 1513.66 Z\" fill=\"#000000\" fill-rule=\"nonzero\" fill-opacity=\"1\" /><path clip-path=\"url(#clip370)\" d=\"M1791.6 1514.29 L1813.82 1514.29 L1813.82 1516.28 L1801.28 1548.85 L1796.39 1548.85 L1808.2 1518.22 L1791.6 1518.22 L1791.6 1514.29 Z\" fill=\"#000000\" fill-rule=\"nonzero\" fill-opacity=\"1\" /><path clip-path=\"url(#clip370)\" d=\"M1822.94 1542.97 L1827.83 1542.97 L1827.83 1548.85 L1822.94 1548.85 L1822.94 1542.97 Z\" fill=\"#000000\" fill-rule=\"nonzero\" fill-opacity=\"1\" /><path clip-path=\"url(#clip370)\" d=\"M1838.06 1514.29 L1856.42 1514.29 L1856.42 1518.22 L1842.34 1518.22 L1842.34 1526.7 Q1843.36 1526.35 1844.38 1526.19 Q1845.4 1526 1846.42 1526 Q1852.2 1526 1855.58 1529.17 Q1858.96 1532.34 1858.96 1537.76 Q1858.96 1543.34 1855.49 1546.44 Q1852.02 1549.52 1845.7 1549.52 Q1843.52 1549.52 1841.25 1549.15 Q1839.01 1548.78 1836.6 1548.04 L1836.6 1543.34 Q1838.69 1544.47 1840.91 1545.03 Q1843.13 1545.58 1845.61 1545.58 Q1849.61 1545.58 1851.95 1543.48 Q1854.29 1541.37 1854.29 1537.76 Q1854.29 1534.15 1851.95 1532.04 Q1849.61 1529.94 1845.61 1529.94 Q1843.73 1529.94 1841.86 1530.35 Q1840 1530.77 1838.06 1531.65 L1838.06 1514.29 Z\" fill=\"#000000\" fill-rule=\"nonzero\" fill-opacity=\"1\" /><path clip-path=\"url(#clip370)\" d=\"M2255.43 1544.91 L2263.07 1544.91 L2263.07 1518.55 L2254.76 1520.21 L2254.76 1515.95 L2263.02 1514.29 L2267.7 1514.29 L2267.7 1544.91 L2275.34 1544.91 L2275.34 1548.85 L2255.43 1548.85 L2255.43 1544.91 Z\" fill=\"#000000\" fill-rule=\"nonzero\" fill-opacity=\"1\" /><path clip-path=\"url(#clip370)\" d=\"M2294.78 1517.37 Q2291.17 1517.37 2289.34 1520.93 Q2287.54 1524.47 2287.54 1531.6 Q2287.54 1538.71 2289.34 1542.27 Q2291.17 1545.82 2294.78 1545.82 Q2298.42 1545.82 2300.22 1542.27 Q2302.05 1538.71 2302.05 1531.6 Q2302.05 1524.47 2300.22 1520.93 Q2298.42 1517.37 2294.78 1517.37 M2294.78 1513.66 Q2300.59 1513.66 2303.65 1518.27 Q2306.73 1522.85 2306.73 1531.6 Q2306.73 1540.33 2303.65 1544.94 Q2300.59 1549.52 2294.78 1549.52 Q2288.97 1549.52 2285.89 1544.94 Q2282.84 1540.33 2282.84 1531.6 Q2282.84 1522.85 2285.89 1518.27 Q2288.97 1513.66 2294.78 1513.66 Z\" fill=\"#000000\" fill-rule=\"nonzero\" fill-opacity=\"1\" /><path clip-path=\"url(#clip370)\" d=\"M2314.95 1542.97 L2319.83 1542.97 L2319.83 1548.85 L2314.95 1548.85 L2314.95 1542.97 Z\" fill=\"#000000\" fill-rule=\"nonzero\" fill-opacity=\"1\" /><path clip-path=\"url(#clip370)\" d=\"M2340.01 1517.37 Q2336.4 1517.37 2334.57 1520.93 Q2332.77 1524.47 2332.77 1531.6 Q2332.77 1538.71 2334.57 1542.27 Q2336.4 1545.82 2340.01 1545.82 Q2343.65 1545.82 2345.45 1542.27 Q2347.28 1538.71 2347.28 1531.6 Q2347.28 1524.47 2345.45 1520.93 Q2343.65 1517.37 2340.01 1517.37 M2340.01 1513.66 Q2345.82 1513.66 2348.88 1518.27 Q2351.96 1522.85 2351.96 1531.6 Q2351.96 1540.33 2348.88 1544.94 Q2345.82 1549.52 2340.01 1549.52 Q2334.2 1549.52 2331.13 1544.94 Q2328.07 1540.33 2328.07 1531.6 Q2328.07 1522.85 2331.13 1518.27 Q2334.2 1513.66 2340.01 1513.66 Z\" fill=\"#000000\" fill-rule=\"nonzero\" fill-opacity=\"1\" /><polyline clip-path=\"url(#clip372)\" style=\"stroke:#000000; stroke-linecap:round; stroke-linejoin:round; stroke-width:2; stroke-opacity:0.1; fill:none\" points=\"112.177,1445.72 2352.76,1445.72 \"/>\n",
       "<polyline clip-path=\"url(#clip372)\" style=\"stroke:#000000; stroke-linecap:round; stroke-linejoin:round; stroke-width:2; stroke-opacity:0.1; fill:none\" points=\"112.177,1063.25 2352.76,1063.25 \"/>\n",
       "<polyline clip-path=\"url(#clip372)\" style=\"stroke:#000000; stroke-linecap:round; stroke-linejoin:round; stroke-width:2; stroke-opacity:0.1; fill:none\" points=\"112.177,680.792 2352.76,680.792 \"/>\n",
       "<polyline clip-path=\"url(#clip372)\" style=\"stroke:#000000; stroke-linecap:round; stroke-linejoin:round; stroke-width:2; stroke-opacity:0.1; fill:none\" points=\"112.177,298.33 2352.76,298.33 \"/>\n",
       "<polyline clip-path=\"url(#clip370)\" style=\"stroke:#000000; stroke-linecap:round; stroke-linejoin:round; stroke-width:4; stroke-opacity:1; fill:none\" points=\"112.177,1486.45 112.177,47.2441 \"/>\n",
       "<polyline clip-path=\"url(#clip370)\" style=\"stroke:#000000; stroke-linecap:round; stroke-linejoin:round; stroke-width:4; stroke-opacity:1; fill:none\" points=\"112.177,1445.72 131.075,1445.72 \"/>\n",
       "<polyline clip-path=\"url(#clip370)\" style=\"stroke:#000000; stroke-linecap:round; stroke-linejoin:round; stroke-width:4; stroke-opacity:1; fill:none\" points=\"112.177,1063.25 131.075,1063.25 \"/>\n",
       "<polyline clip-path=\"url(#clip370)\" style=\"stroke:#000000; stroke-linecap:round; stroke-linejoin:round; stroke-width:4; stroke-opacity:1; fill:none\" points=\"112.177,680.792 131.075,680.792 \"/>\n",
       "<polyline clip-path=\"url(#clip370)\" style=\"stroke:#000000; stroke-linecap:round; stroke-linejoin:round; stroke-width:4; stroke-opacity:1; fill:none\" points=\"112.177,298.33 131.075,298.33 \"/>\n",
       "<path clip-path=\"url(#clip370)\" d=\"M59.8578 1459.06 L76.1772 1459.06 L76.1772 1463 L54.2328 1463 L54.2328 1459.06 Q56.8949 1456.31 61.4782 1451.68 Q66.0846 1447.02 67.2652 1445.68 Q69.5105 1443.16 70.3902 1441.42 Q71.2929 1439.66 71.2929 1437.97 Q71.2929 1435.22 69.3485 1433.48 Q67.4272 1431.75 64.3254 1431.75 Q62.1263 1431.75 59.6726 1432.51 Q57.2421 1433.27 54.4643 1434.82 L54.4643 1430.1 Q57.2884 1428.97 59.7421 1428.39 Q62.1958 1427.81 64.2328 1427.81 Q69.6031 1427.81 72.7976 1430.5 Q75.992 1433.18 75.992 1437.67 Q75.992 1439.8 75.1818 1441.72 Q74.3948 1443.62 72.2883 1446.21 Q71.7096 1446.88 68.6078 1450.1 Q65.5059 1453.3 59.8578 1459.06 Z\" fill=\"#000000\" fill-rule=\"nonzero\" fill-opacity=\"1\" /><path clip-path=\"url(#clip370)\" d=\"M66.5939 1050.05 L54.7884 1068.5 L66.5939 1068.5 L66.5939 1050.05 M65.367 1045.97 L71.2466 1045.97 L71.2466 1068.5 L76.1772 1068.5 L76.1772 1072.39 L71.2466 1072.39 L71.2466 1080.53 L66.5939 1080.53 L66.5939 1072.39 L50.9921 1072.39 L50.9921 1067.87 L65.367 1045.97 Z\" fill=\"#000000\" fill-rule=\"nonzero\" fill-opacity=\"1\" /><path clip-path=\"url(#clip370)\" d=\"M64.6495 678.929 Q61.5013 678.929 59.6495 681.081 Q57.8208 683.234 57.8208 686.984 Q57.8208 690.711 59.6495 692.887 Q61.5013 695.04 64.6495 695.04 Q67.7976 695.04 69.6263 692.887 Q71.4781 690.711 71.4781 686.984 Q71.4781 683.234 69.6263 681.081 Q67.7976 678.929 64.6495 678.929 M73.9318 664.276 L73.9318 668.535 Q72.1726 667.702 70.367 667.262 Q68.5846 666.822 66.8254 666.822 Q62.1958 666.822 59.7421 669.947 Q57.3115 673.072 56.9643 679.392 Q58.33 677.378 60.3902 676.313 Q62.4504 675.225 64.9272 675.225 Q70.1355 675.225 73.1448 678.396 Q76.1772 681.544 76.1772 686.984 Q76.1772 692.308 73.029 695.526 Q69.8809 698.743 64.6495 698.743 Q58.6541 698.743 55.4828 694.16 Q52.3116 689.554 52.3116 680.827 Q52.3116 672.632 56.2004 667.771 Q60.0893 662.887 66.6402 662.887 Q68.3994 662.887 70.1818 663.234 Q71.9874 663.582 73.9318 664.276 Z\" fill=\"#000000\" fill-rule=\"nonzero\" fill-opacity=\"1\" /><path clip-path=\"url(#clip370)\" d=\"M64.3254 299.198 Q60.9921 299.198 59.0708 300.981 Q57.1726 302.763 57.1726 305.888 Q57.1726 309.013 59.0708 310.795 Q60.9921 312.578 64.3254 312.578 Q67.6587 312.578 69.58 310.795 Q71.5013 308.99 71.5013 305.888 Q71.5013 302.763 69.58 300.981 Q67.6819 299.198 64.3254 299.198 M59.6495 297.208 Q56.6402 296.467 54.9504 294.407 Q53.2838 292.347 53.2838 289.384 Q53.2838 285.24 56.2236 282.833 Q59.1865 280.425 64.3254 280.425 Q69.4874 280.425 72.4272 282.833 Q75.367 285.24 75.367 289.384 Q75.367 292.347 73.6772 294.407 Q72.0105 296.467 69.0244 297.208 Q72.404 297.995 74.279 300.286 Q76.1772 302.578 76.1772 305.888 Q76.1772 310.911 73.0985 313.596 Q70.0429 316.282 64.3254 316.282 Q58.6078 316.282 55.5291 313.596 Q52.4736 310.911 52.4736 305.888 Q52.4736 302.578 54.3717 300.286 Q56.2699 297.995 59.6495 297.208 M57.9365 289.823 Q57.9365 292.509 59.6032 294.013 Q61.293 295.518 64.3254 295.518 Q67.3346 295.518 69.0244 294.013 Q70.7374 292.509 70.7374 289.823 Q70.7374 287.138 69.0244 285.634 Q67.3346 284.129 64.3254 284.129 Q61.293 284.129 59.6032 285.634 Q57.9365 287.138 57.9365 289.823 Z\" fill=\"#000000\" fill-rule=\"nonzero\" fill-opacity=\"1\" /><polyline clip-path=\"url(#clip372)\" style=\"stroke:#009af9; stroke-linecap:round; stroke-linejoin:round; stroke-width:4; stroke-opacity:1; fill:none\" points=\"391.051,1254.48 1155.97,1445.72 2073.88,87.9763 391.051,1254.48 \"/>\n",
       "<polyline clip-path=\"url(#clip372)\" style=\"stroke:#e26f46; stroke-linecap:round; stroke-linejoin:round; stroke-width:4; stroke-opacity:1; fill:none\" points=\"1308.87,1136.45 1308.32,1119.25 1306.69,1102.11 1303.97,1085.11 1300.17,1068.31 1295.32,1051.8 1289.43,1035.62 1282.53,1019.85 1274.64,1004.54 1265.8,989.773 1256.04,975.592 1245.39,962.059 1233.92,949.229 1221.65,937.152 1208.63,925.878 1194.93,915.452 1180.6,905.915 1165.69,897.307 1150.27,889.662 1134.39,883.011 1118.12,877.38 1101.52,872.792 1084.67,869.266 1067.63,866.816 1050.47,865.452 1033.26,865.179 1016.06,865.998 998.949,867.906 981.994,870.896 965.264,874.954 948.824,880.066 932.741,886.21 917.081,893.362 901.906,901.493 887.277,910.57 873.253,920.556 859.891,931.412 847.244,943.093 835.363,955.553 824.297,968.741 814.089,982.605 804.782,997.088 796.411,1012.13 789.012,1027.68 782.613,1043.66 777.241,1060.02 772.917,1076.68 769.659,1093.59 767.48,1110.66 766.388,1127.85 766.388,1145.06 767.48,1162.24 769.659,1179.32 772.917,1196.23 777.241,1212.89 782.613,1229.25 789.012,1245.23 796.411,1260.77 804.782,1275.82 814.089,1290.3 824.297,1304.17 835.363,1317.35 847.244,1329.81 859.891,1341.49 873.253,1352.35 887.277,1362.34 901.906,1371.41 917.081,1379.54 932.741,1386.7 948.824,1392.84 965.264,1397.95 981.994,1402.01 998.949,1405 1016.06,1406.91 1033.26,1407.73 1050.47,1407.45 1067.63,1406.09 1084.67,1403.64 1101.52,1400.11 1118.12,1395.53 1134.39,1389.9 1150.27,1383.24 1165.69,1375.6 1180.6,1366.99 1194.93,1357.46 1208.63,1347.03 1221.65,1335.75 1233.92,1323.68 1245.39,1310.85 1256.04,1297.31 1265.8,1283.13 1274.64,1268.36 1282.53,1253.06 1289.43,1237.29 1295.32,1221.11 1300.17,1204.59 1303.97,1187.8 1306.69,1170.8 1308.32,1153.66 1308.87,1136.45 \"/>\n",
       "<path clip-path=\"url(#clip370)\" d=\"M186.863 250.738 L594.716 250.738 L594.716 95.2176 L186.863 95.2176  Z\" fill=\"#ffffff\" fill-rule=\"evenodd\" fill-opacity=\"1\"/>\n",
       "<polyline clip-path=\"url(#clip370)\" style=\"stroke:#000000; stroke-linecap:round; stroke-linejoin:round; stroke-width:4; stroke-opacity:1; fill:none\" points=\"186.863,250.738 594.716,250.738 594.716,95.2176 186.863,95.2176 186.863,250.738 \"/>\n",
       "<polyline clip-path=\"url(#clip370)\" style=\"stroke:#009af9; stroke-linecap:round; stroke-linejoin:round; stroke-width:4; stroke-opacity:1; fill:none\" points=\"211.758,147.058 361.13,147.058 \"/>\n",
       "<path clip-path=\"url(#clip370)\" d=\"M386.026 129.778 L415.262 129.778 L415.262 133.713 L402.993 133.713 L402.993 164.338 L398.294 164.338 L398.294 133.713 L386.026 133.713 L386.026 129.778 Z\" fill=\"#000000\" fill-rule=\"nonzero\" fill-opacity=\"1\" /><path clip-path=\"url(#clip370)\" d=\"M427.646 142.393 Q426.928 141.977 426.072 141.791 Q425.238 141.583 424.22 141.583 Q420.609 141.583 418.664 143.944 Q416.743 146.282 416.743 150.68 L416.743 164.338 L412.461 164.338 L412.461 138.412 L416.743 138.412 L416.743 142.44 Q418.086 140.078 420.238 138.944 Q422.391 137.787 425.47 137.787 Q425.91 137.787 426.442 137.856 Q426.975 137.903 427.623 138.018 L427.646 142.393 Z\" fill=\"#000000\" fill-rule=\"nonzero\" fill-opacity=\"1\" /><path clip-path=\"url(#clip370)\" d=\"M432.113 138.412 L436.373 138.412 L436.373 164.338 L432.113 164.338 L432.113 138.412 M432.113 128.319 L436.373 128.319 L436.373 133.713 L432.113 133.713 L432.113 128.319 Z\" fill=\"#000000\" fill-rule=\"nonzero\" fill-opacity=\"1\" /><path clip-path=\"url(#clip370)\" d=\"M457.067 151.305 Q451.905 151.305 449.914 152.486 Q447.924 153.666 447.924 156.514 Q447.924 158.782 449.405 160.125 Q450.91 161.444 453.479 161.444 Q457.021 161.444 459.15 158.944 Q461.303 156.421 461.303 152.254 L461.303 151.305 L457.067 151.305 M465.562 149.546 L465.562 164.338 L461.303 164.338 L461.303 160.402 Q459.845 162.763 457.669 163.898 Q455.493 165.009 452.345 165.009 Q448.363 165.009 446.002 162.787 Q443.664 160.541 443.664 156.791 Q443.664 152.416 446.581 150.194 Q449.521 147.972 455.331 147.972 L461.303 147.972 L461.303 147.555 Q461.303 144.615 459.359 143.018 Q457.437 141.398 453.942 141.398 Q451.72 141.398 449.613 141.93 Q447.507 142.463 445.562 143.527 L445.562 139.592 Q447.9 138.69 450.099 138.25 Q452.298 137.787 454.382 137.787 Q460.007 137.787 462.785 140.703 Q465.562 143.62 465.562 149.546 Z\" fill=\"#000000\" fill-rule=\"nonzero\" fill-opacity=\"1\" /><path clip-path=\"url(#clip370)\" d=\"M495.886 148.689 L495.886 164.338 L491.627 164.338 L491.627 148.828 Q491.627 145.148 490.192 143.319 Q488.757 141.49 485.886 141.49 Q482.437 141.49 480.446 143.69 Q478.456 145.889 478.456 149.685 L478.456 164.338 L474.173 164.338 L474.173 138.412 L478.456 138.412 L478.456 142.44 Q479.984 140.102 482.044 138.944 Q484.127 137.787 486.835 137.787 Q491.303 137.787 493.595 140.565 Q495.886 143.319 495.886 148.689 Z\" fill=\"#000000\" fill-rule=\"nonzero\" fill-opacity=\"1\" /><path clip-path=\"url(#clip370)\" d=\"M521.442 151.074 Q521.442 146.444 519.52 143.898 Q517.622 141.352 514.173 141.352 Q510.747 141.352 508.826 143.898 Q506.928 146.444 506.928 151.074 Q506.928 155.68 508.826 158.226 Q510.747 160.773 514.173 160.773 Q517.622 160.773 519.52 158.226 Q521.442 155.68 521.442 151.074 M525.701 161.12 Q525.701 167.74 522.761 170.958 Q519.821 174.199 513.756 174.199 Q511.511 174.199 509.52 173.851 Q507.53 173.527 505.655 172.833 L505.655 168.689 Q507.53 169.708 509.358 170.194 Q511.187 170.68 513.085 170.68 Q517.275 170.68 519.358 168.481 Q521.442 166.305 521.442 161.884 L521.442 159.777 Q520.122 162.069 518.062 163.203 Q516.002 164.338 513.131 164.338 Q508.363 164.338 505.446 160.703 Q502.53 157.069 502.53 151.074 Q502.53 145.055 505.446 141.421 Q508.363 137.787 513.131 137.787 Q516.002 137.787 518.062 138.921 Q520.122 140.055 521.442 142.347 L521.442 138.412 L525.701 138.412 L525.701 161.12 Z\" fill=\"#000000\" fill-rule=\"nonzero\" fill-opacity=\"1\" /><path clip-path=\"url(#clip370)\" d=\"M534.474 128.319 L538.733 128.319 L538.733 164.338 L534.474 164.338 L534.474 128.319 Z\" fill=\"#000000\" fill-rule=\"nonzero\" fill-opacity=\"1\" /><path clip-path=\"url(#clip370)\" d=\"M569.821 150.31 L569.821 152.393 L550.238 152.393 Q550.516 156.791 552.877 159.106 Q555.261 161.398 559.497 161.398 Q561.951 161.398 564.242 160.796 Q566.557 160.194 568.826 158.99 L568.826 163.018 Q566.534 163.99 564.127 164.5 Q561.719 165.009 559.242 165.009 Q553.039 165.009 549.404 161.398 Q545.793 157.787 545.793 151.629 Q545.793 145.264 549.219 141.537 Q552.668 137.787 558.502 137.787 Q563.733 137.787 566.765 141.166 Q569.821 144.523 569.821 150.31 M565.562 149.06 Q565.515 145.565 563.594 143.481 Q561.696 141.398 558.548 141.398 Q554.983 141.398 552.83 143.412 Q550.701 145.426 550.377 149.083 L565.562 149.06 Z\" fill=\"#000000\" fill-rule=\"nonzero\" fill-opacity=\"1\" /><polyline clip-path=\"url(#clip370)\" style=\"stroke:#e26f46; stroke-linecap:round; stroke-linejoin:round; stroke-width:4; stroke-opacity:1; fill:none\" points=\"211.758,198.898 361.13,198.898 \"/>\n",
       "<path clip-path=\"url(#clip370)\" d=\"M386.026 181.618 L390.702 181.618 L390.702 216.178 L386.026 216.178 L386.026 181.618 Z\" fill=\"#000000\" fill-rule=\"nonzero\" fill-opacity=\"1\" /><path clip-path=\"url(#clip370)\" d=\"M421.373 200.529 L421.373 216.178 L417.113 216.178 L417.113 200.668 Q417.113 196.988 415.678 195.159 Q414.243 193.33 411.373 193.33 Q407.924 193.33 405.933 195.53 Q403.942 197.729 403.942 201.525 L403.942 216.178 L399.66 216.178 L399.66 190.252 L403.942 190.252 L403.942 194.28 Q405.47 191.942 407.53 190.784 Q409.614 189.627 412.322 189.627 Q416.789 189.627 419.081 192.405 Q421.373 195.159 421.373 200.529 Z\" fill=\"#000000\" fill-rule=\"nonzero\" fill-opacity=\"1\" /><path clip-path=\"url(#clip370)\" d=\"M448.525 191.247 L448.525 195.229 Q446.72 194.233 444.891 193.747 Q443.086 193.238 441.234 193.238 Q437.09 193.238 434.799 195.877 Q432.507 198.492 432.507 203.238 Q432.507 207.983 434.799 210.622 Q437.09 213.238 441.234 213.238 Q443.086 213.238 444.891 212.752 Q446.72 212.242 448.525 211.247 L448.525 215.182 Q446.743 216.016 444.822 216.432 Q442.924 216.849 440.771 216.849 Q434.914 216.849 431.465 213.168 Q428.016 209.488 428.016 203.238 Q428.016 196.895 431.488 193.261 Q434.984 189.627 441.049 189.627 Q443.016 189.627 444.891 190.043 Q446.766 190.437 448.525 191.247 Z\" fill=\"#000000\" fill-rule=\"nonzero\" fill-opacity=\"1\" /><path clip-path=\"url(#clip370)\" d=\"M455.933 190.252 L460.192 190.252 L460.192 216.178 L455.933 216.178 L455.933 190.252 M455.933 180.159 L460.192 180.159 L460.192 185.553 L455.933 185.553 L455.933 180.159 Z\" fill=\"#000000\" fill-rule=\"nonzero\" fill-opacity=\"1\" /><path clip-path=\"url(#clip370)\" d=\"M484.127 194.233 Q483.409 193.817 482.553 193.631 Q481.72 193.423 480.701 193.423 Q477.09 193.423 475.146 195.784 Q473.224 198.122 473.224 202.52 L473.224 216.178 L468.942 216.178 L468.942 190.252 L473.224 190.252 L473.224 194.28 Q474.567 191.918 476.72 190.784 Q478.872 189.627 481.951 189.627 Q482.391 189.627 482.923 189.696 Q483.456 189.743 484.104 189.858 L484.127 194.233 Z\" fill=\"#000000\" fill-rule=\"nonzero\" fill-opacity=\"1\" /><path clip-path=\"url(#clip370)\" d=\"M506.21 191.247 L506.21 195.229 Q504.405 194.233 502.576 193.747 Q500.77 193.238 498.919 193.238 Q494.775 193.238 492.483 195.877 Q490.192 198.492 490.192 203.238 Q490.192 207.983 492.483 210.622 Q494.775 213.238 498.919 213.238 Q500.77 213.238 502.576 212.752 Q504.405 212.242 506.21 211.247 L506.21 215.182 Q504.428 216.016 502.507 216.432 Q500.608 216.849 498.456 216.849 Q492.599 216.849 489.15 213.168 Q485.701 209.488 485.701 203.238 Q485.701 196.895 489.173 193.261 Q492.669 189.627 498.733 189.627 Q500.701 189.627 502.576 190.043 Q504.451 190.437 506.21 191.247 Z\" fill=\"#000000\" fill-rule=\"nonzero\" fill-opacity=\"1\" /><path clip-path=\"url(#clip370)\" d=\"M513.618 180.159 L517.877 180.159 L517.877 216.178 L513.618 216.178 L513.618 180.159 Z\" fill=\"#000000\" fill-rule=\"nonzero\" fill-opacity=\"1\" /><path clip-path=\"url(#clip370)\" d=\"M548.965 202.15 L548.965 204.233 L529.381 204.233 Q529.659 208.631 532.02 210.946 Q534.405 213.238 538.641 213.238 Q541.094 213.238 543.386 212.636 Q545.701 212.034 547.969 210.83 L547.969 214.858 Q545.678 215.83 543.27 216.34 Q540.863 216.849 538.386 216.849 Q532.182 216.849 528.548 213.238 Q524.937 209.627 524.937 203.469 Q524.937 197.104 528.363 193.377 Q531.812 189.627 537.645 189.627 Q542.877 189.627 545.909 193.006 Q548.965 196.363 548.965 202.15 M544.705 200.9 Q544.659 197.405 542.738 195.321 Q540.84 193.238 537.692 193.238 Q534.127 193.238 531.974 195.252 Q529.844 197.266 529.52 200.923 L544.705 200.9 Z\" fill=\"#000000\" fill-rule=\"nonzero\" fill-opacity=\"1\" /></svg>\n"
      ]
     },
     "metadata": {},
     "output_type": "display_data"
    }
   ],
   "source": [
    "# 内接円の中心と半径を計算\n",
    "a = sqrt((B[1]-C[1])^2 + (B[2]-C[2])^2)  \n",
    "b = sqrt((C[1]-A[1])^2 + (C[2]-A[2])^2)\n",
    "c = sqrt((A[1]-B[1])^2 + (A[2]-B[2])^2)\n",
    "s = (a + b + c)/2\n",
    "r = sqrt((s-a)*(s-b)*(s-c)/s)\n",
    "x = (a*A[1] + b*B[1] + c*C[1])/(a+b+c) \n",
    "y = (a*A[2] + b*B[2] + c*C[2])/(a+b+c)\n",
    "\n",
    "# 内接円を描画\n",
    "θ = LinRange(0, 2π, 100)\n",
    "plot!(x .+ r*cos.(θ), y .+ r*sin.(θ), label=\"Incircle\", aspect_ratio=:equal, legend=:topleft)"
   ]
  },
  {
   "cell_type": "code",
   "execution_count": 1,
   "metadata": {},
   "outputs": [
    {
     "data": {
      "text/plain": [
       "2"
      ]
     },
     "metadata": {},
     "output_type": "display_data"
    }
   ],
   "source": [
    "x=2"
   ]
  },
  {
   "cell_type": "code",
   "execution_count": 2,
   "metadata": {},
   "outputs": [
    {
     "data": {
      "text/plain": [
       "2"
      ]
     },
     "metadata": {},
     "output_type": "display_data"
    }
   ],
   "source": [
    "y = x"
   ]
  },
  {
   "cell_type": "code",
   "execution_count": 3,
   "metadata": {},
   "outputs": [
    {
     "data": {
      "text/plain": [
       "1.0"
      ]
     },
     "metadata": {},
     "output_type": "display_data"
    }
   ],
   "source": [
    "x/y"
   ]
  },
  {
   "cell_type": "code",
   "execution_count": 4,
   "metadata": {},
   "outputs": [
    {
     "data": {
      "text/plain": [
       "3.0"
      ]
     },
     "metadata": {},
     "output_type": "display_data"
    }
   ],
   "source": [
    "y + x/y"
   ]
  },
  {
   "cell_type": "code",
   "execution_count": 5,
   "metadata": {},
   "outputs": [
    {
     "data": {
      "text/plain": [
       "1.5"
      ]
     },
     "metadata": {},
     "output_type": "display_data"
    }
   ],
   "source": [
    "(y + x/y) / 2"
   ]
  },
  {
   "cell_type": "code",
   "execution_count": 6,
   "metadata": {},
   "outputs": [
    {
     "data": {
      "text/plain": [
       "1.5"
      ]
     },
     "metadata": {},
     "output_type": "display_data"
    }
   ],
   "source": [
    "y = (y + x/y) / 2"
   ]
  },
  {
   "cell_type": "code",
   "execution_count": 7,
   "metadata": {},
   "outputs": [
    {
     "data": {
      "text/plain": [
       "2"
      ]
     },
     "metadata": {},
     "output_type": "display_data"
    }
   ],
   "source": [
    "x"
   ]
  },
  {
   "cell_type": "code",
   "execution_count": 8,
   "metadata": {},
   "outputs": [
    {
     "data": {
      "text/plain": [
       "3"
      ]
     },
     "metadata": {},
     "output_type": "display_data"
    }
   ],
   "source": [
    "x=3"
   ]
  },
  {
   "cell_type": "code",
   "execution_count": 9,
   "metadata": {},
   "outputs": [
    {
     "data": {
      "text/plain": [
       "1.5"
      ]
     },
     "metadata": {},
     "output_type": "display_data"
    }
   ],
   "source": [
    "y"
   ]
  },
  {
   "cell_type": "code",
   "execution_count": 10,
   "metadata": {},
   "outputs": [
    {
     "data": {
      "text/plain": [
       "3"
      ]
     },
     "metadata": {},
     "output_type": "display_data"
    }
   ],
   "source": [
    "y=x"
   ]
  },
  {
   "cell_type": "code",
   "execution_count": 11,
   "metadata": {},
   "outputs": [
    {
     "data": {
      "text/plain": [
       "4"
      ]
     },
     "metadata": {},
     "output_type": "display_data"
    }
   ],
   "source": [
    "x=x+1"
   ]
  },
  {
   "cell_type": "code",
   "execution_count": 12,
   "metadata": {},
   "outputs": [
    {
     "data": {
      "text/plain": [
       "3"
      ]
     },
     "metadata": {},
     "output_type": "display_data"
    }
   ],
   "source": [
    "y"
   ]
  },
  {
   "cell_type": "code",
   "execution_count": 13,
   "metadata": {},
   "outputs": [
    {
     "data": {
      "text/plain": [
       "3"
      ]
     },
     "metadata": {},
     "output_type": "display_data"
    }
   ],
   "source": [
    "x=2\n",
    "y=x\n",
    "x=x+1"
   ]
  },
  {
   "cell_type": "code",
   "execution_count": 14,
   "metadata": {},
   "outputs": [
    {
     "data": {
      "text/plain": [
       "2"
      ]
     },
     "metadata": {},
     "output_type": "display_data"
    }
   ],
   "source": [
    "y"
   ]
  },
  {
   "cell_type": "code",
   "execution_count": 15,
   "metadata": {},
   "outputs": [
    {
     "data": {
      "text/plain": [
       "3"
      ]
     },
     "metadata": {},
     "output_type": "display_data"
    }
   ],
   "source": [
    "x=2\n",
    "y=x\n",
    "y=y+1"
   ]
  },
  {
   "cell_type": "code",
   "execution_count": 16,
   "metadata": {},
   "outputs": [
    {
     "data": {
      "text/plain": [
       "2"
      ]
     },
     "metadata": {},
     "output_type": "display_data"
    }
   ],
   "source": [
    "x"
   ]
  },
  {
   "cell_type": "code",
   "execution_count": 17,
   "metadata": {},
   "outputs": [
    {
     "data": {
      "text/plain": [
       "2:3"
      ]
     },
     "metadata": {},
     "output_type": "display_data"
    }
   ],
   "source": [
    "x=1:2\n",
    "y=x\n",
    "x=x.+1"
   ]
  },
  {
   "cell_type": "code",
   "execution_count": 18,
   "metadata": {},
   "outputs": [
    {
     "data": {
      "text/plain": [
       "1:2"
      ]
     },
     "metadata": {},
     "output_type": "display_data"
    }
   ],
   "source": [
    "y"
   ]
  },
  {
   "cell_type": "code",
   "execution_count": 27,
   "metadata": {},
   "outputs": [
    {
     "data": {
      "text/plain": [
       "3-element Vector{Int64}:\n",
       " 1\n",
       " 2\n",
       " 3"
      ]
     },
     "metadata": {},
     "output_type": "display_data"
    }
   ],
   "source": [
    "a = [1, 2, 3]"
   ]
  },
  {
   "cell_type": "code",
   "execution_count": 28,
   "metadata": {},
   "outputs": [
    {
     "data": {
      "text/plain": [
       "foo! (generic function with 1 method)"
      ]
     },
     "metadata": {},
     "output_type": "display_data"
    }
   ],
   "source": [
    "function foo!(a)\n",
    "    a[1] = 10\n",
    "    return a\n",
    "end"
   ]
  },
  {
   "cell_type": "code",
   "execution_count": 29,
   "metadata": {},
   "outputs": [
    {
     "data": {
      "text/plain": [
       "3-element Vector{Int64}:\n",
       " 10\n",
       "  2\n",
       "  3"
      ]
     },
     "metadata": {},
     "output_type": "display_data"
    }
   ],
   "source": [
    "b=foo!(a)"
   ]
  },
  {
   "cell_type": "code",
   "execution_count": 23,
   "metadata": {},
   "outputs": [],
   "source": [
    "b"
   ]
  },
  {
   "cell_type": "code",
   "execution_count": 24,
   "metadata": {},
   "outputs": [
    {
     "data": {
      "text/plain": [
       "3-element Vector{Int64}:\n",
       " 10\n",
       "  2\n",
       "  3"
      ]
     },
     "metadata": {},
     "output_type": "display_data"
    }
   ],
   "source": [
    "a"
   ]
  },
  {
   "cell_type": "code",
   "execution_count": 30,
   "metadata": {},
   "outputs": [
    {
     "data": {
      "text/plain": [
       "bar! (generic function with 1 method)"
      ]
     },
     "metadata": {},
     "output_type": "display_data"
    }
   ],
   "source": [
    "function bar!(a)\n",
    "    a = [1, 2]\n",
    "    return a\n",
    "end"
   ]
  },
  {
   "cell_type": "code",
   "execution_count": 33,
   "metadata": {},
   "outputs": [
    {
     "data": {
      "text/plain": [
       "3-element Vector{Int64}:\n",
       " 1\n",
       " 2\n",
       " 3"
      ]
     },
     "metadata": {},
     "output_type": "display_data"
    }
   ],
   "source": [
    "a = [1, 2, 3]"
   ]
  },
  {
   "cell_type": "code",
   "execution_count": 34,
   "metadata": {},
   "outputs": [
    {
     "data": {
      "text/plain": [
       "2-element Vector{Int64}:\n",
       " 1\n",
       " 2"
      ]
     },
     "metadata": {},
     "output_type": "display_data"
    }
   ],
   "source": [
    "c=bar!(a)"
   ]
  },
  {
   "cell_type": "code",
   "execution_count": 35,
   "metadata": {},
   "outputs": [
    {
     "data": {
      "text/plain": [
       "3-element Vector{Int64}:\n",
       " 1\n",
       " 2\n",
       " 3"
      ]
     },
     "metadata": {},
     "output_type": "display_data"
    }
   ],
   "source": [
    "a"
   ]
  },
  {
   "cell_type": "code",
   "execution_count": 36,
   "metadata": {},
   "outputs": [
    {
     "data": {
      "text/plain": [
       "Base.RefValue{Vector{Int64}}([1, 2, 3])"
      ]
     },
     "metadata": {},
     "output_type": "display_data"
    }
   ],
   "source": [
    "Ref(a)"
   ]
  },
  {
   "cell_type": "code",
   "execution_count": 37,
   "metadata": {},
   "outputs": [
    {
     "data": {
      "text/plain": [
       "Ptr{Nothing} @0x0000020f06eee860"
      ]
     },
     "metadata": {},
     "output_type": "display_data"
    }
   ],
   "source": [
    "pointer_from_objref(a)"
   ]
  },
  {
   "cell_type": "code",
   "execution_count": 38,
   "metadata": {},
   "outputs": [
    {
     "data": {
      "text/plain": [
       "2"
      ]
     },
     "metadata": {},
     "output_type": "display_data"
    }
   ],
   "source": [
    "a=2"
   ]
  },
  {
   "cell_type": "code",
   "execution_count": 39,
   "metadata": {},
   "outputs": [
    {
     "ename": "ErrorException",
     "evalue": "pointer_from_objref cannot be used on immutable objects",
     "output_type": "error",
     "traceback": [
      "pointer_from_objref cannot be used on immutable objects\n",
      "\n",
      "Stacktrace:\n",
      " [1] error(s::String)\n",
      "   @ Base .\\error.jl:35\n",
      " [2] pointer_from_objref(x::Any)\n",
      "   @ Base .\\pointer.jl:269\n",
      " [3] top-level scope\n",
      "   @ d:\\jianguo\\myvscode\\Julia\\Julia-2024-04-03.ipynb:1"
     ]
    }
   ],
   "source": [
    "pointer_from_objref(a)"
   ]
  },
  {
   "cell_type": "code",
   "execution_count": 40,
   "metadata": {},
   "outputs": [
    {
     "data": {
      "text/plain": [
       "Ptr{Nothing} @0x0000020f04ce4280"
      ]
     },
     "metadata": {},
     "output_type": "display_data"
    }
   ],
   "source": [
    "ccall(:jl_value_ptr, Ptr{Cvoid}, (Any,), a)"
   ]
  },
  {
   "cell_type": "code",
   "execution_count": 41,
   "metadata": {},
   "outputs": [
    {
     "data": {
      "text/plain": [
       "3-element Vector{Int64}:\n",
       " 1\n",
       " 2\n",
       " 3"
      ]
     },
     "metadata": {},
     "output_type": "display_data"
    }
   ],
   "source": [
    "a = [1, 2, 3]"
   ]
  },
  {
   "cell_type": "code",
   "execution_count": 42,
   "metadata": {},
   "outputs": [
    {
     "data": {
      "text/plain": [
       "Ptr{Nothing} @0x0000020f05dbf490"
      ]
     },
     "metadata": {},
     "output_type": "display_data"
    }
   ],
   "source": [
    "pointer_from_objref(a)"
   ]
  },
  {
   "cell_type": "code",
   "execution_count": 43,
   "metadata": {},
   "outputs": [
    {
     "data": {
      "text/plain": [
       "Ptr{Nothing} @0x0000020f05dbf490"
      ]
     },
     "metadata": {},
     "output_type": "display_data"
    }
   ],
   "source": [
    "b=a\n",
    "pointer_from_objref(b)"
   ]
  },
  {
   "cell_type": "code",
   "execution_count": 44,
   "metadata": {},
   "outputs": [
    {
     "data": {
      "text/plain": [
       "Ptr{Nothing} @0x0000020f05d0a0e0"
      ]
     },
     "metadata": {},
     "output_type": "display_data"
    }
   ],
   "source": [
    "c = [1, 2, 3]\n",
    "pointer_from_objref(c)"
   ]
  },
  {
   "cell_type": "code",
   "execution_count": 45,
   "metadata": {},
   "outputs": [
    {
     "data": {
      "text/plain": [
       "Ptr{Nothing} @0x0000020f05cedbe0"
      ]
     },
     "metadata": {},
     "output_type": "display_data"
    }
   ],
   "source": [
    "pointer_from_objref([1, 2, 3])"
   ]
  },
  {
   "cell_type": "code",
   "execution_count": 46,
   "metadata": {},
   "outputs": [
    {
     "data": {
      "text/plain": [
       "Ptr{Nothing} @0x0000020f04ce4160"
      ]
     },
     "metadata": {},
     "output_type": "display_data"
    }
   ],
   "source": [
    "ccall(:jl_value_ptr, Ptr{Cvoid}, (Any,), 1)"
   ]
  },
  {
   "cell_type": "code",
   "execution_count": 49,
   "metadata": {},
   "outputs": [
    {
     "data": {
      "text/plain": [
       "Ptr{Nothing} @0x0000020f056adbe0"
      ]
     },
     "metadata": {},
     "output_type": "display_data"
    }
   ],
   "source": [
    "d=[1, 2, 3]\n",
    "pointer_from_objref(d)"
   ]
  },
  {
   "cell_type": "code",
   "execution_count": 48,
   "metadata": {},
   "outputs": [
    {
     "data": {
      "text/plain": [
       "Ptr{Nothing} @0x0000020f04ce4280"
      ]
     },
     "metadata": {},
     "output_type": "display_data"
    }
   ],
   "source": [
    "x=2\n",
    "ccall(:jl_value_ptr, Ptr{Cvoid}, (Any,), x)"
   ]
  },
  {
   "cell_type": "code",
   "execution_count": 50,
   "metadata": {},
   "outputs": [
    {
     "data": {
      "text/plain": [
       "Ptr{Nothing} @0x0000020f04ce4280"
      ]
     },
     "metadata": {},
     "output_type": "display_data"
    }
   ],
   "source": [
    "y=x\n",
    "ccall(:jl_value_ptr, Ptr{Cvoid}, (Any,), y)"
   ]
  },
  {
   "cell_type": "code",
   "execution_count": 51,
   "metadata": {},
   "outputs": [
    {
     "data": {
      "text/plain": [
       "1.5"
      ]
     },
     "metadata": {},
     "output_type": "display_data"
    }
   ],
   "source": [
    "y = (y + x/y) / 2"
   ]
  },
  {
   "cell_type": "code",
   "execution_count": 52,
   "metadata": {},
   "outputs": [
    {
     "data": {
      "text/plain": [
       "Ptr{Nothing} @0x0000020f0569cb40"
      ]
     },
     "metadata": {},
     "output_type": "display_data"
    }
   ],
   "source": [
    "ccall(:jl_value_ptr, Ptr{Cvoid}, (Any,), y)"
   ]
  },
  {
   "cell_type": "code",
   "execution_count": 53,
   "metadata": {},
   "outputs": [
    {
     "data": {
      "text/plain": [
       "Ptr{Nothing} @0x0000020f05660c70"
      ]
     },
     "metadata": {},
     "output_type": "display_data"
    }
   ],
   "source": [
    "y=y+1\n",
    "ccall(:jl_value_ptr, Ptr{Cvoid}, (Any,), y)"
   ]
  },
  {
   "cell_type": "code",
   "execution_count": 54,
   "metadata": {},
   "outputs": [
    {
     "data": {
      "text/plain": [
       "Ptr{Nothing} @0x0000020f05928150"
      ]
     },
     "metadata": {},
     "output_type": "display_data"
    }
   ],
   "source": [
    "a=[1,2,3]\n",
    "pointer_from_objref(a)"
   ]
  },
  {
   "cell_type": "code",
   "execution_count": 55,
   "metadata": {},
   "outputs": [
    {
     "data": {
      "text/plain": [
       "Ptr{Nothing} @0x0000020f05928150"
      ]
     },
     "metadata": {},
     "output_type": "display_data"
    }
   ],
   "source": [
    "b=a\n",
    "pointer_from_objref(a)"
   ]
  },
  {
   "cell_type": "code",
   "execution_count": 56,
   "metadata": {},
   "outputs": [
    {
     "data": {
      "text/plain": [
       "5"
      ]
     },
     "metadata": {},
     "output_type": "display_data"
    }
   ],
   "source": [
    "b[1]=5"
   ]
  },
  {
   "cell_type": "code",
   "execution_count": 57,
   "metadata": {},
   "outputs": [
    {
     "data": {
      "text/plain": [
       "Ptr{Nothing} @0x0000020f05928150"
      ]
     },
     "metadata": {},
     "output_type": "display_data"
    }
   ],
   "source": [
    "pointer_from_objref(b)"
   ]
  },
  {
   "cell_type": "code",
   "execution_count": 58,
   "metadata": {},
   "outputs": [
    {
     "data": {
      "text/plain": [
       "Ptr{Int64} @0x0000020f0597b420"
      ]
     },
     "metadata": {},
     "output_type": "display_data"
    }
   ],
   "source": [
    "x = [1,2,3]\n",
    "p_x = pointer(x)"
   ]
  },
  {
   "cell_type": "code",
   "execution_count": 59,
   "metadata": {},
   "outputs": [
    {
     "ename": "MethodError",
     "evalue": "MethodError: no method matching pointer(::Int64)\n\nClosest candidates are:\n  pointer(!Matched::Cwstring)\n   @ Base c.jl:187\n  pointer(!Matched::SubString{String})\n   @ Base strings\\substring.jl:126\n  pointer(!Matched::SubString{String}, !Matched::Integer)\n   @ Base strings\\substring.jl:127\n  ...\n",
     "output_type": "error",
     "traceback": [
      "MethodError: no method matching pointer(::Int64)\n",
      "\n",
      "Closest candidates are:\n",
      "  pointer(!Matched::Cwstring)\n",
      "   @ Base c.jl:187\n",
      "  pointer(!Matched::SubString{String})\n",
      "   @ Base strings\\substring.jl:126\n",
      "  pointer(!Matched::SubString{String}, !Matched::Integer)\n",
      "   @ Base strings\\substring.jl:127\n",
      "  ...\n",
      "\n",
      "\n",
      "Stacktrace:\n",
      " [1] top-level scope\n",
      "   @ d:\\jianguo\\myvscode\\Julia\\Julia-2024-04-03.ipynb:2"
     ]
    }
   ],
   "source": [
    "y=1\n",
    "p_y = pointer(y)"
   ]
  },
  {
   "cell_type": "code",
   "execution_count": 60,
   "metadata": {},
   "outputs": [
    {
     "data": {
      "text/plain": [
       "Ptr{Nothing} @0x0000020f0597b3f0"
      ]
     },
     "metadata": {},
     "output_type": "display_data"
    }
   ],
   "source": [
    "r_x=pointer_from_objref(x)"
   ]
  },
  {
   "cell_type": "code",
   "execution_count": 61,
   "metadata": {},
   "outputs": [
    {
     "data": {
      "text/plain": [
       "false"
      ]
     },
     "metadata": {},
     "output_type": "display_data"
    }
   ],
   "source": [
    "p_x == r_x"
   ]
  },
  {
   "cell_type": "code",
   "execution_count": 62,
   "metadata": {},
   "outputs": [
    {
     "data": {
      "text/plain": [
       "3-element Vector{Int64}:\n",
       " 1\n",
       " 2\n",
       " 3"
      ]
     },
     "metadata": {},
     "output_type": "display_data"
    }
   ],
   "source": [
    "x"
   ]
  },
  {
   "cell_type": "code",
   "execution_count": 63,
   "metadata": {},
   "outputs": [
    {
     "data": {
      "text/plain": [
       "Ptr{Int64} @0x0000020f0597b420"
      ]
     },
     "metadata": {},
     "output_type": "display_data"
    }
   ],
   "source": [
    "pointer(x)"
   ]
  },
  {
   "cell_type": "code",
   "execution_count": 64,
   "metadata": {},
   "outputs": [
    {
     "data": {
      "text/plain": [
       "Ptr{Nothing} @0x0000020f0597b3f0"
      ]
     },
     "metadata": {},
     "output_type": "display_data"
    }
   ],
   "source": [
    "pointer_from_objref(x)"
   ]
  },
  {
   "cell_type": "code",
   "execution_count": 65,
   "metadata": {},
   "outputs": [
    {
     "data": {
      "text/plain": [
       "\"12\""
      ]
     },
     "metadata": {},
     "output_type": "display_data"
    }
   ],
   "source": [
    "s1 = \"12\""
   ]
  },
  {
   "cell_type": "code",
   "execution_count": 66,
   "metadata": {},
   "outputs": [
    {
     "data": {
      "text/plain": [
       "\"12\""
      ]
     },
     "metadata": {},
     "output_type": "display_data"
    }
   ],
   "source": [
    "s2 = \"12\""
   ]
  },
  {
   "cell_type": "code",
   "execution_count": 67,
   "metadata": {},
   "outputs": [
    {
     "data": {
      "text/plain": [
       "Ptr{UInt8} @0x0000020f08949e80"
      ]
     },
     "metadata": {},
     "output_type": "display_data"
    }
   ],
   "source": [
    "pointer(s1)"
   ]
  },
  {
   "cell_type": "code",
   "execution_count": 68,
   "metadata": {},
   "outputs": [
    {
     "data": {
      "text/plain": [
       "Ptr{UInt8} @0x0000020f08fa02f0"
      ]
     },
     "metadata": {},
     "output_type": "display_data"
    }
   ],
   "source": [
    "pointer(s2)"
   ]
  },
  {
   "cell_type": "code",
   "execution_count": 69,
   "metadata": {},
   "outputs": [
    {
     "data": {
      "text/plain": [
       "Ptr{Nothing} @0x0000020f08949e78"
      ]
     },
     "metadata": {},
     "output_type": "display_data"
    }
   ],
   "source": [
    "pointer_from_objref(s1)"
   ]
  },
  {
   "cell_type": "code",
   "execution_count": 70,
   "metadata": {},
   "outputs": [
    {
     "data": {
      "text/plain": [
       "Ptr{Nothing} @0x0000020f08fa02e8"
      ]
     },
     "metadata": {},
     "output_type": "display_data"
    }
   ],
   "source": [
    "pointer_from_objref(s2)"
   ]
  },
  {
   "cell_type": "code",
   "execution_count": 71,
   "metadata": {},
   "outputs": [
    {
     "data": {
      "text/plain": [
       "0x3e3f0f8871e5195e"
      ]
     },
     "metadata": {},
     "output_type": "display_data"
    }
   ],
   "source": [
    "objectid(s1)"
   ]
  },
  {
   "cell_type": "code",
   "execution_count": 72,
   "metadata": {},
   "outputs": [
    {
     "data": {
      "text/plain": [
       "0x3e3f0f8871e5195e"
      ]
     },
     "metadata": {},
     "output_type": "display_data"
    }
   ],
   "source": [
    "objectid(s2)"
   ]
  },
  {
   "cell_type": "code",
   "execution_count": 73,
   "metadata": {},
   "outputs": [
    {
     "data": {
      "text/plain": [
       "0xd372e68c0e1e5483"
      ]
     },
     "metadata": {},
     "output_type": "display_data"
    }
   ],
   "source": [
    "hash(s1)"
   ]
  },
  {
   "cell_type": "code",
   "execution_count": 74,
   "metadata": {},
   "outputs": [
    {
     "data": {
      "text/plain": [
       "0xd372e68c0e1e5483"
      ]
     },
     "metadata": {},
     "output_type": "display_data"
    }
   ],
   "source": [
    "hash(s2)"
   ]
  },
  {
   "cell_type": "code",
   "execution_count": 75,
   "metadata": {},
   "outputs": [
    {
     "data": {
      "text/plain": [
       "0.64"
      ]
     },
     "metadata": {},
     "output_type": "display_data"
    }
   ],
   "source": [
    "0.64^2 + 0.48^2"
   ]
  },
  {
   "cell_type": "code",
   "execution_count": 2,
   "metadata": {},
   "outputs": [
    {
     "data": {
      "text/plain": [
       "2×2 Matrix{Float64}:\n",
       " 1.0  0.6\n",
       " 0.6  1.0"
      ]
     },
     "metadata": {},
     "output_type": "display_data"
    }
   ],
   "source": [
    "A=[1 0.6; 0.6 1]"
   ]
  },
  {
   "cell_type": "code",
   "execution_count": 3,
   "metadata": {},
   "outputs": [
    {
     "data": {
      "text/plain": [
       "2×2 Matrix{Float64}:\n",
       "  1.5625  -0.9375\n",
       " -0.9375   1.5625"
      ]
     },
     "metadata": {},
     "output_type": "display_data"
    }
   ],
   "source": [
    "B=inv(A)"
   ]
  },
  {
   "cell_type": "code",
   "execution_count": 4,
   "metadata": {},
   "outputs": [
    {
     "data": {
      "text/plain": [
       "2-element Vector{Float64}:\n",
       " 1.0\n",
       " 0.6"
      ]
     },
     "metadata": {},
     "output_type": "display_data"
    }
   ],
   "source": [
    "c=[1;0.6]"
   ]
  },
  {
   "cell_type": "code",
   "execution_count": 5,
   "metadata": {},
   "outputs": [
    {
     "data": {
      "text/plain": [
       "2-element Vector{Float64}:\n",
       " 1.0\n",
       " 0.0"
      ]
     },
     "metadata": {},
     "output_type": "display_data"
    }
   ],
   "source": [
    "d=B * c\n"
   ]
  },
  {
   "cell_type": "code",
   "execution_count": 1,
   "metadata": {},
   "outputs": [
    {
     "data": {
      "text/plain": [
       "3-element Vector{Float64}:\n",
       " 1.0\n",
       " 1.0\n",
       " 1.0"
      ]
     },
     "metadata": {},
     "output_type": "display_data"
    }
   ],
   "source": [
    "#计算投影矩阵\n",
    "a=ones(3)"
   ]
  },
  {
   "cell_type": "code",
   "execution_count": 2,
   "metadata": {},
   "outputs": [
    {
     "data": {
      "text/plain": [
       "1:3"
      ]
     },
     "metadata": {},
     "output_type": "display_data"
    }
   ],
   "source": [
    "b=1:3"
   ]
  },
  {
   "cell_type": "code",
   "execution_count": 3,
   "metadata": {},
   "outputs": [
    {
     "data": {
      "text/plain": [
       "3×2 Matrix{Float64}:\n",
       " 1.0  1.0\n",
       " 1.0  2.0\n",
       " 1.0  3.0"
      ]
     },
     "metadata": {},
     "output_type": "display_data"
    }
   ],
   "source": [
    "A=hcat(a,b)"
   ]
  },
  {
   "cell_type": "code",
   "execution_count": 4,
   "metadata": {},
   "outputs": [
    {
     "data": {
      "text/plain": [
       "2×2 Matrix{Float64}:\n",
       " 3.0   6.0\n",
       " 6.0  14.0"
      ]
     },
     "metadata": {},
     "output_type": "display_data"
    }
   ],
   "source": [
    "B=A' * A"
   ]
  },
  {
   "cell_type": "code",
   "execution_count": 5,
   "metadata": {},
   "outputs": [
    {
     "data": {
      "text/plain": [
       "2×2 Matrix{Float64}:\n",
       "  2.33333  -1.0\n",
       " -1.0       0.5"
      ]
     },
     "metadata": {},
     "output_type": "display_data"
    }
   ],
   "source": [
    "C=inv(B)"
   ]
  },
  {
   "cell_type": "code",
   "execution_count": 6,
   "metadata": {},
   "outputs": [
    {
     "data": {
      "text/plain": [
       "3×2 Matrix{Float64}:\n",
       " 1.0  1.0\n",
       " 1.0  2.0\n",
       " 1.0  3.0"
      ]
     },
     "metadata": {},
     "output_type": "display_data"
    }
   ],
   "source": [
    "X=hcat(a,b)"
   ]
  },
  {
   "cell_type": "code",
   "execution_count": 7,
   "metadata": {},
   "outputs": [
    {
     "data": {
      "text/plain": [
       "2×2 Matrix{Float64}:\n",
       " 3.0   6.0\n",
       " 6.0  14.0"
      ]
     },
     "metadata": {},
     "output_type": "display_data"
    }
   ],
   "source": [
    "B1=X' * X"
   ]
  },
  {
   "cell_type": "code",
   "execution_count": 8,
   "metadata": {},
   "outputs": [
    {
     "data": {
      "text/plain": [
       "2×2 Matrix{Float64}:\n",
       "  2.33333  -1.0\n",
       " -1.0       0.5"
      ]
     },
     "metadata": {},
     "output_type": "display_data"
    }
   ],
   "source": [
    "B2=inv(B1)"
   ]
  },
  {
   "cell_type": "code",
   "execution_count": 9,
   "metadata": {},
   "outputs": [
    {
     "data": {
      "text/plain": [
       "3×3 Matrix{Float64}:\n",
       "  0.833333  0.333333  -0.166667\n",
       "  0.333333  0.333333   0.333333\n",
       " -0.166667  0.333333   0.833333"
      ]
     },
     "metadata": {},
     "output_type": "display_data"
    }
   ],
   "source": [
    "P= X * B2 *X'"
   ]
  },
  {
   "cell_type": "code",
   "execution_count": 10,
   "metadata": {},
   "outputs": [
    {
     "data": {
      "text/plain": [
       "0.8333333333333334"
      ]
     },
     "metadata": {},
     "output_type": "display_data"
    }
   ],
   "source": [
    "5/6"
   ]
  },
  {
   "cell_type": "code",
   "execution_count": 4,
   "metadata": {},
   "outputs": [
    {
     "data": {
      "text/plain": [
       "2×2 Matrix{Float64}:\n",
       "  2.33333  -1.0\n",
       " -1.0       0.5"
      ]
     },
     "metadata": {},
     "output_type": "display_data"
    }
   ],
   "source": [
    "a=ones(3)\n",
    "b=1:3\n",
    "Z=hcat(a,b)\n",
    "B1=Z' * Z\n",
    "B2=inv(B1)"
   ]
  },
  {
   "cell_type": "code",
   "execution_count": 5,
   "metadata": {},
   "outputs": [
    {
     "data": {
      "text/plain": [
       "3×3 Matrix{Float64}:\n",
       "  0.833333  0.333333  -0.166667\n",
       "  0.333333  0.333333   0.333333\n",
       " -0.166667  0.333333   0.833333"
      ]
     },
     "metadata": {},
     "output_type": "display_data"
    }
   ],
   "source": [
    "Z*B2*Z'"
   ]
  },
  {
   "cell_type": "code",
   "execution_count": 1,
   "metadata": {},
   "outputs": [
    {
     "ename": "OverflowError",
     "evalue": "OverflowError: binomial(100, 30) overflows",
     "output_type": "error",
     "traceback": [
      "OverflowError: binomial(100, 30) overflows\n",
      "\n",
      "Stacktrace:\n",
      " [1] binomial(n::Int64, k::Int64)\n",
      "   @ Base .\\intfuncs.jl:1162\n",
      " [2] top-level scope\n",
      "   @ d:\\jianguo\\myvscode\\Julia\\Julia-2024-04-03.ipynb:1"
     ]
    }
   ],
   "source": [
    "a=binomial(100,30)\n"
   ]
  },
  {
   "cell_type": "code",
   "execution_count": 3,
   "metadata": {},
   "outputs": [
    {
     "ename": "Base.Meta.ParseError",
     "evalue": "ParseError:\n# Error @ d:\\jianguo\\myvscode\\Julia\\Julia-2024-04-03.ipynb:1:26\nbinomial(big(100), 30)$\r\n#                      \r\n└ ── premature end of input",
     "output_type": "error",
     "traceback": [
      "ParseError:\n",
      "# Error @ d:\\jianguo\\myvscode\\Julia\\Julia-2024-04-03.ipynb:1:26\n",
      "binomial(big(100), 30)$\r\n",
      "#                      \r\n",
      "└ ── premature end of input\n",
      "\n",
      "Stacktrace:\n",
      " [1] top-level scope\n",
      "   @ d:\\jianguo\\myvscode\\Julia\\Julia-2024-04-03.ipynb:1"
     ]
    }
   ],
   "source": [
    "binomial(big(100), 30)$\n"
   ]
  },
  {
   "cell_type": "code",
   "execution_count": 1,
   "metadata": {},
   "outputs": [
    {
     "data": {
      "text/plain": [
       "15504"
      ]
     },
     "metadata": {},
     "output_type": "display_data"
    }
   ],
   "source": [
    "binomial(20,5)"
   ]
  },
  {
   "cell_type": "code",
   "execution_count": 2,
   "metadata": {},
   "outputs": [
    {
     "data": {
      "text/plain": [
       "29372339821610944823963760"
      ]
     },
     "metadata": {},
     "output_type": "display_data"
    }
   ],
   "source": [
    "binomial(BigInt(100),BigInt(30))"
   ]
  },
  {
   "cell_type": "code",
   "execution_count": 3,
   "metadata": {},
   "outputs": [
    {
     "data": {
      "text/plain": [
       "29372339821610944823963760"
      ]
     },
     "metadata": {},
     "output_type": "display_data"
    }
   ],
   "source": [
    "binomial(BigInt(100), 30)"
   ]
  }
 ],
 "metadata": {
  "kernelspec": {
   "display_name": "Julia 1.10.2",
   "language": "julia",
   "name": "julia-1.10"
  },
  "language_info": {
   "file_extension": ".jl",
   "mimetype": "application/julia",
   "name": "julia",
   "version": "1.10.2"
  }
 },
 "nbformat": 4,
 "nbformat_minor": 2
}
