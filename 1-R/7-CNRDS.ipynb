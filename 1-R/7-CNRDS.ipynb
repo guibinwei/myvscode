{
 "cells": [
  {
   "cell_type": "markdown",
   "metadata": {},
   "source": [
    "# 0-载入包"
   ]
  },
  {
   "cell_type": "code",
   "execution_count": 249,
   "metadata": {
    "vscode": {
     "languageId": "r"
    }
   },
   "outputs": [],
   "source": [
    "#注意添加注释\n",
    "#2024-10-09：从此程序开始，对每一个程序，设立两个文档：比如7-CNRDS.ipynb是实际操作记录。7-CNRDS-exe.ipynb最后执行文档"
   ]
  },
  {
   "cell_type": "code",
   "execution_count": 250,
   "metadata": {
    "vscode": {
     "languageId": "r"
    }
   },
   "outputs": [],
   "source": [
    "library(tidyverse)\n",
    "library(data.table)\n",
    "library(readxl)"
   ]
  },
  {
   "cell_type": "code",
   "execution_count": 251,
   "metadata": {
    "vscode": {
     "languageId": "r"
    }
   },
   "outputs": [],
   "source": [
    "library(microbenchmark)"
   ]
  },
  {
   "cell_type": "markdown",
   "metadata": {},
   "source": [
    "# 8-分支机构数据"
   ]
  },
  {
   "cell_type": "markdown",
   "metadata": {},
   "source": [
    "## 8.1-读入.csv文件"
   ]
  },
  {
   "cell_type": "code",
   "execution_count": 252,
   "metadata": {
    "vscode": {
     "languageId": "r"
    }
   },
   "outputs": [],
   "source": [
    "# Set the base path and file details\n",
    "#进入有3个.csv文件。退出只有一个.csv文件。\n",
    "base_path <- \"D:/IDMhs/CNRDS-机构设立情况-2024-09-19-csv/\"\n",
    "file_prefix <- \"机构设立情况_\"\n",
    "number_range <- 1:3\n",
    "file_extension <- \".csv\"\n",
    "\n",
    "base_path2 <- \"D:/IDMhs/CNRDS-机构退出情况-2024-09-22-csv/\"\n",
    "file_prefix2 <- \"机构退出情况.csv\"\n",
    "file_name2 = paste0(base_path2, file_prefix2)\n"
   ]
  },
  {
   "cell_type": "code",
   "execution_count": 253,
   "metadata": {
    "vscode": {
     "languageId": "r"
    }
   },
   "outputs": [],
   "source": [
    "# Create a son function to read a single CSV file\n",
    "read_csv_file0 <- function(file_name) {\n",
    "  # Read the header separately\n",
    "  header <- read_csv(file_name, n_max = 1, col_names = FALSE)\n",
    "  \n",
    "  # Read the data, skipping the first two rows\n",
    "  df <- read_csv(file_name, \n",
    "                 col_names = FALSE,\n",
    "                 skip = 2)\n",
    "  \n",
    "  # Set the column names from the header\n",
    "  colnames(df) <- as.character(header[1,])\n",
    "  \n",
    "  return(df)\n",
    "}"
   ]
  },
  {
   "cell_type": "code",
   "execution_count": 254,
   "metadata": {
    "vscode": {
     "languageId": "r"
    }
   },
   "outputs": [],
   "source": [
    "# Create a function to read a single CSV file\n",
    "read_csv_file <- function(file_number) {\n",
    "  file_na <- paste0(base_path, file_prefix, file_number, file_extension)\n",
    "  df=read_csv_file0(file_na)\n",
    "  return(df)\n",
    "}"
   ]
  },
  {
   "cell_type": "code",
   "execution_count": 255,
   "metadata": {
    "vscode": {
     "languageId": "r"
    }
   },
   "outputs": [
    {
     "name": "stderr",
     "output_type": "stream",
     "text": [
      "\u001b[1mRows: \u001b[22m\u001b[34m1\u001b[39m \u001b[1mColumns: \u001b[22m\u001b[34m7\u001b[39m\n",
      "\u001b[36m──\u001b[39m \u001b[1mColumn specification\u001b[22m \u001b[36m────────────────────────────────────────────────────────\u001b[39m\n",
      "\u001b[1mDelimiter:\u001b[22m \",\"\n",
      "\u001b[31mchr\u001b[39m (7): X1, X2, X3, X4, X5, X6, X7\n",
      "\n",
      "\u001b[36mℹ\u001b[39m Use `spec()` to retrieve the full column specification for this data.\n",
      "\u001b[36mℹ\u001b[39m Specify the column types or set `show_col_types = FALSE` to quiet this message.\n",
      "\u001b[1mRows: \u001b[22m\u001b[34m100000\u001b[39m \u001b[1mColumns: \u001b[22m\u001b[34m7\u001b[39m\n",
      "\u001b[36m──\u001b[39m \u001b[1mColumn specification\u001b[22m \u001b[36m────────────────────────────────────────────────────────\u001b[39m\n",
      "\u001b[1mDelimiter:\u001b[22m \",\"\n",
      "\u001b[31mchr\u001b[39m  (5): X1, X2, X3, X4, X5\n",
      "\u001b[34mdate\u001b[39m (2): X6, X7\n",
      "\n",
      "\u001b[36mℹ\u001b[39m Use `spec()` to retrieve the full column specification for this data.\n",
      "\u001b[36mℹ\u001b[39m Specify the column types or set `show_col_types = FALSE` to quiet this message.\n",
      "\u001b[1mRows: \u001b[22m\u001b[34m1\u001b[39m \u001b[1mColumns: \u001b[22m\u001b[34m7\u001b[39m\n",
      "\u001b[36m──\u001b[39m \u001b[1mColumn specification\u001b[22m \u001b[36m────────────────────────────────────────────────────────\u001b[39m\n",
      "\u001b[1mDelimiter:\u001b[22m \",\"\n",
      "\u001b[31mchr\u001b[39m (7): X1, X2, X3, X4, X5, X6, X7\n",
      "\n",
      "\u001b[36mℹ\u001b[39m Use `spec()` to retrieve the full column specification for this data.\n",
      "\u001b[36mℹ\u001b[39m Specify the column types or set `show_col_types = FALSE` to quiet this message.\n",
      "\u001b[1mRows: \u001b[22m\u001b[34m100000\u001b[39m \u001b[1mColumns: \u001b[22m\u001b[34m7\u001b[39m\n",
      "\u001b[36m──\u001b[39m \u001b[1mColumn specification\u001b[22m \u001b[36m────────────────────────────────────────────────────────\u001b[39m\n",
      "\u001b[1mDelimiter:\u001b[22m \",\"\n",
      "\u001b[31mchr\u001b[39m  (5): X1, X2, X3, X4, X5\n",
      "\u001b[34mdate\u001b[39m (2): X6, X7\n",
      "\n",
      "\u001b[36mℹ\u001b[39m Use `spec()` to retrieve the full column specification for this data.\n",
      "\u001b[36mℹ\u001b[39m Specify the column types or set `show_col_types = FALSE` to quiet this message.\n",
      "\u001b[1mRows: \u001b[22m\u001b[34m1\u001b[39m \u001b[1mColumns: \u001b[22m\u001b[34m7\u001b[39m\n",
      "\u001b[36m──\u001b[39m \u001b[1mColumn specification\u001b[22m \u001b[36m────────────────────────────────────────────────────────\u001b[39m\n",
      "\u001b[1mDelimiter:\u001b[22m \",\"\n",
      "\u001b[31mchr\u001b[39m (7): X1, X2, X3, X4, X5, X6, X7\n",
      "\n",
      "\u001b[36mℹ\u001b[39m Use `spec()` to retrieve the full column specification for this data.\n",
      "\u001b[36mℹ\u001b[39m Specify the column types or set `show_col_types = FALSE` to quiet this message.\n",
      "\u001b[1mRows: \u001b[22m\u001b[34m79588\u001b[39m \u001b[1mColumns: \u001b[22m\u001b[34m7\u001b[39m\n",
      "\u001b[36m──\u001b[39m \u001b[1mColumn specification\u001b[22m \u001b[36m────────────────────────────────────────────────────────\u001b[39m\n",
      "\u001b[1mDelimiter:\u001b[22m \",\"\n",
      "\u001b[31mchr\u001b[39m  (5): X1, X2, X3, X4, X5\n",
      "\u001b[34mdate\u001b[39m (2): X6, X7\n",
      "\n",
      "\u001b[36mℹ\u001b[39m Use `spec()` to retrieve the full column specification for this data.\n",
      "\u001b[36mℹ\u001b[39m Specify the column types or set `show_col_types = FALSE` to quiet this message.\n"
     ]
    }
   ],
   "source": [
    "# Read all CSV files and combine them into a single data frame\n",
    "#读入之后合并 \n",
    "Ins_entry <- map_df(number_range, read_csv_file)"
   ]
  },
  {
   "cell_type": "code",
   "execution_count": 256,
   "metadata": {
    "vscode": {
     "languageId": "r"
    }
   },
   "outputs": [
    {
     "name": "stdout",
     "output_type": "stream",
     "text": [
      "[1] \"Dimensions of the combined data frame: 279588 rows and 7 columns\"\n"
     ]
    }
   ],
   "source": [
    "# Print the dimensions of the combined data frame\n",
    "print(paste(\"Dimensions of the combined data frame:\", \n",
    "            nrow(Ins_entry), \"rows and\", ncol(Ins_entry), \"columns\"))"
   ]
  },
  {
   "cell_type": "code",
   "execution_count": 257,
   "metadata": {
    "vscode": {
     "languageId": "r"
    }
   },
   "outputs": [
    {
     "name": "stdout",
     "output_type": "stream",
     "text": [
      "\u001b[90m# A tibble: 6 × 7\u001b[39m\n",
      "  Inscode         Intype     Insname       Insadr  Inscity Issdate    Apprdate  \n",
      "  \u001b[3m\u001b[90m<chr>\u001b[39m\u001b[23m           \u001b[3m\u001b[90m<chr>\u001b[39m\u001b[23m      \u001b[3m\u001b[90m<chr>\u001b[39m\u001b[23m         \u001b[3m\u001b[90m<chr>\u001b[39m\u001b[23m   \u001b[3m\u001b[90m<chr>\u001b[39m\u001b[23m   \u001b[3m\u001b[90m<date>\u001b[39m\u001b[23m     \u001b[3m\u001b[90m<date>\u001b[39m\u001b[23m    \n",
      "\u001b[90m1\u001b[39m A0002K244010001 政策性银行 中国农业发展… 广州市… 广东省… 2024-04-26 1996-10-14\n",
      "\u001b[90m2\u001b[39m A0002L315290001 政策性银行 中国农业发展… 内蒙古… 内蒙古… 2024-01-04 1996-09-26\n",
      "\u001b[90m3\u001b[39m A0002L335060001 政策性银行 中国农业发展… 福建省… 福建省… 2024-06-12 1996-12-17\n",
      "\u001b[90m4\u001b[39m A0002L352270001 政策性银行 中国农业发展… 贵州省… 贵州省… 2024-06-03 1996-12-19\n",
      "\u001b[90m5\u001b[39m A0002L365020001 政策性银行 中国农业发展… 新疆维… 新疆维… 2024-04-07 1998-07-08\n",
      "\u001b[90m6\u001b[39m A0002N365020001 政策性银行 中国农业发展… 新疆维… 新疆维… 2024-04-07 1998-07-08\n"
     ]
    }
   ],
   "source": [
    "# Display the first few rows of the combined data frame\n",
    "print(head(Ins_entry))\n",
    "\n",
    "# Display the column names\n",
    "#print(colnames(Ins_entry))\n",
    "\n",
    "# Display the structure of the combined data frame\n",
    "#str(Ins_entry)"
   ]
  },
  {
   "cell_type": "code",
   "execution_count": 258,
   "metadata": {
    "vscode": {
     "languageId": "r"
    }
   },
   "outputs": [
    {
     "name": "stderr",
     "output_type": "stream",
     "text": [
      "\u001b[1mRows: \u001b[22m\u001b[34m1\u001b[39m \u001b[1mColumns: \u001b[22m\u001b[34m8\u001b[39m\n",
      "\u001b[36m──\u001b[39m \u001b[1mColumn specification\u001b[22m \u001b[36m────────────────────────────────────────────────────────\u001b[39m\n",
      "\u001b[1mDelimiter:\u001b[22m \",\"\n",
      "\u001b[31mchr\u001b[39m (8): X1, X2, X3, X4, X5, X6, X7, X8\n",
      "\n",
      "\u001b[36mℹ\u001b[39m Use `spec()` to retrieve the full column specification for this data.\n",
      "\u001b[36mℹ\u001b[39m Specify the column types or set `show_col_types = FALSE` to quiet this message.\n",
      "\u001b[1mRows: \u001b[22m\u001b[34m38735\u001b[39m \u001b[1mColumns: \u001b[22m\u001b[34m8\u001b[39m\n",
      "\u001b[36m──\u001b[39m \u001b[1mColumn specification\u001b[22m \u001b[36m────────────────────────────────────────────────────────\u001b[39m\n",
      "\u001b[1mDelimiter:\u001b[22m \",\"\n",
      "\u001b[31mchr\u001b[39m  (5): X1, X2, X3, X4, X5\n",
      "\u001b[34mdate\u001b[39m (3): X6, X7, X8\n",
      "\n",
      "\u001b[36mℹ\u001b[39m Use `spec()` to retrieve the full column specification for this data.\n",
      "\u001b[36mℹ\u001b[39m Specify the column types or set `show_col_types = FALSE` to quiet this message.\n"
     ]
    }
   ],
   "source": [
    "Ins_exit <- read_csv_file0(file_name2)"
   ]
  },
  {
   "cell_type": "code",
   "execution_count": 259,
   "metadata": {
    "vscode": {
     "languageId": "r"
    }
   },
   "outputs": [
    {
     "name": "stdout",
     "output_type": "stream",
     "text": [
      "[1] \"Dimensions of the combined data frame: 38735 rows and 8 columns\"\n"
     ]
    }
   ],
   "source": [
    "# Print the dimensions of the combined data frame\n",
    "print(paste(\"Dimensions of the combined data frame:\", \n",
    "            nrow(Ins_exit), \"rows and\", ncol(Ins_exit), \"columns\"))"
   ]
  },
  {
   "cell_type": "code",
   "execution_count": 260,
   "metadata": {
    "vscode": {
     "languageId": "r"
    }
   },
   "outputs": [
    {
     "name": "stdout",
     "output_type": "stream",
     "text": [
      "\u001b[90m# A tibble: 6 × 8\u001b[39m\n",
      "  Inscode         Intype Insname Insadr Inscity Issdate    Apprdate   Exitdt    \n",
      "  \u001b[3m\u001b[90m<chr>\u001b[39m\u001b[23m           \u001b[3m\u001b[90m<chr>\u001b[39m\u001b[23m  \u001b[3m\u001b[90m<chr>\u001b[39m\u001b[23m   \u001b[3m\u001b[90m<chr>\u001b[39m\u001b[23m  \u001b[3m\u001b[90m<chr>\u001b[39m\u001b[23m   \u001b[3m\u001b[90m<date>\u001b[39m\u001b[23m     \u001b[3m\u001b[90m<date>\u001b[39m\u001b[23m     \u001b[3m\u001b[90m<date>\u001b[39m\u001b[23m    \n",
      "\u001b[90m1\u001b[39m A0002L335090002 政策…  中国农… 福建…  福建省… 2007-06-12 1997-03-28 2010-07-28\n",
      "\u001b[90m2\u001b[39m A0002L337130001 政策…  中国农… 临沂…  山东省… 2007-06-22 1996-11-12 2008-11-03\n",
      "\u001b[90m3\u001b[39m A0002N237020001 政策…  中国农… 山东…  山东省… 2007-05-14 1996-09-26 2008-02-21\n",
      "\u001b[90m4\u001b[39m A0002N314020001 政策…  中国农… 大同…  山西省… 2007-04-25 1997-05-07 2015-07-23\n",
      "\u001b[90m5\u001b[39m A0002N314030001 政策…  中国农… 山西…  山西省… 2007-04-24 1997-05-04 2014-02-13\n",
      "\u001b[90m6\u001b[39m A0002N314040001 政策…  中国农… 山西…  山西省… 2007-04-27 1997-04-30 2015-11-17\n"
     ]
    }
   ],
   "source": [
    "print(head(Ins_exit))"
   ]
  },
  {
   "cell_type": "markdown",
   "metadata": {},
   "source": [
    "## 取消-8.2-合并Ins_2"
   ]
  },
  {
   "cell_type": "code",
   "execution_count": 261,
   "metadata": {
    "vscode": {
     "languageId": "r"
    }
   },
   "outputs": [],
   "source": [
    "#后来决定不合并。所以全部注释"
   ]
  },
  {
   "cell_type": "code",
   "execution_count": 262,
   "metadata": {
    "vscode": {
     "languageId": "r"
    }
   },
   "outputs": [],
   "source": [
    "# Add Exitdt column to Ins_entry  #给Ins_entry增加一列。便于合并两个数据框\n",
    "# Ins_entry <- Ins_entry %>%\n",
    "#   mutate(Exitdt = as.Date(\"2024-12-31\"))"
   ]
  },
  {
   "cell_type": "code",
   "execution_count": 263,
   "metadata": {
    "vscode": {
     "languageId": "r"
    }
   },
   "outputs": [],
   "source": [
    "# print(head(Ins_entry,3))"
   ]
  },
  {
   "cell_type": "code",
   "execution_count": 264,
   "metadata": {
    "vscode": {
     "languageId": "r"
    }
   },
   "outputs": [],
   "source": [
    "# # Merge Ins_entry and Ins_exit\n",
    "# Ins_2 <- bind_rows(Ins_entry, Ins_exit)"
   ]
  },
  {
   "cell_type": "code",
   "execution_count": 265,
   "metadata": {
    "vscode": {
     "languageId": "r"
    }
   },
   "outputs": [],
   "source": [
    "# dim(Ins_2)"
   ]
  },
  {
   "cell_type": "markdown",
   "metadata": {},
   "source": [
    "## 8.3-生成新列"
   ]
  },
  {
   "cell_type": "markdown",
   "metadata": {},
   "source": [
    "### 8.3.1-最早成立年份"
   ]
  },
  {
   "cell_type": "code",
   "execution_count": 266,
   "metadata": {
    "vscode": {
     "languageId": "r"
    }
   },
   "outputs": [
    {
     "name": "stdout",
     "output_type": "stream",
     "text": [
      "Row with Apprdate before 1980-01-01:\n",
      "\u001b[90m# A tibble: 10,364 × 7\u001b[39m\n",
      "   Inscode         Intype   Insname         Insadr Inscity Issdate    Apprdate  \n",
      "   \u001b[3m\u001b[90m<chr>\u001b[39m\u001b[23m           \u001b[3m\u001b[90m<chr>\u001b[39m\u001b[23m    \u001b[3m\u001b[90m<chr>\u001b[39m\u001b[23m           \u001b[3m\u001b[90m<chr>\u001b[39m\u001b[23m  \u001b[3m\u001b[90m<chr>\u001b[39m\u001b[23m   \u001b[3m\u001b[90m<date>\u001b[39m\u001b[23m     \u001b[3m\u001b[90m<date>\u001b[39m\u001b[23m    \n",
      "\u001b[90m 1\u001b[39m B0001L243120001 商业银行 中国工商银行股… 湖南…  湖南省… 2007-05-18 1950-01-01\n",
      "\u001b[90m 2\u001b[39m B0001L252010001 商业银行 中国工商银行股… 贵州…  贵州省… 2022-02-28 1972-10-01\n",
      "\u001b[90m 3\u001b[39m B0001L343120001 商业银行 中国工商银行股… 湖南…  湖南省… 2023-05-11 1950-01-01\n",
      "\u001b[90m 4\u001b[39m B0001M212000006 商业银行 中国工商银行股… 天津…  天津市  2022-01-28 1969-01-01\n",
      "\u001b[90m 5\u001b[39m B0001M212000007 商业银行 中国工商银行股… 天津…  天津市  2021-12-02 1973-08-16\n",
      "\u001b[90m 6\u001b[39m B0001S212000019 商业银行 中国工商银行股… 天津…  天津市  2021-12-02 1978-01-01\n",
      "\u001b[90m 7\u001b[39m B0001S212000031 商业银行 中国工商银行股… 天津…  天津市  2022-02-09 1969-01-01\n",
      "\u001b[90m 8\u001b[39m B0001S221020040 商业银行 中国工商银行股… 大连…  辽宁省… 2021-12-24 1954-01-01\n",
      "\u001b[90m 9\u001b[39m B0001S221020090 商业银行 中国工商银行股… 辽宁…  辽宁省… 2021-12-24 1978-03-01\n",
      "\u001b[90m10\u001b[39m B0001S221020097 商业银行 中国工商银行股… 辽宁…  辽宁省… 2021-12-24 1975-12-29\n",
      "\u001b[90m# ℹ 10,354 more rows\u001b[39m\n"
     ]
    }
   ],
   "source": [
    "# Print the row before 1980-01-01\n",
    "cat(\"Row with Apprdate before 1980-01-01:\\n\")\n",
    "print(Ins_entry %>% filter(Apprdate < as.Date(\"1980-01-01\")))"
   ]
  },
  {
   "cell_type": "code",
   "execution_count": 267,
   "metadata": {
    "vscode": {
     "languageId": "r"
    }
   },
   "outputs": [],
   "source": [
    "# 不知道是什么原因，存在1万多行，成立日期在1980-01-01之前。乃统计1984年之后的分支情况\n",
    "start_year <- 1984"
   ]
  },
  {
   "cell_type": "code",
   "execution_count": 268,
   "metadata": {
    "vscode": {
     "languageId": "r"
    }
   },
   "outputs": [],
   "source": [
    "# Create a sequence of years from start_year to 2024\n",
    "years <- seq(start_year, 2024)"
   ]
  },
  {
   "cell_type": "markdown",
   "metadata": {},
   "source": [
    "### 8.3.2-成立时间na处理"
   ]
  },
  {
   "cell_type": "code",
   "execution_count": 269,
   "metadata": {
    "vscode": {
     "languageId": "r"
    }
   },
   "outputs": [
    {
     "data": {
      "text/html": [
       "<style>\n",
       ".list-inline {list-style: none; margin:0; padding: 0}\n",
       ".list-inline>li {display: inline-block}\n",
       ".list-inline>li:not(:last-child)::after {content: \"\\00b7\"; padding: 0 .5ex}\n",
       "</style>\n",
       "<ol class=list-inline><li>6</li><li>7</li></ol>\n"
      ],
      "text/latex": [
       "\\begin{enumerate*}\n",
       "\\item 6\n",
       "\\item 7\n",
       "\\end{enumerate*}\n"
      ],
      "text/markdown": [
       "1. 6\n",
       "2. 7\n",
       "\n",
       "\n"
      ],
      "text/plain": [
       "[1] 6 7"
      ]
     },
     "metadata": {},
     "output_type": "display_data"
    }
   ],
   "source": [
    "# Find rows where Apprdate is NA\n",
    "na_rows_entry <- Ins_entry %>% filter(is.na(Apprdate))\n",
    "dim(na_rows_entry)"
   ]
  },
  {
   "cell_type": "code",
   "execution_count": 270,
   "metadata": {
    "vscode": {
     "languageId": "r"
    }
   },
   "outputs": [
    {
     "data": {
      "text/html": [
       "<style>\n",
       ".list-inline {list-style: none; margin:0; padding: 0}\n",
       ".list-inline>li {display: inline-block}\n",
       ".list-inline>li:not(:last-child)::after {content: \"\\00b7\"; padding: 0 .5ex}\n",
       "</style>\n",
       "<ol class=list-inline><li>245</li><li>8</li></ol>\n"
      ],
      "text/latex": [
       "\\begin{enumerate*}\n",
       "\\item 245\n",
       "\\item 8\n",
       "\\end{enumerate*}\n"
      ],
      "text/markdown": [
       "1. 245\n",
       "2. 8\n",
       "\n",
       "\n"
      ],
      "text/plain": [
       "[1] 245   8"
      ]
     },
     "metadata": {},
     "output_type": "display_data"
    }
   ],
   "source": [
    "# Find rows where Apprdate is NA\n",
    "na_rows_exit <- Ins_exit %>% filter(is.na(Apprdate))\n",
    "dim(na_rows_exit)"
   ]
  },
  {
   "cell_type": "markdown",
   "metadata": {},
   "source": [
    "### 8.3.2b 省份NA处理"
   ]
  },
  {
   "cell_type": "code",
   "execution_count": 271,
   "metadata": {
    "vscode": {
     "languageId": "r"
    }
   },
   "outputs": [],
   "source": [
    "#后来发现，在银行分支中，有两个Ins_prov=NA的情况，是 农行、工行的 三沙分行\n",
    "# 查看NA\n",
    "na_city_entry = Ins_entry %>% filter(is.na(Inscity))\n",
    "na_city_exit = Ins_exit %>% filter(is.na(Inscity))"
   ]
  },
  {
   "cell_type": "code",
   "execution_count": 272,
   "metadata": {
    "vscode": {
     "languageId": "r"
    }
   },
   "outputs": [
    {
     "name": "stdout",
     "output_type": "stream",
     "text": [
      "\u001b[90m# A tibble: 2 × 7\u001b[39m\n",
      "  Inscode         Intype   Insname         Insadr Inscity Issdate    Apprdate  \n",
      "  \u001b[3m\u001b[90m<chr>\u001b[39m\u001b[23m           \u001b[3m\u001b[90m<chr>\u001b[39m\u001b[23m    \u001b[3m\u001b[90m<chr>\u001b[39m\u001b[23m           \u001b[3m\u001b[90m<chr>\u001b[39m\u001b[23m  \u001b[3m\u001b[90m<chr>\u001b[39m\u001b[23m   \u001b[3m\u001b[90m<date>\u001b[39m\u001b[23m     \u001b[3m\u001b[90m<date>\u001b[39m\u001b[23m    \n",
      "\u001b[90m1\u001b[39m B0002L246030001 商业银行 中国农业银行股… \u001b[31mNA\u001b[39m     \u001b[31mNA\u001b[39m      2021-08-04 2019-05-28\n",
      "\u001b[90m2\u001b[39m B0003M246030001 商业银行 中国银行股份有… \u001b[31mNA\u001b[39m     \u001b[31mNA\u001b[39m      2021-07-30 2016-01-28\n",
      "\u001b[90m# A tibble: 0 × 8\u001b[39m\n",
      "\u001b[90m# ℹ 8 variables: Inscode <chr>, Intype <chr>, Insname <chr>, Insadr <chr>,\u001b[39m\n",
      "\u001b[90m#   Inscity <chr>, Issdate <date>, Apprdate <date>, Exitdt <date>\u001b[39m\n"
     ]
    }
   ],
   "source": [
    "print(na_city_entry)\n",
    "print(na_city_exit)"
   ]
  },
  {
   "cell_type": "markdown",
   "metadata": {},
   "source": [
    "### 8.3.3-生成新列"
   ]
  },
  {
   "cell_type": "code",
   "execution_count": 273,
   "metadata": {
    "vscode": {
     "languageId": "r"
    }
   },
   "outputs": [],
   "source": [
    "#结构代码。机构名称。机构类型。机构类型首字母。省份、城市。\n",
    "#对于Apprdate=NA的行，令Apprdate=Issdate\n",
    "#报告Inscity=NA的情形，并修改\"三沙市\""
   ]
  },
  {
   "cell_type": "code",
   "execution_count": 274,
   "metadata": {
    "vscode": {
     "languageId": "r"
    }
   },
   "outputs": [],
   "source": [
    "# process_dataframe <- function(df) {\n",
    "#   df %>%\n",
    "#     mutate(\n",
    "#       Inscode2 = str_sub(Inscode, 1, 5),\n",
    "#       Insname2 = str_sub(Insname, 1, 6),\n",
    "#       Intype2 = as.factor(Intype),\n",
    "#       Intype3 = str_sub(Inscode, 1, 1),\n",
    "#       Ins_prov = str_replace(Inscity, \"-.+$\", \"\"),\n",
    "#       Ins_city = str_extract(Inscity, \"(?<=-).*\") %>% \n",
    "#                  ifelse(is.na(.), Inscity, .),\n",
    "#       Apprdate = if_else(is.na(Apprdate), Issdate, Apprdate)\n",
    "#     )\n",
    "# }"
   ]
  },
  {
   "cell_type": "code",
   "execution_count": 275,
   "metadata": {
    "vscode": {
     "languageId": "r"
    }
   },
   "outputs": [],
   "source": [
    "process_dataframe <- function(df) {\n",
    "  # Print the name of the dataframe being processed\n",
    "  df_name <- deparse(substitute(df))\n",
    "  cat(\"Processing dataframe:\", df_name, \"\\n\\n\")\n",
    "\n",
    "  result <- df %>%\n",
    "    mutate(\n",
    "      Inscode2 = str_sub(Inscode, 1, 5),\n",
    "      Insname2 = str_sub(Insname, 1, 6),\n",
    "      Intype2 = as.factor(Intype),\n",
    "      Intype3 = str_sub(Inscode, 1, 1),\n",
    "      Ins_prov = str_replace(Inscity, \"-.+$\", \"\"),\n",
    "      Ins_city = str_extract(Inscity, \"(?<=-).*\") %>% \n",
    "                 ifelse(is.na(.), Inscity, .),\n",
    "      Apprdate = if_else(is.na(Apprdate), Issdate, Apprdate)\n",
    "    ) %>%\n",
    "    mutate(\n",
    "      Ins_prov = if_else(is.na(Inscity) & str_detect(Insname, \"三沙\"), \"海南省\", Ins_prov),\n",
    "      Ins_city = if_else(is.na(Inscity) & str_detect(Insname, \"三沙\"), \"三沙市\", Ins_city)\n",
    "    )\n",
    "  \n",
    "  # Print rows where Inscity is NA\n",
    "  na_rows <- result %>% \n",
    "    filter(is.na(Inscity)) %>% \n",
    "    select(1:3)\n",
    "  \n",
    "  if (nrow(na_rows) > 0) {\n",
    "    cat(\"Rows where Inscity is NA:\\n\")\n",
    "    print(na_rows, n = Inf)\n",
    "  } else {\n",
    "    cat(\"No rows where Inscity is NA.\\n\")\n",
    "  }\n",
    "  \n",
    "  # Print rows where Inscity is NA and Insname contains \"三沙\"\n",
    "  sansha_rows <- result %>% \n",
    "    filter(is.na(Inscity) & str_detect(Insname, \"三沙\")) %>% \n",
    "    select(1:3)\n",
    "  \n",
    "  if (nrow(sansha_rows) > 0) {\n",
    "    cat(\"\\nRows where Inscity is NA and Insname contains '三沙':\\n\")\n",
    "    print(sansha_rows, n = Inf)\n",
    "  } else {\n",
    "    cat(\"\\nNo rows where Inscity is NA and Insname contains '三沙'.\\n\")\n",
    "  }\n",
    "  \n",
    "  return(result)\n",
    "}"
   ]
  },
  {
   "cell_type": "code",
   "execution_count": 276,
   "metadata": {
    "vscode": {
     "languageId": "r"
    }
   },
   "outputs": [
    {
     "name": "stdout",
     "output_type": "stream",
     "text": [
      "Processing dataframe: Ins_entry \n",
      "\n",
      "Rows where Inscity is NA:\n",
      "\u001b[90m# A tibble: 2 × 3\u001b[39m\n",
      "  Inscode         Intype   Insname                         \n",
      "  \u001b[3m\u001b[90m<chr>\u001b[39m\u001b[23m           \u001b[3m\u001b[90m<chr>\u001b[39m\u001b[23m    \u001b[3m\u001b[90m<chr>\u001b[39m\u001b[23m                           \n",
      "\u001b[90m1\u001b[39m B0002L246030001 商业银行 中国农业银行股份有限公司三沙分行\n",
      "\u001b[90m2\u001b[39m B0003M246030001 商业银行 中国银行股份有限公司三沙支行    \n",
      "\n",
      "Rows where Inscity is NA and Insname contains '三沙':\n",
      "\u001b[90m# A tibble: 2 × 3\u001b[39m\n",
      "  Inscode         Intype   Insname                         \n",
      "  \u001b[3m\u001b[90m<chr>\u001b[39m\u001b[23m           \u001b[3m\u001b[90m<chr>\u001b[39m\u001b[23m    \u001b[3m\u001b[90m<chr>\u001b[39m\u001b[23m                           \n",
      "\u001b[90m1\u001b[39m B0002L246030001 商业银行 中国农业银行股份有限公司三沙分行\n",
      "\u001b[90m2\u001b[39m B0003M246030001 商业银行 中国银行股份有限公司三沙支行    \n",
      "Processing dataframe: Ins_exit \n",
      "\n",
      "No rows where Inscity is NA.\n",
      "\n",
      "No rows where Inscity is NA and Insname contains '三沙'.\n"
     ]
    }
   ],
   "source": [
    "# Assuming Ins_2 is your original dataframe\n",
    "Ins_entry2 <- process_dataframe(Ins_entry)\n",
    "Ins_exit2 <- process_dataframe(Ins_exit)"
   ]
  },
  {
   "cell_type": "code",
   "execution_count": 277,
   "metadata": {
    "vscode": {
     "languageId": "r"
    }
   },
   "outputs": [
    {
     "name": "stdout",
     "output_type": "stream",
     "text": [
      "\n",
      "Information for Ins_entry2 where Inscity is NA:\n",
      "\u001b[90m# A tibble: 2 × 6\u001b[39m\n",
      "  Inscode         Intype   Insname                     Inscity Ins_prov Ins_city\n",
      "  \u001b[3m\u001b[90m<chr>\u001b[39m\u001b[23m           \u001b[3m\u001b[90m<chr>\u001b[39m\u001b[23m    \u001b[3m\u001b[90m<chr>\u001b[39m\u001b[23m                       \u001b[3m\u001b[90m<chr>\u001b[39m\u001b[23m   \u001b[3m\u001b[90m<chr>\u001b[39m\u001b[23m    \u001b[3m\u001b[90m<chr>\u001b[39m\u001b[23m   \n",
      "\u001b[90m1\u001b[39m B0002L246030001 商业银行 中国农业银行股份有限公司三… \u001b[31mNA\u001b[39m      海南省   三沙市  \n",
      "\u001b[90m2\u001b[39m B0003M246030001 商业银行 中国银行股份有限公司三沙支… \u001b[31mNA\u001b[39m      海南省   三沙市  \n",
      "\n",
      "Information for Ins_exit2 where Inscity is NA:\n",
      "No rows where Inscity is NA.\n"
     ]
    }
   ],
   "source": [
    "# Function to print the requested information\n",
    "print_na_info <- function(df, df_name) {\n",
    "  cat(\"\\nInformation for\", df_name, \"where Inscity is NA:\\n\")\n",
    "  na_rows <- df %>% \n",
    "    filter(is.na(Inscity)) %>% \n",
    "    select(1:3, Inscity, Ins_prov, Ins_city)\n",
    "  \n",
    "  if (nrow(na_rows) > 0) {\n",
    "    print(na_rows, n = Inf)\n",
    "  } else {\n",
    "    cat(\"No rows where Inscity is NA.\\n\")\n",
    "  }\n",
    "}\n",
    "\n",
    "# Print information for Ins_entry2\n",
    "print_na_info(Ins_entry2, \"Ins_entry2\")\n",
    "\n",
    "# Print information for Ins_exit2\n",
    "print_na_info(Ins_exit2, \"Ins_exit2\")"
   ]
  },
  {
   "cell_type": "markdown",
   "metadata": {},
   "source": [
    "### 8.3.3b 显示省份类别"
   ]
  },
  {
   "cell_type": "code",
   "execution_count": 278,
   "metadata": {
    "vscode": {
     "languageId": "r"
    }
   },
   "outputs": [
    {
     "name": "stdout",
     "output_type": "stream",
     "text": [
      "\n",
      "Unique categories of Ins_prov in Ins_entry2 :\n",
      " [1] \"安徽省\"           \"北京市\"           \"福建省\"           \"甘肃省\"          \n",
      " [5] \"广东省\"           \"广西壮族自治区\"   \"贵州省\"           \"海南省\"          \n",
      " [9] \"河北省\"           \"河南省\"           \"黑龙江省\"         \"湖北省\"          \n",
      "[13] \"湖南省\"           \"吉林省\"           \"江苏省\"           \"江西省\"          \n",
      "[17] \"辽宁省\"           \"内蒙古自治区\"     \"宁夏回族自治区\"   \"青海省\"          \n",
      "[21] \"山东省\"           \"山西省\"           \"陕西省\"           \"上海市\"          \n",
      "[25] \"四川省\"           \"天津市\"           \"西藏自治区\"       \"新疆维吾尔自治区\"\n",
      "[29] \"云南省\"           \"浙江省\"           \"重庆市\"          \n",
      "\n",
      "Unique categories of Ins_prov in Ins_exit2 :\n",
      " [1] \"安徽省\"           \"北京市\"           \"福建省\"           \"甘肃省\"          \n",
      " [5] \"广东省\"           \"广西壮族自治区\"   \"贵州省\"           \"海南省\"          \n",
      " [9] \"河北省\"           \"河南省\"           \"黑龙江省\"         \"湖北省\"          \n",
      "[13] \"湖南省\"           \"吉林省\"           \"江苏省\"           \"江西省\"          \n",
      "[17] \"辽宁省\"           \"内蒙古自治区\"     \"宁夏回族自治区\"   \"青海省\"          \n",
      "[21] \"山东省\"           \"山西省\"           \"陕西省\"           \"上海市\"          \n",
      "[25] \"四川省\"           \"天津市\"           \"新疆维吾尔自治区\" \"云南省\"          \n",
      "[29] \"浙江省\"           \"重庆市\"          \n"
     ]
    }
   ],
   "source": [
    "# Function to display unique categories of Ins_prov\n",
    "display_ins_prov_categories <- function(df, df_name) {\n",
    "  cat(\"\\nUnique categories of Ins_prov in\", df_name, \":\\n\")\n",
    "  unique_prov <- df %>% \n",
    "    pull(Ins_prov) %>% \n",
    "    unique() %>% \n",
    "    sort() %>% \n",
    "    na.omit()  # Remove NA if present\n",
    "  \n",
    "  print(unique_prov)\n",
    "  \n",
    "  # Count of NA values in Ins_prov\n",
    "  na_count <- sum(is.na(df$Ins_prov))\n",
    "  if (na_count > 0) {\n",
    "    cat(\"\\nNumber of NA values in Ins_prov:\", na_count, \"\\n\")\n",
    "  }\n",
    "}\n",
    "\n",
    "# Display categories for Ins_entry2\n",
    "display_ins_prov_categories(Ins_entry2, \"Ins_entry2\")\n",
    "\n",
    "# Display categories for Ins_exit2\n",
    "display_ins_prov_categories(Ins_exit2, \"Ins_exit2\")"
   ]
  },
  {
   "cell_type": "code",
   "execution_count": 279,
   "metadata": {
    "vscode": {
     "languageId": "r"
    }
   },
   "outputs": [
    {
     "data": {
      "text/html": [
       "<style>\n",
       ".list-inline {list-style: none; margin:0; padding: 0}\n",
       ".list-inline>li {display: inline-block}\n",
       ".list-inline>li:not(:last-child)::after {content: \"\\00b7\"; padding: 0 .5ex}\n",
       "</style>\n",
       "<ol class=list-inline><li>0</li><li>13</li></ol>\n"
      ],
      "text/latex": [
       "\\begin{enumerate*}\n",
       "\\item 0\n",
       "\\item 13\n",
       "\\end{enumerate*}\n"
      ],
      "text/markdown": [
       "1. 0\n",
       "2. 13\n",
       "\n",
       "\n"
      ],
      "text/plain": [
       "[1]  0 13"
      ]
     },
     "metadata": {},
     "output_type": "display_data"
    }
   ],
   "source": [
    "# Find rows where Apprdate is NA\n",
    "na_rows_entry <- Ins_entry2 %>% filter(is.na(Apprdate))\n",
    "dim(na_rows_entry)"
   ]
  },
  {
   "cell_type": "code",
   "execution_count": 280,
   "metadata": {
    "vscode": {
     "languageId": "r"
    }
   },
   "outputs": [
    {
     "data": {
      "text/html": [
       "<style>\n",
       ".list-inline {list-style: none; margin:0; padding: 0}\n",
       ".list-inline>li {display: inline-block}\n",
       ".list-inline>li:not(:last-child)::after {content: \"\\00b7\"; padding: 0 .5ex}\n",
       "</style>\n",
       "<ol class=list-inline><li>0</li><li>14</li></ol>\n"
      ],
      "text/latex": [
       "\\begin{enumerate*}\n",
       "\\item 0\n",
       "\\item 14\n",
       "\\end{enumerate*}\n"
      ],
      "text/markdown": [
       "1. 0\n",
       "2. 14\n",
       "\n",
       "\n"
      ],
      "text/plain": [
       "[1]  0 14"
      ]
     },
     "metadata": {},
     "output_type": "display_data"
    }
   ],
   "source": [
    "na_rows_exit <- Ins_exit2 %>% filter(is.na(Apprdate))\n",
    "dim(na_rows_exit)"
   ]
  },
  {
   "cell_type": "markdown",
   "metadata": {},
   "source": [
    "### 8.3.4-试探-验证首字母"
   ]
  },
  {
   "cell_type": "code",
   "execution_count": 281,
   "metadata": {
    "vscode": {
     "languageId": "r"
    }
   },
   "outputs": [],
   "source": [
    "# Validate the hypothesis  #验证首字母是否对应机构类型  #ctrl+/ 添加注释\n",
    "#下面是最初的代码。后来转换成 函数 \n",
    "# validation_result <- Ins_entry2 %>%\n",
    "#   group_by(Intype3, Intype) %>%\n",
    "#   summarise(count = n(), .groups = 'drop') %>%\n",
    "#   arrange(Intype3, desc(count))\n",
    "\n",
    "# # Print the validation result\n",
    "# print(validation_result)"
   ]
  },
  {
   "cell_type": "code",
   "execution_count": 282,
   "metadata": {
    "vscode": {
     "languageId": "r"
    }
   },
   "outputs": [],
   "source": [
    "validate_insurance_types <- function(Ins_df) {\n",
    "  validation_result <- Ins_df %>%\n",
    "    group_by(Intype3, Intype) %>%\n",
    "    summarise(count = n(), .groups = 'drop') %>%\n",
    "    arrange(Intype3, desc(count))\n",
    "  \n",
    "  return(validation_result)\n",
    "}"
   ]
  },
  {
   "cell_type": "code",
   "execution_count": 283,
   "metadata": {
    "vscode": {
     "languageId": "r"
    }
   },
   "outputs": [],
   "source": [
    "validation_result = validate_insurance_types(Ins_entry2)"
   ]
  },
  {
   "cell_type": "code",
   "execution_count": 284,
   "metadata": {
    "vscode": {
     "languageId": "r"
    }
   },
   "outputs": [
    {
     "name": "stdout",
     "output_type": "stream",
     "text": [
      "\u001b[90m# A tibble: 17 × 3\u001b[39m\n",
      "   Intype3 Intype            count\n",
      "   \u001b[3m\u001b[90m<chr>\u001b[39m\u001b[23m   \u001b[3m\u001b[90m<chr>\u001b[39m\u001b[23m             \u001b[3m\u001b[90m<int>\u001b[39m\u001b[23m\n",
      "\u001b[90m 1\u001b[39m A       政策性银行           23\n",
      "\u001b[90m 2\u001b[39m B       商业银行         \u001b[4m2\u001b[24m\u001b[4m4\u001b[24m\u001b[4m2\u001b[24m203\n",
      "\u001b[90m 3\u001b[39m C       农村合作银行       \u001b[4m1\u001b[24m259\n",
      "\u001b[90m 4\u001b[39m E       农村信用社        \u001b[4m2\u001b[24m\u001b[4m8\u001b[24m024\n",
      "\u001b[90m 5\u001b[39m F       资金互助社           48\n",
      "\u001b[90m 6\u001b[39m G       开发性金融机构        1\n",
      "\u001b[90m 7\u001b[39m I       邮政储蓄网点         44\n",
      "\u001b[90m 8\u001b[39m J       金融资产管理公司    129\n",
      "\u001b[90m 9\u001b[39m K       信托公司             83\n",
      "\u001b[90m10\u001b[39m L       财务公司            363\n",
      "\u001b[90m11\u001b[39m M       金融租赁公司         81\n",
      "\u001b[90m12\u001b[39m N       汽车金融公司         32\n",
      "\u001b[90m13\u001b[39m P       货币经纪公司          7\n",
      "\u001b[90m14\u001b[39m Q       贷款公司             13\n",
      "\u001b[90m15\u001b[39m S       村镇银行           \u001b[4m7\u001b[24m198\n",
      "\u001b[90m16\u001b[39m X       消费金融公司         32\n",
      "\u001b[90m17\u001b[39m Z       其他类金融机构       48\n"
     ]
    }
   ],
   "source": [
    "# Print the validation result\n",
    "print(validation_result)"
   ]
  },
  {
   "cell_type": "code",
   "execution_count": 285,
   "metadata": {
    "vscode": {
     "languageId": "r"
    }
   },
   "outputs": [
    {
     "name": "stdout",
     "output_type": "stream",
     "text": [
      "Processing dataframe: Ins_exit \n",
      "\n",
      "No rows where Inscity is NA.\n",
      "\n",
      "No rows where Inscity is NA and Insname contains '三沙'.\n"
     ]
    }
   ],
   "source": [
    "Ins_exit2 <- process_dataframe(Ins_exit)"
   ]
  },
  {
   "cell_type": "code",
   "execution_count": 286,
   "metadata": {
    "vscode": {
     "languageId": "r"
    }
   },
   "outputs": [
    {
     "name": "stdout",
     "output_type": "stream",
     "text": [
      "tibble [38,735 × 14] (S3: tbl_df/tbl/data.frame)\n",
      " $ Inscode : chr [1:38735] \"A0002L335090002\" \"A0002L337130001\" \"A0002N237020001\" \"A0002N314020001\" ...\n",
      " $ Intype  : chr [1:38735] \"政策性银行\" \"政策性银行\" \"政策性银行\" \"政策性银行\" ...\n",
      " $ Insname : chr [1:38735] \"中国农业发展银行宁德分行营业部\" \"中国农业发展银行临沂市分行营业部\" \"中国农业发展银行青岛市分行营业部\" \"中国农业发展银行大同市分行营业部\" ...\n",
      " $ Insadr  : chr [1:38735] \"福建省宁德市蕉城南路42号\" \"临沂市金雀山路中段71号\" \"山东省青岛市东海西路49号丙\" \"大同市新建北路红卫里6号\" ...\n",
      " $ Inscity : chr [1:38735] \"福建省-宁德市\" \"山东省-临沂市\" \"山东省-青岛市\" \"山西省-大同市\" ...\n",
      " $ Issdate : Date[1:38735], format: \"2007-06-12\" \"2007-06-22\" ...\n",
      " $ Apprdate: Date[1:38735], format: \"1997-03-28\" \"1996-11-12\" ...\n",
      " $ Exitdt  : Date[1:38735], format: \"2010-07-28\" \"2008-11-03\" ...\n",
      " $ Inscode2: chr [1:38735] \"A0002\" \"A0002\" \"A0002\" \"A0002\" ...\n",
      " $ Insname2: chr [1:38735] \"中国农业发展\" \"中国农业发展\" \"中国农业发展\" \"中国农业发展\" ...\n",
      " $ Intype2 : Factor w/ 13 levels \"财务公司\",\"城市信用社\",..: 12 12 12 12 12 12 12 12 12 12 ...\n",
      " $ Intype3 : chr [1:38735] \"A\" \"A\" \"A\" \"A\" ...\n",
      " $ Ins_prov: chr [1:38735] \"福建省\" \"山东省\" \"山东省\" \"山西省\" ...\n",
      " $ Ins_city: chr [1:38735] \"宁德市\" \"临沂市\" \"青岛市\" \"大同市\" ...\n"
     ]
    }
   ],
   "source": [
    "str(Ins_exit2)"
   ]
  },
  {
   "cell_type": "code",
   "execution_count": 287,
   "metadata": {
    "vscode": {
     "languageId": "r"
    }
   },
   "outputs": [],
   "source": [
    "validation_result2 = validate_insurance_types(Ins_exit2)"
   ]
  },
  {
   "cell_type": "code",
   "execution_count": 288,
   "metadata": {
    "vscode": {
     "languageId": "r"
    }
   },
   "outputs": [
    {
     "name": "stdout",
     "output_type": "stream",
     "text": [
      "\u001b[90m# A tibble: 13 × 3\u001b[39m\n",
      "   Intype3 Intype       count\n",
      "   \u001b[3m\u001b[90m<chr>\u001b[39m\u001b[23m   \u001b[3m\u001b[90m<chr>\u001b[39m\u001b[23m        \u001b[3m\u001b[90m<int>\u001b[39m\u001b[23m\n",
      "\u001b[90m 1\u001b[39m A       政策性银行      96\n",
      "\u001b[90m 2\u001b[39m B       商业银行     \u001b[4m2\u001b[24m\u001b[4m6\u001b[24m260\n",
      "\u001b[90m 3\u001b[39m C       农村合作银行   500\n",
      "\u001b[90m 4\u001b[39m D       城市信用社      93\n",
      "\u001b[90m 5\u001b[39m E       农村信用社   \u001b[4m1\u001b[24m\u001b[4m1\u001b[24m038\n",
      "\u001b[90m 6\u001b[39m F       资金互助社      20\n",
      "\u001b[90m 7\u001b[39m I       邮政储蓄网点   365\n",
      "\u001b[90m 8\u001b[39m K       信托公司         2\n",
      "\u001b[90m 9\u001b[39m L       财务公司        34\n",
      "\u001b[90m10\u001b[39m M       金融租赁公司     2\n",
      "\u001b[90m11\u001b[39m Q       贷款公司        13\n",
      "\u001b[90m12\u001b[39m S       村镇银行       311\n",
      "\u001b[90m13\u001b[39m Z       其他金融机构     1\n"
     ]
    }
   ],
   "source": [
    "# Print the validation result\n",
    "print(validation_result2)"
   ]
  },
  {
   "cell_type": "markdown",
   "metadata": {},
   "source": [
    "### 8.3.5-生成df3-BCDES"
   ]
  },
  {
   "cell_type": "code",
   "execution_count": 289,
   "metadata": {
    "vscode": {
     "languageId": "r"
    }
   },
   "outputs": [],
   "source": [
    "Ins_entry3 <- Ins_entry2 %>% filter(Intype3 %in% c(\"B\", \"C\", \"D\", \"E\", \"S\"))"
   ]
  },
  {
   "cell_type": "code",
   "execution_count": 290,
   "metadata": {
    "vscode": {
     "languageId": "r"
    }
   },
   "outputs": [],
   "source": [
    "Ins_exit3 <- Ins_exit2 %>% filter(Intype3 %in% c(\"B\", \"C\", \"D\", \"E\", \"S\"))"
   ]
  },
  {
   "cell_type": "code",
   "execution_count": 291,
   "metadata": {
    "vscode": {
     "languageId": "r"
    }
   },
   "outputs": [
    {
     "name": "stdout",
     "output_type": "stream",
     "text": [
      "tibble [38,202 × 14] (S3: tbl_df/tbl/data.frame)\n",
      " $ Inscode : chr [1:38202] \"B0001G211000002\" \"B0001G232010001\" \"B0001G237010001\" \"B0001K231000002\" ...\n",
      " $ Intype  : chr [1:38202] \"商业银行\" \"商业银行\" \"商业银行\" \"商业银行\" ...\n",
      " $ Insname : chr [1:38202] \"中国工商银行股份有限公司私人银行部北京分部\" \"中国工商银行股份有限公司牡丹卡中心南京分中心\" \"中国工商银行股份有限公司私人银行部济南分部\" \"中国工商银行股份有限公司私人银行部上海分部\" ...\n",
      " $ Insadr  : chr [1:38202] \"北京市朝阳区建国门外大街1号院1号楼国贸大厦28层\" \"南京市汉中路95号\" \"济南市经四路310号银工大厦东副楼二楼\" \"上海市浦明路132号\" ...\n",
      " $ Inscity : chr [1:38202] \"北京市\" \"江苏省-南京市\" \"山东省-济南市\" \"上海市\" ...\n",
      " $ Issdate : Date[1:38202], format: \"2011-05-05\" \"2013-03-26\" ...\n",
      " $ Apprdate: Date[1:38202], format: \"2008-10-17\" \"2002-12-18\" ...\n",
      " $ Exitdt  : Date[1:38202], format: \"2014-08-15\" \"2022-05-13\" ...\n",
      " $ Inscode2: chr [1:38202] \"B0001\" \"B0001\" \"B0001\" \"B0001\" ...\n",
      " $ Insname2: chr [1:38202] \"中国工商银行\" \"中国工商银行\" \"中国工商银行\" \"中国工商银行\" ...\n",
      " $ Intype2 : Factor w/ 13 levels \"财务公司\",\"城市信用社\",..: 9 9 9 9 9 9 9 9 9 9 ...\n",
      " $ Intype3 : chr [1:38202] \"B\" \"B\" \"B\" \"B\" ...\n",
      " $ Ins_prov: chr [1:38202] \"北京市\" \"江苏省\" \"山东省\" \"上海市\" ...\n",
      " $ Ins_city: chr [1:38202] \"北京市\" \"南京市\" \"济南市\" \"上海市\" ...\n"
     ]
    }
   ],
   "source": [
    "str(Ins_exit3)"
   ]
  },
  {
   "cell_type": "code",
   "execution_count": 292,
   "metadata": {
    "vscode": {
     "languageId": "r"
    }
   },
   "outputs": [],
   "source": [
    "#注意：因为中间版本调整，所以下面的Ins_entry, Ins_entry2, Ins_entry3名称需要注意。\n",
    "#现在基本对应最初的数据框，经过处理的数据框（比如添加省份），选取银行类型的数据框。"
   ]
  },
  {
   "cell_type": "markdown",
   "metadata": {},
   "source": [
    "### 8.3.6-运行速度比较-注释"
   ]
  },
  {
   "cell_type": "code",
   "execution_count": 293,
   "metadata": {
    "vscode": {
     "languageId": "r"
    }
   },
   "outputs": [],
   "source": [
    "#以下内容 可以先 注释"
   ]
  },
  {
   "cell_type": "code",
   "execution_count": 294,
   "metadata": {
    "vscode": {
     "languageId": "r"
    }
   },
   "outputs": [],
   "source": [
    "# #crossing-uncount速度对比\n",
    "# microbenchmark(\n",
    "#   code1 = {\n",
    "#     years = 1984:2024\n",
    "#     Ins_4 <- Ins_entry %>% crossing(year = years)\n",
    "#   },\n",
    "#   code2 = {\n",
    "#     Ins_4b <- Ins_entry %>% \n",
    "#       mutate(freq = 2024-1984+1) %>% \n",
    "#       uncount(freq) %>%\n",
    "#       group_by(Inscode) %>%\n",
    "#       mutate(year = 1984:2024) %>%\n",
    "#       ungroup()\n",
    "#   },\n",
    "#   times = 10\n",
    "# )"
   ]
  },
  {
   "cell_type": "code",
   "execution_count": 295,
   "metadata": {
    "vscode": {
     "languageId": "r"
    }
   },
   "outputs": [],
   "source": [
    "# #crossing-uncount速度对比\n",
    "# microbenchmark(\n",
    "#   code1 = {\n",
    "#     years = 1984:2024\n",
    "#     Ins_4 <- Ins_entry %>% crossing(year = years)\n",
    "#   },\n",
    "#   code2 = {\n",
    "#     Ins_4b <- Ins_entry %>% \n",
    "#       mutate(freq = 2024-1984+1) %>% \n",
    "#       uncount(freq) %>%\n",
    "#       group_by(Inscode) %>%\n",
    "#       mutate(year = 1984:2024) %>%\n",
    "#       ungroup()\n",
    "#   },\n",
    "#   code3 = {\n",
    "#   Ins_4c <- setDT(Ins_entry)[, .(year = 1984:2024), by = .(Inscode)]\n",
    "# },\n",
    "#   times = 10\n",
    "# )"
   ]
  },
  {
   "cell_type": "code",
   "execution_count": 296,
   "metadata": {
    "vscode": {
     "languageId": "r"
    }
   },
   "outputs": [],
   "source": [
    "# microbenchmark(\n",
    "#   code1 = {\n",
    "#     years = 1984:2024\n",
    "#     Ins_4 <- Ins_entry %>% crossing(year = years)\n",
    "#   },\n",
    "#   code2 = {\n",
    "#     Ins_4b <- Ins_entry %>% \n",
    "#       mutate(freq = 2024-1984+1) %>% \n",
    "#       uncount(freq) %>%\n",
    "#       group_by(Inscode) %>%\n",
    "#       mutate(year = 1984:2024) %>%\n",
    "#       ungroup()\n",
    "#   },\n",
    "#   code3 = {\n",
    "#     Ins_4c <- setDT(Ins_entry)[, .(year = 1984:2024), by = .(Inscode)]\n",
    "#   },\n",
    "#   times = 10\n",
    "# )"
   ]
  },
  {
   "cell_type": "code",
   "execution_count": 297,
   "metadata": {
    "vscode": {
     "languageId": "r"
    }
   },
   "outputs": [],
   "source": [
    "# # Run the microbenchmark\n",
    "# benchmark_results <- microbenchmark(\n",
    "#   code1 = {\n",
    "#     years = 1984:2024\n",
    "#     Ins_4 <- Ins_entry %>% crossing(year = years)\n",
    "#   },\n",
    "#   code2 = {\n",
    "#     Ins_4b <- Ins_entry %>% \n",
    "#       mutate(freq = 2024-1984+1) %>% \n",
    "#       uncount(freq) %>%\n",
    "#       group_by(Inscode) %>%\n",
    "#       mutate(year = 1984:2024) %>%\n",
    "#       ungroup()\n",
    "#   },\n",
    "#   code3 = {\n",
    "#     Ins_4c <- setDT(Ins_entry)[, .(year = 1984:2024), by = .(Inscode)]\n",
    "#   },\n",
    "#   times = 10\n",
    "# )\n",
    "\n"
   ]
  },
  {
   "cell_type": "code",
   "execution_count": 298,
   "metadata": {
    "vscode": {
     "languageId": "r"
    }
   },
   "outputs": [],
   "source": [
    "# # Process the results\n",
    "# summary_results <- as.data.frame(benchmark_results) %>%\n",
    "#   group_by(expr) %>%\n",
    "#   summarise(\n",
    "#     mean = mean(time),\n",
    "#     sd = sd(time),\n",
    "#     .groups = 'drop'\n",
    "#   ) %>%\n",
    "#   mutate(\n",
    "#     mean_seconds = mean / 1e9,\n",
    "#     sd_seconds = sd / 1e9,\n",
    "#     mean_ms = mean / 1e6,\n",
    "#     sd_ms = sd / 1e6\n",
    "#   )\n",
    "\n",
    "# # Print the results\n",
    "# print(summary_results, digits = 4)\n",
    "\n",
    "# # Create a more readable output\n",
    "# cat(\"\\nReadable summary:\\n\")\n",
    "# for (i in 1:nrow(summary_results)) {\n",
    "#   cat(sprintf(\"%s:\\n\", summary_results$expr[i]))\n",
    "#   cat(sprintf(\"  Mean time: %.4f seconds (%.2f ms)\\n\", \n",
    "#               summary_results$mean_seconds[i], \n",
    "#               summary_results$mean_ms[i]))\n",
    "#   cat(sprintf(\"  Std Dev:   %.4f seconds (%.2f ms)\\n\\n\", \n",
    "#               summary_results$sd_seconds[i], \n",
    "#               summary_results$sd_ms[i]))\n",
    "# }"
   ]
  },
  {
   "cell_type": "code",
   "execution_count": 299,
   "metadata": {
    "vscode": {
     "languageId": "r"
    }
   },
   "outputs": [],
   "source": [
    "# Check for any unexpected values in Intype3\n",
    "# unexpected_types <- Ins_3 %>%\n",
    "#   filter(!Intype3 %in% c(\"B\", \"C\", \"D\", \"E\", \"S\"))\n",
    "\n",
    "# if (nrow(unexpected_types) > 0) {\n",
    "#   cat(\"Warning: Unexpected values found in Intype3\\n\")\n",
    "#   print(table(unexpected_types$Intype3))\n",
    "# } else {\n",
    "#   cat(\"No unexpected values found in Intype3\\n\")\n",
    "# }"
   ]
  },
  {
   "cell_type": "markdown",
   "metadata": {},
   "source": [
    "## 8.4-计算各省分支"
   ]
  },
  {
   "cell_type": "code",
   "execution_count": 300,
   "metadata": {
    "vscode": {
     "languageId": "r"
    }
   },
   "outputs": [],
   "source": [
    "#前面是试探代码。直接进入8.4.1"
   ]
  },
  {
   "cell_type": "code",
   "execution_count": 301,
   "metadata": {
    "vscode": {
     "languageId": "r"
    }
   },
   "outputs": [],
   "source": [
    "#第一部分使用data.table。后来发现tidyverse速度可能还要稍快一些。同时语法更加熟悉。所以注释掉"
   ]
  },
  {
   "cell_type": "code",
   "execution_count": 302,
   "metadata": {
    "vscode": {
     "languageId": "r"
    }
   },
   "outputs": [],
   "source": [
    "# # Convert Ins_entry2 to a data.table if it's not already\n",
    "# setDT(Ins_entry2)"
   ]
  },
  {
   "cell_type": "code",
   "execution_count": 303,
   "metadata": {
    "vscode": {
     "languageId": "r"
    }
   },
   "outputs": [],
   "source": [
    "# # Calculate the count for each province and year\n",
    "# summary_stats <- Ins_entry2[, .(\n",
    "#   branch_count = sapply(years, function(y) sum(year(Apprdate) <= y))\n",
    "# ), by = Ins_prov][, .(Ins_prov, year = rep(years, .N), branch_count = unlist(branch_count))]"
   ]
  },
  {
   "cell_type": "code",
   "execution_count": 304,
   "metadata": {
    "vscode": {
     "languageId": "r"
    }
   },
   "outputs": [],
   "source": [
    "# result <- Ins_entry2[, .(year = years, \n",
    "#                         count = as.integer(year >= year(Apprdate))), \n",
    "#                     by = .(Inscode, Ins_prov)]"
   ]
  },
  {
   "cell_type": "code",
   "execution_count": 305,
   "metadata": {
    "vscode": {
     "languageId": "r"
    }
   },
   "outputs": [],
   "source": [
    "# result <- Ins_entry2[, {\n",
    "#   .(year = years,\n",
    "#     count = as.integer(years >= year(Apprdate)))\n",
    "# }, by = .(Inscode, Ins_prov)]"
   ]
  },
  {
   "cell_type": "code",
   "execution_count": 306,
   "metadata": {
    "vscode": {
     "languageId": "r"
    }
   },
   "outputs": [],
   "source": [
    "# summary_stats2 <- Ins_entry2[, {\n",
    "#   # Count branches for each year\n",
    "#   yearly_counts <- sapply(years, function(y) sum(year(Apprdate) <= y))\n",
    "  \n",
    "#   # Create a data.table with years and counts\n",
    "#   .(year = years, branch_count = yearly_counts)\n",
    "# }, by = Ins_prov]"
   ]
  },
  {
   "cell_type": "code",
   "execution_count": 307,
   "metadata": {
    "vscode": {
     "languageId": "r"
    }
   },
   "outputs": [],
   "source": [
    "# print(head(summary_stats))"
   ]
  },
  {
   "cell_type": "code",
   "execution_count": 308,
   "metadata": {
    "vscode": {
     "languageId": "r"
    }
   },
   "outputs": [],
   "source": [
    "# print(head(summary_stats2))"
   ]
  },
  {
   "cell_type": "code",
   "execution_count": 309,
   "metadata": {
    "vscode": {
     "languageId": "r"
    }
   },
   "outputs": [],
   "source": [
    "# summary_stats3 <- Ins_entry2 %>%\n",
    "#   # Group by province\n",
    "#   group_by(Ins_prov) %>%\n",
    "#   # Calculate cumulative counts for each year\n",
    "#   summarise(\n",
    "#     branch_count = list(map_int(years, ~sum(year(Apprdate) <= .x)))\n",
    "#   ) %>%\n",
    "#   # Unnest the results\n",
    "#   unnest(branch_count) %>%\n",
    "#   # Add the year column\n",
    "#   mutate(year = rep(years, n_distinct(Ins_prov))) %>%\n",
    "#   # Reorder columns to match the data.table output\n",
    "#   select(Ins_prov, year, branch_count)\n",
    "\n"
   ]
  },
  {
   "cell_type": "code",
   "execution_count": 310,
   "metadata": {
    "vscode": {
     "languageId": "r"
    }
   },
   "outputs": [],
   "source": [
    "# summary_stats4 <- Ins_entry2 %>%\n",
    "#   group_by(Ins_prov) %>%\n",
    "#   summarise(\n",
    "#     tibble(\n",
    "#       year = years,\n",
    "#       branch_count = map_int(years, ~sum(year(Apprdate) <= .x))\n",
    "#     )\n",
    "#   ) %>%\n",
    "#   ungroup()"
   ]
  },
  {
   "cell_type": "code",
   "execution_count": 311,
   "metadata": {
    "vscode": {
     "languageId": "r"
    }
   },
   "outputs": [],
   "source": [
    "# summary_stats5 <- Ins_entry2 %>%\n",
    "#   group_by(Ins_prov) %>%\n",
    "#   reframe(\n",
    "#     tibble(\n",
    "#       year = years,\n",
    "#       branch_count = map_int(years, ~sum(year(Apprdate) <= .x))\n",
    "#     )\n",
    "#   )"
   ]
  },
  {
   "cell_type": "code",
   "execution_count": 312,
   "metadata": {
    "vscode": {
     "languageId": "r"
    }
   },
   "outputs": [],
   "source": [
    "# print(head(summary_stats5))"
   ]
  },
  {
   "cell_type": "code",
   "execution_count": 313,
   "metadata": {
    "vscode": {
     "languageId": "r"
    }
   },
   "outputs": [],
   "source": [
    "# # Sort both results by Ins_prov and year\n",
    "# summary_stats2_sorted <- summary_stats2[order(Ins_prov, year)]\n",
    "# summary_stats5_sorted <- summary_stats5 %>% arrange(Ins_prov, year)\n",
    "\n",
    "# # Now let's compare them\n",
    "# are_equal <- all.equal(\n",
    "#   as.data.frame(summary_stats2_sorted), \n",
    "#   as.data.frame(summary_stats5_sorted)\n",
    "# )\n",
    "\n",
    "# print(are_equal)"
   ]
  },
  {
   "cell_type": "code",
   "execution_count": 314,
   "metadata": {
    "vscode": {
     "languageId": "r"
    }
   },
   "outputs": [],
   "source": [
    "# summary_stats6 <- Ins_entry2 %>%\n",
    "#   group_by(Ins_prov) %>%\n",
    "#   reframe(\n",
    "#     tibble(\n",
    "#       year = years,\n",
    "#       branch_count = map_int(years, ~sum(year(Apprdate) <= .))\n",
    "#     )\n",
    "#   )"
   ]
  },
  {
   "cell_type": "code",
   "execution_count": 315,
   "metadata": {
    "vscode": {
     "languageId": "r"
    }
   },
   "outputs": [],
   "source": [
    "# summary_stats7 <- Ins_entry2 %>%\n",
    "#   group_by(Ins_prov) %>%\n",
    "#   reframe(\n",
    "#     year = years,\n",
    "#     branch_count = map_int(years, ~sum(year(Apprdate) <= .)\n",
    "#     )\n",
    "#   )"
   ]
  },
  {
   "cell_type": "code",
   "execution_count": 316,
   "metadata": {
    "vscode": {
     "languageId": "r"
    }
   },
   "outputs": [],
   "source": [
    "# all.equal(summary_stats5, summary_stats6)"
   ]
  },
  {
   "cell_type": "code",
   "execution_count": 317,
   "metadata": {
    "vscode": {
     "languageId": "r"
    }
   },
   "outputs": [],
   "source": [
    "# all.equal(summary_stats5, summary_stats7)"
   ]
  },
  {
   "cell_type": "markdown",
   "metadata": {},
   "source": [
    "### 8.4.1-各省分支-entry"
   ]
  },
  {
   "cell_type": "code",
   "execution_count": 318,
   "metadata": {
    "vscode": {
     "languageId": "r"
    }
   },
   "outputs": [],
   "source": [
    "#最早的计算比较仔细。考虑成立和退出的年份\n",
    "#但是一则对总体影响不大，一则为了加快代码。暂时注释掉"
   ]
  },
  {
   "cell_type": "code",
   "execution_count": 319,
   "metadata": {
    "vscode": {
     "languageId": "r"
    }
   },
   "outputs": [],
   "source": [
    "# fraction_of_year <- function(appr_date, exit_date, year) {\n",
    "#   if (year == year(appr_date) || year == year(exit_date)) {\n",
    "#     year_start <- as.Date(paste0(year, \"-01-01\"))\n",
    "#     year_end <- as.Date(paste0(year, \"-12-31\"))\n",
    "    \n",
    "#     actual_start <- max(appr_date, year_start)\n",
    "#     actual_end <- min(exit_date, year_end)\n",
    "    \n",
    "#     days_in_year <- if(leap_year(year)) 366 else 365\n",
    "    \n",
    "#     fraction <- as.numeric(actual_end - actual_start + 1) / days_in_year\n",
    "#   } else {\n",
    "#     fraction <- 1\n",
    "#   }\n",
    "\n",
    "#   return(fraction)\n",
    "# }"
   ]
  },
  {
   "cell_type": "code",
   "execution_count": 320,
   "metadata": {
    "vscode": {
     "languageId": "r"
    }
   },
   "outputs": [],
   "source": [
    "#刚开始使用两个计算过程，但是后来可能要多次计算分支数量，乃变为一个函数\n",
    "#把这个计算过程变为一个函数，同时设置一个参数exist\n",
    "#如果exist=1，则表示对应Ins_entry3的情形，这个分支机构到现在为止仍然存在\n",
    "#如果exist=0，则表示对应Ins_exit3的情形，这个分支机构在Exitdt日期已经退出\n",
    "\n",
    "calculate_branch_counts <- function(df, years, exist = 1) {\n",
    "  df %>%\n",
    "    group_by(Ins_prov) %>%\n",
    "    reframe(\n",
    "      tibble(\n",
    "        year = years,\n",
    "        branch_count = if (exist == 1) {\n",
    "          map_int(years, ~sum(year(Apprdate) <= .))\n",
    "        } else {\n",
    "          map_int(years, ~sum(year(Apprdate) <= . & . <= year(Exitdt)))\n",
    "        }\n",
    "      )\n",
    "    )\n",
    "}"
   ]
  },
  {
   "cell_type": "code",
   "execution_count": 321,
   "metadata": {
    "vscode": {
     "languageId": "r"
    }
   },
   "outputs": [],
   "source": [
    "#第一次命名为4c，并在下面使用all.equal函数进行比较\n",
    "# For Ins_entry3   \n",
    "Ins_entry4 <- calculate_branch_counts(Ins_entry3, years, exist = 1)\n",
    "\n",
    "# For Ins_exit3\n",
    "Ins_exit4 <- calculate_branch_counts(Ins_exit3, years, exist = 0)"
   ]
  },
  {
   "cell_type": "code",
   "execution_count": 322,
   "metadata": {
    "vscode": {
     "languageId": "r"
    }
   },
   "outputs": [],
   "source": [
    "#all.equal(Ins_entry4c, Ins_entry4)\n",
    "#比较过程处理和函数处理"
   ]
  },
  {
   "cell_type": "code",
   "execution_count": 323,
   "metadata": {
    "vscode": {
     "languageId": "r"
    }
   },
   "outputs": [],
   "source": [
    "#all.equal(Ins_exit4c, Ins_exit4)"
   ]
  },
  {
   "cell_type": "code",
   "execution_count": 324,
   "metadata": {
    "vscode": {
     "languageId": "r"
    }
   },
   "outputs": [],
   "source": [
    "# Ins_entry4 <- Ins_entry3 %>%\n",
    "#   group_by(Ins_prov) %>%\n",
    "#   reframe(\n",
    "#     tibble(\n",
    "#       year = years,\n",
    "#       branch_count = map_int(years, ~sum(year(Apprdate) <= .))\n",
    "#     )\n",
    "#   )"
   ]
  },
  {
   "cell_type": "code",
   "execution_count": 325,
   "metadata": {
    "vscode": {
     "languageId": "r"
    }
   },
   "outputs": [
    {
     "name": "stdout",
     "output_type": "stream",
     "text": [
      "tibble [38,202 × 14] (S3: tbl_df/tbl/data.frame)\n",
      " $ Inscode : chr [1:38202] \"B0001G211000002\" \"B0001G232010001\" \"B0001G237010001\" \"B0001K231000002\" ...\n",
      " $ Intype  : chr [1:38202] \"商业银行\" \"商业银行\" \"商业银行\" \"商业银行\" ...\n",
      " $ Insname : chr [1:38202] \"中国工商银行股份有限公司私人银行部北京分部\" \"中国工商银行股份有限公司牡丹卡中心南京分中心\" \"中国工商银行股份有限公司私人银行部济南分部\" \"中国工商银行股份有限公司私人银行部上海分部\" ...\n",
      " $ Insadr  : chr [1:38202] \"北京市朝阳区建国门外大街1号院1号楼国贸大厦28层\" \"南京市汉中路95号\" \"济南市经四路310号银工大厦东副楼二楼\" \"上海市浦明路132号\" ...\n",
      " $ Inscity : chr [1:38202] \"北京市\" \"江苏省-南京市\" \"山东省-济南市\" \"上海市\" ...\n",
      " $ Issdate : Date[1:38202], format: \"2011-05-05\" \"2013-03-26\" ...\n",
      " $ Apprdate: Date[1:38202], format: \"2008-10-17\" \"2002-12-18\" ...\n",
      " $ Exitdt  : Date[1:38202], format: \"2014-08-15\" \"2022-05-13\" ...\n",
      " $ Inscode2: chr [1:38202] \"B0001\" \"B0001\" \"B0001\" \"B0001\" ...\n",
      " $ Insname2: chr [1:38202] \"中国工商银行\" \"中国工商银行\" \"中国工商银行\" \"中国工商银行\" ...\n",
      " $ Intype2 : Factor w/ 13 levels \"财务公司\",\"城市信用社\",..: 9 9 9 9 9 9 9 9 9 9 ...\n",
      " $ Intype3 : chr [1:38202] \"B\" \"B\" \"B\" \"B\" ...\n",
      " $ Ins_prov: chr [1:38202] \"北京市\" \"江苏省\" \"山东省\" \"上海市\" ...\n",
      " $ Ins_city: chr [1:38202] \"北京市\" \"南京市\" \"济南市\" \"上海市\" ...\n"
     ]
    }
   ],
   "source": [
    "str(Ins_exit3)"
   ]
  },
  {
   "cell_type": "code",
   "execution_count": 326,
   "metadata": {
    "vscode": {
     "languageId": "r"
    }
   },
   "outputs": [
    {
     "name": "stdout",
     "output_type": "stream",
     "text": [
      "\u001b[90m# A tibble: 6 × 3\u001b[39m\n",
      "  Ins_prov  year branch_count\n",
      "  \u001b[3m\u001b[90m<chr>\u001b[39m\u001b[23m    \u001b[3m\u001b[90m<int>\u001b[39m\u001b[23m        \u001b[3m\u001b[90m<int>\u001b[39m\u001b[23m\n",
      "\u001b[90m1\u001b[39m 上海市    \u001b[4m1\u001b[24m984          389\n",
      "\u001b[90m2\u001b[39m 上海市    \u001b[4m1\u001b[24m985          390\n",
      "\u001b[90m3\u001b[39m 上海市    \u001b[4m1\u001b[24m986          392\n",
      "\u001b[90m4\u001b[39m 上海市    \u001b[4m1\u001b[24m987          435\n",
      "\u001b[90m5\u001b[39m 上海市    \u001b[4m1\u001b[24m988          536\n",
      "\u001b[90m6\u001b[39m 上海市    \u001b[4m1\u001b[24m989          607\n"
     ]
    }
   ],
   "source": [
    "print(head(Ins_entry4))"
   ]
  },
  {
   "cell_type": "code",
   "execution_count": 327,
   "metadata": {
    "vscode": {
     "languageId": "r"
    }
   },
   "outputs": [],
   "source": [
    "Ins_entry3b <- as.data.table(Ins_entry3)"
   ]
  },
  {
   "cell_type": "code",
   "execution_count": 328,
   "metadata": {
    "vscode": {
     "languageId": "r"
    }
   },
   "outputs": [],
   "source": [
    "Ins_exit3b <- as.data.table(Ins_exit3)"
   ]
  },
  {
   "cell_type": "code",
   "execution_count": 329,
   "metadata": {
    "vscode": {
     "languageId": "r"
    }
   },
   "outputs": [
    {
     "name": "stdout",
     "output_type": "stream",
     "text": [
      "Classes 'data.table' and 'data.frame':\t38202 obs. of  14 variables:\n",
      " $ Inscode : chr  \"B0001G211000002\" \"B0001G232010001\" \"B0001G237010001\" \"B0001K231000002\" ...\n",
      " $ Intype  : chr  \"商业银行\" \"商业银行\" \"商业银行\" \"商业银行\" ...\n",
      " $ Insname : chr  \"中国工商银行股份有限公司私人银行部北京分部\" \"中国工商银行股份有限公司牡丹卡中心南京分中心\" \"中国工商银行股份有限公司私人银行部济南分部\" \"中国工商银行股份有限公司私人银行部上海分部\" ...\n",
      " $ Insadr  : chr  \"北京市朝阳区建国门外大街1号院1号楼国贸大厦28层\" \"南京市汉中路95号\" \"济南市经四路310号银工大厦东副楼二楼\" \"上海市浦明路132号\" ...\n",
      " $ Inscity : chr  \"北京市\" \"江苏省-南京市\" \"山东省-济南市\" \"上海市\" ...\n",
      " $ Issdate : Date, format: \"2011-05-05\" \"2013-03-26\" ...\n",
      " $ Apprdate: Date, format: \"2008-10-17\" \"2002-12-18\" ...\n",
      " $ Exitdt  : Date, format: \"2014-08-15\" \"2022-05-13\" ...\n",
      " $ Inscode2: chr  \"B0001\" \"B0001\" \"B0001\" \"B0001\" ...\n",
      " $ Insname2: chr  \"中国工商银行\" \"中国工商银行\" \"中国工商银行\" \"中国工商银行\" ...\n",
      " $ Intype2 : Factor w/ 13 levels \"财务公司\",\"城市信用社\",..: 9 9 9 9 9 9 9 9 9 9 ...\n",
      " $ Intype3 : chr  \"B\" \"B\" \"B\" \"B\" ...\n",
      " $ Ins_prov: chr  \"北京市\" \"江苏省\" \"山东省\" \"上海市\" ...\n",
      " $ Ins_city: chr  \"北京市\" \"南京市\" \"济南市\" \"上海市\" ...\n",
      " - attr(*, \".internal.selfref\")=<externalptr> \n"
     ]
    }
   ],
   "source": [
    "str(Ins_exit3b)"
   ]
  },
  {
   "cell_type": "code",
   "execution_count": 330,
   "metadata": {
    "vscode": {
     "languageId": "r"
    }
   },
   "outputs": [],
   "source": [
    "Ins_entry4b <- Ins_entry3b[, {\n",
    "  # Count branches for each year\n",
    "  yearly_counts <- sapply(years, function(y) sum(year(Apprdate) <= y))\n",
    "  \n",
    "  # Create a data.table with years and counts\n",
    "  .(year = years, branch_count = yearly_counts)\n",
    "}, by = Ins_prov]"
   ]
  },
  {
   "cell_type": "markdown",
   "metadata": {},
   "source": [
    "### 取消-8.4.2-比较tb和dt"
   ]
  },
  {
   "cell_type": "code",
   "execution_count": 331,
   "metadata": {
    "vscode": {
     "languageId": "r"
    }
   },
   "outputs": [],
   "source": [
    "#比较一下tb格式和dt格式数据框的速度是否有差异。似乎速度没有什么差异"
   ]
  },
  {
   "cell_type": "code",
   "execution_count": 332,
   "metadata": {
    "vscode": {
     "languageId": "r"
    }
   },
   "outputs": [],
   "source": [
    "#不能使用这个代码。会将两个数据框都变成data.table。不是真实复制，类似一套班子两块牌子。可以使用最下面两行\n",
    "# Ins_exit3b=Ins_exit3\n",
    "# setDT(Ins_exit3b)\n",
    "\n",
    "#这个是真实复制\n",
    "# # Ensure Ins_exit3 is a tibble\n",
    "# Ins_exit3 <- as_tibble(Ins_exit3)\n",
    "\n",
    "# # Create a data.table version\n",
    "# Ins_exit3_dt <- as.data.table(Ins_exit3)"
   ]
  },
  {
   "cell_type": "code",
   "execution_count": 333,
   "metadata": {
    "vscode": {
     "languageId": "r"
    }
   },
   "outputs": [
    {
     "name": "stdout",
     "output_type": "stream",
     "text": [
      "tibble [38,202 × 14] (S3: tbl_df/tbl/data.frame)\n",
      " $ Inscode : chr [1:38202] \"B0001G211000002\" \"B0001G232010001\" \"B0001G237010001\" \"B0001K231000002\" ...\n",
      " $ Intype  : chr [1:38202] \"商业银行\" \"商业银行\" \"商业银行\" \"商业银行\" ...\n",
      " $ Insname : chr [1:38202] \"中国工商银行股份有限公司私人银行部北京分部\" \"中国工商银行股份有限公司牡丹卡中心南京分中心\" \"中国工商银行股份有限公司私人银行部济南分部\" \"中国工商银行股份有限公司私人银行部上海分部\" ...\n",
      " $ Insadr  : chr [1:38202] \"北京市朝阳区建国门外大街1号院1号楼国贸大厦28层\" \"南京市汉中路95号\" \"济南市经四路310号银工大厦东副楼二楼\" \"上海市浦明路132号\" ...\n",
      " $ Inscity : chr [1:38202] \"北京市\" \"江苏省-南京市\" \"山东省-济南市\" \"上海市\" ...\n",
      " $ Issdate : Date[1:38202], format: \"2011-05-05\" \"2013-03-26\" ...\n",
      " $ Apprdate: Date[1:38202], format: \"2008-10-17\" \"2002-12-18\" ...\n",
      " $ Exitdt  : Date[1:38202], format: \"2014-08-15\" \"2022-05-13\" ...\n",
      " $ Inscode2: chr [1:38202] \"B0001\" \"B0001\" \"B0001\" \"B0001\" ...\n",
      " $ Insname2: chr [1:38202] \"中国工商银行\" \"中国工商银行\" \"中国工商银行\" \"中国工商银行\" ...\n",
      " $ Intype2 : Factor w/ 13 levels \"财务公司\",\"城市信用社\",..: 9 9 9 9 9 9 9 9 9 9 ...\n",
      " $ Intype3 : chr [1:38202] \"B\" \"B\" \"B\" \"B\" ...\n",
      " $ Ins_prov: chr [1:38202] \"北京市\" \"江苏省\" \"山东省\" \"上海市\" ...\n",
      " $ Ins_city: chr [1:38202] \"北京市\" \"南京市\" \"济南市\" \"上海市\" ...\n"
     ]
    }
   ],
   "source": [
    "str(Ins_exit3)"
   ]
  },
  {
   "cell_type": "code",
   "execution_count": 334,
   "metadata": {
    "vscode": {
     "languageId": "r"
    }
   },
   "outputs": [],
   "source": [
    "Ins_exit3b <- as.data.table(Ins_exit3)"
   ]
  },
  {
   "cell_type": "code",
   "execution_count": 335,
   "metadata": {
    "vscode": {
     "languageId": "r"
    }
   },
   "outputs": [
    {
     "name": "stdout",
     "output_type": "stream",
     "text": [
      "Classes 'data.table' and 'data.frame':\t38202 obs. of  14 variables:\n",
      " $ Inscode : chr  \"B0001G211000002\" \"B0001G232010001\" \"B0001G237010001\" \"B0001K231000002\" ...\n",
      " $ Intype  : chr  \"商业银行\" \"商业银行\" \"商业银行\" \"商业银行\" ...\n",
      " $ Insname : chr  \"中国工商银行股份有限公司私人银行部北京分部\" \"中国工商银行股份有限公司牡丹卡中心南京分中心\" \"中国工商银行股份有限公司私人银行部济南分部\" \"中国工商银行股份有限公司私人银行部上海分部\" ...\n",
      " $ Insadr  : chr  \"北京市朝阳区建国门外大街1号院1号楼国贸大厦28层\" \"南京市汉中路95号\" \"济南市经四路310号银工大厦东副楼二楼\" \"上海市浦明路132号\" ...\n",
      " $ Inscity : chr  \"北京市\" \"江苏省-南京市\" \"山东省-济南市\" \"上海市\" ...\n",
      " $ Issdate : Date, format: \"2011-05-05\" \"2013-03-26\" ...\n",
      " $ Apprdate: Date, format: \"2008-10-17\" \"2002-12-18\" ...\n",
      " $ Exitdt  : Date, format: \"2014-08-15\" \"2022-05-13\" ...\n",
      " $ Inscode2: chr  \"B0001\" \"B0001\" \"B0001\" \"B0001\" ...\n",
      " $ Insname2: chr  \"中国工商银行\" \"中国工商银行\" \"中国工商银行\" \"中国工商银行\" ...\n",
      " $ Intype2 : Factor w/ 13 levels \"财务公司\",\"城市信用社\",..: 9 9 9 9 9 9 9 9 9 9 ...\n",
      " $ Intype3 : chr  \"B\" \"B\" \"B\" \"B\" ...\n",
      " $ Ins_prov: chr  \"北京市\" \"江苏省\" \"山东省\" \"上海市\" ...\n",
      " $ Ins_city: chr  \"北京市\" \"南京市\" \"济南市\" \"上海市\" ...\n",
      " - attr(*, \".internal.selfref\")=<externalptr> \n"
     ]
    }
   ],
   "source": [
    "str(Ins_exit3b)"
   ]
  },
  {
   "cell_type": "markdown",
   "metadata": {},
   "source": [
    "### 8.4.3-exit"
   ]
  },
  {
   "cell_type": "code",
   "execution_count": 336,
   "metadata": {
    "vscode": {
     "languageId": "r"
    }
   },
   "outputs": [],
   "source": [
    "# Ins_exit4 <- Ins_exit3 %>%\n",
    "#   group_by(Ins_prov) %>%\n",
    "#   reframe(\n",
    "#     tibble(\n",
    "#       year = years,\n",
    "#       branch_count = map_int(years, ~sum(year(Apprdate) <= . & . <= year(Exitdt)))\n",
    "#     )\n",
    "#   )"
   ]
  },
  {
   "cell_type": "code",
   "execution_count": 337,
   "metadata": {
    "vscode": {
     "languageId": "r"
    }
   },
   "outputs": [],
   "source": [
    "# Ins_exit4b <- Ins_exit3b[, {\n",
    "#   # Count branches for each year\n",
    "#   yearly_counts <- sapply(years, function(y) {\n",
    "#     sum(year(Apprdate) <= y & y <= year(Exitdt))\n",
    "#   })\n",
    "  \n",
    "#   # Create a data.table with years and counts\n",
    "#   .(year = years, branch_count = yearly_counts)\n",
    "# }, by = Ins_prov]"
   ]
  },
  {
   "cell_type": "code",
   "execution_count": 338,
   "metadata": {
    "vscode": {
     "languageId": "r"
    }
   },
   "outputs": [
    {
     "name": "stdout",
     "output_type": "stream",
     "text": [
      "\u001b[90m# A tibble: 6 × 3\u001b[39m\n",
      "  Ins_prov  year branch_count\n",
      "  \u001b[3m\u001b[90m<chr>\u001b[39m\u001b[23m    \u001b[3m\u001b[90m<int>\u001b[39m\u001b[23m        \u001b[3m\u001b[90m<int>\u001b[39m\u001b[23m\n",
      "\u001b[90m1\u001b[39m 上海市    \u001b[4m1\u001b[24m984           41\n",
      "\u001b[90m2\u001b[39m 上海市    \u001b[4m1\u001b[24m985           41\n",
      "\u001b[90m3\u001b[39m 上海市    \u001b[4m1\u001b[24m986           43\n",
      "\u001b[90m4\u001b[39m 上海市    \u001b[4m1\u001b[24m987           43\n",
      "\u001b[90m5\u001b[39m 上海市    \u001b[4m1\u001b[24m988           50\n",
      "\u001b[90m6\u001b[39m 上海市    \u001b[4m1\u001b[24m989           51\n"
     ]
    }
   ],
   "source": [
    "print(head(Ins_exit4))"
   ]
  },
  {
   "cell_type": "code",
   "execution_count": 339,
   "metadata": {
    "vscode": {
     "languageId": "r"
    }
   },
   "outputs": [
    {
     "name": "stdout",
     "output_type": "stream",
     "text": [
      "[1] TRUE\n"
     ]
    }
   ],
   "source": [
    "#比较两者dplyr和data.table结果是否相同\n",
    "# Sort both results by Ins_prov and year\n",
    "Ins_exit4b_sorted <- Ins_exit4b[order(Ins_prov, year)]\n",
    "Ins_exit4_sorted <- Ins_exit4 %>% arrange(Ins_prov, year)\n",
    "\n",
    "# Now let's compare them\n",
    "are_equal <- all.equal(\n",
    "  as.data.frame(Ins_exit4b_sorted), \n",
    "  as.data.frame(Ins_exit4_sorted)\n",
    ")\n",
    "\n",
    "print(are_equal)"
   ]
  },
  {
   "cell_type": "markdown",
   "metadata": {},
   "source": [
    "### 8.4.4-合并两者"
   ]
  },
  {
   "cell_type": "code",
   "execution_count": 340,
   "metadata": {
    "vscode": {
     "languageId": "r"
    }
   },
   "outputs": [],
   "source": [
    "#合并两者\n",
    "# Merge the two dataframes and sum branch_count\n",
    "merged_df <- Ins_entry4 %>%\n",
    "  full_join(Ins_exit4, by = c(\"Ins_prov\", \"year\"), suffix = c(\"_entry\", \"_exit\")) %>%\n",
    "  mutate(branch_count = coalesce(branch_count_entry, 0) + coalesce(branch_count_exit, 0)) %>%\n",
    "  select(Ins_prov, year, branch_count)"
   ]
  },
  {
   "cell_type": "code",
   "execution_count": 341,
   "metadata": {
    "vscode": {
     "languageId": "r"
    }
   },
   "outputs": [
    {
     "name": "stdout",
     "output_type": "stream",
     "text": [
      "\u001b[90m# A tibble: 6 × 3\u001b[39m\n",
      "  Ins_prov  year branch_count\n",
      "  \u001b[3m\u001b[90m<chr>\u001b[39m\u001b[23m    \u001b[3m\u001b[90m<int>\u001b[39m\u001b[23m        \u001b[3m\u001b[90m<dbl>\u001b[39m\u001b[23m\n",
      "\u001b[90m1\u001b[39m 上海市    \u001b[4m1\u001b[24m984          430\n",
      "\u001b[90m2\u001b[39m 上海市    \u001b[4m1\u001b[24m985          431\n",
      "\u001b[90m3\u001b[39m 上海市    \u001b[4m1\u001b[24m986          435\n",
      "\u001b[90m4\u001b[39m 上海市    \u001b[4m1\u001b[24m987          478\n",
      "\u001b[90m5\u001b[39m 上海市    \u001b[4m1\u001b[24m988          586\n",
      "\u001b[90m6\u001b[39m 上海市    \u001b[4m1\u001b[24m989          658\n"
     ]
    }
   ],
   "source": [
    "# View the result\n",
    "print(head(merged_df))"
   ]
  },
  {
   "cell_type": "code",
   "execution_count": 344,
   "metadata": {
    "vscode": {
     "languageId": "r"
    }
   },
   "outputs": [],
   "source": [
    "#保存数据框\n",
    "#因为现在运行速度快，基本不用保存数据框。但是也可以留一个备份，假如代码被修改，可以看一下结果是否相同\n",
    "#保存之后 就 注释掉 代码 \n",
    "# saveRDS(merged_df, file = \"province_branch_count-2024-10-16.rds\")  #5K\n",
    "#2024-10-16 因为 鼠标 不小心触碰，似乎修改了代码。但是 Jupyter无法ctrl+Z追踪修改的地方。只能在获得焦点的单元格撤销/重复。\n",
    "#查询之后 alt+箭头可以追寻光标的位置\n",
    "#但是 上面的数据 和之前会有不同，因为之前两个三沙机构分支赋值为NA，现在修改为 海南省"
   ]
  },
  {
   "cell_type": "markdown",
   "metadata": {},
   "source": [
    "# 9-资产-利润表"
   ]
  },
  {
   "cell_type": "markdown",
   "metadata": {},
   "source": [
    "## 9.1-读入.csv文件"
   ]
  },
  {
   "cell_type": "code",
   "execution_count": 345,
   "metadata": {
    "vscode": {
     "languageId": "r"
    }
   },
   "outputs": [],
   "source": [
    "# Set the base path and file details\n",
    "#银行资产负债表 银行利润表\n",
    "#国泰安 文件名格式：D:/IDMhs/收益预测-月个股回报率文件-2024-09-23/SRFR_Amnthlyr.csv\n",
    "#CEIC文件名格式： D:/jianguo/myR/pop-人口数-CEIC-2023-04-21.csv\n",
    "#CNRDS文件名格式：D:/IDMhs/CNRDS-银行资产负债表-2024-10-12/银行资产负债表.csv\n",
    "#D:/IDMhs/CNRDS-银行利润表-2024-10-12/银行利润表.csv\n",
    "#D:/IDMhs/CNRDS-银行概况-2024-10-12/银行概况.csv\n",
    "\n",
    "#Bank Balance Sheet, Bank Income Statement\n",
    "dir_base=\"D:/IDMhs\"  #基本文件夹  #下面使用 file.path 函数，所以不用在文件夹之间添加斜杠 \"/\" \n",
    "dir_prefix= \"CNRDS\"  #子文件夹中的前缀 主干 后缀 \n",
    "dir_suffix=\"2024-10-12\"    #suffix-后缀。prefix-前缀\n",
    "file_root <- c(\"银行概况\", \"银行资产负债表\", \"银行利润表\")"
   ]
  },
  {
   "cell_type": "code",
   "execution_count": 346,
   "metadata": {
    "vscode": {
     "languageId": "r"
    }
   },
   "outputs": [],
   "source": [
    "#基本文件夹 + 子文件夹 + 文件名 \n",
    "file_name <- file.path(dir_base, \n",
    "                       paste0(dir_prefix, \"-\", file_root, \"-\", dir_suffix), \n",
    "                       paste0(file_root, \".csv\"))"
   ]
  },
  {
   "cell_type": "code",
   "execution_count": 347,
   "metadata": {
    "vscode": {
     "languageId": "r"
    }
   },
   "outputs": [
    {
     "name": "stdout",
     "output_type": "stream",
     "text": [
      "[1] \"D:/IDMhs/CNRDS-银行概况-2024-10-12/银行概况.csv\"            \n",
      "[2] \"D:/IDMhs/CNRDS-银行资产负债表-2024-10-12/银行资产负债表.csv\"\n",
      "[3] \"D:/IDMhs/CNRDS-银行利润表-2024-10-12/银行利润表.csv\"        \n"
     ]
    }
   ],
   "source": [
    "print(file_name)"
   ]
  },
  {
   "cell_type": "code",
   "execution_count": 348,
   "metadata": {
    "vscode": {
     "languageId": "r"
    }
   },
   "outputs": [
    {
     "name": "stderr",
     "output_type": "stream",
     "text": [
      "\u001b[1mRows: \u001b[22m\u001b[34m1\u001b[39m \u001b[1mColumns: \u001b[22m\u001b[34m11\u001b[39m\n",
      "\u001b[36m──\u001b[39m \u001b[1mColumn specification\u001b[22m \u001b[36m────────────────────────────────────────────────────────\u001b[39m\n",
      "\u001b[1mDelimiter:\u001b[22m \",\"\n",
      "\u001b[31mchr\u001b[39m (11): X1, X2, X3, X4, X5, X6, X7, X8, X9, X10, X11\n",
      "\n",
      "\u001b[36mℹ\u001b[39m Use `spec()` to retrieve the full column specification for this data.\n",
      "\u001b[36mℹ\u001b[39m Specify the column types or set `show_col_types = FALSE` to quiet this message.\n",
      "\u001b[1mRows: \u001b[22m\u001b[34m3629\u001b[39m \u001b[1mColumns: \u001b[22m\u001b[34m11\u001b[39m\n",
      "\u001b[36m──\u001b[39m \u001b[1mColumn specification\u001b[22m \u001b[36m────────────────────────────────────────────────────────\u001b[39m\n",
      "\u001b[1mDelimiter:\u001b[22m \",\"\n",
      "\u001b[31mchr\u001b[39m  (8): X2, X4, X6, X7, X8, X9, X10, X11\n",
      "\u001b[32mdbl\u001b[39m  (2): X1, X5\n",
      "\u001b[34mdate\u001b[39m (1): X3\n",
      "\n",
      "\u001b[36mℹ\u001b[39m Use `spec()` to retrieve the full column specification for this data.\n",
      "\u001b[36mℹ\u001b[39m Specify the column types or set `show_col_types = FALSE` to quiet this message.\n",
      "\u001b[1mRows: \u001b[22m\u001b[34m1\u001b[39m \u001b[1mColumns: \u001b[22m\u001b[34m28\u001b[39m\n",
      "\u001b[36m──\u001b[39m \u001b[1mColumn specification\u001b[22m \u001b[36m────────────────────────────────────────────────────────\u001b[39m\n",
      "\u001b[1mDelimiter:\u001b[22m \",\"\n",
      "\u001b[31mchr\u001b[39m (28): X1, X2, X3, X4, X5, X6, X7, X8, X9, X10, X11, X12, X13, X14, X15, ...\n",
      "\n",
      "\u001b[36mℹ\u001b[39m Use `spec()` to retrieve the full column specification for this data.\n",
      "\u001b[36mℹ\u001b[39m Specify the column types or set `show_col_types = FALSE` to quiet this message.\n",
      "\u001b[1mRows: \u001b[22m\u001b[34m7455\u001b[39m \u001b[1mColumns: \u001b[22m\u001b[34m28\u001b[39m\n",
      "\u001b[36m──\u001b[39m \u001b[1mColumn specification\u001b[22m \u001b[36m────────────────────────────────────────────────────────\u001b[39m\n",
      "\u001b[1mDelimiter:\u001b[22m \",\"\n",
      "\u001b[31mchr\u001b[39m   (1): X2\n",
      "\u001b[32mdbl\u001b[39m  (26): X1, X4, X5, X6, X7, X8, X9, X10, X11, X12, X13, X14, X15, X16, X1...\n",
      "\u001b[34mdate\u001b[39m  (1): X3\n",
      "\n",
      "\u001b[36mℹ\u001b[39m Use `spec()` to retrieve the full column specification for this data.\n",
      "\u001b[36mℹ\u001b[39m Specify the column types or set `show_col_types = FALSE` to quiet this message.\n",
      "\u001b[1mRows: \u001b[22m\u001b[34m1\u001b[39m \u001b[1mColumns: \u001b[22m\u001b[34m23\u001b[39m\n",
      "\u001b[36m──\u001b[39m \u001b[1mColumn specification\u001b[22m \u001b[36m────────────────────────────────────────────────────────\u001b[39m\n",
      "\u001b[1mDelimiter:\u001b[22m \",\"\n",
      "\u001b[31mchr\u001b[39m (23): X1, X2, X3, X4, X5, X6, X7, X8, X9, X10, X11, X12, X13, X14, X15, ...\n",
      "\n",
      "\u001b[36mℹ\u001b[39m Use `spec()` to retrieve the full column specification for this data.\n",
      "\u001b[36mℹ\u001b[39m Specify the column types or set `show_col_types = FALSE` to quiet this message.\n",
      "\u001b[1mRows: \u001b[22m\u001b[34m7727\u001b[39m \u001b[1mColumns: \u001b[22m\u001b[34m23\u001b[39m\n",
      "\u001b[36m──\u001b[39m \u001b[1mColumn specification\u001b[22m \u001b[36m────────────────────────────────────────────────────────\u001b[39m\n",
      "\u001b[1mDelimiter:\u001b[22m \",\"\n",
      "\u001b[31mchr\u001b[39m   (1): X2\n",
      "\u001b[32mdbl\u001b[39m  (21): X1, X4, X5, X6, X7, X8, X9, X10, X11, X12, X13, X14, X15, X16, X1...\n",
      "\u001b[34mdate\u001b[39m  (1): X3\n",
      "\n",
      "\u001b[36mℹ\u001b[39m Use `spec()` to retrieve the full column specification for this data.\n",
      "\u001b[36mℹ\u001b[39m Specify the column types or set `show_col_types = FALSE` to quiet this message.\n"
     ]
    }
   ],
   "source": [
    "# Read the CSV files\n",
    "# 此处读入代码 比较 简单。不像 最初 在 4-finstr中，claude将其读入列表之中，进行各种错误审查\n",
    "\n",
    "df_names <- c(\"bank_overview\", \"bank_balance\", \"bank_income\")\n",
    "for (i in 1:length(file_name)) {\n",
    "  assign(df_names[i], read_csv_file0(file_name[i]) ) \n",
    "}"
   ]
  },
  {
   "cell_type": "markdown",
   "metadata": {},
   "source": [
    "## 9.2-各个银行的报告数量"
   ]
  },
  {
   "cell_type": "code",
   "execution_count": 349,
   "metadata": {
    "vscode": {
     "languageId": "r"
    }
   },
   "outputs": [],
   "source": [
    "# Count records for each Bank Code in Balance Sheet and Income Statement\n",
    "balance_count <- bank_balance %>%\n",
    "  group_by(BankCode) %>%\n",
    "  summarise(Balance_Sheet_Records = n())\n",
    "\n",
    "income_count <- bank_income %>%\n",
    "  group_by(BankCode) %>%\n",
    "  summarise(Income_Statement_Records = n())"
   ]
  },
  {
   "cell_type": "code",
   "execution_count": 350,
   "metadata": {
    "vscode": {
     "languageId": "r"
    }
   },
   "outputs": [],
   "source": [
    "# Merge the counts with the Bank Overview data\n",
    "result <- bank_overview %>%\n",
    "  left_join(balance_count, by = \"BankCode\") %>%\n",
    "  left_join(income_count, by = \"BankCode\") %>%\n",
    "  select(BankCode, BankName, Balance_Sheet_Records, Income_Statement_Records)"
   ]
  },
  {
   "cell_type": "code",
   "execution_count": 351,
   "metadata": {
    "vscode": {
     "languageId": "r"
    }
   },
   "outputs": [],
   "source": [
    "# Replace NA with 0 for banks without records in Balance Sheet or Income Statement\n",
    "result <- result %>%\n",
    "  mutate(\n",
    "    Balance_Sheet_Records = replace_na(Balance_Sheet_Records, 0),\n",
    "    Income_Statement_Records = replace_na(Income_Statement_Records, 0)\n",
    "  )"
   ]
  },
  {
   "cell_type": "code",
   "execution_count": 352,
   "metadata": {
    "vscode": {
     "languageId": "r"
    }
   },
   "outputs": [
    {
     "name": "stdout",
     "output_type": "stream",
     "text": [
      "\u001b[90m# A tibble: 6 × 4\u001b[39m\n",
      "  BankCode BankName                Balance_Sheet_Records Income_Statement_Reco…¹\n",
      "     \u001b[3m\u001b[90m<dbl>\u001b[39m\u001b[23m \u001b[3m\u001b[90m<chr>\u001b[39m\u001b[23m                                   \u001b[3m\u001b[90m<int>\u001b[39m\u001b[23m                   \u001b[3m\u001b[90m<int>\u001b[39m\u001b[23m\n",
      "\u001b[90m1\u001b[39m   \u001b[4m1\u001b[24m\u001b[4m0\u001b[24m\u001b[4m0\u001b[24m001 安徽青阳农村商业银行股…                     7                       7\n",
      "\u001b[90m2\u001b[39m   \u001b[4m1\u001b[24m\u001b[4m0\u001b[24m\u001b[4m0\u001b[24m002 安徽桐城农村商业银行股…                    16                      16\n",
      "\u001b[90m3\u001b[39m   \u001b[4m1\u001b[24m\u001b[4m0\u001b[24m\u001b[4m0\u001b[24m003 包商银行股份有限公司                       10                      10\n",
      "\u001b[90m4\u001b[39m   \u001b[4m1\u001b[24m\u001b[4m0\u001b[24m\u001b[4m0\u001b[24m004 保定银行股份有限公司                       12                      12\n",
      "\u001b[90m5\u001b[39m   \u001b[4m1\u001b[24m\u001b[4m0\u001b[24m\u001b[4m0\u001b[24m005 北京农村商业银行股份有…                    17                      17\n",
      "\u001b[90m6\u001b[39m   \u001b[4m1\u001b[24m\u001b[4m0\u001b[24m\u001b[4m0\u001b[24m006 北京银行股份有限公司                       17                      17\n",
      "\u001b[90m# ℹ abbreviated name: ¹​Income_Statement_Records\u001b[39m\n"
     ]
    }
   ],
   "source": [
    "# Display the results\n",
    "print(head(result))"
   ]
  },
  {
   "cell_type": "code",
   "execution_count": 353,
   "metadata": {
    "vscode": {
     "languageId": "r"
    }
   },
   "outputs": [],
   "source": [
    "# Summary statistics\n",
    "summary_stats <- result %>%\n",
    "  summarise(\n",
    "    Total_Banks = n(),\n",
    "    Banks_with_Balance_Sheet = sum(Balance_Sheet_Records > 0),\n",
    "    Banks_with_Income_Statement = sum(Income_Statement_Records > 0),\n",
    "    Avg_Balance_Sheet_Records = mean(Balance_Sheet_Records),\n",
    "    Avg_Income_Statement_Records = mean(Income_Statement_Records),\n",
    "    Max_Balance_Sheet_Records = max(Balance_Sheet_Records),\n",
    "    Max_Income_Statement_Records = max(Income_Statement_Records)\n",
    "  )"
   ]
  },
  {
   "cell_type": "code",
   "execution_count": 354,
   "metadata": {
    "vscode": {
     "languageId": "r"
    }
   },
   "outputs": [
    {
     "name": "stdout",
     "output_type": "stream",
     "text": [
      "\u001b[90m# A tibble: 1 × 7\u001b[39m\n",
      "  Total_Banks Banks_with_Balance_Sheet Banks_with_Income_Statement\n",
      "        \u001b[3m\u001b[90m<int>\u001b[39m\u001b[23m                    \u001b[3m\u001b[90m<int>\u001b[39m\u001b[23m                       \u001b[3m\u001b[90m<int>\u001b[39m\u001b[23m\n",
      "\u001b[90m1\u001b[39m        \u001b[4m3\u001b[24m629                     \u001b[4m1\u001b[24m093                        \u001b[4m1\u001b[24m213\n",
      "\u001b[90m# ℹ 4 more variables: Avg_Balance_Sheet_Records <dbl>,\u001b[39m\n",
      "\u001b[90m#   Avg_Income_Statement_Records <dbl>, Max_Balance_Sheet_Records <int>,\u001b[39m\n",
      "\u001b[90m#   Max_Income_Statement_Records <int>\u001b[39m\n"
     ]
    }
   ],
   "source": [
    "print(summary_stats)"
   ]
  },
  {
   "cell_type": "code",
   "execution_count": 355,
   "metadata": {
    "vscode": {
     "languageId": "r"
    }
   },
   "outputs": [
    {
     "name": "stdout",
     "output_type": "stream",
     "text": [
      "\u001b[90m# A tibble: 1 × 4\u001b[39m\n",
      "  BankCode BankName                Balance_Sheet_Records Income_Statement_Reco…¹\n",
      "     \u001b[3m\u001b[90m<dbl>\u001b[39m\u001b[23m \u001b[3m\u001b[90m<chr>\u001b[39m\u001b[23m                                   \u001b[3m\u001b[90m<int>\u001b[39m\u001b[23m                   \u001b[3m\u001b[90m<int>\u001b[39m\u001b[23m\n",
      "\u001b[90m1\u001b[39m   \u001b[4m1\u001b[24m\u001b[4m0\u001b[24m\u001b[4m0\u001b[24m038 广东顺德农村商业银行股…                    20                      20\n",
      "\u001b[90m# ℹ abbreviated name: ¹​Income_Statement_Records\u001b[39m\n"
     ]
    }
   ],
   "source": [
    "#记录最多的银行。如下所示是 广东顺德农村商业银行。\n",
    "#从2004年开始有记录，但是，实际数据从2009年开始\n",
    "# First, get the Max_Balance_Sheet_Records value\n",
    "max_records <- summary_stats$Max_Balance_Sheet_Records\n",
    "\n",
    "# Then, filter the 'result' data frame\n",
    "max_records_rows <- result[result$Balance_Sheet_Records == max_records, ]\n",
    "\n",
    "# View the filtered results\n",
    "print(max_records_rows)"
   ]
  },
  {
   "cell_type": "code",
   "execution_count": 356,
   "metadata": {
    "vscode": {
     "languageId": "r"
    }
   },
   "outputs": [
    {
     "name": "stdout",
     "output_type": "stream",
     "text": [
      "tibble [1 × 7] (S3: tbl_df/tbl/data.frame)\n",
      " $ Total_Banks                 : int 3629\n",
      " $ Banks_with_Balance_Sheet    : int 1093\n",
      " $ Banks_with_Income_Statement : int 1213\n",
      " $ Avg_Balance_Sheet_Records   : num 2.05\n",
      " $ Avg_Income_Statement_Records: num 2.13\n",
      " $ Max_Balance_Sheet_Records   : int 20\n",
      " $ Max_Income_Statement_Records: int 20\n"
     ]
    }
   ],
   "source": [
    "str(summary_stats)"
   ]
  },
  {
   "cell_type": "code",
   "execution_count": 357,
   "metadata": {
    "vscode": {
     "languageId": "r"
    }
   },
   "outputs": [
    {
     "name": "stdout",
     "output_type": "stream",
     "text": [
      "\u001b[90m# A tibble: 6 × 28\u001b[39m\n",
      "  BankCode BankName    Date           CBID     IPD   LNOBK   HLTFA DEFIA  ACITRE\n",
      "     \u001b[3m\u001b[90m<dbl>\u001b[39m\u001b[23m \u001b[3m\u001b[90m<chr>\u001b[39m\u001b[23m       \u001b[3m\u001b[90m<date>\u001b[39m\u001b[23m        \u001b[3m\u001b[90m<dbl>\u001b[39m\u001b[23m   \u001b[3m\u001b[90m<dbl>\u001b[39m\u001b[23m   \u001b[3m\u001b[90m<dbl>\u001b[39m\u001b[23m   \u001b[3m\u001b[90m<dbl>\u001b[39m\u001b[23m \u001b[3m\u001b[90m<dbl>\u001b[39m\u001b[23m   \u001b[3m\u001b[90m<dbl>\u001b[39m\u001b[23m\n",
      "\u001b[90m1\u001b[39m   \u001b[4m1\u001b[24m\u001b[4m0\u001b[24m\u001b[4m0\u001b[24m038 广东顺德农… 2004-12-31  4.80\u001b[90me\u001b[39m 9 1.85\u001b[90me\u001b[39m10 \u001b[31mNA\u001b[39m   \u001b[90m \u001b[39m  \u001b[31mNA\u001b[39m   \u001b[90m \u001b[39m     \u001b[31mNA\u001b[39m \u001b[31mNA\u001b[39m   \u001b[90m \u001b[39m \n",
      "\u001b[90m2\u001b[39m   \u001b[4m1\u001b[24m\u001b[4m0\u001b[24m\u001b[4m0\u001b[24m038 广东顺德农… 2005-12-31  4.13\u001b[90me\u001b[39m 9 2.45\u001b[90me\u001b[39m10 \u001b[31mNA\u001b[39m   \u001b[90m \u001b[39m  \u001b[31mNA\u001b[39m   \u001b[90m \u001b[39m     \u001b[31mNA\u001b[39m \u001b[31mNA\u001b[39m   \u001b[90m \u001b[39m \n",
      "\u001b[90m3\u001b[39m   \u001b[4m1\u001b[24m\u001b[4m0\u001b[24m\u001b[4m0\u001b[24m038 广东顺德农… 2006-12-31  4.97\u001b[90me\u001b[39m 9 2.56\u001b[90me\u001b[39m10 \u001b[31mNA\u001b[39m   \u001b[90m \u001b[39m  \u001b[31mNA\u001b[39m   \u001b[90m \u001b[39m     \u001b[31mNA\u001b[39m \u001b[31mNA\u001b[39m   \u001b[90m \u001b[39m \n",
      "\u001b[90m4\u001b[39m   \u001b[4m1\u001b[24m\u001b[4m0\u001b[24m\u001b[4m0\u001b[24m038 广东顺德农… 2007-12-31  8.41\u001b[90me\u001b[39m 9 1.68\u001b[90me\u001b[39m 9 \u001b[31mNA\u001b[39m   \u001b[90m \u001b[39m  \u001b[31mNA\u001b[39m   \u001b[90m \u001b[39m     \u001b[31mNA\u001b[39m \u001b[31mNA\u001b[39m   \u001b[90m \u001b[39m \n",
      "\u001b[90m5\u001b[39m   \u001b[4m1\u001b[24m\u001b[4m0\u001b[24m\u001b[4m0\u001b[24m038 广东顺德农… 2008-12-31  9.91\u001b[90me\u001b[39m 9 4.17\u001b[90me\u001b[39m 9 \u001b[31mNA\u001b[39m   \u001b[90m \u001b[39m  \u001b[31mNA\u001b[39m   \u001b[90m \u001b[39m     \u001b[31mNA\u001b[39m \u001b[31mNA\u001b[39m   \u001b[90m \u001b[39m \n",
      "\u001b[90m6\u001b[39m   \u001b[4m1\u001b[24m\u001b[4m0\u001b[24m\u001b[4m0\u001b[24m038 广东顺德农… 2009-12-31  1.06\u001b[90me\u001b[39m10 5.64\u001b[90me\u001b[39m 9  9.27\u001b[90me\u001b[39m7  3.22\u001b[90me\u001b[39m8     0  4.59\u001b[90me\u001b[39m8\n",
      "\u001b[90m# ℹ 19 more variables: LNADV <dbl>, AFSFIA <dbl>, FXA <dbl>, TA <dbl>,\u001b[39m\n",
      "\u001b[90m#   BOFIF <dbl>, BWFCBK <dbl>, LNFOBK <dbl>, TKDEP <dbl>, TP <dbl>, INTP <dbl>,\u001b[39m\n",
      "\u001b[90m#   LB <dbl>, PIC <dbl>, APIC <dbl>, SR <dbl>, UDP <dbl>, GRKPP <dbl>,\u001b[39m\n",
      "\u001b[90m#   EAPC <dbl>, EQU <dbl>, TLE <dbl>\u001b[39m\n"
     ]
    }
   ],
   "source": [
    "# Then, filter the 'result' data frame\n",
    "max_records <- bank_balance[bank_balance$BankCode == \"100038\", ]\n",
    "\n",
    "# View the filtered results\n",
    "#print(max_records)\n",
    "# View the filtered results\n",
    "print(head(max_records))"
   ]
  },
  {
   "cell_type": "markdown",
   "metadata": {},
   "source": [
    "## 9.3-大型银行"
   ]
  },
  {
   "cell_type": "code",
   "execution_count": 358,
   "metadata": {
    "vscode": {
     "languageId": "r"
    }
   },
   "outputs": [],
   "source": [
    "# Step 1: Filter the banks based on bank type\n",
    "filtered_banks <- bank_overview %>%\n",
    "  filter(BkNtr %in% c(\"大型商业银行\", \"股份制商业银行\"))"
   ]
  },
  {
   "cell_type": "code",
   "execution_count": 359,
   "metadata": {
    "vscode": {
     "languageId": "r"
    }
   },
   "outputs": [
    {
     "name": "stdout",
     "output_type": "stream",
     "text": [
      "\u001b[90m# A tibble: 18 × 11\u001b[39m\n",
      "   BankCode BankName  EstbDate   BkNtr  RgsCapt ListOrN Province RgsAdrs BusnScp\n",
      "      \u001b[3m\u001b[90m<dbl>\u001b[39m\u001b[23m \u001b[3m\u001b[90m<chr>\u001b[39m\u001b[23m     \u001b[3m\u001b[90m<date>\u001b[39m\u001b[23m     \u001b[3m\u001b[90m<chr>\u001b[39m\u001b[23m    \u001b[3m\u001b[90m<dbl>\u001b[39m\u001b[23m \u001b[3m\u001b[90m<chr>\u001b[39m\u001b[23m   \u001b[3m\u001b[90m<chr>\u001b[39m\u001b[23m    \u001b[3m\u001b[90m<chr>\u001b[39m\u001b[23m   \u001b[3m\u001b[90m<chr>\u001b[39m\u001b[23m  \n",
      "\u001b[90m 1\u001b[39m   \u001b[4m1\u001b[24m\u001b[4m0\u001b[24m\u001b[4m0\u001b[24m008 渤海银行… 2005-12-30 股份…  1.78\u001b[90me\u001b[39m10 是      天津     天津市… 全国性…\n",
      "\u001b[90m 2\u001b[39m   \u001b[4m1\u001b[24m\u001b[4m0\u001b[24m\u001b[4m0\u001b[24m039 广发银行… 1988-07-08 股份…  2.18\u001b[90me\u001b[39m10 否      广东省   广东省… 吸收公…\n",
      "\u001b[90m 3\u001b[39m   \u001b[4m1\u001b[24m\u001b[4m0\u001b[24m\u001b[4m0\u001b[24m053 恒丰银行… 1987-11-23 股份…  1.11\u001b[90me\u001b[39m11 否      山东省   山东省… 吸收人…\n",
      "\u001b[90m 4\u001b[39m   \u001b[4m1\u001b[24m\u001b[4m0\u001b[24m\u001b[4m0\u001b[24m059 华夏银行… 1992-10-14 股份…  1.59\u001b[90me\u001b[39m10 是      北京     北京市… (一)吸…\n",
      "\u001b[90m 5\u001b[39m   \u001b[4m1\u001b[24m\u001b[4m0\u001b[24m\u001b[4m0\u001b[24m087 交通银行… 1987-03-30 大型…  7.43\u001b[90me\u001b[39m10 是      上海     上海市… (一)吸…\n",
      "\u001b[90m 6\u001b[39m   \u001b[4m1\u001b[24m\u001b[4m0\u001b[24m\u001b[4m0\u001b[24m118 平安银行… 1987-12-22 股份…  1.94\u001b[90me\u001b[39m10 是      广东省   广东省… (一)吸…\n",
      "\u001b[90m 7\u001b[39m   \u001b[4m1\u001b[24m\u001b[4m0\u001b[24m\u001b[4m0\u001b[24m134 上海浦东… 1992-10-19 股份…  2.94\u001b[90me\u001b[39m10 是      上海     上海市… (一)吸…\n",
      "\u001b[90m 8\u001b[39m   \u001b[4m1\u001b[24m\u001b[4m0\u001b[24m\u001b[4m0\u001b[24m155 兴业银行… 1988-08-22 股份…  2.08\u001b[90me\u001b[39m10 是      福建省   福建省… 吸收公…\n",
      "\u001b[90m 9\u001b[39m   \u001b[4m1\u001b[24m\u001b[4m0\u001b[24m\u001b[4m0\u001b[24m165 招商银行… 1987-03-31 股份…  2.52\u001b[90me\u001b[39m10 是      广东省   广东省… 吸收公…\n",
      "\u001b[90m10\u001b[39m   \u001b[4m1\u001b[24m\u001b[4m0\u001b[24m\u001b[4m0\u001b[24m176 浙商银行… 1993-04-16 股份…  2.75\u001b[90me\u001b[39m10 是      浙江省   浙江省… 吸收公…\n",
      "\u001b[90m11\u001b[39m   \u001b[4m1\u001b[24m\u001b[4m0\u001b[24m\u001b[4m0\u001b[24m178 中国工商… 1985-11-22 大型…  3.56\u001b[90me\u001b[39m11 是      北京     北京市… 办理人…\n",
      "\u001b[90m12\u001b[39m   \u001b[4m1\u001b[24m\u001b[4m0\u001b[24m\u001b[4m0\u001b[24m179 中国光大… 1992-06-18 股份…  5.91\u001b[90me\u001b[39m10 是      北京     北京市… 吸收公…\n",
      "\u001b[90m13\u001b[39m   \u001b[4m1\u001b[24m\u001b[4m0\u001b[24m\u001b[4m0\u001b[24m180 中国建设… 2004-09-17 大型…  2.50\u001b[90me\u001b[39m11 是      北京     北京市… 吸收公…\n",
      "\u001b[90m14\u001b[39m   \u001b[4m1\u001b[24m\u001b[4m0\u001b[24m\u001b[4m0\u001b[24m181 中国民生… 1996-02-07 股份…  4.38\u001b[90me\u001b[39m10 是      北京     北京市… 吸收公…\n",
      "\u001b[90m15\u001b[39m   \u001b[4m1\u001b[24m\u001b[4m0\u001b[24m\u001b[4m0\u001b[24m182 中国农业… 1986-12-18 大型…  3.50\u001b[90me\u001b[39m11 是      北京     北京市… 吸收公…\n",
      "\u001b[90m16\u001b[39m   \u001b[4m1\u001b[24m\u001b[4m0\u001b[24m\u001b[4m0\u001b[24m183 中国银行… 1983-10-31 大型…  2.94\u001b[90me\u001b[39m11 是      北京     北京市… 吸收人…\n",
      "\u001b[90m17\u001b[39m   \u001b[4m1\u001b[24m\u001b[4m0\u001b[24m\u001b[4m0\u001b[24m184 中国邮政… 2007-03-06 大型…  9.92\u001b[90me\u001b[39m10 是      北京     北京市… 吸收公…\n",
      "\u001b[90m18\u001b[39m   \u001b[4m1\u001b[24m\u001b[4m0\u001b[24m\u001b[4m0\u001b[24m185 中信银行… 1987-04-20 股份…  5.35\u001b[90me\u001b[39m10 是      北京     北京市… 保险兼…\n",
      "\u001b[90m# ℹ 2 more variables: LglRepst <chr>, GenMager <chr>\u001b[39m\n"
     ]
    }
   ],
   "source": [
    "print(filtered_banks)"
   ]
  },
  {
   "cell_type": "code",
   "execution_count": 360,
   "metadata": {
    "vscode": {
     "languageId": "r"
    }
   },
   "outputs": [
    {
     "name": "stdout",
     "output_type": "stream",
     "text": [
      "\u001b[90m# A tibble: 18 × 2\u001b[39m\n",
      "   BankCode BankName                    \n",
      "      \u001b[3m\u001b[90m<dbl>\u001b[39m\u001b[23m \u001b[3m\u001b[90m<chr>\u001b[39m\u001b[23m                       \n",
      "\u001b[90m 1\u001b[39m   \u001b[4m1\u001b[24m\u001b[4m0\u001b[24m\u001b[4m0\u001b[24m008 渤海银行股份有限公司        \n",
      "\u001b[90m 2\u001b[39m   \u001b[4m1\u001b[24m\u001b[4m0\u001b[24m\u001b[4m0\u001b[24m039 广发银行股份有限公司        \n",
      "\u001b[90m 3\u001b[39m   \u001b[4m1\u001b[24m\u001b[4m0\u001b[24m\u001b[4m0\u001b[24m053 恒丰银行股份有限公司        \n",
      "\u001b[90m 4\u001b[39m   \u001b[4m1\u001b[24m\u001b[4m0\u001b[24m\u001b[4m0\u001b[24m059 华夏银行股份有限公司        \n",
      "\u001b[90m 5\u001b[39m   \u001b[4m1\u001b[24m\u001b[4m0\u001b[24m\u001b[4m0\u001b[24m087 交通银行股份有限公司        \n",
      "\u001b[90m 6\u001b[39m   \u001b[4m1\u001b[24m\u001b[4m0\u001b[24m\u001b[4m0\u001b[24m118 平安银行股份有限公司        \n",
      "\u001b[90m 7\u001b[39m   \u001b[4m1\u001b[24m\u001b[4m0\u001b[24m\u001b[4m0\u001b[24m134 上海浦东发展银行股份有限公司\n",
      "\u001b[90m 8\u001b[39m   \u001b[4m1\u001b[24m\u001b[4m0\u001b[24m\u001b[4m0\u001b[24m155 兴业银行股份有限公司        \n",
      "\u001b[90m 9\u001b[39m   \u001b[4m1\u001b[24m\u001b[4m0\u001b[24m\u001b[4m0\u001b[24m165 招商银行股份有限公司        \n",
      "\u001b[90m10\u001b[39m   \u001b[4m1\u001b[24m\u001b[4m0\u001b[24m\u001b[4m0\u001b[24m176 浙商银行股份有限公司        \n",
      "\u001b[90m11\u001b[39m   \u001b[4m1\u001b[24m\u001b[4m0\u001b[24m\u001b[4m0\u001b[24m178 中国工商银行股份有限公司    \n",
      "\u001b[90m12\u001b[39m   \u001b[4m1\u001b[24m\u001b[4m0\u001b[24m\u001b[4m0\u001b[24m179 中国光大银行股份有限公司    \n",
      "\u001b[90m13\u001b[39m   \u001b[4m1\u001b[24m\u001b[4m0\u001b[24m\u001b[4m0\u001b[24m180 中国建设银行股份有限公司    \n",
      "\u001b[90m14\u001b[39m   \u001b[4m1\u001b[24m\u001b[4m0\u001b[24m\u001b[4m0\u001b[24m181 中国民生银行股份有限公司    \n",
      "\u001b[90m15\u001b[39m   \u001b[4m1\u001b[24m\u001b[4m0\u001b[24m\u001b[4m0\u001b[24m182 中国农业银行股份有限公司    \n",
      "\u001b[90m16\u001b[39m   \u001b[4m1\u001b[24m\u001b[4m0\u001b[24m\u001b[4m0\u001b[24m183 中国银行股份有限公司        \n",
      "\u001b[90m17\u001b[39m   \u001b[4m1\u001b[24m\u001b[4m0\u001b[24m\u001b[4m0\u001b[24m184 中国邮政储蓄银行股份有限公司\n",
      "\u001b[90m18\u001b[39m   \u001b[4m1\u001b[24m\u001b[4m0\u001b[24m\u001b[4m0\u001b[24m185 中信银行股份有限公司        \n"
     ]
    }
   ],
   "source": [
    "print(filtered_banks[,1:2])"
   ]
  },
  {
   "cell_type": "code",
   "execution_count": 361,
   "metadata": {
    "vscode": {
     "languageId": "r"
    }
   },
   "outputs": [],
   "source": [
    "# Step 2: Compile statistics by province\n",
    "# 在该省 有几个大银行，有几种性质的大银行\n",
    "province_stats <- filtered_banks %>%\n",
    "  group_by(Province) %>%\n",
    "  summarise(\n",
    "    Count = n(),\n",
    "    #AvgAssets = mean(TotalAssets, na.rm = TRUE),\n",
    "    #TotalAssets = sum(TotalAssets, na.rm = TRUE),\n",
    "    UniqueTypes = n_distinct(BkNtr)\n",
    "  ) %>%\n",
    "  arrange(desc(Count))"
   ]
  },
  {
   "cell_type": "code",
   "execution_count": 362,
   "metadata": {
    "vscode": {
     "languageId": "r"
    }
   },
   "outputs": [
    {
     "name": "stdout",
     "output_type": "stream",
     "text": [
      "\u001b[90m# A tibble: 7 × 3\u001b[39m\n",
      "  Province Count UniqueTypes\n",
      "  \u001b[3m\u001b[90m<chr>\u001b[39m\u001b[23m    \u001b[3m\u001b[90m<int>\u001b[39m\u001b[23m       \u001b[3m\u001b[90m<int>\u001b[39m\u001b[23m\n",
      "\u001b[90m1\u001b[39m 北京         9           2\n",
      "\u001b[90m2\u001b[39m 广东省       3           1\n",
      "\u001b[90m3\u001b[39m 上海         2           2\n",
      "\u001b[90m4\u001b[39m 天津         1           1\n",
      "\u001b[90m5\u001b[39m 山东省       1           1\n",
      "\u001b[90m6\u001b[39m 浙江省       1           1\n",
      "\u001b[90m7\u001b[39m 福建省       1           1\n"
     ]
    }
   ],
   "source": [
    "# Step 3: View the results\n",
    "print(province_stats)"
   ]
  },
  {
   "cell_type": "markdown",
   "metadata": {},
   "source": [
    "## 9.4-大型银行分支"
   ]
  },
  {
   "cell_type": "code",
   "execution_count": 363,
   "metadata": {
    "vscode": {
     "languageId": "r"
    }
   },
   "outputs": [],
   "source": [
    "# Step 1: Add Insname2 column to filtered_banks\n",
    "filtered_banks <- filtered_banks %>%\n",
    "  mutate(Insname2 = substr(BankName, 1, 6))\n",
    "\n",
    "# Step 2: Create Big_Ins_entry3\n",
    "Big_Ins_entry3 <- Ins_entry3 %>%\n",
    "  filter(Insname2 %in% filtered_banks$Insname2)\n",
    "\n",
    "# Step 3: Create Big_Ins_exit3\n",
    "Big_Ins_exit3 <- Ins_exit3 %>%\n",
    "  filter(Insname2 %in% filtered_banks$Insname2)"
   ]
  },
  {
   "cell_type": "code",
   "execution_count": 364,
   "metadata": {
    "vscode": {
     "languageId": "r"
    }
   },
   "outputs": [
    {
     "name": "stdout",
     "output_type": "stream",
     "text": [
      "[1] \"First few rows of filtered_banks:\"\n",
      "\u001b[90m# A tibble: 6 × 6\u001b[39m\n",
      "  BankCode BankName             EstbDate   LglRepst GenMager Insname2    \n",
      "     \u001b[3m\u001b[90m<dbl>\u001b[39m\u001b[23m \u001b[3m\u001b[90m<chr>\u001b[39m\u001b[23m                \u001b[3m\u001b[90m<date>\u001b[39m\u001b[23m     \u001b[3m\u001b[90m<chr>\u001b[39m\u001b[23m    \u001b[3m\u001b[90m<chr>\u001b[39m\u001b[23m    \u001b[3m\u001b[90m<chr>\u001b[39m\u001b[23m       \n",
      "\u001b[90m1\u001b[39m   \u001b[4m1\u001b[24m\u001b[4m0\u001b[24m\u001b[4m0\u001b[24m008 渤海银行股份有限公司 2005-12-30 王锦虹   付钢     渤海银行股份\n",
      "\u001b[90m2\u001b[39m   \u001b[4m1\u001b[24m\u001b[4m0\u001b[24m\u001b[4m0\u001b[24m039 广发银行股份有限公司 1988-07-08 王凯     王凯     广发银行股份\n",
      "\u001b[90m3\u001b[39m   \u001b[4m1\u001b[24m\u001b[4m0\u001b[24m\u001b[4m0\u001b[24m053 恒丰银行股份有限公司 1987-11-23 辛树人   \u001b[31mNA\u001b[39m       恒丰银行股份\n",
      "\u001b[90m4\u001b[39m   \u001b[4m1\u001b[24m\u001b[4m0\u001b[24m\u001b[4m0\u001b[24m059 华夏银行股份有限公司 1992-10-14 李民吉   瞿纲     华夏银行股份\n",
      "\u001b[90m5\u001b[39m   \u001b[4m1\u001b[24m\u001b[4m0\u001b[24m\u001b[4m0\u001b[24m087 交通银行股份有限公司 1987-03-30 任德奇   张宝江   交通银行股份\n",
      "\u001b[90m6\u001b[39m   \u001b[4m1\u001b[24m\u001b[4m0\u001b[24m\u001b[4m0\u001b[24m118 平安银行股份有限公司 1987-12-22 谢永林   冀光恒   平安银行股份\n",
      "[1] \"First few rows of Big_Ins_entry3:\"\n",
      "\u001b[90m# A tibble: 6 × 13\u001b[39m\n",
      "  Inscode  Intype Insname Insadr Inscity Issdate    Apprdate   Inscode2 Insname2\n",
      "  \u001b[3m\u001b[90m<chr>\u001b[39m\u001b[23m    \u001b[3m\u001b[90m<chr>\u001b[39m\u001b[23m  \u001b[3m\u001b[90m<chr>\u001b[39m\u001b[23m   \u001b[3m\u001b[90m<chr>\u001b[39m\u001b[23m  \u001b[3m\u001b[90m<chr>\u001b[39m\u001b[23m   \u001b[3m\u001b[90m<date>\u001b[39m\u001b[23m     \u001b[3m\u001b[90m<date>\u001b[39m\u001b[23m     \u001b[3m\u001b[90m<chr>\u001b[39m\u001b[23m    \u001b[3m\u001b[90m<chr>\u001b[39m\u001b[23m   \n",
      "\u001b[90m1\u001b[39m B0001B2… 商业…  中国工… 北京…  北京市  2022-04-14 1984-05-08 B0001    中国工… \n",
      "\u001b[90m2\u001b[39m B0001B2… 商业…  中国工… 天津…  天津市  2021-12-24 1984-11-22 B0001    中国工… \n",
      "\u001b[90m3\u001b[39m B0001B2… 商业…  中国工… 河北…  河北省… 2021-12-01 1985-02-15 B0001    中国工… \n",
      "\u001b[90m4\u001b[39m B0001B2… 商业…  中国工… 山西…  山西省… 2022-03-11 1984-01-01 B0001    中国工… \n",
      "\u001b[90m5\u001b[39m B0001B2… 商业…  中国工… 内蒙…  内蒙古… 2022-02-09 1984-10-01 B0001    中国工… \n",
      "\u001b[90m6\u001b[39m B0001B2… 商业…  中国工… 辽宁…  辽宁省… 2021-12-29 1984-01-01 B0001    中国工… \n",
      "\u001b[90m# ℹ 4 more variables: Intype2 <fct>, Intype3 <chr>, Ins_prov <chr>,\u001b[39m\n",
      "\u001b[90m#   Ins_city <chr>\u001b[39m\n",
      "[1] \"First few rows of Big_Ins_exit3:\"\n",
      "\u001b[90m# A tibble: 6 × 14\u001b[39m\n",
      "  Inscode         Intype Insname Insadr Inscity Issdate    Apprdate   Exitdt    \n",
      "  \u001b[3m\u001b[90m<chr>\u001b[39m\u001b[23m           \u001b[3m\u001b[90m<chr>\u001b[39m\u001b[23m  \u001b[3m\u001b[90m<chr>\u001b[39m\u001b[23m   \u001b[3m\u001b[90m<chr>\u001b[39m\u001b[23m  \u001b[3m\u001b[90m<chr>\u001b[39m\u001b[23m   \u001b[3m\u001b[90m<date>\u001b[39m\u001b[23m     \u001b[3m\u001b[90m<date>\u001b[39m\u001b[23m     \u001b[3m\u001b[90m<date>\u001b[39m\u001b[23m    \n",
      "\u001b[90m1\u001b[39m B0001G211000002 商业…  中国工… 北京…  北京市  2011-05-05 2008-10-17 2014-08-15\n",
      "\u001b[90m2\u001b[39m B0001G232010001 商业…  中国工… 南京…  江苏省… 2013-03-26 2002-12-18 2022-05-13\n",
      "\u001b[90m3\u001b[39m B0001G237010001 商业…  中国工… 济南…  山东省… 2011-11-30 2009-11-17 2015-10-23\n",
      "\u001b[90m4\u001b[39m B0001K231000002 商业…  中国工… 上海…  上海市  2008-09-23 2008-09-23 2014-07-04\n",
      "\u001b[90m5\u001b[39m B0001L212000009 商业…  中国工… 天津…  天津市  2007-06-08 1997-07-31 2020-01-13\n",
      "\u001b[90m6\u001b[39m B0001L312000005 商业…  中国工… 天津…  天津市  2020-04-07 1985-01-01 2020-04-07\n",
      "\u001b[90m# ℹ 6 more variables: Inscode2 <chr>, Insname2 <chr>, Intype2 <fct>,\u001b[39m\n",
      "\u001b[90m#   Intype3 <chr>, Ins_prov <chr>, Ins_city <chr>\u001b[39m\n"
     ]
    }
   ],
   "source": [
    "# Print the first few rows of each resulting dataframe to verify\n",
    "print(\"First few rows of filtered_banks:\")\n",
    "print(head(filtered_banks[c(1:3,10:12)]))\n",
    "\n",
    "print(\"First few rows of Big_Ins_entry3:\")\n",
    "print(head(Big_Ins_entry3))\n",
    "\n",
    "print(\"First few rows of Big_Ins_exit3:\")\n",
    "print(head(Big_Ins_exit3))"
   ]
  },
  {
   "cell_type": "markdown",
   "metadata": {},
   "source": [
    "### 取消-9.4.1-稳健性检验"
   ]
  },
  {
   "cell_type": "code",
   "execution_count": 365,
   "metadata": {
    "vscode": {
     "languageId": "r"
    }
   },
   "outputs": [],
   "source": [
    "# # Step 1: Create Insname3 in filtered_banks\n",
    "# filtered_banks <- filtered_banks %>%\n",
    "#   mutate(Insname3 = substr(BankName, 1, 4))\n",
    "\n",
    "# # Step 2: Create Big_Ins_entry3b\n",
    "# Big_Ins_entry3b <- Ins_entry3 %>%\n",
    "#   mutate(Insname3 = substr(Insname, 1, 4)) %>%\n",
    "#   filter(Insname3 %in% filtered_banks$Insname3)\n",
    "\n",
    "# # Step 3: Create Big_Ins_exit3b\n",
    "# Big_Ins_exit3b <- Ins_exit3 %>%\n",
    "#   mutate(Insname3 = substr(Insname, 1, 4)) %>%\n",
    "#   filter(Insname3 %in% filtered_banks$Insname3)"
   ]
  },
  {
   "cell_type": "code",
   "execution_count": 366,
   "metadata": {
    "vscode": {
     "languageId": "r"
    }
   },
   "outputs": [],
   "source": [
    "# # Compare row counts\n",
    "# print(paste(\"Big_Ins_entry3 row count:\", nrow(Big_Ins_entry3)))\n",
    "# print(paste(\"Big_Ins_entry3b row count:\", nrow(Big_Ins_entry3b)))\n",
    "# print(paste(\"Big_Ins_exit3 row count:\", nrow(Big_Ins_exit3)))\n",
    "# print(paste(\"Big_Ins_exit3b row count:\", nrow(Big_Ins_exit3b)))"
   ]
  },
  {
   "cell_type": "code",
   "execution_count": 367,
   "metadata": {
    "vscode": {
     "languageId": "r"
    }
   },
   "outputs": [],
   "source": [
    "# # Find differences\n",
    "# entry_diff_added <- anti_join(Big_Ins_entry3b, Big_Ins_entry3, by = names(Big_Ins_entry3))\n",
    "# entry_diff_removed <- anti_join(Big_Ins_entry3, Big_Ins_entry3b, by = names(Big_Ins_entry3))\n",
    "\n",
    "# exit_diff_added <- anti_join(Big_Ins_exit3b, Big_Ins_exit3, by = names(Big_Ins_exit3))\n",
    "# exit_diff_removed <- anti_join(Big_Ins_exit3, Big_Ins_exit3b, by = names(Big_Ins_exit3))"
   ]
  },
  {
   "cell_type": "code",
   "execution_count": 368,
   "metadata": {
    "vscode": {
     "languageId": "r"
    }
   },
   "outputs": [],
   "source": [
    "# # Print differences\n",
    "# print(paste(\"Rows added in Big_Ins_entry3b:\", nrow(entry_diff_added)))\n",
    "# print(paste(\"Rows removed in Big_Ins_entry3b:\", nrow(entry_diff_removed)))\n",
    "# print(paste(\"Rows added in Big_Ins_exit3b:\", nrow(exit_diff_added)))\n",
    "# print(paste(\"Rows removed in Big_Ins_exit3b:\", nrow(exit_diff_removed)))"
   ]
  },
  {
   "cell_type": "code",
   "execution_count": 369,
   "metadata": {
    "vscode": {
     "languageId": "r"
    }
   },
   "outputs": [],
   "source": [
    "# # Print some examples of differences if they exist\n",
    "# if (nrow(entry_diff_added) > 0) {\n",
    "#   print(\"Example of rows added in Big_Ins_entry3b:\")\n",
    "#   print(entry_diff_added[1:3])\n",
    "# }"
   ]
  },
  {
   "cell_type": "code",
   "execution_count": 370,
   "metadata": {
    "vscode": {
     "languageId": "r"
    }
   },
   "outputs": [],
   "source": [
    "# # Print some examples of differences if they exist\n",
    "# if (nrow(exit_diff_added) > 0) {\n",
    "#   print(\"Example of rows added in Big_Ins_exit3b:\")\n",
    "#   print(exit_diff_added[1:3])\n",
    "# }"
   ]
  },
  {
   "cell_type": "code",
   "execution_count": 371,
   "metadata": {
    "vscode": {
     "languageId": "r"
    }
   },
   "outputs": [],
   "source": [
    "# # Check for any Insname that got split when using 4 characters instead of 6\n",
    "# split_insnames <- filtered_banks %>%\n",
    "#   group_by(Insname3) %>%\n",
    "#   filter(n_distinct(Insname2) > 1) %>%\n",
    "#   ungroup()\n",
    "\n",
    "# if (nrow(split_insnames) > 0) {\n",
    "#   print(\"Insnames that got split when using 4 characters:\")\n",
    "#   print(split_insnames %>% select(BankName, Insname2, Insname3))\n",
    "# }"
   ]
  },
  {
   "cell_type": "markdown",
   "metadata": {},
   "source": [
    "## 9.5-开始计算"
   ]
  },
  {
   "cell_type": "markdown",
   "metadata": {},
   "source": [
    "### 9.5.1 大型银行的分支"
   ]
  },
  {
   "cell_type": "code",
   "execution_count": 372,
   "metadata": {
    "vscode": {
     "languageId": "r"
    }
   },
   "outputs": [],
   "source": [
    "# For Big_Ins_entry3\n",
    "Big_Ins_entry4 <- calculate_branch_counts(Big_Ins_entry3, years, exist = 1)\n",
    "\n",
    "# For Big_Ins_exit3\n",
    "Big_Ins_exit4 <- calculate_branch_counts(Big_Ins_exit3, years, exist = 0)"
   ]
  },
  {
   "cell_type": "code",
   "execution_count": 373,
   "metadata": {
    "vscode": {
     "languageId": "r"
    }
   },
   "outputs": [],
   "source": [
    "calculate_proportion <- function(all_banks, big_banks, df_name) {\n",
    "  # Group by year and sum branch_count for all provinces\n",
    "  all_sum <- all_banks %>%\n",
    "    group_by(year) %>%\n",
    "    summarise(total_branches = sum(branch_count, na.rm = TRUE))\n",
    "  \n",
    "  big_sum <- big_banks %>%\n",
    "    group_by(year) %>%\n",
    "    summarise(big_branches = sum(branch_count, na.rm = TRUE))\n",
    "  \n",
    "  # Join the two datasets and calculate proportion\n",
    "  result <- all_sum %>%\n",
    "    left_join(big_sum, by = \"year\") %>%\n",
    "    mutate(proportion = big_branches / total_branches)\n",
    "  \n",
    "  # Print results\n",
    "  cat(\"\\nProportions for\", df_name, \":\\n\")\n",
    "  print(head(result))\n",
    "  print(tail(result))\n",
    "  \n",
    "  return(result)\n",
    "}"
   ]
  },
  {
   "cell_type": "code",
   "execution_count": 374,
   "metadata": {
    "vscode": {
     "languageId": "r"
    }
   },
   "outputs": [
    {
     "name": "stdout",
     "output_type": "stream",
     "text": [
      "\n",
      "Proportions for Entry Data :\n",
      "\u001b[90m# A tibble: 6 × 4\u001b[39m\n",
      "   year total_branches big_branches proportion\n",
      "  \u001b[3m\u001b[90m<int>\u001b[39m\u001b[23m          \u001b[3m\u001b[90m<int>\u001b[39m\u001b[23m        \u001b[3m\u001b[90m<int>\u001b[39m\u001b[23m      \u001b[3m\u001b[90m<dbl>\u001b[39m\u001b[23m\n",
      "\u001b[90m1\u001b[39m  \u001b[4m1\u001b[24m984          \u001b[4m1\u001b[24m\u001b[4m5\u001b[24m209         \u001b[4m7\u001b[24m965      0.524\n",
      "\u001b[90m2\u001b[39m  \u001b[4m1\u001b[24m985          \u001b[4m2\u001b[24m\u001b[4m9\u001b[24m069        \u001b[4m1\u001b[24m\u001b[4m7\u001b[24m575      0.605\n",
      "\u001b[90m3\u001b[39m  \u001b[4m1\u001b[24m986          \u001b[4m3\u001b[24m\u001b[4m3\u001b[24m397        \u001b[4m2\u001b[24m\u001b[4m0\u001b[24m689      0.619\n",
      "\u001b[90m4\u001b[39m  \u001b[4m1\u001b[24m987          \u001b[4m4\u001b[24m\u001b[4m0\u001b[24m724        \u001b[4m2\u001b[24m\u001b[4m6\u001b[24m053      0.640\n",
      "\u001b[90m5\u001b[39m  \u001b[4m1\u001b[24m988          \u001b[4m4\u001b[24m\u001b[4m8\u001b[24m089        \u001b[4m3\u001b[24m\u001b[4m2\u001b[24m198      0.670\n",
      "\u001b[90m6\u001b[39m  \u001b[4m1\u001b[24m989          \u001b[4m5\u001b[24m\u001b[4m3\u001b[24m009        \u001b[4m3\u001b[24m\u001b[4m5\u001b[24m716      0.674\n",
      "\u001b[90m# A tibble: 6 × 4\u001b[39m\n",
      "   year total_branches big_branches proportion\n",
      "  \u001b[3m\u001b[90m<int>\u001b[39m\u001b[23m          \u001b[3m\u001b[90m<int>\u001b[39m\u001b[23m        \u001b[3m\u001b[90m<int>\u001b[39m\u001b[23m      \u001b[3m\u001b[90m<dbl>\u001b[39m\u001b[23m\n",
      "\u001b[90m1\u001b[39m  \u001b[4m2\u001b[24m019         \u001b[4m2\u001b[24m\u001b[4m6\u001b[24m\u001b[4m7\u001b[24m661       \u001b[4m1\u001b[24m\u001b[4m3\u001b[24m\u001b[4m8\u001b[24m417      0.517\n",
      "\u001b[90m2\u001b[39m  \u001b[4m2\u001b[24m020         \u001b[4m2\u001b[24m\u001b[4m7\u001b[24m\u001b[4m0\u001b[24m992       \u001b[4m1\u001b[24m\u001b[4m3\u001b[24m\u001b[4m9\u001b[24m596      0.515\n",
      "\u001b[90m3\u001b[39m  \u001b[4m2\u001b[24m021         \u001b[4m2\u001b[24m\u001b[4m7\u001b[24m\u001b[4m3\u001b[24m695       \u001b[4m1\u001b[24m\u001b[4m4\u001b[24m\u001b[4m0\u001b[24m728      0.514\n",
      "\u001b[90m4\u001b[39m  \u001b[4m2\u001b[24m022         \u001b[4m2\u001b[24m\u001b[4m7\u001b[24m\u001b[4m5\u001b[24m817       \u001b[4m1\u001b[24m\u001b[4m4\u001b[24m\u001b[4m1\u001b[24m539      0.513\n",
      "\u001b[90m5\u001b[39m  \u001b[4m2\u001b[24m023         \u001b[4m2\u001b[24m\u001b[4m7\u001b[24m\u001b[4m7\u001b[24m682       \u001b[4m1\u001b[24m\u001b[4m4\u001b[24m\u001b[4m2\u001b[24m327      0.513\n",
      "\u001b[90m6\u001b[39m  \u001b[4m2\u001b[24m024         \u001b[4m2\u001b[24m\u001b[4m7\u001b[24m\u001b[4m8\u001b[24m684       \u001b[4m1\u001b[24m\u001b[4m4\u001b[24m\u001b[4m2\u001b[24m610      0.512\n",
      "\n",
      "Proportions for Exit Data :\n",
      "\u001b[90m# A tibble: 6 × 4\u001b[39m\n",
      "   year total_branches big_branches proportion\n",
      "  \u001b[3m\u001b[90m<int>\u001b[39m\u001b[23m          \u001b[3m\u001b[90m<int>\u001b[39m\u001b[23m        \u001b[3m\u001b[90m<int>\u001b[39m\u001b[23m      \u001b[3m\u001b[90m<dbl>\u001b[39m\u001b[23m\n",
      "\u001b[90m1\u001b[39m  \u001b[4m1\u001b[24m984           \u001b[4m1\u001b[24m620          510      0.315\n",
      "\u001b[90m2\u001b[39m  \u001b[4m1\u001b[24m985           \u001b[4m3\u001b[24m121         \u001b[4m1\u001b[24m305      0.418\n",
      "\u001b[90m3\u001b[39m  \u001b[4m1\u001b[24m986           \u001b[4m3\u001b[24m796         \u001b[4m1\u001b[24m643      0.433\n",
      "\u001b[90m4\u001b[39m  \u001b[4m1\u001b[24m987           \u001b[4m5\u001b[24m077         \u001b[4m2\u001b[24m338      0.461\n",
      "\u001b[90m5\u001b[39m  \u001b[4m1\u001b[24m988           \u001b[4m6\u001b[24m196         \u001b[4m3\u001b[24m077      0.497\n",
      "\u001b[90m6\u001b[39m  \u001b[4m1\u001b[24m989           \u001b[4m7\u001b[24m094         \u001b[4m3\u001b[24m555      0.501\n",
      "\u001b[90m# A tibble: 6 × 4\u001b[39m\n",
      "   year total_branches big_branches proportion\n",
      "  \u001b[3m\u001b[90m<int>\u001b[39m\u001b[23m          \u001b[3m\u001b[90m<int>\u001b[39m\u001b[23m        \u001b[3m\u001b[90m<int>\u001b[39m\u001b[23m      \u001b[3m\u001b[90m<dbl>\u001b[39m\u001b[23m\n",
      "\u001b[90m1\u001b[39m  \u001b[4m2\u001b[24m019          \u001b[4m1\u001b[24m\u001b[4m7\u001b[24m280         \u001b[4m7\u001b[24m736      0.448\n",
      "\u001b[90m2\u001b[39m  \u001b[4m2\u001b[24m020          \u001b[4m1\u001b[24m\u001b[4m4\u001b[24m050         \u001b[4m5\u001b[24m705      0.406\n",
      "\u001b[90m3\u001b[39m  \u001b[4m2\u001b[24m021          \u001b[4m1\u001b[24m\u001b[4m0\u001b[24m393         \u001b[4m3\u001b[24m949      0.380\n",
      "\u001b[90m4\u001b[39m  \u001b[4m2\u001b[24m022           \u001b[4m7\u001b[24m627         \u001b[4m2\u001b[24m561      0.336\n",
      "\u001b[90m5\u001b[39m  \u001b[4m2\u001b[24m023           \u001b[4m4\u001b[24m907         \u001b[4m1\u001b[24m468      0.299\n",
      "\u001b[90m6\u001b[39m  \u001b[4m2\u001b[24m024           \u001b[4m1\u001b[24m755          472      0.269\n"
     ]
    }
   ],
   "source": [
    "# Calculate proportions for entry data\n",
    "entry_proportions <- calculate_proportion(Ins_entry4, Big_Ins_entry4, \"Entry Data\")\n",
    "\n",
    "# Calculate proportions for exit data\n",
    "exit_proportions <- calculate_proportion(Ins_exit4, Big_Ins_exit4, \"Exit Data\")"
   ]
  },
  {
   "cell_type": "code",
   "execution_count": 375,
   "metadata": {
    "vscode": {
     "languageId": "r"
    }
   },
   "outputs": [
    {
     "name": "stdout",
     "output_type": "stream",
     "text": [
      "[1] \"First few rows of Big_Ins_entry4:\"\n",
      "\u001b[90m# A tibble: 6 × 3\u001b[39m\n",
      "  Ins_prov  year branch_count\n",
      "  \u001b[3m\u001b[90m<chr>\u001b[39m\u001b[23m    \u001b[3m\u001b[90m<int>\u001b[39m\u001b[23m        \u001b[3m\u001b[90m<int>\u001b[39m\u001b[23m\n",
      "\u001b[90m1\u001b[39m 上海市    \u001b[4m1\u001b[24m984          389\n",
      "\u001b[90m2\u001b[39m 上海市    \u001b[4m1\u001b[24m985          390\n",
      "\u001b[90m3\u001b[39m 上海市    \u001b[4m1\u001b[24m986          392\n",
      "\u001b[90m4\u001b[39m 上海市    \u001b[4m1\u001b[24m987          435\n",
      "\u001b[90m5\u001b[39m 上海市    \u001b[4m1\u001b[24m988          536\n",
      "\u001b[90m6\u001b[39m 上海市    \u001b[4m1\u001b[24m989          607\n",
      "[1] \"First few rows of Big_Ins_exit4:\"\n",
      "\u001b[90m# A tibble: 6 × 3\u001b[39m\n",
      "  Ins_prov  year branch_count\n",
      "  \u001b[3m\u001b[90m<chr>\u001b[39m\u001b[23m    \u001b[3m\u001b[90m<int>\u001b[39m\u001b[23m        \u001b[3m\u001b[90m<int>\u001b[39m\u001b[23m\n",
      "\u001b[90m1\u001b[39m 上海市    \u001b[4m1\u001b[24m984           41\n",
      "\u001b[90m2\u001b[39m 上海市    \u001b[4m1\u001b[24m985           41\n",
      "\u001b[90m3\u001b[39m 上海市    \u001b[4m1\u001b[24m986           43\n",
      "\u001b[90m4\u001b[39m 上海市    \u001b[4m1\u001b[24m987           43\n",
      "\u001b[90m5\u001b[39m 上海市    \u001b[4m1\u001b[24m988           50\n",
      "\u001b[90m6\u001b[39m 上海市    \u001b[4m1\u001b[24m989           51\n"
     ]
    }
   ],
   "source": [
    "# Print the first few rows of each result to verify\n",
    "#如上所示 大型18家银行占了所有银行数量的大部分。50%-70%\n",
    "print(\"First few rows of Big_Ins_entry4:\")\n",
    "print(head(Big_Ins_entry4))\n",
    "\n",
    "print(\"First few rows of Big_Ins_exit4:\")\n",
    "print(head(Big_Ins_exit4))"
   ]
  },
  {
   "cell_type": "code",
   "execution_count": 376,
   "metadata": {
    "vscode": {
     "languageId": "r"
    }
   },
   "outputs": [],
   "source": [
    "# all.equal(Big_Ins_entry4,Ins_entry4)"
   ]
  },
  {
   "cell_type": "code",
   "execution_count": 381,
   "metadata": {
    "vscode": {
     "languageId": "r"
    }
   },
   "outputs": [
    {
     "name": "stdout",
     "output_type": "stream",
     "text": [
      "[1] \"Last few rows of Ins_entry4:\"\n"
     ]
    },
    {
     "name": "stdout",
     "output_type": "stream",
     "text": [
      "\u001b[90m# A tibble: 6 × 3\u001b[39m\n",
      "  Ins_prov  year branch_count\n",
      "  \u001b[3m\u001b[90m<chr>\u001b[39m\u001b[23m    \u001b[3m\u001b[90m<int>\u001b[39m\u001b[23m        \u001b[3m\u001b[90m<int>\u001b[39m\u001b[23m\n",
      "\u001b[90m1\u001b[39m 黑龙江省  \u001b[4m2\u001b[24m019         \u001b[4m7\u001b[24m703\n",
      "\u001b[90m2\u001b[39m 黑龙江省  \u001b[4m2\u001b[24m020         \u001b[4m7\u001b[24m725\n",
      "\u001b[90m3\u001b[39m 黑龙江省  \u001b[4m2\u001b[24m021         \u001b[4m7\u001b[24m746\n",
      "\u001b[90m4\u001b[39m 黑龙江省  \u001b[4m2\u001b[24m022         \u001b[4m7\u001b[24m756\n",
      "\u001b[90m5\u001b[39m 黑龙江省  \u001b[4m2\u001b[24m023         \u001b[4m7\u001b[24m765\n",
      "\u001b[90m6\u001b[39m 黑龙江省  \u001b[4m2\u001b[24m024         \u001b[4m7\u001b[24m770\n",
      "[1] \"Last few rows of Ins_exit4:\"\n",
      "\u001b[90m# A tibble: 6 × 3\u001b[39m\n",
      "  Ins_prov  year branch_count\n",
      "  \u001b[3m\u001b[90m<chr>\u001b[39m\u001b[23m    \u001b[3m\u001b[90m<int>\u001b[39m\u001b[23m        \u001b[3m\u001b[90m<int>\u001b[39m\u001b[23m\n",
      "\u001b[90m1\u001b[39m 黑龙江省  \u001b[4m2\u001b[24m019          727\n",
      "\u001b[90m2\u001b[39m 黑龙江省  \u001b[4m2\u001b[24m020          650\n",
      "\u001b[90m3\u001b[39m 黑龙江省  \u001b[4m2\u001b[24m021          522\n",
      "\u001b[90m4\u001b[39m 黑龙江省  \u001b[4m2\u001b[24m022          416\n",
      "\u001b[90m5\u001b[39m 黑龙江省  \u001b[4m2\u001b[24m023          303\n",
      "\u001b[90m6\u001b[39m 黑龙江省  \u001b[4m2\u001b[24m024          113\n"
     ]
    }
   ],
   "source": [
    "# Print the first few rows of each result to verify\n",
    "print(\"Last few rows of Ins_entry4:\")\n",
    "print(tail(Ins_entry4))\n",
    "\n",
    "print(\"Last few rows of Ins_exit4:\")\n",
    "print(tail(Ins_exit4))"
   ]
  },
  {
   "cell_type": "code",
   "execution_count": 378,
   "metadata": {
    "vscode": {
     "languageId": "r"
    }
   },
   "outputs": [
    {
     "name": "stdout",
     "output_type": "stream",
     "text": [
      "[1] \"First few rows of Big_Ins_entry4:\"\n",
      "\u001b[90m# A tibble: 6 × 3\u001b[39m\n",
      "  Ins_prov  year branch_count\n",
      "  \u001b[3m\u001b[90m<chr>\u001b[39m\u001b[23m    \u001b[3m\u001b[90m<int>\u001b[39m\u001b[23m        \u001b[3m\u001b[90m<int>\u001b[39m\u001b[23m\n",
      "\u001b[90m1\u001b[39m 黑龙江省  \u001b[4m2\u001b[24m019         \u001b[4m4\u001b[24m246\n",
      "\u001b[90m2\u001b[39m 黑龙江省  \u001b[4m2\u001b[24m020         \u001b[4m4\u001b[24m258\n",
      "\u001b[90m3\u001b[39m 黑龙江省  \u001b[4m2\u001b[24m021         \u001b[4m4\u001b[24m275\n",
      "\u001b[90m4\u001b[39m 黑龙江省  \u001b[4m2\u001b[24m022         \u001b[4m4\u001b[24m280\n",
      "\u001b[90m5\u001b[39m 黑龙江省  \u001b[4m2\u001b[24m023         \u001b[4m4\u001b[24m288\n",
      "\u001b[90m6\u001b[39m 黑龙江省  \u001b[4m2\u001b[24m024         \u001b[4m4\u001b[24m293\n",
      "[1] \"First few rows of Big_Ins_exit4:\"\n",
      "\u001b[90m# A tibble: 6 × 3\u001b[39m\n",
      "  Ins_prov  year branch_count\n",
      "  \u001b[3m\u001b[90m<chr>\u001b[39m\u001b[23m    \u001b[3m\u001b[90m<int>\u001b[39m\u001b[23m        \u001b[3m\u001b[90m<int>\u001b[39m\u001b[23m\n",
      "\u001b[90m1\u001b[39m 黑龙江省  \u001b[4m2\u001b[24m019          390\n",
      "\u001b[90m2\u001b[39m 黑龙江省  \u001b[4m2\u001b[24m020          331\n",
      "\u001b[90m3\u001b[39m 黑龙江省  \u001b[4m2\u001b[24m021          250\n",
      "\u001b[90m4\u001b[39m 黑龙江省  \u001b[4m2\u001b[24m022          195\n",
      "\u001b[90m5\u001b[39m 黑龙江省  \u001b[4m2\u001b[24m023          125\n",
      "\u001b[90m6\u001b[39m 黑龙江省  \u001b[4m2\u001b[24m024           62\n"
     ]
    }
   ],
   "source": [
    "# Print the first few rows of each result to verify\n",
    "print(\"Last few rows of Big_Ins_entry4:\")\n",
    "print(tail(Big_Ins_entry4))\n",
    "\n",
    "print(\"Last few rows of Big_Ins_exit4:\")\n",
    "print(tail(Big_Ins_exit4))"
   ]
  },
  {
   "cell_type": "code",
   "execution_count": 379,
   "metadata": {
    "vscode": {
     "languageId": "r"
    }
   },
   "outputs": [],
   "source": [
    "# print(sum(is.na(Big_Ins_entry3$Ins_prov)))\n",
    "# print(sum(is.na(Big_Ins_exit3$Ins_prov)))"
   ]
  },
  {
   "cell_type": "code",
   "execution_count": 380,
   "metadata": {
    "vscode": {
     "languageId": "r"
    }
   },
   "outputs": [],
   "source": [
    "# print(sum(is.na(Ins_entry3$Ins_prov)))\n",
    "# print(sum(is.na(Ins_exit3$Ins_prov)))"
   ]
  },
  {
   "cell_type": "markdown",
   "metadata": {},
   "source": [
    "### 9.5.2 财务报表-大型-小型"
   ]
  },
  {
   "cell_type": "code",
   "execution_count": 382,
   "metadata": {
    "vscode": {
     "languageId": "r"
    }
   },
   "outputs": [],
   "source": [
    "# Merge bank_balance and bank_income\n",
    "bank_sheet <- bank_balance %>%\n",
    "  inner_join(bank_income, by = c(\"BankCode\", \"BankName\", \"Date\"))\n",
    "\n",
    "# Create Big_bank_sheet\n",
    "Big_bank_sheet <- bank_sheet %>%\n",
    "  semi_join(filtered_banks, by = \"BankCode\")\n",
    "\n",
    "# Create Small_bank_sheet\n",
    "Small_bank_sheet <- bank_sheet %>%\n",
    "  anti_join(filtered_banks, by = \"BankCode\")"
   ]
  },
  {
   "cell_type": "code",
   "execution_count": 383,
   "metadata": {
    "vscode": {
     "languageId": "r"
    }
   },
   "outputs": [
    {
     "name": "stdout",
     "output_type": "stream",
     "text": [
      "Total rows in bank_sheet: 7418 \n",
      "Rows in Big_bank_sheet: 302 \n",
      "Rows in Small_bank_sheet: 7116 \n",
      "The split was successful. All rows are accounted for.\n"
     ]
    }
   ],
   "source": [
    "# Print summary information\n",
    "cat(\"Total rows in bank_sheet:\", nrow(bank_sheet), \"\\n\")\n",
    "cat(\"Rows in Big_bank_sheet:\", nrow(Big_bank_sheet), \"\\n\")\n",
    "cat(\"Rows in Small_bank_sheet:\", nrow(Small_bank_sheet), \"\\n\")\n",
    "\n",
    "# Check if the sum of Big_bank_sheet and Small_bank_sheet rows equals bank_sheet rows\n",
    "if(nrow(bank_sheet) == nrow(Big_bank_sheet) + nrow(Small_bank_sheet)) {\n",
    "  cat(\"The split was successful. All rows are accounted for.\\n\")\n",
    "} else {\n",
    "  cat(\"Warning: The number of rows doesn't match. Please check the data.\\n\")\n",
    "}"
   ]
  },
  {
   "cell_type": "code",
   "execution_count": 384,
   "metadata": {
    "vscode": {
     "languageId": "r"
    }
   },
   "outputs": [
    {
     "name": "stdout",
     "output_type": "stream",
     "text": [
      "\n",
      "First few rows of Big_bank_sheet:\n",
      "\u001b[90m# A tibble: 6 × 48\u001b[39m\n",
      "  BankCode BankName      Date          CBID     IPD   LNOBK  HLTFA  DEFIA ACITRE\n",
      "     \u001b[3m\u001b[90m<dbl>\u001b[39m\u001b[23m \u001b[3m\u001b[90m<chr>\u001b[39m\u001b[23m         \u001b[3m\u001b[90m<date>\u001b[39m\u001b[23m       \u001b[3m\u001b[90m<dbl>\u001b[39m\u001b[23m   \u001b[3m\u001b[90m<dbl>\u001b[39m\u001b[23m   \u001b[3m\u001b[90m<dbl>\u001b[39m\u001b[23m  \u001b[3m\u001b[90m<dbl>\u001b[39m\u001b[23m  \u001b[3m\u001b[90m<dbl>\u001b[39m\u001b[23m  \u001b[3m\u001b[90m<dbl>\u001b[39m\u001b[23m\n",
      "\u001b[90m1\u001b[39m   \u001b[4m1\u001b[24m\u001b[4m0\u001b[24m\u001b[4m0\u001b[24m008 渤海银行股份… 2007-12-31 4.94\u001b[90me\u001b[39m 9 4.10\u001b[90me\u001b[39m 8 1.3 \u001b[90me\u001b[39m 8 1.97\u001b[90me\u001b[39m8 2.62\u001b[90me\u001b[39m6 6.04\u001b[90me\u001b[39m7\n",
      "\u001b[90m2\u001b[39m   \u001b[4m1\u001b[24m\u001b[4m0\u001b[24m\u001b[4m0\u001b[24m008 渤海银行股份… 2008-12-31 1.24\u001b[90me\u001b[39m10 2.44\u001b[90me\u001b[39m 9 2.5 \u001b[90me\u001b[39m 8 1.42\u001b[90me\u001b[39m9 4.01\u001b[90me\u001b[39m7 1.50\u001b[90me\u001b[39m8\n",
      "\u001b[90m3\u001b[39m   \u001b[4m1\u001b[24m\u001b[4m0\u001b[24m\u001b[4m0\u001b[24m008 渤海银行股份… 2009-12-31 2.55\u001b[90me\u001b[39m10 2.83\u001b[90me\u001b[39m 8 2   \u001b[90me\u001b[39m 8 2.98\u001b[90me\u001b[39m8 3.24\u001b[90me\u001b[39m7 3.51\u001b[90me\u001b[39m8\n",
      "\u001b[90m4\u001b[39m   \u001b[4m1\u001b[24m\u001b[4m0\u001b[24m\u001b[4m0\u001b[24m008 渤海银行股份… 2010-12-31 3.05\u001b[90me\u001b[39m10 1.32\u001b[90me\u001b[39m 9 6.55\u001b[90me\u001b[39m 9 2.03\u001b[90me\u001b[39m8 5.71\u001b[90me\u001b[39m7 1.16\u001b[90me\u001b[39m9\n",
      "\u001b[90m5\u001b[39m   \u001b[4m1\u001b[24m\u001b[4m0\u001b[24m\u001b[4m0\u001b[24m008 渤海银行股份… 2011-12-31 3.73\u001b[90me\u001b[39m10 6.65\u001b[90me\u001b[39m 9 2.07\u001b[90me\u001b[39m10 4.15\u001b[90me\u001b[39m8 2.67\u001b[90me\u001b[39m7 1.67\u001b[90me\u001b[39m9\n",
      "\u001b[90m6\u001b[39m   \u001b[4m1\u001b[24m\u001b[4m0\u001b[24m\u001b[4m0\u001b[24m008 渤海银行股份… 2012-12-31 5.12\u001b[90me\u001b[39m10 1.49\u001b[90me\u001b[39m10 9.44\u001b[90me\u001b[39m 9 2.99\u001b[90me\u001b[39m9 8.03\u001b[90me\u001b[39m7 2.85\u001b[90me\u001b[39m9\n",
      "\u001b[90m# ℹ 39 more variables: LNADV <dbl>, AFSFIA <dbl>, FXA <dbl>, TA <dbl>,\u001b[39m\n",
      "\u001b[90m#   BOFIF <dbl>, BWFCBK <dbl>, LNFOBK <dbl>, TKDEP <dbl>, TP <dbl>, INTP <dbl>,\u001b[39m\n",
      "\u001b[90m#   LB <dbl>, PIC <dbl>, APIC <dbl>, SR <dbl>, UDP <dbl>, GRKPP <dbl>,\u001b[39m\n",
      "\u001b[90m#   EAPC <dbl>, EQU <dbl>, TLE <dbl>, REV <dbl>, NITIC <dbl>, ITIC <dbl>,\u001b[39m\n",
      "\u001b[90m#   ITEXC <dbl>, NIFFC <dbl>, FCIC <dbl>, SCCF <dbl>, RVEXP <dbl>, TAC <dbl>,\u001b[39m\n",
      "\u001b[90m#   GAEXP <dbl>, OI <dbl>, NOINC <dbl>, NOEXP <dbl>, IBT <dbl>, TAX <dbl>,\u001b[39m\n",
      "\u001b[90m#   NI <dbl>, NIAPC <dbl>, MRITIC <dbl>, BEPS <dbl>, DLEPS <dbl>\u001b[39m\n",
      "\n",
      "First few rows of Small_bank_sheet:\n",
      "\u001b[90m# A tibble: 6 × 48\u001b[39m\n",
      "  BankCode BankName    Date         CBID    IPD LNOBK  HLTFA DEFIA ACITRE  LNADV\n",
      "     \u001b[3m\u001b[90m<dbl>\u001b[39m\u001b[23m \u001b[3m\u001b[90m<chr>\u001b[39m\u001b[23m       \u001b[3m\u001b[90m<date>\u001b[39m\u001b[23m      \u001b[3m\u001b[90m<dbl>\u001b[39m\u001b[23m  \u001b[3m\u001b[90m<dbl>\u001b[39m\u001b[23m \u001b[3m\u001b[90m<dbl>\u001b[39m\u001b[23m  \u001b[3m\u001b[90m<dbl>\u001b[39m\u001b[23m \u001b[3m\u001b[90m<dbl>\u001b[39m\u001b[23m  \u001b[3m\u001b[90m<dbl>\u001b[39m\u001b[23m  \u001b[3m\u001b[90m<dbl>\u001b[39m\u001b[23m\n",
      "\u001b[90m1\u001b[39m   \u001b[4m1\u001b[24m\u001b[4m0\u001b[24m\u001b[4m0\u001b[24m001 安徽青阳农… 2011-12-31 4.33\u001b[90me\u001b[39m8 4.09\u001b[90me\u001b[39m8     0 0   \u001b[90m \u001b[39m      0 1.56\u001b[90me\u001b[39m6 1.69\u001b[90me\u001b[39m9\n",
      "\u001b[90m2\u001b[39m   \u001b[4m1\u001b[24m\u001b[4m0\u001b[24m\u001b[4m0\u001b[24m001 安徽青阳农… 2012-12-31 5.37\u001b[90me\u001b[39m8 6.54\u001b[90me\u001b[39m8     0 0   \u001b[90m \u001b[39m      0 2.41\u001b[90me\u001b[39m6 2.14\u001b[90me\u001b[39m9\n",
      "\u001b[90m3\u001b[39m   \u001b[4m1\u001b[24m\u001b[4m0\u001b[24m\u001b[4m0\u001b[24m001 安徽青阳农… 2013-12-31 7.72\u001b[90me\u001b[39m8 1.02\u001b[90me\u001b[39m9     0 0   \u001b[90m \u001b[39m      0 2.84\u001b[90me\u001b[39m6 2.60\u001b[90me\u001b[39m9\n",
      "\u001b[90m4\u001b[39m   \u001b[4m1\u001b[24m\u001b[4m0\u001b[24m\u001b[4m0\u001b[24m001 安徽青阳农… 2014-12-31 7.59\u001b[90me\u001b[39m8 1.31\u001b[90me\u001b[39m9     0 0   \u001b[90m \u001b[39m      0 3.97\u001b[90me\u001b[39m6 3.20\u001b[90me\u001b[39m9\n",
      "\u001b[90m5\u001b[39m   \u001b[4m1\u001b[24m\u001b[4m0\u001b[24m\u001b[4m0\u001b[24m001 安徽青阳农… 2015-12-31 6.70\u001b[90me\u001b[39m8 4.88\u001b[90me\u001b[39m8     0 9.57\u001b[90me\u001b[39m8     0 1.63\u001b[90me\u001b[39m7 3.60\u001b[90me\u001b[39m9\n",
      "\u001b[90m6\u001b[39m   \u001b[4m1\u001b[24m\u001b[4m0\u001b[24m\u001b[4m0\u001b[24m001 安徽青阳农… 2016-12-31 7.21\u001b[90me\u001b[39m8 9.33\u001b[90me\u001b[39m8    \u001b[31mNA\u001b[39m 6.83\u001b[90me\u001b[39m8    \u001b[31mNA\u001b[39m 2.43\u001b[90me\u001b[39m7 3.96\u001b[90me\u001b[39m9\n",
      "\u001b[90m# ℹ 38 more variables: AFSFIA <dbl>, FXA <dbl>, TA <dbl>, BOFIF <dbl>,\u001b[39m\n",
      "\u001b[90m#   BWFCBK <dbl>, LNFOBK <dbl>, TKDEP <dbl>, TP <dbl>, INTP <dbl>, LB <dbl>,\u001b[39m\n",
      "\u001b[90m#   PIC <dbl>, APIC <dbl>, SR <dbl>, UDP <dbl>, GRKPP <dbl>, EAPC <dbl>,\u001b[39m\n",
      "\u001b[90m#   EQU <dbl>, TLE <dbl>, REV <dbl>, NITIC <dbl>, ITIC <dbl>, ITEXC <dbl>,\u001b[39m\n",
      "\u001b[90m#   NIFFC <dbl>, FCIC <dbl>, SCCF <dbl>, RVEXP <dbl>, TAC <dbl>, GAEXP <dbl>,\u001b[39m\n",
      "\u001b[90m#   OI <dbl>, NOINC <dbl>, NOEXP <dbl>, IBT <dbl>, TAX <dbl>, NI <dbl>,\u001b[39m\n",
      "\u001b[90m#   NIAPC <dbl>, MRITIC <dbl>, BEPS <dbl>, DLEPS <dbl>\u001b[39m\n"
     ]
    }
   ],
   "source": [
    "# Display the first few rows of each dataframe\n",
    "cat(\"\\nFirst few rows of Big_bank_sheet:\\n\")\n",
    "print(head(Big_bank_sheet))\n",
    "\n",
    "cat(\"\\nFirst few rows of Small_bank_sheet:\\n\")\n",
    "print(head(Small_bank_sheet))"
   ]
  }
 ],
 "metadata": {
  "kernelspec": {
   "display_name": "R",
   "language": "R",
   "name": "ir"
  },
  "language_info": {
   "codemirror_mode": "r",
   "file_extension": ".r",
   "mimetype": "text/x-r-source",
   "name": "R",
   "pygments_lexer": "r",
   "version": "4.2.3"
  }
 },
 "nbformat": 4,
 "nbformat_minor": 2
}
