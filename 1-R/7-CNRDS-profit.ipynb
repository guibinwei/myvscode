{
 "cells": [
  {
   "cell_type": "markdown",
   "metadata": {},
   "source": [
    "# 0-载入包"
   ]
  },
  {
   "cell_type": "code",
   "execution_count": 3,
   "metadata": {
    "vscode": {
     "languageId": "r"
    }
   },
   "outputs": [],
   "source": [
    "#注意添加注释\n",
    "#2024-10-14：#这个是各个银行的效率比率。之前（7-CNRDS.ipynb）是 各个银行的分支机构。\n",
    "#代码和分支机构相同，从分支机构直接复制 修改\n",
    "#2024-10-09：从此程序开始，对每一个程序，设立两个文档：比如7-CNRDS.ipynb是实际操作记录。7-CNRDS-exe.ipynb最后执行文档"
   ]
  },
  {
   "cell_type": "code",
   "execution_count": 4,
   "metadata": {
    "vscode": {
     "languageId": "r"
    }
   },
   "outputs": [],
   "source": [
    "library(tidyverse)\n",
    "library(data.table)\n",
    "library(readxl)"
   ]
  },
  {
   "cell_type": "code",
   "execution_count": 5,
   "metadata": {
    "vscode": {
     "languageId": "r"
    }
   },
   "outputs": [],
   "source": [
    "#library(microbenchmark)"
   ]
  },
  {
   "cell_type": "markdown",
   "metadata": {},
   "source": [
    "# 8-分支机构数据"
   ]
  },
  {
   "cell_type": "markdown",
   "metadata": {},
   "source": [
    "## 8.1-读入.csv文件"
   ]
  },
  {
   "cell_type": "code",
   "execution_count": 6,
   "metadata": {
    "vscode": {
     "languageId": "r"
    }
   },
   "outputs": [],
   "source": [
    "# Create a son function to read a single CSV file\n",
    "# .csv文件的第一行是变量名称，第二行是变量说明，第三行开始才是正式的数据\n",
    "read_csv_file0 <- function(file_name) {\n",
    "  # Read the header separately\n",
    "  header <- read_csv(file_name, n_max = 1, col_names = FALSE)\n",
    "  \n",
    "  # Read the data, skipping the first two rows\n",
    "  df <- read_csv(file_name, \n",
    "                 col_names = FALSE,\n",
    "                 skip = 2)\n",
    "  \n",
    "  # Set the column names from the header\n",
    "  colnames(df) <- as.character(header[1,])\n",
    "  \n",
    "  return(df)\n",
    "}"
   ]
  },
  {
   "cell_type": "code",
   "execution_count": 7,
   "metadata": {
    "vscode": {
     "languageId": "r"
    }
   },
   "outputs": [],
   "source": [
    "# Set the base path and file details\n",
    "#银行资产负债表 银行利润表\n",
    "#国泰安 文件名格式：D:/IDMhs/收益预测-月个股回报率文件-2024-09-23/SRFR_Amnthlyr.csv\n",
    "#CEIC文件名格式： D:/jianguo/myR/pop-人口数-CEIC-2023-04-21.csv\n",
    "#CNRDS文件名格式：D:/IDMhs/CNRDS-银行资产负债表-2024-10-12/银行资产负债表.csv\n",
    "#D:/IDMhs/CNRDS-银行利润表-2024-10-12/银行利润表.csv\n",
    "#D:/IDMhs/CNRDS-银行概况-2024-10-12/银行概况.csv\n",
    "\n",
    "#Bank Balance Sheet, Bank Income Statement\n",
    "dir_base=\"D:/IDMhs\"  #基本文件夹  #下面使用 file.path 函数，所以不用在文件夹之间添加斜杠 \"/\" \n",
    "dir_prefix= \"CNRDS\"  #子文件夹中的前缀 主干 后缀 \n",
    "dir_suffix=\"2024-10-12\"    #suffix-后缀。prefix-前缀\n",
    "file_root <- c(\"银行概况\", \"银行资产负债表\", \"银行利润表\")"
   ]
  },
  {
   "cell_type": "code",
   "execution_count": 8,
   "metadata": {
    "vscode": {
     "languageId": "r"
    }
   },
   "outputs": [],
   "source": [
    "#基本文件夹 + 子文件夹 + 文件名 \n",
    "file_name <- file.path(dir_base, \n",
    "                       paste0(dir_prefix, \"-\", file_root, \"-\", dir_suffix), \n",
    "                       paste0(file_root, \".csv\"))"
   ]
  },
  {
   "cell_type": "code",
   "execution_count": 9,
   "metadata": {
    "vscode": {
     "languageId": "r"
    }
   },
   "outputs": [
    {
     "name": "stdout",
     "output_type": "stream",
     "text": [
      "[1] \"D:/IDMhs/CNRDS-银行概况-2024-10-12/银行概况.csv\"            \n",
      "[2] \"D:/IDMhs/CNRDS-银行资产负债表-2024-10-12/银行资产负债表.csv\"\n",
      "[3] \"D:/IDMhs/CNRDS-银行利润表-2024-10-12/银行利润表.csv\"        \n"
     ]
    }
   ],
   "source": [
    "print(file_name)"
   ]
  },
  {
   "cell_type": "code",
   "execution_count": 10,
   "metadata": {
    "vscode": {
     "languageId": "r"
    }
   },
   "outputs": [
    {
     "name": "stderr",
     "output_type": "stream",
     "text": [
      "\u001b[1mRows: \u001b[22m\u001b[34m1\u001b[39m \u001b[1mColumns: \u001b[22m\u001b[34m11\u001b[39m\n",
      "\u001b[36m──\u001b[39m \u001b[1mColumn specification\u001b[22m \u001b[36m────────────────────────────────────────────────────────\u001b[39m\n",
      "\u001b[1mDelimiter:\u001b[22m \",\"\n",
      "\u001b[31mchr\u001b[39m (11): X1, X2, X3, X4, X5, X6, X7, X8, X9, X10, X11\n",
      "\n",
      "\u001b[36mℹ\u001b[39m Use `spec()` to retrieve the full column specification for this data.\n",
      "\u001b[36mℹ\u001b[39m Specify the column types or set `show_col_types = FALSE` to quiet this message.\n",
      "\u001b[1mRows: \u001b[22m\u001b[34m3629\u001b[39m \u001b[1mColumns: \u001b[22m\u001b[34m11\u001b[39m\n",
      "\u001b[36m──\u001b[39m \u001b[1mColumn specification\u001b[22m \u001b[36m────────────────────────────────────────────────────────\u001b[39m\n",
      "\u001b[1mDelimiter:\u001b[22m \",\"\n",
      "\u001b[31mchr\u001b[39m  (8): X2, X4, X6, X7, X8, X9, X10, X11\n",
      "\u001b[32mdbl\u001b[39m  (2): X1, X5\n",
      "\u001b[34mdate\u001b[39m (1): X3\n",
      "\n",
      "\u001b[36mℹ\u001b[39m Use `spec()` to retrieve the full column specification for this data.\n",
      "\u001b[36mℹ\u001b[39m Specify the column types or set `show_col_types = FALSE` to quiet this message.\n",
      "\u001b[1mRows: \u001b[22m\u001b[34m1\u001b[39m \u001b[1mColumns: \u001b[22m\u001b[34m28\u001b[39m\n",
      "\u001b[36m──\u001b[39m \u001b[1mColumn specification\u001b[22m \u001b[36m────────────────────────────────────────────────────────\u001b[39m\n",
      "\u001b[1mDelimiter:\u001b[22m \",\"\n",
      "\u001b[31mchr\u001b[39m (28): X1, X2, X3, X4, X5, X6, X7, X8, X9, X10, X11, X12, X13, X14, X15, ...\n",
      "\n",
      "\u001b[36mℹ\u001b[39m Use `spec()` to retrieve the full column specification for this data.\n",
      "\u001b[36mℹ\u001b[39m Specify the column types or set `show_col_types = FALSE` to quiet this message.\n",
      "\u001b[1mRows: \u001b[22m\u001b[34m7455\u001b[39m \u001b[1mColumns: \u001b[22m\u001b[34m28\u001b[39m\n",
      "\u001b[36m──\u001b[39m \u001b[1mColumn specification\u001b[22m \u001b[36m────────────────────────────────────────────────────────\u001b[39m\n",
      "\u001b[1mDelimiter:\u001b[22m \",\"\n",
      "\u001b[31mchr\u001b[39m   (1): X2\n",
      "\u001b[32mdbl\u001b[39m  (26): X1, X4, X5, X6, X7, X8, X9, X10, X11, X12, X13, X14, X15, X16, X1...\n",
      "\u001b[34mdate\u001b[39m  (1): X3\n",
      "\n",
      "\u001b[36mℹ\u001b[39m Use `spec()` to retrieve the full column specification for this data.\n",
      "\u001b[36mℹ\u001b[39m Specify the column types or set `show_col_types = FALSE` to quiet this message.\n",
      "\u001b[1mRows: \u001b[22m\u001b[34m1\u001b[39m \u001b[1mColumns: \u001b[22m\u001b[34m23\u001b[39m\n",
      "\u001b[36m──\u001b[39m \u001b[1mColumn specification\u001b[22m \u001b[36m────────────────────────────────────────────────────────\u001b[39m\n",
      "\u001b[1mDelimiter:\u001b[22m \",\"\n",
      "\u001b[31mchr\u001b[39m (23): X1, X2, X3, X4, X5, X6, X7, X8, X9, X10, X11, X12, X13, X14, X15, ...\n",
      "\n",
      "\u001b[36mℹ\u001b[39m Use `spec()` to retrieve the full column specification for this data.\n",
      "\u001b[36mℹ\u001b[39m Specify the column types or set `show_col_types = FALSE` to quiet this message.\n",
      "\u001b[1mRows: \u001b[22m\u001b[34m7727\u001b[39m \u001b[1mColumns: \u001b[22m\u001b[34m23\u001b[39m\n",
      "\u001b[36m──\u001b[39m \u001b[1mColumn specification\u001b[22m \u001b[36m────────────────────────────────────────────────────────\u001b[39m\n",
      "\u001b[1mDelimiter:\u001b[22m \",\"\n",
      "\u001b[31mchr\u001b[39m   (1): X2\n",
      "\u001b[32mdbl\u001b[39m  (21): X1, X4, X5, X6, X7, X8, X9, X10, X11, X12, X13, X14, X15, X16, X1...\n",
      "\u001b[34mdate\u001b[39m  (1): X3\n",
      "\n",
      "\u001b[36mℹ\u001b[39m Use `spec()` to retrieve the full column specification for this data.\n",
      "\u001b[36mℹ\u001b[39m Specify the column types or set `show_col_types = FALSE` to quiet this message.\n"
     ]
    }
   ],
   "source": [
    "# Read the CSV files\n",
    "# 此处读入代码 比较 简单。不像 最初 在 4-finstr中，claude将其读入列表之中，进行各种错误审查\n",
    "\n",
    "df_names <- c(\"bank_overview\", \"bank_balance\", \"bank_income\")\n",
    "for (i in 1:length(file_name)) {\n",
    "  assign(df_names[i], read_csv_file0(file_name[i]) ) \n",
    "}"
   ]
  },
  {
   "cell_type": "code",
   "execution_count": 11,
   "metadata": {
    "vscode": {
     "languageId": "r"
    }
   },
   "outputs": [],
   "source": [
    "# Count records for each Bank Code in Balance Sheet and Income Statement\n",
    "balance_count <- bank_balance %>%\n",
    "  group_by(BankCode) %>%\n",
    "  summarise(Balance_Sheet_Records = n())\n",
    "\n",
    "income_count <- bank_income %>%\n",
    "  group_by(BankCode) %>%\n",
    "  summarise(Income_Statement_Records = n())"
   ]
  },
  {
   "cell_type": "code",
   "execution_count": 12,
   "metadata": {
    "vscode": {
     "languageId": "r"
    }
   },
   "outputs": [],
   "source": [
    "# Merge the counts with the Bank Overview data\n",
    "result <- bank_overview %>%\n",
    "  left_join(balance_count, by = \"BankCode\") %>%\n",
    "  left_join(income_count, by = \"BankCode\") %>%\n",
    "  select(BankCode, BankName, Balance_Sheet_Records, Income_Statement_Records)"
   ]
  },
  {
   "cell_type": "code",
   "execution_count": 13,
   "metadata": {
    "vscode": {
     "languageId": "r"
    }
   },
   "outputs": [],
   "source": [
    "# Replace NA with 0 for banks without records in Balance Sheet or Income Statement\n",
    "result <- result %>%\n",
    "  mutate(\n",
    "    Balance_Sheet_Records = replace_na(Balance_Sheet_Records, 0),\n",
    "    Income_Statement_Records = replace_na(Income_Statement_Records, 0)\n",
    "  )"
   ]
  },
  {
   "cell_type": "code",
   "execution_count": 14,
   "metadata": {
    "vscode": {
     "languageId": "r"
    }
   },
   "outputs": [
    {
     "name": "stdout",
     "output_type": "stream",
     "text": [
      "\u001b[90m# A tibble: 6 × 4\u001b[39m\n",
      "  BankCode BankName                Balance_Sheet_Records Income_Statement_Reco…¹\n",
      "     \u001b[3m\u001b[90m<dbl>\u001b[39m\u001b[23m \u001b[3m\u001b[90m<chr>\u001b[39m\u001b[23m                                   \u001b[3m\u001b[90m<int>\u001b[39m\u001b[23m                   \u001b[3m\u001b[90m<int>\u001b[39m\u001b[23m\n",
      "\u001b[90m1\u001b[39m   \u001b[4m1\u001b[24m\u001b[4m0\u001b[24m\u001b[4m0\u001b[24m001 安徽青阳农村商业银行股…                     7                       7\n",
      "\u001b[90m2\u001b[39m   \u001b[4m1\u001b[24m\u001b[4m0\u001b[24m\u001b[4m0\u001b[24m002 安徽桐城农村商业银行股…                    16                      16\n",
      "\u001b[90m3\u001b[39m   \u001b[4m1\u001b[24m\u001b[4m0\u001b[24m\u001b[4m0\u001b[24m003 包商银行股份有限公司                       10                      10\n",
      "\u001b[90m4\u001b[39m   \u001b[4m1\u001b[24m\u001b[4m0\u001b[24m\u001b[4m0\u001b[24m004 保定银行股份有限公司                       12                      12\n",
      "\u001b[90m5\u001b[39m   \u001b[4m1\u001b[24m\u001b[4m0\u001b[24m\u001b[4m0\u001b[24m005 北京农村商业银行股份有…                    17                      17\n",
      "\u001b[90m6\u001b[39m   \u001b[4m1\u001b[24m\u001b[4m0\u001b[24m\u001b[4m0\u001b[24m006 北京银行股份有限公司                       17                      17\n",
      "\u001b[90m# ℹ abbreviated name: ¹​Income_Statement_Records\u001b[39m\n"
     ]
    }
   ],
   "source": [
    "# Display the results\n",
    "print(head(result))"
   ]
  },
  {
   "cell_type": "code",
   "execution_count": 15,
   "metadata": {
    "vscode": {
     "languageId": "r"
    }
   },
   "outputs": [],
   "source": [
    "# Summary statistics\n",
    "summary_stats <- result %>%\n",
    "  summarise(\n",
    "    Total_Banks = n(),\n",
    "    Banks_with_Balance_Sheet = sum(Balance_Sheet_Records > 0),\n",
    "    Banks_with_Income_Statement = sum(Income_Statement_Records > 0),\n",
    "    Avg_Balance_Sheet_Records = mean(Balance_Sheet_Records),\n",
    "    Avg_Income_Statement_Records = mean(Income_Statement_Records),\n",
    "    Max_Balance_Sheet_Records = max(Balance_Sheet_Records),\n",
    "    Max_Income_Statement_Records = max(Income_Statement_Records)\n",
    "  )"
   ]
  },
  {
   "cell_type": "code",
   "execution_count": 18,
   "metadata": {
    "vscode": {
     "languageId": "r"
    }
   },
   "outputs": [
    {
     "name": "stdout",
     "output_type": "stream",
     "text": [
      "\u001b[90m# A tibble: 1 × 7\u001b[39m\n",
      "  Total_Banks Banks_with_Balance_Sheet Banks_with_Income_Statement\n",
      "        \u001b[3m\u001b[90m<int>\u001b[39m\u001b[23m                    \u001b[3m\u001b[90m<int>\u001b[39m\u001b[23m                       \u001b[3m\u001b[90m<int>\u001b[39m\u001b[23m\n",
      "\u001b[90m1\u001b[39m        \u001b[4m3\u001b[24m629                     \u001b[4m1\u001b[24m093                        \u001b[4m1\u001b[24m213\n",
      "\u001b[90m# ℹ 4 more variables: Avg_Balance_Sheet_Records <dbl>,\u001b[39m\n",
      "\u001b[90m#   Avg_Income_Statement_Records <dbl>, Max_Balance_Sheet_Records <int>,\u001b[39m\n",
      "\u001b[90m#   Max_Income_Statement_Records <int>\u001b[39m\n"
     ]
    }
   ],
   "source": [
    "print(summary_stats)"
   ]
  },
  {
   "cell_type": "code",
   "execution_count": 22,
   "metadata": {
    "vscode": {
     "languageId": "r"
    }
   },
   "outputs": [
    {
     "name": "stdout",
     "output_type": "stream",
     "text": [
      "\u001b[90m# A tibble: 1 × 4\u001b[39m\n",
      "  BankCode BankName                Balance_Sheet_Records Income_Statement_Reco…¹\n",
      "     \u001b[3m\u001b[90m<dbl>\u001b[39m\u001b[23m \u001b[3m\u001b[90m<chr>\u001b[39m\u001b[23m                                   \u001b[3m\u001b[90m<int>\u001b[39m\u001b[23m                   \u001b[3m\u001b[90m<int>\u001b[39m\u001b[23m\n",
      "\u001b[90m1\u001b[39m   \u001b[4m1\u001b[24m\u001b[4m0\u001b[24m\u001b[4m0\u001b[24m038 广东顺德农村商业银行股…                    20                      20\n",
      "\u001b[90m# ℹ abbreviated name: ¹​Income_Statement_Records\u001b[39m\n"
     ]
    }
   ],
   "source": [
    "#记录最多的银行。如下所示是 广东顺德农村商业银行。\n",
    "#从2004年开始有记录，但是，实际数据从2009年开始\n",
    "# First, get the Max_Balance_Sheet_Records value\n",
    "max_records <- summary_stats$Max_Balance_Sheet_Records\n",
    "\n",
    "# Then, filter the 'result' data frame\n",
    "max_records_rows <- result[result$Balance_Sheet_Records == max_records, ]\n",
    "\n",
    "# View the filtered results\n",
    "print(max_records_rows)"
   ]
  },
  {
   "cell_type": "code",
   "execution_count": 17,
   "metadata": {
    "vscode": {
     "languageId": "r"
    }
   },
   "outputs": [
    {
     "name": "stdout",
     "output_type": "stream",
     "text": [
      "tibble [1 × 7] (S3: tbl_df/tbl/data.frame)\n",
      " $ Total_Banks                 : int 3629\n",
      " $ Banks_with_Balance_Sheet    : int 1093\n",
      " $ Banks_with_Income_Statement : int 1213\n",
      " $ Avg_Balance_Sheet_Records   : num 2.05\n",
      " $ Avg_Income_Statement_Records: num 2.13\n",
      " $ Max_Balance_Sheet_Records   : int 20\n",
      " $ Max_Income_Statement_Records: int 20\n"
     ]
    }
   ],
   "source": [
    "str(summary_stats)"
   ]
  },
  {
   "cell_type": "code",
   "execution_count": 24,
   "metadata": {
    "vscode": {
     "languageId": "r"
    }
   },
   "outputs": [
    {
     "name": "stdout",
     "output_type": "stream",
     "text": [
      "\u001b[90m# A tibble: 6 × 28\u001b[39m\n",
      "  BankCode BankName    Date           CBID     IPD   LNOBK   HLTFA DEFIA  ACITRE\n",
      "     \u001b[3m\u001b[90m<dbl>\u001b[39m\u001b[23m \u001b[3m\u001b[90m<chr>\u001b[39m\u001b[23m       \u001b[3m\u001b[90m<date>\u001b[39m\u001b[23m        \u001b[3m\u001b[90m<dbl>\u001b[39m\u001b[23m   \u001b[3m\u001b[90m<dbl>\u001b[39m\u001b[23m   \u001b[3m\u001b[90m<dbl>\u001b[39m\u001b[23m   \u001b[3m\u001b[90m<dbl>\u001b[39m\u001b[23m \u001b[3m\u001b[90m<dbl>\u001b[39m\u001b[23m   \u001b[3m\u001b[90m<dbl>\u001b[39m\u001b[23m\n",
      "\u001b[90m1\u001b[39m   \u001b[4m1\u001b[24m\u001b[4m0\u001b[24m\u001b[4m0\u001b[24m038 广东顺德农… 2004-12-31  4.80\u001b[90me\u001b[39m 9 1.85\u001b[90me\u001b[39m10 \u001b[31mNA\u001b[39m   \u001b[90m \u001b[39m  \u001b[31mNA\u001b[39m   \u001b[90m \u001b[39m     \u001b[31mNA\u001b[39m \u001b[31mNA\u001b[39m   \u001b[90m \u001b[39m \n",
      "\u001b[90m2\u001b[39m   \u001b[4m1\u001b[24m\u001b[4m0\u001b[24m\u001b[4m0\u001b[24m038 广东顺德农… 2005-12-31  4.13\u001b[90me\u001b[39m 9 2.45\u001b[90me\u001b[39m10 \u001b[31mNA\u001b[39m   \u001b[90m \u001b[39m  \u001b[31mNA\u001b[39m   \u001b[90m \u001b[39m     \u001b[31mNA\u001b[39m \u001b[31mNA\u001b[39m   \u001b[90m \u001b[39m \n",
      "\u001b[90m3\u001b[39m   \u001b[4m1\u001b[24m\u001b[4m0\u001b[24m\u001b[4m0\u001b[24m038 广东顺德农… 2006-12-31  4.97\u001b[90me\u001b[39m 9 2.56\u001b[90me\u001b[39m10 \u001b[31mNA\u001b[39m   \u001b[90m \u001b[39m  \u001b[31mNA\u001b[39m   \u001b[90m \u001b[39m     \u001b[31mNA\u001b[39m \u001b[31mNA\u001b[39m   \u001b[90m \u001b[39m \n",
      "\u001b[90m4\u001b[39m   \u001b[4m1\u001b[24m\u001b[4m0\u001b[24m\u001b[4m0\u001b[24m038 广东顺德农… 2007-12-31  8.41\u001b[90me\u001b[39m 9 1.68\u001b[90me\u001b[39m 9 \u001b[31mNA\u001b[39m   \u001b[90m \u001b[39m  \u001b[31mNA\u001b[39m   \u001b[90m \u001b[39m     \u001b[31mNA\u001b[39m \u001b[31mNA\u001b[39m   \u001b[90m \u001b[39m \n",
      "\u001b[90m5\u001b[39m   \u001b[4m1\u001b[24m\u001b[4m0\u001b[24m\u001b[4m0\u001b[24m038 广东顺德农… 2008-12-31  9.91\u001b[90me\u001b[39m 9 4.17\u001b[90me\u001b[39m 9 \u001b[31mNA\u001b[39m   \u001b[90m \u001b[39m  \u001b[31mNA\u001b[39m   \u001b[90m \u001b[39m     \u001b[31mNA\u001b[39m \u001b[31mNA\u001b[39m   \u001b[90m \u001b[39m \n",
      "\u001b[90m6\u001b[39m   \u001b[4m1\u001b[24m\u001b[4m0\u001b[24m\u001b[4m0\u001b[24m038 广东顺德农… 2009-12-31  1.06\u001b[90me\u001b[39m10 5.64\u001b[90me\u001b[39m 9  9.27\u001b[90me\u001b[39m7  3.22\u001b[90me\u001b[39m8     0  4.59\u001b[90me\u001b[39m8\n",
      "\u001b[90m# ℹ 19 more variables: LNADV <dbl>, AFSFIA <dbl>, FXA <dbl>, TA <dbl>,\u001b[39m\n",
      "\u001b[90m#   BOFIF <dbl>, BWFCBK <dbl>, LNFOBK <dbl>, TKDEP <dbl>, TP <dbl>, INTP <dbl>,\u001b[39m\n",
      "\u001b[90m#   LB <dbl>, PIC <dbl>, APIC <dbl>, SR <dbl>, UDP <dbl>, GRKPP <dbl>,\u001b[39m\n",
      "\u001b[90m#   EAPC <dbl>, EQU <dbl>, TLE <dbl>\u001b[39m\n"
     ]
    }
   ],
   "source": [
    "# Then, filter the 'result' data frame\n",
    "max_records <- bank_balance[bank_balance$BankCode == \"100038\", ]\n",
    "\n",
    "# View the filtered results\n",
    "#print(max_records)\n",
    "# View the filtered results\n",
    "print(head(max_records))"
   ]
  },
  {
   "cell_type": "code",
   "execution_count": 25,
   "metadata": {
    "vscode": {
     "languageId": "r"
    }
   },
   "outputs": [],
   "source": [
    "# Step 1: Filter the banks based on bank type\n",
    "filtered_banks <- bank_overview %>%\n",
    "  filter(BkNtr %in% c(\"大型商业银行\", \"股份制商业银行\"))"
   ]
  },
  {
   "cell_type": "code",
   "execution_count": 29,
   "metadata": {
    "vscode": {
     "languageId": "r"
    }
   },
   "outputs": [
    {
     "name": "stdout",
     "output_type": "stream",
     "text": [
      "\u001b[90m# A tibble: 18 × 11\u001b[39m\n",
      "   BankCode BankName  EstbDate   BkNtr  RgsCapt ListOrN Province RgsAdrs BusnScp\n",
      "      \u001b[3m\u001b[90m<dbl>\u001b[39m\u001b[23m \u001b[3m\u001b[90m<chr>\u001b[39m\u001b[23m     \u001b[3m\u001b[90m<date>\u001b[39m\u001b[23m     \u001b[3m\u001b[90m<chr>\u001b[39m\u001b[23m    \u001b[3m\u001b[90m<dbl>\u001b[39m\u001b[23m \u001b[3m\u001b[90m<chr>\u001b[39m\u001b[23m   \u001b[3m\u001b[90m<chr>\u001b[39m\u001b[23m    \u001b[3m\u001b[90m<chr>\u001b[39m\u001b[23m   \u001b[3m\u001b[90m<chr>\u001b[39m\u001b[23m  \n",
      "\u001b[90m 1\u001b[39m   \u001b[4m1\u001b[24m\u001b[4m0\u001b[24m\u001b[4m0\u001b[24m008 渤海银行… 2005-12-30 股份…  1.78\u001b[90me\u001b[39m10 是      天津     天津市… 全国性…\n",
      "\u001b[90m 2\u001b[39m   \u001b[4m1\u001b[24m\u001b[4m0\u001b[24m\u001b[4m0\u001b[24m039 广发银行… 1988-07-08 股份…  2.18\u001b[90me\u001b[39m10 否      广东省   广东省… 吸收公…\n",
      "\u001b[90m 3\u001b[39m   \u001b[4m1\u001b[24m\u001b[4m0\u001b[24m\u001b[4m0\u001b[24m053 恒丰银行… 1987-11-23 股份…  1.11\u001b[90me\u001b[39m11 否      山东省   山东省… 吸收人…\n",
      "\u001b[90m 4\u001b[39m   \u001b[4m1\u001b[24m\u001b[4m0\u001b[24m\u001b[4m0\u001b[24m059 华夏银行… 1992-10-14 股份…  1.59\u001b[90me\u001b[39m10 是      北京     北京市… (一)吸…\n",
      "\u001b[90m 5\u001b[39m   \u001b[4m1\u001b[24m\u001b[4m0\u001b[24m\u001b[4m0\u001b[24m087 交通银行… 1987-03-30 大型…  7.43\u001b[90me\u001b[39m10 是      上海     上海市… (一)吸…\n",
      "\u001b[90m 6\u001b[39m   \u001b[4m1\u001b[24m\u001b[4m0\u001b[24m\u001b[4m0\u001b[24m118 平安银行… 1987-12-22 股份…  1.94\u001b[90me\u001b[39m10 是      广东省   广东省… (一)吸…\n",
      "\u001b[90m 7\u001b[39m   \u001b[4m1\u001b[24m\u001b[4m0\u001b[24m\u001b[4m0\u001b[24m134 上海浦东… 1992-10-19 股份…  2.94\u001b[90me\u001b[39m10 是      上海     上海市… (一)吸…\n",
      "\u001b[90m 8\u001b[39m   \u001b[4m1\u001b[24m\u001b[4m0\u001b[24m\u001b[4m0\u001b[24m155 兴业银行… 1988-08-22 股份…  2.08\u001b[90me\u001b[39m10 是      福建省   福建省… 吸收公…\n",
      "\u001b[90m 9\u001b[39m   \u001b[4m1\u001b[24m\u001b[4m0\u001b[24m\u001b[4m0\u001b[24m165 招商银行… 1987-03-31 股份…  2.52\u001b[90me\u001b[39m10 是      广东省   广东省… 吸收公…\n",
      "\u001b[90m10\u001b[39m   \u001b[4m1\u001b[24m\u001b[4m0\u001b[24m\u001b[4m0\u001b[24m176 浙商银行… 1993-04-16 股份…  2.75\u001b[90me\u001b[39m10 是      浙江省   浙江省… 吸收公…\n",
      "\u001b[90m11\u001b[39m   \u001b[4m1\u001b[24m\u001b[4m0\u001b[24m\u001b[4m0\u001b[24m178 中国工商… 1985-11-22 大型…  3.56\u001b[90me\u001b[39m11 是      北京     北京市… 办理人…\n",
      "\u001b[90m12\u001b[39m   \u001b[4m1\u001b[24m\u001b[4m0\u001b[24m\u001b[4m0\u001b[24m179 中国光大… 1992-06-18 股份…  5.91\u001b[90me\u001b[39m10 是      北京     北京市… 吸收公…\n",
      "\u001b[90m13\u001b[39m   \u001b[4m1\u001b[24m\u001b[4m0\u001b[24m\u001b[4m0\u001b[24m180 中国建设… 2004-09-17 大型…  2.50\u001b[90me\u001b[39m11 是      北京     北京市… 吸收公…\n",
      "\u001b[90m14\u001b[39m   \u001b[4m1\u001b[24m\u001b[4m0\u001b[24m\u001b[4m0\u001b[24m181 中国民生… 1996-02-07 股份…  4.38\u001b[90me\u001b[39m10 是      北京     北京市… 吸收公…\n",
      "\u001b[90m15\u001b[39m   \u001b[4m1\u001b[24m\u001b[4m0\u001b[24m\u001b[4m0\u001b[24m182 中国农业… 1986-12-18 大型…  3.50\u001b[90me\u001b[39m11 是      北京     北京市… 吸收公…\n",
      "\u001b[90m16\u001b[39m   \u001b[4m1\u001b[24m\u001b[4m0\u001b[24m\u001b[4m0\u001b[24m183 中国银行… 1983-10-31 大型…  2.94\u001b[90me\u001b[39m11 是      北京     北京市… 吸收人…\n",
      "\u001b[90m17\u001b[39m   \u001b[4m1\u001b[24m\u001b[4m0\u001b[24m\u001b[4m0\u001b[24m184 中国邮政… 2007-03-06 大型…  9.92\u001b[90me\u001b[39m10 是      北京     北京市… 吸收公…\n",
      "\u001b[90m18\u001b[39m   \u001b[4m1\u001b[24m\u001b[4m0\u001b[24m\u001b[4m0\u001b[24m185 中信银行… 1987-04-20 股份…  5.35\u001b[90me\u001b[39m10 是      北京     北京市… 保险兼…\n",
      "\u001b[90m# ℹ 2 more variables: LglRepst <chr>, GenMager <chr>\u001b[39m\n"
     ]
    }
   ],
   "source": [
    "print(filtered_banks)"
   ]
  },
  {
   "cell_type": "code",
   "execution_count": 30,
   "metadata": {
    "vscode": {
     "languageId": "r"
    }
   },
   "outputs": [
    {
     "name": "stdout",
     "output_type": "stream",
     "text": [
      "\u001b[90m# A tibble: 18 × 2\u001b[39m\n",
      "   BankCode BankName                    \n",
      "      \u001b[3m\u001b[90m<dbl>\u001b[39m\u001b[23m \u001b[3m\u001b[90m<chr>\u001b[39m\u001b[23m                       \n",
      "\u001b[90m 1\u001b[39m   \u001b[4m1\u001b[24m\u001b[4m0\u001b[24m\u001b[4m0\u001b[24m008 渤海银行股份有限公司        \n",
      "\u001b[90m 2\u001b[39m   \u001b[4m1\u001b[24m\u001b[4m0\u001b[24m\u001b[4m0\u001b[24m039 广发银行股份有限公司        \n",
      "\u001b[90m 3\u001b[39m   \u001b[4m1\u001b[24m\u001b[4m0\u001b[24m\u001b[4m0\u001b[24m053 恒丰银行股份有限公司        \n",
      "\u001b[90m 4\u001b[39m   \u001b[4m1\u001b[24m\u001b[4m0\u001b[24m\u001b[4m0\u001b[24m059 华夏银行股份有限公司        \n",
      "\u001b[90m 5\u001b[39m   \u001b[4m1\u001b[24m\u001b[4m0\u001b[24m\u001b[4m0\u001b[24m087 交通银行股份有限公司        \n",
      "\u001b[90m 6\u001b[39m   \u001b[4m1\u001b[24m\u001b[4m0\u001b[24m\u001b[4m0\u001b[24m118 平安银行股份有限公司        \n",
      "\u001b[90m 7\u001b[39m   \u001b[4m1\u001b[24m\u001b[4m0\u001b[24m\u001b[4m0\u001b[24m134 上海浦东发展银行股份有限公司\n",
      "\u001b[90m 8\u001b[39m   \u001b[4m1\u001b[24m\u001b[4m0\u001b[24m\u001b[4m0\u001b[24m155 兴业银行股份有限公司        \n",
      "\u001b[90m 9\u001b[39m   \u001b[4m1\u001b[24m\u001b[4m0\u001b[24m\u001b[4m0\u001b[24m165 招商银行股份有限公司        \n",
      "\u001b[90m10\u001b[39m   \u001b[4m1\u001b[24m\u001b[4m0\u001b[24m\u001b[4m0\u001b[24m176 浙商银行股份有限公司        \n",
      "\u001b[90m11\u001b[39m   \u001b[4m1\u001b[24m\u001b[4m0\u001b[24m\u001b[4m0\u001b[24m178 中国工商银行股份有限公司    \n",
      "\u001b[90m12\u001b[39m   \u001b[4m1\u001b[24m\u001b[4m0\u001b[24m\u001b[4m0\u001b[24m179 中国光大银行股份有限公司    \n",
      "\u001b[90m13\u001b[39m   \u001b[4m1\u001b[24m\u001b[4m0\u001b[24m\u001b[4m0\u001b[24m180 中国建设银行股份有限公司    \n",
      "\u001b[90m14\u001b[39m   \u001b[4m1\u001b[24m\u001b[4m0\u001b[24m\u001b[4m0\u001b[24m181 中国民生银行股份有限公司    \n",
      "\u001b[90m15\u001b[39m   \u001b[4m1\u001b[24m\u001b[4m0\u001b[24m\u001b[4m0\u001b[24m182 中国农业银行股份有限公司    \n",
      "\u001b[90m16\u001b[39m   \u001b[4m1\u001b[24m\u001b[4m0\u001b[24m\u001b[4m0\u001b[24m183 中国银行股份有限公司        \n",
      "\u001b[90m17\u001b[39m   \u001b[4m1\u001b[24m\u001b[4m0\u001b[24m\u001b[4m0\u001b[24m184 中国邮政储蓄银行股份有限公司\n",
      "\u001b[90m18\u001b[39m   \u001b[4m1\u001b[24m\u001b[4m0\u001b[24m\u001b[4m0\u001b[24m185 中信银行股份有限公司        \n"
     ]
    }
   ],
   "source": [
    "print(filtered_banks[,1:2])"
   ]
  },
  {
   "cell_type": "code",
   "execution_count": 27,
   "metadata": {
    "vscode": {
     "languageId": "r"
    }
   },
   "outputs": [],
   "source": [
    "# Step 2: Compile statistics by province\n",
    "# 在该省 有几个大银行，有几种性质的大银行\n",
    "province_stats <- filtered_banks %>%\n",
    "  group_by(Province) %>%\n",
    "  summarise(\n",
    "    Count = n(),\n",
    "    #AvgAssets = mean(TotalAssets, na.rm = TRUE),\n",
    "    #TotalAssets = sum(TotalAssets, na.rm = TRUE),\n",
    "    UniqueTypes = n_distinct(BkNtr)\n",
    "  ) %>%\n",
    "  arrange(desc(Count))"
   ]
  },
  {
   "cell_type": "code",
   "execution_count": 28,
   "metadata": {
    "vscode": {
     "languageId": "r"
    }
   },
   "outputs": [
    {
     "name": "stdout",
     "output_type": "stream",
     "text": [
      "\u001b[90m# A tibble: 7 × 3\u001b[39m\n",
      "  Province Count UniqueTypes\n",
      "  \u001b[3m\u001b[90m<chr>\u001b[39m\u001b[23m    \u001b[3m\u001b[90m<int>\u001b[39m\u001b[23m       \u001b[3m\u001b[90m<int>\u001b[39m\u001b[23m\n",
      "\u001b[90m1\u001b[39m 北京         9           2\n",
      "\u001b[90m2\u001b[39m 广东省       3           1\n",
      "\u001b[90m3\u001b[39m 上海         2           2\n",
      "\u001b[90m4\u001b[39m 天津         1           1\n",
      "\u001b[90m5\u001b[39m 山东省       1           1\n",
      "\u001b[90m6\u001b[39m 浙江省       1           1\n",
      "\u001b[90m7\u001b[39m 福建省       1           1\n"
     ]
    }
   ],
   "source": [
    "# Step 3: View the results\n",
    "print(province_stats)"
   ]
  },
  {
   "cell_type": "markdown",
   "metadata": {},
   "source": [
    "# 下面是之前7-CNRDS的代码"
   ]
  },
  {
   "cell_type": "code",
   "execution_count": null,
   "metadata": {
    "vscode": {
     "languageId": "r"
    }
   },
   "outputs": [],
   "source": [
    "#下面是之前7-CNRDS的代码"
   ]
  },
  {
   "cell_type": "code",
   "execution_count": null,
   "metadata": {
    "vscode": {
     "languageId": "r"
    }
   },
   "outputs": [],
   "source": [
    "# Create a function to read a single CSV file\n",
    "read_csv_file <- function(file_number) {\n",
    "  file_na <- paste0(base_path, file_prefix, file_number, file_extension)\n",
    "  df=read_csv_file0(file_na)\n",
    "  return(df)\n",
    "}"
   ]
  },
  {
   "cell_type": "code",
   "execution_count": null,
   "metadata": {
    "vscode": {
     "languageId": "r"
    }
   },
   "outputs": [
    {
     "name": "stderr",
     "output_type": "stream",
     "text": [
      "\u001b[1mRows: \u001b[22m\u001b[34m1\u001b[39m \u001b[1mColumns: \u001b[22m\u001b[34m7\u001b[39m\n",
      "\u001b[36m──\u001b[39m \u001b[1mColumn specification\u001b[22m \u001b[36m────────────────────────────────────────────────────────\u001b[39m\n",
      "\u001b[1mDelimiter:\u001b[22m \",\"\n",
      "\u001b[31mchr\u001b[39m (7): X1, X2, X3, X4, X5, X6, X7\n",
      "\n",
      "\u001b[36mℹ\u001b[39m Use `spec()` to retrieve the full column specification for this data.\n",
      "\u001b[36mℹ\u001b[39m Specify the column types or set `show_col_types = FALSE` to quiet this message.\n",
      "\u001b[1mRows: \u001b[22m\u001b[34m100000\u001b[39m \u001b[1mColumns: \u001b[22m\u001b[34m7\u001b[39m\n",
      "\u001b[36m──\u001b[39m \u001b[1mColumn specification\u001b[22m \u001b[36m────────────────────────────────────────────────────────\u001b[39m\n",
      "\u001b[1mDelimiter:\u001b[22m \",\"\n",
      "\u001b[31mchr\u001b[39m  (5): X1, X2, X3, X4, X5\n",
      "\u001b[34mdate\u001b[39m (2): X6, X7\n",
      "\n",
      "\u001b[36mℹ\u001b[39m Use `spec()` to retrieve the full column specification for this data.\n",
      "\u001b[36mℹ\u001b[39m Specify the column types or set `show_col_types = FALSE` to quiet this message.\n",
      "\u001b[1mRows: \u001b[22m\u001b[34m1\u001b[39m \u001b[1mColumns: \u001b[22m\u001b[34m7\u001b[39m\n",
      "\u001b[36m──\u001b[39m \u001b[1mColumn specification\u001b[22m \u001b[36m────────────────────────────────────────────────────────\u001b[39m\n",
      "\u001b[1mDelimiter:\u001b[22m \",\"\n",
      "\u001b[31mchr\u001b[39m (7): X1, X2, X3, X4, X5, X6, X7\n",
      "\n",
      "\u001b[36mℹ\u001b[39m Use `spec()` to retrieve the full column specification for this data.\n",
      "\u001b[36mℹ\u001b[39m Specify the column types or set `show_col_types = FALSE` to quiet this message.\n",
      "\u001b[1mRows: \u001b[22m\u001b[34m100000\u001b[39m \u001b[1mColumns: \u001b[22m\u001b[34m7\u001b[39m\n",
      "\u001b[36m──\u001b[39m \u001b[1mColumn specification\u001b[22m \u001b[36m────────────────────────────────────────────────────────\u001b[39m\n",
      "\u001b[1mDelimiter:\u001b[22m \",\"\n",
      "\u001b[31mchr\u001b[39m  (5): X1, X2, X3, X4, X5\n",
      "\u001b[34mdate\u001b[39m (2): X6, X7\n",
      "\n",
      "\u001b[36mℹ\u001b[39m Use `spec()` to retrieve the full column specification for this data.\n",
      "\u001b[36mℹ\u001b[39m Specify the column types or set `show_col_types = FALSE` to quiet this message.\n",
      "\u001b[1mRows: \u001b[22m\u001b[34m1\u001b[39m \u001b[1mColumns: \u001b[22m\u001b[34m7\u001b[39m\n",
      "\u001b[36m──\u001b[39m \u001b[1mColumn specification\u001b[22m \u001b[36m────────────────────────────────────────────────────────\u001b[39m\n",
      "\u001b[1mDelimiter:\u001b[22m \",\"\n",
      "\u001b[31mchr\u001b[39m (7): X1, X2, X3, X4, X5, X6, X7\n",
      "\n",
      "\u001b[36mℹ\u001b[39m Use `spec()` to retrieve the full column specification for this data.\n",
      "\u001b[36mℹ\u001b[39m Specify the column types or set `show_col_types = FALSE` to quiet this message.\n",
      "\u001b[1mRows: \u001b[22m\u001b[34m79588\u001b[39m \u001b[1mColumns: \u001b[22m\u001b[34m7\u001b[39m\n",
      "\u001b[36m──\u001b[39m \u001b[1mColumn specification\u001b[22m \u001b[36m────────────────────────────────────────────────────────\u001b[39m\n",
      "\u001b[1mDelimiter:\u001b[22m \",\"\n",
      "\u001b[31mchr\u001b[39m  (5): X1, X2, X3, X4, X5\n",
      "\u001b[34mdate\u001b[39m (2): X6, X7\n",
      "\n",
      "\u001b[36mℹ\u001b[39m Use `spec()` to retrieve the full column specification for this data.\n",
      "\u001b[36mℹ\u001b[39m Specify the column types or set `show_col_types = FALSE` to quiet this message.\n"
     ]
    }
   ],
   "source": [
    "# Read all CSV files and combine them into a single data frame\n",
    "Ins_entry <- map_df(number_range, read_csv_file)"
   ]
  },
  {
   "cell_type": "code",
   "execution_count": null,
   "metadata": {
    "vscode": {
     "languageId": "r"
    }
   },
   "outputs": [
    {
     "name": "stdout",
     "output_type": "stream",
     "text": [
      "[1] \"Dimensions of the combined data frame: 279588 rows and 7 columns\"\n"
     ]
    }
   ],
   "source": [
    "# Print the dimensions of the combined data frame\n",
    "print(paste(\"Dimensions of the combined data frame:\", \n",
    "            nrow(Ins_entry), \"rows and\", ncol(Ins_entry), \"columns\"))"
   ]
  },
  {
   "cell_type": "code",
   "execution_count": null,
   "metadata": {
    "vscode": {
     "languageId": "r"
    }
   },
   "outputs": [
    {
     "name": "stdout",
     "output_type": "stream",
     "text": [
      "\u001b[90m# A tibble: 6 × 7\u001b[39m\n",
      "  Inscode         Intype     Insname       Insadr  Inscity Issdate    Apprdate  \n",
      "  \u001b[3m\u001b[90m<chr>\u001b[39m\u001b[23m           \u001b[3m\u001b[90m<chr>\u001b[39m\u001b[23m      \u001b[3m\u001b[90m<chr>\u001b[39m\u001b[23m         \u001b[3m\u001b[90m<chr>\u001b[39m\u001b[23m   \u001b[3m\u001b[90m<chr>\u001b[39m\u001b[23m   \u001b[3m\u001b[90m<date>\u001b[39m\u001b[23m     \u001b[3m\u001b[90m<date>\u001b[39m\u001b[23m    \n",
      "\u001b[90m1\u001b[39m A0002K244010001 政策性银行 中国农业发展… 广州市… 广东省… 2024-04-26 1996-10-14\n",
      "\u001b[90m2\u001b[39m A0002L315290001 政策性银行 中国农业发展… 内蒙古… 内蒙古… 2024-01-04 1996-09-26\n",
      "\u001b[90m3\u001b[39m A0002L335060001 政策性银行 中国农业发展… 福建省… 福建省… 2024-06-12 1996-12-17\n",
      "\u001b[90m4\u001b[39m A0002L352270001 政策性银行 中国农业发展… 贵州省… 贵州省… 2024-06-03 1996-12-19\n",
      "\u001b[90m5\u001b[39m A0002L365020001 政策性银行 中国农业发展… 新疆维… 新疆维… 2024-04-07 1998-07-08\n",
      "\u001b[90m6\u001b[39m A0002N365020001 政策性银行 中国农业发展… 新疆维… 新疆维… 2024-04-07 1998-07-08\n"
     ]
    }
   ],
   "source": [
    "# Display the first few rows of the combined data frame\n",
    "print(head(Ins_entry))\n",
    "\n",
    "# Display the column names\n",
    "#print(colnames(Ins_entry))\n",
    "\n",
    "# Display the structure of the combined data frame\n",
    "#str(Ins_entry)"
   ]
  },
  {
   "cell_type": "code",
   "execution_count": null,
   "metadata": {
    "vscode": {
     "languageId": "r"
    }
   },
   "outputs": [
    {
     "name": "stderr",
     "output_type": "stream",
     "text": [
      "\u001b[1mRows: \u001b[22m\u001b[34m1\u001b[39m \u001b[1mColumns: \u001b[22m\u001b[34m8\u001b[39m\n",
      "\u001b[36m──\u001b[39m \u001b[1mColumn specification\u001b[22m \u001b[36m────────────────────────────────────────────────────────\u001b[39m\n",
      "\u001b[1mDelimiter:\u001b[22m \",\"\n",
      "\u001b[31mchr\u001b[39m (8): X1, X2, X3, X4, X5, X6, X7, X8\n",
      "\n",
      "\u001b[36mℹ\u001b[39m Use `spec()` to retrieve the full column specification for this data.\n",
      "\u001b[36mℹ\u001b[39m Specify the column types or set `show_col_types = FALSE` to quiet this message.\n",
      "\u001b[1mRows: \u001b[22m\u001b[34m38735\u001b[39m \u001b[1mColumns: \u001b[22m\u001b[34m8\u001b[39m\n",
      "\u001b[36m──\u001b[39m \u001b[1mColumn specification\u001b[22m \u001b[36m────────────────────────────────────────────────────────\u001b[39m\n",
      "\u001b[1mDelimiter:\u001b[22m \",\"\n",
      "\u001b[31mchr\u001b[39m  (5): X1, X2, X3, X4, X5\n",
      "\u001b[34mdate\u001b[39m (3): X6, X7, X8\n",
      "\n",
      "\u001b[36mℹ\u001b[39m Use `spec()` to retrieve the full column specification for this data.\n",
      "\u001b[36mℹ\u001b[39m Specify the column types or set `show_col_types = FALSE` to quiet this message.\n"
     ]
    }
   ],
   "source": [
    "Ins_exit <- read_csv_file0(file_name2)"
   ]
  },
  {
   "cell_type": "code",
   "execution_count": null,
   "metadata": {
    "vscode": {
     "languageId": "r"
    }
   },
   "outputs": [
    {
     "name": "stdout",
     "output_type": "stream",
     "text": [
      "[1] \"Dimensions of the combined data frame: 38735 rows and 8 columns\"\n"
     ]
    }
   ],
   "source": [
    "# Print the dimensions of the combined data frame\n",
    "print(paste(\"Dimensions of the combined data frame:\", \n",
    "            nrow(Ins_exit), \"rows and\", ncol(Ins_exit), \"columns\"))"
   ]
  },
  {
   "cell_type": "code",
   "execution_count": null,
   "metadata": {
    "vscode": {
     "languageId": "r"
    }
   },
   "outputs": [
    {
     "name": "stdout",
     "output_type": "stream",
     "text": [
      "\u001b[90m# A tibble: 6 × 8\u001b[39m\n",
      "  Inscode         Intype Insname Insadr Inscity Issdate    Apprdate   Exitdt    \n",
      "  \u001b[3m\u001b[90m<chr>\u001b[39m\u001b[23m           \u001b[3m\u001b[90m<chr>\u001b[39m\u001b[23m  \u001b[3m\u001b[90m<chr>\u001b[39m\u001b[23m   \u001b[3m\u001b[90m<chr>\u001b[39m\u001b[23m  \u001b[3m\u001b[90m<chr>\u001b[39m\u001b[23m   \u001b[3m\u001b[90m<date>\u001b[39m\u001b[23m     \u001b[3m\u001b[90m<date>\u001b[39m\u001b[23m     \u001b[3m\u001b[90m<date>\u001b[39m\u001b[23m    \n",
      "\u001b[90m1\u001b[39m A0002L335090002 政策…  中国农… 福建…  福建省… 2007-06-12 1997-03-28 2010-07-28\n",
      "\u001b[90m2\u001b[39m A0002L337130001 政策…  中国农… 临沂…  山东省… 2007-06-22 1996-11-12 2008-11-03\n",
      "\u001b[90m3\u001b[39m A0002N237020001 政策…  中国农… 山东…  山东省… 2007-05-14 1996-09-26 2008-02-21\n",
      "\u001b[90m4\u001b[39m A0002N314020001 政策…  中国农… 大同…  山西省… 2007-04-25 1997-05-07 2015-07-23\n",
      "\u001b[90m5\u001b[39m A0002N314030001 政策…  中国农… 山西…  山西省… 2007-04-24 1997-05-04 2014-02-13\n",
      "\u001b[90m6\u001b[39m A0002N314040001 政策…  中国农… 山西…  山西省… 2007-04-27 1997-04-30 2015-11-17\n"
     ]
    }
   ],
   "source": [
    "print(head(Ins_exit))"
   ]
  },
  {
   "cell_type": "markdown",
   "metadata": {},
   "source": [
    "## 8.2-合并Ins_2-不合并"
   ]
  },
  {
   "cell_type": "code",
   "execution_count": null,
   "metadata": {
    "vscode": {
     "languageId": "r"
    }
   },
   "outputs": [],
   "source": [
    "#后来决定不合并。所以全部注释"
   ]
  },
  {
   "cell_type": "code",
   "execution_count": null,
   "metadata": {
    "vscode": {
     "languageId": "r"
    }
   },
   "outputs": [],
   "source": [
    "# Add Exitdt column to Ins_entry  #给Ins_entry增加一列。便于合并两个数据框\n",
    "# Ins_entry <- Ins_entry %>%\n",
    "#   mutate(Exitdt = as.Date(\"2024-12-31\"))"
   ]
  },
  {
   "cell_type": "code",
   "execution_count": null,
   "metadata": {
    "vscode": {
     "languageId": "r"
    }
   },
   "outputs": [],
   "source": [
    "# print(head(Ins_entry,3))"
   ]
  },
  {
   "cell_type": "code",
   "execution_count": null,
   "metadata": {
    "vscode": {
     "languageId": "r"
    }
   },
   "outputs": [],
   "source": [
    "# # Merge Ins_entry and Ins_exit\n",
    "# Ins_2 <- bind_rows(Ins_entry, Ins_exit)"
   ]
  },
  {
   "cell_type": "code",
   "execution_count": null,
   "metadata": {
    "vscode": {
     "languageId": "r"
    }
   },
   "outputs": [],
   "source": [
    "# dim(Ins_2)"
   ]
  },
  {
   "cell_type": "markdown",
   "metadata": {},
   "source": [
    "## 8.3-生成新列"
   ]
  },
  {
   "cell_type": "code",
   "execution_count": null,
   "metadata": {
    "vscode": {
     "languageId": "r"
    }
   },
   "outputs": [],
   "source": []
  },
  {
   "cell_type": "markdown",
   "metadata": {},
   "source": [
    "### 8.3.1-最早成立年份"
   ]
  },
  {
   "cell_type": "code",
   "execution_count": null,
   "metadata": {
    "vscode": {
     "languageId": "r"
    }
   },
   "outputs": [
    {
     "name": "stdout",
     "output_type": "stream",
     "text": [
      "Row with typo before correction:\n",
      "\u001b[90m# A tibble: 10,364 × 7\u001b[39m\n",
      "   Inscode         Intype   Insname         Insadr Inscity Issdate    Apprdate  \n",
      "   \u001b[3m\u001b[90m<chr>\u001b[39m\u001b[23m           \u001b[3m\u001b[90m<chr>\u001b[39m\u001b[23m    \u001b[3m\u001b[90m<chr>\u001b[39m\u001b[23m           \u001b[3m\u001b[90m<chr>\u001b[39m\u001b[23m  \u001b[3m\u001b[90m<chr>\u001b[39m\u001b[23m   \u001b[3m\u001b[90m<date>\u001b[39m\u001b[23m     \u001b[3m\u001b[90m<date>\u001b[39m\u001b[23m    \n",
      "\u001b[90m 1\u001b[39m B0001L243120001 商业银行 中国工商银行股… 湖南…  湖南省… 2007-05-18 1950-01-01\n",
      "\u001b[90m 2\u001b[39m B0001L252010001 商业银行 中国工商银行股… 贵州…  贵州省… 2022-02-28 1972-10-01\n",
      "\u001b[90m 3\u001b[39m B0001L343120001 商业银行 中国工商银行股… 湖南…  湖南省… 2023-05-11 1950-01-01\n",
      "\u001b[90m 4\u001b[39m B0001M212000006 商业银行 中国工商银行股… 天津…  天津市  2022-01-28 1969-01-01\n",
      "\u001b[90m 5\u001b[39m B0001M212000007 商业银行 中国工商银行股… 天津…  天津市  2021-12-02 1973-08-16\n",
      "\u001b[90m 6\u001b[39m B0001S212000019 商业银行 中国工商银行股… 天津…  天津市  2021-12-02 1978-01-01\n",
      "\u001b[90m 7\u001b[39m B0001S212000031 商业银行 中国工商银行股… 天津…  天津市  2022-02-09 1969-01-01\n",
      "\u001b[90m 8\u001b[39m B0001S221020040 商业银行 中国工商银行股… 大连…  辽宁省… 2021-12-24 1954-01-01\n",
      "\u001b[90m 9\u001b[39m B0001S221020090 商业银行 中国工商银行股… 辽宁…  辽宁省… 2021-12-24 1978-03-01\n",
      "\u001b[90m10\u001b[39m B0001S221020097 商业银行 中国工商银行股… 辽宁…  辽宁省… 2021-12-24 1975-12-29\n",
      "\u001b[90m# ℹ 10,354 more rows\u001b[39m\n"
     ]
    }
   ],
   "source": [
    "# Print the row before 1980-01-01\n",
    "cat(\"Row with Apprdate before 1980-01-01:\\n\")\n",
    "print(Ins_entry %>% filter(Apprdate < as.Date(\"1980-01-01\")))"
   ]
  },
  {
   "cell_type": "code",
   "execution_count": null,
   "metadata": {
    "vscode": {
     "languageId": "r"
    }
   },
   "outputs": [],
   "source": [
    "# 不知道是什么原因，存在1万多行，成立日期在1980-01-01之前。乃统计1984年之后的分支情况\n",
    "start_year <- 1984"
   ]
  },
  {
   "cell_type": "code",
   "execution_count": null,
   "metadata": {
    "vscode": {
     "languageId": "r"
    }
   },
   "outputs": [],
   "source": [
    "# Create a sequence of years from start_year to 2024\n",
    "years <- seq(start_year, 2024)"
   ]
  },
  {
   "cell_type": "markdown",
   "metadata": {},
   "source": [
    "### 8.3.2-na处理"
   ]
  },
  {
   "cell_type": "code",
   "execution_count": null,
   "metadata": {
    "vscode": {
     "languageId": "r"
    }
   },
   "outputs": [],
   "source": [
    "# Find rows where Apprdate is NA\n",
    "na_rows_entry <- Ins_entry %>% filter(is.na(Apprdate))\n",
    "dim(na_rows_entry)"
   ]
  },
  {
   "cell_type": "code",
   "execution_count": null,
   "metadata": {
    "vscode": {
     "languageId": "r"
    }
   },
   "outputs": [],
   "source": [
    "# Find rows where Apprdate is NA\n",
    "na_rows_exit <- Ins_exit %>% filter(is.na(Apprdate))\n",
    "dim(na_rows_exit)"
   ]
  },
  {
   "cell_type": "markdown",
   "metadata": {},
   "source": [
    "### 8.3.3-生成新列"
   ]
  },
  {
   "cell_type": "code",
   "execution_count": null,
   "metadata": {
    "vscode": {
     "languageId": "r"
    }
   },
   "outputs": [],
   "source": [
    "#结构代码。机构名称。机构类型。机构类型首字母。省份、城市。\n",
    "#对于Apprdate=NA的行，令Apprdate=Issdate\n",
    "process_dataframe <- function(df) {\n",
    "  df %>%\n",
    "    mutate(\n",
    "      Inscode2 = str_sub(Inscode, 1, 5),\n",
    "      Insname2 = str_sub(Insname, 1, 6),\n",
    "      Intype2 = as.factor(Intype),\n",
    "      Intype3 = str_sub(Inscode, 1, 1),\n",
    "      Ins_prov = str_replace(Inscity, \"-.+$\", \"\"),\n",
    "      Ins_city = str_extract(Inscity, \"(?<=-).*\") %>% \n",
    "                 ifelse(is.na(.), Inscity, .),\n",
    "      Apprdate = if_else(is.na(Apprdate), Issdate, Apprdate)\n",
    "    )\n",
    "}"
   ]
  },
  {
   "cell_type": "code",
   "execution_count": null,
   "metadata": {
    "vscode": {
     "languageId": "r"
    }
   },
   "outputs": [],
   "source": [
    "# Assuming Ins_2 is your original dataframe\n",
    "Ins_entry2 <- process_dataframe(Ins_entry)\n",
    "Ins_exit2 <- process_dataframe(Ins_exit)"
   ]
  },
  {
   "cell_type": "code",
   "execution_count": null,
   "metadata": {
    "vscode": {
     "languageId": "r"
    }
   },
   "outputs": [
    {
     "data": {
      "text/html": [
       "<style>\n",
       ".list-inline {list-style: none; margin:0; padding: 0}\n",
       ".list-inline>li {display: inline-block}\n",
       ".list-inline>li:not(:last-child)::after {content: \"\\00b7\"; padding: 0 .5ex}\n",
       "</style>\n",
       "<ol class=list-inline><li>0</li><li>13</li></ol>\n"
      ],
      "text/latex": [
       "\\begin{enumerate*}\n",
       "\\item 0\n",
       "\\item 13\n",
       "\\end{enumerate*}\n"
      ],
      "text/markdown": [
       "1. 0\n",
       "2. 13\n",
       "\n",
       "\n"
      ],
      "text/plain": [
       "[1]  0 13"
      ]
     },
     "metadata": {},
     "output_type": "display_data"
    }
   ],
   "source": [
    "# Find rows where Apprdate is NA\n",
    "na_rows_entry <- Ins_entry2 %>% filter(is.na(Apprdate))\n",
    "dim(na_rows_entry)"
   ]
  },
  {
   "cell_type": "code",
   "execution_count": null,
   "metadata": {
    "vscode": {
     "languageId": "r"
    }
   },
   "outputs": [
    {
     "data": {
      "text/html": [
       "<style>\n",
       ".list-inline {list-style: none; margin:0; padding: 0}\n",
       ".list-inline>li {display: inline-block}\n",
       ".list-inline>li:not(:last-child)::after {content: \"\\00b7\"; padding: 0 .5ex}\n",
       "</style>\n",
       "<ol class=list-inline><li>0</li><li>14</li></ol>\n"
      ],
      "text/latex": [
       "\\begin{enumerate*}\n",
       "\\item 0\n",
       "\\item 14\n",
       "\\end{enumerate*}\n"
      ],
      "text/markdown": [
       "1. 0\n",
       "2. 14\n",
       "\n",
       "\n"
      ],
      "text/plain": [
       "[1]  0 14"
      ]
     },
     "metadata": {},
     "output_type": "display_data"
    }
   ],
   "source": [
    "na_rows_exit <- Ins_exit2 %>% filter(is.na(Apprdate))\n",
    "dim(na_rows_exit)"
   ]
  },
  {
   "cell_type": "markdown",
   "metadata": {},
   "source": [
    "### 8.3.4-试探-验证首字母"
   ]
  },
  {
   "cell_type": "code",
   "execution_count": null,
   "metadata": {
    "vscode": {
     "languageId": "r"
    }
   },
   "outputs": [],
   "source": [
    "# Validate the hypothesis  #验证首字母是否对应机构类型  #ctrl+/ 添加注释\n",
    "#下面是最初的代码。后来转换成 函数 \n",
    "# validation_result <- Ins_entry2 %>%\n",
    "#   group_by(Intype3, Intype) %>%\n",
    "#   summarise(count = n(), .groups = 'drop') %>%\n",
    "#   arrange(Intype3, desc(count))\n",
    "\n",
    "# # Print the validation result\n",
    "# print(validation_result)"
   ]
  },
  {
   "cell_type": "code",
   "execution_count": null,
   "metadata": {
    "vscode": {
     "languageId": "r"
    }
   },
   "outputs": [],
   "source": [
    "validate_insurance_types <- function(Ins_df) {\n",
    "  validation_result <- Ins_df %>%\n",
    "    group_by(Intype3, Intype) %>%\n",
    "    summarise(count = n(), .groups = 'drop') %>%\n",
    "    arrange(Intype3, desc(count))\n",
    "  \n",
    "  return(validation_result)\n",
    "}"
   ]
  },
  {
   "cell_type": "code",
   "execution_count": null,
   "metadata": {
    "vscode": {
     "languageId": "r"
    }
   },
   "outputs": [],
   "source": [
    "validation_result = validate_insurance_types(Ins_entry2)"
   ]
  },
  {
   "cell_type": "code",
   "execution_count": null,
   "metadata": {
    "vscode": {
     "languageId": "r"
    }
   },
   "outputs": [
    {
     "name": "stdout",
     "output_type": "stream",
     "text": [
      "\u001b[90m# A tibble: 17 × 3\u001b[39m\n",
      "   Intype3 Intype            count\n",
      "   \u001b[3m\u001b[90m<chr>\u001b[39m\u001b[23m   \u001b[3m\u001b[90m<chr>\u001b[39m\u001b[23m             \u001b[3m\u001b[90m<int>\u001b[39m\u001b[23m\n",
      "\u001b[90m 1\u001b[39m A       政策性银行           23\n",
      "\u001b[90m 2\u001b[39m B       商业银行         \u001b[4m2\u001b[24m\u001b[4m4\u001b[24m\u001b[4m2\u001b[24m203\n",
      "\u001b[90m 3\u001b[39m C       农村合作银行       \u001b[4m1\u001b[24m259\n",
      "\u001b[90m 4\u001b[39m E       农村信用社        \u001b[4m2\u001b[24m\u001b[4m8\u001b[24m024\n",
      "\u001b[90m 5\u001b[39m F       资金互助社           48\n",
      "\u001b[90m 6\u001b[39m G       开发性金融机构        1\n",
      "\u001b[90m 7\u001b[39m I       邮政储蓄网点         44\n",
      "\u001b[90m 8\u001b[39m J       金融资产管理公司    129\n",
      "\u001b[90m 9\u001b[39m K       信托公司             83\n",
      "\u001b[90m10\u001b[39m L       财务公司            363\n",
      "\u001b[90m11\u001b[39m M       金融租赁公司         81\n",
      "\u001b[90m12\u001b[39m N       汽车金融公司         32\n",
      "\u001b[90m13\u001b[39m P       货币经纪公司          7\n",
      "\u001b[90m14\u001b[39m Q       贷款公司             13\n",
      "\u001b[90m15\u001b[39m S       村镇银行           \u001b[4m7\u001b[24m198\n",
      "\u001b[90m16\u001b[39m X       消费金融公司         32\n",
      "\u001b[90m17\u001b[39m Z       其他类金融机构       48\n"
     ]
    }
   ],
   "source": [
    "# Print the validation result\n",
    "print(validation_result)"
   ]
  },
  {
   "cell_type": "code",
   "execution_count": null,
   "metadata": {
    "vscode": {
     "languageId": "r"
    }
   },
   "outputs": [],
   "source": [
    "Ins_exit2 <- process_dataframe(Ins_exit)"
   ]
  },
  {
   "cell_type": "code",
   "execution_count": null,
   "metadata": {
    "vscode": {
     "languageId": "r"
    }
   },
   "outputs": [
    {
     "name": "stdout",
     "output_type": "stream",
     "text": [
      "tibble [38,735 × 14] (S3: tbl_df/tbl/data.frame)\n",
      " $ Inscode : chr [1:38735] \"A0002L335090002\" \"A0002L337130001\" \"A0002N237020001\" \"A0002N314020001\" ...\n",
      " $ Intype  : chr [1:38735] \"政策性银行\" \"政策性银行\" \"政策性银行\" \"政策性银行\" ...\n",
      " $ Insname : chr [1:38735] \"中国农业发展银行宁德分行营业部\" \"中国农业发展银行临沂市分行营业部\" \"中国农业发展银行青岛市分行营业部\" \"中国农业发展银行大同市分行营业部\" ...\n",
      " $ Insadr  : chr [1:38735] \"福建省宁德市蕉城南路42号\" \"临沂市金雀山路中段71号\" \"山东省青岛市东海西路49号丙\" \"大同市新建北路红卫里6号\" ...\n",
      " $ Inscity : chr [1:38735] \"福建省-宁德市\" \"山东省-临沂市\" \"山东省-青岛市\" \"山西省-大同市\" ...\n",
      " $ Issdate : Date[1:38735], format: \"2007-06-12\" \"2007-06-22\" ...\n",
      " $ Apprdate: Date[1:38735], format: \"1997-03-28\" \"1996-11-12\" ...\n",
      " $ Exitdt  : Date[1:38735], format: \"2010-07-28\" \"2008-11-03\" ...\n",
      " $ Inscode2: chr [1:38735] \"A0002\" \"A0002\" \"A0002\" \"A0002\" ...\n",
      " $ Insname2: chr [1:38735] \"中国农业发展\" \"中国农业发展\" \"中国农业发展\" \"中国农业发展\" ...\n",
      " $ Intype2 : Factor w/ 13 levels \"财务公司\",\"城市信用社\",..: 12 12 12 12 12 12 12 12 12 12 ...\n",
      " $ Intype3 : chr [1:38735] \"A\" \"A\" \"A\" \"A\" ...\n",
      " $ Ins_prov: chr [1:38735] \"福建省\" \"山东省\" \"山东省\" \"山西省\" ...\n",
      " $ Ins_city: chr [1:38735] \"宁德市\" \"临沂市\" \"青岛市\" \"大同市\" ...\n"
     ]
    }
   ],
   "source": [
    "str(Ins_exit2)"
   ]
  },
  {
   "cell_type": "code",
   "execution_count": null,
   "metadata": {
    "vscode": {
     "languageId": "r"
    }
   },
   "outputs": [],
   "source": [
    "validation_result2 = validate_insurance_types(Ins_exit2)"
   ]
  },
  {
   "cell_type": "code",
   "execution_count": null,
   "metadata": {
    "vscode": {
     "languageId": "r"
    }
   },
   "outputs": [
    {
     "name": "stdout",
     "output_type": "stream",
     "text": [
      "\u001b[90m# A tibble: 13 × 3\u001b[39m\n",
      "   Intype3 Intype       count\n",
      "   \u001b[3m\u001b[90m<chr>\u001b[39m\u001b[23m   \u001b[3m\u001b[90m<chr>\u001b[39m\u001b[23m        \u001b[3m\u001b[90m<int>\u001b[39m\u001b[23m\n",
      "\u001b[90m 1\u001b[39m A       政策性银行      96\n",
      "\u001b[90m 2\u001b[39m B       商业银行     \u001b[4m2\u001b[24m\u001b[4m6\u001b[24m260\n",
      "\u001b[90m 3\u001b[39m C       农村合作银行   500\n",
      "\u001b[90m 4\u001b[39m D       城市信用社      93\n",
      "\u001b[90m 5\u001b[39m E       农村信用社   \u001b[4m1\u001b[24m\u001b[4m1\u001b[24m038\n",
      "\u001b[90m 6\u001b[39m F       资金互助社      20\n",
      "\u001b[90m 7\u001b[39m I       邮政储蓄网点   365\n",
      "\u001b[90m 8\u001b[39m K       信托公司         2\n",
      "\u001b[90m 9\u001b[39m L       财务公司        34\n",
      "\u001b[90m10\u001b[39m M       金融租赁公司     2\n",
      "\u001b[90m11\u001b[39m Q       贷款公司        13\n",
      "\u001b[90m12\u001b[39m S       村镇银行       311\n",
      "\u001b[90m13\u001b[39m Z       其他金融机构     1\n"
     ]
    }
   ],
   "source": [
    "# Print the validation result\n",
    "print(validation_result2)"
   ]
  },
  {
   "cell_type": "markdown",
   "metadata": {},
   "source": [
    "### 8.3.5-生成df3"
   ]
  },
  {
   "cell_type": "code",
   "execution_count": null,
   "metadata": {
    "vscode": {
     "languageId": "r"
    }
   },
   "outputs": [],
   "source": [
    "Ins_entry3 <- Ins_entry2 %>% filter(Intype3 %in% c(\"B\", \"C\", \"D\", \"E\", \"S\"))"
   ]
  },
  {
   "cell_type": "code",
   "execution_count": null,
   "metadata": {
    "vscode": {
     "languageId": "r"
    }
   },
   "outputs": [],
   "source": [
    "Ins_exit3 <- Ins_exit2 %>% filter(Intype3 %in% c(\"B\", \"C\", \"D\", \"E\", \"S\"))"
   ]
  },
  {
   "cell_type": "code",
   "execution_count": null,
   "metadata": {
    "vscode": {
     "languageId": "r"
    }
   },
   "outputs": [
    {
     "name": "stdout",
     "output_type": "stream",
     "text": [
      "tibble [38,202 × 14] (S3: tbl_df/tbl/data.frame)\n",
      " $ Inscode : chr [1:38202] \"B0001G211000002\" \"B0001G232010001\" \"B0001G237010001\" \"B0001K231000002\" ...\n",
      " $ Intype  : chr [1:38202] \"商业银行\" \"商业银行\" \"商业银行\" \"商业银行\" ...\n",
      " $ Insname : chr [1:38202] \"中国工商银行股份有限公司私人银行部北京分部\" \"中国工商银行股份有限公司牡丹卡中心南京分中心\" \"中国工商银行股份有限公司私人银行部济南分部\" \"中国工商银行股份有限公司私人银行部上海分部\" ...\n",
      " $ Insadr  : chr [1:38202] \"北京市朝阳区建国门外大街1号院1号楼国贸大厦28层\" \"南京市汉中路95号\" \"济南市经四路310号银工大厦东副楼二楼\" \"上海市浦明路132号\" ...\n",
      " $ Inscity : chr [1:38202] \"北京市\" \"江苏省-南京市\" \"山东省-济南市\" \"上海市\" ...\n",
      " $ Issdate : Date[1:38202], format: \"2011-05-05\" \"2013-03-26\" ...\n",
      " $ Apprdate: Date[1:38202], format: \"2008-10-17\" \"2002-12-18\" ...\n",
      " $ Exitdt  : Date[1:38202], format: \"2014-08-15\" \"2022-05-13\" ...\n",
      " $ Inscode2: chr [1:38202] \"B0001\" \"B0001\" \"B0001\" \"B0001\" ...\n",
      " $ Insname2: chr [1:38202] \"中国工商银行\" \"中国工商银行\" \"中国工商银行\" \"中国工商银行\" ...\n",
      " $ Intype2 : Factor w/ 13 levels \"财务公司\",\"城市信用社\",..: 9 9 9 9 9 9 9 9 9 9 ...\n",
      " $ Intype3 : chr [1:38202] \"B\" \"B\" \"B\" \"B\" ...\n",
      " $ Ins_prov: chr [1:38202] \"北京市\" \"江苏省\" \"山东省\" \"上海市\" ...\n",
      " $ Ins_city: chr [1:38202] \"北京市\" \"南京市\" \"济南市\" \"上海市\" ...\n"
     ]
    }
   ],
   "source": [
    "str(Ins_exit3)"
   ]
  },
  {
   "cell_type": "code",
   "execution_count": null,
   "metadata": {
    "vscode": {
     "languageId": "r"
    }
   },
   "outputs": [],
   "source": [
    "#注意：因为中间版本调整，所以下面的Ins_entry, Ins_entry2, Ins_entry3名称需要注意。\n",
    "#现在基本对应最初的数据框，经过处理的数据框（比如添加省份），选取银行类型的数据框。"
   ]
  },
  {
   "cell_type": "markdown",
   "metadata": {},
   "source": [
    "### 8.3.6-运行速度比较-注释"
   ]
  },
  {
   "cell_type": "code",
   "execution_count": null,
   "metadata": {
    "vscode": {
     "languageId": "r"
    }
   },
   "outputs": [],
   "source": [
    "#以下内容 可以先 注释"
   ]
  },
  {
   "cell_type": "code",
   "execution_count": null,
   "metadata": {
    "vscode": {
     "languageId": "r"
    }
   },
   "outputs": [
    {
     "data": {
      "text/html": [
       "<table class=\"dataframe\">\n",
       "<caption>A microbenchmark: 20 × 2</caption>\n",
       "<thead>\n",
       "\t<tr><th scope=col>expr</th><th scope=col>time</th></tr>\n",
       "\t<tr><th scope=col>&lt;fct&gt;</th><th scope=col>&lt;dbl&gt;</th></tr>\n",
       "</thead>\n",
       "<tbody>\n",
       "\t<tr><td>code2</td><td>1677887500</td></tr>\n",
       "\t<tr><td>code1</td><td>1549900100</td></tr>\n",
       "\t<tr><td>code2</td><td>2288300700</td></tr>\n",
       "\t<tr><td>code2</td><td>2367746700</td></tr>\n",
       "\t<tr><td>code1</td><td>1478808300</td></tr>\n",
       "\t<tr><td>code2</td><td>2387621800</td></tr>\n",
       "\t<tr><td>code2</td><td>2461381600</td></tr>\n",
       "\t<tr><td>code1</td><td>1581086600</td></tr>\n",
       "\t<tr><td>code1</td><td>2430333100</td></tr>\n",
       "\t<tr><td>code1</td><td>1491206100</td></tr>\n",
       "\t<tr><td>code2</td><td>2285011400</td></tr>\n",
       "\t<tr><td>code1</td><td>1682718000</td></tr>\n",
       "\t<tr><td>code1</td><td>2419445600</td></tr>\n",
       "\t<tr><td>code2</td><td>2113085700</td></tr>\n",
       "\t<tr><td>code1</td><td>1454521200</td></tr>\n",
       "\t<tr><td>code2</td><td>2350098100</td></tr>\n",
       "\t<tr><td>code1</td><td>1529104300</td></tr>\n",
       "\t<tr><td>code1</td><td>2540760000</td></tr>\n",
       "\t<tr><td>code2</td><td>2207168400</td></tr>\n",
       "\t<tr><td>code2</td><td>2256576300</td></tr>\n",
       "</tbody>\n",
       "</table>\n"
      ],
      "text/latex": [
       "A microbenchmark: 20 × 2\n",
       "\\begin{tabular}{ll}\n",
       " expr & time\\\\\n",
       " <fct> & <dbl>\\\\\n",
       "\\hline\n",
       "\t code2 & 1677887500\\\\\n",
       "\t code1 & 1549900100\\\\\n",
       "\t code2 & 2288300700\\\\\n",
       "\t code2 & 2367746700\\\\\n",
       "\t code1 & 1478808300\\\\\n",
       "\t code2 & 2387621800\\\\\n",
       "\t code2 & 2461381600\\\\\n",
       "\t code1 & 1581086600\\\\\n",
       "\t code1 & 2430333100\\\\\n",
       "\t code1 & 1491206100\\\\\n",
       "\t code2 & 2285011400\\\\\n",
       "\t code1 & 1682718000\\\\\n",
       "\t code1 & 2419445600\\\\\n",
       "\t code2 & 2113085700\\\\\n",
       "\t code1 & 1454521200\\\\\n",
       "\t code2 & 2350098100\\\\\n",
       "\t code1 & 1529104300\\\\\n",
       "\t code1 & 2540760000\\\\\n",
       "\t code2 & 2207168400\\\\\n",
       "\t code2 & 2256576300\\\\\n",
       "\\end{tabular}\n"
      ],
      "text/markdown": [
       "\n",
       "A microbenchmark: 20 × 2\n",
       "\n",
       "| expr &lt;fct&gt; | time &lt;dbl&gt; |\n",
       "|---|---|\n",
       "| code2 | 1677887500 |\n",
       "| code1 | 1549900100 |\n",
       "| code2 | 2288300700 |\n",
       "| code2 | 2367746700 |\n",
       "| code1 | 1478808300 |\n",
       "| code2 | 2387621800 |\n",
       "| code2 | 2461381600 |\n",
       "| code1 | 1581086600 |\n",
       "| code1 | 2430333100 |\n",
       "| code1 | 1491206100 |\n",
       "| code2 | 2285011400 |\n",
       "| code1 | 1682718000 |\n",
       "| code1 | 2419445600 |\n",
       "| code2 | 2113085700 |\n",
       "| code1 | 1454521200 |\n",
       "| code2 | 2350098100 |\n",
       "| code1 | 1529104300 |\n",
       "| code1 | 2540760000 |\n",
       "| code2 | 2207168400 |\n",
       "| code2 | 2256576300 |\n",
       "\n"
      ],
      "text/plain": [
       "   expr  time      \n",
       "1  code2 1677887500\n",
       "2  code1 1549900100\n",
       "3  code2 2288300700\n",
       "4  code2 2367746700\n",
       "5  code1 1478808300\n",
       "6  code2 2387621800\n",
       "7  code2 2461381600\n",
       "8  code1 1581086600\n",
       "9  code1 2430333100\n",
       "10 code1 1491206100\n",
       "11 code2 2285011400\n",
       "12 code1 1682718000\n",
       "13 code1 2419445600\n",
       "14 code2 2113085700\n",
       "15 code1 1454521200\n",
       "16 code2 2350098100\n",
       "17 code1 1529104300\n",
       "18 code1 2540760000\n",
       "19 code2 2207168400\n",
       "20 code2 2256576300"
      ]
     },
     "metadata": {},
     "output_type": "display_data"
    }
   ],
   "source": [
    "# #crossing-uncount速度对比\n",
    "# microbenchmark(\n",
    "#   code1 = {\n",
    "#     years = 1984:2024\n",
    "#     Ins_4 <- Ins_entry %>% crossing(year = years)\n",
    "#   },\n",
    "#   code2 = {\n",
    "#     Ins_4b <- Ins_entry %>% \n",
    "#       mutate(freq = 2024-1984+1) %>% \n",
    "#       uncount(freq) %>%\n",
    "#       group_by(Inscode) %>%\n",
    "#       mutate(year = 1984:2024) %>%\n",
    "#       ungroup()\n",
    "#   },\n",
    "#   times = 10\n",
    "# )"
   ]
  },
  {
   "cell_type": "code",
   "execution_count": null,
   "metadata": {
    "vscode": {
     "languageId": "r"
    }
   },
   "outputs": [],
   "source": [
    "# #crossing-uncount速度对比\n",
    "# microbenchmark(\n",
    "#   code1 = {\n",
    "#     years = 1984:2024\n",
    "#     Ins_4 <- Ins_entry %>% crossing(year = years)\n",
    "#   },\n",
    "#   code2 = {\n",
    "#     Ins_4b <- Ins_entry %>% \n",
    "#       mutate(freq = 2024-1984+1) %>% \n",
    "#       uncount(freq) %>%\n",
    "#       group_by(Inscode) %>%\n",
    "#       mutate(year = 1984:2024) %>%\n",
    "#       ungroup()\n",
    "#   },\n",
    "#   code3 = {\n",
    "#   Ins_4c <- setDT(Ins_entry)[, .(year = 1984:2024), by = .(Inscode)]\n",
    "# },\n",
    "#   times = 10\n",
    "# )"
   ]
  },
  {
   "cell_type": "code",
   "execution_count": null,
   "metadata": {
    "vscode": {
     "languageId": "r"
    }
   },
   "outputs": [
    {
     "data": {
      "text/html": [
       "<table class=\"dataframe\">\n",
       "<caption>A microbenchmark: 30 × 2</caption>\n",
       "<thead>\n",
       "\t<tr><th scope=col>expr</th><th scope=col>time</th></tr>\n",
       "\t<tr><th scope=col>&lt;fct&gt;</th><th scope=col>&lt;dbl&gt;</th></tr>\n",
       "</thead>\n",
       "<tbody>\n",
       "\t<tr><td>code2</td><td>1465660500</td></tr>\n",
       "\t<tr><td>code3</td><td> 565325300</td></tr>\n",
       "\t<tr><td>code1</td><td>2269470900</td></tr>\n",
       "\t<tr><td>code2</td><td>1563565400</td></tr>\n",
       "\t<tr><td>code1</td><td>1671480400</td></tr>\n",
       "\t<tr><td>code2</td><td>2045950700</td></tr>\n",
       "\t<tr><td>code3</td><td>1170355500</td></tr>\n",
       "\t<tr><td>code2</td><td>1736629000</td></tr>\n",
       "\t<tr><td>code2</td><td>2065278900</td></tr>\n",
       "\t<tr><td>code3</td><td> 622632300</td></tr>\n",
       "\t<tr><td>code2</td><td>2355731600</td></tr>\n",
       "\t<tr><td>code1</td><td>1598109100</td></tr>\n",
       "\t<tr><td>code1</td><td>1913013700</td></tr>\n",
       "\t<tr><td>code3</td><td>1022290500</td></tr>\n",
       "\t<tr><td>code1</td><td>1686678400</td></tr>\n",
       "\t<tr><td>code3</td><td> 582249800</td></tr>\n",
       "\t<tr><td>code1</td><td>1544277900</td></tr>\n",
       "\t<tr><td>code2</td><td>2167772400</td></tr>\n",
       "\t<tr><td>code2</td><td>2345228200</td></tr>\n",
       "\t<tr><td>code3</td><td> 485889900</td></tr>\n",
       "\t<tr><td>code3</td><td> 538759000</td></tr>\n",
       "\t<tr><td>code2</td><td>2411090300</td></tr>\n",
       "\t<tr><td>code1</td><td>1462075000</td></tr>\n",
       "\t<tr><td>code3</td><td> 557505000</td></tr>\n",
       "\t<tr><td>code3</td><td> 605629500</td></tr>\n",
       "\t<tr><td>code3</td><td>1031547500</td></tr>\n",
       "\t<tr><td>code1</td><td>1466436000</td></tr>\n",
       "\t<tr><td>code1</td><td>1512802500</td></tr>\n",
       "\t<tr><td>code1</td><td>1778954200</td></tr>\n",
       "\t<tr><td>code2</td><td>2432352300</td></tr>\n",
       "</tbody>\n",
       "</table>\n"
      ],
      "text/latex": [
       "A microbenchmark: 30 × 2\n",
       "\\begin{tabular}{ll}\n",
       " expr & time\\\\\n",
       " <fct> & <dbl>\\\\\n",
       "\\hline\n",
       "\t code2 & 1465660500\\\\\n",
       "\t code3 &  565325300\\\\\n",
       "\t code1 & 2269470900\\\\\n",
       "\t code2 & 1563565400\\\\\n",
       "\t code1 & 1671480400\\\\\n",
       "\t code2 & 2045950700\\\\\n",
       "\t code3 & 1170355500\\\\\n",
       "\t code2 & 1736629000\\\\\n",
       "\t code2 & 2065278900\\\\\n",
       "\t code3 &  622632300\\\\\n",
       "\t code2 & 2355731600\\\\\n",
       "\t code1 & 1598109100\\\\\n",
       "\t code1 & 1913013700\\\\\n",
       "\t code3 & 1022290500\\\\\n",
       "\t code1 & 1686678400\\\\\n",
       "\t code3 &  582249800\\\\\n",
       "\t code1 & 1544277900\\\\\n",
       "\t code2 & 2167772400\\\\\n",
       "\t code2 & 2345228200\\\\\n",
       "\t code3 &  485889900\\\\\n",
       "\t code3 &  538759000\\\\\n",
       "\t code2 & 2411090300\\\\\n",
       "\t code1 & 1462075000\\\\\n",
       "\t code3 &  557505000\\\\\n",
       "\t code3 &  605629500\\\\\n",
       "\t code3 & 1031547500\\\\\n",
       "\t code1 & 1466436000\\\\\n",
       "\t code1 & 1512802500\\\\\n",
       "\t code1 & 1778954200\\\\\n",
       "\t code2 & 2432352300\\\\\n",
       "\\end{tabular}\n"
      ],
      "text/markdown": [
       "\n",
       "A microbenchmark: 30 × 2\n",
       "\n",
       "| expr &lt;fct&gt; | time &lt;dbl&gt; |\n",
       "|---|---|\n",
       "| code2 | 1465660500 |\n",
       "| code3 |  565325300 |\n",
       "| code1 | 2269470900 |\n",
       "| code2 | 1563565400 |\n",
       "| code1 | 1671480400 |\n",
       "| code2 | 2045950700 |\n",
       "| code3 | 1170355500 |\n",
       "| code2 | 1736629000 |\n",
       "| code2 | 2065278900 |\n",
       "| code3 |  622632300 |\n",
       "| code2 | 2355731600 |\n",
       "| code1 | 1598109100 |\n",
       "| code1 | 1913013700 |\n",
       "| code3 | 1022290500 |\n",
       "| code1 | 1686678400 |\n",
       "| code3 |  582249800 |\n",
       "| code1 | 1544277900 |\n",
       "| code2 | 2167772400 |\n",
       "| code2 | 2345228200 |\n",
       "| code3 |  485889900 |\n",
       "| code3 |  538759000 |\n",
       "| code2 | 2411090300 |\n",
       "| code1 | 1462075000 |\n",
       "| code3 |  557505000 |\n",
       "| code3 |  605629500 |\n",
       "| code3 | 1031547500 |\n",
       "| code1 | 1466436000 |\n",
       "| code1 | 1512802500 |\n",
       "| code1 | 1778954200 |\n",
       "| code2 | 2432352300 |\n",
       "\n"
      ],
      "text/plain": [
       "   expr  time      \n",
       "1  code2 1465660500\n",
       "2  code3  565325300\n",
       "3  code1 2269470900\n",
       "4  code2 1563565400\n",
       "5  code1 1671480400\n",
       "6  code2 2045950700\n",
       "7  code3 1170355500\n",
       "8  code2 1736629000\n",
       "9  code2 2065278900\n",
       "10 code3  622632300\n",
       "11 code2 2355731600\n",
       "12 code1 1598109100\n",
       "13 code1 1913013700\n",
       "14 code3 1022290500\n",
       "15 code1 1686678400\n",
       "16 code3  582249800\n",
       "17 code1 1544277900\n",
       "18 code2 2167772400\n",
       "19 code2 2345228200\n",
       "20 code3  485889900\n",
       "21 code3  538759000\n",
       "22 code2 2411090300\n",
       "23 code1 1462075000\n",
       "24 code3  557505000\n",
       "25 code3  605629500\n",
       "26 code3 1031547500\n",
       "27 code1 1466436000\n",
       "28 code1 1512802500\n",
       "29 code1 1778954200\n",
       "30 code2 2432352300"
      ]
     },
     "metadata": {},
     "output_type": "display_data"
    }
   ],
   "source": [
    "# microbenchmark(\n",
    "#   code1 = {\n",
    "#     years = 1984:2024\n",
    "#     Ins_4 <- Ins_entry %>% crossing(year = years)\n",
    "#   },\n",
    "#   code2 = {\n",
    "#     Ins_4b <- Ins_entry %>% \n",
    "#       mutate(freq = 2024-1984+1) %>% \n",
    "#       uncount(freq) %>%\n",
    "#       group_by(Inscode) %>%\n",
    "#       mutate(year = 1984:2024) %>%\n",
    "#       ungroup()\n",
    "#   },\n",
    "#   code3 = {\n",
    "#     Ins_4c <- setDT(Ins_entry)[, .(year = 1984:2024), by = .(Inscode)]\n",
    "#   },\n",
    "#   times = 10\n",
    "# )"
   ]
  },
  {
   "cell_type": "code",
   "execution_count": null,
   "metadata": {
    "vscode": {
     "languageId": "r"
    }
   },
   "outputs": [
    {
     "ename": "ERROR",
     "evalue": "\u001b[1m\u001b[33mError\u001b[39m in `select()`:\u001b[22m\n\u001b[33m!\u001b[39m Can't subset columns that don't exist.\n\u001b[31m✖\u001b[39m Column `sd` doesn't exist.\n",
     "output_type": "error",
     "traceback": [
      "\u001b[1m\u001b[33mError\u001b[39m in `select()`:\u001b[22m\n",
      "\u001b[33m!\u001b[39m Can't subset columns that don't exist.\n",
      "\u001b[31m✖\u001b[39m Column `sd` doesn't exist.\n",
      "Traceback:\n",
      "\n",
      "1. summary(benchmark_results) %>% as.data.frame() %>% select(expr, \n",
      " .     mean, sd) %>% mutate(mean_seconds = mean/1e+09, sd_seconds = sd/1e+09, \n",
      " .     mean_ms = mean/1e+06, sd_ms = sd/1e+06)\n",
      "2. mutate(., mean_seconds = mean/1e+09, sd_seconds = sd/1e+09, mean_ms = mean/1e+06, \n",
      " .     sd_ms = sd/1e+06)\n",
      "3. select(., expr, mean, sd)\n",
      "4. select.data.frame(., expr, mean, sd)\n",
      "5. tidyselect::eval_select(expr(c(...)), data = .data, error_call = error_call)\n",
      "6. eval_select_impl(data, names(data), as_quosure(expr, env), include = include, \n",
      " .     exclude = exclude, strict = strict, name_spec = name_spec, \n",
      " .     allow_rename = allow_rename, allow_empty = allow_empty, allow_predicates = allow_predicates, \n",
      " .     error_call = error_call, )\n",
      "7. with_subscript_errors(out <- vars_select_eval(vars, expr, strict = strict, \n",
      " .     data = x, name_spec = name_spec, uniquely_named = uniquely_named, \n",
      " .     allow_rename = allow_rename, allow_empty = allow_empty, allow_predicates = allow_predicates, \n",
      " .     type = type, error_call = error_call), type = type)\n",
      "8. try_fetch(expr, vctrs_error_subscript = function(cnd) {\n",
      " .     cnd$subscript_action <- subscript_action(type)\n",
      " .     cnd$subscript_elt <- \"column\"\n",
      " .     cnd_signal(cnd)\n",
      " . })\n",
      "9. withCallingHandlers(expr, condition = function(cnd) {\n",
      " .     {\n",
      " .         .__handler_frame__. <- TRUE\n",
      " .         .__setup_frame__. <- frame\n",
      " .         if (inherits(cnd, \"message\")) {\n",
      " .             except <- c(\"warning\", \"error\")\n",
      " .         }\n",
      " .         else if (inherits(cnd, \"warning\")) {\n",
      " .             except <- \"error\"\n",
      " .         }\n",
      " .         else {\n",
      " .             except <- \"\"\n",
      " .         }\n",
      " .     }\n",
      " .     while (!is_null(cnd)) {\n",
      " .         if (inherits(cnd, \"vctrs_error_subscript\")) {\n",
      " .             out <- handlers[[1L]](cnd)\n",
      " .             if (!inherits(out, \"rlang_zap\")) \n",
      " .                 throw(out)\n",
      " .         }\n",
      " .         inherit <- .subset2(.subset2(cnd, \"rlang\"), \"inherit\")\n",
      " .         if (is_false(inherit)) {\n",
      " .             return()\n",
      " .         }\n",
      " .         cnd <- .subset2(cnd, \"parent\")\n",
      " .     }\n",
      " . })\n",
      "10. vars_select_eval(vars, expr, strict = strict, data = x, name_spec = name_spec, \n",
      "  .     uniquely_named = uniquely_named, allow_rename = allow_rename, \n",
      "  .     allow_empty = allow_empty, allow_predicates = allow_predicates, \n",
      "  .     type = type, error_call = error_call)\n",
      "11. walk_data_tree(expr, data_mask, context_mask)\n",
      "12. eval_c(expr, data_mask, context_mask)\n",
      "13. reduce_sels(node, data_mask, context_mask, init = init)\n",
      "14. walk_data_tree(new, data_mask, context_mask)\n",
      "15. as_indices_sel_impl(out, vars = vars, strict = strict, data = data, \n",
      "  .     allow_predicates = allow_predicates, call = error_call, arg = as_label(expr))\n",
      "16. as_indices_impl(x, vars, call = call, arg = arg, strict = strict)\n",
      "17. chr_as_locations(x, vars, call = call, arg = arg)\n",
      "18. vctrs::vec_as_location(x, n = length(vars), names = vars, call = call, \n",
      "  .     arg = arg)\n",
      "19. (function () \n",
      "  . stop_subscript_oob(i = i, subscript_type = subscript_type, names = names, \n",
      "  .     subscript_action = subscript_action, subscript_arg = subscript_arg, \n",
      "  .     call = call))()\n",
      "20. stop_subscript_oob(i = i, subscript_type = subscript_type, names = names, \n",
      "  .     subscript_action = subscript_action, subscript_arg = subscript_arg, \n",
      "  .     call = call)\n",
      "21. stop_subscript(class = \"vctrs_error_subscript_oob\", i = i, subscript_type = subscript_type, \n",
      "  .     ..., call = call)\n",
      "22. abort(class = c(class, \"vctrs_error_subscript\"), i = i, ..., \n",
      "  .     call = call)\n",
      "23. signal_abort(cnd, .file)\n",
      "24. signalCondition(cnd)\n",
      "25. (function (cnd) \n",
      "  . {\n",
      "  .     {\n",
      "  .         .__handler_frame__. <- TRUE\n",
      "  .         .__setup_frame__. <- frame\n",
      "  .         if (inherits(cnd, \"message\")) {\n",
      "  .             except <- c(\"warning\", \"error\")\n",
      "  .         }\n",
      "  .         else if (inherits(cnd, \"warning\")) {\n",
      "  .             except <- \"error\"\n",
      "  .         }\n",
      "  .         else {\n",
      "  .             except <- \"\"\n",
      "  .         }\n",
      "  .     }\n",
      "  .     while (!is_null(cnd)) {\n",
      "  .         if (inherits(cnd, \"vctrs_error_subscript\")) {\n",
      "  .             out <- handlers[[1L]](cnd)\n",
      "  .             if (!inherits(out, \"rlang_zap\")) \n",
      "  .                 throw(out)\n",
      "  .         }\n",
      "  .         inherit <- .subset2(.subset2(cnd, \"rlang\"), \"inherit\")\n",
      "  .         if (is_false(inherit)) {\n",
      "  .             return()\n",
      "  .         }\n",
      "  .         cnd <- .subset2(cnd, \"parent\")\n",
      "  .     }\n",
      "  . })(structure(list(message = \"\", trace = structure(list(call = list(\n",
      "  .     IRkernel::main(), kernel$run(), handle_shell(), executor$execute(msg), \n",
      "  .     tryCatch(evaluate(request$content$code, envir = .GlobalEnv, \n",
      "  .         output_handler = oh, stop_on_error = 1L), interrupt = function(cond) {\n",
      "  .         log_debug(\"Interrupt during execution\")\n",
      "  .         interrupted <<- TRUE\n",
      "  .     }, error = .self$handle_error), tryCatchList(expr, classes, \n",
      "  .         parentenv, handlers), tryCatchOne(tryCatchList(expr, \n",
      "  .         names[-nh], parentenv, handlers[-nh]), names[nh], parentenv, \n",
      "  .         handlers[[nh]]), doTryCatch(return(expr), name, parentenv, \n",
      "  .         handler), tryCatchList(expr, names[-nh], parentenv, handlers[-nh]), \n",
      "  .     tryCatchOne(expr, names, parentenv, handlers[[1L]]), doTryCatch(return(expr), \n",
      "  .         name, parentenv, handler), evaluate(request$content$code, \n",
      "  .         envir = .GlobalEnv, output_handler = oh, stop_on_error = 1L), \n",
      "  .     evaluate_call(expr, parsed$src[[i]], envir = envir, enclos = enclos, \n",
      "  .         debug = debug, last = i == length(out), use_try = stop_on_error != \n",
      "  .             2L, keep_warning = keep_warning, keep_message = keep_message, \n",
      "  .         log_echo = log_echo, log_warning = log_warning, output_handler = output_handler, \n",
      "  .         include_timing = include_timing), timing_fn(handle(ev <- withCallingHandlers(withVisible(eval_with_user_handlers(expr, \n",
      "  .         envir, enclos, user_handlers)), warning = wHandler, error = eHandler, \n",
      "  .         message = mHandler))), handle(ev <- withCallingHandlers(withVisible(eval_with_user_handlers(expr, \n",
      "  .         envir, enclos, user_handlers)), warning = wHandler, error = eHandler, \n",
      "  .         message = mHandler)), try(f, silent = TRUE), tryCatch(expr, \n",
      "  .         error = function(e) {\n",
      "  .             call <- conditionCall(e)\n",
      "  .             if (!is.null(call)) {\n",
      "  .                 if (identical(call[[1L]], quote(doTryCatch))) \n",
      "  .                   call <- sys.call(-4L)\n",
      "  .                 dcall <- deparse(call, nlines = 1L)\n",
      "  .                 prefix <- paste(\"Error in\", dcall, \": \")\n",
      "  .                 LONG <- 75L\n",
      "  .                 sm <- strsplit(conditionMessage(e), \"\\n\")[[1L]]\n",
      "  .                 w <- 14L + nchar(dcall, type = \"w\") + nchar(sm[1L], \n",
      "  .                   type = \"w\")\n",
      "  .                 if (is.na(w)) \n",
      "  .                   w <- 14L + nchar(dcall, type = \"b\") + nchar(sm[1L], \n",
      "  .                     type = \"b\")\n",
      "  .                 if (w > LONG) \n",
      "  .                   prefix <- paste0(prefix, \"\\n  \")\n",
      "  .             }\n",
      "  .             else prefix <- \"Error : \"\n",
      "  .             msg <- paste0(prefix, conditionMessage(e), \"\\n\")\n",
      "  .             .Internal(seterrmessage(msg[1L]))\n",
      "  .             if (!silent && isTRUE(getOption(\"show.error.messages\"))) {\n",
      "  .                 cat(msg, file = outFile)\n",
      "  .                 .Internal(printDeferredWarnings())\n",
      "  .             }\n",
      "  .             invisible(structure(msg, class = \"try-error\", condition = e))\n",
      "  .         }), tryCatchList(expr, classes, parentenv, handlers), \n",
      "  .     tryCatchOne(expr, names, parentenv, handlers[[1L]]), doTryCatch(return(expr), \n",
      "  .         name, parentenv, handler), withCallingHandlers(withVisible(eval_with_user_handlers(expr, \n",
      "  .         envir, enclos, user_handlers)), warning = wHandler, error = eHandler, \n",
      "  .         message = mHandler), withVisible(eval_with_user_handlers(expr, \n",
      "  .         envir, enclos, user_handlers)), eval_with_user_handlers(expr, \n",
      "  .         envir, enclos, user_handlers), eval(expr, envir, enclos), \n",
      "  .     eval(expr, envir, enclos), summary(benchmark_results) %>% \n",
      "  .         as.data.frame() %>% select(expr, mean, sd) %>% mutate(mean_seconds = mean/1e+09, \n",
      "  .         sd_seconds = sd/1e+09, mean_ms = mean/1e+06, sd_ms = sd/1e+06), \n",
      "  .     mutate(., mean_seconds = mean/1e+09, sd_seconds = sd/1e+09, \n",
      "  .         mean_ms = mean/1e+06, sd_ms = sd/1e+06), select(., expr, \n",
      "  .         mean, sd), select.data.frame(., expr, mean, sd), tidyselect::eval_select(expr(c(...)), \n",
      "  .         data = .data, error_call = error_call), eval_select_impl(data, \n",
      "  .         names(data), as_quosure(expr, env), include = include, \n",
      "  .         exclude = exclude, strict = strict, name_spec = name_spec, \n",
      "  .         allow_rename = allow_rename, allow_empty = allow_empty, \n",
      "  .         allow_predicates = allow_predicates, error_call = error_call, \n",
      "  .         ), with_subscript_errors(out <- vars_select_eval(vars, \n",
      "  .         expr, strict = strict, data = x, name_spec = name_spec, \n",
      "  .         uniquely_named = uniquely_named, allow_rename = allow_rename, \n",
      "  .         allow_empty = allow_empty, allow_predicates = allow_predicates, \n",
      "  .         type = type, error_call = error_call), type = type), \n",
      "  .     try_fetch(expr, vctrs_error_subscript = function(cnd) {\n",
      "  .         cnd$subscript_action <- subscript_action(type)\n",
      "  .         cnd$subscript_elt <- \"column\"\n",
      "  .         cnd_signal(cnd)\n",
      "  .     }), withCallingHandlers(expr, condition = function(cnd) {\n",
      "  .         {\n",
      "  .             .__handler_frame__. <- TRUE\n",
      "  .             .__setup_frame__. <- frame\n",
      "  .             if (inherits(cnd, \"message\")) {\n",
      "  .                 except <- c(\"warning\", \"error\")\n",
      "  .             }\n",
      "  .             else if (inherits(cnd, \"warning\")) {\n",
      "  .                 except <- \"error\"\n",
      "  .             }\n",
      "  .             else {\n",
      "  .                 except <- \"\"\n",
      "  .             }\n",
      "  .         }\n",
      "  .         while (!is_null(cnd)) {\n",
      "  .             if (inherits(cnd, \"vctrs_error_subscript\")) {\n",
      "  .                 out <- handlers[[1L]](cnd)\n",
      "  .                 if (!inherits(out, \"rlang_zap\")) \n",
      "  .                   throw(out)\n",
      "  .             }\n",
      "  .             inherit <- .subset2(.subset2(cnd, \"rlang\"), \"inherit\")\n",
      "  .             if (is_false(inherit)) {\n",
      "  .                 return()\n",
      "  .             }\n",
      "  .             cnd <- .subset2(cnd, \"parent\")\n",
      "  .         }\n",
      "  .     }), vars_select_eval(vars, expr, strict = strict, data = x, \n",
      "  .         name_spec = name_spec, uniquely_named = uniquely_named, \n",
      "  .         allow_rename = allow_rename, allow_empty = allow_empty, \n",
      "  .         allow_predicates = allow_predicates, type = type, error_call = error_call), \n",
      "  .     walk_data_tree(expr, data_mask, context_mask), eval_c(expr, \n",
      "  .         data_mask, context_mask), reduce_sels(node, data_mask, \n",
      "  .         context_mask, init = init), walk_data_tree(new, data_mask, \n",
      "  .         context_mask), as_indices_sel_impl(out, vars = vars, \n",
      "  .         strict = strict, data = data, allow_predicates = allow_predicates, \n",
      "  .         call = error_call, arg = as_label(expr)), as_indices_impl(x, \n",
      "  .         vars, call = call, arg = arg, strict = strict), chr_as_locations(x, \n",
      "  .         vars, call = call, arg = arg), vctrs::vec_as_location(x, \n",
      "  .         n = length(vars), names = vars, call = call, arg = arg), \n",
      "  .     `<fn>`(), stop_subscript_oob(i = i, subscript_type = subscript_type, \n",
      "  .         names = names, subscript_action = subscript_action, subscript_arg = subscript_arg, \n",
      "  .         call = call), stop_subscript(class = \"vctrs_error_subscript_oob\", \n",
      "  .         i = i, subscript_type = subscript_type, ..., call = call), \n",
      "  .     abort(class = c(class, \"vctrs_error_subscript\"), i = i, ..., \n",
      "  .         call = call)), parent = c(0L, 1L, 2L, 3L, 4L, 5L, 6L, \n",
      "  . 7L, 6L, 9L, 10L, 4L, 12L, 13L, 13L, 15L, 16L, 17L, 18L, 19L, \n",
      "  . 13L, 13L, 13L, 23L, 24L, 0L, 0L, 0L, 0L, 29L, 30L, 31L, 32L, \n",
      "  . 33L, 31L, 35L, 36L, 37L, 38L, 39L, 40L, 41L, 42L, 0L, 44L, 45L, \n",
      "  . 46L), visible = c(TRUE, TRUE, TRUE, TRUE, TRUE, TRUE, TRUE, TRUE, \n",
      "  . TRUE, TRUE, TRUE, TRUE, TRUE, TRUE, TRUE, TRUE, TRUE, TRUE, TRUE, \n",
      "  . TRUE, TRUE, TRUE, TRUE, TRUE, TRUE, TRUE, TRUE, TRUE, TRUE, FALSE, \n",
      "  . FALSE, FALSE, FALSE, FALSE, FALSE, FALSE, FALSE, FALSE, FALSE, \n",
      "  . FALSE, FALSE, FALSE, FALSE, FALSE, FALSE, FALSE, FALSE), namespace = c(\"IRkernel\", \n",
      "  . NA, \"IRkernel\", NA, \"base\", \"base\", \"base\", \"base\", \"base\", \"base\", \n",
      "  . \"base\", \"evaluate\", \"evaluate\", \"evaluate\", \"evaluate\", \"base\", \n",
      "  . \"base\", \"base\", \"base\", \"base\", \"base\", \"base\", \"evaluate\", \"base\", \n",
      "  . \"base\", NA, \"dplyr\", \"dplyr\", \"dplyr\", \"tidyselect\", \"tidyselect\", \n",
      "  . \"tidyselect\", \"rlang\", \"base\", \"tidyselect\", \"tidyselect\", \"tidyselect\", \n",
      "  . \"tidyselect\", \"tidyselect\", \"tidyselect\", \"tidyselect\", \"tidyselect\", \n",
      "  . \"vctrs\", \"vctrs\", \"vctrs\", \"vctrs\", \"rlang\"), scope = c(\"::\", \n",
      "  . NA, \"local\", NA, \"::\", \"local\", \"local\", \"local\", \"local\", \"local\", \n",
      "  . \"local\", \"::\", \":::\", \"local\", \"local\", \"::\", \"::\", \"local\", \n",
      "  . \"local\", \"local\", \"::\", \"::\", \":::\", \"::\", \"::\", NA, \"::\", \"::\", \n",
      "  . \":::\", \"::\", \":::\", \":::\", \"::\", \"::\", \":::\", \":::\", \":::\", \":::\", \n",
      "  . \":::\", \":::\", \":::\", \":::\", \"::\", \"local\", \":::\", \":::\", \"::\"\n",
      "  . ), error_frame = c(FALSE, FALSE, FALSE, FALSE, FALSE, FALSE, \n",
      "  . FALSE, FALSE, FALSE, FALSE, FALSE, FALSE, FALSE, FALSE, FALSE, \n",
      "  . FALSE, FALSE, FALSE, FALSE, FALSE, FALSE, FALSE, FALSE, FALSE, \n",
      "  . FALSE, FALSE, FALSE, FALSE, TRUE, FALSE, FALSE, FALSE, FALSE, \n",
      "  . FALSE, FALSE, FALSE, FALSE, FALSE, FALSE, FALSE, FALSE, FALSE, \n",
      "  . FALSE, FALSE, FALSE, FALSE, FALSE)), row.names = c(NA, -47L), version = 2L, class = c(\"rlang_trace\", \n",
      "  . \"rlib_trace\", \"tbl\", \"data.frame\")), parent = NULL, i = \"sd\", \n",
      "  .     subscript_type = \"character\", names = c(\"expr\", \"min\", \"lq\", \n",
      "  .     \"mean\", \"median\", \"uq\", \"max\", \"neval\"), subscript_action = NULL, \n",
      "  .     subscript_arg = \"sd\", rlang = list(inherit = TRUE), call = select(., \n",
      "  .         expr, mean, sd)), class = c(\"vctrs_error_subscript_oob\", \n",
      "  . \"vctrs_error_subscript\", \"rlang_error\", \"error\", \"condition\")))\n",
      "26. handlers[[1L]](cnd)\n",
      "27. cnd_signal(cnd)\n",
      "28. signal_abort(cnd)"
     ]
    }
   ],
   "source": [
    "# # Run the microbenchmark\n",
    "# benchmark_results <- microbenchmark(\n",
    "#   code1 = {\n",
    "#     years = 1984:2024\n",
    "#     Ins_4 <- Ins_entry %>% crossing(year = years)\n",
    "#   },\n",
    "#   code2 = {\n",
    "#     Ins_4b <- Ins_entry %>% \n",
    "#       mutate(freq = 2024-1984+1) %>% \n",
    "#       uncount(freq) %>%\n",
    "#       group_by(Inscode) %>%\n",
    "#       mutate(year = 1984:2024) %>%\n",
    "#       ungroup()\n",
    "#   },\n",
    "#   code3 = {\n",
    "#     Ins_4c <- setDT(Ins_entry)[, .(year = 1984:2024), by = .(Inscode)]\n",
    "#   },\n",
    "#   times = 10\n",
    "# )\n",
    "\n"
   ]
  },
  {
   "cell_type": "code",
   "execution_count": null,
   "metadata": {
    "vscode": {
     "languageId": "r"
    }
   },
   "outputs": [
    {
     "name": "stdout",
     "output_type": "stream",
     "text": [
      "\u001b[90m# A tibble: 3 × 7\u001b[39m\n",
      "  expr        mean         sd mean_seconds sd_seconds mean_ms sd_ms\n",
      "  \u001b[3m\u001b[90m<fct>\u001b[39m\u001b[23m      \u001b[3m\u001b[90m<dbl>\u001b[39m\u001b[23m      \u001b[3m\u001b[90m<dbl>\u001b[39m\u001b[23m        \u001b[3m\u001b[90m<dbl>\u001b[39m\u001b[23m      \u001b[3m\u001b[90m<dbl>\u001b[39m\u001b[23m   \u001b[3m\u001b[90m<dbl>\u001b[39m\u001b[23m \u001b[3m\u001b[90m<dbl>\u001b[39m\u001b[23m\n",
      "\u001b[90m1\u001b[39m code1 \u001b[4m1\u001b[24m699\u001b[4m2\u001b[24m\u001b[4m8\u001b[24m\u001b[4m7\u001b[24m980 322\u001b[4m1\u001b[24m\u001b[4m1\u001b[24m\u001b[4m5\u001b[24m773.        1.70       0.322   \u001b[4m1\u001b[24m699.  322.\n",
      "\u001b[90m2\u001b[39m code2 \u001b[4m2\u001b[24m255\u001b[4m8\u001b[24m\u001b[4m8\u001b[24m\u001b[4m8\u001b[24m290 315\u001b[4m6\u001b[24m\u001b[4m4\u001b[24m\u001b[4m6\u001b[24m943.        2.26       0.316   \u001b[4m2\u001b[24m256.  316.\n",
      "\u001b[90m3\u001b[39m code3  585\u001b[4m0\u001b[24m\u001b[4m5\u001b[24m\u001b[4m1\u001b[24m540 100\u001b[4m0\u001b[24m\u001b[4m1\u001b[24m\u001b[4m2\u001b[24m681.        0.585      0.100    585.  100.\n",
      "\n",
      "Readable summary:\n",
      "code1:\n",
      "  Mean time: 1.6993 seconds (1699.29 ms)\n",
      "  Std Dev:   0.3221 seconds (322.12 ms)\n",
      "\n",
      "code2:\n",
      "  Mean time: 2.2559 seconds (2255.89 ms)\n",
      "  Std Dev:   0.3156 seconds (315.65 ms)\n",
      "\n",
      "code3:\n",
      "  Mean time: 0.5851 seconds (585.05 ms)\n",
      "  Std Dev:   0.1000 seconds (100.01 ms)\n",
      "\n"
     ]
    }
   ],
   "source": [
    "# # Process the results\n",
    "# summary_results <- as.data.frame(benchmark_results) %>%\n",
    "#   group_by(expr) %>%\n",
    "#   summarise(\n",
    "#     mean = mean(time),\n",
    "#     sd = sd(time),\n",
    "#     .groups = 'drop'\n",
    "#   ) %>%\n",
    "#   mutate(\n",
    "#     mean_seconds = mean / 1e9,\n",
    "#     sd_seconds = sd / 1e9,\n",
    "#     mean_ms = mean / 1e6,\n",
    "#     sd_ms = sd / 1e6\n",
    "#   )\n",
    "\n",
    "# # Print the results\n",
    "# print(summary_results, digits = 4)\n",
    "\n",
    "# # Create a more readable output\n",
    "# cat(\"\\nReadable summary:\\n\")\n",
    "# for (i in 1:nrow(summary_results)) {\n",
    "#   cat(sprintf(\"%s:\\n\", summary_results$expr[i]))\n",
    "#   cat(sprintf(\"  Mean time: %.4f seconds (%.2f ms)\\n\", \n",
    "#               summary_results$mean_seconds[i], \n",
    "#               summary_results$mean_ms[i]))\n",
    "#   cat(sprintf(\"  Std Dev:   %.4f seconds (%.2f ms)\\n\\n\", \n",
    "#               summary_results$sd_seconds[i], \n",
    "#               summary_results$sd_ms[i]))\n",
    "# }"
   ]
  },
  {
   "cell_type": "code",
   "execution_count": null,
   "metadata": {
    "vscode": {
     "languageId": "r"
    }
   },
   "outputs": [],
   "source": [
    "# Check for any unexpected values in Intype3\n",
    "# unexpected_types <- Ins_3 %>%\n",
    "#   filter(!Intype3 %in% c(\"B\", \"C\", \"D\", \"E\", \"S\"))\n",
    "\n",
    "# if (nrow(unexpected_types) > 0) {\n",
    "#   cat(\"Warning: Unexpected values found in Intype3\\n\")\n",
    "#   print(table(unexpected_types$Intype3))\n",
    "# } else {\n",
    "#   cat(\"No unexpected values found in Intype3\\n\")\n",
    "# }"
   ]
  },
  {
   "cell_type": "markdown",
   "metadata": {},
   "source": [
    "## 8.4-计算各省分支"
   ]
  },
  {
   "cell_type": "code",
   "execution_count": null,
   "metadata": {
    "vscode": {
     "languageId": "r"
    }
   },
   "outputs": [],
   "source": [
    "###前面是试探代码。直接计入8.4.1"
   ]
  },
  {
   "cell_type": "code",
   "execution_count": null,
   "metadata": {
    "vscode": {
     "languageId": "r"
    }
   },
   "outputs": [],
   "source": [
    "#第一部分使用data.table。后来发现tidyverse速度可能还要稍快一些。同时语法更加熟悉。所以注释掉"
   ]
  },
  {
   "cell_type": "code",
   "execution_count": null,
   "metadata": {
    "vscode": {
     "languageId": "r"
    }
   },
   "outputs": [],
   "source": [
    "# # Convert Ins_entry2 to a data.table if it's not already\n",
    "# setDT(Ins_entry2)"
   ]
  },
  {
   "cell_type": "code",
   "execution_count": null,
   "metadata": {
    "vscode": {
     "languageId": "r"
    }
   },
   "outputs": [],
   "source": [
    "# # Calculate the count for each province and year\n",
    "# summary_stats <- Ins_entry2[, .(\n",
    "#   branch_count = sapply(years, function(y) sum(year(Apprdate) <= y))\n",
    "# ), by = Ins_prov][, .(Ins_prov, year = rep(years, .N), branch_count = unlist(branch_count))]"
   ]
  },
  {
   "cell_type": "code",
   "execution_count": null,
   "metadata": {
    "vscode": {
     "languageId": "r"
    }
   },
   "outputs": [
    {
     "ename": "ERROR",
     "evalue": "Error in year >= year(Apprdate): comparison (>=) is possible only for atomic and list types\n",
     "output_type": "error",
     "traceback": [
      "Error in year >= year(Apprdate): comparison (>=) is possible only for atomic and list types\n",
      "Traceback:\n",
      "\n",
      "1. Ins_entry2[, .(year = years, count = as.integer(year >= year(Apprdate))), \n",
      " .     by = .(Inscode, Ins_prov)]\n",
      "2. `[.data.table`(Ins_entry2, , .(year = years, count = as.integer(year >= \n",
      " .     year(Apprdate))), by = .(Inscode, Ins_prov))"
     ]
    }
   ],
   "source": [
    "# result <- Ins_entry2[, .(year = years, \n",
    "#                         count = as.integer(year >= year(Apprdate))), \n",
    "#                     by = .(Inscode, Ins_prov)]"
   ]
  },
  {
   "cell_type": "code",
   "execution_count": null,
   "metadata": {
    "vscode": {
     "languageId": "r"
    }
   },
   "outputs": [],
   "source": [
    "# result <- Ins_entry2[, {\n",
    "#   .(year = years,\n",
    "#     count = as.integer(years >= year(Apprdate)))\n",
    "# }, by = .(Inscode, Ins_prov)]"
   ]
  },
  {
   "cell_type": "code",
   "execution_count": null,
   "metadata": {
    "vscode": {
     "languageId": "r"
    }
   },
   "outputs": [],
   "source": [
    "# summary_stats2 <- Ins_entry2[, {\n",
    "#   # Count branches for each year\n",
    "#   yearly_counts <- sapply(years, function(y) sum(year(Apprdate) <= y))\n",
    "  \n",
    "#   # Create a data.table with years and counts\n",
    "#   .(year = years, branch_count = yearly_counts)\n",
    "# }, by = Ins_prov]"
   ]
  },
  {
   "cell_type": "code",
   "execution_count": null,
   "metadata": {
    "vscode": {
     "languageId": "r"
    }
   },
   "outputs": [
    {
     "name": "stdout",
     "output_type": "stream",
     "text": [
      "   Ins_prov year branch_count\n",
      "1:   北京市 1984           15\n",
      "2:   北京市 1985          306\n",
      "3:   北京市 1986          324\n",
      "4:   北京市 1987          391\n",
      "5:   北京市 1988          454\n",
      "6:   北京市 1989          550\n"
     ]
    }
   ],
   "source": [
    "# print(head(summary_stats))"
   ]
  },
  {
   "cell_type": "code",
   "execution_count": null,
   "metadata": {
    "vscode": {
     "languageId": "r"
    }
   },
   "outputs": [
    {
     "name": "stdout",
     "output_type": "stream",
     "text": [
      "   Ins_prov year branch_count\n",
      "1:   北京市 1984           15\n",
      "2:   北京市 1985          306\n",
      "3:   北京市 1986          324\n",
      "4:   北京市 1987          391\n",
      "5:   北京市 1988          454\n",
      "6:   北京市 1989          550\n"
     ]
    }
   ],
   "source": [
    "# print(head(summary_stats2))"
   ]
  },
  {
   "cell_type": "code",
   "execution_count": null,
   "metadata": {
    "vscode": {
     "languageId": "r"
    }
   },
   "outputs": [],
   "source": [
    "# summary_stats3 <- Ins_entry2 %>%\n",
    "#   # Group by province\n",
    "#   group_by(Ins_prov) %>%\n",
    "#   # Calculate cumulative counts for each year\n",
    "#   summarise(\n",
    "#     branch_count = list(map_int(years, ~sum(year(Apprdate) <= .x)))\n",
    "#   ) %>%\n",
    "#   # Unnest the results\n",
    "#   unnest(branch_count) %>%\n",
    "#   # Add the year column\n",
    "#   mutate(year = rep(years, n_distinct(Ins_prov))) %>%\n",
    "#   # Reorder columns to match the data.table output\n",
    "#   select(Ins_prov, year, branch_count)\n",
    "\n"
   ]
  },
  {
   "cell_type": "code",
   "execution_count": null,
   "metadata": {
    "vscode": {
     "languageId": "r"
    }
   },
   "outputs": [
    {
     "name": "stderr",
     "output_type": "stream",
     "text": [
      "Warning message:\n",
      "\"\u001b[1m\u001b[22mReturning more (or less) than 1 row per `summarise()` group was deprecated in\n",
      "dplyr 1.1.0.\n",
      "\u001b[36mℹ\u001b[39m Please use `reframe()` instead.\n",
      "\u001b[36mℹ\u001b[39m When switching from `summarise()` to `reframe()`, remember that `reframe()`\n",
      "  always returns an ungrouped data frame and adjust accordingly.\"\n",
      "\u001b[1m\u001b[22m`summarise()` has grouped output by 'Ins_prov'. You can override using the\n",
      "`.groups` argument.\n"
     ]
    }
   ],
   "source": [
    "# summary_stats4 <- Ins_entry2 %>%\n",
    "#   group_by(Ins_prov) %>%\n",
    "#   summarise(\n",
    "#     tibble(\n",
    "#       year = years,\n",
    "#       branch_count = map_int(years, ~sum(year(Apprdate) <= .x))\n",
    "#     )\n",
    "#   ) %>%\n",
    "#   ungroup()"
   ]
  },
  {
   "cell_type": "code",
   "execution_count": null,
   "metadata": {
    "vscode": {
     "languageId": "r"
    }
   },
   "outputs": [],
   "source": [
    "# summary_stats5 <- Ins_entry2 %>%\n",
    "#   group_by(Ins_prov) %>%\n",
    "#   reframe(\n",
    "#     tibble(\n",
    "#       year = years,\n",
    "#       branch_count = map_int(years, ~sum(year(Apprdate) <= .x))\n",
    "#     )\n",
    "#   )"
   ]
  },
  {
   "cell_type": "code",
   "execution_count": null,
   "metadata": {
    "vscode": {
     "languageId": "r"
    }
   },
   "outputs": [
    {
     "name": "stdout",
     "output_type": "stream",
     "text": [
      "\u001b[90m# A tibble: 6 × 3\u001b[39m\n",
      "  Ins_prov  year branch_count\n",
      "  \u001b[3m\u001b[90m<chr>\u001b[39m\u001b[23m    \u001b[3m\u001b[90m<int>\u001b[39m\u001b[23m        \u001b[3m\u001b[90m<int>\u001b[39m\u001b[23m\n",
      "\u001b[90m1\u001b[39m 上海市    \u001b[4m1\u001b[24m984          389\n",
      "\u001b[90m2\u001b[39m 上海市    \u001b[4m1\u001b[24m985          390\n",
      "\u001b[90m3\u001b[39m 上海市    \u001b[4m1\u001b[24m986          392\n",
      "\u001b[90m4\u001b[39m 上海市    \u001b[4m1\u001b[24m987          435\n",
      "\u001b[90m5\u001b[39m 上海市    \u001b[4m1\u001b[24m988          536\n",
      "\u001b[90m6\u001b[39m 上海市    \u001b[4m1\u001b[24m989          607\n"
     ]
    }
   ],
   "source": [
    "# print(head(summary_stats5))"
   ]
  },
  {
   "cell_type": "code",
   "execution_count": null,
   "metadata": {
    "vscode": {
     "languageId": "r"
    }
   },
   "outputs": [
    {
     "name": "stdout",
     "output_type": "stream",
     "text": [
      "[1] TRUE\n"
     ]
    }
   ],
   "source": [
    "# # Sort both results by Ins_prov and year\n",
    "# summary_stats2_sorted <- summary_stats2[order(Ins_prov, year)]\n",
    "# summary_stats5_sorted <- summary_stats5 %>% arrange(Ins_prov, year)\n",
    "\n",
    "# # Now let's compare them\n",
    "# are_equal <- all.equal(\n",
    "#   as.data.frame(summary_stats2_sorted), \n",
    "#   as.data.frame(summary_stats5_sorted)\n",
    "# )\n",
    "\n",
    "# print(are_equal)"
   ]
  },
  {
   "cell_type": "code",
   "execution_count": null,
   "metadata": {
    "vscode": {
     "languageId": "r"
    }
   },
   "outputs": [],
   "source": [
    "# summary_stats6 <- Ins_entry2 %>%\n",
    "#   group_by(Ins_prov) %>%\n",
    "#   reframe(\n",
    "#     tibble(\n",
    "#       year = years,\n",
    "#       branch_count = map_int(years, ~sum(year(Apprdate) <= .))\n",
    "#     )\n",
    "#   )"
   ]
  },
  {
   "cell_type": "code",
   "execution_count": null,
   "metadata": {
    "vscode": {
     "languageId": "r"
    }
   },
   "outputs": [],
   "source": [
    "# summary_stats7 <- Ins_entry2 %>%\n",
    "#   group_by(Ins_prov) %>%\n",
    "#   reframe(\n",
    "#     year = years,\n",
    "#     branch_count = map_int(years, ~sum(year(Apprdate) <= .)\n",
    "#     )\n",
    "#   )"
   ]
  },
  {
   "cell_type": "code",
   "execution_count": null,
   "metadata": {
    "vscode": {
     "languageId": "r"
    }
   },
   "outputs": [
    {
     "data": {
      "text/html": [
       "TRUE"
      ],
      "text/latex": [
       "TRUE"
      ],
      "text/markdown": [
       "TRUE"
      ],
      "text/plain": [
       "[1] TRUE"
      ]
     },
     "metadata": {},
     "output_type": "display_data"
    }
   ],
   "source": [
    "# all.equal(summary_stats5, summary_stats6)"
   ]
  },
  {
   "cell_type": "code",
   "execution_count": null,
   "metadata": {
    "vscode": {
     "languageId": "r"
    }
   },
   "outputs": [
    {
     "data": {
      "text/html": [
       "TRUE"
      ],
      "text/latex": [
       "TRUE"
      ],
      "text/markdown": [
       "TRUE"
      ],
      "text/plain": [
       "[1] TRUE"
      ]
     },
     "metadata": {},
     "output_type": "display_data"
    }
   ],
   "source": [
    "# all.equal(summary_stats5, summary_stats7)"
   ]
  },
  {
   "cell_type": "markdown",
   "metadata": {},
   "source": [
    "### 8.4.1-各省分支"
   ]
  },
  {
   "cell_type": "code",
   "execution_count": null,
   "metadata": {
    "vscode": {
     "languageId": "r"
    }
   },
   "outputs": [],
   "source": [
    "#最早的计算比较仔细。考虑成立和退出的年份\n",
    "#但是一则对总体影响不大，一则为了加快代码。暂时注释掉"
   ]
  },
  {
   "cell_type": "code",
   "execution_count": null,
   "metadata": {
    "vscode": {
     "languageId": "r"
    }
   },
   "outputs": [],
   "source": [
    "# fraction_of_year <- function(appr_date, exit_date, year) {\n",
    "#   if (year == year(appr_date) || year == year(exit_date)) {\n",
    "#     year_start <- as.Date(paste0(year, \"-01-01\"))\n",
    "#     year_end <- as.Date(paste0(year, \"-12-31\"))\n",
    "    \n",
    "#     actual_start <- max(appr_date, year_start)\n",
    "#     actual_end <- min(exit_date, year_end)\n",
    "    \n",
    "#     days_in_year <- if(leap_year(year)) 366 else 365\n",
    "    \n",
    "#     fraction <- as.numeric(actual_end - actual_start + 1) / days_in_year\n",
    "#   } else {\n",
    "#     fraction <- 1\n",
    "#   }\n",
    "\n",
    "#   return(fraction)\n",
    "# }"
   ]
  },
  {
   "cell_type": "code",
   "execution_count": null,
   "metadata": {
    "vscode": {
     "languageId": "r"
    }
   },
   "outputs": [],
   "source": [
    "Ins_entry4 <- Ins_entry3 %>%\n",
    "  group_by(Ins_prov) %>%\n",
    "  reframe(\n",
    "    tibble(\n",
    "      year = years,\n",
    "      branch_count = map_int(years, ~sum(year(Apprdate) <= .))\n",
    "    )\n",
    "  )"
   ]
  },
  {
   "cell_type": "code",
   "execution_count": null,
   "metadata": {
    "vscode": {
     "languageId": "r"
    }
   },
   "outputs": [
    {
     "name": "stdout",
     "output_type": "stream",
     "text": [
      "tibble [38,202 × 14] (S3: tbl_df/tbl/data.frame)\n",
      " $ Inscode : chr [1:38202] \"B0001G211000002\" \"B0001G232010001\" \"B0001G237010001\" \"B0001K231000002\" ...\n",
      " $ Intype  : chr [1:38202] \"商业银行\" \"商业银行\" \"商业银行\" \"商业银行\" ...\n",
      " $ Insname : chr [1:38202] \"中国工商银行股份有限公司私人银行部北京分部\" \"中国工商银行股份有限公司牡丹卡中心南京分中心\" \"中国工商银行股份有限公司私人银行部济南分部\" \"中国工商银行股份有限公司私人银行部上海分部\" ...\n",
      " $ Insadr  : chr [1:38202] \"北京市朝阳区建国门外大街1号院1号楼国贸大厦28层\" \"南京市汉中路95号\" \"济南市经四路310号银工大厦东副楼二楼\" \"上海市浦明路132号\" ...\n",
      " $ Inscity : chr [1:38202] \"北京市\" \"江苏省-南京市\" \"山东省-济南市\" \"上海市\" ...\n",
      " $ Issdate : Date[1:38202], format: \"2011-05-05\" \"2013-03-26\" ...\n",
      " $ Apprdate: Date[1:38202], format: \"2008-10-17\" \"2002-12-18\" ...\n",
      " $ Exitdt  : Date[1:38202], format: \"2014-08-15\" \"2022-05-13\" ...\n",
      " $ Inscode2: chr [1:38202] \"B0001\" \"B0001\" \"B0001\" \"B0001\" ...\n",
      " $ Insname2: chr [1:38202] \"中国工商银行\" \"中国工商银行\" \"中国工商银行\" \"中国工商银行\" ...\n",
      " $ Intype2 : Factor w/ 13 levels \"财务公司\",\"城市信用社\",..: 9 9 9 9 9 9 9 9 9 9 ...\n",
      " $ Intype3 : chr [1:38202] \"B\" \"B\" \"B\" \"B\" ...\n",
      " $ Ins_prov: chr [1:38202] \"北京市\" \"江苏省\" \"山东省\" \"上海市\" ...\n",
      " $ Ins_city: chr [1:38202] \"北京市\" \"南京市\" \"济南市\" \"上海市\" ...\n"
     ]
    }
   ],
   "source": [
    "str(Ins_exit3)"
   ]
  },
  {
   "cell_type": "code",
   "execution_count": null,
   "metadata": {
    "vscode": {
     "languageId": "r"
    }
   },
   "outputs": [
    {
     "name": "stdout",
     "output_type": "stream",
     "text": [
      "\u001b[90m# A tibble: 6 × 3\u001b[39m\n",
      "  Ins_prov  year branch_count\n",
      "  \u001b[3m\u001b[90m<chr>\u001b[39m\u001b[23m    \u001b[3m\u001b[90m<int>\u001b[39m\u001b[23m        \u001b[3m\u001b[90m<int>\u001b[39m\u001b[23m\n",
      "\u001b[90m1\u001b[39m 上海市    \u001b[4m1\u001b[24m984          389\n",
      "\u001b[90m2\u001b[39m 上海市    \u001b[4m1\u001b[24m985          390\n",
      "\u001b[90m3\u001b[39m 上海市    \u001b[4m1\u001b[24m986          392\n",
      "\u001b[90m4\u001b[39m 上海市    \u001b[4m1\u001b[24m987          435\n",
      "\u001b[90m5\u001b[39m 上海市    \u001b[4m1\u001b[24m988          536\n",
      "\u001b[90m6\u001b[39m 上海市    \u001b[4m1\u001b[24m989          607\n"
     ]
    }
   ],
   "source": [
    "print(head(Ins_entry4))"
   ]
  },
  {
   "cell_type": "code",
   "execution_count": null,
   "metadata": {
    "vscode": {
     "languageId": "r"
    }
   },
   "outputs": [],
   "source": [
    "Ins_exit3b <- as.data.table(Ins_exit3)"
   ]
  },
  {
   "cell_type": "code",
   "execution_count": null,
   "metadata": {
    "vscode": {
     "languageId": "r"
    }
   },
   "outputs": [
    {
     "name": "stdout",
     "output_type": "stream",
     "text": [
      "Classes 'data.table' and 'data.frame':\t38202 obs. of  14 variables:\n",
      " $ Inscode : chr  \"B0001G211000002\" \"B0001G232010001\" \"B0001G237010001\" \"B0001K231000002\" ...\n",
      " $ Intype  : chr  \"商业银行\" \"商业银行\" \"商业银行\" \"商业银行\" ...\n",
      " $ Insname : chr  \"中国工商银行股份有限公司私人银行部北京分部\" \"中国工商银行股份有限公司牡丹卡中心南京分中心\" \"中国工商银行股份有限公司私人银行部济南分部\" \"中国工商银行股份有限公司私人银行部上海分部\" ...\n",
      " $ Insadr  : chr  \"北京市朝阳区建国门外大街1号院1号楼国贸大厦28层\" \"南京市汉中路95号\" \"济南市经四路310号银工大厦东副楼二楼\" \"上海市浦明路132号\" ...\n",
      " $ Inscity : chr  \"北京市\" \"江苏省-南京市\" \"山东省-济南市\" \"上海市\" ...\n",
      " $ Issdate : Date, format: \"2011-05-05\" \"2013-03-26\" ...\n",
      " $ Apprdate: Date, format: \"2008-10-17\" \"2002-12-18\" ...\n",
      " $ Exitdt  : Date, format: \"2014-08-15\" \"2022-05-13\" ...\n",
      " $ Inscode2: chr  \"B0001\" \"B0001\" \"B0001\" \"B0001\" ...\n",
      " $ Insname2: chr  \"中国工商银行\" \"中国工商银行\" \"中国工商银行\" \"中国工商银行\" ...\n",
      " $ Intype2 : Factor w/ 13 levels \"财务公司\",\"城市信用社\",..: 9 9 9 9 9 9 9 9 9 9 ...\n",
      " $ Intype3 : chr  \"B\" \"B\" \"B\" \"B\" ...\n",
      " $ Ins_prov: chr  \"北京市\" \"江苏省\" \"山东省\" \"上海市\" ...\n",
      " $ Ins_city: chr  \"北京市\" \"南京市\" \"济南市\" \"上海市\" ...\n",
      " - attr(*, \".internal.selfref\")=<externalptr> \n"
     ]
    }
   ],
   "source": [
    "str(Ins_exit3b)"
   ]
  },
  {
   "cell_type": "code",
   "execution_count": null,
   "metadata": {
    "vscode": {
     "languageId": "r"
    }
   },
   "outputs": [],
   "source": [
    "Ins_entry4b <- Ins_entry3b[, {\n",
    "  # Count branches for each year\n",
    "  yearly_counts <- sapply(years, function(y) sum(year(Apprdate) <= y))\n",
    "  \n",
    "  # Create a data.table with years and counts\n",
    "  .(year = years, branch_count = yearly_counts)\n",
    "}, by = Ins_prov]"
   ]
  },
  {
   "cell_type": "markdown",
   "metadata": {},
   "source": [
    "### 8.4.2-比较tb和dt"
   ]
  },
  {
   "cell_type": "code",
   "execution_count": null,
   "metadata": {
    "vscode": {
     "languageId": "r"
    }
   },
   "outputs": [],
   "source": [
    "#比较一下tb格式和dt格式数据框的速度是否有差异。似乎速度没有什么差异"
   ]
  },
  {
   "cell_type": "code",
   "execution_count": null,
   "metadata": {
    "vscode": {
     "languageId": "r"
    }
   },
   "outputs": [],
   "source": [
    "#不能使用这个。会将两个数据框都变成data.table。不是真复制。可以使用最下面两行\n",
    "# Ins_exit3b=Ins_exit3\n",
    "# setDT(Ins_exit3b)\n",
    "\n",
    "# # Ensure Ins_exit3 is a tibble\n",
    "# Ins_exit3 <- as_tibble(Ins_exit3)\n",
    "\n",
    "# # Create a data.table version\n",
    "# Ins_exit3_dt <- as.data.table(Ins_exit3)"
   ]
  },
  {
   "cell_type": "code",
   "execution_count": null,
   "metadata": {
    "vscode": {
     "languageId": "r"
    }
   },
   "outputs": [
    {
     "name": "stdout",
     "output_type": "stream",
     "text": [
      "tibble [38,202 × 14] (S3: tbl_df/tbl/data.frame)\n",
      " $ Inscode : chr [1:38202] \"B0001G211000002\" \"B0001G232010001\" \"B0001G237010001\" \"B0001K231000002\" ...\n",
      " $ Intype  : chr [1:38202] \"商业银行\" \"商业银行\" \"商业银行\" \"商业银行\" ...\n",
      " $ Insname : chr [1:38202] \"中国工商银行股份有限公司私人银行部北京分部\" \"中国工商银行股份有限公司牡丹卡中心南京分中心\" \"中国工商银行股份有限公司私人银行部济南分部\" \"中国工商银行股份有限公司私人银行部上海分部\" ...\n",
      " $ Insadr  : chr [1:38202] \"北京市朝阳区建国门外大街1号院1号楼国贸大厦28层\" \"南京市汉中路95号\" \"济南市经四路310号银工大厦东副楼二楼\" \"上海市浦明路132号\" ...\n",
      " $ Inscity : chr [1:38202] \"北京市\" \"江苏省-南京市\" \"山东省-济南市\" \"上海市\" ...\n",
      " $ Issdate : Date[1:38202], format: \"2011-05-05\" \"2013-03-26\" ...\n",
      " $ Apprdate: Date[1:38202], format: \"2008-10-17\" \"2002-12-18\" ...\n",
      " $ Exitdt  : Date[1:38202], format: \"2014-08-15\" \"2022-05-13\" ...\n",
      " $ Inscode2: chr [1:38202] \"B0001\" \"B0001\" \"B0001\" \"B0001\" ...\n",
      " $ Insname2: chr [1:38202] \"中国工商银行\" \"中国工商银行\" \"中国工商银行\" \"中国工商银行\" ...\n",
      " $ Intype2 : Factor w/ 13 levels \"财务公司\",\"城市信用社\",..: 9 9 9 9 9 9 9 9 9 9 ...\n",
      " $ Intype3 : chr [1:38202] \"B\" \"B\" \"B\" \"B\" ...\n",
      " $ Ins_prov: chr [1:38202] \"北京市\" \"江苏省\" \"山东省\" \"上海市\" ...\n",
      " $ Ins_city: chr [1:38202] \"北京市\" \"南京市\" \"济南市\" \"上海市\" ...\n"
     ]
    }
   ],
   "source": [
    "str(Ins_exit3)"
   ]
  },
  {
   "cell_type": "code",
   "execution_count": null,
   "metadata": {
    "vscode": {
     "languageId": "r"
    }
   },
   "outputs": [],
   "source": [
    "Ins_exit3b <- as.data.table(Ins_exit3)"
   ]
  },
  {
   "cell_type": "code",
   "execution_count": null,
   "metadata": {
    "vscode": {
     "languageId": "r"
    }
   },
   "outputs": [
    {
     "name": "stdout",
     "output_type": "stream",
     "text": [
      "Classes 'data.table' and 'data.frame':\t38202 obs. of  14 variables:\n",
      " $ Inscode : chr  \"B0001G211000002\" \"B0001G232010001\" \"B0001G237010001\" \"B0001K231000002\" ...\n",
      " $ Intype  : chr  \"商业银行\" \"商业银行\" \"商业银行\" \"商业银行\" ...\n",
      " $ Insname : chr  \"中国工商银行股份有限公司私人银行部北京分部\" \"中国工商银行股份有限公司牡丹卡中心南京分中心\" \"中国工商银行股份有限公司私人银行部济南分部\" \"中国工商银行股份有限公司私人银行部上海分部\" ...\n",
      " $ Insadr  : chr  \"北京市朝阳区建国门外大街1号院1号楼国贸大厦28层\" \"南京市汉中路95号\" \"济南市经四路310号银工大厦东副楼二楼\" \"上海市浦明路132号\" ...\n",
      " $ Inscity : chr  \"北京市\" \"江苏省-南京市\" \"山东省-济南市\" \"上海市\" ...\n",
      " $ Issdate : Date, format: \"2011-05-05\" \"2013-03-26\" ...\n",
      " $ Apprdate: Date, format: \"2008-10-17\" \"2002-12-18\" ...\n",
      " $ Exitdt  : Date, format: \"2014-08-15\" \"2022-05-13\" ...\n",
      " $ Inscode2: chr  \"B0001\" \"B0001\" \"B0001\" \"B0001\" ...\n",
      " $ Insname2: chr  \"中国工商银行\" \"中国工商银行\" \"中国工商银行\" \"中国工商银行\" ...\n",
      " $ Intype2 : Factor w/ 13 levels \"财务公司\",\"城市信用社\",..: 9 9 9 9 9 9 9 9 9 9 ...\n",
      " $ Intype3 : chr  \"B\" \"B\" \"B\" \"B\" ...\n",
      " $ Ins_prov: chr  \"北京市\" \"江苏省\" \"山东省\" \"上海市\" ...\n",
      " $ Ins_city: chr  \"北京市\" \"南京市\" \"济南市\" \"上海市\" ...\n",
      " - attr(*, \".internal.selfref\")=<externalptr> \n"
     ]
    }
   ],
   "source": [
    "str(Ins_exit3b)"
   ]
  },
  {
   "cell_type": "markdown",
   "metadata": {},
   "source": [
    "### 8.4.3-exit"
   ]
  },
  {
   "cell_type": "code",
   "execution_count": null,
   "metadata": {
    "vscode": {
     "languageId": "r"
    }
   },
   "outputs": [],
   "source": [
    "Ins_exit4 <- Ins_exit3 %>%\n",
    "  group_by(Ins_prov) %>%\n",
    "  reframe(\n",
    "    tibble(\n",
    "      year = years,\n",
    "      branch_count = map_int(years, ~sum(year(Apprdate) <= . & . <= year(Exitdt)))\n",
    "    )\n",
    "  )"
   ]
  },
  {
   "cell_type": "code",
   "execution_count": null,
   "metadata": {
    "vscode": {
     "languageId": "r"
    }
   },
   "outputs": [],
   "source": [
    "Ins_exit4b <- Ins_exit3b[, {\n",
    "  # Count branches for each year\n",
    "  yearly_counts <- sapply(years, function(y) {\n",
    "    sum(year(Apprdate) <= y & y <= year(Exitdt))\n",
    "  })\n",
    "  \n",
    "  # Create a data.table with years and counts\n",
    "  .(year = years, branch_count = yearly_counts)\n",
    "}, by = Ins_prov]"
   ]
  },
  {
   "cell_type": "code",
   "execution_count": null,
   "metadata": {
    "vscode": {
     "languageId": "r"
    }
   },
   "outputs": [
    {
     "name": "stdout",
     "output_type": "stream",
     "text": [
      "\u001b[90m# A tibble: 6 × 3\u001b[39m\n",
      "  Ins_prov  year branch_count\n",
      "  \u001b[3m\u001b[90m<chr>\u001b[39m\u001b[23m    \u001b[3m\u001b[90m<int>\u001b[39m\u001b[23m        \u001b[3m\u001b[90m<int>\u001b[39m\u001b[23m\n",
      "\u001b[90m1\u001b[39m 上海市    \u001b[4m1\u001b[24m984           41\n",
      "\u001b[90m2\u001b[39m 上海市    \u001b[4m1\u001b[24m985           41\n",
      "\u001b[90m3\u001b[39m 上海市    \u001b[4m1\u001b[24m986           43\n",
      "\u001b[90m4\u001b[39m 上海市    \u001b[4m1\u001b[24m987           43\n",
      "\u001b[90m5\u001b[39m 上海市    \u001b[4m1\u001b[24m988           50\n",
      "\u001b[90m6\u001b[39m 上海市    \u001b[4m1\u001b[24m989           51\n"
     ]
    }
   ],
   "source": [
    "print(head(Ins_exit4))"
   ]
  },
  {
   "cell_type": "code",
   "execution_count": null,
   "metadata": {
    "vscode": {
     "languageId": "r"
    }
   },
   "outputs": [
    {
     "name": "stdout",
     "output_type": "stream",
     "text": [
      "[1] TRUE\n"
     ]
    }
   ],
   "source": [
    "#比较两者结果是否相同\n",
    "# Sort both results by Ins_prov and year\n",
    "Ins_exit4b_sorted <- Ins_exit4b[order(Ins_prov, year)]\n",
    "Ins_exit4_sorted <- Ins_exit4 %>% arrange(Ins_prov, year)\n",
    "\n",
    "# Now let's compare them\n",
    "are_equal <- all.equal(\n",
    "  as.data.frame(Ins_exit4b_sorted), \n",
    "  as.data.frame(Ins_exit4_sorted)\n",
    ")\n",
    "\n",
    "print(are_equal)"
   ]
  }
 ],
 "metadata": {
  "kernelspec": {
   "display_name": "R",
   "language": "R",
   "name": "ir"
  },
  "language_info": {
   "codemirror_mode": "r",
   "file_extension": ".r",
   "mimetype": "text/x-r-source",
   "name": "R",
   "pygments_lexer": "r",
   "version": "4.2.3"
  }
 },
 "nbformat": 4,
 "nbformat_minor": 2
}
