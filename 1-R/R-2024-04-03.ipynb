{
 "cells": [
  {
   "cell_type": "code",
   "execution_count": 3,
   "metadata": {
    "vscode": {
     "languageId": "r"
    }
   },
   "outputs": [
    {
     "name": "stderr",
     "output_type": "stream",
     "text": [
      "── \u001b[1mAttaching core tidyverse packages\u001b[22m ──────────────────────── tidyverse 2.0.0 ──\n",
      "\u001b[32m✔\u001b[39m \u001b[34mdplyr    \u001b[39m 1.1.2     \u001b[32m✔\u001b[39m \u001b[34mreadr    \u001b[39m 2.1.4\n",
      "\u001b[32m✔\u001b[39m \u001b[34mforcats  \u001b[39m 1.0.0     \u001b[32m✔\u001b[39m \u001b[34mstringr  \u001b[39m 1.5.0\n",
      "\u001b[32m✔\u001b[39m \u001b[34mggplot2  \u001b[39m 3.4.2     \u001b[32m✔\u001b[39m \u001b[34mtibble   \u001b[39m 3.2.1\n",
      "\u001b[32m✔\u001b[39m \u001b[34mlubridate\u001b[39m 1.9.2     \u001b[32m✔\u001b[39m \u001b[34mtidyr    \u001b[39m 1.3.0\n",
      "\u001b[32m✔\u001b[39m \u001b[34mpurrr    \u001b[39m 1.0.1     \n",
      "── \u001b[1mConflicts\u001b[22m ────────────────────────────────────────── tidyverse_conflicts() ──\n",
      "\u001b[31m✖\u001b[39m \u001b[34mdplyr\u001b[39m::\u001b[32mfilter()\u001b[39m masks \u001b[34mstats\u001b[39m::filter()\n",
      "\u001b[31m✖\u001b[39m \u001b[34mdplyr\u001b[39m::\u001b[32mlag()\u001b[39m    masks \u001b[34mstats\u001b[39m::lag()\n",
      "\u001b[36mℹ\u001b[39m Use the conflicted package (\u001b[3m\u001b[34m<http://conflicted.r-lib.org/>\u001b[39m\u001b[23m) to force all conflicts to become errors\n"
     ]
    }
   ],
   "source": [
    "library(tidyverse) \n",
    "#严重警告：foxit版本号 需要随着 阅读器的版本而改变\n"
   ]
  },
  {
   "cell_type": "code",
   "execution_count": 4,
   "metadata": {
    "vscode": {
     "languageId": "r"
    }
   },
   "outputs": [
    {
     "name": "stdout",
     "output_type": "stream",
     "text": [
      "[1] \"Foxit Reader 9.0\"\n"
     ]
    }
   ],
   "source": [
    "version1=\"9.0\"   #需要根据foxit版本修改\n",
    "version2=paste(\"Foxit Reader\",version1)\n",
    "print(version2)"
   ]
  },
  {
   "cell_type": "code",
   "execution_count": 5,
   "metadata": {
    "vscode": {
     "languageId": "r"
    }
   },
   "outputs": [
    {
     "name": "stdout",
     "output_type": "stream",
     "text": [
      "[1] \"SOFTWARE\\\\Foxit Software\\\\Foxit Reader 9.0\\\\Preferences\\\\History\\\\LastSession\"\n"
     ]
    }
   ],
   "source": [
    "mkey <- file.path(\"SOFTWARE\", \"Foxit Software\", version2, \"Preferences\", \"History\", \"LastSession\", fsep = \"\\\\\") \n",
    "#my key\n",
    "print(mkey)"
   ]
  },
  {
   "cell_type": "code",
   "execution_count": 6,
   "metadata": {
    "vscode": {
     "languageId": "r"
    }
   },
   "outputs": [],
   "source": [
    "a1=readRegistry(mkey, \"HCU\", maxdepth = 3)"
   ]
  },
  {
   "cell_type": "code",
   "execution_count": 9,
   "metadata": {
    "vscode": {
     "languageId": "r"
    }
   },
   "outputs": [
    {
     "name": "stdout",
     "output_type": "stream",
     "text": [
      "List of 47\n",
      " $ Active: chr \"D:\\\\IDM8\\\\TheEconomist.2024.03.30.pdf\"\n",
      " $ 0001  :List of 9\n",
      "  ..$ bCoverPage: int 0\n",
      "  ..$ Facing    : int 0\n",
      "  ..$ FileName  : chr \"D:\\\\IDM8\\\\Stable polymorphism of cooperators and punishers in a public goods game-沉浸.pdf\"\n",
      "  ..$ Left      : raw [1:4] 00 00 00 00\n",
      "  ..$ Page      : int 0\n",
      "  ..$ ShowMode  : int 1\n",
      "  ..$ Top       : raw [1:4] 00 00 00 00\n",
      "  ..$ ZoomMode  : int 1\n",
      "  ..$ ZoomScale : raw [1:4] cd cc 2c 40\n",
      " $ 0002  :List of 9\n",
      "  ..$ bCoverPage: int 0\n",
      "  ..$ Facing    : int 0\n",
      "  ..$ FileName  : chr \"D:\\\\IDM8\\\\Evolutionary dynamics of public goods game with tax-based rewarding cooperators.pdf\"\n",
      "  ..$ Left      : raw [1:4] 00 00 00 00\n",
      "  ..$ Page      : int 0\n",
      "  ..$ ShowMode  : int 1\n",
      "  ..$ Top       : raw [1:4] 00 00 00 00\n",
      "  ..$ ZoomMode  : int 1\n",
      "  ..$ ZoomScale : raw [1:4] 33 33 33 40\n",
      " $ 0003  :List of 9\n",
      "  ..$ bCoverPage: int 0\n",
      "  ..$ Facing    : int 0\n",
      "  ..$ FileName  : chr \"D:\\\\IDM8\\\\Evolutionary dynamics of public goods game with tax-based rewarding cooperators-沉浸.pdf\"\n",
      "  ..$ Left      : raw [1:4] 00 00 00 00\n",
      "  ..$ Page      : int 0\n",
      "  ..$ ShowMode  : int 1\n",
      "  ..$ Top       : raw [1:4] 00 00 00 00\n",
      "  ..$ ZoomMode  : int 1\n",
      "  ..$ ZoomScale : raw [1:4] 00 00 30 40\n",
      " $ 0004  :List of 9\n",
      "  ..$ bCoverPage: int 0\n",
      "  ..$ Facing    : int 0\n",
      "  ..$ FileName  : chr \"D:\\\\IDM8\\\\Tax-based pure punishment and reward in the public goods game.pdf\"\n",
      "  ..$ Left      : raw [1:4] 00 00 00 00\n",
      "  ..$ Page      : int 0\n",
      "  ..$ ShowMode  : int 1\n",
      "  ..$ Top       : raw [1:4] 00 00 00 00\n",
      "  ..$ ZoomMode  : int 1\n",
      "  ..$ ZoomScale : raw [1:4] 00 00 40 40\n",
      " $ 0005  :List of 9\n",
      "  ..$ bCoverPage: int 0\n",
      "  ..$ Facing    : int 0\n",
      "  ..$ FileName  : chr \"D:\\\\IDM8\\\\Replicator Dynamics for Optional Public Good Games.pdf\"\n",
      "  ..$ Left      : raw [1:4] 00 00 00 00\n",
      "  ..$ Page      : int 0\n",
      "  ..$ ShowMode  : int 1\n",
      "  ..$ Top       : raw [1:4] 00 00 00 00\n",
      "  ..$ ZoomMode  : int 1\n",
      "  ..$ ZoomScale : raw [1:4] 00 00 20 40\n",
      " $ 0006  :List of 9\n",
      "  ..$ bCoverPage: int 0\n",
      "  ..$ Facing    : int 0\n",
      "  ..$ FileName  : chr \"D:\\\\IDM8\\\\zenyangzhegnfu (Z-Library).pdf\"\n",
      "  ..$ Left      : raw [1:4] 00 00 00 00\n",
      "  ..$ Page      : int 0\n",
      "  ..$ ShowMode  : int 1\n",
      "  ..$ Top       : raw [1:4] 00 00 00 00\n",
      "  ..$ ZoomMode  : int 1\n",
      "  ..$ ZoomScale : raw [1:4] 00 00 c0 3f\n",
      " $ 0007  :List of 9\n",
      "  ..$ bCoverPage: int 0\n",
      "  ..$ Facing    : int 0\n",
      "  ..$ FileName  : chr \"D:\\\\IDM8\\\\大国大城-陆铭.pdf\"\n",
      "  ..$ Left      : raw [1:4] 00 00 00 00\n",
      "  ..$ Page      : int 0\n",
      "  ..$ ShowMode  : int 1\n",
      "  ..$ Top       : raw [1:4] 00 00 00 00\n",
      "  ..$ ZoomMode  : int 1\n",
      "  ..$ ZoomScale : raw [1:4] a1 a0 10 40\n",
      " $ 0008  :List of 9\n",
      "  ..$ bCoverPage: int 0\n",
      "  ..$ Facing    : int 0\n",
      "  ..$ FileName  : chr \"D:\\\\IDM8\\\\Theoretical Foundations of Macroeconomic Policy Growth, Productivity and Public Finance (Giovanni Di \"| __truncated__\n",
      "  ..$ Left      : raw [1:4] 00 00 00 00\n",
      "  ..$ Page      : int 0\n",
      "  ..$ ShowMode  : int 1\n",
      "  ..$ Top       : raw [1:4] 00 00 00 00\n",
      "  ..$ ZoomMode  : int 1\n",
      "  ..$ ZoomScale : raw [1:4] b9 33 2d 40\n",
      " $ 0009  :List of 9\n",
      "  ..$ bCoverPage: int 0\n",
      "  ..$ Facing    : int 0\n",
      "  ..$ FileName  : chr \"D:\\\\IDM8\\\\ch3-Theoretical Foundations of Macroeconomic Policy_ Growth, Productivity and Public Finance-5.pdf\"\n",
      "  ..$ Left      : raw [1:4] 00 00 00 00\n",
      "  ..$ Page      : int 0\n",
      "  ..$ ShowMode  : int 1\n",
      "  ..$ Top       : raw [1:4] 00 00 00 00\n",
      "  ..$ ZoomMode  : int 1\n",
      "  ..$ ZoomScale : raw [1:4] 00 00 20 40\n",
      " $ 0010  :List of 9\n",
      "  ..$ bCoverPage: int 0\n",
      "  ..$ Facing    : int 0\n",
      "  ..$ FileName  : chr \"D:\\\\IDM8\\\\Stable polymorphism of cooperators and punishers in a public goods game.pdf\"\n",
      "  ..$ Left      : raw [1:4] 00 00 00 00\n",
      "  ..$ Page      : int 0\n",
      "  ..$ ShowMode  : int 1\n",
      "  ..$ Top       : raw [1:4] 00 00 00 00\n",
      "  ..$ ZoomMode  : int 1\n",
      "  ..$ ZoomScale : raw [1:4] 49 a5 00 40\n",
      " $ 0011  :List of 9\n",
      "  ..$ bCoverPage: int 0\n",
      "  ..$ Facing    : int 0\n",
      "  ..$ FileName  : chr \"D:\\\\IDM8\\\\Fundamentals of Evolutionary Game Theory and its Applications (Jun Tanimoto (auth.)) (Z-Library).pdf\"\n",
      "  ..$ Left      : raw [1:4] 00 00 00 00\n",
      "  ..$ Page      : int 0\n",
      "  ..$ ShowMode  : int 1\n",
      "  ..$ Top       : raw [1:4] 00 00 00 00\n",
      "  ..$ ZoomMode  : int 1\n",
      "  ..$ ZoomScale : raw [1:4] 00 00 40 40\n",
      " $ 0012  :List of 9\n",
      "  ..$ bCoverPage: int 0\n",
      "  ..$ Facing    : int 0\n",
      "  ..$ FileName  : chr \"D:\\\\IDM8\\\\Fundamentals of Evolutionary Game Theory and its Applications-67-沉浸.pdf\"\n",
      "  ..$ Left      : raw [1:4] 00 00 00 00\n",
      "  ..$ Page      : int 0\n",
      "  ..$ ShowMode  : int 1\n",
      "  ..$ Top       : raw [1:4] 00 00 00 00\n",
      "  ..$ ZoomMode  : int 1\n",
      "  ..$ ZoomScale : raw [1:4] 7b d2 14 40\n",
      " $ 0013  :List of 9\n",
      "  ..$ bCoverPage: int 0\n",
      "  ..$ Facing    : int 0\n",
      "  ..$ FileName  : chr \"D:\\\\IDM8\\\\Cooperation without punishment _ Scientific Reports-沉浸.pdf\"\n",
      "  ..$ Left      : raw [1:4] 00 00 00 00\n",
      "  ..$ Page      : int 0\n",
      "  ..$ ShowMode  : int 1\n",
      "  ..$ Top       : raw [1:4] 00 00 00 00\n",
      "  ..$ ZoomMode  : int 1\n",
      "  ..$ ZoomScale : raw [1:4] 00 00 20 40\n",
      " $ 0014  :List of 9\n",
      "  ..$ bCoverPage: int 0\n",
      "  ..$ Facing    : int 0\n",
      "  ..$ FileName  : chr \"D:\\\\IDM8\\\\AMC-D-24-00826-张倩伟.pdf\"\n",
      "  ..$ Left      : raw [1:4] 00 00 00 00\n",
      "  ..$ Page      : int 0\n",
      "  ..$ ShowMode  : int 1\n",
      "  ..$ Top       : raw [1:4] 00 00 00 00\n",
      "  ..$ ZoomMode  : int 1\n",
      "  ..$ ZoomScale : raw [1:4] 66 66 26 40\n",
      " $ 0015  :List of 9\n",
      "  ..$ bCoverPage: int 0\n",
      "  ..$ Facing    : int 0\n",
      "  ..$ FileName  : chr \"D:\\\\IDM8\\\\AMC-D-24-00826-张倩伟-沉浸.pdf\"\n",
      "  ..$ Left      : raw [1:4] 00 00 00 00\n",
      "  ..$ Page      : int 0\n",
      "  ..$ ShowMode  : int 1\n",
      "  ..$ Top       : raw [1:4] 00 00 00 00\n",
      "  ..$ ZoomMode  : int 1\n",
      "  ..$ ZoomScale : raw [1:4] cd cc 2c 40\n",
      " $ 0016  :List of 9\n",
      "  ..$ bCoverPage: int 0\n",
      "  ..$ Facing    : int 0\n",
      "  ..$ FileName  : chr \"D:\\\\IDM8\\\\An Introduction to Classical Econometric Theory-Ruud-鲁德-常用.pdf\"\n",
      "  ..$ Left      : raw [1:4] 00 00 00 00\n",
      "  ..$ Page      : int 0\n",
      "  ..$ ShowMode  : int 1\n",
      "  ..$ Top       : raw [1:4] 00 00 00 00\n",
      "  ..$ ZoomMode  : int 1\n",
      "  ..$ ZoomScale : raw [1:4] 33 33 33 40\n",
      " $ 0017  :List of 9\n",
      "  ..$ bCoverPage: int 0\n",
      "  ..$ Facing    : int 0\n",
      "  ..$ FileName  : chr \"D:\\\\IDM8\\\\Evolutionary games in natural, social, and virtual worlds (Friedman, Daniel Sinervo, Barry) (Z-Library).pdf\"\n",
      "  ..$ Left      : raw [1:4] 00 00 00 00\n",
      "  ..$ Page      : int 0\n",
      "  ..$ ShowMode  : int 1\n",
      "  ..$ Top       : raw [1:4] 00 00 00 00\n",
      "  ..$ ZoomMode  : int 1\n",
      "  ..$ ZoomScale : raw [1:4] 00 00 40 40\n",
      " $ 0018  :List of 9\n",
      "  ..$ bCoverPage: int 0\n",
      "  ..$ Facing    : int 0\n",
      "  ..$ FileName  : chr \"D:\\\\IDM8\\\\Evolutionary Games in Natural, Social, and Virtual Worlds-120-沉浸.pdf\"\n",
      "  ..$ Left      : raw [1:4] 00 00 00 00\n",
      "  ..$ Page      : int 0\n",
      "  ..$ ShowMode  : int 1\n",
      "  ..$ Top       : raw [1:4] 00 00 00 00\n",
      "  ..$ ZoomMode  : int 1\n",
      "  ..$ ZoomScale : raw [1:4] 7b d2 14 40\n",
      " $ 0019  :List of 9\n",
      "  ..$ bCoverPage: int 0\n",
      "  ..$ Facing    : int 0\n",
      "  ..$ FileName  : chr \"D:\\\\IDM8\\\\Agent-Based Modeling in Economics and Finance - INET Oxford.pdf\"\n",
      "  ..$ Left      : raw [1:4] 00 00 00 00\n",
      "  ..$ Page      : int 0\n",
      "  ..$ ShowMode  : int 1\n",
      "  ..$ Top       : raw [1:4] 00 00 00 00\n",
      "  ..$ ZoomMode  : int 1\n",
      "  ..$ ZoomScale : raw [1:4] 7b d2 14 40\n",
      " $ 0020  :List of 9\n",
      "  ..$ bCoverPage: int 0\n",
      "  ..$ Facing    : int 0\n",
      "  ..$ FileName  : chr \"D:\\\\IDM8\\\\Scalable agent-based models for optimized policy design.pdf\"\n",
      "  ..$ Left      : raw [1:4] 00 00 00 00\n",
      "  ..$ Page      : int 0\n",
      "  ..$ ShowMode  : int 1\n",
      "  ..$ Top       : raw [1:4] 00 00 00 00\n",
      "  ..$ ZoomMode  : int 1\n",
      "  ..$ ZoomScale : raw [1:4] 01 5e d2 3f\n",
      " $ 0021  :List of 9\n",
      "  ..$ bCoverPage: int 0\n",
      "  ..$ Facing    : int 0\n",
      "  ..$ FileName  : chr \"D:\\\\IDM8\\\\a comparative study between Agent-Based and DSGE.pdf\"\n",
      "  ..$ Left      : raw [1:4] 00 00 00 00\n",
      "  ..$ Page      : int 0\n",
      "  ..$ ShowMode  : int 1\n",
      "  ..$ Top       : raw [1:4] 00 00 00 00\n",
      "  ..$ ZoomMode  : int 1\n",
      "  ..$ ZoomScale : raw [1:4] 7b d2 14 40\n",
      " $ 0022  :List of 9\n",
      "  ..$ bCoverPage: int 0\n",
      "  ..$ Facing    : int 0\n",
      "  ..$ FileName  : chr \"D:\\\\IDM8\\\\Discussion- An Agent-Based Model for Canada (CAN-ABM).pdf\"\n",
      "  ..$ Left      : raw [1:4] 00 00 00 00\n",
      "  ..$ Page      : int 0\n",
      "  ..$ ShowMode  : int 1\n",
      "  ..$ Top       : raw [1:4] 00 00 00 00\n",
      "  ..$ ZoomMode  : int 1\n",
      "  ..$ ZoomScale : raw [1:4] 92 e6 28 40\n",
      " $ 0023  :List of 9\n",
      "  ..$ bCoverPage: int 0\n",
      "  ..$ Facing    : int 0\n",
      "  ..$ FileName  : chr \"D:\\\\IDM8\\\\The effect of disconnection mechanism on cooperative evolution in snowdrift game-沉浸.pdf\"\n",
      "  ..$ Left      : raw [1:4] 00 00 00 00\n",
      "  ..$ Page      : int 0\n",
      "  ..$ ShowMode  : int 1\n",
      "  ..$ Top       : raw [1:4] 00 00 00 00\n",
      "  ..$ ZoomMode  : int 1\n",
      "  ..$ ZoomScale : raw [1:4] 7b d2 14 40\n",
      " $ 0024  :List of 9\n",
      "  ..$ bCoverPage: int 0\n",
      "  ..$ Facing    : int 0\n",
      "  ..$ FileName  : chr \"D:\\\\IDM8\\\\41467_2018_5259_MOESM1_ESM.pdf\"\n",
      "  ..$ Left      : raw [1:4] 00 00 00 00\n",
      "  ..$ Page      : int 0\n",
      "  ..$ ShowMode  : int 1\n",
      "  ..$ Top       : raw [1:4] 00 00 00 00\n",
      "  ..$ ZoomMode  : int 1\n",
      "  ..$ ZoomScale : raw [1:4] a1 a0 10 40\n",
      " $ 0025  :List of 9\n",
      "  ..$ bCoverPage: int 0\n",
      "  ..$ Facing    : int 0\n",
      "  ..$ FileName  : chr \"D:\\\\IDM8\\\\Reputation effects drive the joint evolution of cooperation and social rewarding-沉浸.pdf\"\n",
      "  ..$ Left      : raw [1:4] 00 00 00 00\n",
      "  ..$ Page      : int 0\n",
      "  ..$ ShowMode  : int 1\n",
      "  ..$ Top       : raw [1:4] 00 00 00 00\n",
      "  ..$ ZoomMode  : int 1\n",
      "  ..$ ZoomScale : raw [1:4] 7b d2 14 40\n",
      " $ 0026  :List of 9\n",
      "  ..$ bCoverPage: int 0\n",
      "  ..$ Facing    : int 0\n",
      "  ..$ FileName  : chr \"D:\\\\IDM8\\\\Reputation effects drive the joint evolution of cooperation and social rewarding.pdf\"\n",
      "  ..$ Left      : raw [1:4] 00 00 00 00\n",
      "  ..$ Page      : int 0\n",
      "  ..$ ShowMode  : int 1\n",
      "  ..$ Top       : raw [1:4] 00 00 00 00\n",
      "  ..$ ZoomMode  : int 1\n",
      "  ..$ ZoomScale : raw [1:4] 33 33 33 40\n",
      " $ 0027  :List of 9\n",
      "  ..$ bCoverPage: int 0\n",
      "  ..$ Facing    : int 0\n",
      "  ..$ FileName  : chr \"D:\\\\IDM8\\\\声誉效应驱动合作_ESM.pdf\"\n",
      "  ..$ Left      : raw [1:4] 00 00 00 00\n",
      "  ..$ Page      : int 0\n",
      "  ..$ ShowMode  : int 1\n",
      "  ..$ Top       : raw [1:4] 00 00 00 00\n",
      "  ..$ ZoomMode  : int 1\n",
      "  ..$ ZoomScale : raw [1:4] 00 00 20 40\n",
      " $ 0028  :List of 9\n",
      "  ..$ bCoverPage: int 0\n",
      "  ..$ Facing    : int 0\n",
      "  ..$ FileName  : chr \"D:\\\\IDM8\\\\声誉效应驱动合作_ESM-沉浸.pdf\"\n",
      "  ..$ Left      : raw [1:4] 00 00 00 00\n",
      "  ..$ Page      : int 0\n",
      "  ..$ ShowMode  : int 1\n",
      "  ..$ Top       : raw [1:4] 00 00 00 00\n",
      "  ..$ ZoomMode  : int 1\n",
      "  ..$ ZoomScale : raw [1:4] 7b d2 14 40\n",
      " $ 0029  :List of 9\n",
      "  ..$ bCoverPage: int 0\n",
      "  ..$ Facing    : int 0\n",
      "  ..$ FileName  : chr \"D:\\\\IDM8\\\\Complexity Economics_ A New Way to Witness Capitalism _ SpringerLink-沉浸.pdf\"\n",
      "  ..$ Left      : raw [1:4] 00 00 00 00\n",
      "  ..$ Page      : int 0\n",
      "  ..$ ShowMode  : int 1\n",
      "  ..$ Top       : raw [1:4] 00 00 00 00\n",
      "  ..$ ZoomMode  : int 1\n",
      "  ..$ ZoomScale : raw [1:4] 7b d2 14 40\n",
      " $ 0030  :List of 9\n",
      "  ..$ bCoverPage: int 0\n",
      "  ..$ Facing    : int 0\n",
      "  ..$ FileName  : chr \"D:\\\\IDM8\\\\货币从哪里来.pdf\"\n",
      "  ..$ Left      : raw [1:4] 00 00 00 00\n",
      "  ..$ Page      : int 0\n",
      "  ..$ ShowMode  : int 1\n",
      "  ..$ Top       : raw [1:4] 00 00 00 00\n",
      "  ..$ ZoomMode  : int 1\n",
      "  ..$ ZoomScale : raw [1:4] a1 a0 10 40\n",
      " $ 0031  :List of 9\n",
      "  ..$ bCoverPage: int 0\n",
      "  ..$ Facing    : int 0\n",
      "  ..$ FileName  : chr \"D:\\\\IDM8\\\\中国人英语自学方法教程.pdf\"\n",
      "  ..$ Left      : raw [1:4] 00 00 00 00\n",
      "  ..$ Page      : int 0\n",
      "  ..$ ShowMode  : int 1\n",
      "  ..$ Top       : raw [1:4] 00 00 00 00\n",
      "  ..$ ZoomMode  : int 1\n",
      "  ..$ ZoomScale : raw [1:4] a1 a0 10 40\n",
      " $ 0032  :List of 9\n",
      "  ..$ bCoverPage: int 0\n",
      "  ..$ Facing    : int 0\n",
      "  ..$ FileName  : chr \"D:\\\\IDM8\\\\不能错过的英语启蒙.pdf\"\n",
      "  ..$ Left      : raw [1:4] 00 00 00 00\n",
      "  ..$ Page      : int 0\n",
      "  ..$ ShowMode  : int 1\n",
      "  ..$ Top       : raw [1:4] 00 00 00 00\n",
      "  ..$ ZoomMode  : int 1\n",
      "  ..$ ZoomScale : raw [1:4] a1 a0 10 40\n",
      " $ 0033  :List of 9\n",
      "  ..$ bCoverPage: int 0\n",
      "  ..$ Facing    : int 0\n",
      "  ..$ FileName  : chr \"D:\\\\IDM8\\\\A Behavioral Heterogeneous Agent New Keynesian Model.pdf\"\n",
      "  ..$ Left      : raw [1:4] 00 00 00 00\n",
      "  ..$ Page      : int 0\n",
      "  ..$ ShowMode  : int 1\n",
      "  ..$ Top       : raw [1:4] 00 00 00 00\n",
      "  ..$ ZoomMode  : int 1\n",
      "  ..$ ZoomScale : raw [1:4] 65 93 5d 3f\n",
      " $ 0034  :List of 9\n",
      "  ..$ bCoverPage: int 0\n",
      "  ..$ Facing    : int 0\n",
      "  ..$ FileName  : chr \"D:\\\\IDM8\\\\Agent-Based Macroeconomics.pdf\"\n",
      "  ..$ Left      : raw [1:4] 00 00 00 00\n",
      "  ..$ Page      : int 0\n",
      "  ..$ ShowMode  : int 1\n",
      "  ..$ Top       : raw [1:4] 00 00 00 00\n",
      "  ..$ ZoomMode  : int 1\n",
      "  ..$ ZoomScale : raw [1:4] a1 a0 10 40\n",
      " $ 0035  :List of 9\n",
      "  ..$ bCoverPage: int 0\n",
      "  ..$ Facing    : int 0\n",
      "  ..$ FileName  : chr \"D:\\\\IDM8\\\\波施马-演化经济地理-沉浸.pdf\"\n",
      "  ..$ Left      : raw [1:4] 00 00 00 00\n",
      "  ..$ Page      : int 0\n",
      "  ..$ ShowMode  : int 1\n",
      "  ..$ Top       : raw [1:4] 00 00 00 00\n",
      "  ..$ ZoomMode  : int 1\n",
      "  ..$ ZoomScale : raw [1:4] 9c bc 49 40\n",
      " $ 0036  :List of 9\n",
      "  ..$ bCoverPage: int 0\n",
      "  ..$ Facing    : int 0\n",
      "  ..$ FileName  : chr \"D:\\\\IDM8\\\\evolutionary dynamics theory and empirical method.pdf\"\n",
      "  ..$ Left      : raw [1:4] 00 00 00 00\n",
      "  ..$ Page      : int 0\n",
      "  ..$ ShowMode  : int 1\n",
      "  ..$ Top       : raw [1:4] 00 00 00 00\n",
      "  ..$ ZoomMode  : int 1\n",
      "  ..$ ZoomScale : raw [1:4] a1 a0 10 40\n",
      " $ 0037  :List of 9\n",
      "  ..$ bCoverPage: int 0\n",
      "  ..$ Facing    : int 0\n",
      "  ..$ FileName  : chr \"D:\\\\IDM8\\\\Platforms Competition_ An Ecosystem-View Analysis Based on Evolutionary Game Theory-沉浸.pdf\"\n",
      "  ..$ Left      : raw [1:4] 00 00 00 00\n",
      "  ..$ Page      : int 0\n",
      "  ..$ ShowMode  : int 1\n",
      "  ..$ Top       : raw [1:4] 00 00 00 00\n",
      "  ..$ ZoomMode  : int 1\n",
      "  ..$ ZoomScale : raw [1:4] a1 a0 10 40\n",
      " $ 0038  :List of 9\n",
      "  ..$ bCoverPage: int 0\n",
      "  ..$ Facing    : int 0\n",
      "  ..$ FileName  : chr \"D:\\\\IDM8\\\\Reputation-based disconnection-reconnection mechanism in PDG within dynamic networks-沉浸.pdf\"\n",
      "  ..$ Left      : raw [1:4] 00 00 00 00\n",
      "  ..$ Page      : int 0\n",
      "  ..$ ShowMode  : int 1\n",
      "  ..$ Top       : raw [1:4] 00 00 00 00\n",
      "  ..$ ZoomMode  : int 1\n",
      "  ..$ ZoomScale : raw [1:4] 7b d2 14 40\n",
      " $ 0039  :List of 9\n",
      "  ..$ bCoverPage: int 0\n",
      "  ..$ Facing    : int 0\n",
      "  ..$ FileName  : chr \"D:\\\\jianguo\\\\MyDoc\\\\Reputation-based disconnection-reconnection mechanism in PDG within dynamic networks.pdf\"\n",
      "  ..$ Left      : raw [1:4] 00 00 00 00\n",
      "  ..$ Page      : int 0\n",
      "  ..$ ShowMode  : int 1\n",
      "  ..$ Top       : raw [1:4] 00 00 00 00\n",
      "  ..$ ZoomMode  : int 1\n",
      "  ..$ ZoomScale : raw [1:4] 7c d2 14 40\n",
      " $ 0040  :List of 9\n",
      "  ..$ bCoverPage: int 0\n",
      "  ..$ Facing    : int 0\n",
      "  ..$ FileName  : chr \"D:\\\\IDM8\\\\1_Evolutionary stability in an eco-evolutionary game dynamics with density dependence.pdf\"\n",
      "  ..$ Left      : raw [1:4] 00 00 00 00\n",
      "  ..$ Page      : int 0\n",
      "  ..$ ShowMode  : int 0\n",
      "  ..$ Top       : raw [1:4] 00 00 00 00\n",
      "  ..$ ZoomMode  : int 1\n",
      "  ..$ ZoomScale : raw [1:4] 49 a5 00 40\n",
      " $ 0041  :List of 9\n",
      "  ..$ bCoverPage: int 0\n",
      "  ..$ Facing    : int 0\n",
      "  ..$ FileName  : chr \"D:\\\\IDM8\\\\Agent-based modelling in economics (Gilbert, G. Nigel Hamill, Lynne) (Z-Library).pdf\"\n",
      "  ..$ Left      : raw [1:4] 00 00 00 00\n",
      "  ..$ Page      : int 0\n",
      "  ..$ ShowMode  : int 1\n",
      "  ..$ Top       : raw [1:4] 00 00 00 00\n",
      "  ..$ ZoomMode  : int 1\n",
      "  ..$ ZoomScale : raw [1:4] 00 00 40 40\n",
      " $ 0042  :List of 9\n",
      "  ..$ bCoverPage: int 0\n",
      "  ..$ Facing    : int 0\n",
      "  ..$ FileName  : chr \"D:\\\\IDM8\\\\Network Theory and Agent-Based Modeling in Economics and Finance (Anindya S. Chakrabarti, Lukáš Pichl\"| __truncated__\n",
      "  ..$ Left      : raw [1:4] 00 00 00 00\n",
      "  ..$ Page      : int 0\n",
      "  ..$ ShowMode  : int 1\n",
      "  ..$ Top       : raw [1:4] 00 00 00 00\n",
      "  ..$ ZoomMode  : int 1\n",
      "  ..$ ZoomScale : raw [1:4] 92 e6 28 40\n",
      " $ 0043  :List of 9\n",
      "  ..$ bCoverPage: int 0\n",
      "  ..$ Facing    : int 0\n",
      "  ..$ FileName  : chr \"D:\\\\IDM8\\\\Some Reflections on Financial Instability in Macro Agent-Based Models_ Genealogy and Objectives-沉浸.pdf\"\n",
      "  ..$ Left      : raw [1:4] 00 00 00 00\n",
      "  ..$ Page      : int 0\n",
      "  ..$ ShowMode  : int 1\n",
      "  ..$ Top       : raw [1:4] 00 00 00 00\n",
      "  ..$ ZoomMode  : int 1\n",
      "  ..$ ZoomScale : raw [1:4] 7b d2 14 40\n",
      " $ 0044  :List of 9\n",
      "  ..$ bCoverPage: int 0\n",
      "  ..$ Facing    : int 0\n",
      "  ..$ FileName  : chr \"D:\\\\IDM8\\\\Some Reflections on Financial Instability in Macro Agent-Based Models.pdf\"\n",
      "  ..$ Left      : raw [1:4] 00 00 00 00\n",
      "  ..$ Page      : int 0\n",
      "  ..$ ShowMode  : int 1\n",
      "  ..$ Top       : raw [1:4] 00 00 00 00\n",
      "  ..$ ZoomMode  : int 1\n",
      "  ..$ ZoomScale : raw [1:4] 00 00 40 40\n",
      " $ 0045  :List of 9\n",
      "  ..$ bCoverPage: int 0\n",
      "  ..$ Facing    : int 0\n",
      "  ..$ FileName  : chr \"D:\\\\IDM8\\\\EvoBank_ An evolutionary game solution for Bankruptcy problem - ScienceDirect-中文.pdf\"\n",
      "  ..$ Left      : raw [1:4] 00 00 00 00\n",
      "  ..$ Page      : int 0\n",
      "  ..$ ShowMode  : int 1\n",
      "  ..$ Top       : raw [1:4] 00 00 00 00\n",
      "  ..$ ZoomMode  : int 1\n",
      "  ..$ ZoomScale : raw [1:4] 01 5e d2 3f\n",
      " $ 0046  :List of 9\n",
      "  ..$ bCoverPage: int 0\n",
      "  ..$ Facing    : int 0\n",
      "  ..$ FileName  : chr \"D:\\\\IDM8\\\\TheEconomist.2024.03.30.pdf\"\n",
      "  ..$ Left      : raw [1:4] 00 00 00 00\n",
      "  ..$ Page      : int 30\n",
      "  ..$ ShowMode  : int 1\n",
      "  ..$ Top       : raw [1:4] 00 00 46 44\n",
      "  ..$ ZoomMode  : int 1\n",
      "  ..$ ZoomScale : raw [1:4] 00 00 40 3f\n"
     ]
    }
   ],
   "source": [
    "str(a1)"
   ]
  },
  {
   "cell_type": "code",
   "execution_count": 7,
   "metadata": {
    "vscode": {
     "languageId": "r"
    }
   },
   "outputs": [],
   "source": [
    "a1[[1]]=NULL  #删除Active项-活动页面\n",
    "a2=map(a1,3)  #提取 filename项  #list可以，chr-字符串也可以。所以就不简化了"
   ]
  },
  {
   "cell_type": "code",
   "execution_count": 11,
   "metadata": {
    "vscode": {
     "languageId": "r"
    }
   },
   "outputs": [
    {
     "name": "stdout",
     "output_type": "stream",
     "text": [
      "List of 46\n",
      " $ 0001: chr \"D:\\\\IDM8\\\\Stable polymorphism of cooperators and punishers in a public goods game-沉浸.pdf\"\n",
      " $ 0002: chr \"D:\\\\IDM8\\\\Evolutionary dynamics of public goods game with tax-based rewarding cooperators.pdf\"\n",
      " $ 0003: chr \"D:\\\\IDM8\\\\Evolutionary dynamics of public goods game with tax-based rewarding cooperators-沉浸.pdf\"\n",
      " $ 0004: chr \"D:\\\\IDM8\\\\Tax-based pure punishment and reward in the public goods game.pdf\"\n",
      " $ 0005: chr \"D:\\\\IDM8\\\\Replicator Dynamics for Optional Public Good Games.pdf\"\n",
      " $ 0006: chr \"D:\\\\IDM8\\\\zenyangzhegnfu (Z-Library).pdf\"\n",
      " $ 0007: chr \"D:\\\\IDM8\\\\大国大城-陆铭.pdf\"\n",
      " $ 0008: chr \"D:\\\\IDM8\\\\Theoretical Foundations of Macroeconomic Policy Growth, Productivity and Public Finance (Giovanni Di \"| __truncated__\n",
      " $ 0009: chr \"D:\\\\IDM8\\\\ch3-Theoretical Foundations of Macroeconomic Policy_ Growth, Productivity and Public Finance-5.pdf\"\n",
      " $ 0010: chr \"D:\\\\IDM8\\\\Stable polymorphism of cooperators and punishers in a public goods game.pdf\"\n",
      " $ 0011: chr \"D:\\\\IDM8\\\\Fundamentals of Evolutionary Game Theory and its Applications (Jun Tanimoto (auth.)) (Z-Library).pdf\"\n",
      " $ 0012: chr \"D:\\\\IDM8\\\\Fundamentals of Evolutionary Game Theory and its Applications-67-沉浸.pdf\"\n",
      " $ 0013: chr \"D:\\\\IDM8\\\\Cooperation without punishment _ Scientific Reports-沉浸.pdf\"\n",
      " $ 0014: chr \"D:\\\\IDM8\\\\AMC-D-24-00826-张倩伟.pdf\"\n",
      " $ 0015: chr \"D:\\\\IDM8\\\\AMC-D-24-00826-张倩伟-沉浸.pdf\"\n",
      " $ 0016: chr \"D:\\\\IDM8\\\\An Introduction to Classical Econometric Theory-Ruud-鲁德-常用.pdf\"\n",
      " $ 0017: chr \"D:\\\\IDM8\\\\Evolutionary games in natural, social, and virtual worlds (Friedman, Daniel Sinervo, Barry) (Z-Library).pdf\"\n",
      " $ 0018: chr \"D:\\\\IDM8\\\\Evolutionary Games in Natural, Social, and Virtual Worlds-120-沉浸.pdf\"\n",
      " $ 0019: chr \"D:\\\\IDM8\\\\Agent-Based Modeling in Economics and Finance - INET Oxford.pdf\"\n",
      " $ 0020: chr \"D:\\\\IDM8\\\\Scalable agent-based models for optimized policy design.pdf\"\n",
      " $ 0021: chr \"D:\\\\IDM8\\\\a comparative study between Agent-Based and DSGE.pdf\"\n",
      " $ 0022: chr \"D:\\\\IDM8\\\\Discussion- An Agent-Based Model for Canada (CAN-ABM).pdf\"\n",
      " $ 0023: chr \"D:\\\\IDM8\\\\The effect of disconnection mechanism on cooperative evolution in snowdrift game-沉浸.pdf\"\n",
      " $ 0024: chr \"D:\\\\IDM8\\\\41467_2018_5259_MOESM1_ESM.pdf\"\n",
      " $ 0025: chr \"D:\\\\IDM8\\\\Reputation effects drive the joint evolution of cooperation and social rewarding-沉浸.pdf\"\n",
      " $ 0026: chr \"D:\\\\IDM8\\\\Reputation effects drive the joint evolution of cooperation and social rewarding.pdf\"\n",
      " $ 0027: chr \"D:\\\\IDM8\\\\声誉效应驱动合作_ESM.pdf\"\n",
      " $ 0028: chr \"D:\\\\IDM8\\\\声誉效应驱动合作_ESM-沉浸.pdf\"\n",
      " $ 0029: chr \"D:\\\\IDM8\\\\Complexity Economics_ A New Way to Witness Capitalism _ SpringerLink-沉浸.pdf\"\n",
      " $ 0030: chr \"D:\\\\IDM8\\\\货币从哪里来.pdf\"\n",
      " $ 0031: chr \"D:\\\\IDM8\\\\中国人英语自学方法教程.pdf\"\n",
      " $ 0032: chr \"D:\\\\IDM8\\\\不能错过的英语启蒙.pdf\"\n",
      " $ 0033: chr \"D:\\\\IDM8\\\\A Behavioral Heterogeneous Agent New Keynesian Model.pdf\"\n",
      " $ 0034: chr \"D:\\\\IDM8\\\\Agent-Based Macroeconomics.pdf\"\n",
      " $ 0035: chr \"D:\\\\IDM8\\\\波施马-演化经济地理-沉浸.pdf\"\n",
      " $ 0036: chr \"D:\\\\IDM8\\\\evolutionary dynamics theory and empirical method.pdf\"\n",
      " $ 0037: chr \"D:\\\\IDM8\\\\Platforms Competition_ An Ecosystem-View Analysis Based on Evolutionary Game Theory-沉浸.pdf\"\n",
      " $ 0038: chr \"D:\\\\IDM8\\\\Reputation-based disconnection-reconnection mechanism in PDG within dynamic networks-沉浸.pdf\"\n",
      " $ 0039: chr \"D:\\\\jianguo\\\\MyDoc\\\\Reputation-based disconnection-reconnection mechanism in PDG within dynamic networks.pdf\"\n",
      " $ 0040: chr \"D:\\\\IDM8\\\\1_Evolutionary stability in an eco-evolutionary game dynamics with density dependence.pdf\"\n",
      " $ 0041: chr \"D:\\\\IDM8\\\\Agent-based modelling in economics (Gilbert, G. Nigel Hamill, Lynne) (Z-Library).pdf\"\n",
      " $ 0042: chr \"D:\\\\IDM8\\\\Network Theory and Agent-Based Modeling in Economics and Finance (Anindya S. Chakrabarti, Lukáš Pichl\"| __truncated__\n",
      " $ 0043: chr \"D:\\\\IDM8\\\\Some Reflections on Financial Instability in Macro Agent-Based Models_ Genealogy and Objectives-沉浸.pdf\"\n",
      " $ 0044: chr \"D:\\\\IDM8\\\\Some Reflections on Financial Instability in Macro Agent-Based Models.pdf\"\n",
      " $ 0045: chr \"D:\\\\IDM8\\\\EvoBank_ An evolutionary game solution for Bankruptcy problem - ScienceDirect-中文.pdf\"\n",
      " $ 0046: chr \"D:\\\\IDM8\\\\TheEconomist.2024.03.30.pdf\"\n"
     ]
    }
   ],
   "source": [
    "str(a2)"
   ]
  },
  {
   "cell_type": "code",
   "execution_count": 8,
   "metadata": {
    "vscode": {
     "languageId": "r"
    }
   },
   "outputs": [],
   "source": [
    "a3=str_replace_all(a2, \"\\\\\\\\\", \"/\")"
   ]
  },
  {
   "cell_type": "code",
   "execution_count": 2,
   "metadata": {
    "vscode": {
     "languageId": "r"
    }
   },
   "outputs": [
    {
     "ename": "ERROR",
     "evalue": "Error in str(a3): object 'a3' not found\n",
     "output_type": "error",
     "traceback": [
      "Error in str(a3): object 'a3' not found\nTraceback:\n",
      "1. str(a3)"
     ]
    }
   ],
   "source": [
    "str(a3)"
   ]
  },
  {
   "cell_type": "code",
   "execution_count": 4,
   "metadata": {
    "vscode": {
     "languageId": "r"
    }
   },
   "outputs": [
    {
     "ename": "ERROR",
     "evalue": "Error in eval(expr, envir, enclos): object 'a3' not found\n",
     "output_type": "error",
     "traceback": [
      "Error in eval(expr, envir, enclos): object 'a3' not found\nTraceback:\n"
     ]
    }
   ],
   "source": [
    "n=length(a3)\n",
    "a4=paste0(\"[\",1:n, \"] \", a3)"
   ]
  },
  {
   "cell_type": "code",
   "execution_count": 15,
   "metadata": {
    "vscode": {
     "languageId": "r"
    }
   },
   "outputs": [
    {
     "name": "stdout",
     "output_type": "stream",
     "text": [
      " chr [1:46] \"[1] D:/IDM8/Stable polymorphism of cooperators and punishers in a public goods game-沉浸.pdf\" ...\n"
     ]
    }
   ],
   "source": [
    "str(a4)"
   ]
  },
  {
   "cell_type": "code",
   "execution_count": 9,
   "metadata": {
    "vscode": {
     "languageId": "r"
    }
   },
   "outputs": [],
   "source": [
    "days=as.character(Sys.Date())\n",
    "fn=paste0(\"D:/idm8/foxit_reg_auto-\",days,\".txt\")   #filename"
   ]
  },
  {
   "cell_type": "code",
   "execution_count": 18,
   "metadata": {
    "vscode": {
     "languageId": "r"
    }
   },
   "outputs": [
    {
     "name": "stdout",
     "output_type": "stream",
     "text": [
      "[1] \"D:/idm8/foxit_reg_auto-2024-04-03.txt\"\n"
     ]
    }
   ],
   "source": [
    "print(fn)"
   ]
  },
  {
   "cell_type": "markdown",
   "metadata": {},
   "source": [
    "这是2024-04-03的foxit阅读记录"
   ]
  },
  {
   "cell_type": "code",
   "execution_count": 1,
   "metadata": {
    "vscode": {
     "languageId": "r"
    }
   },
   "outputs": [
    {
     "ename": "ERROR",
     "evalue": "Error in print(a3): object 'a3' not found\n",
     "output_type": "error",
     "traceback": [
      "Error in print(a3): object 'a3' not found\nTraceback:\n",
      "1. print(a3)"
     ]
    }
   ],
   "source": [
    "print(a3)"
   ]
  },
  {
   "cell_type": "code",
   "execution_count": 10,
   "metadata": {
    "vscode": {
     "languageId": "r"
    }
   },
   "outputs": [
    {
     "name": "stderr",
     "output_type": "stream",
     "text": [
      "── \u001b[1mAttaching core tidyverse packages\u001b[22m ──────────────────────── tidyverse 2.0.0 ──\n",
      "\u001b[32m✔\u001b[39m \u001b[34mdplyr    \u001b[39m 1.1.2     \u001b[32m✔\u001b[39m \u001b[34mreadr    \u001b[39m 2.1.4\n",
      "\u001b[32m✔\u001b[39m \u001b[34mforcats  \u001b[39m 1.0.0     \u001b[32m✔\u001b[39m \u001b[34mstringr  \u001b[39m 1.5.0\n",
      "\u001b[32m✔\u001b[39m \u001b[34mggplot2  \u001b[39m 3.4.2     \u001b[32m✔\u001b[39m \u001b[34mtibble   \u001b[39m 3.2.1\n",
      "\u001b[32m✔\u001b[39m \u001b[34mlubridate\u001b[39m 1.9.2     \u001b[32m✔\u001b[39m \u001b[34mtidyr    \u001b[39m 1.3.0\n",
      "\u001b[32m✔\u001b[39m \u001b[34mpurrr    \u001b[39m 1.0.1     \n",
      "── \u001b[1mConflicts\u001b[22m ────────────────────────────────────────── tidyverse_conflicts() ──\n",
      "\u001b[31m✖\u001b[39m \u001b[34mdplyr\u001b[39m::\u001b[32mfilter()\u001b[39m masks \u001b[34mstats\u001b[39m::filter()\n",
      "\u001b[31m✖\u001b[39m \u001b[34mdplyr\u001b[39m::\u001b[32mlag()\u001b[39m    masks \u001b[34mstats\u001b[39m::lag()\n",
      "\u001b[36mℹ\u001b[39m Use the conflicted package (\u001b[3m\u001b[34m<http://conflicted.r-lib.org/>\u001b[39m\u001b[23m) to force all conflicts to become errors\n"
     ]
    }
   ],
   "source": [
    "library(tidyverse)"
   ]
  },
  {
   "cell_type": "code",
   "execution_count": 1,
   "metadata": {
    "vscode": {
     "languageId": "r"
    }
   },
   "outputs": [],
   "source": [
    "fn <- \"D:/idm8/foxit_reg_auto.txt-old.txt\"   #filename   #读入之前没有添加超链接的foxit记录\n",
    "# 本来添加日期，但是为了便于思源打开txt文件，乃固定文件名称"
   ]
  },
  {
   "cell_type": "code",
   "execution_count": 6,
   "metadata": {
    "vscode": {
     "languageId": "r"
    }
   },
   "outputs": [],
   "source": [
    "#a10 = read.table(fn)\n",
    "a10 <- read.table(file = fn, fill = TRUE)"
   ]
  },
  {
   "cell_type": "code",
   "execution_count": 8,
   "metadata": {
    "vscode": {
     "languageId": "r"
    }
   },
   "outputs": [],
   "source": [
    "a11 <- read.table(file = fn, sep = \"\\t\")"
   ]
  },
  {
   "cell_type": "code",
   "execution_count": 2,
   "metadata": {
    "vscode": {
     "languageId": "r"
    }
   },
   "outputs": [],
   "source": [
    "a12 <- read.table(file = fn, sep = \"\\t\")"
   ]
  },
  {
   "cell_type": "code",
   "execution_count": 7,
   "metadata": {
    "vscode": {
     "languageId": "r"
    }
   },
   "outputs": [
    {
     "name": "stdout",
     "output_type": "stream",
     "text": [
      "'data.frame':\t51 obs. of  12 variables:\n",
      " $ V1 : chr  \"[1]\" \"[2]\" \"[3]\" \"[4]\" ...\n",
      " $ V2 : chr  \"D:/IDM8/Stable\" \"D:/IDM8/Evolutionary\" \"D:/IDM8/Evolutionary\" \"D:/IDM8/Tax-based\" ...\n",
      " $ V3 : chr  \"polymorphism\" \"dynamics\" \"dynamics\" \"pure\" ...\n",
      " $ V4 : chr  \"of\" \"of\" \"of\" \"punishment\" ...\n",
      " $ V5 : chr  \"cooperators\" \"public\" \"public\" \"and\" ...\n",
      " $ V6 : chr  \"and\" \"goods\" \"goods\" \"reward\" ...\n",
      " $ V7 : chr  \"punishers\" \"game\" \"game\" \"in\" ...\n",
      " $ V8 : chr  \"in\" \"with\" \"with\" \"the\" ...\n",
      " $ V9 : chr  \"a\" \"tax-based\" \"tax-based\" \"public\" ...\n",
      " $ V10: chr  \"public\" \"rewarding\" \"rewarding\" \"goods\" ...\n",
      " $ V11: chr  \"goods\" \"cooperators.pdf\" \"cooperators-沉浸.pdf\" \"game.pdf\" ...\n",
      " $ V12: chr  \"game-沉浸.pdf\" \"\" \"\" \"\" ...\n"
     ]
    }
   ],
   "source": [
    "str(a10)"
   ]
  },
  {
   "cell_type": "code",
   "execution_count": 9,
   "metadata": {
    "vscode": {
     "languageId": "r"
    }
   },
   "outputs": [
    {
     "name": "stdout",
     "output_type": "stream",
     "text": [
      "'data.frame':\t46 obs. of  1 variable:\n",
      " $ V1: chr  \"[1] D:/IDM8/Stable polymorphism of cooperators and punishers in a public goods game-沉浸.pdf\" \"[2] D:/IDM8/Evolutionary dynamics of public goods game with tax-based rewarding cooperators.pdf\" \"[3] D:/IDM8/Evolutionary dynamics of public goods game with tax-based rewarding cooperators-沉浸.pdf\" \"[4] D:/IDM8/Tax-based pure punishment and reward in the public goods game.pdf\" ...\n"
     ]
    }
   ],
   "source": [
    "str(a11)"
   ]
  },
  {
   "cell_type": "code",
   "execution_count": 3,
   "metadata": {
    "vscode": {
     "languageId": "r"
    }
   },
   "outputs": [
    {
     "name": "stdout",
     "output_type": "stream",
     "text": [
      "'data.frame':\t34 obs. of  1 variable:\n",
      " $ V1: chr  \"[1] D:/IDM8/Financial Structure, Firm Size and Industry Growth.pdf\" \"[2] D:/IDM8/伍德里奇-横截面-中文-常用-2002.pdf\" \"[3] D:/IDM8/高级宏观经济学0：数理经济学.pdf\" \"[4] D:/IDM8/Thresholds in finance–growth nexus- Evidence from G‐7.pdf\" ...\n"
     ]
    }
   ],
   "source": [
    "str(a12)"
   ]
  },
  {
   "cell_type": "code",
   "execution_count": 13,
   "metadata": {
    "vscode": {
     "languageId": "r"
    }
   },
   "outputs": [],
   "source": [
    "a3=a12"
   ]
  },
  {
   "cell_type": "code",
   "execution_count": 4,
   "metadata": {
    "vscode": {
     "languageId": "r"
    }
   },
   "outputs": [],
   "source": [
    "a3b=unlist(a12)"
   ]
  },
  {
   "cell_type": "code",
   "execution_count": 5,
   "metadata": {
    "vscode": {
     "languageId": "r"
    }
   },
   "outputs": [
    {
     "name": "stdout",
     "output_type": "stream",
     "text": [
      " Named chr [1:34] \"[1] D:/IDM8/Financial Structure, Firm Size and Industry Growth.pdf\" ...\n",
      " - attr(*, \"names\")= chr [1:34] \"V11\" \"V12\" \"V13\" \"V14\" ...\n"
     ]
    }
   ],
   "source": [
    "str(a3b)"
   ]
  },
  {
   "cell_type": "code",
   "execution_count": 6,
   "metadata": {
    "vscode": {
     "languageId": "r"
    }
   },
   "outputs": [],
   "source": [
    "a3c=unname(a3b)"
   ]
  },
  {
   "cell_type": "code",
   "execution_count": 7,
   "metadata": {
    "vscode": {
     "languageId": "r"
    }
   },
   "outputs": [
    {
     "name": "stdout",
     "output_type": "stream",
     "text": [
      " chr [1:34] \"[1] D:/IDM8/Financial Structure, Firm Size and Industry Growth.pdf\" ...\n"
     ]
    }
   ],
   "source": [
    "str(a3c)"
   ]
  },
  {
   "cell_type": "code",
   "execution_count": 11,
   "metadata": {
    "vscode": {
     "languageId": "r"
    }
   },
   "outputs": [],
   "source": [
    "a3d=str_replace(a3c, \"\\\\[.*\\\\] \", \"\")"
   ]
  },
  {
   "cell_type": "code",
   "execution_count": 12,
   "metadata": {
    "vscode": {
     "languageId": "r"
    }
   },
   "outputs": [
    {
     "name": "stdout",
     "output_type": "stream",
     "text": [
      " chr [1:34] \"D:/IDM8/Financial Structure, Firm Size and Industry Growth.pdf\" ...\n"
     ]
    }
   ],
   "source": [
    "str(a3d)"
   ]
  },
  {
   "cell_type": "code",
   "execution_count": 14,
   "metadata": {
    "vscode": {
     "languageId": "r"
    }
   },
   "outputs": [
    {
     "name": "stderr",
     "output_type": "stream",
     "text": [
      "Warning message in stri_replace_first_regex(string, pattern, fix_replacement(replacement), :\n",
      "\"argument is not an atomic vector; coercing\"\n"
     ]
    }
   ],
   "source": [
    "a4=str_replace(a3, \"(.*)\", \"[\\\\1](file://\\\\1)\")"
   ]
  },
  {
   "cell_type": "code",
   "execution_count": 15,
   "metadata": {
    "vscode": {
     "languageId": "r"
    }
   },
   "outputs": [
    {
     "name": "stdout",
     "output_type": "stream",
     "text": [
      " chr \"[c(\\\"D:/IDM8/Stable polymorphism of cooperators and punishers in a public goods game-沉浸.pdf\\\", \\\"D:/IDM8/Evol\"| __truncated__\n"
     ]
    }
   ],
   "source": [
    "str(a4)"
   ]
  },
  {
   "cell_type": "code",
   "execution_count": 13,
   "metadata": {
    "vscode": {
     "languageId": "r"
    }
   },
   "outputs": [],
   "source": [
    "a4b=str_replace(a3d, \"(.*)\", \"[\\\\1](file://\\\\1)\")"
   ]
  },
  {
   "cell_type": "code",
   "execution_count": 14,
   "metadata": {
    "vscode": {
     "languageId": "r"
    }
   },
   "outputs": [
    {
     "name": "stdout",
     "output_type": "stream",
     "text": [
      " chr [1:34] \"[D:/IDM8/Financial Structure, Firm Size and Industry Growth.pdf](file://D:/IDM8/Financial Structure, Firm Size \"| __truncated__ ...\n"
     ]
    }
   ],
   "source": [
    "str(a4b)"
   ]
  },
  {
   "cell_type": "code",
   "execution_count": 15,
   "metadata": {
    "vscode": {
     "languageId": "r"
    }
   },
   "outputs": [],
   "source": [
    "a4=a4b"
   ]
  },
  {
   "cell_type": "code",
   "execution_count": 16,
   "metadata": {
    "vscode": {
     "languageId": "r"
    }
   },
   "outputs": [],
   "source": [
    "n <- length(a4)\n",
    "a5 <- paste0(\"[\", 1:n, \"] \", a4)"
   ]
  },
  {
   "cell_type": "code",
   "execution_count": 17,
   "metadata": {
    "vscode": {
     "languageId": "r"
    }
   },
   "outputs": [],
   "source": [
    "fn=\"D:/idm8/foxit_reg_auto.txt\"   #filename\n",
    "write.table(a5, fn, row.names = FALSE, col.names = FALSE, quote = FALSE)"
   ]
  },
  {
   "cell_type": "code",
   "execution_count": 1,
   "metadata": {
    "vscode": {
     "languageId": "r"
    }
   },
   "outputs": [
    {
     "data": {
      "text/html": [
       "'D:/MyR_Lib4/rmarkdown'"
      ],
      "text/latex": [
       "'D:/MyR\\_Lib4/rmarkdown'"
      ],
      "text/markdown": [
       "'D:/MyR_Lib4/rmarkdown'"
      ],
      "text/plain": [
       "[1] \"D:/MyR_Lib4/rmarkdown\""
      ]
     },
     "metadata": {},
     "output_type": "display_data"
    }
   ],
   "source": [
    "find.package(\"rmarkdown\")"
   ]
  }
 ],
 "metadata": {
  "kernelspec": {
   "display_name": "R",
   "language": "R",
   "name": "ir"
  },
  "language_info": {
   "codemirror_mode": "r",
   "file_extension": ".r",
   "mimetype": "text/x-r-source",
   "name": "R",
   "pygments_lexer": "r",
   "version": "4.2.3"
  }
 },
 "nbformat": 4,
 "nbformat_minor": 2
}
