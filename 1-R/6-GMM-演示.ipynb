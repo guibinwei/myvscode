{
 "cells": [
  {
   "cell_type": "code",
   "execution_count": 27,
   "metadata": {
    "vscode": {
     "languageId": "r"
    }
   },
   "outputs": [],
   "source": [
    "# Set random seed for reproducibility\n",
    "set.seed(123)\n",
    "\n",
    "# Generate 10 random numbers from N(0, 1)\n",
    "X <- rnorm(10, mean = 0, sd = 1)"
   ]
  },
  {
   "cell_type": "code",
   "execution_count": 28,
   "metadata": {
    "vscode": {
     "languageId": "r"
    }
   },
   "outputs": [],
   "source": [
    "#print(X)"
   ]
  },
  {
   "cell_type": "code",
   "execution_count": 29,
   "metadata": {
    "vscode": {
     "languageId": "r"
    }
   },
   "outputs": [],
   "source": [
    "# Define moment conditions\n",
    "g <- function(mu, x) {\n",
    "  rbind(\n",
    "    x - mu,  # First moment condition\n",
    "    (x - mu)^2 - 1  # Second moment condition\n",
    "  )\n",
    "}\n",
    "\n",
    "# Define GMM objective function\n",
    "gmm_obj <- function(mu, x, W) {\n",
    "  moments <- rowMeans(g(mu, x))\n",
    "  t(moments) %*% W %*% moments\n",
    "}\n",
    "\n",
    "# Initial weighting matrix (identity matrix)\n",
    "W <- diag(2)"
   ]
  },
  {
   "cell_type": "code",
   "execution_count": 30,
   "metadata": {
    "vscode": {
     "languageId": "r"
    }
   },
   "outputs": [],
   "source": [
    "#print(W)"
   ]
  },
  {
   "cell_type": "code",
   "execution_count": 31,
   "metadata": {
    "vscode": {
     "languageId": "r"
    }
   },
   "outputs": [],
   "source": [
    "# Perform GMM estimation\n",
    "result <- optim(par = 0, fn = gmm_obj, x = X, W = W, method = \"BFGS\")"
   ]
  },
  {
   "cell_type": "code",
   "execution_count": 32,
   "metadata": {
    "vscode": {
     "languageId": "r"
    }
   },
   "outputs": [],
   "source": [
    "# Two-step GMM\n",
    "mu_initial <- result$par\n",
    "g_initial <- g(mu_initial, X)\n",
    "S <- cov(t(g_initial))\n",
    "W_optimal <- solve(S)\n",
    "\n"
   ]
  },
  {
   "cell_type": "code",
   "execution_count": 36,
   "metadata": {
    "vscode": {
     "languageId": "r"
    }
   },
   "outputs": [
    {
     "name": "stdout",
     "output_type": "stream",
     "text": [
      "[1] \"g_initial=\"\n",
      "           [,1]       [,2]     [,3]         [,4]        [,5]     [,6]\n",
      "[1,] -0.6351012 -0.3048030 1.484083 -0.004117137  0.05466221 1.640439\n",
      "[2,] -0.5966465 -0.9070951 1.202502 -0.999983049 -0.99701204 1.691042\n",
      "           [,7]       [,8]       [,9]      [,10]\n",
      "[1,]  0.3862907 -1.3396868 -0.7614784 -0.5202875\n",
      "[2,] -0.8507795  0.7947606 -0.4201507 -0.7293009\n",
      "[1] \"S=\"\n",
      "          [,1]      [,2]\n",
      "[1,] 0.9097040 0.4966335\n",
      "[2,] 0.4966335 1.0237490\n"
     ]
    }
   ],
   "source": [
    "print(\"g_initial=\")\n",
    "print(g_initial)\n",
    "print(\"S=\")\n",
    "print(S)"
   ]
  },
  {
   "cell_type": "code",
   "execution_count": null,
   "metadata": {
    "vscode": {
     "languageId": "r"
    }
   },
   "outputs": [],
   "source": [
    "result_optimal <- optim(par = mu_initial, fn = gmm_obj, x = X, W = W_optimal, method = \"BFGS\")"
   ]
  },
  {
   "cell_type": "code",
   "execution_count": 33,
   "metadata": {
    "vscode": {
     "languageId": "r"
    }
   },
   "outputs": [
    {
     "name": "stdout",
     "output_type": "stream",
     "text": [
      "First-step GMM estimate of μ: 0.07462553 \n",
      "True μ: 0\n",
      "Sample mean: 0.07462564 \n",
      "Two-step GMM estimate of μ: 0.1783346 \n"
     ]
    }
   ],
   "source": [
    "cat(\"First-step GMM estimate of μ:\", result$par, \"\\n\")\n",
    "cat(\"True μ: 0\\n\")\n",
    "cat(\"Sample mean:\", mean(X), \"\\n\")\n",
    "cat(\"Two-step GMM estimate of μ:\", result_optimal$par, \"\\n\")"
   ]
  },
  {
   "cell_type": "code",
   "execution_count": 37,
   "metadata": {
    "vscode": {
     "languageId": "r"
    }
   },
   "outputs": [
    {
     "name": "stdout",
     "output_type": "stream",
     "text": [
      "Average one-step estimate: -0.01193899 \n",
      "Average two-step estimate: -0.006799649 \n",
      "Variance of one-step estimates: 0.0954817 \n",
      "Variance of two-step estimates: 0.1837869 \n"
     ]
    }
   ],
   "source": [
    "set.seed(123)\n",
    "n_simulations <- 1000\n",
    "results_one_step <- numeric(n_simulations)\n",
    "results_two_step <- numeric(n_simulations)\n",
    "\n",
    "for(i in 1:n_simulations) {\n",
    "  X <- rnorm(10, mean = 0, sd = 1)\n",
    "  \n",
    "  # One-step GMM\n",
    "  W <- diag(2)\n",
    "  result <- optim(par = 0, fn = gmm_obj, x = X, W = W, method = \"BFGS\")\n",
    "  results_one_step[i] <- result$par\n",
    "  \n",
    "  # Two-step GMM\n",
    "  mu_initial <- result$par\n",
    "  g_initial <- g(mu_initial, X)\n",
    "  S <- cov(t(g_initial))\n",
    "  W_optimal <- solve(S)\n",
    "  result_optimal <- optim(par = mu_initial, fn = gmm_obj, x = X, W = W_optimal, method = \"BFGS\")\n",
    "  results_two_step[i] <- result_optimal$par\n",
    "}\n",
    "\n",
    "cat(\"Average one-step estimate:\", mean(results_one_step), \"\\n\")\n",
    "cat(\"Average two-step estimate:\", mean(results_two_step), \"\\n\")\n",
    "cat(\"Variance of one-step estimates:\", var(results_one_step), \"\\n\")\n",
    "cat(\"Variance of two-step estimates:\", var(results_two_step), \"\\n\")"
   ]
  },
  {
   "cell_type": "code",
   "execution_count": 38,
   "metadata": {
    "vscode": {
     "languageId": "r"
    }
   },
   "outputs": [
    {
     "name": "stdout",
     "output_type": "stream",
     "text": [
      "Average one-step estimate: 0.0009766987 \n",
      "Average two-step estimate: -0.0009289829 \n",
      "Variance of one-step estimates: 0.009041242 \n",
      "Variance of two-step estimates: 0.009576807 \n"
     ]
    }
   ],
   "source": [
    "set.seed(123)\n",
    "n_simulations <- 1000\n",
    "results_one_step <- numeric(n_simulations)\n",
    "results_two_step <- numeric(n_simulations)\n",
    "\n",
    "for(i in 1:n_simulations) {\n",
    "  X <- rnorm(100, mean = 0, sd = 1)\n",
    "  \n",
    "  # One-step GMM\n",
    "  W <- diag(2)\n",
    "  result <- optim(par = 0, fn = gmm_obj, x = X, W = W, method = \"BFGS\")\n",
    "  results_one_step[i] <- result$par\n",
    "  \n",
    "  # Two-step GMM\n",
    "  mu_initial <- result$par\n",
    "  g_initial <- g(mu_initial, X)\n",
    "  S <- cov(t(g_initial))\n",
    "  W_optimal <- solve(S)\n",
    "  result_optimal <- optim(par = mu_initial, fn = gmm_obj, x = X, W = W_optimal, method = \"BFGS\")\n",
    "  results_two_step[i] <- result_optimal$par\n",
    "}\n",
    "\n",
    "cat(\"Average one-step estimate:\", mean(results_one_step), \"\\n\")\n",
    "cat(\"Average two-step estimate:\", mean(results_two_step), \"\\n\")\n",
    "cat(\"Variance of one-step estimates:\", var(results_one_step), \"\\n\")\n",
    "cat(\"Variance of two-step estimates:\", var(results_two_step), \"\\n\")"
   ]
  }
 ],
 "metadata": {
  "kernelspec": {
   "display_name": "R",
   "language": "R",
   "name": "ir"
  },
  "language_info": {
   "codemirror_mode": "r",
   "file_extension": ".r",
   "mimetype": "text/x-r-source",
   "name": "R",
   "pygments_lexer": "r",
   "version": "4.2.3"
  }
 },
 "nbformat": 4,
 "nbformat_minor": 2
}
