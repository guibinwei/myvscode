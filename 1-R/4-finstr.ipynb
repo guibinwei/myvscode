{
 "cells": [
  {
   "cell_type": "markdown",
   "metadata": {},
   "source": [
    "# 0-载入包"
   ]
  },
  {
   "cell_type": "code",
   "execution_count": 1,
   "metadata": {
    "vscode": {
     "languageId": "r"
    }
   },
   "outputs": [],
   "source": [
    "#注意添加注释"
   ]
  },
  {
   "cell_type": "code",
   "execution_count": 2,
   "metadata": {
    "vscode": {
     "languageId": "r"
    }
   },
   "outputs": [
    {
     "name": "stderr",
     "output_type": "stream",
     "text": [
      "── \u001b[1mAttaching core tidyverse packages\u001b[22m ──────────────────────── tidyverse 2.0.0 ──\n",
      "\u001b[32m✔\u001b[39m \u001b[34mdplyr    \u001b[39m 1.1.2     \u001b[32m✔\u001b[39m \u001b[34mreadr    \u001b[39m 2.1.4\n",
      "\u001b[32m✔\u001b[39m \u001b[34mforcats  \u001b[39m 1.0.0     \u001b[32m✔\u001b[39m \u001b[34mstringr  \u001b[39m 1.5.0\n",
      "\u001b[32m✔\u001b[39m \u001b[34mggplot2  \u001b[39m 3.4.2     \u001b[32m✔\u001b[39m \u001b[34mtibble   \u001b[39m 3.2.1\n",
      "\u001b[32m✔\u001b[39m \u001b[34mlubridate\u001b[39m 1.9.2     \u001b[32m✔\u001b[39m \u001b[34mtidyr    \u001b[39m 1.3.0\n",
      "\u001b[32m✔\u001b[39m \u001b[34mpurrr    \u001b[39m 1.0.1     \n",
      "── \u001b[1mConflicts\u001b[22m ────────────────────────────────────────── tidyverse_conflicts() ──\n",
      "\u001b[31m✖\u001b[39m \u001b[34mdplyr\u001b[39m::\u001b[32mfilter()\u001b[39m masks \u001b[34mstats\u001b[39m::filter()\n",
      "\u001b[31m✖\u001b[39m \u001b[34mdplyr\u001b[39m::\u001b[32mlag()\u001b[39m    masks \u001b[34mstats\u001b[39m::lag()\n",
      "\u001b[36mℹ\u001b[39m Use the conflicted package (\u001b[3m\u001b[34m<http://conflicted.r-lib.org/>\u001b[39m\u001b[23m) to force all conflicts to become errors\n",
      "\n",
      "Attaching package: 'data.table'\n",
      "\n",
      "\n",
      "The following objects are masked from 'package:lubridate':\n",
      "\n",
      "    hour, isoweek, mday, minute, month, quarter, second, wday, week,\n",
      "    yday, year\n",
      "\n",
      "\n",
      "The following objects are masked from 'package:dplyr':\n",
      "\n",
      "    between, first, last\n",
      "\n",
      "\n",
      "The following object is masked from 'package:purrr':\n",
      "\n",
      "    transpose\n",
      "\n",
      "\n",
      "\n",
      "Attaching package: 'plm'\n",
      "\n",
      "\n",
      "The following object is masked from 'package:data.table':\n",
      "\n",
      "    between\n",
      "\n",
      "\n",
      "The following objects are masked from 'package:dplyr':\n",
      "\n",
      "    between, lag, lead\n",
      "\n",
      "\n"
     ]
    }
   ],
   "source": [
    "library(tidyverse)\n",
    "library(readr)\n",
    "library(readxl)\n",
    "library(writexl)\n",
    "library(lubridate)\n",
    "library(data.table)\n",
    "library(plm)\n",
    "library(ggthemes)\n",
    "library(ggpubr)"
   ]
  },
  {
   "cell_type": "code",
   "execution_count": 3,
   "metadata": {
    "vscode": {
     "languageId": "r"
    }
   },
   "outputs": [],
   "source": [
    "library(plm)"
   ]
  },
  {
   "cell_type": "markdown",
   "metadata": {},
   "source": [
    "# 1-股票数据"
   ]
  },
  {
   "cell_type": "markdown",
   "metadata": {},
   "source": [
    "## 1.1-生成文件名"
   ]
  },
  {
   "cell_type": "code",
   "execution_count": 4,
   "metadata": {
    "vscode": {
     "languageId": "r"
    }
   },
   "outputs": [],
   "source": [
    "#读入4个国泰安.csv。详细信息见 国泰安指标 和 金融结构memo。\n",
    "#国泰安 文件名格式：D:/IDMhs/收益预测-月个股回报率文件-2024-09-23/SRFR_Amnthlyr.csv"
   ]
  },
  {
   "cell_type": "code",
   "execution_count": 5,
   "metadata": {
    "vscode": {
     "languageId": "r"
    }
   },
   "outputs": [],
   "source": [
    "# Read the Excel file\n",
    "file_path <- \"D:/jianguo/MyDoc/gta_name.xlsx\"  #上述4个.csv的文件夹名称和文件名称在这个.xlsx中。最后一列是数据框名称\n",
    "data <- read_excel(file_path)\n",
    "#dir_name\tfile_name\tdata_name\n",
    "#收益预测-月个股回报率文件\tSRFR_Amnthlyr\tsrfrm"
   ]
  },
  {
   "cell_type": "code",
   "execution_count": 6,
   "metadata": {
    "vscode": {
     "languageId": "r"
    }
   },
   "outputs": [],
   "source": [
    "dir_base=\"D:/IDMhs\"\n",
    "dir_suffix=\"2024-09-23\"    #suffix-后缀。prefix-前缀\n",
    "dir_root = data$dir_name\n",
    "file_root =  data$file_name"
   ]
  },
  {
   "cell_type": "code",
   "execution_count": 7,
   "metadata": {
    "vscode": {
     "languageId": "r"
    }
   },
   "outputs": [],
   "source": [
    "# Concatenate to generate complete file paths\n",
    "#国泰安 文件名格式：D:/IDMhs/收益预测-月个股回报率文件-2024-09-23/SRFR_Amnthlyr.csv\n",
    "#complete_file_paths <- paste0(dir_base, data$dir_name, \"-\", dir_suffix, \"/\", data$file_name, \".csv\")\n",
    "#file_name <- file.path(dir_base, paste0(dir_root, \"-\", dir_suffix), paste0(file_root, \".csv\"))\n",
    "complete_file_paths <- file.path(dir_base, paste0(dir_root, \"-\", dir_suffix), paste0(file_root, \".csv\"))"
   ]
  },
  {
   "cell_type": "code",
   "execution_count": 8,
   "metadata": {
    "vscode": {
     "languageId": "r"
    }
   },
   "outputs": [
    {
     "name": "stdout",
     "output_type": "stream",
     "text": [
      "[1] \"D:/IDMhs/收益预测-月个股回报率文件-2024-09-23/SRFR_Amnthlyr.csv\"    \n",
      "[2] \"D:/IDMhs/股票市场-年个股回报率文件-2024-09-23/TRD_Year.csv\"         \n",
      "[3] \"D:/IDMhs/股票市场-公司文件-2024-09-23/TRD_Co.csv\"                   \n",
      "[4] \"D:/IDMhs/中国上市公司股权性质文件-2024-09-23/EN_EquityNatureAll.csv\"\n"
     ]
    }
   ],
   "source": [
    "# Print the results。因为打印函数 比较慢。详见 POE指南\n",
    "print(complete_file_paths)\n",
    "#print(file_name)"
   ]
  },
  {
   "cell_type": "markdown",
   "metadata": {},
   "source": [
    "## 1.2-读入国泰安.csv文件"
   ]
  },
  {
   "cell_type": "code",
   "execution_count": 9,
   "metadata": {
    "vscode": {
     "languageId": "r"
    }
   },
   "outputs": [],
   "source": [
    "\n",
    "#注意：本来使用的是data.table的fread。但是最后一个.csv文件有些异常，最后一列的单元格，有些在末尾有个空格。\n",
    "#fread无法处理前后的空格，会产生错误。\n",
    "#readr的read_csv可以处理多于的空格\n",
    "#show_col_types = FALSE。可以更加简洁地查看是否有错误信息。算了，还是展示更多一些信息。\n",
    "safe_read_csv <- function(file_path) {\n",
    "  tryCatch({\n",
    "    read_csv(file_path)  #from package readr\n",
    "  }, error = function(e) {\n",
    "    warning(paste(\"Error reading file:\", file_path, \"\\n\", e$message))\n",
    "    return(NULL)\n",
    "  })\n",
    "}"
   ]
  },
  {
   "cell_type": "code",
   "execution_count": 10,
   "metadata": {
    "vscode": {
     "languageId": "r"
    }
   },
   "outputs": [],
   "source": [
    "#df_names <- data$data_name   #在后面再赋值\n",
    "#print(df_names)"
   ]
  },
  {
   "cell_type": "code",
   "execution_count": 11,
   "metadata": {
    "vscode": {
     "languageId": "r"
    }
   },
   "outputs": [],
   "source": [
    "# Read all CSV files\n",
    "# 构建 空的向量 列表csv_list，存放 4个.csv。\n",
    "# 后来结合 claude的提示。直接读入 数据框 给 变量  不需要 建立中间的 list 变量 \n",
    "#算了，还是使用list 中间变量。因为下面进行了很多 错误测试。最后再把list元素 赋值给 数据框变量名 df_names\n",
    "#初始化一个空列表。而这里使用vector(mode = \"list\", length = n)，函数形式确实稍有些不直白\n",
    "csv_list <- vector(\"list\", length(complete_file_paths))\n",
    "names(csv_list) <- data$data_name"
   ]
  },
  {
   "cell_type": "code",
   "execution_count": 12,
   "metadata": {
    "vscode": {
     "languageId": "r"
    }
   },
   "outputs": [],
   "source": [
    "#这是简化版代码\n",
    "# for (i in 1:length(file_name)) {\n",
    "#   cat(\"Reading file\", i, \"of\", length(file_name), \":\", file_name[i], \"\\n\")\n",
    "#   assign(df_names[i], safe_read_csv(file_name[i]) ) \n",
    "# }"
   ]
  },
  {
   "cell_type": "code",
   "execution_count": 13,
   "metadata": {
    "vscode": {
     "languageId": "r"
    }
   },
   "outputs": [
    {
     "name": "stdout",
     "output_type": "stream",
     "text": [
      "Reading file 1 of 4 : D:/IDMhs/收益预测-月个股回报率文件-2024-09-23/SRFR_Amnthlyr.csv \n"
     ]
    },
    {
     "name": "stderr",
     "output_type": "stream",
     "text": [
      "\u001b[1mRows: \u001b[22m\u001b[34m815680\u001b[39m \u001b[1mColumns: \u001b[22m\u001b[34m8\u001b[39m\n",
      "\u001b[36m──\u001b[39m \u001b[1mColumn specification\u001b[22m \u001b[36m────────────────────────────────────────────────────────\u001b[39m\n",
      "\u001b[1mDelimiter:\u001b[22m \",\"\n",
      "\u001b[31mchr\u001b[39m (2): Stkcd, Trdmnt\n",
      "\u001b[32mdbl\u001b[39m (6): Msmvttl, Dturn, Beta, Illiqd, Mretwd, Mretnd\n",
      "\n",
      "\u001b[36mℹ\u001b[39m Use `spec()` to retrieve the full column specification for this data.\n",
      "\u001b[36mℹ\u001b[39m Specify the column types or set `show_col_types = FALSE` to quiet this message.\n"
     ]
    },
    {
     "name": "stdout",
     "output_type": "stream",
     "text": [
      "Reading file 2 of 4 : D:/IDMhs/股票市场-年个股回报率文件-2024-09-23/TRD_Year.csv \n"
     ]
    },
    {
     "name": "stderr",
     "output_type": "stream",
     "text": [
      "\u001b[1mRows: \u001b[22m\u001b[34m68388\u001b[39m \u001b[1mColumns: \u001b[22m\u001b[34m17\u001b[39m\n",
      "\u001b[36m──\u001b[39m \u001b[1mColumn specification\u001b[22m \u001b[36m────────────────────────────────────────────────────────\u001b[39m\n",
      "\u001b[1mDelimiter:\u001b[22m \",\"\n",
      "\u001b[31mchr\u001b[39m   (3): Stkcd, Opndt, Clsdt\n",
      "\u001b[32mdbl\u001b[39m  (13): Trdynt, Yopnprc, Yclsprc, Ynshrtrd, Ynvaltrd, Ysmvosd, Ysmvttl, N...\n",
      "\u001b[34mdate\u001b[39m  (1): Capchgdt\n",
      "\n",
      "\u001b[36mℹ\u001b[39m Use `spec()` to retrieve the full column specification for this data.\n",
      "\u001b[36mℹ\u001b[39m Specify the column types or set `show_col_types = FALSE` to quiet this message.\n"
     ]
    },
    {
     "name": "stdout",
     "output_type": "stream",
     "text": [
      "Reading file 3 of 4 : D:/IDMhs/股票市场-公司文件-2024-09-23/TRD_Co.csv \n"
     ]
    },
    {
     "name": "stderr",
     "output_type": "stream",
     "text": [
      "Warning message:\n",
      "\"\u001b[1m\u001b[22mOne or more parsing issues, call `problems()` on your data frame for details,\n",
      "e.g.:\n",
      "  dat <- vroom(...)\n",
      "  problems(dat)\"\n",
      "\u001b[1mRows: \u001b[22m\u001b[34m5755\u001b[39m \u001b[1mColumns: \u001b[22m\u001b[34m36\u001b[39m\n",
      "\u001b[36m──\u001b[39m \u001b[1mColumn specification\u001b[22m \u001b[36m────────────────────────────────────────────────────────\u001b[39m\n",
      "\u001b[1mDelimiter:\u001b[22m \",\"\n",
      "\u001b[31mchr\u001b[39m  (22): Stkcd, Stknme, Conme, Conme_en, Indcd, Indnme, Nindcd, Nindnme, N...\n",
      "\u001b[32mdbl\u001b[39m   (9): Cuntrycd, PROVINCECODE, CITYCODE, Ipoprm, Ipoprc, Nshripo, Parval...\n",
      "\u001b[34mdate\u001b[39m  (5): Listdt, Estbdt, Favaldt, Ipodt, Statdt\n",
      "\n",
      "\u001b[36mℹ\u001b[39m Use `spec()` to retrieve the full column specification for this data.\n",
      "\u001b[36mℹ\u001b[39m Specify the column types or set `show_col_types = FALSE` to quiet this message.\n"
     ]
    },
    {
     "name": "stdout",
     "output_type": "stream",
     "text": [
      "Reading file 4 of 4 : D:/IDMhs/中国上市公司股权性质文件-2024-09-23/EN_EquityNatureAll.csv \n"
     ]
    },
    {
     "name": "stderr",
     "output_type": "stream",
     "text": [
      "\u001b[1mRows: \u001b[22m\u001b[34m59096\u001b[39m \u001b[1mColumns: \u001b[22m\u001b[34m17\u001b[39m\n",
      "\u001b[36m──\u001b[39m \u001b[1mColumn specification\u001b[22m \u001b[36m────────────────────────────────────────────────────────\u001b[39m\n",
      "\u001b[1mDelimiter:\u001b[22m \",\"\n",
      "\u001b[31mchr\u001b[39m  (11): Symbol, ShortName, RegisterAddress, OfficeAddress, LargestHolder,...\n",
      "\u001b[32mdbl\u001b[39m   (3): LargestHolderRate, TopTenHoldersRate, Seperation\n",
      "\u001b[32mnum\u001b[39m   (2): ActualControllerNatureID, EquityNatureID\n",
      "\u001b[34mdate\u001b[39m  (1): EndDate\n",
      "\n",
      "\u001b[36mℹ\u001b[39m Use `spec()` to retrieve the full column specification for this data.\n",
      "\u001b[36mℹ\u001b[39m Specify the column types or set `show_col_types = FALSE` to quiet this message.\n"
     ]
    }
   ],
   "source": [
    "#读入4个.csv。存入向量列表csv_list  #相比1:length(file_name)，seq_along(file_name)更加稳健\n",
    "for (i in seq_along(complete_file_paths)) {\n",
    "  cat(\"Reading file\", i, \"of\", length(complete_file_paths), \":\", complete_file_paths[i], \"\\n\")\n",
    "  csv_list[[i]] <- safe_read_csv(complete_file_paths[i])\n",
    "}"
   ]
  },
  {
   "cell_type": "code",
   "execution_count": 14,
   "metadata": {
    "vscode": {
     "languageId": "r"
    }
   },
   "outputs": [
    {
     "data": {
      "text/html": [
       "<table class=\"dataframe\">\n",
       "<caption>A tibble: 5 × 5</caption>\n",
       "<thead>\n",
       "\t<tr><th scope=col>row</th><th scope=col>col</th><th scope=col>expected</th><th scope=col>actual</th><th scope=col>file</th></tr>\n",
       "\t<tr><th scope=col>&lt;int&gt;</th><th scope=col>&lt;int&gt;</th><th scope=col>&lt;chr&gt;</th><th scope=col>&lt;chr&gt;</th><th scope=col>&lt;chr&gt;</th></tr>\n",
       "</thead>\n",
       "<tbody>\n",
       "\t<tr><td> 598</td><td>29</td><td>date in ISO8601</td><td>0000-00-00</td><td>D:/IDMhs/股票市场-公司文件-2024-09-23/TRD_Co.csv</td></tr>\n",
       "\t<tr><td> 600</td><td>29</td><td>date in ISO8601</td><td>0000-00-00</td><td>D:/IDMhs/股票市场-公司文件-2024-09-23/TRD_Co.csv</td></tr>\n",
       "\t<tr><td>1677</td><td>29</td><td>date in ISO8601</td><td>0000-00-00</td><td>D:/IDMhs/股票市场-公司文件-2024-09-23/TRD_Co.csv</td></tr>\n",
       "\t<tr><td>4053</td><td>29</td><td>date in ISO8601</td><td>0000-00-00</td><td>D:/IDMhs/股票市场-公司文件-2024-09-23/TRD_Co.csv</td></tr>\n",
       "\t<tr><td>4062</td><td>29</td><td>date in ISO8601</td><td>0000-00-00</td><td>D:/IDMhs/股票市场-公司文件-2024-09-23/TRD_Co.csv</td></tr>\n",
       "</tbody>\n",
       "</table>\n"
      ],
      "text/latex": [
       "A tibble: 5 × 5\n",
       "\\begin{tabular}{lllll}\n",
       " row & col & expected & actual & file\\\\\n",
       " <int> & <int> & <chr> & <chr> & <chr>\\\\\n",
       "\\hline\n",
       "\t  598 & 29 & date in ISO8601 & 0000-00-00 & D:/IDMhs/股票市场-公司文件-2024-09-23/TRD\\_Co.csv\\\\\n",
       "\t  600 & 29 & date in ISO8601 & 0000-00-00 & D:/IDMhs/股票市场-公司文件-2024-09-23/TRD\\_Co.csv\\\\\n",
       "\t 1677 & 29 & date in ISO8601 & 0000-00-00 & D:/IDMhs/股票市场-公司文件-2024-09-23/TRD\\_Co.csv\\\\\n",
       "\t 4053 & 29 & date in ISO8601 & 0000-00-00 & D:/IDMhs/股票市场-公司文件-2024-09-23/TRD\\_Co.csv\\\\\n",
       "\t 4062 & 29 & date in ISO8601 & 0000-00-00 & D:/IDMhs/股票市场-公司文件-2024-09-23/TRD\\_Co.csv\\\\\n",
       "\\end{tabular}\n"
      ],
      "text/markdown": [
       "\n",
       "A tibble: 5 × 5\n",
       "\n",
       "| row &lt;int&gt; | col &lt;int&gt; | expected &lt;chr&gt; | actual &lt;chr&gt; | file &lt;chr&gt; |\n",
       "|---|---|---|---|---|\n",
       "|  598 | 29 | date in ISO8601 | 0000-00-00 | D:/IDMhs/股票市场-公司文件-2024-09-23/TRD_Co.csv |\n",
       "|  600 | 29 | date in ISO8601 | 0000-00-00 | D:/IDMhs/股票市场-公司文件-2024-09-23/TRD_Co.csv |\n",
       "| 1677 | 29 | date in ISO8601 | 0000-00-00 | D:/IDMhs/股票市场-公司文件-2024-09-23/TRD_Co.csv |\n",
       "| 4053 | 29 | date in ISO8601 | 0000-00-00 | D:/IDMhs/股票市场-公司文件-2024-09-23/TRD_Co.csv |\n",
       "| 4062 | 29 | date in ISO8601 | 0000-00-00 | D:/IDMhs/股票市场-公司文件-2024-09-23/TRD_Co.csv |\n",
       "\n"
      ],
      "text/plain": [
       "  row  col expected        actual    \n",
       "1  598 29  date in ISO8601 0000-00-00\n",
       "2  600 29  date in ISO8601 0000-00-00\n",
       "3 1677 29  date in ISO8601 0000-00-00\n",
       "4 4053 29  date in ISO8601 0000-00-00\n",
       "5 4062 29  date in ISO8601 0000-00-00\n",
       "  file                                            \n",
       "1 D:/IDMhs/股票市场-公司文件-2024-09-23/TRD_Co.csv\n",
       "2 D:/IDMhs/股票市场-公司文件-2024-09-23/TRD_Co.csv\n",
       "3 D:/IDMhs/股票市场-公司文件-2024-09-23/TRD_Co.csv\n",
       "4 D:/IDMhs/股票市场-公司文件-2024-09-23/TRD_Co.csv\n",
       "5 D:/IDMhs/股票市场-公司文件-2024-09-23/TRD_Co.csv"
      ]
     },
     "metadata": {},
     "output_type": "display_data"
    }
   ],
   "source": [
    "#查看读入时存在的异常状况。\n",
    "#有几个公司的发行日期为0000-00-00，但是因为没有用到这个字段，使用的是上市日期。所以之前也没有发现这个问题\n",
    "problems(csv_list[[3]])\n",
    "#problems(trdc)\n"
   ]
  },
  {
   "cell_type": "code",
   "execution_count": 15,
   "metadata": {
    "vscode": {
     "languageId": "r"
    }
   },
   "outputs": [],
   "source": [
    "# Remove NULL elements (failed reads) from the list\n",
    "# 这个其实是稳健性报告。检查是否存在没有正确读入的.csv文件\n",
    "csv_list <- Filter(Negate(is.null), csv_list)"
   ]
  },
  {
   "cell_type": "code",
   "execution_count": 16,
   "metadata": {
    "vscode": {
     "languageId": "r"
    }
   },
   "outputs": [
    {
     "name": "stdout",
     "output_type": "stream",
     "text": [
      "\n",
      "Total number of files attempted: 4 \n",
      "Number of files successfully read: 4 \n"
     ]
    }
   ],
   "source": [
    "# Print summary information  #后来认识到 此处使用cat 潜在提高了速度\n",
    "# 似乎cat 和print 相似，第一次速度都不快。那就不修改了\n",
    "#同时print 毕竟在正式运行中 不使用，只是在演示中使用。也不修改了\n",
    "cat(\"\\nTotal number of files attempted:\", length(complete_file_paths), \"\\n\")\n",
    "cat(\"Number of files successfully read:\", length(csv_list), \"\\n\")"
   ]
  },
  {
   "cell_type": "code",
   "execution_count": 17,
   "metadata": {
    "vscode": {
     "languageId": "r"
    }
   },
   "outputs": [
    {
     "name": "stdout",
     "output_type": "stream",
     "text": [
      "\n",
      "Summary of the first few datasets:\n",
      "\n",
      "Dataset 1 ( srfrm ):\n",
      "[1] 815680      8\n",
      "\u001b[90m# A tibble: 3 × 8\u001b[39m\n",
      "  Stkcd  Trdmnt   Msmvttl    Dturn  Beta    Illiqd Mretwd Mretnd\n",
      "  \u001b[3m\u001b[90m<chr>\u001b[39m\u001b[23m  \u001b[3m\u001b[90m<chr>\u001b[39m\u001b[23m      \u001b[3m\u001b[90m<dbl>\u001b[39m\u001b[23m    \u001b[3m\u001b[90m<dbl>\u001b[39m\u001b[23m \u001b[3m\u001b[90m<dbl>\u001b[39m\u001b[23m     \u001b[3m\u001b[90m<dbl>\u001b[39m\u001b[23m  \u001b[3m\u001b[90m<dbl>\u001b[39m\u001b[23m  \u001b[3m\u001b[90m<dbl>\u001b[39m\u001b[23m\n",
      "\u001b[90m1\u001b[39m 000001 1991-04 2\u001b[4m1\u001b[24m\u001b[4m1\u001b[24m\u001b[4m8\u001b[24m487. 0.000\u001b[4m5\u001b[24m\u001b[4m0\u001b[24m\u001b[4m5\u001b[24m    \u001b[31mNA\u001b[39m 0.000\u001b[4m1\u001b[24m\u001b[4m2\u001b[24m\u001b[4m9\u001b[24m  \u001b[31mNA\u001b[39m     \u001b[31mNA\u001b[39m    \n",
      "\u001b[90m2\u001b[39m 000001 1991-05 1\u001b[4m8\u001b[24m\u001b[4m5\u001b[24m\u001b[4m9\u001b[24m497. 0.007\u001b[4m0\u001b[24m\u001b[4m9\u001b[24m     \u001b[31mNA\u001b[39m 0.000\u001b[4m0\u001b[24m\u001b[4m1\u001b[24m\u001b[4m0\u001b[24m4 -\u001b[31m0\u001b[39m\u001b[31m.\u001b[39m\u001b[31m122\u001b[39m  0.236\n",
      "\u001b[90m3\u001b[39m 000001 1991-06 1\u001b[4m6\u001b[24m\u001b[4m4\u001b[24m\u001b[4m8\u001b[24m521. 0.001\u001b[4m1\u001b[24m\u001b[4m5\u001b[24m     \u001b[31mNA\u001b[39m 0.000\u001b[4m0\u001b[24m\u001b[4m1\u001b[24m\u001b[4m2\u001b[24m3 -\u001b[31m0\u001b[39m\u001b[31m.\u001b[39m\u001b[31m113\u001b[39m -\u001b[31m0\u001b[39m\u001b[31m.\u001b[39m\u001b[31m113\u001b[39m\n",
      "\n",
      "Dataset 2 ( trdy ):\n",
      "[1] 68388    17\n",
      "\u001b[90m# A tibble: 3 × 17\u001b[39m\n",
      "  Stkcd  Trdynt Opndt Yopnprc Clsdt Yclsprc  Ynshrtrd   Ynvaltrd Ysmvosd Ysmvttl\n",
      "  \u001b[3m\u001b[90m<chr>\u001b[39m\u001b[23m   \u001b[3m\u001b[90m<dbl>\u001b[39m\u001b[23m \u001b[3m\u001b[90m<chr>\u001b[39m\u001b[23m   \u001b[3m\u001b[90m<dbl>\u001b[39m\u001b[23m \u001b[3m\u001b[90m<chr>\u001b[39m\u001b[23m   \u001b[3m\u001b[90m<dbl>\u001b[39m\u001b[23m     \u001b[3m\u001b[90m<dbl>\u001b[39m\u001b[23m      \u001b[3m\u001b[90m<dbl>\u001b[39m\u001b[23m   \u001b[3m\u001b[90m<dbl>\u001b[39m\u001b[23m   \u001b[3m\u001b[90m<dbl>\u001b[39m\u001b[23m\n",
      "\u001b[90m1\u001b[39m 000001   \u001b[4m1\u001b[24m991 04-03    49   12-31    29.4  37\u001b[4m2\u001b[24m\u001b[4m6\u001b[24m\u001b[4m1\u001b[24m400     9.00\u001b[90me\u001b[39m8  1.32\u001b[90me\u001b[39m6  2.63\u001b[90me\u001b[39m6\n",
      "\u001b[90m2\u001b[39m 000001   \u001b[4m1\u001b[24m992 01-02    29.4 12-31    44.5 178\u001b[4m0\u001b[24m\u001b[4m2\u001b[24m\u001b[4m6\u001b[24m000     6.93\u001b[90me\u001b[39m9  3.00\u001b[90me\u001b[39m6  5.99\u001b[90me\u001b[39m6\n",
      "\u001b[90m3\u001b[39m 000001   \u001b[4m1\u001b[24m993 01-03    44.5 12-31    22.4 224\u001b[4m7\u001b[24m\u001b[4m3\u001b[24m\u001b[4m2\u001b[24m897     8.32\u001b[90me\u001b[39m9  3.24\u001b[90me\u001b[39m6  6.02\u001b[90me\u001b[39m6\n",
      "\u001b[90m# ℹ 7 more variables: Ndaytrd <dbl>, Yretwd <dbl>, Yretnd <dbl>,\u001b[39m\n",
      "\u001b[90m#   Yarkettype <dbl>, Capchgdt <date>, Ahshrtrd_Y <dbl>, Ahvaltrd_Y <dbl>\u001b[39m\n",
      "\n",
      "Dataset 3 ( trdc ):\n",
      "[1] 5755   36\n",
      "\u001b[90m# A tibble: 3 × 36\u001b[39m\n",
      "  Stkcd  Stknme   Listdt     Cuntrycd Conme Conme_en Indcd Indnme Nindcd Nindnme\n",
      "  \u001b[3m\u001b[90m<chr>\u001b[39m\u001b[23m  \u001b[3m\u001b[90m<chr>\u001b[39m\u001b[23m    \u001b[3m\u001b[90m<date>\u001b[39m\u001b[23m        \u001b[3m\u001b[90m<dbl>\u001b[39m\u001b[23m \u001b[3m\u001b[90m<chr>\u001b[39m\u001b[23m \u001b[3m\u001b[90m<chr>\u001b[39m\u001b[23m    \u001b[3m\u001b[90m<chr>\u001b[39m\u001b[23m \u001b[3m\u001b[90m<chr>\u001b[39m\u001b[23m  \u001b[3m\u001b[90m<chr>\u001b[39m\u001b[23m  \u001b[3m\u001b[90m<chr>\u001b[39m\u001b[23m  \n",
      "\u001b[90m1\u001b[39m 000001 平安银行 1991-04-03       10 平安… Ping An… 0001  金融   I01    银行业 \n",
      "\u001b[90m2\u001b[39m 000002 万科A    1991-01-29       10 万科… China V… 0003  房地产 J      房地产…\n",
      "\u001b[90m3\u001b[39m 000003 PT 金田A 1991-07-03       10 金田… Gintian… 0004  综合   M      综合类 \n",
      "\u001b[90m# ℹ 26 more variables: Nnindcd <chr>, Nnindnme <chr>, Estbdt <date>,\u001b[39m\n",
      "\u001b[90m#   IndcdZX <chr>, IndnmeZX <chr>, PROVINCE <chr>, PROVINCECODE <dbl>,\u001b[39m\n",
      "\u001b[90m#   CITY <chr>, CITYCODE <dbl>, OWNERSHIPTYPE <chr>, OWNERSHIPTYPECODE <chr>,\u001b[39m\n",
      "\u001b[90m#   Favaldt <date>, Curtrd <chr>, Ipoprm <dbl>, Ipoprc <dbl>, Ipocur <chr>,\u001b[39m\n",
      "\u001b[90m#   Nshripo <dbl>, Parvcur <chr>, Ipodt <date>, Parval <dbl>, Sctcd <dbl>,\u001b[39m\n",
      "\u001b[90m#   Statco <chr>, Crcd <chr>, Statdt <date>, Commnt <chr>, Markettype <dbl>\u001b[39m\n",
      "\n",
      "Dataset 4 ( eqn ):\n",
      "[1] 59096    17\n",
      "\u001b[90m# A tibble: 3 × 17\u001b[39m\n",
      "  Symbol ShortName EndDate    RegisterAddress        OfficeAddress LargestHolder\n",
      "  \u001b[3m\u001b[90m<chr>\u001b[39m\u001b[23m  \u001b[3m\u001b[90m<chr>\u001b[39m\u001b[23m     \u001b[3m\u001b[90m<date>\u001b[39m\u001b[23m     \u001b[3m\u001b[90m<chr>\u001b[39m\u001b[23m                  \u001b[3m\u001b[90m<chr>\u001b[39m\u001b[23m         \u001b[3m\u001b[90m<chr>\u001b[39m\u001b[23m        \n",
      "\u001b[90m1\u001b[39m 000001 深发展A   2003-12-31 广东省深圳市深南中路1… 广东省深圳市… 深圳市投资管…\n",
      "\u001b[90m2\u001b[39m 000001 深发展A   2004-12-31 广东省深圳市深南中路1… 广东省深圳市… NEWBRIDGE AS…\n",
      "\u001b[90m3\u001b[39m 000001 深发展A   2005-12-31 广东省深圳市深南中路1… 广东省深圳市… NEWBRIDGE AS…\n",
      "\u001b[90m# ℹ 11 more variables: LargestHolderRate <dbl>, TopTenHoldersRate <dbl>,\u001b[39m\n",
      "\u001b[90m#   ActualControllerName <chr>, ActualControllerNatureID <dbl>,\u001b[39m\n",
      "\u001b[90m#   SharesNature <chr>, EquityNature <chr>, EquityNatureID <dbl>,\u001b[39m\n",
      "\u001b[90m#   Hierarchy <chr>, Founder <chr>, Seperation <dbl>, Originator <chr>\u001b[39m\n"
     ]
    }
   ],
   "source": [
    "# Print information about the first few datasets\n",
    "# 打印每个数据框的前面3行\n",
    "#后来意识到，print(head(csv_list[[i]], 3)) 其实是在vscode中加快了运行速度。因为直接print tibble速度慢\n",
    "#不是。因为 head(csv_list[[i]], 3) 也是一个tibble。所以上述函数还是在使用 print。\n",
    "#注意：在循环里必须使用print，否则head本身不显示内容\n",
    "cat(\"\\nSummary of the first few datasets:\\n\")\n",
    "for (i in seq_len(min(5, length(csv_list)))) {\n",
    "  dataset_name <- names(csv_list)[i]\n",
    "  cat(\"\\nDataset\", i, \"(\", dataset_name, \"):\\n\")\n",
    "  print(dim(csv_list[[i]]))\n",
    "  print(head(csv_list[[i]], 3))\n",
    "}"
   ]
  },
  {
   "cell_type": "code",
   "execution_count": 18,
   "metadata": {
    "vscode": {
     "languageId": "r"
    }
   },
   "outputs": [
    {
     "name": "stdout",
     "output_type": "stream",
     "text": [
      "\u001b[90m# A tibble: 3 × 17\u001b[39m\n",
      "  Symbol ShortName EndDate    RegisterAddress       OfficeAddress LargestHolder\n",
      "  \u001b[3m\u001b[90m<chr>\u001b[39m\u001b[23m  \u001b[3m\u001b[90m<chr>\u001b[39m\u001b[23m     \u001b[3m\u001b[90m<date>\u001b[39m\u001b[23m     \u001b[3m\u001b[90m<chr>\u001b[39m\u001b[23m                 \u001b[3m\u001b[90m<chr>\u001b[39m\u001b[23m         \u001b[3m\u001b[90m<chr>\u001b[39m\u001b[23m        \n",
      "\u001b[90m1\u001b[39m 300198 纳川股份  2023-12-31 福建省泉州市泉港区普… 福建省泉州市… 长江生态环保…\n",
      "\u001b[90m2\u001b[39m 300199 翰宇药业  2011-12-31 广东省深圳市南山区高… 广东省深圳市… 曾少贵       \n",
      "\u001b[90m3\u001b[39m 300199 翰宇药业  2012-12-31 广东省深圳市南山区高… 广东省深圳市… 曾少贵       \n",
      "\u001b[90m# ℹ 11 more variables: LargestHolderRate <dbl>, TopTenHoldersRate <dbl>,\u001b[39m\n",
      "\u001b[90m#   ActualControllerName <chr>, ActualControllerNatureID <dbl>,\u001b[39m\n",
      "\u001b[90m#   SharesNature <chr>, EquityNature <chr>, EquityNatureID <dbl>,\u001b[39m\n",
      "\u001b[90m#   Hierarchy <chr>, Founder <chr>, Seperation <dbl>, Originator <chr>\u001b[39m\n"
     ]
    }
   ],
   "source": [
    "#这是存在异常的几行。对应下面的2,2 行。最后一个单元格末尾存在多余的空格\n",
    "print(csv_list[[4]][25816:25818, ])"
   ]
  },
  {
   "cell_type": "code",
   "execution_count": 19,
   "metadata": {
    "vscode": {
     "languageId": "r"
    }
   },
   "outputs": [
    {
     "name": "stdout",
     "output_type": "stream",
     "text": [
      "[1] \"曾少贵,曾少强,曾少彬三位自然人股东及外资法人股东 SAIF III Mauritius (China Investments) Limited,TQM Investment Limited,内资法人股东深圳市丰成投资有限公司,深圳市创新投资集团有限公司。\"\n"
     ]
    }
   ],
   "source": [
    "print(csv_list[[4]][[25817, 17]])"
   ]
  },
  {
   "cell_type": "code",
   "execution_count": 20,
   "metadata": {
    "vscode": {
     "languageId": "r"
    }
   },
   "outputs": [
    {
     "name": "stdout",
     "output_type": "stream",
     "text": [
      "\u001b[90m# A tibble: 1 × 1\u001b[39m\n",
      "  OfficeAddress                                  \n",
      "  \u001b[3m\u001b[90m<chr>\u001b[39m\u001b[23m                                          \n",
      "\u001b[90m1\u001b[39m 陕西省西安市南二环西段100号金叶现代之窗大厦五层\n"
     ]
    }
   ],
   "source": [
    "#这也是一个有些异常的单元格。原本内容是：\"金叶现代之窗\"\n",
    "print(csv_list[[4]][6973, 5])"
   ]
  },
  {
   "cell_type": "code",
   "execution_count": 21,
   "metadata": {
    "vscode": {
     "languageId": "r"
    }
   },
   "outputs": [],
   "source": [
    "# Get the names of the data frames\n",
    "#将 .xlsx中第3列的数据框名称提取，在下面赋值给各个数据框\n",
    "df_names <- names(csv_list)"
   ]
  },
  {
   "cell_type": "code",
   "execution_count": 22,
   "metadata": {
    "vscode": {
     "languageId": "r"
    }
   },
   "outputs": [],
   "source": [
    "# Extract each data frame and assign it to a variable\n",
    "for (i in seq_along(csv_list)) {\n",
    "  assign(df_names[i], csv_list[[i]])\n",
    "}"
   ]
  },
  {
   "cell_type": "code",
   "execution_count": 23,
   "metadata": {
    "vscode": {
     "languageId": "r"
    }
   },
   "outputs": [
    {
     "name": "stdout",
     "output_type": "stream",
     "text": [
      "\u001b[90m# A tibble: 2 × 5\u001b[39m\n",
      "  Stkcd  Trdmnt   Msmvttl    Dturn  Beta\n",
      "  \u001b[3m\u001b[90m<chr>\u001b[39m\u001b[23m  \u001b[3m\u001b[90m<chr>\u001b[39m\u001b[23m      \u001b[3m\u001b[90m<dbl>\u001b[39m\u001b[23m    \u001b[3m\u001b[90m<dbl>\u001b[39m\u001b[23m \u001b[3m\u001b[90m<dbl>\u001b[39m\u001b[23m\n",
      "\u001b[90m1\u001b[39m 000001 1991-04 2\u001b[4m1\u001b[24m\u001b[4m1\u001b[24m\u001b[4m8\u001b[24m487. 0.000\u001b[4m5\u001b[24m\u001b[4m0\u001b[24m\u001b[4m5\u001b[24m    \u001b[31mNA\u001b[39m\n",
      "\u001b[90m2\u001b[39m 000001 1991-05 1\u001b[4m8\u001b[24m\u001b[4m5\u001b[24m\u001b[4m9\u001b[24m497. 0.007\u001b[4m0\u001b[24m\u001b[4m9\u001b[24m     \u001b[31mNA\u001b[39m\n"
     ]
    }
   ],
   "source": [
    "#测试一下\n",
    "print(srfrm[1:2, 1:5])"
   ]
  },
  {
   "cell_type": "markdown",
   "metadata": {},
   "source": [
    "## 1.3-srfrm6-换手率"
   ]
  },
  {
   "cell_type": "code",
   "execution_count": 24,
   "metadata": {
    "vscode": {
     "languageId": "r"
    }
   },
   "outputs": [],
   "source": [
    "#直接让POE对原来的代码进行优化\n",
    "#主要完成以下几件工作：选择股票代码、交易月份，换手率。将字符串Trdmnt转换为日期。\n",
    "#读取年份。计算年度换手率=月换手率加总\n",
    "#按照惯例，命名为srfrm6\n",
    "srfrm6 <- srfrm %>%\n",
    "  select(Stkcd, Trdmnt, Dturn) %>%\n",
    "  mutate(\n",
    "    Trdmnt = ym(Trdmnt),\n",
    "    year = year(Trdmnt)    \n",
    "  ) %>%\n",
    "  group_by(Stkcd, year) %>%\n",
    "  summarise(Dturn = sum(Dturn, na.rm = TRUE), .groups = \"drop\")"
   ]
  },
  {
   "cell_type": "code",
   "execution_count": 25,
   "metadata": {
    "vscode": {
     "languageId": "r"
    }
   },
   "outputs": [
    {
     "data": {
      "text/html": [
       "FALSE"
      ],
      "text/latex": [
       "FALSE"
      ],
      "text/markdown": [
       "FALSE"
      ],
      "text/plain": [
       "[1] FALSE"
      ]
     },
     "metadata": {},
     "output_type": "display_data"
    }
   ],
   "source": [
    "#第一次使用.groups = \"drop\"命令，检查是否取消了group属性\n",
    "is.grouped_df(srfrm6)"
   ]
  },
  {
   "cell_type": "code",
   "execution_count": 26,
   "metadata": {
    "vscode": {
     "languageId": "r"
    }
   },
   "outputs": [
    {
     "data": {
      "text/html": [
       "<table class=\"dataframe\">\n",
       "<caption>A tibble: 2 × 3</caption>\n",
       "<thead>\n",
       "\t<tr><th scope=col>Stkcd</th><th scope=col>year</th><th scope=col>Dturn</th></tr>\n",
       "\t<tr><th scope=col>&lt;chr&gt;</th><th scope=col>&lt;int&gt;</th><th scope=col>&lt;dbl&gt;</th></tr>\n",
       "</thead>\n",
       "<tbody>\n",
       "\t<tr><td>000001</td><td>1991</td><td>0.831919</td></tr>\n",
       "\t<tr><td>000001</td><td>1992</td><td>2.687327</td></tr>\n",
       "</tbody>\n",
       "</table>\n"
      ],
      "text/latex": [
       "A tibble: 2 × 3\n",
       "\\begin{tabular}{lll}\n",
       " Stkcd & year & Dturn\\\\\n",
       " <chr> & <int> & <dbl>\\\\\n",
       "\\hline\n",
       "\t 000001 & 1991 & 0.831919\\\\\n",
       "\t 000001 & 1992 & 2.687327\\\\\n",
       "\\end{tabular}\n"
      ],
      "text/markdown": [
       "\n",
       "A tibble: 2 × 3\n",
       "\n",
       "| Stkcd &lt;chr&gt; | year &lt;int&gt; | Dturn &lt;dbl&gt; |\n",
       "|---|---|---|\n",
       "| 000001 | 1991 | 0.831919 |\n",
       "| 000001 | 1992 | 2.687327 |\n",
       "\n"
      ],
      "text/plain": [
       "  Stkcd  year Dturn   \n",
       "1 000001 1991 0.831919\n",
       "2 000001 1992 2.687327"
      ]
     },
     "metadata": {},
     "output_type": "display_data"
    }
   ],
   "source": [
    "#查看第1,2行内容\n",
    "srfrm6[1:2,]"
   ]
  },
  {
   "cell_type": "markdown",
   "metadata": {},
   "source": [
    "## 1.4-trdy3-交易额-市值"
   ]
  },
  {
   "cell_type": "code",
   "execution_count": 27,
   "metadata": {
    "vscode": {
     "languageId": "r"
    }
   },
   "outputs": [],
   "source": [
    "#Ynvaltrd交易额 Ysmvosd流通市值 Ysmvttl总市值 \n",
    "#年度 交易额 流通市值 总体市值  后两者是 存量，应该是年末 前者是流量\n",
    "#可能存在 一些问题，比如 有些股票只 交易 6个月。但是 交易额可能 也是 一个 度量（交易12个月的比6个月的流动性更好），所以还是使用年度加总\n",
    "#单位调整为亿。交易额单位为元，市值为千元\n",
    "trdy3 <- trdy %>%\n",
    "  mutate(\n",
    "    Stkcd,\n",
    "    year = Trdynt,\n",
    "    trdv = Ynvaltrd / 10^8,\n",
    "    osv = Ysmvosd / 10^5,\n",
    "    ttv = Ysmvttl / 10^5,\n",
    "    turn=trdv/osv,\n",
    "    .keep =\"none\"\n",
    "  )"
   ]
  },
  {
   "cell_type": "code",
   "execution_count": 28,
   "metadata": {
    "vscode": {
     "languageId": "r"
    }
   },
   "outputs": [
    {
     "data": {
      "text/html": [
       "<table class=\"dataframe\">\n",
       "<caption>A tibble: 2 × 6</caption>\n",
       "<thead>\n",
       "\t<tr><th scope=col>Stkcd</th><th scope=col>year</th><th scope=col>trdv</th><th scope=col>osv</th><th scope=col>ttv</th><th scope=col>turn</th></tr>\n",
       "\t<tr><th scope=col>&lt;chr&gt;</th><th scope=col>&lt;dbl&gt;</th><th scope=col>&lt;dbl&gt;</th><th scope=col>&lt;dbl&gt;</th><th scope=col>&lt;dbl&gt;</th><th scope=col>&lt;dbl&gt;</th></tr>\n",
       "</thead>\n",
       "<tbody>\n",
       "\t<tr><td>000001</td><td>1991</td><td> 8.995448</td><td>13.20425</td><td>26.34211</td><td>0.6812541</td></tr>\n",
       "\t<tr><td>000001</td><td>1992</td><td>69.280485</td><td>30.04553</td><td>59.94000</td><td>2.3058499</td></tr>\n",
       "</tbody>\n",
       "</table>\n"
      ],
      "text/latex": [
       "A tibble: 2 × 6\n",
       "\\begin{tabular}{llllll}\n",
       " Stkcd & year & trdv & osv & ttv & turn\\\\\n",
       " <chr> & <dbl> & <dbl> & <dbl> & <dbl> & <dbl>\\\\\n",
       "\\hline\n",
       "\t 000001 & 1991 &  8.995448 & 13.20425 & 26.34211 & 0.6812541\\\\\n",
       "\t 000001 & 1992 & 69.280485 & 30.04553 & 59.94000 & 2.3058499\\\\\n",
       "\\end{tabular}\n"
      ],
      "text/markdown": [
       "\n",
       "A tibble: 2 × 6\n",
       "\n",
       "| Stkcd &lt;chr&gt; | year &lt;dbl&gt; | trdv &lt;dbl&gt; | osv &lt;dbl&gt; | ttv &lt;dbl&gt; | turn &lt;dbl&gt; |\n",
       "|---|---|---|---|---|---|\n",
       "| 000001 | 1991 |  8.995448 | 13.20425 | 26.34211 | 0.6812541 |\n",
       "| 000001 | 1992 | 69.280485 | 30.04553 | 59.94000 | 2.3058499 |\n",
       "\n"
      ],
      "text/plain": [
       "  Stkcd  year trdv      osv      ttv      turn     \n",
       "1 000001 1991  8.995448 13.20425 26.34211 0.6812541\n",
       "2 000001 1992 69.280485 30.04553 59.94000 2.3058499"
      ]
     },
     "metadata": {},
     "output_type": "display_data"
    }
   ],
   "source": [
    "#查看第1,2行内容\n",
    "trdy3[1:2,]"
   ]
  },
  {
   "cell_type": "markdown",
   "metadata": {},
   "source": [
    "## 1.5-trdc2-公司信息"
   ]
  },
  {
   "cell_type": "code",
   "execution_count": 29,
   "metadata": {
    "vscode": {
     "languageId": "r"
    }
   },
   "outputs": [],
   "source": [
    "trdc2=trdc %>% select(Stkcd, Stknme, Nnindcd, Nnindnme, Sctcd, Markettype, PROVINCE, PROVINCECODE)"
   ]
  },
  {
   "cell_type": "markdown",
   "metadata": {},
   "source": [
    "## 1.6-eqn4-层级"
   ]
  },
  {
   "cell_type": "code",
   "execution_count": 30,
   "metadata": {
    "vscode": {
     "languageId": "r"
    }
   },
   "outputs": [],
   "source": [
    "#股权性质中有混合的，选取第一个。同时层级中有叫国家的，有叫央企的。统一为央企\n",
    "#因为所有股票里面，有记录的第一年是1990年，所以那些后来上市的公司，为了形成平衡面板，需要填充1991至year0年之间的行\n",
    "#最初以为是1991年。后来使用 find_earliest_year_row 检测，其实是1990年 \n",
    "#详细图表说明 参见 上市公司整理4 \n",
    "eqn4 <- eqn %>%\n",
    "  mutate(\n",
    "  Stkcd = Symbol,\n",
    "  year = year(EndDate),\n",
    "  eqn = substr(EquityNature, 1, 1),\n",
    "  eqnid = substr(EquityNatureID, 1, 1),\n",
    "  hie = if_else(substr(Hierarchy, 1, 1) == \"国\", \"央\", substr(Hierarchy, 1, 1)),\n",
    "  .keep = \"none\"\n",
    "  ) %>%\n",
    "  group_by(Stkcd) %>%\n",
    "  mutate(\n",
    "    year0 = min(year),\n",
    "    freq = ifelse(year == year0, year0 - 1989, 1)\n",
    "  ) %>%\n",
    "  uncount(freq) %>%\n",
    "  mutate(year = 1989 + row_number()) %>%\n",
    "  ungroup() %>%\n",
    "  select(Stkcd, year, eqn, eqnid, hie)"
   ]
  },
  {
   "cell_type": "code",
   "execution_count": 31,
   "metadata": {
    "vscode": {
     "languageId": "r"
    }
   },
   "outputs": [
    {
     "name": "stdout",
     "output_type": "stream",
     "text": [
      "\u001b[90m# A tibble: 5 × 5\u001b[39m\n",
      "  Stkcd   year eqn   eqnid hie  \n",
      "  \u001b[3m\u001b[90m<chr>\u001b[39m\u001b[23m  \u001b[3m\u001b[90m<dbl>\u001b[39m\u001b[23m \u001b[3m\u001b[90m<chr>\u001b[39m\u001b[23m \u001b[3m\u001b[90m<chr>\u001b[39m\u001b[23m \u001b[3m\u001b[90m<chr>\u001b[39m\u001b[23m\n",
      "\u001b[90m1\u001b[39m 000001  \u001b[4m1\u001b[24m990 国    1     市   \n",
      "\u001b[90m2\u001b[39m 000001  \u001b[4m1\u001b[24m991 国    1     市   \n",
      "\u001b[90m3\u001b[39m 000001  \u001b[4m1\u001b[24m992 国    1     市   \n",
      "\u001b[90m4\u001b[39m 000001  \u001b[4m1\u001b[24m993 国    1     市   \n",
      "\u001b[90m5\u001b[39m 000001  \u001b[4m1\u001b[24m994 国    1     市   \n"
     ]
    }
   ],
   "source": [
    "print(eqn4[1:5,])"
   ]
  },
  {
   "cell_type": "markdown",
   "metadata": {},
   "source": [
    "## 1.6b-查看最早年份"
   ]
  },
  {
   "cell_type": "code",
   "execution_count": 32,
   "metadata": {
    "vscode": {
     "languageId": "r"
    }
   },
   "outputs": [],
   "source": [
    "#查看 最早年份 是 1990还是 1991\n",
    "find_earliest_year_row <- function(df, year_column) {\n",
    "  df %>%\n",
    "    filter({{ year_column }} == min({{ year_column }}, na.rm = TRUE))\n",
    "}"
   ]
  },
  {
   "cell_type": "code",
   "execution_count": 33,
   "metadata": {
    "vscode": {
     "languageId": "r"
    }
   },
   "outputs": [
    {
     "name": "stdout",
     "output_type": "stream",
     "text": [
      "\n",
      "Processing data frame: srfrm6 \n",
      "The earliest year is: 1990 \n",
      "\n",
      "Details of the earliest entry/entries:\n",
      "\u001b[90m# A tibble: 6 × 3\u001b[39m\n",
      "  Stkcd   year    Dturn\n",
      "  \u001b[3m\u001b[90m<chr>\u001b[39m\u001b[23m  \u001b[3m\u001b[90m<int>\u001b[39m\u001b[23m    \u001b[3m\u001b[90m<dbl>\u001b[39m\u001b[23m\n",
      "\u001b[90m1\u001b[39m 600601  \u001b[4m1\u001b[24m990 0.000\u001b[4m4\u001b[24m\u001b[4m8\u001b[24m\u001b[4m5\u001b[24m\n",
      "\u001b[90m2\u001b[39m 600602  \u001b[4m1\u001b[24m990 0.003\u001b[4m0\u001b[24m\u001b[4m1\u001b[24m \n",
      "\u001b[90m3\u001b[39m 600651  \u001b[4m1\u001b[24m990 0.015\u001b[4m8\u001b[24m  \n",
      "\u001b[90m4\u001b[39m 600652  \u001b[4m1\u001b[24m990 0.006\u001b[4m5\u001b[24m  \n",
      "\u001b[90m5\u001b[39m 600654  \u001b[4m1\u001b[24m990 0.002\u001b[4m5\u001b[24m\u001b[4m2\u001b[24m \n",
      "\u001b[90m6\u001b[39m 600656  \u001b[4m1\u001b[24m990 0.000\u001b[4m2\u001b[24m\u001b[4m0\u001b[24m\u001b[4m2\u001b[24m\n",
      "\n",
      "-----------------------------------\n",
      "\n",
      "Processing data frame: trdy3 \n",
      "The earliest year is: 1990 \n",
      "\n",
      "Details of the earliest entry/entries:\n",
      "\u001b[90m# A tibble: 6 × 6\u001b[39m\n",
      "  Stkcd   year     trdv    osv     ttv     turn\n",
      "  \u001b[3m\u001b[90m<chr>\u001b[39m\u001b[23m  \u001b[3m\u001b[90m<dbl>\u001b[39m\u001b[23m    \u001b[3m\u001b[90m<dbl>\u001b[39m\u001b[23m  \u001b[3m\u001b[90m<dbl>\u001b[39m\u001b[23m   \u001b[3m\u001b[90m<dbl>\u001b[39m\u001b[23m    \u001b[3m\u001b[90m<dbl>\u001b[39m\u001b[23m\n",
      "\u001b[90m1\u001b[39m 600601  \u001b[4m1\u001b[24m990 0.000\u001b[4m8\u001b[24m\u001b[4m9\u001b[24m\u001b[4m9\u001b[24m 2.20    2.41   0.000\u001b[4m4\u001b[24m\u001b[4m0\u001b[24m\u001b[4m9\u001b[24m\n",
      "\u001b[90m2\u001b[39m 600602  \u001b[4m1\u001b[24m990 0.005\u001b[4m8\u001b[24m\u001b[4m6\u001b[24m  2.46   10.0    0.002\u001b[4m3\u001b[24m\u001b[4m9\u001b[24m \n",
      "\u001b[90m3\u001b[39m 600651  \u001b[4m1\u001b[24m990 0.002\u001b[4m0\u001b[24m\u001b[4m2\u001b[24m  0.132   0.132  0.015\u001b[4m3\u001b[24m  \n",
      "\u001b[90m4\u001b[39m 600652  \u001b[4m1\u001b[24m990 0.000\u001b[4m1\u001b[24m\u001b[4m0\u001b[24m\u001b[4m6\u001b[24m 0.016\u001b[4m5\u001b[24m  0.016\u001b[4m5\u001b[24m 0.006\u001b[4m3\u001b[24m\u001b[4m9\u001b[24m \n",
      "\u001b[90m5\u001b[39m 600654  \u001b[4m1\u001b[24m990 0.000\u001b[4m2\u001b[24m\u001b[4m0\u001b[24m\u001b[4m0\u001b[24m 0.080\u001b[4m2\u001b[24m  0.803  0.002\u001b[4m4\u001b[24m\u001b[4m9\u001b[24m \n",
      "\u001b[90m6\u001b[39m 600656  \u001b[4m1\u001b[24m990 0.000\u001b[4m2\u001b[24m\u001b[4m4\u001b[24m\u001b[4m5\u001b[24m 1.36    7.46   0.000\u001b[4m1\u001b[24m\u001b[4m8\u001b[24m\u001b[4m0\u001b[24m\n",
      "\n",
      "-----------------------------------\n",
      "\n",
      "Processing data frame: eqn4 \n",
      "The earliest year is: 1990 \n",
      "\n",
      "Details of the earliest entry/entries:\n",
      "\u001b[90m# A tibble: 5,614 × 5\u001b[39m\n",
      "   Stkcd   year eqn   eqnid hie  \n",
      "   \u001b[3m\u001b[90m<chr>\u001b[39m\u001b[23m  \u001b[3m\u001b[90m<dbl>\u001b[39m\u001b[23m \u001b[3m\u001b[90m<chr>\u001b[39m\u001b[23m \u001b[3m\u001b[90m<chr>\u001b[39m\u001b[23m \u001b[3m\u001b[90m<chr>\u001b[39m\u001b[23m\n",
      "\u001b[90m 1\u001b[39m 000001  \u001b[4m1\u001b[24m990 国    1     市   \n",
      "\u001b[90m 2\u001b[39m 000002  \u001b[4m1\u001b[24m990 国    1     央   \n",
      "\u001b[90m 3\u001b[39m 000004  \u001b[4m1\u001b[24m990 国    1     省   \n",
      "\u001b[90m 4\u001b[39m 000005  \u001b[4m1\u001b[24m990 外    3     \u001b[31mNA\u001b[39m   \n",
      "\u001b[90m 5\u001b[39m 000006  \u001b[4m1\u001b[24m990 国    1     市   \n",
      "\u001b[90m 6\u001b[39m 000007  \u001b[4m1\u001b[24m990 外    3     \u001b[31mNA\u001b[39m   \n",
      "\u001b[90m 7\u001b[39m 000008  \u001b[4m1\u001b[24m990 民    2     \u001b[31mNA\u001b[39m   \n",
      "\u001b[90m 8\u001b[39m 000009  \u001b[4m1\u001b[24m990 国    1     市   \n",
      "\u001b[90m 9\u001b[39m 000010  \u001b[4m1\u001b[24m990 民    2     \u001b[31mNA\u001b[39m   \n",
      "\u001b[90m10\u001b[39m 000011  \u001b[4m1\u001b[24m990 国    1     市   \n",
      "\u001b[90m# ℹ 5,604 more rows\u001b[39m\n",
      "\n",
      "-----------------------------------\n"
     ]
    }
   ],
   "source": [
    "# Specify the exact names of the data frames you want to process\n",
    "df_names <- c(\"srfrm6\", \"trdy3\", \"eqn4\")\n",
    "\n",
    "# Loop through each specified data frame\n",
    "for (df_name in df_names) {\n",
    "  cat(\"\\nProcessing data frame:\", df_name, \"\\n\")\n",
    "  \n",
    "  # Get the current data frame\n",
    "  df <- get(df_name)\n",
    "  \n",
    "  # Find the earliest year row(s)\n",
    "  result <- find_earliest_year_row(df, year)\n",
    "  \n",
    "  # Print the earliest year\n",
    "  cat(\"The earliest year is:\", min(result$year, na.rm = TRUE), \"\\n\\n\")\n",
    "  \n",
    "  # Print details of the earliest entry/entries\n",
    "  cat(\"Details of the earliest entry/entries:\\n\")\n",
    "  print(result)\n",
    "  \n",
    "  cat(\"\\n-----------------------------------\\n\")\n",
    "}"
   ]
  },
  {
   "cell_type": "markdown",
   "metadata": {},
   "source": [
    "## 1.7-连接-join"
   ]
  },
  {
   "cell_type": "code",
   "execution_count": 34,
   "metadata": {
    "vscode": {
     "languageId": "r"
    }
   },
   "outputs": [
    {
     "name": "stdout",
     "output_type": "stream",
     "text": [
      " int [1:73864] 1991 1992 1993 1994 1995 1996 1997 1998 1999 2000 ...\n",
      " num [1:68388] 1991 1992 1993 1994 1995 ...\n",
      " num [1:189189] 1990 1991 1992 1993 1994 ...\n"
     ]
    }
   ],
   "source": [
    "#srfrm6$year = year(Trdmnt), Trdmnt是\"1991-01\"类型的字符串。trdy3$year=Trdynt是1991类型的双精度double。\n",
    "#eqn4$year = year(EndDate) 是1991-12-31类型的date日期格式\n",
    "#srfrm6$year是整型。trdy3$year 和 eqn4$year 是数值型 \n",
    "str(srfrm6$year)\n",
    "str(trdy3$year)\n",
    "str(eqn4$year)"
   ]
  },
  {
   "cell_type": "code",
   "execution_count": 35,
   "metadata": {
    "vscode": {
     "languageId": "r"
    }
   },
   "outputs": [],
   "source": [
    "#将eqnid = NA 视为 其他 4。比如 京东方B  #由于eqn和eqnid是一一对应的，所以就不修改 eqn了\n",
    "#新建一个字段 区分为 国有  非国有\n",
    "mark5 <- trdy3 %>%\n",
    "  left_join(srfrm6, by = c(\"Stkcd\", \"year\")) %>%\n",
    "  left_join(trdc2, by = \"Stkcd\") %>%\n",
    "  left_join(eqn4, by = c(\"Stkcd\", \"year\")) %>%\n",
    "  mutate(\n",
    "    eqnid = ifelse(is.na(eqnid), 4, eqnid),\n",
    "    guo = as.integer(eqnid == 1)\n",
    "  )"
   ]
  },
  {
   "cell_type": "code",
   "execution_count": 36,
   "metadata": {
    "vscode": {
     "languageId": "r"
    }
   },
   "outputs": [
    {
     "name": "stdout",
     "output_type": "stream",
     "text": [
      "\u001b[90m# A tibble: 5 × 18\u001b[39m\n",
      "  Stkcd   year  trdv   osv   ttv  turn Dturn Stknme   Nnindcd Nnindnme     Sctcd\n",
      "  \u001b[3m\u001b[90m<chr>\u001b[39m\u001b[23m  \u001b[3m\u001b[90m<dbl>\u001b[39m\u001b[23m \u001b[3m\u001b[90m<dbl>\u001b[39m\u001b[23m \u001b[3m\u001b[90m<dbl>\u001b[39m\u001b[23m \u001b[3m\u001b[90m<dbl>\u001b[39m\u001b[23m \u001b[3m\u001b[90m<dbl>\u001b[39m\u001b[23m \u001b[3m\u001b[90m<dbl>\u001b[39m\u001b[23m \u001b[3m\u001b[90m<chr>\u001b[39m\u001b[23m    \u001b[3m\u001b[90m<chr>\u001b[39m\u001b[23m   \u001b[3m\u001b[90m<chr>\u001b[39m\u001b[23m        \u001b[3m\u001b[90m<dbl>\u001b[39m\u001b[23m\n",
      "\u001b[90m1\u001b[39m 000001  \u001b[4m1\u001b[24m991  9.00  13.2  26.3 0.681 0.832 平安银行 J66     货币金融服务     2\n",
      "\u001b[90m2\u001b[39m 000001  \u001b[4m1\u001b[24m992 69.3   30.0  59.9 2.31  2.69  平安银行 J66     货币金融服务     2\n",
      "\u001b[90m3\u001b[39m 000001  \u001b[4m1\u001b[24m993 83.2   32.4  60.2 2.56  2.18  平安银行 J66     货币金融服务     2\n",
      "\u001b[90m4\u001b[39m 000001  \u001b[4m1\u001b[24m994 97.1   31.2  45.2 3.12  2.74  平安银行 J66     货币金融服务     2\n",
      "\u001b[90m5\u001b[39m 000001  \u001b[4m1\u001b[24m995 27.3   22.9  33.3 1.19  0.883 平安银行 J66     货币金融服务     2\n",
      "\u001b[90m# ℹ 7 more variables: Markettype <dbl>, PROVINCE <chr>, PROVINCECODE <dbl>,\u001b[39m\n",
      "\u001b[90m#   eqn <chr>, eqnid <chr>, hie <chr>, guo <int>\u001b[39m\n"
     ]
    }
   ],
   "source": [
    "print(mark5[1:5,])"
   ]
  },
  {
   "cell_type": "code",
   "execution_count": 37,
   "metadata": {
    "vscode": {
     "languageId": "r"
    }
   },
   "outputs": [
    {
     "name": "stdout",
     "output_type": "stream",
     "text": [
      "\u001b[90m# A tibble: 6 × 9\u001b[39m\n",
      "  Stkcd   year Stknme   PROVINCE PROVINCECODE eqn   eqnid hie     guo\n",
      "  \u001b[3m\u001b[90m<chr>\u001b[39m\u001b[23m  \u001b[3m\u001b[90m<dbl>\u001b[39m\u001b[23m \u001b[3m\u001b[90m<chr>\u001b[39m\u001b[23m    \u001b[3m\u001b[90m<chr>\u001b[39m\u001b[23m           \u001b[3m\u001b[90m<dbl>\u001b[39m\u001b[23m \u001b[3m\u001b[90m<chr>\u001b[39m\u001b[23m \u001b[3m\u001b[90m<chr>\u001b[39m\u001b[23m \u001b[3m\u001b[90m<chr>\u001b[39m\u001b[23m \u001b[3m\u001b[90m<int>\u001b[39m\u001b[23m\n",
      "\u001b[90m1\u001b[39m 600601  \u001b[4m1\u001b[24m990 方正科技 上海市         \u001b[4m3\u001b[24m\u001b[4m1\u001b[24m\u001b[4m0\u001b[24m000 国    1     省        1\n",
      "\u001b[90m2\u001b[39m 600602  \u001b[4m1\u001b[24m990 云赛智联 上海市         \u001b[4m3\u001b[24m\u001b[4m1\u001b[24m\u001b[4m0\u001b[24m000 国    1     省        1\n",
      "\u001b[90m3\u001b[39m 600651  \u001b[4m1\u001b[24m990 飞乐音响 上海市         \u001b[4m3\u001b[24m\u001b[4m1\u001b[24m\u001b[4m0\u001b[24m000 国    1     省        1\n",
      "\u001b[90m4\u001b[39m 600652  \u001b[4m1\u001b[24m990 退市游久 上海市         \u001b[4m3\u001b[24m\u001b[4m1\u001b[24m\u001b[4m0\u001b[24m000 民    2     \u001b[31mNA\u001b[39m        0\n",
      "\u001b[90m5\u001b[39m 600654  \u001b[4m1\u001b[24m990 中安科   湖北省         \u001b[4m4\u001b[24m\u001b[4m2\u001b[24m\u001b[4m0\u001b[24m000 国    1     市        1\n",
      "\u001b[90m6\u001b[39m 600656  \u001b[4m1\u001b[24m990 退市博元 广东省         \u001b[4m4\u001b[24m\u001b[4m4\u001b[24m\u001b[4m0\u001b[24m000 国    1     央        1\n"
     ]
    }
   ],
   "source": [
    "earliest_row <- mark5 %>% filter(year == min(year, na.rm = TRUE))\n",
    "print(earliest_row[, c(1:2, 8, 13:18)])"
   ]
  },
  {
   "cell_type": "markdown",
   "metadata": {},
   "source": [
    "## 1.8-生成各省股票数据"
   ]
  },
  {
   "cell_type": "code",
   "execution_count": 38,
   "metadata": {
    "vscode": {
     "languageId": "r"
    }
   },
   "outputs": [
    {
     "name": "stderr",
     "output_type": "stream",
     "text": [
      "\u001b[1m\u001b[22m`summarise()` has grouped output by 'PROVINCE'. You can override using the\n",
      "`.groups` argument.\n",
      "\u001b[1m\u001b[22m`summarise()` has grouped output by 'PROVINCE', 'year'. You can override using\n",
      "the `.groups` argument.\n",
      "\u001b[1m\u001b[22mJoining with `by = join_by(PROVINCE, year)`\n"
     ]
    }
   ],
   "source": [
    "#此处，POE的优化不如原始代码。使用原始代码\n",
    "#为了防止和论文阐述中的turn混淆，将后两者重命名为 turn01, turn02\n",
    "#备注三个换手率。Dturn是各个公司月度换手率加总。turn是各个公司的年度交易额/年末 流通市值。turn02=trdv/osv是省份层面计算\n",
    "#按照是否国有 创建 新的变量guo\n",
    "#pivot时 缺省变量名为 trdv_1  #奥卡姆剃刀。最后还是 变为 trdv1 变量\n",
    "#最后依据地区PROVINCE只取两个字。只有 内蒙古 黑龙江 是 三个字。\n",
    "#生成新变量region。放在原来第二位的year后面。第一位是 group_by 的 PROVINCE\n",
    "\n",
    "mark6 = mark5 %>% group_by(PROVINCE,year) %>% summarise(trdv=sum(trdv), osv=sum(osv), ttv=sum(ttv), Dturn=mean(Dturn), turn01=mean(turn), turn02=trdv/osv ) \n",
    "#每个公司的平均mean  总体 交易额/流通市值\n",
    "mark6b = mark5 %>% group_by(PROVINCE,year,guo) %>% summarise(trdv=sum(trdv), osv=sum(osv), ttv=sum(ttv), Dturn=mean(Dturn) , turn01=mean(turn), turn02=trdv/osv )\n",
    "mark6c =  mark6b %>% pivot_wider(\n",
    "    names_from = guo, \n",
    "    values_from = trdv:turn02, \n",
    "    names_glue = '{.value}{guo}'\n",
    ")\n",
    "mark7 = mark6 %>% left_join(mark6c)\n",
    "mark7b= mark7 %>% ungroup()\n",
    "mark8 = mark7b %>% mutate( region = str_sub(PROVINCE, 1, 2), .keep = \"unused\", .before = 1 )"
   ]
  },
  {
   "cell_type": "code",
   "execution_count": 39,
   "metadata": {
    "vscode": {
     "languageId": "r"
    }
   },
   "outputs": [
    {
     "name": "stdout",
     "output_type": "stream",
     "text": [
      "\u001b[90m# A tibble: 5 × 9\u001b[39m\n",
      "\u001b[90m# Groups:   PROVINCE, year [3]\u001b[39m\n",
      "  PROVINCE  year   guo      trdv     osv     ttv   Dturn  turn01  turn02\n",
      "  \u001b[3m\u001b[90m<chr>\u001b[39m\u001b[23m    \u001b[3m\u001b[90m<dbl>\u001b[39m\u001b[23m \u001b[3m\u001b[90m<int>\u001b[39m\u001b[23m     \u001b[3m\u001b[90m<dbl>\u001b[39m\u001b[23m   \u001b[3m\u001b[90m<dbl>\u001b[39m\u001b[23m   \u001b[3m\u001b[90m<dbl>\u001b[39m\u001b[23m   \u001b[3m\u001b[90m<dbl>\u001b[39m\u001b[23m   \u001b[3m\u001b[90m<dbl>\u001b[39m\u001b[23m   \u001b[3m\u001b[90m<dbl>\u001b[39m\u001b[23m\n",
      "\u001b[90m1\u001b[39m 上海市    \u001b[4m1\u001b[24m990     0  0.000\u001b[4m1\u001b[24m\u001b[4m0\u001b[24m\u001b[4m6\u001b[24m  0.016\u001b[4m5\u001b[24m  0.016\u001b[4m5\u001b[24m 0.006\u001b[4m5\u001b[24m  0.006\u001b[4m3\u001b[24m\u001b[4m9\u001b[24m 0.006\u001b[4m3\u001b[24m\u001b[4m9\u001b[24m\n",
      "\u001b[90m2\u001b[39m 上海市    \u001b[4m1\u001b[24m990     1  0.008\u001b[4m7\u001b[24m\u001b[4m8\u001b[24m   4.78   12.5    0.006\u001b[4m4\u001b[24m\u001b[4m2\u001b[24m 0.006\u001b[4m0\u001b[24m\u001b[4m2\u001b[24m 0.001\u001b[4m8\u001b[24m\u001b[4m4\u001b[24m\n",
      "\u001b[90m3\u001b[39m 上海市    \u001b[4m1\u001b[24m991     0  0.016\u001b[4m2\u001b[24m    0.334   0.334  0.366   0.048\u001b[4m4\u001b[24m  0.048\u001b[4m4\u001b[24m \n",
      "\u001b[90m4\u001b[39m 上海市    \u001b[4m1\u001b[24m991     1  6.51      6.15   19.8    1.82    0.996   1.06   \n",
      "\u001b[90m5\u001b[39m 上海市    \u001b[4m1\u001b[24m992     0 41.2      12.0    57.1    1.86    4.29    3.44   \n"
     ]
    }
   ],
   "source": [
    "print(mark6b[1:5,])"
   ]
  },
  {
   "cell_type": "code",
   "execution_count": 40,
   "metadata": {
    "vscode": {
     "languageId": "r"
    }
   },
   "outputs": [
    {
     "name": "stdout",
     "output_type": "stream",
     "text": [
      "\u001b[90m# A tibble: 1 × 20\u001b[39m\n",
      "  PROVINCE  year    trdv   osv   ttv   Dturn  turn01  turn02    trdv0   trdv1\n",
      "  \u001b[3m\u001b[90m<chr>\u001b[39m\u001b[23m    \u001b[3m\u001b[90m<dbl>\u001b[39m\u001b[23m   \u001b[3m\u001b[90m<dbl>\u001b[39m\u001b[23m \u001b[3m\u001b[90m<dbl>\u001b[39m\u001b[23m \u001b[3m\u001b[90m<dbl>\u001b[39m\u001b[23m   \u001b[3m\u001b[90m<dbl>\u001b[39m\u001b[23m   \u001b[3m\u001b[90m<dbl>\u001b[39m\u001b[23m   \u001b[3m\u001b[90m<dbl>\u001b[39m\u001b[23m    \u001b[3m\u001b[90m<dbl>\u001b[39m\u001b[23m   \u001b[3m\u001b[90m<dbl>\u001b[39m\u001b[23m\n",
      "\u001b[90m1\u001b[39m 上海市    \u001b[4m1\u001b[24m990 0.008\u001b[4m8\u001b[24m\u001b[4m9\u001b[24m  4.80  12.6 0.006\u001b[4m4\u001b[24m\u001b[4m4\u001b[24m 0.006\u001b[4m1\u001b[24m\u001b[4m1\u001b[24m 0.001\u001b[4m8\u001b[24m\u001b[4m5\u001b[24m 0.000\u001b[4m1\u001b[24m\u001b[4m0\u001b[24m\u001b[4m6\u001b[24m 0.008\u001b[4m7\u001b[24m\u001b[4m8\u001b[24m\n",
      "\u001b[90m# ℹ 10 more variables: osv0 <dbl>, osv1 <dbl>, ttv0 <dbl>, ttv1 <dbl>,\u001b[39m\n",
      "\u001b[90m#   Dturn0 <dbl>, Dturn1 <dbl>, turn010 <dbl>, turn011 <dbl>, turn020 <dbl>,\u001b[39m\n",
      "\u001b[90m#   turn021 <dbl>\u001b[39m\n"
     ]
    }
   ],
   "source": [
    "print(mark7b[1,])"
   ]
  },
  {
   "cell_type": "code",
   "execution_count": 41,
   "metadata": {
    "vscode": {
     "languageId": "r"
    }
   },
   "outputs": [
    {
     "name": "stdout",
     "output_type": "stream",
     "text": [
      "\u001b[90m# A tibble: 1 × 20\u001b[39m\n",
      "  region  year    trdv   osv   ttv   Dturn  turn01  turn02    trdv0   trdv1\n",
      "  \u001b[3m\u001b[90m<chr>\u001b[39m\u001b[23m  \u001b[3m\u001b[90m<dbl>\u001b[39m\u001b[23m   \u001b[3m\u001b[90m<dbl>\u001b[39m\u001b[23m \u001b[3m\u001b[90m<dbl>\u001b[39m\u001b[23m \u001b[3m\u001b[90m<dbl>\u001b[39m\u001b[23m   \u001b[3m\u001b[90m<dbl>\u001b[39m\u001b[23m   \u001b[3m\u001b[90m<dbl>\u001b[39m\u001b[23m   \u001b[3m\u001b[90m<dbl>\u001b[39m\u001b[23m    \u001b[3m\u001b[90m<dbl>\u001b[39m\u001b[23m   \u001b[3m\u001b[90m<dbl>\u001b[39m\u001b[23m\n",
      "\u001b[90m1\u001b[39m 上海    \u001b[4m1\u001b[24m990 0.008\u001b[4m8\u001b[24m\u001b[4m9\u001b[24m  4.80  12.6 0.006\u001b[4m4\u001b[24m\u001b[4m4\u001b[24m 0.006\u001b[4m1\u001b[24m\u001b[4m1\u001b[24m 0.001\u001b[4m8\u001b[24m\u001b[4m5\u001b[24m 0.000\u001b[4m1\u001b[24m\u001b[4m0\u001b[24m\u001b[4m6\u001b[24m 0.008\u001b[4m7\u001b[24m\u001b[4m8\u001b[24m\n",
      "\u001b[90m# ℹ 10 more variables: osv0 <dbl>, osv1 <dbl>, ttv0 <dbl>, ttv1 <dbl>,\u001b[39m\n",
      "\u001b[90m#   Dturn0 <dbl>, Dturn1 <dbl>, turn010 <dbl>, turn011 <dbl>, turn020 <dbl>,\u001b[39m\n",
      "\u001b[90m#   turn021 <dbl>\u001b[39m\n"
     ]
    }
   ],
   "source": [
    "print(mark8[1,])"
   ]
  },
  {
   "cell_type": "markdown",
   "metadata": {},
   "source": [
    "# 2-宏观数据"
   ]
  },
  {
   "cell_type": "markdown",
   "metadata": {},
   "source": [
    "## 2.0-说明"
   ]
  },
  {
   "cell_type": "code",
   "execution_count": 42,
   "metadata": {
    "vscode": {
     "languageId": "r"
    }
   },
   "outputs": [],
   "source": [
    "#进一步的具体信息。参见 金融结构code3 。\n",
    "#备注：人口 城镇人口 全部时期 使用 CEIC。state 相对复杂单独处理。\n",
    "#其他的数据 2005年之后 使用 CEIC（之前 新中国60年）。CEIC 虽然 准确一些，但是 前期 数据可能 不完整。\n",
    "#d15=read_excel(\"d200-res-1b.xlsx\") #新中国60年\n",
    "#稳健性检验 对比 金融非线性-70-修正-2.xlsx 中 2005年北京 的数据 和 R 程序 中 的 数据。"
   ]
  },
  {
   "cell_type": "code",
   "execution_count": 43,
   "metadata": {
    "vscode": {
     "languageId": "r"
    }
   },
   "outputs": [],
   "source": [
    "#尝试 使用 CEIC - R 插件。算了。还是手动下载比较放心。在vscode中建立markdown，记录每个表格的搜索方法\n",
    "#详见  CEIC指南   #第二次使用"
   ]
  },
  {
   "cell_type": "markdown",
   "metadata": {},
   "source": [
    "## 2.1-读入CEIC.csv数据"
   ]
  },
  {
   "cell_type": "code",
   "execution_count": 44,
   "metadata": {
    "vscode": {
     "languageId": "r"
    }
   },
   "outputs": [],
   "source": [
    "#之前使用fread。但是 应该是gov trade gov 有 中文乱码（列名称中文乱码）。\n",
    "#此次使用read_csv，可以比较稳健地处理乱码\n",
    "#国泰安 文件名格式：D:/IDMhs/收益预测-月个股回报率文件-2024-09-23/SRFR_Amnthlyr.csv\n",
    "#CEIC文件名格式： D:/jianguo/myR/pop-人口数-CEIC-2023-04-21.csv\n",
    "#此脚本文件：D:/jianguo/myvscode/1-R/4-finstr.ipynb \n",
    "#此处 读入.csv文件，没有使用绝对路径，但是也成功了，因为最初将 D:/jianguo/myR/ 设为 工作目录。所以下面的代码中只是给出了文件名，就可以读入\n",
    "#当然，最好还是使用 绝对路径"
   ]
  },
  {
   "cell_type": "code",
   "execution_count": 45,
   "metadata": {
    "vscode": {
     "languageId": "r"
    }
   },
   "outputs": [],
   "source": [
    "#数据信息文件：D:\\jianguo\\MyDoc\\数据导入信息.xlsx\n",
    "#第一列是id，后4列分别对应.csv文件名称。单位（原始单位 → 统一单位）。换算比率，数据框名称。比如：\n",
    "#id\tfile_name\tunit\tuconv\tdata_name\n",
    "#1\tpop-人口数-CEIC-2023-04-21.csv\t百万人 - 万\t100\tpop\n",
    "#D:/jianguo/myR/pop-人口数-CEIC-2023-04-21.csv"
   ]
  },
  {
   "cell_type": "code",
   "execution_count": 46,
   "metadata": {
    "vscode": {
     "languageId": "r"
    }
   },
   "outputs": [],
   "source": [
    "dir_base2=\"D:/jianguo/myR/\""
   ]
  },
  {
   "cell_type": "code",
   "execution_count": 47,
   "metadata": {
    "vscode": {
     "languageId": "r"
    }
   },
   "outputs": [],
   "source": [
    "data_info=read_excel(\"D:/jianguo/MyDoc/数据导入信息.xlsx\")\n",
    "fname=data_info$file_name\n",
    "uconv=data_info$uconv"
   ]
  },
  {
   "cell_type": "code",
   "execution_count": 48,
   "metadata": {
    "vscode": {
     "languageId": "r"
    }
   },
   "outputs": [],
   "source": [
    "cc1=1:13  #1-13是普通宏观数据 14-17是state数据（国有比重） 稍微特殊一些。需要 另外处理\n",
    "fname1=fname[cc1] \n",
    "uconv1=uconv[cc1]"
   ]
  },
  {
   "cell_type": "code",
   "execution_count": 49,
   "metadata": {
    "vscode": {
     "languageId": "r"
    }
   },
   "outputs": [],
   "source": [
    "# print(fname1)\n",
    "# print(uconv1)"
   ]
  },
  {
   "cell_type": "code",
   "execution_count": 50,
   "metadata": {
    "vscode": {
     "languageId": "r"
    }
   },
   "outputs": [],
   "source": [
    "#还是 read_csv彪悍。之前fread 读trade-进出口-中经-2023-04-23.csv时，存在乱码。还需要处理编码"
   ]
  },
  {
   "cell_type": "code",
   "execution_count": 51,
   "metadata": {
    "vscode": {
     "languageId": "r"
    }
   },
   "outputs": [],
   "source": [
    "name_zj=function(fna, ucon, ss, ee) {   \n",
    "#zj-中经。fna-法纳-维拉\n",
    "fnam = paste0(dir_base2, fna)  #使用绝对路径\n",
    "pop_c=read_csv(fnam)  #fna: \"pop-人口数-CEIC-2023-04-21.csv\"  #最初是read_excel → fread → read_csv\n",
    "#label=str_extract(fna, \"^.*?(?=-)\")  #label: \"pop\"  #变量名称  #用于后面变量赋值\n",
    "label <- sub(\"-.*\", \"\", fna)  #选择这个  #label= 数据框的名称 \n",
    "#它将从第一个连字符\"-\"开始的所有内容替换为空字符串\n",
    "a=names(pop_c)  #[1] \"V1\"       \"人口数:北京\"   \"人口数:天津\"\n",
    "id=str_detect(a, \"北京\")  #获取 北京 所在的那一列的全部名称  #通常是第二列\n",
    "nn=a[id]   #\"人口数:北京\" \n",
    "prefix <- sub(\"北京.*\", \"\", nn)  #前缀 \"人口数:\"\n",
    "id=nchar(prefix)  # 4\n",
    "b=str_sub(a, start = id+1, end = id+2)  #省份名称 选取 2个字\n",
    "b[1]=\"year\"  #V1→year\n",
    "names(pop_c)=b\n",
    "#print(label)\n",
    "#下面命令针对 信贷 其为 月度数据 格式为 \"12/1987\"\n",
    "if (label %in% c(\"credit\", \"deposit\" ) ) {\n",
    "pop_d=pop_c %>% filter(str_sub(year, 1, 2) == \"12\")  \n",
    "pop_c=pop_d %>% mutate( year = as.integer( str_sub(year, 4) ) , .before = 1)  #可以不用before 因为year本来就在第一位\n",
    "}\n",
    "#之所以叫 pop_c 是为了和上面的 非 信贷 数据一致\n",
    "pop2= pop_c %>% filter(year>={{ss}} & year<={{ee}} )  #32个变量 year  北京  天津\n",
    "#print(label)\n",
    "pop3= pop2 %>% pivot_longer(\n",
    "  cols = -1,\n",
    "  names_to = \"region\",  #如果是字符串 则 为 引用 如果是变量 则代入值。此处第一句为字符串 第二句 为变量\n",
    "  values_to = label   \n",
    ")\n",
    "#print(label)\n",
    "pop4= pop3 %>% mutate(across( 3, ~ .* {{ucon}} )  )  #此处为 穿透\n",
    "#print(label)\n",
    "pop4\n",
    "}"
   ]
  },
  {
   "cell_type": "code",
   "execution_count": 52,
   "metadata": {
    "vscode": {
     "languageId": "r"
    }
   },
   "outputs": [
    {
     "name": "stderr",
     "output_type": "stream",
     "text": [
      "\u001b[1m\u001b[22mNew names:\n",
      "\u001b[36m•\u001b[39m `` -> `...1`\n",
      "\u001b[1mRows: \u001b[22m\u001b[34m74\u001b[39m \u001b[1mColumns: \u001b[22m\u001b[34m32\u001b[39m\n",
      "\u001b[36m──\u001b[39m \u001b[1mColumn specification\u001b[22m \u001b[36m────────────────────────────────────────────────────────\u001b[39m\n",
      "\u001b[1mDelimiter:\u001b[22m \",\"\n",
      "\u001b[32mdbl\u001b[39m (32): ...1, 人口数:北京, 人口数:天津, 人口数:河北, 人口数:山西, 人口数:内蒙古, 人口数:辽宁, 人口数:吉林, 人口数...\n",
      "\n",
      "\u001b[36mℹ\u001b[39m Use `spec()` to retrieve the full column specification for this data.\n",
      "\u001b[36mℹ\u001b[39m Specify the column types or set `show_col_types = FALSE` to quiet this message.\n",
      "\u001b[1m\u001b[22mNew names:\n",
      "\u001b[36m•\u001b[39m `` -> `...1`\n",
      "\u001b[1mRows: \u001b[22m\u001b[34m51\u001b[39m \u001b[1mColumns: \u001b[22m\u001b[34m32\u001b[39m\n",
      "\u001b[36m──\u001b[39m \u001b[1mColumn specification\u001b[22m \u001b[36m────────────────────────────────────────────────────────\u001b[39m\n",
      "\u001b[1mDelimiter:\u001b[22m \",\"\n",
      "\u001b[32mdbl\u001b[39m (32): ...1, 北京:居民消费价格指数, 天津:居民消费价格指数, 河北:居民消费价格指数, 山西:居民消费价格指数, 内蒙古:居民消费...\n",
      "\n",
      "\u001b[36mℹ\u001b[39m Use `spec()` to retrieve the full column specification for this data.\n",
      "\u001b[36mℹ\u001b[39m Specify the column types or set `show_col_types = FALSE` to quiet this message.\n",
      "\u001b[1m\u001b[22mNew names:\n",
      "\u001b[36m•\u001b[39m `` -> `...1`\n",
      "\u001b[1mRows: \u001b[22m\u001b[34m74\u001b[39m \u001b[1mColumns: \u001b[22m\u001b[34m32\u001b[39m\n",
      "\u001b[36m──\u001b[39m \u001b[1mColumn specification\u001b[22m \u001b[36m────────────────────────────────────────────────────────\u001b[39m\n",
      "\u001b[1mDelimiter:\u001b[22m \",\"\n",
      "\u001b[32mdbl\u001b[39m (32): ...1, 国内生产总值:北京:第一产业, 国内生产总值:天津:第一产业, 国内生产总值:河北:第一产业, 国内生产总值:山西:第一...\n",
      "\n",
      "\u001b[36mℹ\u001b[39m Use `spec()` to retrieve the full column specification for this data.\n",
      "\u001b[36mℹ\u001b[39m Specify the column types or set `show_col_types = FALSE` to quiet this message.\n",
      "\u001b[1m\u001b[22mNew names:\n",
      "\u001b[36m•\u001b[39m `` -> `...1`\n",
      "\u001b[1mRows: \u001b[22m\u001b[34m74\u001b[39m \u001b[1mColumns: \u001b[22m\u001b[34m32\u001b[39m\n",
      "\u001b[36m──\u001b[39m \u001b[1mColumn specification\u001b[22m \u001b[36m────────────────────────────────────────────────────────\u001b[39m\n",
      "\u001b[1mDelimiter:\u001b[22m \",\"\n",
      "\u001b[32mdbl\u001b[39m (32): ...1, 国内生产总值:北京:第二产业, 国内生产总值:天津:第二产业, 国内生产总值:河北:第二产业, 国内生产总值:山西:第二...\n",
      "\n",
      "\u001b[36mℹ\u001b[39m Use `spec()` to retrieve the full column specification for this data.\n",
      "\u001b[36mℹ\u001b[39m Specify the column types or set `show_col_types = FALSE` to quiet this message.\n",
      "\u001b[1m\u001b[22mNew names:\n",
      "\u001b[36m•\u001b[39m `` -> `...1`\n",
      "\u001b[1mRows: \u001b[22m\u001b[34m74\u001b[39m \u001b[1mColumns: \u001b[22m\u001b[34m32\u001b[39m\n",
      "\u001b[36m──\u001b[39m \u001b[1mColumn specification\u001b[22m \u001b[36m────────────────────────────────────────────────────────\u001b[39m\n",
      "\u001b[1mDelimiter:\u001b[22m \",\"\n",
      "\u001b[32mdbl\u001b[39m (32): ...1, 国内生产总值:北京, 国内生产总值:天津, 国内生产总值:河北, 国内生产总值:山西, 国内生产总值:内蒙古, 国内生产...\n",
      "\n",
      "\u001b[36mℹ\u001b[39m Use `spec()` to retrieve the full column specification for this data.\n",
      "\u001b[36mℹ\u001b[39m Specify the column types or set `show_col_types = FALSE` to quiet this message.\n",
      "\u001b[1m\u001b[22mNew names:\n",
      "\u001b[36m•\u001b[39m `` -> `...1`\n",
      "\u001b[1mRows: \u001b[22m\u001b[34m74\u001b[39m \u001b[1mColumns: \u001b[22m\u001b[34m32\u001b[39m\n",
      "\u001b[36m──\u001b[39m \u001b[1mColumn specification\u001b[22m \u001b[36m────────────────────────────────────────────────────────\u001b[39m\n",
      "\u001b[1mDelimiter:\u001b[22m \",\"\n",
      "\u001b[32mdbl\u001b[39m (32): ...1, 国内生产总值指数:北京, 国内生产总值指数:天津, 国内生产总值指数:河北, 国内生产总值指数:山西, 国内生产总值指数...\n",
      "\n",
      "\u001b[36mℹ\u001b[39m Use `spec()` to retrieve the full column specification for this data.\n",
      "\u001b[36mℹ\u001b[39m Specify the column types or set `show_col_types = FALSE` to quiet this message.\n",
      "\u001b[1m\u001b[22mNew names:\n",
      "\u001b[36m•\u001b[39m `` -> `...1`\n",
      "\u001b[1mRows: \u001b[22m\u001b[34m76\u001b[39m \u001b[1mColumns: \u001b[22m\u001b[34m32\u001b[39m\n",
      "\u001b[36m──\u001b[39m \u001b[1mColumn specification\u001b[22m \u001b[36m────────────────────────────────────────────────────────\u001b[39m\n",
      "\u001b[1mDelimiter:\u001b[22m \",\"\n",
      "\u001b[32mdbl\u001b[39m (32): ...1, 北京:财政支出:一般公共预算支出, 天津:财政支出:一般公共预算支出, 河北:财政支出:一般公共预算支出, 山西:财政支...\n",
      "\n",
      "\u001b[36mℹ\u001b[39m Use `spec()` to retrieve the full column specification for this data.\n",
      "\u001b[36mℹ\u001b[39m Specify the column types or set `show_col_types = FALSE` to quiet this message.\n",
      "\u001b[1m\u001b[22mNew names:\n",
      "\u001b[36m•\u001b[39m `` -> `...1`\n",
      "\u001b[1mRows: \u001b[22m\u001b[34m27\u001b[39m \u001b[1mColumns: \u001b[22m\u001b[34m32\u001b[39m\n",
      "\u001b[36m──\u001b[39m \u001b[1mColumn specification\u001b[22m \u001b[36m────────────────────────────────────────────────────────\u001b[39m\n",
      "\u001b[1mDelimiter:\u001b[22m \",\"\n",
      "\u001b[32mdbl\u001b[39m (32): ...1, 在校生数:高等:普通本专科:北京, 在校生数:高等:普通本专科:天津, 在校生数:高等:普通本专科:河北, 在校生数:高...\n",
      "\n",
      "\u001b[36mℹ\u001b[39m Use `spec()` to retrieve the full column specification for this data.\n",
      "\u001b[36mℹ\u001b[39m Specify the column types or set `show_col_types = FALSE` to quiet this message.\n",
      "\u001b[1m\u001b[22mNew names:\n",
      "\u001b[36m•\u001b[39m `` -> `...1`\n",
      "\u001b[1mRows: \u001b[22m\u001b[34m25\u001b[39m \u001b[1mColumns: \u001b[22m\u001b[34m32\u001b[39m\n",
      "\u001b[36m──\u001b[39m \u001b[1mColumn specification\u001b[22m \u001b[36m────────────────────────────────────────────────────────\u001b[39m\n",
      "\u001b[1mDelimiter:\u001b[22m \",\"\n",
      "\u001b[32mdbl\u001b[39m (32): ...1, 在校生数:中学:普通高中:北京, 在校生数:中学:普通高中:天津, 在校生数:中学:普通高中:河北, 在校生数:中学:普...\n",
      "\n",
      "\u001b[36mℹ\u001b[39m Use `spec()` to retrieve the full column specification for this data.\n",
      "\u001b[36mℹ\u001b[39m Specify the column types or set `show_col_types = FALSE` to quiet this message.\n",
      "\u001b[1m\u001b[22mNew names:\n",
      "\u001b[36m•\u001b[39m `` -> `...1`\n",
      "\u001b[1mRows: \u001b[22m\u001b[34m25\u001b[39m \u001b[1mColumns: \u001b[22m\u001b[34m32\u001b[39m\n",
      "\u001b[36m──\u001b[39m \u001b[1mColumn specification\u001b[22m \u001b[36m────────────────────────────────────────────────────────\u001b[39m\n",
      "\u001b[1mDelimiter:\u001b[22m \",\"\n",
      "\u001b[32mdbl\u001b[39m (32): ...1, 在校生数:中学:普通初中:北京, 在校生数:中学:普通初中:天津, 在校生数:中学:普通初中:河北, 在校生数:中学:普...\n",
      "\n",
      "\u001b[36mℹ\u001b[39m Use `spec()` to retrieve the full column specification for this data.\n",
      "\u001b[36mℹ\u001b[39m Specify the column types or set `show_col_types = FALSE` to quiet this message.\n",
      "\u001b[1mRows: \u001b[22m\u001b[34m24\u001b[39m \u001b[1mColumns: \u001b[22m\u001b[34m32\u001b[39m\n",
      "\u001b[36m──\u001b[39m \u001b[1mColumn specification\u001b[22m \u001b[36m────────────────────────────────────────────────────────\u001b[39m\n",
      "\u001b[1mDelimiter:\u001b[22m \",\"\n",
      "\u001b[32mdbl\u001b[39m (32): 地区, 北京, 天津, 河北, 山西, 内蒙古, 辽宁, 吉林, 黑龙江, 上海, 江苏, 浙江, 安徽, 福建, 江西, 山东, ...\n",
      "\n",
      "\u001b[36mℹ\u001b[39m Use `spec()` to retrieve the full column specification for this data.\n",
      "\u001b[36mℹ\u001b[39m Specify the column types or set `show_col_types = FALSE` to quiet this message.\n",
      "\u001b[1m\u001b[22mNew names:\n",
      "\u001b[36m•\u001b[39m `` -> `...1`\n",
      "\u001b[1mRows: \u001b[22m\u001b[34m247\u001b[39m \u001b[1mColumns: \u001b[22m\u001b[34m32\u001b[39m\n",
      "\u001b[36m──\u001b[39m \u001b[1mColumn specification\u001b[22m \u001b[36m────────────────────────────────────────────────────────\u001b[39m\n",
      "\u001b[1mDelimiter:\u001b[22m \",\"\n",
      "\u001b[31mchr\u001b[39m  (1): ...1\n",
      "\u001b[32mdbl\u001b[39m (31): 北京:贷款, 天津:贷款, 河北:贷款, 山西:贷款, 内蒙古:贷款, 辽宁:贷款, 吉林:贷款, 黑龙江:贷款, 上海:贷款, 江...\n",
      "\n",
      "\u001b[36mℹ\u001b[39m Use `spec()` to retrieve the full column specification for this data.\n",
      "\u001b[36mℹ\u001b[39m Specify the column types or set `show_col_types = FALSE` to quiet this message.\n",
      "\u001b[1m\u001b[22mNew names:\n",
      "\u001b[36m•\u001b[39m `` -> `...1`\n",
      "\u001b[1mRows: \u001b[22m\u001b[34m247\u001b[39m \u001b[1mColumns: \u001b[22m\u001b[34m32\u001b[39m\n",
      "\u001b[36m──\u001b[39m \u001b[1mColumn specification\u001b[22m \u001b[36m────────────────────────────────────────────────────────\u001b[39m\n",
      "\u001b[1mDelimiter:\u001b[22m \",\"\n",
      "\u001b[31mchr\u001b[39m  (1): ...1\n",
      "\u001b[32mdbl\u001b[39m (31): 北京:存款, 天津:存款, 河北:存款, 山西:存款, 内蒙古:存款, 辽宁:存款, 吉林:存款, 黑龙江:存款, 上海:存款, 江...\n",
      "\n",
      "\u001b[36mℹ\u001b[39m Use `spec()` to retrieve the full column specification for this data.\n",
      "\u001b[36mℹ\u001b[39m Specify the column types or set `show_col_types = FALSE` to quiet this message.\n"
     ]
    }
   ],
   "source": [
    "#从CEIC中选取2005年之后数据，之前的数据使用新中国60年\n",
    "new_data=map2(fname1, uconv1, name_zj, ss=2005, ee=2021)  #fna, ucon  #13个变量  #new_data - 新数据"
   ]
  },
  {
   "cell_type": "code",
   "execution_count": 53,
   "metadata": {
    "vscode": {
     "languageId": "r"
    }
   },
   "outputs": [
    {
     "name": "stderr",
     "output_type": "stream",
     "text": [
      "\u001b[1m\u001b[22mJoining with `by = join_by(year, region)`\n",
      "\u001b[1m\u001b[22mJoining with `by = join_by(year, region)`\n",
      "\u001b[1m\u001b[22mJoining with `by = join_by(year, region)`\n",
      "\u001b[1m\u001b[22mJoining with `by = join_by(year, region)`\n",
      "\u001b[1m\u001b[22mJoining with `by = join_by(year, region)`\n",
      "\u001b[1m\u001b[22mJoining with `by = join_by(year, region)`\n",
      "\u001b[1m\u001b[22mJoining with `by = join_by(year, region)`\n",
      "\u001b[1m\u001b[22mJoining with `by = join_by(year, region)`\n",
      "\u001b[1m\u001b[22mJoining with `by = join_by(year, region)`\n",
      "\u001b[1m\u001b[22mJoining with `by = join_by(year, region)`\n",
      "\u001b[1m\u001b[22mJoining with `by = join_by(year, region)`\n",
      "\u001b[1m\u001b[22mJoining with `by = join_by(year, region)`\n"
     ]
    }
   ],
   "source": [
    "nd2=new_data %>% reduce(left_join)"
   ]
  },
  {
   "cell_type": "markdown",
   "metadata": {},
   "source": [
    "## 2.2-对数据进行初步整理"
   ]
  },
  {
   "cell_type": "code",
   "execution_count": 54,
   "metadata": {
    "vscode": {
     "languageId": "r"
    }
   },
   "outputs": [],
   "source": [
    "nd3=nd2 %>% mutate(mid = jun+sen , .keep =\"unused\" )"
   ]
  },
  {
   "cell_type": "code",
   "execution_count": 55,
   "metadata": {
    "vscode": {
     "languageId": "r"
    }
   },
   "outputs": [],
   "source": [
    "nd4=nd3 %>% mutate(cpi = cpi- 100 )"
   ]
  },
  {
   "cell_type": "code",
   "execution_count": 56,
   "metadata": {
    "vscode": {
     "languageId": "r"
    }
   },
   "outputs": [
    {
     "name": "stdout",
     "output_type": "stream",
     "text": [
      "\u001b[90m# A tibble: 1 × 14\u001b[39m\n",
      "   year region   pop   cpi first second   gdp  gdpi   gov   stu trade credit\n",
      "  \u001b[3m\u001b[90m<dbl>\u001b[39m\u001b[23m \u001b[3m\u001b[90m<chr>\u001b[39m\u001b[23m  \u001b[3m\u001b[90m<dbl>\u001b[39m\u001b[23m \u001b[3m\u001b[90m<dbl>\u001b[39m\u001b[23m \u001b[3m\u001b[90m<dbl>\u001b[39m\u001b[23m  \u001b[3m\u001b[90m<dbl>\u001b[39m\u001b[23m \u001b[3m\u001b[90m<dbl>\u001b[39m\u001b[23m \u001b[3m\u001b[90m<dbl>\u001b[39m\u001b[23m \u001b[3m\u001b[90m<dbl>\u001b[39m\u001b[23m \u001b[3m\u001b[90m<dbl>\u001b[39m\u001b[23m \u001b[3m\u001b[90m<dbl>\u001b[39m\u001b[23m  \u001b[3m\u001b[90m<dbl>\u001b[39m\u001b[23m\n",
      "\u001b[90m1\u001b[39m  \u001b[4m2\u001b[24m005 北京    \u001b[4m1\u001b[24m538   1.5  86.9  \u001b[4m1\u001b[24m907. \u001b[4m7\u001b[24m150.  112. \u001b[4m1\u001b[24m058.  54.8 \u001b[4m1\u001b[24m255. \u001b[4m1\u001b[24m\u001b[4m3\u001b[24m834.\n",
      "\u001b[90m# ℹ 2 more variables: deposit <dbl>, mid <dbl>\u001b[39m\n"
     ]
    }
   ],
   "source": [
    "print(nd4[1,])"
   ]
  },
  {
   "cell_type": "code",
   "execution_count": 57,
   "metadata": {
    "vscode": {
     "languageId": "r"
    }
   },
   "outputs": [],
   "source": [
    "#备注：咨询claude，使用print(nd4[1,], width = Inf)语法进行全部打印\n",
    "#但是后来 发现 这种语法比较慢。所以 还是使用默认打印方法"
   ]
  },
  {
   "cell_type": "code",
   "execution_count": 58,
   "metadata": {
    "vscode": {
     "languageId": "r"
    }
   },
   "outputs": [],
   "source": [
    "#为了和 新中国60年对接。将列名按照字母顺序排序\n",
    "#读入时13个变量。nd3中令初中生+高中生=中学生。所以现在为12个变量\n",
    "nd5=nd4 %>% select(order(colnames(nd4) ) ) %>% relocate(year, region)"
   ]
  },
  {
   "cell_type": "code",
   "execution_count": 59,
   "metadata": {
    "vscode": {
     "languageId": "r"
    }
   },
   "outputs": [
    {
     "name": "stdout",
     "output_type": "stream",
     "text": [
      "\u001b[90m# A tibble: 1 × 14\u001b[39m\n",
      "   year region   cpi credit deposit first   gdp  gdpi   gov   mid   pop second\n",
      "  \u001b[3m\u001b[90m<dbl>\u001b[39m\u001b[23m \u001b[3m\u001b[90m<chr>\u001b[39m\u001b[23m  \u001b[3m\u001b[90m<dbl>\u001b[39m\u001b[23m  \u001b[3m\u001b[90m<dbl>\u001b[39m\u001b[23m   \u001b[3m\u001b[90m<dbl>\u001b[39m\u001b[23m \u001b[3m\u001b[90m<dbl>\u001b[39m\u001b[23m \u001b[3m\u001b[90m<dbl>\u001b[39m\u001b[23m \u001b[3m\u001b[90m<dbl>\u001b[39m\u001b[23m \u001b[3m\u001b[90m<dbl>\u001b[39m\u001b[23m \u001b[3m\u001b[90m<dbl>\u001b[39m\u001b[23m \u001b[3m\u001b[90m<dbl>\u001b[39m\u001b[23m  \u001b[3m\u001b[90m<dbl>\u001b[39m\u001b[23m\n",
      "\u001b[90m1\u001b[39m  \u001b[4m2\u001b[24m005 北京     1.5 \u001b[4m1\u001b[24m\u001b[4m3\u001b[24m834.  \u001b[4m2\u001b[24m\u001b[4m6\u001b[24m786.  86.9 \u001b[4m7\u001b[24m150.  112. \u001b[4m1\u001b[24m058.  60.0  \u001b[4m1\u001b[24m538  \u001b[4m1\u001b[24m907.\n",
      "\u001b[90m# ℹ 2 more variables: stu <dbl>, trade <dbl>\u001b[39m\n"
     ]
    }
   ],
   "source": [
    "print(nd5[1,])"
   ]
  },
  {
   "cell_type": "markdown",
   "metadata": {},
   "source": [
    "## 2.2-读入新中国60年"
   ]
  },
  {
   "cell_type": "code",
   "execution_count": 60,
   "metadata": {
    "vscode": {
     "languageId": "r"
    }
   },
   "outputs": [],
   "source": [
    "d15=read_excel(\"d200-res-1b.xlsx\")  #包含id  #北京=1 天津=2  #金融非线性-d200\n",
    "#因为 这是 从 stata中导出的，而stata 必须数值型的变量才能xtset\n",
    "\n",
    "d16=d15 %>% select(year:mid)  #2+14 = 16个变量\n",
    "d17= d16 %>% mutate(region =str_sub(region,1,2))  #只选取 前面两个字 \n",
    "d17b=d17 %>% select(-c(inv,state) )  #2017年以后 不报告 固定资本形成 和 固定资产投资 的数据\n",
    "#state 最后直接 并入\n",
    "\n",
    "d17c=d17b %>% select(order(colnames(d17b) ) ) %>% relocate(year, region)  #全部排序  #12个变量 + year, region\n",
    "\n",
    "d17d= d17c %>% filter(year<2005)\n",
    "d17e=bind_rows(d17d, nd5)  #合并 新中国60年和CEIC数据"
   ]
  },
  {
   "cell_type": "markdown",
   "metadata": {},
   "source": [
    "# 3-国有比重"
   ]
  },
  {
   "cell_type": "code",
   "execution_count": 61,
   "metadata": {
    "vscode": {
     "languageId": "r"
    }
   },
   "outputs": [],
   "source": [
    "#最初是从1986年开始，后来为了调整1998年的数据，乃从1998年开始使用CEIC数据。\n",
    "#1978-1997仍然用新中国60年\n",
    "#1998年后的计算。1998-2011年使用总产值比例。2012年以后，使用营业收入的比例，应该是总产值不报告了"
   ]
  },
  {
   "cell_type": "code",
   "execution_count": 62,
   "metadata": {
    "vscode": {
     "languageId": "r"
    }
   },
   "outputs": [
    {
     "name": "stderr",
     "output_type": "stream",
     "text": [
      "\u001b[1m\u001b[22mNew names:\n",
      "\u001b[36m•\u001b[39m `` -> `...1`\n",
      "\u001b[1mRows: \u001b[22m\u001b[34m34\u001b[39m \u001b[1mColumns: \u001b[22m\u001b[34m32\u001b[39m\n",
      "\u001b[36m──\u001b[39m \u001b[1mColumn specification\u001b[22m \u001b[36m────────────────────────────────────────────────────────\u001b[39m\n",
      "\u001b[1mDelimiter:\u001b[22m \",\"\n",
      "\u001b[32mdbl\u001b[39m (32): ...1, 工业总产值:北京, 工业总产值:天津, 工业总产值:河北, 工业总产值:山西, 工业总产值:内蒙古, 工业总产值:辽宁,...\n",
      "\n",
      "\u001b[36mℹ\u001b[39m Use `spec()` to retrieve the full column specification for this data.\n",
      "\u001b[36mℹ\u001b[39m Specify the column types or set `show_col_types = FALSE` to quiet this message.\n",
      "\u001b[1m\u001b[22mNew names:\n",
      "\u001b[36m•\u001b[39m `` -> `...1`\n",
      "\u001b[1mRows: \u001b[22m\u001b[34m29\u001b[39m \u001b[1mColumns: \u001b[22m\u001b[34m32\u001b[39m\n",
      "\u001b[36m──\u001b[39m \u001b[1mColumn specification\u001b[22m \u001b[36m────────────────────────────────────────────────────────\u001b[39m\n",
      "\u001b[1mDelimiter:\u001b[22m \",\"\n",
      "\u001b[32mdbl\u001b[39m (32): ...1, 工业总产值:国有及国有控股企业:北京, 工业总产值:国有及国有控股企业:天津, 工业总产值:国有及国有控股企业:河北, ...\n",
      "\n",
      "\u001b[36mℹ\u001b[39m Use `spec()` to retrieve the full column specification for this data.\n",
      "\u001b[36mℹ\u001b[39m Specify the column types or set `show_col_types = FALSE` to quiet this message.\n",
      "\u001b[1m\u001b[22mJoining with `by = join_by(year, region)`\n",
      "\u001b[1m\u001b[22mNew names:\n",
      "\u001b[36m•\u001b[39m `` -> `...1`\n",
      "\u001b[1mRows: \u001b[22m\u001b[34m28\u001b[39m \u001b[1mColumns: \u001b[22m\u001b[34m32\u001b[39m\n",
      "\u001b[36m──\u001b[39m \u001b[1mColumn specification\u001b[22m \u001b[36m────────────────────────────────────────────────────────\u001b[39m\n",
      "\u001b[1mDelimiter:\u001b[22m \",\"\n",
      "\u001b[32mdbl\u001b[39m (32): ...1, 营业收入:工业企业:北京, 营业收入:工业企业:天津, 营业收入:工业企业:河北, 营业收入:工业企业:山西, 营业收入...\n",
      "\n",
      "\u001b[36mℹ\u001b[39m Use `spec()` to retrieve the full column specification for this data.\n",
      "\u001b[36mℹ\u001b[39m Specify the column types or set `show_col_types = FALSE` to quiet this message.\n",
      "\u001b[1mRows: \u001b[22m\u001b[34m19\u001b[39m \u001b[1mColumns: \u001b[22m\u001b[34m32\u001b[39m\n",
      "\u001b[36m──\u001b[39m \u001b[1mColumn specification\u001b[22m \u001b[36m────────────────────────────────────────────────────────\u001b[39m\n",
      "\u001b[1mDelimiter:\u001b[22m \",\"\n",
      "\u001b[32mdbl\u001b[39m (32): year, 贵州:国有及国有控股工业企业:营业收入, 云南:国有及国有控股工业企业:营业收入, 新疆:国有及国有控股工业企业:营业收...\n",
      "\n",
      "\u001b[36mℹ\u001b[39m Use `spec()` to retrieve the full column specification for this data.\n",
      "\u001b[36mℹ\u001b[39m Specify the column types or set `show_col_types = FALSE` to quiet this message.\n",
      "\u001b[1m\u001b[22mJoining with `by = join_by(year, region)`\n"
     ]
    }
   ],
   "source": [
    "#结合claude优化\n",
    "# Process state data (14-15)\n",
    "state_data <- map2(fname[14:15], uconv[14:15], name_zj, ss = 1998, ee = 2011)\n",
    "\n",
    "state <- state_data %>% \n",
    "  reduce(left_join) %>%\n",
    "  mutate(state = nat / all) %>%\n",
    "  select(year, region, state)\n",
    "\n",
    "# Process state income data (16-17)\n",
    "state_inc_data <- map2(fname[16:17], uconv[16:17], name_zj, ss = 2012, ee = 2021)\n",
    "\n",
    "state_inc <- state_inc_data %>% \n",
    "  reduce(left_join) %>%\n",
    "  mutate(state = nat / all) %>%\n",
    "  select(year, region, state)\n",
    "\n",
    "# Combine all state data\n",
    "state80 <- bind_rows(\n",
    "  d17 %>% filter(year < 1998) %>% select(year, region, state),\n",
    "  state,\n",
    "  state_inc\n",
    ")\n",
    "#将三个时期的state连接在一起 略等于80年"
   ]
  },
  {
   "cell_type": "markdown",
   "metadata": {},
   "source": [
    "# 4-进一步合并-股票"
   ]
  },
  {
   "cell_type": "code",
   "execution_count": 63,
   "metadata": {
    "vscode": {
     "languageId": "r"
    }
   },
   "outputs": [],
   "source": [
    "#如上所示，由于有些数据是分段拼接的。所以可能出现 1978-1985- 北京 然后 1978-1985 - 天津 的情形。为了谨慎起见，对每个地区 按照 时间排序\n",
    "#1990年开始 的 总体数据。mark8对应股票数据"
   ]
  },
  {
   "cell_type": "code",
   "execution_count": 64,
   "metadata": {
    "vscode": {
     "languageId": "r"
    }
   },
   "outputs": [
    {
     "name": "stderr",
     "output_type": "stream",
     "text": [
      "\u001b[1m\u001b[22mJoining with `by = join_by(year, region)`\n",
      "\u001b[1m\u001b[22mJoining with `by = join_by(region)`\n",
      "\u001b[1m\u001b[22mJoining with `by = join_by(year, region)`\n"
     ]
    }
   ],
   "source": [
    "# Read region data\n",
    "regn <- read_excel(\"D:/jianguo/MyDoc/region-常用.xlsx\")\n",
    "\n",
    "# Join data and process\n",
    "d20 <- d17e %>%\n",
    "  left_join(state80) %>%\n",
    "  left_join(regn) %>%\n",
    "  group_by(id) %>%\n",
    "  arrange(year, .by_group = TRUE) %>%\n",
    "  filter(year >= 1990) %>%\n",
    "  left_join(mark8) %>%\n",
    "  mutate(across(everything(), ~replace(., is.na(.), 10^-9))) %>%\n",
    "  ungroup() %>%\n",
    "  select(-id)"
   ]
  },
  {
   "cell_type": "code",
   "execution_count": 65,
   "metadata": {
    "vscode": {
     "languageId": "r"
    }
   },
   "outputs": [
    {
     "name": "stdout",
     "output_type": "stream",
     "text": [
      "\u001b[90m# A tibble: 1 × 33\u001b[39m\n",
      "   year region   cpi credit deposit first   gdp  gdpi   gov   mid   pop second\n",
      "  \u001b[3m\u001b[90m<dbl>\u001b[39m\u001b[23m \u001b[3m\u001b[90m<chr>\u001b[39m\u001b[23m  \u001b[3m\u001b[90m<dbl>\u001b[39m\u001b[23m  \u001b[3m\u001b[90m<dbl>\u001b[39m\u001b[23m   \u001b[3m\u001b[90m<dbl>\u001b[39m\u001b[23m \u001b[3m\u001b[90m<dbl>\u001b[39m\u001b[23m \u001b[3m\u001b[90m<dbl>\u001b[39m\u001b[23m \u001b[3m\u001b[90m<dbl>\u001b[39m\u001b[23m \u001b[3m\u001b[90m<dbl>\u001b[39m\u001b[23m \u001b[3m\u001b[90m<dbl>\u001b[39m\u001b[23m \u001b[3m\u001b[90m<dbl>\u001b[39m\u001b[23m  \u001b[3m\u001b[90m<dbl>\u001b[39m\u001b[23m\n",
      "\u001b[90m1\u001b[39m  \u001b[4m1\u001b[24m990 北京     5.4   573.    894.  43.9  501.  105.  66.5  40.9  \u001b[4m1\u001b[24m086   262.\n",
      "\u001b[90m# ℹ 21 more variables: stu <dbl>, trade <dbl>, state <dbl>, trdv <dbl>,\u001b[39m\n",
      "\u001b[90m#   osv <dbl>, ttv <dbl>, Dturn <dbl>, turn01 <dbl>, turn02 <dbl>, trdv0 <dbl>,\u001b[39m\n",
      "\u001b[90m#   trdv1 <dbl>, osv0 <dbl>, osv1 <dbl>, ttv0 <dbl>, ttv1 <dbl>, Dturn0 <dbl>,\u001b[39m\n",
      "\u001b[90m#   Dturn1 <dbl>, turn010 <dbl>, turn011 <dbl>, turn020 <dbl>, turn021 <dbl>\u001b[39m\n"
     ]
    }
   ],
   "source": [
    "print(d20[1,])"
   ]
  },
  {
   "cell_type": "markdown",
   "metadata": {},
   "source": [
    "# 5-计算相对比重"
   ]
  },
  {
   "cell_type": "code",
   "execution_count": 66,
   "metadata": {
    "vscode": {
     "languageId": "r"
    }
   },
   "outputs": [],
   "source": [
    "#cpi, credit, deposit, first, gdp, gdpi, gov, mid, pop, second, state, stu, trade  #13个变量 舍弃了 inv 因为没有后续数据"
   ]
  },
  {
   "cell_type": "code",
   "execution_count": 67,
   "metadata": {
    "vscode": {
     "languageId": "r"
    }
   },
   "outputs": [],
   "source": [
    "m3d <- d20 %>%\n",
    "  # Calculate ratios for credit, deposit, first, second, gov, trade\n",
    "  mutate(across(c(\"credit\", \"deposit\", \"first\", \"second\", \"gov\", \"trade\"),\n",
    "                list(a = ~ . / gdp),\n",
    "                .names = \"{col}{fn}\")) %>%\n",
    "  # Calculate ratios for stu and mid\n",
    "  mutate(across(c(\"stu\", \"mid\"),\n",
    "                list(a = ~ . / pop),\n",
    "                .names = \"{col}{fn}\"))"
   ]
  },
  {
   "cell_type": "code",
   "execution_count": 68,
   "metadata": {
    "vscode": {
     "languageId": "r"
    }
   },
   "outputs": [],
   "source": [
    "#调整北京的 tradea\n",
    "#北京比率太大，使用天津估计\n",
    "#bb=mean(b$rate)   #[1] 1.760094\n",
    "#暂时按照原来的数据，用1.8进行调整  #具体代码参见 金融结构9"
   ]
  },
  {
   "cell_type": "code",
   "execution_count": 69,
   "metadata": {
    "vscode": {
     "languageId": "r"
    }
   },
   "outputs": [],
   "source": [
    "a4= m3d %>%\n",
    "    select(year, region, tradea) %>%\n",
    "      pivot_wider(names_from = region, values_from = tradea) %>%\n",
    "      mutate(北京 = if_else(year %in% 1978:1995, 天津 * 1.8, 北京)) %>%\n",
    "      pivot_longer(cols = -year, names_to = \"region\", values_to = \"tradea\")"
   ]
  },
  {
   "cell_type": "code",
   "execution_count": 70,
   "metadata": {
    "vscode": {
     "languageId": "r"
    }
   },
   "outputs": [
    {
     "name": "stdout",
     "output_type": "stream",
     "text": [
      "\u001b[90m# A tibble: 1 × 3\u001b[39m\n",
      "   year region tradea\n",
      "  \u001b[3m\u001b[90m<dbl>\u001b[39m\u001b[23m \u001b[3m\u001b[90m<chr>\u001b[39m\u001b[23m   \u001b[3m\u001b[90m<dbl>\u001b[39m\u001b[23m\n",
      "\u001b[90m1\u001b[39m  \u001b[4m1\u001b[24m990 北京    0.128\n"
     ]
    }
   ],
   "source": [
    "print(a4[1,])"
   ]
  },
  {
   "cell_type": "code",
   "execution_count": 71,
   "metadata": {
    "vscode": {
     "languageId": "r"
    }
   },
   "outputs": [
    {
     "name": "stderr",
     "output_type": "stream",
     "text": [
      "\u001b[1m\u001b[22mJoining with `by = join_by(year, region)`\n"
     ]
    }
   ],
   "source": [
    "m4= m3d %>% select(-tradea) %>% left_join(a4)"
   ]
  },
  {
   "cell_type": "code",
   "execution_count": 72,
   "metadata": {
    "vscode": {
     "languageId": "r"
    }
   },
   "outputs": [
    {
     "name": "stdout",
     "output_type": "stream",
     "text": [
      "\u001b[90m# A tibble: 1 × 41\u001b[39m\n",
      "   year region   cpi credit deposit first   gdp  gdpi   gov   mid   pop second\n",
      "  \u001b[3m\u001b[90m<dbl>\u001b[39m\u001b[23m \u001b[3m\u001b[90m<chr>\u001b[39m\u001b[23m  \u001b[3m\u001b[90m<dbl>\u001b[39m\u001b[23m  \u001b[3m\u001b[90m<dbl>\u001b[39m\u001b[23m   \u001b[3m\u001b[90m<dbl>\u001b[39m\u001b[23m \u001b[3m\u001b[90m<dbl>\u001b[39m\u001b[23m \u001b[3m\u001b[90m<dbl>\u001b[39m\u001b[23m \u001b[3m\u001b[90m<dbl>\u001b[39m\u001b[23m \u001b[3m\u001b[90m<dbl>\u001b[39m\u001b[23m \u001b[3m\u001b[90m<dbl>\u001b[39m\u001b[23m \u001b[3m\u001b[90m<dbl>\u001b[39m\u001b[23m  \u001b[3m\u001b[90m<dbl>\u001b[39m\u001b[23m\n",
      "\u001b[90m1\u001b[39m  \u001b[4m1\u001b[24m990 北京     5.4   573.    894.  43.9  501.  105.  66.5  40.9  \u001b[4m1\u001b[24m086   262.\n",
      "    stu trade state        trdv         osv         ttv       Dturn      turn01\n",
      "  \u001b[3m\u001b[90m<dbl>\u001b[39m\u001b[23m \u001b[3m\u001b[90m<dbl>\u001b[39m\u001b[23m \u001b[3m\u001b[90m<dbl>\u001b[39m\u001b[23m       \u001b[3m\u001b[90m<dbl>\u001b[39m\u001b[23m       \u001b[3m\u001b[90m<dbl>\u001b[39m\u001b[23m       \u001b[3m\u001b[90m<dbl>\u001b[39m\u001b[23m       \u001b[3m\u001b[90m<dbl>\u001b[39m\u001b[23m       \u001b[3m\u001b[90m<dbl>\u001b[39m\u001b[23m\n",
      "\u001b[90m1\u001b[39m  14.0  236. 0.717 0.000\u001b[4m0\u001b[24m\u001b[4m0\u001b[24m\u001b[4m0\u001b[24m001 0.000\u001b[4m0\u001b[24m\u001b[4m0\u001b[24m\u001b[4m0\u001b[24m001 0.000\u001b[4m0\u001b[24m\u001b[4m0\u001b[24m\u001b[4m0\u001b[24m001 0.000\u001b[4m0\u001b[24m\u001b[4m0\u001b[24m\u001b[4m0\u001b[24m001 0.000\u001b[4m0\u001b[24m\u001b[4m0\u001b[24m\u001b[4m0\u001b[24m001\n",
      "       turn02       trdv0       trdv1        osv0        osv1        ttv0\n",
      "        \u001b[3m\u001b[90m<dbl>\u001b[39m\u001b[23m       \u001b[3m\u001b[90m<dbl>\u001b[39m\u001b[23m       \u001b[3m\u001b[90m<dbl>\u001b[39m\u001b[23m       \u001b[3m\u001b[90m<dbl>\u001b[39m\u001b[23m       \u001b[3m\u001b[90m<dbl>\u001b[39m\u001b[23m       \u001b[3m\u001b[90m<dbl>\u001b[39m\u001b[23m\n",
      "\u001b[90m1\u001b[39m 0.000\u001b[4m0\u001b[24m\u001b[4m0\u001b[24m\u001b[4m0\u001b[24m001 0.000\u001b[4m0\u001b[24m\u001b[4m0\u001b[24m\u001b[4m0\u001b[24m001 0.000\u001b[4m0\u001b[24m\u001b[4m0\u001b[24m\u001b[4m0\u001b[24m001 0.000\u001b[4m0\u001b[24m\u001b[4m0\u001b[24m\u001b[4m0\u001b[24m001 0.000\u001b[4m0\u001b[24m\u001b[4m0\u001b[24m\u001b[4m0\u001b[24m001 0.000\u001b[4m0\u001b[24m\u001b[4m0\u001b[24m\u001b[4m0\u001b[24m001\n",
      "         ttv1      Dturn0      Dturn1     turn010     turn011     turn020\n",
      "        \u001b[3m\u001b[90m<dbl>\u001b[39m\u001b[23m       \u001b[3m\u001b[90m<dbl>\u001b[39m\u001b[23m       \u001b[3m\u001b[90m<dbl>\u001b[39m\u001b[23m       \u001b[3m\u001b[90m<dbl>\u001b[39m\u001b[23m       \u001b[3m\u001b[90m<dbl>\u001b[39m\u001b[23m       \u001b[3m\u001b[90m<dbl>\u001b[39m\u001b[23m\n",
      "\u001b[90m1\u001b[39m 0.000\u001b[4m0\u001b[24m\u001b[4m0\u001b[24m\u001b[4m0\u001b[24m001 0.000\u001b[4m0\u001b[24m\u001b[4m0\u001b[24m\u001b[4m0\u001b[24m001 0.000\u001b[4m0\u001b[24m\u001b[4m0\u001b[24m\u001b[4m0\u001b[24m001 0.000\u001b[4m0\u001b[24m\u001b[4m0\u001b[24m\u001b[4m0\u001b[24m001 0.000\u001b[4m0\u001b[24m\u001b[4m0\u001b[24m\u001b[4m0\u001b[24m001 0.000\u001b[4m0\u001b[24m\u001b[4m0\u001b[24m\u001b[4m0\u001b[24m001\n",
      "      turn021 credita deposita firsta seconda  gova   stua   mida tradea\n",
      "        \u001b[3m\u001b[90m<dbl>\u001b[39m\u001b[23m   \u001b[3m\u001b[90m<dbl>\u001b[39m\u001b[23m    \u001b[3m\u001b[90m<dbl>\u001b[39m\u001b[23m  \u001b[3m\u001b[90m<dbl>\u001b[39m\u001b[23m   \u001b[3m\u001b[90m<dbl>\u001b[39m\u001b[23m \u001b[3m\u001b[90m<dbl>\u001b[39m\u001b[23m  \u001b[3m\u001b[90m<dbl>\u001b[39m\u001b[23m  \u001b[3m\u001b[90m<dbl>\u001b[39m\u001b[23m  \u001b[3m\u001b[90m<dbl>\u001b[39m\u001b[23m\n",
      "\u001b[90m1\u001b[39m 0.000\u001b[4m0\u001b[24m\u001b[4m0\u001b[24m\u001b[4m0\u001b[24m001    1.14     1.78 0.087\u001b[4m6\u001b[24m   0.524 0.133 0.012\u001b[4m9\u001b[24m 0.037\u001b[4m7\u001b[24m  0.128\n"
     ]
    }
   ],
   "source": [
    "print(m4[1,], width = Inf)"
   ]
  },
  {
   "cell_type": "markdown",
   "metadata": {},
   "source": [
    "## 5.1-计算实际gpd"
   ]
  },
  {
   "cell_type": "code",
   "execution_count": 73,
   "metadata": {
    "vscode": {
     "languageId": "r"
    }
   },
   "outputs": [],
   "source": [
    "byear=1990   #byear - base year\n",
    "m4b= m4 %>% mutate( gdpx=ifelse(year==byear, gdp, gdpi/100)  )  #gdpx - gdpc的中间阶段\n",
    "#基年（1978）设置为当年的名义GDP，后面设置为实际GDP指数（以小数表示，而非百分数）\n",
    "m5= m4b %>% group_by(region) %>% mutate( gdpc=cumprod(gdpx))  #累积乘积  #这个命令适用于 第一行为base year\n",
    "#前面版本【R代码复盘】的命令 可以 扩展到 任意年 为 base year\n",
    "#c表示不变价格constant  #引入了group\n",
    "\n",
    "m5b= m5 %>% mutate(pgdpc=gdpc/pop, lny=log(pgdpc) )\n",
    "#此处 保持 group=\"region\" 后面 私营信贷 可以使用\n"
   ]
  },
  {
   "cell_type": "code",
   "execution_count": 76,
   "metadata": {
    "vscode": {
     "languageId": "r"
    }
   },
   "outputs": [
    {
     "name": "stdout",
     "output_type": "stream",
     "text": [
      "gropd_df [992 × 45] (S3: grouped_df/tbl_df/tbl/data.frame)\n",
      " $ year    : num [1:992] 1990 1991 1992 1993 1994 ...\n",
      " $ region  : chr [1:992] \"北京\" \"北京\" \"北京\" \"北京\" ...\n",
      " $ cpi     : num [1:992] 5.4 11.9 9.9 19 24.9 17.3 11.6 5.3 2.4 0.6 ...\n",
      " $ credit  : num [1:992] 573 660 770 972 1238 ...\n",
      " $ deposit : num [1:992] 894 1134 1364 1649 2279 ...\n",
      " $ first   : num [1:992] 43.9 45.8 49.1 53.7 67.5 ...\n",
      " $ gdp     : num [1:992] 501 599 709 886 1145 ...\n",
      " $ gdpi    : num [1:992] 105 110 111 112 114 ...\n",
      " $ gov     : num [1:992] 66.5 68 71.7 81 98.5 ...\n",
      " $ mid     : num [1:992] 40.9 43.2 47.7 53.2 58.4 ...\n",
      " $ pop     : num [1:992] 1086 1094 1102 1112 1125 ...\n",
      " $ second  : num [1:992] 262 292 346 420 518 ...\n",
      " $ stu     : num [1:992] 14 13.7 14 15.9 17.5 ...\n",
      " $ trade   : num [1:992] 236 242 250 279 289 ...\n",
      " $ state   : num [1:992] 0.717 0.696 0.678 0.651 0.553 ...\n",
      " $ trdv    : num [1:992] 1.00e-09 1.00e-09 4.97 3.49e+01 2.54e+02 ...\n",
      " $ osv     : num [1:992] 1.00e-09 1.00e-09 2.03 7.02 1.75e+01 ...\n",
      " $ ttv     : num [1:992] 1.00e-09 1.00e-09 4.30 1.53e+01 5.79e+01 ...\n",
      " $ Dturn   : num [1:992] 1.00e-09 1.00e-09 2.21 3.91 1.04e+01 ...\n",
      " $ turn01  : num [1:992] 1.00e-09 1.00e-09 2.45 4.96 1.52e+01 ...\n",
      " $ turn02  : num [1:992] 1.00e-09 1.00e-09 2.45 4.96 1.45e+01 ...\n",
      " $ trdv0   : num [1:992] 1.00e-09 1.00e-09 4.97 1.38e+01 4.50e+01 ...\n",
      " $ trdv1   : num [1:992] 1.00e-09 1.00e-09 1.00e-09 2.11e+01 2.09e+02 ...\n",
      " $ osv0    : num [1:992] 1.00e-09 1.00e-09 2.03 2.39 5.07 ...\n",
      " $ osv1    : num [1:992] 1.00e-09 1.00e-09 1.00e-09 4.63 1.24e+01 ...\n",
      " $ ttv0    : num [1:992] 1.00e-09 1.00e-09 4.30 5.00 2.02e+01 ...\n",
      " $ ttv1    : num [1:992] 1.00e-09 1.00e-09 1.00e-09 1.03e+01 3.78e+01 ...\n",
      " $ Dturn0  : num [1:992] 1.00e-09 1.00e-09 2.21 5.64 6.79 ...\n",
      " $ Dturn1  : num [1:992] 1.00e-09 1.00e-09 1.00e-09 3.04 1.23e+01 ...\n",
      " $ turn010 : num [1:992] 1.00e-09 1.00e-09 2.45 5.76 8.51 ...\n",
      " $ turn011 : num [1:992] 1.00e-09 1.00e-09 1.00e-09 4.56 1.85e+01 ...\n",
      " $ turn020 : num [1:992] 1.00e-09 1.00e-09 2.45 5.76 8.87 ...\n",
      " $ turn021 : num [1:992] 1.00e-09 1.00e-09 1.00e-09 4.55 1.68e+01 ...\n",
      " $ credita : num [1:992] 1.14 1.1 1.09 1.1 1.08 ...\n",
      " $ deposita: num [1:992] 1.78 1.89 1.92 1.86 1.99 ...\n",
      " $ firsta  : num [1:992] 0.0876 0.0765 0.0692 0.0606 0.0589 ...\n",
      " $ seconda : num [1:992] 0.524 0.487 0.488 0.473 0.452 ...\n",
      " $ gova    : num [1:992] 0.1328 0.1135 0.1012 0.0914 0.086 ...\n",
      " $ stua    : num [1:992] 0.0129 0.0125 0.0127 0.0143 0.0156 ...\n",
      " $ mida    : num [1:992] 0.0377 0.0395 0.0432 0.0479 0.0519 ...\n",
      " $ tradea  : num [1:992] 0.1279 0.1061 0.104 0.0927 0.0814 ...\n",
      " $ gdpx    : num [1:992] 500.82 1.1 1.11 1.12 1.14 ...\n",
      " $ gdpc    : num [1:992] 501 550 613 688 782 ...\n",
      " $ pgdpc   : num [1:992] 0.461 0.503 0.556 0.619 0.695 ...\n",
      " $ lny     : num [1:992] -0.774 -0.687 -0.587 -0.48 -0.363 ...\n",
      " - attr(*, \"groups\")= tibble [31 × 2] (S3: tbl_df/tbl/data.frame)\n",
      "  ..$ region: chr [1:31] \"上海\" \"云南\" \"内蒙\" \"北京\" ...\n",
      "  ..$ .rows : list<int> [1:31] \n",
      "  .. ..$ : int [1:32] 257 258 259 260 261 262 263 264 265 266 ...\n",
      "  .. ..$ : int [1:32] 769 770 771 772 773 774 775 776 777 778 ...\n",
      "  .. ..$ : int [1:32] 129 130 131 132 133 134 135 136 137 138 ...\n",
      "  .. ..$ : int [1:32] 1 2 3 4 5 6 7 8 9 10 ...\n",
      "  .. ..$ : int [1:32] 193 194 195 196 197 198 199 200 201 202 ...\n",
      "  .. ..$ : int [1:32] 705 706 707 708 709 710 711 712 713 714 ...\n",
      "  .. ..$ : int [1:32] 33 34 35 36 37 38 39 40 41 42 ...\n",
      "  .. ..$ : int [1:32] 929 930 931 932 933 934 935 936 937 938 ...\n",
      "  .. ..$ : int [1:32] 353 354 355 356 357 358 359 360 361 362 ...\n",
      "  .. ..$ : int [1:32] 449 450 451 452 453 454 455 456 457 458 ...\n",
      "  .. ..$ : int [1:32] 97 98 99 100 101 102 103 104 105 106 ...\n",
      "  .. ..$ : int [1:32] 577 578 579 580 581 582 583 584 585 586 ...\n",
      "  .. ..$ : int [1:32] 609 610 611 612 613 614 615 616 617 618 ...\n",
      "  .. ..$ : int [1:32] 961 962 963 964 965 966 967 968 969 970 ...\n",
      "  .. ..$ : int [1:32] 289 290 291 292 293 294 295 296 297 298 ...\n",
      "  .. ..$ : int [1:32] 417 418 419 420 421 422 423 424 425 426 ...\n",
      "  .. ..$ : int [1:32] 65 66 67 68 69 70 71 72 73 74 ...\n",
      "  .. ..$ : int [1:32] 481 482 483 484 485 486 487 488 489 490 ...\n",
      "  .. ..$ : int [1:32] 321 322 323 324 325 326 327 328 329 330 ...\n",
      "  .. ..$ : int [1:32] 641 642 643 644 645 646 647 648 649 650 ...\n",
      "  .. ..$ : int [1:32] 513 514 515 516 517 518 519 520 521 522 ...\n",
      "  .. ..$ : int [1:32] 545 546 547 548 549 550 551 552 553 554 ...\n",
      "  .. ..$ : int [1:32] 865 866 867 868 869 870 871 872 873 874 ...\n",
      "  .. ..$ : int [1:32] 385 386 387 388 389 390 391 392 393 394 ...\n",
      "  .. ..$ : int [1:32] 801 802 803 804 805 806 807 808 809 810 ...\n",
      "  .. ..$ : int [1:32] 737 738 739 740 741 742 743 744 745 746 ...\n",
      "  .. ..$ : int [1:32] 161 162 163 164 165 166 167 168 169 170 ...\n",
      "  .. ..$ : int [1:32] 673 674 675 676 677 678 679 680 681 682 ...\n",
      "  .. ..$ : int [1:32] 833 834 835 836 837 838 839 840 841 842 ...\n",
      "  .. ..$ : int [1:32] 897 898 899 900 901 902 903 904 905 906 ...\n",
      "  .. ..$ : int [1:32] 225 226 227 228 229 230 231 232 233 234 ...\n",
      "  .. ..@ ptype: int(0) \n",
      "  ..- attr(*, \".drop\")= logi TRUE\n"
     ]
    }
   ],
   "source": [
    "str(m5b)"
   ]
  },
  {
   "cell_type": "markdown",
   "metadata": {},
   "source": [
    "# 6-计算私营信贷"
   ]
  },
  {
   "cell_type": "code",
   "execution_count": 74,
   "metadata": {
    "vscode": {
     "languageId": "r"
    }
   },
   "outputs": [],
   "source": [
    "d80m=pdata.frame(m5b, index = c(\"region\", \"year\"))\n",
    "d_lm=pvcm(credita~state, data=d80m,effect = \"time\",model =\"within\")\n",
    "two=coef(d_lm)\n",
    "\n",
    "a=two[,1]  #a是民企\n",
    "d=two[,2]  #d是差异\n",
    "beta=a+d  #beta是 国企。 计算公式参见稿纸1074  #2023-04-10稿纸 226  或者  0金融抑制-实证2.doc\n",
    "\n",
    "#如下 统一命名 以后缀a表示比例。同时用0表示初步的估计，而正式估计则不加后缀\n",
    "#state 国有比重 stat国有信贷额 stata 国有信贷比重 priv 私营信贷额 priva 私营信贷比例\n",
    "#dep=staty+privy=beta*state + a*(1-state) =a + (beta-a) * state = a+ d *state\n",
    "m5d = m5b %>% mutate(stata0=beta*state, priva0=a*(1-state), \n",
    "    relat=priva0/stata0,props=stata0/(stata0+priva0),\n",
    "    stata=credita*props, priva=credita*(1-props))\n",
    "#beta=38，state=38*n。所以扩展相乘。但是此处之所以有意义，  #t=38或 其他 年数\n",
    "\n",
    "#上述是期望值。但是实际值和期望值有偏差。\n",
    "#此处是 方法2 保证了staty2+privy2=dep\n",
    "#前面 保持 group=\"region\" 此处可以使用 \n",
    "m6=m5d %>% mutate(across (c(\"lny\",\"credit\",\"deposit\"),\n",
    "    .fns = list(d = ~ . - dplyr::lag(.)   ) , \n",
    "    .names = \"{fn}{col}\" ) )\n",
    "#此处将d放在前面  #计算增量\n",
    "m6b = m6 %>% mutate(across (c(\"dcredit\",\"ddeposit\"),\n",
    "    .fns = list( a=~./gdp), \n",
    "    .names = \"{col}{fn}\" ) )\n",
    "#此处比例是百分数"
   ]
  },
  {
   "cell_type": "markdown",
   "metadata": {},
   "source": [
    "# 7-继续计算"
   ]
  },
  {
   "cell_type": "markdown",
   "metadata": {},
   "source": [
    "## 7.1-金融结构"
   ]
  }
 ],
 "metadata": {
  "kernelspec": {
   "display_name": "R",
   "language": "R",
   "name": "ir"
  },
  "language_info": {
   "codemirror_mode": "r",
   "file_extension": ".r",
   "mimetype": "text/x-r-source",
   "name": "R",
   "pygments_lexer": "r",
   "version": "4.2.3"
  }
 },
 "nbformat": 4,
 "nbformat_minor": 2
}
