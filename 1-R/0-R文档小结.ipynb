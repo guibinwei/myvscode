{
 "cells": [
  {
   "cell_type": "code",
   "execution_count": null,
   "metadata": {
    "vscode": {
     "languageId": "r"
    }
   },
   "outputs": [],
   "source": [
    "#2024-06-26创建  采用倒序"
   ]
  },
  {
   "cell_type": "markdown",
   "metadata": {},
   "source": [
    "# 2024-10-16\n",
    "[9-test-2024-10-16.ipynb](9-test-2024-10-16.ipynb)"
   ]
  },
  {
   "cell_type": "markdown",
   "metadata": {},
   "source": [
    "# 2024-10-10\n",
    "[8-obsidian文档.ipynb](8-obsidian文档.ipynb)  #和文件夹一样，尝试建立子文件夹。"
   ]
  },
  {
   "cell_type": "markdown",
   "metadata": {},
   "source": [
    "# CNRDS系列\n",
    "\n",
    "## 2024-10-14\n",
    "[7-CNRDS-profit.ipynb](7-CNRDS-profit.ipynb)  #这个是各个银行的效率比率。之前是 各个银行的分支机构\n",
    "\n",
    "## 2024-10-09\n",
    "[7-CNRDS-exe.ipynb](7-CNRDS-exe.ipynb)  \n",
    "在数据探索中，有些步骤不用写到最终版本中，但是在实际操作中可能要用到\n",
    "事实上，对每一个程序，可以设立两个文档：比如7-CNRDS.ipynb就是实际操作记录。7-CNRDS-exe.ipynb表示最后执行文档\n",
    "\n",
    "## 2024-10-07\n",
    "[7-CNRDS.ipynb](7-CNRDS.ipynb)  #整理银行分支数据"
   ]
  },
  {
   "cell_type": "markdown",
   "metadata": {},
   "source": [
    "# 2024-10-02\n",
    "[6-GMM-演示.ipynb](6-GMM-演示.ipynb)  #演示最简单的GMM"
   ]
  },
  {
   "cell_type": "markdown",
   "metadata": {},
   "source": [
    "# 2024-09-26\n",
    "[5-test-2024-09-26.ipynb](5-test-2024-09-26.ipynb)   #开始金融结构代码"
   ]
  },
  {
   "cell_type": "markdown",
   "metadata": {},
   "source": [
    "# 金融结构系列\n",
    "## 2024-09-23\n",
    "[4-finstr.ipynb](4-finstr.ipynb)   #开始金融结构代码"
   ]
  },
  {
   "cell_type": "markdown",
   "metadata": {},
   "source": [
    "# 2024-08-22\n",
    "[2-probability.ipynb](2-probability.ipynb)  #演示 概率分布图形\\\n",
    "[2-probability.r](2-probability.r)  #似乎在vscode中无法显示图形\\\n",
    "[3-installed.ipynb](3-installed.ipynb)  #检查包是否安装"
   ]
  },
  {
   "cell_type": "markdown",
   "metadata": {},
   "source": [
    "# 2024-06-26\n",
    "[1-foxit_reg_readin.r](1-foxit_reg_readin.r)  #读取foxit 的文档记录\\\n",
    "[1b-foxit_reg_addlink.r](1b-foxit_reg_addlink.r)  #之前有个版本没有添加 超链接，这个文件添加 超链接"
   ]
  }
 ],
 "metadata": {
  "kernelspec": {
   "display_name": "R",
   "language": "R",
   "name": "ir"
  },
  "language_info": {
   "name": "R"
  }
 },
 "nbformat": 4,
 "nbformat_minor": 2
}
