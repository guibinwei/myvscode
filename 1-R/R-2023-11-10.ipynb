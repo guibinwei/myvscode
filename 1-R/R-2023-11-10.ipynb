{
 "cells": [
  {
   "cell_type": "code",
   "execution_count": 1,
   "metadata": {
    "vscode": {
     "languageId": "r"
    }
   },
   "outputs": [
    {
     "data": {
      "text/html": [
       "<table class=\"dataframe\">\n",
       "<caption>A matrix: 2 × 2 of type dbl</caption>\n",
       "<tbody>\n",
       "\t<tr><td>1.00</td><td>0.64</td></tr>\n",
       "\t<tr><td>0.64</td><td>1.00</td></tr>\n",
       "</tbody>\n",
       "</table>\n"
      ],
      "text/latex": [
       "A matrix: 2 × 2 of type dbl\n",
       "\\begin{tabular}{ll}\n",
       "\t 1.00 & 0.64\\\\\n",
       "\t 0.64 & 1.00\\\\\n",
       "\\end{tabular}\n"
      ],
      "text/markdown": [
       "\n",
       "A matrix: 2 × 2 of type dbl\n",
       "\n",
       "| 1.00 | 0.64 |\n",
       "| 0.64 | 1.00 |\n",
       "\n"
      ],
      "text/plain": [
       "     [,1] [,2]\n",
       "[1,] 1.00 0.64\n",
       "[2,] 0.64 1.00"
      ]
     },
     "metadata": {},
     "output_type": "display_data"
    },
    {
     "data": {
      "text/plain": [
       "eigen() decomposition\n",
       "$values\n",
       "[1] 1.64 0.36\n",
       "\n",
       "$vectors\n",
       "          [,1]       [,2]\n",
       "[1,] 0.7071068 -0.7071068\n",
       "[2,] 0.7071068  0.7071068\n"
      ]
     },
     "metadata": {},
     "output_type": "display_data"
    },
    {
     "data": {
      "text/html": [
       "<table class=\"dataframe\">\n",
       "<caption>A matrix: 2 × 2 of type dbl</caption>\n",
       "<tbody>\n",
       "\t<tr><td> 0.7071068</td><td>0.7071068</td></tr>\n",
       "\t<tr><td>-0.7071068</td><td>0.7071068</td></tr>\n",
       "</tbody>\n",
       "</table>\n"
      ],
      "text/latex": [
       "A matrix: 2 × 2 of type dbl\n",
       "\\begin{tabular}{ll}\n",
       "\t  0.7071068 & 0.7071068\\\\\n",
       "\t -0.7071068 & 0.7071068\\\\\n",
       "\\end{tabular}\n"
      ],
      "text/markdown": [
       "\n",
       "A matrix: 2 × 2 of type dbl\n",
       "\n",
       "|  0.7071068 | 0.7071068 |\n",
       "| -0.7071068 | 0.7071068 |\n",
       "\n"
      ],
      "text/plain": [
       "     [,1]       [,2]     \n",
       "[1,]  0.7071068 0.7071068\n",
       "[2,] -0.7071068 0.7071068"
      ]
     },
     "metadata": {},
     "output_type": "display_data"
    },
    {
     "data": {
      "text/html": [
       "<table class=\"dataframe\">\n",
       "<caption>A matrix: 2 × 1 of type dbl</caption>\n",
       "<tbody>\n",
       "\t<tr><td> 0.7071068</td></tr>\n",
       "\t<tr><td>-0.7071068</td></tr>\n",
       "</tbody>\n",
       "</table>\n"
      ],
      "text/latex": [
       "A matrix: 2 × 1 of type dbl\n",
       "\\begin{tabular}{l}\n",
       "\t  0.7071068\\\\\n",
       "\t -0.7071068\\\\\n",
       "\\end{tabular}\n"
      ],
      "text/markdown": [
       "\n",
       "A matrix: 2 × 1 of type dbl\n",
       "\n",
       "|  0.7071068 |\n",
       "| -0.7071068 |\n",
       "\n"
      ],
      "text/plain": [
       "     [,1]      \n",
       "[1,]  0.7071068\n",
       "[2,] -0.7071068"
      ]
     },
     "metadata": {},
     "output_type": "display_data"
    }
   ],
   "source": [
    "A=matrix(c(1,0.64, 0.64, 1), 2)\n",
    "A\n",
    "b=eigen(A)\n",
    "b\n",
    "P=b$vectors\n",
    "x=c(1,0)\n",
    "P01=solve(P)\n",
    "P01\n",
    "h=P01 %*% x\n",
    "h"
   ]
  },
  {
   "cell_type": "code",
   "execution_count": 5,
   "metadata": {
    "vscode": {
     "languageId": "r"
    }
   },
   "outputs": [
    {
     "name": "stdout",
     "output_type": "stream",
     "text": [
      "[1] \"D:/idm8/foxit_reg_auto_lite.txt-2024-08-17-20_41\"\n"
     ]
    }
   ],
   "source": [
    "stamp = format(Sys.time(), \"%Y-%m-%d-%H_%M\")\n",
    "fnb <- \"D:/idm8/foxit_reg_auto_lite.txt\"\n",
    "fnb2 = paste0(fnb,\"-\",stamp)\n",
    "print(fnb2)"
   ]
  },
  {
   "cell_type": "code",
   "execution_count": 6,
   "metadata": {
    "vscode": {
     "languageId": "r"
    }
   },
   "outputs": [
    {
     "name": "stdout",
     "output_type": "stream",
     "text": [
      "[1] \"D:/idm8/foxit_reg_auto.txt\"\n",
      "[1] \"D:/idm8/foxit_reg_auto-2024-08-17-20_45.txt\"\n",
      "[1] \"D:/idm8/foxit_reg_auto_lite-2024-08-17-20_45.txt\"\n"
     ]
    }
   ],
   "source": [
    "stamp = format(Sys.time(), \"%Y-%m-%d-%H_%M\")\n",
    "fn0 <- \"D:/idm8/foxit_reg_auto\"   #filename\n",
    "fnb <- \"D:/idm8/foxit_reg_auto_lite\"\n",
    "fn = paste0(fn0,\".txt\")\n",
    "fn2 = paste0(fn0,\"-\",stamp,\".txt\")\n",
    "fnb2 = paste0(fnb,\"-\",stamp,\".txt\")\n",
    "print(fn)\n",
    "print(fn2)\n",
    "print(fnb2)"
   ]
  },
  {
   "cell_type": "code",
   "execution_count": 1,
   "metadata": {
    "vscode": {
     "languageId": "r"
    }
   },
   "outputs": [
    {
     "data": {
      "text/html": [
       "<table class=\"dataframe\">\n",
       "<caption>A matrix: 2 × 2 of type dbl</caption>\n",
       "<tbody>\n",
       "\t<tr><td>-0.4</td><td>-0.7</td></tr>\n",
       "\t<tr><td> 0.0</td><td> 0.3</td></tr>\n",
       "</tbody>\n",
       "</table>\n"
      ],
      "text/latex": [
       "A matrix: 2 × 2 of type dbl\n",
       "\\begin{tabular}{ll}\n",
       "\t -0.4 & -0.7\\\\\n",
       "\t  0.0 &  0.3\\\\\n",
       "\\end{tabular}\n"
      ],
      "text/markdown": [
       "\n",
       "A matrix: 2 × 2 of type dbl\n",
       "\n",
       "| -0.4 | -0.7 |\n",
       "|  0.0 |  0.3 |\n",
       "\n"
      ],
      "text/plain": [
       "     [,1] [,2]\n",
       "[1,] -0.4 -0.7\n",
       "[2,]  0.0  0.3"
      ]
     },
     "metadata": {},
     "output_type": "display_data"
    },
    {
     "data": {
      "text/plain": [
       "eigen() decomposition\n",
       "$values\n",
       "[1] -0.4  0.3\n",
       "\n",
       "$vectors\n",
       "     [,1]       [,2]\n",
       "[1,]    1 -0.7071068\n",
       "[2,]    0  0.7071068\n"
      ]
     },
     "metadata": {},
     "output_type": "display_data"
    }
   ],
   "source": [
    "A=matrix(c(-0.4,0, -0.7, 0.3), 2)\n",
    "A\n",
    "b=eigen(A)\n",
    "b"
   ]
  },
  {
   "cell_type": "code",
   "execution_count": 1,
   "metadata": {
    "vscode": {
     "languageId": "r"
    }
   },
   "outputs": [
    {
     "data": {
      "text/html": [
       "0.424264068711928"
      ],
      "text/latex": [
       "0.424264068711928"
      ],
      "text/markdown": [
       "0.424264068711928"
      ],
      "text/plain": [
       "[1] 0.4242641"
      ]
     },
     "metadata": {},
     "output_type": "display_data"
    }
   ],
   "source": [
    "0.6/(2^0.5)"
   ]
  },
  {
   "cell_type": "code",
   "execution_count": 3,
   "metadata": {
    "vscode": {
     "languageId": "r"
    }
   },
   "outputs": [
    {
     "name": "stdout",
     "output_type": "stream",
     "text": [
      "     [,1] [,2]\n",
      "[1,]    1    2\n",
      "[2,]    2    1\n",
      "     [,1] [,2]\n",
      "[1,]    1   -1\n",
      "[2,]    0    1\n",
      "     [,1] [,2]\n",
      "[1,]    1    0\n",
      "[2,]    1    1\n"
     ]
    },
    {
     "name": "stdout",
     "output_type": "stream",
     "text": [
      "     [,1] [,2]\n",
      "[1,]   -1    0\n",
      "[2,]    2    3\n",
      "     [,1] [,2]\n",
      "[1,]    1    3\n",
      "[2,]    3    6\n"
     ]
    }
   ],
   "source": [
    "A=matrix(c(1,2, 2, 1), 2)\n",
    "print(A)\n",
    "P=matrix(c(1,0, 1, 1), 2)\n",
    "P01=solve(P)\n",
    "Pt=t(P)\n",
    "B=P01 %*% A %*% P\n",
    "C=Pt %*% A %*% P\n",
    "print(P)\n",
    "print(P01)\n",
    "print(Pt)\n",
    "print(B)\n",
    "print(C)"
   ]
  },
  {
   "cell_type": "code",
   "execution_count": 3,
   "metadata": {
    "vscode": {
     "languageId": "r"
    }
   },
   "outputs": [
    {
     "name": "stdout",
     "output_type": "stream",
     "text": [
      "     [,1] [,2]\n",
      "[1,]    1    1\n",
      "[2,]    1    0\n",
      "[3,]    1    0\n",
      "     [,1] [,2]\n",
      "[1,]    1    1\n",
      "[2,]    2    1\n",
      "[3,]    1    0\n",
      "             [,1] [,2] [,3]\n",
      "[1,] 5.551115e-17  0.5  0.5\n",
      "[2,] 1.000000e+00 -0.5 -0.5\n",
      "     [,1] [,2] [,3]\n",
      "[1,]    0  0.5  0.5\n",
      "[2,]    1  0.0 -1.0\n",
      "             [,1]         [,2]         [,3]\n",
      "[1,] 1.000000e+00 5.551115e-17 5.551115e-17\n",
      "[2,] 5.551115e-17 5.000000e-01 5.000000e-01\n",
      "[3,] 5.551115e-17 5.000000e-01 5.000000e-01\n",
      "     [,1] [,2] [,3]\n",
      "[1,]    1  0.5 -0.5\n",
      "[2,]    0  0.5  0.5\n",
      "[3,]    0  0.5  0.5\n"
     ]
    }
   ],
   "source": [
    "X=matrix(c(1,1, 1, 1, 0, 0), 3)\n",
    "Z=matrix(c(1,2, 1, 1, 1, 0), 3)\n",
    "B1=t(X) %*% X\n",
    "B2=solve(B1)\n",
    "B3= B2 %*% t(X)\n",
    "PX=X %*% B3\n",
    "\n",
    "C1=t(Z) %*% X\n",
    "C2=solve(C1)\n",
    "C3= C2 %*% t(Z)\n",
    "SX=X %*% C3\n",
    "\n",
    "print(X)\n",
    "print(Z)\n",
    "print(B3)\n",
    "print(C3)\n",
    "print(PX)\n",
    "print(SX)"
   ]
  },
  {
   "cell_type": "code",
   "execution_count": 2,
   "metadata": {
    "vscode": {
     "languageId": "r"
    }
   },
   "outputs": [
    {
     "data": {
      "text/html": [
       "0.223606797749979"
      ],
      "text/latex": [
       "0.223606797749979"
      ],
      "text/markdown": [
       "0.223606797749979"
      ],
      "text/plain": [
       "[1] 0.2236068"
      ]
     },
     "metadata": {},
     "output_type": "display_data"
    }
   ],
   "source": [
    "0.05^0.5\n"
   ]
  },
  {
   "cell_type": "code",
   "execution_count": 1,
   "metadata": {
    "vscode": {
     "languageId": "r"
    }
   },
   "outputs": [
    {
     "name": "stdout",
     "output_type": "stream",
     "text": [
      "     [,1] [,2]\n",
      "[1,]  4.0  1.6\n",
      "[2,]  1.6  1.0\n",
      "           [,1]      [,2]\n",
      "[1,]  0.6944444 -1.111111\n",
      "[2,] -1.1111111  2.777778\n"
     ]
    }
   ],
   "source": [
    "P=matrix(c(4,1.6, 1.6, 1), 2)\n",
    "P01=solve(P)\n",
    "print(P)\n",
    "print(P01)"
   ]
  },
  {
   "cell_type": "code",
   "execution_count": 1,
   "metadata": {
    "vscode": {
     "languageId": "r"
    }
   },
   "outputs": [
    {
     "name": "stdout",
     "output_type": "stream",
     "text": [
      "     [,1] [,2]\n",
      "[1,]  1.0  0.8\n",
      "[2,]  0.8  1.0\n",
      "          [,1]      [,2]\n",
      "[1,]  2.777778 -2.222222\n",
      "[2,] -2.222222  2.777778\n",
      "     [,1] [,2]\n",
      "[1,]    1  0.8\n",
      "[2,]    0  0.6\n",
      "     [,1] [,2]\n",
      "[1,]  1.0  0.0\n",
      "[2,]  0.8  0.6\n",
      "          [,1]     [,2]\n",
      "[1,]  1.000000 0.000000\n",
      "[2,] -1.333333 1.666667\n"
     ]
    }
   ],
   "source": [
    "P=matrix(c(1,0.8, 0.8, 1), 2)\n",
    "print(P)\n",
    "P01=solve(P)\n",
    "print(P01)\n",
    "Lt=chol(P)\n",
    "print(Lt)\n",
    "L=t(Lt)\n",
    "print(L)\n",
    "L01=solve(L)\n",
    "print(L01)"
   ]
  },
  {
   "cell_type": "code",
   "execution_count": 2,
   "metadata": {
    "vscode": {
     "languageId": "r"
    }
   },
   "outputs": [
    {
     "name": "stdout",
     "output_type": "stream",
     "text": [
      "     [,1] [,2]\n",
      "[1,]    1 -0.8\n",
      "[2,]    0  1.0\n",
      "         [,1] [,2]\n",
      "[1,] 2.777778    0\n",
      "[2,] 0.000000    1\n",
      "          [,1] [,2]\n",
      "[1,]  2.777778    0\n",
      "[2,] -2.222222    1\n",
      "          [,1]      [,2]\n",
      "[1,]  2.777778 -2.222222\n",
      "[2,] -2.222222  2.777778\n"
     ]
    }
   ],
   "source": [
    "A=matrix(c(1,0, -0.8, 1), 2)\n",
    "D=diag(c(1/0.36,1))\n",
    "A2=t(A) %*% D\n",
    "A3=A2 %*% A\n",
    "print(A)\n",
    "print(D)\n",
    "print(A2)\n",
    "print(A3)"
   ]
  },
  {
   "cell_type": "code",
   "execution_count": 4,
   "metadata": {
    "vscode": {
     "languageId": "r"
    }
   },
   "outputs": [
    {
     "name": "stdout",
     "output_type": "stream",
     "text": [
      "[1] 0.80 1.25\n",
      "[1] 0.8944272 1.1180340\n",
      "[1] 1.264911 1.581139\n"
     ]
    }
   ],
   "source": [
    "a=c(0.8,1.25)\n",
    "b=a^0.5\n",
    "c=2^0.5*b\n",
    "print(a)\n",
    "print(b)\n",
    "print(c)\n",
    "\n"
   ]
  },
  {
   "cell_type": "code",
   "execution_count": 1,
   "metadata": {
    "vscode": {
     "languageId": "r"
    }
   },
   "outputs": [
    {
     "data": {
      "text/html": [
       "1.73205080756888"
      ],
      "text/latex": [
       "1.73205080756888"
      ],
      "text/markdown": [
       "1.73205080756888"
      ],
      "text/plain": [
       "[1] 1.732051"
      ]
     },
     "metadata": {},
     "output_type": "display_data"
    },
    {
     "data": {
      "text/html": [
       "0.577350269189626"
      ],
      "text/latex": [
       "0.577350269189626"
      ],
      "text/markdown": [
       "0.577350269189626"
      ],
      "text/plain": [
       "[1] 0.5773503"
      ]
     },
     "metadata": {},
     "output_type": "display_data"
    }
   ],
   "source": [
    "3^0.5\n",
    "3^0.5/3"
   ]
  },
  {
   "cell_type": "code",
   "execution_count": 7,
   "metadata": {
    "vscode": {
     "languageId": "r"
    }
   },
   "outputs": [
    {
     "name": "stdout",
     "output_type": "stream",
     "text": [
      "     [,1] [,2]\n",
      "[1,]    1    1\n",
      "[2,]    1    1\n"
     ]
    },
    {
     "ename": "ERROR",
     "evalue": "Error in chol.default(P): the leading minor of order 2 is not positive definite\n",
     "output_type": "error",
     "traceback": [
      "Error in chol.default(P): the leading minor of order 2 is not positive definite\nTraceback:\n",
      "1. chol(P)",
      "2. chol.default(P)"
     ]
    }
   ],
   "source": [
    "P=matrix(c(1,1, 1, 1), 2)\n",
    "print(P)\n",
    "Lt=chol(P)\n",
    "print(Lt)\n",
    "L=t(Lt)\n",
    "print(L)\n",
    "#L01=solve(L)\n",
    "#print(L01)"
   ]
  },
  {
   "cell_type": "code",
   "execution_count": 6,
   "metadata": {
    "vscode": {
     "languageId": "r"
    }
   },
   "outputs": [
    {
     "data": {
      "text/html": [
       "1.5625"
      ],
      "text/latex": [
       "1.5625"
      ],
      "text/markdown": [
       "1.5625"
      ],
      "text/plain": [
       "[1] 1.5625"
      ]
     },
     "metadata": {},
     "output_type": "display_data"
    },
    {
     "data": {
      "text/html": [
       "1.875"
      ],
      "text/latex": [
       "1.875"
      ],
      "text/markdown": [
       "1.875"
      ],
      "text/plain": [
       "[1] 1.875"
      ]
     },
     "metadata": {},
     "output_type": "display_data"
    },
    {
     "data": {
      "text/html": [
       "0.447213595499958"
      ],
      "text/latex": [
       "0.447213595499958"
      ],
      "text/markdown": [
       "0.447213595499958"
      ],
      "text/plain": [
       "[1] 0.4472136"
      ]
     },
     "metadata": {},
     "output_type": "display_data"
    },
    {
     "data": {
      "text/html": [
       "0.894427190999916"
      ],
      "text/latex": [
       "0.894427190999916"
      ],
      "text/markdown": [
       "0.894427190999916"
      ],
      "text/plain": [
       "[1] 0.8944272"
      ]
     },
     "metadata": {},
     "output_type": "display_data"
    }
   ],
   "source": [
    "1/0.64\n",
    "0.6/0.64 *2\n",
    "1/5^0.5\n",
    "2/5^0.5\n"
   ]
  },
  {
   "cell_type": "code",
   "execution_count": 1,
   "metadata": {
    "vscode": {
     "languageId": "r"
    }
   },
   "outputs": [
    {
     "data": {
      "text/html": [
       "<style>\n",
       ".list-inline {list-style: none; margin:0; padding: 0}\n",
       ".list-inline>li {display: inline-block}\n",
       ".list-inline>li:not(:last-child)::after {content: \"\\00b7\"; padding: 0 .5ex}\n",
       "</style>\n",
       "<ol class=list-inline><li>0.682689492137086</li><li>0.393469340287367</li><li>0.198748043098799</li><li>0.0902040104310499</li><li>0.0374342267527036</li><li>0.0143876779669707</li></ol>\n"
      ],
      "text/latex": [
       "\\begin{enumerate*}\n",
       "\\item 0.682689492137086\n",
       "\\item 0.393469340287367\n",
       "\\item 0.198748043098799\n",
       "\\item 0.0902040104310499\n",
       "\\item 0.0374342267527036\n",
       "\\item 0.0143876779669707\n",
       "\\end{enumerate*}\n"
      ],
      "text/markdown": [
       "1. 0.682689492137086\n",
       "2. 0.393469340287367\n",
       "3. 0.198748043098799\n",
       "4. 0.0902040104310499\n",
       "5. 0.0374342267527036\n",
       "6. 0.0143876779669707\n",
       "\n",
       "\n"
      ],
      "text/plain": [
       "[1] 0.68268949 0.39346934 0.19874804 0.09020401 0.03743423 0.01438768"
      ]
     },
     "metadata": {},
     "output_type": "display_data"
    }
   ],
   "source": [
    "pchisq(1,1:6)"
   ]
  },
  {
   "cell_type": "code",
   "execution_count": 1,
   "metadata": {
    "vscode": {
     "languageId": "r"
    }
   },
   "outputs": [
    {
     "name": "stdout",
     "output_type": "stream",
     "text": [
      "[1] 0.381966 2.618034\n"
     ]
    }
   ],
   "source": [
    "a=5^0.5\n",
    "b=3+c(-1,1)*a\n",
    "c=b/2\n",
    "print(c)"
   ]
  },
  {
   "cell_type": "code",
   "execution_count": 7,
   "metadata": {
    "vscode": {
     "languageId": "r"
    }
   },
   "outputs": [
    {
     "data": {
      "text/html": [
       "<table class=\"dataframe\">\n",
       "<caption>A matrix: 2 × 2 of type dbl</caption>\n",
       "<tbody>\n",
       "\t<tr><td>1.64</td><td>0.00</td></tr>\n",
       "\t<tr><td>0.00</td><td>0.36</td></tr>\n",
       "</tbody>\n",
       "</table>\n"
      ],
      "text/latex": [
       "A matrix: 2 × 2 of type dbl\n",
       "\\begin{tabular}{ll}\n",
       "\t 1.64 & 0.00\\\\\n",
       "\t 0.00 & 0.36\\\\\n",
       "\\end{tabular}\n"
      ],
      "text/markdown": [
       "\n",
       "A matrix: 2 × 2 of type dbl\n",
       "\n",
       "| 1.64 | 0.00 |\n",
       "| 0.00 | 0.36 |\n",
       "\n"
      ],
      "text/plain": [
       "     [,1] [,2]\n",
       "[1,] 1.64 0.00\n",
       "[2,] 0.00 0.36"
      ]
     },
     "metadata": {},
     "output_type": "display_data"
    },
    {
     "data": {
      "text/html": [
       "<table class=\"dataframe\">\n",
       "<caption>A matrix: 2 × 1 of type dbl</caption>\n",
       "<tbody>\n",
       "\t<tr><td>3.28</td></tr>\n",
       "\t<tr><td>0.36</td></tr>\n",
       "</tbody>\n",
       "</table>\n"
      ],
      "text/latex": [
       "A matrix: 2 × 1 of type dbl\n",
       "\\begin{tabular}{l}\n",
       "\t 3.28\\\\\n",
       "\t 0.36\\\\\n",
       "\\end{tabular}\n"
      ],
      "text/markdown": [
       "\n",
       "A matrix: 2 × 1 of type dbl\n",
       "\n",
       "| 3.28 |\n",
       "| 0.36 |\n",
       "\n"
      ],
      "text/plain": [
       "     [,1]\n",
       "[1,] 3.28\n",
       "[2,] 0.36"
      ]
     },
     "metadata": {},
     "output_type": "display_data"
    },
    {
     "data": {
      "text/html": [
       "<style>\n",
       ".list-inline {list-style: none; margin:0; padding: 0}\n",
       ".list-inline>li {display: inline-block}\n",
       ".list-inline>li:not(:last-child)::after {content: \"\\00b7\"; padding: 0 .5ex}\n",
       "</style>\n",
       "<ol class=list-inline><li>1</li><li>-9.11111111111111</li></ol>\n"
      ],
      "text/latex": [
       "\\begin{enumerate*}\n",
       "\\item 1\n",
       "\\item -9.11111111111111\n",
       "\\end{enumerate*}\n"
      ],
      "text/markdown": [
       "1. 1\n",
       "2. -9.11111111111111\n",
       "\n",
       "\n"
      ],
      "text/plain": [
       "[1]  1.000000 -9.111111"
      ]
     },
     "metadata": {},
     "output_type": "display_data"
    },
    {
     "data": {
      "text/html": [
       "<table class=\"dataframe\">\n",
       "<caption>A matrix: 2 × 1 of type dbl</caption>\n",
       "<tbody>\n",
       "\t<tr><td> 3.28</td></tr>\n",
       "\t<tr><td>-3.28</td></tr>\n",
       "</tbody>\n",
       "</table>\n"
      ],
      "text/latex": [
       "A matrix: 2 × 1 of type dbl\n",
       "\\begin{tabular}{l}\n",
       "\t  3.28\\\\\n",
       "\t -3.28\\\\\n",
       "\\end{tabular}\n"
      ],
      "text/markdown": [
       "\n",
       "A matrix: 2 × 1 of type dbl\n",
       "\n",
       "|  3.28 |\n",
       "| -3.28 |\n",
       "\n"
      ],
      "text/plain": [
       "     [,1] \n",
       "[1,]  3.28\n",
       "[2,] -3.28"
      ]
     },
     "metadata": {},
     "output_type": "display_data"
    }
   ],
   "source": [
    "A=diag(c(1.64, 0.36))\n",
    "A\n",
    "x=c(2,1)\n",
    "x2=A %*% x\n",
    "x2\n",
    "y=c(1, - 2 * 1.64 / 0.36)\n",
    "y\n",
    "t=x2 *y\n",
    "t"
   ]
  },
  {
   "cell_type": "code",
   "execution_count": 3,
   "metadata": {
    "vscode": {
     "languageId": "r"
    }
   },
   "outputs": [
    {
     "data": {
      "text/html": [
       "<table class=\"dataframe\">\n",
       "<caption>A matrix: 2 × 1 of type dbl</caption>\n",
       "<tbody>\n",
       "\t<tr><td>0.2545584</td></tr>\n",
       "\t<tr><td>1.1596551</td></tr>\n",
       "</tbody>\n",
       "</table>\n"
      ],
      "text/latex": [
       "A matrix: 2 × 1 of type dbl\n",
       "\\begin{tabular}{l}\n",
       "\t 0.2545584\\\\\n",
       "\t 1.1596551\\\\\n",
       "\\end{tabular}\n"
      ],
      "text/markdown": [
       "\n",
       "A matrix: 2 × 1 of type dbl\n",
       "\n",
       "| 0.2545584 |\n",
       "| 1.1596551 |\n",
       "\n"
      ],
      "text/plain": [
       "     [,1]     \n",
       "[1,] 0.2545584\n",
       "[2,] 1.1596551"
      ]
     },
     "metadata": {},
     "output_type": "display_data"
    }
   ],
   "source": [
    "y=c(-0.64,1)\n",
    "r=P01 %*% y\n",
    "r"
   ]
  },
  {
   "cell_type": "code",
   "execution_count": null,
   "metadata": {
    "vscode": {
     "languageId": "r"
    }
   },
   "outputs": [],
   "source": []
  },
  {
   "cell_type": "code",
   "execution_count": 6,
   "metadata": {
    "vscode": {
     "languageId": "r"
    }
   },
   "outputs": [
    {
     "data": {
      "text/html": [
       "<table class=\"dataframe\">\n",
       "<caption>A matrix: 2 × 1 of type dbl</caption>\n",
       "<tbody>\n",
       "\t<tr><td>0.4174758</td></tr>\n",
       "\t<tr><td>0.4174758</td></tr>\n",
       "</tbody>\n",
       "</table>\n"
      ],
      "text/latex": [
       "A matrix: 2 × 1 of type dbl\n",
       "\\begin{tabular}{l}\n",
       "\t 0.4174758\\\\\n",
       "\t 0.4174758\\\\\n",
       "\\end{tabular}\n"
      ],
      "text/markdown": [
       "\n",
       "A matrix: 2 × 1 of type dbl\n",
       "\n",
       "| 0.4174758 |\n",
       "| 0.4174758 |\n",
       "\n"
      ],
      "text/plain": [
       "     [,1]     \n",
       "[1,] 0.4174758\n",
       "[2,] 0.4174758"
      ]
     },
     "metadata": {},
     "output_type": "display_data"
    }
   ],
   "source": [
    "d=b$values\n",
    "D=diag(d)\n",
    "r2=D %*% r\n",
    "r2"
   ]
  },
  {
   "cell_type": "code",
   "execution_count": 7,
   "metadata": {
    "vscode": {
     "languageId": "r"
    }
   },
   "outputs": [
    {
     "data": {
      "text/html": [
       "4.55555621028416"
      ],
      "text/latex": [
       "4.55555621028416"
      ],
      "text/markdown": [
       "4.55555621028416"
      ],
      "text/plain": [
       "[1] 4.555556"
      ]
     },
     "metadata": {},
     "output_type": "display_data"
    },
    {
     "data": {
      "text/html": [
       "4.55555555555556"
      ],
      "text/latex": [
       "4.55555555555556"
      ],
      "text/markdown": [
       "4.55555555555556"
      ],
      "text/plain": [
       "[1] 4.555556"
      ]
     },
     "metadata": {},
     "output_type": "display_data"
    }
   ],
   "source": [
    "1.1596551/0.2545584\n",
    "1.64/0.36\n"
   ]
  },
  {
   "cell_type": "code",
   "execution_count": 4,
   "metadata": {
    "vscode": {
     "languageId": "r"
    }
   },
   "outputs": [
    {
     "data": {
      "image/png": "[encoded data removed]",
      "text/plain": [
       "plot without title"
      ]
     },
     "metadata": {
      "image/png": {
       "height": 420,
       "width": 420
      }
     },
     "output_type": "display_data"
    }
   ],
   "source": [
    "N=200; K =100; n=50; p=K/N   #以分号分割几个赋值语句\n",
    "x<-seq(0,n)\n",
    "p1= dbinom(x,n,p)\n",
    "p2= dhyper(x, K, N-K, n)\n",
    "plot(x,p2,type=\"l\",col=\"red\")\n",
    "lines(x,p1,col=\"green\")"
   ]
  }
 ],
 "metadata": {
  "kernelspec": {
   "display_name": "R",
   "language": "R",
   "name": "ir"
  },
  "language_info": {
   "codemirror_mode": "r",
   "file_extension": ".r",
   "mimetype": "text/x-r-source",
   "name": "R",
   "pygments_lexer": "r",
   "version": "4.2.3"
  }
 },
 "nbformat": 4,
 "nbformat_minor": 2
}
