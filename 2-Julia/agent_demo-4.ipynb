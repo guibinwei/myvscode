{
 "cells": [
  {
   "cell_type": "code",
   "execution_count": 1,
   "metadata": {},
   "outputs": [],
   "source": [
    "using Agents\n",
    "#using Random: Xoshiro # access the RNG object"
   ]
  },
  {
   "cell_type": "code",
   "execution_count": 2,
   "metadata": {},
   "outputs": [],
   "source": [
    "using Statistics: mean"
   ]
  },
  {
   "cell_type": "code",
   "execution_count": 3,
   "metadata": {},
   "outputs": [],
   "source": [
    "@agent struct SchellingAgent(GridAgent{2}) \n",
    "    #mood::Bool # whether the agent is happy in its position\n",
    "    #group::Int # The group of the agent, determines mood as it interacts with neighbors\n",
    "    A_self::Int   #伦理\n",
    "    A_peer::Int   #收益\n",
    "    #A_mtx::Float64  #压力\n",
    "    revenue::Float64  #收益\n",
    "    #revenue_nb_av::Float64  #邻居的平均收益\n",
    "    #P1::Float64   #第一层概率\n",
    "    #P2::Float64   #第二层概率\n",
    "    #Pmix::Float64  #概率相乘\n",
    "    strate::Int   #1-合作 0-背叛\n",
    "    overstress::Int  #过度压力\n",
    "end"
   ]
  },
  {
   "cell_type": "code",
   "execution_count": 4,
   "metadata": {},
   "outputs": [
    {
     "data": {
      "text/plain": [
       "schelling_step_1! (generic function with 1 method)"
      ]
     },
     "metadata": {},
     "output_type": "display_data"
    }
   ],
   "source": [
    "function schelling_step_1!(agent, model)\n",
    "    # Here we access a model-level property `min_to_be_happy`.\n",
    "    # This will have an assigned value once we create the model.\n",
    "    A = [1 0; model.temp 0] \n",
    "    #以下是针对当前单个代理的指令\n",
    "    payoff =0\n",
    "    a=[agent.strate, 1-agent.strate]\n",
    "    PA=transpose(a) * A\n",
    "    # For each neighbor, get group and compare to current agent's group\n",
    "    # and increment `count_neighbors_same_group` as appropriately.\n",
    "    # Here `nearby_agents` (with default arguments) will provide an iterator\n",
    "    # over the nearby agents one grid cell away, which are at most 8.\n",
    "    for neighbor in nearby_agents(agent, model)\n",
    "        b=[neighbor.strate, 1-neighbor.strate]\n",
    "        pay0 = PA * b\n",
    "        payoff += PA * b\n",
    "    end\n",
    "    agent.revenue=payoff\n",
    "    return\n",
    "end"
   ]
  },
  {
   "cell_type": "code",
   "execution_count": 5,
   "metadata": {},
   "outputs": [
    {
     "data": {
      "text/plain": [
       "schelling_step_2! (generic function with 1 method)"
      ]
     },
     "metadata": {},
     "output_type": "display_data"
    }
   ],
   "source": [
    "function schelling_step_2!(agent, model)\n",
    "    # Here we access a model-level property `min_to_be_happy`.\n",
    "    # This will have an assigned value once we create the model.\n",
    "    minbetray = model.min_betray\n",
    "    alpha = model.alpha\n",
    "    theta = model.theta\n",
    "    lamda = model.lamda\n",
    "    Kmax = model.Kmax\n",
    "    #以下是针对当前单个代理的指令\n",
    "    count_betray = 0\n",
    "    revenue_nb = 0\n",
    "    # For each neighbor, get group and compare to current agent's group\n",
    "    # and increment `count_neighbors_same_group` as appropriately.\n",
    "    # Here `nearby_agents` (with default arguments) will provide an iterator\n",
    "    # over the nearby agents one grid cell away, which are at most 8.\n",
    "    for neighbor in nearby_agents(agent, model)\n",
    "        if neighbor.strate==0\n",
    "            count_betray += 1\n",
    "        end\n",
    "        revenue_nb += neighbor.revenue\n",
    "    end\n",
    "    #nearby_number = length(nearby_agents(agent, model))\n",
    "    nearby_number = 4\n",
    "    revenue_nb_av=revenue_nb/nearby_number\n",
    "    bet2= (count_betray>=2)\n",
    "    pe2=(agent.revenue <= revenue_nb_av)\n",
    "    #更新压力矩阵A\n",
    "    agent.A_self += (count_betray>=2)\n",
    "    agent.A_peer += (agent.revenue <= revenue_nb_av) #计算朋辈压力\n",
    "    A_mtx = (1-alpha) * agent.A_self + alpha * agent.A_peer #更新压力矩阵A\n",
    "    #迭代&策略更新\n",
    "    A_gap=maximum([theta-A_mtx,0])\n",
    "    P1 = exp(-A_gap)  #计算概率P1\n",
    "    ragent = random_agent(model)\n",
    "    K_A = Kmax*A_gap/theta \n",
    "    drevenue= agent.revenue -ragent.revenue\n",
    "    P2 = 1 / (1+ exp(drevenue/K_A))\n",
    "    isnan(P2) && (P2= 0) #处理NaN值赋0  #0/0先赋值为0，然后赋值为0.5\n",
    "    Pmix=P1*P2\n",
    "    if Pmix > rand() \n",
    "        agent.strate = ragent.strate\n",
    "        agent.A_peer = 0 #清空改变策略的Ap\n",
    "        agent.A_self = 0 #清空改变策略的As\n",
    "    end\n",
    "    #Fc(t+1) = sum(sum(Strmtx))/L^2  #在最后提取数据时计算\n",
    "    agent.overstress = (A_mtx >= (theta+lamda))\n",
    "    return\n",
    "end"
   ]
  },
  {
   "cell_type": "code",
   "execution_count": 6,
   "metadata": {},
   "outputs": [
    {
     "data": {
      "text/plain": [
       "complex_model_step! (generic function with 1 method)"
      ]
     },
     "metadata": {},
     "output_type": "display_data"
    }
   ],
   "source": [
    "function complex_model_step!(model)\n",
    "    # tip: these schedulers should be defined as properties of the model\n",
    "    for agent in allagents(model)\n",
    "        schelling_step_1!(agent, model)\n",
    "        schelling_step_2!(agent, model)\n",
    "    end\n",
    "    return\n",
    "end"
   ]
  },
  {
   "cell_type": "code",
   "execution_count": 7,
   "metadata": {},
   "outputs": [
    {
     "data": {
      "text/plain": [
       "wealth_model_2D (generic function with 1 method)"
      ]
     },
     "metadata": {},
     "output_type": "display_data"
    }
   ],
   "source": [
    "function wealth_model_2D(;L=3, betray=2, temp = 1.2, alpha =  0.3, theta = 20, Kmax = 1, lamda = 10)     \n",
    "    size = (L, L)\n",
    "    space = GridSpaceSingle(size; periodic = true, metric = :manhattan) #1000个代理\n",
    "    properties = Dict(:min_betray => betray, :temp => temp,\n",
    "    :alpha => alpha, :theta => theta, :lamda => lamda, :Kmax => Kmax)\n",
    "    model = StandardABM(SchellingAgent, space; \n",
    "    properties, model_step! = complex_model_step!)  #定义模型，包含 空间 代理 进化规则 属性 调度程序（调度者）\n",
    "\n",
    "    for n in 1:L^2\n",
    "        add_agent_single!(model; revenue=0, A_self=0, A_peer=0, strate = rand(0:1), overstress=0)\n",
    "    end\n",
    "    return model  \n",
    "end"
   ]
  },
  {
   "cell_type": "code",
   "execution_count": 8,
   "metadata": {},
   "outputs": [
    {
     "data": {
      "text/plain": [
       "StandardABM with 9 agents of type SchellingAgent\n",
       " agents container: Dict\n",
       " space: GridSpaceSingle with size (3, 3), metric=manhattan, periodic=true\n",
       " scheduler: fastest\n",
       " properties: alpha, min_betray, Kmax, temp, theta, lamda"
      ]
     },
     "metadata": {},
     "output_type": "display_data"
    }
   ],
   "source": [
    "schelling = wealth_model_2D()"
   ]
  },
  {
   "cell_type": "code",
   "execution_count": 11,
   "metadata": {},
   "outputs": [
    {
     "data": {
      "text/plain": [
       "1"
      ]
     },
     "metadata": {},
     "output_type": "display_data"
    }
   ],
   "source": [
    "N = 1"
   ]
  },
  {
   "cell_type": "code",
   "execution_count": 19,
   "metadata": {},
   "outputs": [
    {
     "data": {
      "text/plain": [
       "2-element Vector{Tuple{Symbol, typeof(mean)}}:\n",
       " (:strate, Statistics.mean)\n",
       " (:overstress, Statistics.mean)"
      ]
     },
     "metadata": {},
     "output_type": "display_data"
    }
   ],
   "source": [
    "#adata = [(:strate, mean), (:overstress, mean)]"
   ]
  },
  {
   "cell_type": "code",
   "execution_count": 8,
   "metadata": {},
   "outputs": [
    {
     "data": {
      "text/plain": [
       "5-element Vector{Symbol}:\n",
       " :strate\n",
       " :revenue\n",
       " :A_peer\n",
       " :A_self\n",
       " :overstress"
      ]
     },
     "metadata": {},
     "output_type": "display_data"
    }
   ],
   "source": [
    "adata = [:strate, :revenue, :A_peer, :A_self, :overstress]"
   ]
  },
  {
   "cell_type": "code",
   "execution_count": 13,
   "metadata": {},
   "outputs": [
    {
     "data": {
      "text/plain": [
       "(\u001b[1m18×7 DataFrame\u001b[0m\n",
       "\u001b[1m Row \u001b[0m│\u001b[1m time  \u001b[0m\u001b[1m id    \u001b[0m\u001b[1m strate \u001b[0m\u001b[1m revenue \u001b[0m\u001b[1m A_peer \u001b[0m\u001b[1m A_self \u001b[0m\u001b[1m overstress \u001b[0m\n",
       "     │\u001b[90m Int64 \u001b[0m\u001b[90m Int64 \u001b[0m\u001b[90m Int64  \u001b[0m\u001b[90m Float64 \u001b[0m\u001b[90m Int64  \u001b[0m\u001b[90m Int64  \u001b[0m\u001b[90m Int64      \u001b[0m\n",
       "─────┼───────────────────────────────────────────────────────────\n",
       "   1 │     1      1       0      2.4       0       1           0\n",
       "   2 │     1      2       0      2.4       0       1           0\n",
       "   3 │     1      3       0      0.0       1       1           0\n",
       "   4 │     1      4       1      2.0       0       1           0\n",
       "   5 │     1      5       0      2.4       0       1           0\n",
       "   6 │     1      6       1      2.0       0       1           0\n",
       "   7 │     1      7       0      2.4       0       1           0\n",
       "   8 │     1      8       1      2.0       0       1           0\n",
       "  ⋮  │   ⋮      ⋮      ⋮        ⋮       ⋮       ⋮         ⋮\n",
       "  12 │     2      3       0      0.0       2       2           0\n",
       "  13 │     2      4       1      2.0       1       2           0\n",
       "  14 │     2      5       0      2.4       0       2           0\n",
       "  15 │     2      6       1      2.0       1       2           0\n",
       "  16 │     2      7       0      2.4       0       2           0\n",
       "  17 │     2      8       1      2.0       1       2           0\n",
       "  18 │     2      9       1      2.0       2       2           0\n",
       "\u001b[36m                                                   3 rows omitted\u001b[0m, \u001b[1m0×0 DataFrame\u001b[0m)"
      ]
     },
     "metadata": {},
     "output_type": "display_data"
    }
   ],
   "source": [
    "data, _ = run!(schelling, N; adata)\n",
    "#data[(end-20):end, :]"
   ]
  },
  {
   "cell_type": "code",
   "execution_count": 9,
   "metadata": {},
   "outputs": [
    {
     "data": {
      "text/plain": [
       "StandardABM with 10000 agents of type SchellingAgent\n",
       " agents container: Dict\n",
       " space: GridSpaceSingle with size (100, 100), metric=manhattan, periodic=true\n",
       " scheduler: fastest\n",
       " properties: alpha, min_betray, Kmax, temp, theta, lamda"
      ]
     },
     "metadata": {},
     "output_type": "display_data"
    }
   ],
   "source": [
    "schelling2 = wealth_model_2D(;L=100)"
   ]
  },
  {
   "cell_type": "code",
   "execution_count": 10,
   "metadata": {},
   "outputs": [
    {
     "data": {
      "text/plain": [
       "100000"
      ]
     },
     "metadata": {},
     "output_type": "display_data"
    }
   ],
   "source": [
    "N = 10^5"
   ]
  },
  {
   "cell_type": "code",
   "execution_count": 12,
   "metadata": {},
   "outputs": [
    {
     "name": "stderr",
     "output_type": "stream",
     "text": [
      "┌ Error: Error adding value to column :A_peer. Maybe you forgot passing `promote=true`?\n",
      "└ @ DataFrames C:\\Users\\xingfu_2\\.julia\\packages\\DataFrames\\58MUJ\\src\\dataframe\\insertion.jl:303\n"
     ]
    },
    {
     "ename": "OutOfMemoryError",
     "evalue": "OutOfMemoryError()",
     "output_type": "error",
     "traceback": [
      "OutOfMemoryError()\n",
      "\n",
      "Stacktrace:\n",
      "  [1] _growend!\n",
      "    @ .\\array.jl:1072 [inlined]\n",
      "  [2] append!(a::Vector{Int64}, items::Vector{Int64})\n",
      "    @ Base .\\array.jl:1182\n",
      "  [3] _append_or_prepend!(df1::DataFrames.DataFrame, df2::DataFrames.DataFrame; cols::Symbol, promote::Bool, atend::Bool)\n",
      "    @ DataFrames C:\\Users\\xingfu_2\\.julia\\packages\\DataFrames\\58MUJ\\src\\dataframe\\insertion.jl:242\n",
      "  [4] _append_or_prepend!\n",
      "    @ C:\\Users\\xingfu_2\\.julia\\packages\\DataFrames\\58MUJ\\src\\dataframe\\insertion.jl:173 [inlined]\n",
      "  [5] append!(df1::DataFrames.DataFrame, df2::DataFrames.DataFrame)\n",
      "    @ DataFrames C:\\Users\\xingfu_2\\.julia\\packages\\DataFrames\\58MUJ\\src\\dataframe\\insertion.jl:83\n",
      "  [6] collect_agent_data!(df::DataFrames.DataFrame, model::StandardABM{GridSpaceSingle{2, true}, SchellingAgent, Dict{Int64, SchellingAgent}, Tuple{DataType}, typeof(dummystep), typeof(complex_model_step!), typeof(Agents.Schedulers.fastest), Dict{Symbol, Real}, Random.TaskLocalRNG}, properties::Vector{Symbol}, step::Int64; kwargs::@Kwargs{obtainer::typeof(identity)})\n",
      "    @ Agents C:\\Users\\xingfu_2\\.julia\\packages\\Agents\\EOn0z\\src\\simulations\\collect.jl:474\n",
      "  [7] collect_agent_data! (repeats 2 times)\n",
      "    @ C:\\Users\\xingfu_2\\.julia\\packages\\Agents\\EOn0z\\src\\simulations\\collect.jl:458 [inlined]\n",
      "  [8] _run!(model::StandardABM{GridSpaceSingle{2, true}, SchellingAgent, Dict{Int64, SchellingAgent}, Tuple{DataType}, typeof(dummystep), typeof(complex_model_step!), typeof(Agents.Schedulers.fastest), Dict{Symbol, Real}, Random.TaskLocalRNG}, df_agent::DataFrames.DataFrame, df_model::DataFrames.DataFrame, n::Int64, when::Int64, when_model::Int64, mdata::Nothing, adata::Vector{Symbol}, obtainer::typeof(identity), dt::Int64, p::ProgressMeter.Progress)\n",
      "    @ Agents C:\\Users\\xingfu_2\\.julia\\packages\\Agents\\EOn0z\\src\\simulations\\collect.jl:170\n",
      "  [9] run!(model::StandardABM{GridSpaceSingle{2, true}, SchellingAgent, Dict{Int64, SchellingAgent}, Tuple{DataType}, typeof(dummystep), typeof(complex_model_step!), typeof(Agents.Schedulers.fastest), Dict{Symbol, Real}, Random.TaskLocalRNG}, n::Int64; when::Int64, when_model::Int64, mdata::Nothing, adata::Vector{Symbol}, obtainer::Function, showprogress::Bool, init::Bool, dt::Float64)\n",
      "    @ Agents C:\\Users\\xingfu_2\\.julia\\packages\\Agents\\EOn0z\\src\\simulations\\collect.jl:148\n",
      " [10] top-level scope\n",
      "    @ d:\\jianguo\\myvscode\\Julia\\agent_demo-4.ipynb:1"
     ]
    }
   ],
   "source": [
    "data, _ = run!(schelling2, N; adata)"
   ]
  },
  {
   "cell_type": "code",
   "execution_count": 18,
   "metadata": {},
   "outputs": [
    {
     "data": {
      "text/plain": [
       "(2, 3)"
      ]
     },
     "metadata": {},
     "output_type": "display_data"
    }
   ],
   "source": [
    "schelling[1].pos"
   ]
  },
  {
   "cell_type": "code",
   "execution_count": 21,
   "metadata": {},
   "outputs": [
    {
     "data": {
      "text/plain": [
       "(1, 3)"
      ]
     },
     "metadata": {},
     "output_type": "display_data"
    }
   ],
   "source": [
    "schelling[2].pos"
   ]
  },
  {
   "cell_type": "code",
   "execution_count": 22,
   "metadata": {},
   "outputs": [
    {
     "data": {
      "text/plain": [
       "(2, 4)"
      ]
     },
     "metadata": {},
     "output_type": "display_data"
    }
   ],
   "source": [
    "schelling[3].pos"
   ]
  },
  {
   "cell_type": "code",
   "execution_count": 23,
   "metadata": {},
   "outputs": [
    {
     "data": {
      "text/plain": [
       "12"
      ]
     },
     "metadata": {},
     "output_type": "display_data"
    }
   ],
   "source": [
    "id_in_position((1,1), schelling)"
   ]
  }
 ],
 "metadata": {
  "kernelspec": {
   "display_name": "Julia 1.10.2",
   "language": "julia",
   "name": "julia-1.10"
  },
  "language_info": {
   "file_extension": ".jl",
   "mimetype": "application/julia",
   "name": "julia",
   "version": "1.10.2"
  }
 },
 "nbformat": 4,
 "nbformat_minor": 2
}
