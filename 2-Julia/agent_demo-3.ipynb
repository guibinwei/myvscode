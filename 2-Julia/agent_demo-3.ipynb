{
 "cells": [
  {
   "cell_type": "code",
   "execution_count": 1,
   "metadata": {},
   "outputs": [],
   "source": [
    "using Agents\n",
    "#using Random: Xoshiro # access the RNG object"
   ]
  },
  {
   "cell_type": "code",
   "execution_count": 2,
   "metadata": {},
   "outputs": [],
   "source": [
    "using Statistics: mean"
   ]
  },
  {
   "cell_type": "code",
   "execution_count": 16,
   "metadata": {},
   "outputs": [],
   "source": [
    "#using CairoMakie\n",
    "#using InteractiveDynamics"
   ]
  },
  {
   "cell_type": "code",
   "execution_count": 3,
   "metadata": {},
   "outputs": [
    {
     "data": {
      "text/plain": [
       "2"
      ]
     },
     "metadata": {},
     "output_type": "display_data"
    }
   ],
   "source": [
    "#模型中不变参数设置\n",
    "L = 3 #初始矩阵大小，对应L*L矩阵\n"
   ]
  },
  {
   "cell_type": "code",
   "execution_count": 3,
   "metadata": {},
   "outputs": [
    {
     "data": {
      "text/plain": [
       "10"
      ]
     },
     "metadata": {},
     "output_type": "display_data"
    }
   ],
   "source": [
    "#模型中可变参数设置\n",
    "betray=2  #背叛数量>=2 压力+1\n",
    "temp = 1.2  #诱惑值\n",
    "#payMtx=[1 0; b 0]\n",
    "alpha =  0.3 \n",
    "theta = 20  #压力缺口上限\n",
    "Kmax = 1 \n",
    "lamda = 10 #额外阈值\n"
   ]
  },
  {
   "cell_type": "code",
   "execution_count": 4,
   "metadata": {},
   "outputs": [
    {
     "data": {
      "text/plain": [
       "(3, 3)"
      ]
     },
     "metadata": {},
     "output_type": "display_data"
    }
   ],
   "source": [
    "size = (L, L)"
   ]
  },
  {
   "cell_type": "code",
   "execution_count": 11,
   "metadata": {},
   "outputs": [
    {
     "data": {
      "text/plain": [
       "GridSpaceSingle with size (3, 3), metric=manhattan, periodic=true"
      ]
     },
     "metadata": {},
     "output_type": "display_data"
    }
   ],
   "source": [
    "space = GridSpaceSingle(size; periodic = true, metric = :manhattan)"
   ]
  },
  {
   "cell_type": "code",
   "execution_count": 6,
   "metadata": {},
   "outputs": [],
   "source": [
    "@agent struct SchellingAgent(GridAgent{2}) \n",
    "    #mood::Bool # whether the agent is happy in its position\n",
    "    #group::Int # The group of the agent, determines mood as it interacts with neighbors\n",
    "    A_self::Int   #伦理\n",
    "    A_peer::Int   #收益\n",
    "    #A_mtx::Float64  #压力\n",
    "    revenue::Float64  #收益\n",
    "    #revenue_nb_av::Float64  #邻居的平均收益\n",
    "    #P1::Float64   #第一层概率\n",
    "    #P2::Float64   #第二层概率\n",
    "    #Pmix::Float64  #概率相乘\n",
    "    strate::Int   #1-合作 0-背叛\n",
    "    overstress::Int  #过度压力\n",
    "end"
   ]
  },
  {
   "cell_type": "code",
   "execution_count": 7,
   "metadata": {},
   "outputs": [
    {
     "data": {
      "text/plain": [
       "Dict{Symbol, Any} with 6 entries:\n",
       "  :alpha      => 0.3\n",
       "  :min_betray => 2\n",
       "  :Kmax       => 1\n",
       "  :payMtx     => [1.0 0.0; 1.2 0.0]\n",
       "  :lamda      => 10\n",
       "  :theta      => 20"
      ]
     },
     "metadata": {},
     "output_type": "display_data"
    }
   ],
   "source": [
    "properties = Dict(:min_betray => betray, :temp => temp,\n",
    ":alpha => alpha, :theta => theta, :lamda => lamda, :Kmax => Kmax)"
   ]
  },
  {
   "cell_type": "code",
   "execution_count": 12,
   "metadata": {},
   "outputs": [
    {
     "data": {
      "text/plain": [
       "schelling_step_1! (generic function with 1 method)"
      ]
     },
     "metadata": {},
     "output_type": "display_data"
    }
   ],
   "source": [
    "function schelling_step_1!(agent, model)\n",
    "    # Here we access a model-level property `min_to_be_happy`.\n",
    "    # This will have an assigned value once we create the model.\n",
    "    A = [1 0; model.temp 0] \n",
    "    #以下是针对当前单个代理的指令\n",
    "    payoff =0\n",
    "    a=[agent.strate, 1-agent.strate]\n",
    "    PA=transpose(a) * A\n",
    "    # For each neighbor, get group and compare to current agent's group\n",
    "    # and increment `count_neighbors_same_group` as appropriately.\n",
    "    # Here `nearby_agents` (with default arguments) will provide an iterator\n",
    "    # over the nearby agents one grid cell away, which are at most 8.\n",
    "    for neighbor in nearby_agents(agent, model)\n",
    "        b=[neighbor.strate, 1-neighbor.strate]\n",
    "        pay0 = PA * b\n",
    "        payoff += PA * b\n",
    "    end\n",
    "    agent.revenue=payoff\n",
    "    return\n",
    "end"
   ]
  },
  {
   "cell_type": "code",
   "execution_count": 13,
   "metadata": {},
   "outputs": [
    {
     "data": {
      "text/plain": [
       "schelling_step_2! (generic function with 1 method)"
      ]
     },
     "metadata": {},
     "output_type": "display_data"
    }
   ],
   "source": [
    "function schelling_step_2!(agent, model)\n",
    "    # Here we access a model-level property `min_to_be_happy`.\n",
    "    # This will have an assigned value once we create the model.\n",
    "    minbetray = model.min_betray\n",
    "    alpha = model.alpha\n",
    "    theta = model.theta\n",
    "    lamda = model.lamda\n",
    "    Kmax = model.Kmax\n",
    "    #以下是针对当前单个代理的指令\n",
    "    count_betray = 0\n",
    "    revenue_nb = 0\n",
    "    # For each neighbor, get group and compare to current agent's group\n",
    "    # and increment `count_neighbors_same_group` as appropriately.\n",
    "    # Here `nearby_agents` (with default arguments) will provide an iterator\n",
    "    # over the nearby agents one grid cell away, which are at most 8.\n",
    "    for neighbor in nearby_agents(agent, model)\n",
    "        if neighbor.strate==0\n",
    "            count_betray += 1\n",
    "        end\n",
    "        revenue_nb += neighbor.revenue\n",
    "    end\n",
    "    #nearby_number = length(nearby_agents(agent, model))\n",
    "    nearby_number = 4\n",
    "    revenue_nb_av=revenue_nb/nearby_number\n",
    "    bet2= (count_betray>=2)\n",
    "    pe2=(agent.revenue <= revenue_nb_av)\n",
    "    #更新压力矩阵A\n",
    "    agent.A_self += (count_betray>=2)\n",
    "    agent.A_peer += (agent.revenue <= revenue_nb_av) #计算朋辈压力\n",
    "    A_mtx = (1-alpha) * agent.A_self + alpha * agent.A_peer #更新压力矩阵A\n",
    "    #迭代&策略更新\n",
    "    A_gap=maximum([theta-A_mtx,0])\n",
    "    P1 = exp(-A_gap)  #计算概率P1\n",
    "    ragent = random_agent(model)\n",
    "    K_A = Kmax*A_gap/theta \n",
    "    drevenue= agent.revenue -ragent.revenue\n",
    "    P2 = 1 / (1+ exp(drevenue/K_A))\n",
    "    isnan(P2) && (P2= 0) #处理NaN值赋0  #0/0先赋值为0，然后赋值为0.5\n",
    "    Pmix=P1*P2\n",
    "    if Pmix > rand() \n",
    "        agent.strate = ragent.strate\n",
    "        agent.A_peer = 0 #清空改变策略的Ap\n",
    "        agent.A_self = 0 #清空改变策略的As\n",
    "    end\n",
    "    #Fc(t+1) = sum(sum(Strmtx))/L^2  #在最后提取数据时计算\n",
    "    agent.overstress = (A_mtx >= (theta+lamda))\n",
    "    return\n",
    "end"
   ]
  },
  {
   "cell_type": "code",
   "execution_count": 14,
   "metadata": {},
   "outputs": [
    {
     "data": {
      "text/plain": [
       "complex_model_step! (generic function with 1 method)"
      ]
     },
     "metadata": {},
     "output_type": "display_data"
    }
   ],
   "source": [
    "function complex_model_step!(model)\n",
    "    # tip: these schedulers should be defined as properties of the model\n",
    "    for agent in allagents(model)\n",
    "        schelling_step_1!(agent, model)\n",
    "        schelling_step_2!(agent, model)\n",
    "    end\n",
    "    return\n",
    "end"
   ]
  },
  {
   "cell_type": "code",
   "execution_count": null,
   "metadata": {},
   "outputs": [],
   "source": []
  },
  {
   "cell_type": "code",
   "execution_count": 11,
   "metadata": {},
   "outputs": [
    {
     "data": {
      "text/plain": [
       "StandardABM with 0 agents of type SchellingAgent\n",
       " agents container: Dict\n",
       " space: GridSpaceSingle with size (3, 3), metric=manhattan, periodic=true\n",
       " scheduler: fastest\n",
       " properties: alpha, min_betray, Kmax, payMtx, lamda, theta"
      ]
     },
     "metadata": {},
     "output_type": "display_data"
    }
   ],
   "source": [
    "schelling = StandardABM(\n",
    "    # input arguments\n",
    "    SchellingAgent, space;\n",
    "    # keyword arguments\n",
    "    properties, # in Julia if the input variable and keyword are named the same,\n",
    "                # you don't need to repeat the keyword!\n",
    "    model_step! = complex_model_step!\n",
    ")"
   ]
  },
  {
   "cell_type": "code",
   "execution_count": null,
   "metadata": {},
   "outputs": [],
   "source": [
    "function wealth_model_2D(; dims = (25, 25), wealth = 1, M = 1000)  #1000个代理\n",
    "    space = GridSpace(dims, periodic = true)  #定义 空间  #此处一个单元可以由多个代理 GridSpaceSingle - 单个代理\n",
    "    model = ABM(WealthInSpace, space; agent_step! = agent_step_2d!,\n",
    "                scheduler = Schedulers.Randomly())  #定义模型，包含 空间 代理 进化规则 属性 调度程序（调度者）\n",
    "    for _ in 1:M # add agents in random positions\n",
    "        add_agent!(model, wealth)\n",
    "    end\n",
    "    return model  \n",
    "end"
   ]
  },
  {
   "cell_type": "code",
   "execution_count": 12,
   "metadata": {},
   "outputs": [],
   "source": [
    "for n in 1:L^2\n",
    "    add_agent_single!(schelling; revenue=0, A_self=0, A_peer=0, strate = rand(0:1), overstress=0)\n",
    "end"
   ]
  },
  {
   "cell_type": "code",
   "execution_count": 19,
   "metadata": {},
   "outputs": [
    {
     "data": {
      "text/plain": [
       "1"
      ]
     },
     "metadata": {},
     "output_type": "display_data"
    }
   ],
   "source": [
    "schelling[1].id"
   ]
  },
  {
   "cell_type": "code",
   "execution_count": 20,
   "metadata": {},
   "outputs": [
    {
     "name": "stdout",
     "output_type": "stream",
     "text": [
      "agent=1\n",
      "agent=2\n",
      "agent=3\n",
      "agent=4\n",
      "agent=5\n",
      "agent=6\n",
      "agent=7\n",
      "agent=8\n",
      "agent=9\n"
     ]
    }
   ],
   "source": [
    "for n in 1:L^2\n",
    "    aa=schelling[n].id\n",
    "    println(\"agent=$aa\")\n",
    "end"
   ]
  },
  {
   "cell_type": "code",
   "execution_count": 22,
   "metadata": {},
   "outputs": [
    {
     "name": "stdout",
     "output_type": "stream",
     "text": [
      "agent=StandardABM with 9 agents of type SchellingAgent\n",
      " agents container: Dict\n",
      " space: GridSpaceSingle with size (3, 3), metric=manhattan, periodic=true\n",
      " scheduler: fastest\n",
      " properties: alpha, min_betray, Kmax, payMtx, lamda, theta[n]\n",
      "agent=StandardABM with 9 agents of type SchellingAgent\n",
      " agents container: Dict\n",
      " space: GridSpaceSingle with size (3, 3), metric=manhattan, periodic=true\n",
      " scheduler: fastest\n",
      " properties: alpha, min_betray, Kmax, payMtx, lamda, theta[n]\n",
      "agent=StandardABM with 9 agents of type SchellingAgent\n",
      " agents container: Dict\n",
      " space: GridSpaceSingle with size (3, 3), metric=manhattan, periodic=true\n",
      " scheduler: fastest\n",
      " properties: alpha, min_betray, Kmax, payMtx, lamda, theta[n]\n",
      "agent=StandardABM with 9 agents of type SchellingAgent\n",
      " agents container: Dict\n",
      " space: GridSpaceSingle with size (3, 3), metric=manhattan, periodic=true\n",
      " scheduler: fastest\n",
      " properties: alpha, min_betray, Kmax, payMtx, lamda, theta[n]\n",
      "agent=StandardABM with 9 agents of type SchellingAgent\n",
      " agents container: Dict\n",
      " space: GridSpaceSingle with size (3, 3), metric=manhattan, periodic=true\n",
      " scheduler: fastest\n",
      " properties: alpha, min_betray, Kmax, payMtx, lamda, theta[n]\n",
      "agent=StandardABM with 9 agents of type SchellingAgent\n",
      " agents container: Dict\n",
      " space: GridSpaceSingle with size (3, 3), metric=manhattan, periodic=true\n",
      " scheduler: fastest\n",
      " properties: alpha, min_betray, Kmax, payMtx, lamda, theta[n]\n",
      "agent=StandardABM with 9 agents of type SchellingAgent\n",
      " agents container: Dict\n",
      " space: GridSpaceSingle with size (3, 3), metric=manhattan, periodic=true\n",
      " scheduler: fastest\n",
      " properties: alpha, min_betray, Kmax, payMtx, lamda, theta[n]\n",
      "agent=StandardABM with 9 agents of type SchellingAgent\n",
      " agents container: Dict\n",
      " space: GridSpaceSingle with size (3, 3), metric=manhattan, periodic=true\n",
      " scheduler: fastest\n",
      " properties: alpha, min_betray, Kmax, payMtx, lamda, theta[n]\n",
      "agent=StandardABM with 9 agents of type SchellingAgent\n",
      " agents container: Dict\n",
      " space: GridSpaceSingle with size (3, 3), metric=manhattan, periodic=true\n",
      " scheduler: fastest\n",
      " properties: alpha, min_betray, Kmax, payMtx, lamda, theta[n]\n"
     ]
    }
   ],
   "source": [
    "for n in 1:L^2\n",
    "    println(\"agent=$schelling[n]\")\n",
    "end"
   ]
  },
  {
   "cell_type": "code",
   "execution_count": 23,
   "metadata": {},
   "outputs": [
    {
     "name": "stdout",
     "output_type": "stream",
     "text": [
      "agent=SchellingAgent(1, (3, 3), 2, 2, 1.0, 1, 0)\n",
      "agent=SchellingAgent(2, (3, 1), 0, 0, 4.8, 0, 0)\n",
      "agent=SchellingAgent(3, (2, 3), 0, 0, 3.5999999999999996, 0, 0)\n",
      "agent=SchellingAgent(4, (2, 2), 0, 0, 3.0, 1, 0)\n",
      "agent=SchellingAgent(5, (2, 1), 2, 1, 2.0, 1, 0)\n",
      "agent=SchellingAgent(6, (3, 2), 0, 0, 3.0, 1, 0)\n",
      "agent=SchellingAgent(7, (1, 1), 2, 1, 2.0, 1, 0)\n",
      "agent=SchellingAgent(8, (1, 3), 0, 0, 3.5999999999999996, 0, 0)\n",
      "agent=SchellingAgent(9, (1, 2), 0, 0, 3.0, 1, 0)\n"
     ]
    }
   ],
   "source": [
    "for n in 1:L^2\n",
    "    println(\"agent=$(schelling[n])\")\n",
    "end"
   ]
  },
  {
   "cell_type": "code",
   "execution_count": 21,
   "metadata": {},
   "outputs": [
    {
     "name": "stdout",
     "output_type": "stream",
     "text": [
      "agent=SchellingAgent(1, (3, 3), 2, 2, 1.0, 1, 0)\n",
      "agent=SchellingAgent(2, (3, 1), 0, 0, 4.8, 0, 0)\n",
      "agent=SchellingAgent(3, (2, 3), 0, 0, 3.5999999999999996, 0, 0)\n",
      "agent=SchellingAgent(4, (2, 2), 0, 0, 3.0, 1, 0)\n",
      "agent=SchellingAgent(5, (2, 1), 2, 1, 2.0, 1, 0)\n",
      "agent=SchellingAgent(6, (3, 2), 0, 0, 3.0, 1, 0)\n",
      "agent=SchellingAgent(7, (1, 1), 2, 1, 2.0, 1, 0)\n",
      "agent=SchellingAgent(8, (1, 3), 0, 0, 3.5999999999999996, 0, 0)\n",
      "agent=SchellingAgent(9, (1, 2), 0, 0, 3.0, 1, 0)\n"
     ]
    }
   ],
   "source": [
    "for n in 1:L^2\n",
    "    aa=schelling[n]\n",
    "    println(\"agent=$aa\")\n",
    "end"
   ]
  },
  {
   "cell_type": "code",
   "execution_count": 24,
   "metadata": {},
   "outputs": [
    {
     "data": {
      "text/plain": [
       "2"
      ]
     },
     "metadata": {},
     "output_type": "display_data"
    }
   ],
   "source": [
    "abmtime(schelling)"
   ]
  },
  {
   "cell_type": "code",
   "execution_count": 14,
   "metadata": {},
   "outputs": [
    {
     "data": {
      "text/plain": [
       "StandardABM with 16 agents of type SchellingAgent\n",
       " agents container: Dict\n",
       " space: GridSpaceSingle with size (4, 4), metric=manhattan, periodic=true\n",
       " scheduler: fastest\n",
       " properties: alpha, min_betray, Kmax, payMtx, lamda, theta"
      ]
     },
     "metadata": {},
     "output_type": "display_data"
    }
   ],
   "source": [
    "#step!(schelling, 3)"
   ]
  },
  {
   "cell_type": "code",
   "execution_count": 14,
   "metadata": {},
   "outputs": [
    {
     "data": {
      "text/plain": [
       "2"
      ]
     },
     "metadata": {},
     "output_type": "display_data"
    }
   ],
   "source": [
    "N = 2"
   ]
  },
  {
   "cell_type": "code",
   "execution_count": 19,
   "metadata": {},
   "outputs": [
    {
     "data": {
      "text/plain": [
       "2-element Vector{Tuple{Symbol, typeof(mean)}}:\n",
       " (:strate, Statistics.mean)\n",
       " (:overstress, Statistics.mean)"
      ]
     },
     "metadata": {},
     "output_type": "display_data"
    }
   ],
   "source": [
    "#adata = [(:strate, mean), (:overstress, mean)]"
   ]
  },
  {
   "cell_type": "code",
   "execution_count": 13,
   "metadata": {},
   "outputs": [
    {
     "data": {
      "text/plain": [
       "5-element Vector{Symbol}:\n",
       " :strate\n",
       " :revenue\n",
       " :A_peer\n",
       " :A_self\n",
       " :overstress"
      ]
     },
     "metadata": {},
     "output_type": "display_data"
    }
   ],
   "source": [
    "adata = [:strate, :revenue, :A_peer, :A_self, :overstress]"
   ]
  },
  {
   "cell_type": "code",
   "execution_count": 15,
   "metadata": {},
   "outputs": [
    {
     "name": "stdout",
     "output_type": "stream",
     "text": [
      "id=SchellingAgent(5, (2, 1), 0, 0, 0.0, 1, 0).id, strate=SchellingAgent(5, (2, 1), 0, 0, 0.0, 1, 0).strate, position=SchellingAgent(5, (2, 1), 0, 0, 0.0, 1, 0).pos\n",
      "nid=SchellingAgent(3, (2, 3), 0, 0, 0.0, 0, 0).id, nstrate=SchellingAgent(3, (2, 3), 0, 0, 0.0, 0, 0).strate, nposition=SchellingAgent(3, (2, 3), 0, 0, 0.0, 0, 0).pos\n",
      "pay0=0.0\n",
      "nid=SchellingAgent(7, (1, 1), 0, 0, 0.0, 1, 0).id, nstrate=SchellingAgent(7, (1, 1), 0, 0, 0.0, 1, 0).strate, nposition=SchellingAgent(7, (1, 1), 0, 0, 0.0, 1, 0).pos\n",
      "pay0=1.0\n",
      "nid=SchellingAgent(2, (3, 1), 0, 0, 0.0, 0, 0).id, nstrate=SchellingAgent(2, (3, 1), 0, 0, 0.0, 0, 0).strate, nposition=SchellingAgent(2, (3, 1), 0, 0, 0.0, 0, 0).pos\n",
      "pay0=0.0\n",
      "nid=SchellingAgent(4, (2, 2), 0, 0, 0.0, 1, 0).id, nstrate=SchellingAgent(4, (2, 2), 0, 0, 0.0, 1, 0).strate, nposition=SchellingAgent(4, (2, 2), 0, 0, 0.0, 1, 0).pos\n",
      "pay0=1.0\n",
      "payoff=2.0\n",
      "id2=SchellingAgent(5, (2, 1), 0, 0, 2.0, 1, 0).id, strate2=SchellingAgent(5, (2, 1), 0, 0, 2.0, 1, 0).strate, position2=SchellingAgent(5, (2, 1), 0, 0, 2.0, 1, 0).pos\n",
      "nid2=SchellingAgent(3, (2, 3), 0, 0, 0.0, 0, 0).id, nstrate2=SchellingAgent(3, (2, 3), 0, 0, 0.0, 0, 0).strate, nposition2=SchellingAgent(3, (2, 3), 0, 0, 0.0, 0, 0).pos, nreve=SchellingAgent(3, (2, 3), 0, 0, 0.0, 0, 0).revenue\n",
      "nid2=SchellingAgent(7, (1, 1), 0, 0, 0.0, 1, 0).id, nstrate2=SchellingAgent(7, (1, 1), 0, 0, 0.0, 1, 0).strate, nposition2=SchellingAgent(7, (1, 1), 0, 0, 0.0, 1, 0).pos, nreve=SchellingAgent(7, (1, 1), 0, 0, 0.0, 1, 0).revenue\n",
      "nid2=SchellingAgent(2, (3, 1), 0, 0, 0.0, 0, 0).id, nstrate2=SchellingAgent(2, (3, 1), 0, 0, 0.0, 0, 0).strate, nposition2=SchellingAgent(2, (3, 1), 0, 0, 0.0, 0, 0).pos, nreve=SchellingAgent(2, (3, 1), 0, 0, 0.0, 0, 0).revenue\n",
      "nid2=SchellingAgent(4, (2, 2), 0, 0, 0.0, 1, 0).id, nstrate2=SchellingAgent(4, (2, 2), 0, 0, 0.0, 1, 0).strate, nposition2=SchellingAgent(4, (2, 2), 0, 0, 0.0, 1, 0).pos, nreve=SchellingAgent(4, (2, 2), 0, 0, 0.0, 1, 0).revenue\n",
      "count_betray=2, bet2=true, pe2=false\n",
      "id=SchellingAgent(4, (2, 2), 0, 0, 0.0, 1, 0).id, strate=SchellingAgent(4, (2, 2), 0, 0, 0.0, 1, 0).strate, position=SchellingAgent(4, (2, 2), 0, 0, 0.0, 1, 0).pos\n",
      "nid=SchellingAgent(5, (2, 1), 1, 0, 2.0, 1, 0).id, nstrate=SchellingAgent(5, (2, 1), 1, 0, 2.0, 1, 0).strate, nposition=SchellingAgent(5, (2, 1), 1, 0, 2.0, 1, 0).pos\n",
      "pay0=1.0\n",
      "nid=SchellingAgent(9, (1, 2), 0, 0, 0.0, 1, 0).id, nstrate=SchellingAgent(9, (1, 2), 0, 0, 0.0, 1, 0).strate, nposition=SchellingAgent(9, (1, 2), 0, 0, 0.0, 1, 0).pos\n",
      "pay0=1.0\n",
      "nid=SchellingAgent(6, (3, 2), 0, 0, 0.0, 1, 0).id, nstrate=SchellingAgent(6, (3, 2), 0, 0, 0.0, 1, 0).strate, nposition=SchellingAgent(6, (3, 2), 0, 0, 0.0, 1, 0).pos\n",
      "pay0=1.0\n",
      "nid=SchellingAgent(3, (2, 3), 0, 0, 0.0, 0, 0).id, nstrate=SchellingAgent(3, (2, 3), 0, 0, 0.0, 0, 0).strate, nposition=SchellingAgent(3, (2, 3), 0, 0, 0.0, 0, 0).pos\n",
      "pay0=0.0\n",
      "payoff=3.0\n",
      "id2=SchellingAgent(4, (2, 2), 0, 0, 3.0, 1, 0).id, strate2=SchellingAgent(4, (2, 2), 0, 0, 3.0, 1, 0).strate, position2=SchellingAgent(4, (2, 2), 0, 0, 3.0, 1, 0).pos\n",
      "nid2=SchellingAgent(5, (2, 1), 1, 0, 2.0, 1, 0).id, nstrate2=SchellingAgent(5, (2, 1), 1, 0, 2.0, 1, 0).strate, nposition2=SchellingAgent(5, (2, 1), 1, 0, 2.0, 1, 0).pos, nreve=SchellingAgent(5, (2, 1), 1, 0, 2.0, 1, 0).revenue\n",
      "nid2=SchellingAgent(9, (1, 2), 0, 0, 0.0, 1, 0).id, nstrate2=SchellingAgent(9, (1, 2), 0, 0, 0.0, 1, 0).strate, nposition2=SchellingAgent(9, (1, 2), 0, 0, 0.0, 1, 0).pos, nreve=SchellingAgent(9, (1, 2), 0, 0, 0.0, 1, 0).revenue\n",
      "nid2=SchellingAgent(6, (3, 2), 0, 0, 0.0, 1, 0).id, nstrate2=SchellingAgent(6, (3, 2), 0, 0, 0.0, 1, 0).strate, nposition2=SchellingAgent(6, (3, 2), 0, 0, 0.0, 1, 0).pos, nreve=SchellingAgent(6, (3, 2), 0, 0, 0.0, 1, 0).revenue\n",
      "nid2=SchellingAgent(3, (2, 3), 0, 0, 0.0, 0, 0).id, nstrate2=SchellingAgent(3, (2, 3), 0, 0, 0.0, 0, 0).strate, nposition2=SchellingAgent(3, (2, 3), 0, 0, 0.0, 0, 0).pos, nreve=SchellingAgent(3, (2, 3), 0, 0, 0.0, 0, 0).revenue\n",
      "count_betray=1, bet2=false, pe2=false\n",
      "id=SchellingAgent(6, (3, 2), 0, 0, 0.0, 1, 0).id, strate=SchellingAgent(6, (3, 2), 0, 0, 0.0, 1, 0).strate, position=SchellingAgent(6, (3, 2), 0, 0, 0.0, 1, 0).pos\n",
      "nid=SchellingAgent(2, (3, 1), 0, 0, 0.0, 0, 0).id, nstrate=SchellingAgent(2, (3, 1), 0, 0, 0.0, 0, 0).strate, nposition=SchellingAgent(2, (3, 1), 0, 0, 0.0, 0, 0).pos\n",
      "pay0=0.0\n",
      "nid=SchellingAgent(4, (2, 2), 0, 0, 3.0, 1, 0).id, nstrate=SchellingAgent(4, (2, 2), 0, 0, 3.0, 1, 0).strate, nposition=SchellingAgent(4, (2, 2), 0, 0, 3.0, 1, 0).pos\n",
      "pay0=1.0\n",
      "nid=SchellingAgent(9, (1, 2), 0, 0, 0.0, 1, 0).id, nstrate=SchellingAgent(9, (1, 2), 0, 0, 0.0, 1, 0).strate, nposition=SchellingAgent(9, (1, 2), 0, 0, 0.0, 1, 0).pos\n",
      "pay0=1.0\n",
      "nid=SchellingAgent(1, (3, 3), 0, 0, 0.0, 1, 0).id, nstrate=SchellingAgent(1, (3, 3), 0, 0, 0.0, 1, 0).strate, nposition=SchellingAgent(1, (3, 3), 0, 0, 0.0, 1, 0).pos\n",
      "pay0=1.0\n",
      "payoff=3.0\n",
      "id2=SchellingAgent(6, (3, 2), 0, 0, 3.0, 1, 0).id, strate2=SchellingAgent(6, (3, 2), 0, 0, 3.0, 1, 0).strate, position2=SchellingAgent(6, (3, 2), 0, 0, 3.0, 1, 0).pos\n",
      "nid2=SchellingAgent(2, (3, 1), 0, 0, 0.0, 0, 0).id, nstrate2=SchellingAgent(2, (3, 1), 0, 0, 0.0, 0, 0).strate, nposition2=SchellingAgent(2, (3, 1), 0, 0, 0.0, 0, 0).pos, nreve=SchellingAgent(2, (3, 1), 0, 0, 0.0, 0, 0).revenue\n",
      "nid2=SchellingAgent(4, (2, 2), 0, 0, 3.0, 1, 0).id, nstrate2=SchellingAgent(4, (2, 2), 0, 0, 3.0, 1, 0).strate, nposition2=SchellingAgent(4, (2, 2), 0, 0, 3.0, 1, 0).pos, nreve=SchellingAgent(4, (2, 2), 0, 0, 3.0, 1, 0).revenue\n",
      "nid2=SchellingAgent(9, (1, 2), 0, 0, 0.0, 1, 0).id, nstrate2=SchellingAgent(9, (1, 2), 0, 0, 0.0, 1, 0).strate, nposition2=SchellingAgent(9, (1, 2), 0, 0, 0.0, 1, 0).pos, nreve=SchellingAgent(9, (1, 2), 0, 0, 0.0, 1, 0).revenue\n",
      "nid2=SchellingAgent(1, (3, 3), 0, 0, 0.0, 1, 0).id, nstrate2=SchellingAgent(1, (3, 3), 0, 0, 0.0, 1, 0).strate, nposition2=SchellingAgent(1, (3, 3), 0, 0, 0.0, 1, 0).pos, nreve=SchellingAgent(1, (3, 3), 0, 0, 0.0, 1, 0).revenue\n",
      "count_betray=1, bet2=false, pe2=false\n",
      "id=SchellingAgent(7, (1, 1), 0, 0, 0.0, 1, 0).id, strate=SchellingAgent(7, (1, 1), 0, 0, 0.0, 1, 0).strate, position=SchellingAgent(7, (1, 1), 0, 0, 0.0, 1, 0).pos\n",
      "nid=SchellingAgent(8, (1, 3), 0, 0, 0.0, 0, 0).id, nstrate=SchellingAgent(8, (1, 3), 0, 0, 0.0, 0, 0).strate, nposition=SchellingAgent(8, (1, 3), 0, 0, 0.0, 0, 0).pos\n",
      "pay0=0.0\n",
      "nid=SchellingAgent(2, (3, 1), 0, 0, 0.0, 0, 0).id, nstrate=SchellingAgent(2, (3, 1), 0, 0, 0.0, 0, 0).strate, nposition=SchellingAgent(2, (3, 1), 0, 0, 0.0, 0, 0).pos\n",
      "pay0=0.0\n",
      "nid=SchellingAgent(5, (2, 1), 1, 0, 2.0, 1, 0).id, nstrate=SchellingAgent(5, (2, 1), 1, 0, 2.0, 1, 0).strate, nposition=SchellingAgent(5, (2, 1), 1, 0, 2.0, 1, 0).pos\n",
      "pay0=1.0\n",
      "nid=SchellingAgent(9, (1, 2), 0, 0, 0.0, 1, 0).id, nstrate=SchellingAgent(9, (1, 2), 0, 0, 0.0, 1, 0).strate, nposition=SchellingAgent(9, (1, 2), 0, 0, 0.0, 1, 0).pos\n",
      "pay0=1.0\n",
      "payoff=2.0\n",
      "id2=SchellingAgent(7, (1, 1), 0, 0, 2.0, 1, 0).id, strate2=SchellingAgent(7, (1, 1), 0, 0, 2.0, 1, 0).strate, position2=SchellingAgent(7, (1, 1), 0, 0, 2.0, 1, 0).pos\n",
      "nid2=SchellingAgent(8, (1, 3), 0, 0, 0.0, 0, 0).id, nstrate2=SchellingAgent(8, (1, 3), 0, 0, 0.0, 0, 0).strate, nposition2=SchellingAgent(8, (1, 3), 0, 0, 0.0, 0, 0).pos, nreve=SchellingAgent(8, (1, 3), 0, 0, 0.0, 0, 0).revenue\n",
      "nid2=SchellingAgent(2, (3, 1), 0, 0, 0.0, 0, 0).id, nstrate2=SchellingAgent(2, (3, 1), 0, 0, 0.0, 0, 0).strate, nposition2=SchellingAgent(2, (3, 1), 0, 0, 0.0, 0, 0).pos, nreve=SchellingAgent(2, (3, 1), 0, 0, 0.0, 0, 0).revenue\n",
      "nid2=SchellingAgent(5, (2, 1), 1, 0, 2.0, 1, 0).id, nstrate2=SchellingAgent(5, (2, 1), 1, 0, 2.0, 1, 0).strate, nposition2=SchellingAgent(5, (2, 1), 1, 0, 2.0, 1, 0).pos, nreve=SchellingAgent(5, (2, 1), 1, 0, 2.0, 1, 0).revenue\n",
      "nid2=SchellingAgent(9, (1, 2), 0, 0, 0.0, 1, 0).id, nstrate2=SchellingAgent(9, (1, 2), 0, 0, 0.0, 1, 0).strate, nposition2=SchellingAgent(9, (1, 2), 0, 0, 0.0, 1, 0).pos, nreve=SchellingAgent(9, (1, 2), 0, 0, 0.0, 1, 0).revenue\n",
      "count_betray=2, bet2=true, pe2=false\n",
      "id=SchellingAgent(2, (3, 1), 0, 0, 0.0, 0, 0).id, strate=SchellingAgent(2, (3, 1), 0, 0, 0.0, 0, 0).strate, position=SchellingAgent(2, (3, 1), 0, 0, 0.0, 0, 0).pos\n",
      "nid=SchellingAgent(1, (3, 3), 0, 0, 0.0, 1, 0).id, nstrate=SchellingAgent(1, (3, 3), 0, 0, 0.0, 1, 0).strate, nposition=SchellingAgent(1, (3, 3), 0, 0, 0.0, 1, 0).pos\n",
      "pay0=1.2\n",
      "nid=SchellingAgent(5, (2, 1), 1, 0, 2.0, 1, 0).id, nstrate=SchellingAgent(5, (2, 1), 1, 0, 2.0, 1, 0).strate, nposition=SchellingAgent(5, (2, 1), 1, 0, 2.0, 1, 0).pos\n",
      "pay0=1.2\n",
      "nid=SchellingAgent(7, (1, 1), 1, 0, 2.0, 1, 0).id, nstrate=SchellingAgent(7, (1, 1), 1, 0, 2.0, 1, 0).strate, nposition=SchellingAgent(7, (1, 1), 1, 0, 2.0, 1, 0).pos\n",
      "pay0=1.2\n",
      "nid=SchellingAgent(6, (3, 2), 0, 0, 3.0, 1, 0).id, nstrate=SchellingAgent(6, (3, 2), 0, 0, 3.0, 1, 0).strate, nposition=SchellingAgent(6, (3, 2), 0, 0, 3.0, 1, 0).pos\n",
      "pay0=1.2\n",
      "payoff=4.8\n",
      "id2=SchellingAgent(2, (3, 1), 0, 0, 4.8, 0, 0).id, strate2=SchellingAgent(2, (3, 1), 0, 0, 4.8, 0, 0).strate, position2=SchellingAgent(2, (3, 1), 0, 0, 4.8, 0, 0).pos\n",
      "nid2=SchellingAgent(1, (3, 3), 0, 0, 0.0, 1, 0).id, nstrate2=SchellingAgent(1, (3, 3), 0, 0, 0.0, 1, 0).strate, nposition2=SchellingAgent(1, (3, 3), 0, 0, 0.0, 1, 0).pos, nreve=SchellingAgent(1, (3, 3), 0, 0, 0.0, 1, 0).revenue\n",
      "nid2=SchellingAgent(5, (2, 1), 1, 0, 2.0, 1, 0).id, nstrate2=SchellingAgent(5, (2, 1), 1, 0, 2.0, 1, 0).strate, nposition2=SchellingAgent(5, (2, 1), 1, 0, 2.0, 1, 0).pos, nreve=SchellingAgent(5, (2, 1), 1, 0, 2.0, 1, 0).revenue\n",
      "nid2=SchellingAgent(7, (1, 1), 1, 0, 2.0, 1, 0).id, nstrate2=SchellingAgent(7, (1, 1), 1, 0, 2.0, 1, 0).strate, nposition2=SchellingAgent(7, (1, 1), 1, 0, 2.0, 1, 0).pos, nreve=SchellingAgent(7, (1, 1), 1, 0, 2.0, 1, 0).revenue\n",
      "nid2=SchellingAgent(6, (3, 2), 0, 0, 3.0, 1, 0).id, nstrate2=SchellingAgent(6, (3, 2), 0, 0, 3.0, 1, 0).strate, nposition2=SchellingAgent(6, (3, 2), 0, 0, 3.0, 1, 0).pos, nreve=SchellingAgent(6, (3, 2), 0, 0, 3.0, 1, 0).revenue\n",
      "count_betray=0, bet2=false, pe2=false\n",
      "id=SchellingAgent(9, (1, 2), 0, 0, 0.0, 1, 0).id, strate=SchellingAgent(9, (1, 2), 0, 0, 0.0, 1, 0).strate, position=SchellingAgent(9, (1, 2), 0, 0, 0.0, 1, 0).pos\n",
      "nid=SchellingAgent(7, (1, 1), 1, 0, 2.0, 1, 0).id, nstrate=SchellingAgent(7, (1, 1), 1, 0, 2.0, 1, 0).strate, nposition=SchellingAgent(7, (1, 1), 1, 0, 2.0, 1, 0).pos\n",
      "pay0=1.0\n",
      "nid=SchellingAgent(6, (3, 2), 0, 0, 3.0, 1, 0).id, nstrate=SchellingAgent(6, (3, 2), 0, 0, 3.0, 1, 0).strate, nposition=SchellingAgent(6, (3, 2), 0, 0, 3.0, 1, 0).pos\n",
      "pay0=1.0\n",
      "nid=SchellingAgent(4, (2, 2), 0, 0, 3.0, 1, 0).id, nstrate=SchellingAgent(4, (2, 2), 0, 0, 3.0, 1, 0).strate, nposition=SchellingAgent(4, (2, 2), 0, 0, 3.0, 1, 0).pos\n",
      "pay0=1.0\n",
      "nid=SchellingAgent(8, (1, 3), 0, 0, 0.0, 0, 0).id, nstrate=SchellingAgent(8, (1, 3), 0, 0, 0.0, 0, 0).strate, nposition=SchellingAgent(8, (1, 3), 0, 0, 0.0, 0, 0).pos\n",
      "pay0=0.0\n",
      "payoff=3.0\n",
      "id2=SchellingAgent(9, (1, 2), 0, 0, 3.0, 1, 0).id, strate2=SchellingAgent(9, (1, 2), 0, 0, 3.0, 1, 0).strate, position2=SchellingAgent(9, (1, 2), 0, 0, 3.0, 1, 0).pos\n",
      "nid2=SchellingAgent(7, (1, 1), 1, 0, 2.0, 1, 0).id, nstrate2=SchellingAgent(7, (1, 1), 1, 0, 2.0, 1, 0).strate, nposition2=SchellingAgent(7, (1, 1), 1, 0, 2.0, 1, 0).pos, nreve=SchellingAgent(7, (1, 1), 1, 0, 2.0, 1, 0).revenue\n",
      "nid2=SchellingAgent(6, (3, 2), 0, 0, 3.0, 1, 0).id, nstrate2=SchellingAgent(6, (3, 2), 0, 0, 3.0, 1, 0).strate, nposition2=SchellingAgent(6, (3, 2), 0, 0, 3.0, 1, 0).pos, nreve=SchellingAgent(6, (3, 2), 0, 0, 3.0, 1, 0).revenue\n",
      "nid2=SchellingAgent(4, (2, 2), 0, 0, 3.0, 1, 0).id, nstrate2=SchellingAgent(4, (2, 2), 0, 0, 3.0, 1, 0).strate, nposition2=SchellingAgent(4, (2, 2), 0, 0, 3.0, 1, 0).pos, nreve=SchellingAgent(4, (2, 2), 0, 0, 3.0, 1, 0).revenue\n",
      "nid2=SchellingAgent(8, (1, 3), 0, 0, 0.0, 0, 0).id, nstrate2=SchellingAgent(8, (1, 3), 0, 0, 0.0, 0, 0).strate, nposition2=SchellingAgent(8, (1, 3), 0, 0, 0.0, 0, 0).pos, nreve=SchellingAgent(8, (1, 3), 0, 0, 0.0, 0, 0).revenue\n",
      "count_betray=1, bet2=false, pe2=false\n",
      "id=SchellingAgent(8, (1, 3), 0, 0, 0.0, 0, 0).id, strate=SchellingAgent(8, (1, 3), 0, 0, 0.0, 0, 0).strate, position=SchellingAgent(8, (1, 3), 0, 0, 0.0, 0, 0).pos\n",
      "nid=SchellingAgent(9, (1, 2), 0, 0, 3.0, 1, 0).id, nstrate=SchellingAgent(9, (1, 2), 0, 0, 3.0, 1, 0).strate, nposition=SchellingAgent(9, (1, 2), 0, 0, 3.0, 1, 0).pos\n",
      "pay0=1.2\n",
      "nid=SchellingAgent(1, (3, 3), 0, 0, 0.0, 1, 0).id, nstrate=SchellingAgent(1, (3, 3), 0, 0, 0.0, 1, 0).strate, nposition=SchellingAgent(1, (3, 3), 0, 0, 0.0, 1, 0).pos\n",
      "pay0=1.2\n",
      "nid=SchellingAgent(3, (2, 3), 0, 0, 0.0, 0, 0).id, nstrate=SchellingAgent(3, (2, 3), 0, 0, 0.0, 0, 0).strate, nposition=SchellingAgent(3, (2, 3), 0, 0, 0.0, 0, 0).pos\n",
      "pay0=0.0\n",
      "nid=SchellingAgent(7, (1, 1), 1, 0, 2.0, 1, 0).id, nstrate=SchellingAgent(7, (1, 1), 1, 0, 2.0, 1, 0).strate, nposition=SchellingAgent(7, (1, 1), 1, 0, 2.0, 1, 0).pos\n",
      "pay0=1.2\n",
      "payoff=3.5999999999999996\n",
      "id2=SchellingAgent(8, (1, 3), 0, 0, 3.5999999999999996, 0, 0).id, strate2=SchellingAgent(8, (1, 3), 0, 0, 3.5999999999999996, 0, 0).strate, position2=SchellingAgent(8, (1, 3), 0, 0, 3.5999999999999996, 0, 0).pos\n",
      "nid2=SchellingAgent(9, (1, 2), 0, 0, 3.0, 1, 0).id, nstrate2=SchellingAgent(9, (1, 2), 0, 0, 3.0, 1, 0).strate, nposition2=SchellingAgent(9, (1, 2), 0, 0, 3.0, 1, 0).pos, nreve=SchellingAgent(9, (1, 2), 0, 0, 3.0, 1, 0).revenue\n",
      "nid2=SchellingAgent(1, (3, 3), 0, 0, 0.0, 1, 0).id, nstrate2=SchellingAgent(1, (3, 3), 0, 0, 0.0, 1, 0).strate, nposition2=SchellingAgent(1, (3, 3), 0, 0, 0.0, 1, 0).pos, nreve=SchellingAgent(1, (3, 3), 0, 0, 0.0, 1, 0).revenue\n",
      "nid2=SchellingAgent(3, (2, 3), 0, 0, 0.0, 0, 0).id, nstrate2=SchellingAgent(3, (2, 3), 0, 0, 0.0, 0, 0).strate, nposition2=SchellingAgent(3, (2, 3), 0, 0, 0.0, 0, 0).pos, nreve=SchellingAgent(3, (2, 3), 0, 0, 0.0, 0, 0).revenue\n",
      "nid2=SchellingAgent(7, (1, 1), 1, 0, 2.0, 1, 0).id, nstrate2=SchellingAgent(7, (1, 1), 1, 0, 2.0, 1, 0).strate, nposition2=SchellingAgent(7, (1, 1), 1, 0, 2.0, 1, 0).pos, nreve=SchellingAgent(7, (1, 1), 1, 0, 2.0, 1, 0).revenue\n",
      "count_betray=1, bet2=false, pe2=false\n",
      "id=SchellingAgent(3, (2, 3), 0, 0, 0.0, 0, 0).id, strate=SchellingAgent(3, (2, 3), 0, 0, 0.0, 0, 0).strate, position=SchellingAgent(3, (2, 3), 0, 0, 0.0, 0, 0).pos\n",
      "nid=SchellingAgent(4, (2, 2), 0, 0, 3.0, 1, 0).id, nstrate=SchellingAgent(4, (2, 2), 0, 0, 3.0, 1, 0).strate, nposition=SchellingAgent(4, (2, 2), 0, 0, 3.0, 1, 0).pos\n",
      "pay0=1.2\n",
      "nid=SchellingAgent(8, (1, 3), 0, 0, 3.5999999999999996, 0, 0).id, nstrate=SchellingAgent(8, (1, 3), 0, 0, 3.5999999999999996, 0, 0).strate, nposition=SchellingAgent(8, (1, 3), 0, 0, 3.5999999999999996, 0, 0).pos\n",
      "pay0=0.0\n",
      "nid=SchellingAgent(1, (3, 3), 0, 0, 0.0, 1, 0).id, nstrate=SchellingAgent(1, (3, 3), 0, 0, 0.0, 1, 0).strate, nposition=SchellingAgent(1, (3, 3), 0, 0, 0.0, 1, 0).pos\n",
      "pay0=1.2\n",
      "nid=SchellingAgent(5, (2, 1), 1, 0, 2.0, 1, 0).id, nstrate=SchellingAgent(5, (2, 1), 1, 0, 2.0, 1, 0).strate, nposition=SchellingAgent(5, (2, 1), 1, 0, 2.0, 1, 0).pos\n",
      "pay0=1.2\n",
      "payoff=3.5999999999999996\n",
      "id2=SchellingAgent(3, (2, 3), 0, 0, 3.5999999999999996, 0, 0).id, strate2=SchellingAgent(3, (2, 3), 0, 0, 3.5999999999999996, 0, 0).strate, position2=SchellingAgent(3, (2, 3), 0, 0, 3.5999999999999996, 0, 0).pos\n",
      "nid2=SchellingAgent(4, (2, 2), 0, 0, 3.0, 1, 0).id, nstrate2=SchellingAgent(4, (2, 2), 0, 0, 3.0, 1, 0).strate, nposition2=SchellingAgent(4, (2, 2), 0, 0, 3.0, 1, 0).pos, nreve=SchellingAgent(4, (2, 2), 0, 0, 3.0, 1, 0).revenue\n",
      "nid2=SchellingAgent(8, (1, 3), 0, 0, 3.5999999999999996, 0, 0).id, nstrate2=SchellingAgent(8, (1, 3), 0, 0, 3.5999999999999996, 0, 0).strate, nposition2=SchellingAgent(8, (1, 3), 0, 0, 3.5999999999999996, 0, 0).pos, nreve=SchellingAgent(8, (1, 3), 0, 0, 3.5999999999999996, 0, 0).revenue\n",
      "nid2=SchellingAgent(1, (3, 3), 0, 0, 0.0, 1, 0).id, nstrate2=SchellingAgent(1, (3, 3), 0, 0, 0.0, 1, 0).strate, nposition2=SchellingAgent(1, (3, 3), 0, 0, 0.0, 1, 0).pos, nreve=SchellingAgent(1, (3, 3), 0, 0, 0.0, 1, 0).revenue\n",
      "nid2=SchellingAgent(5, (2, 1), 1, 0, 2.0, 1, 0).id, nstrate2=SchellingAgent(5, (2, 1), 1, 0, 2.0, 1, 0).strate, nposition2=SchellingAgent(5, (2, 1), 1, 0, 2.0, 1, 0).pos, nreve=SchellingAgent(5, (2, 1), 1, 0, 2.0, 1, 0).revenue\n",
      "count_betray=1, bet2=false, pe2=false\n",
      "id=SchellingAgent(1, (3, 3), 0, 0, 0.0, 1, 0).id, strate=SchellingAgent(1, (3, 3), 0, 0, 0.0, 1, 0).strate, position=SchellingAgent(1, (3, 3), 0, 0, 0.0, 1, 0).pos\n",
      "nid=SchellingAgent(6, (3, 2), 0, 0, 3.0, 1, 0).id, nstrate=SchellingAgent(6, (3, 2), 0, 0, 3.0, 1, 0).strate, nposition=SchellingAgent(6, (3, 2), 0, 0, 3.0, 1, 0).pos\n",
      "pay0=1.0\n",
      "nid=SchellingAgent(3, (2, 3), 0, 0, 3.5999999999999996, 0, 0).id, nstrate=SchellingAgent(3, (2, 3), 0, 0, 3.5999999999999996, 0, 0).strate, nposition=SchellingAgent(3, (2, 3), 0, 0, 3.5999999999999996, 0, 0).pos\n",
      "pay0=0.0\n",
      "nid=SchellingAgent(8, (1, 3), 0, 0, 3.5999999999999996, 0, 0).id, nstrate=SchellingAgent(8, (1, 3), 0, 0, 3.5999999999999996, 0, 0).strate, nposition=SchellingAgent(8, (1, 3), 0, 0, 3.5999999999999996, 0, 0).pos\n",
      "pay0=0.0\n",
      "nid=SchellingAgent(2, (3, 1), 0, 0, 4.8, 0, 0).id, nstrate=SchellingAgent(2, (3, 1), 0, 0, 4.8, 0, 0).strate, nposition=SchellingAgent(2, (3, 1), 0, 0, 4.8, 0, 0).pos\n",
      "pay0=0.0\n",
      "payoff=1.0\n",
      "id2=SchellingAgent(1, (3, 3), 0, 0, 1.0, 1, 0).id, strate2=SchellingAgent(1, (3, 3), 0, 0, 1.0, 1, 0).strate, position2=SchellingAgent(1, (3, 3), 0, 0, 1.0, 1, 0).pos\n",
      "nid2=SchellingAgent(6, (3, 2), 0, 0, 3.0, 1, 0).id, nstrate2=SchellingAgent(6, (3, 2), 0, 0, 3.0, 1, 0).strate, nposition2=SchellingAgent(6, (3, 2), 0, 0, 3.0, 1, 0).pos, nreve=SchellingAgent(6, (3, 2), 0, 0, 3.0, 1, 0).revenue\n",
      "nid2=SchellingAgent(3, (2, 3), 0, 0, 3.5999999999999996, 0, 0).id, nstrate2=SchellingAgent(3, (2, 3), 0, 0, 3.5999999999999996, 0, 0).strate, nposition2=SchellingAgent(3, (2, 3), 0, 0, 3.5999999999999996, 0, 0).pos, nreve=SchellingAgent(3, (2, 3), 0, 0, 3.5999999999999996, 0, 0).revenue\n",
      "nid2=SchellingAgent(8, (1, 3), 0, 0, 3.5999999999999996, 0, 0).id, nstrate2=SchellingAgent(8, (1, 3), 0, 0, 3.5999999999999996, 0, 0).strate, nposition2=SchellingAgent(8, (1, 3), 0, 0, 3.5999999999999996, 0, 0).pos, nreve=SchellingAgent(8, (1, 3), 0, 0, 3.5999999999999996, 0, 0).revenue\n",
      "nid2=SchellingAgent(2, (3, 1), 0, 0, 4.8, 0, 0).id, nstrate2=SchellingAgent(2, (3, 1), 0, 0, 4.8, 0, 0).strate, nposition2=SchellingAgent(2, (3, 1), 0, 0, 4.8, 0, 0).pos, nreve=SchellingAgent(2, (3, 1), 0, 0, 4.8, 0, 0).revenue\n",
      "count_betray=3, bet2=true, pe2=true\n",
      "id=SchellingAgent(5, (2, 1), 1, 0, 2.0, 1, 0).id, strate=SchellingAgent(5, (2, 1), 1, 0, 2.0, 1, 0).strate, position=SchellingAgent(5, (2, 1), 1, 0, 2.0, 1, 0).pos\n",
      "nid=SchellingAgent(3, (2, 3), 0, 0, 3.5999999999999996, 0, 0).id, nstrate=SchellingAgent(3, (2, 3), 0, 0, 3.5999999999999996, 0, 0).strate, nposition=SchellingAgent(3, (2, 3), 0, 0, 3.5999999999999996, 0, 0).pos\n",
      "pay0=0.0\n",
      "nid=SchellingAgent(7, (1, 1), 1, 0, 2.0, 1, 0).id, nstrate=SchellingAgent(7, (1, 1), 1, 0, 2.0, 1, 0).strate, nposition=SchellingAgent(7, (1, 1), 1, 0, 2.0, 1, 0).pos\n",
      "pay0=1.0\n",
      "nid=SchellingAgent(2, (3, 1), 0, 0, 4.8, 0, 0).id, nstrate=SchellingAgent(2, (3, 1), 0, 0, 4.8, 0, 0).strate, nposition=SchellingAgent(2, (3, 1), 0, 0, 4.8, 0, 0).pos\n",
      "pay0=0.0\n",
      "nid=SchellingAgent(4, (2, 2), 0, 0, 3.0, 1, 0).id, nstrate=SchellingAgent(4, (2, 2), 0, 0, 3.0, 1, 0).strate, nposition=SchellingAgent(4, (2, 2), 0, 0, 3.0, 1, 0).pos\n",
      "pay0=1.0\n",
      "payoff=2.0\n",
      "id2=SchellingAgent(5, (2, 1), 1, 0, 2.0, 1, 0).id, strate2=SchellingAgent(5, (2, 1), 1, 0, 2.0, 1, 0).strate, position2=SchellingAgent(5, (2, 1), 1, 0, 2.0, 1, 0).pos\n",
      "nid2=SchellingAgent(3, (2, 3), 0, 0, 3.5999999999999996, 0, 0).id, nstrate2=SchellingAgent(3, (2, 3), 0, 0, 3.5999999999999996, 0, 0).strate, nposition2=SchellingAgent(3, (2, 3), 0, 0, 3.5999999999999996, 0, 0).pos, nreve=SchellingAgent(3, (2, 3), 0, 0, 3.5999999999999996, 0, 0).revenue\n",
      "nid2=SchellingAgent(7, (1, 1), 1, 0, 2.0, 1, 0).id, nstrate2=SchellingAgent(7, (1, 1), 1, 0, 2.0, 1, 0).strate, nposition2=SchellingAgent(7, (1, 1), 1, 0, 2.0, 1, 0).pos, nreve=SchellingAgent(7, (1, 1), 1, 0, 2.0, 1, 0).revenue\n",
      "nid2=SchellingAgent(2, (3, 1), 0, 0, 4.8, 0, 0).id, nstrate2=SchellingAgent(2, (3, 1), 0, 0, 4.8, 0, 0).strate, nposition2=SchellingAgent(2, (3, 1), 0, 0, 4.8, 0, 0).pos, nreve=SchellingAgent(2, (3, 1), 0, 0, 4.8, 0, 0).revenue\n",
      "nid2=SchellingAgent(4, (2, 2), 0, 0, 3.0, 1, 0).id, nstrate2=SchellingAgent(4, (2, 2), 0, 0, 3.0, 1, 0).strate, nposition2=SchellingAgent(4, (2, 2), 0, 0, 3.0, 1, 0).pos, nreve=SchellingAgent(4, (2, 2), 0, 0, 3.0, 1, 0).revenue\n",
      "count_betray=2, bet2=true, pe2=true\n",
      "id=SchellingAgent(4, (2, 2), 0, 0, 3.0, 1, 0).id, strate=SchellingAgent(4, (2, 2), 0, 0, 3.0, 1, 0).strate, position=SchellingAgent(4, (2, 2), 0, 0, 3.0, 1, 0).pos\n",
      "nid=SchellingAgent(5, (2, 1), 2, 1, 2.0, 1, 0).id, nstrate=SchellingAgent(5, (2, 1), 2, 1, 2.0, 1, 0).strate, nposition=SchellingAgent(5, (2, 1), 2, 1, 2.0, 1, 0).pos\n",
      "pay0=1.0\n",
      "nid=SchellingAgent(9, (1, 2), 0, 0, 3.0, 1, 0).id, nstrate=SchellingAgent(9, (1, 2), 0, 0, 3.0, 1, 0).strate, nposition=SchellingAgent(9, (1, 2), 0, 0, 3.0, 1, 0).pos\n",
      "pay0=1.0\n",
      "nid=SchellingAgent(6, (3, 2), 0, 0, 3.0, 1, 0).id, nstrate=SchellingAgent(6, (3, 2), 0, 0, 3.0, 1, 0).strate, nposition=SchellingAgent(6, (3, 2), 0, 0, 3.0, 1, 0).pos\n",
      "pay0=1.0\n",
      "nid=SchellingAgent(3, (2, 3), 0, 0, 3.5999999999999996, 0, 0).id, nstrate=SchellingAgent(3, (2, 3), 0, 0, 3.5999999999999996, 0, 0).strate, nposition=SchellingAgent(3, (2, 3), 0, 0, 3.5999999999999996, 0, 0).pos\n",
      "pay0=0.0\n",
      "payoff=3.0\n",
      "id2=SchellingAgent(4, (2, 2), 0, 0, 3.0, 1, 0).id, strate2=SchellingAgent(4, (2, 2), 0, 0, 3.0, 1, 0).strate, position2=SchellingAgent(4, (2, 2), 0, 0, 3.0, 1, 0).pos\n",
      "nid2=SchellingAgent(5, (2, 1), 2, 1, 2.0, 1, 0).id, nstrate2=SchellingAgent(5, (2, 1), 2, 1, 2.0, 1, 0).strate, nposition2=SchellingAgent(5, (2, 1), 2, 1, 2.0, 1, 0).pos, nreve=SchellingAgent(5, (2, 1), 2, 1, 2.0, 1, 0).revenue\n",
      "nid2=SchellingAgent(9, (1, 2), 0, 0, 3.0, 1, 0).id, nstrate2=SchellingAgent(9, (1, 2), 0, 0, 3.0, 1, 0).strate, nposition2=SchellingAgent(9, (1, 2), 0, 0, 3.0, 1, 0).pos, nreve=SchellingAgent(9, (1, 2), 0, 0, 3.0, 1, 0).revenue\n",
      "nid2=SchellingAgent(6, (3, 2), 0, 0, 3.0, 1, 0).id, nstrate2=SchellingAgent(6, (3, 2), 0, 0, 3.0, 1, 0).strate, nposition2=SchellingAgent(6, (3, 2), 0, 0, 3.0, 1, 0).pos, nreve=SchellingAgent(6, (3, 2), 0, 0, 3.0, 1, 0).revenue\n",
      "nid2=SchellingAgent(3, (2, 3), 0, 0, 3.5999999999999996, 0, 0).id, nstrate2=SchellingAgent(3, (2, 3), 0, 0, 3.5999999999999996, 0, 0).strate, nposition2=SchellingAgent(3, (2, 3), 0, 0, 3.5999999999999996, 0, 0).pos, nreve=SchellingAgent(3, (2, 3), 0, 0, 3.5999999999999996, 0, 0).revenue\n",
      "count_betray=1, bet2=false, pe2=false\n",
      "id=SchellingAgent(6, (3, 2), 0, 0, 3.0, 1, 0).id, strate=SchellingAgent(6, (3, 2), 0, 0, 3.0, 1, 0).strate, position=SchellingAgent(6, (3, 2), 0, 0, 3.0, 1, 0).pos\n",
      "nid=SchellingAgent(2, (3, 1), 0, 0, 4.8, 0, 0).id, nstrate=SchellingAgent(2, (3, 1), 0, 0, 4.8, 0, 0).strate, nposition=SchellingAgent(2, (3, 1), 0, 0, 4.8, 0, 0).pos\n",
      "pay0=0.0\n",
      "nid=SchellingAgent(4, (2, 2), 0, 0, 3.0, 1, 0).id, nstrate=SchellingAgent(4, (2, 2), 0, 0, 3.0, 1, 0).strate, nposition=SchellingAgent(4, (2, 2), 0, 0, 3.0, 1, 0).pos\n",
      "pay0=1.0\n",
      "nid=SchellingAgent(9, (1, 2), 0, 0, 3.0, 1, 0).id, nstrate=SchellingAgent(9, (1, 2), 0, 0, 3.0, 1, 0).strate, nposition=SchellingAgent(9, (1, 2), 0, 0, 3.0, 1, 0).pos\n",
      "pay0=1.0\n",
      "nid=SchellingAgent(1, (3, 3), 1, 1, 1.0, 1, 0).id, nstrate=SchellingAgent(1, (3, 3), 1, 1, 1.0, 1, 0).strate, nposition=SchellingAgent(1, (3, 3), 1, 1, 1.0, 1, 0).pos\n",
      "pay0=1.0\n",
      "payoff=3.0\n",
      "id2=SchellingAgent(6, (3, 2), 0, 0, 3.0, 1, 0).id, strate2=SchellingAgent(6, (3, 2), 0, 0, 3.0, 1, 0).strate, position2=SchellingAgent(6, (3, 2), 0, 0, 3.0, 1, 0).pos\n",
      "nid2=SchellingAgent(2, (3, 1), 0, 0, 4.8, 0, 0).id, nstrate2=SchellingAgent(2, (3, 1), 0, 0, 4.8, 0, 0).strate, nposition2=SchellingAgent(2, (3, 1), 0, 0, 4.8, 0, 0).pos, nreve=SchellingAgent(2, (3, 1), 0, 0, 4.8, 0, 0).revenue\n",
      "nid2=SchellingAgent(4, (2, 2), 0, 0, 3.0, 1, 0).id, nstrate2=SchellingAgent(4, (2, 2), 0, 0, 3.0, 1, 0).strate, nposition2=SchellingAgent(4, (2, 2), 0, 0, 3.0, 1, 0).pos, nreve=SchellingAgent(4, (2, 2), 0, 0, 3.0, 1, 0).revenue\n",
      "nid2=SchellingAgent(9, (1, 2), 0, 0, 3.0, 1, 0).id, nstrate2=SchellingAgent(9, (1, 2), 0, 0, 3.0, 1, 0).strate, nposition2=SchellingAgent(9, (1, 2), 0, 0, 3.0, 1, 0).pos, nreve=SchellingAgent(9, (1, 2), 0, 0, 3.0, 1, 0).revenue\n",
      "nid2=SchellingAgent(1, (3, 3), 1, 1, 1.0, 1, 0).id, nstrate2=SchellingAgent(1, (3, 3), 1, 1, 1.0, 1, 0).strate, nposition2=SchellingAgent(1, (3, 3), 1, 1, 1.0, 1, 0).pos, nreve=SchellingAgent(1, (3, 3), 1, 1, 1.0, 1, 0).revenue\n",
      "count_betray=1, bet2=false, pe2=false\n",
      "id=SchellingAgent(7, (1, 1), 1, 0, 2.0, 1, 0).id, strate=SchellingAgent(7, (1, 1), 1, 0, 2.0, 1, 0).strate, position=SchellingAgent(7, (1, 1), 1, 0, 2.0, 1, 0).pos\n",
      "nid=SchellingAgent(8, (1, 3), 0, 0, 3.5999999999999996, 0, 0).id, nstrate=SchellingAgent(8, (1, 3), 0, 0, 3.5999999999999996, 0, 0).strate, nposition=SchellingAgent(8, (1, 3), 0, 0, 3.5999999999999996, 0, 0).pos\n",
      "pay0=0.0\n",
      "nid=SchellingAgent(2, (3, 1), 0, 0, 4.8, 0, 0).id, nstrate=SchellingAgent(2, (3, 1), 0, 0, 4.8, 0, 0).strate, nposition=SchellingAgent(2, (3, 1), 0, 0, 4.8, 0, 0).pos\n",
      "pay0=0.0\n",
      "nid=SchellingAgent(5, (2, 1), 2, 1, 2.0, 1, 0).id, nstrate=SchellingAgent(5, (2, 1), 2, 1, 2.0, 1, 0).strate, nposition=SchellingAgent(5, (2, 1), 2, 1, 2.0, 1, 0).pos\n",
      "pay0=1.0\n",
      "nid=SchellingAgent(9, (1, 2), 0, 0, 3.0, 1, 0).id, nstrate=SchellingAgent(9, (1, 2), 0, 0, 3.0, 1, 0).strate, nposition=SchellingAgent(9, (1, 2), 0, 0, 3.0, 1, 0).pos\n",
      "pay0=1.0\n",
      "payoff=2.0\n",
      "id2=SchellingAgent(7, (1, 1), 1, 0, 2.0, 1, 0).id, strate2=SchellingAgent(7, (1, 1), 1, 0, 2.0, 1, 0).strate, position2=SchellingAgent(7, (1, 1), 1, 0, 2.0, 1, 0).pos\n",
      "nid2=SchellingAgent(8, (1, 3), 0, 0, 3.5999999999999996, 0, 0).id, nstrate2=SchellingAgent(8, (1, 3), 0, 0, 3.5999999999999996, 0, 0).strate, nposition2=SchellingAgent(8, (1, 3), 0, 0, 3.5999999999999996, 0, 0).pos, nreve=SchellingAgent(8, (1, 3), 0, 0, 3.5999999999999996, 0, 0).revenue\n",
      "nid2=SchellingAgent(2, (3, 1), 0, 0, 4.8, 0, 0).id, nstrate2=SchellingAgent(2, (3, 1), 0, 0, 4.8, 0, 0).strate, nposition2=SchellingAgent(2, (3, 1), 0, 0, 4.8, 0, 0).pos, nreve=SchellingAgent(2, (3, 1), 0, 0, 4.8, 0, 0).revenue\n",
      "nid2=SchellingAgent(5, (2, 1), 2, 1, 2.0, 1, 0).id, nstrate2=SchellingAgent(5, (2, 1), 2, 1, 2.0, 1, 0).strate, nposition2=SchellingAgent(5, (2, 1), 2, 1, 2.0, 1, 0).pos, nreve=SchellingAgent(5, (2, 1), 2, 1, 2.0, 1, 0).revenue\n",
      "nid2=SchellingAgent(9, (1, 2), 0, 0, 3.0, 1, 0).id, nstrate2=SchellingAgent(9, (1, 2), 0, 0, 3.0, 1, 0).strate, nposition2=SchellingAgent(9, (1, 2), 0, 0, 3.0, 1, 0).pos, nreve=SchellingAgent(9, (1, 2), 0, 0, 3.0, 1, 0).revenue\n",
      "count_betray=2, bet2=true, pe2=true\n",
      "id=SchellingAgent(2, (3, 1), 0, 0, 4.8, 0, 0).id, strate=SchellingAgent(2, (3, 1), 0, 0, 4.8, 0, 0).strate, position=SchellingAgent(2, (3, 1), 0, 0, 4.8, 0, 0).pos\n",
      "nid=SchellingAgent(1, (3, 3), 1, 1, 1.0, 1, 0).id, nstrate=SchellingAgent(1, (3, 3), 1, 1, 1.0, 1, 0).strate, nposition=SchellingAgent(1, (3, 3), 1, 1, 1.0, 1, 0).pos\n",
      "pay0=1.2\n",
      "nid=SchellingAgent(5, (2, 1), 2, 1, 2.0, 1, 0).id, nstrate=SchellingAgent(5, (2, 1), 2, 1, 2.0, 1, 0).strate, nposition=SchellingAgent(5, (2, 1), 2, 1, 2.0, 1, 0).pos\n",
      "pay0=1.2\n",
      "nid=SchellingAgent(7, (1, 1), 2, 1, 2.0, 1, 0).id, nstrate=SchellingAgent(7, (1, 1), 2, 1, 2.0, 1, 0).strate, nposition=SchellingAgent(7, (1, 1), 2, 1, 2.0, 1, 0).pos\n",
      "pay0=1.2\n",
      "nid=SchellingAgent(6, (3, 2), 0, 0, 3.0, 1, 0).id, nstrate=SchellingAgent(6, (3, 2), 0, 0, 3.0, 1, 0).strate, nposition=SchellingAgent(6, (3, 2), 0, 0, 3.0, 1, 0).pos\n",
      "pay0=1.2\n",
      "payoff=4.8\n",
      "id2=SchellingAgent(2, (3, 1), 0, 0, 4.8, 0, 0).id, strate2=SchellingAgent(2, (3, 1), 0, 0, 4.8, 0, 0).strate, position2=SchellingAgent(2, (3, 1), 0, 0, 4.8, 0, 0).pos\n",
      "nid2=SchellingAgent(1, (3, 3), 1, 1, 1.0, 1, 0).id, nstrate2=SchellingAgent(1, (3, 3), 1, 1, 1.0, 1, 0).strate, nposition2=SchellingAgent(1, (3, 3), 1, 1, 1.0, 1, 0).pos, nreve=SchellingAgent(1, (3, 3), 1, 1, 1.0, 1, 0).revenue\n",
      "nid2=SchellingAgent(5, (2, 1), 2, 1, 2.0, 1, 0).id, nstrate2=SchellingAgent(5, (2, 1), 2, 1, 2.0, 1, 0).strate, nposition2=SchellingAgent(5, (2, 1), 2, 1, 2.0, 1, 0).pos, nreve=SchellingAgent(5, (2, 1), 2, 1, 2.0, 1, 0).revenue\n",
      "nid2=SchellingAgent(7, (1, 1), 2, 1, 2.0, 1, 0).id, nstrate2=SchellingAgent(7, (1, 1), 2, 1, 2.0, 1, 0).strate, nposition2=SchellingAgent(7, (1, 1), 2, 1, 2.0, 1, 0).pos, nreve=SchellingAgent(7, (1, 1), 2, 1, 2.0, 1, 0).revenue\n",
      "nid2=SchellingAgent(6, (3, 2), 0, 0, 3.0, 1, 0).id, nstrate2=SchellingAgent(6, (3, 2), 0, 0, 3.0, 1, 0).strate, nposition2=SchellingAgent(6, (3, 2), 0, 0, 3.0, 1, 0).pos, nreve=SchellingAgent(6, (3, 2), 0, 0, 3.0, 1, 0).revenue\n",
      "count_betray=0, bet2=false, pe2=false\n",
      "id=SchellingAgent(9, (1, 2), 0, 0, 3.0, 1, 0).id, strate=SchellingAgent(9, (1, 2), 0, 0, 3.0, 1, 0).strate, position=SchellingAgent(9, (1, 2), 0, 0, 3.0, 1, 0).pos\n",
      "nid=SchellingAgent(7, (1, 1), 2, 1, 2.0, 1, 0).id, nstrate=SchellingAgent(7, (1, 1), 2, 1, 2.0, 1, 0).strate, nposition=SchellingAgent(7, (1, 1), 2, 1, 2.0, 1, 0).pos\n",
      "pay0=1.0\n",
      "nid=SchellingAgent(6, (3, 2), 0, 0, 3.0, 1, 0).id, nstrate=SchellingAgent(6, (3, 2), 0, 0, 3.0, 1, 0).strate, nposition=SchellingAgent(6, (3, 2), 0, 0, 3.0, 1, 0).pos\n",
      "pay0=1.0\n",
      "nid=SchellingAgent(4, (2, 2), 0, 0, 3.0, 1, 0).id, nstrate=SchellingAgent(4, (2, 2), 0, 0, 3.0, 1, 0).strate, nposition=SchellingAgent(4, (2, 2), 0, 0, 3.0, 1, 0).pos\n",
      "pay0=1.0\n",
      "nid=SchellingAgent(8, (1, 3), 0, 0, 3.5999999999999996, 0, 0).id, nstrate=SchellingAgent(8, (1, 3), 0, 0, 3.5999999999999996, 0, 0).strate, nposition=SchellingAgent(8, (1, 3), 0, 0, 3.5999999999999996, 0, 0).pos\n",
      "pay0=0.0\n",
      "payoff=3.0\n",
      "id2=SchellingAgent(9, (1, 2), 0, 0, 3.0, 1, 0).id, strate2=SchellingAgent(9, (1, 2), 0, 0, 3.0, 1, 0).strate, position2=SchellingAgent(9, (1, 2), 0, 0, 3.0, 1, 0).pos\n",
      "nid2=SchellingAgent(7, (1, 1), 2, 1, 2.0, 1, 0).id, nstrate2=SchellingAgent(7, (1, 1), 2, 1, 2.0, 1, 0).strate, nposition2=SchellingAgent(7, (1, 1), 2, 1, 2.0, 1, 0).pos, nreve=SchellingAgent(7, (1, 1), 2, 1, 2.0, 1, 0).revenue\n",
      "nid2=SchellingAgent(6, (3, 2), 0, 0, 3.0, 1, 0).id, nstrate2=SchellingAgent(6, (3, 2), 0, 0, 3.0, 1, 0).strate, nposition2=SchellingAgent(6, (3, 2), 0, 0, 3.0, 1, 0).pos, nreve=SchellingAgent(6, (3, 2), 0, 0, 3.0, 1, 0).revenue\n",
      "nid2=SchellingAgent(4, (2, 2), 0, 0, 3.0, 1, 0).id, nstrate2=SchellingAgent(4, (2, 2), 0, 0, 3.0, 1, 0).strate, nposition2=SchellingAgent(4, (2, 2), 0, 0, 3.0, 1, 0).pos, nreve=SchellingAgent(4, (2, 2), 0, 0, 3.0, 1, 0).revenue\n",
      "nid2=SchellingAgent(8, (1, 3), 0, 0, 3.5999999999999996, 0, 0).id, nstrate2=SchellingAgent(8, (1, 3), 0, 0, 3.5999999999999996, 0, 0).strate, nposition2=SchellingAgent(8, (1, 3), 0, 0, 3.5999999999999996, 0, 0).pos, nreve=SchellingAgent(8, (1, 3), 0, 0, 3.5999999999999996, 0, 0).revenue\n",
      "count_betray=1, bet2=false, pe2=false\n",
      "id=SchellingAgent(8, (1, 3), 0, 0, 3.5999999999999996, 0, 0).id, strate=SchellingAgent(8, (1, 3), 0, 0, 3.5999999999999996, 0, 0).strate, position=SchellingAgent(8, (1, 3), 0, 0, 3.5999999999999996, 0, 0).pos\n",
      "nid=SchellingAgent(9, (1, 2), 0, 0, 3.0, 1, 0).id, nstrate=SchellingAgent(9, (1, 2), 0, 0, 3.0, 1, 0).strate, nposition=SchellingAgent(9, (1, 2), 0, 0, 3.0, 1, 0).pos\n",
      "pay0=1.2\n",
      "nid=SchellingAgent(1, (3, 3), 1, 1, 1.0, 1, 0).id, nstrate=SchellingAgent(1, (3, 3), 1, 1, 1.0, 1, 0).strate, nposition=SchellingAgent(1, (3, 3), 1, 1, 1.0, 1, 0).pos\n",
      "pay0=1.2\n",
      "nid=SchellingAgent(3, (2, 3), 0, 0, 3.5999999999999996, 0, 0).id, nstrate=SchellingAgent(3, (2, 3), 0, 0, 3.5999999999999996, 0, 0).strate, nposition=SchellingAgent(3, (2, 3), 0, 0, 3.5999999999999996, 0, 0).pos\n",
      "pay0=0.0\n",
      "nid=SchellingAgent(7, (1, 1), 2, 1, 2.0, 1, 0).id, nstrate=SchellingAgent(7, (1, 1), 2, 1, 2.0, 1, 0).strate, nposition=SchellingAgent(7, (1, 1), 2, 1, 2.0, 1, 0).pos\n",
      "pay0=1.2\n",
      "payoff=3.5999999999999996\n",
      "id2=SchellingAgent(8, (1, 3), 0, 0, 3.5999999999999996, 0, 0).id, strate2=SchellingAgent(8, (1, 3), 0, 0, 3.5999999999999996, 0, 0).strate, position2=SchellingAgent(8, (1, 3), 0, 0, 3.5999999999999996, 0, 0).pos\n",
      "nid2=SchellingAgent(9, (1, 2), 0, 0, 3.0, 1, 0).id, nstrate2=SchellingAgent(9, (1, 2), 0, 0, 3.0, 1, 0).strate, nposition2=SchellingAgent(9, (1, 2), 0, 0, 3.0, 1, 0).pos, nreve=SchellingAgent(9, (1, 2), 0, 0, 3.0, 1, 0).revenue\n",
      "nid2=SchellingAgent(1, (3, 3), 1, 1, 1.0, 1, 0).id, nstrate2=SchellingAgent(1, (3, 3), 1, 1, 1.0, 1, 0).strate, nposition2=SchellingAgent(1, (3, 3), 1, 1, 1.0, 1, 0).pos, nreve=SchellingAgent(1, (3, 3), 1, 1, 1.0, 1, 0).revenue\n",
      "nid2=SchellingAgent(3, (2, 3), 0, 0, 3.5999999999999996, 0, 0).id, nstrate2=SchellingAgent(3, (2, 3), 0, 0, 3.5999999999999996, 0, 0).strate, nposition2=SchellingAgent(3, (2, 3), 0, 0, 3.5999999999999996, 0, 0).pos, nreve=SchellingAgent(3, (2, 3), 0, 0, 3.5999999999999996, 0, 0).revenue\n",
      "nid2=SchellingAgent(7, (1, 1), 2, 1, 2.0, 1, 0).id, nstrate2=SchellingAgent(7, (1, 1), 2, 1, 2.0, 1, 0).strate, nposition2=SchellingAgent(7, (1, 1), 2, 1, 2.0, 1, 0).pos, nreve=SchellingAgent(7, (1, 1), 2, 1, 2.0, 1, 0).revenue\n",
      "count_betray=1, bet2=false, pe2=false\n",
      "id=SchellingAgent(3, (2, 3), 0, 0, 3.5999999999999996, 0, 0).id, strate=SchellingAgent(3, (2, 3), 0, 0, 3.5999999999999996, 0, 0).strate, position=SchellingAgent(3, (2, 3), 0, 0, 3.5999999999999996, 0, 0).pos\n",
      "nid=SchellingAgent(4, (2, 2), 0, 0, 3.0, 1, 0).id, nstrate=SchellingAgent(4, (2, 2), 0, 0, 3.0, 1, 0).strate, nposition=SchellingAgent(4, (2, 2), 0, 0, 3.0, 1, 0).pos\n",
      "pay0=1.2\n",
      "nid=SchellingAgent(8, (1, 3), 0, 0, 3.5999999999999996, 0, 0).id, nstrate=SchellingAgent(8, (1, 3), 0, 0, 3.5999999999999996, 0, 0).strate, nposition=SchellingAgent(8, (1, 3), 0, 0, 3.5999999999999996, 0, 0).pos\n",
      "pay0=0.0\n",
      "nid=SchellingAgent(1, (3, 3), 1, 1, 1.0, 1, 0).id, nstrate=SchellingAgent(1, (3, 3), 1, 1, 1.0, 1, 0).strate, nposition=SchellingAgent(1, (3, 3), 1, 1, 1.0, 1, 0).pos\n",
      "pay0=1.2\n",
      "nid=SchellingAgent(5, (2, 1), 2, 1, 2.0, 1, 0).id, nstrate=SchellingAgent(5, (2, 1), 2, 1, 2.0, 1, 0).strate, nposition=SchellingAgent(5, (2, 1), 2, 1, 2.0, 1, 0).pos\n",
      "pay0=1.2\n",
      "payoff=3.5999999999999996\n",
      "id2=SchellingAgent(3, (2, 3), 0, 0, 3.5999999999999996, 0, 0).id, strate2=SchellingAgent(3, (2, 3), 0, 0, 3.5999999999999996, 0, 0).strate, position2=SchellingAgent(3, (2, 3), 0, 0, 3.5999999999999996, 0, 0).pos\n",
      "nid2=SchellingAgent(4, (2, 2), 0, 0, 3.0, 1, 0).id, nstrate2=SchellingAgent(4, (2, 2), 0, 0, 3.0, 1, 0).strate, nposition2=SchellingAgent(4, (2, 2), 0, 0, 3.0, 1, 0).pos, nreve=SchellingAgent(4, (2, 2), 0, 0, 3.0, 1, 0).revenue\n",
      "nid2=SchellingAgent(8, (1, 3), 0, 0, 3.5999999999999996, 0, 0).id, nstrate2=SchellingAgent(8, (1, 3), 0, 0, 3.5999999999999996, 0, 0).strate, nposition2=SchellingAgent(8, (1, 3), 0, 0, 3.5999999999999996, 0, 0).pos, nreve=SchellingAgent(8, (1, 3), 0, 0, 3.5999999999999996, 0, 0).revenue\n",
      "nid2=SchellingAgent(1, (3, 3), 1, 1, 1.0, 1, 0).id, nstrate2=SchellingAgent(1, (3, 3), 1, 1, 1.0, 1, 0).strate, nposition2=SchellingAgent(1, (3, 3), 1, 1, 1.0, 1, 0).pos, nreve=SchellingAgent(1, (3, 3), 1, 1, 1.0, 1, 0).revenue\n",
      "nid2=SchellingAgent(5, (2, 1), 2, 1, 2.0, 1, 0).id, nstrate2=SchellingAgent(5, (2, 1), 2, 1, 2.0, 1, 0).strate, nposition2=SchellingAgent(5, (2, 1), 2, 1, 2.0, 1, 0).pos, nreve=SchellingAgent(5, (2, 1), 2, 1, 2.0, 1, 0).revenue\n",
      "count_betray=1, bet2=false, pe2=false\n",
      "id=SchellingAgent(1, (3, 3), 1, 1, 1.0, 1, 0).id, strate=SchellingAgent(1, (3, 3), 1, 1, 1.0, 1, 0).strate, position=SchellingAgent(1, (3, 3), 1, 1, 1.0, 1, 0).pos\n",
      "nid=SchellingAgent(6, (3, 2), 0, 0, 3.0, 1, 0).id, nstrate=SchellingAgent(6, (3, 2), 0, 0, 3.0, 1, 0).strate, nposition=SchellingAgent(6, (3, 2), 0, 0, 3.0, 1, 0).pos\n",
      "pay0=1.0\n",
      "nid=SchellingAgent(3, (2, 3), 0, 0, 3.5999999999999996, 0, 0).id, nstrate=SchellingAgent(3, (2, 3), 0, 0, 3.5999999999999996, 0, 0).strate, nposition=SchellingAgent(3, (2, 3), 0, 0, 3.5999999999999996, 0, 0).pos\n",
      "pay0=0.0\n",
      "nid=SchellingAgent(8, (1, 3), 0, 0, 3.5999999999999996, 0, 0).id, nstrate=SchellingAgent(8, (1, 3), 0, 0, 3.5999999999999996, 0, 0).strate, nposition=SchellingAgent(8, (1, 3), 0, 0, 3.5999999999999996, 0, 0).pos\n",
      "pay0=0.0\n",
      "nid=SchellingAgent(2, (3, 1), 0, 0, 4.8, 0, 0).id, nstrate=SchellingAgent(2, (3, 1), 0, 0, 4.8, 0, 0).strate, nposition=SchellingAgent(2, (3, 1), 0, 0, 4.8, 0, 0).pos\n",
      "pay0=0.0\n",
      "payoff=1.0\n",
      "id2=SchellingAgent(1, (3, 3), 1, 1, 1.0, 1, 0).id, strate2=SchellingAgent(1, (3, 3), 1, 1, 1.0, 1, 0).strate, position2=SchellingAgent(1, (3, 3), 1, 1, 1.0, 1, 0).pos\n",
      "nid2=SchellingAgent(6, (3, 2), 0, 0, 3.0, 1, 0).id, nstrate2=SchellingAgent(6, (3, 2), 0, 0, 3.0, 1, 0).strate, nposition2=SchellingAgent(6, (3, 2), 0, 0, 3.0, 1, 0).pos, nreve=SchellingAgent(6, (3, 2), 0, 0, 3.0, 1, 0).revenue\n",
      "nid2=SchellingAgent(3, (2, 3), 0, 0, 3.5999999999999996, 0, 0).id, nstrate2=SchellingAgent(3, (2, 3), 0, 0, 3.5999999999999996, 0, 0).strate, nposition2=SchellingAgent(3, (2, 3), 0, 0, 3.5999999999999996, 0, 0).pos, nreve=SchellingAgent(3, (2, 3), 0, 0, 3.5999999999999996, 0, 0).revenue\n",
      "nid2=SchellingAgent(8, (1, 3), 0, 0, 3.5999999999999996, 0, 0).id, nstrate2=SchellingAgent(8, (1, 3), 0, 0, 3.5999999999999996, 0, 0).strate, nposition2=SchellingAgent(8, (1, 3), 0, 0, 3.5999999999999996, 0, 0).pos, nreve=SchellingAgent(8, (1, 3), 0, 0, 3.5999999999999996, 0, 0).revenue\n",
      "nid2=SchellingAgent(2, (3, 1), 0, 0, 4.8, 0, 0).id, nstrate2=SchellingAgent(2, (3, 1), 0, 0, 4.8, 0, 0).strate, nposition2=SchellingAgent(2, (3, 1), 0, 0, 4.8, 0, 0).pos, nreve=SchellingAgent(2, (3, 1), 0, 0, 4.8, 0, 0).revenue\n",
      "count_betray=3, bet2=true, pe2=true\n"
     ]
    },
    {
     "data": {
      "text/plain": [
       "(\u001b[1m27×7 DataFrame\u001b[0m\n",
       "\u001b[1m Row \u001b[0m│\u001b[1m time  \u001b[0m\u001b[1m id    \u001b[0m\u001b[1m strate \u001b[0m\u001b[1m revenue \u001b[0m\u001b[1m A_peer \u001b[0m\u001b[1m A_self \u001b[0m\u001b[1m overstress \u001b[0m\n",
       "     │\u001b[90m Int64 \u001b[0m\u001b[90m Int64 \u001b[0m\u001b[90m Int64  \u001b[0m\u001b[90m Float64 \u001b[0m\u001b[90m Int64  \u001b[0m\u001b[90m Int64  \u001b[0m\u001b[90m Int64      \u001b[0m\n",
       "─────┼───────────────────────────────────────────────────────────\n",
       "   1 │     0      1       1      0.0       0       0           0\n",
       "   2 │     0      2       0      0.0       0       0           0\n",
       "   3 │     0      3       0      0.0       0       0           0\n",
       "   4 │     0      4       1      0.0       0       0           0\n",
       "   5 │     0      5       1      0.0       0       0           0\n",
       "   6 │     0      6       1      0.0       0       0           0\n",
       "   7 │     0      7       1      0.0       0       0           0\n",
       "   8 │     0      8       0      0.0       0       0           0\n",
       "  ⋮  │   ⋮      ⋮      ⋮        ⋮       ⋮       ⋮         ⋮\n",
       "  21 │     2      3       0      3.6       0       0           0\n",
       "  22 │     2      4       1      3.0       0       0           0\n",
       "  23 │     2      5       1      2.0       1       2           0\n",
       "  24 │     2      6       1      3.0       0       0           0\n",
       "  25 │     2      7       1      2.0       1       2           0\n",
       "  26 │     2      8       0      3.6       0       0           0\n",
       "  27 │     2      9       1      3.0       0       0           0\n",
       "\u001b[36m                                                  12 rows omitted\u001b[0m, \u001b[1m0×0 DataFrame\u001b[0m)"
      ]
     },
     "metadata": {},
     "output_type": "display_data"
    }
   ],
   "source": [
    "data, _ = run!(schelling, N; adata)\n",
    "#data[(end-20):end, :]"
   ]
  },
  {
   "cell_type": "code",
   "execution_count": 18,
   "metadata": {},
   "outputs": [
    {
     "data": {
      "text/plain": [
       "(2, 3)"
      ]
     },
     "metadata": {},
     "output_type": "display_data"
    }
   ],
   "source": [
    "schelling[1].pos"
   ]
  },
  {
   "cell_type": "code",
   "execution_count": 21,
   "metadata": {},
   "outputs": [
    {
     "data": {
      "text/plain": [
       "(1, 3)"
      ]
     },
     "metadata": {},
     "output_type": "display_data"
    }
   ],
   "source": [
    "schelling[2].pos"
   ]
  },
  {
   "cell_type": "code",
   "execution_count": 22,
   "metadata": {},
   "outputs": [
    {
     "data": {
      "text/plain": [
       "(2, 4)"
      ]
     },
     "metadata": {},
     "output_type": "display_data"
    }
   ],
   "source": [
    "schelling[3].pos"
   ]
  },
  {
   "cell_type": "code",
   "execution_count": 23,
   "metadata": {},
   "outputs": [
    {
     "data": {
      "text/plain": [
       "12"
      ]
     },
     "metadata": {},
     "output_type": "display_data"
    }
   ],
   "source": [
    "id_in_position((1,1), schelling)"
   ]
  }
 ],
 "metadata": {
  "kernelspec": {
   "display_name": "Julia 1.10.2",
   "language": "julia",
   "name": "julia-1.10"
  },
  "language_info": {
   "file_extension": ".jl",
   "mimetype": "application/julia",
   "name": "julia",
   "version": "1.10.2"
  }
 },
 "nbformat": 4,
 "nbformat_minor": 2
}
