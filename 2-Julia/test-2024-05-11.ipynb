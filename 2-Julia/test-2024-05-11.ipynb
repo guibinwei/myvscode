{
 "cells": [
  {
   "cell_type": "code",
   "execution_count": 2,
   "metadata": {},
   "outputs": [],
   "source": [
    "using CSV"
   ]
  },
  {
   "cell_type": "code",
   "execution_count": 1,
   "metadata": {},
   "outputs": [],
   "source": [
    "using LinearAlgebra"
   ]
  },
  {
   "cell_type": "code",
   "execution_count": 2,
   "metadata": {},
   "outputs": [
    {
     "ename": "MethodError",
     "evalue": "MethodError: no method matching Diagonal(::Int64)\n\nClosest candidates are:\n  Diagonal(!Matched::Diagonal)\n   @ LinearAlgebra C:\\Users\\xingfu_2\\AppData\\Local\\Programs\\Julia-1.10.2\\share\\julia\\stdlib\\v1.10\\LinearAlgebra\\src\\diagonal.jl:105\n  Diagonal(!Matched::Tridiagonal)\n   @ LinearAlgebra C:\\Users\\xingfu_2\\AppData\\Local\\Programs\\Julia-1.10.2\\share\\julia\\stdlib\\v1.10\\LinearAlgebra\\src\\special.jl:34\n  Diagonal(!Matched::Bidiagonal)\n   @ LinearAlgebra C:\\Users\\xingfu_2\\AppData\\Local\\Programs\\Julia-1.10.2\\share\\julia\\stdlib\\v1.10\\LinearAlgebra\\src\\special.jl:14\n  ...\n",
     "output_type": "error",
     "traceback": [
      "MethodError: no method matching Diagonal(::Int64)\n",
      "\n",
      "Closest candidates are:\n",
      "  Diagonal(!Matched::Diagonal)\n",
      "   @ LinearAlgebra C:\\Users\\xingfu_2\\AppData\\Local\\Programs\\Julia-1.10.2\\share\\julia\\stdlib\\v1.10\\LinearAlgebra\\src\\diagonal.jl:105\n",
      "  Diagonal(!Matched::Tridiagonal)\n",
      "   @ LinearAlgebra C:\\Users\\xingfu_2\\AppData\\Local\\Programs\\Julia-1.10.2\\share\\julia\\stdlib\\v1.10\\LinearAlgebra\\src\\special.jl:34\n",
      "  Diagonal(!Matched::Bidiagonal)\n",
      "   @ LinearAlgebra C:\\Users\\xingfu_2\\AppData\\Local\\Programs\\Julia-1.10.2\\share\\julia\\stdlib\\v1.10\\LinearAlgebra\\src\\special.jl:14\n",
      "  ...\n",
      "\n",
      "\n",
      "Stacktrace:\n",
      " [1] top-level scope\n",
      "   @ d:\\jianguo\\myvscode\\Julia\\test-2024-05-11.ipynb:1"
     ]
    }
   ],
   "source": [
    "A = Diagonal(3)"
   ]
  },
  {
   "cell_type": "code",
   "execution_count": 3,
   "metadata": {},
   "outputs": [
    {
     "data": {
      "text/plain": [
       "Base.Iterators.Take{Base.Iterators.Repeated{Int64}}(Base.Iterators.Repeated{Int64}(-1), 3)"
      ]
     },
     "metadata": {},
     "output_type": "display_data"
    }
   ],
   "source": [
    "a = Iterators.repeated(-1, 3)"
   ]
  },
  {
   "cell_type": "code",
   "execution_count": 4,
   "metadata": {},
   "outputs": [
    {
     "ename": "MethodError",
     "evalue": "MethodError: no method matching Diagonal(::Base.Iterators.Take{Base.Iterators.Repeated{Int64}})\n\nClosest candidates are:\n  Diagonal(!Matched::Diagonal)\n   @ LinearAlgebra C:\\Users\\xingfu_2\\AppData\\Local\\Programs\\Julia-1.10.2\\share\\julia\\stdlib\\v1.10\\LinearAlgebra\\src\\diagonal.jl:105\n  Diagonal(!Matched::Tridiagonal)\n   @ LinearAlgebra C:\\Users\\xingfu_2\\AppData\\Local\\Programs\\Julia-1.10.2\\share\\julia\\stdlib\\v1.10\\LinearAlgebra\\src\\special.jl:34\n  Diagonal(!Matched::Bidiagonal)\n   @ LinearAlgebra C:\\Users\\xingfu_2\\AppData\\Local\\Programs\\Julia-1.10.2\\share\\julia\\stdlib\\v1.10\\LinearAlgebra\\src\\special.jl:14\n  ...\n",
     "output_type": "error",
     "traceback": [
      "MethodError: no method matching Diagonal(::Base.Iterators.Take{Base.Iterators.Repeated{Int64}})\n",
      "\n",
      "Closest candidates are:\n",
      "  Diagonal(!Matched::Diagonal)\n",
      "   @ LinearAlgebra C:\\Users\\xingfu_2\\AppData\\Local\\Programs\\Julia-1.10.2\\share\\julia\\stdlib\\v1.10\\LinearAlgebra\\src\\diagonal.jl:105\n",
      "  Diagonal(!Matched::Tridiagonal)\n",
      "   @ LinearAlgebra C:\\Users\\xingfu_2\\AppData\\Local\\Programs\\Julia-1.10.2\\share\\julia\\stdlib\\v1.10\\LinearAlgebra\\src\\special.jl:34\n",
      "  Diagonal(!Matched::Bidiagonal)\n",
      "   @ LinearAlgebra C:\\Users\\xingfu_2\\AppData\\Local\\Programs\\Julia-1.10.2\\share\\julia\\stdlib\\v1.10\\LinearAlgebra\\src\\special.jl:14\n",
      "  ...\n",
      "\n",
      "\n",
      "Stacktrace:\n",
      " [1] top-level scope\n",
      "   @ d:\\jianguo\\myvscode\\Julia\\test-2024-05-11.ipynb:1"
     ]
    }
   ],
   "source": [
    "A = Diagonal(a)"
   ]
  },
  {
   "cell_type": "code",
   "execution_count": 5,
   "metadata": {},
   "outputs": [
    {
     "ename": "MethodError",
     "evalue": "MethodError: no method matching repeat(::Int64, ::Int64)\n\nClosest candidates are:\n  repeat(!Matched::String, ::Union{Int128, Int16, Int32, Int64, Int8, UInt128, UInt16, UInt32, UInt64, UInt8})\n   @ Base strings\\substring.jl:260\n  repeat(!Matched::Union{SubString{String}, String}, ::Integer)\n   @ Base strings\\substring.jl:262\n  repeat(!Matched::Char, ::Union{Int128, Int16, Int32, Int64, Int8, UInt128, UInt16, UInt32, UInt64, UInt8})\n   @ Base strings\\string.jl:526\n  ...\n",
     "output_type": "error",
     "traceback": [
      "MethodError: no method matching repeat(::Int64, ::Int64)\n",
      "\n",
      "Closest candidates are:\n",
      "  repeat(!Matched::String, ::Union{Int128, Int16, Int32, Int64, Int8, UInt128, UInt16, UInt32, UInt64, UInt8})\n",
      "   @ Base strings\\substring.jl:260\n",
      "  repeat(!Matched::Union{SubString{String}, String}, ::Integer)\n",
      "   @ Base strings\\substring.jl:262\n",
      "  repeat(!Matched::Char, ::Union{Int128, Int16, Int32, Int64, Int8, UInt128, UInt16, UInt32, UInt64, UInt8})\n",
      "   @ Base strings\\string.jl:526\n",
      "  ...\n",
      "\n",
      "\n",
      "Stacktrace:\n",
      " [1] top-level scope\n",
      "   @ d:\\jianguo\\myvscode\\Julia\\test-2024-05-11.ipynb:1"
     ]
    }
   ],
   "source": [
    "b=repeat(-1, 3)"
   ]
  },
  {
   "cell_type": "code",
   "execution_count": 6,
   "metadata": {},
   "outputs": [
    {
     "ename": "MethodError",
     "evalue": "MethodError: no method matching Vector{Float64}(::Int64, ::Int64)\n\nClosest candidates are:\n  Array{T, N}(!Matched::Missing, ::Any...) where {T, N}\n   @ Base baseext.jl:43\n  Vector{T}(!Matched::UndefInitializer, ::Int64) where T\n   @ Core boot.jl:477\n  Array{T, N}(!Matched::UndefInitializer, ::Int64...) where {T, N}\n   @ Core boot.jl:483\n  ...\n",
     "output_type": "error",
     "traceback": [
      "MethodError: no method matching Vector{Float64}(::Int64, ::Int64)\n",
      "\n",
      "Closest candidates are:\n",
      "  Array{T, N}(!Matched::Missing, ::Any...) where {T, N}\n",
      "   @ Base baseext.jl:43\n",
      "  Vector{T}(!Matched::UndefInitializer, ::Int64) where T\n",
      "   @ Core boot.jl:477\n",
      "  Array{T, N}(!Matched::UndefInitializer, ::Int64...) where {T, N}\n",
      "   @ Core boot.jl:483\n",
      "  ...\n",
      "\n",
      "\n",
      "Stacktrace:\n",
      " [1] top-level scope\n",
      "   @ d:\\jianguo\\myvscode\\Julia\\test-2024-05-11.ipynb:1"
     ]
    }
   ],
   "source": [
    "a=Vector{Float64}(1, 3)"
   ]
  },
  {
   "cell_type": "code",
   "execution_count": 8,
   "metadata": {},
   "outputs": [
    {
     "data": {
      "text/plain": [
       "7-element Vector{Int64}:\n",
       " 5\n",
       " 5\n",
       " 5\n",
       " 5\n",
       " 5\n",
       " 5\n",
       " 5"
      ]
     },
     "metadata": {},
     "output_type": "display_data"
    }
   ],
   "source": [
    "v = repeat([5],7)"
   ]
  },
  {
   "cell_type": "code",
   "execution_count": 9,
   "metadata": {},
   "outputs": [
    {
     "data": {
      "text/plain": [
       "7-element Vector{Int64}:\n",
       " 5\n",
       " 5\n",
       " 5\n",
       " 5\n",
       " 5\n",
       " 5\n",
       " 5"
      ]
     },
     "metadata": {},
     "output_type": "display_data"
    }
   ],
   "source": [
    "v = fill(5, 7)"
   ]
  },
  {
   "cell_type": "code",
   "execution_count": 10,
   "metadata": {},
   "outputs": [
    {
     "data": {
      "text/plain": [
       "3-element Vector{Int64}:\n",
       " -1\n",
       " -1\n",
       " -1"
      ]
     },
     "metadata": {},
     "output_type": "display_data"
    }
   ],
   "source": [
    "v = fill(-1, 3)"
   ]
  },
  {
   "cell_type": "code",
   "execution_count": 11,
   "metadata": {},
   "outputs": [
    {
     "data": {
      "text/plain": [
       "3×3 Diagonal{Int64, Vector{Int64}}:\n",
       " -1   ⋅   ⋅\n",
       "  ⋅  -1   ⋅\n",
       "  ⋅   ⋅  -1"
      ]
     },
     "metadata": {},
     "output_type": "display_data"
    }
   ],
   "source": [
    "A = Diagonal(v)"
   ]
  },
  {
   "cell_type": "code",
   "execution_count": 12,
   "metadata": {},
   "outputs": [
    {
     "data": {
      "text/plain": [
       "3-element Vector{Float64}:\n",
       " 1.0\n",
       " 1.0\n",
       " 1.0"
      ]
     },
     "metadata": {},
     "output_type": "display_data"
    }
   ],
   "source": [
    "w=ones(3)"
   ]
  },
  {
   "cell_type": "code",
   "execution_count": 13,
   "metadata": {},
   "outputs": [
    {
     "data": {
      "text/plain": [
       "3×3 Diagonal{Float64, Vector{Float64}}:\n",
       " 1.0   ⋅    ⋅ \n",
       "  ⋅   1.0   ⋅ \n",
       "  ⋅    ⋅   1.0"
      ]
     },
     "metadata": {},
     "output_type": "display_data"
    }
   ],
   "source": [
    "B = Diagonal(w)"
   ]
  },
  {
   "cell_type": "code",
   "execution_count": 14,
   "metadata": {},
   "outputs": [
    {
     "data": {
      "text/plain": [
       "3-element Vector{Float64}:\n",
       " 0.0\n",
       " 0.0\n",
       " 0.0"
      ]
     },
     "metadata": {},
     "output_type": "display_data"
    }
   ],
   "source": [
    "u=zeros(3)"
   ]
  },
  {
   "cell_type": "code",
   "execution_count": 15,
   "metadata": {},
   "outputs": [
    {
     "data": {
      "text/plain": [
       "3×4 Matrix{Float64}:\n",
       " -1.0   0.0   0.0  0.0\n",
       "  0.0  -1.0   0.0  0.0\n",
       "  0.0   0.0  -1.0  0.0"
      ]
     },
     "metadata": {},
     "output_type": "display_data"
    }
   ],
   "source": [
    "A2=hcat(A,u)"
   ]
  },
  {
   "cell_type": "code",
   "execution_count": 16,
   "metadata": {},
   "outputs": [
    {
     "data": {
      "text/plain": [
       "3×4 Matrix{Float64}:\n",
       " 0.0  1.0  0.0  0.0\n",
       " 0.0  0.0  1.0  0.0\n",
       " 0.0  0.0  0.0  1.0"
      ]
     },
     "metadata": {},
     "output_type": "display_data"
    }
   ],
   "source": [
    "B2=hcat(u,B)"
   ]
  },
  {
   "cell_type": "code",
   "execution_count": 17,
   "metadata": {},
   "outputs": [
    {
     "data": {
      "text/plain": [
       "3×4 Matrix{Float64}:\n",
       " -1.0   1.0   0.0  0.0\n",
       "  0.0  -1.0   1.0  0.0\n",
       "  0.0   0.0  -1.0  1.0"
      ]
     },
     "metadata": {},
     "output_type": "display_data"
    }
   ],
   "source": [
    "D=A2+B2"
   ]
  },
  {
   "cell_type": "code",
   "execution_count": 18,
   "metadata": {},
   "outputs": [
    {
     "data": {
      "text/plain": [
       "3×3 Matrix{Float64}:\n",
       "  2.0  -1.0   0.0\n",
       " -1.0   2.0  -1.0\n",
       "  0.0  -1.0   2.0"
      ]
     },
     "metadata": {},
     "output_type": "display_data"
    }
   ],
   "source": [
    "V=D*D'"
   ]
  },
  {
   "cell_type": "code",
   "execution_count": 19,
   "metadata": {},
   "outputs": [
    {
     "data": {
      "text/plain": [
       "Cholesky{Float64, Matrix{Float64}}\n",
       "U factor:\n",
       "3×3 UpperTriangular{Float64, Matrix{Float64}}:\n",
       " 1.41421  -0.707107   0.0\n",
       "  ⋅        1.22474   -0.816497\n",
       "  ⋅         ⋅         1.1547"
      ]
     },
     "metadata": {},
     "output_type": "display_data"
    }
   ],
   "source": [
    "cholesky(V)"
   ]
  },
  {
   "cell_type": "code",
   "execution_count": 2,
   "metadata": {},
   "outputs": [],
   "source": [
    "using LinearAlgebra"
   ]
  },
  {
   "cell_type": "code",
   "execution_count": 3,
   "metadata": {},
   "outputs": [
    {
     "data": {
      "text/plain": [
       "2×2 Matrix{Float64}:\n",
       "  2.0  -1.0\n",
       " -1.0   2.0"
      ]
     },
     "metadata": {},
     "output_type": "display_data"
    }
   ],
   "source": [
    "n=2\n",
    "v = fill(-1, n)\n",
    "A = Diagonal(v)\n",
    "w=ones(n)\n",
    "B = Diagonal(w)\n",
    "u=zeros(n)\n",
    "A2=hcat(A,u)\n",
    "B2=hcat(u,B)\n",
    "D=A2+B2\n",
    "V=D*D'\n"
   ]
  },
  {
   "cell_type": "code",
   "execution_count": 4,
   "metadata": {},
   "outputs": [
    {
     "data": {
      "text/plain": [
       "Cholesky{Float64, Matrix{Float64}}\n",
       "U factor:\n",
       "2×2 UpperTriangular{Float64, Matrix{Float64}}:\n",
       " 1.41421  -0.707107\n",
       "  ⋅        1.22474"
      ]
     },
     "metadata": {},
     "output_type": "display_data"
    }
   ],
   "source": [
    "cholesky(V)"
   ]
  },
  {
   "cell_type": "code",
   "execution_count": 5,
   "metadata": {},
   "outputs": [
    {
     "data": {
      "text/plain": [
       "Cholesky{Float64, Matrix{Float64}}\n",
       "U factor:\n",
       "2×2 UpperTriangular{Float64, Matrix{Float64}}:\n",
       " 0.816497  0.408248\n",
       "  ⋅        0.707107"
      ]
     },
     "metadata": {},
     "output_type": "display_data"
    }
   ],
   "source": [
    "V1=inv(V)\n",
    "cholesky(V1)"
   ]
  },
  {
   "cell_type": "code",
   "execution_count": 22,
   "metadata": {},
   "outputs": [
    {
     "data": {
      "text/plain": [
       "0.40824829046386296"
      ]
     },
     "metadata": {},
     "output_type": "display_data"
    }
   ],
   "source": [
    "1/6^0.5"
   ]
  },
  {
   "cell_type": "code",
   "execution_count": 26,
   "metadata": {},
   "outputs": [
    {
     "data": {
      "text/plain": [
       "1.224744871391589"
      ]
     },
     "metadata": {},
     "output_type": "display_data"
    }
   ],
   "source": [
    "3/6^0.5"
   ]
  },
  {
   "cell_type": "code",
   "execution_count": 6,
   "metadata": {},
   "outputs": [
    {
     "data": {
      "text/plain": [
       "2×2 Matrix{Float64}:\n",
       " 1.41421  -0.707107\n",
       " 0.0       1.22474"
      ]
     },
     "metadata": {},
     "output_type": "display_data"
    }
   ],
   "source": [
    "L1 = [2^0.5  -2^0.5/2; 0  3/6^0.5]"
   ]
  },
  {
   "cell_type": "code",
   "execution_count": 7,
   "metadata": {},
   "outputs": [
    {
     "data": {
      "text/plain": [
       "2×2 Matrix{Float64}:\n",
       " 0.816497  0.408248\n",
       " 0.0       0.707107"
      ]
     },
     "metadata": {},
     "output_type": "display_data"
    }
   ],
   "source": [
    "B1= [2/6^0.5  1/6^0.5; 0  2^0.5/2]"
   ]
  },
  {
   "cell_type": "code",
   "execution_count": 8,
   "metadata": {},
   "outputs": [
    {
     "data": {
      "text/plain": [
       "2×2 adjoint(::Matrix{Float64}) with eltype Float64:\n",
       "  1.41421   0.0\n",
       " -0.707107  1.22474"
      ]
     },
     "metadata": {},
     "output_type": "display_data"
    }
   ],
   "source": [
    "L=L1'"
   ]
  },
  {
   "cell_type": "code",
   "execution_count": 9,
   "metadata": {},
   "outputs": [
    {
     "data": {
      "text/plain": [
       "2×2 Matrix{Float64}:\n",
       "  2.0  -1.0\n",
       " -1.0   2.0"
      ]
     },
     "metadata": {},
     "output_type": "display_data"
    }
   ],
   "source": [
    "V=L*L'"
   ]
  },
  {
   "cell_type": "code",
   "execution_count": 10,
   "metadata": {},
   "outputs": [
    {
     "data": {
      "text/plain": [
       "2×2 adjoint(::Matrix{Float64}) with eltype Float64:\n",
       " 0.816497  0.0\n",
       " 0.408248  0.707107"
      ]
     },
     "metadata": {},
     "output_type": "display_data"
    }
   ],
   "source": [
    "B=B1'"
   ]
  },
  {
   "cell_type": "code",
   "execution_count": 11,
   "metadata": {},
   "outputs": [
    {
     "data": {
      "text/plain": [
       "2×2 Matrix{Float64}:\n",
       " 0.666667  0.333333\n",
       " 0.333333  0.666667"
      ]
     },
     "metadata": {},
     "output_type": "display_data"
    }
   ],
   "source": [
    "V1=B*B'"
   ]
  },
  {
   "cell_type": "code",
   "execution_count": 12,
   "metadata": {},
   "outputs": [
    {
     "data": {
      "text/plain": [
       "2×2 Matrix{Float64}:\n",
       "  1.0          -2.22045e-16\n",
       " -1.11022e-16   1.0"
      ]
     },
     "metadata": {},
     "output_type": "display_data"
    }
   ],
   "source": [
    "V*V1"
   ]
  },
  {
   "cell_type": "code",
   "execution_count": 13,
   "metadata": {},
   "outputs": [
    {
     "data": {
      "text/plain": [
       "2×3 Matrix{Float64}:\n",
       " -0.816497   0.816497  0.0\n",
       " -0.408248  -0.298858  0.707107"
      ]
     },
     "metadata": {},
     "output_type": "display_data"
    }
   ],
   "source": [
    "H20=B*D"
   ]
  },
  {
   "cell_type": "code",
   "execution_count": 14,
   "metadata": {},
   "outputs": [
    {
     "data": {
      "text/plain": [
       "2×3 Matrix{Float64}:\n",
       " -0.816497   0.408248  0.408248\n",
       "  0.0       -0.707107  0.707107"
      ]
     },
     "metadata": {},
     "output_type": "display_data"
    }
   ],
   "source": [
    "H2=B'*D"
   ]
  },
  {
   "cell_type": "code",
   "execution_count": 15,
   "metadata": {},
   "outputs": [
    {
     "data": {
      "text/plain": [
       "2-element Vector{Float64}:\n",
       " 0.8164965809277259\n",
       " 0.7071067811865475"
      ]
     },
     "metadata": {},
     "output_type": "display_data"
    }
   ],
   "source": [
    "h=[2/6^0.5;1/2^0.5]"
   ]
  },
  {
   "cell_type": "code",
   "execution_count": 16,
   "metadata": {},
   "outputs": [
    {
     "data": {
      "text/plain": [
       "2×2 Diagonal{Float64, Vector{Float64}}:\n",
       " 0.816497   ⋅ \n",
       "  ⋅        0.707107"
      ]
     },
     "metadata": {},
     "output_type": "display_data"
    }
   ],
   "source": [
    "H=Diagonal(h)"
   ]
  },
  {
   "cell_type": "code",
   "execution_count": 18,
   "metadata": {},
   "outputs": [
    {
     "data": {
      "text/plain": [
       "2×3 Matrix{Float64}:\n",
       " 1.0  -0.5  -0.5\n",
       " 0.0   1.0  -1.0"
      ]
     },
     "metadata": {},
     "output_type": "display_data"
    }
   ],
   "source": [
    "I = Diagonal(w)\n",
    "I20=hcat(I,u)\n",
    "A2=[-0.5   -0.5; 0  -1]\n",
    "A20=hcat(u,A2)\n",
    "Ap=I20 + A20"
   ]
  },
  {
   "cell_type": "code",
   "execution_count": 19,
   "metadata": {},
   "outputs": [
    {
     "data": {
      "text/plain": [
       "2×3 Matrix{Float64}:\n",
       " 0.816497  -0.408248  -0.408248\n",
       " 0.0        0.707107  -0.707107"
      ]
     },
     "metadata": {},
     "output_type": "display_data"
    }
   ],
   "source": [
    "A=H*Ap"
   ]
  },
  {
   "cell_type": "code",
   "execution_count": 5,
   "metadata": {},
   "outputs": [
    {
     "data": {
      "text/plain": [
       "\"Hello Geeks\""
      ]
     },
     "metadata": {},
     "output_type": "display_data"
    }
   ],
   "source": [
    "ma=[1 2; 3 4]\n",
    "sp=\"Hello Geeks\"\n"
   ]
  },
  {
   "cell_type": "code",
   "execution_count": 2,
   "metadata": {},
   "outputs": [
    {
     "data": {
      "text/plain": [
       "(1, 2, 3, \"Hello Geeks\", [1 2; 3 4])"
      ]
     },
     "metadata": {},
     "output_type": "display_data"
    }
   ],
   "source": [
    "tu4 = (1, 2, 3, \"Hello Geeks\",ma)"
   ]
  },
  {
   "cell_type": "code",
   "execution_count": 3,
   "metadata": {},
   "outputs": [
    {
     "data": {
      "text/plain": [
       "(1, 2, 3, \"Hello Geeks\", [1 2; 3 4])"
      ]
     },
     "metadata": {},
     "output_type": "display_data"
    }
   ],
   "source": [
    "exs=(1, 2, 3, \"Hello Geeks\",ma)"
   ]
  },
  {
   "cell_type": "code",
   "execution_count": 6,
   "metadata": {},
   "outputs": [
    {
     "data": {
      "text/plain": [
       "(\"Hello Geeks\", [1 2; 3 4])"
      ]
     },
     "metadata": {},
     "output_type": "display_data"
    }
   ],
   "source": [
    "exs=(sp,ma)"
   ]
  },
  {
   "cell_type": "code",
   "execution_count": 4,
   "metadata": {},
   "outputs": [
    {
     "data": {
      "text/plain": [
       "quote\n",
       "end"
      ]
     },
     "metadata": {},
     "output_type": "display_data"
    }
   ],
   "source": [
    "blk = Expr(:block)"
   ]
  },
  {
   "cell_type": "code",
   "execution_count": 7,
   "metadata": {},
   "outputs": [],
   "source": [
    "for ex in exs\n",
    "    push!(blk.args, :(println($(sprint(Base.show_unquoted,ex)*\" = \"))))\n",
    "end"
   ]
  },
  {
   "cell_type": "code",
   "execution_count": 8,
   "metadata": {},
   "outputs": [
    {
     "data": {
      "text/plain": [
       "quote\n",
       "    println(\"\\\"Hello Geeks\\\" = \")\n",
       "    println(\"[1 2; 3 4] = \")\n",
       "end"
      ]
     },
     "metadata": {},
     "output_type": "display_data"
    }
   ],
   "source": [
    "blk\n"
   ]
  },
  {
   "cell_type": "code",
   "execution_count": 9,
   "metadata": {},
   "outputs": [],
   "source": [
    "for ex in exs\n",
    "    push!(blk.args, :(println($(sprint(Base.show_unquoted,ex)*\" = \"))))\n",
    "    push!(blk.args, :(show(stdout, \"text/plain\", begin value=$(esc(ex)) end)))\n",
    "    push!(blk.args, :(println()))\n",
    "end"
   ]
  },
  {
   "cell_type": "code",
   "execution_count": 10,
   "metadata": {},
   "outputs": [
    {
     "data": {
      "text/plain": [
       "quote\n",
       "    println(\"\\\"Hello Geeks\\\" = \")\n",
       "    println(\"[1 2; 3 4] = \")\n",
       "    println(\"\\\"Hello Geeks\\\" = \")\n",
       "    show(stdout, \"text/plain\", begin\n",
       "            \u001b[90m#= d:\\jianguo\\myvscode\\Julia\\test-2024-05-11.ipynb:3 =#\u001b[39m\n",
       "            value = $(Expr(:escape, \"Hello Geeks\"))\n",
       "        end)\n",
       "    println()\n",
       "    println(\"[1 2; 3 4] = \")\n",
       "    show(stdout, \"text/plain\", begin\n",
       "            \u001b[90m#= d:\\jianguo\\myvscode\\Julia\\test-2024-05-11.ipynb:3 =#\u001b[39m\n",
       "            value = $(Expr(:escape, [1 2; 3 4]))\n",
       "        end)\n",
       "    println()\n",
       "end"
      ]
     },
     "metadata": {},
     "output_type": "display_data"
    }
   ],
   "source": [
    "blk"
   ]
  },
  {
   "cell_type": "code",
   "execution_count": 1,
   "metadata": {},
   "outputs": [
    {
     "data": {
      "text/plain": [
       "112"
      ]
     },
     "metadata": {},
     "output_type": "display_data"
    }
   ],
   "source": [
    "14*8"
   ]
  },
  {
   "cell_type": "code",
   "execution_count": 1,
   "metadata": {},
   "outputs": [
    {
     "data": {
      "text/plain": [
       "135"
      ]
     },
     "metadata": {},
     "output_type": "display_data"
    }
   ],
   "source": [
    "15*9"
   ]
  }
 ],
 "metadata": {
  "kernelspec": {
   "display_name": "Julia 1.10.2",
   "language": "julia",
   "name": "julia-1.10"
  },
  "language_info": {
   "file_extension": ".jl",
   "mimetype": "application/julia",
   "name": "julia",
   "version": "1.10.2"
  }
 },
 "nbformat": 4,
 "nbformat_minor": 2
}
