{
 "cells": [
  {
   "cell_type": "code",
   "execution_count": null,
   "metadata": {},
   "outputs": [],
   "source": [
    "#=\n",
    "2024-06-11\n",
    "以 阿雷拉诺 为模版 重命名为  投影矩阵演示\n",
    "=#"
   ]
  },
  {
   "cell_type": "code",
   "execution_count": 1,
   "metadata": {},
   "outputs": [
    {
     "data": {
      "text/plain": [
       "@myshow (macro with 1 method)"
      ]
     },
     "metadata": {},
     "output_type": "display_data"
    }
   ],
   "source": [
    "#=\n",
    "下面代码生成 myshow 宏体\n",
    "=#\n",
    "\n",
    "macro myshow(exs...)\n",
    "    blk = Expr(:block)  #此处使用 头部符号是 block的表达式\n",
    "    for ex in exs\n",
    "        push!(blk.args, :(println($(sprint(Base.show_unquoted,ex)*\" = \"))))\n",
    "        push!(blk.args, :(show(stdout, \"text/plain\", begin value=$(esc(ex)) end)))\n",
    "        push!(blk.args, :(println()))\n",
    "    end\n",
    "    isempty(exs) || push!(blk.args, :value)\n",
    "    return blk\n",
    "end\n"
   ]
  },
  {
   "cell_type": "code",
   "execution_count": 18,
   "metadata": {},
   "outputs": [
    {
     "name": "stdout",
     "output_type": "stream",
     "text": [
      "X = \n",
      "3×2 Matrix{Float64}:\n",
      " 1.0  0.0\n",
      " 0.0  1.0\n",
      " 0.0  0.0\n",
      "X0 = \n",
      "2×2 Matrix{Float64}:\n",
      " 1.0  0.0\n",
      " 0.0  1.0\n",
      "X1 = \n",
      "2×2 Matrix{Float64}:\n",
      " 1.0  0.0\n",
      " 0.0  1.0\n",
      "P = \n",
      "3×3 Matrix{Float64}:\n",
      " 1.0  0.0  0.0\n",
      " 0.0  1.0  0.0\n",
      " 0.0  0.0  0.0\n",
      "y = \n",
      "3-element Vector{Int64}:\n",
      " 1\n",
      " 1\n",
      " 1\n",
      "y2 = \n",
      "3-element Vector{Float64}:\n",
      " 1.0\n",
      " 1.0\n",
      " 0.0\n"
     ]
    },
    {
     "data": {
      "text/plain": [
       "3-element Vector{Float64}:\n",
       " 1.0\n",
       " 1.0\n",
       " 0.0"
      ]
     },
     "metadata": {},
     "output_type": "display_data"
    }
   ],
   "source": [
    "#=\n",
    "引入包裹\n",
    "下面代码块生成X=I的投影矩阵\n",
    "=#\n",
    "using LinearAlgebra  \n",
    "n=2  #T=3期\n",
    "\n",
    "w=ones(n)  #1向量\n",
    "u=[0  0]  #0向量\n",
    "I = Diagonal(w)   #单位矩阵\n",
    "X=vcat(I,u)\n",
    "X0=X'*X\n",
    "X1=inv(X0)\n",
    "P=X*X1*X'\n",
    "y=fill(1, n+1)\n",
    "y2=P*y\n",
    "\n",
    "@myshow(X, X0, X1, P,y ,y2)"
   ]
  },
  {
   "cell_type": "code",
   "execution_count": 20,
   "metadata": {},
   "outputs": [
    {
     "name": "stdout",
     "output_type": "stream",
     "text": [
      "J = \n",
      "3×2 Matrix{Float64}:\n",
      " 1.0  4.0\n",
      " 2.0  5.0\n",
      " 3.0  6.0\n",
      "XA = \n",
      "2×3 Matrix{Float64}:\n",
      " 1.0  4.0  7.0\n",
      " 2.0  5.0  8.0\n",
      "X0 = \n",
      "2×2 Matrix{Float64}:\n",
      " 1.0  4.0\n",
      " 2.0  5.0\n",
      "X1 = \n",
      "2×2 Matrix{Float64}:\n",
      " -1.66667    1.33333\n",
      "  0.666667  -0.333333\n",
      "P = \n",
      "3×3 Matrix{Float64}:\n",
      " 1.0  2.22045e-16  -1.0\n",
      " 0.0  1.0           2.0\n",
      " 0.0  0.0           0.0\n",
      "y2 = \n",
      "3-element Vector{Float64}:\n",
      " 2.220446049250313e-16\n",
      " 2.9999999999999996\n",
      " 0.0\n"
     ]
    },
    {
     "data": {
      "text/plain": [
       "3-element Vector{Float64}:\n",
       " 2.220446049250313e-16\n",
       " 2.9999999999999996\n",
       " 0.0"
      ]
     },
     "metadata": {},
     "output_type": "display_data"
    }
   ],
   "source": [
    "#=\n",
    "下面代码块生成X=I，权重=A的斜交投影矩阵-加权投影矩阵\n",
    "=#\n",
    "A=reshape(1:9, 3, 3)\n",
    "J=A*X\n",
    "XA=X'*A\n",
    "X0=XA*X\n",
    "X1=inv(X0)\n",
    "P=X*X1*XA\n",
    "y2=P*y\n",
    "@myshow(J,XA, X0, X1, P,y2)"
   ]
  },
  {
   "cell_type": "code",
   "execution_count": 21,
   "metadata": {},
   "outputs": [
    {
     "name": "stdout",
     "output_type": "stream",
     "text": [
      "J = \n",
      "3×2 Matrix{Float64}:\n",
      " 1.0  4.0\n",
      " 2.0  5.0\n",
      " 3.0  6.0\n",
      "XA = \n",
      "2×3 Matrix{Float64}:\n",
      " 1.0  4.0  7.0\n",
      " 2.0  5.0  8.0\n",
      "X0 = \n",
      "2×2 Matrix{Float64}:\n",
      " 1.0  4.0\n",
      " 2.0  5.0\n",
      "X1 = \n",
      "2×2 Matrix{Float64}:\n",
      " -1.66667    1.33333\n",
      "  0.666667  -0.333333\n",
      "P = \n",
      "3×3 Matrix{Float64}:\n",
      " -1.66667    1.33333   0.0\n",
      "  0.666667  -0.333333  0.0\n",
      "  0.0        0.0       0.0\n",
      "y2 = \n",
      "3-element Vector{Float64}:\n",
      " -0.33333333333333326\n",
      "  0.3333333333333333\n",
      "  0.0\n"
     ]
    },
    {
     "data": {
      "text/plain": [
       "3-element Vector{Float64}:\n",
       " -0.33333333333333326\n",
       "  0.3333333333333333\n",
       "  0.0"
      ]
     },
     "metadata": {},
     "output_type": "display_data"
    }
   ],
   "source": [
    "#=\n",
    "下面代码块生成X=I，权重=A的伪投影矩阵\n",
    "=#\n",
    "J=A*X\n",
    "XA=X'*A\n",
    "X0=XA*X\n",
    "X1=inv(X0)\n",
    "P=X*X1*X'\n",
    "y2=P*y\n",
    "@myshow(J,XA, X0, X1, P,y2)"
   ]
  },
  {
   "cell_type": "code",
   "execution_count": 5,
   "metadata": {},
   "outputs": [
    {
     "name": "stdout",
     "output_type": "stream",
     "text": [
      "A = \n",
      "2×3 Matrix{Float64}:\n",
      " -0.816497   0.408248  0.408248\n",
      "  0.0       -0.707107  0.707107\n",
      "Ap = \n",
      "2×3 Matrix{Float64}:\n",
      " 1.0  -0.5  -0.5\n",
      " 0.0   1.0  -1.0\n",
      "A2 = \n",
      "2×3 Matrix{Float64}:\n",
      " 0.816497  -0.408248  -0.408248\n",
      " 0.0        0.707107  -0.707107\n"
     ]
    },
    {
     "data": {
      "text/plain": [
       "2×3 Matrix{Float64}:\n",
       " 0.816497  -0.408248  -0.408248\n",
       " 0.0        0.707107  -0.707107"
      ]
     },
     "metadata": {},
     "output_type": "display_data"
    }
   ],
   "source": [
    "#=\n",
    "下面的代码生成A+矩阵 A=H2=(DD')^-0.5 * D =B' * D = R * A+ =A2\n",
    "=#\n",
    "\n",
    "A=B'*D\n",
    "r=[(2/3)^0.5;(1/2)^0.5]\n",
    "R=Diagonal(r)\n",
    "\n",
    "I20=hcat(I,u)\n",
    "A2=[-0.5   -0.5; 0  -1]\n",
    "A20=hcat(u,A2)\n",
    "Ap=I20 + A20\n",
    "A2=R*Ap\n",
    "@myshow(A, Ap, A2)"
   ]
  },
  {
   "cell_type": "code",
   "execution_count": 6,
   "metadata": {},
   "outputs": [
    {
     "name": "stdout",
     "output_type": "stream",
     "text": [
      "A = \n",
      "2×3 Matrix{Float64}:\n",
      " -0.816497   0.408248  0.408248\n",
      "  0.0       -0.707107  0.707107\n",
      "Am = \n",
      "2×3 Matrix{Float64}:\n",
      " -1.0   1.0  0.0\n",
      " -0.5  -0.5  1.0\n",
      "A3 = \n",
      "2×3 Matrix{Float64}:\n",
      " -0.707107   0.707107  0.0\n",
      " -0.408248  -0.408248  0.816497\n"
     ]
    },
    {
     "data": {
      "text/plain": [
       "2×3 Matrix{Float64}:\n",
       " -0.707107   0.707107  0.0\n",
       " -0.408248  -0.408248  0.816497"
      ]
     },
     "metadata": {},
     "output_type": "display_data"
    }
   ],
   "source": [
    "#=\n",
    "下面演示后向正交离差\n",
    "=#\n",
    "r2=[(1/2)^0.5; (2/3)^0.5]\n",
    "R2=Diagonal(r2)\n",
    "\n",
    "#I2=hcat(u,I)\n",
    "A3=[-1  0; -0.5   -0.5]\n",
    "A30=hcat(A3, u)\n",
    "Am=I2 + A30   #Ap, p=plus + , Am, m=minus -\n",
    "A3=R2*Am\n",
    "@myshow(A, Am, A3)"
   ]
  },
  {
   "cell_type": "code",
   "execution_count": 9,
   "metadata": {},
   "outputs": [
    {
     "name": "stdout",
     "output_type": "stream",
     "text": [
      "T1 = \n",
      "2×2 adjoint(::Matrix{Float64}) with eltype Float64:\n",
      " 0.707107  0.0\n",
      " 0.408248  0.816497\n",
      "A3 = \n",
      "2×3 Matrix{Float64}:\n",
      " -0.707107   0.707107  0.0\n",
      " -0.408248  -0.408248  0.816497\n",
      "A4 = \n",
      "2×3 Matrix{Float64}:\n",
      " -0.707107   0.707107  0.0\n",
      " -0.408248  -0.408248  0.816497\n"
     ]
    },
    {
     "data": {
      "text/plain": [
       "2×3 Matrix{Float64}:\n",
       " -0.707107   0.707107  0.0\n",
       " -0.408248  -0.408248  0.816497"
      ]
     },
     "metadata": {},
     "output_type": "display_data"
    }
   ],
   "source": [
    "#=\n",
    "根据交叉对应。V-1=TT', V=LL', T=(L-1)', T'=L-1\n",
    "=#\n",
    "T1=inv(L)\n",
    "A4=T1*D\n",
    "@myshow(T1, A3, A4)"
   ]
  }
 ],
 "metadata": {
  "kernelspec": {
   "display_name": "Julia 1.10.2",
   "language": "julia",
   "name": "julia-1.10"
  },
  "language_info": {
   "file_extension": ".jl",
   "mimetype": "application/julia",
   "name": "julia",
   "version": "1.10.2"
  }
 },
 "nbformat": 4,
 "nbformat_minor": 2
}
