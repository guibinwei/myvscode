{
 "cells": [
  {
   "cell_type": "code",
   "execution_count": 1,
   "metadata": {},
   "outputs": [],
   "source": [
    "using LinearAlgebra\n",
    "using Random\n",
    "using BenchmarkTools\n",
    "using Statistics\n",
    "using StaticArrays"
   ]
  },
  {
   "cell_type": "code",
   "execution_count": 2,
   "metadata": {},
   "outputs": [
    {
     "data": {
      "text/plain": [
       "(1, -1, (0, 1), (0, -1))"
      ]
     },
     "metadata": {},
     "output_type": "display_data"
    }
   ],
   "source": [
    "x = (1, -1, (0,1), (0,-1))"
   ]
  },
  {
   "cell_type": "code",
   "execution_count": 5,
   "metadata": {},
   "outputs": [
    {
     "data": {
      "text/plain": [
       "1"
      ]
     },
     "metadata": {},
     "output_type": "display_data"
    }
   ],
   "source": [
    "x[1]"
   ]
  },
  {
   "cell_type": "code",
   "execution_count": 3,
   "metadata": {},
   "outputs": [
    {
     "data": {
      "text/plain": [
       "4"
      ]
     },
     "metadata": {},
     "output_type": "display_data"
    }
   ],
   "source": [
    "L = 4"
   ]
  },
  {
   "cell_type": "code",
   "execution_count": 4,
   "metadata": {},
   "outputs": [
    {
     "data": {
      "text/plain": [
       "4×4 Matrix{Int64}:\n",
       " 1  0  0  0\n",
       " 0  1  1  1\n",
       " 1  0  1  1\n",
       " 0  0  1  1"
      ]
     },
     "metadata": {},
     "output_type": "display_data"
    }
   ],
   "source": [
    "Strmtx = rand(0:1,L,L)"
   ]
  },
  {
   "cell_type": "code",
   "execution_count": 6,
   "metadata": {},
   "outputs": [
    {
     "data": {
      "text/plain": [
       "4×4 Matrix{Int64}:\n",
       " 0  2  2  3\n",
       " 4  1  3  2\n",
       " 1  3  3  4\n",
       " 3  1  2  2"
      ]
     },
     "metadata": {},
     "output_type": "display_data"
    }
   ],
   "source": [
    "Strneighbor = circshift(Strmtx, x[1]) + circshift(Strmtx, x[2]) + circshift(Strmtx, x[3]) + circshift(Strmtx, x[4])"
   ]
  },
  {
   "cell_type": "code",
   "execution_count": 11,
   "metadata": {},
   "outputs": [
    {
     "data": {
      "text/plain": [
       "3"
      ]
     },
     "metadata": {},
     "output_type": "display_data"
    }
   ],
   "source": [
    "b=1.2\n",
    "s=1\n",
    "sn=3"
   ]
  },
  {
   "cell_type": "code",
   "execution_count": 10,
   "metadata": {},
   "outputs": [
    {
     "data": {
      "text/plain": [
       "2×2 SMatrix{2, 2, Float64, 4} with indices SOneTo(2)×SOneTo(2):\n",
       " 1.0  0.0\n",
       " 1.2  0.0"
      ]
     },
     "metadata": {},
     "output_type": "display_data"
    }
   ],
   "source": [
    "M=@SMatrix [1 0; b  0]"
   ]
  },
  {
   "cell_type": "code",
   "execution_count": 12,
   "metadata": {},
   "outputs": [
    {
     "data": {
      "text/plain": [
       "1-element Vector{Float64}:\n",
       " 3.0"
      ]
     },
     "metadata": {},
     "output_type": "display_data"
    }
   ],
   "source": [
    "pay  = [s 1-s] * M * [sn; 4-sn]"
   ]
  },
  {
   "cell_type": "code",
   "execution_count": 14,
   "metadata": {},
   "outputs": [
    {
     "data": {
      "text/plain": [
       "1-element Vector{Float64}:\n",
       " 3.0"
      ]
     },
     "metadata": {},
     "output_type": "display_data"
    }
   ],
   "source": [
    "pay2  = [s 1-s] * M * [sn, 4-sn]"
   ]
  },
  {
   "cell_type": "code",
   "execution_count": 16,
   "metadata": {},
   "outputs": [
    {
     "ename": "MethodError",
     "evalue": "MethodError: no method matching *(::Matrix{Float64}, ::Tuple{Int64, Int64})\n\nClosest candidates are:\n  *(::Any, ::Any, !Matched::Any, !Matched::Any...)\n   @ Base operators.jl:587\n  *(::Union{Adjoint{<:Any, <:StridedMatrix{T}}, Transpose{<:Any, <:StridedMatrix{T}}, StridedArray{T, 2}} where T, !Matched::Union{Adjoint{var\"#s390\", var\"#s389\"}, Transpose{var\"#s390\", var\"#s389\"}} where {var\"#s390\", var\"#s389\"<:SparseArrays.AbstractSparseMatrixCSC})\n   @ SparseArrays C:\\Users\\xingfu_2\\.julia\\juliaup\\julia-1.10.4+0.x64.w64.mingw32\\share\\julia\\stdlib\\v1.10\\SparseArrays\\src\\linalg.jl:167\n  *(::Union{Adjoint{<:Any, <:StridedMatrix{var\"#s994\"}}, Transpose{<:Any, <:StridedMatrix{var\"#s994\"}}, StridedMatrix{var\"#s994\"}} where var\"#s994\"<:Union{Float32, Float64}, !Matched::Union{Adjoint{<:Any, <:StridedMatrix{var\"#s128\"}}, Transpose{<:Any, <:StridedMatrix{var\"#s128\"}}} where var\"#s128\"<:Union{ComplexF64, ComplexF32})\n   @ LinearAlgebra C:\\Users\\xingfu_2\\.julia\\juliaup\\julia-1.10.4+0.x64.w64.mingw32\\share\\julia\\stdlib\\v1.10\\LinearAlgebra\\src\\matmul.jl:147\n  ...\n",
     "output_type": "error",
     "traceback": [
      "MethodError: no method matching *(::Matrix{Float64}, ::Tuple{Int64, Int64})\n",
      "\n",
      "Closest candidates are:\n",
      "  *(::Any, ::Any, !Matched::Any, !Matched::Any...)\n",
      "   @ Base operators.jl:587\n",
      "  *(::Union{Adjoint{<:Any, <:StridedMatrix{T}}, Transpose{<:Any, <:StridedMatrix{T}}, StridedArray{T, 2}} where T, !Matched::Union{Adjoint{var\"#s390\", var\"#s389\"}, Transpose{var\"#s390\", var\"#s389\"}} where {var\"#s390\", var\"#s389\"<:SparseArrays.AbstractSparseMatrixCSC})\n",
      "   @ SparseArrays C:\\Users\\xingfu_2\\.julia\\juliaup\\julia-1.10.4+0.x64.w64.mingw32\\share\\julia\\stdlib\\v1.10\\SparseArrays\\src\\linalg.jl:167\n",
      "  *(::Union{Adjoint{<:Any, <:StridedMatrix{var\"#s994\"}}, Transpose{<:Any, <:StridedMatrix{var\"#s994\"}}, StridedMatrix{var\"#s994\"}} where var\"#s994\"<:Union{Float32, Float64}, !Matched::Union{Adjoint{<:Any, <:StridedMatrix{var\"#s128\"}}, Transpose{<:Any, <:StridedMatrix{var\"#s128\"}}} where var\"#s128\"<:Union{ComplexF64, ComplexF32})\n",
      "   @ LinearAlgebra C:\\Users\\xingfu_2\\.julia\\juliaup\\julia-1.10.4+0.x64.w64.mingw32\\share\\julia\\stdlib\\v1.10\\LinearAlgebra\\src\\matmul.jl:147\n",
      "  ...\n",
      "\n",
      "\n",
      "Stacktrace:\n",
      " [1] *(::Matrix{Int64}, ::SMatrix{2, 2, Float64, 4}, ::Tuple{Int64, Int64})\n",
      "   @ Base .\\operators.jl:587\n",
      " [2] top-level scope\n",
      "   @ d:\\jianguo\\myvscode\\Julia\\Julia-2024-06-11.ipynb:1"
     ]
    }
   ],
   "source": [
    "pay3  = [s 1-s] * M * (sn, 4-sn)"
   ]
  },
  {
   "cell_type": "code",
   "execution_count": 36,
   "metadata": {},
   "outputs": [
    {
     "data": {
      "text/plain": [
       "4×4 Matrix{Int64}:\n",
       " 0  1  0  1\n",
       " 1  1  0  1\n",
       " 0  1  0  0\n",
       " 0  1  1  1"
      ]
     },
     "metadata": {},
     "output_type": "display_data"
    }
   ],
   "source": [
    "strmtx = rand(0:1,L,L)"
   ]
  },
  {
   "cell_type": "code",
   "execution_count": 18,
   "metadata": {},
   "outputs": [
    {
     "data": {
      "text/plain": [
       "4×4 Matrix{Int64}:\n",
       " 3  2  2  3\n",
       " 2  3  1  2\n",
       " 2  1  1  2\n",
       " 3  2  2  1"
      ]
     },
     "metadata": {},
     "output_type": "display_data"
    }
   ],
   "source": [
    "Strneighbor = circshift(Strmtx, 1) + circshift(Strmtx, -1) + circshift(Strmtx, (0, 1)) + circshift(Strmtx, (0, -1))"
   ]
  },
  {
   "cell_type": "code",
   "execution_count": 19,
   "metadata": {},
   "outputs": [
    {
     "data": {
      "text/plain": [
       "4×4 Matrix{Float64}:\n",
       " 0.0  0.0  0.0  0.0\n",
       " 0.0  0.0  0.0  0.0\n",
       " 0.0  0.0  0.0  0.0\n",
       " 0.0  0.0  0.0  0.0"
      ]
     },
     "metadata": {},
     "output_type": "display_data"
    }
   ],
   "source": [
    "payoffmtx = zeros(L,L)"
   ]
  },
  {
   "cell_type": "code",
   "execution_count": 32,
   "metadata": {},
   "outputs": [],
   "source": [
    "for i = 1:L\n",
    "    for j = 1:L\n",
    "        payoffmtx[i,j] = (@views [Strmtx[i,j] 1-Strmtx[i,j]] * M * [Strneighbor[i,j]; 4-Strneighbor[i,j]])[1]\n",
    "    end\n",
    "end"
   ]
  },
  {
   "cell_type": "code",
   "execution_count": 33,
   "metadata": {},
   "outputs": [
    {
     "data": {
      "text/plain": [
       "4×4 SMatrix{4, 4, Int64, 16} with indices SOneTo(4)×SOneTo(4):\n",
       " 2  4  3  4\n",
       " 2  2  3  2\n",
       " 1  3  2  3\n",
       " 3  1  2  3"
      ]
     },
     "metadata": {},
     "output_type": "display_data"
    }
   ],
   "source": [
    "randmtx = @SMatrix rand(1:4,L,L)"
   ]
  },
  {
   "cell_type": "code",
   "execution_count": 55,
   "metadata": {},
   "outputs": [
    {
     "data": {
      "text/plain": [
       "4×4×4 Array{Float64, 3}:\n",
       "[:, :, 1] =\n",
       " 0.0  0.0  0.0  0.0\n",
       " 0.0  0.0  0.0  0.0\n",
       " 0.0  0.0  0.0  0.0\n",
       " 0.0  0.0  0.0  0.0\n",
       "\n",
       "[:, :, 2] =\n",
       " 0.0  0.0  0.0  0.0\n",
       " 0.0  0.0  0.0  0.0\n",
       " 0.0  0.0  0.0  0.0\n",
       " 0.0  0.0  0.0  0.0\n",
       "\n",
       "[:, :, 3] =\n",
       " 0.0  0.0  0.0  0.0\n",
       " 0.0  0.0  0.0  0.0\n",
       " 0.0  0.0  0.0  0.0\n",
       " 0.0  0.0  0.0  0.0\n",
       "\n",
       "[:, :, 4] =\n",
       " 0.0  0.0  0.0  0.0\n",
       " 0.0  0.0  0.0  0.0\n",
       " 0.0  0.0  0.0  0.0\n",
       " 0.0  0.0  0.0  0.0"
      ]
     },
     "metadata": {},
     "output_type": "display_data"
    }
   ],
   "source": [
    "randten= zeros(L,L,4)  #每个个体选择一个邻居"
   ]
  },
  {
   "cell_type": "code",
   "execution_count": 56,
   "metadata": {},
   "outputs": [
    {
     "data": {
      "text/plain": [
       "4×4 Matrix{Int64}:\n",
       " 3  3  1  3\n",
       " 2  4  3  1\n",
       " 1  4  2  3\n",
       " 2  4  3  3"
      ]
     },
     "metadata": {},
     "output_type": "display_data"
    }
   ],
   "source": [
    "randmtx = rand(1:4,L,L)"
   ]
  },
  {
   "cell_type": "code",
   "execution_count": 57,
   "metadata": {},
   "outputs": [],
   "source": [
    "for i =1:4\n",
    "    randten[:,:,i] = (i.==randmtx)\n",
    "end"
   ]
  },
  {
   "cell_type": "code",
   "execution_count": 58,
   "metadata": {},
   "outputs": [
    {
     "data": {
      "text/plain": [
       "4×4×4 Array{Float64, 3}:\n",
       "[:, :, 1] =\n",
       " 0.0  0.0  1.0  0.0\n",
       " 0.0  0.0  0.0  1.0\n",
       " 1.0  0.0  0.0  0.0\n",
       " 0.0  0.0  0.0  0.0\n",
       "\n",
       "[:, :, 2] =\n",
       " 0.0  0.0  0.0  0.0\n",
       " 1.0  0.0  0.0  0.0\n",
       " 0.0  0.0  1.0  0.0\n",
       " 1.0  0.0  0.0  0.0\n",
       "\n",
       "[:, :, 3] =\n",
       " 1.0  1.0  0.0  1.0\n",
       " 0.0  0.0  1.0  0.0\n",
       " 0.0  0.0  0.0  1.0\n",
       " 0.0  0.0  1.0  1.0\n",
       "\n",
       "[:, :, 4] =\n",
       " 0.0  0.0  0.0  0.0\n",
       " 0.0  1.0  0.0  0.0\n",
       " 0.0  1.0  0.0  0.0\n",
       " 0.0  1.0  0.0  0.0"
      ]
     },
     "metadata": {},
     "output_type": "display_data"
    }
   ],
   "source": [
    "randten"
   ]
  },
  {
   "cell_type": "code",
   "execution_count": 34,
   "metadata": {},
   "outputs": [
    {
     "data": {
      "text/plain": [
       "4×4 Matrix{Float64}:\n",
       " 0.0  0.0  0.0  0.0\n",
       " 0.0  0.0  0.0  0.0\n",
       " 0.0  0.0  0.0  0.0\n",
       " 0.0  0.0  0.0  0.0"
      ]
     },
     "metadata": {},
     "output_type": "display_data"
    }
   ],
   "source": [
    "strselct = zeros(L,L)\n",
    "#payselct =zeros(L,L)"
   ]
  },
  {
   "cell_type": "code",
   "execution_count": null,
   "metadata": {},
   "outputs": [],
   "source": [
    "@views circshift(strmtx, x[randmtx[i,j]])"
   ]
  },
  {
   "cell_type": "code",
   "execution_count": 40,
   "metadata": {},
   "outputs": [
    {
     "data": {
      "text/plain": [
       "((1, 0), (-1, 0), (0, 1), (0, -1))"
      ]
     },
     "metadata": {},
     "output_type": "display_data"
    }
   ],
   "source": [
    "x = ((1,0), (-1,0), (0,1), (0,-1))"
   ]
  },
  {
   "cell_type": "code",
   "execution_count": 51,
   "metadata": {},
   "outputs": [],
   "source": [
    "for i =1:L\n",
    "    for j = 1:L\n",
    "        nei=rand(1:4,1)[1]\n",
    "        i0=mod(i+x[nei][1]-1, L) +1\n",
    "        j0=mod(j+x[nei][2]-1, L) +1\n",
    "        strselct[i,j] = @views strmtx[i0, j0]\n",
    "        #payselct[i,j] = @views paymtx[i0, j0]\n",
    "    end\n",
    "end"
   ]
  },
  {
   "cell_type": "code",
   "execution_count": 44,
   "metadata": {},
   "outputs": [
    {
     "data": {
      "text/plain": [
       "2"
      ]
     },
     "metadata": {},
     "output_type": "display_data"
    }
   ],
   "source": [
    "a=rand(1:4,1)[1]"
   ]
  },
  {
   "cell_type": "code",
   "execution_count": null,
   "metadata": {},
   "outputs": [],
   "source": []
  },
  {
   "cell_type": "code",
   "execution_count": 49,
   "metadata": {},
   "outputs": [],
   "source": [
    "for i =1:L\n",
    "    for j = 1:L\n",
    "        a=rand(1:4,1)[1]\n",
    "        strselct[i,j] = @views strmtx[mod(i+x[a][1]-1, L)+1,mod(j+x[a][2]-1, L)+1]\n",
    "        #payselct[i,j] = @views circshift(paymtx, x[randmtx[i,j]])\n",
    "    end\n",
    "end"
   ]
  },
  {
   "cell_type": "code",
   "execution_count": 21,
   "metadata": {},
   "outputs": [
    {
     "ename": "MethodError",
     "evalue": "MethodError: Cannot `convert` an object of type Vector{Float64} to an object of type Float64\n\nClosest candidates are:\n  convert(::Type{T}, !Matched::T) where T<:Number\n   @ Base number.jl:6\n  convert(::Type{T}, !Matched::T) where T\n   @ Base Base.jl:84\n  convert(::Type{T}, !Matched::Number) where T<:Number\n   @ Base number.jl:7\n  ...\n",
     "output_type": "error",
     "traceback": [
      "MethodError: Cannot `convert` an object of type Vector{Float64} to an object of type Float64\n",
      "\n",
      "Closest candidates are:\n",
      "  convert(::Type{T}, !Matched::T) where T<:Number\n",
      "   @ Base number.jl:6\n",
      "  convert(::Type{T}, !Matched::T) where T\n",
      "   @ Base Base.jl:84\n",
      "  convert(::Type{T}, !Matched::Number) where T<:Number\n",
      "   @ Base number.jl:7\n",
      "  ...\n",
      "\n",
      "\n",
      "Stacktrace:\n",
      " [1] setindex!(::Matrix{Float64}, ::Vector{Float64}, ::Int64, ::Int64)\n",
      "   @ Base .\\array.jl:1024\n",
      " [2] top-level scope\n",
      "   @ d:\\jianguo\\myvscode\\Julia\\Julia-2024-06-11.ipynb:3"
     ]
    }
   ],
   "source": [
    "for i = 1:L\n",
    "    for j = 1:L\n",
    "        payoffmtx[i,j] = [Strmtx[i,j] 1-Strmtx[i,j]] * M * [Strneighbor[i,j]; 4-Strneighbor[i,j]]\n",
    "    end\n",
    "end"
   ]
  },
  {
   "cell_type": "code",
   "execution_count": 31,
   "metadata": {},
   "outputs": [
    {
     "data": {
      "text/plain": [
       "3.0"
      ]
     },
     "metadata": {},
     "output_type": "display_data"
    }
   ],
   "source": [
    "payoffmtx[1,1] = (@views [Strmtx[1,1] 1-Strmtx[1,1]] * M * [Strneighbor[1,1]; 4-Strneighbor[1,1]])[1]"
   ]
  },
  {
   "cell_type": "code",
   "execution_count": 28,
   "metadata": {},
   "outputs": [
    {
     "data": {
      "text/plain": [
       "2-element Vector{Int64}:\n",
       " 3\n",
       " 1"
      ]
     },
     "metadata": {},
     "output_type": "display_data"
    }
   ],
   "source": [
    "[Strneighbor[1,1]; 4-Strneighbor[1,1]]"
   ]
  },
  {
   "cell_type": "code",
   "execution_count": 29,
   "metadata": {},
   "outputs": [
    {
     "data": {
      "text/plain": [
       "1-element Vector{Float64}:\n",
       " 3.0"
      ]
     },
     "metadata": {},
     "output_type": "display_data"
    }
   ],
   "source": [
    " [Strmtx[1,1] 1-Strmtx[1,1]] * M * [Strneighbor[1,1]; 4-Strneighbor[1,1]]"
   ]
  },
  {
   "cell_type": "code",
   "execution_count": 7,
   "metadata": {},
   "outputs": [
    {
     "data": {
      "text/plain": [
       "4×4 Matrix{Int64}:\n",
       " 0  2  2  3\n",
       " 4  1  3  2\n",
       " 1  3  3  4\n",
       " 3  1  2  2"
      ]
     },
     "metadata": {},
     "output_type": "display_data"
    }
   ],
   "source": [
    "circshift(Strmtx, 1) + circshift(Strmtx, -1) + circshift(Strmtx, (0, 1)) + circshift(Strmtx, (0, -1))"
   ]
  },
  {
   "cell_type": "code",
   "execution_count": 2,
   "metadata": {},
   "outputs": [
    {
     "data": {
      "text/plain": [
       "2-element Vector{Any}:\n",
       "  [1, 2]\n",
       " 3"
      ]
     },
     "metadata": {},
     "output_type": "display_data"
    }
   ],
   "source": [
    "a=[[1,2], 3]"
   ]
  },
  {
   "cell_type": "code",
   "execution_count": 5,
   "metadata": {},
   "outputs": [
    {
     "data": {
      "text/plain": [
       "2-element Vector{Int64}:\n",
       " 1\n",
       " 2"
      ]
     },
     "metadata": {},
     "output_type": "display_data"
    }
   ],
   "source": [
    "a[1]"
   ]
  },
  {
   "cell_type": "code",
   "execution_count": 3,
   "metadata": {},
   "outputs": [
    {
     "data": {
      "text/plain": [
       "3-element Vector{Int64}:\n",
       " 1\n",
       " 2\n",
       " 3"
      ]
     },
     "metadata": {},
     "output_type": "display_data"
    }
   ],
   "source": [
    "b=[[1;2];3]"
   ]
  },
  {
   "cell_type": "code",
   "execution_count": 4,
   "metadata": {},
   "outputs": [
    {
     "data": {
      "text/plain": [
       "2-element Vector{Any}:\n",
       "  [1 2]\n",
       " 3"
      ]
     },
     "metadata": {},
     "output_type": "display_data"
    }
   ],
   "source": [
    "c=[[1 2], 3]"
   ]
  },
  {
   "cell_type": "code",
   "execution_count": 6,
   "metadata": {},
   "outputs": [
    {
     "data": {
      "text/plain": [
       "1×2 Matrix{Int64}:\n",
       " 1  2"
      ]
     },
     "metadata": {},
     "output_type": "display_data"
    }
   ],
   "source": [
    "c[1]"
   ]
  },
  {
   "cell_type": "code",
   "execution_count": 7,
   "metadata": {},
   "outputs": [
    {
     "ename": "DimensionMismatch",
     "evalue": "DimensionMismatch: mismatch in dimension 2 (expected 2 got 1)",
     "output_type": "error",
     "traceback": [
      "DimensionMismatch: mismatch in dimension 2 (expected 2 got 1)\n",
      "\n",
      "Stacktrace:\n",
      " [1] _cs\n",
      "   @ .\\abstractarray.jl:1785 [inlined]\n",
      " [2] _cshp\n",
      "   @ .\\abstractarray.jl:1771 [inlined]\n",
      " [3] _cshp\n",
      "   @ .\\abstractarray.jl:1782 [inlined]\n",
      " [4] _cat_size_shape\n",
      "   @ .\\abstractarray.jl:1761 [inlined]\n",
      " [5] cat_size_shape\n",
      "   @ .\\abstractarray.jl:1759 [inlined]\n",
      " [6] _cat_t\n",
      "   @ .\\abstractarray.jl:1800 [inlined]\n",
      " [7] typed_vcat(::Type{Int64}, ::Matrix{Int64}, ::Int64)\n",
      "   @ Base .\\abstractarray.jl:1946\n",
      " [8] vcat(X1::Matrix{Int64}, X::Int64)\n",
      "   @ SparseArrays C:\\Users\\xingfu_2\\.julia\\juliaup\\julia-1.10.4+0.x64.w64.mingw32\\share\\julia\\stdlib\\v1.10\\SparseArrays\\src\\sparsevector.jl:1239\n",
      " [9] top-level scope\n",
      "   @ d:\\jianguo\\myvscode\\Julia\\Julia-2024-06-11.ipynb:1"
     ]
    }
   ],
   "source": [
    "d=[[1 2]; 3]"
   ]
  },
  {
   "cell_type": "code",
   "execution_count": 8,
   "metadata": {},
   "outputs": [
    {
     "data": {
      "text/plain": [
       "4-element Vector{Int64}:\n",
       " 11\n",
       " 22\n",
       " 33\n",
       " 44"
      ]
     },
     "metadata": {},
     "output_type": "display_data"
    }
   ],
   "source": [
    "e=[11, 22, 33, 44]"
   ]
  },
  {
   "cell_type": "code",
   "execution_count": 9,
   "metadata": {},
   "outputs": [
    {
     "data": {
      "text/plain": [
       "4-element Vector{Int64}:\n",
       " 11\n",
       " 22\n",
       " 33\n",
       " 44"
      ]
     },
     "metadata": {},
     "output_type": "display_data"
    }
   ],
   "source": [
    "e2=[11; 22; 33; 44]"
   ]
  },
  {
   "cell_type": "code",
   "execution_count": 10,
   "metadata": {},
   "outputs": [
    {
     "data": {
      "text/plain": [
       "1×4 Matrix{Int64}:\n",
       " 11  22  33  44"
      ]
     },
     "metadata": {},
     "output_type": "display_data"
    }
   ],
   "source": [
    "e3=[11 22 33 44]"
   ]
  },
  {
   "cell_type": "code",
   "execution_count": 1,
   "metadata": {},
   "outputs": [
    {
     "data": {
      "text/plain": [
       "1-element Vector{Int64}:\n",
       " 4"
      ]
     },
     "metadata": {},
     "output_type": "display_data"
    }
   ],
   "source": [
    "a = rand(1:4,1)"
   ]
  },
  {
   "cell_type": "code",
   "execution_count": 4,
   "metadata": {},
   "outputs": [
    {
     "data": {
      "text/plain": [
       "7"
      ]
     },
     "metadata": {},
     "output_type": "display_data"
    }
   ],
   "source": [
    "b=3\n",
    "a2=a[1]\n",
    "c=a2+b"
   ]
  },
  {
   "cell_type": "code",
   "execution_count": 2,
   "metadata": {},
   "outputs": [
    {
     "data": {
      "text/plain": [
       "@myshow (macro with 1 method)"
      ]
     },
     "metadata": {},
     "output_type": "display_data"
    }
   ],
   "source": [
    "#=\n",
    "下面代码生成 myshow 宏体\n",
    "=#\n",
    "\n",
    "macro myshow(exs...)\n",
    "    blk = Expr(:block)  #此处使用 头部符号是 block的表达式\n",
    "    for ex in exs\n",
    "        push!(blk.args, :(println($(sprint(Base.show_unquoted,ex)*\" = \"))))\n",
    "        push!(blk.args, :(show(stdout, \"text/plain\", begin value=$(esc(ex)) end)))\n",
    "        push!(blk.args, :(println()))\n",
    "    end\n",
    "    isempty(exs) || push!(blk.args, :value)\n",
    "    return blk\n",
    "end\n"
   ]
  },
  {
   "cell_type": "code",
   "execution_count": 2,
   "metadata": {},
   "outputs": [
    {
     "data": {
      "text/plain": [
       "4×3×2 reshape(::UnitRange{Int64}, 4, 3, 2) with eltype Int64:\n",
       "[:, :, 1] =\n",
       " 1  5   9\n",
       " 2  6  10\n",
       " 3  7  11\n",
       " 4  8  12\n",
       "\n",
       "[:, :, 2] =\n",
       " 13  17  21\n",
       " 14  18  22\n",
       " 15  19  23\n",
       " 16  20  24"
      ]
     },
     "metadata": {},
     "output_type": "display_data"
    }
   ],
   "source": [
    "X=reshape(1:24, 4, 3, 2)"
   ]
  },
  {
   "cell_type": "code",
   "execution_count": 1,
   "metadata": {},
   "outputs": [
    {
     "data": {
      "text/plain": [
       "4×2 Matrix{Float64}:\n",
       " 0.861164  0.654148\n",
       " 0.834046  0.870851\n",
       " 0.773539  0.499019\n",
       " 0.202354  0.643797"
      ]
     },
     "metadata": {},
     "output_type": "display_data"
    }
   ],
   "source": [
    "random_number = rand()\n",
    "random_integer = rand(1:10)\n",
    "Random_Array = rand(5)\n",
    "Random_2DArray = rand(4,2)"
   ]
  },
  {
   "cell_type": "code",
   "execution_count": 3,
   "metadata": {},
   "outputs": [
    {
     "name": "stdout",
     "output_type": "stream",
     "text": [
      "random_number = \n",
      "0.0023039469119398026\n",
      "random_integer = \n",
      "6\n",
      "Random_Array = \n",
      "5-element Vector{Float64}:\n",
      " 0.25615543412120645\n",
      " 0.36746429131455205\n",
      " 0.4211593365228061\n",
      " 0.03772193151694203\n",
      " 0.06363550442627453\n",
      "Random_2DArray = \n",
      "4×2 Matrix{Float64}:\n",
      " 0.861164  0.654148\n",
      " 0.834046  0.870851\n",
      " 0.773539  0.499019\n",
      " 0.202354  0.643797\n"
     ]
    },
    {
     "data": {
      "text/plain": [
       "4×2 Matrix{Float64}:\n",
       " 0.861164  0.654148\n",
       " 0.834046  0.870851\n",
       " 0.773539  0.499019\n",
       " 0.202354  0.643797"
      ]
     },
     "metadata": {},
     "output_type": "display_data"
    }
   ],
   "source": [
    "@myshow(random_number, random_integer, Random_Array, Random_2DArray)"
   ]
  },
  {
   "cell_type": "code",
   "execution_count": 1,
   "metadata": {},
   "outputs": [
    {
     "data": {
      "text/plain": [
       "3"
      ]
     },
     "metadata": {},
     "output_type": "display_data"
    }
   ],
   "source": [
    "a51=1\n",
    "a52=3"
   ]
  },
  {
   "cell_type": "code",
   "execution_count": 2,
   "metadata": {},
   "outputs": [
    {
     "data": {
      "text/plain": [
       "4"
      ]
     },
     "metadata": {},
     "output_type": "display_data"
    }
   ],
   "source": [
    "a52+= a51>0"
   ]
  },
  {
   "cell_type": "code",
   "execution_count": 17,
   "metadata": {},
   "outputs": [
    {
     "data": {
      "text/plain": [
       "1"
      ]
     },
     "metadata": {},
     "output_type": "display_data"
    }
   ],
   "source": [
    "P2=1"
   ]
  },
  {
   "cell_type": "code",
   "execution_count": 40,
   "metadata": {},
   "outputs": [
    {
     "data": {
      "text/plain": [
       "3×3 reshape(::UnitRange{Int64}, 3, 3) with eltype Int64:\n",
       " 1  4  7\n",
       " 2  5  8\n",
       " 3  6  9"
      ]
     },
     "metadata": {},
     "output_type": "display_data"
    }
   ],
   "source": [
    "A = reshape(1:9, 3, 3)"
   ]
  },
  {
   "cell_type": "code",
   "execution_count": 43,
   "metadata": {},
   "outputs": [
    {
     "ename": "CanonicalIndexError",
     "evalue": "CanonicalIndexError: setindex! not defined for UnitRange{Int64}",
     "output_type": "error",
     "traceback": [
      "CanonicalIndexError: setindex! not defined for UnitRange{Int64}\n",
      "\n",
      "Stacktrace:\n",
      " [1] error_if_canonical_setindex(::IndexLinear, A::UnitRange{Int64}, ::Int64)\n",
      "   @ Base .\\abstractarray.jl:1404\n",
      " [2] setindex!\n",
      "   @ .\\abstractarray.jl:1395 [inlined]\n",
      " [3] setindex!\n",
      "   @ .\\subarray.jl:331 [inlined]\n",
      " [4] fill!\n",
      "   @ .\\multidimensional.jl:1114 [inlined]\n",
      " [5] copyto!\n",
      "   @ .\\broadcast.jl:964 [inlined]\n",
      " [6] materialize!\n",
      "   @ .\\broadcast.jl:914 [inlined]\n",
      " [7] materialize!(dest::SubArray{Int64, 1, UnitRange{Int64}, Tuple{Vector{Int64}}, false}, bc::Base.Broadcast.Broadcasted{Base.Broadcast.DefaultArrayStyle{0}, Nothing, typeof(identity), Tuple{Int64}})\n",
      "   @ Base.Broadcast .\\broadcast.jl:911\n",
      " [8] top-level scope\n",
      "   @ d:\\jianguo\\myvscode\\Julia\\Julia-2024-06-11.ipynb:1"
     ]
    }
   ],
   "source": [
    "A[A.> 6] .= 99"
   ]
  },
  {
   "cell_type": "code",
   "execution_count": 45,
   "metadata": {},
   "outputs": [
    {
     "data": {
      "text/plain": [
       "3×3 Matrix{Int64}:\n",
       " 1  4  99\n",
       " 2  5  99\n",
       " 3  6  99"
      ]
     },
     "metadata": {},
     "output_type": "display_data"
    }
   ],
   "source": [
    "A2=ifelse.(A.> 6, 99, A)"
   ]
  },
  {
   "cell_type": "code",
   "execution_count": 41,
   "metadata": {},
   "outputs": [
    {
     "data": {
      "text/plain": [
       "3×3 Matrix{Int64}:\n",
       " 1  4  7\n",
       " 2  5  8\n",
       " 3  6  9"
      ]
     },
     "metadata": {},
     "output_type": "display_data"
    }
   ],
   "source": [
    "A2=[1 4 7; 2 5 8; 3 6 9]"
   ]
  },
  {
   "cell_type": "code",
   "execution_count": 42,
   "metadata": {},
   "outputs": [
    {
     "data": {
      "text/plain": [
       "true"
      ]
     },
     "metadata": {},
     "output_type": "display_data"
    }
   ],
   "source": [
    "A == A2"
   ]
  },
  {
   "cell_type": "code",
   "execution_count": 46,
   "metadata": {},
   "outputs": [
    {
     "data": {
      "text/plain": [
       "3×3 Matrix{Float64}:\n",
       " 1.0    4.0  7.0\n",
       " 2.0  NaN    8.0\n",
       " 3.0    6.0  9.0"
      ]
     },
     "metadata": {},
     "output_type": "display_data"
    }
   ],
   "source": [
    "A=[1 4 7; 2 NaN 8; 3 6 9]"
   ]
  },
  {
   "cell_type": "code",
   "execution_count": 47,
   "metadata": {},
   "outputs": [
    {
     "data": {
      "text/plain": [
       "1-element view(::Vector{Float64}, [5]) with eltype Float64:\n",
       " 0.5"
      ]
     },
     "metadata": {},
     "output_type": "display_data"
    }
   ],
   "source": [
    "A[isnan.(A)] .= 0.5"
   ]
  },
  {
   "cell_type": "code",
   "execution_count": 48,
   "metadata": {},
   "outputs": [
    {
     "data": {
      "text/plain": [
       "3×3 Matrix{Float64}:\n",
       " 1.0  4.0  7.0\n",
       " 2.0  0.5  8.0\n",
       " 3.0  6.0  9.0"
      ]
     },
     "metadata": {},
     "output_type": "display_data"
    }
   ],
   "source": [
    "A"
   ]
  },
  {
   "cell_type": "code",
   "execution_count": 26,
   "metadata": {},
   "outputs": [
    {
     "data": {
      "text/plain": [
       "4×4 BitMatrix:\n",
       " 0  0  0  0\n",
       " 0  0  0  1\n",
       " 0  0  0  1\n",
       " 0  0  0  1"
      ]
     },
     "metadata": {},
     "output_type": "display_data"
    }
   ],
   "source": [
    "A.> 13"
   ]
  },
  {
   "cell_type": "code",
   "execution_count": 37,
   "metadata": {},
   "outputs": [
    {
     "data": {
      "text/plain": [
       "3-element view(::Vector{Int64}, [3, 6, 9]) with eltype Int64:\n",
       " 99\n",
       " 99\n",
       " 99"
      ]
     },
     "metadata": {},
     "output_type": "display_data"
    }
   ],
   "source": [
    "A[A.> 6] .= 99"
   ]
  },
  {
   "cell_type": "code",
   "execution_count": 38,
   "metadata": {},
   "outputs": [
    {
     "data": {
      "text/plain": [
       "3×3 Matrix{Int64}:\n",
       "  1   2   3\n",
       "  4   5   6\n",
       " 99  99  99"
      ]
     },
     "metadata": {},
     "output_type": "display_data"
    }
   ],
   "source": [
    "A"
   ]
  },
  {
   "cell_type": "code",
   "execution_count": 21,
   "metadata": {},
   "outputs": [
    {
     "data": {
      "text/plain": [
       "3×3 Matrix{ComplexF64}:\n",
       "  0.542545+0.0im        0.925355-0.487208im    1.65225+0.806615im\n",
       " -0.927869+0.847093im  -0.309946+1.53378im    0.444565+0.0im\n",
       " -0.048035+0.260424im   0.937434+0.0im       -0.153685-1.71329im"
      ]
     },
     "metadata": {},
     "output_type": "display_data"
    }
   ],
   "source": [
    "B=[0.542545+0.0im        0.925355-0.487208im    1.65225+0.806615im;\n",
    " -0.927869+0.847093im  -0.309946+1.53378im    0.444565+0.0im;\n",
    " -0.048035+0.260424im   0.937434+0.0im       -0.153685-1.71329im]"
   ]
  },
  {
   "cell_type": "code",
   "execution_count": 24,
   "metadata": {},
   "outputs": [
    {
     "data": {
      "text/plain": [
       "3×3 BitMatrix:\n",
       " 1  0  0\n",
       " 0  0  1\n",
       " 0  1  0"
      ]
     },
     "metadata": {},
     "output_type": "display_data"
    }
   ],
   "source": [
    "imag.(B) .== 0"
   ]
  },
  {
   "cell_type": "code",
   "execution_count": 22,
   "metadata": {},
   "outputs": [
    {
     "data": {
      "text/plain": [
       "3-element view(::Vector{ComplexF64}, [1, 6, 8]) with eltype ComplexF64:\n",
       " 0.0 + 0.0im\n",
       " 0.0 + 0.0im\n",
       " 0.0 + 0.0im"
      ]
     },
     "metadata": {},
     "output_type": "display_data"
    }
   ],
   "source": [
    "B[imag.(B) .== 0] .= 0"
   ]
  },
  {
   "cell_type": "code",
   "execution_count": 23,
   "metadata": {},
   "outputs": [
    {
     "data": {
      "text/plain": [
       "3×3 Matrix{ComplexF64}:\n",
       "       0.0+0.0im        0.925355-0.487208im    1.65225+0.806615im\n",
       " -0.927869+0.847093im  -0.309946+1.53378im         0.0+0.0im\n",
       " -0.048035+0.260424im        0.0+0.0im       -0.153685-1.71329im"
      ]
     },
     "metadata": {},
     "output_type": "display_data"
    }
   ],
   "source": [
    "B"
   ]
  },
  {
   "cell_type": "code",
   "execution_count": 28,
   "metadata": {},
   "outputs": [
    {
     "data": {
      "text/plain": [
       "5×5 Matrix{Float64}:\n",
       "  1.20767      1.21683   -0.306274   0.149945  -0.591947\n",
       "  2.28043     -1.39367   -0.486784  -1.80541    1.12534\n",
       " -1.47578      1.04202   -1.96426    0.807464   0.154497\n",
       "  0.00412986  -0.631175  -2.91781   -0.173033  -0.708887\n",
       " -0.335264     1.17218   -0.752343   0.168561  -2.28597"
      ]
     },
     "metadata": {},
     "output_type": "display_data"
    }
   ],
   "source": [
    "D= randn(5,5)"
   ]
  },
  {
   "cell_type": "code",
   "execution_count": 29,
   "metadata": {},
   "outputs": [
    {
     "data": {
      "text/plain": [
       "11-element view(::Vector{Float64}, [1, 2, 4, 6, 8, 10, 16, 18, 20, 22, 23]) with eltype Float64:\n",
       " 0.99\n",
       " 0.99\n",
       " 0.99\n",
       " 0.99\n",
       " 0.99\n",
       " 0.99\n",
       " 0.99\n",
       " 0.99\n",
       " 0.99\n",
       " 0.99\n",
       " 0.99"
      ]
     },
     "metadata": {},
     "output_type": "display_data"
    }
   ],
   "source": [
    "D[D.> 0] .= 0.99"
   ]
  },
  {
   "cell_type": "code",
   "execution_count": 30,
   "metadata": {},
   "outputs": [
    {
     "data": {
      "text/plain": [
       "5×5 Matrix{Float64}:\n",
       "  0.99       0.99      -0.306274   0.99      -0.591947\n",
       "  0.99      -1.39367   -0.486784  -1.80541    0.99\n",
       " -1.47578    0.99      -1.96426    0.99       0.99\n",
       "  0.99      -0.631175  -2.91781   -0.173033  -0.708887\n",
       " -0.335264   0.99      -0.752343   0.99      -2.28597"
      ]
     },
     "metadata": {},
     "output_type": "display_data"
    }
   ],
   "source": [
    "D"
   ]
  },
  {
   "cell_type": "code",
   "execution_count": 11,
   "metadata": {},
   "outputs": [
    {
     "data": {
      "text/plain": [
       "4×4 BitMatrix:\n",
       " 0  0  0  0\n",
       " 0  0  0  1\n",
       " 0  0  0  1\n",
       " 0  0  0  1"
      ]
     },
     "metadata": {},
     "output_type": "display_data"
    }
   ],
   "source": [
    "a87=A51 .> 13"
   ]
  },
  {
   "cell_type": "code",
   "execution_count": 13,
   "metadata": {},
   "outputs": [
    {
     "data": {
      "text/plain": [
       "5×5 Matrix{Float64}:\n",
       "  1.44533   0.390232   -0.797102   -0.169879    0.293348\n",
       "  2.39597  -1.24218    -0.153451    1.20387    -0.829405\n",
       " -1.87073   0.244312    1.84927    -2.10922    -0.401217\n",
       "  2.26878  -0.0627532  -0.794684    0.0172295  -0.499483\n",
       "  0.28129   0.288739   -0.0133195  -1.09541    -0.901257"
      ]
     },
     "metadata": {},
     "output_type": "display_data"
    }
   ],
   "source": [
    "B37 = randn(5,5)"
   ]
  },
  {
   "cell_type": "code",
   "execution_count": 15,
   "metadata": {},
   "outputs": [
    {
     "data": {
      "text/plain": [
       "5×5 BitMatrix:\n",
       " 1  1  0  0  1\n",
       " 1  0  0  1  0\n",
       " 0  1  1  0  0\n",
       " 1  0  0  1  0\n",
       " 1  1  0  0  0"
      ]
     },
     "metadata": {},
     "output_type": "display_data"
    }
   ],
   "source": [
    "s37 = B37 .> 0"
   ]
  },
  {
   "cell_type": "code",
   "execution_count": 16,
   "metadata": {},
   "outputs": [
    {
     "data": {
      "text/plain": [
       "11-element Vector{Float64}:\n",
       " 1.4453338420069672\n",
       " 2.3959712306325494\n",
       " 2.268784085170729\n",
       " 0.28129030329030213\n",
       " 0.39023171874539275\n",
       " 0.24431179732729774\n",
       " 0.2887385221025726\n",
       " 1.8492732729644576\n",
       " 1.2038672067000211\n",
       " 0.01722954407424916\n",
       " 0.2933481092984233"
      ]
     },
     "metadata": {},
     "output_type": "display_data"
    }
   ],
   "source": [
    "B37[s37]"
   ]
  },
  {
   "cell_type": "code",
   "execution_count": 12,
   "metadata": {},
   "outputs": [
    {
     "ename": "CanonicalIndexError",
     "evalue": "CanonicalIndexError: setindex! not defined for UnitRange{Int64}",
     "output_type": "error",
     "traceback": [
      "CanonicalIndexError: setindex! not defined for UnitRange{Int64}\n",
      "\n",
      "Stacktrace:\n",
      " [1] error_if_canonical_setindex(::IndexLinear, A::UnitRange{Int64}, ::Int64)\n",
      "   @ Base .\\abstractarray.jl:1404\n",
      " [2] setindex!\n",
      "   @ .\\abstractarray.jl:1395 [inlined]\n",
      " [3] setindex!\n",
      "   @ .\\subarray.jl:331 [inlined]\n",
      " [4] fill!\n",
      "   @ .\\multidimensional.jl:1114 [inlined]\n",
      " [5] copyto!\n",
      "   @ .\\broadcast.jl:964 [inlined]\n",
      " [6] materialize!\n",
      "   @ .\\broadcast.jl:914 [inlined]\n",
      " [7] materialize!(dest::SubArray{Int64, 1, UnitRange{Int64}, Tuple{Vector{Int64}}, false}, bc::Base.Broadcast.Broadcasted{Base.Broadcast.DefaultArrayStyle{0}, Nothing, typeof(identity), Tuple{Int64}})\n",
      "   @ Base.Broadcast .\\broadcast.jl:911\n",
      " [8] top-level scope\n",
      "   @ d:\\jianguo\\myvscode\\Julia\\Julia-2024-06-11.ipynb:1"
     ]
    }
   ],
   "source": [
    "A51[a87].=99"
   ]
  },
  {
   "cell_type": "code",
   "execution_count": 5,
   "metadata": {},
   "outputs": [
    {
     "data": {
      "text/plain": [
       "1×3 Matrix{Int64}:\n",
       " 6  15  24"
      ]
     },
     "metadata": {},
     "output_type": "display_data"
    }
   ],
   "source": [
    "sum(A51, dims=1)"
   ]
  },
  {
   "cell_type": "code",
   "execution_count": 7,
   "metadata": {},
   "outputs": [
    {
     "data": {
      "text/plain": [
       "1×3×2 Array{Float64, 3}:\n",
       "[:, :, 1] =\n",
       " 2.01808  2.18171  1.85897\n",
       "\n",
       "[:, :, 2] =\n",
       " 2.1655  1.58273  2.5997"
      ]
     },
     "metadata": {},
     "output_type": "display_data"
    }
   ],
   "source": [
    "a7 = rand(4,3,2)\n",
    "b7 = sum(a7, dims=1)"
   ]
  },
  {
   "cell_type": "code",
   "execution_count": 9,
   "metadata": {},
   "outputs": [
    {
     "data": {
      "text/plain": [
       "3×2 Matrix{Float64}:\n",
       " 2.01808  2.1655\n",
       " 2.18171  1.58273\n",
       " 1.85897  2.5997"
      ]
     },
     "metadata": {},
     "output_type": "display_data"
    }
   ],
   "source": [
    "c7 = dropdims(b7, dims=1)"
   ]
  },
  {
   "cell_type": "code",
   "execution_count": 3,
   "metadata": {},
   "outputs": [
    {
     "data": {
      "text/plain": [
       "50000×3 Matrix{Float64}:\n",
       " 0.554491   0.377351  0.238357\n",
       " 0.0537227  0.854951  0.440421\n",
       " 0.014085   0.241895  0.41575\n",
       " 0.554228   0.334421  0.0697084\n",
       " 0.808242   0.819667  0.881465\n",
       " 0.471148   0.986754  0.484243\n",
       " 0.618295   0.993319  0.932889\n",
       " 0.0996123  0.15871   0.197258\n",
       " 0.497963   0.355144  0.383308\n",
       " 0.949001   0.6237    0.279528\n",
       " ⋮                    \n",
       " 0.687219   0.966468  0.0644698\n",
       " 0.322404   0.843135  0.309221\n",
       " 0.658955   0.141641  0.17706\n",
       " 0.0615017  0.928281  0.893731\n",
       " 0.443489   0.804617  0.948264\n",
       " 0.649635   0.355969  0.378837\n",
       " 0.488995   0.874005  0.0907017\n",
       " 0.682394   0.188903  0.958518\n",
       " 0.803152   0.469744  0.995158"
      ]
     },
     "metadata": {},
     "output_type": "display_data"
    }
   ],
   "source": [
    "cvec_1 = rand(50000,3)"
   ]
  },
  {
   "cell_type": "code",
   "execution_count": 2,
   "metadata": {},
   "outputs": [
    {
     "data": {
      "text/plain": [
       "normalize_by_row (generic function with 1 method)"
      ]
     },
     "metadata": {},
     "output_type": "display_data"
    }
   ],
   "source": [
    "function normalize_by_row(arr)\n",
    "    arr ./ sqrt.(sum(arr.^2, dims=2))\n",
    " end"
   ]
  },
  {
   "cell_type": "code",
   "execution_count": 4,
   "metadata": {},
   "outputs": [
    {
     "name": "stdout",
     "output_type": "stream",
     "text": [
      "  863.000 μs (10 allocations: 2.67 MiB)\n"
     ]
    },
    {
     "data": {
      "text/plain": [
       "50000×3 Matrix{Float64}:\n",
       " 0.778992   0.530131  0.334862\n",
       " 0.0557739  0.887594  0.457237\n",
       " 0.0292703  0.502684  0.863975\n",
       " 0.851284   0.513665  0.107071\n",
       " 0.557463   0.565343  0.607966\n",
       " 0.393973   0.82512   0.404922\n",
       " 0.413184   0.6638    0.623417\n",
       " 0.366127   0.583341  0.725027\n",
       " 0.689875   0.492014  0.531032\n",
       " 0.811456   0.533303  0.239014\n",
       " ⋮                    \n",
       " 0.578643   0.813773  0.054284\n",
       " 0.33789    0.883633  0.324073\n",
       " 0.945586   0.203252  0.254078\n",
       " 0.0476737  0.719567  0.692785\n",
       " 0.33589    0.609402  0.718197\n",
       " 0.780793   0.427836  0.455322\n",
       " 0.486273   0.869139  0.0901967\n",
       " 0.572632   0.158518  0.804341\n",
       " 0.589525   0.344799  0.730461"
      ]
     },
     "metadata": {},
     "output_type": "display_data"
    }
   ],
   "source": [
    "@btime nrm = normalize_by_row($cvec_1)"
   ]
  },
  {
   "cell_type": "code",
   "execution_count": 10,
   "metadata": {},
   "outputs": [
    {
     "data": {
      "text/plain": [
       "normalize_by_row_v7 (generic function with 1 method)"
      ]
     },
     "metadata": {},
     "output_type": "display_data"
    }
   ],
   "source": [
    "function normalize_by_row_v7(arr)\n",
    "    u = similar(arr)\n",
    "    @inbounds for i in axes(arr, 1)\n",
    "        anorm2 = zero(eltype(arr))\n",
    "        for j in axes(arr, 2)\n",
    "            anorm2 += arr[i, j]^2\n",
    "        end\n",
    "        anorm = sqrt(anorm2)\n",
    "        for j in axes(arr, 2)\n",
    "            u[i, j] = arr[i, j] / anorm\n",
    "        end\n",
    "    end\n",
    "end"
   ]
  },
  {
   "cell_type": "code",
   "execution_count": 12,
   "metadata": {},
   "outputs": [
    {
     "name": "stdout",
     "output_type": "stream",
     "text": [
      "  567.700 μs (2 allocations: 1.14 MiB)\n"
     ]
    }
   ],
   "source": [
    "@btime nrm = normalize_by_row_v7($cvec_1)"
   ]
  },
  {
   "cell_type": "code",
   "execution_count": 5,
   "metadata": {},
   "outputs": [
    {
     "data": {
      "text/plain": [
       "mynormalize! (generic function with 1 method)"
      ]
     },
     "metadata": {},
     "output_type": "display_data"
    }
   ],
   "source": [
    "mynormalize!(arr::AbstractArray{<:AbstractVector}) = (arr ./= norm.(arr))"
   ]
  },
  {
   "cell_type": "code",
   "execution_count": 4,
   "metadata": {},
   "outputs": [
    {
     "data": {
      "text/plain": [
       "50000-element Vector{SVector{3, Float64}}:\n",
       " [0.4486836083589262, 0.167503544426166, 0.22121989423052468]\n",
       " [0.26298972590796343, 0.39750206226566465, 0.5663683275207405]\n",
       " [0.0895981605365983, 0.6402584629158077, 0.34935828117491274]\n",
       " [0.5203389593023408, 0.8355474452382763, 0.735385056247932]\n",
       " [0.2107502433465126, 0.8574698277234656, 0.4053239291390791]\n",
       " [0.024964278619923452, 0.9953143381855766, 0.16802354750788728]\n",
       " [0.8839033315700137, 0.2552211544590056, 0.5869621229764529]\n",
       " [0.39316038395609587, 0.7153870771311084, 0.7602284050474307]\n",
       " [0.8007261294547794, 0.49063185736946335, 0.6970655996692291]\n",
       " [0.9740576970548961, 0.6332754925501162, 0.8675038362852101]\n",
       " ⋮\n",
       " [0.552918202689393, 0.7838005851294138, 0.16024319637888085]\n",
       " [0.15314572223290224, 0.3028452916926432, 0.9220114077792563]\n",
       " [0.0824247706068606, 0.9825885980408441, 0.006302300681656936]\n",
       " [0.7411879218013111, 0.7659550385291587, 0.3077819490505971]\n",
       " [0.005182714477631412, 0.7580174049835143, 0.5194613568173512]\n",
       " [0.7450704370556019, 0.8104046056675415, 0.2307936786460627]\n",
       " [0.42893727851925034, 0.49444374475700326, 0.01059811838670155]\n",
       " [0.5518463758069025, 0.17197756887567472, 0.8208897064065714]\n",
       " [0.19328419909443784, 0.5430795481876227, 0.11787358836102102]"
      ]
     },
     "metadata": {},
     "output_type": "display_data"
    }
   ],
   "source": [
    "X = rand(SVector{3, Float64}, 50_000)"
   ]
  },
  {
   "cell_type": "code",
   "execution_count": 5,
   "metadata": {},
   "outputs": [
    {
     "data": {
      "text/plain": [
       "3-element SVector{3, Float64} with indices SOneTo(3):\n",
       " 0.4486836083589262\n",
       " 0.167503544426166\n",
       " 0.22121989423052468"
      ]
     },
     "metadata": {},
     "output_type": "display_data"
    }
   ],
   "source": [
    "X[1]"
   ]
  },
  {
   "cell_type": "code",
   "execution_count": 6,
   "metadata": {},
   "outputs": [
    {
     "ename": "ErrorException",
     "evalue": "setindex!(::SVector{3, Float64}, value, ::Int) is not defined.\n Hint: Use `MArray` or `SizedArray` to create a mutable static array",
     "output_type": "error",
     "traceback": [
      "setindex!(::SVector{3, Float64}, value, ::Int) is not defined.\n",
      " Hint: Use `MArray` or `SizedArray` to create a mutable static array\n",
      "\n",
      "Stacktrace:\n",
      " [1] error(s::String)\n",
      "   @ Base .\\error.jl:35\n",
      " [2] setindex!(a::SVector{3, Float64}, value::Int64, i::Int64)\n",
      "   @ StaticArrays C:\\Users\\xingfu_2\\.julia\\packages\\StaticArrays\\85pEu\\src\\indexing.jl:3\n",
      " [3] top-level scope\n",
      "   @ d:\\jianguo\\myvscode\\Julia\\Julia-2024-06-11.ipynb:1"
     ]
    }
   ],
   "source": [
    "X[1][1]=1\n"
   ]
  },
  {
   "cell_type": "code",
   "execution_count": 7,
   "metadata": {},
   "outputs": [
    {
     "data": {
      "text/plain": [
       "3-element SVector{3, Int64} with indices SOneTo(3):\n",
       " 1\n",
       " 2\n",
       " 3"
      ]
     },
     "metadata": {},
     "output_type": "display_data"
    }
   ],
   "source": [
    "v1 = SVector(1, 2, 3)"
   ]
  },
  {
   "cell_type": "code",
   "execution_count": 8,
   "metadata": {},
   "outputs": [
    {
     "ename": "ErrorException",
     "evalue": "setindex!(::SVector{3, Int64}, value, ::Int) is not defined.\n Hint: Use `MArray` or `SizedArray` to create a mutable static array",
     "output_type": "error",
     "traceback": [
      "setindex!(::SVector{3, Int64}, value, ::Int) is not defined.\n",
      " Hint: Use `MArray` or `SizedArray` to create a mutable static array\n",
      "\n",
      "Stacktrace:\n",
      " [1] error(s::String)\n",
      "   @ Base .\\error.jl:35\n",
      " [2] setindex!(a::SVector{3, Int64}, value::Int64, i::Int64)\n",
      "   @ StaticArrays C:\\Users\\xingfu_2\\.julia\\packages\\StaticArrays\\85pEu\\src\\indexing.jl:3\n",
      " [3] top-level scope\n",
      "   @ d:\\jianguo\\myvscode\\Julia\\Julia-2024-06-11.ipynb:1"
     ]
    }
   ],
   "source": [
    "v1[1]=5"
   ]
  },
  {
   "cell_type": "code",
   "execution_count": 9,
   "metadata": {},
   "outputs": [
    {
     "data": {
      "text/plain": [
       "3-element SVector{3, Int64} with indices SOneTo(3):\n",
       " 1\n",
       " 2\n",
       " 3"
      ]
     },
     "metadata": {},
     "output_type": "display_data"
    }
   ],
   "source": [
    "v3 = @SVector [1, 2, 3]"
   ]
  },
  {
   "cell_type": "code",
   "execution_count": 10,
   "metadata": {},
   "outputs": [
    {
     "data": {
      "text/plain": [
       "3×3 SMatrix{3, 3, Int64, 9} with indices SOneTo(3)×SOneTo(3):\n",
       " 1  0  0\n",
       " 0  1  0\n",
       " 0  0  1"
      ]
     },
     "metadata": {},
     "output_type": "display_data"
    }
   ],
   "source": [
    "m3 = SMatrix{3,3}(1I)"
   ]
  },
  {
   "cell_type": "code",
   "execution_count": 11,
   "metadata": {},
   "outputs": [
    {
     "data": {
      "text/plain": [
       "3-element SVector{3, Float64} with indices SOneTo(3):\n",
       " 1.0\n",
       " 2.0\n",
       " 3.0"
      ]
     },
     "metadata": {},
     "output_type": "display_data"
    }
   ],
   "source": [
    "v2 = SVector{3,Float64}(1, 2, 3)"
   ]
  },
  {
   "cell_type": "code",
   "execution_count": 12,
   "metadata": {},
   "outputs": [
    {
     "data": {
      "text/plain": [
       "3-element SVector{3, Int64} with indices SOneTo(3):\n",
       " 1\n",
       " 2\n",
       " 3"
      ]
     },
     "metadata": {},
     "output_type": "display_data"
    }
   ],
   "source": [
    "v7 = SVector{3}([1, 2, 3])"
   ]
  },
  {
   "cell_type": "code",
   "execution_count": 13,
   "metadata": {},
   "outputs": [
    {
     "data": {
      "text/plain": [
       "3-element SVector{3, Float64} with indices SOneTo(3):\n",
       " 2.0\n",
       " 4.0\n",
       " 6.0"
      ]
     },
     "metadata": {},
     "output_type": "display_data"
    }
   ],
   "source": [
    "v7 = v1 + v2"
   ]
  },
  {
   "cell_type": "code",
   "execution_count": 16,
   "metadata": {},
   "outputs": [
    {
     "data": {
      "text/plain": [
       "4"
      ]
     },
     "metadata": {},
     "output_type": "display_data"
    }
   ],
   "source": [
    "L=4"
   ]
  },
  {
   "cell_type": "code",
   "execution_count": 17,
   "metadata": {},
   "outputs": [
    {
     "data": {
      "text/plain": [
       "4×4×4 SArray{Tuple{4, 4, 4}, Float64, 3, 64} with indices SOneTo(4)×SOneTo(4)×SOneTo(4):\n",
       "[:, :, 1] =\n",
       " 0.0  0.0  0.0  0.0\n",
       " 0.0  0.0  0.0  0.0\n",
       " 0.0  0.0  0.0  0.0\n",
       " 0.0  0.0  0.0  0.0\n",
       "\n",
       "[:, :, 2] =\n",
       " 0.0  0.0  0.0  0.0\n",
       " 0.0  0.0  0.0  0.0\n",
       " 0.0  0.0  0.0  0.0\n",
       " 0.0  0.0  0.0  0.0\n",
       "\n",
       "[:, :, 3] =\n",
       " 0.0  0.0  0.0  0.0\n",
       " 0.0  0.0  0.0  0.0\n",
       " 0.0  0.0  0.0  0.0\n",
       " 0.0  0.0  0.0  0.0\n",
       "\n",
       "[:, :, 4] =\n",
       " 0.0  0.0  0.0  0.0\n",
       " 0.0  0.0  0.0  0.0\n",
       " 0.0  0.0  0.0  0.0\n",
       " 0.0  0.0  0.0  0.0"
      ]
     },
     "metadata": {},
     "output_type": "display_data"
    }
   ],
   "source": [
    "M=@SArray zeros(L,L,4)"
   ]
  },
  {
   "cell_type": "code",
   "execution_count": 18,
   "metadata": {},
   "outputs": [
    {
     "ename": "ErrorException",
     "evalue": "setindex!(::SMatrix{4, 4, Float64, 16}, value, ::Int) is not defined.\n Hint: Use `MArray` or `SizedArray` to create a mutable static array",
     "output_type": "error",
     "traceback": [
      "setindex!(::SMatrix{4, 4, Float64, 16}, value, ::Int) is not defined.\n",
      " Hint: Use `MArray` or `SizedArray` to create a mutable static array\n",
      "\n",
      "Stacktrace:\n",
      " [1] error(s::String)\n",
      "   @ Base .\\error.jl:35\n",
      " [2] setindex!(a::SMatrix{4, 4, Float64, 16}, value::Float64, i::Int64)\n",
      "   @ StaticArrays C:\\Users\\xingfu_2\\.julia\\packages\\StaticArrays\\85pEu\\src\\indexing.jl:3\n",
      " [3] macro expansion\n",
      "   @ C:\\Users\\xingfu_2\\.julia\\packages\\StaticArrays\\85pEu\\src\\arraymath.jl:145 [inlined]\n",
      " [4] _fill!\n",
      "   @ C:\\Users\\xingfu_2\\.julia\\packages\\StaticArrays\\85pEu\\src\\arraymath.jl:140 [inlined]\n",
      " [5] fill!\n",
      "   @ C:\\Users\\xingfu_2\\.julia\\packages\\StaticArrays\\85pEu\\src\\arraymath.jl:139 [inlined]\n",
      " [6] copyto!\n",
      "   @ .\\broadcast.jl:964 [inlined]\n",
      " [7] materialize!\n",
      "   @ .\\broadcast.jl:914 [inlined]\n",
      " [8] materialize!(dest::SMatrix{4, 4, Float64, 16}, bc::Base.Broadcast.Broadcasted{Base.Broadcast.DefaultArrayStyle{0}, Nothing, typeof(identity), Tuple{Int64}})\n",
      "   @ Base.Broadcast .\\broadcast.jl:911\n",
      " [9] top-level scope\n",
      "   @ d:\\jianguo\\myvscode\\Julia\\Julia-2024-06-11.ipynb:1"
     ]
    }
   ],
   "source": [
    "M[:,:,1] .=1"
   ]
  },
  {
   "cell_type": "code",
   "execution_count": 19,
   "metadata": {},
   "outputs": [
    {
     "data": {
      "text/plain": [
       "4×4×4 SArray{Tuple{4, 4, 4}, Float64, 3, 64} with indices SOneTo(4)×SOneTo(4)×SOneTo(4):\n",
       "[:, :, 1] =\n",
       " 2.0  2.0  2.0  2.0\n",
       " 2.0  2.0  2.0  2.0\n",
       " 2.0  2.0  2.0  2.0\n",
       " 2.0  2.0  2.0  2.0\n",
       "\n",
       "[:, :, 2] =\n",
       " 2.0  2.0  2.0  2.0\n",
       " 2.0  2.0  2.0  2.0\n",
       " 2.0  2.0  2.0  2.0\n",
       " 2.0  2.0  2.0  2.0\n",
       "\n",
       "[:, :, 3] =\n",
       " 2.0  2.0  2.0  2.0\n",
       " 2.0  2.0  2.0  2.0\n",
       " 2.0  2.0  2.0  2.0\n",
       " 2.0  2.0  2.0  2.0\n",
       "\n",
       "[:, :, 4] =\n",
       " 2.0  2.0  2.0  2.0\n",
       " 2.0  2.0  2.0  2.0\n",
       " 2.0  2.0  2.0  2.0\n",
       " 2.0  2.0  2.0  2.0"
      ]
     },
     "metadata": {},
     "output_type": "display_data"
    }
   ],
   "source": [
    "M=2 .+M"
   ]
  },
  {
   "cell_type": "code",
   "execution_count": 14,
   "metadata": {},
   "outputs": [
    {
     "ename": "ErrorException",
     "evalue": "setindex!(::SVector{3, Float64}, value, ::Int) is not defined.\n Hint: Use `MArray` or `SizedArray` to create a mutable static array",
     "output_type": "error",
     "traceback": [
      "setindex!(::SVector{3, Float64}, value, ::Int) is not defined.\n",
      " Hint: Use `MArray` or `SizedArray` to create a mutable static array\n",
      "\n",
      "Stacktrace:\n",
      " [1] error(s::String)\n",
      "   @ Base .\\error.jl:35\n",
      " [2] setindex!(a::SVector{3, Float64}, value::Int64, i::Int64)\n",
      "   @ StaticArrays C:\\Users\\xingfu_2\\.julia\\packages\\StaticArrays\\85pEu\\src\\indexing.jl:3\n",
      " [3] top-level scope\n",
      "   @ d:\\jianguo\\myvscode\\Julia\\Julia-2024-06-11.ipynb:1"
     ]
    }
   ],
   "source": [
    "v7[1]=8"
   ]
  },
  {
   "cell_type": "code",
   "execution_count": 15,
   "metadata": {},
   "outputs": [
    {
     "data": {
      "text/plain": [
       "3-element SVector{3, Int64} with indices SOneTo(3):\n",
       " 3\n",
       " 6\n",
       " 9"
      ]
     },
     "metadata": {},
     "output_type": "display_data"
    }
   ],
   "source": [
    "v7=3 .*v1"
   ]
  },
  {
   "cell_type": "code",
   "execution_count": 20,
   "metadata": {},
   "outputs": [
    {
     "data": {
      "text/plain": [
       "1.2"
      ]
     },
     "metadata": {},
     "output_type": "display_data"
    }
   ],
   "source": [
    "b=1.2"
   ]
  },
  {
   "cell_type": "code",
   "execution_count": 22,
   "metadata": {},
   "outputs": [
    {
     "data": {
      "text/plain": [
       "1×2 Matrix{Float64}:\n",
       " 1.2  3.8"
      ]
     },
     "metadata": {},
     "output_type": "display_data"
    }
   ],
   "source": [
    "s=[b 5-b]"
   ]
  },
  {
   "cell_type": "code",
   "execution_count": 23,
   "metadata": {},
   "outputs": [
    {
     "data": {
      "text/plain": [
       "2-element Vector{Float64}:\n",
       " 1.2\n",
       " 3.8"
      ]
     },
     "metadata": {},
     "output_type": "display_data"
    }
   ],
   "source": [
    "s2=[b; 5-b]"
   ]
  },
  {
   "cell_type": "code",
   "execution_count": 21,
   "metadata": {},
   "outputs": [
    {
     "data": {
      "text/plain": [
       "2×2 SMatrix{2, 2, Float64, 4} with indices SOneTo(2)×SOneTo(2):\n",
       " 1.0  0.0\n",
       " 1.2  0.0"
      ]
     },
     "metadata": {},
     "output_type": "display_data"
    }
   ],
   "source": [
    "M=@SMatrix [1 0; b  0]"
   ]
  },
  {
   "cell_type": "code",
   "execution_count": 7,
   "metadata": {},
   "outputs": [
    {
     "name": "stdout",
     "output_type": "stream",
     "text": [
      "  185.200 μs (0 allocations: 0 bytes)\n"
     ]
    },
    {
     "data": {
      "text/plain": [
       "50000-element Vector{SVector{3, Float64}}:\n",
       " [0.5527026508466687, 0.6876157808147436, 0.4708548796833223]\n",
       " [0.7762851064251457, 0.436660097026323, 0.4546530470671702]\n",
       " [0.7255591415962568, 0.6315361051794818, 0.27336071389435906]\n",
       " [0.7374207745376817, 0.004445406764182124, 0.6754190104216393]\n",
       " [0.5308942372016445, 0.6820481929953437, 0.5029528520029192]\n",
       " [0.5148389458340283, 0.6719776084012169, 0.5323410125660875]\n",
       " [0.8600542523234086, 0.4810591668641102, 0.16996694101039397]\n",
       " [0.17312247482949983, 0.722575691738932, 0.6692630113915703]\n",
       " [0.20391630904791855, 0.8146348156502352, 0.5429440634492482]\n",
       " [0.5541983141842237, 0.6165691221294093, 0.5592018832156542]\n",
       " ⋮\n",
       " [0.7488649464931151, 0.41446627766844274, 0.5171257067575826]\n",
       " [0.18550649429260152, 0.5600576275308514, 0.8074173607371736]\n",
       " [0.6782753138486801, 0.4019290354587662, 0.615138723442656]\n",
       " [0.6790281315307519, 0.08110914767410357, 0.729617778534375]\n",
       " [0.193047313866182, 0.3022242501903569, 0.9334844600773644]\n",
       " [0.5869896889347288, 0.6096736598805548, 0.5326735712724634]\n",
       " [0.4242164044922661, 0.8653145150077298, 0.2669667250362702]\n",
       " [0.6304228950772812, 0.7634600300442298, 0.14034156863610664]\n",
       " [0.08224994596213736, 0.6628322241270931, 0.7442367829178805]"
      ]
     },
     "metadata": {},
     "output_type": "display_data"
    }
   ],
   "source": [
    "@btime mynormalize!($X)"
   ]
  },
  {
   "cell_type": "code",
   "execution_count": 52,
   "metadata": {},
   "outputs": [
    {
     "data": {
      "text/plain": [
       "myloop (generic function with 1 method)"
      ]
     },
     "metadata": {},
     "output_type": "display_data"
    }
   ],
   "source": [
    "function myloop(;L = 100,theta = 10, alpha = 0.3, b = 1.2, K = 1, T = 10^3, H = 10)\n",
    "    #Random.seed!(0)\n",
    "    \n",
    "    M=zeros(L,L,4)\n",
    "    M[:,:,1] .=1\n",
    "    M[:,:,3] .= b\n",
    "\n",
    "    Strmtx = rand(0:1,L,L)\n",
    "\n",
    "    A_mtx = zeros(L,L) #初始化压力矩阵A  \n",
    "    A_peer = zeros(L,L)\n",
    "    A_self = zeros(L,L)\n",
    "\n",
    "    Fc = zeros(T+1,1)  #合作比例。有两个参数T+1, 1，则为 T+1 * 1 的列向量\n",
    "    Fc[1] = sum(Strmtx)/L^2\n",
    "    overstress = zeros(T+1,1)\n",
    "\n",
    "    str1=zeros(L,L,4)  #自己\n",
    "    str2=zeros(L,L,4)   #邻居\n",
    "\n",
    "    Strsample = zeros(L,L,4)   #注意此处本来有off，但是下面4个层都没有off，乃取消\n",
    "    payoffsample = zeros(L,L,4)\n",
    "\n",
    "    payoffsampleselct =zeros(L,L)\n",
    "    Strsampleselct =zeros(L,L)\n",
    "\n",
    "    for t = 1:T\n",
    "        #4个邻居的策略\n",
    "        Strsample[:,:,1]= circshift(Strmtx, 1)\n",
    "        Strsample[:,:,2]= circshift(Strmtx, -1)  #下面的邻居\n",
    "        Strsample[:,:,3]= circshift(Strmtx, (0, 1))  #右移一列-左边的邻居\n",
    "        Strsample[:,:,4]= circshift(Strmtx, (0, -1))  #右边的邻居\n",
    "        Strneighbor = dropdims(sum(Strsample,dims=3), dims=3)\n",
    "\n",
    "        str1[:,:,1]=Strmtx\n",
    "        str1[:,:,2]=Strmtx\n",
    "        str1[:,:,3] = 1 .- Strmtx\n",
    "        str1[:,:,4] = 1 .- Strmtx\n",
    "\n",
    "        str2[:,:,1] = Strneighbor\n",
    "        str2[:,:,2] = 4 .- Strneighbor\n",
    "        str2[:,:,3] = Strneighbor\n",
    "        str2[:,:,4] = 4 .- Strneighbor    \n",
    "\n",
    "        payoffmtx = dropdims(sum(str1.*M.*str2,dims=3), dims=3)\n",
    "        \n",
    "        A_self +=  (Strneighbor .< 2.5)\n",
    "\n",
    "        payoffsample[:,:,1]= circshift(payoffmtx, 1)  #行的变动-上下的邻居，首先是下移一行，即上面的邻居\n",
    "        payoffsample[:,:,2]= circshift(payoffmtx, -1)  #下面的邻居\n",
    "        payoffsample[:,:,3]= circshift(payoffmtx, (0, 1))  #右移一列-左边的邻居\n",
    "        payoffsample[:,:,4]= circshift(payoffmtx, (0, -1))  #右边的邻居\n",
    "       \n",
    "        payoff_average = dropdims(sum(payoffsample,dims=3), dims=3)./4\n",
    "\n",
    "        A_peer += (payoffmtx .< payoff_average)\n",
    "\n",
    "        A_mtx = (1-alpha).*A_self + alpha.*A_peer\n",
    "        Agap = max.(theta .- A_mtx, 0)\n",
    "        P1=exp.(-Agap)\n",
    " \n",
    "        randmtx = rand(1:4,L,L)   #每个个体选择一个邻居\n",
    "\n",
    "        for i =1:L\n",
    "            for j = 1:L\n",
    "                payoffsampleselct[i,j] = payoffsample[i,j,randmtx[i,j]]\n",
    "                Strsampleselct[i,j] = Strsample[i,j,randmtx[i,j]]\n",
    "            end\n",
    "        end\n",
    "        K_A = Agap * K./theta\n",
    "        P2 = 1 ./ (1 .+ exp.((payoffmtx .-payoffsampleselct)./K_A))\n",
    "        P2[isnan.(P2)] .= 0.5\n",
    "\n",
    "        P1P2selectmtx = (P1.*P2 .> rand(L,L))\n",
    "\n",
    "        Strmtx[P1P2selectmtx.==1] .= Strsampleselct[P1P2selectmtx.==1]\n",
    "\n",
    "        A_peer[P1P2selectmtx.==1] .= 0\n",
    "        A_self[P1P2selectmtx.==1] .= 0\n",
    "        Fc[t+1] =sum(Strmtx)/L^2\n",
    "        overstress[t+1]= sum(A_mtx .>= (theta+H)) /L^2\n",
    "    end\n",
    "    return Fc, overstress\n",
    "end"
   ]
  },
  {
   "cell_type": "code",
   "execution_count": 53,
   "metadata": {},
   "outputs": [
    {
     "name": "stdout",
     "output_type": "stream",
     "text": [
      "  1.380 s (124028 allocations: 2.53 GiB)\n"
     ]
    }
   ],
   "source": [
    "@btime myloop();"
   ]
  },
  {
   "cell_type": "code",
   "execution_count": 4,
   "metadata": {},
   "outputs": [
    {
     "data": {
      "text/plain": [
       "myloop2 (generic function with 1 method)"
      ]
     },
     "metadata": {},
     "output_type": "display_data"
    }
   ],
   "source": [
    "function myloop2(;L = 100,theta = 10, alpha = 0.3, b = 1.2, K = 1, T = 10^3, H = 10)\n",
    "    #Random.seed!(0)\n",
    "    \n",
    "    M=@SArray zeros(L,L,4)\n",
    "    M[:,:,1] .=1\n",
    "    M[:,:,3] .= b\n",
    "\n",
    "    Strmtx = @SMatrix rand(0:1,L,L)\n",
    "\n",
    "    A_mtx = @SMatrix zeros(L,L) #初始化压力矩阵A  \n",
    "    A_peer = @SMatrix zeros(L,L)\n",
    "    A_self = @SMatrix zeros(L,L)\n",
    "\n",
    "    Fc = @SVector zeros(T+1)  #合作比例。有两个参数T+1, 1，则为 T+1 * 1 的列向量\n",
    "    Fc[1] = sum(Strmtx)/L^2\n",
    "    overstress = @SVector zeros(T+1)\n",
    "\n",
    "    str1=@SArray zeros(L,L,4)  #自己\n",
    "    str2=@SArray zeros(L,L,4)   #邻居\n",
    "\n",
    "    Strsample = @SArray zeros(L,L,4)   #注意此处本来有off，但是下面4个层都没有off，乃取消\n",
    "    payoffsample = @SArray zeros(L,L,4)\n",
    "\n",
    "    payoffsampleselct =@SMatrix zeros(L,L)\n",
    "    Strsampleselct =@SMatrix zeros(L,L)\n",
    "\n",
    "    for t = 1:T\n",
    "        #4个邻居的策略\n",
    "        Strsample[:,:,1]= circshift(Strmtx, 1)\n",
    "        Strsample[:,:,2]= circshift(Strmtx, -1)  #下面的邻居\n",
    "        Strsample[:,:,3]= circshift(Strmtx, (0, 1))  #右移一列-左边的邻居\n",
    "        Strsample[:,:,4]= circshift(Strmtx, (0, -1))  #右边的邻居\n",
    "        Strneighbor = dropdims(sum(Strsample,dims=3), dims=3)\n",
    "\n",
    "        str1[:,:,1]=Strmtx\n",
    "        str1[:,:,2]=Strmtx\n",
    "        str1[:,:,3] = 1 .- Strmtx\n",
    "        str1[:,:,4] = 1 .- Strmtx\n",
    "\n",
    "        str2[:,:,1] = Strneighbor\n",
    "        str2[:,:,2] = 4 .- Strneighbor\n",
    "        str2[:,:,3] = Strneighbor\n",
    "        str2[:,:,4] = 4 .- Strneighbor    \n",
    "\n",
    "        payoffmtx = dropdims(sum(str1.*M.*str2,dims=3), dims=3)\n",
    "        \n",
    "        A_self +=  (Strneighbor .< 2.5)\n",
    "\n",
    "        payoffsample[:,:,1]= circshift(payoffmtx, 1)  #行的变动-上下的邻居，首先是下移一行，即上面的邻居\n",
    "        payoffsample[:,:,2]= circshift(payoffmtx, -1)  #下面的邻居\n",
    "        payoffsample[:,:,3]= circshift(payoffmtx, (0, 1))  #右移一列-左边的邻居\n",
    "        payoffsample[:,:,4]= circshift(payoffmtx, (0, -1))  #右边的邻居\n",
    "       \n",
    "        payoff_average = dropdims(sum(payoffsample,dims=3), dims=3)./4\n",
    "\n",
    "        A_peer += (payoffmtx .< payoff_average)\n",
    "\n",
    "        A_mtx = (1-alpha).*A_self + alpha.*A_peer\n",
    "        Agap = max.(theta .- A_mtx, 0)\n",
    "        P1=exp.(-Agap)\n",
    " \n",
    "        randmtx = rand(1:4,L,L)   #每个个体选择一个邻居\n",
    "\n",
    "        for i =1:L\n",
    "            for j = 1:L\n",
    "                payoffsampleselct[i,j] = payoffsample[i,j,randmtx[i,j]]\n",
    "                Strsampleselct[i,j] = Strsample[i,j,randmtx[i,j]]\n",
    "            end\n",
    "        end\n",
    "        K_A = Agap * K./theta\n",
    "        P2 = 1 ./ (1 .+ exp.((payoffmtx .-payoffsampleselct)./K_A))\n",
    "        P2[isnan.(P2)] .= 0.5\n",
    "\n",
    "        P1P2selectmtx = (P1.*P2 .> rand(L,L))\n",
    "\n",
    "        Strmtx[P1P2selectmtx.==1] .= Strsampleselct[P1P2selectmtx.==1]\n",
    "\n",
    "        A_peer[P1P2selectmtx.==1] .= 0\n",
    "        A_self[P1P2selectmtx.==1] .= 0\n",
    "        Fc[t+1] =sum(Strmtx)/L^2\n",
    "        overstress[t+1]= sum(A_mtx .>= (theta+H)) /L^2\n",
    "    end\n",
    "    return Fc, overstress\n",
    "end"
   ]
  },
  {
   "cell_type": "code",
   "execution_count": null,
   "metadata": {},
   "outputs": [],
   "source": [
    "@btime myloop2();"
   ]
  }
 ],
 "metadata": {
  "kernelspec": {
   "display_name": "Julia 1.10.4",
   "language": "julia",
   "name": "julia-1.10"
  },
  "language_info": {
   "file_extension": ".jl",
   "mimetype": "application/julia",
   "name": "julia",
   "version": "1.10.4"
  }
 },
 "nbformat": 4,
 "nbformat_minor": 2
}
